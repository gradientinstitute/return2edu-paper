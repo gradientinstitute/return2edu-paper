{
 "cells": [
  {
   "cell_type": "code",
   "execution_count": 1,
   "source": [
    "import numpy as np\n",
    "import pandas as pd\n",
    "import altair as alt\n",
    "from sklearn.linear_model import LinearRegression\n",
    "from sklearn.ensemble import GradientBoostingRegressor\n",
    "from sklearn.datasets import make_regression\n",
    "from sklearn.model_selection import train_test_split\n",
    "import duplicate as dp\n",
    "from functools import partial\n",
    "\n",
    "# https://altair-viz.github.io/user_guide/display_frontends.html#displaying-in-the-jupyter-notebook\n",
    "alt.renderers.enable('mimetype')"
   ],
   "outputs": [
    {
     "output_type": "execute_result",
     "data": {
      "text/plain": [
       "RendererRegistry.enable('mimetype')"
      ]
     },
     "metadata": {},
     "execution_count": 1
    }
   ],
   "metadata": {}
  },
  {
   "cell_type": "code",
   "execution_count": 2,
   "source": [
    "X, y = make_regression(n_features=2, noise=1.0, random_state=0)\n",
    "X_train, X_test, y_train, y_test = train_test_split(X,y, random_state=0)\n",
    "\n",
    "feature_names = [f'X_{i}' for i in range(X.shape[1])]\n",
    "data = pd.DataFrame(data=X, columns=feature_names)\n",
    "data['y'] = y\n",
    "data.head()"
   ],
   "outputs": [
    {
     "output_type": "execute_result",
     "data": {
      "text/html": [
       "<div>\n",
       "<style scoped>\n",
       "    .dataframe tbody tr th:only-of-type {\n",
       "        vertical-align: middle;\n",
       "    }\n",
       "\n",
       "    .dataframe tbody tr th {\n",
       "        vertical-align: top;\n",
       "    }\n",
       "\n",
       "    .dataframe thead th {\n",
       "        text-align: right;\n",
       "    }\n",
       "</style>\n",
       "<table border=\"1\" class=\"dataframe\">\n",
       "  <thead>\n",
       "    <tr style=\"text-align: right;\">\n",
       "      <th></th>\n",
       "      <th>X_0</th>\n",
       "      <th>X_1</th>\n",
       "      <th>y</th>\n",
       "    </tr>\n",
       "  </thead>\n",
       "  <tbody>\n",
       "    <tr>\n",
       "      <th>0</th>\n",
       "      <td>1.054452</td>\n",
       "      <td>-1.070753</td>\n",
       "      <td>-72.503056</td>\n",
       "    </tr>\n",
       "    <tr>\n",
       "      <th>1</th>\n",
       "      <td>-0.362741</td>\n",
       "      <td>-0.634322</td>\n",
       "      <td>-71.853065</td>\n",
       "    </tr>\n",
       "    <tr>\n",
       "      <th>2</th>\n",
       "      <td>-0.854096</td>\n",
       "      <td>0.313068</td>\n",
       "      <td>5.064775</td>\n",
       "    </tr>\n",
       "    <tr>\n",
       "      <th>3</th>\n",
       "      <td>1.326386</td>\n",
       "      <td>0.298238</td>\n",
       "      <td>66.931834</td>\n",
       "    </tr>\n",
       "    <tr>\n",
       "      <th>4</th>\n",
       "      <td>-0.461585</td>\n",
       "      <td>-1.315907</td>\n",
       "      <td>-140.719410</td>\n",
       "    </tr>\n",
       "  </tbody>\n",
       "</table>\n",
       "</div>"
      ],
      "text/plain": [
       "        X_0       X_1           y\n",
       "0  1.054452 -1.070753  -72.503056\n",
       "1 -0.362741 -0.634322  -71.853065\n",
       "2 -0.854096  0.313068    5.064775\n",
       "3  1.326386  0.298238   66.931834\n",
       "4 -0.461585 -1.315907 -140.719410"
      ]
     },
     "metadata": {},
     "execution_count": 2
    }
   ],
   "metadata": {}
  },
  {
   "cell_type": "code",
   "execution_count": 3,
   "source": [
    "chart = alt.Chart(data).mark_point().encode(\n",
    "    x='X_0',\n",
    "    y='y',\n",
    "    color='X_1:Q'\n",
    ")\n",
    "chart"
   ],
   "outputs": [
    {
     "output_type": "execute_result",
     "data": {
      "application/vnd.vegalite.v4+json": {
       "config": {
        "view": {
         "continuousWidth": 400,
         "continuousHeight": 300
        }
       },
       "data": {
        "name": "data-83e82abffc1ef8c7ef03a346c30ff3f7"
       },
       "mark": "point",
       "encoding": {
        "color": {
         "type": "quantitative",
         "field": "X_1"
        },
        "x": {
         "type": "quantitative",
         "field": "X_0"
        },
        "y": {
         "type": "quantitative",
         "field": "y"
        }
       },
       "$schema": "https://vega.github.io/schema/vega-lite/v4.8.1.json",
       "datasets": {
        "data-83e82abffc1ef8c7ef03a346c30ff3f7": [
         {
          "X_0": 1.0544517269311366,
          "X_1": -1.0707526215105425,
          "y": -72.50305646012106
         },
         {
          "X_0": -0.3627411659871381,
          "X_1": -0.6343220936809636,
          "y": -71.85306494343101
         },
         {
          "X_0": -0.8540957393017248,
          "X_1": 0.31306770165090136,
          "y": 5.0647749388690375
         },
         {
          "X_0": 1.3263858966870303,
          "X_1": 0.298238174206056,
          "y": 66.93183449869574
         },
         {
          "X_0": -0.461584604814709,
          "X_1": -1.3159074105115212,
          "y": -140.7194095496918
         },
         {
          "X_0": 1.9436211856492926,
          "X_1": -1.17312340511416,
          "y": -55.922642586225884
         },
         {
          "X_0": -1.6020576556067476,
          "X_1": 0.6252314510271875,
          "y": 15.643486286718097
         },
         {
          "X_0": -0.4017809362082619,
          "X_1": 0.17742614225375283,
          "y": 4.786473915337476
         },
         {
          "X_0": -0.977277879876411,
          "X_1": 1.8675579901499675,
          "y": 152.19592501357135
         },
         {
          "X_0": 0.37816251960217356,
          "X_1": 0.1549474256969163,
          "y": 25.542831343549583
         },
         {
          "X_0": -0.30230275057533557,
          "X_1": -0.3873268174079523,
          "y": -46.1323328491405
         },
         {
          "X_0": -0.7474548114407578,
          "X_1": -0.41361898075974735,
          "y": -61.94355031734867
         },
         {
          "X_0": -0.1871838500258336,
          "X_1": 0.04575851730144607,
          "y": -1.533270738727035
         },
         {
          "X_0": 0.3187276529430212,
          "X_1": 0.920858823780819,
          "y": 98.5011535973434
         },
         {
          "X_0": -1.5362436862772237,
          "X_1": 0.46566243973045984,
          "y": -0.4844870740061338
         },
         {
          "X_0": 0.4001572083672233,
          "X_1": 1.764052345967664,
          "y": 181.01192456211487
         },
         {
          "X_0": -0.8264385386590144,
          "X_1": -0.7447548220484399,
          "y": -95.29113137686498
         },
         {
          "X_0": -0.7421650204064419,
          "X_1": 0.8644361988595057,
          "y": 61.78831335842747
         },
         {
          "X_0": 0.7065731681919482,
          "X_1": 0.3563663971744019,
          "y": 56.00215910394892
         },
         {
          "X_0": 0.9008264869541871,
          "X_1": -1.1651498407833565,
          "y": -86.40001583306588
         },
         {
          "X_0": -0.5788496647644155,
          "X_1": -0.8707971491818818,
          "y": -100.24983667711095
         },
         {
          "X_0": -0.20829875557799488,
          "X_1": 0.5765908166149409,
          "y": 49.06808540451042
         },
         {
          "X_0": 0.681594518281627,
          "X_1": -1.0342428417844647,
          "y": -78.36382080763796
         },
         {
          "X_0": 0.8024563957963952,
          "X_1": -0.2680033709513804,
          "y": -3.7200180254591517
         },
         {
          "X_0": 0.7774903558319101,
          "X_1": -1.2527953600499262,
          "y": -97.31527324081121
         },
         {
          "X_0": -1.5447710967776116,
          "X_1": -1.0002153473895647,
          "y": -139.8080813877011
         },
         {
          "X_0": 0.9693967081580112,
          "X_1": -1.2704849984857336,
          "y": -94.46767673708777
         },
         {
          "X_0": 0.6764332949464997,
          "X_1": -0.635846078378881,
          "y": -41.314093892003704
         },
         {
          "X_0": 1.7858704939058352,
          "X_1": 0.010500020720820478,
          "y": 52.37043572811924
         },
         {
          "X_0": 1.5430145954067358,
          "X_1": -0.7395629963913133,
          "y": -26.19841496100972
         },
         {
          "X_0": 0.05616534222974544,
          "X_1": -0.31155253212737266,
          "y": -27.651606830764443
         },
         {
          "X_0": -0.2127402802139687,
          "X_1": -1.6138978475579515,
          "y": -163.0026567683175
         },
         {
          "X_0": -0.3595531615405413,
          "X_1": -0.672460447775951,
          "y": -76.61473438341827
         },
         {
          "X_0": -1.2348258203536526,
          "X_1": 1.1394006845433007,
          "y": 75.02245042128303
         },
         {
          "X_0": 0.15634896910398005,
          "X_1": -0.3479121493261526,
          "y": -28.52008709795388
         },
         {
          "X_0": 0.41059850193837233,
          "X_1": -0.10321885179355784,
          "y": 2.706668361489878
         },
         {
          "X_0": -0.1550100930908342,
          "X_1": 0.947251967773748,
          "y": 85.00809281542948
         },
         {
          "X_0": 1.2023798487844113,
          "X_1": 1.2302906807277207,
          "y": 155.73267505741023
         },
         {
          "X_0": 0.40198936344470165,
          "X_1": 0.12691209270361992,
          "y": 22.485731389842584
         },
         {
          "X_0": -1.0799315083634233,
          "X_1": 1.126635922106507,
          "y": 74.79459149008156
         },
         {
          "X_0": 0.9222066715665268,
          "X_1": 0.6140793703460803,
          "y": 86.62294777320923
         },
         {
          "X_0": -0.6895497777502005,
          "X_1": -0.8034096641738411,
          "y": -96.73810633699551
         },
         {
          "X_0": -0.1715463312222481,
          "X_1": 0.5232766605317537,
          "y": 45.90715562108207
         },
         {
          "X_0": 0.0875512413851909,
          "X_1": 0.9494208069257608,
          "y": 94.90620184870133
         },
         {
          "X_0": 1.8958891760305832,
          "X_1": 1.4882521937955997,
          "y": 198.4154453738937
         },
         {
          "X_0": -0.6634782863621074,
          "X_1": -0.0984525244254323,
          "y": -28.969964463622482
         },
         {
          "X_0": 1.8492637284793418,
          "X_1": -0.43515355172163744,
          "y": 12.114212004463566
         },
         {
          "X_0": 0.33367432737426683,
          "X_1": 0.44386323274542566,
          "y": 51.70700110819031
         },
         {
          "X_0": -1.3749512934180188,
          "X_1": -0.35399391125348395,
          "y": -74.84891164476517
         },
         {
          "X_0": 1.469358769900285,
          "X_1": 1.5327792143584575,
          "y": 189.42611546105692
         },
         {
          "X_0": 0.01747915902505673,
          "X_1": -0.45553250351734315,
          "y": -42.0068331368792
         },
         {
          "X_0": -1.180632184122412,
          "X_1": -0.510805137568873,
          "y": -83.4715751439715
         },
         {
          "X_0": 0.26705086934918293,
          "X_1": -1.2928569097234486,
          "y": -115.42589290849452
         },
         {
          "X_0": 1.117016288095853,
          "X_1": -0.9128222254441586,
          "y": -54.78424266201003
         },
         {
          "X_0": 1.454273506962975,
          "X_1": 0.144043571160878,
          "y": 54.72535990915565
         },
         {
          "X_0": 2.240893199201458,
          "X_1": 0.9787379841057392,
          "y": 159.37612861544793
         },
         {
          "X_0": -0.14963454032767076,
          "X_1": -0.6945678597313655,
          "y": -71.78085929092634
         },
         {
          "X_0": 0.9060446582753853,
          "X_1": 1.8675589604265699,
          "y": 206.81191006314762
         },
         {
          "X_0": -1.1680934977411974,
          "X_1": -0.0392828182274956,
          "y": -37.80659486552862
         },
         {
          "X_0": -0.6510255933001469,
          "X_1": 0.8568306119026912,
          "y": 62.35684852193218
         },
         {
          "X_0": -1.980796468223927,
          "X_1": -0.8877857476301128,
          "y": -143.2848400410805
         },
         {
          "X_0": -0.4380743016111864,
          "X_1": -0.5096521817516535,
          "y": -62.2871257546422
         },
         {
          "X_0": 0.8443629764015471,
          "X_1": -1.225435518830168,
          "y": -93.90329483335732
         },
         {
          "X_0": 1.2224450703824274,
          "X_1": -0.40317694697317963,
          "y": -4.745630639643888
         },
         {
          "X_0": 0.6350314368921064,
          "X_1": 0.16667349537252904,
          "y": 31.812623469773992
         },
         {
          "X_0": 0.386902497859262,
          "X_1": -0.8954665611936756,
          "y": -74.77166331833388
         },
         {
          "X_0": -0.20515826376580087,
          "X_1": 1.4940790731576061,
          "y": 138.00717795266283
         },
         {
          "X_0": 0.12898291075741067,
          "X_1": 0.7290905621775369,
          "y": 74.68327544074047
         },
         {
          "X_0": 1.336527949436392,
          "X_1": 2.16323594928069,
          "y": 247.5059248789678
         },
         {
          "X_0": 1.9507753952317897,
          "X_1": -1.7062701906250126,
          "y": -107.48689787051845
         },
         {
          "X_0": 1.4805147914344243,
          "X_1": 1.9229420264803847,
          "y": 228.91920113168663
         },
         {
          "X_0": 0.3169426119248496,
          "X_1": 1.1880297923523018,
          "y": 123.82665131595279
         },
         {
          "X_0": -2.2234031522244266,
          "X_1": -0.6436184028328905,
          "y": -127.34919587571535
         },
         {
          "X_0": 1.7133427216493666,
          "X_1": -0.06824160532463124,
          "y": 43.09952222337758
         },
         {
          "X_0": 0.3024718977397814,
          "X_1": 0.06651722238316789,
          "y": 14.637859216955746
         },
         {
          "X_0": 0.12167501649282841,
          "X_1": 0.7610377251469934,
          "y": 76.73736671625534
         },
         {
          "X_0": -1.4200179371789752,
          "X_1": -1.0485529650670926,
          "y": -143.3055420284421
         },
         {
          "X_0": 0.4393917012645369,
          "X_1": -1.4912575927056055,
          "y": -130.21372659342825
         },
         {
          "X_0": -0.17992483581235091,
          "X_1": 1.1787795711596507,
          "y": 107.8368447201619
         },
         {
          "X_0": -0.6848100909403132,
          "X_1": 0.402341641177549,
          "y": 16.626163661215188
         },
         {
          "X_0": -1.0994007905841945,
          "X_1": 0.37642553115562943,
          "y": 2.9021597731777673
         },
         {
          "X_0": -0.1513572082976979,
          "X_1": 0.9500884175255894,
          "y": 87.62586148950619
         },
         {
          "X_0": -0.43782004474443403,
          "X_1": -1.1474686524111024,
          "y": -121.10549546355014
         },
         {
          "X_0": 0.05194539579613895,
          "X_1": -0.9072983643832422,
          "y": -86.91494083047574
         },
         {
          "X_0": -1.0930615087305058,
          "X_1": 0.3960067126616453,
          "y": 6.2572048313074715
         },
         {
          "X_0": 0.40746183624111043,
          "X_1": 0.6722947570124355,
          "y": 74.63809535385573
         },
         {
          "X_0": 0.5392491912918173,
          "X_1": -0.7699160744453164,
          "y": -58.118217690850166
         },
         {
          "X_0": 1.9100649530990337,
          "X_1": -0.8612256850547025,
          "y": -27.76795383170043
         },
         {
          "X_0": 0.42833187053041766,
          "X_1": -0.028182228338654868,
          "y": 10.034839631641375
         },
         {
          "X_0": 0.6536185954403606,
          "X_1": -2.5529898158340787,
          "y": -225.5758932706944
         },
         {
          "X_0": 0.9444794869904138,
          "X_1": 2.383144774863942,
          "y": 258.79201235994236
         },
         {
          "X_0": 0.03183055827435118,
          "X_1": -0.6743326606573761,
          "y": -63.41269884142541
         },
         {
          "X_0": 1.9295320538169858,
          "X_1": -0.4980324506923049,
          "y": 8.35270787992977
         },
         {
          "X_0": -1.4543656745987648,
          "X_1": 2.2697546239876076,
          "y": 176.63334879245508
         },
         {
          "X_0": 0.4627822555257742,
          "X_1": -1.6301983469660446,
          "y": -142.87859023362495
         },
         {
          "X_0": 0.8235041539637314,
          "X_1": 0.7717905512136674,
          "y": 97.90036194227108
         },
         {
          "X_0": 0.9766390364837128,
          "X_1": 0.2082749780768603,
          "y": 49.71932728788642
         },
         {
          "X_0": -1.3477590611424464,
          "X_1": 1.8831506970562544,
          "y": 142.29373341244977
         },
         {
          "X_0": 0.052165079260974405,
          "X_1": -1.1043833394284506,
          "y": -105.77067693938837
         },
         {
          "X_0": -1.7262826023316769,
          "X_1": -0.813146282044454,
          "y": -129.14573814288124
         }
        ]
       }
      },
      "text/plain": [
       "<VegaLite 4 object>\n",
       "\n",
       "If you see this message, it means the renderer has not been properly enabled\n",
       "for the frontend that you are using. For more information, see\n",
       "https://altair-viz.github.io/user_guide/troubleshooting.html\n"
      ]
     },
     "metadata": {},
     "execution_count": 3
    }
   ],
   "metadata": {}
  },
  {
   "cell_type": "code",
   "execution_count": 4,
   "source": [
    "correlations = data.corr().stack().reset_index().rename(columns={0: 'correlation', 'level_0': 'variable 0', 'level_1': 'variable 1'})\n",
    "print(correlations.head())\n",
    "alt.Chart(correlations).mark_rect().encode(\n",
    "    x='variable 0:N',\n",
    "    y='variable 1:N',\n",
    "    color='correlation:Q'\n",
    ")"
   ],
   "outputs": [
    {
     "output_type": "stream",
     "name": "stdout",
     "text": [
      "  variable 0 variable 1  correlation\n",
      "0        X_0        X_0     1.000000\n",
      "1        X_0        X_1    -0.024005\n",
      "2        X_0          y     0.266984\n",
      "3        X_1        X_0    -0.024005\n",
      "4        X_1        X_1     1.000000\n"
     ]
    },
    {
     "output_type": "execute_result",
     "data": {
      "application/vnd.vegalite.v4+json": {
       "config": {
        "view": {
         "continuousWidth": 400,
         "continuousHeight": 300
        }
       },
       "data": {
        "name": "data-1f70c3abc34699dec8709764ae94e8d6"
       },
       "mark": "rect",
       "encoding": {
        "color": {
         "type": "quantitative",
         "field": "correlation"
        },
        "x": {
         "type": "nominal",
         "field": "variable 0"
        },
        "y": {
         "type": "nominal",
         "field": "variable 1"
        }
       },
       "$schema": "https://vega.github.io/schema/vega-lite/v4.8.1.json",
       "datasets": {
        "data-1f70c3abc34699dec8709764ae94e8d6": [
         {
          "variable 0": "X_0",
          "variable 1": "X_0",
          "correlation": 1
         },
         {
          "variable 0": "X_0",
          "variable 1": "X_1",
          "correlation": -0.024005201494078397
         },
         {
          "variable 0": "X_0",
          "variable 1": "y",
          "correlation": 0.2669839074678889
         },
         {
          "variable 0": "X_1",
          "variable 1": "X_0",
          "correlation": -0.024005201494078397
         },
         {
          "variable 0": "X_1",
          "variable 1": "X_1",
          "correlation": 1
         },
         {
          "variable 0": "X_1",
          "variable 1": "y",
          "correlation": 0.9569699825657976
         },
         {
          "variable 0": "y",
          "variable 1": "X_0",
          "correlation": 0.2669839074678889
         },
         {
          "variable 0": "y",
          "variable 1": "X_1",
          "correlation": 0.9569699825657976
         },
         {
          "variable 0": "y",
          "variable 1": "y",
          "correlation": 1
         }
        ]
       }
      },
      "text/plain": [
       "<VegaLite 4 object>\n",
       "\n",
       "If you see this message, it means the renderer has not been properly enabled\n",
       "for the frontend that you are using. For more information, see\n",
       "https://altair-viz.github.io/user_guide/troubleshooting.html\n"
      ]
     },
     "metadata": {},
     "execution_count": 4
    }
   ],
   "metadata": {}
  },
  {
   "cell_type": "code",
   "execution_count": 8,
   "source": [
    "n_duplicates = 4\n",
    "# print([x.shape for x in [X_train, y_train]])\n",
    "\n",
    "X_train_dup, y_train_dup, weights_dup = dp.simple_duplicate(X_train, y_train, n_duplicates=n_duplicates)\n",
    "# print([x.shape for x in [X_train_dup, y_train_dup, weights_dup]])\n",
    "\n",
    "\n",
    "compare_sk_with_data = partial(\n",
    "    dp.compare_sk, \n",
    "    X_train=X_train, \n",
    "    y_train=y_train, \n",
    "    X_train_dup=X_train_dup, \n",
    "    y_train_dup=y_train_dup, \n",
    "    weights_dup=weights_dup,\n",
    "    X_test=X_test,\n",
    "    y_test=y_test\n",
    "\n",
    ")\n",
    "\n",
    "score_linear, score_linear_dup = compare_sk_with_data(model=LinearRegression)\n",
    "score_boost, score_boost_dup = compare_sk_with_data(model=GradientBoostingRegressor)\n",
    "\n",
    "print(score_linear, score_linear_dup)\n",
    "print(score_boost, score_boost_dup)"
   ],
   "outputs": [
    {
     "output_type": "stream",
     "name": "stdout",
     "text": [
      "g (300, 2) (300, 1)\n",
      "0.9999288992109249 0.9999288992109249\n",
      "0.9575872169913093 0.9575162685291969\n"
     ]
    },
    {
     "output_type": "stream",
     "name": "stderr",
     "text": [
      "/Users/jack/opt/anaconda3/envs/further-education/lib/python3.9/site-packages/sklearn/utils/validation.py:63: DataConversionWarning: A column-vector y was passed when a 1d array was expected. Please change the shape of y to (n_samples, ), for example using ravel().\n",
      "  return f(*args, **kwargs)\n"
     ]
    }
   ],
   "metadata": {}
  },
  {
   "cell_type": "code",
   "execution_count": null,
   "source": [],
   "outputs": [],
   "metadata": {}
  },
  {
   "cell_type": "code",
   "execution_count": null,
   "source": [],
   "outputs": [],
   "metadata": {}
  },
  {
   "cell_type": "code",
   "execution_count": null,
   "source": [],
   "outputs": [],
   "metadata": {}
  },
  {
   "cell_type": "code",
   "execution_count": null,
   "source": [],
   "outputs": [],
   "metadata": {}
  }
 ],
 "metadata": {
  "orig_nbformat": 4,
  "language_info": {
   "name": "python",
   "version": "3.9.7",
   "mimetype": "text/x-python",
   "codemirror_mode": {
    "name": "ipython",
    "version": 3
   },
   "pygments_lexer": "ipython3",
   "nbconvert_exporter": "python",
   "file_extension": ".py"
  },
  "kernelspec": {
   "name": "python3",
   "display_name": "Python 3.9.7 64-bit ('further-education': conda)"
  },
  "interpreter": {
   "hash": "d75514c5bc4ecabc0f6694d4192039dd808393c5561e0f0dd5a58abc0117b611"
  }
 },
 "nbformat": 4,
 "nbformat_minor": 2
}