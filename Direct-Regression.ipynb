{
 "cells": [
  {
   "cell_type": "markdown",
   "id": "0",
   "metadata": {},
   "source": [
    "# Direct Regression"
   ]
  },
  {
   "cell_type": "code",
   "execution_count": 1,
   "id": "1",
   "metadata": {
    "tags": [
     "hide_cell"
    ]
   },
   "outputs": [],
   "source": [
    "# import libraries\n",
    "import numpy as np\n",
    "import pandas as pd\n",
    "import matplotlib.pyplot as plt\n",
    "from sklearn.linear_model import Lasso, Ridge\n",
    "from sklearn.ensemble import GradientBoostingRegressor\n",
    "from sklearn.metrics import r2_score\n",
    "import pickle\n",
    "import time\n",
    "from reed import drop_missing_treatment_or_outcome, Model\n",
    "\n",
    "# set global notebook options\n",
    "pd.options.display.max_columns = 200\n",
    "pd.options.display.max_rows = 500\n",
    "pd.options.display.max_colwidth = 100\n",
    "\n",
    "%matplotlib inline\n",
    "\n",
    "%load_ext autoreload\n",
    "%autoreload 2"
   ]
  },
  {
   "cell_type": "markdown",
   "id": "2",
   "metadata": {
    "tags": [
     "overview"
    ]
   },
   "source": [
    "## Response Model\n",
    "\n",
    "How well can we predict outcomes $Y$ conditional on treatment $T$ and other covariates $Z$?\n",
    "\n",
    "### Treatent variables\n",
    "\n",
    "   - **reduhl**\tCompleted re-education based on highest level of attainment\n",
    "   - **redudl**\tCompleted re-education based on detailed qualifications\n",
    "   - **redufl**\tCompleted re-education using highest lvl and detailed qualifications.\n",
    "\n",
    "### Outcome variables\n",
    "   - Mental health in 2019 (**mh**). This is the transformed mental health scores from the aggregation of mental health items of the SF-36 Health Survey, as reported by the individual in 2019. It ranges from 0 to 100, with higher scores indicating better mental health.  \n",
    "   - Working hours in 2019 (**wkhr**) records the total number of hours the individual works in all jobs in a week on average. Working hours are set to 0 for those not working. \n",
    "   - Hourly Wages in 2019 (**rlwage**) records the average hourly wage for the individual’s main job in 2019. Hourly wages are set to 0 for those not working and set to missing for those reporting working more than 100 hours a week. \n",
    "   \n",
    "#### Columns explicitly excluded\n",
    "   - **xwaveid** (unique identifier)\n",
    "   - **p_rcom*** (timing of completion of re-education, proxies treatment) TODO think about how we would include this\n",
    "   - **p_cotrl** (first avail 2003)\n",
    "   - **p_rdf*** (first avail 2012)\n",
    "   \n",
    "### (Nested) cross-validate to evaluate model performance\n",
    "![image.png](images/nested_cross_val.png)\n",
    "\n",
    "### Bootstraped cross-validation to estimate parameter uncertainty\n",
    "![image.png](images/bootstrap_validation.png)"
   ]
  },
  {
   "cell_type": "markdown",
   "id": "3",
   "metadata": {},
   "source": [
    "#### Parameters"
   ]
  },
  {
   "cell_type": "code",
   "execution_count": 2,
   "id": "4",
   "metadata": {
    "tags": [
     "parameters"
    ]
   },
   "outputs": [],
   "source": [
    "optimisation_metric = 'neg_mean_squared_error'\n",
    "evaluation_metrics = ('r2','neg_mean_squared_error')\n",
    "log_outcome=False\n",
    "load_from_cache=False\n",
    "exclude_patterns = [\n",
    "    '^reduhl$', '^rehllt$', '^redudl$', '^redufl$', '^redllt$', '^refllt$',\n",
    "    '^rlwage$', '^mh$', '^mhbm$', '^wkhr$', '^y_', '^p_rcom','^p_rdf','^p_cotrl',\n",
    "    '^xwaveid$','p_rcom18','^aedcq', '^abnfsty','^aedcqfpt','^aedqstdy'\n",
    "]\n",
    "data_load_func = lambda filepath: pd.read_csv(filepath, index_col='xwaveid')\n",
    "\n",
    "configuration_name = 'default'\n",
    "outcome = 'y_wsce'#'y_wsce'\n",
    "treatment = 'redufl'\n",
    "test=True\n",
    "data_file = \"data/all_lasso_selected_100.csv\""
   ]
  },
  {
   "cell_type": "code",
   "execution_count": 3,
   "id": "5",
   "metadata": {},
   "outputs": [],
   "source": [
    "# parameters that depend on those set above (which may have been inserted by Papermill)\n",
    "if test:\n",
    "    inner_cv = 2\n",
    "    outer_cv = 2\n",
    "    bootstrap_samples = 3\n",
    "\n",
    "else:\n",
    "    inner_cv = 5\n",
    "    outer_cv = 10\n",
    "    bootstrap_samples = 50\n",
    "\n",
    "cross_val_cache = f\"data/cross-val-{configuration_name}.pkl\"#\"data/cross-val-all.pkl\"\n",
    "bootstrap_cache = f\"data/bootstrap-{configuration_name}.pkl\"#\"data/bootstrap-all.pkl\""
   ]
  },
  {
   "cell_type": "markdown",
   "id": "6",
   "metadata": {},
   "source": [
    "### Load Data \n",
    "   - drop rows missing the specified treatment or outcome"
   ]
  },
  {
   "cell_type": "code",
   "execution_count": 4,
   "id": "7",
   "metadata": {
    "tags": [
     "hide_input"
    ]
   },
   "outputs": [
    {
     "name": "stdout",
     "output_type": "stream",
     "text": [
      "Dropped 284 rows missing treatment or outcome.\n"
     ]
    }
   ],
   "source": [
    "data = data_load_func(data_file)\n",
    "drop_missing_treatment_or_outcome(data, treatment, outcome)\n",
    "if log_outcome:\n",
    "    data[outcome] = np.log(data[outcome]+data[outcome].min())"
   ]
  },
  {
   "cell_type": "markdown",
   "id": "8",
   "metadata": {},
   "source": [
    "### Set up models\n",
    "Specify which models to use and the hyper-parameter space to search over for each"
   ]
  },
  {
   "cell_type": "code",
   "execution_count": 5,
   "id": "9",
   "metadata": {
    "tags": [
     "hide_input"
    ]
   },
   "outputs": [],
   "source": [
    "from sklearn.linear_model import Lasso, Ridge\n",
    "from sklearn.ensemble import GradientBoostingRegressor\n",
    "from direct_regression import importance_from_coef\n",
    "\n",
    "def construct_models():\n",
    "    models = [\n",
    "        Model('ridge',Ridge(), \n",
    "              parameters = {\n",
    "                  'alpha':np.logspace(-1,4,30)\n",
    "              },\n",
    "              importance_func=importance_from_coef\n",
    "        ),\n",
    "        Model('lasso',Lasso(),\n",
    "              parameters = {\n",
    "                  'alpha':np.logspace(-2,4,30)\n",
    "              },\n",
    "              importance_func=importance_from_coef\n",
    "        ), \n",
    "        Model('gbr',GradientBoostingRegressor(n_iter_no_change=20, max_depth=2),\n",
    "              parameters = {\n",
    "                'max_features':np.linspace(0,1,6)[1:],\n",
    "                'learning_rate':np.logspace(-3,0,10),\n",
    "                'min_samples_leaf':np.logspace(0,3,10).astype(int)\n",
    "              }\n",
    "        ),\n",
    "    ]\n",
    "    return models\n",
    "\n",
    "# used for quick tests\n",
    "def construct_test_models(): \n",
    "    models = [\n",
    "        Model('Ridge',Ridge(),\n",
    "              parameters = {'alpha':np.logspace(1,4,2)},\n",
    "              importance_func=importance_from_coef\n",
    "        ),\n",
    "        Model('gbr',GradientBoostingRegressor(n_iter_no_change=20, max_depth=2),\n",
    "              parameters = {\n",
    "                'max_features':np.linspace(0,1,4)[1:],\n",
    "              }\n",
    "        ),\n",
    "    ]\n",
    "    return models\n",
    "\n",
    "model_init = construct_test_models if test else construct_models"
   ]
  },
  {
   "cell_type": "markdown",
   "id": "10",
   "metadata": {},
   "source": [
    "### Prepare data for modeling\n",
    "   - split into treated/control\n",
    "   - impute missing values and scale\n",
    "   - separate features from outcomes&treatments"
   ]
  },
  {
   "cell_type": "code",
   "execution_count": 6,
   "id": "11",
   "metadata": {
    "tags": [
     "hide_input"
    ]
   },
   "outputs": [
    {
     "name": "stdout",
     "output_type": "stream",
     "text": [
      "Control data dimensions:  (3789, 104)\n",
      "Treated data dimensions: (1368, 104)\n"
     ]
    }
   ],
   "source": [
    "from direct_regression import seperate_and_transform_data\n",
    "X0, X1, y0, y1, X, y, t, features = seperate_and_transform_data(data, treatment, outcome)\n",
    "print(\"Control data dimensions: \",X0.shape)\n",
    "print(\"Treated data dimensions:\",X1.shape)"
   ]
  },
  {
   "cell_type": "markdown",
   "id": "12",
   "metadata": {},
   "source": [
    "### Compute unconditional/unadjusted estimate of treatment effect"
   ]
  },
  {
   "cell_type": "code",
   "execution_count": 7,
   "id": "13",
   "metadata": {
    "tags": [
     "hide_input"
    ]
   },
   "outputs": [
    {
     "name": "stdout",
     "output_type": "stream",
     "text": [
      "Proportion Treated:27%\n",
      "Average outcome under Control:509.12±16.55\n",
      "Average outcome under Treatment:852.67±27.99\n",
      "Unadjusted treatment estimate 343.55\n"
     ]
    }
   ],
   "source": [
    "from direct_regression import print_unconditional_effects\n",
    "print_unconditional_effects(data, treatment, y0, y1)"
   ]
  },
  {
   "cell_type": "markdown",
   "id": "14",
   "metadata": {},
   "source": [
    "### Propensity model\n",
    "\n",
    "- Run primarily to check for violations over overlap assumptions."
   ]
  },
  {
   "cell_type": "code",
   "execution_count": 8,
   "id": "15",
   "metadata": {
    "tags": [
     "hide_cell"
    ]
   },
   "outputs": [],
   "source": [
    "from reed import visualise_propensity_model_performance\n",
    "from sklearn.model_selection import train_test_split\n",
    "from sklearn.linear_model import LogisticRegression, LogisticRegressionCV\n",
    "\n",
    "X_train, X_test, t_train, t_test = train_test_split(X,t,stratify=t)\n",
    "pmodel = LogisticRegressionCV(Cs = np.logspace(-5,-1,20), penalty='l2', max_iter=10000)\n",
    "pmodel.fit(X_train, t_train);"
   ]
  },
  {
   "cell_type": "code",
   "execution_count": 9,
   "id": "16",
   "metadata": {
    "tags": [
     "hide_input"
    ]
   },
   "outputs": [
    {
     "data": {
      "image/png": "[encoded data removed]",
      "text/plain": [
       "<Figure size 1080x360 with 2 Axes>"
      ]
     },
     "metadata": {
      "needs_background": "light"
     },
     "output_type": "display_data"
    }
   ],
   "source": [
    "visualise_propensity_model_performance(t_test, pmodel.predict_proba(X_test)[:,1],'l2-logistic',bins=10)"
   ]
  },
  {
   "cell_type": "code",
   "execution_count": 10,
   "id": "17",
   "metadata": {
    "tags": [
     "hide_input"
    ]
   },
   "outputs": [
    {
     "name": "stdout",
     "output_type": "stream",
     "text": [
      "Propensity Model Coefficients\n"
     ]
    },
    {
     "data": {
      "text/html": [
       "<div>\n",
       "<style scoped>\n",
       "    .dataframe tbody tr th:only-of-type {\n",
       "        vertical-align: middle;\n",
       "    }\n",
       "\n",
       "    .dataframe tbody tr th {\n",
       "        vertical-align: top;\n",
       "    }\n",
       "\n",
       "    .dataframe thead th {\n",
       "        text-align: right;\n",
       "    }\n",
       "</style>\n",
       "<table border=\"1\" class=\"dataframe\">\n",
       "  <thead>\n",
       "    <tr style=\"text-align: right;\">\n",
       "      <th></th>\n",
       "      <th>label</th>\n",
       "      <th>c</th>\n",
       "      <th>abs</th>\n",
       "    </tr>\n",
       "  </thead>\n",
       "  <tbody>\n",
       "    <tr>\n",
       "      <th>ahgage1</th>\n",
       "      <td>DV: Age last birthday at June 30 2001 - person 01</td>\n",
       "      <td>-0.141404</td>\n",
       "      <td>0.141404</td>\n",
       "    </tr>\n",
       "    <tr>\n",
       "      <th>ahhyng</th>\n",
       "      <td>DV: Age of youngest person in household</td>\n",
       "      <td>-0.130004</td>\n",
       "      <td>0.130004</td>\n",
       "    </tr>\n",
       "    <tr>\n",
       "      <th>aehtjbyr</th>\n",
       "      <td>D3a1 Years in paid work</td>\n",
       "      <td>-0.118925</td>\n",
       "      <td>0.118925</td>\n",
       "    </tr>\n",
       "    <tr>\n",
       "      <th>ajbempt</th>\n",
       "      <td>DV: Tenure with current employer (years)</td>\n",
       "      <td>-0.118728</td>\n",
       "      <td>0.118728</td>\n",
       "    </tr>\n",
       "    <tr>\n",
       "      <th>awscoef</th>\n",
       "      <td>DV: Imputation flag current weekly gross wages &amp; salary - other jobs</td>\n",
       "      <td>0.101794</td>\n",
       "      <td>0.101794</td>\n",
       "    </tr>\n",
       "    <tr>\n",
       "      <th>ahsyrcad</th>\n",
       "      <td>DV: Years at current address</td>\n",
       "      <td>-0.100261</td>\n",
       "      <td>0.100261</td>\n",
       "    </tr>\n",
       "    <tr>\n",
       "      <th>atcnr</th>\n",
       "      <td>DV: Number of own non-resident children</td>\n",
       "      <td>-0.092820</td>\n",
       "      <td>0.092820</td>\n",
       "    </tr>\n",
       "    <tr>\n",
       "      <th>amhn10yr</th>\n",
       "      <td>K12 How many homes lived in during last 10 years</td>\n",
       "      <td>0.092253</td>\n",
       "      <td>0.092253</td>\n",
       "    </tr>\n",
       "    <tr>\n",
       "      <th>ajsl4wk</th>\n",
       "      <td>F1 Looked for work in last 4 weeks</td>\n",
       "      <td>0.089243</td>\n",
       "      <td>0.089243</td>\n",
       "    </tr>\n",
       "    <tr>\n",
       "      <th>aedhists</th>\n",
       "      <td>C2 Highest year of school completed/currently attending</td>\n",
       "      <td>-0.086654</td>\n",
       "      <td>0.086654</td>\n",
       "    </tr>\n",
       "    <tr>\n",
       "      <th>aloimpew</th>\n",
       "      <td>K8 Importance - B Your employment and work situation</td>\n",
       "      <td>0.076472</td>\n",
       "      <td>0.076472</td>\n",
       "    </tr>\n",
       "    <tr>\n",
       "      <th>ahhec10</th>\n",
       "      <td>DV: SEIFA 2001 Decile of Index of economic resources</td>\n",
       "      <td>-0.066372</td>\n",
       "      <td>0.066372</td>\n",
       "    </tr>\n",
       "    <tr>\n",
       "      <th>aedqobd</th>\n",
       "      <td>C7a Qualifications obtained - Bachelor degree but not honours</td>\n",
       "      <td>-0.062666</td>\n",
       "      <td>0.062666</td>\n",
       "    </tr>\n",
       "    <tr>\n",
       "      <th>abnfdsp</th>\n",
       "      <td>G31 Pensions/Allowances received - Disability Support Pension</td>\n",
       "      <td>-0.058962</td>\n",
       "      <td>0.058962</td>\n",
       "    </tr>\n",
       "    <tr>\n",
       "      <th>ahiwscei</th>\n",
       "      <td>DV: Household current weekly gross wages &amp; salary - all jobs ($) [imputed] [weighted topcode]</td>\n",
       "      <td>0.058905</td>\n",
       "      <td>0.058905</td>\n",
       "    </tr>\n",
       "    <tr>\n",
       "      <th>agh8</th>\n",
       "      <td>SCQ:A8 How much did pain interfere with normal work</td>\n",
       "      <td>-0.057605</td>\n",
       "      <td>0.057605</td>\n",
       "    </tr>\n",
       "    <tr>\n",
       "      <th>alosateo</th>\n",
       "      <td>K6 Satisfaction - Your employment opportunities</td>\n",
       "      <td>-0.057527</td>\n",
       "      <td>0.057527</td>\n",
       "    </tr>\n",
       "    <tr>\n",
       "      <th>agh3a</th>\n",
       "      <td>SCQ:A3a Physical Functioning: Vigorous activities</td>\n",
       "      <td>0.057400</td>\n",
       "      <td>0.057400</td>\n",
       "    </tr>\n",
       "    <tr>\n",
       "      <th>ahgms</th>\n",
       "      <td>HF8 Living circumstances</td>\n",
       "      <td>0.057161</td>\n",
       "      <td>0.057161</td>\n",
       "    </tr>\n",
       "    <tr>\n",
       "      <th>ahgsex</th>\n",
       "      <td>HF3 Sex</td>\n",
       "      <td>0.054510</td>\n",
       "      <td>0.054510</td>\n",
       "    </tr>\n",
       "  </tbody>\n",
       "</table>\n",
       "</div>"
      ],
      "text/plain": [
       "                                                                                                  label  \\\n",
       "ahgage1                                               DV: Age last birthday at June 30 2001 - person 01   \n",
       "ahhyng                                                          DV: Age of youngest person in household   \n",
       "aehtjbyr                                                                        D3a1 Years in paid work   \n",
       "ajbempt                                                        DV: Tenure with current employer (years)   \n",
       "awscoef                            DV: Imputation flag current weekly gross wages & salary - other jobs   \n",
       "ahsyrcad                                                                   DV: Years at current address   \n",
       "atcnr                                                           DV: Number of own non-resident children   \n",
       "amhn10yr                                               K12 How many homes lived in during last 10 years   \n",
       "ajsl4wk                                                              F1 Looked for work in last 4 weeks   \n",
       "aedhists                                        C2 Highest year of school completed/currently attending   \n",
       "aloimpew                                           K8 Importance - B Your employment and work situation   \n",
       "ahhec10                                            DV: SEIFA 2001 Decile of Index of economic resources   \n",
       "aedqobd                                   C7a Qualifications obtained - Bachelor degree but not honours   \n",
       "abnfdsp                                   G31 Pensions/Allowances received - Disability Support Pension   \n",
       "ahiwscei  DV: Household current weekly gross wages & salary - all jobs ($) [imputed] [weighted topcode]   \n",
       "agh8                                                SCQ:A8 How much did pain interfere with normal work   \n",
       "alosateo                                                K6 Satisfaction - Your employment opportunities   \n",
       "agh3a                                                 SCQ:A3a Physical Functioning: Vigorous activities   \n",
       "ahgms                                                                          HF8 Living circumstances   \n",
       "ahgsex                                                                                          HF3 Sex   \n",
       "\n",
       "                 c       abs  \n",
       "ahgage1  -0.141404  0.141404  \n",
       "ahhyng   -0.130004  0.130004  \n",
       "aehtjbyr -0.118925  0.118925  \n",
       "ajbempt  -0.118728  0.118728  \n",
       "awscoef   0.101794  0.101794  \n",
       "ahsyrcad -0.100261  0.100261  \n",
       "atcnr    -0.092820  0.092820  \n",
       "amhn10yr  0.092253  0.092253  \n",
       "ajsl4wk   0.089243  0.089243  \n",
       "aedhists -0.086654  0.086654  \n",
       "aloimpew  0.076472  0.076472  \n",
       "ahhec10  -0.066372  0.066372  \n",
       "aedqobd  -0.062666  0.062666  \n",
       "abnfdsp  -0.058962  0.058962  \n",
       "ahiwscei  0.058905  0.058905  \n",
       "agh8     -0.057605  0.057605  \n",
       "alosateo -0.057527  0.057527  \n",
       "agh3a     0.057400  0.057400  \n",
       "ahgms     0.057161  0.057161  \n",
       "ahgsex    0.054510  0.054510  "
      ]
     },
     "execution_count": 10,
     "metadata": {},
     "output_type": "execute_result"
    }
   ],
   "source": [
    "def propensity_coefficients(model, features):\n",
    "    if hasattr(model,'best_estimator_'):\n",
    "        model = model.best_estimator_\n",
    "    coef = model.coef_[0]\n",
    "    \n",
    "    with open('data/metadata.pkl','rb') as f:\n",
    "        meta = pickle.load(f)\n",
    "        labels = [meta.column_names_to_labels.get(f) for f in features]\n",
    "    return pd.DataFrame({'label': labels, \"c\":coef,'abs':np.abs(coef)},index=features).sort_values(by='abs',ascending=False).head(50)\n",
    "print(\"Propensity Model Coefficients\")      \n",
    "propensity_coefficients(pmodel, features).head(20)"
   ]
  },
  {
   "cell_type": "markdown",
   "id": "18",
   "metadata": {},
   "source": []
  },
  {
   "cell_type": "code",
   "execution_count": 11,
   "id": "19",
   "metadata": {
    "tags": [
     "hide_cell"
    ]
   },
   "outputs": [
    {
     "name": "stdout",
     "output_type": "stream",
     "text": [
      "Fitting Ridge ...Fitting 2 folds for each of 2 candidates, totalling 4 fits\n",
      "Fitting 2 folds for each of 2 candidates, totalling 4 fits\n",
      "Fitting 2 folds for each of 2 candidates, totalling 4 fits\n",
      "Fitting 2 folds for each of 2 candidates, totalling 4 fits\n",
      "Done\n",
      "Fitting gbr ...Fitting 2 folds for each of 3 candidates, totalling 6 fits\n",
      "Fitting 2 folds for each of 3 candidates, totalling 6 fits\n",
      "Fitting 2 folds for each of 3 candidates, totalling 6 fits\n",
      "Fitting 2 folds for each of 3 candidates, totalling 6 fits\n",
      "Done\n",
      "Caching results to data/cross-val-default.pkl\n"
     ]
    }
   ],
   "source": [
    "from direct_regression import nested_cross_val\n",
    "\n",
    "models0, models1, results = nested_cross_val(\n",
    "    model_init,\n",
    "    cross_val_cache,\n",
    "    X0, X1, y0, y1,\n",
    "    optimisation_metric,\n",
    "    evaluation_metrics,\n",
    "    innercv=inner_cv,\n",
    "    outercv=outer_cv,\n",
    "    load_from_cache=load_from_cache\n",
    ")"
   ]
  },
  {
   "cell_type": "markdown",
   "id": "20",
   "metadata": {},
   "source": [
    "### Report estimate ATE and model performance\n",
    "\n",
    "  - Mean and Std of prediction performance for each model (both treatment & control surface)\n",
    "  - Mean and Std of average treatment effect for each model"
   ]
  },
  {
   "cell_type": "code",
   "execution_count": 12,
   "id": "21",
   "metadata": {
    "scrolled": true
   },
   "outputs": [
    {
     "data": {
      "text/html": [
       "<div>\n",
       "<style scoped>\n",
       "    .dataframe tbody tr th:only-of-type {\n",
       "        vertical-align: middle;\n",
       "    }\n",
       "\n",
       "    .dataframe tbody tr th {\n",
       "        vertical-align: top;\n",
       "    }\n",
       "\n",
       "    .dataframe thead th {\n",
       "        text-align: right;\n",
       "    }\n",
       "</style>\n",
       "<table border=\"1\" class=\"dataframe\">\n",
       "  <thead>\n",
       "    <tr style=\"text-align: right;\">\n",
       "      <th></th>\n",
       "      <th>ACE</th>\n",
       "      <th>ACE_std</th>\n",
       "      <th>control_r2</th>\n",
       "      <th>control_r2_std</th>\n",
       "      <th>treated_r2</th>\n",
       "      <th>treated_r2_std</th>\n",
       "      <th>control_neg_mean_squared_error</th>\n",
       "      <th>control_neg_mean_squared_error_std</th>\n",
       "      <th>treated_neg_mean_squared_error</th>\n",
       "      <th>treated_neg_mean_squared_error_std</th>\n",
       "    </tr>\n",
       "  </thead>\n",
       "  <tbody>\n",
       "    <tr>\n",
       "      <th>Ridge</th>\n",
       "      <td>253.21</td>\n",
       "      <td>43.61</td>\n",
       "      <td>0.21</td>\n",
       "      <td>0.04</td>\n",
       "      <td>0.08</td>\n",
       "      <td>0.00</td>\n",
       "      <td>-820,616.05</td>\n",
       "      <td>120,566.22</td>\n",
       "      <td>-989,524.34</td>\n",
       "      <td>141,446.67</td>\n",
       "    </tr>\n",
       "    <tr>\n",
       "      <th>gbr</th>\n",
       "      <td>110.78</td>\n",
       "      <td>34.14</td>\n",
       "      <td>0.36</td>\n",
       "      <td>0.01</td>\n",
       "      <td>0.12</td>\n",
       "      <td>0.12</td>\n",
       "      <td>-661,311.36</td>\n",
       "      <td>22,121.01</td>\n",
       "      <td>-934,314.65</td>\n",
       "      <td>38,056.42</td>\n",
       "    </tr>\n",
       "  </tbody>\n",
       "</table>\n",
       "</div>"
      ],
      "text/plain": [
       "         ACE  ACE_std  control_r2  control_r2_std  treated_r2  treated_r2_std  \\\n",
       "Ridge 253.21    43.61        0.21            0.04        0.08            0.00   \n",
       "gbr   110.78    34.14        0.36            0.01        0.12            0.12   \n",
       "\n",
       "       control_neg_mean_squared_error  control_neg_mean_squared_error_std  \\\n",
       "Ridge                     -820,616.05                          120,566.22   \n",
       "gbr                       -661,311.36                           22,121.01   \n",
       "\n",
       "       treated_neg_mean_squared_error  treated_neg_mean_squared_error_std  \n",
       "Ridge                     -989,524.34                          141,446.67  \n",
       "gbr                       -934,314.65                           38,056.42  "
      ]
     },
     "metadata": {},
     "output_type": "display_data"
    },
    {
     "data": {
      "image/png": "[encoded data removed]",
      "text/plain": [
       "<Figure size 1080x360 with 2 Axes>"
      ]
     },
     "metadata": {
      "needs_background": "light"
     },
     "output_type": "display_data"
    }
   ],
   "source": [
    "from direct_regression import visualise_ate\n",
    "metrics, ate_vals = visualise_ate(results,X,evaluation_metrics);"
   ]
  },
  {
   "cell_type": "code",
   "execution_count": 13,
   "id": "22",
   "metadata": {},
   "outputs": [
    {
     "data": {
      "image/png": "[encoded data removed]",
      "text/plain": [
       "<Figure size 720x360 with 2 Axes>"
      ]
     },
     "metadata": {
      "needs_background": "light"
     },
     "output_type": "display_data"
    }
   ],
   "source": [
    "from direct_regression import plot_ate_distribution\n",
    "plot_ate_distribution(ate_vals)"
   ]
  },
  {
   "cell_type": "code",
   "execution_count": 14,
   "id": "23",
   "metadata": {},
   "outputs": [
    {
     "data": {
      "image/png": "[encoded data removed]",
      "text/plain": [
       "<Figure size 360x288 with 1 Axes>"
      ]
     },
     "metadata": {
      "needs_background": "light"
     },
     "output_type": "display_data"
    },
    {
     "data": {
      "image/png": "[encoded data removed]",
      "text/plain": [
       "<Figure size 360x288 with 1 Axes>"
      ]
     },
     "metadata": {
      "needs_background": "light"
     },
     "output_type": "display_data"
    },
    {
     "data": {
      "image/png": "[encoded data removed]",
      "text/plain": [
       "<Figure size 360x288 with 1 Axes>"
      ]
     },
     "metadata": {
      "needs_background": "light"
     },
     "output_type": "display_data"
    },
    {
     "data": {
      "image/png": "[encoded data removed]",
      "text/plain": [
       "<Figure size 360x288 with 1 Axes>"
      ]
     },
     "metadata": {
      "needs_background": "light"
     },
     "output_type": "display_data"
    }
   ],
   "source": [
    "from direct_regression import plot_hyperparam_distributions\n",
    "for model, (results0, results1) in results.items():\n",
    "    plot_hyperparam_distributions(results0,f\"{model}-control\")\n",
    "    plot_hyperparam_distributions(results1,f\"{model}-treated\")"
   ]
  },
  {
   "cell_type": "markdown",
   "id": "24",
   "metadata": {},
   "source": [
    "### Visualise models\n",
    "- Features responsible for treatment effect heterogeneity & functional form (with uncertainty)\n",
    "      - coefficeints for linear models\n",
    "      - TODO permutation importance & partial dependence curves for non-linear models"
   ]
  },
  {
   "cell_type": "code",
   "execution_count": 15,
   "id": "25",
   "metadata": {
    "tags": [
     "hide_input"
    ]
   },
   "outputs": [
    {
     "name": "stdout",
     "output_type": "stream",
     "text": [
      "Ridge\n"
     ]
    },
    {
     "data": {
      "text/html": [
       "<div>\n",
       "<style scoped>\n",
       "    .dataframe tbody tr th:only-of-type {\n",
       "        vertical-align: middle;\n",
       "    }\n",
       "\n",
       "    .dataframe tbody tr th {\n",
       "        vertical-align: top;\n",
       "    }\n",
       "\n",
       "    .dataframe thead th {\n",
       "        text-align: right;\n",
       "    }\n",
       "</style>\n",
       "<table border=\"1\" class=\"dataframe\">\n",
       "  <thead>\n",
       "    <tr style=\"text-align: right;\">\n",
       "      <th></th>\n",
       "      <th>importance_mean</th>\n",
       "      <th>importance_std</th>\n",
       "      <th>Δcoef_mean</th>\n",
       "      <th>Δcoef_std</th>\n",
       "      <th>coef_treat_mean</th>\n",
       "      <th>coef_treat_std</th>\n",
       "      <th>coef_cntr_mean</th>\n",
       "      <th>coef_cntr_std</th>\n",
       "    </tr>\n",
       "    <tr>\n",
       "      <th>feature</th>\n",
       "      <th></th>\n",
       "      <th></th>\n",
       "      <th></th>\n",
       "      <th></th>\n",
       "      <th></th>\n",
       "      <th></th>\n",
       "      <th></th>\n",
       "      <th></th>\n",
       "    </tr>\n",
       "  </thead>\n",
       "  <tbody>\n",
       "    <tr>\n",
       "      <th>awscme</th>\n",
       "      <td>69.090170</td>\n",
       "      <td>63.767488</td>\n",
       "      <td>-112.440551</td>\n",
       "      <td>141.311042</td>\n",
       "      <td>12.869895</td>\n",
       "      <td>6.888033</td>\n",
       "      <td>125.310445</td>\n",
       "      <td>134.423009</td>\n",
       "    </tr>\n",
       "    <tr>\n",
       "      <th>atxtottp</th>\n",
       "      <td>52.385004</td>\n",
       "      <td>58.847534</td>\n",
       "      <td>-86.824552</td>\n",
       "      <td>125.671034</td>\n",
       "      <td>8.972728</td>\n",
       "      <td>3.987983</td>\n",
       "      <td>95.797280</td>\n",
       "      <td>121.683051</td>\n",
       "    </tr>\n",
       "    <tr>\n",
       "      <th>ahgage1</th>\n",
       "      <td>44.215349</td>\n",
       "      <td>25.284681</td>\n",
       "      <td>57.662196</td>\n",
       "      <td>52.051935</td>\n",
       "      <td>-15.384251</td>\n",
       "      <td>0.741286</td>\n",
       "      <td>-73.046447</td>\n",
       "      <td>51.310649</td>\n",
       "    </tr>\n",
       "    <tr>\n",
       "      <th>aehtjbyr</th>\n",
       "      <td>42.437712</td>\n",
       "      <td>33.495500</td>\n",
       "      <td>63.864484</td>\n",
       "      <td>70.835269</td>\n",
       "      <td>-10.505469</td>\n",
       "      <td>1.922134</td>\n",
       "      <td>-74.369954</td>\n",
       "      <td>68.913135</td>\n",
       "    </tr>\n",
       "    <tr>\n",
       "      <th>awslya</th>\n",
       "      <td>41.697635</td>\n",
       "      <td>54.536576</td>\n",
       "      <td>-74.465043</td>\n",
       "      <td>114.175043</td>\n",
       "      <td>4.187518</td>\n",
       "      <td>2.158366</td>\n",
       "      <td>78.652561</td>\n",
       "      <td>112.016677</td>\n",
       "    </tr>\n",
       "    <tr>\n",
       "      <th>abifip</th>\n",
       "      <td>41.021887</td>\n",
       "      <td>56.109998</td>\n",
       "      <td>79.898148</td>\n",
       "      <td>109.185623</td>\n",
       "      <td>-0.151270</td>\n",
       "      <td>2.820444</td>\n",
       "      <td>-80.049418</td>\n",
       "      <td>112.006067</td>\n",
       "    </tr>\n",
       "    <tr>\n",
       "      <th>ahh0_4</th>\n",
       "      <td>35.422732</td>\n",
       "      <td>32.807779</td>\n",
       "      <td>-53.251985</td>\n",
       "      <td>66.539350</td>\n",
       "      <td>8.796739</td>\n",
       "      <td>0.461896</td>\n",
       "      <td>62.048724</td>\n",
       "      <td>66.077454</td>\n",
       "    </tr>\n",
       "    <tr>\n",
       "      <th>awsfe</th>\n",
       "      <td>28.374355</td>\n",
       "      <td>17.394954</td>\n",
       "      <td>33.624024</td>\n",
       "      <td>67.493152</td>\n",
       "      <td>9.375009</td>\n",
       "      <td>0.496622</td>\n",
       "      <td>-24.249016</td>\n",
       "      <td>66.996530</td>\n",
       "    </tr>\n",
       "    <tr>\n",
       "      <th>atifmktp</th>\n",
       "      <td>27.497565</td>\n",
       "      <td>20.696297</td>\n",
       "      <td>-39.843448</td>\n",
       "      <td>46.211150</td>\n",
       "      <td>7.575841</td>\n",
       "      <td>2.409278</td>\n",
       "      <td>47.419289</td>\n",
       "      <td>43.801872</td>\n",
       "    </tr>\n",
       "    <tr>\n",
       "      <th>ahiwscei</th>\n",
       "      <td>27.409743</td>\n",
       "      <td>14.924095</td>\n",
       "      <td>36.192458</td>\n",
       "      <td>56.190786</td>\n",
       "      <td>11.464097</td>\n",
       "      <td>5.122993</td>\n",
       "      <td>-24.728361</td>\n",
       "      <td>61.313779</td>\n",
       "    </tr>\n",
       "    <tr>\n",
       "      <th>abnfnis</th>\n",
       "      <td>25.641690</td>\n",
       "      <td>29.639732</td>\n",
       "      <td>38.675182</td>\n",
       "      <td>67.941155</td>\n",
       "      <td>-3.194782</td>\n",
       "      <td>0.066393</td>\n",
       "      <td>-41.869964</td>\n",
       "      <td>68.007548</td>\n",
       "    </tr>\n",
       "    <tr>\n",
       "      <th>ahhd1014</th>\n",
       "      <td>25.430746</td>\n",
       "      <td>23.044971</td>\n",
       "      <td>-50.755801</td>\n",
       "      <td>45.940472</td>\n",
       "      <td>-2.280952</td>\n",
       "      <td>3.375224</td>\n",
       "      <td>48.474849</td>\n",
       "      <td>49.315696</td>\n",
       "    </tr>\n",
       "    <tr>\n",
       "      <th>atifditp</th>\n",
       "      <td>24.130349</td>\n",
       "      <td>13.819867</td>\n",
       "      <td>-27.621812</td>\n",
       "      <td>34.994956</td>\n",
       "      <td>10.319443</td>\n",
       "      <td>3.677611</td>\n",
       "      <td>37.941255</td>\n",
       "      <td>31.317345</td>\n",
       "    </tr>\n",
       "    <tr>\n",
       "      <th>ahsmgowe</th>\n",
       "      <td>22.496363</td>\n",
       "      <td>15.824558</td>\n",
       "      <td>-32.021217</td>\n",
       "      <td>44.818064</td>\n",
       "      <td>6.485755</td>\n",
       "      <td>6.584475</td>\n",
       "      <td>38.506971</td>\n",
       "      <td>38.233590</td>\n",
       "    </tr>\n",
       "    <tr>\n",
       "      <th>agh3a</th>\n",
       "      <td>22.486054</td>\n",
       "      <td>9.907119</td>\n",
       "      <td>-25.488195</td>\n",
       "      <td>17.633316</td>\n",
       "      <td>9.741957</td>\n",
       "      <td>1.090461</td>\n",
       "      <td>35.230152</td>\n",
       "      <td>18.723777</td>\n",
       "    </tr>\n",
       "    <tr>\n",
       "      <th>ahgsex</th>\n",
       "      <td>22.246512</td>\n",
       "      <td>13.991883</td>\n",
       "      <td>26.902095</td>\n",
       "      <td>28.042472</td>\n",
       "      <td>-8.795464</td>\n",
       "      <td>0.029353</td>\n",
       "      <td>-35.697559</td>\n",
       "      <td>28.013119</td>\n",
       "    </tr>\n",
       "    <tr>\n",
       "      <th>ahspown</th>\n",
       "      <td>21.924915</td>\n",
       "      <td>26.772424</td>\n",
       "      <td>-38.596818</td>\n",
       "      <td>49.189153</td>\n",
       "      <td>2.626505</td>\n",
       "      <td>2.177848</td>\n",
       "      <td>41.223324</td>\n",
       "      <td>51.367000</td>\n",
       "    </tr>\n",
       "    <tr>\n",
       "      <th>atcnr</th>\n",
       "      <td>21.114572</td>\n",
       "      <td>1.020618</td>\n",
       "      <td>22.827336</td>\n",
       "      <td>5.722892</td>\n",
       "      <td>-9.700904</td>\n",
       "      <td>1.840828</td>\n",
       "      <td>-32.528240</td>\n",
       "      <td>3.882064</td>\n",
       "    </tr>\n",
       "    <tr>\n",
       "      <th>acpu_me</th>\n",
       "      <td>20.701924</td>\n",
       "      <td>21.500135</td>\n",
       "      <td>38.348684</td>\n",
       "      <td>46.533443</td>\n",
       "      <td>-1.527582</td>\n",
       "      <td>1.766587</td>\n",
       "      <td>-39.876266</td>\n",
       "      <td>44.766856</td>\n",
       "    </tr>\n",
       "    <tr>\n",
       "      <th>ahhd5_9</th>\n",
       "      <td>20.468537</td>\n",
       "      <td>9.599850</td>\n",
       "      <td>-32.497566</td>\n",
       "      <td>14.040745</td>\n",
       "      <td>4.219754</td>\n",
       "      <td>2.579477</td>\n",
       "      <td>36.717320</td>\n",
       "      <td>16.620222</td>\n",
       "    </tr>\n",
       "  </tbody>\n",
       "</table>\n",
       "</div>"
      ],
      "text/plain": [
       "          importance_mean  importance_std  Δcoef_mean   Δcoef_std  \\\n",
       "feature                                                             \n",
       "awscme          69.090170       63.767488 -112.440551  141.311042   \n",
       "atxtottp        52.385004       58.847534  -86.824552  125.671034   \n",
       "ahgage1         44.215349       25.284681   57.662196   52.051935   \n",
       "aehtjbyr        42.437712       33.495500   63.864484   70.835269   \n",
       "awslya          41.697635       54.536576  -74.465043  114.175043   \n",
       "abifip          41.021887       56.109998   79.898148  109.185623   \n",
       "ahh0_4          35.422732       32.807779  -53.251985   66.539350   \n",
       "awsfe           28.374355       17.394954   33.624024   67.493152   \n",
       "atifmktp        27.497565       20.696297  -39.843448   46.211150   \n",
       "ahiwscei        27.409743       14.924095   36.192458   56.190786   \n",
       "abnfnis         25.641690       29.639732   38.675182   67.941155   \n",
       "ahhd1014        25.430746       23.044971  -50.755801   45.940472   \n",
       "atifditp        24.130349       13.819867  -27.621812   34.994956   \n",
       "ahsmgowe        22.496363       15.824558  -32.021217   44.818064   \n",
       "agh3a           22.486054        9.907119  -25.488195   17.633316   \n",
       "ahgsex          22.246512       13.991883   26.902095   28.042472   \n",
       "ahspown         21.924915       26.772424  -38.596818   49.189153   \n",
       "atcnr           21.114572        1.020618   22.827336    5.722892   \n",
       "acpu_me         20.701924       21.500135   38.348684   46.533443   \n",
       "ahhd5_9         20.468537        9.599850  -32.497566   14.040745   \n",
       "\n",
       "          coef_treat_mean  coef_treat_std  coef_cntr_mean  coef_cntr_std  \n",
       "feature                                                                   \n",
       "awscme          12.869895        6.888033      125.310445     134.423009  \n",
       "atxtottp         8.972728        3.987983       95.797280     121.683051  \n",
       "ahgage1        -15.384251        0.741286      -73.046447      51.310649  \n",
       "aehtjbyr       -10.505469        1.922134      -74.369954      68.913135  \n",
       "awslya           4.187518        2.158366       78.652561     112.016677  \n",
       "abifip          -0.151270        2.820444      -80.049418     112.006067  \n",
       "ahh0_4           8.796739        0.461896       62.048724      66.077454  \n",
       "awsfe            9.375009        0.496622      -24.249016      66.996530  \n",
       "atifmktp         7.575841        2.409278       47.419289      43.801872  \n",
       "ahiwscei        11.464097        5.122993      -24.728361      61.313779  \n",
       "abnfnis         -3.194782        0.066393      -41.869964      68.007548  \n",
       "ahhd1014        -2.280952        3.375224       48.474849      49.315696  \n",
       "atifditp        10.319443        3.677611       37.941255      31.317345  \n",
       "ahsmgowe         6.485755        6.584475       38.506971      38.233590  \n",
       "agh3a            9.741957        1.090461       35.230152      18.723777  \n",
       "ahgsex          -8.795464        0.029353      -35.697559      28.013119  \n",
       "ahspown          2.626505        2.177848       41.223324      51.367000  \n",
       "atcnr           -9.700904        1.840828      -32.528240       3.882064  \n",
       "acpu_me         -1.527582        1.766587      -39.876266      44.766856  \n",
       "ahhd5_9          4.219754        2.579477       36.717320      16.620222  "
      ]
     },
     "metadata": {},
     "output_type": "display_data"
    }
   ],
   "source": [
    "from direct_regression import display_feature_importance\n",
    "display_feature_importance(models0, models1, results, features);"
   ]
  },
  {
   "cell_type": "markdown",
   "id": "26",
   "metadata": {},
   "source": [
    "### Compare against OLS on basic variables"
   ]
  },
  {
   "cell_type": "code",
   "execution_count": 16,
   "id": "27",
   "metadata": {
    "tags": [
     "hide_input"
    ]
   },
   "outputs": [
    {
     "name": "stdout",
     "output_type": "stream",
     "text": [
      "Dropped 284 rows missing treatment or outcome.\n",
      "Fitting OLS ...Done\n",
      "Caching results to data/tmp.pkl\n"
     ]
    }
   ],
   "source": [
    "basic = pd.read_csv(\"data/basic_variables.csv\",index_col='xwaveid')\n",
    "drop_missing_treatment_or_outcome(basic, treatment, outcome)\n",
    "if log_outcome:\n",
    "    basic[outcome] = np.log(basic[outcome]+basic[outcome].min())\n",
    "    \n",
    "X0b, X1b, y0b, y1b, Xb, yb, tb, featuresb = seperate_and_transform_data(basic, treatment, outcome)\n",
    "\n",
    "def construct_basic_model():\n",
    "    models = [\n",
    "        Model('OLS',LinearRegression(),importance_func=importance_from_coef)\n",
    "    ]\n",
    "    return models\n",
    "\n",
    "modelsb0, modelsb1, resultsb = nested_cross_val(\n",
    "    construct_basic_model,\n",
    "    \"data/tmp.pkl\",\n",
    "    X0b, X1b, y0b, y1b,\n",
    "    optimisation_metric,\n",
    "    evaluation_metrics,\n",
    "    innercv=inner_cv,\n",
    "    outercv=outer_cv,\n",
    "    load_from_cache=False)"
   ]
  },
  {
   "cell_type": "code",
   "execution_count": 17,
   "id": "28",
   "metadata": {},
   "outputs": [
    {
     "data": {
      "image/png": "[encoded data removed]",
      "text/plain": [
       "<Figure size 1080x360 with 2 Axes>"
      ]
     },
     "metadata": {
      "needs_background": "light"
     },
     "output_type": "display_data"
    }
   ],
   "source": [
    "from sklearn.metrics import r2_score\n",
    "y0b = resultsb['OLS'][0]['estimator'][0].predict(X0b)\n",
    "y1b = resultsb['OLS'][1]['estimator'][0].predict(X1b)\n",
    "fig, ax = plt.subplots(1,2, figsize=(15,5))\n",
    "ax[0].scatter(y0, y0b,s=10,alpha=0.1)\n",
    "ax[0].set_xlabel('y0')\n",
    "ax[0].set_ylabel('$\\\\hat{y}0$');\n",
    "ax[0].set_title(f'Control (OLS-basic), $R^2={r2_score(y0,y0b):.2f}$')\n",
    "\n",
    "ax[1].scatter(y1, y1b,s=10,alpha=0.1)\n",
    "ax[1].set_xlabel('y1')\n",
    "ax[1].set_ylabel('$\\\\hat{y}1$');\n",
    "ax[1].set_title(f'Treated (OLS-basic), $R^2={r2_score(y1,y1b):.2f}$');\n"
   ]
  },
  {
   "cell_type": "code",
   "execution_count": 18,
   "id": "29",
   "metadata": {
    "tags": [
     "hide_input"
    ]
   },
   "outputs": [],
   "source": [
    "if 'ridge' in results.keys():\n",
    "    y0a = results['ridge'][0]['estimator'][4].predict(X0)\n",
    "    y1a = results['ridge'][1]['estimator'][4].predict(X1)\n",
    "    fig, ax = plt.subplots(1,2, figsize=(15,5))\n",
    "    ax[0].scatter(y0, y0a,s=10,alpha=0.1)\n",
    "    ax[0].set_xlabel('y0')\n",
    "    ax[0].set_ylabel('$\\\\hat{y}0$');\n",
    "    ax[0].set_title(f'Control (ridge), $R^2={r2_score(y0,y0a):.2f}$')\n",
    "\n",
    "    ax[1].scatter(y1, y1a,s=10,alpha=0.1)\n",
    "    ax[1].set_xlabel('y1')\n",
    "    ax[1].set_ylabel('$\\\\hat{y}1$');\n",
    "    ax[1].set_title(f'Treated (ridge), $R^2={r2_score(y1,y1a):.2f}$');\n",
    "\n",
    "# think about why these r2 scores are higher than on the holdout set (and whether they are likely overfitting)"
   ]
  },
  {
   "cell_type": "code",
   "execution_count": 19,
   "id": "30",
   "metadata": {
    "scrolled": true,
    "tags": [
     "hide_cell"
    ]
   },
   "outputs": [
    {
     "name": "stdout",
     "output_type": "stream",
     "text": [
      "Fitting Ridge ...Fitting 2 folds for each of 2 candidates, totalling 4 fits\n",
      "Fitting 2 folds for each of 2 candidates, totalling 4 fits\n",
      "Fitting 2 folds for each of 2 candidates, totalling 4 fits\n",
      "Fitting 2 folds for each of 2 candidates, totalling 4 fits\n",
      "Fitting 2 folds for each of 2 candidates, totalling 4 fits\n",
      "Fitting 2 folds for each of 2 candidates, totalling 4 fits\n",
      "Done\n",
      "Fitting gbr ...Fitting 2 folds for each of 3 candidates, totalling 6 fits\n",
      "Fitting 2 folds for each of 3 candidates, totalling 6 fits\n",
      "Fitting 2 folds for each of 3 candidates, totalling 6 fits\n",
      "Fitting 2 folds for each of 3 candidates, totalling 6 fits\n",
      "Fitting 2 folds for each of 3 candidates, totalling 6 fits\n",
      "Fitting 2 folds for each of 3 candidates, totalling 6 fits\n",
      "Done\n",
      "Total time:5.900307893753052 seconds\n",
      "Caching results to: data/bootstrap-default.pkl\n"
     ]
    }
   ],
   "source": [
    "from direct_regression import bootstrapped_cross_val\n",
    "def extract_params(estimator):\n",
    "    return estimator.coef_\n",
    "\n",
    "\n",
    "bootstrap_results = bootstrapped_cross_val(\n",
    "    model_init,\n",
    "    bootstrap_cache,\n",
    "    X0, X1, y0, y1,\n",
    "    optimisation_metric,\n",
    "    extract_params,\n",
    "    inner_cv=inner_cv,\n",
    "    load_from_cache=load_from_cache,\n",
    "    samples=bootstrap_samples\n",
    ")"
   ]
  },
  {
   "cell_type": "markdown",
   "id": "31",
   "metadata": {},
   "source": [
    "####  Average treatment effects"
   ]
  },
  {
   "cell_type": "code",
   "execution_count": 20,
   "id": "32",
   "metadata": {
    "tags": [
     "hide_input"
    ]
   },
   "outputs": [
    {
     "data": {
      "text/html": [
       "<div>\n",
       "<style scoped>\n",
       "    .dataframe tbody tr th:only-of-type {\n",
       "        vertical-align: middle;\n",
       "    }\n",
       "\n",
       "    .dataframe tbody tr th {\n",
       "        vertical-align: top;\n",
       "    }\n",
       "\n",
       "    .dataframe thead th {\n",
       "        text-align: right;\n",
       "    }\n",
       "</style>\n",
       "<table border=\"1\" class=\"dataframe\">\n",
       "  <thead>\n",
       "    <tr style=\"text-align: right;\">\n",
       "      <th></th>\n",
       "      <th>ACE</th>\n",
       "      <th>ACE_std</th>\n",
       "    </tr>\n",
       "  </thead>\n",
       "  <tbody>\n",
       "    <tr>\n",
       "      <th>Ridge</th>\n",
       "      <td>232.720589</td>\n",
       "      <td>6.967916</td>\n",
       "    </tr>\n",
       "    <tr>\n",
       "      <th>gbr</th>\n",
       "      <td>116.183883</td>\n",
       "      <td>11.686647</td>\n",
       "    </tr>\n",
       "  </tbody>\n",
       "</table>\n",
       "</div>"
      ],
      "text/plain": [
       "              ACE    ACE_std\n",
       "Ridge  232.720589   6.967916\n",
       "gbr    116.183883  11.686647"
      ]
     },
     "execution_count": 20,
     "metadata": {},
     "output_type": "execute_result"
    }
   ],
   "source": [
    "from direct_regression import compute_ate\n",
    "metrics, tau_estimatesb = compute_ate(bootstrap_results,X)\n",
    "metrics"
   ]
  },
  {
   "cell_type": "code",
   "execution_count": 21,
   "id": "33",
   "metadata": {},
   "outputs": [
    {
     "data": {
      "image/png": "[encoded data removed]",
      "text/plain": [
       "<Figure size 720x360 with 2 Axes>"
      ]
     },
     "metadata": {
      "needs_background": "light"
     },
     "output_type": "display_data"
    }
   ],
   "source": [
    "plot_ate_distribution(tau_estimatesb)"
   ]
  },
  {
   "cell_type": "markdown",
   "id": "34",
   "metadata": {},
   "source": [
    "#### Distribution of hyper-parameters"
   ]
  },
  {
   "cell_type": "code",
   "execution_count": 22,
   "id": "35",
   "metadata": {
    "tags": [
     "hide_input"
    ]
   },
   "outputs": [
    {
     "data": {
      "image/png": "[encoded data removed]",
      "text/plain": [
       "<Figure size 360x288 with 1 Axes>"
      ]
     },
     "metadata": {
      "needs_background": "light"
     },
     "output_type": "display_data"
    },
    {
     "data": {
      "image/png": "[encoded data removed]",
      "text/plain": [
       "<Figure size 360x288 with 1 Axes>"
      ]
     },
     "metadata": {
      "needs_background": "light"
     },
     "output_type": "display_data"
    },
    {
     "data": {
      "image/png": "[encoded data removed]",
      "text/plain": [
       "<Figure size 360x288 with 1 Axes>"
      ]
     },
     "metadata": {
      "needs_background": "light"
     },
     "output_type": "display_data"
    },
    {
     "data": {
      "image/png": "[encoded data removed]",
      "text/plain": [
       "<Figure size 360x288 with 1 Axes>"
      ]
     },
     "metadata": {
      "needs_background": "light"
     },
     "output_type": "display_data"
    }
   ],
   "source": [
    "from direct_regression import plot_hyperparam_distributions\n",
    "for model, (results0, results1) in bootstrap_results.items():\n",
    "    plot_hyperparam_distributions(results0,f\"{model}-control\")\n",
    "    plot_hyperparam_distributions(results1,f\"{model}-treated\")"
   ]
  }
 ],
 "metadata": {
  "celltoolbar": "Tags",
  "kernelspec": {
   "display_name": "Python 3 (ipykernel)",
   "language": "python",
   "name": "python3"
  },
  "language_info": {
   "codemirror_mode": {
    "name": "ipython",
    "version": 3
   },
   "file_extension": ".py",
   "mimetype": "text/x-python",
   "name": "python",
   "nbconvert_exporter": "python",
   "pygments_lexer": "ipython3",
   "version": "3.9.7"
  }
 },
 "nbformat": 4,
 "nbformat_minor": 5
}
