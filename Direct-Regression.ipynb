{
 "cells": [
  {
   "cell_type": "markdown",
   "id": "0",
   "metadata": {},
   "source": [
    "# Direct Regression"
   ]
  },
  {
   "cell_type": "code",
   "execution_count": 20,
   "id": "1",
   "metadata": {
    "tags": [
     "hide_cell"
    ]
   },
   "outputs": [
    {
     "name": "stdout",
     "output_type": "stream",
     "text": [
      "The autoreload extension is already loaded. To reload it, use:\n",
      "  %reload_ext autoreload\n"
     ]
    }
   ],
   "source": [
    "# import libraries\n",
    "import numpy as np\n",
    "import pandas as pd\n",
    "import matplotlib.pyplot as plt\n",
    "from sklearn.linear_model import Lasso, Ridge, LinearRegression\n",
    "from sklearn.ensemble import GradientBoostingRegressor\n",
    "from sklearn.metrics import r2_score\n",
    "import pickle\n",
    "import time\n",
    "from reed import drop_missing_treatment_or_outcome, Model, transform_outcome\n",
    "\n",
    "# set global notebook options\n",
    "pd.options.display.max_columns = 200\n",
    "pd.options.display.max_rows = 500\n",
    "pd.options.display.max_colwidth = 100\n",
    "\n",
    "%matplotlib inline\n",
    "\n",
    "%load_ext autoreload\n",
    "%autoreload 2"
   ]
  },
  {
   "cell_type": "markdown",
   "id": "2",
   "metadata": {
    "tags": [
     "overview"
    ]
   },
   "source": [
    "## Response Model\n",
    "\n",
    "How well can we predict outcomes $Y$ conditional on treatment $T$ and other covariates $Z$?\n",
    "\n",
    "### Treatent variables\n",
    "\n",
    "   - **reduhl**\tCompleted re-education based on highest level of attainment\n",
    "   - **redudl**\tCompleted re-education based on detailed qualifications\n",
    "   - **redufl**\tCompleted re-education using highest lvl and detailed qualifications.\n",
    "\n",
    "### Outcome variables\n",
    "   - Mental health in 2019 (**mh**). This is the transformed mental health scores from the aggregation of mental health items of the SF-36 Health Survey, as reported by the individual in 2019. It ranges from 0 to 100, with higher scores indicating better mental health.  \n",
    "   - Working hours in 2019 (**wkhr**) records the total number of hours the individual works in all jobs in a week on average. Working hours are set to 0 for those not working. \n",
    "   - Hourly Wages in 2019 (**rlwage**) records the average hourly wage for the individual’s main job in 2019. Hourly wages are set to 0 for those not working and set to missing for those reporting working more than 100 hours a week. \n",
    "   \n",
    "#### Columns explicitly excluded\n",
    "   - **xwaveid** (unique identifier)\n",
    "   - **p_rcom*** (timing of completion of re-education, proxies treatment) TODO think about how we would include this\n",
    "   - **p_cotrl** (first avail 2003)\n",
    "   - **p_rdf*** (first avail 2012)\n",
    "   \n",
    "### (Nested) cross-validate to evaluate model performance\n",
    "![image.png](images/nested_cross_val.png)\n",
    "\n",
    "### Bootstraped cross-validation to estimate parameter uncertainty\n",
    "![image.png](images/bootstrap_validation.png)"
   ]
  },
  {
   "cell_type": "markdown",
   "id": "3",
   "metadata": {},
   "source": [
    "#### Parameters"
   ]
  },
  {
   "cell_type": "code",
   "execution_count": 2,
   "id": "4",
   "metadata": {
    "tags": [
     "parameters"
    ]
   },
   "outputs": [],
   "source": [
    "optimisation_metric = 'neg_mean_squared_error'\n",
    "evaluation_metrics = ('r2','neg_mean_squared_error')\n",
    "log_outcome=True\n",
    "standardize_outcome=True\n",
    "load_from_cache=False\n",
    "exclude_patterns = [\n",
    "    '^reduhl$', '^rehllt$', '^redudl$', '^redufl$', '^redllt$', '^refllt$',\n",
    "    '^rlwage$', '^mh$', '^mhbm$', '^wkhr$', '^y_', '^p_rcom','^p_rdf','^p_cotrl',\n",
    "    '^xwaveid$','p_rcom18','^aedcq', '^abnfsty','^aedcqfpt','^aedqstdy'\n",
    "]\n",
    "data_load_func = lambda filepath: pd.read_csv(filepath, index_col='xwaveid')\n",
    "\n",
    "configuration_name = 'default'\n",
    "outcome = 'y_wsce'#'y_wsce'\n",
    "treatment = 'redufl'\n",
    "test=True\n",
    "data_file = \"data/all_lasso_selected_100.csv\""
   ]
  },
  {
   "cell_type": "code",
   "execution_count": 3,
   "id": "5",
   "metadata": {},
   "outputs": [],
   "source": [
    "# parameters that depend on those set above (which may have been inserted by Papermill)\n",
    "if test:\n",
    "    inner_cv = 2\n",
    "    outer_cv = 2\n",
    "    bootstrap_samples = 3\n",
    "\n",
    "else:\n",
    "    inner_cv = 5\n",
    "    outer_cv = 10\n",
    "    bootstrap_samples = 50\n",
    "\n",
    "cross_val_cache = f\"data/cross-val-{configuration_name}.pkl\"#\"data/cross-val-all.pkl\"\n",
    "bootstrap_cache = f\"data/bootstrap-{configuration_name}.pkl\"#\"data/bootstrap-all.pkl\""
   ]
  },
  {
   "cell_type": "markdown",
   "id": "6",
   "metadata": {},
   "source": [
    "### Load Data \n",
    "   - drop rows missing the specified treatment or outcome"
   ]
  },
  {
   "cell_type": "code",
   "execution_count": 22,
   "id": "7",
   "metadata": {
    "tags": [
     "hide_input"
    ]
   },
   "outputs": [
    {
     "name": "stdout",
     "output_type": "stream",
     "text": [
      "Dropped 284 rows missing treatment or outcome.\n"
     ]
    },
    {
     "data": {
      "image/png": "[encoded data removed]",
      "text/plain": [
       "<Figure size 432x288 with 1 Axes>"
      ]
     },
     "metadata": {
      "needs_background": "light"
     },
     "output_type": "display_data"
    }
   ],
   "source": [
    "data = data_load_func(data_file)\n",
    "drop_missing_treatment_or_outcome(data, treatment, outcome)\n",
    "data[outcome] = transform_outcome(data[outcome],log_outcome, standardize_outcome)\n",
    "\n",
    "    \n",
    "plt.hist(data[outcome])\n",
    "plt.xlabel(outcome)\n",
    "plt.ylabel(\"count\")\n",
    "plt.title(\"Distribution of outcomes\");"
   ]
  },
  {
   "cell_type": "markdown",
   "id": "8",
   "metadata": {},
   "source": [
    "### Set up models\n",
    "Specify which models to use and the hyper-parameter space to search over for each"
   ]
  },
  {
   "cell_type": "code",
   "execution_count": 23,
   "id": "9",
   "metadata": {
    "tags": [
     "hide_input"
    ]
   },
   "outputs": [],
   "source": [
    "from sklearn.linear_model import Lasso, Ridge\n",
    "from sklearn.ensemble import GradientBoostingRegressor\n",
    "from direct_regression import importance_from_coef\n",
    "\n",
    "def construct_models():\n",
    "    models = [\n",
    "        Model('ridge',Ridge(), \n",
    "              parameters = {\n",
    "                  'alpha':np.logspace(-1,4,30)\n",
    "              },\n",
    "              importance_func=importance_from_coef\n",
    "        ),\n",
    "        Model('lasso',Lasso(),\n",
    "              parameters = {\n",
    "                  'alpha':np.logspace(-2,4,30)\n",
    "              },\n",
    "              importance_func=importance_from_coef\n",
    "        ), \n",
    "        Model('gbr',GradientBoostingRegressor(n_iter_no_change=20, max_depth=2),\n",
    "              parameters = {\n",
    "                'max_features':np.linspace(0,1,6)[1:],\n",
    "                'learning_rate':np.logspace(-3,0,10),\n",
    "                'min_samples_leaf':np.logspace(0,3,10).astype(int)\n",
    "              }\n",
    "        ),\n",
    "    ]\n",
    "    return models\n",
    "\n",
    "# used for quick tests\n",
    "def construct_test_models(): \n",
    "    models = [\n",
    "        Model('Ridge',Ridge(),\n",
    "              parameters = {'alpha':np.logspace(1,4,2)},\n",
    "              importance_func=importance_from_coef\n",
    "        ),\n",
    "        Model('gbr',GradientBoostingRegressor(n_iter_no_change=20, max_depth=2),\n",
    "              parameters = {\n",
    "                'max_features':np.linspace(0,1,4)[1:],\n",
    "              }\n",
    "        ),\n",
    "    ]\n",
    "    return models\n",
    "\n",
    "model_init = construct_test_models if test else construct_models"
   ]
  },
  {
   "cell_type": "markdown",
   "id": "10",
   "metadata": {},
   "source": [
    "### Prepare data for modeling\n",
    "   - split into treated/control\n",
    "   - impute missing values and scale\n",
    "   - separate features from outcomes&treatments"
   ]
  },
  {
   "cell_type": "code",
   "execution_count": 24,
   "id": "11",
   "metadata": {
    "tags": [
     "hide_input"
    ]
   },
   "outputs": [
    {
     "name": "stdout",
     "output_type": "stream",
     "text": [
      "Control data dimensions:  (3789, 104)\n",
      "Treated data dimensions: (1368, 104)\n"
     ]
    }
   ],
   "source": [
    "from direct_regression import seperate_and_transform_data\n",
    "X0, X1, y0, y1, X, y, t, features = seperate_and_transform_data(data, treatment, outcome)\n",
    "print(\"Control data dimensions: \",X0.shape)\n",
    "print(\"Treated data dimensions:\",X1.shape)"
   ]
  },
  {
   "cell_type": "markdown",
   "id": "12",
   "metadata": {},
   "source": [
    "### Compute unconditional/unadjusted estimate of treatment effect"
   ]
  },
  {
   "cell_type": "code",
   "execution_count": 25,
   "id": "13",
   "metadata": {
    "tags": [
     "hide_input"
    ]
   },
   "outputs": [
    {
     "name": "stdout",
     "output_type": "stream",
     "text": [
      "Proportion Treated:27%\n",
      "Average outcome under Control:-0.14±0.02\n",
      "Average outcome under Treatment:0.37±0.03\n",
      "Unadjusted treatment estimate 0.51\n"
     ]
    }
   ],
   "source": [
    "from direct_regression import print_unconditional_effects\n",
    "print_unconditional_effects(data, treatment, y0, y1)"
   ]
  },
  {
   "cell_type": "markdown",
   "id": "14",
   "metadata": {},
   "source": [
    "### Propensity model\n",
    "\n",
    "- Run primarily to check for violations over overlap assumptions."
   ]
  },
  {
   "cell_type": "code",
   "execution_count": 26,
   "id": "15",
   "metadata": {
    "tags": [
     "hide_cell"
    ]
   },
   "outputs": [],
   "source": [
    "from reed import visualise_propensity_model_performance\n",
    "from sklearn.model_selection import train_test_split\n",
    "from sklearn.linear_model import LogisticRegression, LogisticRegressionCV\n",
    "\n",
    "X_train, X_test, t_train, t_test = train_test_split(X,t,stratify=t)\n",
    "pmodel = LogisticRegressionCV(Cs = np.logspace(-5,-1,20), penalty='l2', max_iter=10000)\n",
    "pmodel.fit(X_train, t_train);"
   ]
  },
  {
   "cell_type": "code",
   "execution_count": 27,
   "id": "16",
   "metadata": {
    "tags": [
     "hide_input"
    ]
   },
   "outputs": [
    {
     "data": {
      "image/png": "[encoded data removed]",
      "text/plain": [
       "<Figure size 1080x360 with 2 Axes>"
      ]
     },
     "metadata": {
      "needs_background": "light"
     },
     "output_type": "display_data"
    }
   ],
   "source": [
    "visualise_propensity_model_performance(t_test, pmodel.predict_proba(X_test)[:,1],'l2-logistic',bins=10)"
   ]
  },
  {
   "cell_type": "code",
   "execution_count": 28,
   "id": "17",
   "metadata": {
    "tags": [
     "hide_input"
    ]
   },
   "outputs": [
    {
     "name": "stdout",
     "output_type": "stream",
     "text": [
      "Propensity Model Coefficients\n"
     ]
    },
    {
     "data": {
      "text/html": [
       "<div>\n",
       "<style scoped>\n",
       "    .dataframe tbody tr th:only-of-type {\n",
       "        vertical-align: middle;\n",
       "    }\n",
       "\n",
       "    .dataframe tbody tr th {\n",
       "        vertical-align: top;\n",
       "    }\n",
       "\n",
       "    .dataframe thead th {\n",
       "        text-align: right;\n",
       "    }\n",
       "</style>\n",
       "<table border=\"1\" class=\"dataframe\">\n",
       "  <thead>\n",
       "    <tr style=\"text-align: right;\">\n",
       "      <th></th>\n",
       "      <th>label</th>\n",
       "      <th>c</th>\n",
       "      <th>abs</th>\n",
       "    </tr>\n",
       "  </thead>\n",
       "  <tbody>\n",
       "    <tr>\n",
       "      <th>ahgage1</th>\n",
       "      <td>DV: Age last birthday at June 30 2001 - person 01</td>\n",
       "      <td>-0.138108</td>\n",
       "      <td>0.138108</td>\n",
       "    </tr>\n",
       "    <tr>\n",
       "      <th>ahsyrcad</th>\n",
       "      <td>DV: Years at current address</td>\n",
       "      <td>-0.119425</td>\n",
       "      <td>0.119425</td>\n",
       "    </tr>\n",
       "    <tr>\n",
       "      <th>awscoef</th>\n",
       "      <td>DV: Imputation flag current weekly gross wages &amp; salary - other jobs</td>\n",
       "      <td>0.118953</td>\n",
       "      <td>0.118953</td>\n",
       "    </tr>\n",
       "    <tr>\n",
       "      <th>ahhyng</th>\n",
       "      <td>DV: Age of youngest person in household</td>\n",
       "      <td>-0.115457</td>\n",
       "      <td>0.115457</td>\n",
       "    </tr>\n",
       "    <tr>\n",
       "      <th>atcnr</th>\n",
       "      <td>DV: Number of own non-resident children</td>\n",
       "      <td>-0.105068</td>\n",
       "      <td>0.105068</td>\n",
       "    </tr>\n",
       "    <tr>\n",
       "      <th>amhn10yr</th>\n",
       "      <td>K12 How many homes lived in during last 10 years</td>\n",
       "      <td>0.093771</td>\n",
       "      <td>0.093771</td>\n",
       "    </tr>\n",
       "    <tr>\n",
       "      <th>ajbempt</th>\n",
       "      <td>DV: Tenure with current employer (years)</td>\n",
       "      <td>-0.093120</td>\n",
       "      <td>0.093120</td>\n",
       "    </tr>\n",
       "    <tr>\n",
       "      <th>aehtjbyr</th>\n",
       "      <td>D3a1 Years in paid work</td>\n",
       "      <td>-0.093024</td>\n",
       "      <td>0.093024</td>\n",
       "    </tr>\n",
       "    <tr>\n",
       "      <th>aedhists</th>\n",
       "      <td>C2 Highest year of school completed/currently attending</td>\n",
       "      <td>-0.087047</td>\n",
       "      <td>0.087047</td>\n",
       "    </tr>\n",
       "    <tr>\n",
       "      <th>ajsl4wk</th>\n",
       "      <td>F1 Looked for work in last 4 weeks</td>\n",
       "      <td>0.084732</td>\n",
       "      <td>0.084732</td>\n",
       "    </tr>\n",
       "    <tr>\n",
       "      <th>ahgms</th>\n",
       "      <td>HF8 Living circumstances</td>\n",
       "      <td>0.079485</td>\n",
       "      <td>0.079485</td>\n",
       "    </tr>\n",
       "    <tr>\n",
       "      <th>aloimpew</th>\n",
       "      <td>K8 Importance - B Your employment and work situation</td>\n",
       "      <td>0.077726</td>\n",
       "      <td>0.077726</td>\n",
       "    </tr>\n",
       "    <tr>\n",
       "      <th>ahgsex</th>\n",
       "      <td>HF3 Sex</td>\n",
       "      <td>0.072130</td>\n",
       "      <td>0.072130</td>\n",
       "    </tr>\n",
       "    <tr>\n",
       "      <th>aloimprl</th>\n",
       "      <td>K8 Importance - H Religion</td>\n",
       "      <td>0.064121</td>\n",
       "      <td>0.064121</td>\n",
       "    </tr>\n",
       "    <tr>\n",
       "      <th>acpno</th>\n",
       "      <td>Q9 Uses child care while at work - Number of not yet at school children</td>\n",
       "      <td>-0.063787</td>\n",
       "      <td>0.063787</td>\n",
       "    </tr>\n",
       "    <tr>\n",
       "      <th>ahhec10</th>\n",
       "      <td>DV: SEIFA 2001 Decile of Index of economic resources</td>\n",
       "      <td>-0.062557</td>\n",
       "      <td>0.062557</td>\n",
       "    </tr>\n",
       "    <tr>\n",
       "      <th>ajbmwpsz</th>\n",
       "      <td>E33 Number employed at place of work</td>\n",
       "      <td>0.059284</td>\n",
       "      <td>0.059284</td>\n",
       "    </tr>\n",
       "    <tr>\n",
       "      <th>agh3a</th>\n",
       "      <td>SCQ:A3a Physical Functioning: Vigorous activities</td>\n",
       "      <td>0.056743</td>\n",
       "      <td>0.056743</td>\n",
       "    </tr>\n",
       "    <tr>\n",
       "      <th>awsfef</th>\n",
       "      <td>DV: Imputation flag financial year gross wages &amp; salary</td>\n",
       "      <td>0.055547</td>\n",
       "      <td>0.055547</td>\n",
       "    </tr>\n",
       "    <tr>\n",
       "      <th>aehtujyr</th>\n",
       "      <td>D3b1 Years unemployed and looking for work</td>\n",
       "      <td>-0.049547</td>\n",
       "      <td>0.049547</td>\n",
       "    </tr>\n",
       "  </tbody>\n",
       "</table>\n",
       "</div>"
      ],
      "text/plain": [
       "                                                                            label  \\\n",
       "ahgage1                         DV: Age last birthday at June 30 2001 - person 01   \n",
       "ahsyrcad                                             DV: Years at current address   \n",
       "awscoef      DV: Imputation flag current weekly gross wages & salary - other jobs   \n",
       "ahhyng                                    DV: Age of youngest person in household   \n",
       "atcnr                                     DV: Number of own non-resident children   \n",
       "amhn10yr                         K12 How many homes lived in during last 10 years   \n",
       "ajbempt                                  DV: Tenure with current employer (years)   \n",
       "aehtjbyr                                                  D3a1 Years in paid work   \n",
       "aedhists                  C2 Highest year of school completed/currently attending   \n",
       "ajsl4wk                                        F1 Looked for work in last 4 weeks   \n",
       "ahgms                                                    HF8 Living circumstances   \n",
       "aloimpew                     K8 Importance - B Your employment and work situation   \n",
       "ahgsex                                                                    HF3 Sex   \n",
       "aloimprl                                               K8 Importance - H Religion   \n",
       "acpno     Q9 Uses child care while at work - Number of not yet at school children   \n",
       "ahhec10                      DV: SEIFA 2001 Decile of Index of economic resources   \n",
       "ajbmwpsz                                     E33 Number employed at place of work   \n",
       "agh3a                           SCQ:A3a Physical Functioning: Vigorous activities   \n",
       "awsfef                    DV: Imputation flag financial year gross wages & salary   \n",
       "aehtujyr                               D3b1 Years unemployed and looking for work   \n",
       "\n",
       "                 c       abs  \n",
       "ahgage1  -0.138108  0.138108  \n",
       "ahsyrcad -0.119425  0.119425  \n",
       "awscoef   0.118953  0.118953  \n",
       "ahhyng   -0.115457  0.115457  \n",
       "atcnr    -0.105068  0.105068  \n",
       "amhn10yr  0.093771  0.093771  \n",
       "ajbempt  -0.093120  0.093120  \n",
       "aehtjbyr -0.093024  0.093024  \n",
       "aedhists -0.087047  0.087047  \n",
       "ajsl4wk   0.084732  0.084732  \n",
       "ahgms     0.079485  0.079485  \n",
       "aloimpew  0.077726  0.077726  \n",
       "ahgsex    0.072130  0.072130  \n",
       "aloimprl  0.064121  0.064121  \n",
       "acpno    -0.063787  0.063787  \n",
       "ahhec10  -0.062557  0.062557  \n",
       "ajbmwpsz  0.059284  0.059284  \n",
       "agh3a     0.056743  0.056743  \n",
       "awsfef    0.055547  0.055547  \n",
       "aehtujyr -0.049547  0.049547  "
      ]
     },
     "execution_count": 28,
     "metadata": {},
     "output_type": "execute_result"
    }
   ],
   "source": [
    "def propensity_coefficients(model, features):\n",
    "    if hasattr(model,'best_estimator_'):\n",
    "        model = model.best_estimator_\n",
    "    coef = model.coef_[0]\n",
    "    \n",
    "    with open('data/metadata.pkl','rb') as f:\n",
    "        meta = pickle.load(f)\n",
    "        labels = [meta.column_names_to_labels.get(f) for f in features]\n",
    "    return pd.DataFrame({'label': labels, \"c\":coef,'abs':np.abs(coef)},index=features).sort_values(by='abs',ascending=False).head(50)\n",
    "print(\"Propensity Model Coefficients\")      \n",
    "propensity_coefficients(pmodel, features).head(20)"
   ]
  },
  {
   "cell_type": "code",
   "execution_count": 30,
   "id": "18",
   "metadata": {
    "tags": [
     "hide_cell"
    ]
   },
   "outputs": [
    {
     "name": "stdout",
     "output_type": "stream",
     "text": [
      "Fitting Ridge ...Fitting 2 folds for each of 2 candidates, totalling 4 fits\n",
      "Fitting 2 folds for each of 2 candidates, totalling 4 fits\n",
      "Fitting 2 folds for each of 2 candidates, totalling 4 fits\n",
      "Fitting 2 folds for each of 2 candidates, totalling 4 fits\n",
      "Done\n",
      "Fitting gbr ...Fitting 2 folds for each of 3 candidates, totalling 6 fits\n",
      "Fitting 2 folds for each of 3 candidates, totalling 6 fits\n",
      "Fitting 2 folds for each of 3 candidates, totalling 6 fits\n",
      "Fitting 2 folds for each of 3 candidates, totalling 6 fits\n",
      "Done\n",
      "Caching results to data/cross-val-default.pkl\n"
     ]
    }
   ],
   "source": [
    "from direct_regression import nested_cross_val\n",
    "\n",
    "models0, models1, results = nested_cross_val(\n",
    "    model_init,\n",
    "    cross_val_cache,\n",
    "    X0, X1, y0, y1,\n",
    "    optimisation_metric,\n",
    "    evaluation_metrics,\n",
    "    innercv=inner_cv,\n",
    "    outercv=outer_cv,\n",
    "    load_from_cache=load_from_cache\n",
    ")"
   ]
  },
  {
   "cell_type": "markdown",
   "id": "19",
   "metadata": {},
   "source": [
    "### Report estimate ATE and model performance\n",
    "\n",
    "  - Mean and Std of prediction performance for each model (both treatment & control surface)\n",
    "  - Mean and Std of average treatment effect for each model"
   ]
  },
  {
   "cell_type": "code",
   "execution_count": 31,
   "id": "20",
   "metadata": {
    "scrolled": true
   },
   "outputs": [
    {
     "data": {
      "text/html": [
       "<div>\n",
       "<style scoped>\n",
       "    .dataframe tbody tr th:only-of-type {\n",
       "        vertical-align: middle;\n",
       "    }\n",
       "\n",
       "    .dataframe tbody tr th {\n",
       "        vertical-align: top;\n",
       "    }\n",
       "\n",
       "    .dataframe thead th {\n",
       "        text-align: right;\n",
       "    }\n",
       "</style>\n",
       "<table border=\"1\" class=\"dataframe\">\n",
       "  <thead>\n",
       "    <tr style=\"text-align: right;\">\n",
       "      <th></th>\n",
       "      <th>ACE</th>\n",
       "      <th>ACE_std</th>\n",
       "      <th>control_r2</th>\n",
       "      <th>control_r2_std</th>\n",
       "      <th>treated_r2</th>\n",
       "      <th>treated_r2_std</th>\n",
       "      <th>control_neg_mean_squared_error</th>\n",
       "      <th>control_neg_mean_squared_error_std</th>\n",
       "      <th>treated_neg_mean_squared_error</th>\n",
       "      <th>treated_neg_mean_squared_error_std</th>\n",
       "    </tr>\n",
       "  </thead>\n",
       "  <tbody>\n",
       "    <tr>\n",
       "      <th>Ridge</th>\n",
       "      <td>0.38</td>\n",
       "      <td>0.02</td>\n",
       "      <td>0.33</td>\n",
       "      <td>0.01</td>\n",
       "      <td>0.06</td>\n",
       "      <td>0.00</td>\n",
       "      <td>-0.62</td>\n",
       "      <td>0.00</td>\n",
       "      <td>-0.96</td>\n",
       "      <td>0.00</td>\n",
       "    </tr>\n",
       "    <tr>\n",
       "      <th>gbr</th>\n",
       "      <td>0.16</td>\n",
       "      <td>0.03</td>\n",
       "      <td>0.44</td>\n",
       "      <td>0.00</td>\n",
       "      <td>0.23</td>\n",
       "      <td>0.01</td>\n",
       "      <td>-0.52</td>\n",
       "      <td>0.00</td>\n",
       "      <td>-0.79</td>\n",
       "      <td>0.03</td>\n",
       "    </tr>\n",
       "  </tbody>\n",
       "</table>\n",
       "</div>"
      ],
      "text/plain": [
       "       ACE  ACE_std  control_r2  control_r2_std  treated_r2  treated_r2_std  \\\n",
       "Ridge 0.38     0.02        0.33            0.01        0.06            0.00   \n",
       "gbr   0.16     0.03        0.44            0.00        0.23            0.01   \n",
       "\n",
       "       control_neg_mean_squared_error  control_neg_mean_squared_error_std  \\\n",
       "Ridge                           -0.62                                0.00   \n",
       "gbr                             -0.52                                0.00   \n",
       "\n",
       "       treated_neg_mean_squared_error  treated_neg_mean_squared_error_std  \n",
       "Ridge                           -0.96                                0.00  \n",
       "gbr                             -0.79                                0.03  "
      ]
     },
     "metadata": {},
     "output_type": "display_data"
    },
    {
     "data": {
      "image/png": "[encoded data removed]",
      "text/plain": [
       "<Figure size 1080x360 with 2 Axes>"
      ]
     },
     "metadata": {
      "needs_background": "light"
     },
     "output_type": "display_data"
    }
   ],
   "source": [
    "from direct_regression import visualise_ate\n",
    "metrics, ate_vals = visualise_ate(results,X,evaluation_metrics);"
   ]
  },
  {
   "cell_type": "code",
   "execution_count": 32,
   "id": "21",
   "metadata": {},
   "outputs": [
    {
     "data": {
      "image/png": "[encoded data removed]",
      "text/plain": [
       "<Figure size 720x360 with 2 Axes>"
      ]
     },
     "metadata": {
      "needs_background": "light"
     },
     "output_type": "display_data"
    }
   ],
   "source": [
    "from direct_regression import plot_ate_distribution\n",
    "plot_ate_distribution(ate_vals)"
   ]
  },
  {
   "cell_type": "code",
   "execution_count": 33,
   "id": "22",
   "metadata": {},
   "outputs": [
    {
     "data": {
      "image/png": "[encoded data removed]",
      "text/plain": [
       "<Figure size 360x288 with 1 Axes>"
      ]
     },
     "metadata": {
      "needs_background": "light"
     },
     "output_type": "display_data"
    },
    {
     "data": {
      "image/png": "[encoded data removed]",
      "text/plain": [
       "<Figure size 360x288 with 1 Axes>"
      ]
     },
     "metadata": {
      "needs_background": "light"
     },
     "output_type": "display_data"
    },
    {
     "data": {
      "image/png": "[encoded data removed]",
      "text/plain": [
       "<Figure size 360x288 with 1 Axes>"
      ]
     },
     "metadata": {
      "needs_background": "light"
     },
     "output_type": "display_data"
    },
    {
     "data": {
      "image/png": "[encoded data removed]",
      "text/plain": [
       "<Figure size 360x288 with 1 Axes>"
      ]
     },
     "metadata": {
      "needs_background": "light"
     },
     "output_type": "display_data"
    }
   ],
   "source": [
    "from direct_regression import plot_hyperparam_distributions\n",
    "for model, (results0, results1) in results.items():\n",
    "    plot_hyperparam_distributions(results0,f\"{model}-control\")\n",
    "    plot_hyperparam_distributions(results1,f\"{model}-treated\")"
   ]
  },
  {
   "cell_type": "markdown",
   "id": "23",
   "metadata": {},
   "source": [
    "### Visualise models\n",
    "- Features responsible for treatment effect heterogeneity & functional form (with uncertainty)\n",
    "      - coefficeints for linear models\n",
    "      - TODO permutation importance & partial dependence curves for non-linear models"
   ]
  },
  {
   "cell_type": "code",
   "execution_count": 34,
   "id": "24",
   "metadata": {
    "tags": [
     "hide_input"
    ]
   },
   "outputs": [
    {
     "name": "stdout",
     "output_type": "stream",
     "text": [
      "Ridge\n"
     ]
    },
    {
     "data": {
      "text/html": [
       "<div>\n",
       "<style scoped>\n",
       "    .dataframe tbody tr th:only-of-type {\n",
       "        vertical-align: middle;\n",
       "    }\n",
       "\n",
       "    .dataframe tbody tr th {\n",
       "        vertical-align: top;\n",
       "    }\n",
       "\n",
       "    .dataframe thead th {\n",
       "        text-align: right;\n",
       "    }\n",
       "</style>\n",
       "<table border=\"1\" class=\"dataframe\">\n",
       "  <thead>\n",
       "    <tr style=\"text-align: right;\">\n",
       "      <th></th>\n",
       "      <th>importance_mean</th>\n",
       "      <th>importance_std</th>\n",
       "      <th>Δcoef_mean</th>\n",
       "      <th>Δcoef_std</th>\n",
       "      <th>coef_treat_mean</th>\n",
       "      <th>coef_treat_std</th>\n",
       "      <th>coef_cntr_mean</th>\n",
       "      <th>coef_cntr_std</th>\n",
       "    </tr>\n",
       "    <tr>\n",
       "      <th>feature</th>\n",
       "      <th></th>\n",
       "      <th></th>\n",
       "      <th></th>\n",
       "      <th></th>\n",
       "      <th></th>\n",
       "      <th></th>\n",
       "      <th></th>\n",
       "      <th></th>\n",
       "    </tr>\n",
       "  </thead>\n",
       "  <tbody>\n",
       "    <tr>\n",
       "      <th>atifditp</th>\n",
       "      <td>0.104162</td>\n",
       "      <td>0.028513</td>\n",
       "      <td>-0.200882</td>\n",
       "      <td>0.059660</td>\n",
       "      <td>0.003721</td>\n",
       "      <td>0.001317</td>\n",
       "      <td>0.204603</td>\n",
       "      <td>0.058343</td>\n",
       "    </tr>\n",
       "    <tr>\n",
       "      <th>ahgage1</th>\n",
       "      <td>0.091092</td>\n",
       "      <td>0.006577</td>\n",
       "      <td>0.145425</td>\n",
       "      <td>0.010960</td>\n",
       "      <td>-0.018379</td>\n",
       "      <td>0.001097</td>\n",
       "      <td>-0.163804</td>\n",
       "      <td>0.012057</td>\n",
       "    </tr>\n",
       "    <tr>\n",
       "      <th>awscme</th>\n",
       "      <td>0.068150</td>\n",
       "      <td>0.033681</td>\n",
       "      <td>-0.126600</td>\n",
       "      <td>0.066590</td>\n",
       "      <td>0.004850</td>\n",
       "      <td>0.000386</td>\n",
       "      <td>0.131450</td>\n",
       "      <td>0.066976</td>\n",
       "    </tr>\n",
       "    <tr>\n",
       "      <th>atxtottp</th>\n",
       "      <td>0.057563</td>\n",
       "      <td>0.035852</td>\n",
       "      <td>0.115125</td>\n",
       "      <td>0.071703</td>\n",
       "      <td>0.002072</td>\n",
       "      <td>0.000560</td>\n",
       "      <td>-0.113053</td>\n",
       "      <td>0.072263</td>\n",
       "    </tr>\n",
       "    <tr>\n",
       "      <th>ahh0_4</th>\n",
       "      <td>0.053033</td>\n",
       "      <td>0.000571</td>\n",
       "      <td>-0.083413</td>\n",
       "      <td>0.000024</td>\n",
       "      <td>0.011326</td>\n",
       "      <td>0.000559</td>\n",
       "      <td>0.094739</td>\n",
       "      <td>0.000583</td>\n",
       "    </tr>\n",
       "    <tr>\n",
       "      <th>aehtjbyr</th>\n",
       "      <td>0.050991</td>\n",
       "      <td>0.012539</td>\n",
       "      <td>0.075724</td>\n",
       "      <td>0.023724</td>\n",
       "      <td>-0.013129</td>\n",
       "      <td>0.000677</td>\n",
       "      <td>-0.088853</td>\n",
       "      <td>0.024400</td>\n",
       "    </tr>\n",
       "    <tr>\n",
       "      <th>ahhd5_9</th>\n",
       "      <td>0.044204</td>\n",
       "      <td>0.003695</td>\n",
       "      <td>-0.074304</td>\n",
       "      <td>0.008096</td>\n",
       "      <td>0.007052</td>\n",
       "      <td>0.000353</td>\n",
       "      <td>0.081356</td>\n",
       "      <td>0.007743</td>\n",
       "    </tr>\n",
       "    <tr>\n",
       "      <th>atcnr</th>\n",
       "      <td>0.040761</td>\n",
       "      <td>0.001873</td>\n",
       "      <td>0.054592</td>\n",
       "      <td>0.001295</td>\n",
       "      <td>-0.013465</td>\n",
       "      <td>0.001225</td>\n",
       "      <td>-0.068057</td>\n",
       "      <td>0.002521</td>\n",
       "    </tr>\n",
       "    <tr>\n",
       "      <th>ahh10_14</th>\n",
       "      <td>0.038345</td>\n",
       "      <td>0.006200</td>\n",
       "      <td>-0.008768</td>\n",
       "      <td>0.108455</td>\n",
       "      <td>-0.001170</td>\n",
       "      <td>0.002347</td>\n",
       "      <td>0.007598</td>\n",
       "      <td>0.106108</td>\n",
       "    </tr>\n",
       "    <tr>\n",
       "      <th>ahsyrcad</th>\n",
       "      <td>0.037354</td>\n",
       "      <td>0.001704</td>\n",
       "      <td>0.061343</td>\n",
       "      <td>0.002780</td>\n",
       "      <td>-0.006683</td>\n",
       "      <td>0.000314</td>\n",
       "      <td>-0.068026</td>\n",
       "      <td>0.003094</td>\n",
       "    </tr>\n",
       "    <tr>\n",
       "      <th>ahifapti</th>\n",
       "      <td>0.037245</td>\n",
       "      <td>0.011714</td>\n",
       "      <td>0.062375</td>\n",
       "      <td>0.027118</td>\n",
       "      <td>-0.006058</td>\n",
       "      <td>0.001845</td>\n",
       "      <td>-0.068433</td>\n",
       "      <td>0.025273</td>\n",
       "    </tr>\n",
       "    <tr>\n",
       "      <th>ahhyng</th>\n",
       "      <td>0.037193</td>\n",
       "      <td>0.020757</td>\n",
       "      <td>0.050644</td>\n",
       "      <td>0.040824</td>\n",
       "      <td>-0.011871</td>\n",
       "      <td>0.000345</td>\n",
       "      <td>-0.062515</td>\n",
       "      <td>0.041169</td>\n",
       "    </tr>\n",
       "    <tr>\n",
       "      <th>ahhd1014</th>\n",
       "      <td>0.036849</td>\n",
       "      <td>0.032318</td>\n",
       "      <td>-0.047761</td>\n",
       "      <td>0.100589</td>\n",
       "      <td>-0.001028</td>\n",
       "      <td>0.001818</td>\n",
       "      <td>0.046732</td>\n",
       "      <td>0.102406</td>\n",
       "    </tr>\n",
       "    <tr>\n",
       "      <th>aoifinvp</th>\n",
       "      <td>0.035975</td>\n",
       "      <td>0.031471</td>\n",
       "      <td>0.043953</td>\n",
       "      <td>0.100970</td>\n",
       "      <td>-0.001933</td>\n",
       "      <td>0.001951</td>\n",
       "      <td>-0.045886</td>\n",
       "      <td>0.099019</td>\n",
       "    </tr>\n",
       "    <tr>\n",
       "      <th>ahiwsfei</th>\n",
       "      <td>0.035960</td>\n",
       "      <td>0.010131</td>\n",
       "      <td>0.071921</td>\n",
       "      <td>0.020262</td>\n",
       "      <td>0.006091</td>\n",
       "      <td>0.000733</td>\n",
       "      <td>-0.065830</td>\n",
       "      <td>0.020995</td>\n",
       "    </tr>\n",
       "    <tr>\n",
       "      <th>abifn</th>\n",
       "      <td>0.035675</td>\n",
       "      <td>0.013447</td>\n",
       "      <td>0.019018</td>\n",
       "      <td>0.100904</td>\n",
       "      <td>0.000203</td>\n",
       "      <td>0.002737</td>\n",
       "      <td>-0.018814</td>\n",
       "      <td>0.098167</td>\n",
       "    </tr>\n",
       "    <tr>\n",
       "      <th>aicprob</th>\n",
       "      <td>0.034426</td>\n",
       "      <td>0.000764</td>\n",
       "      <td>-0.046434</td>\n",
       "      <td>0.003819</td>\n",
       "      <td>0.011210</td>\n",
       "      <td>0.001146</td>\n",
       "      <td>0.057643</td>\n",
       "      <td>0.002673</td>\n",
       "    </tr>\n",
       "    <tr>\n",
       "      <th>ahiwscei</th>\n",
       "      <td>0.033528</td>\n",
       "      <td>0.026869</td>\n",
       "      <td>0.042754</td>\n",
       "      <td>0.088106</td>\n",
       "      <td>0.004999</td>\n",
       "      <td>0.000343</td>\n",
       "      <td>-0.037755</td>\n",
       "      <td>0.087763</td>\n",
       "    </tr>\n",
       "    <tr>\n",
       "      <th>abnfnis</th>\n",
       "      <td>0.032538</td>\n",
       "      <td>0.003760</td>\n",
       "      <td>0.065075</td>\n",
       "      <td>0.007520</td>\n",
       "      <td>0.001454</td>\n",
       "      <td>0.001845</td>\n",
       "      <td>-0.063622</td>\n",
       "      <td>0.005675</td>\n",
       "    </tr>\n",
       "    <tr>\n",
       "      <th>abifip</th>\n",
       "      <td>0.031297</td>\n",
       "      <td>0.001119</td>\n",
       "      <td>0.059191</td>\n",
       "      <td>0.001924</td>\n",
       "      <td>-0.001701</td>\n",
       "      <td>0.000156</td>\n",
       "      <td>-0.060892</td>\n",
       "      <td>0.002081</td>\n",
       "    </tr>\n",
       "  </tbody>\n",
       "</table>\n",
       "</div>"
      ],
      "text/plain": [
       "          importance_mean  importance_std  Δcoef_mean  Δcoef_std  \\\n",
       "feature                                                            \n",
       "atifditp         0.104162        0.028513   -0.200882   0.059660   \n",
       "ahgage1          0.091092        0.006577    0.145425   0.010960   \n",
       "awscme           0.068150        0.033681   -0.126600   0.066590   \n",
       "atxtottp         0.057563        0.035852    0.115125   0.071703   \n",
       "ahh0_4           0.053033        0.000571   -0.083413   0.000024   \n",
       "aehtjbyr         0.050991        0.012539    0.075724   0.023724   \n",
       "ahhd5_9          0.044204        0.003695   -0.074304   0.008096   \n",
       "atcnr            0.040761        0.001873    0.054592   0.001295   \n",
       "ahh10_14         0.038345        0.006200   -0.008768   0.108455   \n",
       "ahsyrcad         0.037354        0.001704    0.061343   0.002780   \n",
       "ahifapti         0.037245        0.011714    0.062375   0.027118   \n",
       "ahhyng           0.037193        0.020757    0.050644   0.040824   \n",
       "ahhd1014         0.036849        0.032318   -0.047761   0.100589   \n",
       "aoifinvp         0.035975        0.031471    0.043953   0.100970   \n",
       "ahiwsfei         0.035960        0.010131    0.071921   0.020262   \n",
       "abifn            0.035675        0.013447    0.019018   0.100904   \n",
       "aicprob          0.034426        0.000764   -0.046434   0.003819   \n",
       "ahiwscei         0.033528        0.026869    0.042754   0.088106   \n",
       "abnfnis          0.032538        0.003760    0.065075   0.007520   \n",
       "abifip           0.031297        0.001119    0.059191   0.001924   \n",
       "\n",
       "          coef_treat_mean  coef_treat_std  coef_cntr_mean  coef_cntr_std  \n",
       "feature                                                                   \n",
       "atifditp         0.003721        0.001317        0.204603       0.058343  \n",
       "ahgage1         -0.018379        0.001097       -0.163804       0.012057  \n",
       "awscme           0.004850        0.000386        0.131450       0.066976  \n",
       "atxtottp         0.002072        0.000560       -0.113053       0.072263  \n",
       "ahh0_4           0.011326        0.000559        0.094739       0.000583  \n",
       "aehtjbyr        -0.013129        0.000677       -0.088853       0.024400  \n",
       "ahhd5_9          0.007052        0.000353        0.081356       0.007743  \n",
       "atcnr           -0.013465        0.001225       -0.068057       0.002521  \n",
       "ahh10_14        -0.001170        0.002347        0.007598       0.106108  \n",
       "ahsyrcad        -0.006683        0.000314       -0.068026       0.003094  \n",
       "ahifapti        -0.006058        0.001845       -0.068433       0.025273  \n",
       "ahhyng          -0.011871        0.000345       -0.062515       0.041169  \n",
       "ahhd1014        -0.001028        0.001818        0.046732       0.102406  \n",
       "aoifinvp        -0.001933        0.001951       -0.045886       0.099019  \n",
       "ahiwsfei         0.006091        0.000733       -0.065830       0.020995  \n",
       "abifn            0.000203        0.002737       -0.018814       0.098167  \n",
       "aicprob          0.011210        0.001146        0.057643       0.002673  \n",
       "ahiwscei         0.004999        0.000343       -0.037755       0.087763  \n",
       "abnfnis          0.001454        0.001845       -0.063622       0.005675  \n",
       "abifip          -0.001701        0.000156       -0.060892       0.002081  "
      ]
     },
     "metadata": {},
     "output_type": "display_data"
    }
   ],
   "source": [
    "from direct_regression import display_feature_importance\n",
    "display_feature_importance(models0, models1, results, features);"
   ]
  },
  {
   "cell_type": "markdown",
   "id": "25",
   "metadata": {},
   "source": [
    "### Compare against OLS on basic variables"
   ]
  },
  {
   "cell_type": "code",
   "execution_count": 35,
   "id": "26",
   "metadata": {
    "tags": [
     "hide_input"
    ]
   },
   "outputs": [
    {
     "name": "stdout",
     "output_type": "stream",
     "text": [
      "Dropped 284 rows missing treatment or outcome.\n",
      "Fitting OLS ...Done\n",
      "Caching results to data/tmp.pkl\n"
     ]
    }
   ],
   "source": [
    "basic = pd.read_csv(\"data/basic_variables.csv\",index_col='xwaveid')\n",
    "drop_missing_treatment_or_outcome(basic, treatment, outcome)\n",
    "basic[outcome] = transform_outcome(basic[outcome],log_outcome, standardize_outcome)\n",
    "\n",
    "    \n",
    "X0b, X1b, y0b, y1b, Xb, yb, tb, featuresb = seperate_and_transform_data(basic, treatment, outcome)\n",
    "\n",
    "def construct_basic_model():\n",
    "    models = [\n",
    "        Model('OLS',LinearRegression(),importance_func=importance_from_coef)\n",
    "    ]\n",
    "    return models\n",
    "\n",
    "modelsb0, modelsb1, resultsb = nested_cross_val(\n",
    "    construct_basic_model,\n",
    "    \"data/tmp.pkl\",\n",
    "    X0b, X1b, y0b, y1b,\n",
    "    optimisation_metric,\n",
    "    evaluation_metrics,\n",
    "    innercv=inner_cv,\n",
    "    outercv=outer_cv,\n",
    "    load_from_cache=False)"
   ]
  },
  {
   "cell_type": "code",
   "execution_count": 36,
   "id": "27",
   "metadata": {},
   "outputs": [
    {
     "data": {
      "image/png": "[encoded data removed]",
      "text/plain": [
       "<Figure size 1080x360 with 2 Axes>"
      ]
     },
     "metadata": {
      "needs_background": "light"
     },
     "output_type": "display_data"
    }
   ],
   "source": [
    "from sklearn.metrics import r2_score\n",
    "y0b = resultsb['OLS'][0]['estimator'][0].predict(X0b)\n",
    "y1b = resultsb['OLS'][1]['estimator'][0].predict(X1b)\n",
    "fig, ax = plt.subplots(1,2, figsize=(15,5))\n",
    "ax[0].scatter(y0, y0b,s=10,alpha=0.1)\n",
    "ax[0].set_xlabel('y0')\n",
    "ax[0].set_ylabel('$\\\\hat{y}0$');\n",
    "ax[0].set_title(f'Control (OLS-basic), $R^2={r2_score(y0,y0b):.2f}$')\n",
    "\n",
    "ax[1].scatter(y1, y1b,s=10,alpha=0.1)\n",
    "ax[1].set_xlabel('y1')\n",
    "ax[1].set_ylabel('$\\\\hat{y}1$');\n",
    "ax[1].set_title(f'Treated (OLS-basic), $R^2={r2_score(y1,y1b):.2f}$');\n"
   ]
  },
  {
   "cell_type": "code",
   "execution_count": 37,
   "id": "28",
   "metadata": {
    "tags": [
     "hide_input"
    ]
   },
   "outputs": [],
   "source": [
    "if 'ridge' in results.keys():\n",
    "    y0a = results['ridge'][0]['estimator'][4].predict(X0)\n",
    "    y1a = results['ridge'][1]['estimator'][4].predict(X1)\n",
    "    fig, ax = plt.subplots(1,2, figsize=(15,5))\n",
    "    ax[0].scatter(y0, y0a,s=10,alpha=0.1)\n",
    "    ax[0].set_xlabel('y0')\n",
    "    ax[0].set_ylabel('$\\\\hat{y}0$');\n",
    "    ax[0].set_title(f'Control (ridge), $R^2={r2_score(y0,y0a):.2f}$')\n",
    "\n",
    "    ax[1].scatter(y1, y1a,s=10,alpha=0.1)\n",
    "    ax[1].set_xlabel('y1')\n",
    "    ax[1].set_ylabel('$\\\\hat{y}1$');\n",
    "    ax[1].set_title(f'Treated (ridge), $R^2={r2_score(y1,y1a):.2f}$');\n",
    "\n",
    "# think about why these r2 scores are higher than on the holdout set (and whether they are likely overfitting)\n",
    "# despite there being so few variables"
   ]
  },
  {
   "cell_type": "code",
   "execution_count": 38,
   "id": "29",
   "metadata": {
    "scrolled": true,
    "tags": [
     "hide_cell"
    ]
   },
   "outputs": [
    {
     "name": "stdout",
     "output_type": "stream",
     "text": [
      "Fitting Ridge ...Fitting 2 folds for each of 2 candidates, totalling 4 fits\n",
      "Fitting 2 folds for each of 2 candidates, totalling 4 fits\n",
      "Fitting 2 folds for each of 2 candidates, totalling 4 fits\n",
      "Fitting 2 folds for each of 2 candidates, totalling 4 fits\n",
      "Fitting 2 folds for each of 2 candidates, totalling 4 fits\n",
      "Fitting 2 folds for each of 2 candidates, totalling 4 fits\n",
      "Done\n",
      "Fitting gbr ...Fitting 2 folds for each of 3 candidates, totalling 6 fits\n",
      "Fitting 2 folds for each of 3 candidates, totalling 6 fits\n",
      "Fitting 2 folds for each of 3 candidates, totalling 6 fits\n",
      "Fitting 2 folds for each of 3 candidates, totalling 6 fits\n",
      "Fitting 2 folds for each of 3 candidates, totalling 6 fits\n",
      "Fitting 2 folds for each of 3 candidates, totalling 6 fits\n",
      "Done\n",
      "Total time:5.006101131439209 seconds\n",
      "Caching results to: data/bootstrap-default.pkl\n"
     ]
    }
   ],
   "source": [
    "from direct_regression import bootstrapped_cross_val\n",
    "def extract_params(estimator):\n",
    "    return estimator.coef_\n",
    "\n",
    "\n",
    "bootstrap_results = bootstrapped_cross_val(\n",
    "    model_init,\n",
    "    bootstrap_cache,\n",
    "    X0, X1, y0, y1,\n",
    "    optimisation_metric,\n",
    "    extract_params,\n",
    "    inner_cv=inner_cv,\n",
    "    load_from_cache=load_from_cache,\n",
    "    samples=bootstrap_samples\n",
    ")"
   ]
  },
  {
   "cell_type": "markdown",
   "id": "30",
   "metadata": {},
   "source": [
    "####  Average treatment effects"
   ]
  },
  {
   "cell_type": "code",
   "execution_count": 39,
   "id": "31",
   "metadata": {
    "tags": [
     "hide_input"
    ]
   },
   "outputs": [
    {
     "data": {
      "text/html": [
       "<div>\n",
       "<style scoped>\n",
       "    .dataframe tbody tr th:only-of-type {\n",
       "        vertical-align: middle;\n",
       "    }\n",
       "\n",
       "    .dataframe tbody tr th {\n",
       "        vertical-align: top;\n",
       "    }\n",
       "\n",
       "    .dataframe thead th {\n",
       "        text-align: right;\n",
       "    }\n",
       "</style>\n",
       "<table border=\"1\" class=\"dataframe\">\n",
       "  <thead>\n",
       "    <tr style=\"text-align: right;\">\n",
       "      <th></th>\n",
       "      <th>ACE</th>\n",
       "      <th>ACE_std</th>\n",
       "    </tr>\n",
       "  </thead>\n",
       "  <tbody>\n",
       "    <tr>\n",
       "      <th>Ridge</th>\n",
       "      <td>0.365114</td>\n",
       "      <td>0.015801</td>\n",
       "    </tr>\n",
       "    <tr>\n",
       "      <th>gbr</th>\n",
       "      <td>0.125977</td>\n",
       "      <td>0.014485</td>\n",
       "    </tr>\n",
       "  </tbody>\n",
       "</table>\n",
       "</div>"
      ],
      "text/plain": [
       "            ACE   ACE_std\n",
       "Ridge  0.365114  0.015801\n",
       "gbr    0.125977  0.014485"
      ]
     },
     "execution_count": 39,
     "metadata": {},
     "output_type": "execute_result"
    }
   ],
   "source": [
    "from direct_regression import compute_ate\n",
    "metrics, tau_estimatesb = compute_ate(bootstrap_results,X)\n",
    "metrics"
   ]
  },
  {
   "cell_type": "code",
   "execution_count": 40,
   "id": "32",
   "metadata": {},
   "outputs": [
    {
     "data": {
      "image/png": "[encoded data removed]",
      "text/plain": [
       "<Figure size 720x360 with 2 Axes>"
      ]
     },
     "metadata": {
      "needs_background": "light"
     },
     "output_type": "display_data"
    }
   ],
   "source": [
    "plot_ate_distribution(tau_estimatesb)"
   ]
  },
  {
   "cell_type": "markdown",
   "id": "33",
   "metadata": {},
   "source": [
    "#### Distribution of hyper-parameters"
   ]
  },
  {
   "cell_type": "code",
   "execution_count": 41,
   "id": "34",
   "metadata": {
    "tags": [
     "hide_input"
    ]
   },
   "outputs": [
    {
     "data": {
      "image/png": "[encoded data removed]",
      "text/plain": [
       "<Figure size 360x288 with 1 Axes>"
      ]
     },
     "metadata": {
      "needs_background": "light"
     },
     "output_type": "display_data"
    },
    {
     "data": {
      "image/png": "[encoded data removed]",
      "text/plain": [
       "<Figure size 360x288 with 1 Axes>"
      ]
     },
     "metadata": {
      "needs_background": "light"
     },
     "output_type": "display_data"
    },
    {
     "data": {
      "image/png": "[encoded data removed]",
      "text/plain": [
       "<Figure size 360x288 with 1 Axes>"
      ]
     },
     "metadata": {
      "needs_background": "light"
     },
     "output_type": "display_data"
    },
    {
     "data": {
      "image/png": "[encoded data removed]",
      "text/plain": [
       "<Figure size 360x288 with 1 Axes>"
      ]
     },
     "metadata": {
      "needs_background": "light"
     },
     "output_type": "display_data"
    }
   ],
   "source": [
    "from direct_regression import plot_hyperparam_distributions\n",
    "for model, (results0, results1) in bootstrap_results.items():\n",
    "    plot_hyperparam_distributions(results0,f\"{model}-control\")\n",
    "    plot_hyperparam_distributions(results1,f\"{model}-treated\")"
   ]
  }
 ],
 "metadata": {
  "celltoolbar": "Tags",
  "kernelspec": {
   "display_name": "Python 3 (ipykernel)",
   "language": "python",
   "name": "python3"
  },
  "language_info": {
   "codemirror_mode": {
    "name": "ipython",
    "version": 3
   },
   "file_extension": ".py",
   "mimetype": "text/x-python",
   "name": "python",
   "nbconvert_exporter": "python",
   "pygments_lexer": "ipython3",
   "version": "3.9.7"
  }
 },
 "nbformat": 4,
 "nbformat_minor": 5
}
