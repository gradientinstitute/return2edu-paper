{
 "cells": [
  {
   "cell_type": "markdown",
   "id": "0",
   "metadata": {
    "tags": [
     "Overview"
    ]
   },
   "source": [
    "# Direct Regression - Bayesian Version\n",
    "\n",
    "## Response Model\n",
    "\n",
    "How well can we predict outcomes $Y$ conditional on treatment $T$ and other covariates $Z$?\n",
    "\n",
    "### Treatent variables\n",
    "\n",
    "   - **reduhl**\tCompleted re-education based on highest level of attainment\n",
    "   - **redudl**\tCompleted re-education based on detailed qualifications\n",
    "   - **redufl**\tCompleted re-education using highest lvl and detailed qualifications.\n",
    "\n",
    "### Outcome variables\n",
    "   - Mental health in 2019 (**mh**). This is the transformed mental health scores from the aggregation of mental health items of the SF-36 Health Survey, as reported by the individual in 2019. It ranges from 0 to 100, with higher scores indicating better mental health.  \n",
    "   - Working hours in 2019 (**wkhr**) records the total number of hours the individual works in all jobs in a week on average. Working hours are set to 0 for those not working. \n",
    "   - Hourly Wages in 2019 (**rlwage**) records the average hourly wage for the individual’s main job in 2019. Hourly wages are set to 0 for those not working and set to missing for those reporting working more than 100 hours a week. \n",
    "   \n",
    "#### Columns explicitly excluded\n",
    "   - **xwaveid** (unique identifier)\n",
    "   - **p_rcom*** (timing of completion of re-education, proxies treatment) TODO think about how we would include this\n",
    "   - **p_cotrl** (first avail 2003)\n",
    "   - **p_rdf*** (first avail 2012)"
   ]
  },
  {
   "cell_type": "code",
   "execution_count": 1,
   "id": "1",
   "metadata": {
    "tags": [
     "hide_cell"
    ]
   },
   "outputs": [],
   "source": [
    "import numpy as np\n",
    "import pandas as pd\n",
    "import statsmodels.api as sm\n",
    "import matplotlib.pyplot as plt\n",
    "\n",
    "from scipy.stats import norm, mstats\n",
    "from cinspect.estimators import BayesianRidgeStat\n",
    "from sklearn.gaussian_process import GaussianProcessRegressor\n",
    "from sklearn.gaussian_process.kernels import WhiteKernel, Matern, DotProduct\n",
    "from sklearn.model_selection import cross_validate, KFold\n",
    "\n",
    "from reed import drop_missing_treatment_or_outcome, Model, transform_outcome\n",
    "from direct_regression import seperate_and_transform_data, print_unconditional_effects\n",
    "\n",
    "%matplotlib inline"
   ]
  },
  {
   "cell_type": "markdown",
   "id": "2",
   "metadata": {},
   "source": [
    "## Analysis Parameters"
   ]
  },
  {
   "cell_type": "code",
   "execution_count": 2,
   "id": "3",
   "metadata": {
    "tags": [
     "parameters"
    ]
   },
   "outputs": [],
   "source": [
    "#optimisation_metric = 'neg_mean_squared_error'\n",
    "#evaluation_metrics = ('r2','neg_mean_squared_error')\n",
    "log_outcome=True\n",
    "standardize_outcome=True\n",
    "#load_from_cache=False\n",
    "exclude_patterns = [\n",
    "    '^reduhl$', '^rehllt$', '^redudl$', '^redufl$', '^redllt$', '^refllt$',\n",
    "    '^rlwage$', '^mh$', '^mhbm$', '^wkhr$', '^y_', '^p_rcom','^p_rdf','^p_cotrl',\n",
    "    '^xwaveid$','p_rcom18','^aedcq', '^abnfsty','^aedcqfpt','^aedqstdy'\n",
    "]\n",
    "data_load_func = lambda filepath: pd.read_csv(filepath, index_col='xwaveid')\n",
    "\n",
    "#configuration_name = 'default'\n",
    "outcome = 'y_wsce'\n",
    "treatment = 'redufl'\n",
    "test=False\n",
    "data_file = \"data/all_lasso_selected_100.csv\""
   ]
  },
  {
   "cell_type": "markdown",
   "id": "4",
   "metadata": {},
   "source": [
    "## Load the data"
   ]
  },
  {
   "cell_type": "code",
   "execution_count": 3,
   "id": "5",
   "metadata": {
    "tags": [
     "hide_cell"
    ]
   },
   "outputs": [
    {
     "name": "stdout",
     "output_type": "stream",
     "text": [
      "Dropped 284 rows missing treatment or outcome.\n"
     ]
    },
    {
     "data": {
      "image/png": "[encoded data removed]",
      "text/plain": [
       "<Figure size 432x288 with 1 Axes>"
      ]
     },
     "metadata": {
      "needs_background": "light"
     },
     "output_type": "display_data"
    }
   ],
   "source": [
    "data = data_load_func(data_file)\n",
    "drop_missing_treatment_or_outcome(data, treatment, outcome)\n",
    "data[outcome] = transform_outcome(data[outcome],log_outcome, standardize_outcome)\n",
    "\n",
    "    \n",
    "plt.hist(data[outcome])\n",
    "plt.xlabel(outcome)\n",
    "plt.ylabel(\"count\")\n",
    "plt.title(\"Distribution of outcomes\");"
   ]
  },
  {
   "cell_type": "markdown",
   "id": "6",
   "metadata": {},
   "source": [
    "## Prepare data for modeling\n",
    "\n",
    "- split into treated/control\n",
    "- impute missing values and scale\n",
    "- separate features from outcomes&treatments\n",
    "\n"
   ]
  },
  {
   "cell_type": "code",
   "execution_count": 4,
   "id": "7",
   "metadata": {},
   "outputs": [
    {
     "name": "stdout",
     "output_type": "stream",
     "text": [
      "Control data dimensions:  (3789, 91)\n",
      "Treated data dimensions: (1368, 91)\n"
     ]
    }
   ],
   "source": [
    "from direct_regression import seperate_and_transform_data\n",
    "X0, X1, y0, y1, X, y, t, features = seperate_and_transform_data(data, treatment, outcome)\n",
    "print(\"Control data dimensions: \", X0.shape)\n",
    "print(\"Treated data dimensions:\", X1.shape)"
   ]
  },
  {
   "cell_type": "markdown",
   "id": "8",
   "metadata": {},
   "source": [
    "## Compute unconditional/unadjusted estimate of treatment effect"
   ]
  },
  {
   "cell_type": "code",
   "execution_count": 5,
   "id": "9",
   "metadata": {},
   "outputs": [
    {
     "name": "stdout",
     "output_type": "stream",
     "text": [
      "Proportion Treated:27%\n",
      "Average outcome under Control:-0.14±0.02\n",
      "Average outcome under Treatment:0.37±0.03\n",
      "Unadjusted treatment estimate 0.51\n"
     ]
    }
   ],
   "source": [
    "print_unconditional_effects(data, treatment, y0, y1)"
   ]
  },
  {
   "cell_type": "markdown",
   "id": "10",
   "metadata": {},
   "source": [
    "## Statsmodels\n",
    "\n",
    "### OLS"
   ]
  },
  {
   "cell_type": "code",
   "execution_count": 6,
   "id": "11",
   "metadata": {
    "scrolled": false
   },
   "outputs": [
    {
     "name": "stdout",
     "output_type": "stream",
     "text": [
      "                            OLS Regression Results                            \n",
      "==============================================================================\n",
      "Dep. Variable:                      y   R-squared:                       0.420\n",
      "Model:                            OLS   Adj. R-squared:                  0.410\n",
      "Method:                 Least Squares   F-statistic:                     39.92\n",
      "Date:                Fri, 26 Nov 2021   Prob (F-statistic):               0.00\n",
      "Time:                        09:08:04   Log-Likelihood:                -5911.1\n",
      "No. Observations:                5157   AIC:                         1.201e+04\n",
      "Df Residuals:                    5064   BIC:                         1.262e+04\n",
      "Df Model:                          92                                         \n",
      "Covariance Type:            nonrobust                                         \n",
      "==============================================================================\n",
      "                 coef    std err          t      P>|t|      [0.025      0.975]\n",
      "------------------------------------------------------------------------------\n",
      "const         -0.0382      0.013     -2.996      0.003      -0.063      -0.013\n",
      "treatment      0.1441      0.026      5.500      0.000       0.093       0.195\n",
      "ahgeng1       -0.0262      0.012     -2.255      0.024      -0.049      -0.003\n",
      "ahges2        -0.0208      0.013     -1.603      0.109      -0.046       0.005\n",
      "adocond       -0.0052      0.012     -0.448      0.654      -0.028       0.017\n",
      "adosecno      -0.0016      0.011     -0.145      0.884      -0.023       0.020\n",
      "ahhp1          0.0033      0.011      0.289      0.772      -0.019       0.025\n",
      "acpno          0.0077      0.012      0.662      0.508      -0.015       0.031\n",
      "ahspown        0.0512      0.012      4.227      0.000       0.027       0.075\n",
      "ahsmgfin       0.0174      0.011      1.585      0.113      -0.004       0.039\n",
      "axposml        0.0092      0.012      0.777      0.437      -0.014       0.032\n",
      "ahh0_4         0.0561      0.015      3.654      0.000       0.026       0.086\n",
      "ahh10_14      -0.0351      0.092     -0.380      0.704      -0.216       0.146\n",
      "ahhsos        -0.0199      0.012     -1.637      0.102      -0.044       0.004\n",
      "ahhfam02      -0.0063      0.011     -0.556      0.579      -0.029       0.016\n",
      "achu_sf       -0.0009      0.011     -0.083      0.934      -0.023       0.021\n",
      "acpu_me       -0.0243      0.011     -2.182      0.029      -0.046      -0.002\n",
      "ahiwscei      -0.0328      0.018     -1.844      0.065      -0.068       0.002\n",
      "ahibifip      -0.0543      0.012     -4.360      0.000      -0.079      -0.030\n",
      "ahifapti      -0.0856      0.015     -5.883      0.000      -0.114      -0.057\n",
      "ahgsex        -0.0204      0.015     -1.385      0.166      -0.049       0.008\n",
      "ahgeab        -0.0161      0.011     -1.449      0.147      -0.038       0.006\n",
      "ahgms         -0.0041      0.013     -0.308      0.758      -0.031       0.022\n",
      "ahgrf          0.0206      0.020      1.047      0.295      -0.018       0.059\n",
      "ahgscq        -0.0229      0.012     -1.854      0.064      -0.047       0.001\n",
      "arg03         -0.0028      0.011     -0.253      0.800      -0.025       0.019\n",
      "abncapuf       0.0095      0.019      0.506      0.613      -0.027       0.046\n",
      "aoidvryf      -0.0321      0.014     -2.370      0.018      -0.059      -0.006\n",
      "aoirntf       -0.0280      0.014     -2.032      0.042      -0.055      -0.001\n",
      "awscef         0.0119      0.014      0.837      0.403      -0.016       0.040\n",
      "awsfef         0.0116      0.014      0.812      0.417      -0.016       0.040\n",
      "atifditp       0.1198      0.026      4.623      0.000       0.069       0.171\n",
      "ahhd5_9        0.0236      0.013      1.778      0.076      -0.002       0.050\n",
      "ahhd1014       0.0277      0.092      0.301      0.763      -0.153       0.208\n",
      "ahhura        -0.0046      0.012     -0.393      0.694      -0.027       0.018\n",
      "afmagelh       0.0288      0.012      2.375      0.018       0.005       0.053\n",
      "aedqobd       -0.0166      0.012     -1.408      0.159      -0.040       0.007\n",
      "aedqoms        0.0056      0.012      0.480      0.631      -0.017       0.028\n",
      "aedqodc        0.0090      0.011      0.789      0.430      -0.013       0.031\n",
      "aehtjbyr      -0.0620      0.016     -3.772      0.000      -0.094      -0.030\n",
      "aehtujyr      -0.0484      0.012     -4.094      0.000      -0.072      -0.025\n",
      "aujljhru      -0.0063      0.011     -0.577      0.564      -0.028       0.015\n",
      "ajbprhr        0.0227      0.012      1.934      0.053      -0.000       0.046\n",
      "ajbmsch       -0.0170      0.011     -1.510      0.131      -0.039       0.005\n",
      "ajbmhrh       -0.0141      0.012     -1.209      0.227      -0.037       0.009\n",
      "ajbmpgj        0.0184      0.011      1.634      0.102      -0.004       0.040\n",
      "ajbmwpsz       0.0057      0.012      0.475      0.635      -0.018       0.029\n",
      "artage1       -0.2520      0.014    -17.586      0.000      -0.280      -0.224\n",
      "artiage1       0.0170      0.013      1.359      0.174      -0.008       0.042\n",
      "ajsl4wk        0.0032      0.012      0.275      0.783      -0.020       0.026\n",
      "awslya         0.0209      0.011      1.872      0.061      -0.001       0.043\n",
      "awsfga        -0.0863      0.018     -4.922      0.000      -0.121      -0.052\n",
      "abnfdsp       -0.0426      0.011     -3.786      0.000      -0.065      -0.021\n",
      "aoifirr        0.0001      0.011      0.013      0.990      -0.021       0.021\n",
      "aoifrsv    -3.222e-05      0.011     -0.003      0.998      -0.021       0.021\n",
      "aoifpub        0.0143      0.011      1.310      0.190      -0.007       0.036\n",
      "ancsex1        0.0032      0.011      0.298      0.765      -0.018       0.024\n",
      "aicprob        0.0344      0.012      2.843      0.004       0.011       0.058\n",
      "ahelthyr      -0.0028      0.011     -0.259      0.796      -0.024       0.018\n",
      "alosateo       0.0186      0.012      1.532      0.125      -0.005       0.042\n",
      "aloimpew       0.0591      0.013      4.492      0.000       0.033       0.085\n",
      "aloimprl      -0.0078      0.012     -0.676      0.499      -0.031       0.015\n",
      "amhn10yr      -0.0011      0.012     -0.087      0.931      -0.025       0.023\n",
      "amhlyr        -0.0051      0.012     -0.438      0.662      -0.028       0.018\n",
      "amhrearo       0.0018      0.011      0.169      0.866      -0.019       0.023\n",
      "amhaddkn      -0.0156      0.011     -1.438      0.150      -0.037       0.006\n",
      "ajbmo61       -0.0141      0.016     -0.867      0.386      -0.046       0.018\n",
      "ajbmo6s        0.0035      0.018      0.196      0.844      -0.031       0.038\n",
      "artage         0.0234      0.013      1.841      0.066      -0.002       0.048\n",
      "aujljin1       0.0003      0.011      0.027      0.979      -0.021       0.022\n",
      "ajbempt       -0.0131      0.013     -1.049      0.294      -0.038       0.011\n",
      "ajbmhruc      -0.0194      0.014     -1.410      0.158      -0.046       0.008\n",
      "atcyng        -0.0971      0.024     -3.994      0.000      -0.145      -0.049\n",
      "ahsyrcad      -0.0634      0.014     -4.538      0.000      -0.091      -0.036\n",
      "atcnr         -0.0595      0.015     -3.863      0.000      -0.090      -0.029\n",
      "ahhyng        -0.0699      0.024     -2.917      0.004      -0.117      -0.023\n",
      "afmmo6s       -0.0012      0.011     -0.105      0.917      -0.023       0.021\n",
      "aedqunk       -0.0006      0.011     -0.057      0.954      -0.022       0.021\n",
      "awsly         -0.0162      0.011     -1.446      0.148      -0.038       0.006\n",
      "awscme         0.1164      0.021      5.672      0.000       0.076       0.157\n",
      "aoiint        -0.0077      0.014     -0.549      0.583      -0.035       0.020\n",
      "aoidvry       -0.0361      0.014     -2.623      0.009      -0.063      -0.009\n",
      "aoifinvp      -0.0241      0.019     -1.252      0.211      -0.062       0.014\n",
      "aoifinvn       0.0058      0.011      0.526      0.599      -0.016       0.027\n",
      "atifep        -0.0168      0.027     -0.620      0.535      -0.070       0.036\n",
      "atifen         0.0068      0.011      0.621      0.534      -0.015       0.028\n",
      "aoifnpt        0.0064      0.011      0.593      0.553      -0.015       0.028\n",
      "agh3a          0.0435      0.013      3.362      0.001       0.018       0.069\n",
      "agh8          -0.0095      0.013     -0.752      0.452      -0.034       0.015\n",
      "aatwkwms      -0.0139      0.011     -1.247      0.212      -0.036       0.008\n",
      "apashare      -0.0004      0.012     -0.031      0.975      -0.024       0.023\n",
      "apawkmfh       0.0118      0.011      1.052      0.293      -0.010       0.034\n",
      "apawkbp       -0.0097      0.011     -0.889      0.374      -0.031       0.012\n",
      "==============================================================================\n",
      "Omnibus:                       37.721   Durbin-Watson:                   1.943\n",
      "Prob(Omnibus):                  0.000   Jarque-Bera (JB):               34.619\n",
      "Skew:                          -0.161   Prob(JB):                     3.04e-08\n",
      "Kurtosis:                       2.760   Cond. No.                         28.7\n",
      "==============================================================================\n",
      "\n",
      "Notes:\n",
      "[1] Standard Errors assume that the covariance matrix of the errors is correctly specified.\n"
     ]
    }
   ],
   "source": [
    "Xt = np.hstack((t[:, np.newaxis], X))\n",
    "Xt = pd.DataFrame(data=Xt, columns=[\"treatment\"] + features)\n",
    "ols = sm.OLS(y, sm.add_constant(Xt))\n",
    "res = ols.fit()\n",
    "ate_ols = res.params.loc[\"treatment\"]\n",
    "ci_ols = res.conf_int().loc[\"treatment\"]\n",
    "print(res.summary())"
   ]
  },
  {
   "cell_type": "markdown",
   "id": "12",
   "metadata": {},
   "source": [
    "## Scikit learn Bayesian Estimators\n",
    "\n",
    "### Bayesian Ridge\n",
    "\n",
    "Coefficient statistics"
   ]
  },
  {
   "cell_type": "code",
   "execution_count": 7,
   "id": "13",
   "metadata": {},
   "outputs": [
    {
     "name": "stdout",
     "output_type": "stream",
     "text": [
      "Bayesian Ridge simple model - coefficient stats:\n",
      "  R-squared = 0.4195\n",
      "  ATE: 0.1102 (0.0224)\n",
      "  t: 4.9268\n",
      "  p-value: 0.0000\n",
      "  CI (0.025, 0.975): [0.0664, 0.1541]\n"
     ]
    }
   ],
   "source": [
    "blr = BayesianRidgeStat()\n",
    "blr.fit(Xt, y)\n",
    "\n",
    "score = blr.score(Xt, y)\n",
    "\n",
    "# Coefficient statistics\n",
    "stats = blr.model_statistics()\n",
    "ate_blr, se_blr = stats.beta[0], stats.std_err[0]\n",
    "ci_blr = norm.interval(loc=ate_blr, scale=se_blr, alpha=0.95)\n",
    "\n",
    "print(\"Bayesian Ridge simple model - coefficient stats:\")\n",
    "print(f\"  R-squared = {score:.4f}\")\n",
    "print(f\"  ATE: {ate_blr:.4f} ({se_blr:.4f})\")\n",
    "print(f\"  t: {stats.t_stat[0]:.4f}\")\n",
    "print(f\"  p-value: {stats.p_value[0]:.4f}\")\n",
    "print(f\"  CI (0.025, 0.975): [{ci_blr[0]:.4f}, {ci_blr[1]:.4f}]\")"
   ]
  },
  {
   "cell_type": "markdown",
   "id": "14",
   "metadata": {},
   "source": [
    "ATE sampling with counterfactual models"
   ]
  },
  {
   "cell_type": "code",
   "execution_count": 14,
   "id": "15",
   "metadata": {},
   "outputs": [
    {
     "name": "stdout",
     "output_type": "stream",
     "text": [
      "Bayesian Ridge simple model - counterfactual sampling:\n",
      "  R-squared = 0.6074\n",
      "  ATE: 0.1079 (0.0241)\n",
      "  CI (0.025, 0.975): [0.0606, 0.1552]\n"
     ]
    }
   ],
   "source": [
    "# ATE sampling\n",
    "samples = 100\n",
    "w_samples = np.random.multivariate_normal(mean=blr.coef_, cov=blr.sigma_, size=samples).T\n",
    "\n",
    "n = len(X)\n",
    "Xt0 = pd.DataFrame(data=np.hstack((np.zeros((n, 1)), X)), columns=[\"treatment\"] + features)\n",
    "Xt1 = pd.DataFrame(data=np.hstack((np.ones((n, 1)), X)), columns=[\"treatment\"] + features)\n",
    "\n",
    "ate_blr_samples = np.mean(Xt1 @ w_samples, axis=0) - np.mean(Xt0 @ w_samples, axis=0)\n",
    "ate_blr = ate_blr_samples.mean()\n",
    "se_blr = np.std(ate_blr_samples, ddof=1)\n",
    "ci_blr = norm.interval(loc=ate_blr, scale=se_blr, alpha=0.95)\n",
    "\n",
    "print(\"Bayesian Ridge simple model - counterfactual sampling:\")\n",
    "print(f\"  R-squared = {score:.4f}\")\n",
    "print(f\"  ATE: {ate_blr:.4f} ({se_blr:.4f})\")\n",
    "print(f\"  CI (0.025, 0.975): [{ci_blr[0]:.4f}, {ci_blr[1]:.4f}]\")"
   ]
  },
  {
   "cell_type": "markdown",
   "id": "16",
   "metadata": {},
   "source": [
    "### Gaussian Process"
   ]
  },
  {
   "cell_type": "code",
   "execution_count": 9,
   "id": "17",
   "metadata": {},
   "outputs": [],
   "source": [
    "kernel = WhiteKernel() + Matern(nu=1.5)\n",
    "gpr = GaussianProcessRegressor(kernel=kernel)\n",
    "\n",
    "# This takes a while for 5000 samples... (5 mins or so)\n",
    "gpr.fit(Xt, y)\n",
    "score = gpr.score(Xt, y)"
   ]
  },
  {
   "cell_type": "code",
   "execution_count": 10,
   "id": "18",
   "metadata": {},
   "outputs": [
    {
     "name": "stdout",
     "output_type": "stream",
     "text": [
      "Gaussian Process (Matern 3/2):\n",
      "  R-squared = 0.6074\n",
      "  ATE: 0.1133 (0.0268)\n",
      "  CI (0.025, 0.975): [0.0607, 0.1659]\n"
     ]
    }
   ],
   "source": [
    "# ATE sampling   \n",
    "f0, K0 = gpr.predict(Xt0, return_cov=True)\n",
    "f1, K1 = gpr.predict(Xt1, return_cov=True)\n",
    "\n",
    "y_0_samples = np.random.multivariate_normal(mean=f0, cov=K0, size=samples)\n",
    "y_1_samples = np.random.multivariate_normal(mean=f1, cov=K1, size=samples)\n",
    "ate_gp_samples = (y_1_samples - y_0_samples).mean(axis=1)\n",
    "\n",
    "ate_gp = ate_gp_samples.mean()\n",
    "se_gp = np.std(ate_gp_samples, ddof=1)\n",
    "ci_gp = norm.interval(loc=ate_gp, scale=se_gp, alpha=0.95)\n",
    "\n",
    "print(\"fGaussian Process {gpr.kernel_}}:\")\n",
    "print(f\"  R-squared = {score:.4f}\")\n",
    "print(f\"  ATE: {ate_gp:.4f} ({se_gp:.4f})\")\n",
    "print(f\"  CI (0.025, 0.975): [{ci_gp[0]:.4f}, {ci_gp[1]:.4f}]\")"
   ]
  },
  {
   "cell_type": "markdown",
   "id": "19",
   "metadata": {},
   "source": [
    "Check if GP is overfitting"
   ]
  },
  {
   "cell_type": "code",
   "execution_count": 11,
   "id": "20",
   "metadata": {},
   "outputs": [
    {
     "data": {
      "text/html": [
       "<div>\n",
       "<style scoped>\n",
       "    .dataframe tbody tr th:only-of-type {\n",
       "        vertical-align: middle;\n",
       "    }\n",
       "\n",
       "    .dataframe tbody tr th {\n",
       "        vertical-align: top;\n",
       "    }\n",
       "\n",
       "    .dataframe thead th {\n",
       "        text-align: right;\n",
       "    }\n",
       "</style>\n",
       "<table border=\"1\" class=\"dataframe\">\n",
       "  <thead>\n",
       "    <tr style=\"text-align: right;\">\n",
       "      <th></th>\n",
       "      <th>fit_time</th>\n",
       "      <th>score_time</th>\n",
       "      <th>test_score</th>\n",
       "      <th>train_score</th>\n",
       "    </tr>\n",
       "  </thead>\n",
       "  <tbody>\n",
       "    <tr>\n",
       "      <th>count</th>\n",
       "      <td>5.000000</td>\n",
       "      <td>5.000000</td>\n",
       "      <td>5.000000</td>\n",
       "      <td>5.000000</td>\n",
       "    </tr>\n",
       "    <tr>\n",
       "      <th>mean</th>\n",
       "      <td>138.142128</td>\n",
       "      <td>0.770232</td>\n",
       "      <td>0.407215</td>\n",
       "      <td>0.617892</td>\n",
       "    </tr>\n",
       "    <tr>\n",
       "      <th>std</th>\n",
       "      <td>40.499638</td>\n",
       "      <td>0.050911</td>\n",
       "      <td>0.030424</td>\n",
       "      <td>0.023491</td>\n",
       "    </tr>\n",
       "    <tr>\n",
       "      <th>min</th>\n",
       "      <td>97.295368</td>\n",
       "      <td>0.728117</td>\n",
       "      <td>0.362848</td>\n",
       "      <td>0.587576</td>\n",
       "    </tr>\n",
       "    <tr>\n",
       "      <th>25%</th>\n",
       "      <td>108.895263</td>\n",
       "      <td>0.737242</td>\n",
       "      <td>0.397384</td>\n",
       "      <td>0.599184</td>\n",
       "    </tr>\n",
       "    <tr>\n",
       "      <th>50%</th>\n",
       "      <td>121.548140</td>\n",
       "      <td>0.746430</td>\n",
       "      <td>0.404875</td>\n",
       "      <td>0.625705</td>\n",
       "    </tr>\n",
       "    <tr>\n",
       "      <th>75%</th>\n",
       "      <td>180.017239</td>\n",
       "      <td>0.787685</td>\n",
       "      <td>0.431390</td>\n",
       "      <td>0.634755</td>\n",
       "    </tr>\n",
       "    <tr>\n",
       "      <th>max</th>\n",
       "      <td>182.954631</td>\n",
       "      <td>0.851684</td>\n",
       "      <td>0.439580</td>\n",
       "      <td>0.642240</td>\n",
       "    </tr>\n",
       "  </tbody>\n",
       "</table>\n",
       "</div>"
      ],
      "text/plain": [
       "         fit_time  score_time  test_score  train_score\n",
       "count    5.000000    5.000000    5.000000     5.000000\n",
       "mean   138.142128    0.770232    0.407215     0.617892\n",
       "std     40.499638    0.050911    0.030424     0.023491\n",
       "min     97.295368    0.728117    0.362848     0.587576\n",
       "25%    108.895263    0.737242    0.397384     0.599184\n",
       "50%    121.548140    0.746430    0.404875     0.625705\n",
       "75%    180.017239    0.787685    0.431390     0.634755\n",
       "max    182.954631    0.851684    0.439580     0.642240"
      ]
     },
     "execution_count": 11,
     "metadata": {},
     "output_type": "execute_result"
    }
   ],
   "source": [
    "cv_scores = cross_validate(gpr, Xt, y, cv=KFold(n_splits=5, shuffle=True), return_train_score=True)\n",
    "pd.DataFrame(cv_scores).describe()"
   ]
  },
  {
   "cell_type": "markdown",
   "id": "21",
   "metadata": {},
   "source": [
    "## Plot ATE"
   ]
  },
  {
   "cell_type": "code",
   "execution_count": 15,
   "id": "22",
   "metadata": {},
   "outputs": [
    {
     "data": {
      "image/png": "[encoded data removed]",
      "text/plain": [
       "<Figure size 900x600 with 1 Axes>"
      ]
     },
     "metadata": {
      "needs_background": "light"
     },
     "output_type": "display_data"
    }
   ],
   "source": [
    "ate_labels = [\"OLS\", \"Bayesian Linear\", \"Gaussian Process\"]\n",
    "ate = [ate_ols, ate_blr, ate_gp]\n",
    "ci = [ci_ols, ci_blr, ci_gp]\n",
    "ind = np.arange(len(ate))\n",
    "\n",
    "plt.figure(dpi=150)\n",
    "plt.vlines(ind, ymin=[c[0] for c in ci], ymax=[c[1] for c in ci], colors='k', linewidth=3)\n",
    "plt.plot(ind, ate, 'rx', markersize=10)\n",
    "plt.xticks(ind, labels=ate_labels, rotation=30)\n",
    "plt.grid()\n",
    "plt.show()"
   ]
  },
  {
   "cell_type": "code",
   "execution_count": null,
   "id": "23",
   "metadata": {},
   "outputs": [],
   "source": []
  }
 ],
 "metadata": {
  "celltoolbar": "Tags",
  "kernelspec": {
   "display_name": "Python 3 (ipykernel)",
   "language": "python",
   "name": "python3"
  },
  "language_info": {
   "codemirror_mode": {
    "name": "ipython",
    "version": 3
   },
   "file_extension": ".py",
   "mimetype": "text/x-python",
   "name": "python",
   "nbconvert_exporter": "python",
   "pygments_lexer": "ipython3",
   "version": "3.9.7"
  }
 },
 "nbformat": 4,
 "nbformat_minor": 5
}
