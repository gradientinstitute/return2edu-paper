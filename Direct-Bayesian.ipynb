{
 "cells": [
  {
   "cell_type": "markdown",
   "id": "0",
   "metadata": {
    "tags": [
     "Overview"
    ]
   },
   "source": [
    "# Direct Regression - Bayesian Version\n",
    "\n",
    "## Response Model\n",
    "\n",
    "How well can we predict outcomes $Y$ conditional on treatment $T$ and other covariates $Z$?\n",
    "\n",
    "### Treatent variables\n",
    "\n",
    "   - **reduhl**\tCompleted re-education based on highest level of attainment\n",
    "   - **redudl**\tCompleted re-education based on detailed qualifications\n",
    "   - **redufl**\tCompleted re-education using highest lvl and detailed qualifications.\n",
    "\n",
    "### Outcome variables\n",
    "   - Mental health in 2019 (**mh**). This is the transformed mental health scores from the aggregation of mental health items of the SF-36 Health Survey, as reported by the individual in 2019. It ranges from 0 to 100, with higher scores indicating better mental health.  \n",
    "   - Working hours in 2019 (**wkhr**) records the total number of hours the individual works in all jobs in a week on average. Working hours are set to 0 for those not working. \n",
    "   - Hourly Wages in 2019 (**rlwage**) records the average hourly wage for the individual’s main job in 2019. Hourly wages are set to 0 for those not working and set to missing for those reporting working more than 100 hours a week. \n",
    "   \n",
    "#### Columns explicitly excluded\n",
    "   - **xwaveid** (unique identifier)\n",
    "   - **p_rcom*** (timing of completion of re-education, proxies treatment) TODO think about how we would include this\n",
    "   - **p_cotrl** (first avail 2003)\n",
    "   - **p_rdf*** (first avail 2012)"
   ]
  },
  {
   "cell_type": "code",
   "execution_count": 3,
   "id": "1",
   "metadata": {
    "tags": [
     "hide_cell"
    ]
   },
   "outputs": [],
   "source": [
    "from pathlib import Path\n",
    "import numpy as np\n",
    "import pandas as pd\n",
    "import statsmodels.api as sm\n",
    "import matplotlib.pyplot as plt\n",
    "import torch\n",
    "import pyro\n",
    "import pyro.distributions as dist\n",
    "from pyro.infer import MCMC, NUTS\n",
    "\n",
    "from scipy.stats import norm, mstats\n",
    "from estimators import BayesianRidgeStat\n",
    "from sklearn.gaussian_process import GaussianProcessRegressor\n",
    "from sklearn.gaussian_process.kernels import WhiteKernel, Matern, DotProduct\n",
    "from sklearn.model_selection import cross_validate, KFold\n",
    "from sklearn.metrics import r2_score\n",
    "\n",
    "from reed import drop_missing_treatment_or_outcome, Model, transform_outcome\n",
    "from direct_regression import seperate_and_transform_data, print_unconditional_effects\n",
    "\n",
    "\n",
    "torch.set_default_tensor_type(torch.DoubleTensor) # set the default to float64\n",
    "%matplotlib inline"
   ]
  },
  {
   "cell_type": "markdown",
   "id": "2",
   "metadata": {},
   "source": [
    "## Analysis Parameters"
   ]
  },
  {
   "cell_type": "code",
   "execution_count": 4,
   "id": "3",
   "metadata": {
    "tags": [
     "parameters"
    ]
   },
   "outputs": [],
   "source": [
    "log_outcome=False\n",
    "standardize_outcome=False\n",
    "exclude_patterns = [\n",
    "    '^reduhl$', '^rehllt$', '^redudl$', '^redufl$', '^redllt$', '^refllt$',\n",
    "    '^rlwage$', '^mh$', '^mhbm$', '^wkhr$', '^y_', '^p_rcom','^p_rdf','^p_cotrl',\n",
    "    '^xwaveid$','p_rcom18','^aedcq', '^abnfsty','^aedcqfpt','^aedqstdy'\n",
    "]\n",
    "data_load_func = lambda filepath: pd.read_csv(filepath, index_col='xwaveid')\n",
    "\n",
    "#configuration_name = 'default'\n",
    "outcome = 'y_wscei'\n",
    "treatment = 'redufl'\n",
    "test = False\n",
    "data_file = Path(\"~/Code/re-education/data/all_lasso_selected_100_restricted.csv\")\n",
    "#xval_gp = True\n",
    "laplace_prior = False "
   ]
  },
  {
   "cell_type": "markdown",
   "id": "4",
   "metadata": {},
   "source": [
    "## Load the data"
   ]
  },
  {
   "cell_type": "code",
   "execution_count": 5,
   "id": "5",
   "metadata": {
    "tags": [
     "hide_cell"
    ]
   },
   "outputs": [
    {
     "name": "stdout",
     "output_type": "stream",
     "text": [
      "Dropped 0 rows missing treatment or outcome.\n"
     ]
    },
    {
     "data": {
      "image/png": "[encoded data removed]",
      "text/plain": [
       "<Figure size 640x480 with 1 Axes>"
      ]
     },
     "metadata": {},
     "output_type": "display_data"
    }
   ],
   "source": [
    "data = data_load_func(data_file)\n",
    "drop_missing_treatment_or_outcome(data, treatment, outcome)\n",
    "data[outcome] = transform_outcome(data[outcome],log_outcome, standardize_outcome)\n",
    "\n",
    "    \n",
    "plt.hist(data[outcome])\n",
    "plt.xlabel(outcome)\n",
    "plt.ylabel(\"count\")\n",
    "plt.title(\"Distribution of outcomes\");"
   ]
  },
  {
   "cell_type": "markdown",
   "id": "6",
   "metadata": {},
   "source": [
    "## Prepare data for modeling\n",
    "\n",
    "- split into treated/control\n",
    "- impute missing values and scale\n",
    "- separate features from outcomes&treatments\n",
    "\n"
   ]
  },
  {
   "cell_type": "code",
   "execution_count": 6,
   "id": "7",
   "metadata": {},
   "outputs": [
    {
     "name": "stdout",
     "output_type": "stream",
     "text": [
      "Control data dimensions:  (4043, 91)\n",
      "Treated data dimensions: (1398, 91)\n"
     ]
    }
   ],
   "source": [
    "from direct_regression import seperate_and_transform_data\n",
    "X0, X1, y0, y1, X, y, t, features = seperate_and_transform_data(data, treatment, outcome)\n",
    "print(\"Control data dimensions: \", X0.shape)\n",
    "print(\"Treated data dimensions:\", X1.shape)"
   ]
  },
  {
   "cell_type": "markdown",
   "id": "8",
   "metadata": {},
   "source": [
    "## Compute unconditional/unadjusted estimate of treatment effect"
   ]
  },
  {
   "cell_type": "code",
   "execution_count": 7,
   "id": "9",
   "metadata": {},
   "outputs": [
    {
     "name": "stdout",
     "output_type": "stream",
     "text": [
      "Proportion Treated:26%\n",
      "Average outcome under Control:529.34±16.41\n",
      "Average outcome under Treatment:860.37±27.84\n",
      "Unadjusted treatment estimate 331.03\n"
     ]
    }
   ],
   "source": [
    "print_unconditional_effects(data, treatment, y0, y1)"
   ]
  },
  {
   "cell_type": "markdown",
   "id": "10",
   "metadata": {},
   "source": [
    "## Statsmodels\n",
    "\n",
    "### OLS S-learner"
   ]
  },
  {
   "cell_type": "code",
   "execution_count": 8,
   "id": "11",
   "metadata": {
    "scrolled": false
   },
   "outputs": [
    {
     "name": "stdout",
     "output_type": "stream",
     "text": [
      "                            OLS Regression Results                            \n",
      "==============================================================================\n",
      "Dep. Variable:                      y   R-squared:                       0.343\n",
      "Model:                            OLS   Adj. R-squared:                  0.331\n",
      "Method:                 Least Squares   F-statistic:                     30.30\n",
      "Date:                Thu, 22 Dec 2022   Prob (F-statistic):               0.00\n",
      "Time:                        14:29:31   Log-Likelihood:                -44444.\n",
      "No. Observations:                5441   AIC:                         8.907e+04\n",
      "Df Residuals:                    5348   BIC:                         8.969e+04\n",
      "Df Model:                          92                                         \n",
      "Covariance Type:            nonrobust                                         \n",
      "==============================================================================\n",
      "                 coef    std err          t      P>|t|      [0.025      0.975]\n",
      "------------------------------------------------------------------------------\n",
      "const        598.3285     13.789     43.391      0.000     571.296     625.361\n",
      "treatment     62.5361     28.578      2.188      0.029       6.511     118.561\n",
      "ahgeng1      -27.9779     12.709     -2.201      0.028     -52.892      -3.064\n",
      "ahges2         5.1951     14.098      0.368      0.713     -22.443      32.833\n",
      "adocond       -4.1861     12.573     -0.333      0.739     -28.834      20.462\n",
      "adosecno     -16.7436     12.021     -1.393      0.164     -40.309       6.822\n",
      "ahhp1         -5.9181     12.301     -0.481      0.630     -30.033      18.197\n",
      "acpno         21.1559     12.632      1.675      0.094      -3.608      45.920\n",
      "ahspown       25.1812     13.177      1.911      0.056      -0.652      51.014\n",
      "ahsmgfin       8.5702     11.988      0.715      0.475     -14.931      32.071\n",
      "axposml       16.0777     12.924      1.244      0.214      -9.258      41.414\n",
      "ahh0_4        50.2326     16.709      3.006      0.003      17.476      82.989\n",
      "ahh10_14     -24.6503     96.461     -0.256      0.798    -213.753     164.453\n",
      "ahhsos         5.4830     13.285      0.413      0.680     -20.560      31.526\n",
      "ahhfam02     -10.9064     12.365     -0.882      0.378     -35.147      13.334\n",
      "achu_sf       -2.6768     12.022     -0.223      0.824     -26.246      20.892\n",
      "acpu_me      -34.2930     12.083     -2.838      0.005     -57.981     -10.605\n",
      "ahiwscei      10.5698     19.255      0.549      0.583     -27.178      48.317\n",
      "ahibifip     -31.6825     13.535     -2.341      0.019     -58.217      -5.148\n",
      "ahifapti     -70.6491     15.792     -4.474      0.000    -101.608     -39.690\n",
      "ahgsex       -74.9750     16.054     -4.670      0.000    -106.448     -43.502\n",
      "ahgeab        -8.8417     12.101     -0.731      0.465     -32.564      14.881\n",
      "ahgms        -16.1997     14.692     -1.103      0.270     -45.002      12.602\n",
      "ahgrf         -1.1801     21.715     -0.054      0.957     -43.751      41.391\n",
      "ahgscq       -13.3411     14.082     -0.947      0.343     -40.947      14.265\n",
      "arg03         -7.3756     12.089     -0.610      0.542     -31.075      16.324\n",
      "abncapuf      29.5484     22.169      1.333      0.183     -13.912      73.009\n",
      "aoidvryf      -5.6288     15.726     -0.358      0.720     -36.457      25.200\n",
      "aoirntf      -16.7442     16.143     -1.037      0.300     -48.391      14.903\n",
      "awscef        -2.9949     16.692     -0.179      0.858     -35.718      29.728\n",
      "awsfef        13.7206     16.736      0.820      0.412     -19.088      46.529\n",
      "atifditp      85.8752     28.080      3.058      0.002      30.826     140.924\n",
      "ahhd5_9       42.3627     14.456      2.930      0.003      14.023      70.702\n",
      "ahhd1014      39.9905     96.366      0.415      0.678    -148.926     228.907\n",
      "ahhura       -29.9453     12.720     -2.354      0.019     -54.882      -5.008\n",
      "afmagelh       3.1083     13.184      0.236      0.814     -22.738      28.954\n",
      "aedqobd        1.9743     12.862      0.154      0.878     -23.240      27.188\n",
      "aedqoms       17.8069     12.649      1.408      0.159      -6.989      42.603\n",
      "aedqodc       62.8694     12.411      5.066      0.000      38.538      87.201\n",
      "aehtjbyr     -70.8848     17.905     -3.959      0.000    -105.986     -35.784\n",
      "aehtujyr     -47.1839     12.860     -3.669      0.000     -72.396     -21.972\n",
      "aujljhru      -4.5277     11.956     -0.379      0.705     -27.966      18.910\n",
      "ajbprhr       13.4499     12.801      1.051      0.293     -11.645      38.544\n",
      "ajbmsch      -25.1997     12.272     -2.053      0.040     -49.257      -1.142\n",
      "ajbmhrh       10.6928     12.726      0.840      0.401     -14.255      35.640\n",
      "ajbmpgj       29.0623     12.270      2.369      0.018       5.009      53.116\n",
      "ajbmwpsz      19.9378     13.062      1.526      0.127      -5.668      45.544\n",
      "artage1     -246.6527     15.636    -15.775      0.000    -277.305    -216.001\n",
      "artiage1      18.9829     13.718      1.384      0.166      -7.911      45.877\n",
      "ajsl4wk        7.7723     12.829      0.606      0.545     -17.377      32.922\n",
      "awslya        38.5823     12.207      3.161      0.002      14.653      62.512\n",
      "awsfga        38.2708     19.023      2.012      0.044       0.978      75.564\n",
      "abnfdsp      -19.9862     12.267     -1.629      0.103     -44.035       4.062\n",
      "aoifirr        5.4727     11.737      0.466      0.641     -17.536      28.482\n",
      "aoifrsv        1.2567     11.774      0.107      0.915     -21.826      24.339\n",
      "aoifpub       14.6272     11.864      1.233      0.218      -8.630      37.885\n",
      "ancsex1        7.5309     11.779      0.639      0.523     -15.562      30.623\n",
      "aicprob       40.4130     13.192      3.064      0.002      14.552      66.274\n",
      "ahelthyr      -7.0615     11.786     -0.599      0.549     -30.166      16.043\n",
      "alosateo      18.6311     13.175      1.414      0.157      -7.197      44.459\n",
      "aloimpew      34.8635     14.325      2.434      0.015       6.780      62.947\n",
      "aloimprl     -18.2886     12.618     -1.449      0.147     -43.025       6.448\n",
      "amhn10yr      13.8803     13.161      1.055      0.292     -11.921      39.681\n",
      "amhlyr        -2.3707     12.662     -0.187      0.851     -27.193      22.452\n",
      "amhrearo      10.9045     11.785      0.925      0.355     -12.199      34.008\n",
      "amhaddkn     -11.6665     11.824     -0.987      0.324     -34.847      11.513\n",
      "ajbmo61      -21.7985     17.784     -1.226      0.220     -56.663      13.066\n",
      "ajbmo6s       40.8989     19.252      2.124      0.034       3.156      78.641\n",
      "artage        15.6807     13.896      1.128      0.259     -11.561      42.923\n",
      "aujljin1       8.9522     11.986      0.747      0.455     -14.545      32.449\n",
      "ajbempt      -31.8209     13.632     -2.334      0.020     -58.544      -5.097\n",
      "ajbmhruc     -11.0697     14.996     -0.738      0.460     -40.468      18.329\n",
      "atcyng       -33.0883     26.539     -1.247      0.213     -85.116      18.940\n",
      "ahsyrcad     -31.2058     15.196     -2.054      0.040     -60.995      -1.416\n",
      "atcnr        -16.7045     16.821     -0.993      0.321     -49.681      16.272\n",
      "ahhyng       -34.8509     26.117     -1.334      0.182     -86.051      16.349\n",
      "afmmo6s       11.1330     12.163      0.915      0.360     -12.712      34.978\n",
      "aedqunk       -1.0425     11.871     -0.088      0.930     -24.315      22.230\n",
      "awsly        -28.2607     12.198     -2.317      0.021     -52.174      -4.348\n",
      "awscme       148.1584     22.191      6.676      0.000     104.654     191.662\n",
      "aoiint        -7.0280     14.442     -0.487      0.627     -35.340      21.284\n",
      "aoidvry      -40.8829     14.143     -2.891      0.004     -68.610     -13.156\n",
      "aoifinvp     -10.4518     19.394     -0.539      0.590     -48.473      27.569\n",
      "aoifinvn      -9.5989     11.938     -0.804      0.421     -33.001      13.804\n",
      "atifep        -5.3770     29.441     -0.183      0.855     -63.093      52.339\n",
      "atifen         2.5469     11.876      0.214      0.830     -20.735      25.829\n",
      "aoifnpt       -5.4618     11.818     -0.462      0.644     -28.630      17.707\n",
      "agh3a         55.4144     14.129      3.922      0.000      27.715      83.114\n",
      "agh8           3.4909     13.707      0.255      0.799     -23.381      30.363\n",
      "aatwkwms     -18.4250     12.155     -1.516      0.130     -42.253       5.403\n",
      "apashare      26.4485     13.148      2.012      0.044       0.673      52.224\n",
      "apawkmfh      26.2881     12.241      2.148      0.032       2.291      50.286\n",
      "apawkbp      -11.4084     11.884     -0.960      0.337     -34.706      11.889\n",
      "==============================================================================\n",
      "Omnibus:                     5882.346   Durbin-Watson:                   1.968\n",
      "Prob(Omnibus):                  0.000   Jarque-Bera (JB):          1887858.856\n",
      "Skew:                           4.907   Prob(JB):                         0.00\n",
      "Kurtosis:                      93.725   Cond. No.                         27.4\n",
      "==============================================================================\n",
      "\n",
      "Notes:\n",
      "[1] Standard Errors assume that the covariance matrix of the errors is correctly specified.\n"
     ]
    }
   ],
   "source": [
    "Xt = np.hstack((t[:, np.newaxis], X))\n",
    "Xt = pd.DataFrame(data=Xt, columns=[\"treatment\"] + features)\n",
    "ols = sm.OLS(y, sm.add_constant(Xt))\n",
    "res = ols.fit()\n",
    "ate_ols = res.params.loc[\"treatment\"]\n",
    "ci_ols = res.conf_int().loc[\"treatment\"]\n",
    "print(res.summary())"
   ]
  },
  {
   "cell_type": "markdown",
   "id": "12",
   "metadata": {},
   "source": [
    "## Scikit learn Bayesian Estimators\n",
    "\n",
    "### Bayesian Ridge S-learner\n",
    "\n",
    "Coefficient statistics"
   ]
  },
  {
   "cell_type": "code",
   "execution_count": 9,
   "id": "13",
   "metadata": {},
   "outputs": [
    {
     "name": "stdout",
     "output_type": "stream",
     "text": [
      "Bayesian Ridge simple model - coefficient stats:\n",
      "  R-squared = 0.3417\n",
      "  ATE: 43.9570 (23.1437)\n",
      "  t: 1.8993\n",
      "  p-value: 0.0576\n",
      "  CI (0.025, 0.975): [-1.4039, 89.3178]\n"
     ]
    }
   ],
   "source": [
    "blr = BayesianRidgeStat()\n",
    "blr.fit(Xt, y)\n",
    "\n",
    "score = blr.score(Xt, y)  # WARNING: score on training data!\n",
    "\n",
    "# Coefficient statistics\n",
    "stats = blr.model_statistics()\n",
    "ate_blr, se_blr = stats.beta[0], stats.std_err[0]\n",
    "ci_blr = norm.interval(loc=ate_blr, scale=se_blr, confidence=0.95)\n",
    "\n",
    "print(\"Bayesian Ridge simple model - coefficient stats:\")\n",
    "print(f\"  R-squared = {score:.4f}\")\n",
    "print(f\"  ATE: {ate_blr:.4f} ({se_blr:.4f})\")\n",
    "print(f\"  t: {stats.t_stat[0]:.4f}\")\n",
    "print(f\"  p-value: {stats.p_value[0]:.4f}\")\n",
    "print(f\"  CI (0.025, 0.975): [{ci_blr[0]:.4f}, {ci_blr[1]:.4f}]\")"
   ]
  },
  {
   "cell_type": "markdown",
   "id": "14",
   "metadata": {},
   "source": [
    "ATE sampling with counterfactual models"
   ]
  },
  {
   "cell_type": "code",
   "execution_count": 10,
   "id": "15",
   "metadata": {},
   "outputs": [
    {
     "name": "stdout",
     "output_type": "stream",
     "text": [
      "Bayesian Ridge simple model - counterfactual sampling:\n",
      "  R-squared = 0.3417\n",
      "  ATE: 45.5860 (23.1015)\n",
      "  CI (0.025, 0.975): [0.3078, 90.8642]\n"
     ]
    }
   ],
   "source": [
    "# ATE sampling\n",
    "samples = 100\n",
    "w_samples = np.random.multivariate_normal(mean=blr.coef_, cov=blr.sigma_, size=samples).T\n",
    "\n",
    "n = len(X)\n",
    "Xt0 = pd.DataFrame(data=np.hstack((np.zeros((n, 1)), X)), columns=[\"treatment\"] + features)\n",
    "Xt1 = pd.DataFrame(data=np.hstack((np.ones((n, 1)), X)), columns=[\"treatment\"] + features)\n",
    "\n",
    "ate_blr_samples = np.mean(Xt1 @ w_samples, axis=0) - np.mean(Xt0 @ w_samples, axis=0)\n",
    "ate_blr = ate_blr_samples.mean()\n",
    "se_blr = np.std(ate_blr_samples, ddof=1)\n",
    "ci_blr = norm.interval(loc=ate_blr, scale=se_blr, confidence=0.95)\n",
    "\n",
    "print(\"Bayesian Ridge simple model - counterfactual sampling:\")\n",
    "print(f\"  R-squared = {score:.4f}\")\n",
    "print(f\"  ATE: {ate_blr:.4f} ({se_blr:.4f})\")\n",
    "print(f\"  CI (0.025, 0.975): [{ci_blr[0]:.4f}, {ci_blr[1]:.4f}]\")"
   ]
  },
  {
   "cell_type": "markdown",
   "id": "16",
   "metadata": {},
   "source": [
    "### Gaussian Process S-learner\n",
    "\n",
    "Although this is an S-learner, it can automatically model interactions (via the kernel representation), hence it may also act like a T-learner."
   ]
  },
  {
   "cell_type": "code",
   "execution_count": 11,
   "id": "17",
   "metadata": {},
   "outputs": [],
   "source": [
    "kernel = WhiteKernel() + Matern(nu=1.5)\n",
    "gpr = GaussianProcessRegressor(kernel=kernel, normalize_y=True)\n",
    "\n",
    "# This takes a while for 5000 samples... (5 mins or so)\n",
    "gpr.fit(Xt, y)\n",
    "score = gpr.score(Xt, y) # WARNING: Score on training data - this is likely to overfit"
   ]
  },
  {
   "cell_type": "code",
   "execution_count": 12,
   "id": "18",
   "metadata": {},
   "outputs": [
    {
     "name": "stdout",
     "output_type": "stream",
     "text": [
      "Gaussian Process WhiteKernel(noise_level=0.361) + Matern(length_scale=11.1, nu=1.5):\n",
      "  R-squared = 0.7711\n",
      "  ATE: 60.9620 (23.5977)\n",
      "  CI (0.025, 0.975): [14.7113, 107.2127]\n"
     ]
    }
   ],
   "source": [
    "# ATE sampling   \n",
    "f0, K0 = gpr.predict(Xt0, return_cov=True)\n",
    "f1, K1 = gpr.predict(Xt1, return_cov=True)\n",
    "\n",
    "y_0_samples = np.random.multivariate_normal(mean=f0, cov=K0, size=samples)\n",
    "y_1_samples = np.random.multivariate_normal(mean=f1, cov=K1, size=samples)\n",
    "ate_gp_samples = (y_1_samples - y_0_samples).mean(axis=1)\n",
    "\n",
    "ate_gp = ate_gp_samples.mean()\n",
    "se_gp = np.std(ate_gp_samples, ddof=1)\n",
    "ci_gp = norm.interval(loc=ate_gp, scale=se_gp, confidence=0.95)\n",
    "\n",
    "print(f\"Gaussian Process {gpr.kernel_}:\")\n",
    "print(f\"  R-squared = {score:.4f}\")\n",
    "print(f\"  ATE: {ate_gp:.4f} ({se_gp:.4f})\")\n",
    "print(f\"  CI (0.025, 0.975): [{ci_gp[0]:.4f}, {ci_gp[1]:.4f}]\")"
   ]
  },
  {
   "cell_type": "markdown",
   "id": "19",
   "metadata": {},
   "source": [
    "Check if GP is overfitting"
   ]
  },
  {
   "cell_type": "code",
   "execution_count": null,
   "id": "20",
   "metadata": {
    "scrolled": true
   },
   "outputs": [],
   "source": [
    "cv_scores = cross_validate(gpr, Xt, y,\n",
    "                           cv=KFold(n_splits=5, shuffle=True),\n",
    "                           return_train_score=True, n_jobs=-1)\n",
    "pd.DataFrame(cv_scores).describe()"
   ]
  },
  {
   "cell_type": "code",
   "execution_count": null,
   "id": "ecf78b6c",
   "metadata": {},
   "outputs": [],
   "source": []
  },
  {
   "cell_type": "markdown",
   "id": "21",
   "metadata": {},
   "source": [
    "## Hierarchical Bayesian Linear Model\n",
    "\n",
    "This model takes the following form and prior settings,\n",
    "\n",
    "$$\n",
    "\\begin{align}\n",
    "    \\{\\lambda_0, \\lambda_t, \\lambda_x, \\lambda_{tx}\\} &\\sim \\textrm{Gamma}(1, 1) \\\\\n",
    "    \\sigma^2 &\\sim \\textrm{Gamma}(1, 1) \\\\\n",
    "    w_0 &\\sim \\mathcal{N}(0, \\lambda_0) \\\\\n",
    "    w_t &\\sim \\mathcal{N}(0, \\lambda_t) \\\\\n",
    "    \\mathbf{w}_x &\\sim \\mathcal{N}(0, \\lambda_x \\mathbf{I}_d) \\\\\n",
    "    \\mathbf{w}_{tx} &\\sim \\mathcal{N}(0, \\lambda_{tx} \\mathbf{I}_d) \\\\\n",
    "    y_i &\\sim \\mathcal{N}(\\mu(\\mathbf{x}_i, t_i), \\sigma^2) \\\\\n",
    "    \\mu(\\mathbf{x}_i, t_i) &= w_0 + w_t t_i + \\mathbf{w}_x^\\top\\mathbf{x}_i + t_i\\mathbf{w}_{tx}^\\top\\mathbf{x}_i\n",
    "\\end{align}\n",
    "$$\n",
    "\n",
    "This explicitly models and interaction term, and can automatically regularise this term. This effectively allows the model to interpolate between an S and T-learner.\n",
    "\n",
    "For ideas about choice of prior, we should refer to:\n",
    "\n",
    "- Gelman, A. (2006). Prior distributions for variance parameters in hierarchical models (comment on article by Browne and Draper). Bayesian analysis, 1(3), 515-534."
   ]
  },
  {
   "cell_type": "markdown",
   "id": "22",
   "metadata": {},
   "source": [
    "### Set up the model"
   ]
  },
  {
   "cell_type": "code",
   "execution_count": 40,
   "id": "23",
   "metadata": {},
   "outputs": [],
   "source": [
    "def predict(w_0, w_t, w_x, w_tx, x, t):\n",
    "    f = w_0 + w_t * t + x.matmul(w_x.T) + t * x.matmul(w_tx.T)\n",
    "    return f\n",
    "\n",
    "\n",
    "def model_treatment_intersection(x, t, y):\n",
    "    # Hyper-Priors\n",
    "    #lambda_prior = dist.Gamma(1e-3, 1e-3)\n",
    "    lambda_prior = dist.Uniform(low=0, high=100)\n",
    "    #sigma_prior = dist.Gamma(1., 1.)\n",
    "    sigma_prior = dist.Uniform(low=0, high=100)\n",
    "    \n",
    "    # Priors\n",
    "    n, d = x.shape\n",
    "    weight_prior = dist.Laplace if laplace_prior else dist.Normal\n",
    "    p_w0 = weight_prior(0, pyro.sample(\"l_0\", lambda_prior))\n",
    "    p_wt = weight_prior(0, pyro.sample(\"l_t\", lambda_prior))\n",
    "    p_wx = weight_prior(torch.zeros(d), pyro.sample(\"l_x\", lambda_prior) * torch.ones(d))\n",
    "    p_twx = weight_prior(torch.zeros(d), pyro.sample(\"l_tx\", lambda_prior) * torch.ones(d))\n",
    "    \n",
    "    # Model weights\n",
    "    w_0 = pyro.sample(\"intercept\", p_w0)\n",
    "    w_t = pyro.sample(\"treatment\", p_wt)\n",
    "    w_x = pyro.sample(\"confounders\", p_wx)\n",
    "    w_tx = pyro.sample(\"intersection\", p_twx)\n",
    "    \n",
    "    # Likelihood\n",
    "    f = predict(w_0, w_t, w_x, w_tx, x, t)\n",
    "    sigma = pyro.sample(\"variance\", sigma_prior)\n",
    "    \n",
    "    with pyro.plate(\"data\", n):\n",
    "        likelihood = dist.Normal(f, sigma)\n",
    "        y = pyro.sample(\"likelihood\", likelihood, obs=y)"
   ]
  },
  {
   "cell_type": "markdown",
   "id": "24",
   "metadata": {},
   "source": [
    "### Run MCMC inference to compute the posteriors"
   ]
  },
  {
   "cell_type": "code",
   "execution_count": 41,
   "id": "25",
   "metadata": {},
   "outputs": [
    {
     "name": "stderr",
     "output_type": "stream",
     "text": [
      "Sample: 100%|█████████████████| 1000/1000 [05:36,  2.97it/s, step size=8.04e-02, acc. prob=0.474]\n"
     ]
    }
   ],
   "source": [
    "samples = 500\n",
    "warm_up = 500\n",
    "\n",
    "y_mean = y.mean()\n",
    "y_std = y.std()\n",
    "\n",
    "def stdize(y):\n",
    "    return (y - y_mean) / y_std\n",
    "\n",
    "def istdize(ys):\n",
    "    return ys * y_std + y_mean\n",
    "\n",
    "X_torch = torch.tensor(X)\n",
    "t_torch = torch.tensor(t)\n",
    "y_torch = torch.tensor(stdize(y))\n",
    "\n",
    "\n",
    "# Initialize No U-Turn Sampler\n",
    "nuts_kernel = NUTS(model_treatment_intersection, max_tree_depth=7)\n",
    "model_mcmc = MCMC(nuts_kernel, num_samples=samples, warmup_steps=warm_up)\n",
    "\n",
    "# Run the sampler\n",
    "model_mcmc.run(X_torch, t_torch, y_torch)"
   ]
  },
  {
   "cell_type": "markdown",
   "id": "26",
   "metadata": {},
   "source": [
    "### Sample the ATE"
   ]
  },
  {
   "cell_type": "code",
   "execution_count": 42,
   "id": "27",
   "metadata": {},
   "outputs": [
    {
     "name": "stdout",
     "output_type": "stream",
     "text": [
      "Hierarchical Linear Regression\n",
      "  R-squared = 0.3322 (0.0019)\n",
      "  ATE: 62.0864\n",
      "  CI (0.025, 0.975): [7.1406, 123.3515]\n"
     ]
    }
   ],
   "source": [
    "hbr_samples = model_mcmc.get_samples()\n",
    "w_0s = hbr_samples[\"intercept\"]\n",
    "w_ts = hbr_samples[\"treatment\"]\n",
    "w_xs = hbr_samples[\"confounders\"]\n",
    "w_txs = hbr_samples[\"intersection\"]\n",
    "\n",
    "ate_hlr_samples = np.zeros(samples)\n",
    "score_samples = np.zeros(samples)\n",
    "t0 = torch.zeros_like(t_torch)\n",
    "t1 = torch.ones_like(t_torch)\n",
    "\n",
    "for s in range(samples):\n",
    "    f = predict(w_0s[s], w_ts[s], w_xs[s], w_txs[s], X_torch, t_torch)\n",
    "    f1 = predict(w_0s[s], w_ts[s], w_xs[s], w_txs[s], X_torch, t1)\n",
    "    f0 = predict(w_0s[s], w_ts[s], w_xs[s], w_txs[s], X_torch, t0)\n",
    "    ate_hlr_samples[s] = istdize(f1.mean()) - istdize(f0.mean())\n",
    "    score_samples[s] = r2_score(y, istdize(f))\n",
    "\n",
    "ate_hlr = ate_hlr_samples.mean()\n",
    "ci_hlr = mstats.mquantiles(ate_hlr_samples, prob=[0.025, 0.975])\n",
    "\n",
    "print(\"Hierarchical Linear Regression\")\n",
    "print(f\"  R-squared = {score_samples.mean():.4f} ({score_samples.std():.4f})\")\n",
    "print(f\"  ATE: {ate_hlr:.4f}\")\n",
    "print(f\"  CI (0.025, 0.975): [{ci_hlr[0]:.4f}, {ci_hlr[1]:.4f}]\")"
   ]
  },
  {
   "cell_type": "markdown",
   "id": "cf9ed71e",
   "metadata": {},
   "source": [
    "### Sample and display some posterior distributions"
   ]
  },
  {
   "cell_type": "code",
   "execution_count": 48,
   "id": "1ebb279c",
   "metadata": {
    "scrolled": false
   },
   "outputs": [
    {
     "data": {
      "image/png": "[encoded data removed]",
      "text/plain": [
       "<Figure size 960x720 with 1 Axes>"
      ]
     },
     "metadata": {},
     "output_type": "display_data"
    },
    {
     "data": {
      "image/png": "[encoded data removed]",
      "text/plain": [
       "<Figure size 960x720 with 1 Axes>"
      ]
     },
     "metadata": {},
     "output_type": "display_data"
    },
    {
     "data": {
      "image/png": "[encoded data removed]",
      "text/plain": [
       "<Figure size 960x720 with 1 Axes>"
      ]
     },
     "metadata": {},
     "output_type": "display_data"
    }
   ],
   "source": [
    "posteriors = [\"l_tx\", \"l_t\", \"variance\"]\n",
    "for name in posteriors:\n",
    "    post = hbr_samples[name]\n",
    "    plt.figure(dpi=150)\n",
    "    plt.hist(post, bins=30)\n",
    "    plt.title(name)\n",
    "    plt.grid\n",
    "    plt.show()"
   ]
  },
  {
   "cell_type": "code",
   "execution_count": 45,
   "id": "28",
   "metadata": {},
   "outputs": [
    {
     "data": {
      "image/png": "[encoded data removed]",
      "text/plain": [
       "<Figure size 960x720 with 1 Axes>"
      ]
     },
     "metadata": {},
     "output_type": "display_data"
    }
   ],
   "source": [
    "plt.figure(dpi=150)\n",
    "cnt, *_ = plt.hist(ate_hlr_samples, bins=20)\n",
    "plt.plot([ate_hlr, ate_hlr], [0, max(cnt)], 'r', label=\"mean\")\n",
    "plt.title(\"HLR ATE samples\")\n",
    "plt.xlabel(\"ATE\")\n",
    "plt.ylabel(\"counts\")\n",
    "plt.grid()\n",
    "plt.legend()\n",
    "plt.show()"
   ]
  },
  {
   "cell_type": "markdown",
   "id": "29",
   "metadata": {},
   "source": [
    "## Plot ATE"
   ]
  },
  {
   "cell_type": "code",
   "execution_count": 46,
   "id": "30",
   "metadata": {},
   "outputs": [
    {
     "ename": "NameError",
     "evalue": "name 'ate_ols' is not defined",
     "output_type": "error",
     "traceback": [
      "\u001b[0;31m---------------------------------------------------------------------------\u001b[0m",
      "\u001b[0;31mNameError\u001b[0m                                 Traceback (most recent call last)",
      "Input \u001b[0;32mIn [46]\u001b[0m, in \u001b[0;36m<cell line: 2>\u001b[0;34m()\u001b[0m\n\u001b[1;32m      1\u001b[0m ate_labels \u001b[38;5;241m=\u001b[39m [\u001b[38;5;124m\"\u001b[39m\u001b[38;5;124mOLS\u001b[39m\u001b[38;5;124m\"\u001b[39m, \u001b[38;5;124m\"\u001b[39m\u001b[38;5;124mBayesian Linear\u001b[39m\u001b[38;5;124m\"\u001b[39m, \u001b[38;5;124m\"\u001b[39m\u001b[38;5;124mGaussian Process\u001b[39m\u001b[38;5;124m\"\u001b[39m, \u001b[38;5;124m\"\u001b[39m\u001b[38;5;124mHierarchical Linear\u001b[39m\u001b[38;5;124m\"\u001b[39m]\n\u001b[0;32m----> 2\u001b[0m ate \u001b[38;5;241m=\u001b[39m [\u001b[43mate_ols\u001b[49m, ate_blr, ate_gp, ate_hlr]\n\u001b[1;32m      3\u001b[0m ci \u001b[38;5;241m=\u001b[39m [ci_ols, ci_blr, ci_gp, ci_hlr]\n\u001b[1;32m      4\u001b[0m ind \u001b[38;5;241m=\u001b[39m np\u001b[38;5;241m.\u001b[39marange(\u001b[38;5;28mlen\u001b[39m(ate))\n",
      "\u001b[0;31mNameError\u001b[0m: name 'ate_ols' is not defined"
     ]
    }
   ],
   "source": [
    "ate_labels = [\"OLS\", \"Bayesian Linear\", \"Gaussian Process\", \"Hierarchical Linear\"]\n",
    "ate = [ate_ols, ate_blr, ate_gp, ate_hlr]\n",
    "ci = [ci_ols, ci_blr, ci_gp, ci_hlr]\n",
    "ind = np.arange(len(ate))\n",
    "\n",
    "plt.figure(dpi=150)\n",
    "plt.vlines(ind, ymin=[c[0] for c in ci], ymax=[c[1] for c in ci], colors='k', linewidth=3)\n",
    "plt.plot(ind, ate, 'rx', markersize=10)\n",
    "plt.xticks(ind, labels=ate_labels, rotation=30)\n",
    "plt.grid()\n",
    "plt.show()"
   ]
  },
  {
   "cell_type": "code",
   "execution_count": null,
   "id": "31",
   "metadata": {},
   "outputs": [],
   "source": []
  }
 ],
 "metadata": {
  "celltoolbar": "Tags",
  "kernelspec": {
   "display_name": "Python 3 (ipykernel)",
   "language": "python",
   "name": "python3"
  },
  "language_info": {
   "codemirror_mode": {
    "name": "ipython",
    "version": 3
   },
   "file_extension": ".py",
   "mimetype": "text/x-python",
   "name": "python",
   "nbconvert_exporter": "python",
   "pygments_lexer": "ipython3",
   "version": "3.10.8"
  }
 },
 "nbformat": 4,
 "nbformat_minor": 5
}
