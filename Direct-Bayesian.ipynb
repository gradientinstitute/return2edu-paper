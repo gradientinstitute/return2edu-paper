{
 "cells": [
  {
   "cell_type": "markdown",
   "id": "0",
   "metadata": {
    "tags": [
     "Overview"
    ]
   },
   "source": [
    "# Direct Regression - Bayesian Version\n",
    "\n",
    "## Response Model\n",
    "\n",
    "How well can we predict outcomes $Y$ conditional on treatment $T$ and other covariates $Z$?\n",
    "\n",
    "### Treatent variables\n",
    "\n",
    "   - **reduhl**\tCompleted re-education based on highest level of attainment\n",
    "   - **redudl**\tCompleted re-education based on detailed qualifications\n",
    "   - **redufl**\tCompleted re-education using highest lvl and detailed qualifications.\n",
    "\n",
    "### Outcome variables\n",
    "   - Mental health in 2019 (**mh**). This is the transformed mental health scores from the aggregation of mental health items of the SF-36 Health Survey, as reported by the individual in 2019. It ranges from 0 to 100, with higher scores indicating better mental health.  \n",
    "   - Working hours in 2019 (**wkhr**) records the total number of hours the individual works in all jobs in a week on average. Working hours are set to 0 for those not working. \n",
    "   - Hourly Wages in 2019 (**rlwage**) records the average hourly wage for the individual’s main job in 2019. Hourly wages are set to 0 for those not working and set to missing for those reporting working more than 100 hours a week. \n",
    "   \n",
    "#### Columns explicitly excluded\n",
    "   - **xwaveid** (unique identifier)\n",
    "   - **p_rcom*** (timing of completion of re-education, proxies treatment) TODO think about how we would include this\n",
    "   - **p_cotrl** (first avail 2003)\n",
    "   - **p_rdf*** (first avail 2012)"
   ]
  },
  {
   "cell_type": "code",
   "execution_count": 1,
   "id": "1",
   "metadata": {
    "tags": [
     "hide_cell"
    ]
   },
   "outputs": [],
   "source": [
    "from pathlib import Path\n",
    "from dataclasses import dataclass, fields\n",
    "import numpy as np\n",
    "import pandas as pd\n",
    "import statsmodels.api as sm\n",
    "import matplotlib.pyplot as plt\n",
    "\n",
    "import numpyro as pyro\n",
    "import numpyro.distributions as dist\n",
    "from numpyro.infer import MCMC, NUTS\n",
    "from jax import random\n",
    "\n",
    "from scipy.stats import norm, mstats\n",
    "from estimators import BayesianRidgeStat\n",
    "from sklearn.model_selection import cross_validate, KFold, StratifiedKFold, GridSearchCV\n",
    "from sklearn.metrics import r2_score, balanced_accuracy_score, accuracy_score, log_loss\n",
    "from sklearn.linear_model import LogisticRegressionCV\n",
    "from sklearn.base import BaseEstimator\n",
    "from sklearn.kernel_approximation import RBFSampler, Nystroem\n",
    "from sklearn.gaussian_process import GaussianProcessRegressor\n",
    "from sklearn.gaussian_process.kernels import Matern, DotProduct, WhiteKernel, RBF\n",
    "\n",
    "from lightgbm import LGBMClassifier\n",
    "from xbcausalforest import XBCF\n",
    "\n",
    "from reed import drop_missing_treatment_or_outcome, Model, transform_outcome\n",
    "from direct_regression import seperate_and_transform_data, print_unconditional_effects\n",
    "\n",
    "%matplotlib inline"
   ]
  },
  {
   "cell_type": "markdown",
   "id": "2",
   "metadata": {},
   "source": [
    "## Analysis Parameters"
   ]
  },
  {
   "cell_type": "code",
   "execution_count": 2,
   "id": "3",
   "metadata": {
    "tags": [
     "parameters"
    ]
   },
   "outputs": [],
   "source": [
    "log_outcome=False\n",
    "standardize_outcome=False\n",
    "exclude_patterns = [\n",
    "    '^reduhl$', '^rehllt$', '^redudl$', '^redufl$', '^redllt$', '^refllt$',\n",
    "    '^rlwage$', '^mh$', '^mhbm$', '^wkhr$', '^y_', '^p_rcom','^p_rdf','^p_cotrl',\n",
    "    '^xwaveid$','p_rcom18','^aedcq', '^abnfsty','^aedcqfpt','^aedqstdy'\n",
    "]\n",
    "data_load_func = lambda filepath: pd.read_csv(filepath, index_col='xwaveid')\n",
    "\n",
    "#configuration_name = 'default'\n",
    "outcome = 'y_wscei'\n",
    "treatment = 'redufl'\n",
    "test = False\n",
    "data_file = Path(\"~/code/re-education/data/all_lasso_selected_100_restricted.csv\")"
   ]
  },
  {
   "cell_type": "markdown",
   "id": "4",
   "metadata": {},
   "source": [
    "## Load the data"
   ]
  },
  {
   "cell_type": "code",
   "execution_count": 3,
   "id": "5",
   "metadata": {
    "tags": [
     "hide_cell"
    ]
   },
   "outputs": [
    {
     "name": "stdout",
     "output_type": "stream",
     "text": [
      "Dropped 0 rows missing treatment or outcome.\n"
     ]
    },
    {
     "data": {
      "image/png": "[encoded data removed]",
      "text/plain": [
       "<Figure size 640x480 with 1 Axes>"
      ]
     },
     "metadata": {},
     "output_type": "display_data"
    }
   ],
   "source": [
    "data = data_load_func(data_file)\n",
    "drop_missing_treatment_or_outcome(data, treatment, outcome)\n",
    "data[outcome] = transform_outcome(data[outcome],log_outcome, standardize_outcome)\n",
    "\n",
    "    \n",
    "plt.hist(data[outcome])\n",
    "plt.xlabel(outcome)\n",
    "plt.ylabel(\"count\")\n",
    "plt.title(\"Distribution of outcomes\");"
   ]
  },
  {
   "cell_type": "markdown",
   "id": "6",
   "metadata": {},
   "source": [
    "## Prepare data for modeling\n",
    "\n",
    "- split into treated/control\n",
    "- impute missing values and scale\n",
    "- separate features from outcomes&treatments\n",
    "\n"
   ]
  },
  {
   "cell_type": "code",
   "execution_count": 4,
   "id": "7",
   "metadata": {},
   "outputs": [
    {
     "name": "stdout",
     "output_type": "stream",
     "text": [
      "Control data dimensions:  (4043, 91)\n",
      "Treated data dimensions: (1398, 91)\n"
     ]
    }
   ],
   "source": [
    "from direct_regression import seperate_and_transform_data\n",
    "X0, X1, y0, y1, X, y, t, features = seperate_and_transform_data(data, treatment, outcome)\n",
    "print(\"Control data dimensions: \", X0.shape)\n",
    "print(\"Treated data dimensions:\", X1.shape)"
   ]
  },
  {
   "cell_type": "markdown",
   "id": "8",
   "metadata": {},
   "source": [
    "## Compute unconditional/unadjusted estimate of treatment effect"
   ]
  },
  {
   "cell_type": "code",
   "execution_count": 5,
   "id": "9",
   "metadata": {},
   "outputs": [
    {
     "name": "stdout",
     "output_type": "stream",
     "text": [
      "Proportion Treated:26%\n",
      "Average outcome under Control:529.34±16.41\n",
      "Average outcome under Treatment:860.37±27.84\n",
      "Unadjusted treatment estimate 331.03\n"
     ]
    }
   ],
   "source": [
    "print_unconditional_effects(data, treatment, y0, y1)"
   ]
  },
  {
   "cell_type": "markdown",
   "id": "10",
   "metadata": {},
   "source": [
    "## Statsmodels\n",
    "\n",
    "### OLS S-learner"
   ]
  },
  {
   "cell_type": "code",
   "execution_count": 6,
   "id": "11",
   "metadata": {
    "scrolled": false
   },
   "outputs": [
    {
     "name": "stdout",
     "output_type": "stream",
     "text": [
      "                            OLS Regression Results                            \n",
      "==============================================================================\n",
      "Dep. Variable:                      y   R-squared:                       0.343\n",
      "Model:                            OLS   Adj. R-squared:                  0.331\n",
      "Method:                 Least Squares   F-statistic:                     30.30\n",
      "Date:                Tue, 24 Jan 2023   Prob (F-statistic):               0.00\n",
      "Time:                        15:41:57   Log-Likelihood:                -44444.\n",
      "No. Observations:                5441   AIC:                         8.907e+04\n",
      "Df Residuals:                    5348   BIC:                         8.969e+04\n",
      "Df Model:                          92                                         \n",
      "Covariance Type:            nonrobust                                         \n",
      "==============================================================================\n",
      "                 coef    std err          t      P>|t|      [0.025      0.975]\n",
      "------------------------------------------------------------------------------\n",
      "const        598.3285     13.789     43.391      0.000     571.296     625.361\n",
      "treatment     62.5361     28.578      2.188      0.029       6.511     118.561\n",
      "ahgeng1      -27.9779     12.709     -2.201      0.028     -52.892      -3.064\n",
      "ahges2         5.1951     14.098      0.368      0.713     -22.443      32.833\n",
      "adocond       -4.1861     12.573     -0.333      0.739     -28.834      20.462\n",
      "adosecno     -16.7436     12.021     -1.393      0.164     -40.309       6.822\n",
      "ahhp1         -5.9181     12.301     -0.481      0.630     -30.033      18.197\n",
      "acpno         21.1559     12.632      1.675      0.094      -3.608      45.920\n",
      "ahspown       25.1812     13.177      1.911      0.056      -0.652      51.014\n",
      "ahsmgfin       8.5702     11.988      0.715      0.475     -14.931      32.071\n",
      "axposml       16.0777     12.924      1.244      0.214      -9.258      41.414\n",
      "ahh0_4        50.2326     16.709      3.006      0.003      17.476      82.989\n",
      "ahh10_14     -24.6503     96.461     -0.256      0.798    -213.753     164.453\n",
      "ahhsos         5.4830     13.285      0.413      0.680     -20.560      31.526\n",
      "ahhfam02     -10.9064     12.365     -0.882      0.378     -35.147      13.334\n",
      "achu_sf       -2.6768     12.022     -0.223      0.824     -26.246      20.892\n",
      "acpu_me      -34.2930     12.083     -2.838      0.005     -57.981     -10.605\n",
      "ahiwscei      10.5698     19.255      0.549      0.583     -27.178      48.317\n",
      "ahibifip     -31.6825     13.535     -2.341      0.019     -58.217      -5.148\n",
      "ahifapti     -70.6491     15.792     -4.474      0.000    -101.608     -39.690\n",
      "ahgsex       -74.9750     16.054     -4.670      0.000    -106.448     -43.502\n",
      "ahgeab        -8.8417     12.101     -0.731      0.465     -32.564      14.881\n",
      "ahgms        -16.1997     14.692     -1.103      0.270     -45.002      12.602\n",
      "ahgrf         -1.1801     21.715     -0.054      0.957     -43.751      41.391\n",
      "ahgscq       -13.3411     14.082     -0.947      0.343     -40.947      14.265\n",
      "arg03         -7.3756     12.089     -0.610      0.542     -31.075      16.324\n",
      "abncapuf      29.5484     22.169      1.333      0.183     -13.912      73.009\n",
      "aoidvryf      -5.6288     15.726     -0.358      0.720     -36.457      25.200\n",
      "aoirntf      -16.7442     16.143     -1.037      0.300     -48.391      14.903\n",
      "awscef        -2.9949     16.692     -0.179      0.858     -35.718      29.728\n",
      "awsfef        13.7206     16.736      0.820      0.412     -19.088      46.529\n",
      "atifditp      85.8752     28.080      3.058      0.002      30.826     140.924\n",
      "ahhd5_9       42.3627     14.456      2.930      0.003      14.023      70.702\n",
      "ahhd1014      39.9905     96.366      0.415      0.678    -148.926     228.907\n",
      "ahhura       -29.9453     12.720     -2.354      0.019     -54.882      -5.008\n",
      "afmagelh       3.1083     13.184      0.236      0.814     -22.738      28.954\n",
      "aedqobd        1.9743     12.862      0.154      0.878     -23.240      27.188\n",
      "aedqoms       17.8069     12.649      1.408      0.159      -6.989      42.603\n",
      "aedqodc       62.8694     12.411      5.066      0.000      38.538      87.201\n",
      "aehtjbyr     -70.8848     17.905     -3.959      0.000    -105.986     -35.784\n",
      "aehtujyr     -47.1839     12.860     -3.669      0.000     -72.396     -21.972\n",
      "aujljhru      -4.5277     11.956     -0.379      0.705     -27.966      18.910\n",
      "ajbprhr       13.4499     12.801      1.051      0.293     -11.645      38.544\n",
      "ajbmsch      -25.1997     12.272     -2.053      0.040     -49.257      -1.142\n",
      "ajbmhrh       10.6928     12.726      0.840      0.401     -14.255      35.640\n",
      "ajbmpgj       29.0623     12.270      2.369      0.018       5.009      53.116\n",
      "ajbmwpsz      19.9378     13.062      1.526      0.127      -5.668      45.544\n",
      "artage1     -246.6527     15.636    -15.775      0.000    -277.305    -216.001\n",
      "artiage1      18.9829     13.718      1.384      0.166      -7.911      45.877\n",
      "ajsl4wk        7.7723     12.829      0.606      0.545     -17.377      32.922\n",
      "awslya        38.5823     12.207      3.161      0.002      14.653      62.512\n",
      "awsfga        38.2708     19.023      2.012      0.044       0.978      75.564\n",
      "abnfdsp      -19.9862     12.267     -1.629      0.103     -44.035       4.062\n",
      "aoifirr        5.4727     11.737      0.466      0.641     -17.536      28.482\n",
      "aoifrsv        1.2567     11.774      0.107      0.915     -21.826      24.339\n",
      "aoifpub       14.6272     11.864      1.233      0.218      -8.630      37.885\n",
      "ancsex1        7.5309     11.779      0.639      0.523     -15.562      30.623\n",
      "aicprob       40.4130     13.192      3.064      0.002      14.552      66.274\n",
      "ahelthyr      -7.0615     11.786     -0.599      0.549     -30.166      16.043\n",
      "alosateo      18.6311     13.175      1.414      0.157      -7.197      44.459\n",
      "aloimpew      34.8635     14.325      2.434      0.015       6.780      62.947\n",
      "aloimprl     -18.2886     12.618     -1.449      0.147     -43.025       6.448\n",
      "amhn10yr      13.8803     13.161      1.055      0.292     -11.921      39.681\n",
      "amhlyr        -2.3707     12.662     -0.187      0.851     -27.193      22.452\n",
      "amhrearo      10.9045     11.785      0.925      0.355     -12.199      34.008\n",
      "amhaddkn     -11.6665     11.824     -0.987      0.324     -34.847      11.513\n",
      "ajbmo61      -21.7985     17.784     -1.226      0.220     -56.663      13.066\n",
      "ajbmo6s       40.8989     19.252      2.124      0.034       3.156      78.641\n",
      "artage        15.6807     13.896      1.128      0.259     -11.561      42.923\n",
      "aujljin1       8.9522     11.986      0.747      0.455     -14.545      32.449\n",
      "ajbempt      -31.8209     13.632     -2.334      0.020     -58.544      -5.097\n",
      "ajbmhruc     -11.0697     14.996     -0.738      0.460     -40.468      18.329\n",
      "atcyng       -33.0883     26.539     -1.247      0.213     -85.116      18.940\n",
      "ahsyrcad     -31.2058     15.196     -2.054      0.040     -60.995      -1.416\n",
      "atcnr        -16.7045     16.821     -0.993      0.321     -49.681      16.272\n",
      "ahhyng       -34.8509     26.117     -1.334      0.182     -86.051      16.349\n",
      "afmmo6s       11.1330     12.163      0.915      0.360     -12.712      34.978\n",
      "aedqunk       -1.0425     11.871     -0.088      0.930     -24.315      22.230\n",
      "awsly        -28.2607     12.198     -2.317      0.021     -52.174      -4.348\n",
      "awscme       148.1584     22.191      6.676      0.000     104.654     191.662\n",
      "aoiint        -7.0280     14.442     -0.487      0.627     -35.340      21.284\n",
      "aoidvry      -40.8829     14.143     -2.891      0.004     -68.610     -13.156\n",
      "aoifinvp     -10.4518     19.394     -0.539      0.590     -48.473      27.569\n",
      "aoifinvn      -9.5989     11.938     -0.804      0.421     -33.001      13.804\n",
      "atifep        -5.3770     29.441     -0.183      0.855     -63.093      52.339\n",
      "atifen         2.5469     11.876      0.214      0.830     -20.735      25.829\n",
      "aoifnpt       -5.4618     11.818     -0.462      0.644     -28.630      17.707\n",
      "agh3a         55.4144     14.129      3.922      0.000      27.715      83.114\n",
      "agh8           3.4909     13.707      0.255      0.799     -23.381      30.363\n",
      "aatwkwms     -18.4250     12.155     -1.516      0.130     -42.253       5.403\n",
      "apashare      26.4485     13.148      2.012      0.044       0.673      52.224\n",
      "apawkmfh      26.2881     12.241      2.148      0.032       2.291      50.286\n",
      "apawkbp      -11.4084     11.884     -0.960      0.337     -34.706      11.889\n",
      "==============================================================================\n",
      "Omnibus:                     5882.346   Durbin-Watson:                   1.968\n",
      "Prob(Omnibus):                  0.000   Jarque-Bera (JB):          1887858.856\n",
      "Skew:                           4.907   Prob(JB):                         0.00\n",
      "Kurtosis:                      93.725   Cond. No.                         27.4\n",
      "==============================================================================\n",
      "\n",
      "Notes:\n",
      "[1] Standard Errors assume that the covariance matrix of the errors is correctly specified.\n"
     ]
    }
   ],
   "source": [
    "Xt = np.hstack((t[:, np.newaxis], X))\n",
    "Xt = pd.DataFrame(data=Xt, columns=[\"treatment\"] + features)\n",
    "ols = sm.OLS(y, sm.add_constant(Xt))\n",
    "res = ols.fit()\n",
    "ate_ols = res.params.loc[\"treatment\"]\n",
    "ci_ols = res.conf_int().loc[\"treatment\"]\n",
    "print(res.summary())"
   ]
  },
  {
   "cell_type": "markdown",
   "id": "5b65c0b7",
   "metadata": {},
   "source": [
    "## Train a propensity score model\n",
    "\n",
    "This should help with bias in estimating treatment effects with Bayesian models.\n",
    "\n",
    "See:\n",
    "\n",
    "[Hahn, P.R., Murray, J.S. and Carvalho, C.M., 2020. Bayesian regression tree models for causal inference: Regularization, confounding, and heterogeneous effects (with discussion). Bayesian Analysis, 15(3), pp.965-1056.](https://projecteuclid.org/journals/bayesian-analysis/volume-15/issue-3/Bayesian-Regression-Tree-Models-for-Causal-Inference--Regularization-Confounding/10.1214/19-BA1195.pdf)\n",
    "\n",
    "\n",
    "For more information."
   ]
  },
  {
   "cell_type": "code",
   "execution_count": 7,
   "id": "3de1ef0e",
   "metadata": {},
   "outputs": [],
   "source": [
    "linear_prop = LogisticRegressionCV(max_iter=500)\n",
    "nonlin_prop = GridSearchCV(\n",
    "    LGBMClassifier(),\n",
    "    param_grid={\"learning_rate\": [1e-3, 1e-2, 5e-2, 0.1, 0.5]},\n",
    "    scoring=\"neg_log_loss\",\n",
    "    n_jobs=-1\n",
    ")\n",
    "\n",
    "\n",
    "@dataclass\n",
    "class ScoreMap:\n",
    "    sfn: callable\n",
    "    sres: list\n",
    "        \n",
    "    def __init__(self, sfn):\n",
    "        self.sfn = sfn\n",
    "        self.sres = []\n",
    "\n",
    "        \n",
    "@dataclass\n",
    "class Scores:\n",
    "    accuracy: ScoreMap\n",
    "    baccuracy: ScoreMap\n",
    "    logloss: ScoreMap\n",
    "    \n",
    "    def __init__(self):\n",
    "        self.accuracy = ScoreMap(sfn=accuracy_score)\n",
    "        self.baccuracy = ScoreMap(sfn=balanced_accuracy_score)\n",
    "        self.logloss = ScoreMap(sfn=log_loss)\n",
    "\n",
    "        \n",
    "@dataclass\n",
    "class ModelMap:\n",
    "    model: BaseEstimator\n",
    "    propensity: np.ndarray\n",
    "    scores: Scores\n",
    "    \n",
    "    def __init__(self, model):\n",
    "        self.model = model\n",
    "        self.propensity = np.zeros(len(t))  # zeros_like becomes immutable?\n",
    "        self.scores = Scores()\n",
    "        \n",
    "    def set_ps(self, ind, p):\n",
    "        self.propensity[ind] = p\n",
    "        \n",
    "\n",
    "pmodels = {\n",
    "    \"logistic\": ModelMap(model=linear_prop),\n",
    "    \"gbc\": ModelMap(model=nonlin_prop)\n",
    "}"
   ]
  },
  {
   "cell_type": "code",
   "execution_count": 8,
   "id": "5e27d0cc",
   "metadata": {},
   "outputs": [
    {
     "name": "stdout",
     "output_type": "stream",
     "text": [
      "Round 0\n"
     ]
    },
    {
     "name": "stderr",
     "output_type": "stream",
     "text": [
      "/home/dsteinberg/.cache/pypoetry/virtualenvs/re-education-v9RC6Oqx-py3.10/lib/python3.10/site-packages/sklearn/linear_model/_logistic.py:458: ConvergenceWarning: lbfgs failed to converge (status=1):\n",
      "STOP: TOTAL NO. of ITERATIONS REACHED LIMIT.\n",
      "\n",
      "Increase the number of iterations (max_iter) or scale the data as shown in:\n",
      "    https://scikit-learn.org/stable/modules/preprocessing.html\n",
      "Please also refer to the documentation for alternative solver options:\n",
      "    https://scikit-learn.org/stable/modules/linear_model.html#logistic-regression\n",
      "  n_iter_i = _check_optimize_result(\n"
     ]
    },
    {
     "name": "stdout",
     "output_type": "stream",
     "text": [
      "Round 1\n",
      "Round 2\n",
      "Round 3\n",
      "Round 4\n"
     ]
    }
   ],
   "source": [
    "for i, (tr_ind, ts_ind) in enumerate(StratifiedKFold(n_splits=5, shuffle=True).split(X, t)):\n",
    "    t_tr, t_ts = t[tr_ind], t[ts_ind]\n",
    "    X_tr, X_ts = X[tr_ind], X[ts_ind]\n",
    "    \n",
    "    print(f\"Round {i}\")\n",
    "    for name, props in pmodels.items():\n",
    "        props.model.fit(X_tr, t_tr)\n",
    "        p = props.model.predict_proba(X_ts)[:, 1]\n",
    "        t_hat = (p > 0.5).astype(int)\n",
    "        \n",
    "        props.scores.logloss.sres.append(props.scores.logloss.sfn(t_ts, p))\n",
    "        props.scores.baccuracy.sres.append(props.scores.baccuracy.sfn(t_ts, t_hat))\n",
    "        props.scores.accuracy.sres.append(props.scores.accuracy.sfn(t_ts, t_hat))\n",
    "        \n",
    "        props.set_ps(ts_ind, p)"
   ]
  },
  {
   "cell_type": "code",
   "execution_count": 9,
   "id": "009c6bbf",
   "metadata": {},
   "outputs": [
    {
     "name": "stdout",
     "output_type": "stream",
     "text": [
      "logistic-accuracy: 0.7427 (0.0023)\n",
      "logistic-baccuracy: 0.5096 (0.0172)\n",
      "logistic-logloss: 0.5229 (0.0144)\n",
      "gbc-accuracy: 0.7403 (0.0119)\n",
      "gbc-baccuracy: 0.5501 (0.0137)\n",
      "gbc-logloss: 0.5131 (0.0098)\n"
     ]
    }
   ],
   "source": [
    "for name, props in pmodels.items():\n",
    "    for f in fields(props.scores):\n",
    "        score = getattr(props.scores, f.name)\n",
    "        smean, sstd = np.mean(score.sres), np.std(score.sres, ddof=1)\n",
    "        print(f\"{name}-{f.name}: {smean:.4f} ({sstd:.4f})\")"
   ]
  },
  {
   "cell_type": "code",
   "execution_count": 10,
   "id": "92f77633",
   "metadata": {},
   "outputs": [],
   "source": [
    "# The GBC seems to have slightly less log loss, to we'll use it for propensity modelling\n",
    "p = pmodels[\"gbc\"].propensity\n",
    "\n",
    "# RBF Features\n",
    "Xrbf = Nystroem(gamma=1 / (10 * X.var() * X.shape[1]), n_components=1000).fit_transform(X)\n",
    "#Xrbf = RBFSampler(gamma=\"scale\", n_components=500).fit_transform(X)\n",
    "\n",
    "# Augment features with this score\n",
    "Xt = np.hstack((t[:, np.newaxis], p[:, np.newaxis], Xrbf))"
   ]
  },
  {
   "cell_type": "markdown",
   "id": "12",
   "metadata": {},
   "source": [
    "## Scikit learn Bayesian Estimators\n",
    "\n",
    "### Bayesian Ridge S-learner\n",
    "\n",
    "Coefficient statistics"
   ]
  },
  {
   "cell_type": "code",
   "execution_count": 11,
   "id": "13",
   "metadata": {},
   "outputs": [
    {
     "name": "stdout",
     "output_type": "stream",
     "text": [
      "Bayesian Ridge simple model - coefficient stats:\n",
      "  R-squared = 0.4473\n",
      "  ATE: 73.1406 (27.4711)\n",
      "  t: 2.6625\n",
      "  p-value: 0.0078\n",
      "  CI (0.025, 0.975): [19.2984, 126.9829]\n"
     ]
    }
   ],
   "source": [
    "blr = BayesianRidgeStat()\n",
    "blr.fit(Xt, y)\n",
    "\n",
    "score = blr.score(Xt, y)  # WARNING: score on training data!\n",
    "\n",
    "# Coefficient statistics\n",
    "stats = blr.model_statistics()\n",
    "ate_blr, se_blr = stats.beta[0], stats.std_err[0]\n",
    "ci_blr = norm.interval(loc=ate_blr, scale=se_blr, confidence=0.95)\n",
    "\n",
    "print(\"Bayesian Ridge simple model - coefficient stats:\")\n",
    "print(f\"  R-squared = {score:.4f}\")\n",
    "print(f\"  ATE: {ate_blr:.4f} ({se_blr:.4f})\")\n",
    "print(f\"  t: {stats.t_stat[0]:.4f}\")\n",
    "print(f\"  p-value: {stats.p_value[0]:.4f}\")\n",
    "print(f\"  CI (0.025, 0.975): [{ci_blr[0]:.4f}, {ci_blr[1]:.4f}]\")"
   ]
  },
  {
   "cell_type": "markdown",
   "id": "d2e67a75",
   "metadata": {},
   "source": [
    "## Gaussian Process\n",
    "\n",
    "This Gaussian process implements the recommended model from (Hahn, 2020) above,\n",
    "$$\n",
    "    f(x_i, \\pi_i, t_i) = \\mu(x_i, \\pi_i) + \\tau(x_i)\\cdot t_i\n",
    "$$\n",
    "as a GP with the composite kernel,\n",
    "$$\n",
    "    k_{\\!f}([x_i, \\pi_i, t_i], [x_j, \\pi_j, t_j]) \n",
    "        = k_\\mu([x_i, \\pi_i], [x_j, \\pi_j])\n",
    "        + k_\\tau(x_i, x_j) \\cdot t_i t_j\n",
    "$$"
   ]
  },
  {
   "cell_type": "code",
   "execution_count": 12,
   "id": "457bb7fd",
   "metadata": {},
   "outputs": [],
   "source": [
    "# Function to apply a kernel to a subset of dimensions:\n",
    "\n",
    "def kernel_dimensions(KernelClass, Xdims):\n",
    "    \n",
    "    class KernelDims(KernelClass):\n",
    "        \n",
    "        def __call__(self, X, Y=None, eval_gradient=False):\n",
    "            Xd = X[:, Xdims]\n",
    "            Yd = Y\n",
    "            if Y is not None:\n",
    "                Yd = Y[:, Xdims]\n",
    "            return super().__call__(Xd, Yd, eval_gradient)\n",
    "        \n",
    "        def diag(self, X):\n",
    "            Xd = X[:, Xdims]\n",
    "            return super().diag(Xd)\n",
    "        \n",
    "    return KernelDims"
   ]
  },
  {
   "cell_type": "code",
   "execution_count": 13,
   "id": "7c067979",
   "metadata": {},
   "outputs": [],
   "source": [
    "kernel = 1.0 * kernel_dimensions(Matern, slice(1, None))(length_scale=10., nu=1.5) \\\n",
    "    + 0.1 * kernel_dimensions(DotProduct, [0])(sigma_0=0, sigma_0_bounds=\"fixed\") \\\n",
    "    * kernel_dimensions(Matern, slice(2, None))(length_scale=100., nu=1.5) \\\n",
    "    + WhiteKernel()\n",
    "\n",
    "gp = GaussianProcessRegressor(kernel=kernel, normalize_y=True)\n",
    "\n",
    "# This takes a while for 5000 samples...\n",
    "Xg = np.hstack((t[:, np.newaxis], p[:, np.newaxis], X))\n",
    "gp.fit(Xg, y)\n",
    "score = gp.score(Xg, y) # WARNING: Score on training data - this is likely to overfit"
   ]
  },
  {
   "cell_type": "code",
   "execution_count": 14,
   "id": "2d727ddb",
   "metadata": {},
   "outputs": [
    {
     "name": "stdout",
     "output_type": "stream",
     "text": [
      "Gaussian Process 1.42**2 * KernelDims(length_scale=16.1, nu=1.5) + 0.0612**2 * KernelDims(sigma_0=0) * KernelDims(length_scale=146, nu=1.5) + WhiteKernel(noise_level=0.368):\n",
      "  R-squared = 0.7591\n",
      "  ATE: 57.4391 (28.0610)\n",
      "  CI (0.025, 0.975): [2.4406, 112.4375]\n"
     ]
    }
   ],
   "source": [
    "# ATE sampling\n",
    "Xt0 = np.hstack((np.zeros_like(t)[:, np.newaxis], p[:, np.newaxis], X))\n",
    "Xt1 = np.hstack((np.ones_like(t)[:, np.newaxis], p[:, np.newaxis], X))\n",
    "f0, K0 = gp.predict(Xt0, return_cov=True)\n",
    "f1, K1 = gp.predict(Xt1, return_cov=True)\n",
    "\n",
    "samples = 100\n",
    "y_0_samples = np.random.multivariate_normal(mean=f0, cov=K0, size=samples)\n",
    "y_1_samples = np.random.multivariate_normal(mean=f1, cov=K1, size=samples)\n",
    "ate_gp_samples = (y_1_samples - y_0_samples).mean(axis=1)\n",
    "\n",
    "ate_gp = ate_gp_samples.mean()\n",
    "se_gp = np.std(ate_gp_samples, ddof=1)\n",
    "ci_gp = norm.interval(loc=ate_gp, scale=se_gp, confidence=0.95)\n",
    "\n",
    "print(f\"Gaussian Process {gp.kernel_}:\")\n",
    "print(f\"  R-squared = {score:.4f}\")\n",
    "print(f\"  ATE: {ate_gp:.4f} ({se_gp:.4f})\")\n",
    "print(f\"  CI (0.025, 0.975): [{ci_gp[0]:.4f}, {ci_gp[1]:.4f}]\")"
   ]
  },
  {
   "cell_type": "markdown",
   "id": "97adf6d0",
   "metadata": {},
   "source": [
    "Check if GP is overfitting"
   ]
  },
  {
   "cell_type": "code",
   "execution_count": 16,
   "id": "260feb6f",
   "metadata": {},
   "outputs": [
    {
     "data": {
      "text/html": [
       "<div>\n",
       "<style scoped>\n",
       "    .dataframe tbody tr th:only-of-type {\n",
       "        vertical-align: middle;\n",
       "    }\n",
       "\n",
       "    .dataframe tbody tr th {\n",
       "        vertical-align: top;\n",
       "    }\n",
       "\n",
       "    .dataframe thead th {\n",
       "        text-align: right;\n",
       "    }\n",
       "</style>\n",
       "<table border=\"1\" class=\"dataframe\">\n",
       "  <thead>\n",
       "    <tr style=\"text-align: right;\">\n",
       "      <th></th>\n",
       "      <th>fit_time</th>\n",
       "      <th>score_time</th>\n",
       "      <th>test_score</th>\n",
       "      <th>train_score</th>\n",
       "    </tr>\n",
       "  </thead>\n",
       "  <tbody>\n",
       "    <tr>\n",
       "      <th>count</th>\n",
       "      <td>5.000000</td>\n",
       "      <td>5.000000</td>\n",
       "      <td>5.000000</td>\n",
       "      <td>5.000000</td>\n",
       "    </tr>\n",
       "    <tr>\n",
       "      <th>mean</th>\n",
       "      <td>431.677454</td>\n",
       "      <td>1.383149</td>\n",
       "      <td>0.328512</td>\n",
       "      <td>0.816157</td>\n",
       "    </tr>\n",
       "    <tr>\n",
       "      <th>std</th>\n",
       "      <td>149.323198</td>\n",
       "      <td>0.458158</td>\n",
       "      <td>0.066498</td>\n",
       "      <td>0.028686</td>\n",
       "    </tr>\n",
       "    <tr>\n",
       "      <th>min</th>\n",
       "      <td>254.091906</td>\n",
       "      <td>0.947462</td>\n",
       "      <td>0.243770</td>\n",
       "      <td>0.788695</td>\n",
       "    </tr>\n",
       "    <tr>\n",
       "      <th>25%</th>\n",
       "      <td>309.121186</td>\n",
       "      <td>1.195118</td>\n",
       "      <td>0.305549</td>\n",
       "      <td>0.795411</td>\n",
       "    </tr>\n",
       "    <tr>\n",
       "      <th>50%</th>\n",
       "      <td>470.787393</td>\n",
       "      <td>1.293140</td>\n",
       "      <td>0.331814</td>\n",
       "      <td>0.802476</td>\n",
       "    </tr>\n",
       "    <tr>\n",
       "      <th>75%</th>\n",
       "      <td>502.886582</td>\n",
       "      <td>1.320693</td>\n",
       "      <td>0.333183</td>\n",
       "      <td>0.845560</td>\n",
       "    </tr>\n",
       "    <tr>\n",
       "      <th>max</th>\n",
       "      <td>621.500206</td>\n",
       "      <td>2.159329</td>\n",
       "      <td>0.428246</td>\n",
       "      <td>0.848643</td>\n",
       "    </tr>\n",
       "  </tbody>\n",
       "</table>\n",
       "</div>"
      ],
      "text/plain": [
       "         fit_time  score_time  test_score  train_score\n",
       "count    5.000000    5.000000    5.000000     5.000000\n",
       "mean   431.677454    1.383149    0.328512     0.816157\n",
       "std    149.323198    0.458158    0.066498     0.028686\n",
       "min    254.091906    0.947462    0.243770     0.788695\n",
       "25%    309.121186    1.195118    0.305549     0.795411\n",
       "50%    470.787393    1.293140    0.331814     0.802476\n",
       "75%    502.886582    1.320693    0.333183     0.845560\n",
       "max    621.500206    2.159329    0.428246     0.848643"
      ]
     },
     "execution_count": 16,
     "metadata": {},
     "output_type": "execute_result"
    }
   ],
   "source": [
    "cv_scores = cross_validate(\n",
    "    gp,\n",
    "    Xg,\n",
    "    y,\n",
    "    cv=KFold(n_splits=5, shuffle=True),\n",
    "    return_train_score=True, n_jobs=2\n",
    ")\n",
    "pd.DataFrame(cv_scores).describe()"
   ]
  },
  {
   "cell_type": "markdown",
   "id": "21",
   "metadata": {},
   "source": [
    "## Hierarchical Bayesian Linear Model\n",
    "\n",
    "This model takes the following form and prior settings,\n",
    "\n",
    "$$\n",
    "\\begin{align}\n",
    "    \\{\\lambda_0, \\lambda_x\\, \\sigma\\} &\\sim \\textrm{HalfCauchy}(25) \\\\\n",
    "    \\{\\lambda_{\\pi}, \\lambda_t, \\lambda_{tx}\\} &\\sim \\textrm{Uniform}(0, 1000) \\\\\n",
    "    w_0 &\\sim \\mathcal{N}(0, \\lambda_0^2) \\\\\n",
    "    w_\\pi &\\sim \\mathcal{N}(0, \\lambda_\\pi^2) \\\\\n",
    "    \\mathbf{w}_x &\\sim \\mathcal{N}(0, \\lambda_x^2 \\mathbf{I}_d) \\\\\n",
    "    w_t &\\sim \\mathcal{N}(0, \\lambda_t^2) \\\\\n",
    "    \\mathbf{w}_{tx} &\\sim \\mathcal{N}(0, \\lambda_{tx}^2 \\mathbf{I}_d) \\\\\n",
    "    y_i &\\sim \\mathcal{N}(\\mu(\\mathbf{x}_i, t_i, \\pi_i), \\sigma^2) \\\\\n",
    "    \\mu(\\mathbf{x}_i, t_i, \\pi_i) &= \\rho(\\mathbf{x}_i, \\pi_i) + t_i \\cdot \\tau(\\mathbf{x}_i)\\\\\n",
    "    \\tau(\\mathbf{x}_i) &= (\\mathbf{w}_{tx}^\\top\\mathbf{x}_i + w_t)\\\\\n",
    "    \\rho(\\mathbf{x}_i, \\pi_i) &= w_0 + w_\\pi \\pi_i + \\mathbf{w}_x^\\top\\mathbf{x}_i\\\\\n",
    "\\end{align}\n",
    "$$\n",
    "\n",
    "This explicitly models and interaction term, and can automatically regularise this term. This effectively allows the model to interpolate between an S and T-learner.\n",
    "\n",
    "For ideas about choice of prior, we should refer to:\n",
    "\n",
    "- Gelman, A. (2006). Prior distributions for variance parameters in hierarchical models. Bayesian analysis, 1(3), 515-534."
   ]
  },
  {
   "cell_type": "markdown",
   "id": "22",
   "metadata": {},
   "source": [
    "### Set up the model"
   ]
  },
  {
   "cell_type": "code",
   "execution_count": 17,
   "id": "23",
   "metadata": {},
   "outputs": [],
   "source": [
    "def predict(w_0, w_t, w_x, w_tx, w_p, x, t, p):\n",
    "    f = prognostic(w_0, w_x, w_p, x, p) + t * ite(w_tx, w_t, x)\n",
    "    return f\n",
    "\n",
    "\n",
    "def prognostic(w_0, w_x, w_p, x, p):\n",
    "    mu = w_0 + w_p * p + x @ w_x\n",
    "    return mu\n",
    "\n",
    "\n",
    "def ite(w_tx, w_t, x):\n",
    "    tau = x @ w_tx + w_t\n",
    "    return tau\n",
    "\n",
    "\n",
    "def model_treatment_intersection(x, t, p, y):\n",
    "    n, d = x.shape\n",
    "        \n",
    "    # Hyper Priors\n",
    "    l_0 = pyro.sample(\"l_0\", dist.HalfCauchy(scale=25))\n",
    "    l_x = pyro.sample(\"l_x\", dist.HalfCauchy(scale=25))\n",
    "    l_p = pyro.sample(\"l_p\", dist.Uniform(0, 1000))\n",
    "    l_t = pyro.sample(\"l_t\", dist.Uniform(0, 1000))\n",
    "    l_tx = pyro.sample(\"l_tx\", dist.Uniform(0, 1000))\n",
    "    \n",
    "    # Priors\n",
    "    sigma = pyro.sample(\"stddev\", dist.HalfCauchy(scale=25))\n",
    "    p_wp = dist.Normal(0, l_p**2)\n",
    "    p_w0 = dist.Normal(0, l_0**2)\n",
    "    p_wx = dist.Normal(np.zeros(d), l_x**2 * np.ones(d))\n",
    "    p_wt = dist.Normal(0, l_t**2)\n",
    "    p_twx = dist.Normal(np.zeros(d), l_tx**2 * np.ones(d))\n",
    "    \n",
    "    # Model weights\n",
    "    w_p = pyro.sample(\"propensity\", p_wp)\n",
    "    w_0 = pyro.sample(\"intercept\", p_w0)\n",
    "    w_t = pyro.sample(\"treatment\", p_wt)\n",
    "    w_x = pyro.sample(\"confounders\", p_wx)\n",
    "    w_tx = pyro.sample(\"intersection\", p_twx)\n",
    "    \n",
    "    # Likelihood\n",
    "    f = predict(w_0, w_t, w_x, w_tx, w_p, x, t, p)\n",
    "    \n",
    "    with pyro.plate(\"data\", n):\n",
    "        likelihood = dist.Normal(f, sigma**2)\n",
    "        y = pyro.sample(\"likelihood\", likelihood, obs=y)"
   ]
  },
  {
   "cell_type": "markdown",
   "id": "24",
   "metadata": {},
   "source": [
    "### Run MCMC inference to compute the posteriors"
   ]
  },
  {
   "cell_type": "code",
   "execution_count": 18,
   "id": "25",
   "metadata": {},
   "outputs": [
    {
     "name": "stderr",
     "output_type": "stream",
     "text": [
      "No GPU/TPU found, falling back to CPU. (Set TF_CPP_MIN_LOG_LEVEL=0 and rerun for more info.)\n",
      "sample: 100%|█████████| 20500/20500 [02:46<00:00, 123.03it/s, 31 steps of size 2.86e-04. acc. prob=0.91]\n"
     ]
    }
   ],
   "source": [
    "samples = 500\n",
    "warm_up = 20000\n",
    "\n",
    "# Initialize No U-Turn Sampler\n",
    "nuts_kernel = NUTS(model_treatment_intersection, max_tree_depth=5)\n",
    "model_mcmc = MCMC(nuts_kernel, num_samples=samples, num_warmup=warm_up, num_chains=1)\n",
    "\n",
    "# Run the sampler\n",
    "rng_key = random.PRNGKey(0)\n",
    "model_mcmc.run(rng_key, X, t, p, y)"
   ]
  },
  {
   "cell_type": "code",
   "execution_count": 19,
   "id": "c081431b",
   "metadata": {
    "scrolled": false
   },
   "outputs": [
    {
     "name": "stdout",
     "output_type": "stream",
     "text": [
      "\n",
      "                      mean       std    median      5.0%     95.0%     n_eff     r_hat\n",
      "  confounders[0]    -31.86      0.33    -31.85    -32.35    -31.34      4.87      1.63\n",
      "  confounders[1]     -1.66      0.43     -1.75     -2.32     -0.94      3.86      1.37\n",
      "  confounders[2]     -3.31      0.47     -3.20     -4.03     -2.58      4.45      1.36\n",
      "  confounders[3]    -14.11      0.22    -14.14    -14.49    -13.78      7.03      1.04\n",
      "  confounders[4]    -14.68      0.29    -14.67    -15.16    -14.22      4.82      1.65\n",
      "  confounders[5]     11.09      0.89     11.34      9.58     12.19      2.79      2.22\n",
      "  confounders[6]     24.45      0.38     24.40     23.81     24.99      4.14      1.66\n",
      "  confounders[7]     20.37      0.33     20.47     19.90     20.87      3.69      1.63\n",
      "  confounders[8]     10.13      0.26     10.11      9.75     10.54      7.50      1.67\n",
      "  confounders[9]     56.34      0.26     56.30     55.96     56.78     10.72      1.31\n",
      " confounders[10]     21.97      0.88     21.94     20.70     23.31      3.10      1.96\n",
      " confounders[11]     14.46      0.68     14.32     13.48     15.56      2.84      2.11\n",
      " confounders[12]    -28.00      0.27    -27.95    -28.44    -27.63      7.16      1.22\n",
      " confounders[13]      9.01      0.47      8.97      8.31      9.74      3.36      1.59\n",
      " confounders[14]    -50.26      0.47    -50.30    -50.92    -49.47      3.12      1.96\n",
      " confounders[15]     13.33      0.54     13.39     12.46     14.09      4.15      1.21\n",
      " confounders[16]    -23.19      0.37    -23.10    -23.88    -22.72      3.29      1.70\n",
      " confounders[17]    -81.41      0.57    -81.50    -82.24    -80.41      5.98      1.17\n",
      " confounders[18]   -107.54      0.48   -107.48   -108.47   -106.90      6.51      1.10\n",
      " confounders[19]      2.24      1.02      2.82      0.62      3.29      2.80      2.05\n",
      " confounders[20]    -35.03      0.80    -34.68    -36.33    -33.99      2.45      3.29\n",
      " confounders[21]    -26.14      0.59    -26.09    -27.14    -25.39      4.06      1.72\n",
      " confounders[22]    -13.77      0.31    -13.87    -14.11    -13.23      9.06      1.03\n",
      " confounders[23]    -10.65      0.36    -10.68    -11.33    -10.16      6.35      1.00\n",
      " confounders[24]     42.25      0.88     42.49     40.66     43.26      4.27      1.29\n",
      " confounders[25]     -4.64      0.28     -4.67     -4.99     -4.03      5.47      1.13\n",
      " confounders[26]    -18.70      0.79    -19.07    -19.73    -17.71      2.52      2.72\n",
      " confounders[27]    -11.38      0.30    -11.31    -11.91    -11.00      5.05      1.20\n",
      " confounders[28]     10.53      0.41     10.49      9.88     11.21      5.87      1.25\n",
      " confounders[29]     31.39      1.29     31.90     29.22     32.87      2.67      2.28\n",
      " confounders[30]     37.40      0.19     37.40     37.08     37.71      6.91      1.43\n",
      " confounders[31]    -19.21      0.77    -19.26    -20.24    -17.86      4.11      1.90\n",
      " confounders[32]    -22.21      0.54    -22.34    -22.99    -21.34      3.48      1.71\n",
      " confounders[33]     26.89      0.60     26.70     26.02     27.78      4.96      1.05\n",
      " confounders[34]     -0.46      0.34     -0.48     -0.91      0.04      3.60      1.44\n",
      " confounders[35]     31.64      0.40     31.52     31.13     32.31      3.74      1.71\n",
      " confounders[36]     46.34      0.61     46.22     45.37     47.12      2.93      2.85\n",
      " confounders[37]    -71.94      0.65    -71.71    -72.98    -71.07      3.56      1.62\n",
      " confounders[38]    -28.74      0.31    -28.72    -29.28    -28.28      6.16      1.05\n",
      " confounders[39]     -2.13      0.40     -2.04     -2.94     -1.65      5.66      1.00\n",
      " confounders[40]     34.49      0.53     34.53     33.69     35.25      3.35      2.31\n",
      " confounders[41]    -22.39      0.38    -22.23    -23.07    -21.99      3.20      1.68\n",
      " confounders[42]     -2.33      0.37     -2.39     -2.80     -1.64      5.82      1.44\n",
      " confounders[43]     11.57      0.64     11.43     10.79     12.81      3.85      1.30\n",
      " confounders[44]     33.37      0.30     33.43     32.88     33.78      4.60      1.20\n",
      " confounders[45]   -184.31      1.76   -183.87   -186.64   -181.93      2.41      3.12\n",
      " confounders[46]      2.34      0.63      2.32      1.41      3.53      4.18      1.58\n",
      " confounders[47]     16.20      0.45     16.08     15.59     16.92      3.73      1.35\n",
      " confounders[48]     49.43      0.35     49.42     48.87     49.92      7.39      1.21\n",
      " confounders[49]     78.29      0.53     78.23     77.65     79.53      4.54      1.51\n",
      " confounders[50]    -24.12      0.22    -24.13    -24.42    -23.73      6.51      1.29\n",
      " confounders[51]     10.03      0.66     10.31      8.98     10.90      2.79      1.93\n",
      " confounders[52]      3.50      0.24      3.48      3.09      3.84     10.02      1.01\n",
      " confounders[53]     11.04      0.57     11.13     10.42     11.87      3.02      2.22\n",
      " confounders[54]      0.06      0.19      0.07     -0.27      0.34      7.68      1.28\n",
      " confounders[55]     30.92      0.50     31.06     30.05     31.59      4.12      1.50\n",
      " confounders[56]      3.49      0.47      3.44      2.76      4.15      2.82      2.41\n",
      " confounders[57]     35.80      0.32     35.82     35.19     36.29      5.47      1.07\n",
      " confounders[58]     -0.83      0.50     -0.80     -1.54     -0.10      7.18      1.00\n",
      " confounders[59]    -10.07      0.25    -10.04    -10.49     -9.68      4.42      1.70\n",
      " confounders[60]      8.13      0.21      8.14      7.86      8.46      9.84      1.09\n",
      " confounders[61]     -2.24      0.52     -2.09     -3.28     -1.66      3.82      1.70\n",
      " confounders[62]    -11.87      0.55    -11.97    -12.70    -11.04      5.33      1.14\n",
      " confounders[63]     -3.24      0.55     -3.29     -3.87     -2.21      3.11      1.75\n",
      " confounders[64]    -24.33      0.86    -24.24    -25.58    -22.97      2.72      2.38\n",
      " confounders[65]     23.45      0.40     23.44     22.74     24.02      6.90      1.10\n",
      " confounders[66]     28.23      0.66     28.01     27.47     29.49      5.32      1.13\n",
      " confounders[67]      4.86      0.49      4.78      4.21      5.61      2.50      2.90\n",
      " confounders[68]    -38.22      0.51    -38.06    -39.23    -37.61      4.46      1.15\n",
      " confounders[69]    -23.70      0.51    -23.66    -24.49    -22.87      5.55      1.15\n",
      " confounders[70]    -28.95      0.34    -28.97    -29.49    -28.40     11.82      1.01\n",
      " confounders[71]    -32.25      0.73    -32.20    -33.30    -31.14      2.69      2.49\n",
      " confounders[72]    -21.46      0.30    -21.44    -21.95    -21.00      8.21      1.02\n",
      " confounders[73]    -22.59      0.65    -22.70    -23.64    -21.37      6.31      1.09\n",
      " confounders[74]     14.13      0.35     14.10     13.66     14.74      3.09      2.05\n",
      " confounders[75]    -11.65      0.19    -11.63    -11.95    -11.35     13.66      1.38\n",
      " confounders[76]    -49.98      0.53    -50.01    -50.75    -49.07      5.82      1.19\n",
      " confounders[77]    126.82      0.38    126.77    126.23    127.50      4.73      1.37\n",
      " confounders[78]    -15.71      0.49    -15.77    -16.36    -14.92      2.76      2.90\n",
      " confounders[79]    -24.05      0.73    -23.72    -25.43    -23.35      3.05      1.88\n",
      " confounders[80]     21.82      0.66     21.97     20.86     22.82      4.12      1.84\n",
      " confounders[81]     -7.97      0.19     -7.93     -8.28     -7.71      6.12      1.60\n",
      " confounders[82]      2.72      0.63      2.79      1.48      3.55      5.15      1.15\n",
      " confounders[83]    -27.52      0.39    -27.51    -28.13    -26.83      8.24      1.00\n",
      " confounders[84]     -8.22      0.54     -8.17     -9.03     -7.46      2.59      2.99\n",
      " confounders[85]     54.46      0.31     54.52     53.96     54.90      5.42      1.29\n",
      " confounders[86]     -7.47      0.12     -7.48     -7.66     -7.27     28.55      1.01\n",
      " confounders[87]    -22.74      0.34    -22.84    -23.15    -22.04      5.29      1.74\n",
      " confounders[88]     44.74      0.34     44.76     44.27     45.32      7.04      1.07\n",
      " confounders[89]      9.76      0.38      9.86      9.01     10.18      5.05      1.13\n",
      " confounders[90]    -36.61      0.50    -36.67    -37.40    -35.77      6.60      1.26\n",
      "       intercept    487.23      0.89    487.24    486.00    488.83      7.12      1.50\n",
      " intersection[0]      0.00      0.00      0.00     -0.00      0.00    519.19      1.00\n",
      " intersection[1]     -0.00      0.00      0.00     -0.00      0.00    362.76      1.00\n",
      " intersection[2]     -0.00      0.00     -0.00     -0.00      0.00    397.57      1.00\n",
      " intersection[3]      0.00      0.00      0.00     -0.00      0.00    319.75      1.00\n",
      " intersection[4]      0.00      0.00      0.00     -0.00      0.00    407.50      1.00\n",
      " intersection[5]      0.00      0.00     -0.00     -0.00      0.00    444.29      1.00\n",
      " intersection[6]      0.00      0.00      0.00     -0.00      0.00    375.81      1.00\n",
      " intersection[7]      0.00      0.00     -0.00     -0.00      0.00    558.95      1.00\n",
      " intersection[8]      0.00      0.00      0.00     -0.00      0.00    419.43      1.00\n",
      " intersection[9]      0.00      0.00      0.00     -0.00      0.00    353.09      1.00\n",
      "intersection[10]     -0.00      0.00      0.00     -0.00      0.00    313.81      1.00\n",
      "intersection[11]     -0.00      0.00     -0.00     -0.00      0.00    485.15      1.00\n",
      "intersection[12]      0.00      0.00      0.00     -0.00      0.00    374.75      1.00\n",
      "intersection[13]     -0.00      0.00      0.00     -0.00      0.00    469.35      1.00\n",
      "intersection[14]     -0.00      0.00      0.00     -0.00      0.00    510.14      1.00\n",
      "intersection[15]     -0.00      0.00     -0.00     -0.00      0.00    511.70      1.00\n",
      "intersection[16]     -0.00      0.00     -0.00     -0.00      0.00    518.16      1.00\n",
      "intersection[17]     -0.00      0.00     -0.00     -0.00      0.00    382.75      1.00\n",
      "intersection[18]     -0.00      0.00     -0.00     -0.00      0.00    403.54      1.00\n",
      "intersection[19]     -0.00      0.00     -0.00     -0.00      0.00    426.41      1.01\n",
      "intersection[20]      0.00      0.00      0.00     -0.00      0.00    384.13      1.00\n",
      "intersection[21]     -0.00      0.00      0.00     -0.00      0.00    446.68      1.00\n",
      "intersection[22]     -0.00      0.00     -0.00     -0.00      0.00    491.33      1.00\n",
      "intersection[23]      0.00      0.00      0.00     -0.00      0.00    494.67      1.00\n",
      "intersection[24]      0.00      0.00      0.00     -0.00      0.00    518.47      1.00\n",
      "intersection[25]     -0.00      0.00     -0.00     -0.00      0.00    451.03      1.00\n",
      "intersection[26]     -0.00      0.00     -0.00     -0.00      0.00    425.01      1.00\n",
      "intersection[27]      0.00      0.00     -0.00     -0.00      0.00    501.82      1.00\n",
      "intersection[28]     -0.00      0.00     -0.00     -0.00      0.00    432.79      1.00\n",
      "intersection[29]     -0.00      0.00     -0.00     -0.00      0.00    498.48      1.00\n",
      "intersection[30]     -0.00      0.00     -0.00     -0.00      0.00    386.73      1.00\n",
      "intersection[31]     -0.00      0.00     -0.00     -0.00      0.00    435.21      1.00\n",
      "intersection[32]      0.00      0.00     -0.00     -0.00      0.00    368.17      1.00\n",
      "intersection[33]      0.00      0.00      0.00     -0.00      0.00    369.67      1.00\n",
      "intersection[34]      0.00      0.00      0.00     -0.00      0.00    519.66      1.00\n",
      "intersection[35]      0.00      0.00      0.00     -0.00      0.00    476.13      1.00\n",
      "intersection[36]      0.00      0.00      0.00     -0.00      0.00    324.82      1.00\n",
      "intersection[37]     -0.00      0.00     -0.00     -0.00      0.00    480.84      1.00\n",
      "intersection[38]     -0.00      0.00     -0.00     -0.00      0.00    467.41      1.00\n",
      "intersection[39]      0.00      0.00     -0.00     -0.00      0.00    486.09      1.00\n",
      "intersection[40]      0.00      0.00     -0.00     -0.00      0.00    495.30      1.00\n",
      "intersection[41]      0.00      0.00      0.00     -0.00      0.00    516.85      1.00\n",
      "intersection[42]     -0.00      0.00      0.00     -0.00      0.00    379.51      1.00\n",
      "intersection[43]      0.00      0.00      0.00     -0.00      0.00    428.62      1.00\n",
      "intersection[44]      0.00      0.00      0.00     -0.00      0.00    443.15      1.00\n",
      "intersection[45]     -0.00      0.00     -0.00     -0.00      0.00    512.52      1.00\n",
      "intersection[46]      0.00      0.00      0.00     -0.00      0.00    487.34      1.00\n",
      "intersection[47]      0.00      0.00      0.00     -0.00      0.00    490.11      1.00\n",
      "intersection[48]     -0.00      0.00     -0.00     -0.00      0.00    577.86      1.00\n",
      "intersection[49]      0.00      0.00      0.00     -0.00      0.00    555.21      1.00\n",
      "intersection[50]      0.00      0.00      0.00     -0.00      0.00    409.63      1.00\n",
      "intersection[51]      0.00      0.00      0.00     -0.00      0.00    203.17      1.01\n",
      "intersection[52]      0.00      0.00     -0.00     -0.00      0.00    435.70      1.00\n",
      "intersection[53]     -0.00      0.00     -0.00     -0.00      0.00    507.62      1.00\n",
      "intersection[54]      0.00      0.00     -0.00     -0.00      0.00    410.81      1.00\n",
      "intersection[55]     -0.00      0.00     -0.00     -0.00      0.00    346.17      1.00\n",
      "intersection[56]      0.00      0.00     -0.00     -0.00      0.00    405.56      1.00\n",
      "intersection[57]      0.00      0.00      0.00     -0.00      0.00    455.88      1.00\n",
      "intersection[58]     -0.00      0.00     -0.00     -0.00      0.00    492.26      1.00\n",
      "intersection[59]     -0.00      0.00     -0.00     -0.00      0.00    349.66      1.00\n",
      "intersection[60]     -0.00      0.00      0.00     -0.00      0.00    537.31      1.00\n",
      "intersection[61]     -0.00      0.00     -0.00     -0.00      0.00    386.14      1.00\n",
      "intersection[62]      0.00      0.00      0.00     -0.00      0.00    428.96      1.00\n",
      "intersection[63]     -0.00      0.00      0.00     -0.00      0.00    564.00      1.00\n",
      "intersection[64]      0.00      0.00     -0.00     -0.00      0.00    465.03      1.00\n",
      "intersection[65]     -0.00      0.00      0.00     -0.00      0.00    494.90      1.00\n",
      "intersection[66]      0.00      0.00      0.00     -0.00      0.00    485.00      1.00\n",
      "intersection[67]     -0.00      0.00     -0.00     -0.00      0.00    389.06      1.00\n",
      "intersection[68]      0.00      0.00     -0.00     -0.00      0.00    509.56      1.00\n",
      "intersection[69]     -0.00      0.00     -0.00     -0.00      0.00    358.93      1.00\n",
      "intersection[70]      0.00      0.00      0.00     -0.00      0.00    509.27      1.00\n",
      "intersection[71]      0.00      0.00      0.00     -0.00      0.00    373.52      1.00\n",
      "intersection[72]      0.00      0.00      0.00     -0.00      0.00    411.39      1.00\n",
      "intersection[73]     -0.00      0.00     -0.00     -0.00      0.00    360.69      1.01\n",
      "intersection[74]     -0.00      0.00     -0.00     -0.00      0.00    409.09      1.00\n",
      "intersection[75]      0.00      0.00      0.00     -0.00      0.00    469.00      1.00\n",
      "intersection[76]      0.00      0.00      0.00     -0.00      0.00    492.64      1.00\n",
      "intersection[77]     -0.00      0.00      0.00     -0.00      0.00    396.08      1.00\n",
      "intersection[78]      0.00      0.00      0.00     -0.00      0.00    405.76      1.00\n",
      "intersection[79]     -0.00      0.00     -0.00     -0.00      0.00    467.84      1.00\n",
      "intersection[80]      0.00      0.00      0.00     -0.00      0.00    575.43      1.00\n",
      "intersection[81]      0.00      0.00      0.00     -0.00      0.00    563.33      1.00\n",
      "intersection[82]     -0.00      0.00     -0.00     -0.00      0.00    479.46      1.00\n",
      "intersection[83]      0.00      0.00      0.00     -0.00      0.00    427.42      1.00\n",
      "intersection[84]     -0.00      0.00     -0.00     -0.00      0.00    416.29      1.00\n",
      "intersection[85]      0.00      0.00      0.00     -0.00      0.00    502.08      1.00\n",
      "intersection[86]      0.00      0.00     -0.00     -0.00      0.00    550.88      1.00\n",
      "intersection[87]     -0.00      0.00      0.00     -0.00      0.00    468.16      1.00\n",
      "intersection[88]      0.00      0.00      0.00     -0.00      0.00    420.02      1.00\n",
      "intersection[89]     -0.00      0.00     -0.00     -0.00      0.00    400.18      1.00\n",
      "intersection[90]      0.00      0.00      0.00     -0.00      0.00    426.44      1.00\n",
      "             l_0     15.69      0.12     15.70     15.47     15.90      8.95      1.27\n",
      "             l_p     51.20      1.28     51.16     49.27     53.33      6.16      1.00\n",
      "             l_t      7.05      0.20      7.06      6.74      7.33      4.81      1.00\n",
      "            l_tx      0.02      0.00      0.02      0.02      0.02      5.12      1.00\n",
      "             l_x      6.15      0.01      6.15      6.14      6.16      5.16      1.23\n",
      "      propensity    471.84      4.16    471.27    466.28    478.90      3.00      1.99\n",
      "          stddev     29.34      0.00     29.34     29.34     29.35      9.00      1.30\n",
      "       treatment     32.23      1.29     32.72     30.06     33.73      2.71      2.56\n",
      "\n",
      "Number of divergences: 0\n"
     ]
    }
   ],
   "source": [
    "model_mcmc.print_summary()"
   ]
  },
  {
   "cell_type": "markdown",
   "id": "26",
   "metadata": {},
   "source": [
    "### Sample the ATE"
   ]
  },
  {
   "cell_type": "code",
   "execution_count": 20,
   "id": "27",
   "metadata": {},
   "outputs": [
    {
     "name": "stdout",
     "output_type": "stream",
     "text": [
      "Hierarchical Linear Regression\n",
      "  R-squared = 0.3318 (0.0002)\n",
      "  ATE: 32.2332\n",
      "  CI (0.025, 0.975): [30.0516, 34.2511]\n"
     ]
    }
   ],
   "source": [
    "hbr_samples = model_mcmc.get_samples()\n",
    "w_0s = hbr_samples[\"intercept\"]\n",
    "w_ps = hbr_samples[\"propensity\"]\n",
    "w_ts = hbr_samples[\"treatment\"]\n",
    "w_xs = hbr_samples[\"confounders\"]\n",
    "w_txs = hbr_samples[\"intersection\"]\n",
    "\n",
    "ate_hlr_samples = np.zeros(samples)\n",
    "score_samples = np.zeros(samples)\n",
    "t0 = np.zeros_like(t)\n",
    "t1 = np.ones_like(t)\n",
    "\n",
    "for s in range(samples):\n",
    "    f = predict(w_0s[s], w_ts[s], w_xs[s], w_txs[s], w_ps[s], X, t, p)\n",
    "    ate_hlr_samples[s] = ite(w_txs[s], w_ts[s], X).mean()\n",
    "    score_samples[s] = r2_score(y, f)\n",
    "\n",
    "ate_hlr = ate_hlr_samples.mean()\n",
    "ci_hlr = mstats.mquantiles(ate_hlr_samples, prob=[0.025, 0.975])\n",
    "\n",
    "print(\"Hierarchical Linear Regression\")\n",
    "print(f\"  R-squared = {score_samples.mean():.4f} ({score_samples.std():.4f})\")\n",
    "print(f\"  ATE: {ate_hlr:.4f}\")\n",
    "print(f\"  CI (0.025, 0.975): [{ci_hlr[0]:.4f}, {ci_hlr[1]:.4f}]\")"
   ]
  },
  {
   "cell_type": "markdown",
   "id": "cf9ed71e",
   "metadata": {},
   "source": [
    "### Sample and display some posterior distributions"
   ]
  },
  {
   "cell_type": "code",
   "execution_count": 21,
   "id": "1ebb279c",
   "metadata": {
    "scrolled": false
   },
   "outputs": [
    {
     "data": {
      "image/png": "[encoded data removed]",
      "text/plain": [
       "<Figure size 960x720 with 1 Axes>"
      ]
     },
     "metadata": {},
     "output_type": "display_data"
    },
    {
     "data": {
      "image/png": "[encoded data removed]",
      "text/plain": [
       "<Figure size 960x720 with 1 Axes>"
      ]
     },
     "metadata": {},
     "output_type": "display_data"
    },
    {
     "data": {
      "image/png": "[encoded data removed]",
      "text/plain": [
       "<Figure size 960x720 with 1 Axes>"
      ]
     },
     "metadata": {},
     "output_type": "display_data"
    },
    {
     "data": {
      "image/png": "[encoded data removed]",
      "text/plain": [
       "<Figure size 960x720 with 1 Axes>"
      ]
     },
     "metadata": {},
     "output_type": "display_data"
    },
    {
     "data": {
      "image/png": "[encoded data removed]",
      "text/plain": [
       "<Figure size 960x720 with 1 Axes>"
      ]
     },
     "metadata": {},
     "output_type": "display_data"
    },
    {
     "data": {
      "image/png": "[encoded data removed]",
      "text/plain": [
       "<Figure size 960x720 with 1 Axes>"
      ]
     },
     "metadata": {},
     "output_type": "display_data"
    }
   ],
   "source": [
    "posteriors = [\"l_0\", \"l_x\", \"l_p\", \"l_t\", \"l_tx\", \"stddev\"]\n",
    "for name in posteriors:\n",
    "    post = hbr_samples[name]\n",
    "    plt.figure(dpi=150)\n",
    "    plt.hist(post, bins=30)\n",
    "    plt.title(name)\n",
    "    plt.grid()\n",
    "    plt.show()"
   ]
  },
  {
   "cell_type": "code",
   "execution_count": 22,
   "id": "28",
   "metadata": {},
   "outputs": [
    {
     "data": {
      "image/png": "[encoded data removed]",
      "text/plain": [
       "<Figure size 960x720 with 1 Axes>"
      ]
     },
     "metadata": {},
     "output_type": "display_data"
    }
   ],
   "source": [
    "plt.figure(dpi=150)\n",
    "cnt, *_ = plt.hist(ate_hlr_samples, bins=20)\n",
    "plt.plot([ate_hlr, ate_hlr], [0, max(cnt)], 'r', label=\"mean\")\n",
    "plt.title(\"HLR ATE samples\")\n",
    "plt.xlabel(\"ATE\")\n",
    "plt.ylabel(\"counts\")\n",
    "plt.grid()\n",
    "plt.legend()\n",
    "plt.show()"
   ]
  },
  {
   "cell_type": "markdown",
   "id": "79c56db7",
   "metadata": {},
   "source": [
    "## Bayesian Causal Forest"
   ]
  },
  {
   "cell_type": "code",
   "execution_count": 23,
   "id": "a12a1d4f",
   "metadata": {},
   "outputs": [],
   "source": [
    "NUM_TREES_PR  = 200\n",
    "NUM_TREES_TRT = 100\n",
    "\n",
    "cf = XBCF(\n",
    "    #model=\"Normal\",\n",
    "    parallel=True, \n",
    "    num_sweeps=500, \n",
    "    burnin=200,\n",
    "    #max_depth=250,\n",
    "    num_trees_pr=NUM_TREES_PR,\n",
    "    num_trees_trt=NUM_TREES_TRT,\n",
    "    #num_cutpoints=100,\n",
    "    #Nmin=1,\n",
    "    #mtry_pr=X1.shape[1], # default 0 seems to be 'all'\n",
    "    #mtry_trt=X.shape[1], \n",
    "    #tau_pr=np.var(y)/NUM_TREES_PR, #0.6 * np.var(y) / /NUM_TREES_PR,\n",
    "    #tau_trt=np.var(y)/NUM_TREES_TRT, #0.1 * np.var(y) / /NUM_TREES_TRT,\n",
    "    alpha_pr=0.95, # shrinkage (splitting probability)\n",
    "    beta_pr=2, # shrinkage (tree depth)\n",
    "    alpha_trt=0.95, # shrinkage for treatment part\n",
    "    beta_trt=2,\n",
    "    p_categorical_pr=0,\n",
    "    p_categorical_trt=0,\n",
    "    standardize_target=True, # standardize y and unstandardize for prediction\n",
    ")\n"
   ]
  },
  {
   "cell_type": "code",
   "execution_count": 24,
   "id": "399cf388",
   "metadata": {},
   "outputs": [
    {
     "data": {
      "text/plain": [
       "XBCF(num_sweeps = 500, burnin = 200, max_depth = 250, Nmin = 1, num_cutpoints = 100, no_split_penality = 4.605170185988092, mtry_pr = 91, mtry_trt = 91, p_categorical_pr = 0, p_categorical_trt = 0, num_trees_pr = 200, alpha_pr = 0.95, beta_pr = 2.0, tau_pr = 3325.0019999398064, kap_pr = 16.0, s_pr = 4.0, pr_scale = False, num_trees_trt = 100, alpha_trt = 0.95, beta_trt = 2.0, tau_trt = 1108.3339999799357, kap_trt = 16.0, s_trt = 4.0, trt_scale = False, verbose = False, parallel = True, set_random_seed = False, random_seed = 0, sample_weights_flag = True, a_scaling = True, b_scaling = True)"
      ]
     },
     "execution_count": 24,
     "metadata": {},
     "output_type": "execute_result"
    }
   ],
   "source": [
    "cf.fit(\n",
    "    x_t=X, # Covariates treatment effect\n",
    "    x=X, # Covariates outcome (including propensity score)\n",
    "    y=y,  # Outcome\n",
    "    z=t.astype(\"int32\"), # Treatment group\n",
    ")"
   ]
  },
  {
   "cell_type": "code",
   "execution_count": 25,
   "id": "9003b4a6",
   "metadata": {},
   "outputs": [
    {
     "name": "stdout",
     "output_type": "stream",
     "text": [
      "Bayesian Causal Forest\n",
      "  ATE: 64.7979\n",
      "  CI (0.025, 0.975): [-5.0595, 159.7491]\n"
     ]
    }
   ],
   "source": [
    "tau_posterior = cf.predict(X, return_mean=False)\n",
    "ate_cbf_samples = tau_posterior.mean(axis=0)\n",
    "ate_cbf = ate_cbf_samples.mean()\n",
    "ci_cbf = mstats.mquantiles(ate_cbf_samples, prob=[0.025, 0.975])\n",
    "\n",
    "print(\"Bayesian Causal Forest\")\n",
    "#print(f\"  R-squared = {score_samples.mean():.4f} ({score_samples.std():.4f})\")\n",
    "print(f\"  ATE: {ate_cbf:.4f}\")\n",
    "print(f\"  CI (0.025, 0.975): [{ci_cbf[0]:.4f}, {ci_cbf[1]:.4f}]\")"
   ]
  },
  {
   "cell_type": "markdown",
   "id": "29",
   "metadata": {},
   "source": [
    "## Plot ATE"
   ]
  },
  {
   "cell_type": "code",
   "execution_count": 26,
   "id": "30",
   "metadata": {},
   "outputs": [
    {
     "data": {
      "image/png": "[encoded data removed]",
      "text/plain": [
       "<Figure size 960x720 with 1 Axes>"
      ]
     },
     "metadata": {},
     "output_type": "display_data"
    }
   ],
   "source": [
    "ate_labels = [\"OLS\", \"Bayesian Linear\", \"Gaussian Process\", \"Hierarchical Linear\", \"Bayesian Causal Forest\"]\n",
    "ate = [ate_ols, ate_blr, ate_gp, ate_hlr, ate_cbf]\n",
    "ci = [ci_ols, ci_blr, ci_gp, ci_hlr, ci_cbf]\n",
    "ind = np.arange(len(ate))\n",
    "\n",
    "plt.figure(dpi=150)\n",
    "plt.vlines(ind, ymin=[c[0] for c in ci], ymax=[c[1] for c in ci], colors='k', linewidth=3)\n",
    "plt.plot(ind, ate, 'rx', markersize=10)\n",
    "plt.xticks(ind, labels=ate_labels, rotation=30)\n",
    "plt.grid()\n",
    "plt.show()"
   ]
  },
  {
   "cell_type": "code",
   "execution_count": null,
   "id": "b1c10947",
   "metadata": {},
   "outputs": [],
   "source": []
  }
 ],
 "metadata": {
  "celltoolbar": "Tags",
  "kernelspec": {
   "display_name": "Python 3 (ipykernel)",
   "language": "python",
   "name": "python3"
  },
  "language_info": {
   "codemirror_mode": {
    "name": "ipython",
    "version": 3
   },
   "file_extension": ".py",
   "mimetype": "text/x-python",
   "name": "python",
   "nbconvert_exporter": "python",
   "pygments_lexer": "ipython3",
   "version": "3.10.9"
  }
 },
 "nbformat": 4,
 "nbformat_minor": 5
}
