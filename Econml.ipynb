{
 "cells": [
  {
   "cell_type": "code",
   "execution_count": null,
   "id": "religious-discount",
   "metadata": {},
   "outputs": [],
   "source": [
    "# import libraries\n",
    "import numpy as np\n",
    "import pandas as pd\n",
    "import matplotlib.pyplot as plt\n",
    "import pyreadstat\n",
    "import re\n",
    "import string\n",
    "import sklearn\n",
    "from sklearn_pandas import DataFrameMapper\n",
    "from sklearn.linear_model import LinearRegression, Lasso, Ridge\n",
    "from sklearn.ensemble import GradientBoostingRegressor\n",
    "from sklearn.svm import SVR\n",
    "\n",
    "from skopt import BayesSearchCV\n",
    "from tqdm import tqdm_notebook as tqdm\n",
    "from reed import *\n",
    "from cinspect import dependence, importance\n",
    "from sklearn.model_selection import cross_val_score, cross_validate\n",
    "\n",
    "\n",
    "# set global notebook options\n",
    "pd.options.display.max_columns = 200\n",
    "pd.options.display.max_rows = 500\n",
    "%matplotlib inline\n",
    "\n",
    "%load_ext autoreload\n",
    "%autoreload 2\n",
    "\n",
    "sklearn.__version__\n"
   ]
  },
  {
   "cell_type": "code",
   "execution_count": null,
   "id": "1331e4b9",
   "metadata": {},
   "outputs": [],
   "source": [
    "import logging.config\n",
    "DEFAULT_LOGGING = {\n",
    "    'version': 1,\n",
    "    'disable_existing_loggers': False,\n",
    "    'loggers': {\n",
    "        '': {\n",
    "            'level': 'INFO',\n",
    "        },\n",
    "    }\n",
    "}\n",
    "\n",
    "logging.config.dictConfig(DEFAULT_LOGGING)"
   ]
  },
  {
   "cell_type": "markdown",
   "id": "ceramic-excellence",
   "metadata": {},
   "source": [
    "# Load the data"
   ]
  },
  {
   "cell_type": "markdown",
   "id": "88d89348",
   "metadata": {},
   "source": [
    "### Treatent variables\n",
    "\n",
    "\n",
    "   - **redhllt**, \n",
    "   - **redllt** \n",
    "   - **refllt** \n",
    "   - **reduhl**\tCompleted re-education based on highest level of attainment\n",
    "   - **redudl**\tCompleted re-education based on detailed qualifications\n",
    "   - **redufl**\tCompleted re-education using highest lvl and detailed qualifications.\n",
    "\n",
    "### Outcome variables\n",
    "   - Mental health in 2019 (**mh**). This is the transformed mental health scores from the aggregation of mental health items of the SF-36 Health Survey, as reported by the individual in 2019. It ranges from 0 to 100, with higher scores indicating better mental health.  \n",
    "   - Working hours in 2019 (**wkhr**) records the total number of hours the individual works in all jobs in a week on average. Working hours are set to 0 for those not working. \n",
    "   - Hourly Wages in 2019 (**rlwage**) records the average hourly wage for the individual’s main job in 2019. Hourly wages are set to 0 for those not working and set to missing for those reporting working more than 100 hours a week. "
   ]
  },
  {
   "cell_type": "code",
   "execution_count": null,
   "id": "5998fe69",
   "metadata": {},
   "outputs": [],
   "source": [
    "treatments = ['^reduhl$', '^rehllt$', '^redudl$', '^redufl$', '^redllt$', '^refllt$']\n",
    "outcomes = ['^rlwage$', '^mh$', '^mhbm$', '^wkhr$']\n",
    "other = [\n",
    "            '^p_rcom',\n",
    "            '^p_rdf',\n",
    "            '^p_cotrl',\n",
    "            '^xwaveid$',\n",
    "            'p_rcom18'  # ?\n",
    "            '^aedcq',  # indicate studying at start - these people should already have been removed\n",
    "            '^abnfsty',\n",
    "            '^aedcqfpt',\n",
    "            '^aedqstdy'\n",
    "]\n",
    "exclude = treatments + outcomes + other\n",
    "\n",
    "\n",
    "outcome = 'rlwage'\n",
    "treatment = 'redudl'\n",
    "optimisation_metric = 'neg_mean_squared_error'\n",
    "\n",
    "transform = Pipeline([\n",
    "    ('impute_missing', SimpleImputer()),\n",
    "    ('scale', StandardScaler()),\n",
    "])"
   ]
  },
  {
   "cell_type": "markdown",
   "id": "4c1e3f3a",
   "metadata": {},
   "source": [
    "## Data"
   ]
  },
  {
   "cell_type": "code",
   "execution_count": null,
   "id": "8f17c3f6",
   "metadata": {},
   "outputs": [],
   "source": [
    "meta, basic, df, raw = load_all_data()\n",
    "for d in [basic, df, raw]:\n",
    "    drop_missing_treatment_or_outcome(d, treatment, outcome)"
   ]
  },
  {
   "cell_type": "markdown",
   "id": "deluxe-selection",
   "metadata": {},
   "source": [
    "## Response Model\n",
    "\n",
    "How well can we predict outcomes $Y$ conditional on treatment $T$ and other covariates $Z$?\n",
    "   - fit ML models on kitchen sink, Anna's set & basic set\n",
    "   - fit basic LR on basic set"
   ]
  },
  {
   "cell_type": "markdown",
   "id": "naughty-wonder",
   "metadata": {},
   "source": [
    "#### Columns explicitly excluded\n",
    "   - **xwaveid** (unique identifier)\n",
    "   - **p_rcom*** (timing of completion of re-education, proxies treatment) TODO think about how we would include this\n",
    "   - **p_cotrl** (first avail 2003)\n",
    "   - **p_rdf*** (first avail 2012)"
   ]
  },
  {
   "cell_type": "code",
   "execution_count": null,
   "id": "681c7306",
   "metadata": {},
   "outputs": [],
   "source": [
    "from econml.orf import DMLOrthoForest, DROrthoForest\n",
    "from econml.dml import CausalForestDML\n",
    "from econml.sklearn_extensions.linear_model import WeightedLassoCVWrapper, WeightedLasso, WeightedLassoCV\n",
    "from sklearn.linear_model import LogisticRegression, Lasso"
   ]
  },
  {
   "cell_type": "code",
   "execution_count": null,
   "id": "d5564586",
   "metadata": {},
   "outputs": [],
   "source": [
    "data = raw\n",
    "features = regex_select(data.columns, exclude, exclude=True)\n",
    "X,y = split_and_transform(data, features, outcome, transform)\n",
    "T = data[treatment].values"
   ]
  },
  {
   "cell_type": "markdown",
   "id": "23f2da66",
   "metadata": {},
   "source": [
    "### LinearDML\n",
    "\n",
    "EconML requires X to be set. We could try the sparse estimator with the full set of covariates. But to test out the other estimators, lets just take the feature with the largest coefficient to be the one to compute CATE with respect to. "
   ]
  },
  {
   "cell_type": "code",
   "execution_count": null,
   "id": "ce51830b",
   "metadata": {},
   "outputs": [],
   "source": [
    "model = Lasso()\n",
    "V = np.hstack((X,T.reshape(-1,1)))\n",
    "features_ext = features + ['treatment']\n",
    "model.fit(V,y)\n",
    "coef = pd.DataFrame({\"coef\":model.coef_},index=features_ext)\n",
    "coef['magnitude'] = coef['coef'].abs()\n",
    "coef.sort_values('magnitude',ascending=False).head() # make X the one with the largest coeffificient. "
   ]
  },
  {
   "cell_type": "code",
   "execution_count": null,
   "id": "733d32b2",
   "metadata": {},
   "outputs": [],
   "source": [
    "x_indx = features_ext.index('artage1')\n",
    "Xh = X[:,x_indx].reshape(-1,1)\n",
    "W = np.delete(X,x_indx,axis=1)"
   ]
  },
  {
   "cell_type": "code",
   "execution_count": null,
   "id": "b5c13da5",
   "metadata": {},
   "outputs": [],
   "source": [
    "from econml.dml import LinearDML\n",
    "ldml = LinearDML(discrete_treatment=True)\n",
    "ldml.fit(y,T,X=Xh,W=W)\n",
    "ldml.ate(X=Xh), ldml.ate_interval(X=Xh)"
   ]
  },
  {
   "cell_type": "code",
   "execution_count": null,
   "id": "f819182f",
   "metadata": {},
   "outputs": [],
   "source": [
    "from econml.dml import SparseLinearDML\n",
    "sldml = SparseLinearDML(discrete_treatment=True)\n",
    "sldml.fit(y,T,X=Xh,W=W)\n",
    "sldml.ate(X=Xh), ldml.ate_interval(X=Xh)"
   ]
  },
  {
   "cell_type": "markdown",
   "id": "46e87e40",
   "metadata": {},
   "source": [
    "### LinearDR Learner"
   ]
  },
  {
   "cell_type": "code",
   "execution_count": null,
   "id": "82e2f455",
   "metadata": {},
   "outputs": [],
   "source": [
    "from econml.dr import LinearDRLearner\n",
    "ldr = LinearDRLearner()\n",
    "ldr.fit(y,T,X=Xh,W=W)\n",
    "ldr.ate(X=Xh), ldr.ate_interval(X=Xh)"
   ]
  },
  {
   "cell_type": "markdown",
   "id": "dec370fd",
   "metadata": {},
   "source": [
    "### CausalForestDML"
   ]
  },
  {
   "cell_type": "code",
   "execution_count": null,
   "id": "1d1832ca",
   "metadata": {},
   "outputs": [],
   "source": [
    "cf = CausalForestDML(model_y=Lasso(),\n",
    "                       model_t=LogisticRegression(),\n",
    "                       discrete_treatment=True,\n",
    "                       random_state=123)\n",
    "cf.fit(y, T, X=Xh, W=W)\n",
    "cf.ate(X=Xh), cf.ate_interval(X=Xh)"
   ]
  },
  {
   "cell_type": "markdown",
   "id": "87dc5302",
   "metadata": {},
   "source": [
    "### Meta Learners"
   ]
  },
  {
   "cell_type": "code",
   "execution_count": null,
   "id": "4c8273e3",
   "metadata": {},
   "outputs": [],
   "source": [
    "from econml.metalearners import TLearner, SLearner, XLearner, DomainAdaptationLearner\n",
    "from sklearn.ensemble import GradientBoostingRegressor\n",
    "from sklearn.linear_model import LinearRegression"
   ]
  },
  {
   "cell_type": "code",
   "execution_count": null,
   "id": "cccd205e",
   "metadata": {},
   "outputs": [],
   "source": [
    "models = Lasso()\n",
    "est_t = TLearner(models=models)\n",
    "est_t.fit(y, T, X=X, inference='bootstrap')\n",
    "est_t.ate(X=X), est_t.ate_interval(X=X)"
   ]
  },
  {
   "cell_type": "code",
   "execution_count": null,
   "id": "9f04e8da",
   "metadata": {},
   "outputs": [],
   "source": [
    "models = GradientBoostingRegressor()\n",
    "est_t2 = TLearner(models=models)\n",
    "est_t2.fit(y, T, X=X, inference='bootstrap')\n",
    "est_t2.ate(X=X), est_t2.ate_interval(X=X)"
   ]
  },
  {
   "cell_type": "code",
   "execution_count": null,
   "id": "6df060f1",
   "metadata": {},
   "outputs": [],
   "source": [
    "# TODO - figure out how to set the number of bootstrap samples\n",
    "# TODO - implement manual bootstrapping\n",
    "# TODO - plot CATE\n",
    "# TODO - figure out why we have to set X (look at the implementation in EconML)\n",
    "# TODO - test out some other implementations of DoubleML/CausalForest (maybe in R)"
   ]
  }
 ],
 "metadata": {
  "kernelspec": {
   "display_name": "Python 3",
   "language": "python",
   "name": "python3"
  },
  "language_info": {
   "codemirror_mode": {
    "name": "ipython",
    "version": 3
   },
   "file_extension": ".py",
   "mimetype": "text/x-python",
   "name": "python",
   "nbconvert_exporter": "python",
   "pygments_lexer": "ipython3",
   "version": "3.9.5"
  }
 },
 "nbformat": 4,
 "nbformat_minor": 5
}
