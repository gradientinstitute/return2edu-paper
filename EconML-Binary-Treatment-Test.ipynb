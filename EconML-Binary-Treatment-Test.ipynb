{
 "cells": [
  {
   "cell_type": "code",
   "execution_count": null,
   "id": "c4d23a2c",
   "metadata": {},
   "outputs": [],
   "source": [
    "import numpy as np\n",
    "\n",
    "from econml.orf import DMLOrthoForest, DROrthoForest\n",
    "from econml.dml import CausalForestDML\n",
    "from econml.sklearn_extensions.linear_model import WeightedLassoCVWrapper, WeightedLasso, WeightedLassoCV\n",
    "\n",
    "# Helper imports\n",
    "import numpy as np\n",
    "from itertools import product\n",
    "from sklearn.linear_model import Lasso, LassoCV, LogisticRegression, LogisticRegressionCV\n",
    "import matplotlib.pyplot as plt\n",
    "\n",
    "np.random.seed(42)\n",
    "\n",
    "%load_ext autoreload\n",
    "%autoreload 2\n",
    "\n",
    "%matplotlib inline"
   ]
  },
  {
   "attachments": {
    "image-2.png": {
     "image/png": "[encoded data removed]"
    }
   },
   "cell_type": "markdown",
   "id": "718e3d1f",
   "metadata": {},
   "source": [
    "### Generate data\n",
    "\n",
    "![image-2.png](attachment:image-2.png)"
   ]
  },
  {
   "cell_type": "code",
   "execution_count": null,
   "id": "e2628d47",
   "metadata": {},
   "outputs": [],
   "source": [
    "def make_data(n, n_w = 20, informative = 5):\n",
    "    assert informative < n_w, \"number of informative features cannot exceed number of features\"\n",
    "    \n",
    "    W = np.random.normal(0,1,size=(n,n_w))\n",
    "    X = np.random.uniform(0,1,size=(n))\n",
    "    \n",
    "    # dependence of T on W\n",
    "    coef_T = np.zeros(n_w)\n",
    "    coef_T[0:informative] = np.random.uniform(size=informative)\n",
    "    log_odds = W@coef_T\n",
    "    p = 1/(1 + np.exp(-log_odds))\n",
    "    T = np.random.binomial(1,p)\n",
    "    \n",
    "    # Treatment effect dependence on X\n",
    "    def TE(X):\n",
    "        return X\n",
    "    \n",
    "    # dependence of Y on T, W and X\n",
    "    coef_Y = np.zeros(n_w)\n",
    "    coef_Y[0:informative] = np.random.uniform(size=informative)\n",
    "    Y = TE(X)*T + W@coef_Y + np.random.uniform(-1,1,size=n)\n",
    "    \n",
    "    return {'W':W,'X':X,'T':T,'Y':Y}, TE\n",
    "    \n",
    "        \n",
    "data, treatment_effect = make_data(1000)\n",
    "X, W, T, Y = data['X'].reshape(-1,1), data['W'], data['T'], data['Y']\n",
    "\n",
    "V = np.hstack((X,W)) # for models that don't distinguish between them\n",
    "\n",
    "print(\"Treatment effect on sample:\",treatment_effect(X).mean())"
   ]
  },
  {
   "cell_type": "markdown",
   "id": "56caf9cf",
   "metadata": {},
   "source": [
    "### DROrthoForest"
   ]
  },
  {
   "cell_type": "code",
   "execution_count": null,
   "id": "24c55909",
   "metadata": {},
   "outputs": [],
   "source": [
    "def make_orthoforest():\n",
    "    est = DROrthoForest(\n",
    "        n_trees=200, min_leaf_size=10,\n",
    "        max_depth=30, subsample_ratio=0.5,\n",
    "        propensity_model = LogisticRegression(penalty='l1', solver='saga'),\n",
    "        model_Y = Lasso(),\n",
    "        propensity_model_final=LogisticRegression(penalty='l1', solver='saga'), \n",
    "        model_Y_final=WeightedLasso(),\n",
    "        random_state=123,\n",
    "        \n",
    "    )\n",
    "    return est\n",
    "\n",
    "est = make_orthoforest()\n",
    "est.fit(Y, T,X=X,W=W)\n",
    "est.ate(X = X), est.ate_interval(X=X)"
   ]
  },
  {
   "cell_type": "code",
   "execution_count": null,
   "id": "712581e0",
   "metadata": {},
   "outputs": [],
   "source": [
    "est  = make_orthoforest()\n",
    "est.fit(Y, T, X=V)\n",
    "est.ate(X=V),est.ate_interval(X=V)"
   ]
  },
  {
   "cell_type": "markdown",
   "id": "94ea7c8a",
   "metadata": {},
   "source": [
    "### CausalForestDML"
   ]
  },
  {
   "cell_type": "code",
   "execution_count": null,
   "id": "6b96f536",
   "metadata": {},
   "outputs": [],
   "source": [
    "est2 = CausalForestDML(model_y=Lasso(),\n",
    "                       model_t=LogisticRegression(),\n",
    "                       n_estimators=200, min_samples_leaf=5,\n",
    "                       max_depth=50,\n",
    "                       discrete_treatment=True,\n",
    "                       random_state=123)\n",
    "est2.fit(Y, T, X=X, W=W)\n",
    "est2.ate(X=X), est2.ate_interval(X=X)"
   ]
  },
  {
   "cell_type": "code",
   "execution_count": null,
   "id": "ee6bde4d",
   "metadata": {},
   "outputs": [],
   "source": [
    "est3 = CausalForestDML(model_y=Lasso(),\n",
    "                       model_t=LogisticRegression(),\n",
    "                       n_estimators=200, min_samples_leaf=5,\n",
    "                       max_depth=50,\n",
    "                       discrete_treatment=True,\n",
    "                       random_state=123)\n",
    "est3.fit(Y, T, X=V)\n",
    "est3.ate(X=V), est2.ate_interval(X=V)"
   ]
  },
  {
   "cell_type": "markdown",
   "id": "6ccaebe7",
   "metadata": {},
   "source": [
    "### LinearDML"
   ]
  },
  {
   "cell_type": "code",
   "execution_count": null,
   "id": "3ed5e57e",
   "metadata": {},
   "outputs": [],
   "source": [
    "from econml.dml import LinearDML\n",
    "est4 = LinearDML(discrete_treatment=True)\n",
    "est4.fit(Y,T,X=X,W=W)\n",
    "est4.ate(X=X), est4.ate_interval(X=X)"
   ]
  },
  {
   "cell_type": "markdown",
   "id": "46fe6d8d",
   "metadata": {},
   "source": [
    "### LinearDRLearner"
   ]
  },
  {
   "cell_type": "code",
   "execution_count": null,
   "id": "c6ed30b6",
   "metadata": {},
   "outputs": [],
   "source": [
    "from econml.dr import LinearDRLearner\n",
    "est5 = LinearDRLearner()\n",
    "est5.fit(Y,T,X=X,W=W)\n",
    "est5.ate(X=X), est5.ate_interval(X=X)"
   ]
  },
  {
   "cell_type": "markdown",
   "id": "7f773945",
   "metadata": {},
   "source": [
    "### DRLearner\n"
   ]
  },
  {
   "cell_type": "code",
   "execution_count": null,
   "id": "9b5efed2",
   "metadata": {},
   "outputs": [],
   "source": [
    "from econml.dr import DRLearner\n",
    "est6 = DRLearner()\n",
    "est6.fit(Y,T,X=X,W=W)\n",
    "est6.ate(X=X), est6.ate_interval(X=X)"
   ]
  },
  {
   "cell_type": "markdown",
   "id": "02643ad9",
   "metadata": {},
   "source": [
    "### Meta Learner (T-learner)"
   ]
  },
  {
   "cell_type": "code",
   "execution_count": null,
   "id": "81340498",
   "metadata": {},
   "outputs": [],
   "source": [
    "from econml.metalearners import TLearner, SLearner, XLearner, DomainAdaptationLearner\n",
    "from sklearn.ensemble import GradientBoostingRegressor\n",
    "from sklearn.linear_model import LinearRegression"
   ]
  },
  {
   "cell_type": "code",
   "execution_count": null,
   "id": "9e6f8b51",
   "metadata": {},
   "outputs": [],
   "source": [
    "models = GradientBoostingRegressor()\n",
    "est_t = TLearner(models=models)\n",
    "est_t.fit(Y, T, X=V, inference='bootstrap')\n",
    "est_t.ate(X=V), est_t.ate_interval(X=V)"
   ]
  },
  {
   "cell_type": "code",
   "execution_count": null,
   "id": "fd67d68a",
   "metadata": {},
   "outputs": [],
   "source": [
    "models = LinearRegression()\n",
    "est_t = TLearner(models=models)\n",
    "est_t.fit(Y, T, X=V, inference='bootstrap')\n",
    "est_t.ate(X=V), est_t.ate_interval(X=V)"
   ]
  },
  {
   "cell_type": "markdown",
   "id": "b35749f1",
   "metadata": {},
   "source": [
    "### Manual T-Learner"
   ]
  },
  {
   "cell_type": "code",
   "execution_count": null,
   "id": "3fbbf80a",
   "metadata": {},
   "outputs": [],
   "source": [
    "model0 = LinearRegression()\n",
    "model1 = LinearRegression()\n",
    "\n",
    "V0 = V[T==0]\n",
    "V1 = V[T==1]\n",
    "y0 = Y[T==0]\n",
    "y1 = Y[T==1]\n",
    "\n",
    "print(\"Data dimensions:\",V0.shape, len(y0), V1.shape, len(y1))\n",
    "\n",
    "model0.fit(V0,y0)\n",
    "model1.fit(V1,y1)\n",
    "ate = (model1.predict(V) - model0.predict(V)).mean()\n",
    "ate"
   ]
  }
 ],
 "metadata": {
  "kernelspec": {
   "display_name": "Python 3",
   "language": "python",
   "name": "python3"
  },
  "language_info": {
   "codemirror_mode": {
    "name": "ipython",
    "version": 3
   },
   "file_extension": ".py",
   "mimetype": "text/x-python",
   "name": "python",
   "nbconvert_exporter": "python",
   "pygments_lexer": "ipython3",
   "version": "3.9.5"
  }
 },
 "nbformat": 4,
 "nbformat_minor": 5
}
