{
 "cells": [
  {
   "cell_type": "markdown",
   "id": "0",
   "metadata": {},
   "source": [
    "### Example of a simple fully synthetic data generating process"
   ]
  },
  {
   "cell_type": "code",
   "execution_count": 95,
   "id": "1",
   "metadata": {},
   "outputs": [],
   "source": [
    "import numpy as np\n",
    "import matplotlib.pyplot as plt\n",
    "import pandas as pd"
   ]
  },
  {
   "cell_type": "code",
   "execution_count": 79,
   "id": "2",
   "metadata": {},
   "outputs": [],
   "source": [
    "def create_covariance(m, eigenvalues=None):\n",
    "    \"\"\"Create random covariance matrix with the given eigenvalue spectrum.\"\"\"\n",
    "    if eigenvalues is None:\n",
    "        eigenvalues = np.exp(-np.arange(m))\n",
    "    D = np.zeros((m,m))\n",
    "    np.fill_diagonal(D, eigenvalues)\n",
    "    Q, r = np.linalg.qr(np.random.normal(size=(m,m)))\n",
    "    assert np.linalg.matrix_rank(Q)==m\n",
    "    A = Q@D@Q.T\n",
    "    return A\n",
    "\n",
    "def sigmoid(x):\n",
    "    return 1/(1 + np.exp(-x))\n",
    "\n",
    "def alternating_decaying_coef(m, decay=1, shuffle=False):\n",
    "    t = np.arange(m)\n",
    "    coef = (-1)**t * np.exp(-t*decay)\n",
    "    if shuffle:\n",
    "        np.random.shuffle(coef)\n",
    "    return coef"
   ]
  },
  {
   "cell_type": "code",
   "execution_count": 76,
   "id": "3",
   "metadata": {},
   "outputs": [],
   "source": [
    "from simulations.datagen import DGPGraph"
   ]
  },
  {
   "cell_type": "code",
   "execution_count": 87,
   "id": "4",
   "metadata": {},
   "outputs": [],
   "source": [
    "def heterogenius_linear_dgp(m):\n",
    "    c = create_covariance(m)\n",
    "    beta = alternating_decaying_coef(m)\n",
    "    w = alternating_decaying_coef(m, decay=0.1, shuffle=True)\n",
    "    w_h = alternating_decaying_coef(m, shuffle=True) \n",
    "    alpha = 1\n",
    "\n",
    "    def fX(n):\n",
    "        return np.random.multivariate_normal(mean=np.zeros(m),cov = c,size=n)\n",
    "\n",
    "    def fT(X, n):\n",
    "        p = sigmoid(X@beta)\n",
    "        return np.random.binomial(1, p)\n",
    "\n",
    "    def fY(X,T,n):\n",
    "        Y = X@w + ((X@w_h) + alpha)*T +np.random.normal(scale=1,size=n)\n",
    "        return Y\n",
    "\n",
    "    dgp = DGPGraph()\n",
    "    dgp.add_node('X',fX)\n",
    "    dgp.add_node('T',fT, parents=['X'])\n",
    "    dgp.add_node('Y',fY,parents=['X','T'])\n",
    "    return dgp\n",
    "\n",
    "d = heterogenius_linear_dgp(20)"
   ]
  },
  {
   "cell_type": "code",
   "execution_count": 99,
   "id": "5",
   "metadata": {},
   "outputs": [],
   "source": [
    "data = d.sample(200)"
   ]
  },
  {
   "cell_type": "code",
   "execution_count": 100,
   "id": "6",
   "metadata": {},
   "outputs": [],
   "source": [
    "Y = data.pop(\"Y\")\n",
    "dX = data.pop(\"X\")\n",
    "data.update({f\"X{i}\": x for i, x in enumerate(dX.T)})\n",
    "X = pd.DataFrame(data)"
   ]
  }
 ],
 "metadata": {
  "kernelspec": {
   "display_name": "Python 3 (ipykernel)",
   "language": "python",
   "name": "python3"
  },
  "language_info": {
   "codemirror_mode": {
    "name": "ipython",
    "version": 3
   },
   "file_extension": ".py",
   "mimetype": "text/x-python",
   "name": "python",
   "nbconvert_exporter": "python",
   "pygments_lexer": "ipython3",
   "version": "3.9.7"
  }
 },
 "nbformat": 4,
 "nbformat_minor": 5
}
