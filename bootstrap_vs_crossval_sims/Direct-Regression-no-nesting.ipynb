{
 "cells": [
  {
   "cell_type": "markdown",
   "id": "0",
   "metadata": {},
   "source": [
    "# Direct Regression"
   ]
  },
  {
   "cell_type": "code",
   "execution_count": 1,
   "id": "1",
   "metadata": {
    "tags": [
     "hide_cell"
    ]
   },
   "outputs": [],
   "source": [
    "# import libraries\n",
    "import numpy as np\n",
    "import pandas as pd\n",
    "import matplotlib.pyplot as plt\n",
    "import pyreadstat\n",
    "import re\n",
    "import string\n",
    "import sklearn\n",
    "from sklearn_pandas import DataFrameMapper\n",
    "from sklearn.linear_model import LinearRegression, Lasso, Ridge\n",
    "from sklearn.ensemble import GradientBoostingRegressor\n",
    "from sklearn.svm import SVR\n",
    "from tqdm import tqdm_notebook as tqdm\n",
    "#from cinspect import dependence, importance\n",
    "from sklearn.model_selection import cross_val_score, cross_validate\n",
    "from sklearn.metrics import r2_score\n",
    "import pickle\n",
    "import time\n",
    "\n",
    "from reed import drop_missing_treatment_or_outcome, Model\n",
    "\n",
    "# set global notebook options\n",
    "pd.options.display.max_columns = 200\n",
    "pd.options.display.max_rows = 500\n",
    "pd.options.display.max_colwidth = 100\n",
    "\n",
    "%matplotlib inline\n",
    "\n",
    "%load_ext autoreload\n",
    "%autoreload 2"
   ]
  },
  {
   "cell_type": "markdown",
   "id": "2",
   "metadata": {},
   "source": [
    "## Response Model\n",
    "\n",
    "How well can we predict outcomes $Y$ conditional on treatment $T$ and other covariates $Z$?"
   ]
  },
  {
   "cell_type": "markdown",
   "id": "3",
   "metadata": {},
   "source": [
    "### Treatent variables\n",
    "\n",
    "   - **reduhl**\tCompleted re-education based on highest level of attainment\n",
    "   - **redudl**\tCompleted re-education based on detailed qualifications\n",
    "   - **redufl**\tCompleted re-education using highest lvl and detailed qualifications.\n",
    "\n",
    "### Outcome variables\n",
    "   - Mental health in 2019 (**mh**). This is the transformed mental health scores from the aggregation of mental health items of the SF-36 Health Survey, as reported by the individual in 2019. It ranges from 0 to 100, with higher scores indicating better mental health.  \n",
    "   - Working hours in 2019 (**wkhr**) records the total number of hours the individual works in all jobs in a week on average. Working hours are set to 0 for those not working. \n",
    "   - Hourly Wages in 2019 (**rlwage**) records the average hourly wage for the individual’s main job in 2019. Hourly wages are set to 0 for those not working and set to missing for those reporting working more than 100 hours a week. \n",
    "   \n",
    "#### Columns explicitly excluded\n",
    "   - **xwaveid** (unique identifier)\n",
    "   - **p_rcom*** (timing of completion of re-education, proxies treatment) TODO think about how we would include this\n",
    "   - **p_cotrl** (first avail 2003)\n",
    "   - **p_rdf*** (first avail 2012)"
   ]
  },
  {
   "cell_type": "markdown",
   "id": "4",
   "metadata": {},
   "source": [
    "#### Select modeling parameters"
   ]
  },
  {
   "cell_type": "code",
   "execution_count": 2,
   "id": "5",
   "metadata": {},
   "outputs": [],
   "source": [
    "outcome = 'y_Dwsce'#'y_wsce'\n",
    "treatment = 'redufl'\n",
    "optimisation_metric = 'neg_mean_squared_error'\n",
    "evaluation_metrics = ('r2','neg_mean_squared_error')\n",
    "log_outcome=False\n",
    "cross_val_cache = \"data/cross-val-all-lasso.pkl\"#\"data/cross-val-all.pkl\"\n",
    "bootstrap_cache = \"data/bootstrap-all-lasso.pkl\"#\"data/bootstrap-all.pkl\"\n",
    "data_file = \"all_lasso_selected_20.csv\"#\"all_vars.csv\""
   ]
  },
  {
   "cell_type": "markdown",
   "id": "6",
   "metadata": {},
   "source": [
    "### Load Data \n",
    "   - drop rows missing the specified treatment or outcome"
   ]
  },
  {
   "cell_type": "code",
   "execution_count": 3,
   "id": "7",
   "metadata": {
    "tags": [
     "hide_input"
    ]
   },
   "outputs": [
    {
     "name": "stdout",
     "output_type": "stream",
     "text": [
      "Dropped 592 rows missing treatment or outcome.\n"
     ]
    }
   ],
   "source": [
    "data = pd.read_csv(data_file,index_col='xwaveid')\n",
    "drop_missing_treatment_or_outcome(data, treatment, outcome)\n",
    "if log_outcome:\n",
    "    data[outcome] = np.log(data[outcome]+data[outcome].min())"
   ]
  },
  {
   "cell_type": "code",
   "execution_count": 4,
   "id": "8",
   "metadata": {
    "tags": [
     "hide_input"
    ]
   },
   "outputs": [
    {
     "name": "stdout",
     "output_type": "stream",
     "text": [
      "Control data dimensions:  (3659, 20)\n",
      "Treated data dimensions: (1295, 20)\n"
     ]
    }
   ],
   "source": [
    "from direct_regression import seperate_and_transform_data\n",
    "X0, X1, y0, y1, X, y, t, features = seperate_and_transform_data(data, treatment, outcome)\n",
    "\n",
    "print(\"Control data dimensions: \",X0.shape)\n",
    "print(\"Treated data dimensions:\",X1.shape)\n"
   ]
  },
  {
   "cell_type": "markdown",
   "id": "9",
   "metadata": {},
   "source": [
    "### Set up models\n",
    "Specify which models to use and the hyper-parameter space to search over for each"
   ]
  },
  {
   "cell_type": "markdown",
   "id": "10",
   "metadata": {},
   "source": [
    "## Modelling, using causal-inspect package"
   ]
  },
  {
   "cell_type": "code",
   "execution_count": 5,
   "id": "11",
   "metadata": {},
   "outputs": [],
   "source": [
    "from cinspect.model_evaluation import bootstrap_model, eval_model\n",
    "from cinspect.evaluators import BinaryTreatmentEffect\n",
    "from cinspect.estimators import BinaryTreatmentRegressor\n",
    "from cinspect.dimension import effective_rank\n",
    "from sklearn.model_selection import GridSearchCV, RepeatedKFold, ShuffleSplit, GroupKFold"
   ]
  },
  {
   "cell_type": "code",
   "execution_count": 6,
   "id": "12",
   "metadata": {},
   "outputs": [],
   "source": [
    "X_frame = pd.DataFrame(X, columns=[f\"x{i}\" for i in range(X.shape[1])])\n",
    "X_frame['T'] = t\n",
    "Y = y\n",
    "\n",
    "ridge_gs = GridSearchCV(Ridge(), param_grid={\"alpha\": np.logspace(-1,4,5)})\n",
    "mod = BinaryTreatmentRegressor(ridge_gs, \"T\", 1.)\n",
    "\n",
    "results = {}\n",
    "\n",
    " # Casual estimation -- Bootstrap\n",
    "bteval = BinaryTreatmentEffect(treatment_column=\"T\")  # all data\n",
    "bootstrap_model(mod, X_frame, Y, [bteval], replications=30)\n",
    "results[\"Bootstrap\"] = (bteval.ate, bteval.ate_ste)\n",
    "\n",
    "# Casual estimation -- KFold\n",
    "bteval = BinaryTreatmentEffect(treatment_column=\"T\",evaluate_mode=\"test\")\n",
    "eval_model(mod, X_frame, Y, [bteval],RepeatedKFold(n_splits=10, n_repeats=3))\n",
    "results[\"KFold\"] = (bteval.ate, bteval.ate_ste)\n",
    "\n",
    "# Casual estimation -- ShuffleSplit\n",
    "bteval = BinaryTreatmentEffect(treatment_column=\"T\",evaluate_mode=\"test\")\n",
    "eval_model(mod, X_frame, Y, [bteval], ShuffleSplit(n_splits=30))\n",
    "results[\"ShuffleSplit\"] = (bteval.ate, bteval.ate_ste)\n",
    "\n",
    "# Causal estimation -- Bootstrap Group\n",
    "\n",
    "# We have to make sure we use GroupKFold with GridSearchCV here so we don't\n",
    "    # get common samples in the train and test folds\n",
    "ridge_gs_g = GridSearchCV(Ridge(),param_grid={\"alpha\": np.logspace(-1,4,5)},cv=GroupKFold(n_splits=5))\n",
    "btr = BinaryTreatmentRegressor(ridge_gs_g, \"T\", 1.)\n",
    "bteval = BinaryTreatmentEffect(treatment_column=\"T\")  # all data used\n",
    "bootstrap_model(btr, X_frame, Y, [bteval], replications=30, groups=True)\n",
    "results[\"Bootstrap-group\"] = (bteval.ate, bteval.ate_ste)\n",
    "\n"
   ]
  },
  {
   "cell_type": "code",
   "execution_count": 7,
   "id": "13",
   "metadata": {},
   "outputs": [
    {
     "data": {
      "text/plain": [
       "{'Bootstrap': (15.714110960827453, 30.28808440061037),\n",
       " 'KFold': (20.169021836594602, 13.613749109810312),\n",
       " 'ShuffleSplit': (19.800530335696966, 18.755218561159385),\n",
       " 'Bootstrap-group': (26.67225926046655, 36.55657957989077)}"
      ]
     },
     "execution_count": 7,
     "metadata": {},
     "output_type": "execute_result"
    }
   ],
   "source": [
    "results"
   ]
  },
  {
   "cell_type": "markdown",
   "id": "14",
   "metadata": {},
   "source": [
    "## Modelling"
   ]
  },
  {
   "cell_type": "code",
   "execution_count": 8,
   "id": "15",
   "metadata": {
    "tags": [
     "hide_input"
    ]
   },
   "outputs": [],
   "source": [
    "from sklearn.linear_model import Lasso, Ridge\n",
    "from sklearn.ensemble import GradientBoostingRegressor\n",
    "from direct_regression import importance_from_coef\n",
    "\n",
    "def construct_models():\n",
    "    models = [\n",
    "        Model('ridge',Ridge(), \n",
    "              parameters = {\n",
    "                  'alpha':np.logspace(-1,4,30)\n",
    "              },\n",
    "              importance_func=importance_from_coef\n",
    "        ),\n",
    "        Model('lasso',Lasso(),\n",
    "              parameters = {\n",
    "                  'alpha':np.logspace(-2,4,30)\n",
    "              },\n",
    "              importance_func=importance_from_coef\n",
    "        ),\n",
    "        Model('linear',LinearRegression())\n",
    "#         Model('gbr',GradientBoostingRegressor(n_iter_no_change=20, max_depth=2),\n",
    "#               parameters = {\n",
    "#                 'max_features':np.linspace(0,1,6)[1:],\n",
    "#                 'learning_rate':np.logspace(-3,0,10),\n",
    "#                 'min_samples_leaf':np.logspace(0,3,10).astype(int)\n",
    "#               }\n",
    "#         ),\n",
    "    ]\n",
    "    return models\n"
   ]
  },
  {
   "cell_type": "markdown",
   "id": "16",
   "metadata": {},
   "source": [
    "### Prepare data for modeling\n",
    "   - split into treated/control\n",
    "   - impute missing values and scale\n",
    "   - separate features from outcomes&treatments"
   ]
  },
  {
   "cell_type": "markdown",
   "id": "17",
   "metadata": {},
   "source": [
    "### Compute unconditional/unadjusted estimate of treatment effect"
   ]
  },
  {
   "cell_type": "code",
   "execution_count": 9,
   "id": "18",
   "metadata": {
    "tags": [
     "hide_input"
    ]
   },
   "outputs": [
    {
     "name": "stdout",
     "output_type": "stream",
     "text": [
      "Proportion Treated:26%\n",
      "Average outcome under Control:67.85±15.36\n",
      "Average outcome under Treatment:310.57±29.39\n",
      "Unadjusted treatment estimate 242.72\n"
     ]
    }
   ],
   "source": [
    "from direct_regression import print_unconditional_effects\n",
    "print_unconditional_effects(data, treatment, y0, y1)"
   ]
  },
  {
   "cell_type": "code",
   "execution_count": null,
   "id": "19",
   "metadata": {},
   "outputs": [],
   "source": []
  },
  {
   "cell_type": "markdown",
   "id": "20",
   "metadata": {},
   "source": [
    "## Checking cv objects"
   ]
  },
  {
   "cell_type": "code",
   "execution_count": 7,
   "id": "21",
   "metadata": {},
   "outputs": [
    {
     "name": "stdout",
     "output_type": "stream",
     "text": [
      "Sample: 0\n",
      "Fold: 0\n",
      "test instances [6 4 0 2 1]\n",
      "test groups [4 2 0 0 0]\n",
      "train groups [6 7 1 5 3]\n",
      "***\n",
      "Fold: 1\n",
      "test instances [8 9 3 7 5]\n",
      "test groups [6 7 1 5 3]\n",
      "train groups [4 2 0 0 0]\n",
      "***\n",
      "Sample: 1\n",
      "Fold: 0\n",
      "test instances [0 4 6 2 1]\n",
      "test groups [0 2 4 0 0]\n",
      "train groups [3 5 1 6 7]\n",
      "***\n",
      "Fold: 1\n",
      "test instances [5 7 3 8 9]\n",
      "test groups [3 5 1 6 7]\n",
      "train groups [0 2 4 0 0]\n",
      "***\n",
      "Sample: 2\n",
      "Fold: 0\n",
      "test instances [6 0 2 4 1]\n",
      "test groups [4 0 0 2 0]\n",
      "train groups [5 7 6 3 1]\n",
      "***\n",
      "Fold: 1\n",
      "test instances [7 9 8 5 3]\n",
      "test groups [5 7 6 3 1]\n",
      "train groups [4 0 0 2 0]\n",
      "***\n"
     ]
    }
   ],
   "source": [
    "from sklearn.utils import shuffle\n",
    "from sklearn.model_selection import GroupKFold\n",
    "import numpy as np\n",
    "from bootstrap import shuffled_samples\n",
    "\n",
    "random_state = 42\n",
    "\n",
    "\n",
    "Xv = np.arange(20).reshape((10,2))\n",
    "yv = np.arange(10)\n",
    "groupsv = np.array([0,0,0,1,2,3,4,5,6,7])\n",
    "\n",
    "\n",
    "def cv(X, y, groups, random_state):\n",
    "    \n",
    "    for i, s in enumerate(shuffled_samples(len(y),3)):\n",
    "        Xs, ys, gs = X[s,:], y[s], groups[s]\n",
    "    \n",
    "        print(\"Sample:\",i)\n",
    "        cv_out = GroupKFold(n_splits=2)\n",
    "        cv_out_splits = cv_out.split(Xs, ys, gs)\n",
    "        for fold, (train, test) in enumerate(cv_out_splits):\n",
    "            print (\"Fold:\",fold)\n",
    "            print (\"test instances\", ys[test])\n",
    "            print (\"test groups\", gs[test])\n",
    "            print (\"train groups\", gs[train])\n",
    "            print (\"***\")\n",
    "cv(Xv, yv, groupsv, random_state);"
   ]
  },
  {
   "cell_type": "code",
   "execution_count": 8,
   "id": "22",
   "metadata": {},
   "outputs": [
    {
     "name": "stdout",
     "output_type": "stream",
     "text": [
      "Sample: 0\n",
      "Fold: 0\n",
      "test instances [6 2 9 0 1]\n",
      "test groups [4 0 7 0 0]\n",
      "train groups [3 2 1 5 6]\n",
      "***\n",
      "Fold: 1\n",
      "test instances [5 4 3 7 8]\n",
      "test groups [3 2 1 5 6]\n",
      "train groups [4 0 7 0 0]\n",
      "***\n",
      "Sample: 1\n",
      "Fold: 0\n",
      "test instances [1 3 5 8 0 2]\n",
      "test groups [0 1 3 6 0 0]\n",
      "train groups [7 5 4 2]\n",
      "***\n",
      "Fold: 1\n",
      "test instances [9 7 6 4]\n",
      "test groups [7 5 4 2]\n",
      "train groups [0 1 3 6 0 0]\n",
      "***\n",
      "Sample: 2\n",
      "Fold: 0\n",
      "test instances [3 9 4]\n",
      "test groups [1 7 2]\n",
      "train groups [0 0 6 5 0 3 4]\n",
      "***\n",
      "Fold: 1\n",
      "test instances [2 1 8 7 0 5 6]\n",
      "test groups [0 0 6 5 0 3 4]\n",
      "train groups [1 7 2]\n",
      "***\n"
     ]
    }
   ],
   "source": [
    "from bootstrap import GroupAwareKFold\n",
    "random_state = 42\n",
    "\n",
    "Xv = np.arange(20).reshape((10,2))\n",
    "yv = np.arange(10)\n",
    "groupsv = np.array([0,0,0,1,2,3,4,5,6,7])\n",
    "\n",
    "\n",
    "def cv(X, y, groups, random_state):\n",
    "    \n",
    "    for i, s in enumerate(shuffled_samples(len(y),3)):\n",
    "        Xs, ys, gs = X[s,:], y[s], groups[s]\n",
    "    \n",
    "        print(\"Sample:\",i)\n",
    "        cv_out = GroupAwareKFold(n_splits=2)\n",
    "        cv_out_splits = cv_out.split(Xs, ys, gs)\n",
    "        for fold, (train, test) in enumerate(cv_out_splits):\n",
    "            print (\"Fold:\",fold)\n",
    "            print (\"test instances\", ys[test])\n",
    "            print (\"test groups\", gs[test])\n",
    "            print (\"train groups\", gs[train])\n",
    "            print (\"***\")\n",
    "cv(Xv, yv, groupsv, random_state);"
   ]
  },
  {
   "cell_type": "markdown",
   "id": "23",
   "metadata": {},
   "source": [
    "## Modelling"
   ]
  },
  {
   "cell_type": "code",
   "execution_count": 9,
   "id": "24",
   "metadata": {},
   "outputs": [],
   "source": [
    "from sklearn.model_selection import train_test_split, GridSearchCV, KFold\n",
    "from bootstrap import bootstrap_samples, shuffled_samples, GroupAwareKFold\n",
    "\n",
    "def extract_alpha(estimators):\n",
    "    return np.array([e.best_params_['alpha'] for e in estimators])\n",
    "\n",
    "n_splits = 5\n",
    "simulations = 500\n",
    "models = construct_models()\n",
    "\n",
    "X0_train, X0_test, y0_train, y0_test = train_test_split(X0,y0)\n",
    "\n",
    "m = models[0]"
   ]
  },
  {
   "cell_type": "code",
   "execution_count": 10,
   "id": "25",
   "metadata": {},
   "outputs": [],
   "source": [
    "from sklearn.model_selection import GroupKFold\n",
    "\n",
    "def fit_repeated_models(cv, estimator, param_grid, samples, X, y):\n",
    "    groups = np.arange(len(y))\n",
    "    estimators = []\n",
    "    \n",
    "    for s in samples:\n",
    "        Xs, ys, gs = X[s], y[s], groups[s]\n",
    "        model = GridSearchCV(estimator, param_grid=param_grid, cv=cv)\n",
    "        model.fit(Xs, ys, groups=gs)\n",
    "        estimators.append(model)\n",
    "    return estimators\n"
   ]
  },
  {
   "cell_type": "code",
   "execution_count": 11,
   "id": "26",
   "metadata": {
    "tags": [
     "hide_cell"
    ]
   },
   "outputs": [
    {
     "data": {
      "image/png": "[encoded data removed]",
      "text/plain": [
       "<Figure size 432x288 with 1 Axes>"
      ]
     },
     "metadata": {
      "needs_background": "light"
     },
     "output_type": "display_data"
    }
   ],
   "source": [
    "cv = GroupAwareKFold(n_splits=n_splits)\n",
    "samples = shuffled_samples(len(X0_train),simulations)\n",
    "est1 = fit_repeated_models(cv, m.estimator, m.parameters, samples, X0_train, y0_train)\n",
    "plt.hist(extract_alpha(est1));"
   ]
  },
  {
   "cell_type": "code",
   "execution_count": 12,
   "id": "27",
   "metadata": {},
   "outputs": [
    {
     "data": {
      "image/png": "[encoded data removed]",
      "text/plain": [
       "<Figure size 432x288 with 1 Axes>"
      ]
     },
     "metadata": {
      "needs_background": "light"
     },
     "output_type": "display_data"
    }
   ],
   "source": [
    "cv = KFold(n_splits=n_splits)\n",
    "samples = shuffled_samples(len(X0_train),simulations)\n",
    "est2 = fit_repeated_models(cv, m.estimator, m.parameters, samples, X0_train, y0_train)\n",
    "plt.hist(extract_alpha(est2));"
   ]
  },
  {
   "cell_type": "markdown",
   "id": "28",
   "metadata": {},
   "source": [
    "### Boostrapping"
   ]
  },
  {
   "cell_type": "code",
   "execution_count": 13,
   "id": "29",
   "metadata": {},
   "outputs": [
    {
     "data": {
      "image/png": "[encoded data removed]",
      "text/plain": [
       "<Figure size 432x288 with 1 Axes>"
      ]
     },
     "metadata": {
      "needs_background": "light"
     },
     "output_type": "display_data"
    }
   ],
   "source": [
    "cv = GroupAwareKFold(n_splits=n_splits)\n",
    "samples = bootstrap_samples(len(X0_train),simulations)\n",
    "est3 = fit_repeated_models(cv, m.estimator, m.parameters, samples, X0_train, y0_train)\n",
    "plt.hist(extract_alpha(est3));"
   ]
  },
  {
   "cell_type": "code",
   "execution_count": 14,
   "id": "30",
   "metadata": {},
   "outputs": [
    {
     "data": {
      "image/png": "[encoded data removed]",
      "text/plain": [
       "<Figure size 432x288 with 1 Axes>"
      ]
     },
     "metadata": {
      "needs_background": "light"
     },
     "output_type": "display_data"
    }
   ],
   "source": [
    "cv = GroupKFold(n_splits=n_splits)\n",
    "samples = bootstrap_samples(len(X0_train),simulations)\n",
    "est4 = fit_repeated_models(cv, m.estimator, m.parameters, samples, X0_train, y0_train)\n",
    "plt.hist(extract_alpha(est4));"
   ]
  },
  {
   "cell_type": "code",
   "execution_count": 15,
   "id": "31",
   "metadata": {},
   "outputs": [
    {
     "data": {
      "image/png": "[encoded data removed]",
      "text/plain": [
       "<Figure size 432x288 with 1 Axes>"
      ]
     },
     "metadata": {
      "needs_background": "light"
     },
     "output_type": "display_data"
    }
   ],
   "source": [
    "cv = KFold(n_splits=n_splits)\n",
    "samples = bootstrap_samples(len(X0_train),simulations)\n",
    "est5 = fit_repeated_models(cv, m.estimator, m.parameters, samples, X0_train, y0_train)\n",
    "plt.hist(extract_alpha(est5));"
   ]
  },
  {
   "cell_type": "code",
   "execution_count": null,
   "id": "32",
   "metadata": {},
   "outputs": [],
   "source": []
  }
 ],
 "metadata": {
  "celltoolbar": "Tags",
  "kernelspec": {
   "display_name": "Python 3 (ipykernel)",
   "language": "python",
   "name": "python3"
  },
  "language_info": {
   "codemirror_mode": {
    "name": "ipython",
    "version": 3
   },
   "file_extension": ".py",
   "mimetype": "text/x-python",
   "name": "python",
   "nbconvert_exporter": "python",
   "pygments_lexer": "ipython3",
   "version": "3.9.7"
  }
 },
 "nbformat": 4,
 "nbformat_minor": 5
}
