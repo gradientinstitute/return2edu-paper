{
 "cells": [
  {
   "cell_type": "markdown",
   "id": "0",
   "metadata": {
    "papermill": {
     "duration": 0.018015,
     "end_time": "2021-11-19T10:49:15.153568",
     "exception": false,
     "start_time": "2021-11-19T10:49:15.135553",
     "status": "completed"
    },
    "tags": []
   },
   "source": [
    "# Compare Datasets"
   ]
  },
  {
   "cell_type": "code",
   "execution_count": 1,
   "id": "1",
   "metadata": {
    "execution": {
     "iopub.execute_input": "2021-11-19T10:49:15.193674Z",
     "iopub.status.busy": "2021-11-19T10:49:15.193360Z",
     "iopub.status.idle": "2021-11-19T10:49:15.955450Z",
     "shell.execute_reply": "2021-11-19T10:49:15.955134Z"
    },
    "papermill": {
     "duration": 0.784899,
     "end_time": "2021-11-19T10:49:15.955528",
     "exception": false,
     "start_time": "2021-11-19T10:49:15.170629",
     "status": "completed"
    },
    "tags": [
     "hide_cell"
    ]
   },
   "outputs": [],
   "source": [
    "import pandas as pd\n",
    "import numpy as np\n",
    "import pyreadstat\n",
    "from reed import regex_select, compute_confusion\n",
    "pd.options.display.max_columns = 200\n",
    "pd.options.display.max_rows = 500\n",
    "\n",
    "%load_ext autoreload\n",
    "%autoreload 2"
   ]
  },
  {
   "cell_type": "markdown",
   "id": "2",
   "metadata": {
    "papermill": {
     "duration": 0.018037,
     "end_time": "2021-11-19T10:49:15.990710",
     "exception": false,
     "start_time": "2021-11-19T10:49:15.972673",
     "status": "completed"
    },
    "tags": []
   },
   "source": [
    "## Load data & compare overlap of instances in datasets"
   ]
  },
  {
   "cell_type": "code",
   "execution_count": 2,
   "id": "3",
   "metadata": {
    "execution": {
     "iopub.execute_input": "2021-11-19T10:49:16.031165Z",
     "iopub.status.busy": "2021-11-19T10:49:16.030834Z",
     "iopub.status.idle": "2021-11-19T10:49:22.994289Z",
     "shell.execute_reply": "2021-11-19T10:49:22.994004Z"
    },
    "papermill": {
     "duration": 6.985072,
     "end_time": "2021-11-19T10:49:22.994362",
     "exception": false,
     "start_time": "2021-11-19T10:49:16.009290",
     "status": "completed"
    },
    "tags": [
     "hide_input"
    ]
   },
   "outputs": [],
   "source": [
    "idc = 'xwaveid' # merge id\n",
    "finn = pd.read_csv(\"data/all_vars.csv\",index_col='xwaveid').reset_index()\n",
    "anna, meta = pyreadstat.read_dta(\"../reduregvars.dta\")\n",
    "raw, meta_r = pyreadstat.read_sav(f'../part1/Combined a190c.sav') \n",
    "raw['xwaveid'] = raw['xwaveid'].astype(int)\n",
    "anna['xwaveid'] = anna['xwaveid'].astype(int)\n",
    "finn['in_finn'] = True\n",
    "anna['in_anna'] = True"
   ]
  },
  {
   "cell_type": "markdown",
   "id": "4",
   "metadata": {
    "papermill": {
     "duration": 0.062195,
     "end_time": "2021-11-19T10:49:23.073541",
     "exception": false,
     "start_time": "2021-11-19T10:49:23.011346",
     "status": "completed"
    },
    "tags": []
   },
   "source": [
    "### Check currently studying indicators"
   ]
  },
  {
   "cell_type": "code",
   "execution_count": 3,
   "id": "5",
   "metadata": {
    "execution": {
     "iopub.execute_input": "2021-11-19T10:49:23.119044Z",
     "iopub.status.busy": "2021-11-19T10:49:23.118686Z",
     "iopub.status.idle": "2021-11-19T10:49:23.129750Z",
     "shell.execute_reply": "2021-11-19T10:49:23.129477Z"
    },
    "papermill": {
     "duration": 0.033896,
     "end_time": "2021-11-19T10:49:23.129817",
     "exception": false,
     "start_time": "2021-11-19T10:49:23.095921",
     "status": "completed"
    },
    "tags": []
   },
   "outputs": [],
   "source": [
    "summary_study = ['aedqstdy','aedfts','acaeft','acaept','anlreast','abncsty','abnfsty']\n",
    "\n",
    "c11_study = [\n",
    " 'aedcqsl',\n",
    " 'aedcqsh',\n",
    " 'aedcqnq',\n",
    " 'aedcqtq',\n",
    " 'aedcqta',\n",
    " 'aedcqtc',\n",
    " 'aedcqc1',\n",
    " 'aedcqc2',\n",
    " 'aedcqc3',\n",
    " 'aedcqc4',\n",
    " 'aedcqcd',\n",
    " 'aedcqad',\n",
    " 'aedcqav',\n",
    " 'aedcqbd',\n",
    " 'aedcqhd',\n",
    " 'aedcqgd',\n",
    " 'aedcqms',\n",
    " 'aedcqdc',\n",
    " 'aedcqbc',\n",
    " 'aedcqsc',\n",
    " 'aedcqcc',\n",
    " 'aedcqgc',\n",
    " 'aedcqcn',\n",
    " 'aedcqdn',\n",
    " 'aedcqnei',\n",
    " 'aedcqna',\n",
    " 'aedcqos',\n",
    " 'aedcqdk',\n",
    "]\n",
    "\n",
    "dv_asced_study = [\n",
    " 'aedcq100',\n",
    " 'aedcq110',\n",
    " 'aedcq120',\n",
    " 'aedcq200',\n",
    " 'aedcq211',\n",
    " 'aedcq221',\n",
    " 'aedcq310',\n",
    " 'aedcq311',\n",
    " 'aedcq312',\n",
    " 'aedcq400',\n",
    " 'aedcq411',\n",
    " 'aedcq413',\n",
    " 'aedcq421',\n",
    " 'aedcq500',\n",
    " 'aedcq511',\n",
    " 'aedcq514',\n",
    " 'aedcq521',\n",
    " 'aedcq524',\n",
    " 'aedcq600',\n",
    " 'aedcq611',\n",
    " 'aedcqunk'\n",
    "]\n",
    "\n",
    "studying_all = summary_study + c11_study + dv_asced_study"
   ]
  },
  {
   "cell_type": "code",
   "execution_count": 4,
   "id": "6",
   "metadata": {
    "execution": {
     "iopub.execute_input": "2021-11-19T10:49:23.166835Z",
     "iopub.status.busy": "2021-11-19T10:49:23.166524Z",
     "iopub.status.idle": "2021-11-19T10:49:23.185082Z",
     "shell.execute_reply": "2021-11-19T10:49:23.184770Z"
    },
    "papermill": {
     "duration": 0.038406,
     "end_time": "2021-11-19T10:49:23.185152",
     "exception": false,
     "start_time": "2021-11-19T10:49:23.146746",
     "status": "completed"
    },
    "tags": []
   },
   "outputs": [],
   "source": [
    "for c in studying_all:\n",
    "    if raw[c].max() > 1:\n",
    "        print(c)\n",
    "        print(raw[c].value_counts(dropna=False))\n",
    "    "
   ]
  },
  {
   "cell_type": "code",
   "execution_count": 5,
   "id": "7",
   "metadata": {
    "execution": {
     "iopub.execute_input": "2021-11-19T10:49:23.223349Z",
     "iopub.status.busy": "2021-11-19T10:49:23.223013Z",
     "iopub.status.idle": "2021-11-19T10:49:23.241336Z",
     "shell.execute_reply": "2021-11-19T10:49:23.241034Z"
    },
    "papermill": {
     "duration": 0.03904,
     "end_time": "2021-11-19T10:49:23.241400",
     "exception": false,
     "start_time": "2021-11-19T10:49:23.202360",
     "status": "completed"
    },
    "tags": []
   },
   "outputs": [
    {
     "name": "stdout",
     "output_type": "stream",
     "text": [
      "Summary columns\n",
      "---------------------\n",
      "aedqstdy -> C7a Qualifications obtained - Still studying\n",
      "aedfts -> DV: Full-time student\n",
      "acaeft -> FG1 Any calendar activity - Enrolled FT in school/educational course\n",
      "acaept -> FG1 Any calendar activity - Enrolled PT in school/educational course\n",
      "anlreast -> F12 Not looking for work - Studying/returning to studies\n",
      "abncsty -> G15 Do you currently receive any of these government pensions or allowances - Austudy/Abstudy payment\n",
      "abnfsty -> G31 Pensions/Allowances received - Austudy/Abstudy\n",
      "\n",
      "C11 Questions\n",
      "---------------------\n",
      "aedcqsl -> C11 Qualifications studying for - Secondary school - lower level\n",
      "aedcqsh -> C11 Qualifications studying for - Secondary school - highest level\n",
      "aedcqnq -> C11 Qualifications studying for - Nursing qualification\n",
      "aedcqtq -> C11 Qualifications studying for - Teaching qualification\n",
      "aedcqta -> C11 Qualifications studying for - Trade certificate or apprenticeship\n",
      "aedcqtc -> C11 Qualifications studying for - Technicians cert./Advanced certificate\n",
      "aedcqc1 -> C11 Qualifications studying for - Other certificate - level I\n",
      "aedcqc2 -> C11 Qualifications studying for - Other certificate - level II\n",
      "aedcqc3 -> C11 Qualifications studying for - Other certificate - level III\n",
      "aedcqc4 -> C11 Qualifications studying for - Other certificate - level IV\n",
      "aedcqcd -> C11 Qualifications studying for - Other certificate - dont know level\n",
      "aedcqad -> C11 Qualifications studying for - Associate diploma\n",
      "aedcqav -> C11 Qualifications studying for - Undergraduate diploma\n",
      "aedcqbd -> C11 Qualifications studying for - Bachelor degree but not honours\n",
      "aedcqhd -> C11 Qualifications studying for - Honours bachelor degree\n",
      "aedcqgd -> C11 Qualifications studying for - Post-graduate diploma\n",
      "aedcqms -> C11 Qualifications studying for - Masters degree\n",
      "aedcqdc -> C11 Qualifications studying for - Doctorate\n",
      "aedcqbc -> C11 Qualifications studying for - Business course NFI\n",
      "aedcqsc -> C11 Qualifications studying for - Secretarial certificate NFI\n",
      "aedcqcc -> C11 Qualifications studying for - Computer certificate NFI\n",
      "aedcqgc -> C11 Qualifications studying for - Graduate certificate\n",
      "aedcqcn -> C11 Qualifications studying for - Computer course NFI\n",
      "aedcqdn -> C11 Qualifications studying for - Diploma NFI\n",
      "aedcqnei -> C11 Qualifications studying for - NEI (Not Enough Information to classify)\n",
      "aedcqna -> C11 Qualifications studying for - Not Answered\n",
      "aedcqos -> C11 Qualifications studying for - Other\n",
      "aedcqdk -> C11 Qualifications studying for - Dont know\n",
      "\n",
      "DV study\n",
      "---------------------\n",
      "aedcq100 -> DV: ASCED 100 Postgraduate - Currently studying\n",
      "aedcq110 -> DV: ASCED 110 Doctoral degree - Currently studying\n",
      "aedcq120 -> DV: ASCED 120 Master degree - Currently studying\n",
      "aedcq200 -> DV: ASCED 200 Grad Dip and Grad Cert - Currently studying\n",
      "aedcq211 -> DV: ASCED 211 Graduate Diploma - Currently studying\n",
      "aedcq221 -> DV: ASCED 221 Graduate certificate - Currently studying\n",
      "aedcq310 -> DV: ASCED 310 Bachelor degree - Currently studying\n",
      "aedcq311 -> DV: ASCED 311 Bachelor (Honours) Degree - Currently studying\n",
      "aedcq312 -> DV: ASCED 312 Bachelor (Pass) Degree - Currently studying\n",
      "aedcq400 -> DV: ASCED 400 Advanced Diploma and Diploma - Currently studying\n",
      "aedcq411 -> DV: ASCED 411 Advanced Diploma - Currently studying\n",
      "aedcq413 -> DV: ASCED 413 Associate Degree - Currently studying\n",
      "aedcq421 -> DV: ASCED 421 Diploma - Currently studying\n",
      "aedcq500 -> DV: ASCED 500 Certificate level - Currently studying\n",
      "aedcq511 -> DV: ASCED 511 Certificate IV - Currently studying\n",
      "aedcq514 -> DV: ASCED 514 Certificate III - Currently studying\n",
      "aedcq521 -> DV: ASCED 521 Certificate II - Currently studying\n",
      "aedcq524 -> DV: ASCED 524 Certificate I - Currently studying\n",
      "aedcq600 -> DV: ASCED 600 Secondary education - Currently studying\n",
      "aedcq611 -> DV: ASCED 611 Year 12 - Currently studying\n",
      "aedcqunk -> DV: ASCED Unknown - Not enough information - Currently studying\n",
      "\n"
     ]
    }
   ],
   "source": [
    "def print_columns_with_labels(cols, meta, name):\n",
    "    print(name)\n",
    "    print('---------------------')\n",
    "    for c in cols:\n",
    "        print(c,\"->\",meta.column_names_to_labels.get(c))\n",
    "    print('')\n",
    "    \n",
    "print_columns_with_labels(summary_study, meta_r, 'Summary columns')\n",
    "print_columns_with_labels(c11_study, meta_r, 'C11 Questions')\n",
    "print_columns_with_labels(dv_asced_study, meta_r, 'DV study')"
   ]
  },
  {
   "cell_type": "code",
   "execution_count": 6,
   "id": "8",
   "metadata": {
    "execution": {
     "iopub.execute_input": "2021-11-19T10:49:23.280961Z",
     "iopub.status.busy": "2021-11-19T10:49:23.280647Z",
     "iopub.status.idle": "2021-11-19T10:49:23.312190Z",
     "shell.execute_reply": "2021-11-19T10:49:23.312432Z"
    },
    "papermill": {
     "duration": 0.053074,
     "end_time": "2021-11-19T10:49:23.312519",
     "exception": false,
     "start_time": "2021-11-19T10:49:23.259445",
     "status": "completed"
    },
    "tags": []
   },
   "outputs": [
    {
     "name": "stdout",
     "output_type": "stream",
     "text": [
      "aedcqfpt =  C10b Currently studying full or part time\n"
     ]
    },
    {
     "data": {
      "text/plain": [
       "aedqstdy    0.0\n",
       "aedfts      0.0\n",
       "acaeft      0.0\n",
       "acaept      0.0\n",
       "anlreast    0.0\n",
       "abncsty     0.0\n",
       "abnfsty     0.0\n",
       "aedcqsl     0.0\n",
       "aedcqsh     0.0\n",
       "aedcqnq     0.0\n",
       "aedcqtq     0.0\n",
       "aedcqta     0.0\n",
       "aedcqtc     0.0\n",
       "aedcqc1     0.0\n",
       "aedcqc2     0.0\n",
       "aedcqc3     0.0\n",
       "aedcqc4     0.0\n",
       "aedcqcd     0.0\n",
       "aedcqad     0.0\n",
       "aedcqav     0.0\n",
       "aedcqbd     0.0\n",
       "aedcqhd     0.0\n",
       "aedcqgd     0.0\n",
       "aedcqms     0.0\n",
       "aedcqdc     0.0\n",
       "aedcqbc     0.0\n",
       "aedcqsc     0.0\n",
       "aedcqcc     0.0\n",
       "aedcqgc     0.0\n",
       "aedcqcn     0.0\n",
       "aedcqdn     0.0\n",
       "aedcqnei    0.0\n",
       "aedcqna     0.0\n",
       "aedcqos     0.0\n",
       "aedcqdk     0.0\n",
       "aedcq100    0.0\n",
       "aedcq110    0.0\n",
       "aedcq120    0.0\n",
       "aedcq200    0.0\n",
       "aedcq211    0.0\n",
       "aedcq221    0.0\n",
       "aedcq310    0.0\n",
       "aedcq311    0.0\n",
       "aedcq312    0.0\n",
       "aedcq400    0.0\n",
       "aedcq411    0.0\n",
       "aedcq413    0.0\n",
       "aedcq421    0.0\n",
       "aedcq500    0.0\n",
       "aedcq511    0.0\n",
       "aedcq514    0.0\n",
       "aedcq521    0.0\n",
       "aedcq524    0.0\n",
       "aedcq600    0.0\n",
       "aedcq611    0.0\n",
       "aedcqunk    0.0\n",
       "dtype: float64"
      ]
     },
     "execution_count": 6,
     "metadata": {},
     "output_type": "execute_result"
    }
   ],
   "source": [
    "\n",
    "anna_ = pd.merge(anna, raw[studying_all+[idc]], how='left',on=idc)\n",
    "print('aedcqfpt = ',meta_r.column_names_to_labels['aedcqfpt'])\n",
    "anna_[studying_all].sum(axis=0)"
   ]
  },
  {
   "cell_type": "markdown",
   "id": "9",
   "metadata": {
    "papermill": {
     "duration": 0.020245,
     "end_time": "2021-11-19T10:49:23.352166",
     "exception": false,
     "start_time": "2021-11-19T10:49:23.331921",
     "status": "completed"
    },
    "tags": []
   },
   "source": [
    "### Agreement in treatment, outcome & instances"
   ]
  },
  {
   "cell_type": "code",
   "execution_count": 7,
   "id": "10",
   "metadata": {
    "execution": {
     "iopub.execute_input": "2021-11-19T10:49:23.397793Z",
     "iopub.status.busy": "2021-11-19T10:49:23.397473Z",
     "iopub.status.idle": "2021-11-19T10:49:23.423208Z",
     "shell.execute_reply": "2021-11-19T10:49:23.422898Z"
    },
    "papermill": {
     "duration": 0.050099,
     "end_time": "2021-11-19T10:49:23.423279",
     "exception": false,
     "start_time": "2021-11-19T10:49:23.373180",
     "status": "completed"
    },
    "tags": []
   },
   "outputs": [
    {
     "name": "stdout",
     "output_type": "stream",
     "text": [
      "In both:5250, Finn only:191, Anna only:48\n"
     ]
    }
   ],
   "source": [
    "# look at agreement of treatment, outcome and instances\n",
    "treatments = ['^reduhl$', '^rehllt$', '^redudl$', '^redufl$', '^redllt$', '^refllt$']\n",
    "outcomes = ['^rlwage$', '^mh$', '^mhbm$', '^wkhr$', '^y_']\n",
    "compare = ['xwaveid',\"^in_\"]+treatments+outcomes+['ahgage1']\n",
    "\n",
    "finn = finn[regex_select(finn.columns, compare)]\n",
    "anna = anna[regex_select(anna.columns, compare)]\n",
    "c = pd.merge(anna,finn,on=['xwaveid'],how='outer',suffixes=('_a','_f'))\n",
    "c['in_finn'].fillna(False,inplace=True)\n",
    "c['in_anna'].fillna(False,inplace=True)\n",
    "both = c[c['in_anna']&c['in_finn']]\n",
    "finn_only = c[~c['in_anna']&c['in_finn']]\n",
    "anna_only = c[c['in_anna']&~c['in_finn']]\n",
    "print(f'In both:{len(both)}, Finn only:{len(finn_only)}, Anna only:{len(anna_only)}')\n",
    "assert len(both)+len(finn_only)+len(anna_only)==len(c), \"merged frames must be same length\""
   ]
  },
  {
   "cell_type": "markdown",
   "id": "11",
   "metadata": {
    "papermill": {
     "duration": 0.021262,
     "end_time": "2021-11-19T10:49:23.464435",
     "exception": false,
     "start_time": "2021-11-19T10:49:23.443173",
     "status": "completed"
    },
    "tags": []
   },
   "source": [
    "## For people in both datasets\n",
    "### Compare treatment computations"
   ]
  },
  {
   "cell_type": "code",
   "execution_count": 8,
   "id": "12",
   "metadata": {
    "execution": {
     "iopub.execute_input": "2021-11-19T10:49:23.510419Z",
     "iopub.status.busy": "2021-11-19T10:49:23.510092Z",
     "iopub.status.idle": "2021-11-19T10:49:23.531831Z",
     "shell.execute_reply": "2021-11-19T10:49:23.531532Z"
    },
    "papermill": {
     "duration": 0.045821,
     "end_time": "2021-11-19T10:49:23.531899",
     "exception": false,
     "start_time": "2021-11-19T10:49:23.486078",
     "status": "completed"
    },
    "tags": [
     "hide_input"
    ]
   },
   "outputs": [
    {
     "name": "stdout",
     "output_type": "stream",
     "text": [
      "Comparing: ('reduhl_a', 'reduhl_f')\n"
     ]
    },
    {
     "data": {
      "text/html": [
       "<div>\n",
       "<style scoped>\n",
       "    .dataframe tbody tr th:only-of-type {\n",
       "        vertical-align: middle;\n",
       "    }\n",
       "\n",
       "    .dataframe tbody tr th {\n",
       "        vertical-align: top;\n",
       "    }\n",
       "\n",
       "    .dataframe thead th {\n",
       "        text-align: right;\n",
       "    }\n",
       "</style>\n",
       "<table border=\"1\" class=\"dataframe\">\n",
       "  <thead>\n",
       "    <tr style=\"text-align: right;\">\n",
       "      <th></th>\n",
       "      <th>finn==0</th>\n",
       "      <th>finn==1</th>\n",
       "    </tr>\n",
       "  </thead>\n",
       "  <tbody>\n",
       "    <tr>\n",
       "      <th>anna==0</th>\n",
       "      <td>4463</td>\n",
       "      <td>56</td>\n",
       "    </tr>\n",
       "    <tr>\n",
       "      <th>anna==1</th>\n",
       "      <td>0</td>\n",
       "      <td>450</td>\n",
       "    </tr>\n",
       "  </tbody>\n",
       "</table>\n",
       "</div>"
      ],
      "text/plain": [
       "         finn==0  finn==1\n",
       "anna==0     4463       56\n",
       "anna==1        0      450"
      ]
     },
     "metadata": {},
     "output_type": "display_data"
    },
    {
     "name": "stdout",
     "output_type": "stream",
     "text": [
      "Comparing: ('redudl_a', 'redudl_f')\n"
     ]
    },
    {
     "data": {
      "text/html": [
       "<div>\n",
       "<style scoped>\n",
       "    .dataframe tbody tr th:only-of-type {\n",
       "        vertical-align: middle;\n",
       "    }\n",
       "\n",
       "    .dataframe tbody tr th {\n",
       "        vertical-align: top;\n",
       "    }\n",
       "\n",
       "    .dataframe thead th {\n",
       "        text-align: right;\n",
       "    }\n",
       "</style>\n",
       "<table border=\"1\" class=\"dataframe\">\n",
       "  <thead>\n",
       "    <tr style=\"text-align: right;\">\n",
       "      <th></th>\n",
       "      <th>finn==0</th>\n",
       "      <th>finn==1</th>\n",
       "    </tr>\n",
       "  </thead>\n",
       "  <tbody>\n",
       "    <tr>\n",
       "      <th>anna==0</th>\n",
       "      <td>3935</td>\n",
       "      <td>31</td>\n",
       "    </tr>\n",
       "    <tr>\n",
       "      <th>anna==1</th>\n",
       "      <td>13</td>\n",
       "      <td>1267</td>\n",
       "    </tr>\n",
       "  </tbody>\n",
       "</table>\n",
       "</div>"
      ],
      "text/plain": [
       "         finn==0  finn==1\n",
       "anna==0     3935       31\n",
       "anna==1       13     1267"
      ]
     },
     "metadata": {},
     "output_type": "display_data"
    },
    {
     "name": "stdout",
     "output_type": "stream",
     "text": [
      "Comparing: ('redufl_a', 'redufl_f')\n"
     ]
    },
    {
     "data": {
      "text/html": [
       "<div>\n",
       "<style scoped>\n",
       "    .dataframe tbody tr th:only-of-type {\n",
       "        vertical-align: middle;\n",
       "    }\n",
       "\n",
       "    .dataframe tbody tr th {\n",
       "        vertical-align: top;\n",
       "    }\n",
       "\n",
       "    .dataframe thead th {\n",
       "        text-align: right;\n",
       "    }\n",
       "</style>\n",
       "<table border=\"1\" class=\"dataframe\">\n",
       "  <thead>\n",
       "    <tr style=\"text-align: right;\">\n",
       "      <th></th>\n",
       "      <th>finn==0</th>\n",
       "      <th>finn==1</th>\n",
       "    </tr>\n",
       "  </thead>\n",
       "  <tbody>\n",
       "    <tr>\n",
       "      <th>anna==0</th>\n",
       "      <td>3932</td>\n",
       "      <td>30</td>\n",
       "    </tr>\n",
       "    <tr>\n",
       "      <th>anna==1</th>\n",
       "      <td>13</td>\n",
       "      <td>1271</td>\n",
       "    </tr>\n",
       "  </tbody>\n",
       "</table>\n",
       "</div>"
      ],
      "text/plain": [
       "         finn==0  finn==1\n",
       "anna==0     3932       30\n",
       "anna==1       13     1271"
      ]
     },
     "metadata": {},
     "output_type": "display_data"
    }
   ],
   "source": [
    "treatment_pairs = [\n",
    "    ('reduhl_a','reduhl_f'),\n",
    "    ('redudl_a','redudl_f'),\n",
    "    ('redufl_a','redufl_f')\n",
    "]\n",
    "for ta, tf in treatment_pairs:\n",
    "    print(\"Comparing:\",(ta, tf))\n",
    "    confusion = compute_confusion(both[ta],both[tf],'anna','finn')\n",
    "    display(confusion)\n",
    "    assert confusion.iloc[1,0] < 20, 'large number of instances treated according to anna but not finn'"
   ]
  },
  {
   "cell_type": "code",
   "execution_count": 9,
   "id": "13",
   "metadata": {
    "execution": {
     "iopub.execute_input": "2021-11-19T10:49:23.585867Z",
     "iopub.status.busy": "2021-11-19T10:49:23.585548Z",
     "iopub.status.idle": "2021-11-19T10:49:23.597746Z",
     "shell.execute_reply": "2021-11-19T10:49:23.597440Z"
    },
    "papermill": {
     "duration": 0.040533,
     "end_time": "2021-11-19T10:49:23.597813",
     "exception": false,
     "start_time": "2021-11-19T10:49:23.557280",
     "status": "completed"
    },
    "tags": []
   },
   "outputs": [],
   "source": [
    "both[both['redudl_a']!=both['redudl_f']].to_csv(\"data/anna_compare.csv\",index=False)"
   ]
  },
  {
   "cell_type": "markdown",
   "id": "14",
   "metadata": {
    "papermill": {
     "duration": 0.02643,
     "end_time": "2021-11-19T10:49:23.649619",
     "exception": false,
     "start_time": "2021-11-19T10:49:23.623189",
     "status": "completed"
    },
    "tags": []
   },
   "source": [
    "### Compare outcome computations\n",
    "   - These are almost identical. The difference is probably as I haven't replaced the values for those claiming to be working more than 100 hours per week."
   ]
  },
  {
   "cell_type": "code",
   "execution_count": 10,
   "id": "15",
   "metadata": {
    "execution": {
     "iopub.execute_input": "2021-11-19T10:49:23.704708Z",
     "iopub.status.busy": "2021-11-19T10:49:23.704394Z",
     "iopub.status.idle": "2021-11-19T10:49:23.718474Z",
     "shell.execute_reply": "2021-11-19T10:49:23.718173Z"
    },
    "papermill": {
     "duration": 0.042553,
     "end_time": "2021-11-19T10:49:23.718539",
     "exception": false,
     "start_time": "2021-11-19T10:49:23.675986",
     "status": "completed"
    },
    "tags": [
     "hide_input"
    ]
   },
   "outputs": [
    {
     "name": "stdout",
     "output_type": "stream",
     "text": [
      "Comparing: ('mh', 'y_ghmh')\n"
     ]
    },
    {
     "data": {
      "text/plain": [
       "array([[1., 1.],\n",
       "       [1., 1.]])"
      ]
     },
     "metadata": {},
     "output_type": "display_data"
    },
    {
     "name": "stdout",
     "output_type": "stream",
     "text": [
      "Comparing: ('wkhr', 'y_jbhruc')\n"
     ]
    },
    {
     "data": {
      "text/plain": [
       "array([[1.        , 0.99991192],\n",
       "       [0.99991192, 1.        ]])"
      ]
     },
     "metadata": {},
     "output_type": "display_data"
    }
   ],
   "source": [
    "outcome_pairs = [\n",
    "    ('mh','y_ghmh'),\n",
    "    ('wkhr','y_jbhruc')\n",
    "]\n",
    "for oa, of in outcome_pairs:\n",
    "    print(\"Comparing:\",(oa, of))\n",
    "    display(np.corrcoef(both[oa].fillna(-1),both[of].fillna(-1)))"
   ]
  }
 ],
 "metadata": {
  "kernelspec": {
   "display_name": "Python 3 (ipykernel)",
   "language": "python",
   "name": "python3"
  },
  "language_info": {
   "codemirror_mode": {
    "name": "ipython",
    "version": 3
   },
   "file_extension": ".py",
   "mimetype": "text/x-python",
   "name": "python",
   "nbconvert_exporter": "python",
   "pygments_lexer": "ipython3",
   "version": "3.9.7"
  },
  "papermill": {
   "default_parameters": {},
   "duration": 9.716165,
   "end_time": "2021-11-19T10:49:24.053502",
   "environment_variables": {},
   "exception": null,
   "input_path": "Compare-Anna-Treatment-Outcomes.ipynb",
   "output_path": "results/Compare-Anna-Treatment-Outcomes-default.ipynb",
   "parameters": {},
   "start_time": "2021-11-19T10:49:14.337337",
   "version": "2.3.3"
  }
 },
 "nbformat": 4,
 "nbformat_minor": 5
}