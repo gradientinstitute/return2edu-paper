{
 "cells": [
  {
   "cell_type": "markdown",
   "id": "89fa9411",
   "metadata": {},
   "source": [
    "# lasso-20-restricted"
   ]
  },
  {
   "cell_type": "markdown",
   "id": "0",
   "metadata": {
    "papermill": {
     "duration": 0.03794,
     "end_time": "2021-11-29T22:15:11.330649",
     "exception": false,
     "start_time": "2021-11-29T22:15:11.292709",
     "status": "completed"
    },
    "tags": [
     "Overview"
    ]
   },
   "source": [
    "# Direct Regression - Bayesian Version\n",
    "\n",
    "## Response Model\n",
    "\n",
    "How well can we predict outcomes $Y$ conditional on treatment $T$ and other covariates $Z$?\n",
    "\n",
    "### Treatent variables\n",
    "\n",
    "   - **reduhl**\tCompleted re-education based on highest level of attainment\n",
    "   - **redudl**\tCompleted re-education based on detailed qualifications\n",
    "   - **redufl**\tCompleted re-education using highest lvl and detailed qualifications.\n",
    "\n",
    "### Outcome variables\n",
    "   - Mental health in 2019 (**mh**). This is the transformed mental health scores from the aggregation of mental health items of the SF-36 Health Survey, as reported by the individual in 2019. It ranges from 0 to 100, with higher scores indicating better mental health.  \n",
    "   - Working hours in 2019 (**wkhr**) records the total number of hours the individual works in all jobs in a week on average. Working hours are set to 0 for those not working. \n",
    "   - Hourly Wages in 2019 (**rlwage**) records the average hourly wage for the individual’s main job in 2019. Hourly wages are set to 0 for those not working and set to missing for those reporting working more than 100 hours a week. \n",
    "   \n",
    "#### Columns explicitly excluded\n",
    "   - **xwaveid** (unique identifier)\n",
    "   - **p_rcom*** (timing of completion of re-education, proxies treatment) TODO think about how we would include this\n",
    "   - **p_cotrl** (first avail 2003)\n",
    "   - **p_rdf*** (first avail 2012)"
   ]
  },
  {
   "cell_type": "code",
   "execution_count": 1,
   "id": "1",
   "metadata": {
    "execution": {
     "iopub.execute_input": "2021-11-29T22:15:11.365139Z",
     "iopub.status.busy": "2021-11-29T22:15:11.364803Z",
     "iopub.status.idle": "2021-11-29T22:15:12.980708Z",
     "shell.execute_reply": "2021-11-29T22:15:12.980351Z"
    },
    "papermill": {
     "duration": 1.633488,
     "end_time": "2021-11-29T22:15:12.980800",
     "exception": false,
     "start_time": "2021-11-29T22:15:11.347312",
     "status": "completed"
    },
    "tags": [
     "hide_cell"
    ]
   },
   "outputs": [],
   "source": [
    "import numpy as np\n",
    "import pandas as pd\n",
    "import statsmodels.api as sm\n",
    "import matplotlib.pyplot as plt\n",
    "import torch\n",
    "import pyro\n",
    "import pyro.distributions as dist\n",
    "from pyro.infer import MCMC, NUTS\n",
    "\n",
    "from scipy.stats import norm, mstats\n",
    "from cinspect.estimators import BayesianRidgeStat\n",
    "from sklearn.gaussian_process import GaussianProcessRegressor\n",
    "from sklearn.gaussian_process.kernels import WhiteKernel, Matern, DotProduct\n",
    "from sklearn.model_selection import cross_validate, KFold\n",
    "from sklearn.metrics import r2_score\n",
    "\n",
    "from reed import drop_missing_treatment_or_outcome, Model, transform_outcome\n",
    "from direct_regression import seperate_and_transform_data, print_unconditional_effects\n",
    "\n",
    "\n",
    "torch.set_default_tensor_type(torch.DoubleTensor) # set the default to float64\n",
    "%matplotlib inline"
   ]
  },
  {
   "cell_type": "markdown",
   "id": "2",
   "metadata": {
    "papermill": {
     "duration": 0.00907,
     "end_time": "2021-11-29T22:15:12.999394",
     "exception": false,
     "start_time": "2021-11-29T22:15:12.990324",
     "status": "completed"
    },
    "tags": []
   },
   "source": [
    "## Analysis Parameters"
   ]
  },
  {
   "cell_type": "code",
   "execution_count": 2,
   "id": "3",
   "metadata": {
    "execution": {
     "iopub.execute_input": "2021-11-29T22:15:13.020737Z",
     "iopub.status.busy": "2021-11-29T22:15:13.020415Z",
     "iopub.status.idle": "2021-11-29T22:15:13.021817Z",
     "shell.execute_reply": "2021-11-29T22:15:13.022066Z"
    },
    "papermill": {
     "duration": 0.013841,
     "end_time": "2021-11-29T22:15:13.022155",
     "exception": false,
     "start_time": "2021-11-29T22:15:13.008314",
     "status": "completed"
    },
    "tags": [
     "parameters"
    ]
   },
   "outputs": [],
   "source": [
    "log_outcome=True\n",
    "standardize_outcome=True\n",
    "exclude_patterns = [\n",
    "    '^reduhl$', '^rehllt$', '^redudl$', '^redufl$', '^redllt$', '^refllt$',\n",
    "    '^rlwage$', '^mh$', '^mhbm$', '^wkhr$', '^y_', '^p_rcom','^p_rdf','^p_cotrl',\n",
    "    '^xwaveid$','p_rcom18','^aedcq', '^abnfsty','^aedcqfpt','^aedqstdy'\n",
    "]\n",
    "data_load_func = lambda filepath: pd.read_csv(filepath, index_col='xwaveid')\n",
    "\n",
    "#configuration_name = 'default'\n",
    "outcome = 'y_wsce'\n",
    "treatment = 'redufl'\n",
    "test = False\n",
    "data_file = \"data/all_lasso_selected_100.csv\"\n",
    "xval_gp = False\n",
    "laplace_prior = False "
   ]
  },
  {
   "cell_type": "code",
   "execution_count": 3,
   "id": "97da9a85",
   "metadata": {
    "execution": {
     "iopub.execute_input": "2021-11-29T22:15:13.043416Z",
     "iopub.status.busy": "2021-11-29T22:15:13.043100Z",
     "iopub.status.idle": "2021-11-29T22:15:13.044820Z",
     "shell.execute_reply": "2021-11-29T22:15:13.044502Z"
    },
    "papermill": {
     "duration": 0.013429,
     "end_time": "2021-11-29T22:15:13.044892",
     "exception": false,
     "start_time": "2021-11-29T22:15:13.031463",
     "status": "completed"
    },
    "tags": [
     "injected-parameters"
    ]
   },
   "outputs": [],
   "source": [
    "# Parameters\n",
    "configuration_name = \"lasso-20-restricted\"\n",
    "outcome = \"y_wsce\"\n",
    "treatment = \"redufl\"\n",
    "test = False\n",
    "data_file = \"data/all_lasso_selected_20_restricted.csv\"\n",
    "release = \"restricted\"\n",
    "laplace_prior = False\n",
    "xval_gp = True\n"
   ]
  },
  {
   "cell_type": "markdown",
   "id": "4",
   "metadata": {
    "papermill": {
     "duration": 0.009246,
     "end_time": "2021-11-29T22:15:13.063438",
     "exception": false,
     "start_time": "2021-11-29T22:15:13.054192",
     "status": "completed"
    },
    "tags": []
   },
   "source": [
    "## Load the data"
   ]
  },
  {
   "cell_type": "code",
   "execution_count": 4,
   "id": "5",
   "metadata": {
    "execution": {
     "iopub.execute_input": "2021-11-29T22:15:13.085213Z",
     "iopub.status.busy": "2021-11-29T22:15:13.084885Z",
     "iopub.status.idle": "2021-11-29T22:15:13.229623Z",
     "shell.execute_reply": "2021-11-29T22:15:13.229284Z"
    },
    "papermill": {
     "duration": 0.15705,
     "end_time": "2021-11-29T22:15:13.229713",
     "exception": false,
     "start_time": "2021-11-29T22:15:13.072663",
     "status": "completed"
    },
    "tags": [
     "hide_cell"
    ]
   },
   "outputs": [
    {
     "name": "stdout",
     "output_type": "stream",
     "text": [
      "Dropped 284 rows missing treatment or outcome.\n"
     ]
    },
    {
     "data": {
      "image/png": "[encoded data removed]",
      "text/plain": [
       "<Figure size 432x288 with 1 Axes>"
      ]
     },
     "metadata": {
      "needs_background": "light"
     },
     "output_type": "display_data"
    }
   ],
   "source": [
    "data = data_load_func(data_file)\n",
    "drop_missing_treatment_or_outcome(data, treatment, outcome)\n",
    "data[outcome] = transform_outcome(data[outcome],log_outcome, standardize_outcome)\n",
    "\n",
    "    \n",
    "plt.hist(data[outcome])\n",
    "plt.xlabel(outcome)\n",
    "plt.ylabel(\"count\")\n",
    "plt.title(\"Distribution of outcomes\");"
   ]
  },
  {
   "cell_type": "markdown",
   "id": "6",
   "metadata": {
    "papermill": {
     "duration": 0.011963,
     "end_time": "2021-11-29T22:15:13.253854",
     "exception": false,
     "start_time": "2021-11-29T22:15:13.241891",
     "status": "completed"
    },
    "tags": []
   },
   "source": [
    "## Prepare data for modeling\n",
    "\n",
    "- split into treated/control\n",
    "- impute missing values and scale\n",
    "- separate features from outcomes&treatments\n",
    "\n"
   ]
  },
  {
   "cell_type": "code",
   "execution_count": 5,
   "id": "7",
   "metadata": {
    "execution": {
     "iopub.execute_input": "2021-11-29T22:15:13.284633Z",
     "iopub.status.busy": "2021-11-29T22:15:13.284222Z",
     "iopub.status.idle": "2021-11-29T22:15:13.291413Z",
     "shell.execute_reply": "2021-11-29T22:15:13.291023Z"
    },
    "papermill": {
     "duration": 0.025734,
     "end_time": "2021-11-29T22:15:13.291504",
     "exception": false,
     "start_time": "2021-11-29T22:15:13.265770",
     "status": "completed"
    },
    "tags": []
   },
   "outputs": [
    {
     "name": "stdout",
     "output_type": "stream",
     "text": [
      "Control data dimensions:  (3789, 19)\n",
      "Treated data dimensions: (1368, 19)\n"
     ]
    }
   ],
   "source": [
    "from direct_regression import seperate_and_transform_data\n",
    "X0, X1, y0, y1, X, y, t, features = seperate_and_transform_data(data, treatment, outcome)\n",
    "print(\"Control data dimensions: \", X0.shape)\n",
    "print(\"Treated data dimensions:\", X1.shape)"
   ]
  },
  {
   "cell_type": "markdown",
   "id": "8",
   "metadata": {
    "papermill": {
     "duration": 0.012186,
     "end_time": "2021-11-29T22:15:13.316166",
     "exception": false,
     "start_time": "2021-11-29T22:15:13.303980",
     "status": "completed"
    },
    "tags": []
   },
   "source": [
    "## Compute unconditional/unadjusted estimate of treatment effect"
   ]
  },
  {
   "cell_type": "code",
   "execution_count": 6,
   "id": "9",
   "metadata": {
    "execution": {
     "iopub.execute_input": "2021-11-29T22:15:13.344593Z",
     "iopub.status.busy": "2021-11-29T22:15:13.344205Z",
     "iopub.status.idle": "2021-11-29T22:15:13.346026Z",
     "shell.execute_reply": "2021-11-29T22:15:13.346329Z"
    },
    "papermill": {
     "duration": 0.018004,
     "end_time": "2021-11-29T22:15:13.346436",
     "exception": false,
     "start_time": "2021-11-29T22:15:13.328432",
     "status": "completed"
    },
    "tags": []
   },
   "outputs": [
    {
     "name": "stdout",
     "output_type": "stream",
     "text": [
      "Proportion Treated:27%\n",
      "Average outcome under Control:-0.14±0.02\n",
      "Average outcome under Treatment:0.37±0.03\n",
      "Unadjusted treatment estimate 0.51\n"
     ]
    }
   ],
   "source": [
    "print_unconditional_effects(data, treatment, y0, y1)"
   ]
  },
  {
   "cell_type": "markdown",
   "id": "10",
   "metadata": {
    "papermill": {
     "duration": 0.012631,
     "end_time": "2021-11-29T22:15:13.371847",
     "exception": false,
     "start_time": "2021-11-29T22:15:13.359216",
     "status": "completed"
    },
    "tags": []
   },
   "source": [
    "## Statsmodels\n",
    "\n",
    "### OLS"
   ]
  },
  {
   "cell_type": "code",
   "execution_count": 7,
   "id": "11",
   "metadata": {
    "execution": {
     "iopub.execute_input": "2021-11-29T22:15:13.401173Z",
     "iopub.status.busy": "2021-11-29T22:15:13.400775Z",
     "iopub.status.idle": "2021-11-29T22:15:13.430642Z",
     "shell.execute_reply": "2021-11-29T22:15:13.430143Z"
    },
    "papermill": {
     "duration": 0.046261,
     "end_time": "2021-11-29T22:15:13.430766",
     "exception": false,
     "start_time": "2021-11-29T22:15:13.384505",
     "status": "completed"
    },
    "scrolled": false,
    "tags": []
   },
   "outputs": [
    {
     "name": "stdout",
     "output_type": "stream",
     "text": [
      "                            OLS Regression Results                            \n",
      "==============================================================================\n",
      "Dep. Variable:                      y   R-squared:                       0.330\n",
      "Model:                            OLS   Adj. R-squared:                  0.327\n",
      "Method:                 Least Squares   F-statistic:                     126.3\n",
      "Date:                Tue, 30 Nov 2021   Prob (F-statistic):               0.00\n",
      "Time:                        09:15:13   Log-Likelihood:                -6285.9\n",
      "No. Observations:                5157   AIC:                         1.261e+04\n",
      "Df Residuals:                    5136   BIC:                         1.275e+04\n",
      "Df Model:                          20                                         \n",
      "Covariance Type:            nonrobust                                         \n",
      "==============================================================================\n",
      "                 coef    std err          t      P>|t|      [0.025      0.975]\n",
      "------------------------------------------------------------------------------\n",
      "const         -0.0551      0.014     -4.073      0.000      -0.082      -0.029\n",
      "treatment      0.2078      0.027      7.597      0.000       0.154       0.261\n",
      "ahifapti      -0.0676      0.012     -5.443      0.000      -0.092      -0.043\n",
      "ahgsex        -0.0085      0.013     -0.678      0.498      -0.033       0.016\n",
      "ahgrf         -0.0107      0.020     -0.531      0.595      -0.050       0.029\n",
      "ahgscq        -0.0258      0.013     -2.004      0.045      -0.051      -0.001\n",
      "aoidvryf      -0.0368      0.014     -2.607      0.009      -0.065      -0.009\n",
      "awscef        -0.0078      0.018     -0.445      0.656      -0.042       0.027\n",
      "awscoef        0.0437      0.023      1.884      0.060      -0.002       0.089\n",
      "awsfef         0.0106      0.015      0.705      0.481      -0.019       0.040\n",
      "ajbmpgj        0.0583      0.012      5.029      0.000       0.036       0.081\n",
      "ajbmwpsz       0.0253      0.012      2.092      0.037       0.002       0.049\n",
      "awsfga        -0.0840      0.015     -5.555      0.000      -0.114      -0.054\n",
      "ancage2        0.0876      0.013      6.682      0.000       0.062       0.113\n",
      "aicprob        0.1088      0.012      9.343      0.000       0.086       0.132\n",
      "ajbmo6s       -0.0094      0.013     -0.750      0.454      -0.034       0.015\n",
      "ajbcasab       0.0325      0.012      2.665      0.008       0.009       0.056\n",
      "atcyng        -0.3743      0.016    -22.835      0.000      -0.406      -0.342\n",
      "atcnr         -0.1260      0.015     -8.332      0.000      -0.156      -0.096\n",
      "awscme         0.1767      0.016     10.857      0.000       0.145       0.209\n",
      "apawkmfh       0.0137      0.012      1.190      0.234      -0.009       0.036\n",
      "==============================================================================\n",
      "Omnibus:                      628.936   Durbin-Watson:                   1.889\n",
      "Prob(Omnibus):                  0.000   Jarque-Bera (JB):              171.991\n",
      "Skew:                          -0.093   Prob(JB):                     4.49e-38\n",
      "Kurtosis:                       2.125   Cond. No.                         4.83\n",
      "==============================================================================\n",
      "\n",
      "Notes:\n",
      "[1] Standard Errors assume that the covariance matrix of the errors is correctly specified.\n"
     ]
    }
   ],
   "source": [
    "Xt = np.hstack((t[:, np.newaxis], X))\n",
    "Xt = pd.DataFrame(data=Xt, columns=[\"treatment\"] + features)\n",
    "ols = sm.OLS(y, sm.add_constant(Xt))\n",
    "res = ols.fit()\n",
    "ate_ols = res.params.loc[\"treatment\"]\n",
    "ci_ols = res.conf_int().loc[\"treatment\"]\n",
    "print(res.summary())"
   ]
  },
  {
   "cell_type": "markdown",
   "id": "12",
   "metadata": {
    "papermill": {
     "duration": 0.023115,
     "end_time": "2021-11-29T22:15:13.476488",
     "exception": false,
     "start_time": "2021-11-29T22:15:13.453373",
     "status": "completed"
    },
    "tags": []
   },
   "source": [
    "## Scikit learn Bayesian Estimators\n",
    "\n",
    "### Bayesian Ridge\n",
    "\n",
    "Coefficient statistics"
   ]
  },
  {
   "cell_type": "code",
   "execution_count": 8,
   "id": "13",
   "metadata": {
    "execution": {
     "iopub.execute_input": "2021-11-29T22:15:13.532696Z",
     "iopub.status.busy": "2021-11-29T22:15:13.532020Z",
     "iopub.status.idle": "2021-11-29T22:15:13.581291Z",
     "shell.execute_reply": "2021-11-29T22:15:13.581948Z"
    },
    "papermill": {
     "duration": 0.081307,
     "end_time": "2021-11-29T22:15:13.582126",
     "exception": false,
     "start_time": "2021-11-29T22:15:13.500819",
     "status": "completed"
    },
    "tags": []
   },
   "outputs": [
    {
     "name": "stdout",
     "output_type": "stream",
     "text": [
      "Bayesian Ridge simple model - coefficient stats:\n",
      "  R-squared = 0.3297\n",
      "  ATE: 0.1990 (0.0266)\n",
      "  t: 7.4808\n",
      "  p-value: 0.0000\n",
      "  CI (0.025, 0.975): [0.1469, 0.2512]\n"
     ]
    }
   ],
   "source": [
    "blr = BayesianRidgeStat()\n",
    "blr.fit(Xt, y)\n",
    "\n",
    "score = blr.score(Xt, y)\n",
    "\n",
    "# Coefficient statistics\n",
    "stats = blr.model_statistics()\n",
    "ate_blr, se_blr = stats.beta[0], stats.std_err[0]\n",
    "ci_blr = norm.interval(loc=ate_blr, scale=se_blr, alpha=0.95)\n",
    "\n",
    "print(\"Bayesian Ridge simple model - coefficient stats:\")\n",
    "print(f\"  R-squared = {score:.4f}\")\n",
    "print(f\"  ATE: {ate_blr:.4f} ({se_blr:.4f})\")\n",
    "print(f\"  t: {stats.t_stat[0]:.4f}\")\n",
    "print(f\"  p-value: {stats.p_value[0]:.4f}\")\n",
    "print(f\"  CI (0.025, 0.975): [{ci_blr[0]:.4f}, {ci_blr[1]:.4f}]\")"
   ]
  },
  {
   "cell_type": "markdown",
   "id": "14",
   "metadata": {
    "papermill": {
     "duration": 0.028716,
     "end_time": "2021-11-29T22:15:13.639128",
     "exception": false,
     "start_time": "2021-11-29T22:15:13.610412",
     "status": "completed"
    },
    "tags": []
   },
   "source": [
    "ATE sampling with counterfactual models"
   ]
  },
  {
   "cell_type": "code",
   "execution_count": 9,
   "id": "15",
   "metadata": {
    "execution": {
     "iopub.execute_input": "2021-11-29T22:15:13.701369Z",
     "iopub.status.busy": "2021-11-29T22:15:13.700452Z",
     "iopub.status.idle": "2021-11-29T22:15:13.719798Z",
     "shell.execute_reply": "2021-11-29T22:15:13.720552Z"
    },
    "papermill": {
     "duration": 0.052145,
     "end_time": "2021-11-29T22:15:13.720749",
     "exception": false,
     "start_time": "2021-11-29T22:15:13.668604",
     "status": "completed"
    },
    "tags": []
   },
   "outputs": [
    {
     "name": "stdout",
     "output_type": "stream",
     "text": [
      "Bayesian Ridge simple model - counterfactual sampling:\n",
      "  R-squared = 0.3297\n",
      "  ATE: 0.1975 (0.0254)\n",
      "  CI (0.025, 0.975): [0.1477, 0.2474]\n"
     ]
    }
   ],
   "source": [
    "# ATE sampling\n",
    "samples = 100\n",
    "w_samples = np.random.multivariate_normal(mean=blr.coef_, cov=blr.sigma_, size=samples).T\n",
    "\n",
    "n = len(X)\n",
    "Xt0 = pd.DataFrame(data=np.hstack((np.zeros((n, 1)), X)), columns=[\"treatment\"] + features)\n",
    "Xt1 = pd.DataFrame(data=np.hstack((np.ones((n, 1)), X)), columns=[\"treatment\"] + features)\n",
    "\n",
    "ate_blr_samples = np.mean(Xt1 @ w_samples, axis=0) - np.mean(Xt0 @ w_samples, axis=0)\n",
    "ate_blr = ate_blr_samples.mean()\n",
    "se_blr = np.std(ate_blr_samples, ddof=1)\n",
    "ci_blr = norm.interval(loc=ate_blr, scale=se_blr, alpha=0.95)\n",
    "\n",
    "print(\"Bayesian Ridge simple model - counterfactual sampling:\")\n",
    "print(f\"  R-squared = {score:.4f}\")\n",
    "print(f\"  ATE: {ate_blr:.4f} ({se_blr:.4f})\")\n",
    "print(f\"  CI (0.025, 0.975): [{ci_blr[0]:.4f}, {ci_blr[1]:.4f}]\")"
   ]
  },
  {
   "cell_type": "markdown",
   "id": "16",
   "metadata": {
    "papermill": {
     "duration": 0.031074,
     "end_time": "2021-11-29T22:15:13.783633",
     "exception": false,
     "start_time": "2021-11-29T22:15:13.752559",
     "status": "completed"
    },
    "tags": []
   },
   "source": [
    "### Gaussian Process"
   ]
  },
  {
   "cell_type": "code",
   "execution_count": 10,
   "id": "17",
   "metadata": {
    "execution": {
     "iopub.execute_input": "2021-11-29T22:15:13.853480Z",
     "iopub.status.busy": "2021-11-29T22:15:13.852891Z",
     "iopub.status.idle": "2021-11-29T22:16:42.847887Z",
     "shell.execute_reply": "2021-11-29T22:16:42.846864Z"
    },
    "papermill": {
     "duration": 89.032808,
     "end_time": "2021-11-29T22:16:42.848102",
     "exception": false,
     "start_time": "2021-11-29T22:15:13.815294",
     "status": "completed"
    },
    "tags": []
   },
   "outputs": [],
   "source": [
    "kernel = WhiteKernel() + Matern(nu=1.5)\n",
    "gpr = GaussianProcessRegressor(kernel=kernel)\n",
    "\n",
    "# This takes a while for 5000 samples... (5 mins or so)\n",
    "gpr.fit(Xt, y)\n",
    "score = gpr.score(Xt, y)"
   ]
  },
  {
   "cell_type": "code",
   "execution_count": 11,
   "id": "18",
   "metadata": {
    "execution": {
     "iopub.execute_input": "2021-11-29T22:16:42.906802Z",
     "iopub.status.busy": "2021-11-29T22:16:42.906150Z",
     "iopub.status.idle": "2021-11-29T22:19:45.129857Z",
     "shell.execute_reply": "2021-11-29T22:19:45.130535Z"
    },
    "papermill": {
     "duration": 182.256414,
     "end_time": "2021-11-29T22:19:45.130743",
     "exception": false,
     "start_time": "2021-11-29T22:16:42.874329",
     "status": "completed"
    },
    "tags": []
   },
   "outputs": [
    {
     "name": "stdout",
     "output_type": "stream",
     "text": [
      "Gaussian Process WhiteKernel(noise_level=0.591) + Matern(length_scale=9.05, nu=1.5):\n",
      "  R-squared = 0.4445\n",
      "  ATE: 0.1740 (0.0301)\n",
      "  CI (0.025, 0.975): [0.1151, 0.2329]\n"
     ]
    }
   ],
   "source": [
    "# ATE sampling   \n",
    "f0, K0 = gpr.predict(Xt0, return_cov=True)\n",
    "f1, K1 = gpr.predict(Xt1, return_cov=True)\n",
    "\n",
    "y_0_samples = np.random.multivariate_normal(mean=f0, cov=K0, size=samples)\n",
    "y_1_samples = np.random.multivariate_normal(mean=f1, cov=K1, size=samples)\n",
    "ate_gp_samples = (y_1_samples - y_0_samples).mean(axis=1)\n",
    "\n",
    "ate_gp = ate_gp_samples.mean()\n",
    "se_gp = np.std(ate_gp_samples, ddof=1)\n",
    "ci_gp = norm.interval(loc=ate_gp, scale=se_gp, alpha=0.95)\n",
    "\n",
    "print(f\"Gaussian Process {gpr.kernel_}:\")\n",
    "print(f\"  R-squared = {score:.4f}\")\n",
    "print(f\"  ATE: {ate_gp:.4f} ({se_gp:.4f})\")\n",
    "print(f\"  CI (0.025, 0.975): [{ci_gp[0]:.4f}, {ci_gp[1]:.4f}]\")"
   ]
  },
  {
   "cell_type": "markdown",
   "id": "19",
   "metadata": {
    "papermill": {
     "duration": 0.034783,
     "end_time": "2021-11-29T22:19:45.201523",
     "exception": false,
     "start_time": "2021-11-29T22:19:45.166740",
     "status": "completed"
    },
    "tags": []
   },
   "source": [
    "Check if GP is overfitting"
   ]
  },
  {
   "cell_type": "code",
   "execution_count": 12,
   "id": "20",
   "metadata": {
    "execution": {
     "iopub.execute_input": "2021-11-29T22:19:45.257562Z",
     "iopub.status.busy": "2021-11-29T22:19:45.256956Z",
     "iopub.status.idle": "2021-11-29T22:24:24.456416Z",
     "shell.execute_reply": "2021-11-29T22:24:24.455817Z"
    },
    "papermill": {
     "duration": 279.226827,
     "end_time": "2021-11-29T22:24:24.456558",
     "exception": false,
     "start_time": "2021-11-29T22:19:45.229731",
     "status": "completed"
    },
    "scrolled": true,
    "tags": []
   },
   "outputs": [],
   "source": [
    "if xval_gp:\n",
    "    cv_scores = cross_validate(gpr, Xt, y,\n",
    "                               cv=KFold(n_splits=5, shuffle=True),\n",
    "                               return_train_score=True)\n",
    "    pd.DataFrame(cv_scores).describe()"
   ]
  },
  {
   "cell_type": "markdown",
   "id": "21",
   "metadata": {
    "papermill": {
     "duration": 0.023731,
     "end_time": "2021-11-29T22:24:24.504116",
     "exception": false,
     "start_time": "2021-11-29T22:24:24.480385",
     "status": "completed"
    },
    "tags": []
   },
   "source": [
    "## Hierarchical Bayesian Linear Model\n",
    "\n",
    "This model takes the following form and prior settings,\n",
    "\n",
    "$$\n",
    "\\begin{align}\n",
    "    \\{\\lambda_0, \\lambda_t, \\lambda_x, \\lambda_{tx}\\} &\\sim \\textrm{Gamma}(1, 1) \\\\\n",
    "    \\sigma^2 &\\sim \\textrm{Gamma}(1, 1) \\\\\n",
    "    w_0 &\\sim \\mathcal{N}(0, \\lambda_0) \\\\\n",
    "    w_t &\\sim \\mathcal{N}(0, \\lambda_t) \\\\\n",
    "    \\mathbf{w}_x &\\sim \\mathcal{N}(0, \\lambda_x \\mathbf{I}_d) \\\\\n",
    "    \\mathbf{w}_{tx} &\\sim \\mathcal{N}(0, \\lambda_{tx} \\mathbf{I}_d) \\\\\n",
    "    y_i &\\sim \\mathcal{N}(\\mu(\\mathbf{x}_i, t_i), \\sigma^2) \\\\\n",
    "    \\mu(\\mathbf{x}_i, t_i) &= w_0 + w_t t_i + \\mathbf{w}_x^\\top\\mathbf{x}_i + t_i\\mathbf{w}_{tx}^\\top\\mathbf{x}_i\n",
    "\\end{align}\n",
    "$$"
   ]
  },
  {
   "cell_type": "markdown",
   "id": "22",
   "metadata": {
    "papermill": {
     "duration": 0.022309,
     "end_time": "2021-11-29T22:24:24.549747",
     "exception": false,
     "start_time": "2021-11-29T22:24:24.527438",
     "status": "completed"
    },
    "tags": []
   },
   "source": [
    "### Set up the model"
   ]
  },
  {
   "cell_type": "code",
   "execution_count": 13,
   "id": "23",
   "metadata": {
    "execution": {
     "iopub.execute_input": "2021-11-29T22:24:24.604030Z",
     "iopub.status.busy": "2021-11-29T22:24:24.603388Z",
     "iopub.status.idle": "2021-11-29T22:24:24.605261Z",
     "shell.execute_reply": "2021-11-29T22:24:24.605976Z"
    },
    "papermill": {
     "duration": 0.033624,
     "end_time": "2021-11-29T22:24:24.606155",
     "exception": false,
     "start_time": "2021-11-29T22:24:24.572531",
     "status": "completed"
    },
    "tags": []
   },
   "outputs": [],
   "source": [
    "def predict(w_0, w_t, w_x, w_tx, x, t):\n",
    "    f = w_0 + w_t * t + x.matmul(w_x.T) + t * x.matmul(w_tx.T)\n",
    "    return f\n",
    "\n",
    "\n",
    "def model_treatment_intersection(x, t, y):\n",
    "    # Hyper-Priors\n",
    "    lambda_prior = dist.Gamma(1., 1.)\n",
    "    sigma_prior = dist.Gamma(1., 1.)\n",
    "    \n",
    "    # Priors\n",
    "    n, d = x.shape\n",
    "    weight_prior = dist.Laplace if laplace_prior else dist.Normal\n",
    "    p_w0 = weight_prior(0, pyro.sample(\"l_0\", lambda_prior))\n",
    "    p_wt = weight_prior(0, pyro.sample(\"l_t\", lambda_prior))\n",
    "    p_wx = weight_prior(torch.zeros(d), pyro.sample(\"l_x\", lambda_prior) * torch.ones(d))\n",
    "    p_twx = weight_prior(torch.zeros(d), pyro.sample(\"l_tx\", lambda_prior) * torch.ones(d))\n",
    "    \n",
    "    # Model weights\n",
    "    w_0 = pyro.sample(\"intercept\", p_w0)\n",
    "    w_t = pyro.sample(\"treatment\", p_wt)\n",
    "    w_x = pyro.sample(\"confounders\", p_wx)\n",
    "    w_tx = pyro.sample(\"intersection\", p_twx)\n",
    "    \n",
    "    # Likelihood\n",
    "    f = predict(w_0, w_t, w_x, w_tx, x, t)\n",
    "    sigma = pyro.sample(\"variance\", sigma_prior)\n",
    "    \n",
    "    with pyro.plate(\"data\", n):\n",
    "        likelihood = dist.Normal(f, sigma)\n",
    "        y = pyro.sample(\"likelihood\", likelihood, obs=y)"
   ]
  },
  {
   "cell_type": "markdown",
   "id": "24",
   "metadata": {
    "papermill": {
     "duration": 0.020223,
     "end_time": "2021-11-29T22:24:24.647842",
     "exception": false,
     "start_time": "2021-11-29T22:24:24.627619",
     "status": "completed"
    },
    "tags": []
   },
   "source": [
    "### Run MCMC inference to compute the posteriors"
   ]
  },
  {
   "cell_type": "code",
   "execution_count": 14,
   "id": "25",
   "metadata": {
    "execution": {
     "iopub.execute_input": "2021-11-29T22:24:24.693857Z",
     "iopub.status.busy": "2021-11-29T22:24:24.693308Z",
     "iopub.status.idle": "2021-11-29T22:25:33.338551Z",
     "shell.execute_reply": "2021-11-29T22:25:33.338967Z"
    },
    "papermill": {
     "duration": 68.670198,
     "end_time": "2021-11-29T22:25:33.339110",
     "exception": false,
     "start_time": "2021-11-29T22:24:24.668912",
     "status": "completed"
    },
    "tags": []
   },
   "outputs": [
    {
     "name": "stderr",
     "output_type": "stream",
     "text": [
      "\r",
      "Warmup:   0%|                                                                     | 0/700 [00:00, ?it/s]"
     ]
    },
    {
     "name": "stderr",
     "output_type": "stream",
     "text": [
      "\r",
      "Warmup:   0%|                            | 1/700 [00:00,  7.80it/s, step size=2.81e-02, acc. prob=1.000]"
     ]
    },
    {
     "name": "stderr",
     "output_type": "stream",
     "text": [
      "\r",
      "Warmup:   1%|▎                           | 8/700 [00:00, 39.30it/s, step size=1.95e-03, acc. prob=0.708]"
     ]
    },
    {
     "name": "stderr",
     "output_type": "stream",
     "text": [
      "\r",
      "Warmup:   2%|▌                          | 13/700 [00:00, 24.93it/s, step size=5.73e-03, acc. prob=0.770]"
     ]
    },
    {
     "name": "stderr",
     "output_type": "stream",
     "text": [
      "\r",
      "Warmup:   2%|▋                          | 17/700 [00:00, 27.45it/s, step size=1.30e-02, acc. prob=0.792]"
     ]
    },
    {
     "name": "stderr",
     "output_type": "stream",
     "text": [
      "\r",
      "Warmup:   3%|▊                          | 21/700 [00:00, 20.09it/s, step size=2.70e-03, acc. prob=0.768]"
     ]
    },
    {
     "name": "stderr",
     "output_type": "stream",
     "text": [
      "\r",
      "Warmup:   3%|▉                          | 24/700 [00:01, 11.09it/s, step size=5.82e-03, acc. prob=0.782]"
     ]
    },
    {
     "name": "stderr",
     "output_type": "stream",
     "text": [
      "\r",
      "Warmup:   4%|█                          | 26/700 [00:02,  7.47it/s, step size=5.31e-03, acc. prob=0.782]"
     ]
    },
    {
     "name": "stderr",
     "output_type": "stream",
     "text": [
      "\r",
      "Warmup:   4%|█                          | 28/700 [00:02,  8.00it/s, step size=6.66e-03, acc. prob=0.786]"
     ]
    },
    {
     "name": "stderr",
     "output_type": "stream",
     "text": [
      "\r",
      "Warmup:   4%|█▏                         | 30/700 [00:03,  4.42it/s, step size=5.63e-03, acc. prob=0.785]"
     ]
    },
    {
     "name": "stderr",
     "output_type": "stream",
     "text": [
      "\r",
      "Warmup:   4%|█▏                         | 31/700 [00:03,  4.70it/s, step size=4.74e-03, acc. prob=0.783]"
     ]
    },
    {
     "name": "stderr",
     "output_type": "stream",
     "text": [
      "\r",
      "Warmup:   5%|█▏                         | 32/700 [00:04,  3.78it/s, step size=6.98e-03, acc. prob=0.788]"
     ]
    },
    {
     "name": "stderr",
     "output_type": "stream",
     "text": [
      "\r",
      "Warmup:   5%|█▎                         | 34/700 [00:04,  4.74it/s, step size=7.78e-03, acc. prob=0.790]"
     ]
    },
    {
     "name": "stderr",
     "output_type": "stream",
     "text": [
      "\r",
      "Warmup:   5%|█▍                         | 36/700 [00:04,  4.32it/s, step size=2.77e-03, acc. prob=0.779]"
     ]
    },
    {
     "name": "stderr",
     "output_type": "stream",
     "text": [
      "\r",
      "Warmup:   5%|█▍                         | 37/700 [00:04,  4.74it/s, step size=4.57e-03, acc. prob=0.785]"
     ]
    },
    {
     "name": "stderr",
     "output_type": "stream",
     "text": [
      "\r",
      "Warmup:   5%|█▍                         | 38/700 [00:05,  4.82it/s, step size=6.61e-03, acc. prob=0.789]"
     ]
    },
    {
     "name": "stderr",
     "output_type": "stream",
     "text": [
      "\r",
      "Warmup:   6%|█▌                         | 40/700 [00:05,  6.57it/s, step size=2.24e-03, acc. prob=0.779]"
     ]
    },
    {
     "name": "stderr",
     "output_type": "stream",
     "text": [
      "\r",
      "Warmup:   6%|█▌                         | 41/700 [00:05,  4.47it/s, step size=3.53e-03, acc. prob=0.783]"
     ]
    },
    {
     "name": "stderr",
     "output_type": "stream",
     "text": [
      "\r",
      "Warmup:   6%|█▌                         | 42/700 [00:05,  4.93it/s, step size=5.07e-03, acc. prob=0.787]"
     ]
    },
    {
     "name": "stderr",
     "output_type": "stream",
     "text": [
      "\r",
      "Warmup:   6%|█▋                         | 43/700 [00:06,  4.23it/s, step size=7.66e-03, acc. prob=0.791]"
     ]
    },
    {
     "name": "stderr",
     "output_type": "stream",
     "text": [
      "\r",
      "Warmup:   6%|█▋                         | 44/700 [00:06,  4.76it/s, step size=6.23e-03, acc. prob=0.789]"
     ]
    },
    {
     "name": "stderr",
     "output_type": "stream",
     "text": [
      "\r",
      "Warmup:   7%|█▊                         | 46/700 [00:06,  4.38it/s, step size=6.13e-03, acc. prob=0.790]"
     ]
    },
    {
     "name": "stderr",
     "output_type": "stream",
     "text": [
      "\r",
      "Warmup:   7%|█▊                         | 47/700 [00:07,  3.38it/s, step size=4.26e-03, acc. prob=0.787]"
     ]
    },
    {
     "name": "stderr",
     "output_type": "stream",
     "text": [
      "\r",
      "Warmup:   7%|█▊                         | 48/700 [00:07,  2.89it/s, step size=6.55e-03, acc. prob=0.790]"
     ]
    },
    {
     "name": "stderr",
     "output_type": "stream",
     "text": [
      "\r",
      "Warmup:   7%|█▉                         | 49/700 [00:08,  3.09it/s, step size=9.40e-03, acc. prob=0.794]"
     ]
    },
    {
     "name": "stderr",
     "output_type": "stream",
     "text": [
      "\r",
      "Warmup:   7%|█▉                         | 51/700 [00:08,  4.71it/s, step size=7.64e-03, acc. prob=0.792]"
     ]
    },
    {
     "name": "stderr",
     "output_type": "stream",
     "text": [
      "\r",
      "Warmup:   7%|██                         | 52/700 [00:08,  5.18it/s, step size=3.51e-03, acc. prob=0.786]"
     ]
    },
    {
     "name": "stderr",
     "output_type": "stream",
     "text": [
      "\r",
      "Warmup:   8%|██                         | 53/700 [00:08,  4.07it/s, step size=4.31e-03, acc. prob=0.788]"
     ]
    },
    {
     "name": "stderr",
     "output_type": "stream",
     "text": [
      "\r",
      "Warmup:   8%|██                         | 54/700 [00:08,  4.62it/s, step size=6.52e-03, acc. prob=0.791]"
     ]
    },
    {
     "name": "stderr",
     "output_type": "stream",
     "text": [
      "\r",
      "Warmup:   8%|██▏                        | 56/700 [00:09,  6.07it/s, step size=9.34e-03, acc. prob=0.794]"
     ]
    },
    {
     "name": "stderr",
     "output_type": "stream",
     "text": [
      "\r",
      "Warmup:   8%|██▏                        | 57/700 [00:09,  6.31it/s, step size=1.09e-02, acc. prob=0.795]"
     ]
    },
    {
     "name": "stderr",
     "output_type": "stream",
     "text": [
      "\r",
      "Warmup:   8%|██▎                        | 59/700 [00:09,  4.82it/s, step size=4.64e-03, acc. prob=0.789]"
     ]
    },
    {
     "name": "stderr",
     "output_type": "stream",
     "text": [
      "\r",
      "Warmup:   9%|██▎                        | 61/700 [00:10,  4.89it/s, step size=2.71e-03, acc. prob=0.785]"
     ]
    },
    {
     "name": "stderr",
     "output_type": "stream",
     "text": [
      "\r",
      "Warmup:   9%|██▍                        | 62/700 [00:10,  3.74it/s, step size=3.84e-03, acc. prob=0.788]"
     ]
    },
    {
     "name": "stderr",
     "output_type": "stream",
     "text": [
      "\r",
      "Warmup:   9%|██▍                        | 63/700 [00:10,  4.20it/s, step size=5.48e-03, acc. prob=0.791]"
     ]
    },
    {
     "name": "stderr",
     "output_type": "stream",
     "text": [
      "\r",
      "Warmup:   9%|██▍                        | 64/700 [00:11,  4.40it/s, step size=5.35e-03, acc. prob=0.791]"
     ]
    },
    {
     "name": "stderr",
     "output_type": "stream",
     "text": [
      "\r",
      "Warmup:   9%|██▌                        | 65/700 [00:11,  3.24it/s, step size=4.51e-03, acc. prob=0.790]"
     ]
    },
    {
     "name": "stderr",
     "output_type": "stream",
     "text": [
      "\r",
      "Warmup:   9%|██▌                        | 66/700 [00:12,  2.87it/s, step size=6.97e-03, acc. prob=0.793]"
     ]
    },
    {
     "name": "stderr",
     "output_type": "stream",
     "text": [
      "\r",
      "Warmup:  10%|██▌                        | 67/700 [00:12,  2.99it/s, step size=8.47e-03, acc. prob=0.794]"
     ]
    },
    {
     "name": "stderr",
     "output_type": "stream",
     "text": [
      "\r",
      "Warmup:  10%|██▋                        | 70/700 [00:12,  5.78it/s, step size=5.49e-03, acc. prob=0.791]"
     ]
    },
    {
     "name": "stderr",
     "output_type": "stream",
     "text": [
      "\r",
      "Warmup:  10%|██▊                        | 72/700 [00:12,  5.07it/s, step size=8.89e-03, acc. prob=0.795]"
     ]
    },
    {
     "name": "stderr",
     "output_type": "stream",
     "text": [
      "\r",
      "Warmup:  11%|██▊                        | 74/700 [00:13,  6.37it/s, step size=4.42e-03, acc. prob=0.790]"
     ]
    },
    {
     "name": "stderr",
     "output_type": "stream",
     "text": [
      "\r",
      "Warmup:  11%|██▉                        | 76/700 [00:13,  5.15it/s, step size=4.11e-03, acc. prob=0.790]"
     ]
    },
    {
     "name": "stderr",
     "output_type": "stream",
     "text": [
      "\r",
      "Warmup:  11%|██▉                        | 77/700 [00:14,  4.20it/s, step size=5.45e-03, acc. prob=0.792]"
     ]
    },
    {
     "name": "stderr",
     "output_type": "stream",
     "text": [
      "\r",
      "Warmup:  11%|███                        | 79/700 [00:14,  5.06it/s, step size=2.95e-03, acc. prob=0.788]"
     ]
    },
    {
     "name": "stderr",
     "output_type": "stream",
     "text": [
      "\r",
      "Warmup:  11%|███                        | 80/700 [00:14,  5.40it/s, step size=4.07e-03, acc. prob=0.790]"
     ]
    },
    {
     "name": "stderr",
     "output_type": "stream",
     "text": [
      "\r",
      "Warmup:  12%|███                        | 81/700 [00:14,  5.80it/s, step size=3.92e-03, acc. prob=0.790]"
     ]
    },
    {
     "name": "stderr",
     "output_type": "stream",
     "text": [
      "\r",
      "Warmup:  12%|███▏                       | 82/700 [00:14,  6.26it/s, step size=4.18e-03, acc. prob=0.790]"
     ]
    },
    {
     "name": "stderr",
     "output_type": "stream",
     "text": [
      "\r",
      "Warmup:  12%|███▏                       | 83/700 [00:14,  6.71it/s, step size=5.98e-03, acc. prob=0.793]"
     ]
    },
    {
     "name": "stderr",
     "output_type": "stream",
     "text": [
      "\r",
      "Warmup:  12%|███▎                       | 85/700 [00:14,  9.01it/s, step size=3.16e-03, acc. prob=0.789]"
     ]
    },
    {
     "name": "stderr",
     "output_type": "stream",
     "text": [
      "\r",
      "Warmup:  12%|███▎                       | 87/700 [00:15,  4.81it/s, step size=4.47e-03, acc. prob=0.791]"
     ]
    },
    {
     "name": "stderr",
     "output_type": "stream",
     "text": [
      "\r",
      "Warmup:  13%|███▍                       | 88/700 [00:16,  4.13it/s, step size=5.87e-03, acc. prob=0.793]"
     ]
    },
    {
     "name": "stderr",
     "output_type": "stream",
     "text": [
      "\r",
      "Warmup:  13%|███▍                       | 90/700 [00:16,  5.80it/s, step size=8.84e-03, acc. prob=0.795]"
     ]
    },
    {
     "name": "stderr",
     "output_type": "stream",
     "text": [
      "\r",
      "Warmup:  13%|███▌                       | 91/700 [00:16,  5.31it/s, step size=3.32e-03, acc. prob=0.790]"
     ]
    },
    {
     "name": "stderr",
     "output_type": "stream",
     "text": [
      "\r",
      "Warmup:  13%|███▌                       | 92/700 [00:16,  5.81it/s, step size=4.20e-03, acc. prob=0.791]"
     ]
    },
    {
     "name": "stderr",
     "output_type": "stream",
     "text": [
      "\r",
      "Warmup:  13%|███▋                       | 94/700 [00:16,  6.59it/s, step size=5.26e-03, acc. prob=0.793]"
     ]
    },
    {
     "name": "stderr",
     "output_type": "stream",
     "text": [
      "\r",
      "Warmup:  14%|███▋                       | 96/700 [00:16,  8.50it/s, step size=4.13e-03, acc. prob=0.791]"
     ]
    },
    {
     "name": "stderr",
     "output_type": "stream",
     "text": [
      "\r",
      "Warmup:  14%|███▊                       | 98/700 [00:17,  4.06it/s, step size=5.04e-03, acc. prob=0.792]"
     ]
    },
    {
     "name": "stderr",
     "output_type": "stream",
     "text": [
      "\r",
      "Warmup:  14%|███▊                       | 99/700 [00:18,  3.28it/s, step size=3.42e-01, acc. prob=0.793]"
     ]
    },
    {
     "name": "stderr",
     "output_type": "stream",
     "text": [
      "\r",
      "Warmup:  14%|███▋                      | 100/700 [00:18,  3.79it/s, step size=2.87e+00, acc. prob=0.792]"
     ]
    },
    {
     "name": "stderr",
     "output_type": "stream",
     "text": [
      "\r",
      "Warmup:  15%|███▊                      | 103/700 [00:19,  4.44it/s, step size=1.10e-01, acc. prob=0.781]"
     ]
    },
    {
     "name": "stderr",
     "output_type": "stream",
     "text": [
      "\r",
      "Warmup:  15%|███▊                      | 104/700 [00:19,  4.34it/s, step size=1.63e-01, acc. prob=0.783]"
     ]
    },
    {
     "name": "stderr",
     "output_type": "stream",
     "text": [
      "\r",
      "Warmup:  15%|███▉                      | 105/700 [00:19,  4.82it/s, step size=2.46e-01, acc. prob=0.785]"
     ]
    },
    {
     "name": "stderr",
     "output_type": "stream",
     "text": [
      "\r",
      "Warmup:  15%|███▉                      | 106/700 [00:19,  4.63it/s, step size=2.53e-01, acc. prob=0.785]"
     ]
    },
    {
     "name": "stderr",
     "output_type": "stream",
     "text": [
      "\r",
      "Warmup:  15%|████                      | 108/700 [00:19,  6.54it/s, step size=4.95e-01, acc. prob=0.788]"
     ]
    },
    {
     "name": "stderr",
     "output_type": "stream",
     "text": [
      "\r",
      "Warmup:  16%|████                      | 110/700 [00:20,  5.17it/s, step size=2.08e-01, acc. prob=0.785]"
     ]
    },
    {
     "name": "stderr",
     "output_type": "stream",
     "text": [
      "\r",
      "Warmup:  16%|████▏                     | 112/700 [00:20,  6.80it/s, step size=4.90e-01, acc. prob=0.788]"
     ]
    },
    {
     "name": "stderr",
     "output_type": "stream",
     "text": [
      "\r",
      "Warmup:  16%|████▏                     | 114/700 [00:21,  5.26it/s, step size=8.06e-02, acc. prob=0.783]"
     ]
    },
    {
     "name": "stderr",
     "output_type": "stream",
     "text": [
      "\r",
      "Warmup:  16%|████▎                     | 115/700 [00:21,  5.64it/s, step size=1.47e-01, acc. prob=0.785]"
     ]
    },
    {
     "name": "stderr",
     "output_type": "stream",
     "text": [
      "\r",
      "Warmup:  17%|████▎                     | 116/700 [00:21,  4.06it/s, step size=2.35e-01, acc. prob=0.786]"
     ]
    },
    {
     "name": "stderr",
     "output_type": "stream",
     "text": [
      "\r",
      "Warmup:  17%|████▍                     | 118/700 [00:21,  5.69it/s, step size=4.09e-01, acc. prob=0.788]"
     ]
    },
    {
     "name": "stderr",
     "output_type": "stream",
     "text": [
      "\r",
      "Warmup:  17%|████▍                     | 119/700 [00:21,  5.88it/s, step size=1.24e-01, acc. prob=0.785]"
     ]
    },
    {
     "name": "stderr",
     "output_type": "stream",
     "text": [
      "\r",
      "Warmup:  17%|████▍                     | 120/700 [00:22,  6.27it/s, step size=2.30e-01, acc. prob=0.786]"
     ]
    },
    {
     "name": "stderr",
     "output_type": "stream",
     "text": [
      "\r",
      "Warmup:  17%|████▌                     | 122/700 [00:22,  8.33it/s, step size=1.28e-01, acc. prob=0.785]"
     ]
    },
    {
     "name": "stderr",
     "output_type": "stream",
     "text": [
      "\r",
      "Warmup:  18%|████▌                     | 124/700 [00:22,  9.20it/s, step size=4.06e-01, acc. prob=0.788]"
     ]
    },
    {
     "name": "stderr",
     "output_type": "stream",
     "text": [
      "\r",
      "Warmup:  18%|████▋                     | 126/700 [00:22, 11.14it/s, step size=7.49e-02, acc. prob=0.784]"
     ]
    },
    {
     "name": "stderr",
     "output_type": "stream",
     "text": [
      "\r",
      "Warmup:  18%|████▊                     | 128/700 [00:22,  8.23it/s, step size=2.23e-01, acc. prob=0.787]"
     ]
    },
    {
     "name": "stderr",
     "output_type": "stream",
     "text": [
      "\r",
      "Warmup:  19%|████▊                     | 130/700 [00:23,  8.96it/s, step size=4.12e-01, acc. prob=0.789]"
     ]
    },
    {
     "name": "stderr",
     "output_type": "stream",
     "text": [
      "\r",
      "Warmup:  19%|████▉                     | 132/700 [00:23, 10.47it/s, step size=3.33e-01, acc. prob=0.788]"
     ]
    },
    {
     "name": "stderr",
     "output_type": "stream",
     "text": [
      "\r",
      "Warmup:  19%|████▉                     | 134/700 [00:23, 11.89it/s, step size=5.27e-01, acc. prob=0.789]"
     ]
    },
    {
     "name": "stderr",
     "output_type": "stream",
     "text": [
      "\r",
      "Warmup:  19%|█████                     | 136/700 [00:23,  9.96it/s, step size=1.35e-01, acc. prob=0.786]"
     ]
    },
    {
     "name": "stderr",
     "output_type": "stream",
     "text": [
      "\r",
      "Warmup:  20%|█████▏                    | 138/700 [00:23, 11.40it/s, step size=2.43e-01, acc. prob=0.787]"
     ]
    },
    {
     "name": "stderr",
     "output_type": "stream",
     "text": [
      "\r",
      "Warmup:  20%|█████▏                    | 140/700 [00:23, 11.83it/s, step size=5.13e-01, acc. prob=0.790]"
     ]
    },
    {
     "name": "stderr",
     "output_type": "stream",
     "text": [
      "\r",
      "Warmup:  20%|█████▎                    | 142/700 [00:23, 11.88it/s, step size=2.01e-01, acc. prob=0.787]"
     ]
    },
    {
     "name": "stderr",
     "output_type": "stream",
     "text": [
      "\r",
      "Warmup:  21%|█████▎                    | 144/700 [00:24, 10.40it/s, step size=3.00e-01, acc. prob=0.788]"
     ]
    },
    {
     "name": "stderr",
     "output_type": "stream",
     "text": [
      "\r",
      "Warmup:  21%|█████▍                    | 146/700 [00:24, 11.74it/s, step size=3.06e-01, acc. prob=0.788]"
     ]
    },
    {
     "name": "stderr",
     "output_type": "stream",
     "text": [
      "\r",
      "Warmup:  21%|█████▍                    | 148/700 [00:24,  9.90it/s, step size=1.48e-01, acc. prob=0.786]"
     ]
    },
    {
     "name": "stderr",
     "output_type": "stream",
     "text": [
      "\r",
      "Warmup:  21%|█████▌                    | 150/700 [00:25,  6.57it/s, step size=1.79e+00, acc. prob=0.784]"
     ]
    },
    {
     "name": "stderr",
     "output_type": "stream",
     "text": [
      "\r",
      "Warmup:  22%|█████▋                    | 152/700 [00:25,  7.96it/s, step size=2.25e-01, acc. prob=0.780]"
     ]
    },
    {
     "name": "stderr",
     "output_type": "stream",
     "text": [
      "\r",
      "Warmup:  22%|█████▋                    | 154/700 [00:25,  9.43it/s, step size=3.13e-01, acc. prob=0.782]"
     ]
    },
    {
     "name": "stderr",
     "output_type": "stream",
     "text": [
      "\r",
      "Warmup:  22%|█████▊                    | 156/700 [00:25,  9.75it/s, step size=1.56e-01, acc. prob=0.781]"
     ]
    },
    {
     "name": "stderr",
     "output_type": "stream",
     "text": [
      "\r",
      "Warmup:  23%|█████▊                    | 158/700 [00:25, 10.17it/s, step size=4.73e-01, acc. prob=0.784]"
     ]
    },
    {
     "name": "stderr",
     "output_type": "stream",
     "text": [
      "\r",
      "Warmup:  23%|█████▉                    | 160/700 [00:26,  9.12it/s, step size=9.56e-02, acc. prob=0.781]"
     ]
    },
    {
     "name": "stderr",
     "output_type": "stream",
     "text": [
      "\r",
      "Warmup:  23%|██████                    | 162/700 [00:26,  9.70it/s, step size=3.18e-01, acc. prob=0.783]"
     ]
    },
    {
     "name": "stderr",
     "output_type": "stream",
     "text": [
      "\r",
      "Warmup:  23%|██████                    | 164/700 [00:26, 10.03it/s, step size=2.80e-01, acc. prob=0.783]"
     ]
    },
    {
     "name": "stderr",
     "output_type": "stream",
     "text": [
      "\r",
      "Warmup:  24%|██████▏                   | 167/700 [00:26,  9.72it/s, step size=7.95e-02, acc. prob=0.781]"
     ]
    },
    {
     "name": "stderr",
     "output_type": "stream",
     "text": [
      "\r",
      "Warmup:  24%|██████▎                   | 169/700 [00:27,  8.09it/s, step size=2.45e-01, acc. prob=0.783]"
     ]
    },
    {
     "name": "stderr",
     "output_type": "stream",
     "text": [
      "\r",
      "Warmup:  25%|██████▍                   | 172/700 [00:27,  8.47it/s, step size=1.45e-01, acc. prob=0.782]"
     ]
    },
    {
     "name": "stderr",
     "output_type": "stream",
     "text": [
      "\r",
      "Warmup:  25%|██████▍                   | 173/700 [00:27,  8.38it/s, step size=2.54e-01, acc. prob=0.783]"
     ]
    },
    {
     "name": "stderr",
     "output_type": "stream",
     "text": [
      "\r",
      "Warmup:  25%|██████▌                   | 175/700 [00:27,  9.85it/s, step size=3.43e-01, acc. prob=0.784]"
     ]
    },
    {
     "name": "stderr",
     "output_type": "stream",
     "text": [
      "\r",
      "Warmup:  25%|██████▌                   | 178/700 [00:27,  9.71it/s, step size=1.21e-01, acc. prob=0.782]"
     ]
    },
    {
     "name": "stderr",
     "output_type": "stream",
     "text": [
      "\r",
      "Warmup:  26%|██████▋                   | 180/700 [00:28, 10.10it/s, step size=3.33e-01, acc. prob=0.784]"
     ]
    },
    {
     "name": "stderr",
     "output_type": "stream",
     "text": [
      "\r",
      "Warmup:  26%|██████▊                   | 182/700 [00:28, 11.35it/s, step size=4.30e-01, acc. prob=0.785]"
     ]
    },
    {
     "name": "stderr",
     "output_type": "stream",
     "text": [
      "\r",
      "Warmup:  26%|██████▊                   | 184/700 [00:28, 11.33it/s, step size=2.61e-01, acc. prob=0.784]"
     ]
    },
    {
     "name": "stderr",
     "output_type": "stream",
     "text": [
      "\r",
      "Warmup:  27%|██████▉                   | 186/700 [00:28, 12.58it/s, step size=6.17e-02, acc. prob=0.781]"
     ]
    },
    {
     "name": "stderr",
     "output_type": "stream",
     "text": [
      "\r",
      "Warmup:  27%|██████▉                   | 188/700 [00:28,  9.19it/s, step size=1.82e-01, acc. prob=0.783]"
     ]
    },
    {
     "name": "stderr",
     "output_type": "stream",
     "text": [
      "\r",
      "Warmup:  27%|███████                   | 190/700 [00:29, 10.60it/s, step size=4.80e-01, acc. prob=0.786]"
     ]
    },
    {
     "name": "stderr",
     "output_type": "stream",
     "text": [
      "\r",
      "Warmup:  27%|███████▏                  | 192/700 [00:29, 11.41it/s, step size=1.65e-01, acc. prob=0.783]"
     ]
    },
    {
     "name": "stderr",
     "output_type": "stream",
     "text": [
      "\r",
      "Warmup:  28%|███████▏                  | 194/700 [00:29, 11.37it/s, step size=4.24e-01, acc. prob=0.785]"
     ]
    },
    {
     "name": "stderr",
     "output_type": "stream",
     "text": [
      "\r",
      "Warmup:  28%|███████▎                  | 196/700 [00:29, 11.90it/s, step size=1.61e-01, acc. prob=0.783]"
     ]
    },
    {
     "name": "stderr",
     "output_type": "stream",
     "text": [
      "\r",
      "Warmup:  28%|███████▎                  | 198/700 [00:29, 11.72it/s, step size=3.34e-01, acc. prob=0.785]"
     ]
    },
    {
     "name": "stderr",
     "output_type": "stream",
     "text": [
      "\r",
      "Warmup:  29%|███████▍                  | 200/700 [00:29, 12.91it/s, step size=2.15e-01, acc. prob=0.787]"
     ]
    },
    {
     "name": "stderr",
     "output_type": "stream",
     "text": [
      "\r",
      "Sample:  29%|███████▌                  | 202/700 [00:29, 13.81it/s, step size=2.15e-01, acc. prob=0.875]"
     ]
    },
    {
     "name": "stderr",
     "output_type": "stream",
     "text": [
      "\r",
      "Sample:  29%|███████▌                  | 204/700 [00:30, 12.73it/s, step size=2.15e-01, acc. prob=0.865]"
     ]
    },
    {
     "name": "stderr",
     "output_type": "stream",
     "text": [
      "\r",
      "Sample:  29%|███████▋                  | 206/700 [00:30, 13.66it/s, step size=2.15e-01, acc. prob=0.872]"
     ]
    },
    {
     "name": "stderr",
     "output_type": "stream",
     "text": [
      "\r",
      "Sample:  30%|███████▋                  | 208/700 [00:30, 14.23it/s, step size=2.15e-01, acc. prob=0.877]"
     ]
    },
    {
     "name": "stderr",
     "output_type": "stream",
     "text": [
      "\r",
      "Sample:  30%|███████▊                  | 210/700 [00:30, 11.54it/s, step size=2.15e-01, acc. prob=0.880]"
     ]
    },
    {
     "name": "stderr",
     "output_type": "stream",
     "text": [
      "\r",
      "Sample:  30%|███████▊                  | 212/700 [00:30, 12.79it/s, step size=2.15e-01, acc. prob=0.885]"
     ]
    },
    {
     "name": "stderr",
     "output_type": "stream",
     "text": [
      "\r",
      "Sample:  31%|███████▉                  | 214/700 [00:30, 13.76it/s, step size=2.15e-01, acc. prob=0.897]"
     ]
    },
    {
     "name": "stderr",
     "output_type": "stream",
     "text": [
      "\r",
      "Sample:  31%|████████                  | 216/700 [00:30, 14.42it/s, step size=2.15e-01, acc. prob=0.891]"
     ]
    },
    {
     "name": "stderr",
     "output_type": "stream",
     "text": [
      "\r",
      "Sample:  31%|████████                  | 218/700 [00:31, 15.10it/s, step size=2.15e-01, acc. prob=0.888]"
     ]
    },
    {
     "name": "stderr",
     "output_type": "stream",
     "text": [
      "\r",
      "Sample:  31%|████████▏                 | 220/700 [00:31, 15.71it/s, step size=2.15e-01, acc. prob=0.886]"
     ]
    },
    {
     "name": "stderr",
     "output_type": "stream",
     "text": [
      "\r",
      "Sample:  32%|████████▏                 | 222/700 [00:31, 16.10it/s, step size=2.15e-01, acc. prob=0.865]"
     ]
    },
    {
     "name": "stderr",
     "output_type": "stream",
     "text": [
      "\r",
      "Sample:  32%|████████▎                 | 224/700 [00:31, 16.21it/s, step size=2.15e-01, acc. prob=0.866]"
     ]
    },
    {
     "name": "stderr",
     "output_type": "stream",
     "text": [
      "\r",
      "Sample:  32%|████████▍                 | 226/700 [00:31, 12.57it/s, step size=2.15e-01, acc. prob=0.861]"
     ]
    },
    {
     "name": "stderr",
     "output_type": "stream",
     "text": [
      "\r",
      "Sample:  33%|████████▍                 | 228/700 [00:31, 13.52it/s, step size=2.15e-01, acc. prob=0.859]"
     ]
    },
    {
     "name": "stderr",
     "output_type": "stream",
     "text": [
      "\r",
      "Sample:  33%|████████▌                 | 230/700 [00:31, 12.76it/s, step size=2.15e-01, acc. prob=0.862]"
     ]
    },
    {
     "name": "stderr",
     "output_type": "stream",
     "text": [
      "\r",
      "Sample:  33%|████████▌                 | 232/700 [00:32, 13.82it/s, step size=2.15e-01, acc. prob=0.865]"
     ]
    },
    {
     "name": "stderr",
     "output_type": "stream",
     "text": [
      "\r",
      "Sample:  33%|████████▋                 | 234/700 [00:32, 12.88it/s, step size=2.15e-01, acc. prob=0.870]"
     ]
    },
    {
     "name": "stderr",
     "output_type": "stream",
     "text": [
      "\r",
      "Sample:  34%|████████▊                 | 236/700 [00:32, 13.93it/s, step size=2.15e-01, acc. prob=0.873]"
     ]
    },
    {
     "name": "stderr",
     "output_type": "stream",
     "text": [
      "\r",
      "Sample:  34%|████████▊                 | 238/700 [00:32, 12.98it/s, step size=2.15e-01, acc. prob=0.873]"
     ]
    },
    {
     "name": "stderr",
     "output_type": "stream",
     "text": [
      "\r",
      "Sample:  34%|████████▉                 | 240/700 [00:32, 11.16it/s, step size=2.15e-01, acc. prob=0.876]"
     ]
    },
    {
     "name": "stderr",
     "output_type": "stream",
     "text": [
      "\r",
      "Sample:  35%|████████▉                 | 242/700 [00:32, 12.46it/s, step size=2.15e-01, acc. prob=0.870]"
     ]
    },
    {
     "name": "stderr",
     "output_type": "stream",
     "text": [
      "\r",
      "Sample:  35%|█████████                 | 244/700 [00:33, 13.48it/s, step size=2.15e-01, acc. prob=0.873]"
     ]
    },
    {
     "name": "stderr",
     "output_type": "stream",
     "text": [
      "\r",
      "Sample:  35%|█████████▏                | 246/700 [00:33, 14.45it/s, step size=2.15e-01, acc. prob=0.875]"
     ]
    },
    {
     "name": "stderr",
     "output_type": "stream",
     "text": [
      "\r",
      "Sample:  35%|█████████▏                | 248/700 [00:33, 15.11it/s, step size=2.15e-01, acc. prob=0.874]"
     ]
    },
    {
     "name": "stderr",
     "output_type": "stream",
     "text": [
      "\r",
      "Sample:  36%|█████████▎                | 250/700 [00:33, 13.59it/s, step size=2.15e-01, acc. prob=0.875]"
     ]
    },
    {
     "name": "stderr",
     "output_type": "stream",
     "text": [
      "\r",
      "Sample:  36%|█████████▎                | 252/700 [00:33, 12.72it/s, step size=2.15e-01, acc. prob=0.876]"
     ]
    },
    {
     "name": "stderr",
     "output_type": "stream",
     "text": [
      "\r",
      "Sample:  36%|█████████▍                | 254/700 [00:33, 12.03it/s, step size=2.15e-01, acc. prob=0.881]"
     ]
    },
    {
     "name": "stderr",
     "output_type": "stream",
     "text": [
      "\r",
      "Sample:  37%|█████████▌                | 256/700 [00:34, 10.50it/s, step size=2.15e-01, acc. prob=0.883]"
     ]
    },
    {
     "name": "stderr",
     "output_type": "stream",
     "text": [
      "\r",
      "Sample:  37%|█████████▌                | 258/700 [00:34, 11.71it/s, step size=2.15e-01, acc. prob=0.882]"
     ]
    },
    {
     "name": "stderr",
     "output_type": "stream",
     "text": [
      "\r",
      "Sample:  37%|█████████▋                | 260/700 [00:34, 12.92it/s, step size=2.15e-01, acc. prob=0.884]"
     ]
    },
    {
     "name": "stderr",
     "output_type": "stream",
     "text": [
      "\r",
      "Sample:  37%|█████████▋                | 262/700 [00:34, 12.20it/s, step size=2.15e-01, acc. prob=0.885]"
     ]
    },
    {
     "name": "stderr",
     "output_type": "stream",
     "text": [
      "\r",
      "Sample:  38%|█████████▊                | 264/700 [00:34, 10.69it/s, step size=2.15e-01, acc. prob=0.888]"
     ]
    },
    {
     "name": "stderr",
     "output_type": "stream",
     "text": [
      "\r",
      "Sample:  38%|█████████▉                | 266/700 [00:34, 11.99it/s, step size=2.15e-01, acc. prob=0.888]"
     ]
    },
    {
     "name": "stderr",
     "output_type": "stream",
     "text": [
      "\r",
      "Sample:  38%|█████████▉                | 268/700 [00:34, 13.05it/s, step size=2.15e-01, acc. prob=0.886]"
     ]
    },
    {
     "name": "stderr",
     "output_type": "stream",
     "text": [
      "\r",
      "Sample:  39%|██████████                | 270/700 [00:35, 12.46it/s, step size=2.15e-01, acc. prob=0.889]"
     ]
    },
    {
     "name": "stderr",
     "output_type": "stream",
     "text": [
      "\r",
      "Sample:  39%|██████████                | 272/700 [00:35, 10.64it/s, step size=2.15e-01, acc. prob=0.891]"
     ]
    },
    {
     "name": "stderr",
     "output_type": "stream",
     "text": [
      "\r",
      "Sample:  39%|██████████▏               | 274/700 [00:35,  9.81it/s, step size=2.15e-01, acc. prob=0.891]"
     ]
    },
    {
     "name": "stderr",
     "output_type": "stream",
     "text": [
      "\r",
      "Sample:  39%|██████████▎               | 276/700 [00:35, 11.15it/s, step size=2.15e-01, acc. prob=0.892]"
     ]
    },
    {
     "name": "stderr",
     "output_type": "stream",
     "text": [
      "\r",
      "Sample:  40%|██████████▎               | 278/700 [00:35, 10.96it/s, step size=2.15e-01, acc. prob=0.894]"
     ]
    },
    {
     "name": "stderr",
     "output_type": "stream",
     "text": [
      "\r",
      "Sample:  40%|██████████▍               | 280/700 [00:36, 11.95it/s, step size=2.15e-01, acc. prob=0.896]"
     ]
    },
    {
     "name": "stderr",
     "output_type": "stream",
     "text": [
      "\r",
      "Sample:  40%|██████████▍               | 282/700 [00:36, 10.38it/s, step size=2.15e-01, acc. prob=0.897]"
     ]
    },
    {
     "name": "stderr",
     "output_type": "stream",
     "text": [
      "\r",
      "Sample:  41%|██████████▌               | 284/700 [00:36, 11.59it/s, step size=2.15e-01, acc. prob=0.897]"
     ]
    },
    {
     "name": "stderr",
     "output_type": "stream",
     "text": [
      "\r",
      "Sample:  41%|██████████▌               | 286/700 [00:36, 12.66it/s, step size=2.15e-01, acc. prob=0.895]"
     ]
    },
    {
     "name": "stderr",
     "output_type": "stream",
     "text": [
      "\r",
      "Sample:  41%|██████████▋               | 288/700 [00:36, 13.51it/s, step size=2.15e-01, acc. prob=0.894]"
     ]
    },
    {
     "name": "stderr",
     "output_type": "stream",
     "text": [
      "\r",
      "Sample:  41%|██████████▊               | 290/700 [00:36, 14.27it/s, step size=2.15e-01, acc. prob=0.894]"
     ]
    },
    {
     "name": "stderr",
     "output_type": "stream",
     "text": [
      "\r",
      "Sample:  42%|██████████▊               | 292/700 [00:37, 11.57it/s, step size=2.15e-01, acc. prob=0.894]"
     ]
    },
    {
     "name": "stderr",
     "output_type": "stream",
     "text": [
      "\r",
      "Sample:  42%|██████████▉               | 294/700 [00:37, 12.74it/s, step size=2.15e-01, acc. prob=0.894]"
     ]
    },
    {
     "name": "stderr",
     "output_type": "stream",
     "text": [
      "\r",
      "Sample:  42%|██████████▉               | 296/700 [00:37, 12.14it/s, step size=2.15e-01, acc. prob=0.896]"
     ]
    },
    {
     "name": "stderr",
     "output_type": "stream",
     "text": [
      "\r",
      "Sample:  43%|███████████               | 298/700 [00:37, 13.13it/s, step size=2.15e-01, acc. prob=0.895]"
     ]
    },
    {
     "name": "stderr",
     "output_type": "stream",
     "text": [
      "\r",
      "Sample:  43%|███████████▏              | 300/700 [00:37, 12.56it/s, step size=2.15e-01, acc. prob=0.896]"
     ]
    },
    {
     "name": "stderr",
     "output_type": "stream",
     "text": [
      "\r",
      "Sample:  43%|███████████▏              | 302/700 [00:37, 12.00it/s, step size=2.15e-01, acc. prob=0.897]"
     ]
    },
    {
     "name": "stderr",
     "output_type": "stream",
     "text": [
      "\r",
      "Sample:  43%|███████████▎              | 304/700 [00:38, 11.72it/s, step size=2.15e-01, acc. prob=0.898]"
     ]
    },
    {
     "name": "stderr",
     "output_type": "stream",
     "text": [
      "\r",
      "Sample:  44%|███████████▎              | 306/700 [00:38, 12.94it/s, step size=2.15e-01, acc. prob=0.899]"
     ]
    },
    {
     "name": "stderr",
     "output_type": "stream",
     "text": [
      "\r",
      "Sample:  44%|███████████▍              | 308/700 [00:38, 12.40it/s, step size=2.15e-01, acc. prob=0.898]"
     ]
    },
    {
     "name": "stderr",
     "output_type": "stream",
     "text": [
      "\r",
      "Sample:  44%|███████████▌              | 310/700 [00:38, 11.94it/s, step size=2.15e-01, acc. prob=0.900]"
     ]
    },
    {
     "name": "stderr",
     "output_type": "stream",
     "text": [
      "\r",
      "Sample:  45%|███████████▌              | 312/700 [00:38, 11.75it/s, step size=2.15e-01, acc. prob=0.900]"
     ]
    },
    {
     "name": "stderr",
     "output_type": "stream",
     "text": [
      "\r",
      "Sample:  45%|███████████▋              | 314/700 [00:38, 12.80it/s, step size=2.15e-01, acc. prob=0.901]"
     ]
    },
    {
     "name": "stderr",
     "output_type": "stream",
     "text": [
      "\r",
      "Sample:  45%|███████████▋              | 316/700 [00:39, 12.30it/s, step size=2.15e-01, acc. prob=0.902]"
     ]
    },
    {
     "name": "stderr",
     "output_type": "stream",
     "text": [
      "\r",
      "Sample:  45%|███████████▊              | 318/700 [00:39, 13.36it/s, step size=2.15e-01, acc. prob=0.902]"
     ]
    },
    {
     "name": "stderr",
     "output_type": "stream",
     "text": [
      "\r",
      "Sample:  46%|███████████▉              | 320/700 [00:39, 14.27it/s, step size=2.15e-01, acc. prob=0.902]"
     ]
    },
    {
     "name": "stderr",
     "output_type": "stream",
     "text": [
      "\r",
      "Sample:  46%|███████████▉              | 322/700 [00:39, 14.87it/s, step size=2.15e-01, acc. prob=0.903]"
     ]
    },
    {
     "name": "stderr",
     "output_type": "stream",
     "text": [
      "\r",
      "Sample:  46%|████████████              | 324/700 [00:39, 15.43it/s, step size=2.15e-01, acc. prob=0.904]"
     ]
    },
    {
     "name": "stderr",
     "output_type": "stream",
     "text": [
      "\r",
      "Sample:  47%|████████████              | 326/700 [00:39, 15.88it/s, step size=2.15e-01, acc. prob=0.904]"
     ]
    },
    {
     "name": "stderr",
     "output_type": "stream",
     "text": [
      "\r",
      "Sample:  47%|████████████▏             | 328/700 [00:39, 13.93it/s, step size=2.15e-01, acc. prob=0.904]"
     ]
    },
    {
     "name": "stderr",
     "output_type": "stream",
     "text": [
      "\r",
      "Sample:  47%|████████████▎             | 330/700 [00:40, 11.58it/s, step size=2.15e-01, acc. prob=0.905]"
     ]
    },
    {
     "name": "stderr",
     "output_type": "stream",
     "text": [
      "\r",
      "Sample:  47%|████████████▎             | 332/700 [00:40, 12.41it/s, step size=2.15e-01, acc. prob=0.906]"
     ]
    },
    {
     "name": "stderr",
     "output_type": "stream",
     "text": [
      "\r",
      "Sample:  48%|████████████▍             | 334/700 [00:40, 13.17it/s, step size=2.15e-01, acc. prob=0.906]"
     ]
    },
    {
     "name": "stderr",
     "output_type": "stream",
     "text": [
      "\r",
      "Sample:  48%|████████████▍             | 336/700 [00:40, 13.78it/s, step size=2.15e-01, acc. prob=0.907]"
     ]
    },
    {
     "name": "stderr",
     "output_type": "stream",
     "text": [
      "\r",
      "Sample:  48%|████████████▌             | 338/700 [00:40, 14.03it/s, step size=2.15e-01, acc. prob=0.908]"
     ]
    },
    {
     "name": "stderr",
     "output_type": "stream",
     "text": [
      "\r",
      "Sample:  49%|████████████▋             | 340/700 [00:40, 14.79it/s, step size=2.15e-01, acc. prob=0.908]"
     ]
    },
    {
     "name": "stderr",
     "output_type": "stream",
     "text": [
      "\r",
      "Sample:  49%|████████████▋             | 342/700 [00:40, 14.84it/s, step size=2.15e-01, acc. prob=0.909]"
     ]
    },
    {
     "name": "stderr",
     "output_type": "stream",
     "text": [
      "\r",
      "Sample:  49%|████████████▊             | 344/700 [00:40, 15.64it/s, step size=2.15e-01, acc. prob=0.908]"
     ]
    },
    {
     "name": "stderr",
     "output_type": "stream",
     "text": [
      "\r",
      "Sample:  49%|████████████▊             | 346/700 [00:41, 13.94it/s, step size=2.15e-01, acc. prob=0.907]"
     ]
    },
    {
     "name": "stderr",
     "output_type": "stream",
     "text": [
      "\r",
      "Sample:  50%|████████████▉             | 348/700 [00:41, 14.83it/s, step size=2.15e-01, acc. prob=0.907]"
     ]
    },
    {
     "name": "stderr",
     "output_type": "stream",
     "text": [
      "\r",
      "Sample:  50%|█████████████             | 350/700 [00:41, 15.49it/s, step size=2.15e-01, acc. prob=0.908]"
     ]
    },
    {
     "name": "stderr",
     "output_type": "stream",
     "text": [
      "\r",
      "Sample:  50%|█████████████             | 352/700 [00:41, 15.87it/s, step size=2.15e-01, acc. prob=0.908]"
     ]
    },
    {
     "name": "stderr",
     "output_type": "stream",
     "text": [
      "\r",
      "Sample:  51%|█████████████▏            | 354/700 [00:41, 14.16it/s, step size=2.15e-01, acc. prob=0.907]"
     ]
    },
    {
     "name": "stderr",
     "output_type": "stream",
     "text": [
      "\r",
      "Sample:  51%|█████████████▏            | 356/700 [00:41, 14.71it/s, step size=2.15e-01, acc. prob=0.908]"
     ]
    },
    {
     "name": "stderr",
     "output_type": "stream",
     "text": [
      "\r",
      "Sample:  51%|█████████████▎            | 358/700 [00:41, 15.26it/s, step size=2.15e-01, acc. prob=0.907]"
     ]
    },
    {
     "name": "stderr",
     "output_type": "stream",
     "text": [
      "\r",
      "Sample:  51%|█████████████▎            | 360/700 [00:42, 15.66it/s, step size=2.15e-01, acc. prob=0.907]"
     ]
    },
    {
     "name": "stderr",
     "output_type": "stream",
     "text": [
      "\r",
      "Sample:  52%|█████████████▍            | 362/700 [00:42, 15.89it/s, step size=2.15e-01, acc. prob=0.907]"
     ]
    },
    {
     "name": "stderr",
     "output_type": "stream",
     "text": [
      "\r",
      "Sample:  52%|█████████████▌            | 364/700 [00:42, 16.08it/s, step size=2.15e-01, acc. prob=0.908]"
     ]
    },
    {
     "name": "stderr",
     "output_type": "stream",
     "text": [
      "\r",
      "Sample:  52%|█████████████▌            | 366/700 [00:42, 14.23it/s, step size=2.15e-01, acc. prob=0.909]"
     ]
    },
    {
     "name": "stderr",
     "output_type": "stream",
     "text": [
      "\r",
      "Sample:  53%|█████████████▋            | 368/700 [00:42, 11.62it/s, step size=2.15e-01, acc. prob=0.908]"
     ]
    },
    {
     "name": "stderr",
     "output_type": "stream",
     "text": [
      "\r",
      "Sample:  53%|█████████████▋            | 370/700 [00:42, 12.88it/s, step size=2.15e-01, acc. prob=0.908]"
     ]
    },
    {
     "name": "stderr",
     "output_type": "stream",
     "text": [
      "\r",
      "Sample:  53%|█████████████▊            | 372/700 [00:42, 13.95it/s, step size=2.15e-01, acc. prob=0.907]"
     ]
    },
    {
     "name": "stderr",
     "output_type": "stream",
     "text": [
      "\r",
      "Sample:  53%|█████████████▉            | 374/700 [00:43, 14.76it/s, step size=2.15e-01, acc. prob=0.907]"
     ]
    },
    {
     "name": "stderr",
     "output_type": "stream",
     "text": [
      "\r",
      "Sample:  54%|█████████████▉            | 376/700 [00:43, 15.31it/s, step size=2.15e-01, acc. prob=0.907]"
     ]
    },
    {
     "name": "stderr",
     "output_type": "stream",
     "text": [
      "\r",
      "Sample:  54%|██████████████            | 378/700 [00:43, 15.87it/s, step size=2.15e-01, acc. prob=0.908]"
     ]
    },
    {
     "name": "stderr",
     "output_type": "stream",
     "text": [
      "\r",
      "Sample:  54%|██████████████            | 380/700 [00:43, 16.23it/s, step size=2.15e-01, acc. prob=0.909]"
     ]
    },
    {
     "name": "stderr",
     "output_type": "stream",
     "text": [
      "\r",
      "Sample:  55%|██████████████▏           | 382/700 [00:43, 14.20it/s, step size=2.15e-01, acc. prob=0.909]"
     ]
    },
    {
     "name": "stderr",
     "output_type": "stream",
     "text": [
      "\r",
      "Sample:  55%|██████████████▎           | 384/700 [00:43, 14.96it/s, step size=2.15e-01, acc. prob=0.909]"
     ]
    },
    {
     "name": "stderr",
     "output_type": "stream",
     "text": [
      "\r",
      "Sample:  55%|██████████████▎           | 386/700 [00:43, 11.99it/s, step size=2.15e-01, acc. prob=0.910]"
     ]
    },
    {
     "name": "stderr",
     "output_type": "stream",
     "text": [
      "\r",
      "Sample:  55%|██████████████▍           | 388/700 [00:44, 13.07it/s, step size=2.15e-01, acc. prob=0.910]"
     ]
    },
    {
     "name": "stderr",
     "output_type": "stream",
     "text": [
      "\r",
      "Sample:  56%|██████████████▍           | 390/700 [00:44, 14.07it/s, step size=2.15e-01, acc. prob=0.910]"
     ]
    },
    {
     "name": "stderr",
     "output_type": "stream",
     "text": [
      "\r",
      "Sample:  56%|██████████████▌           | 392/700 [00:44, 14.86it/s, step size=2.15e-01, acc. prob=0.910]"
     ]
    },
    {
     "name": "stderr",
     "output_type": "stream",
     "text": [
      "\r",
      "Sample:  56%|██████████████▋           | 394/700 [00:44, 15.36it/s, step size=2.15e-01, acc. prob=0.910]"
     ]
    },
    {
     "name": "stderr",
     "output_type": "stream",
     "text": [
      "\r",
      "Sample:  57%|██████████████▋           | 396/700 [00:44, 13.67it/s, step size=2.15e-01, acc. prob=0.910]"
     ]
    },
    {
     "name": "stderr",
     "output_type": "stream",
     "text": [
      "\r",
      "Sample:  57%|██████████████▊           | 398/700 [00:44, 14.43it/s, step size=2.15e-01, acc. prob=0.910]"
     ]
    },
    {
     "name": "stderr",
     "output_type": "stream",
     "text": [
      "\r",
      "Sample:  57%|██████████████▊           | 400/700 [00:44, 15.16it/s, step size=2.15e-01, acc. prob=0.910]"
     ]
    },
    {
     "name": "stderr",
     "output_type": "stream",
     "text": [
      "\r",
      "Sample:  57%|██████████████▉           | 402/700 [00:44, 13.68it/s, step size=2.15e-01, acc. prob=0.910]"
     ]
    },
    {
     "name": "stderr",
     "output_type": "stream",
     "text": [
      "\r",
      "Sample:  58%|███████████████           | 404/700 [00:45, 14.45it/s, step size=2.15e-01, acc. prob=0.911]"
     ]
    },
    {
     "name": "stderr",
     "output_type": "stream",
     "text": [
      "\r",
      "Sample:  58%|███████████████           | 406/700 [00:45, 14.42it/s, step size=2.15e-01, acc. prob=0.911]"
     ]
    },
    {
     "name": "stderr",
     "output_type": "stream",
     "text": [
      "\r",
      "Sample:  58%|███████████████▏          | 408/700 [00:45, 14.98it/s, step size=2.15e-01, acc. prob=0.911]"
     ]
    },
    {
     "name": "stderr",
     "output_type": "stream",
     "text": [
      "\r",
      "Sample:  59%|███████████████▏          | 410/700 [00:45, 13.55it/s, step size=2.15e-01, acc. prob=0.911]"
     ]
    },
    {
     "name": "stderr",
     "output_type": "stream",
     "text": [
      "\r",
      "Sample:  59%|███████████████▎          | 412/700 [00:45, 14.45it/s, step size=2.15e-01, acc. prob=0.911]"
     ]
    },
    {
     "name": "stderr",
     "output_type": "stream",
     "text": [
      "\r",
      "Sample:  59%|███████████████▍          | 414/700 [00:45, 13.21it/s, step size=2.15e-01, acc. prob=0.911]"
     ]
    },
    {
     "name": "stderr",
     "output_type": "stream",
     "text": [
      "\r",
      "Sample:  59%|███████████████▍          | 416/700 [00:46, 12.46it/s, step size=2.15e-01, acc. prob=0.912]"
     ]
    },
    {
     "name": "stderr",
     "output_type": "stream",
     "text": [
      "\r",
      "Sample:  60%|███████████████▌          | 418/700 [00:46, 13.57it/s, step size=2.15e-01, acc. prob=0.912]"
     ]
    },
    {
     "name": "stderr",
     "output_type": "stream",
     "text": [
      "\r",
      "Sample:  60%|███████████████▌          | 420/700 [00:46, 11.27it/s, step size=2.15e-01, acc. prob=0.912]"
     ]
    },
    {
     "name": "stderr",
     "output_type": "stream",
     "text": [
      "\r",
      "Sample:  60%|███████████████▋          | 422/700 [00:46, 11.23it/s, step size=2.15e-01, acc. prob=0.912]"
     ]
    },
    {
     "name": "stderr",
     "output_type": "stream",
     "text": [
      "\r",
      "Sample:  61%|███████████████▋          | 424/700 [00:46, 12.43it/s, step size=2.15e-01, acc. prob=0.912]"
     ]
    },
    {
     "name": "stderr",
     "output_type": "stream",
     "text": [
      "\r",
      "Sample:  61%|███████████████▊          | 426/700 [00:46, 13.41it/s, step size=2.15e-01, acc. prob=0.912]"
     ]
    },
    {
     "name": "stderr",
     "output_type": "stream",
     "text": [
      "\r",
      "Sample:  61%|███████████████▉          | 428/700 [00:46, 12.69it/s, step size=2.15e-01, acc. prob=0.912]"
     ]
    },
    {
     "name": "stderr",
     "output_type": "stream",
     "text": [
      "\r",
      "Sample:  61%|███████████████▉          | 430/700 [00:47, 11.83it/s, step size=2.15e-01, acc. prob=0.912]"
     ]
    },
    {
     "name": "stderr",
     "output_type": "stream",
     "text": [
      "\r",
      "Sample:  62%|████████████████          | 432/700 [00:47, 11.38it/s, step size=2.15e-01, acc. prob=0.912]"
     ]
    },
    {
     "name": "stderr",
     "output_type": "stream",
     "text": [
      "\r",
      "Sample:  62%|████████████████          | 434/700 [00:47, 11.09it/s, step size=2.15e-01, acc. prob=0.911]"
     ]
    },
    {
     "name": "stderr",
     "output_type": "stream",
     "text": [
      "\r",
      "Sample:  62%|████████████████▏         | 436/700 [00:47, 10.92it/s, step size=2.15e-01, acc. prob=0.911]"
     ]
    },
    {
     "name": "stderr",
     "output_type": "stream",
     "text": [
      "\r",
      "Sample:  63%|████████████████▎         | 438/700 [00:47, 12.15it/s, step size=2.15e-01, acc. prob=0.911]"
     ]
    },
    {
     "name": "stderr",
     "output_type": "stream",
     "text": [
      "\r",
      "Sample:  63%|████████████████▎         | 440/700 [00:48, 13.08it/s, step size=2.15e-01, acc. prob=0.911]"
     ]
    },
    {
     "name": "stderr",
     "output_type": "stream",
     "text": [
      "\r",
      "Sample:  63%|████████████████▍         | 442/700 [00:48, 10.80it/s, step size=2.15e-01, acc. prob=0.910]"
     ]
    },
    {
     "name": "stderr",
     "output_type": "stream",
     "text": [
      "\r",
      "Sample:  63%|████████████████▍         | 444/700 [00:48, 10.73it/s, step size=2.15e-01, acc. prob=0.910]"
     ]
    },
    {
     "name": "stderr",
     "output_type": "stream",
     "text": [
      "\r",
      "Sample:  64%|████████████████▌         | 446/700 [00:48, 11.95it/s, step size=2.15e-01, acc. prob=0.910]"
     ]
    },
    {
     "name": "stderr",
     "output_type": "stream",
     "text": [
      "\r",
      "Sample:  64%|████████████████▋         | 448/700 [00:48, 12.80it/s, step size=2.15e-01, acc. prob=0.910]"
     ]
    },
    {
     "name": "stderr",
     "output_type": "stream",
     "text": [
      "\r",
      "Sample:  64%|████████████████▋         | 450/700 [00:48, 13.24it/s, step size=2.15e-01, acc. prob=0.910]"
     ]
    },
    {
     "name": "stderr",
     "output_type": "stream",
     "text": [
      "\r",
      "Sample:  65%|████████████████▊         | 452/700 [00:49, 12.31it/s, step size=2.15e-01, acc. prob=0.911]"
     ]
    },
    {
     "name": "stderr",
     "output_type": "stream",
     "text": [
      "\r",
      "Sample:  65%|████████████████▊         | 454/700 [00:49, 13.18it/s, step size=2.15e-01, acc. prob=0.910]"
     ]
    },
    {
     "name": "stderr",
     "output_type": "stream",
     "text": [
      "\r",
      "Sample:  65%|████████████████▉         | 456/700 [00:49, 12.19it/s, step size=2.15e-01, acc. prob=0.911]"
     ]
    },
    {
     "name": "stderr",
     "output_type": "stream",
     "text": [
      "\r",
      "Sample:  65%|█████████████████         | 458/700 [00:49, 11.48it/s, step size=2.15e-01, acc. prob=0.910]"
     ]
    },
    {
     "name": "stderr",
     "output_type": "stream",
     "text": [
      "\r",
      "Sample:  66%|█████████████████         | 460/700 [00:49, 11.14it/s, step size=2.15e-01, acc. prob=0.910]"
     ]
    },
    {
     "name": "stderr",
     "output_type": "stream",
     "text": [
      "\r",
      "Sample:  66%|█████████████████▏        | 462/700 [00:49, 11.03it/s, step size=2.15e-01, acc. prob=0.911]"
     ]
    },
    {
     "name": "stderr",
     "output_type": "stream",
     "text": [
      "\r",
      "Sample:  66%|█████████████████▏        | 464/700 [00:50, 10.98it/s, step size=2.15e-01, acc. prob=0.911]"
     ]
    },
    {
     "name": "stderr",
     "output_type": "stream",
     "text": [
      "\r",
      "Sample:  67%|█████████████████▎        | 466/700 [00:50, 12.04it/s, step size=2.15e-01, acc. prob=0.911]"
     ]
    },
    {
     "name": "stderr",
     "output_type": "stream",
     "text": [
      "\r",
      "Sample:  67%|█████████████████▍        | 468/700 [00:50, 12.85it/s, step size=2.15e-01, acc. prob=0.912]"
     ]
    },
    {
     "name": "stderr",
     "output_type": "stream",
     "text": [
      "\r",
      "Sample:  67%|█████████████████▍        | 470/700 [00:50, 13.76it/s, step size=2.15e-01, acc. prob=0.912]"
     ]
    },
    {
     "name": "stderr",
     "output_type": "stream",
     "text": [
      "\r",
      "Sample:  67%|█████████████████▌        | 472/700 [00:50, 14.45it/s, step size=2.15e-01, acc. prob=0.912]"
     ]
    },
    {
     "name": "stderr",
     "output_type": "stream",
     "text": [
      "\r",
      "Sample:  68%|█████████████████▌        | 474/700 [00:50, 13.03it/s, step size=2.15e-01, acc. prob=0.912]"
     ]
    },
    {
     "name": "stderr",
     "output_type": "stream",
     "text": [
      "\r",
      "Sample:  68%|█████████████████▋        | 476/700 [00:50, 12.18it/s, step size=2.15e-01, acc. prob=0.912]"
     ]
    },
    {
     "name": "stderr",
     "output_type": "stream",
     "text": [
      "\r",
      "Sample:  68%|█████████████████▊        | 478/700 [00:51, 11.65it/s, step size=2.15e-01, acc. prob=0.912]"
     ]
    },
    {
     "name": "stderr",
     "output_type": "stream",
     "text": [
      "\r",
      "Sample:  69%|█████████████████▊        | 480/700 [00:51, 11.29it/s, step size=2.15e-01, acc. prob=0.912]"
     ]
    },
    {
     "name": "stderr",
     "output_type": "stream",
     "text": [
      "\r",
      "Sample:  69%|█████████████████▉        | 482/700 [00:51, 11.19it/s, step size=2.15e-01, acc. prob=0.912]"
     ]
    },
    {
     "name": "stderr",
     "output_type": "stream",
     "text": [
      "\r",
      "Sample:  69%|█████████████████▉        | 484/700 [00:51, 10.18it/s, step size=2.15e-01, acc. prob=0.912]"
     ]
    },
    {
     "name": "stderr",
     "output_type": "stream",
     "text": [
      "\r",
      "Sample:  69%|██████████████████        | 486/700 [00:51, 10.46it/s, step size=2.15e-01, acc. prob=0.912]"
     ]
    },
    {
     "name": "stderr",
     "output_type": "stream",
     "text": [
      "\r",
      "Sample:  70%|██████████████████▏       | 488/700 [00:52, 11.75it/s, step size=2.15e-01, acc. prob=0.912]"
     ]
    },
    {
     "name": "stderr",
     "output_type": "stream",
     "text": [
      "\r",
      "Sample:  70%|██████████████████▏       | 490/700 [00:52, 12.88it/s, step size=2.15e-01, acc. prob=0.913]"
     ]
    },
    {
     "name": "stderr",
     "output_type": "stream",
     "text": [
      "\r",
      "Sample:  70%|██████████████████▎       | 492/700 [00:52, 12.28it/s, step size=2.15e-01, acc. prob=0.912]"
     ]
    },
    {
     "name": "stderr",
     "output_type": "stream",
     "text": [
      "\r",
      "Sample:  71%|██████████████████▎       | 494/700 [00:52, 11.89it/s, step size=2.15e-01, acc. prob=0.912]"
     ]
    },
    {
     "name": "stderr",
     "output_type": "stream",
     "text": [
      "\r",
      "Sample:  71%|██████████████████▍       | 496/700 [00:52, 12.99it/s, step size=2.15e-01, acc. prob=0.912]"
     ]
    },
    {
     "name": "stderr",
     "output_type": "stream",
     "text": [
      "\r",
      "Sample:  71%|██████████████████▍       | 498/700 [00:52, 12.37it/s, step size=2.15e-01, acc. prob=0.912]"
     ]
    },
    {
     "name": "stderr",
     "output_type": "stream",
     "text": [
      "\r",
      "Sample:  71%|██████████████████▌       | 500/700 [00:52, 13.49it/s, step size=2.15e-01, acc. prob=0.912]"
     ]
    },
    {
     "name": "stderr",
     "output_type": "stream",
     "text": [
      "\r",
      "Sample:  72%|██████████████████▋       | 502/700 [00:53, 14.37it/s, step size=2.15e-01, acc. prob=0.912]"
     ]
    },
    {
     "name": "stderr",
     "output_type": "stream",
     "text": [
      "\r",
      "Sample:  72%|██████████████████▋       | 504/700 [00:53, 13.14it/s, step size=2.15e-01, acc. prob=0.912]"
     ]
    },
    {
     "name": "stderr",
     "output_type": "stream",
     "text": [
      "\r",
      "Sample:  72%|██████████████████▊       | 506/700 [00:53, 12.48it/s, step size=2.15e-01, acc. prob=0.911]"
     ]
    },
    {
     "name": "stderr",
     "output_type": "stream",
     "text": [
      "\r",
      "Sample:  73%|██████████████████▊       | 508/700 [00:53, 13.52it/s, step size=2.15e-01, acc. prob=0.911]"
     ]
    },
    {
     "name": "stderr",
     "output_type": "stream",
     "text": [
      "\r",
      "Sample:  73%|██████████████████▉       | 510/700 [00:53, 14.31it/s, step size=2.15e-01, acc. prob=0.911]"
     ]
    },
    {
     "name": "stderr",
     "output_type": "stream",
     "text": [
      "\r",
      "Sample:  73%|███████████████████       | 512/700 [00:53, 13.19it/s, step size=2.15e-01, acc. prob=0.912]"
     ]
    },
    {
     "name": "stderr",
     "output_type": "stream",
     "text": [
      "\r",
      "Sample:  73%|███████████████████       | 514/700 [00:54, 14.13it/s, step size=2.15e-01, acc. prob=0.912]"
     ]
    },
    {
     "name": "stderr",
     "output_type": "stream",
     "text": [
      "\r",
      "Sample:  74%|███████████████████▏      | 516/700 [00:54, 14.91it/s, step size=2.15e-01, acc. prob=0.912]"
     ]
    },
    {
     "name": "stderr",
     "output_type": "stream",
     "text": [
      "\r",
      "Sample:  74%|███████████████████▏      | 518/700 [00:54, 11.94it/s, step size=2.15e-01, acc. prob=0.912]"
     ]
    },
    {
     "name": "stderr",
     "output_type": "stream",
     "text": [
      "\r",
      "Sample:  74%|███████████████████▎      | 520/700 [00:54, 11.75it/s, step size=2.15e-01, acc. prob=0.912]"
     ]
    },
    {
     "name": "stderr",
     "output_type": "stream",
     "text": [
      "\r",
      "Sample:  75%|███████████████████▍      | 522/700 [00:54, 10.33it/s, step size=2.15e-01, acc. prob=0.912]"
     ]
    },
    {
     "name": "stderr",
     "output_type": "stream",
     "text": [
      "\r",
      "Sample:  75%|███████████████████▍      | 524/700 [00:54, 11.70it/s, step size=2.15e-01, acc. prob=0.913]"
     ]
    },
    {
     "name": "stderr",
     "output_type": "stream",
     "text": [
      "\r",
      "Sample:  75%|███████████████████▌      | 526/700 [00:55, 12.92it/s, step size=2.15e-01, acc. prob=0.913]"
     ]
    },
    {
     "name": "stderr",
     "output_type": "stream",
     "text": [
      "\r",
      "Sample:  75%|███████████████████▌      | 528/700 [00:55, 12.34it/s, step size=2.15e-01, acc. prob=0.913]"
     ]
    },
    {
     "name": "stderr",
     "output_type": "stream",
     "text": [
      "\r",
      "Sample:  76%|███████████████████▋      | 530/700 [00:55, 13.46it/s, step size=2.15e-01, acc. prob=0.913]"
     ]
    },
    {
     "name": "stderr",
     "output_type": "stream",
     "text": [
      "\r",
      "Sample:  76%|███████████████████▊      | 532/700 [00:55, 14.30it/s, step size=2.15e-01, acc. prob=0.914]"
     ]
    },
    {
     "name": "stderr",
     "output_type": "stream",
     "text": [
      "\r",
      "Sample:  76%|███████████████████▊      | 534/700 [00:55, 13.06it/s, step size=2.15e-01, acc. prob=0.914]"
     ]
    },
    {
     "name": "stderr",
     "output_type": "stream",
     "text": [
      "\r",
      "Sample:  77%|███████████████████▉      | 536/700 [00:55, 11.18it/s, step size=2.15e-01, acc. prob=0.914]"
     ]
    },
    {
     "name": "stderr",
     "output_type": "stream",
     "text": [
      "\r",
      "Sample:  77%|███████████████████▉      | 538/700 [00:55, 12.49it/s, step size=2.15e-01, acc. prob=0.913]"
     ]
    },
    {
     "name": "stderr",
     "output_type": "stream",
     "text": [
      "\r",
      "Sample:  77%|████████████████████      | 540/700 [00:56, 13.51it/s, step size=2.15e-01, acc. prob=0.914]"
     ]
    },
    {
     "name": "stderr",
     "output_type": "stream",
     "text": [
      "\r",
      "Sample:  77%|████████████████████▏     | 542/700 [00:56, 12.81it/s, step size=2.15e-01, acc. prob=0.914]"
     ]
    },
    {
     "name": "stderr",
     "output_type": "stream",
     "text": [
      "\r",
      "Sample:  78%|████████████████████▏     | 544/700 [00:56, 13.79it/s, step size=2.15e-01, acc. prob=0.914]"
     ]
    },
    {
     "name": "stderr",
     "output_type": "stream",
     "text": [
      "\r",
      "Sample:  78%|████████████████████▎     | 546/700 [00:56, 12.96it/s, step size=2.15e-01, acc. prob=0.914]"
     ]
    },
    {
     "name": "stderr",
     "output_type": "stream",
     "text": [
      "\r",
      "Sample:  78%|████████████████████▎     | 548/700 [00:56, 12.21it/s, step size=2.15e-01, acc. prob=0.915]"
     ]
    },
    {
     "name": "stderr",
     "output_type": "stream",
     "text": [
      "\r",
      "Sample:  79%|████████████████████▍     | 550/700 [00:57, 10.70it/s, step size=2.15e-01, acc. prob=0.914]"
     ]
    },
    {
     "name": "stderr",
     "output_type": "stream",
     "text": [
      "\r",
      "Sample:  79%|████████████████████▌     | 552/700 [00:57, 10.67it/s, step size=2.15e-01, acc. prob=0.914]"
     ]
    },
    {
     "name": "stderr",
     "output_type": "stream",
     "text": [
      "\r",
      "Sample:  79%|████████████████████▌     | 554/700 [00:57, 11.98it/s, step size=2.15e-01, acc. prob=0.914]"
     ]
    },
    {
     "name": "stderr",
     "output_type": "stream",
     "text": [
      "\r",
      "Sample:  79%|████████████████████▋     | 556/700 [00:57, 13.16it/s, step size=2.15e-01, acc. prob=0.915]"
     ]
    },
    {
     "name": "stderr",
     "output_type": "stream",
     "text": [
      "\r",
      "Sample:  80%|████████████████████▋     | 558/700 [00:57, 12.48it/s, step size=2.15e-01, acc. prob=0.914]"
     ]
    },
    {
     "name": "stderr",
     "output_type": "stream",
     "text": [
      "\r",
      "Sample:  80%|████████████████████▊     | 560/700 [00:57, 13.45it/s, step size=2.15e-01, acc. prob=0.914]"
     ]
    },
    {
     "name": "stderr",
     "output_type": "stream",
     "text": [
      "\r",
      "Sample:  80%|████████████████████▊     | 562/700 [00:57, 14.34it/s, step size=2.15e-01, acc. prob=0.914]"
     ]
    },
    {
     "name": "stderr",
     "output_type": "stream",
     "text": [
      "\r",
      "Sample:  81%|████████████████████▉     | 564/700 [00:58, 13.13it/s, step size=2.15e-01, acc. prob=0.915]"
     ]
    },
    {
     "name": "stderr",
     "output_type": "stream",
     "text": [
      "\r",
      "Sample:  81%|█████████████████████     | 566/700 [00:58, 13.98it/s, step size=2.15e-01, acc. prob=0.915]"
     ]
    },
    {
     "name": "stderr",
     "output_type": "stream",
     "text": [
      "\r",
      "Sample:  81%|█████████████████████     | 568/700 [00:58, 11.58it/s, step size=2.15e-01, acc. prob=0.915]"
     ]
    },
    {
     "name": "stderr",
     "output_type": "stream",
     "text": [
      "\r",
      "Sample:  81%|█████████████████████▏    | 570/700 [00:58, 12.77it/s, step size=2.15e-01, acc. prob=0.915]"
     ]
    },
    {
     "name": "stderr",
     "output_type": "stream",
     "text": [
      "\r",
      "Sample:  82%|█████████████████████▏    | 572/700 [00:58, 13.68it/s, step size=2.15e-01, acc. prob=0.916]"
     ]
    },
    {
     "name": "stderr",
     "output_type": "stream",
     "text": [
      "\r",
      "Sample:  82%|█████████████████████▎    | 574/700 [00:58, 14.51it/s, step size=2.15e-01, acc. prob=0.916]"
     ]
    },
    {
     "name": "stderr",
     "output_type": "stream",
     "text": [
      "\r",
      "Sample:  82%|█████████████████████▍    | 576/700 [00:58, 15.07it/s, step size=2.15e-01, acc. prob=0.916]"
     ]
    },
    {
     "name": "stderr",
     "output_type": "stream",
     "text": [
      "\r",
      "Sample:  83%|█████████████████████▍    | 578/700 [00:58, 15.43it/s, step size=2.15e-01, acc. prob=0.916]"
     ]
    },
    {
     "name": "stderr",
     "output_type": "stream",
     "text": [
      "\r",
      "Sample:  83%|█████████████████████▌    | 580/700 [00:59, 15.67it/s, step size=2.15e-01, acc. prob=0.915]"
     ]
    },
    {
     "name": "stderr",
     "output_type": "stream",
     "text": [
      "\r",
      "Sample:  83%|█████████████████████▌    | 582/700 [00:59, 14.03it/s, step size=2.15e-01, acc. prob=0.915]"
     ]
    },
    {
     "name": "stderr",
     "output_type": "stream",
     "text": [
      "\r",
      "Sample:  83%|█████████████████████▋    | 584/700 [00:59, 14.83it/s, step size=2.15e-01, acc. prob=0.915]"
     ]
    },
    {
     "name": "stderr",
     "output_type": "stream",
     "text": [
      "\r",
      "Sample:  84%|█████████████████████▊    | 586/700 [00:59, 15.44it/s, step size=2.15e-01, acc. prob=0.915]"
     ]
    },
    {
     "name": "stderr",
     "output_type": "stream",
     "text": [
      "\r",
      "Sample:  84%|█████████████████████▊    | 588/700 [00:59, 15.80it/s, step size=2.15e-01, acc. prob=0.915]"
     ]
    },
    {
     "name": "stderr",
     "output_type": "stream",
     "text": [
      "\r",
      "Sample:  84%|█████████████████████▉    | 590/700 [00:59, 16.05it/s, step size=2.15e-01, acc. prob=0.915]"
     ]
    },
    {
     "name": "stderr",
     "output_type": "stream",
     "text": [
      "\r",
      "Sample:  85%|█████████████████████▉    | 592/700 [01:00, 12.55it/s, step size=2.15e-01, acc. prob=0.915]"
     ]
    },
    {
     "name": "stderr",
     "output_type": "stream",
     "text": [
      "\r",
      "Sample:  85%|██████████████████████    | 594/700 [01:00, 13.53it/s, step size=2.15e-01, acc. prob=0.915]"
     ]
    },
    {
     "name": "stderr",
     "output_type": "stream",
     "text": [
      "\r",
      "Sample:  85%|██████████████████████▏   | 596/700 [01:00, 14.45it/s, step size=2.15e-01, acc. prob=0.915]"
     ]
    },
    {
     "name": "stderr",
     "output_type": "stream",
     "text": [
      "\r",
      "Sample:  85%|██████████████████████▏   | 598/700 [01:00, 11.73it/s, step size=2.15e-01, acc. prob=0.914]"
     ]
    },
    {
     "name": "stderr",
     "output_type": "stream",
     "text": [
      "\r",
      "Sample:  86%|██████████████████████▎   | 600/700 [01:00, 11.47it/s, step size=2.15e-01, acc. prob=0.914]"
     ]
    },
    {
     "name": "stderr",
     "output_type": "stream",
     "text": [
      "\r",
      "Sample:  86%|██████████████████████▎   | 602/700 [01:00, 11.36it/s, step size=2.15e-01, acc. prob=0.914]"
     ]
    },
    {
     "name": "stderr",
     "output_type": "stream",
     "text": [
      "\r",
      "Sample:  86%|██████████████████████▍   | 604/700 [01:01, 11.36it/s, step size=2.15e-01, acc. prob=0.914]"
     ]
    },
    {
     "name": "stderr",
     "output_type": "stream",
     "text": [
      "\r",
      "Sample:  87%|██████████████████████▌   | 606/700 [01:01, 11.12it/s, step size=2.15e-01, acc. prob=0.914]"
     ]
    },
    {
     "name": "stderr",
     "output_type": "stream",
     "text": [
      "\r",
      "Sample:  87%|██████████████████████▌   | 608/700 [01:01,  9.82it/s, step size=2.15e-01, acc. prob=0.914]"
     ]
    },
    {
     "name": "stderr",
     "output_type": "stream",
     "text": [
      "\r",
      "Sample:  87%|██████████████████████▋   | 610/700 [01:01, 11.10it/s, step size=2.15e-01, acc. prob=0.915]"
     ]
    },
    {
     "name": "stderr",
     "output_type": "stream",
     "text": [
      "\r",
      "Sample:  87%|██████████████████████▋   | 612/700 [01:01,  9.81it/s, step size=2.15e-01, acc. prob=0.914]"
     ]
    },
    {
     "name": "stderr",
     "output_type": "stream",
     "text": [
      "\r",
      "Sample:  88%|██████████████████████▊   | 614/700 [01:02,  9.24it/s, step size=2.15e-01, acc. prob=0.914]"
     ]
    },
    {
     "name": "stderr",
     "output_type": "stream",
     "text": [
      "\r",
      "Sample:  88%|██████████████████████▉   | 616/700 [01:02, 10.67it/s, step size=2.15e-01, acc. prob=0.914]"
     ]
    },
    {
     "name": "stderr",
     "output_type": "stream",
     "text": [
      "\r",
      "Sample:  88%|██████████████████████▉   | 618/700 [01:02, 11.83it/s, step size=2.15e-01, acc. prob=0.914]"
     ]
    },
    {
     "name": "stderr",
     "output_type": "stream",
     "text": [
      "\r",
      "Sample:  89%|███████████████████████   | 620/700 [01:02, 12.95it/s, step size=2.15e-01, acc. prob=0.915]"
     ]
    },
    {
     "name": "stderr",
     "output_type": "stream",
     "text": [
      "\r",
      "Sample:  89%|███████████████████████   | 622/700 [01:02, 12.20it/s, step size=2.15e-01, acc. prob=0.915]"
     ]
    },
    {
     "name": "stderr",
     "output_type": "stream",
     "text": [
      "\r",
      "Sample:  89%|███████████████████████▏  | 624/700 [01:02, 11.90it/s, step size=2.15e-01, acc. prob=0.915]"
     ]
    },
    {
     "name": "stderr",
     "output_type": "stream",
     "text": [
      "\r",
      "Sample:  89%|███████████████████████▎  | 626/700 [01:03, 11.69it/s, step size=2.15e-01, acc. prob=0.915]"
     ]
    },
    {
     "name": "stderr",
     "output_type": "stream",
     "text": [
      "\r",
      "Sample:  90%|███████████████████████▎  | 628/700 [01:03, 12.93it/s, step size=2.15e-01, acc. prob=0.915]"
     ]
    },
    {
     "name": "stderr",
     "output_type": "stream",
     "text": [
      "\r",
      "Sample:  90%|███████████████████████▍  | 630/700 [01:03, 13.94it/s, step size=2.15e-01, acc. prob=0.914]"
     ]
    },
    {
     "name": "stderr",
     "output_type": "stream",
     "text": [
      "\r",
      "Sample:  90%|███████████████████████▍  | 632/700 [01:03, 14.71it/s, step size=2.15e-01, acc. prob=0.915]"
     ]
    },
    {
     "name": "stderr",
     "output_type": "stream",
     "text": [
      "\r",
      "Sample:  91%|███████████████████████▌  | 634/700 [01:03, 15.11it/s, step size=2.15e-01, acc. prob=0.914]"
     ]
    },
    {
     "name": "stderr",
     "output_type": "stream",
     "text": [
      "\r",
      "Sample:  91%|███████████████████████▌  | 636/700 [01:03, 15.71it/s, step size=2.15e-01, acc. prob=0.915]"
     ]
    },
    {
     "name": "stderr",
     "output_type": "stream",
     "text": [
      "\r",
      "Sample:  91%|███████████████████████▋  | 638/700 [01:03, 16.00it/s, step size=2.15e-01, acc. prob=0.915]"
     ]
    },
    {
     "name": "stderr",
     "output_type": "stream",
     "text": [
      "\r",
      "Sample:  91%|███████████████████████▊  | 640/700 [01:03, 12.37it/s, step size=2.15e-01, acc. prob=0.915]"
     ]
    },
    {
     "name": "stderr",
     "output_type": "stream",
     "text": [
      "\r",
      "Sample:  92%|███████████████████████▊  | 642/700 [01:04, 10.72it/s, step size=2.15e-01, acc. prob=0.915]"
     ]
    },
    {
     "name": "stderr",
     "output_type": "stream",
     "text": [
      "\r",
      "Sample:  92%|███████████████████████▉  | 644/700 [01:04, 12.10it/s, step size=2.15e-01, acc. prob=0.915]"
     ]
    },
    {
     "name": "stderr",
     "output_type": "stream",
     "text": [
      "\r",
      "Sample:  92%|███████████████████████▉  | 646/700 [01:04, 11.83it/s, step size=2.15e-01, acc. prob=0.915]"
     ]
    },
    {
     "name": "stderr",
     "output_type": "stream",
     "text": [
      "\r",
      "Sample:  93%|████████████████████████  | 648/700 [01:04, 13.06it/s, step size=2.15e-01, acc. prob=0.915]"
     ]
    },
    {
     "name": "stderr",
     "output_type": "stream",
     "text": [
      "\r",
      "Sample:  93%|████████████████████████▏ | 650/700 [01:04, 14.05it/s, step size=2.15e-01, acc. prob=0.915]"
     ]
    },
    {
     "name": "stderr",
     "output_type": "stream",
     "text": [
      "\r",
      "Sample:  93%|████████████████████████▏ | 652/700 [01:04, 13.07it/s, step size=2.15e-01, acc. prob=0.915]"
     ]
    },
    {
     "name": "stderr",
     "output_type": "stream",
     "text": [
      "\r",
      "Sample:  93%|████████████████████████▎ | 654/700 [01:05, 12.46it/s, step size=2.15e-01, acc. prob=0.916]"
     ]
    },
    {
     "name": "stderr",
     "output_type": "stream",
     "text": [
      "\r",
      "Sample:  94%|████████████████████████▎ | 656/700 [01:05, 13.55it/s, step size=2.15e-01, acc. prob=0.915]"
     ]
    },
    {
     "name": "stderr",
     "output_type": "stream",
     "text": [
      "\r",
      "Sample:  94%|████████████████████████▍ | 658/700 [01:05, 14.42it/s, step size=2.15e-01, acc. prob=0.915]"
     ]
    },
    {
     "name": "stderr",
     "output_type": "stream",
     "text": [
      "\r",
      "Sample:  94%|████████████████████████▌ | 660/700 [01:05, 13.39it/s, step size=2.15e-01, acc. prob=0.915]"
     ]
    },
    {
     "name": "stderr",
     "output_type": "stream",
     "text": [
      "\r",
      "Sample:  95%|████████████████████████▌ | 662/700 [01:05, 12.53it/s, step size=2.15e-01, acc. prob=0.915]"
     ]
    },
    {
     "name": "stderr",
     "output_type": "stream",
     "text": [
      "\r",
      "Sample:  95%|████████████████████████▋ | 664/700 [01:05, 13.52it/s, step size=2.15e-01, acc. prob=0.915]"
     ]
    },
    {
     "name": "stderr",
     "output_type": "stream",
     "text": [
      "\r",
      "Sample:  95%|████████████████████████▋ | 666/700 [01:06, 12.57it/s, step size=2.15e-01, acc. prob=0.915]"
     ]
    },
    {
     "name": "stderr",
     "output_type": "stream",
     "text": [
      "\r",
      "Sample:  95%|████████████████████████▊ | 668/700 [01:06, 11.88it/s, step size=2.15e-01, acc. prob=0.914]"
     ]
    },
    {
     "name": "stderr",
     "output_type": "stream",
     "text": [
      "\r",
      "Sample:  96%|████████████████████████▉ | 670/700 [01:06, 11.52it/s, step size=2.15e-01, acc. prob=0.914]"
     ]
    },
    {
     "name": "stderr",
     "output_type": "stream",
     "text": [
      "\r",
      "Sample:  96%|████████████████████████▉ | 672/700 [01:06, 10.19it/s, step size=2.15e-01, acc. prob=0.915]"
     ]
    },
    {
     "name": "stderr",
     "output_type": "stream",
     "text": [
      "\r",
      "Sample:  96%|█████████████████████████ | 674/700 [01:06, 10.35it/s, step size=2.15e-01, acc. prob=0.914]"
     ]
    },
    {
     "name": "stderr",
     "output_type": "stream",
     "text": [
      "\r",
      "Sample:  97%|█████████████████████████ | 676/700 [01:06, 11.69it/s, step size=2.15e-01, acc. prob=0.914]"
     ]
    },
    {
     "name": "stderr",
     "output_type": "stream",
     "text": [
      "\r",
      "Sample:  97%|█████████████████████████▏| 678/700 [01:07, 12.84it/s, step size=2.15e-01, acc. prob=0.914]"
     ]
    },
    {
     "name": "stderr",
     "output_type": "stream",
     "text": [
      "\r",
      "Sample:  97%|█████████████████████████▎| 680/700 [01:07, 13.82it/s, step size=2.15e-01, acc. prob=0.915]"
     ]
    },
    {
     "name": "stderr",
     "output_type": "stream",
     "text": [
      "\r",
      "Sample:  97%|█████████████████████████▎| 682/700 [01:07, 12.69it/s, step size=2.15e-01, acc. prob=0.915]"
     ]
    },
    {
     "name": "stderr",
     "output_type": "stream",
     "text": [
      "\r",
      "Sample:  98%|█████████████████████████▍| 684/700 [01:07, 12.20it/s, step size=2.15e-01, acc. prob=0.915]"
     ]
    },
    {
     "name": "stderr",
     "output_type": "stream",
     "text": [
      "\r",
      "Sample:  98%|█████████████████████████▍| 686/700 [01:07, 13.34it/s, step size=2.15e-01, acc. prob=0.915]"
     ]
    },
    {
     "name": "stderr",
     "output_type": "stream",
     "text": [
      "\r",
      "Sample:  98%|█████████████████████████▌| 688/700 [01:07, 14.23it/s, step size=2.15e-01, acc. prob=0.915]"
     ]
    },
    {
     "name": "stderr",
     "output_type": "stream",
     "text": [
      "\r",
      "Sample:  99%|█████████████████████████▋| 690/700 [01:07, 14.96it/s, step size=2.15e-01, acc. prob=0.915]"
     ]
    },
    {
     "name": "stderr",
     "output_type": "stream",
     "text": [
      "\r",
      "Sample:  99%|█████████████████████████▋| 692/700 [01:08, 13.61it/s, step size=2.15e-01, acc. prob=0.915]"
     ]
    },
    {
     "name": "stderr",
     "output_type": "stream",
     "text": [
      "\r",
      "Sample:  99%|█████████████████████████▊| 694/700 [01:08, 13.84it/s, step size=2.15e-01, acc. prob=0.915]"
     ]
    },
    {
     "name": "stderr",
     "output_type": "stream",
     "text": [
      "\r",
      "Sample:  99%|█████████████████████████▊| 696/700 [01:08, 14.69it/s, step size=2.15e-01, acc. prob=0.916]"
     ]
    },
    {
     "name": "stderr",
     "output_type": "stream",
     "text": [
      "\r",
      "Sample: 100%|█████████████████████████▉| 698/700 [01:08, 15.39it/s, step size=2.15e-01, acc. prob=0.916]"
     ]
    },
    {
     "name": "stderr",
     "output_type": "stream",
     "text": [
      "\r",
      "Sample: 100%|██████████████████████████| 700/700 [01:08, 13.81it/s, step size=2.15e-01, acc. prob=0.916]"
     ]
    },
    {
     "name": "stderr",
     "output_type": "stream",
     "text": [
      "\r",
      "Sample: 100%|██████████████████████████| 700/700 [01:08, 10.20it/s, step size=2.15e-01, acc. prob=0.916]"
     ]
    },
    {
     "name": "stderr",
     "output_type": "stream",
     "text": [
      "\n"
     ]
    }
   ],
   "source": [
    "samples = 500\n",
    "warm_up = 200\n",
    "\n",
    "X_torch = torch.tensor(X)\n",
    "t_torch = torch.tensor(t)\n",
    "y_torch = torch.tensor(y)\n",
    "\n",
    "\n",
    "# Initialize No U-Turn Sampler\n",
    "nuts_kernel = NUTS(model_treatment_intersection, max_tree_depth=7)\n",
    "model_mcmc = MCMC(nuts_kernel, num_samples=samples, warmup_steps=warm_up)\n",
    "\n",
    "# Run the sampler\n",
    "model_mcmc.run(X_torch, t_torch, y_torch)"
   ]
  },
  {
   "cell_type": "markdown",
   "id": "26",
   "metadata": {
    "papermill": {
     "duration": 0.086442,
     "end_time": "2021-11-29T22:25:33.515003",
     "exception": false,
     "start_time": "2021-11-29T22:25:33.428561",
     "status": "completed"
    },
    "tags": []
   },
   "source": [
    "### Sample the ATE"
   ]
  },
  {
   "cell_type": "code",
   "execution_count": 15,
   "id": "27",
   "metadata": {
    "execution": {
     "iopub.execute_input": "2021-11-29T22:25:33.691010Z",
     "iopub.status.busy": "2021-11-29T22:25:33.690497Z",
     "iopub.status.idle": "2021-11-29T22:25:33.983500Z",
     "shell.execute_reply": "2021-11-29T22:25:33.983051Z"
    },
    "papermill": {
     "duration": 0.382654,
     "end_time": "2021-11-29T22:25:33.983618",
     "exception": false,
     "start_time": "2021-11-29T22:25:33.600964",
     "status": "completed"
    },
    "tags": []
   },
   "outputs": [
    {
     "name": "stdout",
     "output_type": "stream",
     "text": [
      "Hierarchical Linear Regression\n",
      "  R-squared = 0.3313 (0.0014)\n",
      "  ATE: 0.1811\n",
      "  CI (0.025, 0.975): [0.1223, 0.2368]\n"
     ]
    }
   ],
   "source": [
    "hbr_samples = model_mcmc.get_samples()\n",
    "w_0s = hbr_samples[\"intercept\"]\n",
    "w_ts = hbr_samples[\"treatment\"]\n",
    "w_xs = hbr_samples[\"confounders\"]\n",
    "w_txs = hbr_samples[\"intersection\"]\n",
    "\n",
    "ate_hlr_samples = np.zeros(samples)\n",
    "score_samples = np.zeros(samples)\n",
    "t0 = torch.zeros_like(t_torch)\n",
    "t1 = torch.ones_like(t_torch)\n",
    "\n",
    "for s in range(samples):\n",
    "    f = predict(w_0s[s], w_ts[s], w_xs[s], w_txs[s], X_torch, t_torch)\n",
    "    f1 = predict(w_0s[s], w_ts[s], w_xs[s], w_txs[s], X_torch, t1)\n",
    "    f0 = predict(w_0s[s], w_ts[s], w_xs[s], w_txs[s], X_torch, t0)\n",
    "    ate_hlr_samples[s] = f1.mean() - f0.mean()\n",
    "    score_samples[s] = r2_score(y, f)\n",
    "\n",
    "ate_hlr = ate_hlr_samples.mean()\n",
    "ci_hlr = mstats.mquantiles(ate_hlr_samples, prob=[0.025, 0.975])\n",
    "\n",
    "print(\"Hierarchical Linear Regression\")\n",
    "print(f\"  R-squared = {score_samples.mean():.4f} ({score_samples.std():.4f})\")\n",
    "print(f\"  ATE: {ate_hlr:.4f}\")\n",
    "print(f\"  CI (0.025, 0.975): [{ci_hlr[0]:.4f}, {ci_hlr[1]:.4f}]\")"
   ]
  },
  {
   "cell_type": "code",
   "execution_count": 16,
   "id": "28",
   "metadata": {
    "execution": {
     "iopub.execute_input": "2021-11-29T22:25:34.175461Z",
     "iopub.status.busy": "2021-11-29T22:25:34.174774Z",
     "iopub.status.idle": "2021-11-29T22:25:34.400653Z",
     "shell.execute_reply": "2021-11-29T22:25:34.400994Z"
    },
    "papermill": {
     "duration": 0.325656,
     "end_time": "2021-11-29T22:25:34.401118",
     "exception": false,
     "start_time": "2021-11-29T22:25:34.075462",
     "status": "completed"
    },
    "tags": []
   },
   "outputs": [
    {
     "data": {
      "image/png": "[encoded data removed]",
      "text/plain": [
       "<Figure size 900x600 with 1 Axes>"
      ]
     },
     "metadata": {
      "needs_background": "light"
     },
     "output_type": "display_data"
    }
   ],
   "source": [
    "plt.figure(dpi=150)\n",
    "cnt, *_ = plt.hist(ate_hlr_samples, bins=20)\n",
    "plt.plot([ate_hlr, ate_hlr], [0, max(cnt)], 'r', label=\"mean\")\n",
    "plt.title(\"HLR ATE samples\")\n",
    "plt.xlabel(\"ATE\")\n",
    "plt.ylabel(\"counts\")\n",
    "plt.grid()\n",
    "plt.legend()\n",
    "plt.show()"
   ]
  },
  {
   "cell_type": "markdown",
   "id": "29",
   "metadata": {
    "papermill": {
     "duration": 0.082943,
     "end_time": "2021-11-29T22:25:34.568112",
     "exception": false,
     "start_time": "2021-11-29T22:25:34.485169",
     "status": "completed"
    },
    "tags": []
   },
   "source": [
    "## Plot ATE"
   ]
  },
  {
   "cell_type": "code",
   "execution_count": 17,
   "id": "30",
   "metadata": {
    "execution": {
     "iopub.execute_input": "2021-11-29T22:25:34.749636Z",
     "iopub.status.busy": "2021-11-29T22:25:34.740208Z",
     "iopub.status.idle": "2021-11-29T22:25:34.889168Z",
     "shell.execute_reply": "2021-11-29T22:25:34.889524Z"
    },
    "papermill": {
     "duration": 0.239723,
     "end_time": "2021-11-29T22:25:34.889648",
     "exception": false,
     "start_time": "2021-11-29T22:25:34.649925",
     "status": "completed"
    },
    "tags": []
   },
   "outputs": [
    {
     "data": {
      "image/png": "[encoded data removed]",
      "text/plain": [
       "<Figure size 900x600 with 1 Axes>"
      ]
     },
     "metadata": {
      "needs_background": "light"
     },
     "output_type": "display_data"
    }
   ],
   "source": [
    "ate_labels = [\"OLS\", \"Bayesian Linear\", \"Gaussian Process\", \"Hierarchical Linear\"]\n",
    "ate = [ate_ols, ate_blr, ate_gp, ate_hlr]\n",
    "ci = [ci_ols, ci_blr, ci_gp, ci_hlr]\n",
    "ind = np.arange(len(ate))\n",
    "\n",
    "plt.figure(dpi=150)\n",
    "plt.vlines(ind, ymin=[c[0] for c in ci], ymax=[c[1] for c in ci], colors='k', linewidth=3)\n",
    "plt.plot(ind, ate, 'rx', markersize=10)\n",
    "plt.xticks(ind, labels=ate_labels, rotation=30)\n",
    "plt.grid()\n",
    "plt.show()"
   ]
  },
  {
   "cell_type": "code",
   "execution_count": null,
   "id": "31",
   "metadata": {
    "papermill": {
     "duration": 0.084104,
     "end_time": "2021-11-29T22:25:35.060038",
     "exception": false,
     "start_time": "2021-11-29T22:25:34.975934",
     "status": "completed"
    },
    "tags": []
   },
   "outputs": [],
   "source": []
  }
 ],
 "metadata": {
  "celltoolbar": "Tags",
  "kernelspec": {
   "display_name": "Python 3 (ipykernel)",
   "language": "python",
   "name": "python3"
  },
  "language_info": {
   "codemirror_mode": {
    "name": "ipython",
    "version": 3
   },
   "file_extension": ".py",
   "mimetype": "text/x-python",
   "name": "python",
   "nbconvert_exporter": "python",
   "pygments_lexer": "ipython3",
   "version": "3.9.9"
  },
  "papermill": {
   "default_parameters": {},
   "duration": 625.282914,
   "end_time": "2021-11-29T22:25:35.757003",
   "environment_variables": {},
   "exception": null,
   "input_path": "Direct-Bayesian.ipynb",
   "output_path": "results/Direct-Bayesian-lasso-20-restricted.ipynb",
   "parameters": {
    "configuration_name": "lasso-20-restricted",
    "data_file": "data/all_lasso_selected_20_restricted.csv",
    "laplace_prior": false,
    "outcome": "y_wsce",
    "release": "restricted",
    "test": false,
    "treatment": "redufl",
    "xval_gp": true
   },
   "start_time": "2021-11-29T22:15:10.474089",
   "version": "2.3.3"
  }
 },
 "nbformat": 4,
 "nbformat_minor": 5
}
