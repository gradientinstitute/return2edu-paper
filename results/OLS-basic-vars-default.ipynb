{
 "cells": [
  {
   "cell_type": "markdown",
   "id": "0",
   "metadata": {
    "papermill": {
     "duration": 0.03719,
     "end_time": "2021-11-24T08:00:32.658534",
     "exception": false,
     "start_time": "2021-11-24T08:00:32.621344",
     "status": "completed"
    },
    "tags": []
   },
   "source": [
    "# OLS on Basic Variable Set"
   ]
  },
  {
   "cell_type": "code",
   "execution_count": 1,
   "id": "1",
   "metadata": {
    "execution": {
     "iopub.execute_input": "2021-11-24T08:00:32.733082Z",
     "iopub.status.busy": "2021-11-24T08:00:32.732783Z",
     "iopub.status.idle": "2021-11-24T08:00:33.538950Z",
     "shell.execute_reply": "2021-11-24T08:00:33.538591Z"
    },
    "papermill": {
     "duration": 0.847451,
     "end_time": "2021-11-24T08:00:33.539029",
     "exception": false,
     "start_time": "2021-11-24T08:00:32.691578",
     "status": "completed"
    },
    "tags": [
     "hide_cell"
    ]
   },
   "outputs": [
    {
     "data": {
      "text/plain": [
       "'1.0'"
      ]
     },
     "execution_count": 1,
     "metadata": {},
     "output_type": "execute_result"
    }
   ],
   "source": [
    "# import libraries\n",
    "import numpy as np\n",
    "import pandas as pd\n",
    "import matplotlib.pyplot as plt\n",
    "import pyreadstat\n",
    "import re\n",
    "import string\n",
    "import sklearn\n",
    "#from sklearn_pandas import DataFrameMapper\n",
    "from sklearn.linear_model import LinearRegression, Lasso, Ridge, LogisticRegression\n",
    "from sklearn.ensemble import GradientBoostingRegressor\n",
    "from sklearn.svm import SVR\n",
    "from tqdm import tqdm_notebook as tqdm\n",
    "from reed import *\n",
    "#from cinspect import dependence, importance\n",
    "from sklearn.model_selection import cross_val_score, cross_validate\n",
    "import pickle\n",
    "import time\n",
    "import statsmodels.api as sm\n",
    "from direct_regression import plot_ate_distribution\n",
    "\n",
    "\n",
    "# set global notebook options\n",
    "pd.options.display.max_columns = 200\n",
    "pd.options.display.max_rows = 500\n",
    "%matplotlib inline\n",
    "\n",
    "%load_ext autoreload\n",
    "%autoreload 2\n",
    "\n",
    "sklearn.__version__"
   ]
  },
  {
   "cell_type": "markdown",
   "id": "2",
   "metadata": {
    "papermill": {
     "duration": 0.037342,
     "end_time": "2021-11-24T08:00:33.613588",
     "exception": false,
     "start_time": "2021-11-24T08:00:33.576246",
     "status": "completed"
    },
    "tags": []
   },
   "source": [
    "#### Select modeling parameters"
   ]
  },
  {
   "cell_type": "code",
   "execution_count": 2,
   "id": "3",
   "metadata": {
    "execution": {
     "iopub.execute_input": "2021-11-24T08:00:33.690977Z",
     "iopub.status.busy": "2021-11-24T08:00:33.690666Z",
     "iopub.status.idle": "2021-11-24T08:00:33.701788Z",
     "shell.execute_reply": "2021-11-24T08:00:33.701490Z"
    },
    "papermill": {
     "duration": 0.050934,
     "end_time": "2021-11-24T08:00:33.701854",
     "exception": false,
     "start_time": "2021-11-24T08:00:33.650920",
     "status": "completed"
    },
    "tags": [
     "parameters"
    ]
   },
   "outputs": [],
   "source": [
    "outcome = 'y_wsce'\n",
    "treatment = 'redufl'\n",
    "optimisation_metric = 'neg_mean_squared_error'\n",
    "evaluation_metrics = ('r2','neg_mean_squared_error')\n",
    "log_outcome=True\n",
    "standardize_outcome=True\n",
    "config_name = \"default\"\n",
    "data_file = \"data/basic_variables.csv\"\n",
    "test = False"
   ]
  },
  {
   "cell_type": "code",
   "execution_count": 3,
   "id": "62f23f80",
   "metadata": {
    "execution": {
     "iopub.execute_input": "2021-11-24T08:00:33.776789Z",
     "iopub.status.busy": "2021-11-24T08:00:33.776479Z",
     "iopub.status.idle": "2021-11-24T08:00:33.787674Z",
     "shell.execute_reply": "2021-11-24T08:00:33.787377Z"
    },
    "papermill": {
     "duration": 0.050535,
     "end_time": "2021-11-24T08:00:33.787742",
     "exception": false,
     "start_time": "2021-11-24T08:00:33.737207",
     "status": "completed"
    },
    "tags": [
     "injected-parameters"
    ]
   },
   "outputs": [],
   "source": [
    "# Parameters\n",
    "test = False\n",
    "outcome = \"y_wsce\"\n",
    "treatment = \"redufl\"\n"
   ]
  },
  {
   "cell_type": "code",
   "execution_count": 4,
   "id": "4",
   "metadata": {
    "execution": {
     "iopub.execute_input": "2021-11-24T08:00:33.863881Z",
     "iopub.status.busy": "2021-11-24T08:00:33.863561Z",
     "iopub.status.idle": "2021-11-24T08:00:33.874802Z",
     "shell.execute_reply": "2021-11-24T08:00:33.874497Z"
    },
    "papermill": {
     "duration": 0.051466,
     "end_time": "2021-11-24T08:00:33.874872",
     "exception": false,
     "start_time": "2021-11-24T08:00:33.823406",
     "status": "completed"
    },
    "tags": []
   },
   "outputs": [],
   "source": [
    "# parameters that depend on those set above (which may have been inserted by Papermill)\n",
    "if test:\n",
    "    inner_cv = 2\n",
    "    outer_cv = 2\n",
    "    bootstrap_samples = 3\n",
    "\n",
    "else:\n",
    "    inner_cv = 5\n",
    "    outer_cv = 10\n",
    "    bootstrap_samples = 1000"
   ]
  },
  {
   "cell_type": "markdown",
   "id": "5",
   "metadata": {
    "papermill": {
     "duration": 0.037791,
     "end_time": "2021-11-24T08:00:33.948667",
     "exception": false,
     "start_time": "2021-11-24T08:00:33.910876",
     "status": "completed"
    },
    "tags": []
   },
   "source": [
    "### Load Data \n",
    "   - drop rows missing the specified treatment or outcome"
   ]
  },
  {
   "cell_type": "code",
   "execution_count": 5,
   "id": "6",
   "metadata": {
    "execution": {
     "iopub.execute_input": "2021-11-24T08:00:34.026310Z",
     "iopub.status.busy": "2021-11-24T08:00:34.025986Z",
     "iopub.status.idle": "2021-11-24T08:00:34.151504Z",
     "shell.execute_reply": "2021-11-24T08:00:34.151167Z"
    },
    "papermill": {
     "duration": 0.165815,
     "end_time": "2021-11-24T08:00:34.151579",
     "exception": false,
     "start_time": "2021-11-24T08:00:33.985764",
     "status": "completed"
    },
    "tags": [
     "hide_input"
    ]
   },
   "outputs": [
    {
     "name": "stdout",
     "output_type": "stream",
     "text": [
      "Dropped 284 rows missing treatment or outcome.\n"
     ]
    },
    {
     "data": {
      "image/png": "[encoded data removed]",
      "text/plain": [
       "<Figure size 432x288 with 1 Axes>"
      ]
     },
     "metadata": {
      "needs_background": "light"
     },
     "output_type": "display_data"
    }
   ],
   "source": [
    "data = pd.read_csv(data_file,index_col='xwaveid')\n",
    "drop_missing_treatment_or_outcome(data, treatment, outcome)\n",
    "if log_outcome:\n",
    "    shift = 1 - data[outcome].min() # to ensure log is defined\n",
    "    data[outcome] = np.log(data[outcome]+shift)\n",
    "if standardize_outcome:\n",
    "    mu, std = data[outcome].mean(), data[outcome].std()\n",
    "    data[outcome] = (data[outcome]-mu)/std\n",
    "    \n",
    "plt.hist(data[outcome])\n",
    "plt.xlabel(outcome)\n",
    "plt.ylabel(\"count\")\n",
    "plt.title(\"Distribution of outcomes\");"
   ]
  },
  {
   "cell_type": "markdown",
   "id": "7",
   "metadata": {
    "papermill": {
     "duration": 0.038198,
     "end_time": "2021-11-24T08:00:34.225976",
     "exception": false,
     "start_time": "2021-11-24T08:00:34.187778",
     "status": "completed"
    },
    "tags": []
   },
   "source": [
    "### Prepare data for modeling\n",
    "   - split into treated/control\n",
    "   - impute missing values and scale\n",
    "   - separate features from outcomes&treatments"
   ]
  },
  {
   "cell_type": "code",
   "execution_count": 6,
   "id": "8",
   "metadata": {
    "execution": {
     "iopub.execute_input": "2021-11-24T08:00:34.306649Z",
     "iopub.status.busy": "2021-11-24T08:00:34.306329Z",
     "iopub.status.idle": "2021-11-24T08:00:34.323699Z",
     "shell.execute_reply": "2021-11-24T08:00:34.323403Z"
    },
    "papermill": {
     "duration": 0.05877,
     "end_time": "2021-11-24T08:00:34.323767",
     "exception": false,
     "start_time": "2021-11-24T08:00:34.264997",
     "status": "completed"
    },
    "tags": [
     "hide_input"
    ]
   },
   "outputs": [
    {
     "name": "stdout",
     "output_type": "stream",
     "text": [
      "Control data dimensions:  (3789, 21)\n",
      "Treated data dimensions: (1368, 21)\n"
     ]
    }
   ],
   "source": [
    "from direct_regression import seperate_and_transform_data\n",
    "X0, X1, y0, y1, X, y, t, features = seperate_and_transform_data(data, treatment, outcome)\n",
    "print(\"Control data dimensions: \",X0.shape)\n",
    "print(\"Treated data dimensions:\",X1.shape)"
   ]
  },
  {
   "cell_type": "markdown",
   "id": "9",
   "metadata": {
    "papermill": {
     "duration": 0.039844,
     "end_time": "2021-11-24T08:00:34.401295",
     "exception": false,
     "start_time": "2021-11-24T08:00:34.361451",
     "status": "completed"
    },
    "tags": []
   },
   "source": [
    "### Compute unconditional/unadjusted estimate of treatment effect"
   ]
  },
  {
   "cell_type": "code",
   "execution_count": 7,
   "id": "10",
   "metadata": {
    "execution": {
     "iopub.execute_input": "2021-11-24T08:00:34.483457Z",
     "iopub.status.busy": "2021-11-24T08:00:34.483146Z",
     "iopub.status.idle": "2021-11-24T08:00:34.494604Z",
     "shell.execute_reply": "2021-11-24T08:00:34.494331Z"
    },
    "papermill": {
     "duration": 0.05348,
     "end_time": "2021-11-24T08:00:34.494672",
     "exception": false,
     "start_time": "2021-11-24T08:00:34.441192",
     "status": "completed"
    },
    "tags": [
     "hide_input"
    ]
   },
   "outputs": [
    {
     "name": "stdout",
     "output_type": "stream",
     "text": [
      "Proportion Treated:27%\n",
      "Average outcome under Control:-0.14±0.02\n",
      "Average outcome under Treatment:0.37±0.03\n",
      "Unadjusted treatment estimate 0.51\n"
     ]
    }
   ],
   "source": [
    "from direct_regression import print_unconditional_effects\n",
    "print_unconditional_effects(data, treatment, y0, y1)"
   ]
  },
  {
   "cell_type": "markdown",
   "id": "11",
   "metadata": {
    "papermill": {
     "duration": 0.040343,
     "end_time": "2021-11-24T08:00:34.573464",
     "exception": false,
     "start_time": "2021-11-24T08:00:34.533121",
     "status": "completed"
    },
    "tags": []
   },
   "source": [
    "### Set up models\n",
    "Specify which models to use and the hyper-parameter space to search over for each"
   ]
  },
  {
   "cell_type": "code",
   "execution_count": 8,
   "id": "12",
   "metadata": {
    "execution": {
     "iopub.execute_input": "2021-11-24T08:00:34.656667Z",
     "iopub.status.busy": "2021-11-24T08:00:34.656346Z",
     "iopub.status.idle": "2021-11-24T08:00:34.667368Z",
     "shell.execute_reply": "2021-11-24T08:00:34.667068Z"
    },
    "papermill": {
     "duration": 0.053712,
     "end_time": "2021-11-24T08:00:34.667434",
     "exception": false,
     "start_time": "2021-11-24T08:00:34.613722",
     "status": "completed"
    },
    "tags": [
     "hide_input"
    ]
   },
   "outputs": [],
   "source": [
    "from sklearn.linear_model import LinearRegression\n",
    "from direct_regression import importance_from_coef\n",
    "\n",
    "def construct_models():\n",
    "    models = [\n",
    "        Model('OLS',LinearRegression(),importance_func=importance_from_coef)\n",
    "    ]\n",
    "    return models"
   ]
  },
  {
   "cell_type": "code",
   "execution_count": 9,
   "id": "13",
   "metadata": {
    "execution": {
     "iopub.execute_input": "2021-11-24T08:00:34.748673Z",
     "iopub.status.busy": "2021-11-24T08:00:34.748354Z",
     "iopub.status.idle": "2021-11-24T08:00:34.801340Z",
     "shell.execute_reply": "2021-11-24T08:00:34.801599Z"
    },
    "papermill": {
     "duration": 0.09573,
     "end_time": "2021-11-24T08:00:34.801690",
     "exception": false,
     "start_time": "2021-11-24T08:00:34.705960",
     "status": "completed"
    },
    "tags": [
     "hide_cell"
    ]
   },
   "outputs": [
    {
     "name": "stdout",
     "output_type": "stream",
     "text": [
      "Fitting OLS ...Done\n"
     ]
    }
   ],
   "source": [
    "from direct_regression import nested_cross_val\n",
    "models0, models1, results = nested_cross_val(\n",
    "    construct_models,\n",
    "    None,\n",
    "    X0, X1, y0, y1,\n",
    "    optimisation_metric,\n",
    "    evaluation_metrics,\n",
    "    innercv=inner_cv,\n",
    "    outercv=outer_cv,\n",
    "    load_from_cache=False)"
   ]
  },
  {
   "cell_type": "markdown",
   "id": "14",
   "metadata": {
    "papermill": {
     "duration": 0.04314,
     "end_time": "2021-11-24T08:00:34.885117",
     "exception": false,
     "start_time": "2021-11-24T08:00:34.841977",
     "status": "completed"
    },
    "tags": []
   },
   "source": [
    "### Report estimate ATE and model performance\n",
    "\n",
    "  - Mean and Std of prediction performance for each model (both treatment & control surface)\n",
    "  - Mean and Std of average treatment effect for each model"
   ]
  },
  {
   "cell_type": "code",
   "execution_count": 10,
   "id": "15",
   "metadata": {
    "execution": {
     "iopub.execute_input": "2021-11-24T08:00:34.973097Z",
     "iopub.status.busy": "2021-11-24T08:00:34.972772Z",
     "iopub.status.idle": "2021-11-24T08:00:35.345031Z",
     "shell.execute_reply": "2021-11-24T08:00:35.344708Z"
    },
    "papermill": {
     "duration": 0.417097,
     "end_time": "2021-11-24T08:00:35.345105",
     "exception": false,
     "start_time": "2021-11-24T08:00:34.928008",
     "status": "completed"
    },
    "tags": []
   },
   "outputs": [
    {
     "data": {
      "text/html": [
       "<div>\n",
       "<style scoped>\n",
       "    .dataframe tbody tr th:only-of-type {\n",
       "        vertical-align: middle;\n",
       "    }\n",
       "\n",
       "    .dataframe tbody tr th {\n",
       "        vertical-align: top;\n",
       "    }\n",
       "\n",
       "    .dataframe thead th {\n",
       "        text-align: right;\n",
       "    }\n",
       "</style>\n",
       "<table border=\"1\" class=\"dataframe\">\n",
       "  <thead>\n",
       "    <tr style=\"text-align: right;\">\n",
       "      <th></th>\n",
       "      <th>ACE</th>\n",
       "      <th>ACE_std</th>\n",
       "      <th>control_r2</th>\n",
       "      <th>control_r2_std</th>\n",
       "      <th>treated_r2</th>\n",
       "      <th>treated_r2_std</th>\n",
       "      <th>control_neg_mean_squared_error</th>\n",
       "      <th>control_neg_mean_squared_error_std</th>\n",
       "      <th>treated_neg_mean_squared_error</th>\n",
       "      <th>treated_neg_mean_squared_error_std</th>\n",
       "    </tr>\n",
       "  </thead>\n",
       "  <tbody>\n",
       "    <tr>\n",
       "      <th>OLS</th>\n",
       "      <td>0.07</td>\n",
       "      <td>0.01</td>\n",
       "      <td>0.40</td>\n",
       "      <td>0.04</td>\n",
       "      <td>0.23</td>\n",
       "      <td>0.10</td>\n",
       "      <td>-0.55</td>\n",
       "      <td>0.04</td>\n",
       "      <td>-0.78</td>\n",
       "      <td>0.10</td>\n",
       "    </tr>\n",
       "  </tbody>\n",
       "</table>\n",
       "</div>"
      ],
      "text/plain": [
       "     ACE  ACE_std  control_r2  control_r2_std  treated_r2  treated_r2_std  \\\n",
       "OLS 0.07     0.01        0.40            0.04        0.23            0.10   \n",
       "\n",
       "     control_neg_mean_squared_error  control_neg_mean_squared_error_std  \\\n",
       "OLS                           -0.55                                0.04   \n",
       "\n",
       "     treated_neg_mean_squared_error  treated_neg_mean_squared_error_std  \n",
       "OLS                           -0.78                                0.10  "
      ]
     },
     "metadata": {},
     "output_type": "display_data"
    },
    {
     "data": {
      "image/png": "[encoded data removed]",
      "text/plain": [
       "<Figure size 1080x360 with 2 Axes>"
      ]
     },
     "metadata": {
      "needs_background": "light"
     },
     "output_type": "display_data"
    }
   ],
   "source": [
    "from direct_regression import visualise_ate\n",
    "visualise_ate(results,X,evaluation_metrics);"
   ]
  },
  {
   "cell_type": "markdown",
   "id": "16",
   "metadata": {
    "papermill": {
     "duration": 0.043305,
     "end_time": "2021-11-24T08:00:35.430726",
     "exception": false,
     "start_time": "2021-11-24T08:00:35.387421",
     "status": "completed"
    },
    "tags": []
   },
   "source": [
    "### Visualise models\n",
    "- Features responsible for treatment effect heterogeneity & functional form (with uncertainty)\n",
    "      - coefficeints for linear models"
   ]
  },
  {
   "cell_type": "code",
   "execution_count": 11,
   "id": "17",
   "metadata": {
    "execution": {
     "iopub.execute_input": "2021-11-24T08:00:35.519582Z",
     "iopub.status.busy": "2021-11-24T08:00:35.519045Z",
     "iopub.status.idle": "2021-11-24T08:00:35.562919Z",
     "shell.execute_reply": "2021-11-24T08:00:35.562634Z"
    },
    "papermill": {
     "duration": 0.089206,
     "end_time": "2021-11-24T08:00:35.562996",
     "exception": false,
     "start_time": "2021-11-24T08:00:35.473790",
     "status": "completed"
    },
    "tags": [
     "hide_input"
    ]
   },
   "outputs": [
    {
     "name": "stdout",
     "output_type": "stream",
     "text": [
      "OLS\n"
     ]
    },
    {
     "data": {
      "text/html": [
       "<div>\n",
       "<style scoped>\n",
       "    .dataframe tbody tr th:only-of-type {\n",
       "        vertical-align: middle;\n",
       "    }\n",
       "\n",
       "    .dataframe tbody tr th {\n",
       "        vertical-align: top;\n",
       "    }\n",
       "\n",
       "    .dataframe thead th {\n",
       "        text-align: right;\n",
       "    }\n",
       "</style>\n",
       "<table border=\"1\" class=\"dataframe\">\n",
       "  <thead>\n",
       "    <tr style=\"text-align: right;\">\n",
       "      <th></th>\n",
       "      <th>importance_mean</th>\n",
       "      <th>importance_std</th>\n",
       "      <th>Δcoef_mean</th>\n",
       "      <th>Δcoef_std</th>\n",
       "      <th>coef_treat_mean</th>\n",
       "      <th>coef_treat_std</th>\n",
       "      <th>coef_cntr_mean</th>\n",
       "      <th>coef_cntr_std</th>\n",
       "    </tr>\n",
       "    <tr>\n",
       "      <th>feature</th>\n",
       "      <th></th>\n",
       "      <th></th>\n",
       "      <th></th>\n",
       "      <th></th>\n",
       "      <th></th>\n",
       "      <th></th>\n",
       "      <th></th>\n",
       "      <th></th>\n",
       "    </tr>\n",
       "  </thead>\n",
       "  <tbody>\n",
       "    <tr>\n",
       "      <th>ahgage_(54, 120]</th>\n",
       "      <td>0.599575</td>\n",
       "      <td>0.011354</td>\n",
       "      <td>-0.089211</td>\n",
       "      <td>0.013726</td>\n",
       "      <td>-0.644180</td>\n",
       "      <td>0.015401</td>\n",
       "      <td>-0.554969</td>\n",
       "      <td>0.010715</td>\n",
       "    </tr>\n",
       "    <tr>\n",
       "      <th>ahgage_(44, 54]</th>\n",
       "      <td>0.488677</td>\n",
       "      <td>0.007702</td>\n",
       "      <td>0.031795</td>\n",
       "      <td>0.020707</td>\n",
       "      <td>-0.472780</td>\n",
       "      <td>0.015092</td>\n",
       "      <td>-0.504574</td>\n",
       "      <td>0.010259</td>\n",
       "    </tr>\n",
       "    <tr>\n",
       "      <th>aesdtl_3.0</th>\n",
       "      <td>0.193353</td>\n",
       "      <td>0.013221</td>\n",
       "      <td>-0.064092</td>\n",
       "      <td>0.024929</td>\n",
       "      <td>-0.225399</td>\n",
       "      <td>0.024190</td>\n",
       "      <td>-0.161307</td>\n",
       "      <td>0.008670</td>\n",
       "    </tr>\n",
       "    <tr>\n",
       "      <th>ahgage_(34, 44]</th>\n",
       "      <td>0.108405</td>\n",
       "      <td>0.006812</td>\n",
       "      <td>-0.086892</td>\n",
       "      <td>0.018637</td>\n",
       "      <td>-0.151851</td>\n",
       "      <td>0.010774</td>\n",
       "      <td>-0.064959</td>\n",
       "      <td>0.012263</td>\n",
       "    </tr>\n",
       "    <tr>\n",
       "      <th>aedhigh1_9.0</th>\n",
       "      <td>0.091880</td>\n",
       "      <td>0.009129</td>\n",
       "      <td>-0.055360</td>\n",
       "      <td>0.027072</td>\n",
       "      <td>-0.119560</td>\n",
       "      <td>0.021579</td>\n",
       "      <td>-0.064200</td>\n",
       "      <td>0.008212</td>\n",
       "    </tr>\n",
       "    <tr>\n",
       "      <th>aesdtl_2.0</th>\n",
       "      <td>0.057491</td>\n",
       "      <td>0.010480</td>\n",
       "      <td>0.007438</td>\n",
       "      <td>0.020781</td>\n",
       "      <td>-0.053773</td>\n",
       "      <td>0.018852</td>\n",
       "      <td>-0.061210</td>\n",
       "      <td>0.008954</td>\n",
       "    </tr>\n",
       "    <tr>\n",
       "      <th>interact_ahgsex_2.0_aesdtl_3.0</th>\n",
       "      <td>0.051315</td>\n",
       "      <td>0.013508</td>\n",
       "      <td>0.097335</td>\n",
       "      <td>0.026105</td>\n",
       "      <td>0.093650</td>\n",
       "      <td>0.024943</td>\n",
       "      <td>-0.003685</td>\n",
       "      <td>0.013202</td>\n",
       "    </tr>\n",
       "    <tr>\n",
       "      <th>interact_ahgsex_2.0_aesdtl_2.0</th>\n",
       "      <td>0.042050</td>\n",
       "      <td>0.010182</td>\n",
       "      <td>0.021036</td>\n",
       "      <td>0.026818</td>\n",
       "      <td>0.052568</td>\n",
       "      <td>0.020411</td>\n",
       "      <td>0.031532</td>\n",
       "      <td>0.012262</td>\n",
       "    </tr>\n",
       "    <tr>\n",
       "      <th>aedhigh1_8.0</th>\n",
       "      <td>0.036151</td>\n",
       "      <td>0.006632</td>\n",
       "      <td>-0.049347</td>\n",
       "      <td>0.016323</td>\n",
       "      <td>-0.059725</td>\n",
       "      <td>0.011857</td>\n",
       "      <td>-0.010378</td>\n",
       "      <td>0.009628</td>\n",
       "    </tr>\n",
       "    <tr>\n",
       "      <th>interact_ahgsex_2.0_ahgage_(54, 120]</th>\n",
       "      <td>0.034608</td>\n",
       "      <td>0.008735</td>\n",
       "      <td>-0.019178</td>\n",
       "      <td>0.011311</td>\n",
       "      <td>0.025019</td>\n",
       "      <td>0.010120</td>\n",
       "      <td>0.044196</td>\n",
       "      <td>0.010685</td>\n",
       "    </tr>\n",
       "    <tr>\n",
       "      <th>interact_ahgsex_2.0_aedhigh1_5.0</th>\n",
       "      <td>0.028952</td>\n",
       "      <td>0.006605</td>\n",
       "      <td>-0.043372</td>\n",
       "      <td>0.013140</td>\n",
       "      <td>-0.050563</td>\n",
       "      <td>0.011728</td>\n",
       "      <td>-0.007191</td>\n",
       "      <td>0.006338</td>\n",
       "    </tr>\n",
       "    <tr>\n",
       "      <th>aedhigh1_5.0</th>\n",
       "      <td>0.027505</td>\n",
       "      <td>0.006860</td>\n",
       "      <td>0.054668</td>\n",
       "      <td>0.014282</td>\n",
       "      <td>0.043799</td>\n",
       "      <td>0.012427</td>\n",
       "      <td>-0.010868</td>\n",
       "      <td>0.009022</td>\n",
       "    </tr>\n",
       "    <tr>\n",
       "      <th>interact_ahgsex_2.0_ahgage_(44, 54]</th>\n",
       "      <td>0.026425</td>\n",
       "      <td>0.005792</td>\n",
       "      <td>-0.050861</td>\n",
       "      <td>0.013572</td>\n",
       "      <td>-0.014686</td>\n",
       "      <td>0.012114</td>\n",
       "      <td>0.036175</td>\n",
       "      <td>0.009023</td>\n",
       "    </tr>\n",
       "    <tr>\n",
       "      <th>ahgsex_2.0</th>\n",
       "      <td>0.024165</td>\n",
       "      <td>0.009558</td>\n",
       "      <td>0.019206</td>\n",
       "      <td>0.031450</td>\n",
       "      <td>-0.010350</td>\n",
       "      <td>0.015744</td>\n",
       "      <td>-0.029556</td>\n",
       "      <td>0.020171</td>\n",
       "    </tr>\n",
       "    <tr>\n",
       "      <th>interact_ahgsex_2.0_aedhigh1_4.0</th>\n",
       "      <td>0.023947</td>\n",
       "      <td>0.008953</td>\n",
       "      <td>-0.047455</td>\n",
       "      <td>0.018583</td>\n",
       "      <td>-0.023014</td>\n",
       "      <td>0.012660</td>\n",
       "      <td>0.024441</td>\n",
       "      <td>0.008869</td>\n",
       "    </tr>\n",
       "    <tr>\n",
       "      <th>interact_ahgsex_2.0_ahgage_(34, 44]</th>\n",
       "      <td>0.023757</td>\n",
       "      <td>0.007358</td>\n",
       "      <td>0.036396</td>\n",
       "      <td>0.017717</td>\n",
       "      <td>-0.001488</td>\n",
       "      <td>0.012416</td>\n",
       "      <td>-0.037884</td>\n",
       "      <td>0.011022</td>\n",
       "    </tr>\n",
       "    <tr>\n",
       "      <th>interact_ahgsex_2.0_aedhigh1_8.0</th>\n",
       "      <td>0.023021</td>\n",
       "      <td>0.005587</td>\n",
       "      <td>0.044182</td>\n",
       "      <td>0.012034</td>\n",
       "      <td>0.035816</td>\n",
       "      <td>0.009149</td>\n",
       "      <td>-0.008366</td>\n",
       "      <td>0.012880</td>\n",
       "    </tr>\n",
       "    <tr>\n",
       "      <th>interact_ahgsex_2.0_aedhigh1_9.0</th>\n",
       "      <td>0.018417</td>\n",
       "      <td>0.012008</td>\n",
       "      <td>0.017369</td>\n",
       "      <td>0.038160</td>\n",
       "      <td>0.017246</td>\n",
       "      <td>0.028172</td>\n",
       "      <td>-0.000123</td>\n",
       "      <td>0.014867</td>\n",
       "    </tr>\n",
       "    <tr>\n",
       "      <th>aedhigh1_4.0</th>\n",
       "      <td>0.013750</td>\n",
       "      <td>0.005944</td>\n",
       "      <td>0.020183</td>\n",
       "      <td>0.019412</td>\n",
       "      <td>0.004790</td>\n",
       "      <td>0.015779</td>\n",
       "      <td>-0.015393</td>\n",
       "      <td>0.007700</td>\n",
       "    </tr>\n",
       "    <tr>\n",
       "      <th>interact_ahgsex_2.0_aedhigh1_3.0</th>\n",
       "      <td>0.012752</td>\n",
       "      <td>0.008359</td>\n",
       "      <td>-0.024353</td>\n",
       "      <td>0.017868</td>\n",
       "      <td>-0.008737</td>\n",
       "      <td>0.010087</td>\n",
       "      <td>0.015616</td>\n",
       "      <td>0.009735</td>\n",
       "    </tr>\n",
       "  </tbody>\n",
       "</table>\n",
       "</div>"
      ],
      "text/plain": [
       "                                      importance_mean  importance_std  \\\n",
       "feature                                                                 \n",
       "ahgage_(54, 120]                             0.599575        0.011354   \n",
       "ahgage_(44, 54]                              0.488677        0.007702   \n",
       "aesdtl_3.0                                   0.193353        0.013221   \n",
       "ahgage_(34, 44]                              0.108405        0.006812   \n",
       "aedhigh1_9.0                                 0.091880        0.009129   \n",
       "aesdtl_2.0                                   0.057491        0.010480   \n",
       "interact_ahgsex_2.0_aesdtl_3.0               0.051315        0.013508   \n",
       "interact_ahgsex_2.0_aesdtl_2.0               0.042050        0.010182   \n",
       "aedhigh1_8.0                                 0.036151        0.006632   \n",
       "interact_ahgsex_2.0_ahgage_(54, 120]         0.034608        0.008735   \n",
       "interact_ahgsex_2.0_aedhigh1_5.0             0.028952        0.006605   \n",
       "aedhigh1_5.0                                 0.027505        0.006860   \n",
       "interact_ahgsex_2.0_ahgage_(44, 54]          0.026425        0.005792   \n",
       "ahgsex_2.0                                   0.024165        0.009558   \n",
       "interact_ahgsex_2.0_aedhigh1_4.0             0.023947        0.008953   \n",
       "interact_ahgsex_2.0_ahgage_(34, 44]          0.023757        0.007358   \n",
       "interact_ahgsex_2.0_aedhigh1_8.0             0.023021        0.005587   \n",
       "interact_ahgsex_2.0_aedhigh1_9.0             0.018417        0.012008   \n",
       "aedhigh1_4.0                                 0.013750        0.005944   \n",
       "interact_ahgsex_2.0_aedhigh1_3.0             0.012752        0.008359   \n",
       "\n",
       "                                      Δcoef_mean  Δcoef_std  coef_treat_mean  \\\n",
       "feature                                                                        \n",
       "ahgage_(54, 120]                       -0.089211   0.013726        -0.644180   \n",
       "ahgage_(44, 54]                         0.031795   0.020707        -0.472780   \n",
       "aesdtl_3.0                             -0.064092   0.024929        -0.225399   \n",
       "ahgage_(34, 44]                        -0.086892   0.018637        -0.151851   \n",
       "aedhigh1_9.0                           -0.055360   0.027072        -0.119560   \n",
       "aesdtl_2.0                              0.007438   0.020781        -0.053773   \n",
       "interact_ahgsex_2.0_aesdtl_3.0          0.097335   0.026105         0.093650   \n",
       "interact_ahgsex_2.0_aesdtl_2.0          0.021036   0.026818         0.052568   \n",
       "aedhigh1_8.0                           -0.049347   0.016323        -0.059725   \n",
       "interact_ahgsex_2.0_ahgage_(54, 120]   -0.019178   0.011311         0.025019   \n",
       "interact_ahgsex_2.0_aedhigh1_5.0       -0.043372   0.013140        -0.050563   \n",
       "aedhigh1_5.0                            0.054668   0.014282         0.043799   \n",
       "interact_ahgsex_2.0_ahgage_(44, 54]    -0.050861   0.013572        -0.014686   \n",
       "ahgsex_2.0                              0.019206   0.031450        -0.010350   \n",
       "interact_ahgsex_2.0_aedhigh1_4.0       -0.047455   0.018583        -0.023014   \n",
       "interact_ahgsex_2.0_ahgage_(34, 44]     0.036396   0.017717        -0.001488   \n",
       "interact_ahgsex_2.0_aedhigh1_8.0        0.044182   0.012034         0.035816   \n",
       "interact_ahgsex_2.0_aedhigh1_9.0        0.017369   0.038160         0.017246   \n",
       "aedhigh1_4.0                            0.020183   0.019412         0.004790   \n",
       "interact_ahgsex_2.0_aedhigh1_3.0       -0.024353   0.017868        -0.008737   \n",
       "\n",
       "                                      coef_treat_std  coef_cntr_mean  \\\n",
       "feature                                                                \n",
       "ahgage_(54, 120]                            0.015401       -0.554969   \n",
       "ahgage_(44, 54]                             0.015092       -0.504574   \n",
       "aesdtl_3.0                                  0.024190       -0.161307   \n",
       "ahgage_(34, 44]                             0.010774       -0.064959   \n",
       "aedhigh1_9.0                                0.021579       -0.064200   \n",
       "aesdtl_2.0                                  0.018852       -0.061210   \n",
       "interact_ahgsex_2.0_aesdtl_3.0              0.024943       -0.003685   \n",
       "interact_ahgsex_2.0_aesdtl_2.0              0.020411        0.031532   \n",
       "aedhigh1_8.0                                0.011857       -0.010378   \n",
       "interact_ahgsex_2.0_ahgage_(54, 120]        0.010120        0.044196   \n",
       "interact_ahgsex_2.0_aedhigh1_5.0            0.011728       -0.007191   \n",
       "aedhigh1_5.0                                0.012427       -0.010868   \n",
       "interact_ahgsex_2.0_ahgage_(44, 54]         0.012114        0.036175   \n",
       "ahgsex_2.0                                  0.015744       -0.029556   \n",
       "interact_ahgsex_2.0_aedhigh1_4.0            0.012660        0.024441   \n",
       "interact_ahgsex_2.0_ahgage_(34, 44]         0.012416       -0.037884   \n",
       "interact_ahgsex_2.0_aedhigh1_8.0            0.009149       -0.008366   \n",
       "interact_ahgsex_2.0_aedhigh1_9.0            0.028172       -0.000123   \n",
       "aedhigh1_4.0                                0.015779       -0.015393   \n",
       "interact_ahgsex_2.0_aedhigh1_3.0            0.010087        0.015616   \n",
       "\n",
       "                                      coef_cntr_std  \n",
       "feature                                              \n",
       "ahgage_(54, 120]                           0.010715  \n",
       "ahgage_(44, 54]                            0.010259  \n",
       "aesdtl_3.0                                 0.008670  \n",
       "ahgage_(34, 44]                            0.012263  \n",
       "aedhigh1_9.0                               0.008212  \n",
       "aesdtl_2.0                                 0.008954  \n",
       "interact_ahgsex_2.0_aesdtl_3.0             0.013202  \n",
       "interact_ahgsex_2.0_aesdtl_2.0             0.012262  \n",
       "aedhigh1_8.0                               0.009628  \n",
       "interact_ahgsex_2.0_ahgage_(54, 120]       0.010685  \n",
       "interact_ahgsex_2.0_aedhigh1_5.0           0.006338  \n",
       "aedhigh1_5.0                               0.009022  \n",
       "interact_ahgsex_2.0_ahgage_(44, 54]        0.009023  \n",
       "ahgsex_2.0                                 0.020171  \n",
       "interact_ahgsex_2.0_aedhigh1_4.0           0.008869  \n",
       "interact_ahgsex_2.0_ahgage_(34, 44]        0.011022  \n",
       "interact_ahgsex_2.0_aedhigh1_8.0           0.012880  \n",
       "interact_ahgsex_2.0_aedhigh1_9.0           0.014867  \n",
       "aedhigh1_4.0                               0.007700  \n",
       "interact_ahgsex_2.0_aedhigh1_3.0           0.009735  "
      ]
     },
     "metadata": {},
     "output_type": "display_data"
    }
   ],
   "source": [
    "from direct_regression import display_feature_importance\n",
    "display_feature_importance(models0, models1, results, features);"
   ]
  },
  {
   "cell_type": "markdown",
   "id": "18",
   "metadata": {
    "papermill": {
     "duration": 0.045242,
     "end_time": "2021-11-24T08:00:35.653502",
     "exception": false,
     "start_time": "2021-11-24T08:00:35.608260",
     "status": "completed"
    },
    "tags": []
   },
   "source": [
    "### What are the major confounders\n",
    "\n",
    "  - We want to identify variables that strongly effect both treatment and outcome\n",
    "   \n",
    "For each variable Z, in the covariate set lets compute $E[Z|T=1] - E[Z|T=0]$"
   ]
  },
  {
   "cell_type": "code",
   "execution_count": 12,
   "id": "19",
   "metadata": {
    "execution": {
     "iopub.execute_input": "2021-11-24T08:00:35.748041Z",
     "iopub.status.busy": "2021-11-24T08:00:35.747542Z",
     "iopub.status.idle": "2021-11-24T08:00:35.768433Z",
     "shell.execute_reply": "2021-11-24T08:00:35.768929Z"
    },
    "papermill": {
     "duration": 0.070119,
     "end_time": "2021-11-24T08:00:35.769093",
     "exception": false,
     "start_time": "2021-11-24T08:00:35.698974",
     "status": "completed"
    },
    "tags": [
     "hide_cell"
    ]
   },
   "outputs": [
    {
     "data": {
      "text/html": [
       "<div>\n",
       "<style scoped>\n",
       "    .dataframe tbody tr th:only-of-type {\n",
       "        vertical-align: middle;\n",
       "    }\n",
       "\n",
       "    .dataframe tbody tr th {\n",
       "        vertical-align: top;\n",
       "    }\n",
       "\n",
       "    .dataframe thead th {\n",
       "        text-align: right;\n",
       "    }\n",
       "</style>\n",
       "<table border=\"1\" class=\"dataframe\">\n",
       "  <thead>\n",
       "    <tr style=\"text-align: right;\">\n",
       "      <th></th>\n",
       "      <th>response_coef</th>\n",
       "      <th>treatment_inf</th>\n",
       "      <th>confound</th>\n",
       "    </tr>\n",
       "  </thead>\n",
       "  <tbody>\n",
       "    <tr>\n",
       "      <th>ahgage_(54, 120]</th>\n",
       "      <td>-0.566253</td>\n",
       "      <td>-0.574540</td>\n",
       "      <td>0.325335</td>\n",
       "    </tr>\n",
       "    <tr>\n",
       "      <th>ahgage_(44, 54]</th>\n",
       "      <td>-0.500709</td>\n",
       "      <td>-0.116053</td>\n",
       "      <td>0.058109</td>\n",
       "    </tr>\n",
       "    <tr>\n",
       "      <th>aesdtl_3.0</th>\n",
       "      <td>-0.171150</td>\n",
       "      <td>-0.291709</td>\n",
       "      <td>0.049926</td>\n",
       "    </tr>\n",
       "    <tr>\n",
       "      <th>ahgage_(34, 44]</th>\n",
       "      <td>-0.093023</td>\n",
       "      <td>0.252289</td>\n",
       "      <td>0.023469</td>\n",
       "    </tr>\n",
       "    <tr>\n",
       "      <th>aedhigh1_9.0</th>\n",
       "      <td>-0.072143</td>\n",
       "      <td>-0.283646</td>\n",
       "      <td>0.020463</td>\n",
       "    </tr>\n",
       "    <tr>\n",
       "      <th>interact_ahgsex_2.0_ahgage_(54, 120]</th>\n",
       "      <td>0.034004</td>\n",
       "      <td>-0.405574</td>\n",
       "      <td>0.013791</td>\n",
       "    </tr>\n",
       "    <tr>\n",
       "      <th>interact_ahgsex_2.0_ahgage_(34, 44]</th>\n",
       "      <td>-0.030138</td>\n",
       "      <td>0.261578</td>\n",
       "      <td>0.007883</td>\n",
       "    </tr>\n",
       "    <tr>\n",
       "      <th>aesdtl_2.0</th>\n",
       "      <td>-0.059739</td>\n",
       "      <td>0.091144</td>\n",
       "      <td>0.005445</td>\n",
       "    </tr>\n",
       "    <tr>\n",
       "      <th>interact_ahgsex_2.0_aesdtl_2.0</th>\n",
       "      <td>0.040198</td>\n",
       "      <td>0.135050</td>\n",
       "      <td>0.005429</td>\n",
       "    </tr>\n",
       "    <tr>\n",
       "      <th>interact_ahgsex_2.0_aesdtl_3.0</th>\n",
       "      <td>0.019562</td>\n",
       "      <td>-0.177558</td>\n",
       "      <td>0.003473</td>\n",
       "    </tr>\n",
       "    <tr>\n",
       "      <th>ahgsex_2.0</th>\n",
       "      <td>-0.020777</td>\n",
       "      <td>0.098549</td>\n",
       "      <td>0.002048</td>\n",
       "    </tr>\n",
       "    <tr>\n",
       "      <th>aedhigh1_8.0</th>\n",
       "      <td>-0.024047</td>\n",
       "      <td>0.070365</td>\n",
       "      <td>0.001692</td>\n",
       "    </tr>\n",
       "    <tr>\n",
       "      <th>interact_ahgsex_2.0_aedhigh1_5.0</th>\n",
       "      <td>-0.019938</td>\n",
       "      <td>0.066257</td>\n",
       "      <td>0.001321</td>\n",
       "    </tr>\n",
       "    <tr>\n",
       "      <th>interact_ahgsex_2.0_ahgage_(44, 54]</th>\n",
       "      <td>0.021371</td>\n",
       "      <td>-0.055894</td>\n",
       "      <td>0.001195</td>\n",
       "    </tr>\n",
       "    <tr>\n",
       "      <th>interact_ahgsex_2.0_aedhigh1_3.0</th>\n",
       "      <td>0.006943</td>\n",
       "      <td>0.131533</td>\n",
       "      <td>0.000913</td>\n",
       "    </tr>\n",
       "    <tr>\n",
       "      <th>aedhigh1_3.0</th>\n",
       "      <td>0.008053</td>\n",
       "      <td>0.103693</td>\n",
       "      <td>0.000835</td>\n",
       "    </tr>\n",
       "    <tr>\n",
       "      <th>interact_ahgsex_2.0_aedhigh1_4.0</th>\n",
       "      <td>0.010650</td>\n",
       "      <td>0.064154</td>\n",
       "      <td>0.000683</td>\n",
       "    </tr>\n",
       "    <tr>\n",
       "      <th>aedhigh1_4.0</th>\n",
       "      <td>-0.010746</td>\n",
       "      <td>0.050478</td>\n",
       "      <td>0.000542</td>\n",
       "    </tr>\n",
       "    <tr>\n",
       "      <th>interact_ahgsex_2.0_aedhigh1_9.0</th>\n",
       "      <td>-0.003142</td>\n",
       "      <td>-0.162992</td>\n",
       "      <td>0.000512</td>\n",
       "    </tr>\n",
       "    <tr>\n",
       "      <th>interact_ahgsex_2.0_aedhigh1_8.0</th>\n",
       "      <td>0.004530</td>\n",
       "      <td>0.108575</td>\n",
       "      <td>0.000492</td>\n",
       "    </tr>\n",
       "    <tr>\n",
       "      <th>aedhigh1_5.0</th>\n",
       "      <td>0.003232</td>\n",
       "      <td>0.022670</td>\n",
       "      <td>0.000073</td>\n",
       "    </tr>\n",
       "  </tbody>\n",
       "</table>\n",
       "</div>"
      ],
      "text/plain": [
       "                                      response_coef  treatment_inf  confound\n",
       "ahgage_(54, 120]                          -0.566253      -0.574540  0.325335\n",
       "ahgage_(44, 54]                           -0.500709      -0.116053  0.058109\n",
       "aesdtl_3.0                                -0.171150      -0.291709  0.049926\n",
       "ahgage_(34, 44]                           -0.093023       0.252289  0.023469\n",
       "aedhigh1_9.0                              -0.072143      -0.283646  0.020463\n",
       "interact_ahgsex_2.0_ahgage_(54, 120]       0.034004      -0.405574  0.013791\n",
       "interact_ahgsex_2.0_ahgage_(34, 44]       -0.030138       0.261578  0.007883\n",
       "aesdtl_2.0                                -0.059739       0.091144  0.005445\n",
       "interact_ahgsex_2.0_aesdtl_2.0             0.040198       0.135050  0.005429\n",
       "interact_ahgsex_2.0_aesdtl_3.0             0.019562      -0.177558  0.003473\n",
       "ahgsex_2.0                                -0.020777       0.098549  0.002048\n",
       "aedhigh1_8.0                              -0.024047       0.070365  0.001692\n",
       "interact_ahgsex_2.0_aedhigh1_5.0          -0.019938       0.066257  0.001321\n",
       "interact_ahgsex_2.0_ahgage_(44, 54]        0.021371      -0.055894  0.001195\n",
       "interact_ahgsex_2.0_aedhigh1_3.0           0.006943       0.131533  0.000913\n",
       "aedhigh1_3.0                               0.008053       0.103693  0.000835\n",
       "interact_ahgsex_2.0_aedhigh1_4.0           0.010650       0.064154  0.000683\n",
       "aedhigh1_4.0                              -0.010746       0.050478  0.000542\n",
       "interact_ahgsex_2.0_aedhigh1_9.0          -0.003142      -0.162992  0.000512\n",
       "interact_ahgsex_2.0_aedhigh1_8.0           0.004530       0.108575  0.000492\n",
       "aedhigh1_5.0                               0.003232       0.022670  0.000073"
      ]
     },
     "execution_count": 12,
     "metadata": {},
     "output_type": "execute_result"
    }
   ],
   "source": [
    "Xt = np.hstack((t.reshape(-1,1),X))\n",
    "model = LinearRegression()\n",
    "model.fit(Xt,y)\n",
    "beta = model.coef_[1:]\n",
    "\n",
    "confound = pd.DataFrame({'response_coef':beta, 'treatment_inf':X1.mean(axis=0) - X0.mean(axis=0)},index=features)\n",
    "confound['confound'] = np.abs(confound['response_coef'])*np.abs(confound['treatment_inf'])\n",
    "confound.sort_values(by='confound',ascending=False)"
   ]
  },
  {
   "cell_type": "code",
   "execution_count": 13,
   "id": "20",
   "metadata": {
    "execution": {
     "iopub.execute_input": "2021-11-24T08:00:35.884017Z",
     "iopub.status.busy": "2021-11-24T08:00:35.883725Z",
     "iopub.status.idle": "2021-11-24T08:00:36.064663Z",
     "shell.execute_reply": "2021-11-24T08:00:36.064332Z"
    },
    "papermill": {
     "duration": 0.229953,
     "end_time": "2021-11-24T08:00:36.064737",
     "exception": false,
     "start_time": "2021-11-24T08:00:35.834784",
     "status": "completed"
    },
    "tags": [
     "hide_input"
    ]
   },
   "outputs": [
    {
     "data": {
      "image/png": "[encoded data removed]",
      "text/plain": [
       "<Figure size 432x288 with 1 Axes>"
      ]
     },
     "metadata": {
      "needs_background": "light"
     },
     "output_type": "display_data"
    }
   ],
   "source": [
    "p_model = LogisticRegression()\n",
    "p_model.fit(X,t)\n",
    "p_model.coef_\n",
    "p = p_model.predict_proba(X)[:,1]\n",
    "from sklearn.metrics import roc_curve, roc_auc_score\n",
    "auc = roc_auc_score(t,p)\n",
    "fpr, tpr, _ = roc_curve(t,p)\n",
    "plt.plot(fpr, tpr,label=f'auc={auc:.2f}')\n",
    "plt.legend(loc='lower right')\n",
    "plt.xlabel(\"False Positive Rate\")\n",
    "plt.ylabel(\"True Positive Rate\")\n",
    "plt.title(\"ROC curve: Predicting treatment given observed covariates\");"
   ]
  },
  {
   "cell_type": "code",
   "execution_count": 14,
   "id": "21",
   "metadata": {
    "execution": {
     "iopub.execute_input": "2021-11-24T08:00:36.161230Z",
     "iopub.status.busy": "2021-11-24T08:00:36.160928Z",
     "iopub.status.idle": "2021-11-24T08:00:38.972313Z",
     "shell.execute_reply": "2021-11-24T08:00:38.972569Z"
    },
    "papermill": {
     "duration": 2.861497,
     "end_time": "2021-11-24T08:00:38.972671",
     "exception": false,
     "start_time": "2021-11-24T08:00:36.111174",
     "status": "completed"
    },
    "tags": [
     "hide_cell"
    ]
   },
   "outputs": [
    {
     "name": "stdout",
     "output_type": "stream",
     "text": [
      "Fitting OLS ..."
     ]
    },
    {
     "name": "stdout",
     "output_type": "stream",
     "text": [
      "Done\n",
      "Total time:2.7995450496673584 seconds\n"
     ]
    }
   ],
   "source": [
    "from direct_regression import bootstrapped_cross_val\n",
    "def extract_params(estimator):\n",
    "    return estimator.coef_\n",
    "\n",
    "\n",
    "bootstrap_results = bootstrapped_cross_val(\n",
    "    construct_models,\n",
    "    None,\n",
    "    X0, X1, y0, y1,\n",
    "    optimisation_metric,\n",
    "    extract_params,\n",
    "    inner_cv=inner_cv,\n",
    "    load_from_cache=False,\n",
    "    samples=bootstrap_samples\n",
    ")"
   ]
  },
  {
   "cell_type": "markdown",
   "id": "22",
   "metadata": {
    "papermill": {
     "duration": 0.062133,
     "end_time": "2021-11-24T08:00:39.084906",
     "exception": false,
     "start_time": "2021-11-24T08:00:39.022773",
     "status": "completed"
    },
    "tags": []
   },
   "source": [
    "####  Average treatment effect uncertainty via Bootstrapping"
   ]
  },
  {
   "cell_type": "code",
   "execution_count": 15,
   "id": "23",
   "metadata": {
    "execution": {
     "iopub.execute_input": "2021-11-24T08:00:39.185812Z",
     "iopub.status.busy": "2021-11-24T08:00:39.185495Z",
     "iopub.status.idle": "2021-11-24T08:00:39.763632Z",
     "shell.execute_reply": "2021-11-24T08:00:39.764123Z"
    },
    "papermill": {
     "duration": 0.631135,
     "end_time": "2021-11-24T08:00:39.764221",
     "exception": false,
     "start_time": "2021-11-24T08:00:39.133086",
     "status": "completed"
    },
    "tags": [
     "hide_input"
    ]
   },
   "outputs": [
    {
     "data": {
      "text/html": [
       "<div>\n",
       "<style scoped>\n",
       "    .dataframe tbody tr th:only-of-type {\n",
       "        vertical-align: middle;\n",
       "    }\n",
       "\n",
       "    .dataframe tbody tr th {\n",
       "        vertical-align: top;\n",
       "    }\n",
       "\n",
       "    .dataframe thead th {\n",
       "        text-align: right;\n",
       "    }\n",
       "</style>\n",
       "<table border=\"1\" class=\"dataframe\">\n",
       "  <thead>\n",
       "    <tr style=\"text-align: right;\">\n",
       "      <th></th>\n",
       "      <th>ACE</th>\n",
       "      <th>ACE_std</th>\n",
       "    </tr>\n",
       "  </thead>\n",
       "  <tbody>\n",
       "    <tr>\n",
       "      <th>OLS</th>\n",
       "      <td>0.070909</td>\n",
       "      <td>0.027924</td>\n",
       "    </tr>\n",
       "  </tbody>\n",
       "</table>\n",
       "</div>"
      ],
      "text/plain": [
       "          ACE   ACE_std\n",
       "OLS  0.070909  0.027924"
      ]
     },
     "metadata": {},
     "output_type": "display_data"
    },
    {
     "data": {
      "image/png": "[encoded data removed]",
      "text/plain": [
       "<Figure size 360x360 with 1 Axes>"
      ]
     },
     "metadata": {
      "needs_background": "light"
     },
     "output_type": "display_data"
    }
   ],
   "source": [
    "from direct_regression import compute_ate\n",
    "\n",
    "metrics, tau_estimatesb = compute_ate(bootstrap_results,X)\n",
    "display(metrics)\n",
    "plot_ate_distribution(tau_estimatesb)"
   ]
  },
  {
   "cell_type": "markdown",
   "id": "24",
   "metadata": {
    "papermill": {
     "duration": 0.051897,
     "end_time": "2021-11-24T08:00:39.868418",
     "exception": false,
     "start_time": "2021-11-24T08:00:39.816521",
     "status": "completed"
    },
    "tags": []
   },
   "source": [
    "## Statsmodels\n",
    "\n",
    "Statsmodels provides a useful comparison, in that it is an independent implementation of OLS and provides theory based confidence intervals and p-values."
   ]
  },
  {
   "cell_type": "markdown",
   "id": "25",
   "metadata": {
    "papermill": {
     "duration": 0.051097,
     "end_time": "2021-11-24T08:00:39.971201",
     "exception": false,
     "start_time": "2021-11-24T08:00:39.920104",
     "status": "completed"
    },
    "tags": []
   },
   "source": [
    "### Control Model"
   ]
  },
  {
   "cell_type": "code",
   "execution_count": 16,
   "id": "26",
   "metadata": {
    "execution": {
     "iopub.execute_input": "2021-11-24T08:00:40.075660Z",
     "iopub.status.busy": "2021-11-24T08:00:40.075350Z",
     "iopub.status.idle": "2021-11-24T08:00:40.127925Z",
     "shell.execute_reply": "2021-11-24T08:00:40.128499Z"
    },
    "papermill": {
     "duration": 0.106379,
     "end_time": "2021-11-24T08:00:40.128687",
     "exception": false,
     "start_time": "2021-11-24T08:00:40.022308",
     "status": "completed"
    },
    "tags": [
     "hide_input"
    ]
   },
   "outputs": [
    {
     "data": {
      "text/html": [
       "<table class=\"simpletable\">\n",
       "<caption>OLS Regression Results</caption>\n",
       "<tr>\n",
       "  <th>Dep. Variable:</th>            <td>y</td>        <th>  R-squared:         </th> <td>   0.413</td>\n",
       "</tr>\n",
       "<tr>\n",
       "  <th>Model:</th>                   <td>OLS</td>       <th>  Adj. R-squared:    </th> <td>   0.410</td>\n",
       "</tr>\n",
       "<tr>\n",
       "  <th>Method:</th>             <td>Least Squares</td>  <th>  F-statistic:       </th> <td>   126.2</td>\n",
       "</tr>\n",
       "<tr>\n",
       "  <th>Date:</th>             <td>Wed, 24 Nov 2021</td> <th>  Prob (F-statistic):</th>  <td>  0.00</td> \n",
       "</tr>\n",
       "<tr>\n",
       "  <th>Time:</th>                 <td>19:00:40</td>     <th>  Log-Likelihood:    </th> <td> -4217.0</td>\n",
       "</tr>\n",
       "<tr>\n",
       "  <th>No. Observations:</th>      <td>  3789</td>      <th>  AIC:               </th> <td>   8478.</td>\n",
       "</tr>\n",
       "<tr>\n",
       "  <th>Df Residuals:</th>          <td>  3767</td>      <th>  BIC:               </th> <td>   8615.</td>\n",
       "</tr>\n",
       "<tr>\n",
       "  <th>Df Model:</th>              <td>    21</td>      <th>                     </th>     <td> </td>   \n",
       "</tr>\n",
       "<tr>\n",
       "  <th>Covariance Type:</th>      <td>nonrobust</td>    <th>                     </th>     <td> </td>   \n",
       "</tr>\n",
       "</table>\n",
       "<table class=\"simpletable\">\n",
       "<tr>\n",
       "                    <td></td>                      <th>coef</th>     <th>std err</th>      <th>t</th>      <th>P>|t|</th>  <th>[0.025</th>    <th>0.975]</th>  \n",
       "</tr>\n",
       "<tr>\n",
       "  <th>intercept</th>                            <td>   -0.0306</td> <td>    0.012</td> <td>   -2.499</td> <td> 0.012</td> <td>   -0.055</td> <td>   -0.007</td>\n",
       "</tr>\n",
       "<tr>\n",
       "  <th>ahgage_(34, 44]</th>                      <td>   -0.0649</td> <td>    0.024</td> <td>   -2.653</td> <td> 0.008</td> <td>   -0.113</td> <td>   -0.017</td>\n",
       "</tr>\n",
       "<tr>\n",
       "  <th>ahgage_(44, 54]</th>                      <td>   -0.5045</td> <td>    0.024</td> <td>  -21.140</td> <td> 0.000</td> <td>   -0.551</td> <td>   -0.458</td>\n",
       "</tr>\n",
       "<tr>\n",
       "  <th>ahgage_(54, 120]</th>                     <td>   -0.5550</td> <td>    0.025</td> <td>  -22.226</td> <td> 0.000</td> <td>   -0.604</td> <td>   -0.506</td>\n",
       "</tr>\n",
       "<tr>\n",
       "  <th>ahgsex_2.0</th>                           <td>   -0.0295</td> <td>    0.049</td> <td>   -0.607</td> <td> 0.544</td> <td>   -0.125</td> <td>    0.066</td>\n",
       "</tr>\n",
       "<tr>\n",
       "  <th>aedhigh1_3.0</th>                         <td>    0.0104</td> <td>    0.024</td> <td>    0.426</td> <td> 0.670</td> <td>   -0.038</td> <td>    0.058</td>\n",
       "</tr>\n",
       "<tr>\n",
       "  <th>aedhigh1_4.0</th>                         <td>   -0.0154</td> <td>    0.023</td> <td>   -0.671</td> <td> 0.502</td> <td>   -0.060</td> <td>    0.030</td>\n",
       "</tr>\n",
       "<tr>\n",
       "  <th>aedhigh1_5.0</th>                         <td>   -0.0109</td> <td>    0.025</td> <td>   -0.444</td> <td> 0.657</td> <td>   -0.059</td> <td>    0.037</td>\n",
       "</tr>\n",
       "<tr>\n",
       "  <th>aedhigh1_8.0</th>                         <td>   -0.0104</td> <td>    0.026</td> <td>   -0.404</td> <td> 0.687</td> <td>   -0.061</td> <td>    0.040</td>\n",
       "</tr>\n",
       "<tr>\n",
       "  <th>aedhigh1_9.0</th>                         <td>   -0.0643</td> <td>    0.031</td> <td>   -2.092</td> <td> 0.036</td> <td>   -0.124</td> <td>   -0.004</td>\n",
       "</tr>\n",
       "<tr>\n",
       "  <th>aesdtl_2.0</th>                           <td>   -0.0611</td> <td>    0.026</td> <td>   -2.370</td> <td> 0.018</td> <td>   -0.112</td> <td>   -0.011</td>\n",
       "</tr>\n",
       "<tr>\n",
       "  <th>aesdtl_3.0</th>                           <td>   -0.1613</td> <td>    0.023</td> <td>   -7.087</td> <td> 0.000</td> <td>   -0.206</td> <td>   -0.117</td>\n",
       "</tr>\n",
       "<tr>\n",
       "  <th>interact_ahgsex_2.0_ahgage_(34, 44]</th>  <td>   -0.0378</td> <td>    0.027</td> <td>   -1.396</td> <td> 0.163</td> <td>   -0.091</td> <td>    0.015</td>\n",
       "</tr>\n",
       "<tr>\n",
       "  <th>interact_ahgsex_2.0_ahgage_(44, 54]</th>  <td>    0.0361</td> <td>    0.026</td> <td>    1.393</td> <td> 0.164</td> <td>   -0.015</td> <td>    0.087</td>\n",
       "</tr>\n",
       "<tr>\n",
       "  <th>interact_ahgsex_2.0_ahgage_(54, 120]</th> <td>    0.0442</td> <td>    0.027</td> <td>    1.658</td> <td> 0.097</td> <td>   -0.008</td> <td>    0.097</td>\n",
       "</tr>\n",
       "<tr>\n",
       "  <th>interact_ahgsex_2.0_aedhigh1_3.0</th>     <td>    0.0156</td> <td>    0.026</td> <td>    0.592</td> <td> 0.554</td> <td>   -0.036</td> <td>    0.067</td>\n",
       "</tr>\n",
       "<tr>\n",
       "  <th>interact_ahgsex_2.0_aedhigh1_4.0</th>     <td>    0.0244</td> <td>    0.024</td> <td>    1.008</td> <td> 0.314</td> <td>   -0.023</td> <td>    0.072</td>\n",
       "</tr>\n",
       "<tr>\n",
       "  <th>interact_ahgsex_2.0_aedhigh1_5.0</th>     <td>   -0.0072</td> <td>    0.023</td> <td>   -0.319</td> <td> 0.750</td> <td>   -0.052</td> <td>    0.037</td>\n",
       "</tr>\n",
       "<tr>\n",
       "  <th>interact_ahgsex_2.0_aedhigh1_8.0</th>     <td>   -0.0084</td> <td>    0.029</td> <td>   -0.293</td> <td> 0.770</td> <td>   -0.065</td> <td>    0.048</td>\n",
       "</tr>\n",
       "<tr>\n",
       "  <th>interact_ahgsex_2.0_aedhigh1_9.0</th>     <td>   -0.0001</td> <td>    0.039</td> <td>   -0.003</td> <td> 0.998</td> <td>   -0.076</td> <td>    0.076</td>\n",
       "</tr>\n",
       "<tr>\n",
       "  <th>interact_ahgsex_2.0_aesdtl_2.0</th>       <td>    0.0314</td> <td>    0.029</td> <td>    1.087</td> <td> 0.277</td> <td>   -0.025</td> <td>    0.088</td>\n",
       "</tr>\n",
       "<tr>\n",
       "  <th>interact_ahgsex_2.0_aesdtl_3.0</th>       <td>   -0.0037</td> <td>    0.027</td> <td>   -0.137</td> <td> 0.891</td> <td>   -0.057</td> <td>    0.050</td>\n",
       "</tr>\n",
       "</table>\n",
       "<table class=\"simpletable\">\n",
       "<tr>\n",
       "  <th>Omnibus:</th>       <td> 4.482</td> <th>  Durbin-Watson:     </th> <td>   1.973</td>\n",
       "</tr>\n",
       "<tr>\n",
       "  <th>Prob(Omnibus):</th> <td> 0.106</td> <th>  Jarque-Bera (JB):  </th> <td>   4.527</td>\n",
       "</tr>\n",
       "<tr>\n",
       "  <th>Skew:</th>          <td>-0.082</td> <th>  Prob(JB):          </th> <td>   0.104</td>\n",
       "</tr>\n",
       "<tr>\n",
       "  <th>Kurtosis:</th>      <td> 2.956</td> <th>  Cond. No.          </th> <td>    13.0</td>\n",
       "</tr>\n",
       "</table><br/><br/>Notes:<br/>[1] Standard Errors assume that the covariance matrix of the errors is correctly specified."
      ],
      "text/plain": [
       "<class 'statsmodels.iolib.summary.Summary'>\n",
       "\"\"\"\n",
       "                            OLS Regression Results                            \n",
       "==============================================================================\n",
       "Dep. Variable:                      y   R-squared:                       0.413\n",
       "Model:                            OLS   Adj. R-squared:                  0.410\n",
       "Method:                 Least Squares   F-statistic:                     126.2\n",
       "Date:                Wed, 24 Nov 2021   Prob (F-statistic):               0.00\n",
       "Time:                        19:00:40   Log-Likelihood:                -4217.0\n",
       "No. Observations:                3789   AIC:                             8478.\n",
       "Df Residuals:                    3767   BIC:                             8615.\n",
       "Df Model:                          21                                         \n",
       "Covariance Type:            nonrobust                                         \n",
       "========================================================================================================\n",
       "                                           coef    std err          t      P>|t|      [0.025      0.975]\n",
       "--------------------------------------------------------------------------------------------------------\n",
       "intercept                               -0.0306      0.012     -2.499      0.012      -0.055      -0.007\n",
       "ahgage_(34, 44]                         -0.0649      0.024     -2.653      0.008      -0.113      -0.017\n",
       "ahgage_(44, 54]                         -0.5045      0.024    -21.140      0.000      -0.551      -0.458\n",
       "ahgage_(54, 120]                        -0.5550      0.025    -22.226      0.000      -0.604      -0.506\n",
       "ahgsex_2.0                              -0.0295      0.049     -0.607      0.544      -0.125       0.066\n",
       "aedhigh1_3.0                             0.0104      0.024      0.426      0.670      -0.038       0.058\n",
       "aedhigh1_4.0                            -0.0154      0.023     -0.671      0.502      -0.060       0.030\n",
       "aedhigh1_5.0                            -0.0109      0.025     -0.444      0.657      -0.059       0.037\n",
       "aedhigh1_8.0                            -0.0104      0.026     -0.404      0.687      -0.061       0.040\n",
       "aedhigh1_9.0                            -0.0643      0.031     -2.092      0.036      -0.124      -0.004\n",
       "aesdtl_2.0                              -0.0611      0.026     -2.370      0.018      -0.112      -0.011\n",
       "aesdtl_3.0                              -0.1613      0.023     -7.087      0.000      -0.206      -0.117\n",
       "interact_ahgsex_2.0_ahgage_(34, 44]     -0.0378      0.027     -1.396      0.163      -0.091       0.015\n",
       "interact_ahgsex_2.0_ahgage_(44, 54]      0.0361      0.026      1.393      0.164      -0.015       0.087\n",
       "interact_ahgsex_2.0_ahgage_(54, 120]     0.0442      0.027      1.658      0.097      -0.008       0.097\n",
       "interact_ahgsex_2.0_aedhigh1_3.0         0.0156      0.026      0.592      0.554      -0.036       0.067\n",
       "interact_ahgsex_2.0_aedhigh1_4.0         0.0244      0.024      1.008      0.314      -0.023       0.072\n",
       "interact_ahgsex_2.0_aedhigh1_5.0        -0.0072      0.023     -0.319      0.750      -0.052       0.037\n",
       "interact_ahgsex_2.0_aedhigh1_8.0        -0.0084      0.029     -0.293      0.770      -0.065       0.048\n",
       "interact_ahgsex_2.0_aedhigh1_9.0        -0.0001      0.039     -0.003      0.998      -0.076       0.076\n",
       "interact_ahgsex_2.0_aesdtl_2.0           0.0314      0.029      1.087      0.277      -0.025       0.088\n",
       "interact_ahgsex_2.0_aesdtl_3.0          -0.0037      0.027     -0.137      0.891      -0.057       0.050\n",
       "==============================================================================\n",
       "Omnibus:                        4.482   Durbin-Watson:                   1.973\n",
       "Prob(Omnibus):                  0.106   Jarque-Bera (JB):                4.527\n",
       "Skew:                          -0.082   Prob(JB):                        0.104\n",
       "Kurtosis:                       2.956   Cond. No.                         13.0\n",
       "==============================================================================\n",
       "\n",
       "Notes:\n",
       "[1] Standard Errors assume that the covariance matrix of the errors is correctly specified.\n",
       "\"\"\""
      ]
     },
     "execution_count": 16,
     "metadata": {},
     "output_type": "execute_result"
    }
   ],
   "source": [
    "x0 = sm.add_constant(X0)\n",
    "x0 = pd.DataFrame(x0, columns=['intercept']+features)\n",
    "model0 = sm.OLS(y0,x0)\n",
    "sm_result = model0.fit()\n",
    "sm_result.summary()"
   ]
  },
  {
   "cell_type": "markdown",
   "id": "27",
   "metadata": {
    "papermill": {
     "duration": 0.055647,
     "end_time": "2021-11-24T08:00:40.279356",
     "exception": false,
     "start_time": "2021-11-24T08:00:40.223709",
     "status": "completed"
    },
    "tags": []
   },
   "source": [
    "### Treated Model"
   ]
  },
  {
   "cell_type": "code",
   "execution_count": 17,
   "id": "28",
   "metadata": {
    "execution": {
     "iopub.execute_input": "2021-11-24T08:00:40.391555Z",
     "iopub.status.busy": "2021-11-24T08:00:40.391233Z",
     "iopub.status.idle": "2021-11-24T08:00:40.441144Z",
     "shell.execute_reply": "2021-11-24T08:00:40.441731Z"
    },
    "papermill": {
     "duration": 0.107902,
     "end_time": "2021-11-24T08:00:40.441915",
     "exception": false,
     "start_time": "2021-11-24T08:00:40.334013",
     "status": "completed"
    },
    "tags": [
     "hide_input"
    ]
   },
   "outputs": [
    {
     "data": {
      "text/html": [
       "<table class=\"simpletable\">\n",
       "<caption>OLS Regression Results</caption>\n",
       "<tr>\n",
       "  <th>Dep. Variable:</th>            <td>y</td>        <th>  R-squared:         </th> <td>   0.262</td>\n",
       "</tr>\n",
       "<tr>\n",
       "  <th>Model:</th>                   <td>OLS</td>       <th>  Adj. R-squared:    </th> <td>   0.251</td>\n",
       "</tr>\n",
       "<tr>\n",
       "  <th>Method:</th>             <td>Least Squares</td>  <th>  F-statistic:       </th> <td>   22.76</td>\n",
       "</tr>\n",
       "<tr>\n",
       "  <th>Date:</th>             <td>Wed, 24 Nov 2021</td> <th>  Prob (F-statistic):</th> <td>3.27e-74</td>\n",
       "</tr>\n",
       "<tr>\n",
       "  <th>Time:</th>                 <td>19:00:40</td>     <th>  Log-Likelihood:    </th> <td> -1746.6</td>\n",
       "</tr>\n",
       "<tr>\n",
       "  <th>No. Observations:</th>      <td>  1368</td>      <th>  AIC:               </th> <td>   3537.</td>\n",
       "</tr>\n",
       "<tr>\n",
       "  <th>Df Residuals:</th>          <td>  1346</td>      <th>  BIC:               </th> <td>   3652.</td>\n",
       "</tr>\n",
       "<tr>\n",
       "  <th>Df Model:</th>              <td>    21</td>      <th>                     </th>     <td> </td>   \n",
       "</tr>\n",
       "<tr>\n",
       "  <th>Covariance Type:</th>      <td>nonrobust</td>    <th>                     </th>     <td> </td>   \n",
       "</tr>\n",
       "</table>\n",
       "<table class=\"simpletable\">\n",
       "<tr>\n",
       "                    <td></td>                      <th>coef</th>     <th>std err</th>      <th>t</th>      <th>P>|t|</th>  <th>[0.025</th>    <th>0.975]</th>  \n",
       "</tr>\n",
       "<tr>\n",
       "  <th>intercept</th>                            <td>    0.0413</td> <td>    0.031</td> <td>    1.318</td> <td> 0.188</td> <td>   -0.020</td> <td>    0.103</td>\n",
       "</tr>\n",
       "<tr>\n",
       "  <th>ahgage_(34, 44]</th>                      <td>   -0.1517</td> <td>    0.039</td> <td>   -3.851</td> <td> 0.000</td> <td>   -0.229</td> <td>   -0.074</td>\n",
       "</tr>\n",
       "<tr>\n",
       "  <th>ahgage_(44, 54]</th>                      <td>   -0.4724</td> <td>    0.043</td> <td>  -10.887</td> <td> 0.000</td> <td>   -0.557</td> <td>   -0.387</td>\n",
       "</tr>\n",
       "<tr>\n",
       "  <th>ahgage_(54, 120]</th>                     <td>   -0.6433</td> <td>    0.069</td> <td>   -9.378</td> <td> 0.000</td> <td>   -0.778</td> <td>   -0.509</td>\n",
       "</tr>\n",
       "<tr>\n",
       "  <th>ahgsex_2.0</th>                           <td>   -0.0104</td> <td>    0.073</td> <td>   -0.143</td> <td> 0.886</td> <td>   -0.153</td> <td>    0.132</td>\n",
       "</tr>\n",
       "<tr>\n",
       "  <th>aedhigh1_3.0</th>                         <td>    0.0020</td> <td>    0.043</td> <td>    0.046</td> <td> 0.963</td> <td>   -0.083</td> <td>    0.087</td>\n",
       "</tr>\n",
       "<tr>\n",
       "  <th>aedhigh1_4.0</th>                         <td>    0.0048</td> <td>    0.041</td> <td>    0.118</td> <td> 0.906</td> <td>   -0.076</td> <td>    0.086</td>\n",
       "</tr>\n",
       "<tr>\n",
       "  <th>aedhigh1_5.0</th>                         <td>    0.0439</td> <td>    0.042</td> <td>    1.033</td> <td> 0.302</td> <td>   -0.039</td> <td>    0.127</td>\n",
       "</tr>\n",
       "<tr>\n",
       "  <th>aedhigh1_8.0</th>                         <td>   -0.0599</td> <td>    0.048</td> <td>   -1.237</td> <td> 0.216</td> <td>   -0.155</td> <td>    0.035</td>\n",
       "</tr>\n",
       "<tr>\n",
       "  <th>aedhigh1_9.0</th>                         <td>   -0.1200</td> <td>    0.060</td> <td>   -1.999</td> <td> 0.046</td> <td>   -0.238</td> <td>   -0.002</td>\n",
       "</tr>\n",
       "<tr>\n",
       "  <th>aesdtl_2.0</th>                           <td>   -0.0541</td> <td>    0.059</td> <td>   -0.917</td> <td> 0.359</td> <td>   -0.170</td> <td>    0.062</td>\n",
       "</tr>\n",
       "<tr>\n",
       "  <th>aesdtl_3.0</th>                           <td>   -0.2263</td> <td>    0.057</td> <td>   -3.976</td> <td> 0.000</td> <td>   -0.338</td> <td>   -0.115</td>\n",
       "</tr>\n",
       "<tr>\n",
       "  <th>interact_ahgsex_2.0_ahgage_(34, 44]</th>  <td>   -0.0017</td> <td>    0.041</td> <td>   -0.041</td> <td> 0.967</td> <td>   -0.082</td> <td>    0.079</td>\n",
       "</tr>\n",
       "<tr>\n",
       "  <th>interact_ahgsex_2.0_ahgage_(44, 54]</th>  <td>   -0.0150</td> <td>    0.046</td> <td>   -0.328</td> <td> 0.743</td> <td>   -0.105</td> <td>    0.075</td>\n",
       "</tr>\n",
       "<tr>\n",
       "  <th>interact_ahgsex_2.0_ahgage_(54, 120]</th> <td>    0.0242</td> <td>    0.074</td> <td>    0.329</td> <td> 0.743</td> <td>   -0.120</td> <td>    0.168</td>\n",
       "</tr>\n",
       "<tr>\n",
       "  <th>interact_ahgsex_2.0_aedhigh1_3.0</th>     <td>   -0.0087</td> <td>    0.044</td> <td>   -0.199</td> <td> 0.842</td> <td>   -0.095</td> <td>    0.077</td>\n",
       "</tr>\n",
       "<tr>\n",
       "  <th>interact_ahgsex_2.0_aedhigh1_4.0</th>     <td>   -0.0231</td> <td>    0.042</td> <td>   -0.555</td> <td> 0.579</td> <td>   -0.105</td> <td>    0.059</td>\n",
       "</tr>\n",
       "<tr>\n",
       "  <th>interact_ahgsex_2.0_aedhigh1_5.0</th>     <td>   -0.0506</td> <td>    0.038</td> <td>   -1.348</td> <td> 0.178</td> <td>   -0.124</td> <td>    0.023</td>\n",
       "</tr>\n",
       "<tr>\n",
       "  <th>interact_ahgsex_2.0_aedhigh1_8.0</th>     <td>    0.0360</td> <td>    0.050</td> <td>    0.713</td> <td> 0.476</td> <td>   -0.063</td> <td>    0.135</td>\n",
       "</tr>\n",
       "<tr>\n",
       "  <th>interact_ahgsex_2.0_aedhigh1_9.0</th>     <td>    0.0178</td> <td>    0.070</td> <td>    0.254</td> <td> 0.800</td> <td>   -0.120</td> <td>    0.155</td>\n",
       "</tr>\n",
       "<tr>\n",
       "  <th>interact_ahgsex_2.0_aesdtl_2.0</th>       <td>    0.0528</td> <td>    0.061</td> <td>    0.870</td> <td> 0.385</td> <td>   -0.066</td> <td>    0.172</td>\n",
       "</tr>\n",
       "<tr>\n",
       "  <th>interact_ahgsex_2.0_aesdtl_3.0</th>       <td>    0.0944</td> <td>    0.061</td> <td>    1.553</td> <td> 0.121</td> <td>   -0.025</td> <td>    0.214</td>\n",
       "</tr>\n",
       "</table>\n",
       "<table class=\"simpletable\">\n",
       "<tr>\n",
       "  <th>Omnibus:</th>       <td>160.553</td> <th>  Durbin-Watson:     </th> <td>   2.002</td>\n",
       "</tr>\n",
       "<tr>\n",
       "  <th>Prob(Omnibus):</th> <td> 0.000</td>  <th>  Jarque-Bera (JB):  </th> <td>  84.265</td>\n",
       "</tr>\n",
       "<tr>\n",
       "  <th>Skew:</th>          <td>-0.454</td>  <th>  Prob(JB):          </th> <td>5.04e-19</td>\n",
       "</tr>\n",
       "<tr>\n",
       "  <th>Kurtosis:</th>      <td> 2.191</td>  <th>  Cond. No.          </th> <td>    10.1</td>\n",
       "</tr>\n",
       "</table><br/><br/>Notes:<br/>[1] Standard Errors assume that the covariance matrix of the errors is correctly specified."
      ],
      "text/plain": [
       "<class 'statsmodels.iolib.summary.Summary'>\n",
       "\"\"\"\n",
       "                            OLS Regression Results                            \n",
       "==============================================================================\n",
       "Dep. Variable:                      y   R-squared:                       0.262\n",
       "Model:                            OLS   Adj. R-squared:                  0.251\n",
       "Method:                 Least Squares   F-statistic:                     22.76\n",
       "Date:                Wed, 24 Nov 2021   Prob (F-statistic):           3.27e-74\n",
       "Time:                        19:00:40   Log-Likelihood:                -1746.6\n",
       "No. Observations:                1368   AIC:                             3537.\n",
       "Df Residuals:                    1346   BIC:                             3652.\n",
       "Df Model:                          21                                         \n",
       "Covariance Type:            nonrobust                                         \n",
       "========================================================================================================\n",
       "                                           coef    std err          t      P>|t|      [0.025      0.975]\n",
       "--------------------------------------------------------------------------------------------------------\n",
       "intercept                                0.0413      0.031      1.318      0.188      -0.020       0.103\n",
       "ahgage_(34, 44]                         -0.1517      0.039     -3.851      0.000      -0.229      -0.074\n",
       "ahgage_(44, 54]                         -0.4724      0.043    -10.887      0.000      -0.557      -0.387\n",
       "ahgage_(54, 120]                        -0.6433      0.069     -9.378      0.000      -0.778      -0.509\n",
       "ahgsex_2.0                              -0.0104      0.073     -0.143      0.886      -0.153       0.132\n",
       "aedhigh1_3.0                             0.0020      0.043      0.046      0.963      -0.083       0.087\n",
       "aedhigh1_4.0                             0.0048      0.041      0.118      0.906      -0.076       0.086\n",
       "aedhigh1_5.0                             0.0439      0.042      1.033      0.302      -0.039       0.127\n",
       "aedhigh1_8.0                            -0.0599      0.048     -1.237      0.216      -0.155       0.035\n",
       "aedhigh1_9.0                            -0.1200      0.060     -1.999      0.046      -0.238      -0.002\n",
       "aesdtl_2.0                              -0.0541      0.059     -0.917      0.359      -0.170       0.062\n",
       "aesdtl_3.0                              -0.2263      0.057     -3.976      0.000      -0.338      -0.115\n",
       "interact_ahgsex_2.0_ahgage_(34, 44]     -0.0017      0.041     -0.041      0.967      -0.082       0.079\n",
       "interact_ahgsex_2.0_ahgage_(44, 54]     -0.0150      0.046     -0.328      0.743      -0.105       0.075\n",
       "interact_ahgsex_2.0_ahgage_(54, 120]     0.0242      0.074      0.329      0.743      -0.120       0.168\n",
       "interact_ahgsex_2.0_aedhigh1_3.0        -0.0087      0.044     -0.199      0.842      -0.095       0.077\n",
       "interact_ahgsex_2.0_aedhigh1_4.0        -0.0231      0.042     -0.555      0.579      -0.105       0.059\n",
       "interact_ahgsex_2.0_aedhigh1_5.0        -0.0506      0.038     -1.348      0.178      -0.124       0.023\n",
       "interact_ahgsex_2.0_aedhigh1_8.0         0.0360      0.050      0.713      0.476      -0.063       0.135\n",
       "interact_ahgsex_2.0_aedhigh1_9.0         0.0178      0.070      0.254      0.800      -0.120       0.155\n",
       "interact_ahgsex_2.0_aesdtl_2.0           0.0528      0.061      0.870      0.385      -0.066       0.172\n",
       "interact_ahgsex_2.0_aesdtl_3.0           0.0944      0.061      1.553      0.121      -0.025       0.214\n",
       "==============================================================================\n",
       "Omnibus:                      160.553   Durbin-Watson:                   2.002\n",
       "Prob(Omnibus):                  0.000   Jarque-Bera (JB):               84.265\n",
       "Skew:                          -0.454   Prob(JB):                     5.04e-19\n",
       "Kurtosis:                       2.191   Cond. No.                         10.1\n",
       "==============================================================================\n",
       "\n",
       "Notes:\n",
       "[1] Standard Errors assume that the covariance matrix of the errors is correctly specified.\n",
       "\"\"\""
      ]
     },
     "execution_count": 17,
     "metadata": {},
     "output_type": "execute_result"
    }
   ],
   "source": [
    "x1 = sm.add_constant(X1)\n",
    "x1 = pd.DataFrame(x1, columns=['intercept']+features)\n",
    "model1 = sm.OLS(y1,x1)\n",
    "sm_result = model1.fit()\n",
    "sm_result.summary()"
   ]
  },
  {
   "cell_type": "markdown",
   "id": "29",
   "metadata": {
    "papermill": {
     "duration": 0.055865,
     "end_time": "2021-11-24T08:00:40.593929",
     "exception": false,
     "start_time": "2021-11-24T08:00:40.538064",
     "status": "completed"
    },
    "tags": []
   },
   "source": [
    "### Fully coupled model\n",
    "Fit a single model for both treatment and control surfaces with a treatment indicator. \n",
    "\n",
    "```{note}\n",
    "This assumes there is no treatment effect heterogeneity\n",
    "```"
   ]
  },
  {
   "cell_type": "code",
   "execution_count": 18,
   "id": "30",
   "metadata": {
    "execution": {
     "iopub.execute_input": "2021-11-24T08:00:40.705336Z",
     "iopub.status.busy": "2021-11-24T08:00:40.705029Z",
     "iopub.status.idle": "2021-11-24T08:00:40.755618Z",
     "shell.execute_reply": "2021-11-24T08:00:40.756197Z"
    },
    "papermill": {
     "duration": 0.108312,
     "end_time": "2021-11-24T08:00:40.756384",
     "exception": false,
     "start_time": "2021-11-24T08:00:40.648072",
     "status": "completed"
    },
    "tags": [
     "hide_input"
    ]
   },
   "outputs": [
    {
     "data": {
      "text/html": [
       "<table class=\"simpletable\">\n",
       "<caption>OLS Regression Results</caption>\n",
       "<tr>\n",
       "  <th>Dep. Variable:</th>            <td>y</td>        <th>  R-squared:         </th> <td>   0.399</td> \n",
       "</tr>\n",
       "<tr>\n",
       "  <th>Model:</th>                   <td>OLS</td>       <th>  Adj. R-squared:    </th> <td>   0.396</td> \n",
       "</tr>\n",
       "<tr>\n",
       "  <th>Method:</th>             <td>Least Squares</td>  <th>  F-statistic:       </th> <td>   154.7</td> \n",
       "</tr>\n",
       "<tr>\n",
       "  <th>Date:</th>             <td>Wed, 24 Nov 2021</td> <th>  Prob (F-statistic):</th>  <td>  0.00</td>  \n",
       "</tr>\n",
       "<tr>\n",
       "  <th>Time:</th>                 <td>19:00:40</td>     <th>  Log-Likelihood:    </th> <td> -6005.6</td> \n",
       "</tr>\n",
       "<tr>\n",
       "  <th>No. Observations:</th>      <td>  5157</td>      <th>  AIC:               </th> <td>1.206e+04</td>\n",
       "</tr>\n",
       "<tr>\n",
       "  <th>Df Residuals:</th>          <td>  5134</td>      <th>  BIC:               </th> <td>1.221e+04</td>\n",
       "</tr>\n",
       "<tr>\n",
       "  <th>Df Model:</th>              <td>    22</td>      <th>                     </th>     <td> </td>    \n",
       "</tr>\n",
       "<tr>\n",
       "  <th>Covariance Type:</th>      <td>nonrobust</td>    <th>                     </th>     <td> </td>    \n",
       "</tr>\n",
       "</table>\n",
       "<table class=\"simpletable\">\n",
       "<tr>\n",
       "                    <td></td>                      <th>coef</th>     <th>std err</th>      <th>t</th>      <th>P>|t|</th>  <th>[0.025</th>    <th>0.975]</th>  \n",
       "</tr>\n",
       "<tr>\n",
       "  <th>intercept</th>                            <td>   -0.0286</td> <td>    0.013</td> <td>   -2.229</td> <td> 0.026</td> <td>   -0.054</td> <td>   -0.003</td>\n",
       "</tr>\n",
       "<tr>\n",
       "  <th>treatment</th>                            <td>    0.1077</td> <td>    0.026</td> <td>    4.157</td> <td> 0.000</td> <td>    0.057</td> <td>    0.159</td>\n",
       "</tr>\n",
       "<tr>\n",
       "  <th>ahgage_(34, 44]</th>                      <td>   -0.0930</td> <td>    0.021</td> <td>   -4.515</td> <td> 0.000</td> <td>   -0.133</td> <td>   -0.053</td>\n",
       "</tr>\n",
       "<tr>\n",
       "  <th>ahgage_(44, 54]</th>                      <td>   -0.5007</td> <td>    0.021</td> <td>  -24.221</td> <td> 0.000</td> <td>   -0.541</td> <td>   -0.460</td>\n",
       "</tr>\n",
       "<tr>\n",
       "  <th>ahgage_(54, 120]</th>                     <td>   -0.5663</td> <td>    0.023</td> <td>  -24.959</td> <td> 0.000</td> <td>   -0.611</td> <td>   -0.522</td>\n",
       "</tr>\n",
       "<tr>\n",
       "  <th>ahgsex_2.0</th>                           <td>   -0.0208</td> <td>    0.040</td> <td>   -0.523</td> <td> 0.601</td> <td>   -0.099</td> <td>    0.057</td>\n",
       "</tr>\n",
       "<tr>\n",
       "  <th>aedhigh1_3.0</th>                         <td>    0.0081</td> <td>    0.021</td> <td>    0.380</td> <td> 0.704</td> <td>   -0.034</td> <td>    0.050</td>\n",
       "</tr>\n",
       "<tr>\n",
       "  <th>aedhigh1_4.0</th>                         <td>   -0.0107</td> <td>    0.020</td> <td>   -0.536</td> <td> 0.592</td> <td>   -0.050</td> <td>    0.029</td>\n",
       "</tr>\n",
       "<tr>\n",
       "  <th>aedhigh1_5.0</th>                         <td>    0.0032</td> <td>    0.021</td> <td>    0.153</td> <td> 0.879</td> <td>   -0.038</td> <td>    0.045</td>\n",
       "</tr>\n",
       "<tr>\n",
       "  <th>aedhigh1_8.0</th>                         <td>   -0.0240</td> <td>    0.023</td> <td>   -1.061</td> <td> 0.289</td> <td>   -0.068</td> <td>    0.020</td>\n",
       "</tr>\n",
       "<tr>\n",
       "  <th>aedhigh1_9.0</th>                         <td>   -0.0721</td> <td>    0.027</td> <td>   -2.666</td> <td> 0.008</td> <td>   -0.125</td> <td>   -0.019</td>\n",
       "</tr>\n",
       "<tr>\n",
       "  <th>aesdtl_2.0</th>                           <td>   -0.0597</td> <td>    0.024</td> <td>   -2.494</td> <td> 0.013</td> <td>   -0.107</td> <td>   -0.013</td>\n",
       "</tr>\n",
       "<tr>\n",
       "  <th>aesdtl_3.0</th>                           <td>   -0.1712</td> <td>    0.021</td> <td>   -7.968</td> <td> 0.000</td> <td>   -0.213</td> <td>   -0.129</td>\n",
       "</tr>\n",
       "<tr>\n",
       "  <th>interact_ahgsex_2.0_ahgage_(34, 44]</th>  <td>   -0.0301</td> <td>    0.022</td> <td>   -1.352</td> <td> 0.176</td> <td>   -0.074</td> <td>    0.014</td>\n",
       "</tr>\n",
       "<tr>\n",
       "  <th>interact_ahgsex_2.0_ahgage_(44, 54]</th>  <td>    0.0214</td> <td>    0.022</td> <td>    0.968</td> <td> 0.333</td> <td>   -0.022</td> <td>    0.065</td>\n",
       "</tr>\n",
       "<tr>\n",
       "  <th>interact_ahgsex_2.0_ahgage_(54, 120]</th> <td>    0.0340</td> <td>    0.024</td> <td>    1.439</td> <td> 0.150</td> <td>   -0.012</td> <td>    0.080</td>\n",
       "</tr>\n",
       "<tr>\n",
       "  <th>interact_ahgsex_2.0_aedhigh1_3.0</th>     <td>    0.0069</td> <td>    0.022</td> <td>    0.310</td> <td> 0.757</td> <td>   -0.037</td> <td>    0.051</td>\n",
       "</tr>\n",
       "<tr>\n",
       "  <th>interact_ahgsex_2.0_aedhigh1_4.0</th>     <td>    0.0107</td> <td>    0.021</td> <td>    0.510</td> <td> 0.610</td> <td>   -0.030</td> <td>    0.052</td>\n",
       "</tr>\n",
       "<tr>\n",
       "  <th>interact_ahgsex_2.0_aedhigh1_5.0</th>     <td>   -0.0199</td> <td>    0.019</td> <td>   -1.034</td> <td> 0.301</td> <td>   -0.058</td> <td>    0.018</td>\n",
       "</tr>\n",
       "<tr>\n",
       "  <th>interact_ahgsex_2.0_aedhigh1_8.0</th>     <td>    0.0045</td> <td>    0.025</td> <td>    0.183</td> <td> 0.855</td> <td>   -0.044</td> <td>    0.053</td>\n",
       "</tr>\n",
       "<tr>\n",
       "  <th>interact_ahgsex_2.0_aedhigh1_9.0</th>     <td>   -0.0031</td> <td>    0.034</td> <td>   -0.094</td> <td> 0.925</td> <td>   -0.069</td> <td>    0.063</td>\n",
       "</tr>\n",
       "<tr>\n",
       "  <th>interact_ahgsex_2.0_aesdtl_2.0</th>       <td>    0.0402</td> <td>    0.026</td> <td>    1.538</td> <td> 0.124</td> <td>   -0.011</td> <td>    0.091</td>\n",
       "</tr>\n",
       "<tr>\n",
       "  <th>interact_ahgsex_2.0_aesdtl_3.0</th>       <td>    0.0196</td> <td>    0.025</td> <td>    0.781</td> <td> 0.435</td> <td>   -0.030</td> <td>    0.069</td>\n",
       "</tr>\n",
       "</table>\n",
       "<table class=\"simpletable\">\n",
       "<tr>\n",
       "  <th>Omnibus:</th>       <td>71.595</td> <th>  Durbin-Watson:     </th> <td>   1.920</td>\n",
       "</tr>\n",
       "<tr>\n",
       "  <th>Prob(Omnibus):</th> <td> 0.000</td> <th>  Jarque-Bera (JB):  </th> <td>  63.883</td>\n",
       "</tr>\n",
       "<tr>\n",
       "  <th>Skew:</th>          <td>-0.222</td> <th>  Prob(JB):          </th> <td>1.34e-14</td>\n",
       "</tr>\n",
       "<tr>\n",
       "  <th>Kurtosis:</th>      <td> 2.685</td> <th>  Cond. No.          </th> <td>    11.3</td>\n",
       "</tr>\n",
       "</table><br/><br/>Notes:<br/>[1] Standard Errors assume that the covariance matrix of the errors is correctly specified."
      ],
      "text/plain": [
       "<class 'statsmodels.iolib.summary.Summary'>\n",
       "\"\"\"\n",
       "                            OLS Regression Results                            \n",
       "==============================================================================\n",
       "Dep. Variable:                      y   R-squared:                       0.399\n",
       "Model:                            OLS   Adj. R-squared:                  0.396\n",
       "Method:                 Least Squares   F-statistic:                     154.7\n",
       "Date:                Wed, 24 Nov 2021   Prob (F-statistic):               0.00\n",
       "Time:                        19:00:40   Log-Likelihood:                -6005.6\n",
       "No. Observations:                5157   AIC:                         1.206e+04\n",
       "Df Residuals:                    5134   BIC:                         1.221e+04\n",
       "Df Model:                          22                                         \n",
       "Covariance Type:            nonrobust                                         \n",
       "========================================================================================================\n",
       "                                           coef    std err          t      P>|t|      [0.025      0.975]\n",
       "--------------------------------------------------------------------------------------------------------\n",
       "intercept                               -0.0286      0.013     -2.229      0.026      -0.054      -0.003\n",
       "treatment                                0.1077      0.026      4.157      0.000       0.057       0.159\n",
       "ahgage_(34, 44]                         -0.0930      0.021     -4.515      0.000      -0.133      -0.053\n",
       "ahgage_(44, 54]                         -0.5007      0.021    -24.221      0.000      -0.541      -0.460\n",
       "ahgage_(54, 120]                        -0.5663      0.023    -24.959      0.000      -0.611      -0.522\n",
       "ahgsex_2.0                              -0.0208      0.040     -0.523      0.601      -0.099       0.057\n",
       "aedhigh1_3.0                             0.0081      0.021      0.380      0.704      -0.034       0.050\n",
       "aedhigh1_4.0                            -0.0107      0.020     -0.536      0.592      -0.050       0.029\n",
       "aedhigh1_5.0                             0.0032      0.021      0.153      0.879      -0.038       0.045\n",
       "aedhigh1_8.0                            -0.0240      0.023     -1.061      0.289      -0.068       0.020\n",
       "aedhigh1_9.0                            -0.0721      0.027     -2.666      0.008      -0.125      -0.019\n",
       "aesdtl_2.0                              -0.0597      0.024     -2.494      0.013      -0.107      -0.013\n",
       "aesdtl_3.0                              -0.1712      0.021     -7.968      0.000      -0.213      -0.129\n",
       "interact_ahgsex_2.0_ahgage_(34, 44]     -0.0301      0.022     -1.352      0.176      -0.074       0.014\n",
       "interact_ahgsex_2.0_ahgage_(44, 54]      0.0214      0.022      0.968      0.333      -0.022       0.065\n",
       "interact_ahgsex_2.0_ahgage_(54, 120]     0.0340      0.024      1.439      0.150      -0.012       0.080\n",
       "interact_ahgsex_2.0_aedhigh1_3.0         0.0069      0.022      0.310      0.757      -0.037       0.051\n",
       "interact_ahgsex_2.0_aedhigh1_4.0         0.0107      0.021      0.510      0.610      -0.030       0.052\n",
       "interact_ahgsex_2.0_aedhigh1_5.0        -0.0199      0.019     -1.034      0.301      -0.058       0.018\n",
       "interact_ahgsex_2.0_aedhigh1_8.0         0.0045      0.025      0.183      0.855      -0.044       0.053\n",
       "interact_ahgsex_2.0_aedhigh1_9.0        -0.0031      0.034     -0.094      0.925      -0.069       0.063\n",
       "interact_ahgsex_2.0_aesdtl_2.0           0.0402      0.026      1.538      0.124      -0.011       0.091\n",
       "interact_ahgsex_2.0_aesdtl_3.0           0.0196      0.025      0.781      0.435      -0.030       0.069\n",
       "==============================================================================\n",
       "Omnibus:                       71.595   Durbin-Watson:                   1.920\n",
       "Prob(Omnibus):                  0.000   Jarque-Bera (JB):               63.883\n",
       "Skew:                          -0.222   Prob(JB):                     1.34e-14\n",
       "Kurtosis:                       2.685   Cond. No.                         11.3\n",
       "==============================================================================\n",
       "\n",
       "Notes:\n",
       "[1] Standard Errors assume that the covariance matrix of the errors is correctly specified.\n",
       "\"\"\""
      ]
     },
     "execution_count": 18,
     "metadata": {},
     "output_type": "execute_result"
    }
   ],
   "source": [
    "x = np.hstack((t.reshape(-1,1),X))\n",
    "x = sm.add_constant(x)\n",
    "x = pd.DataFrame(x, columns=['intercept','treatment']+features)\n",
    "model = sm.OLS(y,x)\n",
    "model.fit().summary()"
   ]
  }
 ],
 "metadata": {
  "celltoolbar": "Tags",
  "kernelspec": {
   "display_name": "Python 3 (ipykernel)",
   "language": "python",
   "name": "python3"
  },
  "language_info": {
   "codemirror_mode": {
    "name": "ipython",
    "version": 3
   },
   "file_extension": ".py",
   "mimetype": "text/x-python",
   "name": "python",
   "nbconvert_exporter": "python",
   "pygments_lexer": "ipython3",
   "version": "3.9.7"
  },
  "papermill": {
   "default_parameters": {},
   "duration": 9.178999,
   "end_time": "2021-11-24T08:00:41.061764",
   "environment_variables": {},
   "exception": null,
   "input_path": "OLS-basic-vars.ipynb",
   "output_path": "results/OLS-basic-vars-default.ipynb",
   "parameters": {
    "outcome": "y_wsce",
    "test": false,
    "treatment": "redufl"
   },
   "start_time": "2021-11-24T08:00:31.882765",
   "version": "2.3.3"
  }
 },
 "nbformat": 4,
 "nbformat_minor": 5
}