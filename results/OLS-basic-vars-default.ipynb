{
 "cells": [
  {
   "cell_type": "markdown",
   "id": "0",
   "metadata": {
    "papermill": {
     "duration": 0.033496,
     "end_time": "2021-11-19T10:49:24.975486",
     "exception": false,
     "start_time": "2021-11-19T10:49:24.941990",
     "status": "completed"
    },
    "tags": []
   },
   "source": [
    "# OLS on Basic Variable Set"
   ]
  },
  {
   "cell_type": "code",
   "execution_count": 1,
   "id": "1",
   "metadata": {
    "execution": {
     "iopub.execute_input": "2021-11-19T10:49:25.051698Z",
     "iopub.status.busy": "2021-11-19T10:49:25.049851Z",
     "iopub.status.idle": "2021-11-19T10:49:25.851360Z",
     "shell.execute_reply": "2021-11-19T10:49:25.850989Z"
    },
    "papermill": {
     "duration": 0.842512,
     "end_time": "2021-11-19T10:49:25.851436",
     "exception": false,
     "start_time": "2021-11-19T10:49:25.008924",
     "status": "completed"
    },
    "tags": [
     "hide_cell"
    ]
   },
   "outputs": [
    {
     "data": {
      "text/plain": [
       "'1.0'"
      ]
     },
     "execution_count": 1,
     "metadata": {},
     "output_type": "execute_result"
    }
   ],
   "source": [
    "# import libraries\n",
    "import numpy as np\n",
    "import pandas as pd\n",
    "import matplotlib.pyplot as plt\n",
    "import pyreadstat\n",
    "import re\n",
    "import string\n",
    "import sklearn\n",
    "from sklearn_pandas import DataFrameMapper\n",
    "from sklearn.linear_model import LinearRegression, Lasso, Ridge, LogisticRegression\n",
    "from sklearn.ensemble import GradientBoostingRegressor\n",
    "from sklearn.svm import SVR\n",
    "from tqdm import tqdm_notebook as tqdm\n",
    "from reed import *\n",
    "#from cinspect import dependence, importance\n",
    "from sklearn.model_selection import cross_val_score, cross_validate\n",
    "import pickle\n",
    "import time\n",
    "import statsmodels.api as sm\n",
    "from direct_regression import plot_ate_distribution\n",
    "\n",
    "\n",
    "# set global notebook options\n",
    "pd.options.display.max_columns = 200\n",
    "pd.options.display.max_rows = 500\n",
    "%matplotlib inline\n",
    "\n",
    "%load_ext autoreload\n",
    "%autoreload 2\n",
    "\n",
    "sklearn.__version__"
   ]
  },
  {
   "cell_type": "markdown",
   "id": "2",
   "metadata": {
    "papermill": {
     "duration": 0.034769,
     "end_time": "2021-11-19T10:49:25.919088",
     "exception": false,
     "start_time": "2021-11-19T10:49:25.884319",
     "status": "completed"
    },
    "tags": []
   },
   "source": [
    "#### Select modeling parameters"
   ]
  },
  {
   "cell_type": "code",
   "execution_count": 2,
   "id": "3",
   "metadata": {
    "execution": {
     "iopub.execute_input": "2021-11-19T10:49:25.993431Z",
     "iopub.status.busy": "2021-11-19T10:49:25.993101Z",
     "iopub.status.idle": "2021-11-19T10:49:26.003989Z",
     "shell.execute_reply": "2021-11-19T10:49:26.003712Z"
    },
    "papermill": {
     "duration": 0.049046,
     "end_time": "2021-11-19T10:49:26.004053",
     "exception": false,
     "start_time": "2021-11-19T10:49:25.955007",
     "status": "completed"
    },
    "tags": [
     "parameters"
    ]
   },
   "outputs": [],
   "source": [
    "outcome = 'y_wsce'\n",
    "treatment = 'redufl'\n",
    "optimisation_metric = 'neg_mean_squared_error'\n",
    "evaluation_metrics = ('r2','neg_mean_squared_error')\n",
    "log_outcome=True\n",
    "standardize_outcome=True\n",
    "config_name = \"default\"\n",
    "data_file = \"data/basic_variables.csv\"\n",
    "test = False"
   ]
  },
  {
   "cell_type": "code",
   "execution_count": 3,
   "id": "0cd93f3c",
   "metadata": {
    "execution": {
     "iopub.execute_input": "2021-11-19T10:49:26.077810Z",
     "iopub.status.busy": "2021-11-19T10:49:26.077502Z",
     "iopub.status.idle": "2021-11-19T10:49:26.088525Z",
     "shell.execute_reply": "2021-11-19T10:49:26.088222Z"
    },
    "papermill": {
     "duration": 0.049818,
     "end_time": "2021-11-19T10:49:26.088590",
     "exception": false,
     "start_time": "2021-11-19T10:49:26.038772",
     "status": "completed"
    },
    "tags": [
     "injected-parameters"
    ]
   },
   "outputs": [],
   "source": [
    "# Parameters\n",
    "test = False\n",
    "outcome = \"y_wsce\"\n",
    "treatment = \"redufl\"\n"
   ]
  },
  {
   "cell_type": "code",
   "execution_count": 4,
   "id": "4",
   "metadata": {
    "execution": {
     "iopub.execute_input": "2021-11-19T10:49:26.163579Z",
     "iopub.status.busy": "2021-11-19T10:49:26.163274Z",
     "iopub.status.idle": "2021-11-19T10:49:26.174036Z",
     "shell.execute_reply": "2021-11-19T10:49:26.173741Z"
    },
    "papermill": {
     "duration": 0.049983,
     "end_time": "2021-11-19T10:49:26.174099",
     "exception": false,
     "start_time": "2021-11-19T10:49:26.124116",
     "status": "completed"
    },
    "tags": []
   },
   "outputs": [],
   "source": [
    "# parameters that depend on those set above (which may have been inserted by Papermill)\n",
    "if test:\n",
    "    inner_cv = 2\n",
    "    outer_cv = 2\n",
    "    bootstrap_samples = 3\n",
    "\n",
    "else:\n",
    "    inner_cv = 5\n",
    "    outer_cv = 10\n",
    "    bootstrap_samples = 1000"
   ]
  },
  {
   "cell_type": "markdown",
   "id": "5",
   "metadata": {
    "papermill": {
     "duration": 0.03739,
     "end_time": "2021-11-19T10:49:26.246965",
     "exception": false,
     "start_time": "2021-11-19T10:49:26.209575",
     "status": "completed"
    },
    "tags": []
   },
   "source": [
    "### Load Data \n",
    "   - drop rows missing the specified treatment or outcome"
   ]
  },
  {
   "cell_type": "code",
   "execution_count": 5,
   "id": "6",
   "metadata": {
    "execution": {
     "iopub.execute_input": "2021-11-19T10:49:26.324172Z",
     "iopub.status.busy": "2021-11-19T10:49:26.323855Z",
     "iopub.status.idle": "2021-11-19T10:49:26.447034Z",
     "shell.execute_reply": "2021-11-19T10:49:26.446703Z"
    },
    "papermill": {
     "duration": 0.163178,
     "end_time": "2021-11-19T10:49:26.447107",
     "exception": false,
     "start_time": "2021-11-19T10:49:26.283929",
     "status": "completed"
    },
    "tags": [
     "hide_input"
    ]
   },
   "outputs": [
    {
     "name": "stdout",
     "output_type": "stream",
     "text": [
      "Dropped 284 rows missing treatment or outcome.\n"
     ]
    },
    {
     "data": {
      "image/png": "[encoded data removed]",
      "text/plain": [
       "<Figure size 432x288 with 1 Axes>"
      ]
     },
     "metadata": {
      "needs_background": "light"
     },
     "output_type": "display_data"
    }
   ],
   "source": [
    "data = pd.read_csv(data_file,index_col='xwaveid')\n",
    "drop_missing_treatment_or_outcome(data, treatment, outcome)\n",
    "if log_outcome:\n",
    "    shift = 1 - data[outcome].min() # to ensure log is defined\n",
    "    data[outcome] = np.log(data[outcome]+shift)\n",
    "if standardize_outcome:\n",
    "    mu, std = data[outcome].mean(), data[outcome].std()\n",
    "    data[outcome] = (data[outcome]-mu)/std\n",
    "    \n",
    "plt.hist(data[outcome])\n",
    "plt.xlabel(outcome)\n",
    "plt.ylabel(\"count\")\n",
    "plt.title(\"Distribution of outcomes\");"
   ]
  },
  {
   "cell_type": "markdown",
   "id": "7",
   "metadata": {
    "papermill": {
     "duration": 0.036993,
     "end_time": "2021-11-19T10:49:26.519840",
     "exception": false,
     "start_time": "2021-11-19T10:49:26.482847",
     "status": "completed"
    },
    "tags": []
   },
   "source": [
    "### Prepare data for modeling\n",
    "   - split into treated/control\n",
    "   - impute missing values and scale\n",
    "   - separate features from outcomes&treatments"
   ]
  },
  {
   "cell_type": "code",
   "execution_count": 6,
   "id": "8",
   "metadata": {
    "execution": {
     "iopub.execute_input": "2021-11-19T10:49:26.598609Z",
     "iopub.status.busy": "2021-11-19T10:49:26.598303Z",
     "iopub.status.idle": "2021-11-19T10:49:26.615733Z",
     "shell.execute_reply": "2021-11-19T10:49:26.615433Z"
    },
    "papermill": {
     "duration": 0.058157,
     "end_time": "2021-11-19T10:49:26.615802",
     "exception": false,
     "start_time": "2021-11-19T10:49:26.557645",
     "status": "completed"
    },
    "tags": [
     "hide_input"
    ]
   },
   "outputs": [
    {
     "name": "stdout",
     "output_type": "stream",
     "text": [
      "Control data dimensions:  (3789, 21)\n",
      "Treated data dimensions: (1368, 21)\n"
     ]
    }
   ],
   "source": [
    "from direct_regression import seperate_and_transform_data\n",
    "X0, X1, y0, y1, X, y, t, features = seperate_and_transform_data(data, treatment, outcome)\n",
    "print(\"Control data dimensions: \",X0.shape)\n",
    "print(\"Treated data dimensions:\",X1.shape)"
   ]
  },
  {
   "cell_type": "markdown",
   "id": "9",
   "metadata": {
    "papermill": {
     "duration": 0.039209,
     "end_time": "2021-11-19T10:49:26.692424",
     "exception": false,
     "start_time": "2021-11-19T10:49:26.653215",
     "status": "completed"
    },
    "tags": []
   },
   "source": [
    "### Compute unconditional/unadjusted estimate of treatment effect"
   ]
  },
  {
   "cell_type": "code",
   "execution_count": 7,
   "id": "10",
   "metadata": {
    "execution": {
     "iopub.execute_input": "2021-11-19T10:49:26.773674Z",
     "iopub.status.busy": "2021-11-19T10:49:26.773362Z",
     "iopub.status.idle": "2021-11-19T10:49:26.785006Z",
     "shell.execute_reply": "2021-11-19T10:49:26.785238Z"
    },
    "papermill": {
     "duration": 0.053686,
     "end_time": "2021-11-19T10:49:26.785320",
     "exception": false,
     "start_time": "2021-11-19T10:49:26.731634",
     "status": "completed"
    },
    "tags": [
     "hide_input"
    ]
   },
   "outputs": [
    {
     "name": "stdout",
     "output_type": "stream",
     "text": [
      "Proportion Treated:27%\n",
      "Average outcome under Control:-0.14±0.02\n",
      "Average outcome under Treatment:0.37±0.03\n",
      "Unadjusted treatment estimate 0.51\n"
     ]
    }
   ],
   "source": [
    "from direct_regression import print_unconditional_effects\n",
    "print_unconditional_effects(data, treatment, y0, y1)"
   ]
  },
  {
   "cell_type": "markdown",
   "id": "11",
   "metadata": {
    "papermill": {
     "duration": 0.040095,
     "end_time": "2021-11-19T10:49:26.863904",
     "exception": false,
     "start_time": "2021-11-19T10:49:26.823809",
     "status": "completed"
    },
    "tags": []
   },
   "source": [
    "### Set up models\n",
    "Specify which models to use and the hyper-parameter space to search over for each"
   ]
  },
  {
   "cell_type": "code",
   "execution_count": 8,
   "id": "12",
   "metadata": {
    "execution": {
     "iopub.execute_input": "2021-11-19T10:49:26.946262Z",
     "iopub.status.busy": "2021-11-19T10:49:26.945916Z",
     "iopub.status.idle": "2021-11-19T10:49:26.957094Z",
     "shell.execute_reply": "2021-11-19T10:49:26.957327Z"
    },
    "papermill": {
     "duration": 0.053355,
     "end_time": "2021-11-19T10:49:26.957407",
     "exception": false,
     "start_time": "2021-11-19T10:49:26.904052",
     "status": "completed"
    },
    "tags": [
     "hide_input"
    ]
   },
   "outputs": [],
   "source": [
    "from sklearn.linear_model import LinearRegression\n",
    "from direct_regression import importance_from_coef\n",
    "\n",
    "def construct_models():\n",
    "    models = [\n",
    "        Model('OLS',LinearRegression(),importance_func=importance_from_coef)\n",
    "    ]\n",
    "    return models"
   ]
  },
  {
   "cell_type": "code",
   "execution_count": 9,
   "id": "13",
   "metadata": {
    "execution": {
     "iopub.execute_input": "2021-11-19T10:49:27.038473Z",
     "iopub.status.busy": "2021-11-19T10:49:27.038150Z",
     "iopub.status.idle": "2021-11-19T10:49:27.082856Z",
     "shell.execute_reply": "2021-11-19T10:49:27.083118Z"
    },
    "papermill": {
     "duration": 0.087403,
     "end_time": "2021-11-19T10:49:27.083208",
     "exception": false,
     "start_time": "2021-11-19T10:49:26.995805",
     "status": "completed"
    },
    "tags": [
     "hide_cell"
    ]
   },
   "outputs": [
    {
     "name": "stdout",
     "output_type": "stream",
     "text": [
      "Fitting OLS ...Done\n"
     ]
    }
   ],
   "source": [
    "from direct_regression import nested_cross_val\n",
    "models0, models1, results = nested_cross_val(\n",
    "    construct_models,\n",
    "    None,\n",
    "    X0, X1, y0, y1,\n",
    "    optimisation_metric,\n",
    "    evaluation_metrics,\n",
    "    innercv=inner_cv,\n",
    "    outercv=outer_cv,\n",
    "    load_from_cache=False)"
   ]
  },
  {
   "cell_type": "markdown",
   "id": "14",
   "metadata": {
    "papermill": {
     "duration": 0.042747,
     "end_time": "2021-11-19T10:49:27.166609",
     "exception": false,
     "start_time": "2021-11-19T10:49:27.123862",
     "status": "completed"
    },
    "tags": []
   },
   "source": [
    "### Report estimate ATE and model performance\n",
    "\n",
    "  - Mean and Std of prediction performance for each model (both treatment & control surface)\n",
    "  - Mean and Std of average treatment effect for each model"
   ]
  },
  {
   "cell_type": "code",
   "execution_count": 10,
   "id": "15",
   "metadata": {
    "execution": {
     "iopub.execute_input": "2021-11-19T10:49:27.255495Z",
     "iopub.status.busy": "2021-11-19T10:49:27.254966Z",
     "iopub.status.idle": "2021-11-19T10:49:27.618456Z",
     "shell.execute_reply": "2021-11-19T10:49:27.618110Z"
    },
    "papermill": {
     "duration": 0.408748,
     "end_time": "2021-11-19T10:49:27.618533",
     "exception": false,
     "start_time": "2021-11-19T10:49:27.209785",
     "status": "completed"
    },
    "tags": []
   },
   "outputs": [
    {
     "data": {
      "text/html": [
       "<div>\n",
       "<style scoped>\n",
       "    .dataframe tbody tr th:only-of-type {\n",
       "        vertical-align: middle;\n",
       "    }\n",
       "\n",
       "    .dataframe tbody tr th {\n",
       "        vertical-align: top;\n",
       "    }\n",
       "\n",
       "    .dataframe thead th {\n",
       "        text-align: right;\n",
       "    }\n",
       "</style>\n",
       "<table border=\"1\" class=\"dataframe\">\n",
       "  <thead>\n",
       "    <tr style=\"text-align: right;\">\n",
       "      <th></th>\n",
       "      <th>ACE</th>\n",
       "      <th>ACE_std</th>\n",
       "      <th>control_r2</th>\n",
       "      <th>control_r2_std</th>\n",
       "      <th>treated_r2</th>\n",
       "      <th>treated_r2_std</th>\n",
       "      <th>control_neg_mean_squared_error</th>\n",
       "      <th>control_neg_mean_squared_error_std</th>\n",
       "      <th>treated_neg_mean_squared_error</th>\n",
       "      <th>treated_neg_mean_squared_error_std</th>\n",
       "    </tr>\n",
       "  </thead>\n",
       "  <tbody>\n",
       "    <tr>\n",
       "      <th>OLS</th>\n",
       "      <td>0.07</td>\n",
       "      <td>0.01</td>\n",
       "      <td>0.40</td>\n",
       "      <td>0.04</td>\n",
       "      <td>0.23</td>\n",
       "      <td>0.04</td>\n",
       "      <td>-0.55</td>\n",
       "      <td>0.05</td>\n",
       "      <td>-0.78</td>\n",
       "      <td>0.05</td>\n",
       "    </tr>\n",
       "  </tbody>\n",
       "</table>\n",
       "</div>"
      ],
      "text/plain": [
       "     ACE  ACE_std  control_r2  control_r2_std  treated_r2  treated_r2_std  \\\n",
       "OLS 0.07     0.01        0.40            0.04        0.23            0.04   \n",
       "\n",
       "     control_neg_mean_squared_error  control_neg_mean_squared_error_std  \\\n",
       "OLS                           -0.55                                0.05   \n",
       "\n",
       "     treated_neg_mean_squared_error  treated_neg_mean_squared_error_std  \n",
       "OLS                           -0.78                                0.05  "
      ]
     },
     "metadata": {},
     "output_type": "display_data"
    },
    {
     "data": {
      "image/png": "[encoded data removed]",
      "text/plain": [
       "<Figure size 1080x360 with 2 Axes>"
      ]
     },
     "metadata": {
      "needs_background": "light"
     },
     "output_type": "display_data"
    }
   ],
   "source": [
    "from direct_regression import visualise_ate\n",
    "visualise_ate(results,X,evaluation_metrics);"
   ]
  },
  {
   "cell_type": "markdown",
   "id": "16",
   "metadata": {
    "papermill": {
     "duration": 0.043879,
     "end_time": "2021-11-19T10:49:27.706222",
     "exception": false,
     "start_time": "2021-11-19T10:49:27.662343",
     "status": "completed"
    },
    "tags": []
   },
   "source": [
    "### Visualise models\n",
    "- Features responsible for treatment effect heterogeneity & functional form (with uncertainty)\n",
    "      - coefficeints for linear models"
   ]
  },
  {
   "cell_type": "code",
   "execution_count": 11,
   "id": "17",
   "metadata": {
    "execution": {
     "iopub.execute_input": "2021-11-19T10:49:27.797043Z",
     "iopub.status.busy": "2021-11-19T10:49:27.796515Z",
     "iopub.status.idle": "2021-11-19T10:49:27.838417Z",
     "shell.execute_reply": "2021-11-19T10:49:27.838067Z"
    },
    "papermill": {
     "duration": 0.088246,
     "end_time": "2021-11-19T10:49:27.838493",
     "exception": false,
     "start_time": "2021-11-19T10:49:27.750247",
     "status": "completed"
    },
    "tags": [
     "hide_input"
    ]
   },
   "outputs": [
    {
     "name": "stdout",
     "output_type": "stream",
     "text": [
      "OLS\n"
     ]
    },
    {
     "data": {
      "text/html": [
       "<div>\n",
       "<style scoped>\n",
       "    .dataframe tbody tr th:only-of-type {\n",
       "        vertical-align: middle;\n",
       "    }\n",
       "\n",
       "    .dataframe tbody tr th {\n",
       "        vertical-align: top;\n",
       "    }\n",
       "\n",
       "    .dataframe thead th {\n",
       "        text-align: right;\n",
       "    }\n",
       "</style>\n",
       "<table border=\"1\" class=\"dataframe\">\n",
       "  <thead>\n",
       "    <tr style=\"text-align: right;\">\n",
       "      <th></th>\n",
       "      <th>importance_mean</th>\n",
       "      <th>importance_std</th>\n",
       "      <th>Δcoef_mean</th>\n",
       "      <th>Δcoef_std</th>\n",
       "      <th>coef_treat_mean</th>\n",
       "      <th>coef_treat_std</th>\n",
       "      <th>coef_cntr_mean</th>\n",
       "      <th>coef_cntr_std</th>\n",
       "    </tr>\n",
       "    <tr>\n",
       "      <th>feature</th>\n",
       "      <th></th>\n",
       "      <th></th>\n",
       "      <th></th>\n",
       "      <th></th>\n",
       "      <th></th>\n",
       "      <th></th>\n",
       "      <th></th>\n",
       "      <th></th>\n",
       "    </tr>\n",
       "  </thead>\n",
       "  <tbody>\n",
       "    <tr>\n",
       "      <th>ahgage_(54, 120]</th>\n",
       "      <td>0.599131</td>\n",
       "      <td>0.007624</td>\n",
       "      <td>-0.088464</td>\n",
       "      <td>0.015592</td>\n",
       "      <td>-0.643363</td>\n",
       "      <td>0.013447</td>\n",
       "      <td>-0.554899</td>\n",
       "      <td>0.007549</td>\n",
       "    </tr>\n",
       "    <tr>\n",
       "      <th>ahgage_(44, 54]</th>\n",
       "      <td>0.488428</td>\n",
       "      <td>0.009052</td>\n",
       "      <td>0.032106</td>\n",
       "      <td>0.012066</td>\n",
       "      <td>-0.472376</td>\n",
       "      <td>0.011346</td>\n",
       "      <td>-0.504481</td>\n",
       "      <td>0.010389</td>\n",
       "    </tr>\n",
       "    <tr>\n",
       "      <th>aesdtl_3.0</th>\n",
       "      <td>0.193621</td>\n",
       "      <td>0.009219</td>\n",
       "      <td>-0.064680</td>\n",
       "      <td>0.018155</td>\n",
       "      <td>-0.225961</td>\n",
       "      <td>0.016201</td>\n",
       "      <td>-0.161281</td>\n",
       "      <td>0.008504</td>\n",
       "    </tr>\n",
       "    <tr>\n",
       "      <th>ahgage_(34, 44]</th>\n",
       "      <td>0.108276</td>\n",
       "      <td>0.007173</td>\n",
       "      <td>-0.086723</td>\n",
       "      <td>0.011940</td>\n",
       "      <td>-0.151638</td>\n",
       "      <td>0.008918</td>\n",
       "      <td>-0.064915</td>\n",
       "      <td>0.009728</td>\n",
       "    </tr>\n",
       "    <tr>\n",
       "      <th>aedhigh1_9.0</th>\n",
       "      <td>0.092294</td>\n",
       "      <td>0.011166</td>\n",
       "      <td>-0.055835</td>\n",
       "      <td>0.019321</td>\n",
       "      <td>-0.120211</td>\n",
       "      <td>0.014319</td>\n",
       "      <td>-0.064376</td>\n",
       "      <td>0.015198</td>\n",
       "    </tr>\n",
       "    <tr>\n",
       "      <th>aesdtl_2.0</th>\n",
       "      <td>0.057529</td>\n",
       "      <td>0.013439</td>\n",
       "      <td>0.007058</td>\n",
       "      <td>0.015714</td>\n",
       "      <td>-0.054000</td>\n",
       "      <td>0.019817</td>\n",
       "      <td>-0.061058</td>\n",
       "      <td>0.009588</td>\n",
       "    </tr>\n",
       "    <tr>\n",
       "      <th>interact_ahgsex_2.0_aesdtl_3.0</th>\n",
       "      <td>0.051658</td>\n",
       "      <td>0.013272</td>\n",
       "      <td>0.097810</td>\n",
       "      <td>0.027166</td>\n",
       "      <td>0.094084</td>\n",
       "      <td>0.022751</td>\n",
       "      <td>-0.003726</td>\n",
       "      <td>0.010346</td>\n",
       "    </tr>\n",
       "    <tr>\n",
       "      <th>interact_ahgsex_2.0_aesdtl_2.0</th>\n",
       "      <td>0.042112</td>\n",
       "      <td>0.011510</td>\n",
       "      <td>0.021371</td>\n",
       "      <td>0.015556</td>\n",
       "      <td>0.052798</td>\n",
       "      <td>0.015292</td>\n",
       "      <td>0.031427</td>\n",
       "      <td>0.012334</td>\n",
       "    </tr>\n",
       "    <tr>\n",
       "      <th>aedhigh1_8.0</th>\n",
       "      <td>0.036683</td>\n",
       "      <td>0.006044</td>\n",
       "      <td>-0.049567</td>\n",
       "      <td>0.007883</td>\n",
       "      <td>-0.059992</td>\n",
       "      <td>0.007228</td>\n",
       "      <td>-0.010425</td>\n",
       "      <td>0.010663</td>\n",
       "    </tr>\n",
       "    <tr>\n",
       "      <th>interact_ahgsex_2.0_ahgage_(54, 120]</th>\n",
       "      <td>0.034318</td>\n",
       "      <td>0.007689</td>\n",
       "      <td>-0.019634</td>\n",
       "      <td>0.017716</td>\n",
       "      <td>0.024500</td>\n",
       "      <td>0.013119</td>\n",
       "      <td>0.044135</td>\n",
       "      <td>0.010153</td>\n",
       "    </tr>\n",
       "    <tr>\n",
       "      <th>interact_ahgsex_2.0_aedhigh1_5.0</th>\n",
       "      <td>0.029571</td>\n",
       "      <td>0.005966</td>\n",
       "      <td>-0.043289</td>\n",
       "      <td>0.013346</td>\n",
       "      <td>-0.050539</td>\n",
       "      <td>0.010589</td>\n",
       "      <td>-0.007250</td>\n",
       "      <td>0.007180</td>\n",
       "    </tr>\n",
       "    <tr>\n",
       "      <th>aedhigh1_5.0</th>\n",
       "      <td>0.027782</td>\n",
       "      <td>0.007607</td>\n",
       "      <td>0.054745</td>\n",
       "      <td>0.016311</td>\n",
       "      <td>0.043724</td>\n",
       "      <td>0.010263</td>\n",
       "      <td>-0.011021</td>\n",
       "      <td>0.008678</td>\n",
       "    </tr>\n",
       "    <tr>\n",
       "      <th>ahgsex_2.0</th>\n",
       "      <td>0.027619</td>\n",
       "      <td>0.011226</td>\n",
       "      <td>0.018773</td>\n",
       "      <td>0.030144</td>\n",
       "      <td>-0.010686</td>\n",
       "      <td>0.031770</td>\n",
       "      <td>-0.029459</td>\n",
       "      <td>0.009733</td>\n",
       "    </tr>\n",
       "    <tr>\n",
       "      <th>interact_ahgsex_2.0_ahgage_(44, 54]</th>\n",
       "      <td>0.025485</td>\n",
       "      <td>0.006337</td>\n",
       "      <td>-0.050970</td>\n",
       "      <td>0.012673</td>\n",
       "      <td>-0.014818</td>\n",
       "      <td>0.013246</td>\n",
       "      <td>0.036152</td>\n",
       "      <td>0.012500</td>\n",
       "    </tr>\n",
       "    <tr>\n",
       "      <th>interact_ahgsex_2.0_aedhigh1_4.0</th>\n",
       "      <td>0.024316</td>\n",
       "      <td>0.009534</td>\n",
       "      <td>-0.047722</td>\n",
       "      <td>0.020161</td>\n",
       "      <td>-0.023204</td>\n",
       "      <td>0.016724</td>\n",
       "      <td>0.024518</td>\n",
       "      <td>0.007855</td>\n",
       "    </tr>\n",
       "    <tr>\n",
       "      <th>interact_ahgsex_2.0_ahgage_(34, 44]</th>\n",
       "      <td>0.022460</td>\n",
       "      <td>0.005827</td>\n",
       "      <td>0.036263</td>\n",
       "      <td>0.011821</td>\n",
       "      <td>-0.001596</td>\n",
       "      <td>0.009294</td>\n",
       "      <td>-0.037859</td>\n",
       "      <td>0.010086</td>\n",
       "    </tr>\n",
       "    <tr>\n",
       "      <th>interact_ahgsex_2.0_aedhigh1_8.0</th>\n",
       "      <td>0.022323</td>\n",
       "      <td>0.005630</td>\n",
       "      <td>0.044501</td>\n",
       "      <td>0.011234</td>\n",
       "      <td>0.036074</td>\n",
       "      <td>0.016522</td>\n",
       "      <td>-0.008428</td>\n",
       "      <td>0.008638</td>\n",
       "    </tr>\n",
       "    <tr>\n",
       "      <th>interact_ahgsex_2.0_aedhigh1_3.0</th>\n",
       "      <td>0.016779</td>\n",
       "      <td>0.003226</td>\n",
       "      <td>-0.024028</td>\n",
       "      <td>0.017727</td>\n",
       "      <td>-0.008404</td>\n",
       "      <td>0.019772</td>\n",
       "      <td>0.015624</td>\n",
       "      <td>0.007001</td>\n",
       "    </tr>\n",
       "    <tr>\n",
       "      <th>aedhigh1_4.0</th>\n",
       "      <td>0.014559</td>\n",
       "      <td>0.007362</td>\n",
       "      <td>0.020435</td>\n",
       "      <td>0.018982</td>\n",
       "      <td>0.004969</td>\n",
       "      <td>0.016183</td>\n",
       "      <td>-0.015466</td>\n",
       "      <td>0.008378</td>\n",
       "    </tr>\n",
       "    <tr>\n",
       "      <th>interact_ahgsex_2.0_aedhigh1_9.0</th>\n",
       "      <td>0.014348</td>\n",
       "      <td>0.009270</td>\n",
       "      <td>0.017953</td>\n",
       "      <td>0.021463</td>\n",
       "      <td>0.017875</td>\n",
       "      <td>0.021674</td>\n",
       "      <td>-0.000078</td>\n",
       "      <td>0.012081</td>\n",
       "    </tr>\n",
       "  </tbody>\n",
       "</table>\n",
       "</div>"
      ],
      "text/plain": [
       "                                      importance_mean  importance_std  \\\n",
       "feature                                                                 \n",
       "ahgage_(54, 120]                             0.599131        0.007624   \n",
       "ahgage_(44, 54]                              0.488428        0.009052   \n",
       "aesdtl_3.0                                   0.193621        0.009219   \n",
       "ahgage_(34, 44]                              0.108276        0.007173   \n",
       "aedhigh1_9.0                                 0.092294        0.011166   \n",
       "aesdtl_2.0                                   0.057529        0.013439   \n",
       "interact_ahgsex_2.0_aesdtl_3.0               0.051658        0.013272   \n",
       "interact_ahgsex_2.0_aesdtl_2.0               0.042112        0.011510   \n",
       "aedhigh1_8.0                                 0.036683        0.006044   \n",
       "interact_ahgsex_2.0_ahgage_(54, 120]         0.034318        0.007689   \n",
       "interact_ahgsex_2.0_aedhigh1_5.0             0.029571        0.005966   \n",
       "aedhigh1_5.0                                 0.027782        0.007607   \n",
       "ahgsex_2.0                                   0.027619        0.011226   \n",
       "interact_ahgsex_2.0_ahgage_(44, 54]          0.025485        0.006337   \n",
       "interact_ahgsex_2.0_aedhigh1_4.0             0.024316        0.009534   \n",
       "interact_ahgsex_2.0_ahgage_(34, 44]          0.022460        0.005827   \n",
       "interact_ahgsex_2.0_aedhigh1_8.0             0.022323        0.005630   \n",
       "interact_ahgsex_2.0_aedhigh1_3.0             0.016779        0.003226   \n",
       "aedhigh1_4.0                                 0.014559        0.007362   \n",
       "interact_ahgsex_2.0_aedhigh1_9.0             0.014348        0.009270   \n",
       "\n",
       "                                      Δcoef_mean  Δcoef_std  coef_treat_mean  \\\n",
       "feature                                                                        \n",
       "ahgage_(54, 120]                       -0.088464   0.015592        -0.643363   \n",
       "ahgage_(44, 54]                         0.032106   0.012066        -0.472376   \n",
       "aesdtl_3.0                             -0.064680   0.018155        -0.225961   \n",
       "ahgage_(34, 44]                        -0.086723   0.011940        -0.151638   \n",
       "aedhigh1_9.0                           -0.055835   0.019321        -0.120211   \n",
       "aesdtl_2.0                              0.007058   0.015714        -0.054000   \n",
       "interact_ahgsex_2.0_aesdtl_3.0          0.097810   0.027166         0.094084   \n",
       "interact_ahgsex_2.0_aesdtl_2.0          0.021371   0.015556         0.052798   \n",
       "aedhigh1_8.0                           -0.049567   0.007883        -0.059992   \n",
       "interact_ahgsex_2.0_ahgage_(54, 120]   -0.019634   0.017716         0.024500   \n",
       "interact_ahgsex_2.0_aedhigh1_5.0       -0.043289   0.013346        -0.050539   \n",
       "aedhigh1_5.0                            0.054745   0.016311         0.043724   \n",
       "ahgsex_2.0                              0.018773   0.030144        -0.010686   \n",
       "interact_ahgsex_2.0_ahgage_(44, 54]    -0.050970   0.012673        -0.014818   \n",
       "interact_ahgsex_2.0_aedhigh1_4.0       -0.047722   0.020161        -0.023204   \n",
       "interact_ahgsex_2.0_ahgage_(34, 44]     0.036263   0.011821        -0.001596   \n",
       "interact_ahgsex_2.0_aedhigh1_8.0        0.044501   0.011234         0.036074   \n",
       "interact_ahgsex_2.0_aedhigh1_3.0       -0.024028   0.017727        -0.008404   \n",
       "aedhigh1_4.0                            0.020435   0.018982         0.004969   \n",
       "interact_ahgsex_2.0_aedhigh1_9.0        0.017953   0.021463         0.017875   \n",
       "\n",
       "                                      coef_treat_std  coef_cntr_mean  \\\n",
       "feature                                                                \n",
       "ahgage_(54, 120]                            0.013447       -0.554899   \n",
       "ahgage_(44, 54]                             0.011346       -0.504481   \n",
       "aesdtl_3.0                                  0.016201       -0.161281   \n",
       "ahgage_(34, 44]                             0.008918       -0.064915   \n",
       "aedhigh1_9.0                                0.014319       -0.064376   \n",
       "aesdtl_2.0                                  0.019817       -0.061058   \n",
       "interact_ahgsex_2.0_aesdtl_3.0              0.022751       -0.003726   \n",
       "interact_ahgsex_2.0_aesdtl_2.0              0.015292        0.031427   \n",
       "aedhigh1_8.0                                0.007228       -0.010425   \n",
       "interact_ahgsex_2.0_ahgage_(54, 120]        0.013119        0.044135   \n",
       "interact_ahgsex_2.0_aedhigh1_5.0            0.010589       -0.007250   \n",
       "aedhigh1_5.0                                0.010263       -0.011021   \n",
       "ahgsex_2.0                                  0.031770       -0.029459   \n",
       "interact_ahgsex_2.0_ahgage_(44, 54]         0.013246        0.036152   \n",
       "interact_ahgsex_2.0_aedhigh1_4.0            0.016724        0.024518   \n",
       "interact_ahgsex_2.0_ahgage_(34, 44]         0.009294       -0.037859   \n",
       "interact_ahgsex_2.0_aedhigh1_8.0            0.016522       -0.008428   \n",
       "interact_ahgsex_2.0_aedhigh1_3.0            0.019772        0.015624   \n",
       "aedhigh1_4.0                                0.016183       -0.015466   \n",
       "interact_ahgsex_2.0_aedhigh1_9.0            0.021674       -0.000078   \n",
       "\n",
       "                                      coef_cntr_std  \n",
       "feature                                              \n",
       "ahgage_(54, 120]                           0.007549  \n",
       "ahgage_(44, 54]                            0.010389  \n",
       "aesdtl_3.0                                 0.008504  \n",
       "ahgage_(34, 44]                            0.009728  \n",
       "aedhigh1_9.0                               0.015198  \n",
       "aesdtl_2.0                                 0.009588  \n",
       "interact_ahgsex_2.0_aesdtl_3.0             0.010346  \n",
       "interact_ahgsex_2.0_aesdtl_2.0             0.012334  \n",
       "aedhigh1_8.0                               0.010663  \n",
       "interact_ahgsex_2.0_ahgage_(54, 120]       0.010153  \n",
       "interact_ahgsex_2.0_aedhigh1_5.0           0.007180  \n",
       "aedhigh1_5.0                               0.008678  \n",
       "ahgsex_2.0                                 0.009733  \n",
       "interact_ahgsex_2.0_ahgage_(44, 54]        0.012500  \n",
       "interact_ahgsex_2.0_aedhigh1_4.0           0.007855  \n",
       "interact_ahgsex_2.0_ahgage_(34, 44]        0.010086  \n",
       "interact_ahgsex_2.0_aedhigh1_8.0           0.008638  \n",
       "interact_ahgsex_2.0_aedhigh1_3.0           0.007001  \n",
       "aedhigh1_4.0                               0.008378  \n",
       "interact_ahgsex_2.0_aedhigh1_9.0           0.012081  "
      ]
     },
     "metadata": {},
     "output_type": "display_data"
    }
   ],
   "source": [
    "from direct_regression import display_feature_importance\n",
    "display_feature_importance(models0, models1, results, features);"
   ]
  },
  {
   "cell_type": "markdown",
   "id": "18",
   "metadata": {
    "papermill": {
     "duration": 0.045586,
     "end_time": "2021-11-19T10:49:27.930248",
     "exception": false,
     "start_time": "2021-11-19T10:49:27.884662",
     "status": "completed"
    },
    "tags": []
   },
   "source": [
    "### What are the major confounders\n",
    "\n",
    "  - We want to identify variables that strongly effect both treatment and outcome\n",
    "   \n",
    "For each variable Z, in the covariate set lets compute $E[Z|T=1] - E[Z|T=0]$"
   ]
  },
  {
   "cell_type": "code",
   "execution_count": 12,
   "id": "19",
   "metadata": {
    "execution": {
     "iopub.execute_input": "2021-11-19T10:49:28.026038Z",
     "iopub.status.busy": "2021-11-19T10:49:28.025522Z",
     "iopub.status.idle": "2021-11-19T10:49:28.046643Z",
     "shell.execute_reply": "2021-11-19T10:49:28.047184Z"
    },
    "papermill": {
     "duration": 0.071517,
     "end_time": "2021-11-19T10:49:28.047342",
     "exception": false,
     "start_time": "2021-11-19T10:49:27.975825",
     "status": "completed"
    },
    "tags": [
     "hide_cell"
    ]
   },
   "outputs": [
    {
     "data": {
      "text/html": [
       "<div>\n",
       "<style scoped>\n",
       "    .dataframe tbody tr th:only-of-type {\n",
       "        vertical-align: middle;\n",
       "    }\n",
       "\n",
       "    .dataframe tbody tr th {\n",
       "        vertical-align: top;\n",
       "    }\n",
       "\n",
       "    .dataframe thead th {\n",
       "        text-align: right;\n",
       "    }\n",
       "</style>\n",
       "<table border=\"1\" class=\"dataframe\">\n",
       "  <thead>\n",
       "    <tr style=\"text-align: right;\">\n",
       "      <th></th>\n",
       "      <th>response_coef</th>\n",
       "      <th>treatment_inf</th>\n",
       "      <th>confound</th>\n",
       "    </tr>\n",
       "  </thead>\n",
       "  <tbody>\n",
       "    <tr>\n",
       "      <th>ahgage_(54, 120]</th>\n",
       "      <td>-0.566253</td>\n",
       "      <td>-0.574540</td>\n",
       "      <td>0.325335</td>\n",
       "    </tr>\n",
       "    <tr>\n",
       "      <th>ahgage_(44, 54]</th>\n",
       "      <td>-0.500709</td>\n",
       "      <td>-0.116053</td>\n",
       "      <td>0.058109</td>\n",
       "    </tr>\n",
       "    <tr>\n",
       "      <th>aesdtl_3.0</th>\n",
       "      <td>-0.171150</td>\n",
       "      <td>-0.291709</td>\n",
       "      <td>0.049926</td>\n",
       "    </tr>\n",
       "    <tr>\n",
       "      <th>ahgage_(34, 44]</th>\n",
       "      <td>-0.093023</td>\n",
       "      <td>0.252289</td>\n",
       "      <td>0.023469</td>\n",
       "    </tr>\n",
       "    <tr>\n",
       "      <th>aedhigh1_9.0</th>\n",
       "      <td>-0.072143</td>\n",
       "      <td>-0.283646</td>\n",
       "      <td>0.020463</td>\n",
       "    </tr>\n",
       "    <tr>\n",
       "      <th>interact_ahgsex_2.0_ahgage_(54, 120]</th>\n",
       "      <td>0.034004</td>\n",
       "      <td>-0.405574</td>\n",
       "      <td>0.013791</td>\n",
       "    </tr>\n",
       "    <tr>\n",
       "      <th>interact_ahgsex_2.0_ahgage_(34, 44]</th>\n",
       "      <td>-0.030138</td>\n",
       "      <td>0.261578</td>\n",
       "      <td>0.007883</td>\n",
       "    </tr>\n",
       "    <tr>\n",
       "      <th>aesdtl_2.0</th>\n",
       "      <td>-0.059739</td>\n",
       "      <td>0.091144</td>\n",
       "      <td>0.005445</td>\n",
       "    </tr>\n",
       "    <tr>\n",
       "      <th>interact_ahgsex_2.0_aesdtl_2.0</th>\n",
       "      <td>0.040198</td>\n",
       "      <td>0.135050</td>\n",
       "      <td>0.005429</td>\n",
       "    </tr>\n",
       "    <tr>\n",
       "      <th>interact_ahgsex_2.0_aesdtl_3.0</th>\n",
       "      <td>0.019562</td>\n",
       "      <td>-0.177558</td>\n",
       "      <td>0.003473</td>\n",
       "    </tr>\n",
       "    <tr>\n",
       "      <th>ahgsex_2.0</th>\n",
       "      <td>-0.020777</td>\n",
       "      <td>0.098549</td>\n",
       "      <td>0.002048</td>\n",
       "    </tr>\n",
       "    <tr>\n",
       "      <th>aedhigh1_8.0</th>\n",
       "      <td>-0.024047</td>\n",
       "      <td>0.070365</td>\n",
       "      <td>0.001692</td>\n",
       "    </tr>\n",
       "    <tr>\n",
       "      <th>interact_ahgsex_2.0_aedhigh1_5.0</th>\n",
       "      <td>-0.019938</td>\n",
       "      <td>0.066257</td>\n",
       "      <td>0.001321</td>\n",
       "    </tr>\n",
       "    <tr>\n",
       "      <th>interact_ahgsex_2.0_ahgage_(44, 54]</th>\n",
       "      <td>0.021371</td>\n",
       "      <td>-0.055894</td>\n",
       "      <td>0.001195</td>\n",
       "    </tr>\n",
       "    <tr>\n",
       "      <th>interact_ahgsex_2.0_aedhigh1_3.0</th>\n",
       "      <td>0.006943</td>\n",
       "      <td>0.131533</td>\n",
       "      <td>0.000913</td>\n",
       "    </tr>\n",
       "    <tr>\n",
       "      <th>aedhigh1_3.0</th>\n",
       "      <td>0.008053</td>\n",
       "      <td>0.103693</td>\n",
       "      <td>0.000835</td>\n",
       "    </tr>\n",
       "    <tr>\n",
       "      <th>interact_ahgsex_2.0_aedhigh1_4.0</th>\n",
       "      <td>0.010650</td>\n",
       "      <td>0.064154</td>\n",
       "      <td>0.000683</td>\n",
       "    </tr>\n",
       "    <tr>\n",
       "      <th>aedhigh1_4.0</th>\n",
       "      <td>-0.010746</td>\n",
       "      <td>0.050478</td>\n",
       "      <td>0.000542</td>\n",
       "    </tr>\n",
       "    <tr>\n",
       "      <th>interact_ahgsex_2.0_aedhigh1_9.0</th>\n",
       "      <td>-0.003142</td>\n",
       "      <td>-0.162992</td>\n",
       "      <td>0.000512</td>\n",
       "    </tr>\n",
       "    <tr>\n",
       "      <th>interact_ahgsex_2.0_aedhigh1_8.0</th>\n",
       "      <td>0.004530</td>\n",
       "      <td>0.108575</td>\n",
       "      <td>0.000492</td>\n",
       "    </tr>\n",
       "    <tr>\n",
       "      <th>aedhigh1_5.0</th>\n",
       "      <td>0.003232</td>\n",
       "      <td>0.022670</td>\n",
       "      <td>0.000073</td>\n",
       "    </tr>\n",
       "  </tbody>\n",
       "</table>\n",
       "</div>"
      ],
      "text/plain": [
       "                                      response_coef  treatment_inf  confound\n",
       "ahgage_(54, 120]                          -0.566253      -0.574540  0.325335\n",
       "ahgage_(44, 54]                           -0.500709      -0.116053  0.058109\n",
       "aesdtl_3.0                                -0.171150      -0.291709  0.049926\n",
       "ahgage_(34, 44]                           -0.093023       0.252289  0.023469\n",
       "aedhigh1_9.0                              -0.072143      -0.283646  0.020463\n",
       "interact_ahgsex_2.0_ahgage_(54, 120]       0.034004      -0.405574  0.013791\n",
       "interact_ahgsex_2.0_ahgage_(34, 44]       -0.030138       0.261578  0.007883\n",
       "aesdtl_2.0                                -0.059739       0.091144  0.005445\n",
       "interact_ahgsex_2.0_aesdtl_2.0             0.040198       0.135050  0.005429\n",
       "interact_ahgsex_2.0_aesdtl_3.0             0.019562      -0.177558  0.003473\n",
       "ahgsex_2.0                                -0.020777       0.098549  0.002048\n",
       "aedhigh1_8.0                              -0.024047       0.070365  0.001692\n",
       "interact_ahgsex_2.0_aedhigh1_5.0          -0.019938       0.066257  0.001321\n",
       "interact_ahgsex_2.0_ahgage_(44, 54]        0.021371      -0.055894  0.001195\n",
       "interact_ahgsex_2.0_aedhigh1_3.0           0.006943       0.131533  0.000913\n",
       "aedhigh1_3.0                               0.008053       0.103693  0.000835\n",
       "interact_ahgsex_2.0_aedhigh1_4.0           0.010650       0.064154  0.000683\n",
       "aedhigh1_4.0                              -0.010746       0.050478  0.000542\n",
       "interact_ahgsex_2.0_aedhigh1_9.0          -0.003142      -0.162992  0.000512\n",
       "interact_ahgsex_2.0_aedhigh1_8.0           0.004530       0.108575  0.000492\n",
       "aedhigh1_5.0                               0.003232       0.022670  0.000073"
      ]
     },
     "execution_count": 12,
     "metadata": {},
     "output_type": "execute_result"
    }
   ],
   "source": [
    "Xt = np.hstack((t.reshape(-1,1),X))\n",
    "model = LinearRegression()\n",
    "model.fit(Xt,y)\n",
    "beta = model.coef_[1:]\n",
    "\n",
    "confound = pd.DataFrame({'response_coef':beta, 'treatment_inf':X1.mean(axis=0) - X0.mean(axis=0)},index=features)\n",
    "confound['confound'] = np.abs(confound['response_coef'])*np.abs(confound['treatment_inf'])\n",
    "confound.sort_values(by='confound',ascending=False)"
   ]
  },
  {
   "cell_type": "code",
   "execution_count": 13,
   "id": "20",
   "metadata": {
    "execution": {
     "iopub.execute_input": "2021-11-19T10:49:28.157643Z",
     "iopub.status.busy": "2021-11-19T10:49:28.157339Z",
     "iopub.status.idle": "2021-11-19T10:49:28.352381Z",
     "shell.execute_reply": "2021-11-19T10:49:28.352058Z"
    },
    "papermill": {
     "duration": 0.241333,
     "end_time": "2021-11-19T10:49:28.352452",
     "exception": false,
     "start_time": "2021-11-19T10:49:28.111119",
     "status": "completed"
    },
    "tags": [
     "hide_input"
    ]
   },
   "outputs": [
    {
     "data": {
      "image/png": "[encoded data removed]",
      "text/plain": [
       "<Figure size 432x288 with 1 Axes>"
      ]
     },
     "metadata": {
      "needs_background": "light"
     },
     "output_type": "display_data"
    }
   ],
   "source": [
    "p_model = LogisticRegression()\n",
    "p_model.fit(X,t)\n",
    "p_model.coef_\n",
    "p = p_model.predict_proba(X)[:,1]\n",
    "from sklearn.metrics import roc_curve, roc_auc_score\n",
    "auc = roc_auc_score(t,p)\n",
    "fpr, tpr, _ = roc_curve(t,p)\n",
    "plt.plot(fpr, tpr,label=f'auc={auc:.2f}')\n",
    "plt.legend(loc='lower right')\n",
    "plt.xlabel(\"False Positive Rate\")\n",
    "plt.ylabel(\"True Positive Rate\")\n",
    "plt.title(\"ROC curve: Predicting treatment given observed covariates\");"
   ]
  },
  {
   "cell_type": "code",
   "execution_count": 14,
   "id": "21",
   "metadata": {
    "execution": {
     "iopub.execute_input": "2021-11-19T10:49:28.439517Z",
     "iopub.status.busy": "2021-11-19T10:49:28.439215Z",
     "iopub.status.idle": "2021-11-19T10:49:31.160503Z",
     "shell.execute_reply": "2021-11-19T10:49:31.160123Z"
    },
    "papermill": {
     "duration": 2.766564,
     "end_time": "2021-11-19T10:49:31.160587",
     "exception": false,
     "start_time": "2021-11-19T10:49:28.394023",
     "status": "completed"
    },
    "scrolled": true,
    "tags": [
     "hide_cell"
    ]
   },
   "outputs": [
    {
     "name": "stdout",
     "output_type": "stream",
     "text": [
      "Fitting OLS ..."
     ]
    },
    {
     "name": "stdout",
     "output_type": "stream",
     "text": [
      "Done\n",
      "Total time:2.708909511566162 seconds\n"
     ]
    }
   ],
   "source": [
    "from direct_regression import bootstrapped_cross_val\n",
    "def extract_params(estimator):\n",
    "    return estimator.coef_\n",
    "\n",
    "\n",
    "bootstrap_results = bootstrapped_cross_val(\n",
    "    construct_models,\n",
    "    None,\n",
    "    X0, X1, y0, y1,\n",
    "    optimisation_metric,\n",
    "    extract_params,\n",
    "    inner_cv=inner_cv,\n",
    "    load_from_cache=False,\n",
    "    samples=bootstrap_samples\n",
    ")"
   ]
  },
  {
   "cell_type": "markdown",
   "id": "22",
   "metadata": {
    "papermill": {
     "duration": 0.062126,
     "end_time": "2021-11-19T10:49:31.273677",
     "exception": false,
     "start_time": "2021-11-19T10:49:31.211551",
     "status": "completed"
    },
    "tags": []
   },
   "source": [
    "####  Average treatment effect uncertainty via Bootstrapping"
   ]
  },
  {
   "cell_type": "code",
   "execution_count": 15,
   "id": "23",
   "metadata": {
    "execution": {
     "iopub.execute_input": "2021-11-19T10:49:31.364605Z",
     "iopub.status.busy": "2021-11-19T10:49:31.364313Z",
     "iopub.status.idle": "2021-11-19T10:49:31.966002Z",
     "shell.execute_reply": "2021-11-19T10:49:31.965675Z"
    },
    "papermill": {
     "duration": 0.648698,
     "end_time": "2021-11-19T10:49:31.966077",
     "exception": false,
     "start_time": "2021-11-19T10:49:31.317379",
     "status": "completed"
    },
    "tags": [
     "hide_input"
    ]
   },
   "outputs": [
    {
     "data": {
      "text/html": [
       "<div>\n",
       "<style scoped>\n",
       "    .dataframe tbody tr th:only-of-type {\n",
       "        vertical-align: middle;\n",
       "    }\n",
       "\n",
       "    .dataframe tbody tr th {\n",
       "        vertical-align: top;\n",
       "    }\n",
       "\n",
       "    .dataframe thead th {\n",
       "        text-align: right;\n",
       "    }\n",
       "</style>\n",
       "<table border=\"1\" class=\"dataframe\">\n",
       "  <thead>\n",
       "    <tr style=\"text-align: right;\">\n",
       "      <th></th>\n",
       "      <th>ACE</th>\n",
       "      <th>ACE_std</th>\n",
       "    </tr>\n",
       "  </thead>\n",
       "  <tbody>\n",
       "    <tr>\n",
       "      <th>OLS</th>\n",
       "      <td>0.072643</td>\n",
       "      <td>0.027927</td>\n",
       "    </tr>\n",
       "  </tbody>\n",
       "</table>\n",
       "</div>"
      ],
      "text/plain": [
       "          ACE   ACE_std\n",
       "OLS  0.072643  0.027927"
      ]
     },
     "metadata": {},
     "output_type": "display_data"
    },
    {
     "data": {
      "image/png": "[encoded data removed]",
      "text/plain": [
       "<Figure size 360x360 with 1 Axes>"
      ]
     },
     "metadata": {
      "needs_background": "light"
     },
     "output_type": "display_data"
    }
   ],
   "source": [
    "from direct_regression import compute_ate\n",
    "\n",
    "metrics, tau_estimatesb = compute_ate(bootstrap_results,X)\n",
    "display(metrics)\n",
    "plot_ate_distribution(tau_estimatesb)"
   ]
  },
  {
   "cell_type": "markdown",
   "id": "24",
   "metadata": {
    "papermill": {
     "duration": 0.047217,
     "end_time": "2021-11-19T10:49:32.058617",
     "exception": false,
     "start_time": "2021-11-19T10:49:32.011400",
     "status": "completed"
    },
    "tags": []
   },
   "source": [
    "## Statsmodels\n",
    "\n",
    "Statsmodels provides a useful comparison, in that it is an independent implementation of OLS and provides theory based confidence intervals and p-values."
   ]
  },
  {
   "cell_type": "markdown",
   "id": "25",
   "metadata": {
    "papermill": {
     "duration": 0.047118,
     "end_time": "2021-11-19T10:49:32.153222",
     "exception": false,
     "start_time": "2021-11-19T10:49:32.106104",
     "status": "completed"
    },
    "tags": []
   },
   "source": [
    "### Control Model"
   ]
  },
  {
   "cell_type": "code",
   "execution_count": 16,
   "id": "26",
   "metadata": {
    "execution": {
     "iopub.execute_input": "2021-11-19T10:49:32.250384Z",
     "iopub.status.busy": "2021-11-19T10:49:32.249915Z",
     "iopub.status.idle": "2021-11-19T10:49:32.299004Z",
     "shell.execute_reply": "2021-11-19T10:49:32.299622Z"
    },
    "papermill": {
     "duration": 0.099459,
     "end_time": "2021-11-19T10:49:32.299802",
     "exception": false,
     "start_time": "2021-11-19T10:49:32.200343",
     "status": "completed"
    },
    "tags": [
     "hide_input"
    ]
   },
   "outputs": [
    {
     "data": {
      "text/html": [
       "<table class=\"simpletable\">\n",
       "<caption>OLS Regression Results</caption>\n",
       "<tr>\n",
       "  <th>Dep. Variable:</th>            <td>y</td>        <th>  R-squared:         </th> <td>   0.413</td>\n",
       "</tr>\n",
       "<tr>\n",
       "  <th>Model:</th>                   <td>OLS</td>       <th>  Adj. R-squared:    </th> <td>   0.410</td>\n",
       "</tr>\n",
       "<tr>\n",
       "  <th>Method:</th>             <td>Least Squares</td>  <th>  F-statistic:       </th> <td>   126.2</td>\n",
       "</tr>\n",
       "<tr>\n",
       "  <th>Date:</th>             <td>Fri, 19 Nov 2021</td> <th>  Prob (F-statistic):</th>  <td>  0.00</td> \n",
       "</tr>\n",
       "<tr>\n",
       "  <th>Time:</th>                 <td>21:49:32</td>     <th>  Log-Likelihood:    </th> <td> -4217.0</td>\n",
       "</tr>\n",
       "<tr>\n",
       "  <th>No. Observations:</th>      <td>  3789</td>      <th>  AIC:               </th> <td>   8478.</td>\n",
       "</tr>\n",
       "<tr>\n",
       "  <th>Df Residuals:</th>          <td>  3767</td>      <th>  BIC:               </th> <td>   8615.</td>\n",
       "</tr>\n",
       "<tr>\n",
       "  <th>Df Model:</th>              <td>    21</td>      <th>                     </th>     <td> </td>   \n",
       "</tr>\n",
       "<tr>\n",
       "  <th>Covariance Type:</th>      <td>nonrobust</td>    <th>                     </th>     <td> </td>   \n",
       "</tr>\n",
       "</table>\n",
       "<table class=\"simpletable\">\n",
       "<tr>\n",
       "                    <td></td>                      <th>coef</th>     <th>std err</th>      <th>t</th>      <th>P>|t|</th>  <th>[0.025</th>    <th>0.975]</th>  \n",
       "</tr>\n",
       "<tr>\n",
       "  <th>intercept</th>                            <td>   -0.0306</td> <td>    0.012</td> <td>   -2.499</td> <td> 0.012</td> <td>   -0.055</td> <td>   -0.007</td>\n",
       "</tr>\n",
       "<tr>\n",
       "  <th>ahgage_(34, 44]</th>                      <td>   -0.0649</td> <td>    0.024</td> <td>   -2.653</td> <td> 0.008</td> <td>   -0.113</td> <td>   -0.017</td>\n",
       "</tr>\n",
       "<tr>\n",
       "  <th>ahgage_(44, 54]</th>                      <td>   -0.5045</td> <td>    0.024</td> <td>  -21.140</td> <td> 0.000</td> <td>   -0.551</td> <td>   -0.458</td>\n",
       "</tr>\n",
       "<tr>\n",
       "  <th>ahgage_(54, 120]</th>                     <td>   -0.5550</td> <td>    0.025</td> <td>  -22.226</td> <td> 0.000</td> <td>   -0.604</td> <td>   -0.506</td>\n",
       "</tr>\n",
       "<tr>\n",
       "  <th>ahgsex_2.0</th>                           <td>   -0.0295</td> <td>    0.049</td> <td>   -0.607</td> <td> 0.544</td> <td>   -0.125</td> <td>    0.066</td>\n",
       "</tr>\n",
       "<tr>\n",
       "  <th>aedhigh1_3.0</th>                         <td>    0.0104</td> <td>    0.024</td> <td>    0.426</td> <td> 0.670</td> <td>   -0.038</td> <td>    0.058</td>\n",
       "</tr>\n",
       "<tr>\n",
       "  <th>aedhigh1_4.0</th>                         <td>   -0.0154</td> <td>    0.023</td> <td>   -0.671</td> <td> 0.502</td> <td>   -0.060</td> <td>    0.030</td>\n",
       "</tr>\n",
       "<tr>\n",
       "  <th>aedhigh1_5.0</th>                         <td>   -0.0109</td> <td>    0.025</td> <td>   -0.444</td> <td> 0.657</td> <td>   -0.059</td> <td>    0.037</td>\n",
       "</tr>\n",
       "<tr>\n",
       "  <th>aedhigh1_8.0</th>                         <td>   -0.0104</td> <td>    0.026</td> <td>   -0.404</td> <td> 0.687</td> <td>   -0.061</td> <td>    0.040</td>\n",
       "</tr>\n",
       "<tr>\n",
       "  <th>aedhigh1_9.0</th>                         <td>   -0.0643</td> <td>    0.031</td> <td>   -2.092</td> <td> 0.036</td> <td>   -0.124</td> <td>   -0.004</td>\n",
       "</tr>\n",
       "<tr>\n",
       "  <th>aesdtl_2.0</th>                           <td>   -0.0611</td> <td>    0.026</td> <td>   -2.370</td> <td> 0.018</td> <td>   -0.112</td> <td>   -0.011</td>\n",
       "</tr>\n",
       "<tr>\n",
       "  <th>aesdtl_3.0</th>                           <td>   -0.1613</td> <td>    0.023</td> <td>   -7.087</td> <td> 0.000</td> <td>   -0.206</td> <td>   -0.117</td>\n",
       "</tr>\n",
       "<tr>\n",
       "  <th>interact_ahgsex_2.0_ahgage_(34, 44]</th>  <td>   -0.0378</td> <td>    0.027</td> <td>   -1.396</td> <td> 0.163</td> <td>   -0.091</td> <td>    0.015</td>\n",
       "</tr>\n",
       "<tr>\n",
       "  <th>interact_ahgsex_2.0_ahgage_(44, 54]</th>  <td>    0.0361</td> <td>    0.026</td> <td>    1.393</td> <td> 0.164</td> <td>   -0.015</td> <td>    0.087</td>\n",
       "</tr>\n",
       "<tr>\n",
       "  <th>interact_ahgsex_2.0_ahgage_(54, 120]</th> <td>    0.0442</td> <td>    0.027</td> <td>    1.658</td> <td> 0.097</td> <td>   -0.008</td> <td>    0.097</td>\n",
       "</tr>\n",
       "<tr>\n",
       "  <th>interact_ahgsex_2.0_aedhigh1_3.0</th>     <td>    0.0156</td> <td>    0.026</td> <td>    0.592</td> <td> 0.554</td> <td>   -0.036</td> <td>    0.067</td>\n",
       "</tr>\n",
       "<tr>\n",
       "  <th>interact_ahgsex_2.0_aedhigh1_4.0</th>     <td>    0.0244</td> <td>    0.024</td> <td>    1.008</td> <td> 0.314</td> <td>   -0.023</td> <td>    0.072</td>\n",
       "</tr>\n",
       "<tr>\n",
       "  <th>interact_ahgsex_2.0_aedhigh1_5.0</th>     <td>   -0.0072</td> <td>    0.023</td> <td>   -0.319</td> <td> 0.750</td> <td>   -0.052</td> <td>    0.037</td>\n",
       "</tr>\n",
       "<tr>\n",
       "  <th>interact_ahgsex_2.0_aedhigh1_8.0</th>     <td>   -0.0084</td> <td>    0.029</td> <td>   -0.293</td> <td> 0.770</td> <td>   -0.065</td> <td>    0.048</td>\n",
       "</tr>\n",
       "<tr>\n",
       "  <th>interact_ahgsex_2.0_aedhigh1_9.0</th>     <td>   -0.0001</td> <td>    0.039</td> <td>   -0.003</td> <td> 0.998</td> <td>   -0.076</td> <td>    0.076</td>\n",
       "</tr>\n",
       "<tr>\n",
       "  <th>interact_ahgsex_2.0_aesdtl_2.0</th>       <td>    0.0314</td> <td>    0.029</td> <td>    1.087</td> <td> 0.277</td> <td>   -0.025</td> <td>    0.088</td>\n",
       "</tr>\n",
       "<tr>\n",
       "  <th>interact_ahgsex_2.0_aesdtl_3.0</th>       <td>   -0.0037</td> <td>    0.027</td> <td>   -0.137</td> <td> 0.891</td> <td>   -0.057</td> <td>    0.050</td>\n",
       "</tr>\n",
       "</table>\n",
       "<table class=\"simpletable\">\n",
       "<tr>\n",
       "  <th>Omnibus:</th>       <td> 4.482</td> <th>  Durbin-Watson:     </th> <td>   1.973</td>\n",
       "</tr>\n",
       "<tr>\n",
       "  <th>Prob(Omnibus):</th> <td> 0.106</td> <th>  Jarque-Bera (JB):  </th> <td>   4.527</td>\n",
       "</tr>\n",
       "<tr>\n",
       "  <th>Skew:</th>          <td>-0.082</td> <th>  Prob(JB):          </th> <td>   0.104</td>\n",
       "</tr>\n",
       "<tr>\n",
       "  <th>Kurtosis:</th>      <td> 2.956</td> <th>  Cond. No.          </th> <td>    13.0</td>\n",
       "</tr>\n",
       "</table><br/><br/>Notes:<br/>[1] Standard Errors assume that the covariance matrix of the errors is correctly specified."
      ],
      "text/plain": [
       "<class 'statsmodels.iolib.summary.Summary'>\n",
       "\"\"\"\n",
       "                            OLS Regression Results                            \n",
       "==============================================================================\n",
       "Dep. Variable:                      y   R-squared:                       0.413\n",
       "Model:                            OLS   Adj. R-squared:                  0.410\n",
       "Method:                 Least Squares   F-statistic:                     126.2\n",
       "Date:                Fri, 19 Nov 2021   Prob (F-statistic):               0.00\n",
       "Time:                        21:49:32   Log-Likelihood:                -4217.0\n",
       "No. Observations:                3789   AIC:                             8478.\n",
       "Df Residuals:                    3767   BIC:                             8615.\n",
       "Df Model:                          21                                         \n",
       "Covariance Type:            nonrobust                                         \n",
       "========================================================================================================\n",
       "                                           coef    std err          t      P>|t|      [0.025      0.975]\n",
       "--------------------------------------------------------------------------------------------------------\n",
       "intercept                               -0.0306      0.012     -2.499      0.012      -0.055      -0.007\n",
       "ahgage_(34, 44]                         -0.0649      0.024     -2.653      0.008      -0.113      -0.017\n",
       "ahgage_(44, 54]                         -0.5045      0.024    -21.140      0.000      -0.551      -0.458\n",
       "ahgage_(54, 120]                        -0.5550      0.025    -22.226      0.000      -0.604      -0.506\n",
       "ahgsex_2.0                              -0.0295      0.049     -0.607      0.544      -0.125       0.066\n",
       "aedhigh1_3.0                             0.0104      0.024      0.426      0.670      -0.038       0.058\n",
       "aedhigh1_4.0                            -0.0154      0.023     -0.671      0.502      -0.060       0.030\n",
       "aedhigh1_5.0                            -0.0109      0.025     -0.444      0.657      -0.059       0.037\n",
       "aedhigh1_8.0                            -0.0104      0.026     -0.404      0.687      -0.061       0.040\n",
       "aedhigh1_9.0                            -0.0643      0.031     -2.092      0.036      -0.124      -0.004\n",
       "aesdtl_2.0                              -0.0611      0.026     -2.370      0.018      -0.112      -0.011\n",
       "aesdtl_3.0                              -0.1613      0.023     -7.087      0.000      -0.206      -0.117\n",
       "interact_ahgsex_2.0_ahgage_(34, 44]     -0.0378      0.027     -1.396      0.163      -0.091       0.015\n",
       "interact_ahgsex_2.0_ahgage_(44, 54]      0.0361      0.026      1.393      0.164      -0.015       0.087\n",
       "interact_ahgsex_2.0_ahgage_(54, 120]     0.0442      0.027      1.658      0.097      -0.008       0.097\n",
       "interact_ahgsex_2.0_aedhigh1_3.0         0.0156      0.026      0.592      0.554      -0.036       0.067\n",
       "interact_ahgsex_2.0_aedhigh1_4.0         0.0244      0.024      1.008      0.314      -0.023       0.072\n",
       "interact_ahgsex_2.0_aedhigh1_5.0        -0.0072      0.023     -0.319      0.750      -0.052       0.037\n",
       "interact_ahgsex_2.0_aedhigh1_8.0        -0.0084      0.029     -0.293      0.770      -0.065       0.048\n",
       "interact_ahgsex_2.0_aedhigh1_9.0        -0.0001      0.039     -0.003      0.998      -0.076       0.076\n",
       "interact_ahgsex_2.0_aesdtl_2.0           0.0314      0.029      1.087      0.277      -0.025       0.088\n",
       "interact_ahgsex_2.0_aesdtl_3.0          -0.0037      0.027     -0.137      0.891      -0.057       0.050\n",
       "==============================================================================\n",
       "Omnibus:                        4.482   Durbin-Watson:                   1.973\n",
       "Prob(Omnibus):                  0.106   Jarque-Bera (JB):                4.527\n",
       "Skew:                          -0.082   Prob(JB):                        0.104\n",
       "Kurtosis:                       2.956   Cond. No.                         13.0\n",
       "==============================================================================\n",
       "\n",
       "Notes:\n",
       "[1] Standard Errors assume that the covariance matrix of the errors is correctly specified.\n",
       "\"\"\""
      ]
     },
     "execution_count": 16,
     "metadata": {},
     "output_type": "execute_result"
    }
   ],
   "source": [
    "x0 = sm.add_constant(X0)\n",
    "x0 = pd.DataFrame(x0, columns=['intercept']+features)\n",
    "model0 = sm.OLS(y0,x0)\n",
    "sm_result = model0.fit()\n",
    "sm_result.summary()"
   ]
  },
  {
   "cell_type": "markdown",
   "id": "27",
   "metadata": {
    "papermill": {
     "duration": 0.04913,
     "end_time": "2021-11-19T10:49:32.443097",
     "exception": false,
     "start_time": "2021-11-19T10:49:32.393967",
     "status": "completed"
    },
    "tags": []
   },
   "source": [
    "### Treated Model"
   ]
  },
  {
   "cell_type": "code",
   "execution_count": 17,
   "id": "28",
   "metadata": {
    "execution": {
     "iopub.execute_input": "2021-11-19T10:49:32.542887Z",
     "iopub.status.busy": "2021-11-19T10:49:32.542532Z",
     "iopub.status.idle": "2021-11-19T10:49:32.590304Z",
     "shell.execute_reply": "2021-11-19T10:49:32.590894Z"
    },
    "papermill": {
     "duration": 0.099587,
     "end_time": "2021-11-19T10:49:32.591074",
     "exception": false,
     "start_time": "2021-11-19T10:49:32.491487",
     "status": "completed"
    },
    "tags": [
     "hide_input"
    ]
   },
   "outputs": [
    {
     "data": {
      "text/html": [
       "<table class=\"simpletable\">\n",
       "<caption>OLS Regression Results</caption>\n",
       "<tr>\n",
       "  <th>Dep. Variable:</th>            <td>y</td>        <th>  R-squared:         </th> <td>   0.262</td>\n",
       "</tr>\n",
       "<tr>\n",
       "  <th>Model:</th>                   <td>OLS</td>       <th>  Adj. R-squared:    </th> <td>   0.251</td>\n",
       "</tr>\n",
       "<tr>\n",
       "  <th>Method:</th>             <td>Least Squares</td>  <th>  F-statistic:       </th> <td>   22.76</td>\n",
       "</tr>\n",
       "<tr>\n",
       "  <th>Date:</th>             <td>Fri, 19 Nov 2021</td> <th>  Prob (F-statistic):</th> <td>3.27e-74</td>\n",
       "</tr>\n",
       "<tr>\n",
       "  <th>Time:</th>                 <td>21:49:32</td>     <th>  Log-Likelihood:    </th> <td> -1746.6</td>\n",
       "</tr>\n",
       "<tr>\n",
       "  <th>No. Observations:</th>      <td>  1368</td>      <th>  AIC:               </th> <td>   3537.</td>\n",
       "</tr>\n",
       "<tr>\n",
       "  <th>Df Residuals:</th>          <td>  1346</td>      <th>  BIC:               </th> <td>   3652.</td>\n",
       "</tr>\n",
       "<tr>\n",
       "  <th>Df Model:</th>              <td>    21</td>      <th>                     </th>     <td> </td>   \n",
       "</tr>\n",
       "<tr>\n",
       "  <th>Covariance Type:</th>      <td>nonrobust</td>    <th>                     </th>     <td> </td>   \n",
       "</tr>\n",
       "</table>\n",
       "<table class=\"simpletable\">\n",
       "<tr>\n",
       "                    <td></td>                      <th>coef</th>     <th>std err</th>      <th>t</th>      <th>P>|t|</th>  <th>[0.025</th>    <th>0.975]</th>  \n",
       "</tr>\n",
       "<tr>\n",
       "  <th>intercept</th>                            <td>    0.0413</td> <td>    0.031</td> <td>    1.318</td> <td> 0.188</td> <td>   -0.020</td> <td>    0.103</td>\n",
       "</tr>\n",
       "<tr>\n",
       "  <th>ahgage_(34, 44]</th>                      <td>   -0.1517</td> <td>    0.039</td> <td>   -3.851</td> <td> 0.000</td> <td>   -0.229</td> <td>   -0.074</td>\n",
       "</tr>\n",
       "<tr>\n",
       "  <th>ahgage_(44, 54]</th>                      <td>   -0.4724</td> <td>    0.043</td> <td>  -10.887</td> <td> 0.000</td> <td>   -0.557</td> <td>   -0.387</td>\n",
       "</tr>\n",
       "<tr>\n",
       "  <th>ahgage_(54, 120]</th>                     <td>   -0.6433</td> <td>    0.069</td> <td>   -9.378</td> <td> 0.000</td> <td>   -0.778</td> <td>   -0.509</td>\n",
       "</tr>\n",
       "<tr>\n",
       "  <th>ahgsex_2.0</th>                           <td>   -0.0104</td> <td>    0.073</td> <td>   -0.143</td> <td> 0.886</td> <td>   -0.153</td> <td>    0.132</td>\n",
       "</tr>\n",
       "<tr>\n",
       "  <th>aedhigh1_3.0</th>                         <td>    0.0020</td> <td>    0.043</td> <td>    0.046</td> <td> 0.963</td> <td>   -0.083</td> <td>    0.087</td>\n",
       "</tr>\n",
       "<tr>\n",
       "  <th>aedhigh1_4.0</th>                         <td>    0.0048</td> <td>    0.041</td> <td>    0.118</td> <td> 0.906</td> <td>   -0.076</td> <td>    0.086</td>\n",
       "</tr>\n",
       "<tr>\n",
       "  <th>aedhigh1_5.0</th>                         <td>    0.0439</td> <td>    0.042</td> <td>    1.033</td> <td> 0.302</td> <td>   -0.039</td> <td>    0.127</td>\n",
       "</tr>\n",
       "<tr>\n",
       "  <th>aedhigh1_8.0</th>                         <td>   -0.0599</td> <td>    0.048</td> <td>   -1.237</td> <td> 0.216</td> <td>   -0.155</td> <td>    0.035</td>\n",
       "</tr>\n",
       "<tr>\n",
       "  <th>aedhigh1_9.0</th>                         <td>   -0.1200</td> <td>    0.060</td> <td>   -1.999</td> <td> 0.046</td> <td>   -0.238</td> <td>   -0.002</td>\n",
       "</tr>\n",
       "<tr>\n",
       "  <th>aesdtl_2.0</th>                           <td>   -0.0541</td> <td>    0.059</td> <td>   -0.917</td> <td> 0.359</td> <td>   -0.170</td> <td>    0.062</td>\n",
       "</tr>\n",
       "<tr>\n",
       "  <th>aesdtl_3.0</th>                           <td>   -0.2263</td> <td>    0.057</td> <td>   -3.976</td> <td> 0.000</td> <td>   -0.338</td> <td>   -0.115</td>\n",
       "</tr>\n",
       "<tr>\n",
       "  <th>interact_ahgsex_2.0_ahgage_(34, 44]</th>  <td>   -0.0017</td> <td>    0.041</td> <td>   -0.041</td> <td> 0.967</td> <td>   -0.082</td> <td>    0.079</td>\n",
       "</tr>\n",
       "<tr>\n",
       "  <th>interact_ahgsex_2.0_ahgage_(44, 54]</th>  <td>   -0.0150</td> <td>    0.046</td> <td>   -0.328</td> <td> 0.743</td> <td>   -0.105</td> <td>    0.075</td>\n",
       "</tr>\n",
       "<tr>\n",
       "  <th>interact_ahgsex_2.0_ahgage_(54, 120]</th> <td>    0.0242</td> <td>    0.074</td> <td>    0.329</td> <td> 0.743</td> <td>   -0.120</td> <td>    0.168</td>\n",
       "</tr>\n",
       "<tr>\n",
       "  <th>interact_ahgsex_2.0_aedhigh1_3.0</th>     <td>   -0.0087</td> <td>    0.044</td> <td>   -0.199</td> <td> 0.842</td> <td>   -0.095</td> <td>    0.077</td>\n",
       "</tr>\n",
       "<tr>\n",
       "  <th>interact_ahgsex_2.0_aedhigh1_4.0</th>     <td>   -0.0231</td> <td>    0.042</td> <td>   -0.555</td> <td> 0.579</td> <td>   -0.105</td> <td>    0.059</td>\n",
       "</tr>\n",
       "<tr>\n",
       "  <th>interact_ahgsex_2.0_aedhigh1_5.0</th>     <td>   -0.0506</td> <td>    0.038</td> <td>   -1.348</td> <td> 0.178</td> <td>   -0.124</td> <td>    0.023</td>\n",
       "</tr>\n",
       "<tr>\n",
       "  <th>interact_ahgsex_2.0_aedhigh1_8.0</th>     <td>    0.0360</td> <td>    0.050</td> <td>    0.713</td> <td> 0.476</td> <td>   -0.063</td> <td>    0.135</td>\n",
       "</tr>\n",
       "<tr>\n",
       "  <th>interact_ahgsex_2.0_aedhigh1_9.0</th>     <td>    0.0178</td> <td>    0.070</td> <td>    0.254</td> <td> 0.800</td> <td>   -0.120</td> <td>    0.155</td>\n",
       "</tr>\n",
       "<tr>\n",
       "  <th>interact_ahgsex_2.0_aesdtl_2.0</th>       <td>    0.0528</td> <td>    0.061</td> <td>    0.870</td> <td> 0.385</td> <td>   -0.066</td> <td>    0.172</td>\n",
       "</tr>\n",
       "<tr>\n",
       "  <th>interact_ahgsex_2.0_aesdtl_3.0</th>       <td>    0.0944</td> <td>    0.061</td> <td>    1.553</td> <td> 0.121</td> <td>   -0.025</td> <td>    0.214</td>\n",
       "</tr>\n",
       "</table>\n",
       "<table class=\"simpletable\">\n",
       "<tr>\n",
       "  <th>Omnibus:</th>       <td>160.553</td> <th>  Durbin-Watson:     </th> <td>   2.002</td>\n",
       "</tr>\n",
       "<tr>\n",
       "  <th>Prob(Omnibus):</th> <td> 0.000</td>  <th>  Jarque-Bera (JB):  </th> <td>  84.265</td>\n",
       "</tr>\n",
       "<tr>\n",
       "  <th>Skew:</th>          <td>-0.454</td>  <th>  Prob(JB):          </th> <td>5.04e-19</td>\n",
       "</tr>\n",
       "<tr>\n",
       "  <th>Kurtosis:</th>      <td> 2.191</td>  <th>  Cond. No.          </th> <td>    10.1</td>\n",
       "</tr>\n",
       "</table><br/><br/>Notes:<br/>[1] Standard Errors assume that the covariance matrix of the errors is correctly specified."
      ],
      "text/plain": [
       "<class 'statsmodels.iolib.summary.Summary'>\n",
       "\"\"\"\n",
       "                            OLS Regression Results                            \n",
       "==============================================================================\n",
       "Dep. Variable:                      y   R-squared:                       0.262\n",
       "Model:                            OLS   Adj. R-squared:                  0.251\n",
       "Method:                 Least Squares   F-statistic:                     22.76\n",
       "Date:                Fri, 19 Nov 2021   Prob (F-statistic):           3.27e-74\n",
       "Time:                        21:49:32   Log-Likelihood:                -1746.6\n",
       "No. Observations:                1368   AIC:                             3537.\n",
       "Df Residuals:                    1346   BIC:                             3652.\n",
       "Df Model:                          21                                         \n",
       "Covariance Type:            nonrobust                                         \n",
       "========================================================================================================\n",
       "                                           coef    std err          t      P>|t|      [0.025      0.975]\n",
       "--------------------------------------------------------------------------------------------------------\n",
       "intercept                                0.0413      0.031      1.318      0.188      -0.020       0.103\n",
       "ahgage_(34, 44]                         -0.1517      0.039     -3.851      0.000      -0.229      -0.074\n",
       "ahgage_(44, 54]                         -0.4724      0.043    -10.887      0.000      -0.557      -0.387\n",
       "ahgage_(54, 120]                        -0.6433      0.069     -9.378      0.000      -0.778      -0.509\n",
       "ahgsex_2.0                              -0.0104      0.073     -0.143      0.886      -0.153       0.132\n",
       "aedhigh1_3.0                             0.0020      0.043      0.046      0.963      -0.083       0.087\n",
       "aedhigh1_4.0                             0.0048      0.041      0.118      0.906      -0.076       0.086\n",
       "aedhigh1_5.0                             0.0439      0.042      1.033      0.302      -0.039       0.127\n",
       "aedhigh1_8.0                            -0.0599      0.048     -1.237      0.216      -0.155       0.035\n",
       "aedhigh1_9.0                            -0.1200      0.060     -1.999      0.046      -0.238      -0.002\n",
       "aesdtl_2.0                              -0.0541      0.059     -0.917      0.359      -0.170       0.062\n",
       "aesdtl_3.0                              -0.2263      0.057     -3.976      0.000      -0.338      -0.115\n",
       "interact_ahgsex_2.0_ahgage_(34, 44]     -0.0017      0.041     -0.041      0.967      -0.082       0.079\n",
       "interact_ahgsex_2.0_ahgage_(44, 54]     -0.0150      0.046     -0.328      0.743      -0.105       0.075\n",
       "interact_ahgsex_2.0_ahgage_(54, 120]     0.0242      0.074      0.329      0.743      -0.120       0.168\n",
       "interact_ahgsex_2.0_aedhigh1_3.0        -0.0087      0.044     -0.199      0.842      -0.095       0.077\n",
       "interact_ahgsex_2.0_aedhigh1_4.0        -0.0231      0.042     -0.555      0.579      -0.105       0.059\n",
       "interact_ahgsex_2.0_aedhigh1_5.0        -0.0506      0.038     -1.348      0.178      -0.124       0.023\n",
       "interact_ahgsex_2.0_aedhigh1_8.0         0.0360      0.050      0.713      0.476      -0.063       0.135\n",
       "interact_ahgsex_2.0_aedhigh1_9.0         0.0178      0.070      0.254      0.800      -0.120       0.155\n",
       "interact_ahgsex_2.0_aesdtl_2.0           0.0528      0.061      0.870      0.385      -0.066       0.172\n",
       "interact_ahgsex_2.0_aesdtl_3.0           0.0944      0.061      1.553      0.121      -0.025       0.214\n",
       "==============================================================================\n",
       "Omnibus:                      160.553   Durbin-Watson:                   2.002\n",
       "Prob(Omnibus):                  0.000   Jarque-Bera (JB):               84.265\n",
       "Skew:                          -0.454   Prob(JB):                     5.04e-19\n",
       "Kurtosis:                       2.191   Cond. No.                         10.1\n",
       "==============================================================================\n",
       "\n",
       "Notes:\n",
       "[1] Standard Errors assume that the covariance matrix of the errors is correctly specified.\n",
       "\"\"\""
      ]
     },
     "execution_count": 17,
     "metadata": {},
     "output_type": "execute_result"
    }
   ],
   "source": [
    "x1 = sm.add_constant(X1)\n",
    "x1 = pd.DataFrame(x1, columns=['intercept']+features)\n",
    "model1 = sm.OLS(y1,x1)\n",
    "sm_result = model1.fit()\n",
    "sm_result.summary()"
   ]
  },
  {
   "cell_type": "markdown",
   "id": "29",
   "metadata": {
    "papermill": {
     "duration": 0.051297,
     "end_time": "2021-11-19T10:49:32.736865",
     "exception": false,
     "start_time": "2021-11-19T10:49:32.685568",
     "status": "completed"
    },
    "tags": []
   },
   "source": [
    "### Fully coupled model\n",
    "Fit a single model for both treatment and control surfaces with a treatment indicator. \n",
    "\n",
    "```{note}\n",
    "This assumes there is no treatment effect heterogeneity\n",
    "```"
   ]
  },
  {
   "cell_type": "code",
   "execution_count": 18,
   "id": "30",
   "metadata": {
    "execution": {
     "iopub.execute_input": "2021-11-19T10:49:32.841258Z",
     "iopub.status.busy": "2021-11-19T10:49:32.840958Z",
     "iopub.status.idle": "2021-11-19T10:49:32.893816Z",
     "shell.execute_reply": "2021-11-19T10:49:32.894363Z"
    },
    "papermill": {
     "duration": 0.106845,
     "end_time": "2021-11-19T10:49:32.894537",
     "exception": false,
     "start_time": "2021-11-19T10:49:32.787692",
     "status": "completed"
    },
    "tags": [
     "hide_input"
    ]
   },
   "outputs": [
    {
     "data": {
      "text/html": [
       "<table class=\"simpletable\">\n",
       "<caption>OLS Regression Results</caption>\n",
       "<tr>\n",
       "  <th>Dep. Variable:</th>            <td>y</td>        <th>  R-squared:         </th> <td>   0.399</td> \n",
       "</tr>\n",
       "<tr>\n",
       "  <th>Model:</th>                   <td>OLS</td>       <th>  Adj. R-squared:    </th> <td>   0.396</td> \n",
       "</tr>\n",
       "<tr>\n",
       "  <th>Method:</th>             <td>Least Squares</td>  <th>  F-statistic:       </th> <td>   154.7</td> \n",
       "</tr>\n",
       "<tr>\n",
       "  <th>Date:</th>             <td>Fri, 19 Nov 2021</td> <th>  Prob (F-statistic):</th>  <td>  0.00</td>  \n",
       "</tr>\n",
       "<tr>\n",
       "  <th>Time:</th>                 <td>21:49:32</td>     <th>  Log-Likelihood:    </th> <td> -6005.6</td> \n",
       "</tr>\n",
       "<tr>\n",
       "  <th>No. Observations:</th>      <td>  5157</td>      <th>  AIC:               </th> <td>1.206e+04</td>\n",
       "</tr>\n",
       "<tr>\n",
       "  <th>Df Residuals:</th>          <td>  5134</td>      <th>  BIC:               </th> <td>1.221e+04</td>\n",
       "</tr>\n",
       "<tr>\n",
       "  <th>Df Model:</th>              <td>    22</td>      <th>                     </th>     <td> </td>    \n",
       "</tr>\n",
       "<tr>\n",
       "  <th>Covariance Type:</th>      <td>nonrobust</td>    <th>                     </th>     <td> </td>    \n",
       "</tr>\n",
       "</table>\n",
       "<table class=\"simpletable\">\n",
       "<tr>\n",
       "                    <td></td>                      <th>coef</th>     <th>std err</th>      <th>t</th>      <th>P>|t|</th>  <th>[0.025</th>    <th>0.975]</th>  \n",
       "</tr>\n",
       "<tr>\n",
       "  <th>intercept</th>                            <td>   -0.0286</td> <td>    0.013</td> <td>   -2.229</td> <td> 0.026</td> <td>   -0.054</td> <td>   -0.003</td>\n",
       "</tr>\n",
       "<tr>\n",
       "  <th>treatment</th>                            <td>    0.1077</td> <td>    0.026</td> <td>    4.157</td> <td> 0.000</td> <td>    0.057</td> <td>    0.159</td>\n",
       "</tr>\n",
       "<tr>\n",
       "  <th>ahgage_(34, 44]</th>                      <td>   -0.0930</td> <td>    0.021</td> <td>   -4.515</td> <td> 0.000</td> <td>   -0.133</td> <td>   -0.053</td>\n",
       "</tr>\n",
       "<tr>\n",
       "  <th>ahgage_(44, 54]</th>                      <td>   -0.5007</td> <td>    0.021</td> <td>  -24.221</td> <td> 0.000</td> <td>   -0.541</td> <td>   -0.460</td>\n",
       "</tr>\n",
       "<tr>\n",
       "  <th>ahgage_(54, 120]</th>                     <td>   -0.5663</td> <td>    0.023</td> <td>  -24.959</td> <td> 0.000</td> <td>   -0.611</td> <td>   -0.522</td>\n",
       "</tr>\n",
       "<tr>\n",
       "  <th>ahgsex_2.0</th>                           <td>   -0.0208</td> <td>    0.040</td> <td>   -0.523</td> <td> 0.601</td> <td>   -0.099</td> <td>    0.057</td>\n",
       "</tr>\n",
       "<tr>\n",
       "  <th>aedhigh1_3.0</th>                         <td>    0.0081</td> <td>    0.021</td> <td>    0.380</td> <td> 0.704</td> <td>   -0.034</td> <td>    0.050</td>\n",
       "</tr>\n",
       "<tr>\n",
       "  <th>aedhigh1_4.0</th>                         <td>   -0.0107</td> <td>    0.020</td> <td>   -0.536</td> <td> 0.592</td> <td>   -0.050</td> <td>    0.029</td>\n",
       "</tr>\n",
       "<tr>\n",
       "  <th>aedhigh1_5.0</th>                         <td>    0.0032</td> <td>    0.021</td> <td>    0.153</td> <td> 0.879</td> <td>   -0.038</td> <td>    0.045</td>\n",
       "</tr>\n",
       "<tr>\n",
       "  <th>aedhigh1_8.0</th>                         <td>   -0.0240</td> <td>    0.023</td> <td>   -1.061</td> <td> 0.289</td> <td>   -0.068</td> <td>    0.020</td>\n",
       "</tr>\n",
       "<tr>\n",
       "  <th>aedhigh1_9.0</th>                         <td>   -0.0721</td> <td>    0.027</td> <td>   -2.666</td> <td> 0.008</td> <td>   -0.125</td> <td>   -0.019</td>\n",
       "</tr>\n",
       "<tr>\n",
       "  <th>aesdtl_2.0</th>                           <td>   -0.0597</td> <td>    0.024</td> <td>   -2.494</td> <td> 0.013</td> <td>   -0.107</td> <td>   -0.013</td>\n",
       "</tr>\n",
       "<tr>\n",
       "  <th>aesdtl_3.0</th>                           <td>   -0.1712</td> <td>    0.021</td> <td>   -7.968</td> <td> 0.000</td> <td>   -0.213</td> <td>   -0.129</td>\n",
       "</tr>\n",
       "<tr>\n",
       "  <th>interact_ahgsex_2.0_ahgage_(34, 44]</th>  <td>   -0.0301</td> <td>    0.022</td> <td>   -1.352</td> <td> 0.176</td> <td>   -0.074</td> <td>    0.014</td>\n",
       "</tr>\n",
       "<tr>\n",
       "  <th>interact_ahgsex_2.0_ahgage_(44, 54]</th>  <td>    0.0214</td> <td>    0.022</td> <td>    0.968</td> <td> 0.333</td> <td>   -0.022</td> <td>    0.065</td>\n",
       "</tr>\n",
       "<tr>\n",
       "  <th>interact_ahgsex_2.0_ahgage_(54, 120]</th> <td>    0.0340</td> <td>    0.024</td> <td>    1.439</td> <td> 0.150</td> <td>   -0.012</td> <td>    0.080</td>\n",
       "</tr>\n",
       "<tr>\n",
       "  <th>interact_ahgsex_2.0_aedhigh1_3.0</th>     <td>    0.0069</td> <td>    0.022</td> <td>    0.310</td> <td> 0.757</td> <td>   -0.037</td> <td>    0.051</td>\n",
       "</tr>\n",
       "<tr>\n",
       "  <th>interact_ahgsex_2.0_aedhigh1_4.0</th>     <td>    0.0107</td> <td>    0.021</td> <td>    0.510</td> <td> 0.610</td> <td>   -0.030</td> <td>    0.052</td>\n",
       "</tr>\n",
       "<tr>\n",
       "  <th>interact_ahgsex_2.0_aedhigh1_5.0</th>     <td>   -0.0199</td> <td>    0.019</td> <td>   -1.034</td> <td> 0.301</td> <td>   -0.058</td> <td>    0.018</td>\n",
       "</tr>\n",
       "<tr>\n",
       "  <th>interact_ahgsex_2.0_aedhigh1_8.0</th>     <td>    0.0045</td> <td>    0.025</td> <td>    0.183</td> <td> 0.855</td> <td>   -0.044</td> <td>    0.053</td>\n",
       "</tr>\n",
       "<tr>\n",
       "  <th>interact_ahgsex_2.0_aedhigh1_9.0</th>     <td>   -0.0031</td> <td>    0.034</td> <td>   -0.094</td> <td> 0.925</td> <td>   -0.069</td> <td>    0.063</td>\n",
       "</tr>\n",
       "<tr>\n",
       "  <th>interact_ahgsex_2.0_aesdtl_2.0</th>       <td>    0.0402</td> <td>    0.026</td> <td>    1.538</td> <td> 0.124</td> <td>   -0.011</td> <td>    0.091</td>\n",
       "</tr>\n",
       "<tr>\n",
       "  <th>interact_ahgsex_2.0_aesdtl_3.0</th>       <td>    0.0196</td> <td>    0.025</td> <td>    0.781</td> <td> 0.435</td> <td>   -0.030</td> <td>    0.069</td>\n",
       "</tr>\n",
       "</table>\n",
       "<table class=\"simpletable\">\n",
       "<tr>\n",
       "  <th>Omnibus:</th>       <td>71.595</td> <th>  Durbin-Watson:     </th> <td>   1.920</td>\n",
       "</tr>\n",
       "<tr>\n",
       "  <th>Prob(Omnibus):</th> <td> 0.000</td> <th>  Jarque-Bera (JB):  </th> <td>  63.883</td>\n",
       "</tr>\n",
       "<tr>\n",
       "  <th>Skew:</th>          <td>-0.222</td> <th>  Prob(JB):          </th> <td>1.34e-14</td>\n",
       "</tr>\n",
       "<tr>\n",
       "  <th>Kurtosis:</th>      <td> 2.685</td> <th>  Cond. No.          </th> <td>    11.3</td>\n",
       "</tr>\n",
       "</table><br/><br/>Notes:<br/>[1] Standard Errors assume that the covariance matrix of the errors is correctly specified."
      ],
      "text/plain": [
       "<class 'statsmodels.iolib.summary.Summary'>\n",
       "\"\"\"\n",
       "                            OLS Regression Results                            \n",
       "==============================================================================\n",
       "Dep. Variable:                      y   R-squared:                       0.399\n",
       "Model:                            OLS   Adj. R-squared:                  0.396\n",
       "Method:                 Least Squares   F-statistic:                     154.7\n",
       "Date:                Fri, 19 Nov 2021   Prob (F-statistic):               0.00\n",
       "Time:                        21:49:32   Log-Likelihood:                -6005.6\n",
       "No. Observations:                5157   AIC:                         1.206e+04\n",
       "Df Residuals:                    5134   BIC:                         1.221e+04\n",
       "Df Model:                          22                                         \n",
       "Covariance Type:            nonrobust                                         \n",
       "========================================================================================================\n",
       "                                           coef    std err          t      P>|t|      [0.025      0.975]\n",
       "--------------------------------------------------------------------------------------------------------\n",
       "intercept                               -0.0286      0.013     -2.229      0.026      -0.054      -0.003\n",
       "treatment                                0.1077      0.026      4.157      0.000       0.057       0.159\n",
       "ahgage_(34, 44]                         -0.0930      0.021     -4.515      0.000      -0.133      -0.053\n",
       "ahgage_(44, 54]                         -0.5007      0.021    -24.221      0.000      -0.541      -0.460\n",
       "ahgage_(54, 120]                        -0.5663      0.023    -24.959      0.000      -0.611      -0.522\n",
       "ahgsex_2.0                              -0.0208      0.040     -0.523      0.601      -0.099       0.057\n",
       "aedhigh1_3.0                             0.0081      0.021      0.380      0.704      -0.034       0.050\n",
       "aedhigh1_4.0                            -0.0107      0.020     -0.536      0.592      -0.050       0.029\n",
       "aedhigh1_5.0                             0.0032      0.021      0.153      0.879      -0.038       0.045\n",
       "aedhigh1_8.0                            -0.0240      0.023     -1.061      0.289      -0.068       0.020\n",
       "aedhigh1_9.0                            -0.0721      0.027     -2.666      0.008      -0.125      -0.019\n",
       "aesdtl_2.0                              -0.0597      0.024     -2.494      0.013      -0.107      -0.013\n",
       "aesdtl_3.0                              -0.1712      0.021     -7.968      0.000      -0.213      -0.129\n",
       "interact_ahgsex_2.0_ahgage_(34, 44]     -0.0301      0.022     -1.352      0.176      -0.074       0.014\n",
       "interact_ahgsex_2.0_ahgage_(44, 54]      0.0214      0.022      0.968      0.333      -0.022       0.065\n",
       "interact_ahgsex_2.0_ahgage_(54, 120]     0.0340      0.024      1.439      0.150      -0.012       0.080\n",
       "interact_ahgsex_2.0_aedhigh1_3.0         0.0069      0.022      0.310      0.757      -0.037       0.051\n",
       "interact_ahgsex_2.0_aedhigh1_4.0         0.0107      0.021      0.510      0.610      -0.030       0.052\n",
       "interact_ahgsex_2.0_aedhigh1_5.0        -0.0199      0.019     -1.034      0.301      -0.058       0.018\n",
       "interact_ahgsex_2.0_aedhigh1_8.0         0.0045      0.025      0.183      0.855      -0.044       0.053\n",
       "interact_ahgsex_2.0_aedhigh1_9.0        -0.0031      0.034     -0.094      0.925      -0.069       0.063\n",
       "interact_ahgsex_2.0_aesdtl_2.0           0.0402      0.026      1.538      0.124      -0.011       0.091\n",
       "interact_ahgsex_2.0_aesdtl_3.0           0.0196      0.025      0.781      0.435      -0.030       0.069\n",
       "==============================================================================\n",
       "Omnibus:                       71.595   Durbin-Watson:                   1.920\n",
       "Prob(Omnibus):                  0.000   Jarque-Bera (JB):               63.883\n",
       "Skew:                          -0.222   Prob(JB):                     1.34e-14\n",
       "Kurtosis:                       2.685   Cond. No.                         11.3\n",
       "==============================================================================\n",
       "\n",
       "Notes:\n",
       "[1] Standard Errors assume that the covariance matrix of the errors is correctly specified.\n",
       "\"\"\""
      ]
     },
     "execution_count": 18,
     "metadata": {},
     "output_type": "execute_result"
    }
   ],
   "source": [
    "x = np.hstack((t.reshape(-1,1),X))\n",
    "x = sm.add_constant(x)\n",
    "x = pd.DataFrame(x, columns=['intercept','treatment']+features)\n",
    "model = sm.OLS(y,x)\n",
    "model.fit().summary()"
   ]
  }
 ],
 "metadata": {
  "celltoolbar": "Tags",
  "kernelspec": {
   "display_name": "Python 3 (ipykernel)",
   "language": "python",
   "name": "python3"
  },
  "language_info": {
   "codemirror_mode": {
    "name": "ipython",
    "version": 3
   },
   "file_extension": ".py",
   "mimetype": "text/x-python",
   "name": "python",
   "nbconvert_exporter": "python",
   "pygments_lexer": "ipython3",
   "version": "3.9.7"
  },
  "papermill": {
   "default_parameters": {},
   "duration": 9.011345,
   "end_time": "2021-11-19T10:49:33.193899",
   "environment_variables": {},
   "exception": null,
   "input_path": "OLS-basic-vars.ipynb",
   "output_path": "results/OLS-basic-vars-default.ipynb",
   "parameters": {
    "outcome": "y_wsce",
    "test": false,
    "treatment": "redufl"
   },
   "start_time": "2021-11-19T10:49:24.182554",
   "version": "2.3.3"
  }
 },
 "nbformat": 4,
 "nbformat_minor": 5
}