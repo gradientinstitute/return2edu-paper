{
 "cells": [
  {
   "cell_type": "markdown",
   "id": "89c4374d",
   "metadata": {},
   "source": [
    "# lasso-100-restricted"
   ]
  },
  {
   "cell_type": "markdown",
   "id": "0",
   "metadata": {
    "papermill": {
     "duration": 0.036707,
     "end_time": "2021-11-30T01:33:57.378260",
     "exception": false,
     "start_time": "2021-11-30T01:33:57.341553",
     "status": "completed"
    },
    "tags": [
     "Overview"
    ]
   },
   "source": [
    "# Direct Regression - Bayesian Version\n",
    "\n",
    "## Response Model\n",
    "\n",
    "How well can we predict outcomes $Y$ conditional on treatment $T$ and other covariates $Z$?\n",
    "\n",
    "### Treatent variables\n",
    "\n",
    "   - **reduhl**\tCompleted re-education based on highest level of attainment\n",
    "   - **redudl**\tCompleted re-education based on detailed qualifications\n",
    "   - **redufl**\tCompleted re-education using highest lvl and detailed qualifications.\n",
    "\n",
    "### Outcome variables\n",
    "   - Mental health in 2019 (**mh**). This is the transformed mental health scores from the aggregation of mental health items of the SF-36 Health Survey, as reported by the individual in 2019. It ranges from 0 to 100, with higher scores indicating better mental health.  \n",
    "   - Working hours in 2019 (**wkhr**) records the total number of hours the individual works in all jobs in a week on average. Working hours are set to 0 for those not working. \n",
    "   - Hourly Wages in 2019 (**rlwage**) records the average hourly wage for the individual’s main job in 2019. Hourly wages are set to 0 for those not working and set to missing for those reporting working more than 100 hours a week. \n",
    "   \n",
    "#### Columns explicitly excluded\n",
    "   - **xwaveid** (unique identifier)\n",
    "   - **p_rcom*** (timing of completion of re-education, proxies treatment) TODO think about how we would include this\n",
    "   - **p_cotrl** (first avail 2003)\n",
    "   - **p_rdf*** (first avail 2012)"
   ]
  },
  {
   "cell_type": "code",
   "execution_count": 1,
   "id": "1",
   "metadata": {
    "execution": {
     "iopub.execute_input": "2021-11-30T01:33:57.411221Z",
     "iopub.status.busy": "2021-11-30T01:33:57.410728Z",
     "iopub.status.idle": "2021-11-30T01:33:59.093966Z",
     "shell.execute_reply": "2021-11-30T01:33:59.094267Z"
    },
    "papermill": {
     "duration": 1.700946,
     "end_time": "2021-11-30T01:33:59.094446",
     "exception": false,
     "start_time": "2021-11-30T01:33:57.393500",
     "status": "completed"
    },
    "tags": [
     "hide_cell"
    ]
   },
   "outputs": [],
   "source": [
    "import numpy as np\n",
    "import pandas as pd\n",
    "import statsmodels.api as sm\n",
    "import matplotlib.pyplot as plt\n",
    "import torch\n",
    "import pyro\n",
    "import pyro.distributions as dist\n",
    "from pyro.infer import MCMC, NUTS\n",
    "\n",
    "from scipy.stats import norm, mstats\n",
    "from cinspect.estimators import BayesianRidgeStat\n",
    "from sklearn.gaussian_process import GaussianProcessRegressor\n",
    "from sklearn.gaussian_process.kernels import WhiteKernel, Matern, DotProduct\n",
    "from sklearn.model_selection import cross_validate, KFold\n",
    "from sklearn.metrics import r2_score\n",
    "\n",
    "from reed import drop_missing_treatment_or_outcome, Model, transform_outcome\n",
    "from direct_regression import seperate_and_transform_data, print_unconditional_effects\n",
    "\n",
    "\n",
    "torch.set_default_tensor_type(torch.DoubleTensor) # set the default to float64\n",
    "%matplotlib inline"
   ]
  },
  {
   "cell_type": "markdown",
   "id": "2",
   "metadata": {
    "papermill": {
     "duration": 0.008848,
     "end_time": "2021-11-30T01:33:59.113539",
     "exception": false,
     "start_time": "2021-11-30T01:33:59.104691",
     "status": "completed"
    },
    "tags": []
   },
   "source": [
    "## Analysis Parameters"
   ]
  },
  {
   "cell_type": "code",
   "execution_count": 2,
   "id": "3",
   "metadata": {
    "execution": {
     "iopub.execute_input": "2021-11-30T01:33:59.136010Z",
     "iopub.status.busy": "2021-11-30T01:33:59.135669Z",
     "iopub.status.idle": "2021-11-30T01:33:59.137507Z",
     "shell.execute_reply": "2021-11-30T01:33:59.137226Z"
    },
    "papermill": {
     "duration": 0.015221,
     "end_time": "2021-11-30T01:33:59.137585",
     "exception": false,
     "start_time": "2021-11-30T01:33:59.122364",
     "status": "completed"
    },
    "tags": [
     "parameters"
    ]
   },
   "outputs": [],
   "source": [
    "log_outcome=True\n",
    "standardize_outcome=True\n",
    "exclude_patterns = [\n",
    "    '^reduhl$', '^rehllt$', '^redudl$', '^redufl$', '^redllt$', '^refllt$',\n",
    "    '^rlwage$', '^mh$', '^mhbm$', '^wkhr$', '^y_', '^p_rcom','^p_rdf','^p_cotrl',\n",
    "    '^xwaveid$','p_rcom18','^aedcq', '^abnfsty','^aedcqfpt','^aedqstdy'\n",
    "]\n",
    "data_load_func = lambda filepath: pd.read_csv(filepath, index_col='xwaveid')\n",
    "\n",
    "#configuration_name = 'default'\n",
    "outcome = 'y_wsce'\n",
    "treatment = 'redufl'\n",
    "test = False\n",
    "data_file = \"data/all_lasso_selected_100.csv\"\n",
    "xval_gp = False\n",
    "laplace_prior = False "
   ]
  },
  {
   "cell_type": "code",
   "execution_count": 3,
   "id": "f70ec1b6",
   "metadata": {
    "execution": {
     "iopub.execute_input": "2021-11-30T01:33:59.159449Z",
     "iopub.status.busy": "2021-11-30T01:33:59.159145Z",
     "iopub.status.idle": "2021-11-30T01:33:59.160462Z",
     "shell.execute_reply": "2021-11-30T01:33:59.160692Z"
    },
    "papermill": {
     "duration": 0.013837,
     "end_time": "2021-11-30T01:33:59.160782",
     "exception": false,
     "start_time": "2021-11-30T01:33:59.146945",
     "status": "completed"
    },
    "tags": [
     "injected-parameters"
    ]
   },
   "outputs": [],
   "source": [
    "# Parameters\n",
    "configuration_name = \"lasso-100-restricted\"\n",
    "outcome = \"y_wsce\"\n",
    "treatment = \"redufl\"\n",
    "test = False\n",
    "data_file = \"data/all_lasso_selected_100_restricted.csv\"\n",
    "release = \"restricted\"\n",
    "laplace_prior = False\n",
    "xval_gp = True\n"
   ]
  },
  {
   "cell_type": "markdown",
   "id": "4",
   "metadata": {
    "papermill": {
     "duration": 0.009071,
     "end_time": "2021-11-30T01:33:59.179194",
     "exception": false,
     "start_time": "2021-11-30T01:33:59.170123",
     "status": "completed"
    },
    "tags": []
   },
   "source": [
    "## Load the data"
   ]
  },
  {
   "cell_type": "code",
   "execution_count": 4,
   "id": "5",
   "metadata": {
    "execution": {
     "iopub.execute_input": "2021-11-30T01:33:59.200606Z",
     "iopub.status.busy": "2021-11-30T01:33:59.200254Z",
     "iopub.status.idle": "2021-11-30T01:33:59.342861Z",
     "shell.execute_reply": "2021-11-30T01:33:59.342546Z"
    },
    "papermill": {
     "duration": 0.154781,
     "end_time": "2021-11-30T01:33:59.342939",
     "exception": false,
     "start_time": "2021-11-30T01:33:59.188158",
     "status": "completed"
    },
    "tags": [
     "hide_cell"
    ]
   },
   "outputs": [
    {
     "name": "stdout",
     "output_type": "stream",
     "text": [
      "Dropped 284 rows missing treatment or outcome.\n"
     ]
    },
    {
     "data": {
      "image/png": "[encoded data removed]",
      "text/plain": [
       "<Figure size 432x288 with 1 Axes>"
      ]
     },
     "metadata": {
      "needs_background": "light"
     },
     "output_type": "display_data"
    }
   ],
   "source": [
    "data = data_load_func(data_file)\n",
    "drop_missing_treatment_or_outcome(data, treatment, outcome)\n",
    "data[outcome] = transform_outcome(data[outcome],log_outcome, standardize_outcome)\n",
    "\n",
    "    \n",
    "plt.hist(data[outcome])\n",
    "plt.xlabel(outcome)\n",
    "plt.ylabel(\"count\")\n",
    "plt.title(\"Distribution of outcomes\");"
   ]
  },
  {
   "cell_type": "markdown",
   "id": "6",
   "metadata": {
    "papermill": {
     "duration": 0.009716,
     "end_time": "2021-11-30T01:33:59.362664",
     "exception": false,
     "start_time": "2021-11-30T01:33:59.352948",
     "status": "completed"
    },
    "tags": []
   },
   "source": [
    "## Prepare data for modeling\n",
    "\n",
    "- split into treated/control\n",
    "- impute missing values and scale\n",
    "- separate features from outcomes&treatments\n",
    "\n"
   ]
  },
  {
   "cell_type": "code",
   "execution_count": 5,
   "id": "7",
   "metadata": {
    "execution": {
     "iopub.execute_input": "2021-11-30T01:33:59.393205Z",
     "iopub.status.busy": "2021-11-30T01:33:59.392871Z",
     "iopub.status.idle": "2021-11-30T01:33:59.412371Z",
     "shell.execute_reply": "2021-11-30T01:33:59.412059Z"
    },
    "papermill": {
     "duration": 0.040159,
     "end_time": "2021-11-30T01:33:59.412452",
     "exception": false,
     "start_time": "2021-11-30T01:33:59.372293",
     "status": "completed"
    },
    "tags": []
   },
   "outputs": [
    {
     "name": "stdout",
     "output_type": "stream",
     "text": [
      "Control data dimensions:  (3789, 91)\n",
      "Treated data dimensions: (1368, 91)\n"
     ]
    }
   ],
   "source": [
    "from direct_regression import seperate_and_transform_data\n",
    "X0, X1, y0, y1, X, y, t, features = seperate_and_transform_data(data, treatment, outcome)\n",
    "print(\"Control data dimensions: \", X0.shape)\n",
    "print(\"Treated data dimensions:\", X1.shape)"
   ]
  },
  {
   "cell_type": "markdown",
   "id": "8",
   "metadata": {
    "papermill": {
     "duration": 0.009809,
     "end_time": "2021-11-30T01:33:59.432726",
     "exception": false,
     "start_time": "2021-11-30T01:33:59.422917",
     "status": "completed"
    },
    "tags": []
   },
   "source": [
    "## Compute unconditional/unadjusted estimate of treatment effect"
   ]
  },
  {
   "cell_type": "code",
   "execution_count": 6,
   "id": "9",
   "metadata": {
    "execution": {
     "iopub.execute_input": "2021-11-30T01:33:59.456241Z",
     "iopub.status.busy": "2021-11-30T01:33:59.455861Z",
     "iopub.status.idle": "2021-11-30T01:33:59.457582Z",
     "shell.execute_reply": "2021-11-30T01:33:59.457276Z"
    },
    "papermill": {
     "duration": 0.014888,
     "end_time": "2021-11-30T01:33:59.457658",
     "exception": false,
     "start_time": "2021-11-30T01:33:59.442770",
     "status": "completed"
    },
    "tags": []
   },
   "outputs": [
    {
     "name": "stdout",
     "output_type": "stream",
     "text": [
      "Proportion Treated:27%\n",
      "Average outcome under Control:-0.14±0.02\n",
      "Average outcome under Treatment:0.37±0.03\n",
      "Unadjusted treatment estimate 0.51\n"
     ]
    }
   ],
   "source": [
    "print_unconditional_effects(data, treatment, y0, y1)"
   ]
  },
  {
   "cell_type": "markdown",
   "id": "10",
   "metadata": {
    "papermill": {
     "duration": 0.010236,
     "end_time": "2021-11-30T01:33:59.478317",
     "exception": false,
     "start_time": "2021-11-30T01:33:59.468081",
     "status": "completed"
    },
    "tags": []
   },
   "source": [
    "## Statsmodels\n",
    "\n",
    "### OLS"
   ]
  },
  {
   "cell_type": "code",
   "execution_count": 7,
   "id": "11",
   "metadata": {
    "execution": {
     "iopub.execute_input": "2021-11-30T01:33:59.502086Z",
     "iopub.status.busy": "2021-11-30T01:33:59.501767Z",
     "iopub.status.idle": "2021-11-30T01:33:59.582581Z",
     "shell.execute_reply": "2021-11-30T01:33:59.583076Z"
    },
    "papermill": {
     "duration": 0.095006,
     "end_time": "2021-11-30T01:33:59.583209",
     "exception": false,
     "start_time": "2021-11-30T01:33:59.488203",
     "status": "completed"
    },
    "scrolled": false,
    "tags": []
   },
   "outputs": [
    {
     "name": "stdout",
     "output_type": "stream",
     "text": [
      "                            OLS Regression Results                            \n",
      "==============================================================================\n",
      "Dep. Variable:                      y   R-squared:                       0.420\n",
      "Model:                            OLS   Adj. R-squared:                  0.410\n",
      "Method:                 Least Squares   F-statistic:                     39.92\n",
      "Date:                Tue, 30 Nov 2021   Prob (F-statistic):               0.00\n",
      "Time:                        12:33:59   Log-Likelihood:                -5911.1\n",
      "No. Observations:                5157   AIC:                         1.201e+04\n",
      "Df Residuals:                    5064   BIC:                         1.262e+04\n",
      "Df Model:                          92                                         \n",
      "Covariance Type:            nonrobust                                         \n",
      "==============================================================================\n",
      "                 coef    std err          t      P>|t|      [0.025      0.975]\n",
      "------------------------------------------------------------------------------\n",
      "const         -0.0382      0.013     -2.996      0.003      -0.063      -0.013\n",
      "treatment      0.1441      0.026      5.500      0.000       0.093       0.195\n",
      "ahgeng1       -0.0262      0.012     -2.255      0.024      -0.049      -0.003\n",
      "ahges2        -0.0208      0.013     -1.603      0.109      -0.046       0.005\n",
      "adocond       -0.0052      0.012     -0.448      0.654      -0.028       0.017\n",
      "adosecno      -0.0016      0.011     -0.145      0.884      -0.023       0.020\n",
      "ahhp1          0.0033      0.011      0.289      0.772      -0.019       0.025\n",
      "acpno          0.0077      0.012      0.662      0.508      -0.015       0.031\n",
      "ahspown        0.0512      0.012      4.227      0.000       0.027       0.075\n",
      "ahsmgfin       0.0174      0.011      1.585      0.113      -0.004       0.039\n",
      "axposml        0.0092      0.012      0.777      0.437      -0.014       0.032\n",
      "ahh0_4         0.0561      0.015      3.654      0.000       0.026       0.086\n",
      "ahh10_14      -0.0351      0.092     -0.380      0.704      -0.216       0.146\n",
      "ahhsos        -0.0199      0.012     -1.637      0.102      -0.044       0.004\n",
      "ahhfam02      -0.0063      0.011     -0.556      0.579      -0.029       0.016\n",
      "achu_sf       -0.0009      0.011     -0.083      0.934      -0.023       0.021\n",
      "acpu_me       -0.0243      0.011     -2.182      0.029      -0.046      -0.002\n",
      "ahiwscei      -0.0328      0.018     -1.844      0.065      -0.068       0.002\n",
      "ahibifip      -0.0543      0.012     -4.360      0.000      -0.079      -0.030\n",
      "ahifapti      -0.0856      0.015     -5.883      0.000      -0.114      -0.057\n",
      "ahgsex        -0.0204      0.015     -1.385      0.166      -0.049       0.008\n",
      "ahgeab        -0.0161      0.011     -1.449      0.147      -0.038       0.006\n",
      "ahgms         -0.0041      0.013     -0.308      0.758      -0.031       0.022\n",
      "ahgrf          0.0206      0.020      1.047      0.295      -0.018       0.059\n",
      "ahgscq        -0.0229      0.012     -1.854      0.064      -0.047       0.001\n",
      "arg03         -0.0028      0.011     -0.253      0.800      -0.025       0.019\n",
      "abncapuf       0.0095      0.019      0.506      0.613      -0.027       0.046\n",
      "aoidvryf      -0.0321      0.014     -2.370      0.018      -0.059      -0.006\n",
      "aoirntf       -0.0280      0.014     -2.032      0.042      -0.055      -0.001\n",
      "awscef         0.0119      0.014      0.837      0.403      -0.016       0.040\n",
      "awsfef         0.0116      0.014      0.812      0.417      -0.016       0.040\n",
      "atifditp       0.1198      0.026      4.623      0.000       0.069       0.171\n",
      "ahhd5_9        0.0236      0.013      1.778      0.076      -0.002       0.050\n",
      "ahhd1014       0.0277      0.092      0.301      0.763      -0.153       0.208\n",
      "ahhura        -0.0046      0.012     -0.393      0.694      -0.027       0.018\n",
      "afmagelh       0.0288      0.012      2.375      0.018       0.005       0.053\n",
      "aedqobd       -0.0166      0.012     -1.408      0.159      -0.040       0.007\n",
      "aedqoms        0.0056      0.012      0.480      0.631      -0.017       0.028\n",
      "aedqodc        0.0090      0.011      0.789      0.430      -0.013       0.031\n",
      "aehtjbyr      -0.0620      0.016     -3.772      0.000      -0.094      -0.030\n",
      "aehtujyr      -0.0484      0.012     -4.094      0.000      -0.072      -0.025\n",
      "aujljhru      -0.0063      0.011     -0.577      0.564      -0.028       0.015\n",
      "ajbprhr        0.0227      0.012      1.934      0.053      -0.000       0.046\n",
      "ajbmsch       -0.0170      0.011     -1.510      0.131      -0.039       0.005\n",
      "ajbmhrh       -0.0141      0.012     -1.209      0.227      -0.037       0.009\n",
      "ajbmpgj        0.0184      0.011      1.634      0.102      -0.004       0.040\n",
      "ajbmwpsz       0.0057      0.012      0.475      0.635      -0.018       0.029\n",
      "artage1       -0.2520      0.014    -17.586      0.000      -0.280      -0.224\n",
      "artiage1       0.0170      0.013      1.359      0.174      -0.008       0.042\n",
      "ajsl4wk        0.0032      0.012      0.275      0.783      -0.020       0.026\n",
      "awslya         0.0209      0.011      1.872      0.061      -0.001       0.043\n",
      "awsfga        -0.0863      0.018     -4.922      0.000      -0.121      -0.052\n",
      "abnfdsp       -0.0426      0.011     -3.786      0.000      -0.065      -0.021\n",
      "aoifirr        0.0001      0.011      0.013      0.990      -0.021       0.021\n",
      "aoifrsv    -3.222e-05      0.011     -0.003      0.998      -0.021       0.021\n",
      "aoifpub        0.0143      0.011      1.310      0.190      -0.007       0.036\n",
      "ancsex1        0.0032      0.011      0.298      0.765      -0.018       0.024\n",
      "aicprob        0.0344      0.012      2.843      0.004       0.011       0.058\n",
      "ahelthyr      -0.0028      0.011     -0.259      0.796      -0.024       0.018\n",
      "alosateo       0.0186      0.012      1.532      0.125      -0.005       0.042\n",
      "aloimpew       0.0591      0.013      4.492      0.000       0.033       0.085\n",
      "aloimprl      -0.0078      0.012     -0.676      0.499      -0.031       0.015\n",
      "amhn10yr      -0.0011      0.012     -0.087      0.931      -0.025       0.023\n",
      "amhlyr        -0.0051      0.012     -0.438      0.662      -0.028       0.018\n",
      "amhrearo       0.0018      0.011      0.169      0.866      -0.019       0.023\n",
      "amhaddkn      -0.0156      0.011     -1.438      0.150      -0.037       0.006\n",
      "ajbmo61       -0.0141      0.016     -0.867      0.386      -0.046       0.018\n",
      "ajbmo6s        0.0035      0.018      0.196      0.844      -0.031       0.038\n",
      "artage         0.0234      0.013      1.841      0.066      -0.002       0.048\n",
      "aujljin1       0.0003      0.011      0.027      0.979      -0.021       0.022\n",
      "ajbempt       -0.0131      0.013     -1.049      0.294      -0.038       0.011\n",
      "ajbmhruc      -0.0194      0.014     -1.410      0.158      -0.046       0.008\n",
      "atcyng        -0.0971      0.024     -3.994      0.000      -0.145      -0.049\n",
      "ahsyrcad      -0.0634      0.014     -4.538      0.000      -0.091      -0.036\n",
      "atcnr         -0.0595      0.015     -3.863      0.000      -0.090      -0.029\n",
      "ahhyng        -0.0699      0.024     -2.917      0.004      -0.117      -0.023\n",
      "afmmo6s       -0.0012      0.011     -0.105      0.917      -0.023       0.021\n",
      "aedqunk       -0.0006      0.011     -0.057      0.954      -0.022       0.021\n",
      "awsly         -0.0162      0.011     -1.446      0.148      -0.038       0.006\n",
      "awscme         0.1164      0.021      5.672      0.000       0.076       0.157\n",
      "aoiint        -0.0077      0.014     -0.549      0.583      -0.035       0.020\n",
      "aoidvry       -0.0361      0.014     -2.623      0.009      -0.063      -0.009\n",
      "aoifinvp      -0.0241      0.019     -1.252      0.211      -0.062       0.014\n",
      "aoifinvn       0.0058      0.011      0.526      0.599      -0.016       0.027\n",
      "atifep        -0.0168      0.027     -0.620      0.535      -0.070       0.036\n",
      "atifen         0.0068      0.011      0.621      0.534      -0.015       0.028\n",
      "aoifnpt        0.0064      0.011      0.593      0.553      -0.015       0.028\n",
      "agh3a          0.0435      0.013      3.362      0.001       0.018       0.069\n",
      "agh8          -0.0095      0.013     -0.752      0.452      -0.034       0.015\n",
      "aatwkwms      -0.0139      0.011     -1.247      0.212      -0.036       0.008\n",
      "apashare      -0.0004      0.012     -0.031      0.975      -0.024       0.023\n",
      "apawkmfh       0.0118      0.011      1.052      0.293      -0.010       0.034\n",
      "apawkbp       -0.0097      0.011     -0.889      0.374      -0.031       0.012\n",
      "==============================================================================\n",
      "Omnibus:                       37.721   Durbin-Watson:                   1.943\n",
      "Prob(Omnibus):                  0.000   Jarque-Bera (JB):               34.619\n",
      "Skew:                          -0.161   Prob(JB):                     3.04e-08\n",
      "Kurtosis:                       2.760   Cond. No.                         28.7\n",
      "==============================================================================\n",
      "\n",
      "Notes:\n",
      "[1] Standard Errors assume that the covariance matrix of the errors is correctly specified.\n"
     ]
    }
   ],
   "source": [
    "Xt = np.hstack((t[:, np.newaxis], X))\n",
    "Xt = pd.DataFrame(data=Xt, columns=[\"treatment\"] + features)\n",
    "ols = sm.OLS(y, sm.add_constant(Xt))\n",
    "res = ols.fit()\n",
    "ate_ols = res.params.loc[\"treatment\"]\n",
    "ci_ols = res.conf_int().loc[\"treatment\"]\n",
    "print(res.summary())"
   ]
  },
  {
   "cell_type": "markdown",
   "id": "12",
   "metadata": {
    "papermill": {
     "duration": 0.019013,
     "end_time": "2021-11-30T01:33:59.621767",
     "exception": false,
     "start_time": "2021-11-30T01:33:59.602754",
     "status": "completed"
    },
    "tags": []
   },
   "source": [
    "## Scikit learn Bayesian Estimators\n",
    "\n",
    "### Bayesian Ridge\n",
    "\n",
    "Coefficient statistics"
   ]
  },
  {
   "cell_type": "code",
   "execution_count": 8,
   "id": "13",
   "metadata": {
    "execution": {
     "iopub.execute_input": "2021-11-30T01:33:59.666769Z",
     "iopub.status.busy": "2021-11-30T01:33:59.666185Z",
     "iopub.status.idle": "2021-11-30T01:33:59.714790Z",
     "shell.execute_reply": "2021-11-30T01:33:59.715246Z"
    },
    "papermill": {
     "duration": 0.074794,
     "end_time": "2021-11-30T01:33:59.715372",
     "exception": false,
     "start_time": "2021-11-30T01:33:59.640578",
     "status": "completed"
    },
    "tags": []
   },
   "outputs": [
    {
     "name": "stdout",
     "output_type": "stream",
     "text": [
      "Bayesian Ridge simple model - coefficient stats:\n",
      "  R-squared = 0.4195\n",
      "  ATE: 0.1102 (0.0224)\n",
      "  t: 4.9268\n",
      "  p-value: 0.0000\n",
      "  CI (0.025, 0.975): [0.0664, 0.1541]\n"
     ]
    }
   ],
   "source": [
    "blr = BayesianRidgeStat()\n",
    "blr.fit(Xt, y)\n",
    "\n",
    "score = blr.score(Xt, y)\n",
    "\n",
    "# Coefficient statistics\n",
    "stats = blr.model_statistics()\n",
    "ate_blr, se_blr = stats.beta[0], stats.std_err[0]\n",
    "ci_blr = norm.interval(loc=ate_blr, scale=se_blr, alpha=0.95)\n",
    "\n",
    "print(\"Bayesian Ridge simple model - coefficient stats:\")\n",
    "print(f\"  R-squared = {score:.4f}\")\n",
    "print(f\"  ATE: {ate_blr:.4f} ({se_blr:.4f})\")\n",
    "print(f\"  t: {stats.t_stat[0]:.4f}\")\n",
    "print(f\"  p-value: {stats.p_value[0]:.4f}\")\n",
    "print(f\"  CI (0.025, 0.975): [{ci_blr[0]:.4f}, {ci_blr[1]:.4f}]\")"
   ]
  },
  {
   "cell_type": "markdown",
   "id": "14",
   "metadata": {
    "papermill": {
     "duration": 0.019846,
     "end_time": "2021-11-30T01:33:59.755186",
     "exception": false,
     "start_time": "2021-11-30T01:33:59.735340",
     "status": "completed"
    },
    "tags": []
   },
   "source": [
    "ATE sampling with counterfactual models"
   ]
  },
  {
   "cell_type": "code",
   "execution_count": 9,
   "id": "15",
   "metadata": {
    "execution": {
     "iopub.execute_input": "2021-11-30T01:33:59.802400Z",
     "iopub.status.busy": "2021-11-30T01:33:59.801905Z",
     "iopub.status.idle": "2021-11-30T01:33:59.838677Z",
     "shell.execute_reply": "2021-11-30T01:33:59.838245Z"
    },
    "papermill": {
     "duration": 0.06382,
     "end_time": "2021-11-30T01:33:59.838784",
     "exception": false,
     "start_time": "2021-11-30T01:33:59.774964",
     "status": "completed"
    },
    "tags": []
   },
   "outputs": [
    {
     "name": "stdout",
     "output_type": "stream",
     "text": [
      "Bayesian Ridge simple model - counterfactual sampling:\n",
      "  R-squared = 0.4195\n",
      "  ATE: 0.1102 (0.0253)\n",
      "  CI (0.025, 0.975): [0.0607, 0.1598]\n"
     ]
    }
   ],
   "source": [
    "# ATE sampling\n",
    "samples = 100\n",
    "w_samples = np.random.multivariate_normal(mean=blr.coef_, cov=blr.sigma_, size=samples).T\n",
    "\n",
    "n = len(X)\n",
    "Xt0 = pd.DataFrame(data=np.hstack((np.zeros((n, 1)), X)), columns=[\"treatment\"] + features)\n",
    "Xt1 = pd.DataFrame(data=np.hstack((np.ones((n, 1)), X)), columns=[\"treatment\"] + features)\n",
    "\n",
    "ate_blr_samples = np.mean(Xt1 @ w_samples, axis=0) - np.mean(Xt0 @ w_samples, axis=0)\n",
    "ate_blr = ate_blr_samples.mean()\n",
    "se_blr = np.std(ate_blr_samples, ddof=1)\n",
    "ci_blr = norm.interval(loc=ate_blr, scale=se_blr, alpha=0.95)\n",
    "\n",
    "print(\"Bayesian Ridge simple model - counterfactual sampling:\")\n",
    "print(f\"  R-squared = {score:.4f}\")\n",
    "print(f\"  ATE: {ate_blr:.4f} ({se_blr:.4f})\")\n",
    "print(f\"  CI (0.025, 0.975): [{ci_blr[0]:.4f}, {ci_blr[1]:.4f}]\")"
   ]
  },
  {
   "cell_type": "markdown",
   "id": "16",
   "metadata": {
    "papermill": {
     "duration": 0.019423,
     "end_time": "2021-11-30T01:33:59.878348",
     "exception": false,
     "start_time": "2021-11-30T01:33:59.858925",
     "status": "completed"
    },
    "tags": []
   },
   "source": [
    "### Gaussian Process"
   ]
  },
  {
   "cell_type": "code",
   "execution_count": 10,
   "id": "17",
   "metadata": {
    "execution": {
     "iopub.execute_input": "2021-11-30T01:33:59.933611Z",
     "iopub.status.busy": "2021-11-30T01:33:59.933033Z",
     "iopub.status.idle": "2021-11-30T01:37:07.278222Z",
     "shell.execute_reply": "2021-11-30T01:37:07.277112Z"
    },
    "papermill": {
     "duration": 187.380706,
     "end_time": "2021-11-30T01:37:07.278457",
     "exception": false,
     "start_time": "2021-11-30T01:33:59.897751",
     "status": "completed"
    },
    "tags": []
   },
   "outputs": [],
   "source": [
    "kernel = WhiteKernel() + Matern(nu=1.5)\n",
    "gpr = GaussianProcessRegressor(kernel=kernel)\n",
    "\n",
    "# This takes a while for 5000 samples... (5 mins or so)\n",
    "gpr.fit(Xt, y)\n",
    "score = gpr.score(Xt, y)"
   ]
  },
  {
   "cell_type": "code",
   "execution_count": 11,
   "id": "18",
   "metadata": {
    "execution": {
     "iopub.execute_input": "2021-11-30T01:37:07.368458Z",
     "iopub.status.busy": "2021-11-30T01:37:07.367699Z",
     "iopub.status.idle": "2021-11-30T01:40:53.439519Z",
     "shell.execute_reply": "2021-11-30T01:40:53.440164Z"
    },
    "papermill": {
     "duration": 226.120296,
     "end_time": "2021-11-30T01:40:53.440381",
     "exception": false,
     "start_time": "2021-11-30T01:37:07.320085",
     "status": "completed"
    },
    "tags": []
   },
   "outputs": [
    {
     "name": "stdout",
     "output_type": "stream",
     "text": [
      "Gaussian Process WhiteKernel(noise_level=0.473) + Matern(length_scale=18.1, nu=1.5):\n",
      "  R-squared = 0.6074\n",
      "  ATE: 0.1099 (0.0242)\n",
      "  CI (0.025, 0.975): [0.0624, 0.1573]\n"
     ]
    }
   ],
   "source": [
    "# ATE sampling   \n",
    "f0, K0 = gpr.predict(Xt0, return_cov=True)\n",
    "f1, K1 = gpr.predict(Xt1, return_cov=True)\n",
    "\n",
    "y_0_samples = np.random.multivariate_normal(mean=f0, cov=K0, size=samples)\n",
    "y_1_samples = np.random.multivariate_normal(mean=f1, cov=K1, size=samples)\n",
    "ate_gp_samples = (y_1_samples - y_0_samples).mean(axis=1)\n",
    "\n",
    "ate_gp = ate_gp_samples.mean()\n",
    "se_gp = np.std(ate_gp_samples, ddof=1)\n",
    "ci_gp = norm.interval(loc=ate_gp, scale=se_gp, alpha=0.95)\n",
    "\n",
    "print(f\"Gaussian Process {gpr.kernel_}:\")\n",
    "print(f\"  R-squared = {score:.4f}\")\n",
    "print(f\"  ATE: {ate_gp:.4f} ({se_gp:.4f})\")\n",
    "print(f\"  CI (0.025, 0.975): [{ci_gp[0]:.4f}, {ci_gp[1]:.4f}]\")"
   ]
  },
  {
   "cell_type": "markdown",
   "id": "19",
   "metadata": {
    "papermill": {
     "duration": 0.035226,
     "end_time": "2021-11-30T01:40:53.510588",
     "exception": false,
     "start_time": "2021-11-30T01:40:53.475362",
     "status": "completed"
    },
    "tags": []
   },
   "source": [
    "Check if GP is overfitting"
   ]
  },
  {
   "cell_type": "code",
   "execution_count": 12,
   "id": "20",
   "metadata": {
    "execution": {
     "iopub.execute_input": "2021-11-30T01:40:53.566768Z",
     "iopub.status.busy": "2021-11-30T01:40:53.566153Z",
     "iopub.status.idle": "2021-11-30T01:50:47.675583Z",
     "shell.execute_reply": "2021-11-30T01:50:47.676449Z"
    },
    "papermill": {
     "duration": 594.13868,
     "end_time": "2021-11-30T01:50:47.676707",
     "exception": false,
     "start_time": "2021-11-30T01:40:53.538027",
     "status": "completed"
    },
    "scrolled": true,
    "tags": []
   },
   "outputs": [],
   "source": [
    "if xval_gp:\n",
    "    cv_scores = cross_validate(gpr, Xt, y,\n",
    "                               cv=KFold(n_splits=5, shuffle=True),\n",
    "                               return_train_score=True)\n",
    "    pd.DataFrame(cv_scores).describe()"
   ]
  },
  {
   "cell_type": "markdown",
   "id": "21",
   "metadata": {
    "papermill": {
     "duration": 0.024906,
     "end_time": "2021-11-30T01:50:47.741756",
     "exception": false,
     "start_time": "2021-11-30T01:50:47.716850",
     "status": "completed"
    },
    "tags": []
   },
   "source": [
    "## Hierarchical Bayesian Linear Model\n",
    "\n",
    "This model takes the following form and prior settings,\n",
    "\n",
    "$$\n",
    "\\begin{align}\n",
    "    \\{\\lambda_0, \\lambda_t, \\lambda_x, \\lambda_{tx}\\} &\\sim \\textrm{Gamma}(1, 1) \\\\\n",
    "    \\sigma^2 &\\sim \\textrm{Gamma}(1, 1) \\\\\n",
    "    w_0 &\\sim \\mathcal{N}(0, \\lambda_0) \\\\\n",
    "    w_t &\\sim \\mathcal{N}(0, \\lambda_t) \\\\\n",
    "    \\mathbf{w}_x &\\sim \\mathcal{N}(0, \\lambda_x \\mathbf{I}_d) \\\\\n",
    "    \\mathbf{w}_{tx} &\\sim \\mathcal{N}(0, \\lambda_{tx} \\mathbf{I}_d) \\\\\n",
    "    y_i &\\sim \\mathcal{N}(\\mu(\\mathbf{x}_i, t_i), \\sigma^2) \\\\\n",
    "    \\mu(\\mathbf{x}_i, t_i) &= w_0 + w_t t_i + \\mathbf{w}_x^\\top\\mathbf{x}_i + t_i\\mathbf{w}_{tx}^\\top\\mathbf{x}_i\n",
    "\\end{align}\n",
    "$$"
   ]
  },
  {
   "cell_type": "markdown",
   "id": "22",
   "metadata": {
    "papermill": {
     "duration": 0.023733,
     "end_time": "2021-11-30T01:50:47.790624",
     "exception": false,
     "start_time": "2021-11-30T01:50:47.766891",
     "status": "completed"
    },
    "tags": []
   },
   "source": [
    "### Set up the model"
   ]
  },
  {
   "cell_type": "code",
   "execution_count": 13,
   "id": "23",
   "metadata": {
    "execution": {
     "iopub.execute_input": "2021-11-30T01:50:47.847607Z",
     "iopub.status.busy": "2021-11-30T01:50:47.846965Z",
     "iopub.status.idle": "2021-11-30T01:50:47.848889Z",
     "shell.execute_reply": "2021-11-30T01:50:47.849351Z"
    },
    "papermill": {
     "duration": 0.036178,
     "end_time": "2021-11-30T01:50:47.849510",
     "exception": false,
     "start_time": "2021-11-30T01:50:47.813332",
     "status": "completed"
    },
    "tags": []
   },
   "outputs": [],
   "source": [
    "def predict(w_0, w_t, w_x, w_tx, x, t):\n",
    "    f = w_0 + w_t * t + x.matmul(w_x.T) + t * x.matmul(w_tx.T)\n",
    "    return f\n",
    "\n",
    "\n",
    "def model_treatment_intersection(x, t, y):\n",
    "    # Hyper-Priors\n",
    "    lambda_prior = dist.Gamma(1., 1.)\n",
    "    sigma_prior = dist.Gamma(1., 1.)\n",
    "    \n",
    "    # Priors\n",
    "    n, d = x.shape\n",
    "    weight_prior = dist.Laplace if laplace_prior else dist.Normal\n",
    "    p_w0 = weight_prior(0, pyro.sample(\"l_0\", lambda_prior))\n",
    "    p_wt = weight_prior(0, pyro.sample(\"l_t\", lambda_prior))\n",
    "    p_wx = weight_prior(torch.zeros(d), pyro.sample(\"l_x\", lambda_prior) * torch.ones(d))\n",
    "    p_twx = weight_prior(torch.zeros(d), pyro.sample(\"l_tx\", lambda_prior) * torch.ones(d))\n",
    "    \n",
    "    # Model weights\n",
    "    w_0 = pyro.sample(\"intercept\", p_w0)\n",
    "    w_t = pyro.sample(\"treatment\", p_wt)\n",
    "    w_x = pyro.sample(\"confounders\", p_wx)\n",
    "    w_tx = pyro.sample(\"intersection\", p_twx)\n",
    "    \n",
    "    # Likelihood\n",
    "    f = predict(w_0, w_t, w_x, w_tx, x, t)\n",
    "    sigma = pyro.sample(\"variance\", sigma_prior)\n",
    "    \n",
    "    with pyro.plate(\"data\", n):\n",
    "        likelihood = dist.Normal(f, sigma)\n",
    "        y = pyro.sample(\"likelihood\", likelihood, obs=y)"
   ]
  },
  {
   "cell_type": "markdown",
   "id": "24",
   "metadata": {
    "papermill": {
     "duration": 0.022828,
     "end_time": "2021-11-30T01:50:47.895257",
     "exception": false,
     "start_time": "2021-11-30T01:50:47.872429",
     "status": "completed"
    },
    "tags": []
   },
   "source": [
    "### Run MCMC inference to compute the posteriors"
   ]
  },
  {
   "cell_type": "code",
   "execution_count": 14,
   "id": "25",
   "metadata": {
    "execution": {
     "iopub.execute_input": "2021-11-30T01:50:47.959093Z",
     "iopub.status.busy": "2021-11-30T01:50:47.958064Z",
     "iopub.status.idle": "2021-11-30T01:52:07.715192Z",
     "shell.execute_reply": "2021-11-30T01:52:07.714424Z"
    },
    "papermill": {
     "duration": 79.796968,
     "end_time": "2021-11-30T01:52:07.715371",
     "exception": false,
     "start_time": "2021-11-30T01:50:47.918403",
     "status": "completed"
    },
    "tags": []
   },
   "outputs": [
    {
     "name": "stderr",
     "output_type": "stream",
     "text": [
      "\r",
      "Warmup:   0%|                                                                     | 0/700 [00:00, ?it/s]"
     ]
    },
    {
     "name": "stderr",
     "output_type": "stream",
     "text": [
      "\r",
      "Warmup:   0%|                            | 1/700 [00:00,  7.05it/s, step size=5.62e-02, acc. prob=1.000]"
     ]
    },
    {
     "name": "stderr",
     "output_type": "stream",
     "text": [
      "\r",
      "Warmup:   1%|▏                           | 4/700 [00:00,  8.51it/s, step size=2.21e-02, acc. prob=0.750]"
     ]
    },
    {
     "name": "stderr",
     "output_type": "stream",
     "text": [
      "\r",
      "Warmup:   1%|▏                           | 6/700 [00:00,  6.78it/s, step size=3.32e-03, acc. prob=0.666]"
     ]
    },
    {
     "name": "stderr",
     "output_type": "stream",
     "text": [
      "\r",
      "Warmup:   1%|▎                           | 7/700 [00:01,  4.92it/s, step size=4.97e-03, acc. prob=0.705]"
     ]
    },
    {
     "name": "stderr",
     "output_type": "stream",
     "text": [
      "\r",
      "Warmup:   2%|▍                          | 11/700 [00:01,  9.12it/s, step size=7.35e-03, acc. prob=0.752]"
     ]
    },
    {
     "name": "stderr",
     "output_type": "stream",
     "text": [
      "\r",
      "Warmup:   2%|▌                          | 13/700 [00:01,  9.95it/s, step size=1.13e-03, acc. prob=0.713]"
     ]
    },
    {
     "name": "stderr",
     "output_type": "stream",
     "text": [
      "\r",
      "Warmup:   2%|▌                          | 15/700 [00:02,  4.20it/s, step size=4.07e-03, acc. prob=0.751]"
     ]
    },
    {
     "name": "stderr",
     "output_type": "stream",
     "text": [
      "\r",
      "Warmup:   2%|▌                          | 16/700 [00:02,  4.29it/s, step size=7.56e-03, acc. prob=0.767]"
     ]
    },
    {
     "name": "stderr",
     "output_type": "stream",
     "text": [
      "\r",
      "Warmup:   3%|▋                          | 18/700 [00:03,  4.92it/s, step size=3.28e-03, acc. prob=0.755]"
     ]
    },
    {
     "name": "stderr",
     "output_type": "stream",
     "text": [
      "\r",
      "Warmup:   3%|▋                          | 19/700 [00:03,  4.28it/s, step size=5.73e-03, acc. prob=0.766]"
     ]
    },
    {
     "name": "stderr",
     "output_type": "stream",
     "text": [
      "\r",
      "Warmup:   3%|▊                          | 20/700 [00:03,  4.65it/s, step size=2.98e-03, acc. prob=0.757]"
     ]
    },
    {
     "name": "stderr",
     "output_type": "stream",
     "text": [
      "\r",
      "Warmup:   3%|▊                          | 21/700 [00:04,  4.16it/s, step size=3.61e-03, acc. prob=0.762]"
     ]
    },
    {
     "name": "stderr",
     "output_type": "stream",
     "text": [
      "\r",
      "Warmup:   3%|▊                          | 22/700 [00:04,  4.56it/s, step size=4.53e-03, acc. prob=0.767]"
     ]
    },
    {
     "name": "stderr",
     "output_type": "stream",
     "text": [
      "\r",
      "Warmup:   3%|▉                          | 23/700 [00:04,  5.05it/s, step size=4.17e-03, acc. prob=0.767]"
     ]
    },
    {
     "name": "stderr",
     "output_type": "stream",
     "text": [
      "\r",
      "Warmup:   3%|▉                          | 24/700 [00:04,  5.26it/s, step size=7.56e-03, acc. prob=0.776]"
     ]
    },
    {
     "name": "stderr",
     "output_type": "stream",
     "text": [
      "\r",
      "Warmup:   4%|█                          | 26/700 [00:05,  3.78it/s, step size=2.35e-03, acc. prob=0.762]"
     ]
    },
    {
     "name": "stderr",
     "output_type": "stream",
     "text": [
      "\r",
      "Warmup:   4%|█                          | 27/700 [00:05,  3.71it/s, step size=2.95e-03, acc. prob=0.766]"
     ]
    },
    {
     "name": "stderr",
     "output_type": "stream",
     "text": [
      "\r",
      "Warmup:   4%|█                          | 28/700 [00:05,  3.68it/s, step size=4.03e-03, acc. prob=0.771]"
     ]
    },
    {
     "name": "stderr",
     "output_type": "stream",
     "text": [
      "\r",
      "Warmup:   4%|█                          | 29/700 [00:05,  4.26it/s, step size=6.31e-03, acc. prob=0.777]"
     ]
    },
    {
     "name": "stderr",
     "output_type": "stream",
     "text": [
      "\r",
      "Warmup:   4%|█▏                         | 30/700 [00:06,  4.84it/s, step size=4.79e-03, acc. prob=0.774]"
     ]
    },
    {
     "name": "stderr",
     "output_type": "stream",
     "text": [
      "\r",
      "Warmup:   4%|█▏                         | 31/700 [00:06,  5.31it/s, step size=4.00e-03, acc. prob=0.773]"
     ]
    },
    {
     "name": "stderr",
     "output_type": "stream",
     "text": [
      "\r",
      "Warmup:   5%|█▏                         | 32/700 [00:06,  5.75it/s, step size=5.05e-03, acc. prob=0.776]"
     ]
    },
    {
     "name": "stderr",
     "output_type": "stream",
     "text": [
      "\r",
      "Warmup:   5%|█▎                         | 33/700 [00:06,  6.11it/s, step size=7.41e-03, acc. prob=0.781]"
     ]
    },
    {
     "name": "stderr",
     "output_type": "stream",
     "text": [
      "\r",
      "Warmup:   5%|█▎                         | 35/700 [00:06,  5.76it/s, step size=3.57e-03, acc. prob=0.774]"
     ]
    },
    {
     "name": "stderr",
     "output_type": "stream",
     "text": [
      "\r",
      "Warmup:   5%|█▍                         | 36/700 [00:06,  6.12it/s, step size=4.32e-03, acc. prob=0.777]"
     ]
    },
    {
     "name": "stderr",
     "output_type": "stream",
     "text": [
      "\r",
      "Warmup:   5%|█▍                         | 37/700 [00:07,  6.45it/s, step size=6.67e-03, acc. prob=0.782]"
     ]
    },
    {
     "name": "stderr",
     "output_type": "stream",
     "text": [
      "\r",
      "Warmup:   6%|█▌                         | 39/700 [00:07,  6.23it/s, step size=2.79e-03, acc. prob=0.773]"
     ]
    },
    {
     "name": "stderr",
     "output_type": "stream",
     "text": [
      "\r",
      "Warmup:   6%|█▌                         | 40/700 [00:07,  6.46it/s, step size=4.66e-03, acc. prob=0.779]"
     ]
    },
    {
     "name": "stderr",
     "output_type": "stream",
     "text": [
      "\r",
      "Warmup:   6%|█▌                         | 42/700 [00:07,  8.04it/s, step size=3.39e-03, acc. prob=0.777]"
     ]
    },
    {
     "name": "stderr",
     "output_type": "stream",
     "text": [
      "\r",
      "Warmup:   6%|█▋                         | 43/700 [00:07,  7.29it/s, step size=5.19e-03, acc. prob=0.781]"
     ]
    },
    {
     "name": "stderr",
     "output_type": "stream",
     "text": [
      "\r",
      "Warmup:   6%|█▋                         | 44/700 [00:08,  7.67it/s, step size=4.22e-03, acc. prob=0.779]"
     ]
    },
    {
     "name": "stderr",
     "output_type": "stream",
     "text": [
      "\r",
      "Warmup:   6%|█▋                         | 45/700 [00:08,  6.63it/s, step size=6.25e-03, acc. prob=0.783]"
     ]
    },
    {
     "name": "stderr",
     "output_type": "stream",
     "text": [
      "\r",
      "Warmup:   7%|█▊                         | 47/700 [00:08,  5.61it/s, step size=2.77e-03, acc. prob=0.777]"
     ]
    },
    {
     "name": "stderr",
     "output_type": "stream",
     "text": [
      "\r",
      "Warmup:   7%|█▊                         | 48/700 [00:08,  5.84it/s, step size=4.38e-03, acc. prob=0.781]"
     ]
    },
    {
     "name": "stderr",
     "output_type": "stream",
     "text": [
      "\r",
      "Warmup:   7%|█▉                         | 50/700 [00:09,  6.38it/s, step size=4.39e-03, acc. prob=0.781]"
     ]
    },
    {
     "name": "stderr",
     "output_type": "stream",
     "text": [
      "\r",
      "Warmup:   7%|██                         | 52/700 [00:09,  7.66it/s, step size=7.48e-03, acc. prob=0.786]"
     ]
    },
    {
     "name": "stderr",
     "output_type": "stream",
     "text": [
      "\r",
      "Warmup:   8%|██                         | 54/700 [00:09,  7.83it/s, step size=5.58e-03, acc. prob=0.784]"
     ]
    },
    {
     "name": "stderr",
     "output_type": "stream",
     "text": [
      "\r",
      "Warmup:   8%|██▏                        | 56/700 [00:09,  8.91it/s, step size=4.51e-03, acc. prob=0.783]"
     ]
    },
    {
     "name": "stderr",
     "output_type": "stream",
     "text": [
      "\r",
      "Warmup:   8%|██▏                        | 57/700 [00:09,  8.40it/s, step size=2.67e-03, acc. prob=0.779]"
     ]
    },
    {
     "name": "stderr",
     "output_type": "stream",
     "text": [
      "\r",
      "Warmup:   8%|██▏                        | 58/700 [00:09,  7.88it/s, step size=4.11e-03, acc. prob=0.783]"
     ]
    },
    {
     "name": "stderr",
     "output_type": "stream",
     "text": [
      "\r",
      "Warmup:   9%|██▎                        | 60/700 [00:10,  9.02it/s, step size=4.46e-03, acc. prob=0.784]"
     ]
    },
    {
     "name": "stderr",
     "output_type": "stream",
     "text": [
      "\r",
      "Warmup:   9%|██▎                        | 61/700 [00:10,  6.21it/s, step size=3.85e-03, acc. prob=0.783]"
     ]
    },
    {
     "name": "stderr",
     "output_type": "stream",
     "text": [
      "\r",
      "Warmup:   9%|██▍                        | 62/700 [00:10,  5.95it/s, step size=5.00e-03, acc. prob=0.785]"
     ]
    },
    {
     "name": "stderr",
     "output_type": "stream",
     "text": [
      "\r",
      "Warmup:   9%|██▍                        | 64/700 [00:10,  7.66it/s, step size=2.47e-03, acc. prob=0.780]"
     ]
    },
    {
     "name": "stderr",
     "output_type": "stream",
     "text": [
      "\r",
      "Warmup:   9%|██▌                        | 65/700 [00:10,  7.30it/s, step size=3.75e-03, acc. prob=0.783]"
     ]
    },
    {
     "name": "stderr",
     "output_type": "stream",
     "text": [
      "\r",
      "Warmup:   9%|██▌                        | 66/700 [00:11,  7.26it/s, step size=4.82e-03, acc. prob=0.785]"
     ]
    },
    {
     "name": "stderr",
     "output_type": "stream",
     "text": [
      "\r",
      "Warmup:  10%|██▌                        | 68/700 [00:11,  6.06it/s, step size=2.47e-03, acc. prob=0.781]"
     ]
    },
    {
     "name": "stderr",
     "output_type": "stream",
     "text": [
      "\r",
      "Warmup:  10%|██▋                        | 69/700 [00:11,  5.76it/s, step size=3.81e-03, acc. prob=0.784]"
     ]
    },
    {
     "name": "stderr",
     "output_type": "stream",
     "text": [
      "\r",
      "Warmup:  10%|██▋                        | 70/700 [00:11,  5.82it/s, step size=5.53e-03, acc. prob=0.787]"
     ]
    },
    {
     "name": "stderr",
     "output_type": "stream",
     "text": [
      "\r",
      "Warmup:  10%|██▊                        | 72/700 [00:12,  6.37it/s, step size=4.18e-03, acc. prob=0.785]"
     ]
    },
    {
     "name": "stderr",
     "output_type": "stream",
     "text": [
      "\r",
      "Warmup:  10%|██▊                        | 73/700 [00:12,  6.22it/s, step size=5.20e-03, acc. prob=0.787]"
     ]
    },
    {
     "name": "stderr",
     "output_type": "stream",
     "text": [
      "\r",
      "Warmup:  11%|██▉                        | 75/700 [00:12,  5.53it/s, step size=3.36e-03, acc. prob=0.784]"
     ]
    },
    {
     "name": "stderr",
     "output_type": "stream",
     "text": [
      "\r",
      "Warmup:  11%|██▉                        | 76/700 [00:12,  5.73it/s, step size=4.56e-03, acc. prob=0.786]"
     ]
    },
    {
     "name": "stderr",
     "output_type": "stream",
     "text": [
      "\r",
      "Warmup:  11%|███                        | 78/700 [00:13,  7.41it/s, step size=2.45e-03, acc. prob=0.782]"
     ]
    },
    {
     "name": "stderr",
     "output_type": "stream",
     "text": [
      "\r",
      "Warmup:  11%|███                        | 79/700 [00:13,  7.33it/s, step size=3.70e-03, acc. prob=0.785]"
     ]
    },
    {
     "name": "stderr",
     "output_type": "stream",
     "text": [
      "\r",
      "Warmup:  11%|███                        | 80/700 [00:13,  7.32it/s, step size=2.67e-03, acc. prob=0.783]"
     ]
    },
    {
     "name": "stderr",
     "output_type": "stream",
     "text": [
      "\r",
      "Warmup:  12%|███                        | 81/700 [00:13,  7.27it/s, step size=3.98e-03, acc. prob=0.786]"
     ]
    },
    {
     "name": "stderr",
     "output_type": "stream",
     "text": [
      "\r",
      "Warmup:  12%|███▏                       | 83/700 [00:13,  9.26it/s, step size=2.45e-03, acc. prob=0.783]"
     ]
    },
    {
     "name": "stderr",
     "output_type": "stream",
     "text": [
      "\r",
      "Warmup:  12%|███▏                       | 84/700 [00:13,  8.57it/s, step size=3.32e-03, acc. prob=0.785]"
     ]
    },
    {
     "name": "stderr",
     "output_type": "stream",
     "text": [
      "\r",
      "Warmup:  12%|███▎                       | 85/700 [00:13,  7.90it/s, step size=4.54e-03, acc. prob=0.787]"
     ]
    },
    {
     "name": "stderr",
     "output_type": "stream",
     "text": [
      "\r",
      "Warmup:  12%|███▎                       | 86/700 [00:14,  7.36it/s, step size=3.09e-03, acc. prob=0.785]"
     ]
    },
    {
     "name": "stderr",
     "output_type": "stream",
     "text": [
      "\r",
      "Warmup:  12%|███▎                       | 87/700 [00:14,  6.97it/s, step size=4.49e-03, acc. prob=0.787]"
     ]
    },
    {
     "name": "stderr",
     "output_type": "stream",
     "text": [
      "\r",
      "Warmup:  13%|███▍                       | 89/700 [00:14,  7.85it/s, step size=5.56e-03, acc. prob=0.789]"
     ]
    },
    {
     "name": "stderr",
     "output_type": "stream",
     "text": [
      "\r",
      "Warmup:  13%|███▌                       | 91/700 [00:14,  9.64it/s, step size=7.13e-03, acc. prob=0.790]"
     ]
    },
    {
     "name": "stderr",
     "output_type": "stream",
     "text": [
      "\r",
      "Warmup:  13%|███▋                       | 94/700 [00:14, 11.15it/s, step size=3.01e-03, acc. prob=0.785]"
     ]
    },
    {
     "name": "stderr",
     "output_type": "stream",
     "text": [
      "\r",
      "Warmup:  14%|███▋                       | 96/700 [00:15,  9.14it/s, step size=2.74e-03, acc. prob=0.785]"
     ]
    },
    {
     "name": "stderr",
     "output_type": "stream",
     "text": [
      "\r",
      "Warmup:  14%|███▋                       | 97/700 [00:15,  8.69it/s, step size=4.00e-03, acc. prob=0.787]"
     ]
    },
    {
     "name": "stderr",
     "output_type": "stream",
     "text": [
      "\r",
      "Warmup:  14%|███▊                       | 99/700 [00:15,  7.74it/s, step size=4.09e-01, acc. prob=0.786]"
     ]
    },
    {
     "name": "stderr",
     "output_type": "stream",
     "text": [
      "\r",
      "Warmup:  15%|███▊                      | 102/700 [00:15,  9.06it/s, step size=9.81e-02, acc. prob=0.773]"
     ]
    },
    {
     "name": "stderr",
     "output_type": "stream",
     "text": [
      "\r",
      "Warmup:  15%|███▊                      | 103/700 [00:15,  8.47it/s, step size=1.09e-01, acc. prob=0.774]"
     ]
    },
    {
     "name": "stderr",
     "output_type": "stream",
     "text": [
      "\r",
      "Warmup:  15%|███▊                      | 104/700 [00:16,  7.49it/s, step size=1.70e-01, acc. prob=0.777]"
     ]
    },
    {
     "name": "stderr",
     "output_type": "stream",
     "text": [
      "\r",
      "Warmup:  15%|███▉                      | 106/700 [00:16,  9.41it/s, step size=5.39e-02, acc. prob=0.774]"
     ]
    },
    {
     "name": "stderr",
     "output_type": "stream",
     "text": [
      "\r",
      "Warmup:  15%|████                      | 108/700 [00:16,  6.43it/s, step size=1.39e-01, acc. prob=0.777]"
     ]
    },
    {
     "name": "stderr",
     "output_type": "stream",
     "text": [
      "\r",
      "Warmup:  16%|████                      | 110/700 [00:16,  7.80it/s, step size=7.15e-02, acc. prob=0.776]"
     ]
    },
    {
     "name": "stderr",
     "output_type": "stream",
     "text": [
      "\r",
      "Warmup:  16%|████▏                     | 112/700 [00:17,  6.81it/s, step size=1.83e-01, acc. prob=0.779]"
     ]
    },
    {
     "name": "stderr",
     "output_type": "stream",
     "text": [
      "\r",
      "Warmup:  16%|████▏                     | 114/700 [00:17,  7.67it/s, step size=1.70e-01, acc. prob=0.779]"
     ]
    },
    {
     "name": "stderr",
     "output_type": "stream",
     "text": [
      "\r",
      "Warmup:  16%|████▎                     | 115/700 [00:17,  7.51it/s, step size=2.41e-01, acc. prob=0.780]"
     ]
    },
    {
     "name": "stderr",
     "output_type": "stream",
     "text": [
      "\r",
      "Warmup:  17%|████▎                     | 116/700 [00:17,  7.45it/s, step size=1.82e-01, acc. prob=0.779]"
     ]
    },
    {
     "name": "stderr",
     "output_type": "stream",
     "text": [
      "\r",
      "Warmup:  17%|████▎                     | 117/700 [00:17,  7.01it/s, step size=1.63e-01, acc. prob=0.779]"
     ]
    },
    {
     "name": "stderr",
     "output_type": "stream",
     "text": [
      "\r",
      "Warmup:  17%|████▍                     | 118/700 [00:18,  7.22it/s, step size=1.22e-01, acc. prob=0.778]"
     ]
    },
    {
     "name": "stderr",
     "output_type": "stream",
     "text": [
      "\r",
      "Warmup:  17%|████▍                     | 119/700 [00:18,  6.32it/s, step size=1.19e-01, acc. prob=0.779]"
     ]
    },
    {
     "name": "stderr",
     "output_type": "stream",
     "text": [
      "\r",
      "Warmup:  17%|████▍                     | 121/700 [00:18,  8.11it/s, step size=2.26e-01, acc. prob=0.781]"
     ]
    },
    {
     "name": "stderr",
     "output_type": "stream",
     "text": [
      "\r",
      "Warmup:  18%|████▌                     | 123/700 [00:18,  9.53it/s, step size=1.11e-01, acc. prob=0.779]"
     ]
    },
    {
     "name": "stderr",
     "output_type": "stream",
     "text": [
      "\r",
      "Warmup:  18%|████▋                     | 125/700 [00:18,  8.91it/s, step size=1.89e-01, acc. prob=0.780]"
     ]
    },
    {
     "name": "stderr",
     "output_type": "stream",
     "text": [
      "\r",
      "Warmup:  18%|████▋                     | 127/700 [00:19,  9.55it/s, step size=1.58e-01, acc. prob=0.780]"
     ]
    },
    {
     "name": "stderr",
     "output_type": "stream",
     "text": [
      "\r",
      "Warmup:  18%|████▊                     | 129/700 [00:19, 10.73it/s, step size=1.35e-01, acc. prob=0.780]"
     ]
    },
    {
     "name": "stderr",
     "output_type": "stream",
     "text": [
      "\r",
      "Warmup:  19%|████▊                     | 131/700 [00:19,  9.92it/s, step size=1.36e-01, acc. prob=0.780]"
     ]
    },
    {
     "name": "stderr",
     "output_type": "stream",
     "text": [
      "\r",
      "Warmup:  19%|████▉                     | 133/700 [00:19,  9.03it/s, step size=1.53e-01, acc. prob=0.780]"
     ]
    },
    {
     "name": "stderr",
     "output_type": "stream",
     "text": [
      "\r",
      "Warmup:  19%|████▉                     | 134/700 [00:19,  6.65it/s, step size=2.48e-01, acc. prob=0.782]"
     ]
    },
    {
     "name": "stderr",
     "output_type": "stream",
     "text": [
      "\r",
      "Warmup:  19%|█████                     | 136/700 [00:20,  7.77it/s, step size=1.46e-01, acc. prob=0.780]"
     ]
    },
    {
     "name": "stderr",
     "output_type": "stream",
     "text": [
      "\r",
      "Warmup:  20%|█████▏                    | 138/700 [00:20,  9.02it/s, step size=1.18e-01, acc. prob=0.780]"
     ]
    },
    {
     "name": "stderr",
     "output_type": "stream",
     "text": [
      "\r",
      "Warmup:  20%|█████▏                    | 140/700 [00:20,  7.47it/s, step size=1.85e-01, acc. prob=0.781]"
     ]
    },
    {
     "name": "stderr",
     "output_type": "stream",
     "text": [
      "\r",
      "Warmup:  20%|█████▎                    | 142/700 [00:20,  8.78it/s, step size=3.08e-01, acc. prob=0.783]"
     ]
    },
    {
     "name": "stderr",
     "output_type": "stream",
     "text": [
      "\r",
      "Warmup:  21%|█████▎                    | 144/700 [00:20,  9.20it/s, step size=1.12e-01, acc. prob=0.780]"
     ]
    },
    {
     "name": "stderr",
     "output_type": "stream",
     "text": [
      "\r",
      "Warmup:  21%|█████▍                    | 146/700 [00:21,  8.77it/s, step size=2.11e-01, acc. prob=0.782]"
     ]
    },
    {
     "name": "stderr",
     "output_type": "stream",
     "text": [
      "\r",
      "Warmup:  21%|█████▍                    | 148/700 [00:21,  9.50it/s, step size=2.81e-01, acc. prob=0.783]"
     ]
    },
    {
     "name": "stderr",
     "output_type": "stream",
     "text": [
      "\r",
      "Warmup:  21%|█████▌                    | 150/700 [00:21,  9.53it/s, step size=2.09e+00, acc. prob=0.780]"
     ]
    },
    {
     "name": "stderr",
     "output_type": "stream",
     "text": [
      "\r",
      "Warmup:  22%|█████▋                    | 153/700 [00:21, 12.07it/s, step size=1.34e-01, acc. prob=0.775]"
     ]
    },
    {
     "name": "stderr",
     "output_type": "stream",
     "text": [
      "\r",
      "Warmup:  22%|█████▊                    | 155/700 [00:22, 10.18it/s, step size=3.31e-01, acc. prob=0.777]"
     ]
    },
    {
     "name": "stderr",
     "output_type": "stream",
     "text": [
      "\r",
      "Warmup:  22%|█████▊                    | 157/700 [00:22,  7.69it/s, step size=9.27e-02, acc. prob=0.775]"
     ]
    },
    {
     "name": "stderr",
     "output_type": "stream",
     "text": [
      "\r",
      "Warmup:  23%|█████▊                    | 158/700 [00:22,  6.15it/s, step size=1.57e-01, acc. prob=0.776]"
     ]
    },
    {
     "name": "stderr",
     "output_type": "stream",
     "text": [
      "\r",
      "Warmup:  23%|█████▉                    | 159/700 [00:23,  5.87it/s, step size=2.71e-01, acc. prob=0.778]"
     ]
    },
    {
     "name": "stderr",
     "output_type": "stream",
     "text": [
      "\r",
      "Warmup:  23%|█████▉                    | 161/700 [00:23,  7.23it/s, step size=6.56e-02, acc. prob=0.775]"
     ]
    },
    {
     "name": "stderr",
     "output_type": "stream",
     "text": [
      "\r",
      "Warmup:  23%|██████                    | 162/700 [00:23,  5.47it/s, step size=1.23e-01, acc. prob=0.776]"
     ]
    },
    {
     "name": "stderr",
     "output_type": "stream",
     "text": [
      "\r",
      "Warmup:  23%|██████                    | 163/700 [00:23,  5.75it/s, step size=2.23e-01, acc. prob=0.778]"
     ]
    },
    {
     "name": "stderr",
     "output_type": "stream",
     "text": [
      "\r",
      "Warmup:  24%|██████▏                   | 165/700 [00:24,  5.33it/s, step size=1.53e-01, acc. prob=0.777]"
     ]
    },
    {
     "name": "stderr",
     "output_type": "stream",
     "text": [
      "\r",
      "Warmup:  24%|██████▏                   | 166/700 [00:24,  5.40it/s, step size=2.78e-01, acc. prob=0.779]"
     ]
    },
    {
     "name": "stderr",
     "output_type": "stream",
     "text": [
      "\r",
      "Warmup:  24%|██████▏                   | 168/700 [00:24,  7.40it/s, step size=6.30e-02, acc. prob=0.776]"
     ]
    },
    {
     "name": "stderr",
     "output_type": "stream",
     "text": [
      "\r",
      "Warmup:  24%|██████▎                   | 169/700 [00:24,  5.61it/s, step size=1.09e-01, acc. prob=0.777]"
     ]
    },
    {
     "name": "stderr",
     "output_type": "stream",
     "text": [
      "\r",
      "Warmup:  24%|██████▎                   | 170/700 [00:24,  5.47it/s, step size=1.83e-01, acc. prob=0.778]"
     ]
    },
    {
     "name": "stderr",
     "output_type": "stream",
     "text": [
      "\r",
      "Warmup:  25%|██████▍                   | 172/700 [00:25,  7.23it/s, step size=2.35e-01, acc. prob=0.779]"
     ]
    },
    {
     "name": "stderr",
     "output_type": "stream",
     "text": [
      "\r",
      "Warmup:  25%|██████▍                   | 174/700 [00:25,  7.32it/s, step size=3.13e-01, acc. prob=0.779]"
     ]
    },
    {
     "name": "stderr",
     "output_type": "stream",
     "text": [
      "\r",
      "Warmup:  25%|██████▌                   | 176/700 [00:25,  7.81it/s, step size=1.77e-01, acc. prob=0.778]"
     ]
    },
    {
     "name": "stderr",
     "output_type": "stream",
     "text": [
      "\r",
      "Warmup:  25%|██████▌                   | 178/700 [00:25,  9.09it/s, step size=1.72e-01, acc. prob=0.779]"
     ]
    },
    {
     "name": "stderr",
     "output_type": "stream",
     "text": [
      "\r",
      "Warmup:  26%|██████▋                   | 180/700 [00:25,  9.69it/s, step size=1.17e-01, acc. prob=0.778]"
     ]
    },
    {
     "name": "stderr",
     "output_type": "stream",
     "text": [
      "\r",
      "Warmup:  26%|██████▊                   | 182/700 [00:26,  9.40it/s, step size=2.88e-01, acc. prob=0.780]"
     ]
    },
    {
     "name": "stderr",
     "output_type": "stream",
     "text": [
      "\r",
      "Warmup:  26%|██████▊                   | 184/700 [00:26,  8.82it/s, step size=1.59e-01, acc. prob=0.779]"
     ]
    },
    {
     "name": "stderr",
     "output_type": "stream",
     "text": [
      "\r",
      "Warmup:  26%|██████▊                   | 185/700 [00:26,  8.40it/s, step size=2.35e-01, acc. prob=0.780]"
     ]
    },
    {
     "name": "stderr",
     "output_type": "stream",
     "text": [
      "\r",
      "Warmup:  27%|██████▉                   | 187/700 [00:26,  9.84it/s, step size=7.96e-02, acc. prob=0.778]"
     ]
    },
    {
     "name": "stderr",
     "output_type": "stream",
     "text": [
      "\r",
      "Warmup:  27%|███████                   | 189/700 [00:27,  6.97it/s, step size=1.51e-01, acc. prob=0.779]"
     ]
    },
    {
     "name": "stderr",
     "output_type": "stream",
     "text": [
      "\r",
      "Warmup:  27%|███████                   | 190/700 [00:27,  6.56it/s, step size=2.46e-01, acc. prob=0.780]"
     ]
    },
    {
     "name": "stderr",
     "output_type": "stream",
     "text": [
      "\r",
      "Warmup:  27%|███████▏                  | 192/700 [00:27,  7.91it/s, step size=2.49e-01, acc. prob=0.780]"
     ]
    },
    {
     "name": "stderr",
     "output_type": "stream",
     "text": [
      "\r",
      "Warmup:  28%|███████▏                  | 194/700 [00:27,  9.38it/s, step size=3.40e-01, acc. prob=0.781]"
     ]
    },
    {
     "name": "stderr",
     "output_type": "stream",
     "text": [
      "\r",
      "Warmup:  28%|███████▎                  | 196/700 [00:27,  8.74it/s, step size=1.50e-01, acc. prob=0.779]"
     ]
    },
    {
     "name": "stderr",
     "output_type": "stream",
     "text": [
      "\r",
      "Warmup:  28%|███████▎                  | 197/700 [00:27,  8.19it/s, step size=2.36e-01, acc. prob=0.781]"
     ]
    },
    {
     "name": "stderr",
     "output_type": "stream",
     "text": [
      "\r",
      "Warmup:  28%|███████▍                  | 199/700 [00:28,  9.70it/s, step size=1.98e-01, acc. prob=0.782]"
     ]
    },
    {
     "name": "stderr",
     "output_type": "stream",
     "text": [
      "\r",
      "Warmup:  29%|███████▍                  | 201/700 [00:28, 10.03it/s, step size=1.98e-01, acc. prob=0.988]"
     ]
    },
    {
     "name": "stderr",
     "output_type": "stream",
     "text": [
      "\r",
      "Sample:  29%|███████▌                  | 203/700 [00:28, 10.91it/s, step size=1.98e-01, acc. prob=0.919]"
     ]
    },
    {
     "name": "stderr",
     "output_type": "stream",
     "text": [
      "\r",
      "Sample:  29%|███████▌                  | 205/700 [00:28, 11.74it/s, step size=1.98e-01, acc. prob=0.873]"
     ]
    },
    {
     "name": "stderr",
     "output_type": "stream",
     "text": [
      "\r",
      "Sample:  30%|███████▋                  | 207/700 [00:28, 12.04it/s, step size=1.98e-01, acc. prob=0.862]"
     ]
    },
    {
     "name": "stderr",
     "output_type": "stream",
     "text": [
      "\r",
      "Sample:  30%|███████▊                  | 209/700 [00:28, 12.31it/s, step size=1.98e-01, acc. prob=0.877]"
     ]
    },
    {
     "name": "stderr",
     "output_type": "stream",
     "text": [
      "\r",
      "Sample:  30%|███████▊                  | 211/700 [00:29, 12.89it/s, step size=1.98e-01, acc. prob=0.867]"
     ]
    },
    {
     "name": "stderr",
     "output_type": "stream",
     "text": [
      "\r",
      "Sample:  30%|███████▉                  | 213/700 [00:29, 12.99it/s, step size=1.98e-01, acc. prob=0.876]"
     ]
    },
    {
     "name": "stderr",
     "output_type": "stream",
     "text": [
      "\r",
      "Sample:  31%|███████▉                  | 215/700 [00:29, 12.52it/s, step size=1.98e-01, acc. prob=0.857]"
     ]
    },
    {
     "name": "stderr",
     "output_type": "stream",
     "text": [
      "\r",
      "Sample:  31%|████████                  | 217/700 [00:29, 11.39it/s, step size=1.98e-01, acc. prob=0.820]"
     ]
    },
    {
     "name": "stderr",
     "output_type": "stream",
     "text": [
      "\r",
      "Sample:  31%|████████▏                 | 219/700 [00:29, 10.21it/s, step size=1.98e-01, acc. prob=0.817]"
     ]
    },
    {
     "name": "stderr",
     "output_type": "stream",
     "text": [
      "\r",
      "Sample:  32%|████████▏                 | 221/700 [00:29, 11.10it/s, step size=1.98e-01, acc. prob=0.788]"
     ]
    },
    {
     "name": "stderr",
     "output_type": "stream",
     "text": [
      "\r",
      "Sample:  32%|████████▎                 | 223/700 [00:30, 11.47it/s, step size=1.98e-01, acc. prob=0.773]"
     ]
    },
    {
     "name": "stderr",
     "output_type": "stream",
     "text": [
      "\r",
      "Sample:  32%|████████▎                 | 225/700 [00:30, 10.78it/s, step size=1.98e-01, acc. prob=0.782]"
     ]
    },
    {
     "name": "stderr",
     "output_type": "stream",
     "text": [
      "\r",
      "Sample:  32%|████████▍                 | 227/700 [00:30, 11.25it/s, step size=1.98e-01, acc. prob=0.771]"
     ]
    },
    {
     "name": "stderr",
     "output_type": "stream",
     "text": [
      "\r",
      "Sample:  33%|████████▌                 | 229/700 [00:30, 11.78it/s, step size=1.98e-01, acc. prob=0.779]"
     ]
    },
    {
     "name": "stderr",
     "output_type": "stream",
     "text": [
      "\r",
      "Sample:  33%|████████▌                 | 231/700 [00:30, 11.68it/s, step size=1.98e-01, acc. prob=0.776]"
     ]
    },
    {
     "name": "stderr",
     "output_type": "stream",
     "text": [
      "\r",
      "Sample:  33%|████████▋                 | 233/700 [00:30, 12.16it/s, step size=1.98e-01, acc. prob=0.784]"
     ]
    },
    {
     "name": "stderr",
     "output_type": "stream",
     "text": [
      "\r",
      "Sample:  34%|████████▋                 | 235/700 [00:31, 12.53it/s, step size=1.98e-01, acc. prob=0.783]"
     ]
    },
    {
     "name": "stderr",
     "output_type": "stream",
     "text": [
      "\r",
      "Sample:  34%|████████▊                 | 237/700 [00:31, 10.55it/s, step size=1.98e-01, acc. prob=0.792]"
     ]
    },
    {
     "name": "stderr",
     "output_type": "stream",
     "text": [
      "\r",
      "Sample:  34%|████████▉                 | 239/700 [00:31, 10.12it/s, step size=1.98e-01, acc. prob=0.800]"
     ]
    },
    {
     "name": "stderr",
     "output_type": "stream",
     "text": [
      "\r",
      "Sample:  34%|████████▉                 | 241/700 [00:31,  8.50it/s, step size=1.98e-01, acc. prob=0.807]"
     ]
    },
    {
     "name": "stderr",
     "output_type": "stream",
     "text": [
      "\r",
      "Sample:  35%|█████████                 | 243/700 [00:32,  8.79it/s, step size=1.98e-01, acc. prob=0.814]"
     ]
    },
    {
     "name": "stderr",
     "output_type": "stream",
     "text": [
      "\r",
      "Sample:  35%|█████████                 | 244/700 [00:32,  8.92it/s, step size=1.98e-01, acc. prob=0.814]"
     ]
    },
    {
     "name": "stderr",
     "output_type": "stream",
     "text": [
      "\r",
      "Sample:  35%|█████████▏                | 246/700 [00:32,  8.86it/s, step size=1.98e-01, acc. prob=0.821]"
     ]
    },
    {
     "name": "stderr",
     "output_type": "stream",
     "text": [
      "\r",
      "Sample:  35%|█████████▏                | 248/700 [00:32, 10.14it/s, step size=1.98e-01, acc. prob=0.823]"
     ]
    },
    {
     "name": "stderr",
     "output_type": "stream",
     "text": [
      "\r",
      "Sample:  36%|█████████▎                | 250/700 [00:32, 10.60it/s, step size=1.98e-01, acc. prob=0.827]"
     ]
    },
    {
     "name": "stderr",
     "output_type": "stream",
     "text": [
      "\r",
      "Sample:  36%|█████████▎                | 252/700 [00:32, 11.16it/s, step size=1.98e-01, acc. prob=0.827]"
     ]
    },
    {
     "name": "stderr",
     "output_type": "stream",
     "text": [
      "\r",
      "Sample:  36%|█████████▍                | 254/700 [00:33, 11.64it/s, step size=1.98e-01, acc. prob=0.824]"
     ]
    },
    {
     "name": "stderr",
     "output_type": "stream",
     "text": [
      "\r",
      "Sample:  37%|█████████▌                | 256/700 [00:33, 11.24it/s, step size=1.98e-01, acc. prob=0.827]"
     ]
    },
    {
     "name": "stderr",
     "output_type": "stream",
     "text": [
      "\r",
      "Sample:  37%|█████████▌                | 258/700 [00:33, 11.34it/s, step size=1.98e-01, acc. prob=0.829]"
     ]
    },
    {
     "name": "stderr",
     "output_type": "stream",
     "text": [
      "\r",
      "Sample:  37%|█████████▋                | 260/700 [00:33, 11.36it/s, step size=1.98e-01, acc. prob=0.834]"
     ]
    },
    {
     "name": "stderr",
     "output_type": "stream",
     "text": [
      "\r",
      "Sample:  37%|█████████▋                | 262/700 [00:33, 11.76it/s, step size=1.98e-01, acc. prob=0.836]"
     ]
    },
    {
     "name": "stderr",
     "output_type": "stream",
     "text": [
      "\r",
      "Sample:  38%|█████████▊                | 264/700 [00:33, 12.11it/s, step size=1.98e-01, acc. prob=0.839]"
     ]
    },
    {
     "name": "stderr",
     "output_type": "stream",
     "text": [
      "\r",
      "Sample:  38%|█████████▉                | 266/700 [00:34, 10.36it/s, step size=1.98e-01, acc. prob=0.839]"
     ]
    },
    {
     "name": "stderr",
     "output_type": "stream",
     "text": [
      "\r",
      "Sample:  38%|█████████▉                | 268/700 [00:34,  9.58it/s, step size=1.98e-01, acc. prob=0.837]"
     ]
    },
    {
     "name": "stderr",
     "output_type": "stream",
     "text": [
      "\r",
      "Sample:  39%|██████████                | 270/700 [00:34,  9.15it/s, step size=1.98e-01, acc. prob=0.839]"
     ]
    },
    {
     "name": "stderr",
     "output_type": "stream",
     "text": [
      "\r",
      "Sample:  39%|██████████                | 271/700 [00:34,  8.64it/s, step size=1.98e-01, acc. prob=0.841]"
     ]
    },
    {
     "name": "stderr",
     "output_type": "stream",
     "text": [
      "\r",
      "Sample:  39%|██████████                | 272/700 [00:34,  8.30it/s, step size=1.98e-01, acc. prob=0.841]"
     ]
    },
    {
     "name": "stderr",
     "output_type": "stream",
     "text": [
      "\r",
      "Sample:  39%|██████████▏               | 273/700 [00:35,  7.23it/s, step size=1.98e-01, acc. prob=0.843]"
     ]
    },
    {
     "name": "stderr",
     "output_type": "stream",
     "text": [
      "\r",
      "Sample:  39%|██████████▏               | 274/700 [00:35,  6.37it/s, step size=1.98e-01, acc. prob=0.844]"
     ]
    },
    {
     "name": "stderr",
     "output_type": "stream",
     "text": [
      "\r",
      "Sample:  39%|██████████▎               | 276/700 [00:35,  8.08it/s, step size=1.98e-01, acc. prob=0.845]"
     ]
    },
    {
     "name": "stderr",
     "output_type": "stream",
     "text": [
      "\r",
      "Sample:  40%|██████████▎               | 278/700 [00:35,  9.35it/s, step size=1.98e-01, acc. prob=0.848]"
     ]
    },
    {
     "name": "stderr",
     "output_type": "stream",
     "text": [
      "\r",
      "Sample:  40%|██████████▍               | 280/700 [00:35,  9.64it/s, step size=1.98e-01, acc. prob=0.851]"
     ]
    },
    {
     "name": "stderr",
     "output_type": "stream",
     "text": [
      "\r",
      "Sample:  40%|██████████▍               | 282/700 [00:36, 10.29it/s, step size=1.98e-01, acc. prob=0.850]"
     ]
    },
    {
     "name": "stderr",
     "output_type": "stream",
     "text": [
      "\r",
      "Sample:  41%|██████████▌               | 284/700 [00:36, 11.08it/s, step size=1.98e-01, acc. prob=0.851]"
     ]
    },
    {
     "name": "stderr",
     "output_type": "stream",
     "text": [
      "\r",
      "Sample:  41%|██████████▌               | 286/700 [00:36, 10.91it/s, step size=1.98e-01, acc. prob=0.852]"
     ]
    },
    {
     "name": "stderr",
     "output_type": "stream",
     "text": [
      "\r",
      "Sample:  41%|██████████▋               | 288/700 [00:36, 11.61it/s, step size=1.98e-01, acc. prob=0.854]"
     ]
    },
    {
     "name": "stderr",
     "output_type": "stream",
     "text": [
      "\r",
      "Sample:  41%|██████████▊               | 290/700 [00:36, 10.90it/s, step size=1.98e-01, acc. prob=0.855]"
     ]
    },
    {
     "name": "stderr",
     "output_type": "stream",
     "text": [
      "\r",
      "Sample:  42%|██████████▊               | 292/700 [00:36, 11.52it/s, step size=1.98e-01, acc. prob=0.856]"
     ]
    },
    {
     "name": "stderr",
     "output_type": "stream",
     "text": [
      "\r",
      "Sample:  42%|██████████▉               | 294/700 [00:37, 12.20it/s, step size=1.98e-01, acc. prob=0.857]"
     ]
    },
    {
     "name": "stderr",
     "output_type": "stream",
     "text": [
      "\r",
      "Sample:  42%|██████████▉               | 296/700 [00:37, 12.44it/s, step size=1.98e-01, acc. prob=0.854]"
     ]
    },
    {
     "name": "stderr",
     "output_type": "stream",
     "text": [
      "\r",
      "Sample:  43%|███████████               | 298/700 [00:37, 11.36it/s, step size=1.98e-01, acc. prob=0.857]"
     ]
    },
    {
     "name": "stderr",
     "output_type": "stream",
     "text": [
      "\r",
      "Sample:  43%|███████████▏              | 300/700 [00:37, 11.82it/s, step size=1.98e-01, acc. prob=0.856]"
     ]
    },
    {
     "name": "stderr",
     "output_type": "stream",
     "text": [
      "\r",
      "Sample:  43%|███████████▏              | 302/700 [00:37, 12.49it/s, step size=1.98e-01, acc. prob=0.857]"
     ]
    },
    {
     "name": "stderr",
     "output_type": "stream",
     "text": [
      "\r",
      "Sample:  43%|███████████▎              | 304/700 [00:37, 11.42it/s, step size=1.98e-01, acc. prob=0.858]"
     ]
    },
    {
     "name": "stderr",
     "output_type": "stream",
     "text": [
      "\r",
      "Sample:  44%|███████████▎              | 306/700 [00:38, 11.04it/s, step size=1.98e-01, acc. prob=0.855]"
     ]
    },
    {
     "name": "stderr",
     "output_type": "stream",
     "text": [
      "\r",
      "Sample:  44%|███████████▍              | 308/700 [00:38, 11.49it/s, step size=1.98e-01, acc. prob=0.853]"
     ]
    },
    {
     "name": "stderr",
     "output_type": "stream",
     "text": [
      "\r",
      "Sample:  44%|███████████▌              | 310/700 [00:38,  9.99it/s, step size=1.98e-01, acc. prob=0.856]"
     ]
    },
    {
     "name": "stderr",
     "output_type": "stream",
     "text": [
      "\r",
      "Sample:  45%|███████████▌              | 312/700 [00:38, 10.48it/s, step size=1.98e-01, acc. prob=0.855]"
     ]
    },
    {
     "name": "stderr",
     "output_type": "stream",
     "text": [
      "\r",
      "Sample:  45%|███████████▋              | 314/700 [00:38, 11.05it/s, step size=1.98e-01, acc. prob=0.857]"
     ]
    },
    {
     "name": "stderr",
     "output_type": "stream",
     "text": [
      "\r",
      "Sample:  45%|███████████▋              | 316/700 [00:39, 11.11it/s, step size=1.98e-01, acc. prob=0.859]"
     ]
    },
    {
     "name": "stderr",
     "output_type": "stream",
     "text": [
      "\r",
      "Sample:  45%|███████████▊              | 318/700 [00:39, 11.79it/s, step size=1.98e-01, acc. prob=0.858]"
     ]
    },
    {
     "name": "stderr",
     "output_type": "stream",
     "text": [
      "\r",
      "Sample:  46%|███████████▉              | 320/700 [00:39, 12.53it/s, step size=1.98e-01, acc. prob=0.857]"
     ]
    },
    {
     "name": "stderr",
     "output_type": "stream",
     "text": [
      "\r",
      "Sample:  46%|███████████▉              | 322/700 [00:39, 12.37it/s, step size=1.98e-01, acc. prob=0.857]"
     ]
    },
    {
     "name": "stderr",
     "output_type": "stream",
     "text": [
      "\r",
      "Sample:  46%|████████████              | 324/700 [00:39, 11.29it/s, step size=1.98e-01, acc. prob=0.855]"
     ]
    },
    {
     "name": "stderr",
     "output_type": "stream",
     "text": [
      "\r",
      "Sample:  47%|████████████              | 326/700 [00:39,  9.59it/s, step size=1.98e-01, acc. prob=0.856]"
     ]
    },
    {
     "name": "stderr",
     "output_type": "stream",
     "text": [
      "\r",
      "Sample:  47%|████████████▏             | 328/700 [00:40,  8.64it/s, step size=1.98e-01, acc. prob=0.858]"
     ]
    },
    {
     "name": "stderr",
     "output_type": "stream",
     "text": [
      "\r",
      "Sample:  47%|████████████▏             | 329/700 [00:40,  8.21it/s, step size=1.98e-01, acc. prob=0.858]"
     ]
    },
    {
     "name": "stderr",
     "output_type": "stream",
     "text": [
      "\r",
      "Sample:  47%|████████████▎             | 330/700 [00:40,  7.93it/s, step size=1.98e-01, acc. prob=0.859]"
     ]
    },
    {
     "name": "stderr",
     "output_type": "stream",
     "text": [
      "\r",
      "Sample:  47%|████████████▎             | 331/700 [00:40,  7.37it/s, step size=1.98e-01, acc. prob=0.860]"
     ]
    },
    {
     "name": "stderr",
     "output_type": "stream",
     "text": [
      "\r",
      "Sample:  47%|████████████▎             | 332/700 [00:40,  7.64it/s, step size=1.98e-01, acc. prob=0.858]"
     ]
    },
    {
     "name": "stderr",
     "output_type": "stream",
     "text": [
      "\r",
      "Sample:  48%|████████████▎             | 333/700 [00:40,  7.25it/s, step size=1.98e-01, acc. prob=0.858]"
     ]
    },
    {
     "name": "stderr",
     "output_type": "stream",
     "text": [
      "\r",
      "Sample:  48%|████████████▍             | 334/700 [00:41,  6.87it/s, step size=1.98e-01, acc. prob=0.858]"
     ]
    },
    {
     "name": "stderr",
     "output_type": "stream",
     "text": [
      "\r",
      "Sample:  48%|████████████▍             | 335/700 [00:41,  6.90it/s, step size=1.98e-01, acc. prob=0.859]"
     ]
    },
    {
     "name": "stderr",
     "output_type": "stream",
     "text": [
      "\r",
      "Sample:  48%|████████████▍             | 336/700 [00:41,  6.86it/s, step size=1.98e-01, acc. prob=0.860]"
     ]
    },
    {
     "name": "stderr",
     "output_type": "stream",
     "text": [
      "\r",
      "Sample:  48%|████████████▌             | 337/700 [00:41,  6.25it/s, step size=1.98e-01, acc. prob=0.860]"
     ]
    },
    {
     "name": "stderr",
     "output_type": "stream",
     "text": [
      "\r",
      "Sample:  48%|████████████▌             | 338/700 [00:41,  6.05it/s, step size=1.98e-01, acc. prob=0.861]"
     ]
    },
    {
     "name": "stderr",
     "output_type": "stream",
     "text": [
      "\r",
      "Sample:  49%|████████████▋             | 340/700 [00:41,  7.97it/s, step size=1.98e-01, acc. prob=0.861]"
     ]
    },
    {
     "name": "stderr",
     "output_type": "stream",
     "text": [
      "\r",
      "Sample:  49%|████████████▋             | 341/700 [00:42,  7.64it/s, step size=1.98e-01, acc. prob=0.861]"
     ]
    },
    {
     "name": "stderr",
     "output_type": "stream",
     "text": [
      "\r",
      "Sample:  49%|████████████▋             | 342/700 [00:42,  7.32it/s, step size=1.98e-01, acc. prob=0.860]"
     ]
    },
    {
     "name": "stderr",
     "output_type": "stream",
     "text": [
      "\r",
      "Sample:  49%|████████████▋             | 343/700 [00:42,  7.11it/s, step size=1.98e-01, acc. prob=0.861]"
     ]
    },
    {
     "name": "stderr",
     "output_type": "stream",
     "text": [
      "\r",
      "Sample:  49%|████████████▊             | 344/700 [00:42,  6.60it/s, step size=1.98e-01, acc. prob=0.862]"
     ]
    },
    {
     "name": "stderr",
     "output_type": "stream",
     "text": [
      "\r",
      "Sample:  49%|████████████▊             | 345/700 [00:42,  6.31it/s, step size=1.98e-01, acc. prob=0.862]"
     ]
    },
    {
     "name": "stderr",
     "output_type": "stream",
     "text": [
      "\r",
      "Sample:  49%|████████████▊             | 346/700 [00:42,  6.17it/s, step size=1.98e-01, acc. prob=0.862]"
     ]
    },
    {
     "name": "stderr",
     "output_type": "stream",
     "text": [
      "\r",
      "Sample:  50%|████████████▉             | 347/700 [00:43,  5.74it/s, step size=1.98e-01, acc. prob=0.861]"
     ]
    },
    {
     "name": "stderr",
     "output_type": "stream",
     "text": [
      "\r",
      "Sample:  50%|████████████▉             | 348/700 [00:43,  5.45it/s, step size=1.98e-01, acc. prob=0.861]"
     ]
    },
    {
     "name": "stderr",
     "output_type": "stream",
     "text": [
      "\r",
      "Sample:  50%|████████████▉             | 349/700 [00:43,  5.27it/s, step size=1.98e-01, acc. prob=0.861]"
     ]
    },
    {
     "name": "stderr",
     "output_type": "stream",
     "text": [
      "\r",
      "Sample:  50%|█████████████             | 351/700 [00:43,  7.08it/s, step size=1.98e-01, acc. prob=0.862]"
     ]
    },
    {
     "name": "stderr",
     "output_type": "stream",
     "text": [
      "\r",
      "Sample:  50%|█████████████             | 353/700 [00:43,  8.62it/s, step size=1.98e-01, acc. prob=0.862]"
     ]
    },
    {
     "name": "stderr",
     "output_type": "stream",
     "text": [
      "\r",
      "Sample:  51%|█████████████▏            | 355/700 [00:44,  9.75it/s, step size=1.98e-01, acc. prob=0.864]"
     ]
    },
    {
     "name": "stderr",
     "output_type": "stream",
     "text": [
      "\r",
      "Sample:  51%|█████████████▎            | 357/700 [00:44, 10.75it/s, step size=1.98e-01, acc. prob=0.864]"
     ]
    },
    {
     "name": "stderr",
     "output_type": "stream",
     "text": [
      "\r",
      "Sample:  51%|█████████████▎            | 359/700 [00:44, 11.23it/s, step size=1.98e-01, acc. prob=0.865]"
     ]
    },
    {
     "name": "stderr",
     "output_type": "stream",
     "text": [
      "\r",
      "Sample:  52%|█████████████▍            | 361/700 [00:44, 11.45it/s, step size=1.98e-01, acc. prob=0.865]"
     ]
    },
    {
     "name": "stderr",
     "output_type": "stream",
     "text": [
      "\r",
      "Sample:  52%|█████████████▍            | 363/700 [00:44, 12.35it/s, step size=1.98e-01, acc. prob=0.866]"
     ]
    },
    {
     "name": "stderr",
     "output_type": "stream",
     "text": [
      "\r",
      "Sample:  52%|█████████████▌            | 365/700 [00:44, 12.95it/s, step size=1.98e-01, acc. prob=0.867]"
     ]
    },
    {
     "name": "stderr",
     "output_type": "stream",
     "text": [
      "\r",
      "Sample:  52%|█████████████▋            | 367/700 [00:44, 12.75it/s, step size=1.98e-01, acc. prob=0.866]"
     ]
    },
    {
     "name": "stderr",
     "output_type": "stream",
     "text": [
      "\r",
      "Sample:  53%|█████████████▋            | 369/700 [00:45, 12.90it/s, step size=1.98e-01, acc. prob=0.864]"
     ]
    },
    {
     "name": "stderr",
     "output_type": "stream",
     "text": [
      "\r",
      "Sample:  53%|█████████████▊            | 371/700 [00:45, 12.39it/s, step size=1.98e-01, acc. prob=0.864]"
     ]
    },
    {
     "name": "stderr",
     "output_type": "stream",
     "text": [
      "\r",
      "Sample:  53%|█████████████▊            | 373/700 [00:45, 12.56it/s, step size=1.98e-01, acc. prob=0.863]"
     ]
    },
    {
     "name": "stderr",
     "output_type": "stream",
     "text": [
      "\r",
      "Sample:  54%|█████████████▉            | 375/700 [00:45, 12.75it/s, step size=1.98e-01, acc. prob=0.863]"
     ]
    },
    {
     "name": "stderr",
     "output_type": "stream",
     "text": [
      "\r",
      "Sample:  54%|██████████████            | 377/700 [00:45, 12.98it/s, step size=1.98e-01, acc. prob=0.862]"
     ]
    },
    {
     "name": "stderr",
     "output_type": "stream",
     "text": [
      "\r",
      "Sample:  54%|██████████████            | 379/700 [00:45, 12.91it/s, step size=1.98e-01, acc. prob=0.863]"
     ]
    },
    {
     "name": "stderr",
     "output_type": "stream",
     "text": [
      "\r",
      "Sample:  54%|██████████████▏           | 381/700 [00:46, 13.10it/s, step size=1.98e-01, acc. prob=0.862]"
     ]
    },
    {
     "name": "stderr",
     "output_type": "stream",
     "text": [
      "\r",
      "Sample:  55%|██████████████▏           | 383/700 [00:46, 12.41it/s, step size=1.98e-01, acc. prob=0.863]"
     ]
    },
    {
     "name": "stderr",
     "output_type": "stream",
     "text": [
      "\r",
      "Sample:  55%|██████████████▎           | 385/700 [00:46, 12.69it/s, step size=1.98e-01, acc. prob=0.863]"
     ]
    },
    {
     "name": "stderr",
     "output_type": "stream",
     "text": [
      "\r",
      "Sample:  55%|██████████████▎           | 387/700 [00:46, 12.89it/s, step size=1.98e-01, acc. prob=0.863]"
     ]
    },
    {
     "name": "stderr",
     "output_type": "stream",
     "text": [
      "\r",
      "Sample:  56%|██████████████▍           | 389/700 [00:46, 12.74it/s, step size=1.98e-01, acc. prob=0.864]"
     ]
    },
    {
     "name": "stderr",
     "output_type": "stream",
     "text": [
      "\r",
      "Sample:  56%|██████████████▌           | 391/700 [00:46, 12.76it/s, step size=1.98e-01, acc. prob=0.864]"
     ]
    },
    {
     "name": "stderr",
     "output_type": "stream",
     "text": [
      "\r",
      "Sample:  56%|██████████████▌           | 393/700 [00:46, 12.94it/s, step size=1.98e-01, acc. prob=0.865]"
     ]
    },
    {
     "name": "stderr",
     "output_type": "stream",
     "text": [
      "\r",
      "Sample:  56%|██████████████▋           | 395/700 [00:47, 13.02it/s, step size=1.98e-01, acc. prob=0.865]"
     ]
    },
    {
     "name": "stderr",
     "output_type": "stream",
     "text": [
      "\r",
      "Sample:  57%|██████████████▋           | 397/700 [00:47, 13.30it/s, step size=1.98e-01, acc. prob=0.866]"
     ]
    },
    {
     "name": "stderr",
     "output_type": "stream",
     "text": [
      "\r",
      "Sample:  57%|██████████████▊           | 399/700 [00:47, 12.91it/s, step size=1.98e-01, acc. prob=0.866]"
     ]
    },
    {
     "name": "stderr",
     "output_type": "stream",
     "text": [
      "\r",
      "Sample:  57%|██████████████▉           | 401/700 [00:47, 12.58it/s, step size=1.98e-01, acc. prob=0.867]"
     ]
    },
    {
     "name": "stderr",
     "output_type": "stream",
     "text": [
      "\r",
      "Sample:  58%|██████████████▉           | 403/700 [00:47, 12.79it/s, step size=1.98e-01, acc. prob=0.866]"
     ]
    },
    {
     "name": "stderr",
     "output_type": "stream",
     "text": [
      "\r",
      "Sample:  58%|███████████████           | 405/700 [00:47, 13.01it/s, step size=1.98e-01, acc. prob=0.865]"
     ]
    },
    {
     "name": "stderr",
     "output_type": "stream",
     "text": [
      "\r",
      "Sample:  58%|███████████████           | 407/700 [00:48, 13.16it/s, step size=1.98e-01, acc. prob=0.864]"
     ]
    },
    {
     "name": "stderr",
     "output_type": "stream",
     "text": [
      "\r",
      "Sample:  58%|███████████████▏          | 409/700 [00:48, 11.76it/s, step size=1.98e-01, acc. prob=0.865]"
     ]
    },
    {
     "name": "stderr",
     "output_type": "stream",
     "text": [
      "\r",
      "Sample:  59%|███████████████▎          | 411/700 [00:48, 12.66it/s, step size=1.98e-01, acc. prob=0.865]"
     ]
    },
    {
     "name": "stderr",
     "output_type": "stream",
     "text": [
      "\r",
      "Sample:  59%|███████████████▎          | 413/700 [00:48, 13.44it/s, step size=1.98e-01, acc. prob=0.866]"
     ]
    },
    {
     "name": "stderr",
     "output_type": "stream",
     "text": [
      "\r",
      "Sample:  59%|███████████████▍          | 415/700 [00:48, 13.93it/s, step size=1.98e-01, acc. prob=0.867]"
     ]
    },
    {
     "name": "stderr",
     "output_type": "stream",
     "text": [
      "\r",
      "Sample:  60%|███████████████▍          | 417/700 [00:48, 12.40it/s, step size=1.98e-01, acc. prob=0.867]"
     ]
    },
    {
     "name": "stderr",
     "output_type": "stream",
     "text": [
      "\r",
      "Sample:  60%|███████████████▌          | 419/700 [00:49, 11.06it/s, step size=1.98e-01, acc. prob=0.867]"
     ]
    },
    {
     "name": "stderr",
     "output_type": "stream",
     "text": [
      "\r",
      "Sample:  60%|███████████████▋          | 421/700 [00:49, 11.65it/s, step size=1.98e-01, acc. prob=0.867]"
     ]
    },
    {
     "name": "stderr",
     "output_type": "stream",
     "text": [
      "\r",
      "Sample:  60%|███████████████▋          | 423/700 [00:49, 12.06it/s, step size=1.98e-01, acc. prob=0.868]"
     ]
    },
    {
     "name": "stderr",
     "output_type": "stream",
     "text": [
      "\r",
      "Sample:  61%|███████████████▊          | 425/700 [00:49, 11.93it/s, step size=1.98e-01, acc. prob=0.868]"
     ]
    },
    {
     "name": "stderr",
     "output_type": "stream",
     "text": [
      "\r",
      "Sample:  61%|███████████████▊          | 427/700 [00:49, 12.41it/s, step size=1.98e-01, acc. prob=0.868]"
     ]
    },
    {
     "name": "stderr",
     "output_type": "stream",
     "text": [
      "\r",
      "Sample:  61%|███████████████▉          | 429/700 [00:49, 12.89it/s, step size=1.98e-01, acc. prob=0.868]"
     ]
    },
    {
     "name": "stderr",
     "output_type": "stream",
     "text": [
      "\r",
      "Sample:  62%|████████████████          | 431/700 [00:50, 12.46it/s, step size=1.98e-01, acc. prob=0.869]"
     ]
    },
    {
     "name": "stderr",
     "output_type": "stream",
     "text": [
      "\r",
      "Sample:  62%|████████████████          | 433/700 [00:50, 12.41it/s, step size=1.98e-01, acc. prob=0.869]"
     ]
    },
    {
     "name": "stderr",
     "output_type": "stream",
     "text": [
      "\r",
      "Sample:  62%|████████████████▏         | 435/700 [00:50, 12.72it/s, step size=1.98e-01, acc. prob=0.870]"
     ]
    },
    {
     "name": "stderr",
     "output_type": "stream",
     "text": [
      "\r",
      "Sample:  62%|████████████████▏         | 437/700 [00:50, 13.24it/s, step size=1.98e-01, acc. prob=0.871]"
     ]
    },
    {
     "name": "stderr",
     "output_type": "stream",
     "text": [
      "\r",
      "Sample:  63%|████████████████▎         | 439/700 [00:50, 13.06it/s, step size=1.98e-01, acc. prob=0.871]"
     ]
    },
    {
     "name": "stderr",
     "output_type": "stream",
     "text": [
      "\r",
      "Sample:  63%|████████████████▍         | 441/700 [00:50, 13.00it/s, step size=1.98e-01, acc. prob=0.871]"
     ]
    },
    {
     "name": "stderr",
     "output_type": "stream",
     "text": [
      "\r",
      "Sample:  63%|████████████████▍         | 443/700 [00:51, 10.45it/s, step size=1.98e-01, acc. prob=0.872]"
     ]
    },
    {
     "name": "stderr",
     "output_type": "stream",
     "text": [
      "\r",
      "Sample:  64%|████████████████▌         | 445/700 [00:51, 10.82it/s, step size=1.98e-01, acc. prob=0.872]"
     ]
    },
    {
     "name": "stderr",
     "output_type": "stream",
     "text": [
      "\r",
      "Sample:  64%|████████████████▌         | 447/700 [00:51, 11.56it/s, step size=1.98e-01, acc. prob=0.872]"
     ]
    },
    {
     "name": "stderr",
     "output_type": "stream",
     "text": [
      "\r",
      "Sample:  64%|████████████████▋         | 449/700 [00:51, 11.77it/s, step size=1.98e-01, acc. prob=0.872]"
     ]
    },
    {
     "name": "stderr",
     "output_type": "stream",
     "text": [
      "\r",
      "Sample:  64%|████████████████▊         | 451/700 [00:51, 10.54it/s, step size=1.98e-01, acc. prob=0.872]"
     ]
    },
    {
     "name": "stderr",
     "output_type": "stream",
     "text": [
      "\r",
      "Sample:  65%|████████████████▊         | 453/700 [00:52, 10.02it/s, step size=1.98e-01, acc. prob=0.873]"
     ]
    },
    {
     "name": "stderr",
     "output_type": "stream",
     "text": [
      "\r",
      "Sample:  65%|████████████████▉         | 455/700 [00:52,  8.06it/s, step size=1.98e-01, acc. prob=0.872]"
     ]
    },
    {
     "name": "stderr",
     "output_type": "stream",
     "text": [
      "\r",
      "Sample:  65%|████████████████▉         | 457/700 [00:52,  9.27it/s, step size=1.98e-01, acc. prob=0.871]"
     ]
    },
    {
     "name": "stderr",
     "output_type": "stream",
     "text": [
      "\r",
      "Sample:  66%|█████████████████         | 459/700 [00:52,  9.82it/s, step size=1.98e-01, acc. prob=0.871]"
     ]
    },
    {
     "name": "stderr",
     "output_type": "stream",
     "text": [
      "\r",
      "Sample:  66%|█████████████████         | 461/700 [00:52,  9.47it/s, step size=1.98e-01, acc. prob=0.872]"
     ]
    },
    {
     "name": "stderr",
     "output_type": "stream",
     "text": [
      "\r",
      "Sample:  66%|█████████████████▏        | 463/700 [00:53,  9.29it/s, step size=1.98e-01, acc. prob=0.871]"
     ]
    },
    {
     "name": "stderr",
     "output_type": "stream",
     "text": [
      "\r",
      "Sample:  66%|█████████████████▏        | 464/700 [00:53,  8.25it/s, step size=1.98e-01, acc. prob=0.872]"
     ]
    },
    {
     "name": "stderr",
     "output_type": "stream",
     "text": [
      "\r",
      "Sample:  66%|█████████████████▎        | 465/700 [00:53,  8.38it/s, step size=1.98e-01, acc. prob=0.871]"
     ]
    },
    {
     "name": "stderr",
     "output_type": "stream",
     "text": [
      "\r",
      "Sample:  67%|█████████████████▎        | 467/700 [00:53,  7.41it/s, step size=1.98e-01, acc. prob=0.872]"
     ]
    },
    {
     "name": "stderr",
     "output_type": "stream",
     "text": [
      "\r",
      "Sample:  67%|█████████████████▍        | 468/700 [00:53,  6.74it/s, step size=1.98e-01, acc. prob=0.872]"
     ]
    },
    {
     "name": "stderr",
     "output_type": "stream",
     "text": [
      "\r",
      "Sample:  67%|█████████████████▍        | 469/700 [00:54,  6.15it/s, step size=1.98e-01, acc. prob=0.872]"
     ]
    },
    {
     "name": "stderr",
     "output_type": "stream",
     "text": [
      "\r",
      "Sample:  67%|█████████████████▍        | 470/700 [00:54,  6.68it/s, step size=1.98e-01, acc. prob=0.872]"
     ]
    },
    {
     "name": "stderr",
     "output_type": "stream",
     "text": [
      "\r",
      "Sample:  67%|█████████████████▍        | 471/700 [00:54,  6.21it/s, step size=1.98e-01, acc. prob=0.872]"
     ]
    },
    {
     "name": "stderr",
     "output_type": "stream",
     "text": [
      "\r",
      "Sample:  68%|█████████████████▌        | 473/700 [00:54,  7.64it/s, step size=1.98e-01, acc. prob=0.871]"
     ]
    },
    {
     "name": "stderr",
     "output_type": "stream",
     "text": [
      "\r",
      "Sample:  68%|█████████████████▌        | 474/700 [00:54,  6.91it/s, step size=1.98e-01, acc. prob=0.871]"
     ]
    },
    {
     "name": "stderr",
     "output_type": "stream",
     "text": [
      "\r",
      "Sample:  68%|█████████████████▋        | 475/700 [00:55,  6.30it/s, step size=1.98e-01, acc. prob=0.872]"
     ]
    },
    {
     "name": "stderr",
     "output_type": "stream",
     "text": [
      "\r",
      "Sample:  68%|█████████████████▋        | 476/700 [00:55,  6.81it/s, step size=1.98e-01, acc. prob=0.872]"
     ]
    },
    {
     "name": "stderr",
     "output_type": "stream",
     "text": [
      "\r",
      "Sample:  68%|█████████████████▋        | 477/700 [00:55,  7.45it/s, step size=1.98e-01, acc. prob=0.871]"
     ]
    },
    {
     "name": "stderr",
     "output_type": "stream",
     "text": [
      "\r",
      "Sample:  68%|█████████████████▊        | 479/700 [00:55,  7.55it/s, step size=1.98e-01, acc. prob=0.872]"
     ]
    },
    {
     "name": "stderr",
     "output_type": "stream",
     "text": [
      "\r",
      "Sample:  69%|█████████████████▊        | 480/700 [00:55,  7.02it/s, step size=1.98e-01, acc. prob=0.872]"
     ]
    },
    {
     "name": "stderr",
     "output_type": "stream",
     "text": [
      "\r",
      "Sample:  69%|█████████████████▉        | 482/700 [00:55,  8.42it/s, step size=1.98e-01, acc. prob=0.872]"
     ]
    },
    {
     "name": "stderr",
     "output_type": "stream",
     "text": [
      "\r",
      "Sample:  69%|█████████████████▉        | 484/700 [00:56,  9.40it/s, step size=1.98e-01, acc. prob=0.871]"
     ]
    },
    {
     "name": "stderr",
     "output_type": "stream",
     "text": [
      "\r",
      "Sample:  69%|██████████████████        | 486/700 [00:56,  9.84it/s, step size=1.98e-01, acc. prob=0.872]"
     ]
    },
    {
     "name": "stderr",
     "output_type": "stream",
     "text": [
      "\r",
      "Sample:  70%|██████████████████        | 487/700 [00:56,  9.76it/s, step size=1.98e-01, acc. prob=0.872]"
     ]
    },
    {
     "name": "stderr",
     "output_type": "stream",
     "text": [
      "\r",
      "Sample:  70%|██████████████████▏       | 489/700 [00:56, 10.15it/s, step size=1.98e-01, acc. prob=0.873]"
     ]
    },
    {
     "name": "stderr",
     "output_type": "stream",
     "text": [
      "\r",
      "Sample:  70%|██████████████████▏       | 491/700 [00:56, 10.28it/s, step size=1.98e-01, acc. prob=0.873]"
     ]
    },
    {
     "name": "stderr",
     "output_type": "stream",
     "text": [
      "\r",
      "Sample:  70%|██████████████████▎       | 493/700 [00:56, 10.21it/s, step size=1.98e-01, acc. prob=0.873]"
     ]
    },
    {
     "name": "stderr",
     "output_type": "stream",
     "text": [
      "\r",
      "Sample:  71%|██████████████████▍       | 495/700 [00:57, 10.69it/s, step size=1.98e-01, acc. prob=0.874]"
     ]
    },
    {
     "name": "stderr",
     "output_type": "stream",
     "text": [
      "\r",
      "Sample:  71%|██████████████████▍       | 497/700 [00:57, 11.44it/s, step size=1.98e-01, acc. prob=0.874]"
     ]
    },
    {
     "name": "stderr",
     "output_type": "stream",
     "text": [
      "\r",
      "Sample:  71%|██████████████████▌       | 499/700 [00:57, 12.08it/s, step size=1.98e-01, acc. prob=0.874]"
     ]
    },
    {
     "name": "stderr",
     "output_type": "stream",
     "text": [
      "\r",
      "Sample:  72%|██████████████████▌       | 501/700 [00:57, 10.74it/s, step size=1.98e-01, acc. prob=0.874]"
     ]
    },
    {
     "name": "stderr",
     "output_type": "stream",
     "text": [
      "\r",
      "Sample:  72%|██████████████████▋       | 503/700 [00:57,  8.68it/s, step size=1.98e-01, acc. prob=0.874]"
     ]
    },
    {
     "name": "stderr",
     "output_type": "stream",
     "text": [
      "\r",
      "Sample:  72%|██████████████████▊       | 505/700 [00:58,  9.80it/s, step size=1.98e-01, acc. prob=0.874]"
     ]
    },
    {
     "name": "stderr",
     "output_type": "stream",
     "text": [
      "\r",
      "Sample:  72%|██████████████████▊       | 507/700 [00:58, 10.51it/s, step size=1.98e-01, acc. prob=0.874]"
     ]
    },
    {
     "name": "stderr",
     "output_type": "stream",
     "text": [
      "\r",
      "Sample:  73%|██████████████████▉       | 509/700 [00:58, 10.87it/s, step size=1.98e-01, acc. prob=0.874]"
     ]
    },
    {
     "name": "stderr",
     "output_type": "stream",
     "text": [
      "\r",
      "Sample:  73%|██████████████████▉       | 511/700 [00:58,  9.17it/s, step size=1.98e-01, acc. prob=0.874]"
     ]
    },
    {
     "name": "stderr",
     "output_type": "stream",
     "text": [
      "\r",
      "Sample:  73%|███████████████████       | 513/700 [00:59,  8.03it/s, step size=1.98e-01, acc. prob=0.875]"
     ]
    },
    {
     "name": "stderr",
     "output_type": "stream",
     "text": [
      "\r",
      "Sample:  73%|███████████████████       | 514/700 [00:59,  7.47it/s, step size=1.98e-01, acc. prob=0.875]"
     ]
    },
    {
     "name": "stderr",
     "output_type": "stream",
     "text": [
      "\r",
      "Sample:  74%|███████████████████▏      | 515/700 [00:59,  7.04it/s, step size=1.98e-01, acc. prob=0.875]"
     ]
    },
    {
     "name": "stderr",
     "output_type": "stream",
     "text": [
      "\r",
      "Sample:  74%|███████████████████▏      | 517/700 [00:59,  8.62it/s, step size=1.98e-01, acc. prob=0.874]"
     ]
    },
    {
     "name": "stderr",
     "output_type": "stream",
     "text": [
      "\r",
      "Sample:  74%|███████████████████▎      | 519/700 [00:59,  9.75it/s, step size=1.98e-01, acc. prob=0.875]"
     ]
    },
    {
     "name": "stderr",
     "output_type": "stream",
     "text": [
      "\r",
      "Sample:  74%|███████████████████▎      | 521/700 [00:59, 10.33it/s, step size=1.98e-01, acc. prob=0.875]"
     ]
    },
    {
     "name": "stderr",
     "output_type": "stream",
     "text": [
      "\r",
      "Sample:  75%|███████████████████▍      | 523/700 [01:00, 10.58it/s, step size=1.98e-01, acc. prob=0.875]"
     ]
    },
    {
     "name": "stderr",
     "output_type": "stream",
     "text": [
      "\r",
      "Sample:  75%|███████████████████▌      | 525/700 [01:00, 11.53it/s, step size=1.98e-01, acc. prob=0.875]"
     ]
    },
    {
     "name": "stderr",
     "output_type": "stream",
     "text": [
      "\r",
      "Sample:  75%|███████████████████▌      | 527/700 [01:00, 12.24it/s, step size=1.98e-01, acc. prob=0.875]"
     ]
    },
    {
     "name": "stderr",
     "output_type": "stream",
     "text": [
      "\r",
      "Sample:  76%|███████████████████▋      | 529/700 [01:00,  9.87it/s, step size=1.98e-01, acc. prob=0.875]"
     ]
    },
    {
     "name": "stderr",
     "output_type": "stream",
     "text": [
      "\r",
      "Sample:  76%|███████████████████▋      | 531/700 [01:00,  9.49it/s, step size=1.98e-01, acc. prob=0.875]"
     ]
    },
    {
     "name": "stderr",
     "output_type": "stream",
     "text": [
      "\r",
      "Sample:  76%|███████████████████▊      | 533/700 [01:00, 10.62it/s, step size=1.98e-01, acc. prob=0.875]"
     ]
    },
    {
     "name": "stderr",
     "output_type": "stream",
     "text": [
      "\r",
      "Sample:  76%|███████████████████▊      | 535/700 [01:01,  9.74it/s, step size=1.98e-01, acc. prob=0.874]"
     ]
    },
    {
     "name": "stderr",
     "output_type": "stream",
     "text": [
      "\r",
      "Sample:  77%|███████████████████▉      | 537/700 [01:01,  9.66it/s, step size=1.98e-01, acc. prob=0.874]"
     ]
    },
    {
     "name": "stderr",
     "output_type": "stream",
     "text": [
      "\r",
      "Sample:  77%|████████████████████      | 539/700 [01:01, 10.80it/s, step size=1.98e-01, acc. prob=0.874]"
     ]
    },
    {
     "name": "stderr",
     "output_type": "stream",
     "text": [
      "\r",
      "Sample:  77%|████████████████████      | 541/700 [01:01, 10.21it/s, step size=1.98e-01, acc. prob=0.874]"
     ]
    },
    {
     "name": "stderr",
     "output_type": "stream",
     "text": [
      "\r",
      "Sample:  78%|████████████████████▏     | 543/700 [01:02,  9.01it/s, step size=1.98e-01, acc. prob=0.874]"
     ]
    },
    {
     "name": "stderr",
     "output_type": "stream",
     "text": [
      "\r",
      "Sample:  78%|████████████████████▏     | 544/700 [01:02,  8.52it/s, step size=1.98e-01, acc. prob=0.875]"
     ]
    },
    {
     "name": "stderr",
     "output_type": "stream",
     "text": [
      "\r",
      "Sample:  78%|████████████████████▏     | 545/700 [01:02,  8.69it/s, step size=1.98e-01, acc. prob=0.875]"
     ]
    },
    {
     "name": "stderr",
     "output_type": "stream",
     "text": [
      "\r",
      "Sample:  78%|████████████████████▎     | 546/700 [01:02,  7.85it/s, step size=1.98e-01, acc. prob=0.875]"
     ]
    },
    {
     "name": "stderr",
     "output_type": "stream",
     "text": [
      "\r",
      "Sample:  78%|████████████████████▎     | 547/700 [01:02,  7.36it/s, step size=1.98e-01, acc. prob=0.876]"
     ]
    },
    {
     "name": "stderr",
     "output_type": "stream",
     "text": [
      "\r",
      "Sample:  78%|████████████████████▍     | 549/700 [01:02,  7.79it/s, step size=1.98e-01, acc. prob=0.876]"
     ]
    },
    {
     "name": "stderr",
     "output_type": "stream",
     "text": [
      "\r",
      "Sample:  79%|████████████████████▍     | 551/700 [01:03,  8.09it/s, step size=1.98e-01, acc. prob=0.877]"
     ]
    },
    {
     "name": "stderr",
     "output_type": "stream",
     "text": [
      "\r",
      "Sample:  79%|████████████████████▌     | 553/700 [01:03,  7.83it/s, step size=1.98e-01, acc. prob=0.876]"
     ]
    },
    {
     "name": "stderr",
     "output_type": "stream",
     "text": [
      "\r",
      "Sample:  79%|████████████████████▌     | 554/700 [01:03,  7.19it/s, step size=1.98e-01, acc. prob=0.877]"
     ]
    },
    {
     "name": "stderr",
     "output_type": "stream",
     "text": [
      "\r",
      "Sample:  79%|████████████████████▌     | 555/700 [01:03,  7.19it/s, step size=1.98e-01, acc. prob=0.877]"
     ]
    },
    {
     "name": "stderr",
     "output_type": "stream",
     "text": [
      "\r",
      "Sample:  80%|████████████████████▋     | 557/700 [01:03,  8.71it/s, step size=1.98e-01, acc. prob=0.877]"
     ]
    },
    {
     "name": "stderr",
     "output_type": "stream",
     "text": [
      "\r",
      "Sample:  80%|████████████████████▊     | 559/700 [01:04,  9.53it/s, step size=1.98e-01, acc. prob=0.877]"
     ]
    },
    {
     "name": "stderr",
     "output_type": "stream",
     "text": [
      "\r",
      "Sample:  80%|████████████████████▊     | 560/700 [01:04,  8.77it/s, step size=1.98e-01, acc. prob=0.878]"
     ]
    },
    {
     "name": "stderr",
     "output_type": "stream",
     "text": [
      "\r",
      "Sample:  80%|████████████████████▊     | 562/700 [01:04,  9.94it/s, step size=1.98e-01, acc. prob=0.877]"
     ]
    },
    {
     "name": "stderr",
     "output_type": "stream",
     "text": [
      "\r",
      "Sample:  81%|████████████████████▉     | 564/700 [01:04,  8.76it/s, step size=1.98e-01, acc. prob=0.878]"
     ]
    },
    {
     "name": "stderr",
     "output_type": "stream",
     "text": [
      "\r",
      "Sample:  81%|█████████████████████     | 566/700 [01:04,  8.56it/s, step size=1.98e-01, acc. prob=0.877]"
     ]
    },
    {
     "name": "stderr",
     "output_type": "stream",
     "text": [
      "\r",
      "Sample:  81%|█████████████████████     | 567/700 [01:04,  8.08it/s, step size=1.98e-01, acc. prob=0.877]"
     ]
    },
    {
     "name": "stderr",
     "output_type": "stream",
     "text": [
      "\r",
      "Sample:  81%|█████████████████████     | 568/700 [01:05,  8.23it/s, step size=1.98e-01, acc. prob=0.877]"
     ]
    },
    {
     "name": "stderr",
     "output_type": "stream",
     "text": [
      "\r",
      "Sample:  81%|█████████████████████▏    | 570/700 [01:05,  9.21it/s, step size=1.98e-01, acc. prob=0.878]"
     ]
    },
    {
     "name": "stderr",
     "output_type": "stream",
     "text": [
      "\r",
      "Sample:  82%|█████████████████████▏    | 571/700 [01:05,  9.29it/s, step size=1.98e-01, acc. prob=0.877]"
     ]
    },
    {
     "name": "stderr",
     "output_type": "stream",
     "text": [
      "\r",
      "Sample:  82%|█████████████████████▏    | 572/700 [01:05,  6.84it/s, step size=1.98e-01, acc. prob=0.877]"
     ]
    },
    {
     "name": "stderr",
     "output_type": "stream",
     "text": [
      "\r",
      "Sample:  82%|█████████████████████▎    | 573/700 [01:05,  6.21it/s, step size=1.98e-01, acc. prob=0.877]"
     ]
    },
    {
     "name": "stderr",
     "output_type": "stream",
     "text": [
      "\r",
      "Sample:  82%|█████████████████████▎    | 575/700 [01:06,  7.79it/s, step size=1.98e-01, acc. prob=0.877]"
     ]
    },
    {
     "name": "stderr",
     "output_type": "stream",
     "text": [
      "\r",
      "Sample:  82%|█████████████████████▍    | 577/700 [01:06,  9.15it/s, step size=1.98e-01, acc. prob=0.877]"
     ]
    },
    {
     "name": "stderr",
     "output_type": "stream",
     "text": [
      "\r",
      "Sample:  83%|█████████████████████▌    | 579/700 [01:06,  9.69it/s, step size=1.98e-01, acc. prob=0.877]"
     ]
    },
    {
     "name": "stderr",
     "output_type": "stream",
     "text": [
      "\r",
      "Sample:  83%|█████████████████████▌    | 581/700 [01:06, 10.16it/s, step size=1.98e-01, acc. prob=0.877]"
     ]
    },
    {
     "name": "stderr",
     "output_type": "stream",
     "text": [
      "\r",
      "Sample:  83%|█████████████████████▋    | 583/700 [01:06, 10.33it/s, step size=1.98e-01, acc. prob=0.877]"
     ]
    },
    {
     "name": "stderr",
     "output_type": "stream",
     "text": [
      "\r",
      "Sample:  84%|█████████████████████▋    | 585/700 [01:06, 10.33it/s, step size=1.98e-01, acc. prob=0.877]"
     ]
    },
    {
     "name": "stderr",
     "output_type": "stream",
     "text": [
      "\r",
      "Sample:  84%|█████████████████████▊    | 587/700 [01:07, 10.04it/s, step size=1.98e-01, acc. prob=0.877]"
     ]
    },
    {
     "name": "stderr",
     "output_type": "stream",
     "text": [
      "\r",
      "Sample:  84%|█████████████████████▉    | 589/700 [01:07,  9.12it/s, step size=1.98e-01, acc. prob=0.877]"
     ]
    },
    {
     "name": "stderr",
     "output_type": "stream",
     "text": [
      "\r",
      "Sample:  84%|█████████████████████▉    | 590/700 [01:07,  8.47it/s, step size=1.98e-01, acc. prob=0.877]"
     ]
    },
    {
     "name": "stderr",
     "output_type": "stream",
     "text": [
      "\r",
      "Sample:  84%|█████████████████████▉    | 591/700 [01:07,  7.54it/s, step size=1.98e-01, acc. prob=0.877]"
     ]
    },
    {
     "name": "stderr",
     "output_type": "stream",
     "text": [
      "\r",
      "Sample:  85%|██████████████████████    | 593/700 [01:07,  9.04it/s, step size=1.98e-01, acc. prob=0.878]"
     ]
    },
    {
     "name": "stderr",
     "output_type": "stream",
     "text": [
      "\r",
      "Sample:  85%|██████████████████████    | 595/700 [01:08, 10.18it/s, step size=1.98e-01, acc. prob=0.877]"
     ]
    },
    {
     "name": "stderr",
     "output_type": "stream",
     "text": [
      "\r",
      "Sample:  85%|██████████████████████▏   | 597/700 [01:08, 10.43it/s, step size=1.98e-01, acc. prob=0.878]"
     ]
    },
    {
     "name": "stderr",
     "output_type": "stream",
     "text": [
      "\r",
      "Sample:  86%|██████████████████████▏   | 599/700 [01:08, 10.52it/s, step size=1.98e-01, acc. prob=0.878]"
     ]
    },
    {
     "name": "stderr",
     "output_type": "stream",
     "text": [
      "\r",
      "Sample:  86%|██████████████████████▎   | 601/700 [01:08, 11.08it/s, step size=1.98e-01, acc. prob=0.878]"
     ]
    },
    {
     "name": "stderr",
     "output_type": "stream",
     "text": [
      "\r",
      "Sample:  86%|██████████████████████▍   | 603/700 [01:08, 12.04it/s, step size=1.98e-01, acc. prob=0.879]"
     ]
    },
    {
     "name": "stderr",
     "output_type": "stream",
     "text": [
      "\r",
      "Sample:  86%|██████████████████████▍   | 605/700 [01:08, 10.15it/s, step size=1.98e-01, acc. prob=0.879]"
     ]
    },
    {
     "name": "stderr",
     "output_type": "stream",
     "text": [
      "\r",
      "Sample:  87%|██████████████████████▌   | 607/700 [01:09, 10.92it/s, step size=1.98e-01, acc. prob=0.879]"
     ]
    },
    {
     "name": "stderr",
     "output_type": "stream",
     "text": [
      "\r",
      "Sample:  87%|██████████████████████▌   | 609/700 [01:09,  9.85it/s, step size=1.98e-01, acc. prob=0.879]"
     ]
    },
    {
     "name": "stderr",
     "output_type": "stream",
     "text": [
      "\r",
      "Sample:  87%|██████████████████████▋   | 611/700 [01:09,  8.79it/s, step size=1.98e-01, acc. prob=0.879]"
     ]
    },
    {
     "name": "stderr",
     "output_type": "stream",
     "text": [
      "\r",
      "Sample:  87%|██████████████████████▋   | 612/700 [01:09,  8.54it/s, step size=1.98e-01, acc. prob=0.879]"
     ]
    },
    {
     "name": "stderr",
     "output_type": "stream",
     "text": [
      "\r",
      "Sample:  88%|██████████████████████▊   | 614/700 [01:10,  8.35it/s, step size=1.98e-01, acc. prob=0.879]"
     ]
    },
    {
     "name": "stderr",
     "output_type": "stream",
     "text": [
      "\r",
      "Sample:  88%|██████████████████████▊   | 615/700 [01:10,  7.88it/s, step size=1.98e-01, acc. prob=0.880]"
     ]
    },
    {
     "name": "stderr",
     "output_type": "stream",
     "text": [
      "\r",
      "Sample:  88%|██████████████████████▉   | 616/700 [01:10,  7.52it/s, step size=1.98e-01, acc. prob=0.879]"
     ]
    },
    {
     "name": "stderr",
     "output_type": "stream",
     "text": [
      "\r",
      "Sample:  88%|██████████████████████▉   | 617/700 [01:10,  7.18it/s, step size=1.98e-01, acc. prob=0.879]"
     ]
    },
    {
     "name": "stderr",
     "output_type": "stream",
     "text": [
      "\r",
      "Sample:  88%|██████████████████████▉   | 618/700 [01:10,  6.94it/s, step size=1.98e-01, acc. prob=0.879]"
     ]
    },
    {
     "name": "stderr",
     "output_type": "stream",
     "text": [
      "\r",
      "Sample:  89%|███████████████████████   | 620/700 [01:10,  7.99it/s, step size=1.98e-01, acc. prob=0.879]"
     ]
    },
    {
     "name": "stderr",
     "output_type": "stream",
     "text": [
      "\r",
      "Sample:  89%|███████████████████████   | 621/700 [01:11,  7.88it/s, step size=1.98e-01, acc. prob=0.879]"
     ]
    },
    {
     "name": "stderr",
     "output_type": "stream",
     "text": [
      "\r",
      "Sample:  89%|███████████████████████   | 622/700 [01:11,  7.77it/s, step size=1.98e-01, acc. prob=0.879]"
     ]
    },
    {
     "name": "stderr",
     "output_type": "stream",
     "text": [
      "\r",
      "Sample:  89%|███████████████████████▏  | 623/700 [01:11,  7.66it/s, step size=1.98e-01, acc. prob=0.879]"
     ]
    },
    {
     "name": "stderr",
     "output_type": "stream",
     "text": [
      "\r",
      "Sample:  89%|███████████████████████▏  | 624/700 [01:11,  7.61it/s, step size=1.98e-01, acc. prob=0.879]"
     ]
    },
    {
     "name": "stderr",
     "output_type": "stream",
     "text": [
      "\r",
      "Sample:  89%|███████████████████████▏  | 625/700 [01:11,  7.58it/s, step size=1.98e-01, acc. prob=0.879]"
     ]
    },
    {
     "name": "stderr",
     "output_type": "stream",
     "text": [
      "\r",
      "Sample:  89%|███████████████████████▎  | 626/700 [01:11,  7.56it/s, step size=1.98e-01, acc. prob=0.879]"
     ]
    },
    {
     "name": "stderr",
     "output_type": "stream",
     "text": [
      "\r",
      "Sample:  90%|███████████████████████▎  | 627/700 [01:11,  7.55it/s, step size=1.98e-01, acc. prob=0.879]"
     ]
    },
    {
     "name": "stderr",
     "output_type": "stream",
     "text": [
      "\r",
      "Sample:  90%|███████████████████████▎  | 628/700 [01:11,  7.49it/s, step size=1.98e-01, acc. prob=0.879]"
     ]
    },
    {
     "name": "stderr",
     "output_type": "stream",
     "text": [
      "\r",
      "Sample:  90%|███████████████████████▎  | 629/700 [01:12,  7.30it/s, step size=1.98e-01, acc. prob=0.879]"
     ]
    },
    {
     "name": "stderr",
     "output_type": "stream",
     "text": [
      "\r",
      "Sample:  90%|███████████████████████▍  | 630/700 [01:12,  7.23it/s, step size=1.98e-01, acc. prob=0.879]"
     ]
    },
    {
     "name": "stderr",
     "output_type": "stream",
     "text": [
      "\r",
      "Sample:  90%|███████████████████████▍  | 632/700 [01:12,  9.54it/s, step size=1.98e-01, acc. prob=0.879]"
     ]
    },
    {
     "name": "stderr",
     "output_type": "stream",
     "text": [
      "\r",
      "Sample:  91%|███████████████████████▌  | 634/700 [01:12, 10.98it/s, step size=1.98e-01, acc. prob=0.879]"
     ]
    },
    {
     "name": "stderr",
     "output_type": "stream",
     "text": [
      "\r",
      "Sample:  91%|███████████████████████▌  | 636/700 [01:12, 10.60it/s, step size=1.98e-01, acc. prob=0.879]"
     ]
    },
    {
     "name": "stderr",
     "output_type": "stream",
     "text": [
      "\r",
      "Sample:  91%|███████████████████████▋  | 638/700 [01:12,  9.79it/s, step size=1.98e-01, acc. prob=0.879]"
     ]
    },
    {
     "name": "stderr",
     "output_type": "stream",
     "text": [
      "\r",
      "Sample:  91%|███████████████████████▊  | 640/700 [01:13, 10.58it/s, step size=1.98e-01, acc. prob=0.879]"
     ]
    },
    {
     "name": "stderr",
     "output_type": "stream",
     "text": [
      "\r",
      "Sample:  92%|███████████████████████▊  | 642/700 [01:13, 10.84it/s, step size=1.98e-01, acc. prob=0.880]"
     ]
    },
    {
     "name": "stderr",
     "output_type": "stream",
     "text": [
      "\r",
      "Sample:  92%|███████████████████████▉  | 644/700 [01:13,  8.98it/s, step size=1.98e-01, acc. prob=0.880]"
     ]
    },
    {
     "name": "stderr",
     "output_type": "stream",
     "text": [
      "\r",
      "Sample:  92%|███████████████████████▉  | 645/700 [01:13,  9.02it/s, step size=1.98e-01, acc. prob=0.880]"
     ]
    },
    {
     "name": "stderr",
     "output_type": "stream",
     "text": [
      "\r",
      "Sample:  92%|████████████████████████  | 647/700 [01:13,  8.80it/s, step size=1.98e-01, acc. prob=0.880]"
     ]
    },
    {
     "name": "stderr",
     "output_type": "stream",
     "text": [
      "\r",
      "Sample:  93%|████████████████████████  | 648/700 [01:14,  8.75it/s, step size=1.98e-01, acc. prob=0.880]"
     ]
    },
    {
     "name": "stderr",
     "output_type": "stream",
     "text": [
      "\r",
      "Sample:  93%|████████████████████████▏ | 650/700 [01:14,  9.56it/s, step size=1.98e-01, acc. prob=0.880]"
     ]
    },
    {
     "name": "stderr",
     "output_type": "stream",
     "text": [
      "\r",
      "Sample:  93%|████████████████████████▏ | 652/700 [01:14, 10.63it/s, step size=1.98e-01, acc. prob=0.880]"
     ]
    },
    {
     "name": "stderr",
     "output_type": "stream",
     "text": [
      "\r",
      "Sample:  93%|████████████████████████▎ | 654/700 [01:14, 11.66it/s, step size=1.98e-01, acc. prob=0.880]"
     ]
    },
    {
     "name": "stderr",
     "output_type": "stream",
     "text": [
      "\r",
      "Sample:  94%|████████████████████████▎ | 656/700 [01:14, 11.75it/s, step size=1.98e-01, acc. prob=0.880]"
     ]
    },
    {
     "name": "stderr",
     "output_type": "stream",
     "text": [
      "\r",
      "Sample:  94%|████████████████████████▍ | 658/700 [01:14,  9.82it/s, step size=1.98e-01, acc. prob=0.879]"
     ]
    },
    {
     "name": "stderr",
     "output_type": "stream",
     "text": [
      "\r",
      "Sample:  94%|████████████████████████▌ | 660/700 [01:15, 10.45it/s, step size=1.98e-01, acc. prob=0.879]"
     ]
    },
    {
     "name": "stderr",
     "output_type": "stream",
     "text": [
      "\r",
      "Sample:  95%|████████████████████████▌ | 662/700 [01:15, 11.14it/s, step size=1.98e-01, acc. prob=0.879]"
     ]
    },
    {
     "name": "stderr",
     "output_type": "stream",
     "text": [
      "\r",
      "Sample:  95%|████████████████████████▋ | 664/700 [01:15, 11.87it/s, step size=1.98e-01, acc. prob=0.879]"
     ]
    },
    {
     "name": "stderr",
     "output_type": "stream",
     "text": [
      "\r",
      "Sample:  95%|████████████████████████▋ | 666/700 [01:15, 11.09it/s, step size=1.98e-01, acc. prob=0.878]"
     ]
    },
    {
     "name": "stderr",
     "output_type": "stream",
     "text": [
      "\r",
      "Sample:  95%|████████████████████████▊ | 668/700 [01:15,  8.77it/s, step size=1.98e-01, acc. prob=0.878]"
     ]
    },
    {
     "name": "stderr",
     "output_type": "stream",
     "text": [
      "\r",
      "Sample:  96%|████████████████████████▊ | 669/700 [01:16,  8.02it/s, step size=1.98e-01, acc. prob=0.878]"
     ]
    },
    {
     "name": "stderr",
     "output_type": "stream",
     "text": [
      "\r",
      "Sample:  96%|████████████████████████▉ | 670/700 [01:16,  7.90it/s, step size=1.98e-01, acc. prob=0.878]"
     ]
    },
    {
     "name": "stderr",
     "output_type": "stream",
     "text": [
      "\r",
      "Sample:  96%|████████████████████████▉ | 671/700 [01:16,  7.48it/s, step size=1.98e-01, acc. prob=0.877]"
     ]
    },
    {
     "name": "stderr",
     "output_type": "stream",
     "text": [
      "\r",
      "Sample:  96%|████████████████████████▉ | 673/700 [01:16,  8.58it/s, step size=1.98e-01, acc. prob=0.878]"
     ]
    },
    {
     "name": "stderr",
     "output_type": "stream",
     "text": [
      "\r",
      "Sample:  96%|█████████████████████████ | 675/700 [01:16,  8.65it/s, step size=1.98e-01, acc. prob=0.878]"
     ]
    },
    {
     "name": "stderr",
     "output_type": "stream",
     "text": [
      "\r",
      "Sample:  97%|█████████████████████████▏| 677/700 [01:16,  9.63it/s, step size=1.98e-01, acc. prob=0.878]"
     ]
    },
    {
     "name": "stderr",
     "output_type": "stream",
     "text": [
      "\r",
      "Sample:  97%|█████████████████████████▏| 679/700 [01:17, 10.56it/s, step size=1.98e-01, acc. prob=0.878]"
     ]
    },
    {
     "name": "stderr",
     "output_type": "stream",
     "text": [
      "\r",
      "Sample:  97%|█████████████████████████▎| 681/700 [01:17, 11.02it/s, step size=1.98e-01, acc. prob=0.878]"
     ]
    },
    {
     "name": "stderr",
     "output_type": "stream",
     "text": [
      "\r",
      "Sample:  98%|█████████████████████████▎| 683/700 [01:17, 10.50it/s, step size=1.98e-01, acc. prob=0.878]"
     ]
    },
    {
     "name": "stderr",
     "output_type": "stream",
     "text": [
      "\r",
      "Sample:  98%|█████████████████████████▍| 685/700 [01:17, 11.42it/s, step size=1.98e-01, acc. prob=0.877]"
     ]
    },
    {
     "name": "stderr",
     "output_type": "stream",
     "text": [
      "\r",
      "Sample:  98%|█████████████████████████▌| 687/700 [01:17,  9.70it/s, step size=1.98e-01, acc. prob=0.877]"
     ]
    },
    {
     "name": "stderr",
     "output_type": "stream",
     "text": [
      "\r",
      "Sample:  98%|█████████████████████████▌| 689/700 [01:18,  9.76it/s, step size=1.98e-01, acc. prob=0.877]"
     ]
    },
    {
     "name": "stderr",
     "output_type": "stream",
     "text": [
      "\r",
      "Sample:  99%|█████████████████████████▋| 691/700 [01:18,  8.86it/s, step size=1.98e-01, acc. prob=0.877]"
     ]
    },
    {
     "name": "stderr",
     "output_type": "stream",
     "text": [
      "\r",
      "Sample:  99%|█████████████████████████▋| 692/700 [01:18,  8.50it/s, step size=1.98e-01, acc. prob=0.877]"
     ]
    },
    {
     "name": "stderr",
     "output_type": "stream",
     "text": [
      "\r",
      "Sample:  99%|█████████████████████████▊| 694/700 [01:18,  9.01it/s, step size=1.98e-01, acc. prob=0.876]"
     ]
    },
    {
     "name": "stderr",
     "output_type": "stream",
     "text": [
      "\r",
      "Sample:  99%|█████████████████████████▊| 695/700 [01:18,  8.45it/s, step size=1.98e-01, acc. prob=0.876]"
     ]
    },
    {
     "name": "stderr",
     "output_type": "stream",
     "text": [
      "\r",
      "Sample:  99%|█████████████████████████▊| 696/700 [01:19,  8.10it/s, step size=1.98e-01, acc. prob=0.876]"
     ]
    },
    {
     "name": "stderr",
     "output_type": "stream",
     "text": [
      "\r",
      "Sample: 100%|█████████████████████████▉| 697/700 [01:19,  7.59it/s, step size=1.98e-01, acc. prob=0.876]"
     ]
    },
    {
     "name": "stderr",
     "output_type": "stream",
     "text": [
      "\r",
      "Sample: 100%|█████████████████████████▉| 698/700 [01:19,  7.55it/s, step size=1.98e-01, acc. prob=0.876]"
     ]
    },
    {
     "name": "stderr",
     "output_type": "stream",
     "text": [
      "\r",
      "Sample: 100%|█████████████████████████▉| 699/700 [01:19,  7.47it/s, step size=1.98e-01, acc. prob=0.875]"
     ]
    },
    {
     "name": "stderr",
     "output_type": "stream",
     "text": [
      "\r",
      "Sample: 100%|██████████████████████████| 700/700 [01:19,  5.84it/s, step size=1.98e-01, acc. prob=0.875]"
     ]
    },
    {
     "name": "stderr",
     "output_type": "stream",
     "text": [
      "\r",
      "Sample: 100%|██████████████████████████| 700/700 [01:19,  8.78it/s, step size=1.98e-01, acc. prob=0.875]"
     ]
    },
    {
     "name": "stderr",
     "output_type": "stream",
     "text": [
      "\n"
     ]
    }
   ],
   "source": [
    "samples = 500\n",
    "warm_up = 200\n",
    "\n",
    "X_torch = torch.tensor(X)\n",
    "t_torch = torch.tensor(t)\n",
    "y_torch = torch.tensor(y)\n",
    "\n",
    "\n",
    "# Initialize No U-Turn Sampler\n",
    "nuts_kernel = NUTS(model_treatment_intersection, max_tree_depth=7)\n",
    "model_mcmc = MCMC(nuts_kernel, num_samples=samples, warmup_steps=warm_up)\n",
    "\n",
    "# Run the sampler\n",
    "model_mcmc.run(X_torch, t_torch, y_torch)"
   ]
  },
  {
   "cell_type": "markdown",
   "id": "26",
   "metadata": {
    "papermill": {
     "duration": 0.120317,
     "end_time": "2021-11-30T01:52:07.980364",
     "exception": false,
     "start_time": "2021-11-30T01:52:07.860047",
     "status": "completed"
    },
    "tags": []
   },
   "source": [
    "### Sample the ATE"
   ]
  },
  {
   "cell_type": "code",
   "execution_count": 15,
   "id": "27",
   "metadata": {
    "execution": {
     "iopub.execute_input": "2021-11-30T01:52:08.272583Z",
     "iopub.status.busy": "2021-11-30T01:52:08.271909Z",
     "iopub.status.idle": "2021-11-30T01:52:08.951428Z",
     "shell.execute_reply": "2021-11-30T01:52:08.950731Z"
    },
    "papermill": {
     "duration": 0.825564,
     "end_time": "2021-11-30T01:52:08.951662",
     "exception": false,
     "start_time": "2021-11-30T01:52:08.126098",
     "status": "completed"
    },
    "tags": []
   },
   "outputs": [
    {
     "name": "stdout",
     "output_type": "stream",
     "text": [
      "Hierarchical Linear Regression\n",
      "  R-squared = 0.4149 (0.0022)\n",
      "  ATE: 0.1422\n",
      "  CI (0.025, 0.975): [0.0897, 0.1999]\n"
     ]
    }
   ],
   "source": [
    "hbr_samples = model_mcmc.get_samples()\n",
    "w_0s = hbr_samples[\"intercept\"]\n",
    "w_ts = hbr_samples[\"treatment\"]\n",
    "w_xs = hbr_samples[\"confounders\"]\n",
    "w_txs = hbr_samples[\"intersection\"]\n",
    "\n",
    "ate_hlr_samples = np.zeros(samples)\n",
    "score_samples = np.zeros(samples)\n",
    "t0 = torch.zeros_like(t_torch)\n",
    "t1 = torch.ones_like(t_torch)\n",
    "\n",
    "for s in range(samples):\n",
    "    f = predict(w_0s[s], w_ts[s], w_xs[s], w_txs[s], X_torch, t_torch)\n",
    "    f1 = predict(w_0s[s], w_ts[s], w_xs[s], w_txs[s], X_torch, t1)\n",
    "    f0 = predict(w_0s[s], w_ts[s], w_xs[s], w_txs[s], X_torch, t0)\n",
    "    ate_hlr_samples[s] = f1.mean() - f0.mean()\n",
    "    score_samples[s] = r2_score(y, f)\n",
    "\n",
    "ate_hlr = ate_hlr_samples.mean()\n",
    "ci_hlr = mstats.mquantiles(ate_hlr_samples, prob=[0.025, 0.975])\n",
    "\n",
    "print(\"Hierarchical Linear Regression\")\n",
    "print(f\"  R-squared = {score_samples.mean():.4f} ({score_samples.std():.4f})\")\n",
    "print(f\"  ATE: {ate_hlr:.4f}\")\n",
    "print(f\"  CI (0.025, 0.975): [{ci_hlr[0]:.4f}, {ci_hlr[1]:.4f}]\")"
   ]
  },
  {
   "cell_type": "code",
   "execution_count": 16,
   "id": "28",
   "metadata": {
    "execution": {
     "iopub.execute_input": "2021-11-30T01:52:09.254157Z",
     "iopub.status.busy": "2021-11-30T01:52:09.253311Z",
     "iopub.status.idle": "2021-11-30T01:52:09.572639Z",
     "shell.execute_reply": "2021-11-30T01:52:09.572134Z"
    },
    "papermill": {
     "duration": 0.466003,
     "end_time": "2021-11-30T01:52:09.572796",
     "exception": false,
     "start_time": "2021-11-30T01:52:09.106793",
     "status": "completed"
    },
    "tags": []
   },
   "outputs": [
    {
     "data": {
      "image/png": "[encoded data removed]",
      "text/plain": [
       "<Figure size 900x600 with 1 Axes>"
      ]
     },
     "metadata": {
      "needs_background": "light"
     },
     "output_type": "display_data"
    }
   ],
   "source": [
    "plt.figure(dpi=150)\n",
    "cnt, *_ = plt.hist(ate_hlr_samples, bins=20)\n",
    "plt.plot([ate_hlr, ate_hlr], [0, max(cnt)], 'r', label=\"mean\")\n",
    "plt.title(\"HLR ATE samples\")\n",
    "plt.xlabel(\"ATE\")\n",
    "plt.ylabel(\"counts\")\n",
    "plt.grid()\n",
    "plt.legend()\n",
    "plt.show()"
   ]
  },
  {
   "cell_type": "markdown",
   "id": "29",
   "metadata": {
    "papermill": {
     "duration": 0.11272,
     "end_time": "2021-11-30T01:52:09.809355",
     "exception": false,
     "start_time": "2021-11-30T01:52:09.696635",
     "status": "completed"
    },
    "tags": []
   },
   "source": [
    "## Plot ATE"
   ]
  },
  {
   "cell_type": "code",
   "execution_count": 17,
   "id": "30",
   "metadata": {
    "execution": {
     "iopub.execute_input": "2021-11-30T01:52:10.089244Z",
     "iopub.status.busy": "2021-11-30T01:52:10.088591Z",
     "iopub.status.idle": "2021-11-30T01:52:10.292930Z",
     "shell.execute_reply": "2021-11-30T01:52:10.292132Z"
    },
    "papermill": {
     "duration": 0.362685,
     "end_time": "2021-11-30T01:52:10.293151",
     "exception": false,
     "start_time": "2021-11-30T01:52:09.930466",
     "status": "completed"
    },
    "tags": []
   },
   "outputs": [
    {
     "data": {
      "image/png": "[encoded data removed]",
      "text/plain": [
       "<Figure size 900x600 with 1 Axes>"
      ]
     },
     "metadata": {
      "needs_background": "light"
     },
     "output_type": "display_data"
    }
   ],
   "source": [
    "ate_labels = [\"OLS\", \"Bayesian Linear\", \"Gaussian Process\", \"Hierarchical Linear\"]\n",
    "ate = [ate_ols, ate_blr, ate_gp, ate_hlr]\n",
    "ci = [ci_ols, ci_blr, ci_gp, ci_hlr]\n",
    "ind = np.arange(len(ate))\n",
    "\n",
    "plt.figure(dpi=150)\n",
    "plt.vlines(ind, ymin=[c[0] for c in ci], ymax=[c[1] for c in ci], colors='k', linewidth=3)\n",
    "plt.plot(ind, ate, 'rx', markersize=10)\n",
    "plt.xticks(ind, labels=ate_labels, rotation=30)\n",
    "plt.grid()\n",
    "plt.show()"
   ]
  },
  {
   "cell_type": "code",
   "execution_count": null,
   "id": "31",
   "metadata": {
    "papermill": {
     "duration": 0.128078,
     "end_time": "2021-11-30T01:52:10.585517",
     "exception": false,
     "start_time": "2021-11-30T01:52:10.457439",
     "status": "completed"
    },
    "tags": []
   },
   "outputs": [],
   "source": []
  }
 ],
 "metadata": {
  "celltoolbar": "Tags",
  "kernelspec": {
   "display_name": "Python 3 (ipykernel)",
   "language": "python",
   "name": "python3"
  },
  "language_info": {
   "codemirror_mode": {
    "name": "ipython",
    "version": 3
   },
   "file_extension": ".py",
   "mimetype": "text/x-python",
   "name": "python",
   "nbconvert_exporter": "python",
   "pygments_lexer": "ipython3",
   "version": "3.9.9"
  },
  "papermill": {
   "default_parameters": {},
   "duration": 1094.780747,
   "end_time": "2021-11-30T01:52:11.414437",
   "environment_variables": {},
   "exception": null,
   "input_path": "Direct-Bayesian.ipynb",
   "output_path": "results/Direct-Bayesian-lasso-100-restricted.ipynb",
   "parameters": {
    "configuration_name": "lasso-100-restricted",
    "data_file": "data/all_lasso_selected_100_restricted.csv",
    "laplace_prior": false,
    "outcome": "y_wsce",
    "release": "restricted",
    "test": false,
    "treatment": "redufl",
    "xval_gp": true
   },
   "start_time": "2021-11-30T01:33:56.633690",
   "version": "2.3.3"
  }
 },
 "nbformat": 4,
 "nbformat_minor": 5
}
