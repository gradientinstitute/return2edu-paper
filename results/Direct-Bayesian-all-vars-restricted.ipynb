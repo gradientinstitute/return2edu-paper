{
 "cells": [
  {
   "cell_type": "markdown",
   "id": "cd7bda33",
   "metadata": {},
   "source": [
    "# all-vars-restricted"
   ]
  },
  {
   "cell_type": "markdown",
   "id": "0",
   "metadata": {
    "papermill": {
     "duration": 0.03856,
     "end_time": "2021-11-30T00:24:12.402134",
     "exception": false,
     "start_time": "2021-11-30T00:24:12.363574",
     "status": "completed"
    },
    "tags": [
     "Overview"
    ]
   },
   "source": [
    "# Direct Regression - Bayesian Version\n",
    "\n",
    "## Response Model\n",
    "\n",
    "How well can we predict outcomes $Y$ conditional on treatment $T$ and other covariates $Z$?\n",
    "\n",
    "### Treatent variables\n",
    "\n",
    "   - **reduhl**\tCompleted re-education based on highest level of attainment\n",
    "   - **redudl**\tCompleted re-education based on detailed qualifications\n",
    "   - **redufl**\tCompleted re-education using highest lvl and detailed qualifications.\n",
    "\n",
    "### Outcome variables\n",
    "   - Mental health in 2019 (**mh**). This is the transformed mental health scores from the aggregation of mental health items of the SF-36 Health Survey, as reported by the individual in 2019. It ranges from 0 to 100, with higher scores indicating better mental health.  \n",
    "   - Working hours in 2019 (**wkhr**) records the total number of hours the individual works in all jobs in a week on average. Working hours are set to 0 for those not working. \n",
    "   - Hourly Wages in 2019 (**rlwage**) records the average hourly wage for the individual’s main job in 2019. Hourly wages are set to 0 for those not working and set to missing for those reporting working more than 100 hours a week. \n",
    "   \n",
    "#### Columns explicitly excluded\n",
    "   - **xwaveid** (unique identifier)\n",
    "   - **p_rcom*** (timing of completion of re-education, proxies treatment) TODO think about how we would include this\n",
    "   - **p_cotrl** (first avail 2003)\n",
    "   - **p_rdf*** (first avail 2012)"
   ]
  },
  {
   "cell_type": "code",
   "execution_count": 1,
   "id": "1",
   "metadata": {
    "execution": {
     "iopub.execute_input": "2021-11-30T00:24:12.434795Z",
     "iopub.status.busy": "2021-11-30T00:24:12.434461Z",
     "iopub.status.idle": "2021-11-30T00:24:13.970065Z",
     "shell.execute_reply": "2021-11-30T00:24:13.970317Z"
    },
    "papermill": {
     "duration": 1.553601,
     "end_time": "2021-11-30T00:24:13.970485",
     "exception": false,
     "start_time": "2021-11-30T00:24:12.416884",
     "status": "completed"
    },
    "tags": [
     "hide_cell"
    ]
   },
   "outputs": [],
   "source": [
    "import numpy as np\n",
    "import pandas as pd\n",
    "import statsmodels.api as sm\n",
    "import matplotlib.pyplot as plt\n",
    "import torch\n",
    "import pyro\n",
    "import pyro.distributions as dist\n",
    "from pyro.infer import MCMC, NUTS\n",
    "\n",
    "from scipy.stats import norm, mstats\n",
    "from cinspect.estimators import BayesianRidgeStat\n",
    "from sklearn.gaussian_process import GaussianProcessRegressor\n",
    "from sklearn.gaussian_process.kernels import WhiteKernel, Matern, DotProduct\n",
    "from sklearn.model_selection import cross_validate, KFold\n",
    "from sklearn.metrics import r2_score\n",
    "\n",
    "from reed import drop_missing_treatment_or_outcome, Model, transform_outcome\n",
    "from direct_regression import seperate_and_transform_data, print_unconditional_effects\n",
    "\n",
    "\n",
    "torch.set_default_tensor_type(torch.DoubleTensor) # set the default to float64\n",
    "%matplotlib inline"
   ]
  },
  {
   "cell_type": "markdown",
   "id": "2",
   "metadata": {
    "papermill": {
     "duration": 0.008871,
     "end_time": "2021-11-30T00:24:13.988832",
     "exception": false,
     "start_time": "2021-11-30T00:24:13.979961",
     "status": "completed"
    },
    "tags": []
   },
   "source": [
    "## Analysis Parameters"
   ]
  },
  {
   "cell_type": "code",
   "execution_count": 2,
   "id": "3",
   "metadata": {
    "execution": {
     "iopub.execute_input": "2021-11-30T00:24:14.011163Z",
     "iopub.status.busy": "2021-11-30T00:24:14.010752Z",
     "iopub.status.idle": "2021-11-30T00:24:14.012104Z",
     "shell.execute_reply": "2021-11-30T00:24:14.012369Z"
    },
    "papermill": {
     "duration": 0.014604,
     "end_time": "2021-11-30T00:24:14.012467",
     "exception": false,
     "start_time": "2021-11-30T00:24:13.997863",
     "status": "completed"
    },
    "tags": [
     "parameters"
    ]
   },
   "outputs": [],
   "source": [
    "log_outcome=True\n",
    "standardize_outcome=True\n",
    "exclude_patterns = [\n",
    "    '^reduhl$', '^rehllt$', '^redudl$', '^redufl$', '^redllt$', '^refllt$',\n",
    "    '^rlwage$', '^mh$', '^mhbm$', '^wkhr$', '^y_', '^p_rcom','^p_rdf','^p_cotrl',\n",
    "    '^xwaveid$','p_rcom18','^aedcq', '^abnfsty','^aedcqfpt','^aedqstdy'\n",
    "]\n",
    "data_load_func = lambda filepath: pd.read_csv(filepath, index_col='xwaveid')\n",
    "\n",
    "#configuration_name = 'default'\n",
    "outcome = 'y_wsce'\n",
    "treatment = 'redufl'\n",
    "test = False\n",
    "data_file = \"data/all_lasso_selected_100.csv\"\n",
    "xval_gp = False\n",
    "laplace_prior = False "
   ]
  },
  {
   "cell_type": "code",
   "execution_count": 3,
   "id": "30a852f1",
   "metadata": {
    "execution": {
     "iopub.execute_input": "2021-11-30T00:24:14.033671Z",
     "iopub.status.busy": "2021-11-30T00:24:14.033362Z",
     "iopub.status.idle": "2021-11-30T00:24:14.034908Z",
     "shell.execute_reply": "2021-11-30T00:24:14.034646Z"
    },
    "papermill": {
     "duration": 0.013093,
     "end_time": "2021-11-30T00:24:14.034977",
     "exception": false,
     "start_time": "2021-11-30T00:24:14.021884",
     "status": "completed"
    },
    "tags": [
     "injected-parameters"
    ]
   },
   "outputs": [],
   "source": [
    "# Parameters\n",
    "configuration_name = \"all-vars-restricted\"\n",
    "outcome = \"y_wsce\"\n",
    "treatment = \"redufl\"\n",
    "test = False\n",
    "data_file = \"data/all_vars_restricted.csv\"\n",
    "release = \"restricted\"\n",
    "laplace_prior = False\n",
    "xval_gp = True\n"
   ]
  },
  {
   "cell_type": "markdown",
   "id": "4",
   "metadata": {
    "papermill": {
     "duration": 0.009499,
     "end_time": "2021-11-30T00:24:14.053584",
     "exception": false,
     "start_time": "2021-11-30T00:24:14.044085",
     "status": "completed"
    },
    "tags": []
   },
   "source": [
    "## Load the data"
   ]
  },
  {
   "cell_type": "code",
   "execution_count": 4,
   "id": "5",
   "metadata": {
    "execution": {
     "iopub.execute_input": "2021-11-30T00:24:14.075206Z",
     "iopub.status.busy": "2021-11-30T00:24:14.074888Z",
     "iopub.status.idle": "2021-11-30T00:24:14.521103Z",
     "shell.execute_reply": "2021-11-30T00:24:14.520768Z"
    },
    "papermill": {
     "duration": 0.458503,
     "end_time": "2021-11-30T00:24:14.521180",
     "exception": false,
     "start_time": "2021-11-30T00:24:14.062677",
     "status": "completed"
    },
    "tags": [
     "hide_cell"
    ]
   },
   "outputs": [
    {
     "name": "stdout",
     "output_type": "stream",
     "text": [
      "Dropped 284 rows missing treatment or outcome.\n"
     ]
    },
    {
     "data": {
      "image/png": "[encoded data removed]",
      "text/plain": [
       "<Figure size 432x288 with 1 Axes>"
      ]
     },
     "metadata": {
      "needs_background": "light"
     },
     "output_type": "display_data"
    }
   ],
   "source": [
    "data = data_load_func(data_file)\n",
    "drop_missing_treatment_or_outcome(data, treatment, outcome)\n",
    "data[outcome] = transform_outcome(data[outcome],log_outcome, standardize_outcome)\n",
    "\n",
    "    \n",
    "plt.hist(data[outcome])\n",
    "plt.xlabel(outcome)\n",
    "plt.ylabel(\"count\")\n",
    "plt.title(\"Distribution of outcomes\");"
   ]
  },
  {
   "cell_type": "markdown",
   "id": "6",
   "metadata": {
    "papermill": {
     "duration": 0.009965,
     "end_time": "2021-11-30T00:24:14.541519",
     "exception": false,
     "start_time": "2021-11-30T00:24:14.531554",
     "status": "completed"
    },
    "tags": []
   },
   "source": [
    "## Prepare data for modeling\n",
    "\n",
    "- split into treated/control\n",
    "- impute missing values and scale\n",
    "- separate features from outcomes&treatments\n",
    "\n"
   ]
  },
  {
   "cell_type": "code",
   "execution_count": 5,
   "id": "7",
   "metadata": {
    "execution": {
     "iopub.execute_input": "2021-11-30T00:24:14.574664Z",
     "iopub.status.busy": "2021-11-30T00:24:14.574153Z",
     "iopub.status.idle": "2021-11-30T00:24:14.752405Z",
     "shell.execute_reply": "2021-11-30T00:24:14.751949Z"
    },
    "papermill": {
     "duration": 0.201177,
     "end_time": "2021-11-30T00:24:14.752526",
     "exception": false,
     "start_time": "2021-11-30T00:24:14.551349",
     "status": "completed"
    },
    "tags": []
   },
   "outputs": [
    {
     "name": "stdout",
     "output_type": "stream",
     "text": [
      "Control data dimensions:  (3789, 844)\n",
      "Treated data dimensions: (1368, 844)\n"
     ]
    }
   ],
   "source": [
    "from direct_regression import seperate_and_transform_data\n",
    "X0, X1, y0, y1, X, y, t, features = seperate_and_transform_data(data, treatment, outcome)\n",
    "print(\"Control data dimensions: \", X0.shape)\n",
    "print(\"Treated data dimensions:\", X1.shape)"
   ]
  },
  {
   "cell_type": "markdown",
   "id": "8",
   "metadata": {
    "papermill": {
     "duration": 0.012821,
     "end_time": "2021-11-30T00:24:14.781657",
     "exception": false,
     "start_time": "2021-11-30T00:24:14.768836",
     "status": "completed"
    },
    "tags": []
   },
   "source": [
    "## Compute unconditional/unadjusted estimate of treatment effect"
   ]
  },
  {
   "cell_type": "code",
   "execution_count": 6,
   "id": "9",
   "metadata": {
    "execution": {
     "iopub.execute_input": "2021-11-30T00:24:14.808006Z",
     "iopub.status.busy": "2021-11-30T00:24:14.807483Z",
     "iopub.status.idle": "2021-11-30T00:24:14.810160Z",
     "shell.execute_reply": "2021-11-30T00:24:14.809859Z"
    },
    "papermill": {
     "duration": 0.017005,
     "end_time": "2021-11-30T00:24:14.810248",
     "exception": false,
     "start_time": "2021-11-30T00:24:14.793243",
     "status": "completed"
    },
    "tags": []
   },
   "outputs": [
    {
     "name": "stdout",
     "output_type": "stream",
     "text": [
      "Proportion Treated:27%\n",
      "Average outcome under Control:-0.14±0.02\n",
      "Average outcome under Treatment:0.37±0.03\n",
      "Unadjusted treatment estimate 0.51\n"
     ]
    }
   ],
   "source": [
    "print_unconditional_effects(data, treatment, y0, y1)"
   ]
  },
  {
   "cell_type": "markdown",
   "id": "10",
   "metadata": {
    "papermill": {
     "duration": 0.010523,
     "end_time": "2021-11-30T00:24:14.831970",
     "exception": false,
     "start_time": "2021-11-30T00:24:14.821447",
     "status": "completed"
    },
    "tags": []
   },
   "source": [
    "## Statsmodels\n",
    "\n",
    "### OLS"
   ]
  },
  {
   "cell_type": "code",
   "execution_count": 7,
   "id": "11",
   "metadata": {
    "execution": {
     "iopub.execute_input": "2021-11-30T00:24:14.856147Z",
     "iopub.status.busy": "2021-11-30T00:24:14.855573Z",
     "iopub.status.idle": "2021-11-30T00:24:15.935791Z",
     "shell.execute_reply": "2021-11-30T00:24:15.936059Z"
    },
    "papermill": {
     "duration": 1.093875,
     "end_time": "2021-11-30T00:24:15.936149",
     "exception": false,
     "start_time": "2021-11-30T00:24:14.842274",
     "status": "completed"
    },
    "scrolled": false,
    "tags": []
   },
   "outputs": [
    {
     "name": "stdout",
     "output_type": "stream",
     "text": [
      "                            OLS Regression Results                            \n",
      "==============================================================================\n",
      "Dep. Variable:                      y   R-squared:                       0.565\n",
      "Model:                            OLS   Adj. R-squared:                  0.480\n",
      "Method:                 Least Squares   F-statistic:                     6.709\n",
      "Date:                Tue, 30 Nov 2021   Prob (F-statistic):               0.00\n",
      "Time:                        11:24:15   Log-Likelihood:                -5173.8\n",
      "No. Observations:                5157   AIC:                         1.202e+04\n",
      "Df Residuals:                    4321   BIC:                         1.749e+04\n",
      "Df Model:                         835                                         \n",
      "Covariance Type:            nonrobust                                         \n",
      "==============================================================================\n",
      "                 coef    std err          t      P>|t|      [0.025      0.975]\n",
      "------------------------------------------------------------------------------\n",
      "const         -0.0284      0.012     -2.287      0.022      -0.053      -0.004\n",
      "treatment      0.1069      0.027      3.897      0.000       0.053       0.161\n",
      "ahhpcode       0.0442      0.024      1.857      0.063      -0.002       0.091\n",
      "xhhstrat      -0.0638      0.023     -2.723      0.006      -0.110      -0.018\n",
      "ahhdw         -0.0014      0.011     -0.121      0.903      -0.023       0.021\n",
      "ahhpers        0.2293      0.104      2.207      0.027       0.026       0.433\n",
      "ahgage2       -0.2949      0.280     -1.052      0.293      -0.844       0.255\n",
      "ahgage3        0.0609      0.028      2.183      0.029       0.006       0.116\n",
      "ahgage4        0.0180      0.024      0.749      0.454      -0.029       0.065\n",
      "ahgage5        0.0306      0.018      1.670      0.095      -0.005       0.067\n",
      "ahgsex1       -0.0091      0.024     -0.376      0.707      -0.056       0.038\n",
      "ahgsex2       -0.0083      0.022     -0.381      0.703      -0.051       0.035\n",
      "ahgsex3        0.0404      0.012      3.503      0.000       0.018       0.063\n",
      "ahgsex4       -0.0008      0.011     -0.070      0.944      -0.023       0.022\n",
      "ahgsex5       -0.0019      0.012     -0.157      0.875      -0.025       0.022\n",
      "ahgdob1       -0.0190      0.043     -0.447      0.655      -0.103       0.064\n",
      "ahgdob2       -0.2715      0.280     -0.970      0.332      -0.820       0.277\n",
      "ahgfpt2       -0.0251      0.012     -2.107      0.035      -0.048      -0.002\n",
      "ahgfpt3        0.0151      0.013      1.190      0.234      -0.010       0.040\n",
      "ahgfpt4        0.0074      0.013      0.564      0.573      -0.018       0.033\n",
      "ahgeng1        0.0009      0.025      0.035      0.972      -0.048       0.050\n",
      "ahgeng2       -0.0057      0.026     -0.222      0.824      -0.056       0.044\n",
      "ahgeng3        0.0143      0.021      0.674      0.501      -0.027       0.056\n",
      "ahgeng4       -0.0247      0.019     -1.286      0.198      -0.062       0.013\n",
      "ahgeng5       -0.0103      0.016     -0.662      0.508      -0.041       0.020\n",
      "ahgeab2       -0.0011      0.017     -0.066      0.947      -0.034       0.032\n",
      "ahglth1        0.0117      0.017      0.695      0.487      -0.021       0.045\n",
      "ahglth2       -0.0006      0.014     -0.042      0.966      -0.029       0.027\n",
      "ahglth3       -0.0012      0.012     -0.094      0.925      -0.025       0.023\n",
      "ahgms1        -0.0303      0.052     -0.586      0.558      -0.131       0.071\n",
      "ahgms2         0.0384      0.030      1.276      0.202      -0.021       0.097\n",
      "ahgms3         0.0081      0.021      0.391      0.696      -0.032       0.049\n",
      "ahgms4        -0.0176      0.020     -0.885      0.376      -0.057       0.021\n",
      "ahges1        -0.0400      0.020     -2.020      0.043      -0.079      -0.001\n",
      "ahges2        -0.0221      0.018     -1.259      0.208      -0.056       0.012\n",
      "ahges3        -0.0337      0.014     -2.416      0.016      -0.061      -0.006\n",
      "ahges4        -0.0127      0.013     -0.949      0.343      -0.039       0.014\n",
      "ahgscq1        0.0685      0.049      1.384      0.167      -0.029       0.165\n",
      "ahgscq2       -0.0411      0.052     -0.786      0.432      -0.144       0.062\n",
      "ahgscq3        0.0343      0.040      0.861      0.389      -0.044       0.112\n",
      "arg02_01      -0.0651      0.037     -1.765      0.078      -0.137       0.007\n",
      "arg03_01       0.0004      0.018      0.022      0.982      -0.036       0.037\n",
      "arg04_01      -0.0307      0.022     -1.382      0.167      -0.074       0.013\n",
      "arg05_01      -0.0072      0.020     -0.365      0.715      -0.046       0.032\n",
      "arg03_02      -0.0331      0.023     -1.425      0.154      -0.079       0.012\n",
      "arg04_02       0.0232      0.026      0.884      0.377      -0.028       0.075\n",
      "arg05_02       0.0640      0.026      2.467      0.014       0.013       0.115\n",
      "adotype       -0.0083      0.014     -0.583      0.560      -0.036       0.020\n",
      "adocond       -0.0121      0.013     -0.922      0.357      -0.038       0.014\n",
      "adolgni        0.0062      0.012      0.506      0.613      -0.018       0.030\n",
      "adolgi        -0.0019      0.014     -0.138      0.890      -0.029       0.025\n",
      "adosd          0.0222      0.024      0.917      0.359      -0.025       0.070\n",
      "adobdog       -0.0026      0.012     -0.220      0.826      -0.026       0.020\n",
      "adoddog       -0.0223      0.012     -1.792      0.073      -0.047       0.002\n",
      "adonjm        -0.0097      0.012     -0.827      0.408      -0.033       0.013\n",
      "adonws        -0.0063      0.012     -0.523      0.601      -0.030       0.017\n",
      "adobar         0.0051      0.012      0.431      0.666      -0.018       0.028\n",
      "adosecno       0.0134      0.027      0.501      0.616      -0.039       0.066\n",
      "adohrise      -0.0055      0.012     -0.451      0.652      -0.029       0.018\n",
      "adoriint      -0.0242      0.012     -2.007      0.045      -0.048      -0.001\n",
      "ahhrespi      -0.0113      0.024     -0.464      0.643      -0.059       0.037\n",
      "ahhrespf      -0.0239      0.020     -1.186      0.236      -0.064       0.016\n",
      "ahgri1         0.0057      0.025      0.234      0.815      -0.042       0.054\n",
      "ahgri2         0.0149      0.037      0.401      0.689      -0.058       0.088\n",
      "ahgri3        -0.0142      0.022     -0.659      0.510      -0.057       0.028\n",
      "ahgri4        -0.0083      0.018     -0.450      0.653      -0.044       0.028\n",
      "ahgri5         0.0513      0.017      2.958      0.003       0.017       0.085\n",
      "ahgsi1        -0.0479      0.044     -1.079      0.281      -0.135       0.039\n",
      "ahgsi2         0.0455      0.053      0.857      0.391      -0.058       0.149\n",
      "ahgsi3        -0.0276      0.040     -0.693      0.488      -0.105       0.050\n",
      "ahgsi4         0.0044      0.025      0.177      0.860      -0.044       0.053\n",
      "ahgsi5        -0.0090      0.018     -0.498      0.618      -0.045       0.027\n",
      "ahgrf1        -0.0486      0.021     -2.266      0.024      -0.091      -0.007\n",
      "ahgrf2        -0.0637      0.024     -2.620      0.009      -0.111      -0.016\n",
      "ahgrf3        -0.0260      0.018     -1.424      0.154      -0.062       0.010\n",
      "ahgrf4        -0.0217      0.019     -1.158      0.247      -0.059       0.015\n",
      "ahgsf1        -0.0223      0.042     -0.528      0.598      -0.105       0.061\n",
      "ahgsf2         0.0548      0.052      1.052      0.293      -0.047       0.157\n",
      "ahgsf3        -0.0230      0.031     -0.738      0.461      -0.084       0.038\n",
      "ahgsf4        -0.0436      0.024     -1.823      0.068      -0.091       0.003\n",
      "ahgsf5         0.0159      0.019      0.857      0.392      -0.021       0.052\n",
      "ahhhqivw      -0.0309      0.054     -0.572      0.567      -0.137       0.075\n",
      "ahhp1          0.0136      0.016      0.846      0.397      -0.018       0.045\n",
      "ahhtitle      -0.0054      0.014     -0.393      0.694      -0.032       0.022\n",
      "ahhp2          0.0123      0.013      0.935      0.350      -0.014       0.038\n",
      "acccinhh      -0.0506      0.041     -1.223      0.222      -0.132       0.031\n",
      "acca1         -0.0252      0.016     -1.597      0.110      -0.056       0.006\n",
      "acca2         -0.0345      0.013     -2.562      0.010      -0.061      -0.008\n",
      "ats1          -0.0368      0.013     -2.935      0.003      -0.061      -0.012\n",
      "accdifgq       0.0036      0.021      0.174      0.862      -0.037       0.044\n",
      "accdifrp      -0.0239      0.021     -1.158      0.247      -0.064       0.017\n",
      "accdifhr       0.0253      0.017      1.535      0.125      -0.007       0.058\n",
      "accdifsc       0.0014      0.015      0.091      0.928      -0.028       0.031\n",
      "accdifdh      -0.0228      0.015     -1.540      0.124      -0.052       0.006\n",
      "accdifcs       0.0177      0.014      1.222      0.222      -0.011       0.046\n",
      "accdifjm      -0.0347      0.015     -2.329      0.020      -0.064      -0.005\n",
      "accdifcc       0.0307      0.018      1.722      0.085      -0.004       0.066\n",
      "accdifrl      -0.0208      0.017     -1.240      0.215      -0.054       0.012\n",
      "accdifch      -0.0276      0.017     -1.620      0.105      -0.061       0.006\n",
      "acsany        -0.0099      0.018     -0.559      0.577      -0.045       0.025\n",
      "acsno          0.0200      0.016      1.223      0.221      -0.012       0.052\n",
      "acsu1_me       0.0028      0.018      0.151      0.880      -0.033       0.039\n",
      "acsu1_bs      -0.0096      0.018     -0.543      0.587      -0.044       0.025\n",
      "acsu1_os       0.0399      0.032      1.247      0.212      -0.023       0.102\n",
      "acsu1_op       0.0046      0.006      0.722      0.470      -0.008       0.017\n",
      "acsu1_br       0.0074      0.020      0.366      0.714      -0.032       0.047\n",
      "acsu1_na       0.0023      0.010      0.237      0.812      -0.016       0.021\n",
      "achu1_me       0.0171      0.017      0.995      0.320      -0.017       0.051\n",
      "achu1_bs       0.0284      0.020      1.444      0.149      -0.010       0.067\n",
      "achu1_vs       0.0188      0.024      0.801      0.423      -0.027       0.065\n",
      "achu1_ve       0.0457      0.028      1.644      0.100      -0.009       0.100\n",
      "acpany         0.0054      0.018      0.298      0.766      -0.030       0.041\n",
      "ats3          -0.0049      0.012     -0.405      0.686      -0.029       0.019\n",
      "ahsbedrm      -0.0039      0.017     -0.233      0.816      -0.036       0.029\n",
      "ahsllord      -0.0126      0.013     -0.978      0.328      -0.038       0.013\n",
      "ahsrnta        0.0392      0.030      1.299      0.194      -0.020       0.098\n",
      "ahsrntf        0.0043      0.025      0.174      0.862      -0.045       0.053\n",
      "ahsrntby      -0.0202      0.012     -1.725      0.085      -0.043       0.003\n",
      "ahsbrd        -0.0053      0.014     -0.379      0.705      -0.033       0.022\n",
      "ahspown        0.0244      0.013      1.845      0.065      -0.002       0.050\n",
      "ahsmguse      -0.0269      0.018     -1.498      0.134      -0.062       0.008\n",
      "ahsmgpd        0.0627      0.025      2.462      0.014       0.013       0.113\n",
      "ahsmgowe       0.0096      0.024      0.399      0.690      -0.038       0.057\n",
      "ahsmga         0.0107      0.016      0.666      0.505      -0.021       0.042\n",
      "ahsmgf         0.0010      0.014      0.073      0.941      -0.026       0.028\n",
      "ahsmgsch      -0.0099      0.012     -0.826      0.409      -0.033       0.014\n",
      "ahsmgfin       0.0184      0.013      1.382      0.167      -0.008       0.044\n",
      "amvncar        0.0101      0.016      0.632      0.528      -0.021       0.042\n",
      "amvnbike       0.0289      0.011      2.555      0.011       0.007       0.051\n",
      "axpfood        0.0025      0.016      0.156      0.876      -0.028       0.033\n",
      "axposml        0.0045      0.013      0.347      0.729      -0.021       0.030\n",
      "axpstres      -0.0165      0.015     -1.069      0.285      -0.047       0.014\n",
      "ats4           0.0070      0.013      0.546      0.585      -0.018       0.032\n",
      "ahhivws       -0.0855      0.098     -0.875      0.381      -0.277       0.106\n",
      "ahh5_9        -0.0738      0.041     -1.796      0.073      -0.154       0.007\n",
      "ahh10_14      -0.0947      0.043     -2.187      0.029      -0.180      -0.010\n",
      "ahhadult      -0.0754      0.128     -0.587      0.557      -0.327       0.176\n",
      "ahhinthf      -0.0199      0.012     -1.674      0.094      -0.043       0.003\n",
      "ahhra          0.0046      0.019      0.249      0.803      -0.032       0.041\n",
      "ahhsos         0.0129      0.020      0.645      0.519      -0.026       0.052\n",
      "ahhda10       -0.0874      0.029     -3.037      0.002      -0.144      -0.031\n",
      "ahhec10        0.0677      0.028      2.388      0.017       0.012       0.123\n",
      "ahhsad10      -0.0251      0.054     -0.469      0.639      -0.130       0.080\n",
      "ahhsec10       0.0332      0.032      1.040      0.298      -0.029       0.096\n",
      "ahhsed10       0.0493      0.033      1.496      0.135      -0.015       0.114\n",
      "ahsrnti        0.0022      0.021      0.103      0.918      -0.039       0.044\n",
      "ahsmgi        -0.0178      0.025     -0.715      0.475      -0.067       0.031\n",
      "ahssli        -0.0015      0.016     -0.097      0.923      -0.033       0.029\n",
      "axpgrocf      -0.0168      0.016     -1.061      0.289      -0.048       0.014\n",
      "axpfoodf      -0.0002      0.016     -0.015      0.988      -0.032       0.031\n",
      "ahsmgfg        0.0048      0.012      0.388      0.698      -0.020       0.029\n",
      "ahxylink      -0.0059      0.017     -0.357      0.721      -0.038       0.027\n",
      "acsctci        0.0187      0.017      1.073      0.283      -0.015       0.053\n",
      "achctci       -0.0296      0.017     -1.732      0.083      -0.063       0.004\n",
      "ahsvalui      -0.0331      0.016     -2.083      0.037      -0.064      -0.002\n",
      "ahsvaluf      -0.0041      0.012     -0.351      0.725      -0.027       0.019\n",
      "ahsdebtf      -0.0239      0.013     -1.869      0.062      -0.049       0.001\n",
      "ahhlink        0.0007      0.017      0.041      0.967      -0.033       0.034\n",
      "ahhrih02      -0.1221      0.059     -2.082      0.037      -0.237      -0.007\n",
      "ahhfam02      -0.0350      0.020     -1.714      0.087      -0.075       0.005\n",
      "ahhfty02       0.1169      0.059      1.990      0.047       0.002       0.232\n",
      "ahhfty03       0.0273      0.022      1.238      0.216      -0.016       0.071\n",
      "ahhfty04       0.0041      0.023      0.180      0.857      -0.041       0.049\n",
      "ahhfty05      -0.0470      0.024     -1.939      0.053      -0.095       0.001\n",
      "acsu_bs       -0.0495      0.018     -2.716      0.007      -0.085      -0.014\n",
      "acsu_sf        0.0229      0.019      1.199      0.231      -0.015       0.060\n",
      "acsu_wp       -0.0296      0.013     -2.299      0.022      -0.055      -0.004\n",
      "acsu_os       -0.0098      0.032     -0.309      0.757      -0.072       0.053\n",
      "acsu_oe        0.0269      0.013      2.010      0.045       0.001       0.053\n",
      "acsu_ru        0.0129      0.019      0.671      0.502      -0.025       0.051\n",
      "acsu_re        0.0046      0.014      0.326      0.744      -0.023       0.032\n",
      "acsu_fo        0.0076      0.012      0.638      0.524      -0.016       0.031\n",
      "acsu_ft       -0.0129      0.012     -1.049      0.294      -0.037       0.011\n",
      "acsu_ps       -0.0373      0.015     -2.516      0.012      -0.066      -0.008\n",
      "acsu_fd        0.0205      0.019      1.067      0.286      -0.017       0.058\n",
      "acsu_o1        0.0282      0.011      2.494      0.013       0.006       0.050\n",
      "acsu_op        0.0046      0.006      0.722      0.470      -0.008       0.017\n",
      "acsu_br       -0.0341      0.027     -1.285      0.199      -0.086       0.018\n",
      "acsu_na        0.0023      0.010      0.237      0.812      -0.016       0.021\n",
      "achu_bs       -0.0025      0.020     -0.125      0.901      -0.042       0.037\n",
      "achu_sf        0.0152      0.018      0.856      0.392      -0.020       0.050\n",
      "achu_wp       -0.0278      0.013     -2.104      0.035      -0.054      -0.002\n",
      "achu_vs       -0.0317      0.024     -1.321      0.186      -0.079       0.015\n",
      "achu_ve       -0.0263      0.028     -0.927      0.354      -0.082       0.029\n",
      "achu_ru       -0.0020      0.020     -0.103      0.918      -0.041       0.037\n",
      "achu_re        0.0286      0.016      1.833      0.067      -0.002       0.059\n",
      "achu_fo       -0.0360      0.012     -2.974      0.003      -0.060      -0.012\n",
      "achu_ft        0.0108      0.013      0.862      0.389      -0.014       0.035\n",
      "achu_ps        0.0273      0.015      1.819      0.069      -0.002       0.057\n",
      "achu_fd        0.0144      0.018      0.786      0.432      -0.022       0.050\n",
      "achu_o1        0.0018      0.012      0.148      0.882      -0.022       0.025\n",
      "achu_o2        0.0111      0.011      0.988      0.323      -0.011       0.033\n",
      "achu_op        0.0128      0.013      1.015      0.310      -0.012       0.038\n",
      "achu_br        0.0092      0.021      0.432      0.666      -0.033       0.051\n",
      "achu_na       -0.0152      0.016     -0.941      0.347      -0.047       0.017\n",
      "ahhiu01        0.0094      0.020      0.474      0.636      -0.029       0.048\n",
      "ahhiu02        0.0548      0.028      1.937      0.053      -0.001       0.110\n",
      "ahhiu03       -0.0269      0.029     -0.944      0.345      -0.083       0.029\n",
      "ahhiu04        0.0175      0.023      0.751      0.452      -0.028       0.063\n",
      "ahhiu05       -0.0157      0.017     -0.942      0.346      -0.048       0.017\n",
      "abnftbf1      -0.0547      0.046     -1.184      0.236      -0.145       0.036\n",
      "ahifmat       -0.0143      0.013     -1.074      0.283      -0.040       0.012\n",
      "ahiwscei      -0.0947      0.028     -3.353      0.001      -0.150      -0.039\n",
      "ahiwscoi      -0.0039      0.016     -0.242      0.809      -0.035       0.028\n",
      "ahiwsfei       0.0597      0.089      0.669      0.503      -0.115       0.235\n",
      "ahibifip       0.0337      0.039      0.861      0.389      -0.043       0.110\n",
      "ahifinip      -0.0267      0.043     -0.614      0.539      -0.112       0.059\n",
      "ahifppi        0.0383      0.025      1.551      0.121      -0.010       0.087\n",
      "ahifdip       -0.0569      0.102     -0.557      0.577      -0.257       0.143\n",
      "ahiwscef       0.0075      0.025      0.294      0.768      -0.042       0.057\n",
      "ahiwscof       0.0056      0.031      0.177      0.859      -0.056       0.067\n",
      "ahiwsfef      -0.0361      0.027     -1.338      0.181      -0.089       0.017\n",
      "ahibiff       -0.0082      0.029     -0.282      0.778      -0.065       0.049\n",
      "ahifinf        0.0057      0.032      0.182      0.856      -0.056       0.068\n",
      "ahicpeni       0.1697      0.237      0.716      0.474      -0.295       0.634\n",
      "ahicpari       0.0347      0.108      0.322      0.748      -0.177       0.246\n",
      "ahicalli       0.0845      0.133      0.633      0.526      -0.177       0.346\n",
      "ahifpari       0.0253      0.032      0.790      0.430      -0.037       0.088\n",
      "ahifalli      -0.0042      0.030     -0.140      0.888      -0.063       0.054\n",
      "ahicapi       -0.1874      0.299     -0.627      0.531      -0.774       0.399\n",
      "ahicapf        0.0549      0.031      1.747      0.081      -0.007       0.117\n",
      "ahifnisi      -0.0328      0.054     -0.610      0.542      -0.138       0.073\n",
      "ahifapti      -0.0033      0.063     -0.053      0.958      -0.128       0.121\n",
      "ahifeftf      -0.0230      0.034     -0.671      0.502      -0.090       0.044\n",
      "ahgsex         0.0002      0.020      0.008      0.994      -0.039       0.039\n",
      "ahgdob         0.4771      0.067      7.117      0.000       0.346       0.608\n",
      "ahgeab        -0.0023      0.017     -0.135      0.893      -0.036       0.031\n",
      "ahglth         0.0022      0.022      0.101      0.920      -0.040       0.045\n",
      "ahgms         -0.0020      0.072     -0.028      0.977      -0.143       0.139\n",
      "ahges          0.0197      0.029      0.679      0.497      -0.037       0.076\n",
      "ahgri         -0.0351      0.028     -1.272      0.204      -0.089       0.019\n",
      "ahgscq         0.1384      0.083      1.662      0.097      -0.025       0.302\n",
      "arg01          0.0265      0.023      1.156      0.248      -0.018       0.071\n",
      "arg02         -0.0224      0.024     -0.943      0.346      -0.069       0.024\n",
      "arg03         -0.0149      0.018     -0.827      0.408      -0.050       0.020\n",
      "arg04          0.0326      0.019      1.729      0.084      -0.004       0.070\n",
      "arg05         -0.0044      0.018     -0.246      0.805      -0.039       0.030\n",
      "ahhwte        -0.0220      0.016     -1.395      0.163      -0.053       0.009\n",
      "abncapui      -0.0165      0.054     -0.306      0.760      -0.123       0.089\n",
      "awscei         0.2806      0.049      5.746      0.000       0.185       0.376\n",
      "abifip        -0.0914      0.046     -1.982      0.048      -0.182      -0.001\n",
      "aoifinip      -0.0611      0.046     -1.340      0.180      -0.150       0.028\n",
      "aoidvryf      -0.0636      0.021     -2.977      0.003      -0.105      -0.022\n",
      "aoiinti       -0.0465      0.039     -1.197      0.231      -0.123       0.030\n",
      "aoiintf       -0.0068      0.022     -0.314      0.754      -0.049       0.036\n",
      "aoirntf       -0.0386      0.020     -1.895      0.058      -0.079       0.001\n",
      "atxdic        -0.0176      0.032     -0.560      0.576      -0.079       0.044\n",
      "awscef        -0.0090      0.021     -0.434      0.664      -0.049       0.032\n",
      "awsfef     -6.289e-05      0.026     -0.002      0.998      -0.051       0.050\n",
      "abiff         -0.0365      0.029     -1.253      0.210      -0.094       0.021\n",
      "aoifinf        0.0221      0.041      0.542      0.588      -0.058       0.102\n",
      "aoifsupi      -0.0068      0.034     -0.200      0.841      -0.073       0.060\n",
      "atifditp       0.2041      0.051      4.022      0.000       0.105       0.304\n",
      "atifditf       0.0301      0.037      0.822      0.411      -0.042       0.102\n",
      "abnfftbb       0.1652      0.054      3.042      0.002       0.059       0.272\n",
      "ahhrih        -0.0189      0.085     -0.222      0.824      -0.185       0.147\n",
      "ahhfty        -0.0621      0.079     -0.787      0.431      -0.217       0.093\n",
      "ahhiu         -0.0217      0.023     -0.933      0.351      -0.067       0.024\n",
      "ahhd1524       0.0227      0.038      0.602      0.547      -0.051       0.097\n",
      "ahhura        -0.0079      0.014     -0.568      0.570      -0.035       0.019\n",
      "ahgs          -0.1658      0.076     -2.186      0.029      -0.315      -0.017\n",
      "ahhidate       0.0056      0.055      0.101      0.919      -0.103       0.114\n",
      "ats5           0.0072      0.012      0.581      0.561      -0.017       0.031\n",
      "aancob        -0.1117      0.028     -3.931      0.000      -0.167      -0.056\n",
      "aanatsi       -0.0127      0.012     -1.073      0.283      -0.036       0.011\n",
      "afmlwop       -0.0135      0.014     -0.934      0.350      -0.042       0.015\n",
      "afmnprea      -0.0024      0.012     -0.211      0.833      -0.025       0.020\n",
      "afmpdiv       -0.0229      0.013     -1.719      0.086      -0.049       0.003\n",
      "afmpjoin       0.0086      0.011      0.767      0.443      -0.013       0.031\n",
      "afmageps      -0.0244      0.014     -1.796      0.073      -0.051       0.002\n",
      "afmagelh       0.0046      0.015      0.301      0.764      -0.026       0.035\n",
      "afmhsibo      -0.0131      0.011     -1.181      0.238      -0.035       0.009\n",
      "afmnsibo       0.0125      0.013      0.998      0.318      -0.012       0.037\n",
      "afmeldso       0.0008      0.011      0.072      0.943      -0.022       0.023\n",
      "afmfcobo      -0.0336      0.021     -1.618      0.106      -0.074       0.007\n",
      "afmmcobo       0.0780      0.023      3.451      0.001       0.034       0.122\n",
      "afmfempo      -0.0076      0.013     -0.574      0.566      -0.034       0.018\n",
      "afmfuemo      -0.0039      0.011     -0.349      0.727      -0.026       0.018\n",
      "afmmempo      -0.0071      0.012     -0.608      0.543      -0.030       0.016\n",
      "aedhists      -0.0360      0.016     -2.210      0.027      -0.068      -0.004\n",
      "aedtypes       0.0133      0.012      1.137      0.256      -0.010       0.036\n",
      "aedoss        -0.0130      0.019     -0.699      0.485      -0.049       0.023\n",
      "aedqenr        0.0039      0.025      0.153      0.879      -0.046       0.054\n",
      "aedqosl        0.0016      0.011      0.139      0.890      -0.020       0.024\n",
      "aedqosh       -0.0201      0.011     -1.809      0.071      -0.042       0.002\n",
      "aedqonq       -0.0231      0.049     -0.475      0.635      -0.118       0.072\n",
      "aedqotq       -0.0508      0.040     -1.270      0.204      -0.129       0.028\n",
      "aedqota        0.0383      0.024      1.626      0.104      -0.008       0.084\n",
      "aedqotc        0.0039      0.018      0.212      0.832      -0.032       0.040\n",
      "aedqoc1        0.0024      0.023      0.107      0.914      -0.042       0.047\n",
      "aedqoc2       -0.0117      0.020     -0.592      0.554      -0.051       0.027\n",
      "aedqoc3        0.0342      0.014      2.476      0.013       0.007       0.061\n",
      "aedqoc4        0.0183      0.015      1.226      0.220      -0.011       0.048\n",
      "aedqocd       -0.0301      0.016     -1.858      0.063      -0.062       0.002\n",
      "aedqodp        0.0070      0.012      0.558      0.577      -0.017       0.031\n",
      "aedqoav       -0.0312      0.022     -1.442      0.149      -0.074       0.011\n",
      "aedqobd        0.0015      0.017      0.087      0.931      -0.032       0.034\n",
      "aedqohd        0.0186      0.013      1.378      0.168      -0.008       0.045\n",
      "aedqogd        0.0054      0.013      0.435      0.664      -0.019       0.030\n",
      "aedqoms        0.0063      0.013      0.487      0.627      -0.019       0.032\n",
      "aedqodc        0.0132      0.012      1.117      0.264      -0.010       0.036\n",
      "aedqobc        0.0108      0.012      0.916      0.360      -0.012       0.034\n",
      "aedqosc       -0.0031      0.012     -0.260      0.795      -0.027       0.020\n",
      "aedqocc     7.054e-17   1.29e-16      0.549      0.583   -1.81e-16    3.23e-16\n",
      "aedqogc        0.0164      0.011      1.469      0.142      -0.005       0.038\n",
      "aedqocn        0.0013      0.012      0.116      0.908      -0.021       0.024\n",
      "aedqodn       -0.0114      0.015     -0.771      0.441      -0.041       0.018\n",
      "aedqnone       0.0021      0.007      0.292      0.770      -0.012       0.016\n",
      "aedqnei        0.0008      0.015      0.054      0.957      -0.028       0.029\n",
      "aedqoos       -0.0009      0.011     -0.083      0.933      -0.022       0.021\n",
      "aedqodk        0.0051      0.012      0.430      0.667      -0.018       0.028\n",
      "aedqnt        -0.0752      0.057     -1.313      0.189      -0.187       0.037\n",
      "aedqcom       -0.0021      0.007     -0.292      0.770      -0.016       0.012\n",
      "aedcoq         0.0114      0.015      0.771      0.441      -0.018       0.040\n",
      "aehtjbyr       0.2268      0.060      3.771      0.000       0.109       0.345\n",
      "aehtjbmt       0.0130      0.013      0.991      0.322      -0.013       0.039\n",
      "aehtujmt       0.0037      0.012      0.298      0.766      -0.021       0.028\n",
      "aehtoyr        0.1622      0.052      3.103      0.002       0.060       0.265\n",
      "aehtomt        0.0109      0.013      0.869      0.385      -0.014       0.036\n",
      "aehhasto      -0.0333      0.015     -2.178      0.029      -0.063      -0.003\n",
      "aehmacto      -0.0026      0.012     -0.223      0.824      -0.025       0.020\n",
      "aesjlw        -0.0219      0.023     -0.933      0.351      -0.068       0.024\n",
      "aesjtyp       -0.0345      0.020     -1.696      0.090      -0.074       0.005\n",
      "aesbinc        0.0217      0.020      1.084      0.278      -0.018       0.061\n",
      "aujyru         0.0080      0.014      0.565      0.572      -0.020       0.036\n",
      "aujljhru       0.0039      0.013      0.296      0.767      -0.022       0.030\n",
      "aujljtyp       0.0095      0.012      0.820      0.412      -0.013       0.032\n",
      "aujljwsa      -0.0072      0.021     -0.337      0.736      -0.049       0.035\n",
      "aujljwsf      -0.0040      0.019     -0.209      0.835      -0.041       0.033\n",
      "aujljtha      -0.0078      0.012     -0.626      0.531      -0.032       0.017\n",
      "aujljrsn      -0.0123      0.011     -1.077      0.281      -0.035       0.010\n",
      "aujputw       -0.0099      0.013     -0.738      0.461      -0.036       0.016\n",
      "ajbhrcly      -0.0174      0.014     -1.241      0.215      -0.045       0.010\n",
      "ajbhrly       -0.0131      0.014     -0.963      0.335      -0.040       0.014\n",
      "ajbfpt         0.0021      0.025      0.083      0.934      -0.046       0.051\n",
      "ajbptrea       0.0147      0.011      1.301      0.193      -0.007       0.037\n",
      "ajbhrcpr      -0.0138      0.014     -0.987      0.324      -0.041       0.014\n",
      "ajbprhr        0.0285      0.013      2.199      0.028       0.003       0.054\n",
      "ajbmday       -0.0005      0.013     -0.037      0.970      -0.026       0.025\n",
      "ajbmday1      -0.0220      0.013     -1.756      0.079      -0.047       0.003\n",
      "ajbmday2       0.0041      0.013      0.311      0.756      -0.022       0.030\n",
      "ajbmday3       0.0183      0.013      1.425      0.154      -0.007       0.044\n",
      "ajbmday4      -0.0322      0.013     -2.463      0.014      -0.058      -0.007\n",
      "ajbmday5       0.0009      0.013      0.070      0.944      -0.025       0.027\n",
      "ajbmday6      -0.0041      0.014     -0.285      0.775      -0.032       0.024\n",
      "ajbmday7      -0.0043      0.013     -0.329      0.742      -0.030       0.021\n",
      "ajbmsch       -0.0067      0.013     -0.524      0.600      -0.032       0.018\n",
      "ajbemlha      -0.0132      0.015     -0.890      0.373      -0.042       0.016\n",
      "ajbmh          0.0129      0.014      0.893      0.372      -0.015       0.041\n",
      "ajbmagh        0.0229      0.014      1.581      0.114      -0.005       0.051\n",
      "ajbmhrhv      -0.0171      0.011     -1.532      0.126      -0.039       0.005\n",
      "ajbmhrh       -0.0123      0.013     -0.971      0.332      -0.037       0.013\n",
      "ajbempst       0.0058      0.031      0.190      0.850      -0.054       0.066\n",
      "ajbmhl         0.0477      0.043      1.107      0.268      -0.037       0.132\n",
      "ajbmmpl        0.0160      0.015      1.102      0.270      -0.012       0.044\n",
      "ajbmploj      -0.0010      0.014     -0.074      0.941      -0.028       0.026\n",
      "ajbmpgj        0.0130      0.012      1.105      0.269      -0.010       0.036\n",
      "ajbmplej      -0.0298      0.014     -2.194      0.028      -0.056      -0.003\n",
      "ajbmpaye      -0.0295      0.018     -1.644      0.100      -0.065       0.006\n",
      "ajbmsvsr       0.0148      0.013      1.169      0.242      -0.010       0.039\n",
      "ajbmwpsz      -0.0133      0.015     -0.908      0.364      -0.042       0.015\n",
      "ajbmmwp       -0.0109      0.014     -0.800      0.424      -0.038       0.016\n",
      "ajbmemsz      -0.0048      0.012     -0.401      0.689      -0.028       0.019\n",
      "ajbmspay      -0.0204      0.015     -1.404      0.160      -0.049       0.008\n",
      "ajbmssec       0.0182      0.015      1.192      0.233      -0.012       0.048\n",
      "ajbmshrs      -0.0157      0.013     -1.167      0.243      -0.042       0.011\n",
      "artage1       -0.1755      0.018     -9.779      0.000      -0.211      -0.140\n",
      "artiage1       0.0125      0.013      0.972      0.331      -0.013       0.038\n",
      "ajsl4wk        0.0075      0.016      0.466      0.641      -0.024       0.039\n",
      "anlmact        0.0090      0.012      0.761      0.447      -0.014       0.032\n",
      "anlwantj      -0.0067      0.013     -0.527      0.599      -0.032       0.018\n",
      "artcomp       -0.0237      0.013     -1.856      0.064      -0.049       0.001\n",
      "artyr         -0.0158      0.013     -1.199      0.230      -0.042       0.010\n",
      "acaj01         0.0618      0.049      1.264      0.206      -0.034       0.158\n",
      "acaj02        -0.0181      0.033     -0.544      0.587      -0.083       0.047\n",
      "acaj03        -0.0202      0.018     -1.145      0.252      -0.055       0.014\n",
      "acaj04        -0.0268      0.018     -1.455      0.146      -0.063       0.009\n",
      "acaj05         0.0006      0.018      0.033      0.974      -0.034       0.035\n",
      "acaj06         0.0213      0.015      1.449      0.147      -0.008       0.050\n",
      "acaj07        -0.0082      0.012     -0.672      0.501      -0.032       0.016\n",
      "acaune        -0.0356      0.019     -1.849      0.064      -0.073       0.002\n",
      "acanlf         0.0336      0.033      1.033      0.302      -0.030       0.098\n",
      "acaj01fp      -0.0409      0.021     -1.924      0.054      -0.083       0.001\n",
      "acaj0110       0.0172      0.017      0.996      0.319      -0.017       0.051\n",
      "acaj0142      -0.0314      0.023     -1.392      0.164      -0.076       0.013\n",
      "acaj0144       0.0044      0.017      0.252      0.801      -0.030       0.039\n",
      "acaj0148       0.0161      0.013      1.191      0.234      -0.010       0.043\n",
      "acaj0203      -0.0059      0.019     -0.317      0.751      -0.042       0.031\n",
      "acaj0212       0.0073      0.020      0.356      0.722      -0.033       0.047\n",
      "acaj0219       0.0045      0.019      0.235      0.814      -0.033       0.042\n",
      "acaj0227       0.0127      0.019      0.672      0.502      -0.024       0.050\n",
      "acaj0236       0.0060      0.020      0.293      0.770      -0.034       0.046\n",
      "acaj0242      -0.0492      0.020     -2.401      0.016      -0.089      -0.009\n",
      "acanlf43      -0.0027      0.014     -0.192      0.848      -0.031       0.025\n",
      "awschave      -0.0015      0.034     -0.046      0.964      -0.068       0.065\n",
      "awscmga       -0.0058      0.015     -0.387      0.699      -0.035       0.024\n",
      "awscmu        -0.0046      0.012     -0.395      0.693      -0.027       0.018\n",
      "awscmf         0.0117      0.015      0.779      0.436      -0.018       0.041\n",
      "awscjbs        0.0135      0.024      0.565      0.572      -0.033       0.061\n",
      "awslycmp       0.0114      0.012      0.923      0.356      -0.013       0.036\n",
      "awslyha        0.0197      0.012      1.696      0.090      -0.003       0.042\n",
      "awslya         0.0007      0.014      0.053      0.958      -0.026       0.028\n",
      "awslyp         0.0070      0.012      0.594      0.552      -0.016       0.030\n",
      "awslyf         0.0168      0.014      1.199      0.230      -0.011       0.044\n",
      "abnage        -0.0280      0.026     -1.097      0.273      -0.078       0.022\n",
      "abncap        -0.0072      0.022     -0.326      0.745      -0.051       0.036\n",
      "abncoth1       0.0188      0.034      0.548      0.584      -0.048       0.086\n",
      "abncnws       -0.0213      0.031     -0.679      0.497      -0.083       0.040\n",
      "abncma        -0.0019      0.017     -0.117      0.907      -0.035       0.031\n",
      "abncmap       -0.0093      0.016     -0.572      0.567      -0.041       0.023\n",
      "abncsrv        0.0328      0.025      1.294      0.196      -0.017       0.082\n",
      "abncwfp        0.0283      0.025      1.135      0.257      -0.021       0.077\n",
      "abnccrp       -0.0107      0.019     -0.561      0.575      -0.048       0.027\n",
      "abncsck       -0.0259      0.016     -1.666      0.096      -0.056       0.005\n",
      "abncwdw        0.0127      0.023      0.557      0.577      -0.032       0.058\n",
      "abncsp         0.0071      0.016      0.455      0.649      -0.023       0.038\n",
      "abncprt        0.0286      0.023      1.237      0.216      -0.017       0.074\n",
      "abncpnt        0.0532      0.034      1.588      0.112      -0.012       0.119\n",
      "abncyth        0.0382      0.016      2.343      0.019       0.006       0.070\n",
      "abncnon1       0.0486      0.020      2.395      0.017       0.009       0.088\n",
      "abncref1   -2.094e-16    7.5e-17     -2.792      0.005   -3.56e-16   -6.24e-17\n",
      "abncdk1       -0.0221      0.033     -0.667      0.505      -0.087       0.043\n",
      "abnca1        -0.0349      0.016     -2.163      0.031      -0.067      -0.003\n",
      "abncw1        -0.0059      0.013     -0.454      0.650      -0.031       0.020\n",
      "abncwar       -0.0095      0.027     -0.345      0.730      -0.063       0.044\n",
      "abncdva       -0.0344      0.036     -0.966      0.334      -0.104       0.035\n",
      "abnccra       -0.0274      0.053     -0.519      0.604      -0.131       0.076\n",
      "abncosp       -0.0181      0.032     -0.572      0.568      -0.080       0.044\n",
      "abncnon2      -0.0480      0.077     -0.625      0.532      -0.199       0.103\n",
      "abncoth2      -0.0029      0.022     -0.131      0.896      -0.046       0.041\n",
      "abncmob       -0.0038      0.018     -0.210      0.834      -0.039       0.032\n",
      "abncbrv     4.662e-17    9.6e-17      0.486      0.627   -1.42e-16    2.35e-16\n",
      "abncdor       -0.0013      0.013     -0.096      0.923      -0.028       0.025\n",
      "abnccde       -0.0178      0.017     -1.068      0.286      -0.050       0.015\n",
      "abncdk2       -0.0068      0.045     -0.150      0.880      -0.095       0.081\n",
      "awsfhave      -0.0185      0.033     -0.554      0.580      -0.084       0.047\n",
      "awsfga        -0.0155      0.034     -0.462      0.644      -0.081       0.050\n",
      "abifhave       0.0012      0.019      0.061      0.952      -0.037       0.039\n",
      "abifinc       -0.0455      0.037     -1.234      0.217      -0.118       0.027\n",
      "abifuinc      -0.0011      0.033     -0.035      0.972      -0.065       0.063\n",
      "abifup        -0.0045      0.012     -0.368      0.713      -0.028       0.019\n",
      "aoifint       -0.0155      0.018     -0.878      0.380      -0.050       0.019\n",
      "aoifinta       0.0367      0.040      0.914      0.361      -0.042       0.116\n",
      "aoifdiv       -0.0542      0.015     -3.614      0.000      -0.084      -0.025\n",
      "aoifdiva       0.0100      0.032      0.308      0.758      -0.053       0.073\n",
      "aoifrnt        0.0100      0.015      0.651      0.515      -0.020       0.040\n",
      "abnfhave       0.0481      0.030      1.587      0.113      -0.011       0.107\n",
      "abnfap        -0.0180      0.035     -0.509      0.611      -0.087       0.051\n",
      "abnfnws        0.0273      0.025      1.107      0.268      -0.021       0.076\n",
      "abnfma        -0.0032      0.015     -0.211      0.833      -0.033       0.027\n",
      "abnfmap        0.0065      0.015      0.424      0.672      -0.023       0.036\n",
      "abnfsrv       -0.0324      0.025     -1.286      0.198      -0.082       0.017\n",
      "abnfdsp       -0.0221      0.028     -0.802      0.423      -0.076       0.032\n",
      "abnfdva       -0.0101      0.019     -0.539      0.590      -0.047       0.027\n",
      "abnfwfp       -0.0282      0.024     -1.154      0.249      -0.076       0.020\n",
      "abnfcrp       -0.0063      0.019     -0.334      0.739      -0.043       0.031\n",
      "abnfcra        0.0034      0.018      0.188      0.851      -0.033       0.039\n",
      "abnfsck    -8.765e-05      0.014     -0.006      0.995      -0.028       0.027\n",
      "abnfwdw       -0.0024      0.021     -0.115      0.909      -0.044       0.039\n",
      "abnfwar       -0.0128      0.020     -0.638      0.524      -0.052       0.026\n",
      "abnfsp         0.0090      0.015      0.612      0.541      -0.020       0.038\n",
      "abnfprt       -0.0276      0.020     -1.367      0.172      -0.067       0.012\n",
      "abnfyth        0.0007      0.015      0.048      0.961      -0.029       0.030\n",
      "abnfpnt       -0.0095      0.028     -0.334      0.738      -0.065       0.046\n",
      "abnfosp       -0.0047      0.019     -0.243      0.808      -0.042       0.033\n",
      "abnfmob       -0.0199      0.012     -1.716      0.086      -0.043       0.003\n",
      "abnfcde    -4.363e-17   7.53e-17     -0.580      0.562   -1.91e-16    1.04e-16\n",
      "abnfoth       -0.0255      0.017     -1.512      0.131      -0.059       0.008\n",
      "abnfoal        0.0088      0.012      0.762      0.446      -0.014       0.031\n",
      "abnfref     9.777e-17   4.69e-17      2.086      0.037    5.87e-18     1.9e-16\n",
      "aoifsup       -0.0283      0.055     -0.516      0.606      -0.136       0.079\n",
      "aoifcs        -0.0065      0.042     -0.156      0.876      -0.088       0.075\n",
      "aoifwkc       -0.0237      0.027     -0.885      0.376      -0.076       0.029\n",
      "aoifpnt       -0.0287      0.026     -1.124      0.261      -0.079       0.021\n",
      "aoifohh       -0.0253      0.019     -1.302      0.193      -0.064       0.013\n",
      "aoifnone      -0.0285      0.076     -0.376      0.707      -0.177       0.120\n",
      "aoifref        0.0231      0.011      2.029      0.043       0.001       0.045\n",
      "aoifirr       -0.0092      0.012     -0.734      0.463      -0.034       0.015\n",
      "aoifrsv       -0.0105      0.013     -0.834      0.405      -0.035       0.014\n",
      "aoifpub        0.0053      0.017      0.306      0.760      -0.029       0.039\n",
      "aoifinh       -0.0225      0.017     -1.326      0.185      -0.056       0.011\n",
      "aoiflss       -0.0058      0.015     -0.378      0.705      -0.036       0.024\n",
      "aoiflsw       -0.0175      0.014     -1.232      0.218      -0.045       0.010\n",
      "acrhavem      -0.0077      0.013     -0.597      0.550      -0.033       0.018\n",
      "acrpay        -0.0339      0.012     -2.747      0.006      -0.058      -0.010\n",
      "atchad        -0.0775      0.085     -0.915      0.360      -0.244       0.089\n",
      "atchere        0.0386      0.060      0.640      0.522      -0.080       0.157\n",
      "atcpdwl        0.0674      0.067      1.010      0.313      -0.063       0.198\n",
      "atcptnpd       0.0287      0.014      2.029      0.042       0.001       0.056\n",
      "atcnpd         0.0478      0.036      1.319      0.187      -0.023       0.119\n",
      "atcdied        0.0204      0.021      0.962      0.336      -0.021       0.062\n",
      "ancany         0.0296      0.026      1.136      0.256      -0.022       0.081\n",
      "ancage2        0.0093      0.022      0.415      0.678      -0.034       0.053\n",
      "ancage3        0.0348      0.015      2.304      0.021       0.005       0.064\n",
      "ancsex1    -8.073e-05      0.011     -0.007      0.994      -0.022       0.022\n",
      "ancsex2        0.0235      0.011      2.126      0.034       0.002       0.045\n",
      "ancsex3        0.0002      0.011      0.017      0.987      -0.021       0.022\n",
      "ancdst1       -0.0164      0.012     -1.356      0.175      -0.040       0.007\n",
      "ancdst2        0.0254      0.012      2.109      0.035       0.002       0.049\n",
      "ancdst3       -0.0069      0.011     -0.602      0.548      -0.029       0.016\n",
      "ancudr25       0.0101      0.028      0.364      0.716      -0.044       0.065\n",
      "ancudr17       0.0165      0.017      0.996      0.319      -0.016       0.049\n",
      "arcany        -0.1290      0.053     -2.434      0.015      -0.233      -0.025\n",
      "arcage1       -0.0371      0.036     -1.029      0.303      -0.108       0.034\n",
      "arcage2       -0.0299      0.026     -1.134      0.257      -0.082       0.022\n",
      "arcage3        0.0045      0.018      0.248      0.804      -0.031       0.040\n",
      "arcpew1       -0.0435      0.049     -0.883      0.377      -0.140       0.053\n",
      "arcpew2        0.0128      0.021      0.618      0.536      -0.028       0.054\n",
      "arcpew3        0.0123      0.018      0.694      0.487      -0.022       0.047\n",
      "arcpew         0.0207      0.050      0.414      0.679      -0.077       0.119\n",
      "aicage1        0.0216      0.023      0.946      0.344      -0.023       0.066\n",
      "aiclike       -0.0160      0.022     -0.721      0.471      -0.059       0.027\n",
      "aicexpct       0.0887      0.029      3.086      0.002       0.032       0.145\n",
      "aicprob       -0.0447      0.018     -2.424      0.015      -0.081      -0.009\n",
      "aicn          -0.0067      0.012     -0.552      0.581      -0.031       0.017\n",
      "amrn           0.0109      0.026      0.425      0.671      -0.039       0.061\n",
      "amrpmth       -0.0147      0.011     -1.323      0.186      -0.037       0.007\n",
      "amrpyr        -0.0560      0.045     -1.252      0.211      -0.144       0.032\n",
      "amrplv         0.0311      0.035      0.886      0.375      -0.038       0.100\n",
      "amr1lv         0.0238      0.016      1.495      0.135      -0.007       0.055\n",
      "amrplvyr       0.0057      0.013      0.444      0.657      -0.020       0.031\n",
      "amrplvmt       0.0003      0.012      0.026      0.979      -0.024       0.025\n",
      "amrpend        0.0126      0.015      0.843      0.399      -0.017       0.042\n",
      "amrpsep        0.0106      0.014      0.778      0.436      -0.016       0.037\n",
      "amrpdecn       0.0077      0.011      0.691      0.490      -0.014       0.030\n",
      "amr1decn      -0.0078      0.011     -0.700      0.484      -0.030       0.014\n",
      "aorhave        0.0490      0.026      1.881      0.060      -0.002       0.100\n",
      "aordfpst       0.0714      0.049      1.455      0.146      -0.025       0.168\n",
      "aordfn        -0.0347      0.038     -0.914      0.361      -0.109       0.040\n",
      "aordf1yr      -0.0164      0.012     -1.315      0.189      -0.041       0.008\n",
      "aordflyr      -0.0189      0.013     -1.467      0.143      -0.044       0.006\n",
      "aordflmt      -0.0350      0.012     -2.839      0.005      -0.059      -0.011\n",
      "aherate        0.0104      0.021      0.492      0.623      -0.031       0.052\n",
      "ahelth         0.0208      0.018      1.175      0.240      -0.014       0.055\n",
      "ahelthwk       0.0130      0.012      1.096      0.273      -0.010       0.036\n",
      "ahelthdg      -0.0029      0.012     -0.242      0.809      -0.027       0.021\n",
      "ahelthyr       0.0054      0.011      0.478      0.633      -0.017       0.027\n",
      "alosathl       0.0221      0.015      1.456      0.146      -0.008       0.052\n",
      "alosateo      -0.0028      0.014     -0.192      0.848      -0.031       0.026\n",
      "alosatfs      -0.0065      0.017     -0.371      0.711      -0.041       0.028\n",
      "alosatsf      -0.0268      0.014     -1.975      0.048      -0.053      -0.000\n",
      "alosatlc       0.0319      0.015      2.113      0.035       0.002       0.061\n",
      "alosatyh      -0.0004      0.021     -0.021      0.983      -0.042       0.041\n",
      "alosatnl       0.0138      0.015      0.904      0.366      -0.016       0.044\n",
      "alosatft       0.0201      0.015      1.358      0.175      -0.009       0.049\n",
      "alosat         0.0140      0.016      0.879      0.380      -0.017       0.045\n",
      "aloimphl      -0.0367      0.013     -2.719      0.007      -0.063      -0.010\n",
      "aloimpew       0.0207      0.016      1.324      0.186      -0.010       0.051\n",
      "aloimpfs       0.0325      0.013      2.499      0.012       0.007       0.058\n",
      "aloimplc      -0.0266      0.014     -1.879      0.060      -0.054       0.001\n",
      "aloimpyh       0.0096      0.013      0.741      0.458      -0.016       0.035\n",
      "aloimpla      -0.0177      0.013     -1.384      0.166      -0.043       0.007\n",
      "aloimprl       0.0149      0.013      1.114      0.265      -0.011       0.041\n",
      "aloachve      -0.0147      0.013     -1.117      0.264      -0.041       0.011\n",
      "alofutur       0.0070      0.013      0.536      0.592      -0.019       0.033\n",
      "amhmth        -0.0147      0.011     -1.306      0.192      -0.037       0.007\n",
      "amhl10yr       0.0059      0.020      0.295      0.768      -0.033       0.045\n",
      "amhn10yr      -0.0165      0.013     -1.236      0.216      -0.043       0.010\n",
      "amhlyr        -0.0052      0.013     -0.404      0.686      -0.030       0.020\n",
      "amhreanj       0.0192      0.012      1.634      0.102      -0.004       0.042\n",
      "amhreawp      -0.0099      0.012     -0.861      0.389      -0.033       0.013\n",
      "amhreast      -0.0171      0.012     -1.449      0.147      -0.040       0.006\n",
      "amhreawt       0.0065      0.012      0.564      0.573      -0.016       0.029\n",
      "amhreaob      -0.0074      0.011     -0.659      0.510      -0.029       0.015\n",
      "amhrearb      -0.0189      0.011     -1.717      0.086      -0.041       0.003\n",
      "amhrealb       0.0111      0.013      0.858      0.391      -0.014       0.036\n",
      "amhreasm       0.0185      0.012      1.528      0.127      -0.005       0.042\n",
      "amhreapo       0.0316      0.013      2.521      0.012       0.007       0.056\n",
      "amhreamr      -0.0052      0.012     -0.436      0.663      -0.028       0.018\n",
      "amhreabn      -0.0092      0.011     -0.810      0.418      -0.032       0.013\n",
      "amhreaff       0.0207      0.012      1.727      0.084      -0.003       0.044\n",
      "amhrealw       0.0056      0.012      0.476      0.634      -0.017       0.028\n",
      "amhreamb      -0.0057      0.012     -0.454      0.650      -0.030       0.019\n",
      "amhreapn       0.0201      0.012      1.661      0.097      -0.004       0.044\n",
      "amhreaev       0.0135      0.014      0.976      0.329      -0.014       0.041\n",
      "amhreafm       0.0167      0.011      1.468      0.142      -0.006       0.039\n",
      "amhreama       0.0047      0.011      0.417      0.677      -0.017       0.027\n",
      "amhreaas      -0.0073      0.011     -0.637      0.524      -0.030       0.015\n",
      "amhreals       0.0135      0.012      1.144      0.253      -0.010       0.037\n",
      "amhreatr       0.0204      0.012      1.749      0.080      -0.002       0.043\n",
      "amhreagh      -0.0167      0.011     -1.532      0.126      -0.038       0.005\n",
      "amhreahr       0.0057      0.011      0.499      0.618      -0.017       0.028\n",
      "amhrearo       0.0125      0.012      1.090      0.276      -0.010       0.035\n",
      "amhreapf      -0.0093      0.012     -0.791      0.429      -0.032       0.014\n",
      "amhreawr      -0.0013      0.011     -0.118      0.906      -0.024       0.021\n",
      "amhreahn      -0.0244      0.011     -2.189      0.029      -0.046      -0.003\n",
      "amhreani       0.0015      0.011      0.130      0.896      -0.021       0.024\n",
      "amhreana    7.224e-18   3.28e-17      0.220      0.826   -5.71e-17    7.15e-17\n",
      "amhreaos       0.0141      0.011      1.249      0.212      -0.008       0.036\n",
      "amhcadd       -0.0049      0.012     -0.414      0.679      -0.028       0.018\n",
      "amhnyr        -0.0108      0.014     -0.773      0.440      -0.038       0.017\n",
      "amhaddkn      -0.0126      0.012     -1.087      0.277      -0.035       0.010\n",
      "ats6           0.0021      0.012      0.182      0.855      -0.021       0.025\n",
      "ahhpqlen       0.0023      0.013      0.186      0.852      -0.022       0.027\n",
      "aioadult       0.0030      0.012      0.245      0.807      -0.021       0.027\n",
      "aioinflu       0.0128      0.012      1.116      0.265      -0.010       0.035\n",
      "aioundst      -0.0263      0.015     -1.725      0.085      -0.056       0.004\n",
      "aiosusp        0.0015      0.012      0.124      0.901      -0.022       0.025\n",
      "aiodocum       0.0007      0.012      0.062      0.951      -0.023       0.024\n",
      "aiocoop        0.0015      0.014      0.105      0.916      -0.026       0.029\n",
      "afmmo61       -0.0067      0.016     -0.418      0.676      -0.038       0.025\n",
      "aujljo61       0.0089      0.018      0.500      0.617      -0.026       0.044\n",
      "ajbmo61       -0.0196      0.019     -1.024      0.306      -0.057       0.018\n",
      "aujljo6s       0.0145      0.019      0.763      0.445      -0.023       0.052\n",
      "ajbmo6s        0.0079      0.024      0.329      0.742      -0.039       0.055\n",
      "ajbm682        0.0220      0.021      1.069      0.285      -0.018       0.062\n",
      "aanbcob        0.0403      0.023      1.730      0.084      -0.005       0.086\n",
      "afmfocos       0.0027      0.012      0.221      0.825      -0.021       0.027\n",
      "afmmocos      -0.0051      0.012     -0.438      0.662      -0.028       0.018\n",
      "acapune        0.0285      0.020      1.418      0.156      -0.011       0.068\n",
      "acafnj         0.0226      0.049      0.459      0.646      -0.074       0.119\n",
      "artage         0.0157      0.013      1.185      0.236      -0.010       0.042\n",
      "atcn04         0.0320      0.013      2.379      0.017       0.006       0.058\n",
      "atcn514       -0.0067      0.022     -0.307      0.759      -0.049       0.036\n",
      "atcn1524       0.0231      0.029      0.802      0.423      -0.033       0.080\n",
      "atcr04        -0.0237      0.063     -0.374      0.708      -0.148       0.101\n",
      "atcr514        0.0418      0.100      0.419      0.676      -0.154       0.238\n",
      "atcr1524       0.0412      0.074      0.556      0.578      -0.104       0.187\n",
      "atcr25         0.0212      0.039      0.549      0.583      -0.055       0.097\n",
      "afmfocc1      -0.0125      0.015     -0.828      0.408      -0.042       0.017\n",
      "ajbmind1      -0.0008      0.015     -0.054      0.957      -0.030       0.028\n",
      "aujljin1      -0.0035      0.012     -0.295      0.768      -0.027       0.020\n",
      "amrcurr        0.0036      0.052      0.070      0.944      -0.098       0.105\n",
      "aujljt        -0.0169      0.013     -1.258      0.208      -0.043       0.009\n",
      "ajbocct        0.0195      0.016      1.245      0.213      -0.011       0.050\n",
      "ajbempt       -0.0272      0.017     -1.647      0.100      -0.060       0.005\n",
      "aujljws        0.0069      0.015      0.451      0.652      -0.023       0.037\n",
      "ajbmtuea       0.0244      0.013      1.891      0.059      -0.001       0.050\n",
      "ajbcasab       0.0657      0.043      1.528      0.127      -0.019       0.150\n",
      "ajbmhruc      -0.0175      0.023     -0.747      0.455      -0.064       0.029\n",
      "aehtuj         0.0121      0.015      0.801      0.423      -0.018       0.042\n",
      "amrcdur       -0.0176      0.036     -0.495      0.621      -0.087       0.052\n",
      "atcyng        -0.0043      0.047     -0.091      0.927      -0.096       0.088\n",
      "ahsyrcad      -0.0070      0.022     -0.313      0.754      -0.050       0.037\n",
      "atcnr         -0.0151      0.016     -0.975      0.330      -0.046       0.015\n",
      "aedcly         0.0613      0.018      3.363      0.001       0.026       0.097\n",
      "aordfnum       0.1179      0.079      1.493      0.136      -0.037       0.273\n",
      "ahhyng         0.0148      0.059      0.253      0.800      -0.100       0.130\n",
      "ahhold        -0.0896      0.046     -1.933      0.053      -0.181       0.001\n",
      "afmfo6s        0.0096      0.020      0.492      0.623      -0.029       0.048\n",
      "afmmo6s       -0.0073      0.017     -0.429      0.668      -0.041       0.026\n",
      "afmf682        0.0181      0.018      1.016      0.310      -0.017       0.053\n",
      "aedq100       -0.0002      0.011     -0.017      0.986      -0.022       0.022\n",
      "aedq200        0.0120      0.016      0.768      0.442      -0.019       0.043\n",
      "aedq310       -0.0054      0.014     -0.390      0.696      -0.033       0.022\n",
      "aedq400       -0.0025      0.018     -0.139      0.890      -0.038       0.033\n",
      "aedq411        0.0255      0.024      1.077      0.281      -0.021       0.072\n",
      "aedq500        0.0260      0.015      1.751      0.080      -0.003       0.055\n",
      "aedq511       -0.0163      0.022     -0.751      0.453      -0.059       0.026\n",
      "aedq514       -0.0428      0.023     -1.856      0.064      -0.088       0.002\n",
      "aedq521        0.0081      0.020      0.416      0.678      -0.030       0.046\n",
      "aedq524        0.0076      0.022      0.348      0.728      -0.035       0.050\n",
      "aedqunk        0.0012      0.016      0.074      0.941      -0.030       0.032\n",
      "aedhigh1      -0.0307      0.034     -0.904      0.366      -0.097       0.036\n",
      "awsly          0.0034      0.012      0.279      0.780      -0.020       0.027\n",
      "abncapu       -0.0286      0.220     -0.130      0.897      -0.460       0.403\n",
      "abnfnis       -0.1356      0.077     -1.753      0.080      -0.287       0.016\n",
      "awscme        -0.1793      0.049     -3.663      0.000      -0.275      -0.083\n",
      "awscoe         0.0101      0.018      0.549      0.583      -0.026       0.046\n",
      "abncpen        0.0312      0.177      0.176      0.860      -0.316       0.378\n",
      "abncpar        0.0631      0.115      0.548      0.583      -0.162       0.288\n",
      "abncall        0.0580      0.100      0.582      0.561      -0.138       0.254\n",
      "abncob        -0.0109      0.019     -0.562      0.574      -0.049       0.027\n",
      "awsfg         -0.1740      0.057     -3.038      0.002      -0.286      -0.062\n",
      "abifp         -0.0171      0.042     -0.406      0.685      -0.100       0.065\n",
      "abifn          0.0469      0.018      2.592      0.010       0.011       0.082\n",
      "aoidvry       -0.0330      0.036     -0.919      0.358      -0.103       0.037\n",
      "aoirntp        0.0011      0.045      0.024      0.981      -0.088       0.090\n",
      "aoirntn        0.0090      0.027      0.329      0.742      -0.044       0.062\n",
      "aoifinvp       0.0571      0.061      0.932      0.352      -0.063       0.177\n",
      "aoifinvn       0.0058      0.026      0.224      0.823      -0.045       0.057\n",
      "aoifpp        -0.0375      0.035     -1.075      0.282      -0.106       0.031\n",
      "aoifpt        -0.0255      0.016     -1.622      0.105      -0.056       0.005\n",
      "abnfpen       -0.0251      0.087     -0.288      0.774      -0.196       0.146\n",
      "abnfpar       -0.0915      0.066     -1.382      0.167      -0.221       0.038\n",
      "abnfall       -0.0417      0.046     -0.903      0.367      -0.132       0.049\n",
      "abnfob        -0.0085      0.018     -0.485      0.628      -0.043       0.026\n",
      "abnffp         0.0054      0.019      0.288      0.774      -0.031       0.042\n",
      "abnfrp         0.0007      0.016      0.043      0.966      -0.031       0.032\n",
      "atifep        -0.0101      0.037     -0.272      0.786      -0.083       0.063\n",
      "atifen        -0.0258      0.015     -1.662      0.097      -0.056       0.005\n",
      "abnfapt        0.1158      0.126      0.921      0.357      -0.131       0.362\n",
      "aoifnpt        0.0033      0.012      0.273      0.785      -0.020       0.027\n",
      "aoifrpt        0.0063      0.012      0.538      0.590      -0.017       0.029\n",
      "aoifnptr       0.0197      0.016      1.239      0.215      -0.011       0.051\n",
      "aoifohhl       0.0162      0.011      1.432      0.152      -0.006       0.038\n",
      "ahsdebt       -0.0198      0.028     -0.697      0.486      -0.075       0.036\n",
      "agh1          -0.0244      0.031     -0.795      0.426      -0.085       0.036\n",
      "agh3a          0.0138      0.016      0.884      0.377      -0.017       0.044\n",
      "agh3b          0.0188      0.018      1.033      0.302      -0.017       0.055\n",
      "agh3d          0.0227      0.018      1.268      0.205      -0.012       0.058\n",
      "agh3e         -0.0367      0.018     -2.089      0.037      -0.071      -0.002\n",
      "agh3f          0.0144      0.016      0.892      0.372      -0.017       0.046\n",
      "agh3g         -0.0385      0.017     -2.227      0.026      -0.072      -0.005\n",
      "agh3j          0.0229      0.015      1.515      0.130      -0.007       0.053\n",
      "agh4a          0.0146      0.026      0.562      0.574      -0.036       0.065\n",
      "agh4b          0.0066      0.028      0.232      0.817      -0.049       0.062\n",
      "agh4d          0.0278      0.031      0.910      0.363      -0.032       0.088\n",
      "agh5a          0.0176      0.016      1.070      0.285      -0.015       0.050\n",
      "agh5b          0.0002      0.017      0.013      0.990      -0.033       0.033\n",
      "agh5c         -0.0147      0.015     -0.966      0.334      -0.045       0.015\n",
      "agh6           0.0120      0.019      0.634      0.526      -0.025       0.049\n",
      "agh7           0.0992      0.094      1.052      0.293      -0.086       0.284\n",
      "agh8           0.1315      0.059      2.236      0.025       0.016       0.247\n",
      "agh9a         -0.0129      0.018     -0.723      0.470      -0.048       0.022\n",
      "agh9b         -0.0030      0.015     -0.208      0.835      -0.032       0.026\n",
      "agh9c          0.0054      0.017      0.317      0.751      -0.028       0.039\n",
      "agh9d          0.0018      0.016      0.110      0.912      -0.030       0.033\n",
      "agh9e          0.0118      0.020      0.592      0.554      -0.027       0.051\n",
      "agh9f          0.0214      0.018      1.207      0.227      -0.013       0.056\n",
      "agh9g          0.0263      0.018      1.502      0.133      -0.008       0.061\n",
      "agh9h         -0.0174      0.016     -1.060      0.289      -0.050       0.015\n",
      "agh9i         -0.0083      0.017     -0.479      0.632      -0.043       0.026\n",
      "agh10         -0.0063      0.018     -0.345      0.730      -0.042       0.030\n",
      "agh11a         0.0239      0.030      0.796      0.426      -0.035       0.083\n",
      "agh11b        -0.0080      0.034     -0.237      0.813      -0.074       0.058\n",
      "agh11c        -0.0075      0.033     -0.224      0.823      -0.073       0.058\n",
      "agh11d         0.0010      0.038      0.025      0.980      -0.074       0.076\n",
      "alspact       -0.0122      0.012     -0.983      0.326      -0.036       0.012\n",
      "alssmoke      -0.0075      0.013     -0.593      0.553      -0.032       0.017\n",
      "alstbca       -0.0150      0.011     -1.334      0.182      -0.037       0.007\n",
      "alsdrink       0.0074      0.013      0.580      0.562      -0.018       0.033\n",
      "alsstddr      -0.0254      0.012     -2.034      0.042      -0.050      -0.001\n",
      "alsrush       -0.0178      0.014     -1.287      0.198      -0.045       0.009\n",
      "alsstime       0.0095      0.013      0.751      0.453      -0.015       0.034\n",
      "alslarea      -0.0023      0.013     -0.168      0.867      -0.029       0.024\n",
      "alslanh       -0.0064      0.016     -0.408      0.683      -0.037       0.024\n",
      "alsland       -0.0125      0.016     -0.794      0.427      -0.043       0.018\n",
      "alslatn       -0.0040      0.013     -0.302      0.763      -0.030       0.022\n",
      "alslaat       -0.0153      0.012     -1.240      0.215      -0.039       0.009\n",
      "alslahg       -0.0235      0.014     -1.689      0.091      -0.051       0.004\n",
      "alslarl        0.0215      0.015      1.455      0.146      -0.007       0.050\n",
      "alslats        0.0112      0.016      0.715      0.475      -0.019       0.042\n",
      "alslaha        0.0107      0.015      0.696      0.486      -0.019       0.041\n",
      "alslavd       -0.0375      0.018     -2.083      0.037      -0.073      -0.002\n",
      "alslabt        0.0071      0.016      0.448      0.654      -0.024       0.038\n",
      "alshals        0.0182      0.018      1.039      0.299      -0.016       0.053\n",
      "alshanb       -0.0185      0.017     -1.074      0.283      -0.052       0.015\n",
      "alshacf        0.0040      0.015      0.271      0.787      -0.025       0.033\n",
      "alshadt        0.0238      0.017      1.366      0.172      -0.010       0.058\n",
      "alshaas       -0.0024      0.017     -0.141      0.888      -0.036       0.031\n",
      "alshahn       -0.0349      0.017     -2.105      0.035      -0.067      -0.002\n",
      "alsrelsp       0.0005      0.014      0.035      0.972      -0.027       0.028\n",
      "alsrelsc      -0.0488      0.016     -3.082      0.002      -0.080      -0.018\n",
      "alsrelpc       0.0035      0.016      0.213      0.831      -0.028       0.035\n",
      "alsrelst      -0.0123      0.012     -1.024      0.306      -0.036       0.011\n",
      "alsrelch       0.0103      0.013      0.777      0.437      -0.016       0.036\n",
      "alsrelrp      -0.0038      0.012     -0.316      0.752      -0.028       0.020\n",
      "alsrelrs       0.0109      0.012      0.892      0.373      -0.013       0.035\n",
      "alsrelfs      -0.0040      0.012     -0.341      0.733      -0.027       0.019\n",
      "alsshare      -0.0054      0.014     -0.399      0.690      -0.032       0.021\n",
      "alsclub       -0.0200      0.012     -1.624      0.104      -0.044       0.004\n",
      "alssocal      -0.0073      0.013     -0.577      0.564      -0.032       0.018\n",
      "alssuppv       0.0272      0.012      2.189      0.029       0.003       0.052\n",
      "alssupnh      -0.0041      0.013     -0.308      0.758      -0.031       0.022\n",
      "alssuplf       0.0025      0.013      0.193      0.847      -0.023       0.028\n",
      "alssupac       0.0027      0.017      0.166      0.868      -0.030       0.035\n",
      "alssuplt      -0.0026      0.017     -0.156      0.876      -0.035       0.030\n",
      "alssupcd       0.0070      0.013      0.550      0.582      -0.018       0.032\n",
      "alssupvl       0.0109      0.014      0.797      0.426      -0.016       0.038\n",
      "alssuppi       0.0002      0.013      0.017      0.987      -0.026       0.027\n",
      "alssuptp      -0.0278      0.014     -1.942      0.052      -0.056       0.000\n",
      "alssupsh       0.0194      0.015      1.265      0.206      -0.011       0.049\n",
      "alshrerr       0.0088      0.012      0.719      0.472      -0.015       0.033\n",
      "alshrhw        0.0200      0.015      1.375      0.169      -0.009       0.048\n",
      "alshrod       -0.0081      0.013     -0.650      0.516      -0.033       0.016\n",
      "alshrchd      -0.0180      0.015     -1.162      0.245      -0.048       0.012\n",
      "alshrvol      -0.0177      0.012     -1.503      0.133      -0.041       0.005\n",
      "alshrcar       0.0060      0.013      0.474      0.636      -0.019       0.031\n",
      "alshrcom       0.0133      0.014      0.974      0.330      -0.013       0.040\n",
      "alsothch      -0.0175      0.012     -1.520      0.129      -0.040       0.005\n",
      "afiprosp      -0.0080      0.016     -0.493      0.622      -0.040       0.024\n",
      "afiprbeg       0.0033      0.015      0.226      0.821      -0.025       0.032\n",
      "afiprbmr       0.0022      0.014      0.159      0.874      -0.024       0.029\n",
      "afiprbps      -0.0022      0.013     -0.172      0.864      -0.027       0.022\n",
      "afiprbfh      -0.0010      0.014     -0.070      0.944      -0.028       0.026\n",
      "afiemerf       0.0099      0.016      0.620      0.535      -0.021       0.041\n",
      "afisav        -0.0021      0.014     -0.149      0.881      -0.029       0.025\n",
      "afibrelh       0.0123      0.012      1.063      0.288      -0.010       0.035\n",
      "afibrelo       0.0185      0.013      1.477      0.140      -0.006       0.043\n",
      "afibfri       -0.0069      0.012     -0.586      0.558      -0.030       0.016\n",
      "afibfin        0.0063      0.013      0.484      0.628      -0.019       0.032\n",
      "afisass        0.0149      0.012      1.233      0.218      -0.009       0.039\n",
      "afioth        -0.0274      0.011     -2.386      0.017      -0.050      -0.005\n",
      "afina         -0.0063      0.012     -0.548      0.584      -0.029       0.016\n",
      "afisave       -0.0030      0.014     -0.217      0.828      -0.030       0.024\n",
      "afisavep       0.0053      0.013      0.403      0.687      -0.020       0.031\n",
      "afirisk        0.0156      0.014      1.089      0.276      -0.012       0.044\n",
      "afibhol        0.0040      0.012      0.324      0.746      -0.020       0.028\n",
      "afiblvxp       0.0092      0.012      0.763      0.445      -0.014       0.033\n",
      "afibclth       0.0068      0.012      0.583      0.560      -0.016       0.030\n",
      "afibcar        0.0002      0.013      0.019      0.985      -0.025       0.025\n",
      "afibeduc      -0.0018      0.013     -0.145      0.885      -0.027       0.023\n",
      "aatwkhpj      -0.0025      0.012     -0.203      0.839      -0.027       0.022\n",
      "aatwkdnm       0.0193      0.012      1.622      0.105      -0.004       0.043\n",
      "aatwkwms       0.0052      0.015      0.347      0.729      -0.024       0.035\n",
      "aatwkwfs      -0.0174      0.014     -1.231      0.219      -0.045       0.010\n",
      "aatwkseh       0.0118      0.012      0.958      0.338      -0.012       0.036\n",
      "aatwkmrl       0.0191      0.013      1.510      0.131      -0.006       0.044\n",
      "aatwkmsw      -0.0275      0.014     -2.032      0.042      -0.054      -0.001\n",
      "aatwkcdw       0.0291      0.013      2.263      0.024       0.004       0.054\n",
      "aatwkbmw       0.0036      0.015      0.243      0.808      -0.025       0.032\n",
      "aatwkadc      -0.0037      0.013     -0.291      0.771      -0.028       0.021\n",
      "aatwkwmr      -0.0324      0.018     -1.761      0.078      -0.068       0.004\n",
      "aatwkwfr       0.0134      0.017      0.808      0.419      -0.019       0.046\n",
      "aatwkfhi      -0.0162      0.013     -1.289      0.198      -0.041       0.008\n",
      "ajomms         0.0088      0.015      0.569      0.569      -0.022       0.039\n",
      "ajompi        -0.0117      0.015     -0.761      0.447      -0.042       0.018\n",
      "ajompf         0.0305      0.014      2.240      0.025       0.004       0.057\n",
      "ajomsf        -0.0199      0.017     -1.200      0.230      -0.052       0.013\n",
      "ajomcsb       -0.0064      0.014     -0.467      0.640      -0.033       0.021\n",
      "ajomwf        -0.0171      0.013     -1.330      0.184      -0.042       0.008\n",
      "ajomcd        -0.0058      0.015     -0.387      0.699      -0.035       0.024\n",
      "ajomns        -0.0084      0.014     -0.602      0.547      -0.036       0.019\n",
      "ajomus         0.0181      0.014      1.336      0.182      -0.008       0.045\n",
      "ajomls        -0.0017      0.015     -0.112      0.911      -0.031       0.028\n",
      "ajomfw        -0.0167      0.015     -1.128      0.259      -0.046       0.012\n",
      "ajowpmfl      -0.0083      0.015     -0.552      0.581      -0.038       0.021\n",
      "ajowpefl       0.0293      0.016      1.879      0.060      -0.001       0.060\n",
      "ajowppt       -0.0086      0.013     -0.652      0.515      -0.034       0.017\n",
      "ajowppmt       0.0026      0.012      0.212      0.832      -0.022       0.027\n",
      "ajowpumt       0.0031      0.012      0.253      0.800      -0.021       0.027\n",
      "ajowppnt      -0.0173      0.016     -1.106      0.269      -0.048       0.013\n",
      "ajowpcar       0.0156      0.015      1.037      0.300      -0.014       0.045\n",
      "ajowpppt       0.0116      0.012      0.949      0.343      -0.012       0.036\n",
      "ajowphom      -0.0056      0.013     -0.412      0.680      -0.032       0.021\n",
      "ajowpflx      -0.0197      0.013     -1.489      0.136      -0.046       0.006\n",
      "aparesp       -0.0274      0.021     -1.307      0.191      -0.068       0.014\n",
      "apatird        0.0068      0.014      0.494      0.622      -0.020       0.034\n",
      "apatrap        0.0197      0.014      1.403      0.161      -0.008       0.047\n",
      "apawork       -0.0061      0.013     -0.457      0.648      -0.032       0.020\n",
      "apashare       0.0034      0.014      0.241      0.810      -0.025       0.031\n",
      "apawktdw      -0.0005      0.013     -0.038      0.969      -0.026       0.025\n",
      "apawkle        0.0002      0.014      0.016      0.988      -0.027       0.028\n",
      "apawkmfh       0.0170      0.015      1.138      0.255      -0.012       0.046\n",
      "apawkfle      -0.0218      0.016     -1.384      0.166      -0.053       0.009\n",
      "apawkpec      -0.0148      0.012     -1.183      0.237      -0.039       0.010\n",
      "apawkbp       -0.0074      0.012     -0.611      0.541      -0.031       0.016\n",
      "apawkwc        0.0054      0.012      0.458      0.647      -0.018       0.028\n",
      "ahhcmts        0.0091      0.011      0.796      0.426      -0.013       0.032\n",
      "aghrp         -0.0166      0.064     -0.261      0.794      -0.141       0.108\n",
      "aghbp          0.1955      0.141      1.382      0.167      -0.082       0.473\n",
      "aghgh         -0.0254      0.109     -0.232      0.816      -0.240       0.189\n",
      "aghrht         0.0178      0.012      1.494      0.135      -0.006       0.041\n",
      "aghsf6ap       0.0015      0.033      0.045      0.964      -0.063       0.066\n",
      "aghsf6an      -0.0079      0.012     -0.630      0.529      -0.032       0.017\n",
      "==============================================================================\n",
      "Omnibus:                       39.879   Durbin-Watson:                   1.964\n",
      "Prob(Omnibus):                  0.000   Jarque-Bera (JB):               41.225\n",
      "Skew:                          -0.200   Prob(JB):                     1.12e-09\n",
      "Kurtosis:                       3.178   Cond. No.                     4.84e+16\n",
      "==============================================================================\n",
      "\n",
      "Notes:\n",
      "[1] Standard Errors assume that the covariance matrix of the errors is correctly specified.\n",
      "[2] The smallest eigenvalue is 6.49e-29. This might indicate that there are\n",
      "strong multicollinearity problems or that the design matrix is singular.\n"
     ]
    }
   ],
   "source": [
    "Xt = np.hstack((t[:, np.newaxis], X))\n",
    "Xt = pd.DataFrame(data=Xt, columns=[\"treatment\"] + features)\n",
    "ols = sm.OLS(y, sm.add_constant(Xt))\n",
    "res = ols.fit()\n",
    "ate_ols = res.params.loc[\"treatment\"]\n",
    "ci_ols = res.conf_int().loc[\"treatment\"]\n",
    "print(res.summary())"
   ]
  },
  {
   "cell_type": "markdown",
   "id": "12",
   "metadata": {
    "papermill": {
     "duration": 0.011457,
     "end_time": "2021-11-30T00:24:15.959493",
     "exception": false,
     "start_time": "2021-11-30T00:24:15.948036",
     "status": "completed"
    },
    "tags": []
   },
   "source": [
    "## Scikit learn Bayesian Estimators\n",
    "\n",
    "### Bayesian Ridge\n",
    "\n",
    "Coefficient statistics"
   ]
  },
  {
   "cell_type": "code",
   "execution_count": 8,
   "id": "13",
   "metadata": {
    "execution": {
     "iopub.execute_input": "2021-11-30T00:24:15.990658Z",
     "iopub.status.busy": "2021-11-30T00:24:15.990318Z",
     "iopub.status.idle": "2021-11-30T00:24:16.702940Z",
     "shell.execute_reply": "2021-11-30T00:24:16.703434Z"
    },
    "papermill": {
     "duration": 0.732733,
     "end_time": "2021-11-30T00:24:16.703579",
     "exception": false,
     "start_time": "2021-11-30T00:24:15.970846",
     "status": "completed"
    },
    "tags": []
   },
   "outputs": [
    {
     "name": "stdout",
     "output_type": "stream",
     "text": [
      "Bayesian Ridge simple model - coefficient stats:\n",
      "  R-squared = 0.5118\n",
      "  ATE: 0.0289 (0.0122)\n",
      "  t: 2.3702\n",
      "  p-value: 0.0178\n",
      "  CI (0.025, 0.975): [0.0050, 0.0528]\n"
     ]
    }
   ],
   "source": [
    "blr = BayesianRidgeStat()\n",
    "blr.fit(Xt, y)\n",
    "\n",
    "score = blr.score(Xt, y)\n",
    "\n",
    "# Coefficient statistics\n",
    "stats = blr.model_statistics()\n",
    "ate_blr, se_blr = stats.beta[0], stats.std_err[0]\n",
    "ci_blr = norm.interval(loc=ate_blr, scale=se_blr, alpha=0.95)\n",
    "\n",
    "print(\"Bayesian Ridge simple model - coefficient stats:\")\n",
    "print(f\"  R-squared = {score:.4f}\")\n",
    "print(f\"  ATE: {ate_blr:.4f} ({se_blr:.4f})\")\n",
    "print(f\"  t: {stats.t_stat[0]:.4f}\")\n",
    "print(f\"  p-value: {stats.p_value[0]:.4f}\")\n",
    "print(f\"  CI (0.025, 0.975): [{ci_blr[0]:.4f}, {ci_blr[1]:.4f}]\")"
   ]
  },
  {
   "cell_type": "markdown",
   "id": "14",
   "metadata": {
    "papermill": {
     "duration": 0.022805,
     "end_time": "2021-11-30T00:24:16.749533",
     "exception": false,
     "start_time": "2021-11-30T00:24:16.726728",
     "status": "completed"
    },
    "tags": []
   },
   "source": [
    "ATE sampling with counterfactual models"
   ]
  },
  {
   "cell_type": "code",
   "execution_count": 9,
   "id": "15",
   "metadata": {
    "execution": {
     "iopub.execute_input": "2021-11-30T00:24:16.804538Z",
     "iopub.status.busy": "2021-11-30T00:24:16.803991Z",
     "iopub.status.idle": "2021-11-30T00:24:17.083061Z",
     "shell.execute_reply": "2021-11-30T00:24:17.083597Z"
    },
    "papermill": {
     "duration": 0.309853,
     "end_time": "2021-11-30T00:24:17.083724",
     "exception": false,
     "start_time": "2021-11-30T00:24:16.773871",
     "status": "completed"
    },
    "tags": []
   },
   "outputs": [
    {
     "name": "stdout",
     "output_type": "stream",
     "text": [
      "Bayesian Ridge simple model - counterfactual sampling:\n",
      "  R-squared = 0.5118\n",
      "  ATE: 0.0297 (0.0118)\n",
      "  CI (0.025, 0.975): [0.0066, 0.0527]\n"
     ]
    }
   ],
   "source": [
    "# ATE sampling\n",
    "samples = 100\n",
    "w_samples = np.random.multivariate_normal(mean=blr.coef_, cov=blr.sigma_, size=samples).T\n",
    "\n",
    "n = len(X)\n",
    "Xt0 = pd.DataFrame(data=np.hstack((np.zeros((n, 1)), X)), columns=[\"treatment\"] + features)\n",
    "Xt1 = pd.DataFrame(data=np.hstack((np.ones((n, 1)), X)), columns=[\"treatment\"] + features)\n",
    "\n",
    "ate_blr_samples = np.mean(Xt1 @ w_samples, axis=0) - np.mean(Xt0 @ w_samples, axis=0)\n",
    "ate_blr = ate_blr_samples.mean()\n",
    "se_blr = np.std(ate_blr_samples, ddof=1)\n",
    "ci_blr = norm.interval(loc=ate_blr, scale=se_blr, alpha=0.95)\n",
    "\n",
    "print(\"Bayesian Ridge simple model - counterfactual sampling:\")\n",
    "print(f\"  R-squared = {score:.4f}\")\n",
    "print(f\"  ATE: {ate_blr:.4f} ({se_blr:.4f})\")\n",
    "print(f\"  CI (0.025, 0.975): [{ci_blr[0]:.4f}, {ci_blr[1]:.4f}]\")"
   ]
  },
  {
   "cell_type": "markdown",
   "id": "16",
   "metadata": {
    "papermill": {
     "duration": 0.0219,
     "end_time": "2021-11-30T00:24:17.128283",
     "exception": false,
     "start_time": "2021-11-30T00:24:17.106383",
     "status": "completed"
    },
    "tags": []
   },
   "source": [
    "### Gaussian Process"
   ]
  },
  {
   "cell_type": "code",
   "execution_count": 10,
   "id": "17",
   "metadata": {
    "execution": {
     "iopub.execute_input": "2021-11-30T00:24:17.186341Z",
     "iopub.status.busy": "2021-11-30T00:24:17.185878Z",
     "iopub.status.idle": "2021-11-30T00:33:33.100149Z",
     "shell.execute_reply": "2021-11-30T00:33:33.100997Z"
    },
    "papermill": {
     "duration": 555.948059,
     "end_time": "2021-11-30T00:33:33.101124",
     "exception": false,
     "start_time": "2021-11-30T00:24:17.153065",
     "status": "completed"
    },
    "tags": []
   },
   "outputs": [],
   "source": [
    "kernel = WhiteKernel() + Matern(nu=1.5)\n",
    "gpr = GaussianProcessRegressor(kernel=kernel)\n",
    "\n",
    "# This takes a while for 5000 samples... (5 mins or so)\n",
    "gpr.fit(Xt, y)\n",
    "score = gpr.score(Xt, y)"
   ]
  },
  {
   "cell_type": "code",
   "execution_count": 11,
   "id": "18",
   "metadata": {
    "execution": {
     "iopub.execute_input": "2021-11-30T00:33:33.156454Z",
     "iopub.status.busy": "2021-11-30T00:33:33.155988Z",
     "iopub.status.idle": "2021-11-30T00:40:11.409949Z",
     "shell.execute_reply": "2021-11-30T00:40:11.410661Z"
    },
    "papermill": {
     "duration": 398.286808,
     "end_time": "2021-11-30T00:40:11.410871",
     "exception": false,
     "start_time": "2021-11-30T00:33:33.124063",
     "status": "completed"
    },
    "tags": []
   },
   "outputs": [
    {
     "name": "stdout",
     "output_type": "stream",
     "text": [
      "Gaussian Process WhiteKernel(noise_level=1e-05) + Matern(length_scale=20.8, nu=1.5):\n",
      "  R-squared = 1.0000\n",
      "  ATE: 0.0406 (0.0120)\n",
      "  CI (0.025, 0.975): [0.0170, 0.0642]\n"
     ]
    }
   ],
   "source": [
    "# ATE sampling   \n",
    "f0, K0 = gpr.predict(Xt0, return_cov=True)\n",
    "f1, K1 = gpr.predict(Xt1, return_cov=True)\n",
    "\n",
    "y_0_samples = np.random.multivariate_normal(mean=f0, cov=K0, size=samples)\n",
    "y_1_samples = np.random.multivariate_normal(mean=f1, cov=K1, size=samples)\n",
    "ate_gp_samples = (y_1_samples - y_0_samples).mean(axis=1)\n",
    "\n",
    "ate_gp = ate_gp_samples.mean()\n",
    "se_gp = np.std(ate_gp_samples, ddof=1)\n",
    "ci_gp = norm.interval(loc=ate_gp, scale=se_gp, alpha=0.95)\n",
    "\n",
    "print(f\"Gaussian Process {gpr.kernel_}:\")\n",
    "print(f\"  R-squared = {score:.4f}\")\n",
    "print(f\"  ATE: {ate_gp:.4f} ({se_gp:.4f})\")\n",
    "print(f\"  CI (0.025, 0.975): [{ci_gp[0]:.4f}, {ci_gp[1]:.4f}]\")"
   ]
  },
  {
   "cell_type": "markdown",
   "id": "19",
   "metadata": {
    "papermill": {
     "duration": 0.035394,
     "end_time": "2021-11-30T00:40:11.484405",
     "exception": false,
     "start_time": "2021-11-30T00:40:11.449011",
     "status": "completed"
    },
    "tags": []
   },
   "source": [
    "Check if GP is overfitting"
   ]
  },
  {
   "cell_type": "code",
   "execution_count": 12,
   "id": "20",
   "metadata": {
    "execution": {
     "iopub.execute_input": "2021-11-30T00:40:11.537379Z",
     "iopub.status.busy": "2021-11-30T00:40:11.536813Z",
     "iopub.status.idle": "2021-11-30T01:28:49.191423Z",
     "shell.execute_reply": "2021-11-30T01:28:49.191998Z"
    },
    "papermill": {
     "duration": 2917.683592,
     "end_time": "2021-11-30T01:28:49.192135",
     "exception": false,
     "start_time": "2021-11-30T00:40:11.508543",
     "status": "completed"
    },
    "scrolled": true,
    "tags": []
   },
   "outputs": [
    {
     "name": "stderr",
     "output_type": "stream",
     "text": [
      "/home/dsteinberg/.virtualenvs/re-education/lib/python3.9/site-packages/sklearn/gaussian_process/kernels.py:420: ConvergenceWarning: The optimal value found for dimension 0 of parameter k1__noise_level is close to the specified lower bound 1e-05. Decreasing the bound and calling fit again may find a better value.\n",
      "  warnings.warn(\n"
     ]
    }
   ],
   "source": [
    "if xval_gp:\n",
    "    cv_scores = cross_validate(gpr, Xt, y,\n",
    "                               cv=KFold(n_splits=5, shuffle=True),\n",
    "                               return_train_score=True)\n",
    "    pd.DataFrame(cv_scores).describe()"
   ]
  },
  {
   "cell_type": "markdown",
   "id": "21",
   "metadata": {
    "papermill": {
     "duration": 0.022884,
     "end_time": "2021-11-30T01:28:49.238839",
     "exception": false,
     "start_time": "2021-11-30T01:28:49.215955",
     "status": "completed"
    },
    "tags": []
   },
   "source": [
    "## Hierarchical Bayesian Linear Model\n",
    "\n",
    "This model takes the following form and prior settings,\n",
    "\n",
    "$$\n",
    "\\begin{align}\n",
    "    \\{\\lambda_0, \\lambda_t, \\lambda_x, \\lambda_{tx}\\} &\\sim \\textrm{Gamma}(1, 1) \\\\\n",
    "    \\sigma^2 &\\sim \\textrm{Gamma}(1, 1) \\\\\n",
    "    w_0 &\\sim \\mathcal{N}(0, \\lambda_0) \\\\\n",
    "    w_t &\\sim \\mathcal{N}(0, \\lambda_t) \\\\\n",
    "    \\mathbf{w}_x &\\sim \\mathcal{N}(0, \\lambda_x \\mathbf{I}_d) \\\\\n",
    "    \\mathbf{w}_{tx} &\\sim \\mathcal{N}(0, \\lambda_{tx} \\mathbf{I}_d) \\\\\n",
    "    y_i &\\sim \\mathcal{N}(\\mu(\\mathbf{x}_i, t_i), \\sigma^2) \\\\\n",
    "    \\mu(\\mathbf{x}_i, t_i) &= w_0 + w_t t_i + \\mathbf{w}_x^\\top\\mathbf{x}_i + t_i\\mathbf{w}_{tx}^\\top\\mathbf{x}_i\n",
    "\\end{align}\n",
    "$$"
   ]
  },
  {
   "cell_type": "markdown",
   "id": "22",
   "metadata": {
    "papermill": {
     "duration": 0.021668,
     "end_time": "2021-11-30T01:28:49.283462",
     "exception": false,
     "start_time": "2021-11-30T01:28:49.261794",
     "status": "completed"
    },
    "tags": []
   },
   "source": [
    "### Set up the model"
   ]
  },
  {
   "cell_type": "code",
   "execution_count": 13,
   "id": "23",
   "metadata": {
    "execution": {
     "iopub.execute_input": "2021-11-30T01:28:49.320737Z",
     "iopub.status.busy": "2021-11-30T01:28:49.320411Z",
     "iopub.status.idle": "2021-11-30T01:28:49.321810Z",
     "shell.execute_reply": "2021-11-30T01:28:49.322062Z"
    },
    "papermill": {
     "duration": 0.019402,
     "end_time": "2021-11-30T01:28:49.322150",
     "exception": false,
     "start_time": "2021-11-30T01:28:49.302748",
     "status": "completed"
    },
    "tags": []
   },
   "outputs": [],
   "source": [
    "def predict(w_0, w_t, w_x, w_tx, x, t):\n",
    "    f = w_0 + w_t * t + x.matmul(w_x.T) + t * x.matmul(w_tx.T)\n",
    "    return f\n",
    "\n",
    "\n",
    "def model_treatment_intersection(x, t, y):\n",
    "    # Hyper-Priors\n",
    "    lambda_prior = dist.Gamma(1., 1.)\n",
    "    sigma_prior = dist.Gamma(1., 1.)\n",
    "    \n",
    "    # Priors\n",
    "    n, d = x.shape\n",
    "    weight_prior = dist.Laplace if laplace_prior else dist.Normal\n",
    "    p_w0 = weight_prior(0, pyro.sample(\"l_0\", lambda_prior))\n",
    "    p_wt = weight_prior(0, pyro.sample(\"l_t\", lambda_prior))\n",
    "    p_wx = weight_prior(torch.zeros(d), pyro.sample(\"l_x\", lambda_prior) * torch.ones(d))\n",
    "    p_twx = weight_prior(torch.zeros(d), pyro.sample(\"l_tx\", lambda_prior) * torch.ones(d))\n",
    "    \n",
    "    # Model weights\n",
    "    w_0 = pyro.sample(\"intercept\", p_w0)\n",
    "    w_t = pyro.sample(\"treatment\", p_wt)\n",
    "    w_x = pyro.sample(\"confounders\", p_wx)\n",
    "    w_tx = pyro.sample(\"intersection\", p_twx)\n",
    "    \n",
    "    # Likelihood\n",
    "    f = predict(w_0, w_t, w_x, w_tx, x, t)\n",
    "    sigma = pyro.sample(\"variance\", sigma_prior)\n",
    "    \n",
    "    with pyro.plate(\"data\", n):\n",
    "        likelihood = dist.Normal(f, sigma)\n",
    "        y = pyro.sample(\"likelihood\", likelihood, obs=y)"
   ]
  },
  {
   "cell_type": "markdown",
   "id": "24",
   "metadata": {
    "papermill": {
     "duration": 0.012369,
     "end_time": "2021-11-30T01:28:49.347277",
     "exception": false,
     "start_time": "2021-11-30T01:28:49.334908",
     "status": "completed"
    },
    "tags": []
   },
   "source": [
    "### Run MCMC inference to compute the posteriors"
   ]
  },
  {
   "cell_type": "code",
   "execution_count": 14,
   "id": "25",
   "metadata": {
    "execution": {
     "iopub.execute_input": "2021-11-30T01:28:49.376756Z",
     "iopub.status.busy": "2021-11-30T01:28:49.376427Z",
     "iopub.status.idle": "2021-11-30T01:33:47.386490Z",
     "shell.execute_reply": "2021-11-30T01:33:47.385896Z"
    },
    "papermill": {
     "duration": 298.026981,
     "end_time": "2021-11-30T01:33:47.386636",
     "exception": false,
     "start_time": "2021-11-30T01:28:49.359655",
     "status": "completed"
    },
    "tags": []
   },
   "outputs": [
    {
     "name": "stderr",
     "output_type": "stream",
     "text": [
      "\r",
      "Warmup:   0%|                                                                     | 0/700 [00:00, ?it/s]"
     ]
    },
    {
     "name": "stderr",
     "output_type": "stream",
     "text": [
      "\r",
      "Warmup:   0%|                            | 1/700 [00:00,  2.22it/s, step size=7.02e-03, acc. prob=1.000]"
     ]
    },
    {
     "name": "stderr",
     "output_type": "stream",
     "text": [
      "\r",
      "Warmup:   0%|                            | 3/700 [00:00,  5.12it/s, step size=1.68e-03, acc. prob=0.667]"
     ]
    },
    {
     "name": "stderr",
     "output_type": "stream",
     "text": [
      "\r",
      "Warmup:   1%|▏                           | 5/700 [00:00,  6.33it/s, step size=4.88e-03, acc. prob=0.800]"
     ]
    },
    {
     "name": "stderr",
     "output_type": "stream",
     "text": [
      "\r",
      "Warmup:   1%|▏                           | 6/700 [00:01,  3.96it/s, step size=9.01e-03, acc. prob=0.833]"
     ]
    },
    {
     "name": "stderr",
     "output_type": "stream",
     "text": [
      "\r",
      "Warmup:   1%|▎                           | 8/700 [00:01,  4.67it/s, step size=2.14e-02, acc. prob=0.859]"
     ]
    },
    {
     "name": "stderr",
     "output_type": "stream",
     "text": [
      "\r",
      "Warmup:   1%|▍                          | 10/700 [00:03,  2.20it/s, step size=2.98e-03, acc. prob=0.784]"
     ]
    },
    {
     "name": "stderr",
     "output_type": "stream",
     "text": [
      "\r",
      "Warmup:   2%|▍                          | 11/700 [00:05,  1.41it/s, step size=5.61e-03, acc. prob=0.804]"
     ]
    },
    {
     "name": "stderr",
     "output_type": "stream",
     "text": [
      "\r",
      "Warmup:   2%|▍                          | 12/700 [00:06,  1.08it/s, step size=9.64e-03, acc. prob=0.818]"
     ]
    },
    {
     "name": "stderr",
     "output_type": "stream",
     "text": [
      "\r",
      "Warmup:   2%|▌                          | 13/700 [00:07,  1.12it/s, step size=1.71e-02, acc. prob=0.831]"
     ]
    },
    {
     "name": "stderr",
     "output_type": "stream",
     "text": [
      "\r",
      "Warmup:   2%|▌                          | 14/700 [00:07,  1.31it/s, step size=3.17e-02, acc. prob=0.843]"
     ]
    },
    {
     "name": "stderr",
     "output_type": "stream",
     "text": [
      "\r",
      "Warmup:   2%|▌                          | 16/700 [00:08,  1.63it/s, step size=1.34e-02, acc. prob=0.820]"
     ]
    },
    {
     "name": "stderr",
     "output_type": "stream",
     "text": [
      "\r",
      "Warmup:   2%|▋                          | 17/700 [00:09,  1.85it/s, step size=1.67e-02, acc. prob=0.824]"
     ]
    },
    {
     "name": "stderr",
     "output_type": "stream",
     "text": [
      "\r",
      "Warmup:   3%|▋                          | 19/700 [00:10,  1.52it/s, step size=7.34e-03, acc. prob=0.807]"
     ]
    },
    {
     "name": "stderr",
     "output_type": "stream",
     "text": [
      "\r",
      "Warmup:   3%|▊                          | 20/700 [00:10,  1.78it/s, step size=5.15e-03, acc. prob=0.801]"
     ]
    },
    {
     "name": "stderr",
     "output_type": "stream",
     "text": [
      "\r",
      "Warmup:   3%|▊                          | 21/700 [00:11,  1.92it/s, step size=9.30e-03, acc. prob=0.810]"
     ]
    },
    {
     "name": "stderr",
     "output_type": "stream",
     "text": [
      "\r",
      "Warmup:   3%|▉                          | 23/700 [00:13,  1.54it/s, step size=1.61e-03, acc. prob=0.783]"
     ]
    },
    {
     "name": "stderr",
     "output_type": "stream",
     "text": [
      "\r",
      "Warmup:   3%|▉                          | 24/700 [00:14,  1.14it/s, step size=2.88e-03, acc. prob=0.792]"
     ]
    },
    {
     "name": "stderr",
     "output_type": "stream",
     "text": [
      "\r",
      "Warmup:   4%|▉                          | 25/700 [00:16,  1.06s/it, step size=4.45e-03, acc. prob=0.799]"
     ]
    },
    {
     "name": "stderr",
     "output_type": "stream",
     "text": [
      "\r",
      "Warmup:   4%|█                          | 27/700 [00:18,  1.02it/s, step size=8.26e-04, acc. prob=0.777]"
     ]
    },
    {
     "name": "stderr",
     "output_type": "stream",
     "text": [
      "\r",
      "Warmup:   4%|█                          | 28/700 [00:19,  1.13s/it, step size=1.44e-03, acc. prob=0.784]"
     ]
    },
    {
     "name": "stderr",
     "output_type": "stream",
     "text": [
      "\r",
      "Warmup:   4%|█                          | 29/700 [00:21,  1.24s/it, step size=2.36e-03, acc. prob=0.791]"
     ]
    },
    {
     "name": "stderr",
     "output_type": "stream",
     "text": [
      "\r",
      "Warmup:   4%|█▏                         | 30/700 [00:22,  1.13s/it, step size=3.22e-03, acc. prob=0.795]"
     ]
    },
    {
     "name": "stderr",
     "output_type": "stream",
     "text": [
      "\r",
      "Warmup:   4%|█▏                         | 31/700 [00:22,  1.08it/s, step size=1.78e-03, acc. prob=0.788]"
     ]
    },
    {
     "name": "stderr",
     "output_type": "stream",
     "text": [
      "\r",
      "Warmup:   5%|█▏                         | 32/700 [00:23,  1.12it/s, step size=3.08e-03, acc. prob=0.795]"
     ]
    },
    {
     "name": "stderr",
     "output_type": "stream",
     "text": [
      "\r",
      "Warmup:   5%|█▎                         | 33/700 [00:23,  1.33it/s, step size=4.95e-04, acc. prob=0.774]"
     ]
    },
    {
     "name": "stderr",
     "output_type": "stream",
     "text": [
      "\r",
      "Warmup:   5%|█▎                         | 34/700 [00:25,  1.00s/it, step size=8.28e-04, acc. prob=0.780]"
     ]
    },
    {
     "name": "stderr",
     "output_type": "stream",
     "text": [
      "\r",
      "Warmup:   5%|█▎                         | 35/700 [00:26,  1.19s/it, step size=1.42e-03, acc. prob=0.787]"
     ]
    },
    {
     "name": "stderr",
     "output_type": "stream",
     "text": [
      "\r",
      "Warmup:   5%|█▍                         | 36/700 [00:27,  1.08s/it, step size=2.20e-03, acc. prob=0.791]"
     ]
    },
    {
     "name": "stderr",
     "output_type": "stream",
     "text": [
      "\r",
      "Warmup:   5%|█▍                         | 37/700 [00:28,  1.13it/s, step size=2.19e-03, acc. prob=0.792]"
     ]
    },
    {
     "name": "stderr",
     "output_type": "stream",
     "text": [
      "\r",
      "Warmup:   5%|█▍                         | 38/700 [00:28,  1.35it/s, step size=2.24e-03, acc. prob=0.792]"
     ]
    },
    {
     "name": "stderr",
     "output_type": "stream",
     "text": [
      "\r",
      "Warmup:   6%|█▌                         | 39/700 [00:28,  1.56it/s, step size=1.60e-03, acc. prob=0.789]"
     ]
    },
    {
     "name": "stderr",
     "output_type": "stream",
     "text": [
      "\r",
      "Warmup:   6%|█▌                         | 40/700 [00:29,  1.45it/s, step size=2.43e-03, acc. prob=0.793]"
     ]
    },
    {
     "name": "stderr",
     "output_type": "stream",
     "text": [
      "\r",
      "Warmup:   6%|█▌                         | 41/700 [00:30,  1.66it/s, step size=2.35e-03, acc. prob=0.793]"
     ]
    },
    {
     "name": "stderr",
     "output_type": "stream",
     "text": [
      "\r",
      "Warmup:   6%|█▌                         | 42/700 [00:30,  1.83it/s, step size=1.74e-03, acc. prob=0.790]"
     ]
    },
    {
     "name": "stderr",
     "output_type": "stream",
     "text": [
      "\r",
      "Warmup:   6%|█▋                         | 43/700 [00:30,  1.98it/s, step size=1.67e-03, acc. prob=0.790]"
     ]
    },
    {
     "name": "stderr",
     "output_type": "stream",
     "text": [
      "\r",
      "Warmup:   6%|█▋                         | 44/700 [00:31,  2.11it/s, step size=2.63e-03, acc. prob=0.794]"
     ]
    },
    {
     "name": "stderr",
     "output_type": "stream",
     "text": [
      "\r",
      "Warmup:   6%|█▋                         | 45/700 [00:31,  2.22it/s, step size=1.54e-03, acc. prob=0.789]"
     ]
    },
    {
     "name": "stderr",
     "output_type": "stream",
     "text": [
      "\r",
      "Warmup:   7%|█▊                         | 46/700 [00:32,  2.30it/s, step size=1.51e-03, acc. prob=0.789]"
     ]
    },
    {
     "name": "stderr",
     "output_type": "stream",
     "text": [
      "\r",
      "Warmup:   7%|█▊                         | 47/700 [00:32,  2.36it/s, step size=1.88e-03, acc. prob=0.792]"
     ]
    },
    {
     "name": "stderr",
     "output_type": "stream",
     "text": [
      "\r",
      "Warmup:   7%|█▊                         | 48/700 [00:32,  2.39it/s, step size=2.13e-03, acc. prob=0.793]"
     ]
    },
    {
     "name": "stderr",
     "output_type": "stream",
     "text": [
      "\r",
      "Warmup:   7%|█▉                         | 49/700 [00:33,  2.40it/s, step size=5.61e-04, acc. prob=0.781]"
     ]
    },
    {
     "name": "stderr",
     "output_type": "stream",
     "text": [
      "\r",
      "Warmup:   7%|█▉                         | 50/700 [00:34,  1.29it/s, step size=7.93e-04, acc. prob=0.785]"
     ]
    },
    {
     "name": "stderr",
     "output_type": "stream",
     "text": [
      "\r",
      "Warmup:   7%|█▉                         | 51/700 [00:35,  1.26it/s, step size=1.28e-03, acc. prob=0.789]"
     ]
    },
    {
     "name": "stderr",
     "output_type": "stream",
     "text": [
      "\r",
      "Warmup:   7%|██                         | 52/700 [00:36,  1.26it/s, step size=1.94e-03, acc. prob=0.792]"
     ]
    },
    {
     "name": "stderr",
     "output_type": "stream",
     "text": [
      "\r",
      "Warmup:   8%|██                         | 53/700 [00:37,  1.48it/s, step size=1.60e-03, acc. prob=0.791]"
     ]
    },
    {
     "name": "stderr",
     "output_type": "stream",
     "text": [
      "\r",
      "Warmup:   8%|██                         | 54/700 [00:37,  1.69it/s, step size=1.93e-03, acc. prob=0.793]"
     ]
    },
    {
     "name": "stderr",
     "output_type": "stream",
     "text": [
      "\r",
      "Warmup:   8%|██                         | 55/700 [00:37,  1.88it/s, step size=2.76e-03, acc. prob=0.795]"
     ]
    },
    {
     "name": "stderr",
     "output_type": "stream",
     "text": [
      "\r",
      "Warmup:   8%|██▏                        | 56/700 [00:38,  2.32it/s, step size=2.63e-03, acc. prob=0.795]"
     ]
    },
    {
     "name": "stderr",
     "output_type": "stream",
     "text": [
      "\r",
      "Warmup:   8%|██▏                        | 57/700 [00:38,  2.78it/s, step size=1.24e-03, acc. prob=0.789]"
     ]
    },
    {
     "name": "stderr",
     "output_type": "stream",
     "text": [
      "\r",
      "Warmup:   8%|██▏                        | 58/700 [00:38,  2.70it/s, step size=1.14e-03, acc. prob=0.789]"
     ]
    },
    {
     "name": "stderr",
     "output_type": "stream",
     "text": [
      "\r",
      "Warmup:   8%|██▎                        | 59/700 [00:39,  2.00it/s, step size=1.77e-03, acc. prob=0.792]"
     ]
    },
    {
     "name": "stderr",
     "output_type": "stream",
     "text": [
      "\r",
      "Warmup:   9%|██▎                        | 60/700 [00:39,  2.14it/s, step size=8.22e-04, acc. prob=0.787]"
     ]
    },
    {
     "name": "stderr",
     "output_type": "stream",
     "text": [
      "\r",
      "Warmup:   9%|██▎                        | 61/700 [00:40,  1.77it/s, step size=1.01e-03, acc. prob=0.788]"
     ]
    },
    {
     "name": "stderr",
     "output_type": "stream",
     "text": [
      "\r",
      "Warmup:   9%|██▍                        | 62/700 [00:41,  1.57it/s, step size=1.50e-03, acc. prob=0.791]"
     ]
    },
    {
     "name": "stderr",
     "output_type": "stream",
     "text": [
      "\r",
      "Warmup:   9%|██▍                        | 63/700 [00:41,  1.77it/s, step size=1.80e-03, acc. prob=0.793]"
     ]
    },
    {
     "name": "stderr",
     "output_type": "stream",
     "text": [
      "\r",
      "Warmup:   9%|██▍                        | 64/700 [00:42,  1.94it/s, step size=2.72e-03, acc. prob=0.796]"
     ]
    },
    {
     "name": "stderr",
     "output_type": "stream",
     "text": [
      "\r",
      "Warmup:   9%|██▌                        | 65/700 [00:42,  2.38it/s, step size=9.43e-04, acc. prob=0.788]"
     ]
    },
    {
     "name": "stderr",
     "output_type": "stream",
     "text": [
      "\r",
      "Warmup:   9%|██▌                        | 66/700 [00:43,  1.83it/s, step size=1.41e-03, acc. prob=0.791]"
     ]
    },
    {
     "name": "stderr",
     "output_type": "stream",
     "text": [
      "\r",
      "Warmup:  10%|██▌                        | 67/700 [00:43,  1.98it/s, step size=2.01e-03, acc. prob=0.794]"
     ]
    },
    {
     "name": "stderr",
     "output_type": "stream",
     "text": [
      "\r",
      "Warmup:  10%|██▌                        | 68/700 [00:44,  2.07it/s, step size=2.85e-03, acc. prob=0.796]"
     ]
    },
    {
     "name": "stderr",
     "output_type": "stream",
     "text": [
      "\r",
      "Warmup:  10%|██▋                        | 69/700 [00:44,  2.51it/s, step size=3.29e-03, acc. prob=0.797]"
     ]
    },
    {
     "name": "stderr",
     "output_type": "stream",
     "text": [
      "\r",
      "Warmup:  10%|██▋                        | 70/700 [00:44,  2.97it/s, step size=8.60e-04, acc. prob=0.788]"
     ]
    },
    {
     "name": "stderr",
     "output_type": "stream",
     "text": [
      "\r",
      "Warmup:  10%|██▋                        | 71/700 [00:45,  2.11it/s, step size=9.85e-04, acc. prob=0.789]"
     ]
    },
    {
     "name": "stderr",
     "output_type": "stream",
     "text": [
      "\r",
      "Warmup:  10%|██▊                        | 72/700 [00:46,  1.73it/s, step size=1.45e-03, acc. prob=0.792]"
     ]
    },
    {
     "name": "stderr",
     "output_type": "stream",
     "text": [
      "\r",
      "Warmup:  10%|██▊                        | 73/700 [00:46,  1.91it/s, step size=1.56e-03, acc. prob=0.792]"
     ]
    },
    {
     "name": "stderr",
     "output_type": "stream",
     "text": [
      "\r",
      "Warmup:  11%|██▊                        | 74/700 [00:46,  2.05it/s, step size=2.32e-03, acc. prob=0.795]"
     ]
    },
    {
     "name": "stderr",
     "output_type": "stream",
     "text": [
      "\r",
      "Warmup:  11%|██▉                        | 75/700 [00:47,  2.18it/s, step size=1.88e-03, acc. prob=0.794]"
     ]
    },
    {
     "name": "stderr",
     "output_type": "stream",
     "text": [
      "\r",
      "Warmup:  11%|██▉                        | 76/700 [00:47,  2.27it/s, step size=1.38e-03, acc. prob=0.792]"
     ]
    },
    {
     "name": "stderr",
     "output_type": "stream",
     "text": [
      "\r",
      "Warmup:  11%|██▉                        | 77/700 [00:48,  2.32it/s, step size=2.03e-03, acc. prob=0.794]"
     ]
    },
    {
     "name": "stderr",
     "output_type": "stream",
     "text": [
      "\r",
      "Warmup:  11%|███                        | 78/700 [00:48,  2.38it/s, step size=1.26e-03, acc. prob=0.791]"
     ]
    },
    {
     "name": "stderr",
     "output_type": "stream",
     "text": [
      "\r",
      "Warmup:  11%|███                        | 79/700 [00:48,  2.43it/s, step size=1.64e-03, acc. prob=0.793]"
     ]
    },
    {
     "name": "stderr",
     "output_type": "stream",
     "text": [
      "\r",
      "Warmup:  11%|███                        | 80/700 [00:49,  2.46it/s, step size=1.56e-03, acc. prob=0.793]"
     ]
    },
    {
     "name": "stderr",
     "output_type": "stream",
     "text": [
      "\r",
      "Warmup:  12%|███                        | 81/700 [00:49,  2.49it/s, step size=2.15e-03, acc. prob=0.795]"
     ]
    },
    {
     "name": "stderr",
     "output_type": "stream",
     "text": [
      "\r",
      "Warmup:  12%|███▏                       | 82/700 [00:50,  2.50it/s, step size=1.96e-03, acc. prob=0.794]"
     ]
    },
    {
     "name": "stderr",
     "output_type": "stream",
     "text": [
      "\r",
      "Warmup:  12%|███▏                       | 83/700 [00:50,  2.48it/s, step size=1.64e-03, acc. prob=0.793]"
     ]
    },
    {
     "name": "stderr",
     "output_type": "stream",
     "text": [
      "\r",
      "Warmup:  12%|███▏                       | 84/700 [00:50,  2.50it/s, step size=2.40e-03, acc. prob=0.796]"
     ]
    },
    {
     "name": "stderr",
     "output_type": "stream",
     "text": [
      "\r",
      "Warmup:  12%|███▎                       | 85/700 [00:51,  2.96it/s, step size=1.40e-03, acc. prob=0.792]"
     ]
    },
    {
     "name": "stderr",
     "output_type": "stream",
     "text": [
      "\r",
      "Warmup:  12%|███▎                       | 86/700 [00:51,  2.83it/s, step size=1.71e-03, acc. prob=0.794]"
     ]
    },
    {
     "name": "stderr",
     "output_type": "stream",
     "text": [
      "\r",
      "Warmup:  12%|███▎                       | 87/700 [00:51,  2.74it/s, step size=1.72e-03, acc. prob=0.794]"
     ]
    },
    {
     "name": "stderr",
     "output_type": "stream",
     "text": [
      "\r",
      "Warmup:  13%|███▍                       | 88/700 [00:52,  2.68it/s, step size=2.13e-03, acc. prob=0.795]"
     ]
    },
    {
     "name": "stderr",
     "output_type": "stream",
     "text": [
      "\r",
      "Warmup:  13%|███▍                       | 89/700 [00:52,  2.64it/s, step size=2.09e-03, acc. prob=0.795]"
     ]
    },
    {
     "name": "stderr",
     "output_type": "stream",
     "text": [
      "\r",
      "Warmup:  13%|███▍                       | 90/700 [00:53,  2.58it/s, step size=2.05e-03, acc. prob=0.795]"
     ]
    },
    {
     "name": "stderr",
     "output_type": "stream",
     "text": [
      "\r",
      "Warmup:  13%|███▌                       | 91/700 [00:53,  2.58it/s, step size=2.77e-03, acc. prob=0.797]"
     ]
    },
    {
     "name": "stderr",
     "output_type": "stream",
     "text": [
      "\r",
      "Warmup:  13%|███▌                       | 92/700 [00:53,  3.04it/s, step size=1.99e-03, acc. prob=0.795]"
     ]
    },
    {
     "name": "stderr",
     "output_type": "stream",
     "text": [
      "\r",
      "Warmup:  13%|███▌                       | 93/700 [00:53,  2.85it/s, step size=2.07e-03, acc. prob=0.795]"
     ]
    },
    {
     "name": "stderr",
     "output_type": "stream",
     "text": [
      "\r",
      "Warmup:  13%|███▋                       | 94/700 [00:54,  3.25it/s, step size=2.54e-03, acc. prob=0.796]"
     ]
    },
    {
     "name": "stderr",
     "output_type": "stream",
     "text": [
      "\r",
      "Warmup:  14%|███▋                       | 95/700 [00:54,  3.62it/s, step size=7.65e-04, acc. prob=0.789]"
     ]
    },
    {
     "name": "stderr",
     "output_type": "stream",
     "text": [
      "\r",
      "Warmup:  14%|███▋                       | 96/700 [00:55,  2.31it/s, step size=1.08e-03, acc. prob=0.791]"
     ]
    },
    {
     "name": "stderr",
     "output_type": "stream",
     "text": [
      "\r",
      "Warmup:  14%|███▋                       | 97/700 [00:55,  2.38it/s, step size=1.44e-03, acc. prob=0.793]"
     ]
    },
    {
     "name": "stderr",
     "output_type": "stream",
     "text": [
      "\r",
      "Warmup:  14%|███▊                       | 98/700 [00:55,  2.43it/s, step size=1.77e-03, acc. prob=0.794]"
     ]
    },
    {
     "name": "stderr",
     "output_type": "stream",
     "text": [
      "\r",
      "Warmup:  14%|███▊                       | 99/700 [00:56,  2.18it/s, step size=8.48e-02, acc. prob=0.793]"
     ]
    },
    {
     "name": "stderr",
     "output_type": "stream",
     "text": [
      "\r",
      "Warmup:  14%|███▋                      | 100/700 [00:56,  2.28it/s, step size=9.70e-01, acc. prob=0.794]"
     ]
    },
    {
     "name": "stderr",
     "output_type": "stream",
     "text": [
      "\r",
      "Warmup:  15%|███▊                      | 102/700 [00:57,  3.53it/s, step size=8.71e-02, acc. prob=0.785]"
     ]
    },
    {
     "name": "stderr",
     "output_type": "stream",
     "text": [
      "\r",
      "Warmup:  15%|███▊                      | 103/700 [00:57,  3.22it/s, step size=1.09e-01, acc. prob=0.786]"
     ]
    },
    {
     "name": "stderr",
     "output_type": "stream",
     "text": [
      "\r",
      "Warmup:  15%|███▊                      | 104/700 [00:57,  3.02it/s, step size=1.52e-01, acc. prob=0.788]"
     ]
    },
    {
     "name": "stderr",
     "output_type": "stream",
     "text": [
      "\r",
      "Warmup:  15%|███▉                      | 105/700 [00:58,  3.42it/s, step size=9.04e-02, acc. prob=0.786]"
     ]
    },
    {
     "name": "stderr",
     "output_type": "stream",
     "text": [
      "\r",
      "Warmup:  15%|███▉                      | 106/700 [00:58,  3.13it/s, step size=1.18e-01, acc. prob=0.787]"
     ]
    },
    {
     "name": "stderr",
     "output_type": "stream",
     "text": [
      "\r",
      "Warmup:  15%|███▉                      | 107/700 [00:58,  2.94it/s, step size=2.06e-01, acc. prob=0.789]"
     ]
    },
    {
     "name": "stderr",
     "output_type": "stream",
     "text": [
      "\r",
      "Warmup:  15%|████                      | 108/700 [00:59,  3.37it/s, step size=6.37e-02, acc. prob=0.786]"
     ]
    },
    {
     "name": "stderr",
     "output_type": "stream",
     "text": [
      "\r",
      "Warmup:  16%|████                      | 109/700 [00:59,  2.26it/s, step size=1.04e-01, acc. prob=0.787]"
     ]
    },
    {
     "name": "stderr",
     "output_type": "stream",
     "text": [
      "\r",
      "Warmup:  16%|████                      | 110/700 [01:00,  2.33it/s, step size=1.36e-01, acc. prob=0.788]"
     ]
    },
    {
     "name": "stderr",
     "output_type": "stream",
     "text": [
      "\r",
      "Warmup:  16%|████                      | 111/700 [01:00,  2.72it/s, step size=1.62e-01, acc. prob=0.789]"
     ]
    },
    {
     "name": "stderr",
     "output_type": "stream",
     "text": [
      "\r",
      "Warmup:  16%|████▏                     | 112/700 [01:00,  3.17it/s, step size=1.96e-01, acc. prob=0.789]"
     ]
    },
    {
     "name": "stderr",
     "output_type": "stream",
     "text": [
      "\r",
      "Warmup:  16%|████▏                     | 113/700 [01:00,  3.58it/s, step size=3.51e-01, acc. prob=0.791]"
     ]
    },
    {
     "name": "stderr",
     "output_type": "stream",
     "text": [
      "\r",
      "Warmup:  16%|████▎                     | 115/700 [01:01,  2.88it/s, step size=5.51e-02, acc. prob=0.786]"
     ]
    },
    {
     "name": "stderr",
     "output_type": "stream",
     "text": [
      "\r",
      "Warmup:  17%|████▎                     | 116/700 [01:02,  2.18it/s, step size=1.00e-01, acc. prob=0.788]"
     ]
    },
    {
     "name": "stderr",
     "output_type": "stream",
     "text": [
      "\r",
      "Warmup:  17%|████▎                     | 117/700 [01:02,  2.27it/s, step size=1.66e-01, acc. prob=0.789]"
     ]
    },
    {
     "name": "stderr",
     "output_type": "stream",
     "text": [
      "\r",
      "Warmup:  17%|████▍                     | 118/700 [01:03,  2.67it/s, step size=7.58e-02, acc. prob=0.787]"
     ]
    },
    {
     "name": "stderr",
     "output_type": "stream",
     "text": [
      "\r",
      "Warmup:  17%|████▍                     | 119/700 [01:03,  2.61it/s, step size=1.00e-01, acc. prob=0.788]"
     ]
    },
    {
     "name": "stderr",
     "output_type": "stream",
     "text": [
      "\r",
      "Warmup:  17%|████▍                     | 120/700 [01:03,  2.56it/s, step size=1.80e-01, acc. prob=0.790]"
     ]
    },
    {
     "name": "stderr",
     "output_type": "stream",
     "text": [
      "\r",
      "Warmup:  17%|████▍                     | 121/700 [01:04,  2.98it/s, step size=2.78e-02, acc. prob=0.784]"
     ]
    },
    {
     "name": "stderr",
     "output_type": "stream",
     "text": [
      "\r",
      "Warmup:  17%|████▌                     | 122/700 [01:04,  2.10it/s, step size=5.13e-02, acc. prob=0.786]"
     ]
    },
    {
     "name": "stderr",
     "output_type": "stream",
     "text": [
      "\r",
      "Warmup:  18%|████▌                     | 123/700 [01:05,  1.72it/s, step size=8.55e-02, acc. prob=0.788]"
     ]
    },
    {
     "name": "stderr",
     "output_type": "stream",
     "text": [
      "\r",
      "Warmup:  18%|████▌                     | 124/700 [01:06,  1.89it/s, step size=1.45e-01, acc. prob=0.789]"
     ]
    },
    {
     "name": "stderr",
     "output_type": "stream",
     "text": [
      "\r",
      "Warmup:  18%|████▋                     | 125/700 [01:06,  2.31it/s, step size=1.06e-01, acc. prob=0.788]"
     ]
    },
    {
     "name": "stderr",
     "output_type": "stream",
     "text": [
      "\r",
      "Warmup:  18%|████▋                     | 126/700 [01:06,  2.34it/s, step size=1.61e-01, acc. prob=0.790]"
     ]
    },
    {
     "name": "stderr",
     "output_type": "stream",
     "text": [
      "\r",
      "Warmup:  18%|████▋                     | 127/700 [01:07,  2.80it/s, step size=5.53e-02, acc. prob=0.787]"
     ]
    },
    {
     "name": "stderr",
     "output_type": "stream",
     "text": [
      "\r",
      "Warmup:  18%|████▊                     | 128/700 [01:07,  2.05it/s, step size=7.17e-02, acc. prob=0.787]"
     ]
    },
    {
     "name": "stderr",
     "output_type": "stream",
     "text": [
      "\r",
      "Warmup:  18%|████▊                     | 129/700 [01:08,  2.17it/s, step size=9.97e-02, acc. prob=0.788]"
     ]
    },
    {
     "name": "stderr",
     "output_type": "stream",
     "text": [
      "\r",
      "Warmup:  19%|████▊                     | 130/700 [01:08,  2.28it/s, step size=1.13e-01, acc. prob=0.789]"
     ]
    },
    {
     "name": "stderr",
     "output_type": "stream",
     "text": [
      "\r",
      "Warmup:  19%|████▊                     | 131/700 [01:08,  2.33it/s, step size=1.01e-01, acc. prob=0.789]"
     ]
    },
    {
     "name": "stderr",
     "output_type": "stream",
     "text": [
      "\r",
      "Warmup:  19%|████▉                     | 132/700 [01:09,  2.37it/s, step size=5.22e-02, acc. prob=0.787]"
     ]
    },
    {
     "name": "stderr",
     "output_type": "stream",
     "text": [
      "\r",
      "Warmup:  19%|████▉                     | 133/700 [01:10,  1.88it/s, step size=8.62e-02, acc. prob=0.788]"
     ]
    },
    {
     "name": "stderr",
     "output_type": "stream",
     "text": [
      "\r",
      "Warmup:  19%|████▉                     | 134/700 [01:10,  2.03it/s, step size=9.41e-02, acc. prob=0.788]"
     ]
    },
    {
     "name": "stderr",
     "output_type": "stream",
     "text": [
      "\r",
      "Warmup:  19%|█████                     | 135/700 [01:10,  2.16it/s, step size=1.04e-01, acc. prob=0.789]"
     ]
    },
    {
     "name": "stderr",
     "output_type": "stream",
     "text": [
      "\r",
      "Warmup:  19%|█████                     | 136/700 [01:11,  2.27it/s, step size=1.77e-01, acc. prob=0.790]"
     ]
    },
    {
     "name": "stderr",
     "output_type": "stream",
     "text": [
      "\r",
      "Warmup:  20%|█████                     | 137/700 [01:11,  2.72it/s, step size=9.37e-02, acc. prob=0.789]"
     ]
    },
    {
     "name": "stderr",
     "output_type": "stream",
     "text": [
      "\r",
      "Warmup:  20%|█████▏                    | 138/700 [01:11,  2.64it/s, step size=9.32e-02, acc. prob=0.789]"
     ]
    },
    {
     "name": "stderr",
     "output_type": "stream",
     "text": [
      "\r",
      "Warmup:  20%|█████▏                    | 139/700 [01:12,  2.56it/s, step size=1.42e-01, acc. prob=0.790]"
     ]
    },
    {
     "name": "stderr",
     "output_type": "stream",
     "text": [
      "\r",
      "Warmup:  20%|█████▏                    | 140/700 [01:12,  3.00it/s, step size=8.83e-02, acc. prob=0.788]"
     ]
    },
    {
     "name": "stderr",
     "output_type": "stream",
     "text": [
      "\r",
      "Warmup:  20%|█████▏                    | 141/700 [01:12,  2.85it/s, step size=8.36e-02, acc. prob=0.788]"
     ]
    },
    {
     "name": "stderr",
     "output_type": "stream",
     "text": [
      "\r",
      "Warmup:  20%|█████▎                    | 142/700 [01:13,  2.75it/s, step size=1.38e-01, acc. prob=0.790]"
     ]
    },
    {
     "name": "stderr",
     "output_type": "stream",
     "text": [
      "\r",
      "Warmup:  20%|█████▎                    | 143/700 [01:13,  3.19it/s, step size=1.11e-01, acc. prob=0.789]"
     ]
    },
    {
     "name": "stderr",
     "output_type": "stream",
     "text": [
      "\r",
      "Warmup:  21%|█████▎                    | 144/700 [01:13,  2.93it/s, step size=1.59e-01, acc. prob=0.790]"
     ]
    },
    {
     "name": "stderr",
     "output_type": "stream",
     "text": [
      "\r",
      "Warmup:  21%|█████▍                    | 145/700 [01:14,  3.37it/s, step size=6.24e-02, acc. prob=0.788]"
     ]
    },
    {
     "name": "stderr",
     "output_type": "stream",
     "text": [
      "\r",
      "Warmup:  21%|█████▍                    | 146/700 [01:14,  3.05it/s, step size=8.00e-02, acc. prob=0.788]"
     ]
    },
    {
     "name": "stderr",
     "output_type": "stream",
     "text": [
      "\r",
      "Warmup:  21%|█████▍                    | 147/700 [01:14,  2.81it/s, step size=1.17e-01, acc. prob=0.790]"
     ]
    },
    {
     "name": "stderr",
     "output_type": "stream",
     "text": [
      "\r",
      "Warmup:  21%|█████▍                    | 148/700 [01:15,  2.71it/s, step size=5.59e-02, acc. prob=0.787]"
     ]
    },
    {
     "name": "stderr",
     "output_type": "stream",
     "text": [
      "\r",
      "Warmup:  21%|█████▌                    | 149/700 [01:16,  1.88it/s, step size=1.77e-01, acc. prob=0.789]"
     ]
    },
    {
     "name": "stderr",
     "output_type": "stream",
     "text": [
      "\r",
      "Warmup:  21%|█████▌                    | 150/700 [01:16,  2.31it/s, step size=5.73e-01, acc. prob=0.785]"
     ]
    },
    {
     "name": "stderr",
     "output_type": "stream",
     "text": [
      "\r",
      "Warmup:  22%|█████▋                    | 152/700 [01:17,  2.37it/s, step size=6.71e-02, acc. prob=0.781]"
     ]
    },
    {
     "name": "stderr",
     "output_type": "stream",
     "text": [
      "\r",
      "Warmup:  22%|█████▋                    | 153/700 [01:18,  1.93it/s, step size=8.37e-02, acc. prob=0.782]"
     ]
    },
    {
     "name": "stderr",
     "output_type": "stream",
     "text": [
      "\r",
      "Warmup:  22%|█████▋                    | 154/700 [01:18,  2.06it/s, step size=8.54e-02, acc. prob=0.783]"
     ]
    },
    {
     "name": "stderr",
     "output_type": "stream",
     "text": [
      "\r",
      "Warmup:  22%|█████▊                    | 155/700 [01:18,  2.15it/s, step size=1.07e-01, acc. prob=0.783]"
     ]
    },
    {
     "name": "stderr",
     "output_type": "stream",
     "text": [
      "\r",
      "Warmup:  22%|█████▊                    | 156/700 [01:19,  2.22it/s, step size=1.78e-01, acc. prob=0.785]"
     ]
    },
    {
     "name": "stderr",
     "output_type": "stream",
     "text": [
      "\r",
      "Warmup:  22%|█████▊                    | 157/700 [01:19,  2.66it/s, step size=5.10e-02, acc. prob=0.782]"
     ]
    },
    {
     "name": "stderr",
     "output_type": "stream",
     "text": [
      "\r",
      "Warmup:  23%|█████▊                    | 158/700 [01:20,  2.01it/s, step size=7.87e-02, acc. prob=0.783]"
     ]
    },
    {
     "name": "stderr",
     "output_type": "stream",
     "text": [
      "\r",
      "Warmup:  23%|█████▉                    | 159/700 [01:20,  2.13it/s, step size=1.42e-01, acc. prob=0.784]"
     ]
    },
    {
     "name": "stderr",
     "output_type": "stream",
     "text": [
      "\r",
      "Warmup:  23%|█████▉                    | 160/700 [01:21,  2.24it/s, step size=1.33e-01, acc. prob=0.784]"
     ]
    },
    {
     "name": "stderr",
     "output_type": "stream",
     "text": [
      "\r",
      "Warmup:  23%|█████▉                    | 161/700 [01:21,  2.31it/s, step size=2.45e-01, acc. prob=0.786]"
     ]
    },
    {
     "name": "stderr",
     "output_type": "stream",
     "text": [
      "\r",
      "Warmup:  23%|██████                    | 162/700 [01:21,  2.77it/s, step size=2.15e-02, acc. prob=0.781]"
     ]
    },
    {
     "name": "stderr",
     "output_type": "stream",
     "text": [
      "\r",
      "Warmup:  23%|██████                    | 163/700 [01:23,  1.36it/s, step size=4.07e-02, acc. prob=0.782]"
     ]
    },
    {
     "name": "stderr",
     "output_type": "stream",
     "text": [
      "\r",
      "Warmup:  23%|██████                    | 164/700 [01:24,  1.31it/s, step size=7.19e-02, acc. prob=0.783]"
     ]
    },
    {
     "name": "stderr",
     "output_type": "stream",
     "text": [
      "\r",
      "Warmup:  24%|██████▏                   | 165/700 [01:24,  1.52it/s, step size=9.81e-02, acc. prob=0.784]"
     ]
    },
    {
     "name": "stderr",
     "output_type": "stream",
     "text": [
      "\r",
      "Warmup:  24%|██████▏                   | 166/700 [01:25,  1.71it/s, step size=1.71e-01, acc. prob=0.785]"
     ]
    },
    {
     "name": "stderr",
     "output_type": "stream",
     "text": [
      "\r",
      "Warmup:  24%|██████▏                   | 167/700 [01:25,  2.12it/s, step size=3.99e-02, acc. prob=0.782]"
     ]
    },
    {
     "name": "stderr",
     "output_type": "stream",
     "text": [
      "\r",
      "Warmup:  24%|██████▏                   | 168/700 [01:26,  1.75it/s, step size=7.08e-02, acc. prob=0.784]"
     ]
    },
    {
     "name": "stderr",
     "output_type": "stream",
     "text": [
      "\r",
      "Warmup:  24%|██████▎                   | 169/700 [01:26,  1.93it/s, step size=1.26e-01, acc. prob=0.785]"
     ]
    },
    {
     "name": "stderr",
     "output_type": "stream",
     "text": [
      "\r",
      "Warmup:  24%|██████▎                   | 170/700 [01:26,  2.07it/s, step size=5.70e-02, acc. prob=0.783]"
     ]
    },
    {
     "name": "stderr",
     "output_type": "stream",
     "text": [
      "\r",
      "Warmup:  24%|██████▎                   | 171/700 [01:27,  1.73it/s, step size=9.56e-02, acc. prob=0.784]"
     ]
    },
    {
     "name": "stderr",
     "output_type": "stream",
     "text": [
      "\r",
      "Warmup:  25%|██████▍                   | 172/700 [01:28,  1.91it/s, step size=1.47e-01, acc. prob=0.785]"
     ]
    },
    {
     "name": "stderr",
     "output_type": "stream",
     "text": [
      "\r",
      "Warmup:  25%|██████▍                   | 173/700 [01:28,  2.33it/s, step size=7.51e-02, acc. prob=0.784]"
     ]
    },
    {
     "name": "stderr",
     "output_type": "stream",
     "text": [
      "\r",
      "Warmup:  25%|██████▍                   | 174/700 [01:28,  2.37it/s, step size=1.11e-01, acc. prob=0.785]"
     ]
    },
    {
     "name": "stderr",
     "output_type": "stream",
     "text": [
      "\r",
      "Warmup:  25%|██████▌                   | 175/700 [01:29,  2.40it/s, step size=1.01e-01, acc. prob=0.785]"
     ]
    },
    {
     "name": "stderr",
     "output_type": "stream",
     "text": [
      "\r",
      "Warmup:  25%|██████▌                   | 176/700 [01:29,  2.42it/s, step size=9.06e-02, acc. prob=0.784]"
     ]
    },
    {
     "name": "stderr",
     "output_type": "stream",
     "text": [
      "\r",
      "Warmup:  25%|██████▌                   | 177/700 [01:29,  2.43it/s, step size=1.56e-01, acc. prob=0.786]"
     ]
    },
    {
     "name": "stderr",
     "output_type": "stream",
     "text": [
      "\r",
      "Warmup:  25%|██████▌                   | 178/700 [01:30,  2.87it/s, step size=8.92e-02, acc. prob=0.785]"
     ]
    },
    {
     "name": "stderr",
     "output_type": "stream",
     "text": [
      "\r",
      "Warmup:  26%|██████▋                   | 179/700 [01:30,  2.75it/s, step size=1.47e-01, acc. prob=0.786]"
     ]
    },
    {
     "name": "stderr",
     "output_type": "stream",
     "text": [
      "\r",
      "Warmup:  26%|██████▋                   | 180/700 [01:30,  2.63it/s, step size=2.33e-01, acc. prob=0.787]"
     ]
    },
    {
     "name": "stderr",
     "output_type": "stream",
     "text": [
      "\r",
      "Warmup:  26%|██████▋                   | 181/700 [01:31,  3.09it/s, step size=7.96e-02, acc. prob=0.784]"
     ]
    },
    {
     "name": "stderr",
     "output_type": "stream",
     "text": [
      "\r",
      "Warmup:  26%|██████▊                   | 182/700 [01:31,  2.90it/s, step size=1.22e-01, acc. prob=0.785]"
     ]
    },
    {
     "name": "stderr",
     "output_type": "stream",
     "text": [
      "\r",
      "Warmup:  26%|██████▊                   | 183/700 [01:31,  2.77it/s, step size=7.83e-02, acc. prob=0.784]"
     ]
    },
    {
     "name": "stderr",
     "output_type": "stream",
     "text": [
      "\r",
      "Warmup:  26%|██████▊                   | 184/700 [01:32,  2.62it/s, step size=9.07e-02, acc. prob=0.785]"
     ]
    },
    {
     "name": "stderr",
     "output_type": "stream",
     "text": [
      "\r",
      "Warmup:  26%|██████▊                   | 185/700 [01:32,  2.56it/s, step size=1.40e-01, acc. prob=0.786]"
     ]
    },
    {
     "name": "stderr",
     "output_type": "stream",
     "text": [
      "\r",
      "Warmup:  27%|██████▉                   | 186/700 [01:33,  2.51it/s, step size=1.74e-01, acc. prob=0.786]"
     ]
    },
    {
     "name": "stderr",
     "output_type": "stream",
     "text": [
      "\r",
      "Warmup:  27%|██████▉                   | 187/700 [01:33,  2.96it/s, step size=1.20e-01, acc. prob=0.785]"
     ]
    },
    {
     "name": "stderr",
     "output_type": "stream",
     "text": [
      "\r",
      "Warmup:  27%|██████▉                   | 188/700 [01:33,  2.82it/s, step size=1.83e-01, acc. prob=0.786]"
     ]
    },
    {
     "name": "stderr",
     "output_type": "stream",
     "text": [
      "\r",
      "Warmup:  27%|███████                   | 189/700 [01:33,  3.27it/s, step size=2.19e-01, acc. prob=0.787]"
     ]
    },
    {
     "name": "stderr",
     "output_type": "stream",
     "text": [
      "\r",
      "Warmup:  27%|███████                   | 190/700 [01:34,  3.68it/s, step size=3.96e-02, acc. prob=0.783]"
     ]
    },
    {
     "name": "stderr",
     "output_type": "stream",
     "text": [
      "\r",
      "Warmup:  27%|███████                   | 191/700 [01:34,  2.32it/s, step size=6.68e-02, acc. prob=0.784]"
     ]
    },
    {
     "name": "stderr",
     "output_type": "stream",
     "text": [
      "\r",
      "Warmup:  27%|███████▏                  | 192/700 [01:35,  1.85it/s, step size=9.55e-02, acc. prob=0.785]"
     ]
    },
    {
     "name": "stderr",
     "output_type": "stream",
     "text": [
      "\r",
      "Warmup:  28%|███████▏                  | 193/700 [01:36,  2.00it/s, step size=1.48e-01, acc. prob=0.786]"
     ]
    },
    {
     "name": "stderr",
     "output_type": "stream",
     "text": [
      "\r",
      "Warmup:  28%|███████▏                  | 194/700 [01:36,  2.44it/s, step size=8.85e-02, acc. prob=0.785]"
     ]
    },
    {
     "name": "stderr",
     "output_type": "stream",
     "text": [
      "\r",
      "Warmup:  28%|███████▏                  | 195/700 [01:36,  2.46it/s, step size=5.50e-02, acc. prob=0.784]"
     ]
    },
    {
     "name": "stderr",
     "output_type": "stream",
     "text": [
      "\r",
      "Warmup:  28%|███████▎                  | 196/700 [01:37,  1.91it/s, step size=9.06e-02, acc. prob=0.785]"
     ]
    },
    {
     "name": "stderr",
     "output_type": "stream",
     "text": [
      "\r",
      "Warmup:  28%|███████▎                  | 197/700 [01:37,  2.06it/s, step size=1.49e-01, acc. prob=0.786]"
     ]
    },
    {
     "name": "stderr",
     "output_type": "stream",
     "text": [
      "\r",
      "Warmup:  28%|███████▎                  | 198/700 [01:38,  2.52it/s, step size=1.11e-01, acc. prob=0.786]"
     ]
    },
    {
     "name": "stderr",
     "output_type": "stream",
     "text": [
      "\r",
      "Warmup:  28%|███████▍                  | 199/700 [01:38,  2.51it/s, step size=1.02e-01, acc. prob=0.785]"
     ]
    },
    {
     "name": "stderr",
     "output_type": "stream",
     "text": [
      "\r",
      "Warmup:  29%|███████▍                  | 200/700 [01:38,  2.50it/s, step size=1.02e-01, acc. prob=0.785]"
     ]
    },
    {
     "name": "stderr",
     "output_type": "stream",
     "text": [
      "\r",
      "Warmup:  29%|███████▍                  | 201/700 [01:39,  2.52it/s, step size=1.02e-01, acc. prob=0.865]"
     ]
    },
    {
     "name": "stderr",
     "output_type": "stream",
     "text": [
      "\r",
      "Sample:  29%|███████▌                  | 202/700 [01:39,  2.54it/s, step size=1.02e-01, acc. prob=0.902]"
     ]
    },
    {
     "name": "stderr",
     "output_type": "stream",
     "text": [
      "\r",
      "Sample:  29%|███████▌                  | 203/700 [01:40,  2.51it/s, step size=1.02e-01, acc. prob=0.872]"
     ]
    },
    {
     "name": "stderr",
     "output_type": "stream",
     "text": [
      "\r",
      "Sample:  29%|███████▌                  | 204/700 [01:40,  2.51it/s, step size=1.02e-01, acc. prob=0.871]"
     ]
    },
    {
     "name": "stderr",
     "output_type": "stream",
     "text": [
      "\r",
      "Sample:  29%|███████▌                  | 205/700 [01:40,  2.51it/s, step size=1.02e-01, acc. prob=0.857]"
     ]
    },
    {
     "name": "stderr",
     "output_type": "stream",
     "text": [
      "\r",
      "Sample:  29%|███████▋                  | 206/700 [01:41,  2.49it/s, step size=1.02e-01, acc. prob=0.869]"
     ]
    },
    {
     "name": "stderr",
     "output_type": "stream",
     "text": [
      "\r",
      "Sample:  30%|███████▋                  | 207/700 [01:41,  2.48it/s, step size=1.02e-01, acc. prob=0.887]"
     ]
    },
    {
     "name": "stderr",
     "output_type": "stream",
     "text": [
      "\r",
      "Sample:  30%|███████▋                  | 208/700 [01:42,  2.44it/s, step size=1.02e-01, acc. prob=0.897]"
     ]
    },
    {
     "name": "stderr",
     "output_type": "stream",
     "text": [
      "\r",
      "Sample:  30%|███████▊                  | 209/700 [01:42,  2.42it/s, step size=1.02e-01, acc. prob=0.879]"
     ]
    },
    {
     "name": "stderr",
     "output_type": "stream",
     "text": [
      "\r",
      "Sample:  30%|███████▊                  | 210/700 [01:42,  2.40it/s, step size=1.02e-01, acc. prob=0.891]"
     ]
    },
    {
     "name": "stderr",
     "output_type": "stream",
     "text": [
      "\r",
      "Sample:  30%|███████▊                  | 211/700 [01:43,  2.38it/s, step size=1.02e-01, acc. prob=0.884]"
     ]
    },
    {
     "name": "stderr",
     "output_type": "stream",
     "text": [
      "\r",
      "Sample:  30%|███████▊                  | 212/700 [01:43,  2.37it/s, step size=1.02e-01, acc. prob=0.892]"
     ]
    },
    {
     "name": "stderr",
     "output_type": "stream",
     "text": [
      "\r",
      "Sample:  30%|███████▉                  | 213/700 [01:44,  2.36it/s, step size=1.02e-01, acc. prob=0.884]"
     ]
    },
    {
     "name": "stderr",
     "output_type": "stream",
     "text": [
      "\r",
      "Sample:  31%|███████▉                  | 214/700 [01:44,  2.38it/s, step size=1.02e-01, acc. prob=0.878]"
     ]
    },
    {
     "name": "stderr",
     "output_type": "stream",
     "text": [
      "\r",
      "Sample:  31%|███████▉                  | 215/700 [01:45,  2.41it/s, step size=1.02e-01, acc. prob=0.868]"
     ]
    },
    {
     "name": "stderr",
     "output_type": "stream",
     "text": [
      "\r",
      "Sample:  31%|████████                  | 216/700 [01:45,  2.38it/s, step size=1.02e-01, acc. prob=0.876]"
     ]
    },
    {
     "name": "stderr",
     "output_type": "stream",
     "text": [
      "\r",
      "Sample:  31%|████████                  | 217/700 [01:45,  2.32it/s, step size=1.02e-01, acc. prob=0.876]"
     ]
    },
    {
     "name": "stderr",
     "output_type": "stream",
     "text": [
      "\r",
      "Sample:  31%|████████                  | 218/700 [01:46,  2.29it/s, step size=1.02e-01, acc. prob=0.878]"
     ]
    },
    {
     "name": "stderr",
     "output_type": "stream",
     "text": [
      "\r",
      "Sample:  31%|████████▏                 | 219/700 [01:46,  2.33it/s, step size=1.02e-01, acc. prob=0.868]"
     ]
    },
    {
     "name": "stderr",
     "output_type": "stream",
     "text": [
      "\r",
      "Sample:  31%|████████▏                 | 220/700 [01:47,  2.35it/s, step size=1.02e-01, acc. prob=0.854]"
     ]
    },
    {
     "name": "stderr",
     "output_type": "stream",
     "text": [
      "\r",
      "Sample:  32%|████████▏                 | 221/700 [01:47,  2.37it/s, step size=1.02e-01, acc. prob=0.853]"
     ]
    },
    {
     "name": "stderr",
     "output_type": "stream",
     "text": [
      "\r",
      "Sample:  32%|████████▏                 | 222/700 [01:47,  2.42it/s, step size=1.02e-01, acc. prob=0.858]"
     ]
    },
    {
     "name": "stderr",
     "output_type": "stream",
     "text": [
      "\r",
      "Sample:  32%|████████▎                 | 223/700 [01:48,  2.45it/s, step size=1.02e-01, acc. prob=0.863]"
     ]
    },
    {
     "name": "stderr",
     "output_type": "stream",
     "text": [
      "\r",
      "Sample:  32%|████████▎                 | 224/700 [01:48,  2.43it/s, step size=1.02e-01, acc. prob=0.861]"
     ]
    },
    {
     "name": "stderr",
     "output_type": "stream",
     "text": [
      "\r",
      "Sample:  32%|████████▎                 | 225/700 [01:49,  2.46it/s, step size=1.02e-01, acc. prob=0.854]"
     ]
    },
    {
     "name": "stderr",
     "output_type": "stream",
     "text": [
      "\r",
      "Sample:  32%|████████▍                 | 226/700 [01:49,  2.48it/s, step size=1.02e-01, acc. prob=0.854]"
     ]
    },
    {
     "name": "stderr",
     "output_type": "stream",
     "text": [
      "\r",
      "Sample:  32%|████████▍                 | 227/700 [01:49,  2.50it/s, step size=1.02e-01, acc. prob=0.856]"
     ]
    },
    {
     "name": "stderr",
     "output_type": "stream",
     "text": [
      "\r",
      "Sample:  33%|████████▍                 | 228/700 [01:50,  2.51it/s, step size=1.02e-01, acc. prob=0.860]"
     ]
    },
    {
     "name": "stderr",
     "output_type": "stream",
     "text": [
      "\r",
      "Sample:  33%|████████▌                 | 229/700 [01:50,  2.50it/s, step size=1.02e-01, acc. prob=0.852]"
     ]
    },
    {
     "name": "stderr",
     "output_type": "stream",
     "text": [
      "\r",
      "Sample:  33%|████████▌                 | 230/700 [01:51,  2.51it/s, step size=1.02e-01, acc. prob=0.856]"
     ]
    },
    {
     "name": "stderr",
     "output_type": "stream",
     "text": [
      "\r",
      "Sample:  33%|████████▌                 | 231/700 [01:51,  2.51it/s, step size=1.02e-01, acc. prob=0.857]"
     ]
    },
    {
     "name": "stderr",
     "output_type": "stream",
     "text": [
      "\r",
      "Sample:  33%|████████▌                 | 232/700 [01:51,  2.52it/s, step size=1.02e-01, acc. prob=0.856]"
     ]
    },
    {
     "name": "stderr",
     "output_type": "stream",
     "text": [
      "\r",
      "Sample:  33%|████████▋                 | 233/700 [01:52,  2.52it/s, step size=1.02e-01, acc. prob=0.859]"
     ]
    },
    {
     "name": "stderr",
     "output_type": "stream",
     "text": [
      "\r",
      "Sample:  33%|████████▋                 | 234/700 [01:52,  2.50it/s, step size=1.02e-01, acc. prob=0.861]"
     ]
    },
    {
     "name": "stderr",
     "output_type": "stream",
     "text": [
      "\r",
      "Sample:  34%|████████▋                 | 235/700 [01:53,  2.50it/s, step size=1.02e-01, acc. prob=0.865]"
     ]
    },
    {
     "name": "stderr",
     "output_type": "stream",
     "text": [
      "\r",
      "Sample:  34%|████████▊                 | 236/700 [01:53,  2.52it/s, step size=1.02e-01, acc. prob=0.859]"
     ]
    },
    {
     "name": "stderr",
     "output_type": "stream",
     "text": [
      "\r",
      "Sample:  34%|████████▊                 | 237/700 [01:53,  2.53it/s, step size=1.02e-01, acc. prob=0.863]"
     ]
    },
    {
     "name": "stderr",
     "output_type": "stream",
     "text": [
      "\r",
      "Sample:  34%|████████▊                 | 238/700 [01:54,  2.47it/s, step size=1.02e-01, acc. prob=0.861]"
     ]
    },
    {
     "name": "stderr",
     "output_type": "stream",
     "text": [
      "\r",
      "Sample:  34%|████████▉                 | 239/700 [01:54,  2.48it/s, step size=1.02e-01, acc. prob=0.864]"
     ]
    },
    {
     "name": "stderr",
     "output_type": "stream",
     "text": [
      "\r",
      "Sample:  34%|████████▉                 | 240/700 [01:55,  2.49it/s, step size=1.02e-01, acc. prob=0.863]"
     ]
    },
    {
     "name": "stderr",
     "output_type": "stream",
     "text": [
      "\r",
      "Sample:  34%|████████▉                 | 241/700 [01:55,  2.49it/s, step size=1.02e-01, acc. prob=0.859]"
     ]
    },
    {
     "name": "stderr",
     "output_type": "stream",
     "text": [
      "\r",
      "Sample:  35%|████████▉                 | 242/700 [01:55,  2.50it/s, step size=1.02e-01, acc. prob=0.862]"
     ]
    },
    {
     "name": "stderr",
     "output_type": "stream",
     "text": [
      "\r",
      "Sample:  35%|█████████                 | 243/700 [01:56,  2.49it/s, step size=1.02e-01, acc. prob=0.863]"
     ]
    },
    {
     "name": "stderr",
     "output_type": "stream",
     "text": [
      "\r",
      "Sample:  35%|█████████                 | 244/700 [01:56,  2.48it/s, step size=1.02e-01, acc. prob=0.865]"
     ]
    },
    {
     "name": "stderr",
     "output_type": "stream",
     "text": [
      "\r",
      "Sample:  35%|█████████                 | 245/700 [01:57,  2.50it/s, step size=1.02e-01, acc. prob=0.868]"
     ]
    },
    {
     "name": "stderr",
     "output_type": "stream",
     "text": [
      "\r",
      "Sample:  35%|█████████▏                | 246/700 [01:57,  2.50it/s, step size=1.02e-01, acc. prob=0.863]"
     ]
    },
    {
     "name": "stderr",
     "output_type": "stream",
     "text": [
      "\r",
      "Sample:  35%|█████████▏                | 247/700 [01:57,  2.52it/s, step size=1.02e-01, acc. prob=0.865]"
     ]
    },
    {
     "name": "stderr",
     "output_type": "stream",
     "text": [
      "\r",
      "Sample:  35%|█████████▏                | 248/700 [01:58,  2.52it/s, step size=1.02e-01, acc. prob=0.863]"
     ]
    },
    {
     "name": "stderr",
     "output_type": "stream",
     "text": [
      "\r",
      "Sample:  36%|█████████▏                | 249/700 [01:58,  2.51it/s, step size=1.02e-01, acc. prob=0.861]"
     ]
    },
    {
     "name": "stderr",
     "output_type": "stream",
     "text": [
      "\r",
      "Sample:  36%|█████████▎                | 250/700 [01:59,  2.49it/s, step size=1.02e-01, acc. prob=0.859]"
     ]
    },
    {
     "name": "stderr",
     "output_type": "stream",
     "text": [
      "\r",
      "Sample:  36%|█████████▎                | 251/700 [01:59,  2.49it/s, step size=1.02e-01, acc. prob=0.862]"
     ]
    },
    {
     "name": "stderr",
     "output_type": "stream",
     "text": [
      "\r",
      "Sample:  36%|█████████▎                | 252/700 [02:00,  2.45it/s, step size=1.02e-01, acc. prob=0.864]"
     ]
    },
    {
     "name": "stderr",
     "output_type": "stream",
     "text": [
      "\r",
      "Sample:  36%|█████████▍                | 253/700 [02:00,  2.44it/s, step size=1.02e-01, acc. prob=0.863]"
     ]
    },
    {
     "name": "stderr",
     "output_type": "stream",
     "text": [
      "\r",
      "Sample:  36%|█████████▍                | 254/700 [02:00,  2.47it/s, step size=1.02e-01, acc. prob=0.865]"
     ]
    },
    {
     "name": "stderr",
     "output_type": "stream",
     "text": [
      "\r",
      "Sample:  36%|█████████▍                | 255/700 [02:01,  2.48it/s, step size=1.02e-01, acc. prob=0.863]"
     ]
    },
    {
     "name": "stderr",
     "output_type": "stream",
     "text": [
      "\r",
      "Sample:  37%|█████████▌                | 256/700 [02:01,  2.49it/s, step size=1.02e-01, acc. prob=0.864]"
     ]
    },
    {
     "name": "stderr",
     "output_type": "stream",
     "text": [
      "\r",
      "Sample:  37%|█████████▌                | 257/700 [02:02,  2.50it/s, step size=1.02e-01, acc. prob=0.864]"
     ]
    },
    {
     "name": "stderr",
     "output_type": "stream",
     "text": [
      "\r",
      "Sample:  37%|█████████▌                | 258/700 [02:02,  2.51it/s, step size=1.02e-01, acc. prob=0.867]"
     ]
    },
    {
     "name": "stderr",
     "output_type": "stream",
     "text": [
      "\r",
      "Sample:  37%|█████████▌                | 259/700 [02:02,  2.49it/s, step size=1.02e-01, acc. prob=0.868]"
     ]
    },
    {
     "name": "stderr",
     "output_type": "stream",
     "text": [
      "\r",
      "Sample:  37%|█████████▋                | 260/700 [02:03,  2.48it/s, step size=1.02e-01, acc. prob=0.870]"
     ]
    },
    {
     "name": "stderr",
     "output_type": "stream",
     "text": [
      "\r",
      "Sample:  37%|█████████▋                | 261/700 [02:03,  2.47it/s, step size=1.02e-01, acc. prob=0.871]"
     ]
    },
    {
     "name": "stderr",
     "output_type": "stream",
     "text": [
      "\r",
      "Sample:  37%|█████████▋                | 262/700 [02:04,  2.49it/s, step size=1.02e-01, acc. prob=0.873]"
     ]
    },
    {
     "name": "stderr",
     "output_type": "stream",
     "text": [
      "\r",
      "Sample:  38%|█████████▊                | 263/700 [02:04,  2.50it/s, step size=1.02e-01, acc. prob=0.873]"
     ]
    },
    {
     "name": "stderr",
     "output_type": "stream",
     "text": [
      "\r",
      "Sample:  38%|█████████▊                | 264/700 [02:04,  2.51it/s, step size=1.02e-01, acc. prob=0.874]"
     ]
    },
    {
     "name": "stderr",
     "output_type": "stream",
     "text": [
      "\r",
      "Sample:  38%|█████████▊                | 265/700 [02:05,  2.51it/s, step size=1.02e-01, acc. prob=0.876]"
     ]
    },
    {
     "name": "stderr",
     "output_type": "stream",
     "text": [
      "\r",
      "Sample:  38%|█████████▉                | 266/700 [02:05,  2.49it/s, step size=1.02e-01, acc. prob=0.877]"
     ]
    },
    {
     "name": "stderr",
     "output_type": "stream",
     "text": [
      "\r",
      "Sample:  38%|█████████▉                | 267/700 [02:06,  2.49it/s, step size=1.02e-01, acc. prob=0.876]"
     ]
    },
    {
     "name": "stderr",
     "output_type": "stream",
     "text": [
      "\r",
      "Sample:  38%|█████████▉                | 268/700 [02:06,  2.48it/s, step size=1.02e-01, acc. prob=0.878]"
     ]
    },
    {
     "name": "stderr",
     "output_type": "stream",
     "text": [
      "\r",
      "Sample:  38%|█████████▉                | 269/700 [02:06,  2.47it/s, step size=1.02e-01, acc. prob=0.878]"
     ]
    },
    {
     "name": "stderr",
     "output_type": "stream",
     "text": [
      "\r",
      "Sample:  39%|██████████                | 270/700 [02:07,  2.48it/s, step size=1.02e-01, acc. prob=0.879]"
     ]
    },
    {
     "name": "stderr",
     "output_type": "stream",
     "text": [
      "\r",
      "Sample:  39%|██████████                | 271/700 [02:07,  2.49it/s, step size=1.02e-01, acc. prob=0.880]"
     ]
    },
    {
     "name": "stderr",
     "output_type": "stream",
     "text": [
      "\r",
      "Sample:  39%|██████████                | 272/700 [02:08,  2.50it/s, step size=1.02e-01, acc. prob=0.882]"
     ]
    },
    {
     "name": "stderr",
     "output_type": "stream",
     "text": [
      "\r",
      "Sample:  39%|██████████▏               | 273/700 [02:08,  2.47it/s, step size=1.02e-01, acc. prob=0.881]"
     ]
    },
    {
     "name": "stderr",
     "output_type": "stream",
     "text": [
      "\r",
      "Sample:  39%|██████████▏               | 274/700 [02:08,  2.48it/s, step size=1.02e-01, acc. prob=0.881]"
     ]
    },
    {
     "name": "stderr",
     "output_type": "stream",
     "text": [
      "\r",
      "Sample:  39%|██████████▏               | 275/700 [02:09,  2.46it/s, step size=1.02e-01, acc. prob=0.883]"
     ]
    },
    {
     "name": "stderr",
     "output_type": "stream",
     "text": [
      "\r",
      "Sample:  39%|██████████▎               | 276/700 [02:09,  2.44it/s, step size=1.02e-01, acc. prob=0.883]"
     ]
    },
    {
     "name": "stderr",
     "output_type": "stream",
     "text": [
      "\r",
      "Sample:  40%|██████████▎               | 277/700 [02:10,  2.45it/s, step size=1.02e-01, acc. prob=0.884]"
     ]
    },
    {
     "name": "stderr",
     "output_type": "stream",
     "text": [
      "\r",
      "Sample:  40%|██████████▎               | 278/700 [02:10,  2.47it/s, step size=1.02e-01, acc. prob=0.880]"
     ]
    },
    {
     "name": "stderr",
     "output_type": "stream",
     "text": [
      "\r",
      "Sample:  40%|██████████▎               | 279/700 [02:10,  2.46it/s, step size=1.02e-01, acc. prob=0.882]"
     ]
    },
    {
     "name": "stderr",
     "output_type": "stream",
     "text": [
      "\r",
      "Sample:  40%|██████████▍               | 280/700 [02:11,  2.43it/s, step size=1.02e-01, acc. prob=0.881]"
     ]
    },
    {
     "name": "stderr",
     "output_type": "stream",
     "text": [
      "\r",
      "Sample:  40%|██████████▍               | 281/700 [02:11,  2.44it/s, step size=1.02e-01, acc. prob=0.881]"
     ]
    },
    {
     "name": "stderr",
     "output_type": "stream",
     "text": [
      "\r",
      "Sample:  40%|██████████▍               | 282/700 [02:12,  2.46it/s, step size=1.02e-01, acc. prob=0.882]"
     ]
    },
    {
     "name": "stderr",
     "output_type": "stream",
     "text": [
      "\r",
      "Sample:  40%|██████████▌               | 283/700 [02:12,  2.46it/s, step size=1.02e-01, acc. prob=0.880]"
     ]
    },
    {
     "name": "stderr",
     "output_type": "stream",
     "text": [
      "\r",
      "Sample:  41%|██████████▌               | 284/700 [02:12,  2.44it/s, step size=1.02e-01, acc. prob=0.881]"
     ]
    },
    {
     "name": "stderr",
     "output_type": "stream",
     "text": [
      "\r",
      "Sample:  41%|██████████▌               | 285/700 [02:13,  2.45it/s, step size=1.02e-01, acc. prob=0.880]"
     ]
    },
    {
     "name": "stderr",
     "output_type": "stream",
     "text": [
      "\r",
      "Sample:  41%|██████████▌               | 286/700 [02:13,  2.47it/s, step size=1.02e-01, acc. prob=0.878]"
     ]
    },
    {
     "name": "stderr",
     "output_type": "stream",
     "text": [
      "\r",
      "Sample:  41%|██████████▋               | 287/700 [02:14,  2.44it/s, step size=1.02e-01, acc. prob=0.879]"
     ]
    },
    {
     "name": "stderr",
     "output_type": "stream",
     "text": [
      "\r",
      "Sample:  41%|██████████▋               | 288/700 [02:14,  2.42it/s, step size=1.02e-01, acc. prob=0.880]"
     ]
    },
    {
     "name": "stderr",
     "output_type": "stream",
     "text": [
      "\r",
      "Sample:  41%|██████████▋               | 289/700 [02:14,  2.45it/s, step size=1.02e-01, acc. prob=0.880]"
     ]
    },
    {
     "name": "stderr",
     "output_type": "stream",
     "text": [
      "\r",
      "Sample:  41%|██████████▊               | 290/700 [02:15,  2.47it/s, step size=1.02e-01, acc. prob=0.880]"
     ]
    },
    {
     "name": "stderr",
     "output_type": "stream",
     "text": [
      "\r",
      "Sample:  42%|██████████▊               | 291/700 [02:15,  2.47it/s, step size=1.02e-01, acc. prob=0.880]"
     ]
    },
    {
     "name": "stderr",
     "output_type": "stream",
     "text": [
      "\r",
      "Sample:  42%|██████████▊               | 292/700 [02:16,  2.49it/s, step size=1.02e-01, acc. prob=0.879]"
     ]
    },
    {
     "name": "stderr",
     "output_type": "stream",
     "text": [
      "\r",
      "Sample:  42%|██████████▉               | 293/700 [02:16,  2.50it/s, step size=1.02e-01, acc. prob=0.877]"
     ]
    },
    {
     "name": "stderr",
     "output_type": "stream",
     "text": [
      "\r",
      "Sample:  42%|██████████▉               | 294/700 [02:16,  2.50it/s, step size=1.02e-01, acc. prob=0.878]"
     ]
    },
    {
     "name": "stderr",
     "output_type": "stream",
     "text": [
      "\r",
      "Sample:  42%|██████████▉               | 295/700 [02:17,  2.51it/s, step size=1.02e-01, acc. prob=0.876]"
     ]
    },
    {
     "name": "stderr",
     "output_type": "stream",
     "text": [
      "\r",
      "Sample:  42%|██████████▉               | 296/700 [02:17,  2.52it/s, step size=1.02e-01, acc. prob=0.876]"
     ]
    },
    {
     "name": "stderr",
     "output_type": "stream",
     "text": [
      "\r",
      "Sample:  42%|███████████               | 297/700 [02:18,  2.51it/s, step size=1.02e-01, acc. prob=0.877]"
     ]
    },
    {
     "name": "stderr",
     "output_type": "stream",
     "text": [
      "\r",
      "Sample:  43%|███████████               | 298/700 [02:18,  2.51it/s, step size=1.02e-01, acc. prob=0.876]"
     ]
    },
    {
     "name": "stderr",
     "output_type": "stream",
     "text": [
      "\r",
      "Sample:  43%|███████████               | 299/700 [02:18,  2.51it/s, step size=1.02e-01, acc. prob=0.877]"
     ]
    },
    {
     "name": "stderr",
     "output_type": "stream",
     "text": [
      "\r",
      "Sample:  43%|███████████▏              | 300/700 [02:19,  2.47it/s, step size=1.02e-01, acc. prob=0.878]"
     ]
    },
    {
     "name": "stderr",
     "output_type": "stream",
     "text": [
      "\r",
      "Sample:  43%|███████████▏              | 301/700 [02:19,  2.49it/s, step size=1.02e-01, acc. prob=0.878]"
     ]
    },
    {
     "name": "stderr",
     "output_type": "stream",
     "text": [
      "\r",
      "Sample:  43%|███████████▏              | 302/700 [02:20,  2.47it/s, step size=1.02e-01, acc. prob=0.878]"
     ]
    },
    {
     "name": "stderr",
     "output_type": "stream",
     "text": [
      "\r",
      "Sample:  43%|███████████▎              | 303/700 [02:20,  2.49it/s, step size=1.02e-01, acc. prob=0.880]"
     ]
    },
    {
     "name": "stderr",
     "output_type": "stream",
     "text": [
      "\r",
      "Sample:  43%|███████████▎              | 304/700 [02:21,  2.46it/s, step size=1.02e-01, acc. prob=0.880]"
     ]
    },
    {
     "name": "stderr",
     "output_type": "stream",
     "text": [
      "\r",
      "Sample:  44%|███████████▎              | 305/700 [02:21,  2.49it/s, step size=1.02e-01, acc. prob=0.878]"
     ]
    },
    {
     "name": "stderr",
     "output_type": "stream",
     "text": [
      "\r",
      "Sample:  44%|███████████▎              | 306/700 [02:21,  2.48it/s, step size=1.02e-01, acc. prob=0.878]"
     ]
    },
    {
     "name": "stderr",
     "output_type": "stream",
     "text": [
      "\r",
      "Sample:  44%|███████████▍              | 307/700 [02:22,  2.48it/s, step size=1.02e-01, acc. prob=0.879]"
     ]
    },
    {
     "name": "stderr",
     "output_type": "stream",
     "text": [
      "\r",
      "Sample:  44%|███████████▍              | 308/700 [02:22,  2.50it/s, step size=1.02e-01, acc. prob=0.879]"
     ]
    },
    {
     "name": "stderr",
     "output_type": "stream",
     "text": [
      "\r",
      "Sample:  44%|███████████▍              | 309/700 [02:23,  2.51it/s, step size=1.02e-01, acc. prob=0.879]"
     ]
    },
    {
     "name": "stderr",
     "output_type": "stream",
     "text": [
      "\r",
      "Sample:  44%|███████████▌              | 310/700 [02:23,  2.52it/s, step size=1.02e-01, acc. prob=0.880]"
     ]
    },
    {
     "name": "stderr",
     "output_type": "stream",
     "text": [
      "\r",
      "Sample:  44%|███████████▌              | 311/700 [02:23,  2.53it/s, step size=1.02e-01, acc. prob=0.881]"
     ]
    },
    {
     "name": "stderr",
     "output_type": "stream",
     "text": [
      "\r",
      "Sample:  45%|███████████▌              | 312/700 [02:24,  2.52it/s, step size=1.02e-01, acc. prob=0.881]"
     ]
    },
    {
     "name": "stderr",
     "output_type": "stream",
     "text": [
      "\r",
      "Sample:  45%|███████████▋              | 313/700 [02:24,  2.51it/s, step size=1.02e-01, acc. prob=0.880]"
     ]
    },
    {
     "name": "stderr",
     "output_type": "stream",
     "text": [
      "\r",
      "Sample:  45%|███████████▋              | 314/700 [02:24,  2.51it/s, step size=1.02e-01, acc. prob=0.881]"
     ]
    },
    {
     "name": "stderr",
     "output_type": "stream",
     "text": [
      "\r",
      "Sample:  45%|███████████▋              | 315/700 [02:25,  2.49it/s, step size=1.02e-01, acc. prob=0.882]"
     ]
    },
    {
     "name": "stderr",
     "output_type": "stream",
     "text": [
      "\r",
      "Sample:  45%|███████████▋              | 316/700 [02:25,  2.47it/s, step size=1.02e-01, acc. prob=0.882]"
     ]
    },
    {
     "name": "stderr",
     "output_type": "stream",
     "text": [
      "\r",
      "Sample:  45%|███████████▊              | 317/700 [02:26,  2.46it/s, step size=1.02e-01, acc. prob=0.882]"
     ]
    },
    {
     "name": "stderr",
     "output_type": "stream",
     "text": [
      "\r",
      "Sample:  45%|███████████▊              | 318/700 [02:26,  2.46it/s, step size=1.02e-01, acc. prob=0.882]"
     ]
    },
    {
     "name": "stderr",
     "output_type": "stream",
     "text": [
      "\r",
      "Sample:  46%|███████████▊              | 319/700 [02:27,  2.46it/s, step size=1.02e-01, acc. prob=0.883]"
     ]
    },
    {
     "name": "stderr",
     "output_type": "stream",
     "text": [
      "\r",
      "Sample:  46%|███████████▉              | 320/700 [02:27,  2.48it/s, step size=1.02e-01, acc. prob=0.883]"
     ]
    },
    {
     "name": "stderr",
     "output_type": "stream",
     "text": [
      "\r",
      "Sample:  46%|███████████▉              | 321/700 [02:27,  2.47it/s, step size=1.02e-01, acc. prob=0.882]"
     ]
    },
    {
     "name": "stderr",
     "output_type": "stream",
     "text": [
      "\r",
      "Sample:  46%|███████████▉              | 322/700 [02:28,  2.48it/s, step size=1.02e-01, acc. prob=0.881]"
     ]
    },
    {
     "name": "stderr",
     "output_type": "stream",
     "text": [
      "\r",
      "Sample:  46%|███████████▉              | 323/700 [02:28,  2.51it/s, step size=1.02e-01, acc. prob=0.880]"
     ]
    },
    {
     "name": "stderr",
     "output_type": "stream",
     "text": [
      "\r",
      "Sample:  46%|████████████              | 324/700 [02:29,  2.51it/s, step size=1.02e-01, acc. prob=0.880]"
     ]
    },
    {
     "name": "stderr",
     "output_type": "stream",
     "text": [
      "\r",
      "Sample:  46%|████████████              | 325/700 [02:29,  2.51it/s, step size=1.02e-01, acc. prob=0.881]"
     ]
    },
    {
     "name": "stderr",
     "output_type": "stream",
     "text": [
      "\r",
      "Sample:  47%|████████████              | 326/700 [02:29,  2.50it/s, step size=1.02e-01, acc. prob=0.880]"
     ]
    },
    {
     "name": "stderr",
     "output_type": "stream",
     "text": [
      "\r",
      "Sample:  47%|████████████▏             | 327/700 [02:30,  2.48it/s, step size=1.02e-01, acc. prob=0.881]"
     ]
    },
    {
     "name": "stderr",
     "output_type": "stream",
     "text": [
      "\r",
      "Sample:  47%|████████████▏             | 328/700 [02:30,  2.47it/s, step size=1.02e-01, acc. prob=0.880]"
     ]
    },
    {
     "name": "stderr",
     "output_type": "stream",
     "text": [
      "\r",
      "Sample:  47%|████████████▏             | 329/700 [02:31,  2.49it/s, step size=1.02e-01, acc. prob=0.881]"
     ]
    },
    {
     "name": "stderr",
     "output_type": "stream",
     "text": [
      "\r",
      "Sample:  47%|████████████▎             | 330/700 [02:31,  2.45it/s, step size=1.02e-01, acc. prob=0.881]"
     ]
    },
    {
     "name": "stderr",
     "output_type": "stream",
     "text": [
      "\r",
      "Sample:  47%|████████████▎             | 331/700 [02:31,  2.47it/s, step size=1.02e-01, acc. prob=0.880]"
     ]
    },
    {
     "name": "stderr",
     "output_type": "stream",
     "text": [
      "\r",
      "Sample:  47%|████████████▎             | 332/700 [02:32,  2.50it/s, step size=1.02e-01, acc. prob=0.881]"
     ]
    },
    {
     "name": "stderr",
     "output_type": "stream",
     "text": [
      "\r",
      "Sample:  48%|████████████▎             | 333/700 [02:32,  2.51it/s, step size=1.02e-01, acc. prob=0.882]"
     ]
    },
    {
     "name": "stderr",
     "output_type": "stream",
     "text": [
      "\r",
      "Sample:  48%|████████████▍             | 334/700 [02:33,  2.52it/s, step size=1.02e-01, acc. prob=0.882]"
     ]
    },
    {
     "name": "stderr",
     "output_type": "stream",
     "text": [
      "\r",
      "Sample:  48%|████████████▍             | 335/700 [02:33,  2.54it/s, step size=1.02e-01, acc. prob=0.883]"
     ]
    },
    {
     "name": "stderr",
     "output_type": "stream",
     "text": [
      "\r",
      "Sample:  48%|████████████▍             | 336/700 [02:33,  2.53it/s, step size=1.02e-01, acc. prob=0.883]"
     ]
    },
    {
     "name": "stderr",
     "output_type": "stream",
     "text": [
      "\r",
      "Sample:  48%|████████████▌             | 337/700 [02:34,  2.54it/s, step size=1.02e-01, acc. prob=0.883]"
     ]
    },
    {
     "name": "stderr",
     "output_type": "stream",
     "text": [
      "\r",
      "Sample:  48%|████████████▌             | 338/700 [02:34,  2.54it/s, step size=1.02e-01, acc. prob=0.881]"
     ]
    },
    {
     "name": "stderr",
     "output_type": "stream",
     "text": [
      "\r",
      "Sample:  48%|████████████▌             | 339/700 [02:35,  2.54it/s, step size=1.02e-01, acc. prob=0.881]"
     ]
    },
    {
     "name": "stderr",
     "output_type": "stream",
     "text": [
      "\r",
      "Sample:  49%|████████████▋             | 340/700 [02:35,  2.54it/s, step size=1.02e-01, acc. prob=0.882]"
     ]
    },
    {
     "name": "stderr",
     "output_type": "stream",
     "text": [
      "\r",
      "Sample:  49%|████████████▋             | 341/700 [02:35,  2.50it/s, step size=1.02e-01, acc. prob=0.882]"
     ]
    },
    {
     "name": "stderr",
     "output_type": "stream",
     "text": [
      "\r",
      "Sample:  49%|████████████▋             | 342/700 [02:36,  2.52it/s, step size=1.02e-01, acc. prob=0.882]"
     ]
    },
    {
     "name": "stderr",
     "output_type": "stream",
     "text": [
      "\r",
      "Sample:  49%|████████████▋             | 343/700 [02:36,  2.51it/s, step size=1.02e-01, acc. prob=0.883]"
     ]
    },
    {
     "name": "stderr",
     "output_type": "stream",
     "text": [
      "\r",
      "Sample:  49%|████████████▊             | 344/700 [02:36,  2.52it/s, step size=1.02e-01, acc. prob=0.882]"
     ]
    },
    {
     "name": "stderr",
     "output_type": "stream",
     "text": [
      "\r",
      "Sample:  49%|████████████▊             | 345/700 [02:37,  2.53it/s, step size=1.02e-01, acc. prob=0.883]"
     ]
    },
    {
     "name": "stderr",
     "output_type": "stream",
     "text": [
      "\r",
      "Sample:  49%|████████████▊             | 346/700 [02:37,  2.52it/s, step size=1.02e-01, acc. prob=0.883]"
     ]
    },
    {
     "name": "stderr",
     "output_type": "stream",
     "text": [
      "\r",
      "Sample:  50%|████████████▉             | 347/700 [02:38,  2.53it/s, step size=1.02e-01, acc. prob=0.882]"
     ]
    },
    {
     "name": "stderr",
     "output_type": "stream",
     "text": [
      "\r",
      "Sample:  50%|████████████▉             | 348/700 [02:38,  2.53it/s, step size=1.02e-01, acc. prob=0.883]"
     ]
    },
    {
     "name": "stderr",
     "output_type": "stream",
     "text": [
      "\r",
      "Sample:  50%|████████████▉             | 349/700 [02:38,  2.52it/s, step size=1.02e-01, acc. prob=0.884]"
     ]
    },
    {
     "name": "stderr",
     "output_type": "stream",
     "text": [
      "\r",
      "Sample:  50%|█████████████             | 350/700 [02:39,  2.54it/s, step size=1.02e-01, acc. prob=0.884]"
     ]
    },
    {
     "name": "stderr",
     "output_type": "stream",
     "text": [
      "\r",
      "Sample:  50%|█████████████             | 351/700 [02:39,  2.52it/s, step size=1.02e-01, acc. prob=0.882]"
     ]
    },
    {
     "name": "stderr",
     "output_type": "stream",
     "text": [
      "\r",
      "Sample:  50%|█████████████             | 352/700 [02:40,  2.53it/s, step size=1.02e-01, acc. prob=0.883]"
     ]
    },
    {
     "name": "stderr",
     "output_type": "stream",
     "text": [
      "\r",
      "Sample:  50%|█████████████             | 353/700 [02:40,  2.54it/s, step size=1.02e-01, acc. prob=0.884]"
     ]
    },
    {
     "name": "stderr",
     "output_type": "stream",
     "text": [
      "\r",
      "Sample:  51%|█████████████▏            | 354/700 [02:40,  2.53it/s, step size=1.02e-01, acc. prob=0.883]"
     ]
    },
    {
     "name": "stderr",
     "output_type": "stream",
     "text": [
      "\r",
      "Sample:  51%|█████████████▏            | 355/700 [02:41,  2.54it/s, step size=1.02e-01, acc. prob=0.884]"
     ]
    },
    {
     "name": "stderr",
     "output_type": "stream",
     "text": [
      "\r",
      "Sample:  51%|█████████████▏            | 356/700 [02:41,  2.54it/s, step size=1.02e-01, acc. prob=0.883]"
     ]
    },
    {
     "name": "stderr",
     "output_type": "stream",
     "text": [
      "\r",
      "Sample:  51%|█████████████▎            | 357/700 [02:42,  2.54it/s, step size=1.02e-01, acc. prob=0.884]"
     ]
    },
    {
     "name": "stderr",
     "output_type": "stream",
     "text": [
      "\r",
      "Sample:  51%|█████████████▎            | 358/700 [02:42,  2.54it/s, step size=1.02e-01, acc. prob=0.882]"
     ]
    },
    {
     "name": "stderr",
     "output_type": "stream",
     "text": [
      "\r",
      "Sample:  51%|█████████████▎            | 359/700 [02:42,  2.54it/s, step size=1.02e-01, acc. prob=0.883]"
     ]
    },
    {
     "name": "stderr",
     "output_type": "stream",
     "text": [
      "\r",
      "Sample:  51%|█████████████▎            | 360/700 [02:43,  2.54it/s, step size=1.02e-01, acc. prob=0.881]"
     ]
    },
    {
     "name": "stderr",
     "output_type": "stream",
     "text": [
      "\r",
      "Sample:  52%|█████████████▍            | 361/700 [02:43,  2.54it/s, step size=1.02e-01, acc. prob=0.880]"
     ]
    },
    {
     "name": "stderr",
     "output_type": "stream",
     "text": [
      "\r",
      "Sample:  52%|█████████████▍            | 362/700 [02:44,  2.54it/s, step size=1.02e-01, acc. prob=0.880]"
     ]
    },
    {
     "name": "stderr",
     "output_type": "stream",
     "text": [
      "\r",
      "Sample:  52%|█████████████▍            | 363/700 [02:44,  2.52it/s, step size=1.02e-01, acc. prob=0.881]"
     ]
    },
    {
     "name": "stderr",
     "output_type": "stream",
     "text": [
      "\r",
      "Sample:  52%|█████████████▌            | 364/700 [02:44,  2.49it/s, step size=1.02e-01, acc. prob=0.881]"
     ]
    },
    {
     "name": "stderr",
     "output_type": "stream",
     "text": [
      "\r",
      "Sample:  52%|█████████████▌            | 365/700 [02:45,  2.49it/s, step size=1.02e-01, acc. prob=0.881]"
     ]
    },
    {
     "name": "stderr",
     "output_type": "stream",
     "text": [
      "\r",
      "Sample:  52%|█████████████▌            | 366/700 [02:45,  2.49it/s, step size=1.02e-01, acc. prob=0.882]"
     ]
    },
    {
     "name": "stderr",
     "output_type": "stream",
     "text": [
      "\r",
      "Sample:  52%|█████████████▋            | 367/700 [02:46,  2.51it/s, step size=1.02e-01, acc. prob=0.882]"
     ]
    },
    {
     "name": "stderr",
     "output_type": "stream",
     "text": [
      "\r",
      "Sample:  53%|█████████████▋            | 368/700 [02:46,  2.51it/s, step size=1.02e-01, acc. prob=0.883]"
     ]
    },
    {
     "name": "stderr",
     "output_type": "stream",
     "text": [
      "\r",
      "Sample:  53%|█████████████▋            | 369/700 [02:46,  2.52it/s, step size=1.02e-01, acc. prob=0.883]"
     ]
    },
    {
     "name": "stderr",
     "output_type": "stream",
     "text": [
      "\r",
      "Sample:  53%|█████████████▋            | 370/700 [02:47,  2.52it/s, step size=1.02e-01, acc. prob=0.883]"
     ]
    },
    {
     "name": "stderr",
     "output_type": "stream",
     "text": [
      "\r",
      "Sample:  53%|█████████████▊            | 371/700 [02:47,  2.51it/s, step size=1.02e-01, acc. prob=0.883]"
     ]
    },
    {
     "name": "stderr",
     "output_type": "stream",
     "text": [
      "\r",
      "Sample:  53%|█████████████▊            | 372/700 [02:48,  2.52it/s, step size=1.02e-01, acc. prob=0.882]"
     ]
    },
    {
     "name": "stderr",
     "output_type": "stream",
     "text": [
      "\r",
      "Sample:  53%|█████████████▊            | 373/700 [02:48,  2.53it/s, step size=1.02e-01, acc. prob=0.882]"
     ]
    },
    {
     "name": "stderr",
     "output_type": "stream",
     "text": [
      "\r",
      "Sample:  53%|█████████████▉            | 374/700 [02:48,  2.53it/s, step size=1.02e-01, acc. prob=0.882]"
     ]
    },
    {
     "name": "stderr",
     "output_type": "stream",
     "text": [
      "\r",
      "Sample:  54%|█████████████▉            | 375/700 [02:49,  2.54it/s, step size=1.02e-01, acc. prob=0.881]"
     ]
    },
    {
     "name": "stderr",
     "output_type": "stream",
     "text": [
      "\r",
      "Sample:  54%|█████████████▉            | 376/700 [02:49,  2.52it/s, step size=1.02e-01, acc. prob=0.882]"
     ]
    },
    {
     "name": "stderr",
     "output_type": "stream",
     "text": [
      "\r",
      "Sample:  54%|██████████████            | 377/700 [02:50,  2.51it/s, step size=1.02e-01, acc. prob=0.882]"
     ]
    },
    {
     "name": "stderr",
     "output_type": "stream",
     "text": [
      "\r",
      "Sample:  54%|██████████████            | 378/700 [02:50,  2.50it/s, step size=1.02e-01, acc. prob=0.883]"
     ]
    },
    {
     "name": "stderr",
     "output_type": "stream",
     "text": [
      "\r",
      "Sample:  54%|██████████████            | 379/700 [02:50,  2.50it/s, step size=1.02e-01, acc. prob=0.883]"
     ]
    },
    {
     "name": "stderr",
     "output_type": "stream",
     "text": [
      "\r",
      "Sample:  54%|██████████████            | 380/700 [02:51,  2.51it/s, step size=1.02e-01, acc. prob=0.884]"
     ]
    },
    {
     "name": "stderr",
     "output_type": "stream",
     "text": [
      "\r",
      "Sample:  54%|██████████████▏           | 381/700 [02:51,  2.52it/s, step size=1.02e-01, acc. prob=0.884]"
     ]
    },
    {
     "name": "stderr",
     "output_type": "stream",
     "text": [
      "\r",
      "Sample:  55%|██████████████▏           | 382/700 [02:52,  2.53it/s, step size=1.02e-01, acc. prob=0.883]"
     ]
    },
    {
     "name": "stderr",
     "output_type": "stream",
     "text": [
      "\r",
      "Sample:  55%|██████████████▏           | 383/700 [02:52,  2.54it/s, step size=1.02e-01, acc. prob=0.883]"
     ]
    },
    {
     "name": "stderr",
     "output_type": "stream",
     "text": [
      "\r",
      "Sample:  55%|██████████████▎           | 384/700 [02:52,  2.51it/s, step size=1.02e-01, acc. prob=0.884]"
     ]
    },
    {
     "name": "stderr",
     "output_type": "stream",
     "text": [
      "\r",
      "Sample:  55%|██████████████▎           | 385/700 [02:53,  2.52it/s, step size=1.02e-01, acc. prob=0.883]"
     ]
    },
    {
     "name": "stderr",
     "output_type": "stream",
     "text": [
      "\r",
      "Sample:  55%|██████████████▎           | 386/700 [02:53,  2.52it/s, step size=1.02e-01, acc. prob=0.883]"
     ]
    },
    {
     "name": "stderr",
     "output_type": "stream",
     "text": [
      "\r",
      "Sample:  55%|██████████████▎           | 387/700 [02:54,  2.52it/s, step size=1.02e-01, acc. prob=0.883]"
     ]
    },
    {
     "name": "stderr",
     "output_type": "stream",
     "text": [
      "\r",
      "Sample:  55%|██████████████▍           | 388/700 [02:54,  2.53it/s, step size=1.02e-01, acc. prob=0.884]"
     ]
    },
    {
     "name": "stderr",
     "output_type": "stream",
     "text": [
      "\r",
      "Sample:  56%|██████████████▍           | 389/700 [02:54,  2.53it/s, step size=1.02e-01, acc. prob=0.884]"
     ]
    },
    {
     "name": "stderr",
     "output_type": "stream",
     "text": [
      "\r",
      "Sample:  56%|██████████████▍           | 390/700 [02:55,  2.53it/s, step size=1.02e-01, acc. prob=0.884]"
     ]
    },
    {
     "name": "stderr",
     "output_type": "stream",
     "text": [
      "\r",
      "Sample:  56%|██████████████▌           | 391/700 [02:55,  2.53it/s, step size=1.02e-01, acc. prob=0.883]"
     ]
    },
    {
     "name": "stderr",
     "output_type": "stream",
     "text": [
      "\r",
      "Sample:  56%|██████████████▌           | 392/700 [02:56,  2.53it/s, step size=1.02e-01, acc. prob=0.884]"
     ]
    },
    {
     "name": "stderr",
     "output_type": "stream",
     "text": [
      "\r",
      "Sample:  56%|██████████████▌           | 393/700 [02:56,  2.53it/s, step size=1.02e-01, acc. prob=0.884]"
     ]
    },
    {
     "name": "stderr",
     "output_type": "stream",
     "text": [
      "\r",
      "Sample:  56%|██████████████▋           | 394/700 [02:56,  2.53it/s, step size=1.02e-01, acc. prob=0.885]"
     ]
    },
    {
     "name": "stderr",
     "output_type": "stream",
     "text": [
      "\r",
      "Sample:  56%|██████████████▋           | 395/700 [02:57,  2.53it/s, step size=1.02e-01, acc. prob=0.885]"
     ]
    },
    {
     "name": "stderr",
     "output_type": "stream",
     "text": [
      "\r",
      "Sample:  57%|██████████████▋           | 396/700 [02:57,  2.51it/s, step size=1.02e-01, acc. prob=0.883]"
     ]
    },
    {
     "name": "stderr",
     "output_type": "stream",
     "text": [
      "\r",
      "Sample:  57%|██████████████▋           | 397/700 [02:58,  2.51it/s, step size=1.02e-01, acc. prob=0.883]"
     ]
    },
    {
     "name": "stderr",
     "output_type": "stream",
     "text": [
      "\r",
      "Sample:  57%|██████████████▊           | 398/700 [02:58,  2.52it/s, step size=1.02e-01, acc. prob=0.882]"
     ]
    },
    {
     "name": "stderr",
     "output_type": "stream",
     "text": [
      "\r",
      "Sample:  57%|██████████████▊           | 399/700 [02:58,  2.51it/s, step size=1.02e-01, acc. prob=0.881]"
     ]
    },
    {
     "name": "stderr",
     "output_type": "stream",
     "text": [
      "\r",
      "Sample:  57%|██████████████▊           | 400/700 [02:59,  2.48it/s, step size=1.02e-01, acc. prob=0.881]"
     ]
    },
    {
     "name": "stderr",
     "output_type": "stream",
     "text": [
      "\r",
      "Sample:  57%|██████████████▉           | 401/700 [02:59,  2.49it/s, step size=1.02e-01, acc. prob=0.881]"
     ]
    },
    {
     "name": "stderr",
     "output_type": "stream",
     "text": [
      "\r",
      "Sample:  57%|██████████████▉           | 402/700 [03:00,  2.51it/s, step size=1.02e-01, acc. prob=0.881]"
     ]
    },
    {
     "name": "stderr",
     "output_type": "stream",
     "text": [
      "\r",
      "Sample:  58%|██████████████▉           | 403/700 [03:00,  2.52it/s, step size=1.02e-01, acc. prob=0.881]"
     ]
    },
    {
     "name": "stderr",
     "output_type": "stream",
     "text": [
      "\r",
      "Sample:  58%|███████████████           | 404/700 [03:00,  2.52it/s, step size=1.02e-01, acc. prob=0.881]"
     ]
    },
    {
     "name": "stderr",
     "output_type": "stream",
     "text": [
      "\r",
      "Sample:  58%|███████████████           | 405/700 [03:01,  2.53it/s, step size=1.02e-01, acc. prob=0.882]"
     ]
    },
    {
     "name": "stderr",
     "output_type": "stream",
     "text": [
      "\r",
      "Sample:  58%|███████████████           | 406/700 [03:01,  2.53it/s, step size=1.02e-01, acc. prob=0.881]"
     ]
    },
    {
     "name": "stderr",
     "output_type": "stream",
     "text": [
      "\r",
      "Sample:  58%|███████████████           | 407/700 [03:01,  2.50it/s, step size=1.02e-01, acc. prob=0.881]"
     ]
    },
    {
     "name": "stderr",
     "output_type": "stream",
     "text": [
      "\r",
      "Sample:  58%|███████████████▏          | 408/700 [03:02,  2.49it/s, step size=1.02e-01, acc. prob=0.881]"
     ]
    },
    {
     "name": "stderr",
     "output_type": "stream",
     "text": [
      "\r",
      "Sample:  58%|███████████████▏          | 409/700 [03:02,  2.47it/s, step size=1.02e-01, acc. prob=0.880]"
     ]
    },
    {
     "name": "stderr",
     "output_type": "stream",
     "text": [
      "\r",
      "Sample:  59%|███████████████▏          | 410/700 [03:03,  2.47it/s, step size=1.02e-01, acc. prob=0.880]"
     ]
    },
    {
     "name": "stderr",
     "output_type": "stream",
     "text": [
      "\r",
      "Sample:  59%|███████████████▎          | 411/700 [03:03,  2.49it/s, step size=1.02e-01, acc. prob=0.880]"
     ]
    },
    {
     "name": "stderr",
     "output_type": "stream",
     "text": [
      "\r",
      "Sample:  59%|███████████████▎          | 412/700 [03:04,  2.50it/s, step size=1.02e-01, acc. prob=0.878]"
     ]
    },
    {
     "name": "stderr",
     "output_type": "stream",
     "text": [
      "\r",
      "Sample:  59%|███████████████▎          | 413/700 [03:04,  2.51it/s, step size=1.02e-01, acc. prob=0.879]"
     ]
    },
    {
     "name": "stderr",
     "output_type": "stream",
     "text": [
      "\r",
      "Sample:  59%|███████████████▍          | 414/700 [03:04,  2.51it/s, step size=1.02e-01, acc. prob=0.879]"
     ]
    },
    {
     "name": "stderr",
     "output_type": "stream",
     "text": [
      "\r",
      "Sample:  59%|███████████████▍          | 415/700 [03:05,  2.50it/s, step size=1.02e-01, acc. prob=0.877]"
     ]
    },
    {
     "name": "stderr",
     "output_type": "stream",
     "text": [
      "\r",
      "Sample:  59%|███████████████▍          | 416/700 [03:05,  2.48it/s, step size=1.02e-01, acc. prob=0.877]"
     ]
    },
    {
     "name": "stderr",
     "output_type": "stream",
     "text": [
      "\r",
      "Sample:  60%|███████████████▍          | 417/700 [03:06,  2.47it/s, step size=1.02e-01, acc. prob=0.876]"
     ]
    },
    {
     "name": "stderr",
     "output_type": "stream",
     "text": [
      "\r",
      "Sample:  60%|███████████████▌          | 418/700 [03:06,  2.48it/s, step size=1.02e-01, acc. prob=0.876]"
     ]
    },
    {
     "name": "stderr",
     "output_type": "stream",
     "text": [
      "\r",
      "Sample:  60%|███████████████▌          | 419/700 [03:06,  2.49it/s, step size=1.02e-01, acc. prob=0.876]"
     ]
    },
    {
     "name": "stderr",
     "output_type": "stream",
     "text": [
      "\r",
      "Sample:  60%|███████████████▌          | 420/700 [03:07,  2.49it/s, step size=1.02e-01, acc. prob=0.876]"
     ]
    },
    {
     "name": "stderr",
     "output_type": "stream",
     "text": [
      "\r",
      "Sample:  60%|███████████████▋          | 421/700 [03:07,  2.48it/s, step size=1.02e-01, acc. prob=0.877]"
     ]
    },
    {
     "name": "stderr",
     "output_type": "stream",
     "text": [
      "\r",
      "Sample:  60%|███████████████▋          | 422/700 [03:08,  2.49it/s, step size=1.02e-01, acc. prob=0.877]"
     ]
    },
    {
     "name": "stderr",
     "output_type": "stream",
     "text": [
      "\r",
      "Sample:  60%|███████████████▋          | 423/700 [03:08,  2.49it/s, step size=1.02e-01, acc. prob=0.877]"
     ]
    },
    {
     "name": "stderr",
     "output_type": "stream",
     "text": [
      "\r",
      "Sample:  61%|███████████████▋          | 424/700 [03:08,  2.47it/s, step size=1.02e-01, acc. prob=0.877]"
     ]
    },
    {
     "name": "stderr",
     "output_type": "stream",
     "text": [
      "\r",
      "Sample:  61%|███████████████▊          | 425/700 [03:09,  2.46it/s, step size=1.02e-01, acc. prob=0.875]"
     ]
    },
    {
     "name": "stderr",
     "output_type": "stream",
     "text": [
      "\r",
      "Sample:  61%|███████████████▊          | 426/700 [03:09,  2.43it/s, step size=1.02e-01, acc. prob=0.876]"
     ]
    },
    {
     "name": "stderr",
     "output_type": "stream",
     "text": [
      "\r",
      "Sample:  61%|███████████████▊          | 427/700 [03:10,  2.45it/s, step size=1.02e-01, acc. prob=0.875]"
     ]
    },
    {
     "name": "stderr",
     "output_type": "stream",
     "text": [
      "\r",
      "Sample:  61%|███████████████▉          | 428/700 [03:10,  2.48it/s, step size=1.02e-01, acc. prob=0.876]"
     ]
    },
    {
     "name": "stderr",
     "output_type": "stream",
     "text": [
      "\r",
      "Sample:  61%|███████████████▉          | 429/700 [03:10,  2.47it/s, step size=1.02e-01, acc. prob=0.876]"
     ]
    },
    {
     "name": "stderr",
     "output_type": "stream",
     "text": [
      "\r",
      "Sample:  61%|███████████████▉          | 430/700 [03:11,  2.49it/s, step size=1.02e-01, acc. prob=0.876]"
     ]
    },
    {
     "name": "stderr",
     "output_type": "stream",
     "text": [
      "\r",
      "Sample:  62%|████████████████          | 431/700 [03:11,  2.48it/s, step size=1.02e-01, acc. prob=0.876]"
     ]
    },
    {
     "name": "stderr",
     "output_type": "stream",
     "text": [
      "\r",
      "Sample:  62%|████████████████          | 432/700 [03:12,  2.46it/s, step size=1.02e-01, acc. prob=0.876]"
     ]
    },
    {
     "name": "stderr",
     "output_type": "stream",
     "text": [
      "\r",
      "Sample:  62%|████████████████          | 433/700 [03:12,  2.47it/s, step size=1.02e-01, acc. prob=0.876]"
     ]
    },
    {
     "name": "stderr",
     "output_type": "stream",
     "text": [
      "\r",
      "Sample:  62%|████████████████          | 434/700 [03:12,  2.49it/s, step size=1.02e-01, acc. prob=0.876]"
     ]
    },
    {
     "name": "stderr",
     "output_type": "stream",
     "text": [
      "\r",
      "Sample:  62%|████████████████▏         | 435/700 [03:13,  2.50it/s, step size=1.02e-01, acc. prob=0.876]"
     ]
    },
    {
     "name": "stderr",
     "output_type": "stream",
     "text": [
      "\r",
      "Sample:  62%|████████████████▏         | 436/700 [03:13,  2.50it/s, step size=1.02e-01, acc. prob=0.876]"
     ]
    },
    {
     "name": "stderr",
     "output_type": "stream",
     "text": [
      "\r",
      "Sample:  62%|████████████████▏         | 437/700 [03:14,  2.51it/s, step size=1.02e-01, acc. prob=0.876]"
     ]
    },
    {
     "name": "stderr",
     "output_type": "stream",
     "text": [
      "\r",
      "Sample:  63%|████████████████▎         | 438/700 [03:14,  2.51it/s, step size=1.02e-01, acc. prob=0.876]"
     ]
    },
    {
     "name": "stderr",
     "output_type": "stream",
     "text": [
      "\r",
      "Sample:  63%|████████████████▎         | 439/700 [03:14,  2.49it/s, step size=1.02e-01, acc. prob=0.877]"
     ]
    },
    {
     "name": "stderr",
     "output_type": "stream",
     "text": [
      "\r",
      "Sample:  63%|████████████████▎         | 440/700 [03:15,  2.49it/s, step size=1.02e-01, acc. prob=0.877]"
     ]
    },
    {
     "name": "stderr",
     "output_type": "stream",
     "text": [
      "\r",
      "Sample:  63%|████████████████▍         | 441/700 [03:15,  2.48it/s, step size=1.02e-01, acc. prob=0.877]"
     ]
    },
    {
     "name": "stderr",
     "output_type": "stream",
     "text": [
      "\r",
      "Sample:  63%|████████████████▍         | 442/700 [03:16,  2.49it/s, step size=1.02e-01, acc. prob=0.877]"
     ]
    },
    {
     "name": "stderr",
     "output_type": "stream",
     "text": [
      "\r",
      "Sample:  63%|████████████████▍         | 443/700 [03:16,  2.50it/s, step size=1.02e-01, acc. prob=0.877]"
     ]
    },
    {
     "name": "stderr",
     "output_type": "stream",
     "text": [
      "\r",
      "Sample:  63%|████████████████▍         | 444/700 [03:16,  2.51it/s, step size=1.02e-01, acc. prob=0.876]"
     ]
    },
    {
     "name": "stderr",
     "output_type": "stream",
     "text": [
      "\r",
      "Sample:  64%|████████████████▌         | 445/700 [03:17,  2.51it/s, step size=1.02e-01, acc. prob=0.876]"
     ]
    },
    {
     "name": "stderr",
     "output_type": "stream",
     "text": [
      "\r",
      "Sample:  64%|████████████████▌         | 446/700 [03:17,  2.51it/s, step size=1.02e-01, acc. prob=0.877]"
     ]
    },
    {
     "name": "stderr",
     "output_type": "stream",
     "text": [
      "\r",
      "Sample:  64%|████████████████▌         | 447/700 [03:18,  2.51it/s, step size=1.02e-01, acc. prob=0.877]"
     ]
    },
    {
     "name": "stderr",
     "output_type": "stream",
     "text": [
      "\r",
      "Sample:  64%|████████████████▋         | 448/700 [03:18,  2.51it/s, step size=1.02e-01, acc. prob=0.876]"
     ]
    },
    {
     "name": "stderr",
     "output_type": "stream",
     "text": [
      "\r",
      "Sample:  64%|████████████████▋         | 449/700 [03:18,  2.51it/s, step size=1.02e-01, acc. prob=0.876]"
     ]
    },
    {
     "name": "stderr",
     "output_type": "stream",
     "text": [
      "\r",
      "Sample:  64%|████████████████▋         | 450/700 [03:19,  2.52it/s, step size=1.02e-01, acc. prob=0.876]"
     ]
    },
    {
     "name": "stderr",
     "output_type": "stream",
     "text": [
      "\r",
      "Sample:  64%|████████████████▊         | 451/700 [03:19,  2.53it/s, step size=1.02e-01, acc. prob=0.876]"
     ]
    },
    {
     "name": "stderr",
     "output_type": "stream",
     "text": [
      "\r",
      "Sample:  65%|████████████████▊         | 452/700 [03:20,  2.54it/s, step size=1.02e-01, acc. prob=0.875]"
     ]
    },
    {
     "name": "stderr",
     "output_type": "stream",
     "text": [
      "\r",
      "Sample:  65%|████████████████▊         | 453/700 [03:20,  2.54it/s, step size=1.02e-01, acc. prob=0.875]"
     ]
    },
    {
     "name": "stderr",
     "output_type": "stream",
     "text": [
      "\r",
      "Sample:  65%|████████████████▊         | 454/700 [03:20,  2.52it/s, step size=1.02e-01, acc. prob=0.875]"
     ]
    },
    {
     "name": "stderr",
     "output_type": "stream",
     "text": [
      "\r",
      "Sample:  65%|████████████████▉         | 455/700 [03:21,  2.52it/s, step size=1.02e-01, acc. prob=0.876]"
     ]
    },
    {
     "name": "stderr",
     "output_type": "stream",
     "text": [
      "\r",
      "Sample:  65%|████████████████▉         | 456/700 [03:21,  2.53it/s, step size=1.02e-01, acc. prob=0.876]"
     ]
    },
    {
     "name": "stderr",
     "output_type": "stream",
     "text": [
      "\r",
      "Sample:  65%|████████████████▉         | 457/700 [03:22,  2.48it/s, step size=1.02e-01, acc. prob=0.876]"
     ]
    },
    {
     "name": "stderr",
     "output_type": "stream",
     "text": [
      "\r",
      "Sample:  65%|█████████████████         | 458/700 [03:22,  2.47it/s, step size=1.02e-01, acc. prob=0.876]"
     ]
    },
    {
     "name": "stderr",
     "output_type": "stream",
     "text": [
      "\r",
      "Sample:  66%|█████████████████         | 459/700 [03:22,  2.47it/s, step size=1.02e-01, acc. prob=0.876]"
     ]
    },
    {
     "name": "stderr",
     "output_type": "stream",
     "text": [
      "\r",
      "Sample:  66%|█████████████████         | 460/700 [03:23,  2.49it/s, step size=1.02e-01, acc. prob=0.876]"
     ]
    },
    {
     "name": "stderr",
     "output_type": "stream",
     "text": [
      "\r",
      "Sample:  66%|█████████████████         | 461/700 [03:23,  2.50it/s, step size=1.02e-01, acc. prob=0.875]"
     ]
    },
    {
     "name": "stderr",
     "output_type": "stream",
     "text": [
      "\r",
      "Sample:  66%|█████████████████▏        | 462/700 [03:24,  2.51it/s, step size=1.02e-01, acc. prob=0.875]"
     ]
    },
    {
     "name": "stderr",
     "output_type": "stream",
     "text": [
      "\r",
      "Sample:  66%|█████████████████▏        | 463/700 [03:24,  2.51it/s, step size=1.02e-01, acc. prob=0.875]"
     ]
    },
    {
     "name": "stderr",
     "output_type": "stream",
     "text": [
      "\r",
      "Sample:  66%|█████████████████▏        | 464/700 [03:24,  2.52it/s, step size=1.02e-01, acc. prob=0.875]"
     ]
    },
    {
     "name": "stderr",
     "output_type": "stream",
     "text": [
      "\r",
      "Sample:  66%|█████████████████▎        | 465/700 [03:25,  2.52it/s, step size=1.02e-01, acc. prob=0.876]"
     ]
    },
    {
     "name": "stderr",
     "output_type": "stream",
     "text": [
      "\r",
      "Sample:  67%|█████████████████▎        | 466/700 [03:25,  2.53it/s, step size=1.02e-01, acc. prob=0.876]"
     ]
    },
    {
     "name": "stderr",
     "output_type": "stream",
     "text": [
      "\r",
      "Sample:  67%|█████████████████▎        | 467/700 [03:26,  2.52it/s, step size=1.02e-01, acc. prob=0.876]"
     ]
    },
    {
     "name": "stderr",
     "output_type": "stream",
     "text": [
      "\r",
      "Sample:  67%|█████████████████▍        | 468/700 [03:26,  2.49it/s, step size=1.02e-01, acc. prob=0.876]"
     ]
    },
    {
     "name": "stderr",
     "output_type": "stream",
     "text": [
      "\r",
      "Sample:  67%|█████████████████▍        | 469/700 [03:26,  2.47it/s, step size=1.02e-01, acc. prob=0.876]"
     ]
    },
    {
     "name": "stderr",
     "output_type": "stream",
     "text": [
      "\r",
      "Sample:  67%|█████████████████▍        | 470/700 [03:27,  2.44it/s, step size=1.02e-01, acc. prob=0.876]"
     ]
    },
    {
     "name": "stderr",
     "output_type": "stream",
     "text": [
      "\r",
      "Sample:  67%|█████████████████▍        | 471/700 [03:27,  2.45it/s, step size=1.02e-01, acc. prob=0.876]"
     ]
    },
    {
     "name": "stderr",
     "output_type": "stream",
     "text": [
      "\r",
      "Sample:  67%|█████████████████▌        | 472/700 [03:28,  2.43it/s, step size=1.02e-01, acc. prob=0.877]"
     ]
    },
    {
     "name": "stderr",
     "output_type": "stream",
     "text": [
      "\r",
      "Sample:  68%|█████████████████▌        | 473/700 [03:28,  2.42it/s, step size=1.02e-01, acc. prob=0.877]"
     ]
    },
    {
     "name": "stderr",
     "output_type": "stream",
     "text": [
      "\r",
      "Sample:  68%|█████████████████▌        | 474/700 [03:28,  2.42it/s, step size=1.02e-01, acc. prob=0.877]"
     ]
    },
    {
     "name": "stderr",
     "output_type": "stream",
     "text": [
      "\r",
      "Sample:  68%|█████████████████▋        | 475/700 [03:29,  2.41it/s, step size=1.02e-01, acc. prob=0.877]"
     ]
    },
    {
     "name": "stderr",
     "output_type": "stream",
     "text": [
      "\r",
      "Sample:  68%|█████████████████▋        | 476/700 [03:29,  2.42it/s, step size=1.02e-01, acc. prob=0.877]"
     ]
    },
    {
     "name": "stderr",
     "output_type": "stream",
     "text": [
      "\r",
      "Sample:  68%|█████████████████▋        | 477/700 [03:30,  2.43it/s, step size=1.02e-01, acc. prob=0.877]"
     ]
    },
    {
     "name": "stderr",
     "output_type": "stream",
     "text": [
      "\r",
      "Sample:  68%|█████████████████▊        | 478/700 [03:30,  2.42it/s, step size=1.02e-01, acc. prob=0.876]"
     ]
    },
    {
     "name": "stderr",
     "output_type": "stream",
     "text": [
      "\r",
      "Sample:  68%|█████████████████▊        | 479/700 [03:30,  2.45it/s, step size=1.02e-01, acc. prob=0.875]"
     ]
    },
    {
     "name": "stderr",
     "output_type": "stream",
     "text": [
      "\r",
      "Sample:  69%|█████████████████▊        | 480/700 [03:31,  2.47it/s, step size=1.02e-01, acc. prob=0.875]"
     ]
    },
    {
     "name": "stderr",
     "output_type": "stream",
     "text": [
      "\r",
      "Sample:  69%|█████████████████▊        | 481/700 [03:31,  2.44it/s, step size=1.02e-01, acc. prob=0.876]"
     ]
    },
    {
     "name": "stderr",
     "output_type": "stream",
     "text": [
      "\r",
      "Sample:  69%|█████████████████▉        | 482/700 [03:32,  2.44it/s, step size=1.02e-01, acc. prob=0.876]"
     ]
    },
    {
     "name": "stderr",
     "output_type": "stream",
     "text": [
      "\r",
      "Sample:  69%|█████████████████▉        | 483/700 [03:32,  2.44it/s, step size=1.02e-01, acc. prob=0.875]"
     ]
    },
    {
     "name": "stderr",
     "output_type": "stream",
     "text": [
      "\r",
      "Sample:  69%|█████████████████▉        | 484/700 [03:33,  2.45it/s, step size=1.02e-01, acc. prob=0.876]"
     ]
    },
    {
     "name": "stderr",
     "output_type": "stream",
     "text": [
      "\r",
      "Sample:  69%|██████████████████        | 485/700 [03:33,  2.45it/s, step size=1.02e-01, acc. prob=0.875]"
     ]
    },
    {
     "name": "stderr",
     "output_type": "stream",
     "text": [
      "\r",
      "Sample:  69%|██████████████████        | 486/700 [03:33,  2.44it/s, step size=1.02e-01, acc. prob=0.876]"
     ]
    },
    {
     "name": "stderr",
     "output_type": "stream",
     "text": [
      "\r",
      "Sample:  70%|██████████████████        | 487/700 [03:34,  2.45it/s, step size=1.02e-01, acc. prob=0.875]"
     ]
    },
    {
     "name": "stderr",
     "output_type": "stream",
     "text": [
      "\r",
      "Sample:  70%|██████████████████▏       | 488/700 [03:34,  2.44it/s, step size=1.02e-01, acc. prob=0.875]"
     ]
    },
    {
     "name": "stderr",
     "output_type": "stream",
     "text": [
      "\r",
      "Sample:  70%|██████████████████▏       | 489/700 [03:35,  2.46it/s, step size=1.02e-01, acc. prob=0.875]"
     ]
    },
    {
     "name": "stderr",
     "output_type": "stream",
     "text": [
      "\r",
      "Sample:  70%|██████████████████▏       | 490/700 [03:35,  2.46it/s, step size=1.02e-01, acc. prob=0.876]"
     ]
    },
    {
     "name": "stderr",
     "output_type": "stream",
     "text": [
      "\r",
      "Sample:  70%|██████████████████▏       | 491/700 [03:35,  2.47it/s, step size=1.02e-01, acc. prob=0.875]"
     ]
    },
    {
     "name": "stderr",
     "output_type": "stream",
     "text": [
      "\r",
      "Sample:  70%|██████████████████▎       | 492/700 [03:36,  2.47it/s, step size=1.02e-01, acc. prob=0.876]"
     ]
    },
    {
     "name": "stderr",
     "output_type": "stream",
     "text": [
      "\r",
      "Sample:  70%|██████████████████▎       | 493/700 [03:36,  2.47it/s, step size=1.02e-01, acc. prob=0.876]"
     ]
    },
    {
     "name": "stderr",
     "output_type": "stream",
     "text": [
      "\r",
      "Sample:  71%|██████████████████▎       | 494/700 [03:37,  2.44it/s, step size=1.02e-01, acc. prob=0.876]"
     ]
    },
    {
     "name": "stderr",
     "output_type": "stream",
     "text": [
      "\r",
      "Sample:  71%|██████████████████▍       | 495/700 [03:37,  2.33it/s, step size=1.02e-01, acc. prob=0.876]"
     ]
    },
    {
     "name": "stderr",
     "output_type": "stream",
     "text": [
      "\r",
      "Sample:  71%|██████████████████▍       | 496/700 [03:38,  2.26it/s, step size=1.02e-01, acc. prob=0.875]"
     ]
    },
    {
     "name": "stderr",
     "output_type": "stream",
     "text": [
      "\r",
      "Sample:  71%|██████████████████▍       | 497/700 [03:38,  2.21it/s, step size=1.02e-01, acc. prob=0.875]"
     ]
    },
    {
     "name": "stderr",
     "output_type": "stream",
     "text": [
      "\r",
      "Sample:  71%|██████████████████▍       | 498/700 [03:39,  2.19it/s, step size=1.02e-01, acc. prob=0.875]"
     ]
    },
    {
     "name": "stderr",
     "output_type": "stream",
     "text": [
      "\r",
      "Sample:  71%|██████████████████▌       | 499/700 [03:39,  2.14it/s, step size=1.02e-01, acc. prob=0.874]"
     ]
    },
    {
     "name": "stderr",
     "output_type": "stream",
     "text": [
      "\r",
      "Sample:  71%|██████████████████▌       | 500/700 [03:39,  2.16it/s, step size=1.02e-01, acc. prob=0.874]"
     ]
    },
    {
     "name": "stderr",
     "output_type": "stream",
     "text": [
      "\r",
      "Sample:  72%|██████████████████▌       | 501/700 [03:40,  2.14it/s, step size=1.02e-01, acc. prob=0.874]"
     ]
    },
    {
     "name": "stderr",
     "output_type": "stream",
     "text": [
      "\r",
      "Sample:  72%|██████████████████▋       | 502/700 [03:40,  2.14it/s, step size=1.02e-01, acc. prob=0.874]"
     ]
    },
    {
     "name": "stderr",
     "output_type": "stream",
     "text": [
      "\r",
      "Sample:  72%|██████████████████▋       | 503/700 [03:41,  2.23it/s, step size=1.02e-01, acc. prob=0.874]"
     ]
    },
    {
     "name": "stderr",
     "output_type": "stream",
     "text": [
      "\r",
      "Sample:  72%|██████████████████▋       | 504/700 [03:41,  2.32it/s, step size=1.02e-01, acc. prob=0.874]"
     ]
    },
    {
     "name": "stderr",
     "output_type": "stream",
     "text": [
      "\r",
      "Sample:  72%|██████████████████▊       | 505/700 [03:42,  2.30it/s, step size=1.02e-01, acc. prob=0.874]"
     ]
    },
    {
     "name": "stderr",
     "output_type": "stream",
     "text": [
      "\r",
      "Sample:  72%|██████████████████▊       | 506/700 [03:42,  2.23it/s, step size=1.02e-01, acc. prob=0.874]"
     ]
    },
    {
     "name": "stderr",
     "output_type": "stream",
     "text": [
      "\r",
      "Sample:  72%|██████████████████▊       | 507/700 [03:43,  2.18it/s, step size=1.02e-01, acc. prob=0.874]"
     ]
    },
    {
     "name": "stderr",
     "output_type": "stream",
     "text": [
      "\r",
      "Sample:  73%|██████████████████▊       | 508/700 [03:43,  2.27it/s, step size=1.02e-01, acc. prob=0.875]"
     ]
    },
    {
     "name": "stderr",
     "output_type": "stream",
     "text": [
      "\r",
      "Sample:  73%|██████████████████▉       | 509/700 [03:43,  2.26it/s, step size=1.02e-01, acc. prob=0.875]"
     ]
    },
    {
     "name": "stderr",
     "output_type": "stream",
     "text": [
      "\r",
      "Sample:  73%|██████████████████▉       | 510/700 [03:44,  2.36it/s, step size=1.02e-01, acc. prob=0.874]"
     ]
    },
    {
     "name": "stderr",
     "output_type": "stream",
     "text": [
      "\r",
      "Sample:  73%|██████████████████▉       | 511/700 [03:44,  2.35it/s, step size=1.02e-01, acc. prob=0.874]"
     ]
    },
    {
     "name": "stderr",
     "output_type": "stream",
     "text": [
      "\r",
      "Sample:  73%|███████████████████       | 512/700 [03:45,  2.14it/s, step size=1.02e-01, acc. prob=0.874]"
     ]
    },
    {
     "name": "stderr",
     "output_type": "stream",
     "text": [
      "\r",
      "Sample:  73%|███████████████████       | 513/700 [03:45,  2.10it/s, step size=1.02e-01, acc. prob=0.875]"
     ]
    },
    {
     "name": "stderr",
     "output_type": "stream",
     "text": [
      "\r",
      "Sample:  73%|███████████████████       | 514/700 [03:46,  2.14it/s, step size=1.02e-01, acc. prob=0.875]"
     ]
    },
    {
     "name": "stderr",
     "output_type": "stream",
     "text": [
      "\r",
      "Sample:  74%|███████████████████▏      | 515/700 [03:46,  2.14it/s, step size=1.02e-01, acc. prob=0.875]"
     ]
    },
    {
     "name": "stderr",
     "output_type": "stream",
     "text": [
      "\r",
      "Sample:  74%|███████████████████▏      | 516/700 [03:47,  2.27it/s, step size=1.02e-01, acc. prob=0.875]"
     ]
    },
    {
     "name": "stderr",
     "output_type": "stream",
     "text": [
      "\r",
      "Sample:  74%|███████████████████▏      | 517/700 [03:47,  2.33it/s, step size=1.02e-01, acc. prob=0.875]"
     ]
    },
    {
     "name": "stderr",
     "output_type": "stream",
     "text": [
      "\r",
      "Sample:  74%|███████████████████▏      | 518/700 [03:47,  2.26it/s, step size=1.02e-01, acc. prob=0.875]"
     ]
    },
    {
     "name": "stderr",
     "output_type": "stream",
     "text": [
      "\r",
      "Sample:  74%|███████████████████▎      | 519/700 [03:48,  2.32it/s, step size=1.02e-01, acc. prob=0.875]"
     ]
    },
    {
     "name": "stderr",
     "output_type": "stream",
     "text": [
      "\r",
      "Sample:  74%|███████████████████▎      | 520/700 [03:48,  2.41it/s, step size=1.02e-01, acc. prob=0.875]"
     ]
    },
    {
     "name": "stderr",
     "output_type": "stream",
     "text": [
      "\r",
      "Sample:  74%|███████████████████▎      | 521/700 [03:49,  2.47it/s, step size=1.02e-01, acc. prob=0.875]"
     ]
    },
    {
     "name": "stderr",
     "output_type": "stream",
     "text": [
      "\r",
      "Sample:  75%|███████████████████▍      | 522/700 [03:49,  2.53it/s, step size=1.02e-01, acc. prob=0.875]"
     ]
    },
    {
     "name": "stderr",
     "output_type": "stream",
     "text": [
      "\r",
      "Sample:  75%|███████████████████▍      | 523/700 [03:49,  2.56it/s, step size=1.02e-01, acc. prob=0.875]"
     ]
    },
    {
     "name": "stderr",
     "output_type": "stream",
     "text": [
      "\r",
      "Sample:  75%|███████████████████▍      | 524/700 [03:50,  2.59it/s, step size=1.02e-01, acc. prob=0.875]"
     ]
    },
    {
     "name": "stderr",
     "output_type": "stream",
     "text": [
      "\r",
      "Sample:  75%|███████████████████▌      | 525/700 [03:50,  2.61it/s, step size=1.02e-01, acc. prob=0.875]"
     ]
    },
    {
     "name": "stderr",
     "output_type": "stream",
     "text": [
      "\r",
      "Sample:  75%|███████████████████▌      | 526/700 [03:51,  2.61it/s, step size=1.02e-01, acc. prob=0.875]"
     ]
    },
    {
     "name": "stderr",
     "output_type": "stream",
     "text": [
      "\r",
      "Sample:  75%|███████████████████▌      | 527/700 [03:51,  2.61it/s, step size=1.02e-01, acc. prob=0.875]"
     ]
    },
    {
     "name": "stderr",
     "output_type": "stream",
     "text": [
      "\r",
      "Sample:  75%|███████████████████▌      | 528/700 [03:51,  2.63it/s, step size=1.02e-01, acc. prob=0.875]"
     ]
    },
    {
     "name": "stderr",
     "output_type": "stream",
     "text": [
      "\r",
      "Sample:  76%|███████████████████▋      | 529/700 [03:52,  2.63it/s, step size=1.02e-01, acc. prob=0.876]"
     ]
    },
    {
     "name": "stderr",
     "output_type": "stream",
     "text": [
      "\r",
      "Sample:  76%|███████████████████▋      | 530/700 [03:52,  2.64it/s, step size=1.02e-01, acc. prob=0.876]"
     ]
    },
    {
     "name": "stderr",
     "output_type": "stream",
     "text": [
      "\r",
      "Sample:  76%|███████████████████▋      | 531/700 [03:52,  2.62it/s, step size=1.02e-01, acc. prob=0.875]"
     ]
    },
    {
     "name": "stderr",
     "output_type": "stream",
     "text": [
      "\r",
      "Sample:  76%|███████████████████▊      | 532/700 [03:53,  2.58it/s, step size=1.02e-01, acc. prob=0.875]"
     ]
    },
    {
     "name": "stderr",
     "output_type": "stream",
     "text": [
      "\r",
      "Sample:  76%|███████████████████▊      | 533/700 [03:53,  2.60it/s, step size=1.02e-01, acc. prob=0.875]"
     ]
    },
    {
     "name": "stderr",
     "output_type": "stream",
     "text": [
      "\r",
      "Sample:  76%|███████████████████▊      | 534/700 [03:54,  2.60it/s, step size=1.02e-01, acc. prob=0.875]"
     ]
    },
    {
     "name": "stderr",
     "output_type": "stream",
     "text": [
      "\r",
      "Sample:  76%|███████████████████▊      | 535/700 [03:54,  2.56it/s, step size=1.02e-01, acc. prob=0.876]"
     ]
    },
    {
     "name": "stderr",
     "output_type": "stream",
     "text": [
      "\r",
      "Sample:  77%|███████████████████▉      | 536/700 [03:54,  2.55it/s, step size=1.02e-01, acc. prob=0.876]"
     ]
    },
    {
     "name": "stderr",
     "output_type": "stream",
     "text": [
      "\r",
      "Sample:  77%|███████████████████▉      | 537/700 [03:55,  2.57it/s, step size=1.02e-01, acc. prob=0.876]"
     ]
    },
    {
     "name": "stderr",
     "output_type": "stream",
     "text": [
      "\r",
      "Sample:  77%|███████████████████▉      | 538/700 [03:55,  2.56it/s, step size=1.02e-01, acc. prob=0.875]"
     ]
    },
    {
     "name": "stderr",
     "output_type": "stream",
     "text": [
      "\r",
      "Sample:  77%|████████████████████      | 539/700 [03:56,  2.56it/s, step size=1.02e-01, acc. prob=0.875]"
     ]
    },
    {
     "name": "stderr",
     "output_type": "stream",
     "text": [
      "\r",
      "Sample:  77%|████████████████████      | 540/700 [03:56,  2.58it/s, step size=1.02e-01, acc. prob=0.875]"
     ]
    },
    {
     "name": "stderr",
     "output_type": "stream",
     "text": [
      "\r",
      "Sample:  77%|████████████████████      | 541/700 [03:56,  2.60it/s, step size=1.02e-01, acc. prob=0.875]"
     ]
    },
    {
     "name": "stderr",
     "output_type": "stream",
     "text": [
      "\r",
      "Sample:  77%|████████████████████▏     | 542/700 [03:57,  2.60it/s, step size=1.02e-01, acc. prob=0.874]"
     ]
    },
    {
     "name": "stderr",
     "output_type": "stream",
     "text": [
      "\r",
      "Sample:  78%|████████████████████▏     | 543/700 [03:57,  2.58it/s, step size=1.02e-01, acc. prob=0.875]"
     ]
    },
    {
     "name": "stderr",
     "output_type": "stream",
     "text": [
      "\r",
      "Sample:  78%|████████████████████▏     | 544/700 [03:57,  2.60it/s, step size=1.02e-01, acc. prob=0.875]"
     ]
    },
    {
     "name": "stderr",
     "output_type": "stream",
     "text": [
      "\r",
      "Sample:  78%|████████████████████▏     | 545/700 [03:58,  2.62it/s, step size=1.02e-01, acc. prob=0.875]"
     ]
    },
    {
     "name": "stderr",
     "output_type": "stream",
     "text": [
      "\r",
      "Sample:  78%|████████████████████▎     | 546/700 [03:58,  2.62it/s, step size=1.02e-01, acc. prob=0.875]"
     ]
    },
    {
     "name": "stderr",
     "output_type": "stream",
     "text": [
      "\r",
      "Sample:  78%|████████████████████▎     | 547/700 [03:59,  2.62it/s, step size=1.02e-01, acc. prob=0.874]"
     ]
    },
    {
     "name": "stderr",
     "output_type": "stream",
     "text": [
      "\r",
      "Sample:  78%|████████████████████▎     | 548/700 [03:59,  2.64it/s, step size=1.02e-01, acc. prob=0.874]"
     ]
    },
    {
     "name": "stderr",
     "output_type": "stream",
     "text": [
      "\r",
      "Sample:  78%|████████████████████▍     | 549/700 [03:59,  2.63it/s, step size=1.02e-01, acc. prob=0.873]"
     ]
    },
    {
     "name": "stderr",
     "output_type": "stream",
     "text": [
      "\r",
      "Sample:  79%|████████████████████▍     | 550/700 [04:00,  2.58it/s, step size=1.02e-01, acc. prob=0.873]"
     ]
    },
    {
     "name": "stderr",
     "output_type": "stream",
     "text": [
      "\r",
      "Sample:  79%|████████████████████▍     | 551/700 [04:00,  2.60it/s, step size=1.02e-01, acc. prob=0.873]"
     ]
    },
    {
     "name": "stderr",
     "output_type": "stream",
     "text": [
      "\r",
      "Sample:  79%|████████████████████▌     | 552/700 [04:01,  2.62it/s, step size=1.02e-01, acc. prob=0.872]"
     ]
    },
    {
     "name": "stderr",
     "output_type": "stream",
     "text": [
      "\r",
      "Sample:  79%|████████████████████▌     | 553/700 [04:01,  2.63it/s, step size=1.02e-01, acc. prob=0.873]"
     ]
    },
    {
     "name": "stderr",
     "output_type": "stream",
     "text": [
      "\r",
      "Sample:  79%|████████████████████▌     | 554/700 [04:01,  2.64it/s, step size=1.02e-01, acc. prob=0.873]"
     ]
    },
    {
     "name": "stderr",
     "output_type": "stream",
     "text": [
      "\r",
      "Sample:  79%|████████████████████▌     | 555/700 [04:02,  2.63it/s, step size=1.02e-01, acc. prob=0.873]"
     ]
    },
    {
     "name": "stderr",
     "output_type": "stream",
     "text": [
      "\r",
      "Sample:  79%|████████████████████▋     | 556/700 [04:02,  2.62it/s, step size=1.02e-01, acc. prob=0.872]"
     ]
    },
    {
     "name": "stderr",
     "output_type": "stream",
     "text": [
      "\r",
      "Sample:  80%|████████████████████▋     | 557/700 [04:02,  2.63it/s, step size=1.02e-01, acc. prob=0.873]"
     ]
    },
    {
     "name": "stderr",
     "output_type": "stream",
     "text": [
      "\r",
      "Sample:  80%|████████████████████▋     | 558/700 [04:03,  2.63it/s, step size=1.02e-01, acc. prob=0.872]"
     ]
    },
    {
     "name": "stderr",
     "output_type": "stream",
     "text": [
      "\r",
      "Sample:  80%|████████████████████▊     | 559/700 [04:03,  2.64it/s, step size=1.02e-01, acc. prob=0.872]"
     ]
    },
    {
     "name": "stderr",
     "output_type": "stream",
     "text": [
      "\r",
      "Sample:  80%|████████████████████▊     | 560/700 [04:04,  2.65it/s, step size=1.02e-01, acc. prob=0.872]"
     ]
    },
    {
     "name": "stderr",
     "output_type": "stream",
     "text": [
      "\r",
      "Sample:  80%|████████████████████▊     | 561/700 [04:04,  2.65it/s, step size=1.02e-01, acc. prob=0.873]"
     ]
    },
    {
     "name": "stderr",
     "output_type": "stream",
     "text": [
      "\r",
      "Sample:  80%|████████████████████▊     | 562/700 [04:04,  2.65it/s, step size=1.02e-01, acc. prob=0.873]"
     ]
    },
    {
     "name": "stderr",
     "output_type": "stream",
     "text": [
      "\r",
      "Sample:  80%|████████████████████▉     | 563/700 [04:05,  2.65it/s, step size=1.02e-01, acc. prob=0.873]"
     ]
    },
    {
     "name": "stderr",
     "output_type": "stream",
     "text": [
      "\r",
      "Sample:  81%|████████████████████▉     | 564/700 [04:05,  2.65it/s, step size=1.02e-01, acc. prob=0.873]"
     ]
    },
    {
     "name": "stderr",
     "output_type": "stream",
     "text": [
      "\r",
      "Sample:  81%|████████████████████▉     | 565/700 [04:05,  2.63it/s, step size=1.02e-01, acc. prob=0.873]"
     ]
    },
    {
     "name": "stderr",
     "output_type": "stream",
     "text": [
      "\r",
      "Sample:  81%|█████████████████████     | 566/700 [04:06,  2.63it/s, step size=1.02e-01, acc. prob=0.873]"
     ]
    },
    {
     "name": "stderr",
     "output_type": "stream",
     "text": [
      "\r",
      "Sample:  81%|█████████████████████     | 567/700 [04:06,  2.63it/s, step size=1.02e-01, acc. prob=0.872]"
     ]
    },
    {
     "name": "stderr",
     "output_type": "stream",
     "text": [
      "\r",
      "Sample:  81%|█████████████████████     | 568/700 [04:07,  2.51it/s, step size=1.02e-01, acc. prob=0.872]"
     ]
    },
    {
     "name": "stderr",
     "output_type": "stream",
     "text": [
      "\r",
      "Sample:  81%|█████████████████████▏    | 569/700 [04:07,  2.21it/s, step size=1.02e-01, acc. prob=0.872]"
     ]
    },
    {
     "name": "stderr",
     "output_type": "stream",
     "text": [
      "\r",
      "Sample:  81%|█████████████████████▏    | 570/700 [04:08,  2.12it/s, step size=1.02e-01, acc. prob=0.872]"
     ]
    },
    {
     "name": "stderr",
     "output_type": "stream",
     "text": [
      "\r",
      "Sample:  82%|█████████████████████▏    | 571/700 [04:08,  2.25it/s, step size=1.02e-01, acc. prob=0.872]"
     ]
    },
    {
     "name": "stderr",
     "output_type": "stream",
     "text": [
      "\r",
      "Sample:  82%|█████████████████████▏    | 572/700 [04:09,  2.18it/s, step size=1.02e-01, acc. prob=0.872]"
     ]
    },
    {
     "name": "stderr",
     "output_type": "stream",
     "text": [
      "\r",
      "Sample:  82%|█████████████████████▎    | 573/700 [04:09,  2.14it/s, step size=1.02e-01, acc. prob=0.872]"
     ]
    },
    {
     "name": "stderr",
     "output_type": "stream",
     "text": [
      "\r",
      "Sample:  82%|█████████████████████▎    | 574/700 [04:10,  2.11it/s, step size=1.02e-01, acc. prob=0.873]"
     ]
    },
    {
     "name": "stderr",
     "output_type": "stream",
     "text": [
      "\r",
      "Sample:  82%|█████████████████████▎    | 575/700 [04:10,  2.25it/s, step size=1.02e-01, acc. prob=0.873]"
     ]
    },
    {
     "name": "stderr",
     "output_type": "stream",
     "text": [
      "\r",
      "Sample:  82%|█████████████████████▍    | 576/700 [04:10,  2.31it/s, step size=1.02e-01, acc. prob=0.873]"
     ]
    },
    {
     "name": "stderr",
     "output_type": "stream",
     "text": [
      "\r",
      "Sample:  82%|█████████████████████▍    | 577/700 [04:11,  2.40it/s, step size=1.02e-01, acc. prob=0.873]"
     ]
    },
    {
     "name": "stderr",
     "output_type": "stream",
     "text": [
      "\r",
      "Sample:  83%|█████████████████████▍    | 578/700 [04:11,  2.47it/s, step size=1.02e-01, acc. prob=0.873]"
     ]
    },
    {
     "name": "stderr",
     "output_type": "stream",
     "text": [
      "\r",
      "Sample:  83%|█████████████████████▌    | 579/700 [04:12,  2.52it/s, step size=1.02e-01, acc. prob=0.873]"
     ]
    },
    {
     "name": "stderr",
     "output_type": "stream",
     "text": [
      "\r",
      "Sample:  83%|█████████████████████▌    | 580/700 [04:12,  2.54it/s, step size=1.02e-01, acc. prob=0.873]"
     ]
    },
    {
     "name": "stderr",
     "output_type": "stream",
     "text": [
      "\r",
      "Sample:  83%|█████████████████████▌    | 581/700 [04:12,  2.57it/s, step size=1.02e-01, acc. prob=0.872]"
     ]
    },
    {
     "name": "stderr",
     "output_type": "stream",
     "text": [
      "\r",
      "Sample:  83%|█████████████████████▌    | 582/700 [04:13,  2.56it/s, step size=1.02e-01, acc. prob=0.872]"
     ]
    },
    {
     "name": "stderr",
     "output_type": "stream",
     "text": [
      "\r",
      "Sample:  83%|█████████████████████▋    | 583/700 [04:13,  2.56it/s, step size=1.02e-01, acc. prob=0.873]"
     ]
    },
    {
     "name": "stderr",
     "output_type": "stream",
     "text": [
      "\r",
      "Sample:  83%|█████████████████████▋    | 584/700 [04:13,  2.58it/s, step size=1.02e-01, acc. prob=0.873]"
     ]
    },
    {
     "name": "stderr",
     "output_type": "stream",
     "text": [
      "\r",
      "Sample:  84%|█████████████████████▋    | 585/700 [04:14,  2.60it/s, step size=1.02e-01, acc. prob=0.873]"
     ]
    },
    {
     "name": "stderr",
     "output_type": "stream",
     "text": [
      "\r",
      "Sample:  84%|█████████████████████▊    | 586/700 [04:14,  2.61it/s, step size=1.02e-01, acc. prob=0.873]"
     ]
    },
    {
     "name": "stderr",
     "output_type": "stream",
     "text": [
      "\r",
      "Sample:  84%|█████████████████████▊    | 587/700 [04:15,  2.62it/s, step size=1.02e-01, acc. prob=0.873]"
     ]
    },
    {
     "name": "stderr",
     "output_type": "stream",
     "text": [
      "\r",
      "Sample:  84%|█████████████████████▊    | 588/700 [04:15,  2.64it/s, step size=1.02e-01, acc. prob=0.873]"
     ]
    },
    {
     "name": "stderr",
     "output_type": "stream",
     "text": [
      "\r",
      "Sample:  84%|█████████████████████▉    | 589/700 [04:15,  2.64it/s, step size=1.02e-01, acc. prob=0.873]"
     ]
    },
    {
     "name": "stderr",
     "output_type": "stream",
     "text": [
      "\r",
      "Sample:  84%|█████████████████████▉    | 590/700 [04:16,  2.64it/s, step size=1.02e-01, acc. prob=0.873]"
     ]
    },
    {
     "name": "stderr",
     "output_type": "stream",
     "text": [
      "\r",
      "Sample:  84%|█████████████████████▉    | 591/700 [04:16,  2.65it/s, step size=1.02e-01, acc. prob=0.873]"
     ]
    },
    {
     "name": "stderr",
     "output_type": "stream",
     "text": [
      "\r",
      "Sample:  85%|█████████████████████▉    | 592/700 [04:16,  2.65it/s, step size=1.02e-01, acc. prob=0.874]"
     ]
    },
    {
     "name": "stderr",
     "output_type": "stream",
     "text": [
      "\r",
      "Sample:  85%|██████████████████████    | 593/700 [04:17,  2.64it/s, step size=1.02e-01, acc. prob=0.874]"
     ]
    },
    {
     "name": "stderr",
     "output_type": "stream",
     "text": [
      "\r",
      "Sample:  85%|██████████████████████    | 594/700 [04:17,  2.64it/s, step size=1.02e-01, acc. prob=0.874]"
     ]
    },
    {
     "name": "stderr",
     "output_type": "stream",
     "text": [
      "\r",
      "Sample:  85%|██████████████████████    | 595/700 [04:18,  2.64it/s, step size=1.02e-01, acc. prob=0.874]"
     ]
    },
    {
     "name": "stderr",
     "output_type": "stream",
     "text": [
      "\r",
      "Sample:  85%|██████████████████████▏   | 596/700 [04:18,  2.65it/s, step size=1.02e-01, acc. prob=0.874]"
     ]
    },
    {
     "name": "stderr",
     "output_type": "stream",
     "text": [
      "\r",
      "Sample:  85%|██████████████████████▏   | 597/700 [04:18,  2.65it/s, step size=1.02e-01, acc. prob=0.874]"
     ]
    },
    {
     "name": "stderr",
     "output_type": "stream",
     "text": [
      "\r",
      "Sample:  85%|██████████████████████▏   | 598/700 [04:19,  2.64it/s, step size=1.02e-01, acc. prob=0.874]"
     ]
    },
    {
     "name": "stderr",
     "output_type": "stream",
     "text": [
      "\r",
      "Sample:  86%|██████████████████████▏   | 599/700 [04:19,  2.64it/s, step size=1.02e-01, acc. prob=0.874]"
     ]
    },
    {
     "name": "stderr",
     "output_type": "stream",
     "text": [
      "\r",
      "Sample:  86%|██████████████████████▎   | 600/700 [04:19,  2.64it/s, step size=1.02e-01, acc. prob=0.873]"
     ]
    },
    {
     "name": "stderr",
     "output_type": "stream",
     "text": [
      "\r",
      "Sample:  86%|██████████████████████▎   | 601/700 [04:20,  2.65it/s, step size=1.02e-01, acc. prob=0.873]"
     ]
    },
    {
     "name": "stderr",
     "output_type": "stream",
     "text": [
      "\r",
      "Sample:  86%|██████████████████████▎   | 602/700 [04:20,  2.64it/s, step size=1.02e-01, acc. prob=0.873]"
     ]
    },
    {
     "name": "stderr",
     "output_type": "stream",
     "text": [
      "\r",
      "Sample:  86%|██████████████████████▍   | 603/700 [04:21,  2.63it/s, step size=1.02e-01, acc. prob=0.873]"
     ]
    },
    {
     "name": "stderr",
     "output_type": "stream",
     "text": [
      "\r",
      "Sample:  86%|██████████████████████▍   | 604/700 [04:21,  2.64it/s, step size=1.02e-01, acc. prob=0.873]"
     ]
    },
    {
     "name": "stderr",
     "output_type": "stream",
     "text": [
      "\r",
      "Sample:  86%|██████████████████████▍   | 605/700 [04:21,  2.62it/s, step size=1.02e-01, acc. prob=0.873]"
     ]
    },
    {
     "name": "stderr",
     "output_type": "stream",
     "text": [
      "\r",
      "Sample:  87%|██████████████████████▌   | 606/700 [04:22,  2.63it/s, step size=1.02e-01, acc. prob=0.873]"
     ]
    },
    {
     "name": "stderr",
     "output_type": "stream",
     "text": [
      "\r",
      "Sample:  87%|██████████████████████▌   | 607/700 [04:22,  2.61it/s, step size=1.02e-01, acc. prob=0.873]"
     ]
    },
    {
     "name": "stderr",
     "output_type": "stream",
     "text": [
      "\r",
      "Sample:  87%|██████████████████████▌   | 608/700 [04:23,  2.62it/s, step size=1.02e-01, acc. prob=0.873]"
     ]
    },
    {
     "name": "stderr",
     "output_type": "stream",
     "text": [
      "\r",
      "Sample:  87%|██████████████████████▌   | 609/700 [04:23,  2.62it/s, step size=1.02e-01, acc. prob=0.873]"
     ]
    },
    {
     "name": "stderr",
     "output_type": "stream",
     "text": [
      "\r",
      "Sample:  87%|██████████████████████▋   | 610/700 [04:23,  2.63it/s, step size=1.02e-01, acc. prob=0.873]"
     ]
    },
    {
     "name": "stderr",
     "output_type": "stream",
     "text": [
      "\r",
      "Sample:  87%|██████████████████████▋   | 611/700 [04:24,  2.63it/s, step size=1.02e-01, acc. prob=0.873]"
     ]
    },
    {
     "name": "stderr",
     "output_type": "stream",
     "text": [
      "\r",
      "Sample:  87%|██████████████████████▋   | 612/700 [04:24,  2.64it/s, step size=1.02e-01, acc. prob=0.873]"
     ]
    },
    {
     "name": "stderr",
     "output_type": "stream",
     "text": [
      "\r",
      "Sample:  88%|██████████████████████▊   | 613/700 [04:24,  2.62it/s, step size=1.02e-01, acc. prob=0.873]"
     ]
    },
    {
     "name": "stderr",
     "output_type": "stream",
     "text": [
      "\r",
      "Sample:  88%|██████████████████████▊   | 614/700 [04:25,  2.59it/s, step size=1.02e-01, acc. prob=0.873]"
     ]
    },
    {
     "name": "stderr",
     "output_type": "stream",
     "text": [
      "\r",
      "Sample:  88%|██████████████████████▊   | 615/700 [04:25,  2.60it/s, step size=1.02e-01, acc. prob=0.873]"
     ]
    },
    {
     "name": "stderr",
     "output_type": "stream",
     "text": [
      "\r",
      "Sample:  88%|██████████████████████▉   | 616/700 [04:26,  2.60it/s, step size=1.02e-01, acc. prob=0.873]"
     ]
    },
    {
     "name": "stderr",
     "output_type": "stream",
     "text": [
      "\r",
      "Sample:  88%|██████████████████████▉   | 617/700 [04:26,  2.60it/s, step size=1.02e-01, acc. prob=0.873]"
     ]
    },
    {
     "name": "stderr",
     "output_type": "stream",
     "text": [
      "\r",
      "Sample:  88%|██████████████████████▉   | 618/700 [04:26,  2.58it/s, step size=1.02e-01, acc. prob=0.873]"
     ]
    },
    {
     "name": "stderr",
     "output_type": "stream",
     "text": [
      "\r",
      "Sample:  88%|██████████████████████▉   | 619/700 [04:27,  2.58it/s, step size=1.02e-01, acc. prob=0.873]"
     ]
    },
    {
     "name": "stderr",
     "output_type": "stream",
     "text": [
      "\r",
      "Sample:  89%|███████████████████████   | 620/700 [04:27,  2.59it/s, step size=1.02e-01, acc. prob=0.873]"
     ]
    },
    {
     "name": "stderr",
     "output_type": "stream",
     "text": [
      "\r",
      "Sample:  89%|███████████████████████   | 621/700 [04:28,  2.60it/s, step size=1.02e-01, acc. prob=0.873]"
     ]
    },
    {
     "name": "stderr",
     "output_type": "stream",
     "text": [
      "\r",
      "Sample:  89%|███████████████████████   | 622/700 [04:28,  2.62it/s, step size=1.02e-01, acc. prob=0.872]"
     ]
    },
    {
     "name": "stderr",
     "output_type": "stream",
     "text": [
      "\r",
      "Sample:  89%|███████████████████████▏  | 623/700 [04:28,  2.62it/s, step size=1.02e-01, acc. prob=0.872]"
     ]
    },
    {
     "name": "stderr",
     "output_type": "stream",
     "text": [
      "\r",
      "Sample:  89%|███████████████████████▏  | 624/700 [04:29,  2.62it/s, step size=1.02e-01, acc. prob=0.871]"
     ]
    },
    {
     "name": "stderr",
     "output_type": "stream",
     "text": [
      "\r",
      "Sample:  89%|███████████████████████▏  | 625/700 [04:29,  2.63it/s, step size=1.02e-01, acc. prob=0.871]"
     ]
    },
    {
     "name": "stderr",
     "output_type": "stream",
     "text": [
      "\r",
      "Sample:  89%|███████████████████████▎  | 626/700 [04:29,  2.64it/s, step size=1.02e-01, acc. prob=0.870]"
     ]
    },
    {
     "name": "stderr",
     "output_type": "stream",
     "text": [
      "\r",
      "Sample:  90%|███████████████████████▎  | 627/700 [04:30,  2.64it/s, step size=1.02e-01, acc. prob=0.871]"
     ]
    },
    {
     "name": "stderr",
     "output_type": "stream",
     "text": [
      "\r",
      "Sample:  90%|███████████████████████▎  | 628/700 [04:30,  2.64it/s, step size=1.02e-01, acc. prob=0.871]"
     ]
    },
    {
     "name": "stderr",
     "output_type": "stream",
     "text": [
      "\r",
      "Sample:  90%|███████████████████████▎  | 629/700 [04:31,  2.65it/s, step size=1.02e-01, acc. prob=0.870]"
     ]
    },
    {
     "name": "stderr",
     "output_type": "stream",
     "text": [
      "\r",
      "Sample:  90%|███████████████████████▍  | 630/700 [04:31,  2.65it/s, step size=1.02e-01, acc. prob=0.869]"
     ]
    },
    {
     "name": "stderr",
     "output_type": "stream",
     "text": [
      "\r",
      "Sample:  90%|███████████████████████▍  | 631/700 [04:31,  2.63it/s, step size=1.02e-01, acc. prob=0.870]"
     ]
    },
    {
     "name": "stderr",
     "output_type": "stream",
     "text": [
      "\r",
      "Sample:  90%|███████████████████████▍  | 632/700 [04:32,  2.63it/s, step size=1.02e-01, acc. prob=0.870]"
     ]
    },
    {
     "name": "stderr",
     "output_type": "stream",
     "text": [
      "\r",
      "Sample:  90%|███████████████████████▌  | 633/700 [04:32,  2.63it/s, step size=1.02e-01, acc. prob=0.870]"
     ]
    },
    {
     "name": "stderr",
     "output_type": "stream",
     "text": [
      "\r",
      "Sample:  91%|███████████████████████▌  | 634/700 [04:32,  2.61it/s, step size=1.02e-01, acc. prob=0.870]"
     ]
    },
    {
     "name": "stderr",
     "output_type": "stream",
     "text": [
      "\r",
      "Sample:  91%|███████████████████████▌  | 635/700 [04:33,  2.63it/s, step size=1.02e-01, acc. prob=0.870]"
     ]
    },
    {
     "name": "stderr",
     "output_type": "stream",
     "text": [
      "\r",
      "Sample:  91%|███████████████████████▌  | 636/700 [04:33,  2.62it/s, step size=1.02e-01, acc. prob=0.870]"
     ]
    },
    {
     "name": "stderr",
     "output_type": "stream",
     "text": [
      "\r",
      "Sample:  91%|███████████████████████▋  | 637/700 [04:34,  2.57it/s, step size=1.02e-01, acc. prob=0.870]"
     ]
    },
    {
     "name": "stderr",
     "output_type": "stream",
     "text": [
      "\r",
      "Sample:  91%|███████████████████████▋  | 638/700 [04:34,  2.58it/s, step size=1.02e-01, acc. prob=0.870]"
     ]
    },
    {
     "name": "stderr",
     "output_type": "stream",
     "text": [
      "\r",
      "Sample:  91%|███████████████████████▋  | 639/700 [04:34,  2.60it/s, step size=1.02e-01, acc. prob=0.869]"
     ]
    },
    {
     "name": "stderr",
     "output_type": "stream",
     "text": [
      "\r",
      "Sample:  91%|███████████████████████▊  | 640/700 [04:35,  2.61it/s, step size=1.02e-01, acc. prob=0.869]"
     ]
    },
    {
     "name": "stderr",
     "output_type": "stream",
     "text": [
      "\r",
      "Sample:  92%|███████████████████████▊  | 641/700 [04:35,  2.62it/s, step size=1.02e-01, acc. prob=0.869]"
     ]
    },
    {
     "name": "stderr",
     "output_type": "stream",
     "text": [
      "\r",
      "Sample:  92%|███████████████████████▊  | 642/700 [04:36,  2.62it/s, step size=1.02e-01, acc. prob=0.869]"
     ]
    },
    {
     "name": "stderr",
     "output_type": "stream",
     "text": [
      "\r",
      "Sample:  92%|███████████████████████▉  | 643/700 [04:36,  2.62it/s, step size=1.02e-01, acc. prob=0.869]"
     ]
    },
    {
     "name": "stderr",
     "output_type": "stream",
     "text": [
      "\r",
      "Sample:  92%|███████████████████████▉  | 644/700 [04:36,  2.60it/s, step size=1.02e-01, acc. prob=0.868]"
     ]
    },
    {
     "name": "stderr",
     "output_type": "stream",
     "text": [
      "\r",
      "Sample:  92%|███████████████████████▉  | 645/700 [04:37,  2.61it/s, step size=1.02e-01, acc. prob=0.868]"
     ]
    },
    {
     "name": "stderr",
     "output_type": "stream",
     "text": [
      "\r",
      "Sample:  92%|███████████████████████▉  | 646/700 [04:37,  2.61it/s, step size=1.02e-01, acc. prob=0.868]"
     ]
    },
    {
     "name": "stderr",
     "output_type": "stream",
     "text": [
      "\r",
      "Sample:  92%|████████████████████████  | 647/700 [04:37,  2.63it/s, step size=1.02e-01, acc. prob=0.868]"
     ]
    },
    {
     "name": "stderr",
     "output_type": "stream",
     "text": [
      "\r",
      "Sample:  93%|████████████████████████  | 648/700 [04:38,  2.64it/s, step size=1.02e-01, acc. prob=0.868]"
     ]
    },
    {
     "name": "stderr",
     "output_type": "stream",
     "text": [
      "\r",
      "Sample:  93%|████████████████████████  | 649/700 [04:38,  2.64it/s, step size=1.02e-01, acc. prob=0.869]"
     ]
    },
    {
     "name": "stderr",
     "output_type": "stream",
     "text": [
      "\r",
      "Sample:  93%|████████████████████████▏ | 650/700 [04:39,  2.64it/s, step size=1.02e-01, acc. prob=0.869]"
     ]
    },
    {
     "name": "stderr",
     "output_type": "stream",
     "text": [
      "\r",
      "Sample:  93%|████████████████████████▏ | 651/700 [04:39,  2.65it/s, step size=1.02e-01, acc. prob=0.868]"
     ]
    },
    {
     "name": "stderr",
     "output_type": "stream",
     "text": [
      "\r",
      "Sample:  93%|████████████████████████▏ | 652/700 [04:39,  2.65it/s, step size=1.02e-01, acc. prob=0.868]"
     ]
    },
    {
     "name": "stderr",
     "output_type": "stream",
     "text": [
      "\r",
      "Sample:  93%|████████████████████████▎ | 653/700 [04:40,  2.66it/s, step size=1.02e-01, acc. prob=0.868]"
     ]
    },
    {
     "name": "stderr",
     "output_type": "stream",
     "text": [
      "\r",
      "Sample:  93%|████████████████████████▎ | 654/700 [04:40,  2.66it/s, step size=1.02e-01, acc. prob=0.868]"
     ]
    },
    {
     "name": "stderr",
     "output_type": "stream",
     "text": [
      "\r",
      "Sample:  94%|████████████████████████▎ | 655/700 [04:40,  2.66it/s, step size=1.02e-01, acc. prob=0.868]"
     ]
    },
    {
     "name": "stderr",
     "output_type": "stream",
     "text": [
      "\r",
      "Sample:  94%|████████████████████████▎ | 656/700 [04:41,  2.66it/s, step size=1.02e-01, acc. prob=0.868]"
     ]
    },
    {
     "name": "stderr",
     "output_type": "stream",
     "text": [
      "\r",
      "Sample:  94%|████████████████████████▍ | 657/700 [04:41,  2.65it/s, step size=1.02e-01, acc. prob=0.868]"
     ]
    },
    {
     "name": "stderr",
     "output_type": "stream",
     "text": [
      "\r",
      "Sample:  94%|████████████████████████▍ | 658/700 [04:42,  2.65it/s, step size=1.02e-01, acc. prob=0.868]"
     ]
    },
    {
     "name": "stderr",
     "output_type": "stream",
     "text": [
      "\r",
      "Sample:  94%|████████████████████████▍ | 659/700 [04:42,  2.65it/s, step size=1.02e-01, acc. prob=0.867]"
     ]
    },
    {
     "name": "stderr",
     "output_type": "stream",
     "text": [
      "\r",
      "Sample:  94%|████████████████████████▌ | 660/700 [04:42,  2.65it/s, step size=1.02e-01, acc. prob=0.868]"
     ]
    },
    {
     "name": "stderr",
     "output_type": "stream",
     "text": [
      "\r",
      "Sample:  94%|████████████████████████▌ | 661/700 [04:43,  2.66it/s, step size=1.02e-01, acc. prob=0.867]"
     ]
    },
    {
     "name": "stderr",
     "output_type": "stream",
     "text": [
      "\r",
      "Sample:  95%|████████████████████████▌ | 662/700 [04:43,  2.66it/s, step size=1.02e-01, acc. prob=0.867]"
     ]
    },
    {
     "name": "stderr",
     "output_type": "stream",
     "text": [
      "\r",
      "Sample:  95%|████████████████████████▋ | 663/700 [04:43,  2.66it/s, step size=1.02e-01, acc. prob=0.868]"
     ]
    },
    {
     "name": "stderr",
     "output_type": "stream",
     "text": [
      "\r",
      "Sample:  95%|████████████████████████▋ | 664/700 [04:44,  2.67it/s, step size=1.02e-01, acc. prob=0.867]"
     ]
    },
    {
     "name": "stderr",
     "output_type": "stream",
     "text": [
      "\r",
      "Sample:  95%|████████████████████████▋ | 665/700 [04:44,  2.67it/s, step size=1.02e-01, acc. prob=0.866]"
     ]
    },
    {
     "name": "stderr",
     "output_type": "stream",
     "text": [
      "\r",
      "Sample:  95%|████████████████████████▋ | 666/700 [04:45,  2.66it/s, step size=1.02e-01, acc. prob=0.866]"
     ]
    },
    {
     "name": "stderr",
     "output_type": "stream",
     "text": [
      "\r",
      "Sample:  95%|████████████████████████▊ | 667/700 [04:45,  2.66it/s, step size=1.02e-01, acc. prob=0.866]"
     ]
    },
    {
     "name": "stderr",
     "output_type": "stream",
     "text": [
      "\r",
      "Sample:  95%|████████████████████████▊ | 668/700 [04:45,  2.64it/s, step size=1.02e-01, acc. prob=0.866]"
     ]
    },
    {
     "name": "stderr",
     "output_type": "stream",
     "text": [
      "\r",
      "Sample:  96%|████████████████████████▊ | 669/700 [04:46,  2.64it/s, step size=1.02e-01, acc. prob=0.866]"
     ]
    },
    {
     "name": "stderr",
     "output_type": "stream",
     "text": [
      "\r",
      "Sample:  96%|████████████████████████▉ | 670/700 [04:46,  2.61it/s, step size=1.02e-01, acc. prob=0.866]"
     ]
    },
    {
     "name": "stderr",
     "output_type": "stream",
     "text": [
      "\r",
      "Sample:  96%|████████████████████████▉ | 671/700 [04:47,  2.61it/s, step size=1.02e-01, acc. prob=0.866]"
     ]
    },
    {
     "name": "stderr",
     "output_type": "stream",
     "text": [
      "\r",
      "Sample:  96%|████████████████████████▉ | 672/700 [04:47,  2.62it/s, step size=1.02e-01, acc. prob=0.866]"
     ]
    },
    {
     "name": "stderr",
     "output_type": "stream",
     "text": [
      "\r",
      "Sample:  96%|████████████████████████▉ | 673/700 [04:47,  2.62it/s, step size=1.02e-01, acc. prob=0.866]"
     ]
    },
    {
     "name": "stderr",
     "output_type": "stream",
     "text": [
      "\r",
      "Sample:  96%|█████████████████████████ | 674/700 [04:48,  2.62it/s, step size=1.02e-01, acc. prob=0.866]"
     ]
    },
    {
     "name": "stderr",
     "output_type": "stream",
     "text": [
      "\r",
      "Sample:  96%|█████████████████████████ | 675/700 [04:48,  2.63it/s, step size=1.02e-01, acc. prob=0.866]"
     ]
    },
    {
     "name": "stderr",
     "output_type": "stream",
     "text": [
      "\r",
      "Sample:  97%|█████████████████████████ | 676/700 [04:48,  2.63it/s, step size=1.02e-01, acc. prob=0.866]"
     ]
    },
    {
     "name": "stderr",
     "output_type": "stream",
     "text": [
      "\r",
      "Sample:  97%|█████████████████████████▏| 677/700 [04:49,  2.62it/s, step size=1.02e-01, acc. prob=0.866]"
     ]
    },
    {
     "name": "stderr",
     "output_type": "stream",
     "text": [
      "\r",
      "Sample:  97%|█████████████████████████▏| 678/700 [04:49,  2.63it/s, step size=1.02e-01, acc. prob=0.866]"
     ]
    },
    {
     "name": "stderr",
     "output_type": "stream",
     "text": [
      "\r",
      "Sample:  97%|█████████████████████████▏| 679/700 [04:50,  2.63it/s, step size=1.02e-01, acc. prob=0.866]"
     ]
    },
    {
     "name": "stderr",
     "output_type": "stream",
     "text": [
      "\r",
      "Sample:  97%|█████████████████████████▎| 680/700 [04:50,  2.63it/s, step size=1.02e-01, acc. prob=0.866]"
     ]
    },
    {
     "name": "stderr",
     "output_type": "stream",
     "text": [
      "\r",
      "Sample:  97%|█████████████████████████▎| 681/700 [04:50,  2.64it/s, step size=1.02e-01, acc. prob=0.866]"
     ]
    },
    {
     "name": "stderr",
     "output_type": "stream",
     "text": [
      "\r",
      "Sample:  97%|█████████████████████████▎| 682/700 [04:51,  2.64it/s, step size=1.02e-01, acc. prob=0.866]"
     ]
    },
    {
     "name": "stderr",
     "output_type": "stream",
     "text": [
      "\r",
      "Sample:  98%|█████████████████████████▎| 683/700 [04:51,  2.63it/s, step size=1.02e-01, acc. prob=0.866]"
     ]
    },
    {
     "name": "stderr",
     "output_type": "stream",
     "text": [
      "\r",
      "Sample:  98%|█████████████████████████▍| 684/700 [04:51,  2.64it/s, step size=1.02e-01, acc. prob=0.866]"
     ]
    },
    {
     "name": "stderr",
     "output_type": "stream",
     "text": [
      "\r",
      "Sample:  98%|█████████████████████████▍| 685/700 [04:52,  2.65it/s, step size=1.02e-01, acc. prob=0.866]"
     ]
    },
    {
     "name": "stderr",
     "output_type": "stream",
     "text": [
      "\r",
      "Sample:  98%|█████████████████████████▍| 686/700 [04:52,  2.65it/s, step size=1.02e-01, acc. prob=0.866]"
     ]
    },
    {
     "name": "stderr",
     "output_type": "stream",
     "text": [
      "\r",
      "Sample:  98%|█████████████████████████▌| 687/700 [04:53,  2.65it/s, step size=1.02e-01, acc. prob=0.866]"
     ]
    },
    {
     "name": "stderr",
     "output_type": "stream",
     "text": [
      "\r",
      "Sample:  98%|█████████████████████████▌| 688/700 [04:53,  2.65it/s, step size=1.02e-01, acc. prob=0.867]"
     ]
    },
    {
     "name": "stderr",
     "output_type": "stream",
     "text": [
      "\r",
      "Sample:  98%|█████████████████████████▌| 689/700 [04:53,  2.65it/s, step size=1.02e-01, acc. prob=0.867]"
     ]
    },
    {
     "name": "stderr",
     "output_type": "stream",
     "text": [
      "\r",
      "Sample:  99%|█████████████████████████▋| 690/700 [04:54,  2.65it/s, step size=1.02e-01, acc. prob=0.866]"
     ]
    },
    {
     "name": "stderr",
     "output_type": "stream",
     "text": [
      "\r",
      "Sample:  99%|█████████████████████████▋| 691/700 [04:54,  2.65it/s, step size=1.02e-01, acc. prob=0.866]"
     ]
    },
    {
     "name": "stderr",
     "output_type": "stream",
     "text": [
      "\r",
      "Sample:  99%|█████████████████████████▋| 692/700 [04:54,  2.66it/s, step size=1.02e-01, acc. prob=0.865]"
     ]
    },
    {
     "name": "stderr",
     "output_type": "stream",
     "text": [
      "\r",
      "Sample:  99%|█████████████████████████▋| 693/700 [04:55,  2.66it/s, step size=1.02e-01, acc. prob=0.866]"
     ]
    },
    {
     "name": "stderr",
     "output_type": "stream",
     "text": [
      "\r",
      "Sample:  99%|█████████████████████████▊| 694/700 [04:55,  2.66it/s, step size=1.02e-01, acc. prob=0.866]"
     ]
    },
    {
     "name": "stderr",
     "output_type": "stream",
     "text": [
      "\r",
      "Sample:  99%|█████████████████████████▊| 695/700 [04:56,  2.66it/s, step size=1.02e-01, acc. prob=0.866]"
     ]
    },
    {
     "name": "stderr",
     "output_type": "stream",
     "text": [
      "\r",
      "Sample:  99%|█████████████████████████▊| 696/700 [04:56,  2.66it/s, step size=1.02e-01, acc. prob=0.866]"
     ]
    },
    {
     "name": "stderr",
     "output_type": "stream",
     "text": [
      "\r",
      "Sample: 100%|█████████████████████████▉| 697/700 [04:56,  2.63it/s, step size=1.02e-01, acc. prob=0.866]"
     ]
    },
    {
     "name": "stderr",
     "output_type": "stream",
     "text": [
      "\r",
      "Sample: 100%|█████████████████████████▉| 698/700 [04:57,  2.64it/s, step size=1.02e-01, acc. prob=0.866]"
     ]
    },
    {
     "name": "stderr",
     "output_type": "stream",
     "text": [
      "\r",
      "Sample: 100%|█████████████████████████▉| 699/700 [04:57,  2.64it/s, step size=1.02e-01, acc. prob=0.866]"
     ]
    },
    {
     "name": "stderr",
     "output_type": "stream",
     "text": [
      "\r",
      "Sample: 100%|██████████████████████████| 700/700 [04:57,  2.65it/s, step size=1.02e-01, acc. prob=0.866]"
     ]
    },
    {
     "name": "stderr",
     "output_type": "stream",
     "text": [
      "\r",
      "Sample: 100%|██████████████████████████| 700/700 [04:57,  2.35it/s, step size=1.02e-01, acc. prob=0.866]"
     ]
    },
    {
     "name": "stderr",
     "output_type": "stream",
     "text": [
      "\n"
     ]
    }
   ],
   "source": [
    "samples = 500\n",
    "warm_up = 200\n",
    "\n",
    "X_torch = torch.tensor(X)\n",
    "t_torch = torch.tensor(t)\n",
    "y_torch = torch.tensor(y)\n",
    "\n",
    "\n",
    "# Initialize No U-Turn Sampler\n",
    "nuts_kernel = NUTS(model_treatment_intersection, max_tree_depth=7)\n",
    "model_mcmc = MCMC(nuts_kernel, num_samples=samples, warmup_steps=warm_up)\n",
    "\n",
    "# Run the sampler\n",
    "model_mcmc.run(X_torch, t_torch, y_torch)"
   ]
  },
  {
   "cell_type": "markdown",
   "id": "26",
   "metadata": {
    "papermill": {
     "duration": 0.111291,
     "end_time": "2021-11-30T01:33:47.622031",
     "exception": false,
     "start_time": "2021-11-30T01:33:47.510740",
     "status": "completed"
    },
    "tags": []
   },
   "source": [
    "### Sample the ATE"
   ]
  },
  {
   "cell_type": "code",
   "execution_count": 15,
   "id": "27",
   "metadata": {
    "execution": {
     "iopub.execute_input": "2021-11-30T01:33:47.843871Z",
     "iopub.status.busy": "2021-11-30T01:33:47.843534Z",
     "iopub.status.idle": "2021-11-30T01:33:54.481295Z",
     "shell.execute_reply": "2021-11-30T01:33:54.480618Z"
    },
    "papermill": {
     "duration": 6.750896,
     "end_time": "2021-11-30T01:33:54.481468",
     "exception": false,
     "start_time": "2021-11-30T01:33:47.730572",
     "status": "completed"
    },
    "tags": []
   },
   "outputs": [
    {
     "name": "stdout",
     "output_type": "stream",
     "text": [
      "Hierarchical Linear Regression\n",
      "  R-squared = 0.4798 (0.0046)\n",
      "  ATE: 0.1029\n",
      "  CI (0.025, 0.975): [0.0506, 0.1583]\n"
     ]
    }
   ],
   "source": [
    "hbr_samples = model_mcmc.get_samples()\n",
    "w_0s = hbr_samples[\"intercept\"]\n",
    "w_ts = hbr_samples[\"treatment\"]\n",
    "w_xs = hbr_samples[\"confounders\"]\n",
    "w_txs = hbr_samples[\"intersection\"]\n",
    "\n",
    "ate_hlr_samples = np.zeros(samples)\n",
    "score_samples = np.zeros(samples)\n",
    "t0 = torch.zeros_like(t_torch)\n",
    "t1 = torch.ones_like(t_torch)\n",
    "\n",
    "for s in range(samples):\n",
    "    f = predict(w_0s[s], w_ts[s], w_xs[s], w_txs[s], X_torch, t_torch)\n",
    "    f1 = predict(w_0s[s], w_ts[s], w_xs[s], w_txs[s], X_torch, t1)\n",
    "    f0 = predict(w_0s[s], w_ts[s], w_xs[s], w_txs[s], X_torch, t0)\n",
    "    ate_hlr_samples[s] = f1.mean() - f0.mean()\n",
    "    score_samples[s] = r2_score(y, f)\n",
    "\n",
    "ate_hlr = ate_hlr_samples.mean()\n",
    "ci_hlr = mstats.mquantiles(ate_hlr_samples, prob=[0.025, 0.975])\n",
    "\n",
    "print(\"Hierarchical Linear Regression\")\n",
    "print(f\"  R-squared = {score_samples.mean():.4f} ({score_samples.std():.4f})\")\n",
    "print(f\"  ATE: {ate_hlr:.4f}\")\n",
    "print(f\"  CI (0.025, 0.975): [{ci_hlr[0]:.4f}, {ci_hlr[1]:.4f}]\")"
   ]
  },
  {
   "cell_type": "code",
   "execution_count": 16,
   "id": "28",
   "metadata": {
    "execution": {
     "iopub.execute_input": "2021-11-30T01:33:54.738983Z",
     "iopub.status.busy": "2021-11-30T01:33:54.736678Z",
     "iopub.status.idle": "2021-11-30T01:33:54.873446Z",
     "shell.execute_reply": "2021-11-30T01:33:54.873149Z"
    },
    "papermill": {
     "duration": 0.259193,
     "end_time": "2021-11-30T01:33:54.873526",
     "exception": false,
     "start_time": "2021-11-30T01:33:54.614333",
     "status": "completed"
    },
    "tags": []
   },
   "outputs": [
    {
     "data": {
      "image/png": "[encoded data removed]",
      "text/plain": [
       "<Figure size 900x600 with 1 Axes>"
      ]
     },
     "metadata": {
      "needs_background": "light"
     },
     "output_type": "display_data"
    }
   ],
   "source": [
    "plt.figure(dpi=150)\n",
    "cnt, *_ = plt.hist(ate_hlr_samples, bins=20)\n",
    "plt.plot([ate_hlr, ate_hlr], [0, max(cnt)], 'r', label=\"mean\")\n",
    "plt.title(\"HLR ATE samples\")\n",
    "plt.xlabel(\"ATE\")\n",
    "plt.ylabel(\"counts\")\n",
    "plt.grid()\n",
    "plt.legend()\n",
    "plt.show()"
   ]
  },
  {
   "cell_type": "markdown",
   "id": "29",
   "metadata": {
    "papermill": {
     "duration": 0.109198,
     "end_time": "2021-11-30T01:33:55.092505",
     "exception": false,
     "start_time": "2021-11-30T01:33:54.983307",
     "status": "completed"
    },
    "tags": []
   },
   "source": [
    "## Plot ATE"
   ]
  },
  {
   "cell_type": "code",
   "execution_count": 17,
   "id": "30",
   "metadata": {
    "execution": {
     "iopub.execute_input": "2021-11-30T01:33:55.328056Z",
     "iopub.status.busy": "2021-11-30T01:33:55.324576Z",
     "iopub.status.idle": "2021-11-30T01:33:55.435503Z",
     "shell.execute_reply": "2021-11-30T01:33:55.435757Z"
    },
    "papermill": {
     "duration": 0.231888,
     "end_time": "2021-11-30T01:33:55.435858",
     "exception": false,
     "start_time": "2021-11-30T01:33:55.203970",
     "status": "completed"
    },
    "tags": []
   },
   "outputs": [
    {
     "data": {
      "image/png": "[encoded data removed]",
      "text/plain": [
       "<Figure size 900x600 with 1 Axes>"
      ]
     },
     "metadata": {
      "needs_background": "light"
     },
     "output_type": "display_data"
    }
   ],
   "source": [
    "ate_labels = [\"OLS\", \"Bayesian Linear\", \"Gaussian Process\", \"Hierarchical Linear\"]\n",
    "ate = [ate_ols, ate_blr, ate_gp, ate_hlr]\n",
    "ci = [ci_ols, ci_blr, ci_gp, ci_hlr]\n",
    "ind = np.arange(len(ate))\n",
    "\n",
    "plt.figure(dpi=150)\n",
    "plt.vlines(ind, ymin=[c[0] for c in ci], ymax=[c[1] for c in ci], colors='k', linewidth=3)\n",
    "plt.plot(ind, ate, 'rx', markersize=10)\n",
    "plt.xticks(ind, labels=ate_labels, rotation=30)\n",
    "plt.grid()\n",
    "plt.show()"
   ]
  },
  {
   "cell_type": "code",
   "execution_count": null,
   "id": "31",
   "metadata": {
    "papermill": {
     "duration": 0.112303,
     "end_time": "2021-11-30T01:33:55.657703",
     "exception": false,
     "start_time": "2021-11-30T01:33:55.545400",
     "status": "completed"
    },
    "tags": []
   },
   "outputs": [],
   "source": []
  }
 ],
 "metadata": {
  "celltoolbar": "Tags",
  "kernelspec": {
   "display_name": "Python 3 (ipykernel)",
   "language": "python",
   "name": "python3"
  },
  "language_info": {
   "codemirror_mode": {
    "name": "ipython",
    "version": 3
   },
   "file_extension": ".py",
   "mimetype": "text/x-python",
   "name": "python",
   "nbconvert_exporter": "python",
   "pygments_lexer": "ipython3",
   "version": "3.9.9"
  },
  "papermill": {
   "default_parameters": {},
   "duration": 4185.008783,
   "end_time": "2021-11-30T01:33:56.383361",
   "environment_variables": {},
   "exception": null,
   "input_path": "Direct-Bayesian.ipynb",
   "output_path": "results/Direct-Bayesian-all-vars-restricted.ipynb",
   "parameters": {
    "configuration_name": "all-vars-restricted",
    "data_file": "data/all_vars_restricted.csv",
    "laplace_prior": false,
    "outcome": "y_wsce",
    "release": "restricted",
    "test": false,
    "treatment": "redufl",
    "xval_gp": true
   },
   "start_time": "2021-11-30T00:24:11.374578",
   "version": "2.3.3"
  }
 },
 "nbformat": 4,
 "nbformat_minor": 5
}
