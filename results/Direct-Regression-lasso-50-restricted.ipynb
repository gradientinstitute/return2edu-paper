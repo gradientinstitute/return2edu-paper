{
 "cells": [
  {
   "cell_type": "markdown",
   "id": "b21b70f3",
   "metadata": {},
   "source": [
    "# lasso-50-restricted"
   ]
  },
  {
   "cell_type": "markdown",
   "id": "0",
   "metadata": {
    "papermill": {
     "duration": 0.040411,
     "end_time": "2021-11-26T03:32:53.865804",
     "exception": false,
     "start_time": "2021-11-26T03:32:53.825393",
     "status": "completed"
    },
    "tags": []
   },
   "source": [
    "# Direct Regression"
   ]
  },
  {
   "cell_type": "code",
   "execution_count": 1,
   "id": "1",
   "metadata": {
    "execution": {
     "iopub.execute_input": "2021-11-26T03:32:53.974558Z",
     "iopub.status.busy": "2021-11-26T03:32:53.974233Z",
     "iopub.status.idle": "2021-11-26T03:32:55.067015Z",
     "shell.execute_reply": "2021-11-26T03:32:55.066450Z"
    },
    "papermill": {
     "duration": 1.138277,
     "end_time": "2021-11-26T03:32:55.067141",
     "exception": false,
     "start_time": "2021-11-26T03:32:53.928864",
     "status": "completed"
    },
    "tags": [
     "hide_cell"
    ]
   },
   "outputs": [],
   "source": [
    "# import libraries\n",
    "import numpy as np\n",
    "import pandas as pd\n",
    "import matplotlib.pyplot as plt\n",
    "from sklearn.linear_model import Lasso, Ridge, LinearRegression\n",
    "from sklearn.ensemble import GradientBoostingRegressor\n",
    "from sklearn.metrics import r2_score\n",
    "import pickle\n",
    "import time\n",
    "from reed import drop_missing_treatment_or_outcome, Model, transform_outcome\n",
    "\n",
    "# set global notebook options\n",
    "pd.options.display.max_columns = 200\n",
    "pd.options.display.max_rows = 500\n",
    "pd.options.display.max_colwidth = 100\n",
    "\n",
    "%matplotlib inline\n",
    "\n",
    "%load_ext autoreload\n",
    "%autoreload 2"
   ]
  },
  {
   "cell_type": "markdown",
   "id": "3",
   "metadata": {
    "papermill": {
     "duration": 0.03935,
     "end_time": "2021-11-26T03:32:55.243744",
     "exception": false,
     "start_time": "2021-11-26T03:32:55.204394",
     "status": "completed"
    },
    "tags": []
   },
   "source": [
    "#### Parameters"
   ]
  },
  {
   "cell_type": "code",
   "execution_count": 2,
   "id": "4",
   "metadata": {
    "execution": {
     "iopub.execute_input": "2021-11-26T03:32:55.326896Z",
     "iopub.status.busy": "2021-11-26T03:32:55.326589Z",
     "iopub.status.idle": "2021-11-26T03:32:55.338538Z",
     "shell.execute_reply": "2021-11-26T03:32:55.338763Z"
    },
    "papermill": {
     "duration": 0.05526,
     "end_time": "2021-11-26T03:32:55.338854",
     "exception": false,
     "start_time": "2021-11-26T03:32:55.283594",
     "status": "completed"
    },
    "tags": [
     "parameters"
    ]
   },
   "outputs": [],
   "source": [
    "optimisation_metric = 'neg_mean_squared_error'\n",
    "evaluation_metrics = ('r2','neg_mean_squared_error')\n",
    "log_outcome=True\n",
    "standardize_outcome=True\n",
    "load_from_cache=False\n",
    "exclude_patterns = [\n",
    "    '^reduhl$', '^rehllt$', '^redudl$', '^redufl$', '^redllt$', '^refllt$',\n",
    "    '^rlwage$', '^mh$', '^mhbm$', '^wkhr$', '^y_', '^p_rcom','^p_rdf','^p_cotrl',\n",
    "    '^xwaveid$','p_rcom18','^aedcq', '^abnfsty','^aedcqfpt','^aedqstdy'\n",
    "]\n",
    "data_load_func = lambda filepath: pd.read_csv(filepath, index_col='xwaveid')\n",
    "\n",
    "configuration_name = 'default'\n",
    "outcome = 'y_wsce'#'y_wsce'\n",
    "treatment = 'redufl'\n",
    "test=False\n",
    "data_file = \"data/all_lasso_selected_100_restricted.csv\"\n",
    "release = \"restricted\" # only used to determine which metadata file to read. "
   ]
  },
  {
   "cell_type": "code",
   "execution_count": 3,
   "id": "9ac8e32a",
   "metadata": {
    "execution": {
     "iopub.execute_input": "2021-11-26T03:32:55.420897Z",
     "iopub.status.busy": "2021-11-26T03:32:55.420596Z",
     "iopub.status.idle": "2021-11-26T03:32:55.431746Z",
     "shell.execute_reply": "2021-11-26T03:32:55.431455Z"
    },
    "papermill": {
     "duration": 0.053772,
     "end_time": "2021-11-26T03:32:55.431812",
     "exception": false,
     "start_time": "2021-11-26T03:32:55.378040",
     "status": "completed"
    },
    "tags": [
     "injected-parameters"
    ]
   },
   "outputs": [],
   "source": [
    "# Parameters\n",
    "configuration_name = \"lasso-50-restricted\"\n",
    "outcome = \"y_wsce\"\n",
    "treatment = \"redufl\"\n",
    "test = False\n",
    "data_file = \"data/all_lasso_selected_50_restricted.csv\"\n",
    "release = \"restricted\"\n"
   ]
  },
  {
   "cell_type": "code",
   "execution_count": 4,
   "id": "5",
   "metadata": {
    "execution": {
     "iopub.execute_input": "2021-11-26T03:32:55.514881Z",
     "iopub.status.busy": "2021-11-26T03:32:55.514586Z",
     "iopub.status.idle": "2021-11-26T03:32:55.525805Z",
     "shell.execute_reply": "2021-11-26T03:32:55.525569Z"
    },
    "papermill": {
     "duration": 0.054839,
     "end_time": "2021-11-26T03:32:55.525875",
     "exception": false,
     "start_time": "2021-11-26T03:32:55.471036",
     "status": "completed"
    },
    "tags": []
   },
   "outputs": [],
   "source": [
    "# parameters that depend on those set above (which may have been inserted by Papermill)\n",
    "if test:\n",
    "    inner_cv = 2\n",
    "    outer_cv = 2\n",
    "    bootstrap_samples = 3\n",
    "\n",
    "else:\n",
    "    inner_cv = 5\n",
    "    outer_cv = 10\n",
    "    bootstrap_samples = 50\n",
    "\n",
    "cross_val_cache = f\"data/cross-val-{configuration_name}.pkl\"#\"data/cross-val-all.pkl\"\n",
    "bootstrap_cache = f\"data/bootstrap-{configuration_name}.pkl\"#\"data/bootstrap-all.pkl\""
   ]
  },
  {
   "cell_type": "markdown",
   "id": "6",
   "metadata": {
    "papermill": {
     "duration": 0.040669,
     "end_time": "2021-11-26T03:32:55.605866",
     "exception": false,
     "start_time": "2021-11-26T03:32:55.565197",
     "status": "completed"
    },
    "tags": []
   },
   "source": [
    "### Load Data \n",
    "   - drop rows missing the specified treatment or outcome"
   ]
  },
  {
   "cell_type": "code",
   "execution_count": 5,
   "id": "7",
   "metadata": {
    "execution": {
     "iopub.execute_input": "2021-11-26T03:32:55.689956Z",
     "iopub.status.busy": "2021-11-26T03:32:55.689665Z",
     "iopub.status.idle": "2021-11-26T03:32:55.834334Z",
     "shell.execute_reply": "2021-11-26T03:32:55.834063Z"
    },
    "papermill": {
     "duration": 0.187601,
     "end_time": "2021-11-26T03:32:55.834413",
     "exception": false,
     "start_time": "2021-11-26T03:32:55.646812",
     "status": "completed"
    },
    "tags": [
     "hide_input"
    ]
   },
   "outputs": [
    {
     "name": "stdout",
     "output_type": "stream",
     "text": [
      "Dropped 284 rows missing treatment or outcome.\n"
     ]
    },
    {
     "data": {
      "image/png": "[encoded data removed]",
      "text/plain": [
       "<Figure size 432x288 with 1 Axes>"
      ]
     },
     "metadata": {
      "needs_background": "light"
     },
     "output_type": "display_data"
    }
   ],
   "source": [
    "data = data_load_func(data_file)\n",
    "drop_missing_treatment_or_outcome(data, treatment, outcome)\n",
    "data[outcome] = transform_outcome(data[outcome],log_outcome, standardize_outcome)\n",
    "\n",
    "    \n",
    "plt.hist(data[outcome])\n",
    "plt.xlabel(outcome)\n",
    "plt.ylabel(\"count\")\n",
    "plt.title(\"Distribution of outcomes\");"
   ]
  },
  {
   "cell_type": "markdown",
   "id": "8",
   "metadata": {
    "papermill": {
     "duration": 0.042053,
     "end_time": "2021-11-26T03:32:55.917121",
     "exception": false,
     "start_time": "2021-11-26T03:32:55.875068",
     "status": "completed"
    },
    "tags": []
   },
   "source": [
    "### Set up models\n",
    "Specify which models to use and the hyper-parameter space to search over for each"
   ]
  },
  {
   "cell_type": "code",
   "execution_count": 6,
   "id": "9",
   "metadata": {
    "execution": {
     "iopub.execute_input": "2021-11-26T03:32:56.006446Z",
     "iopub.status.busy": "2021-11-26T03:32:56.006105Z",
     "iopub.status.idle": "2021-11-26T03:32:56.018037Z",
     "shell.execute_reply": "2021-11-26T03:32:56.017804Z"
    },
    "papermill": {
     "duration": 0.058774,
     "end_time": "2021-11-26T03:32:56.018106",
     "exception": false,
     "start_time": "2021-11-26T03:32:55.959332",
     "status": "completed"
    },
    "tags": [
     "hide_input"
    ]
   },
   "outputs": [],
   "source": [
    "from sklearn.linear_model import Lasso, Ridge\n",
    "from sklearn.ensemble import GradientBoostingRegressor\n",
    "from direct_regression import importance_from_coef\n",
    "\n",
    "def construct_models():\n",
    "    models = [\n",
    "        Model('ridge',Ridge(), \n",
    "              parameters = {\n",
    "                  'alpha':np.logspace(-1,4,30)\n",
    "              },\n",
    "              importance_func=importance_from_coef\n",
    "        ),\n",
    "        Model('lasso',Lasso(),\n",
    "              parameters = {\n",
    "                  'alpha':np.logspace(-2,4,30)\n",
    "              },\n",
    "              importance_func=importance_from_coef\n",
    "        ), \n",
    "        Model('gbr',GradientBoostingRegressor(n_iter_no_change=20, max_depth=2),\n",
    "              parameters = {\n",
    "                'max_features':np.linspace(0,1,6)[1:],\n",
    "                'learning_rate':np.logspace(-3,0,10),\n",
    "                'min_samples_leaf':np.logspace(0,3,10).astype(int)\n",
    "              }\n",
    "        ),\n",
    "    ]\n",
    "    return models\n",
    "\n",
    "# used for quick tests\n",
    "def construct_test_models(): \n",
    "    models = [\n",
    "        Model('Ridge',Ridge(),\n",
    "              parameters = {'alpha':np.logspace(1,4,2)},\n",
    "              importance_func=importance_from_coef\n",
    "        ),\n",
    "        Model('gbr',GradientBoostingRegressor(n_iter_no_change=20, max_depth=2),\n",
    "              parameters = {\n",
    "                'max_features':np.linspace(0,1,4)[1:],\n",
    "              }\n",
    "        ),\n",
    "    ]\n",
    "    return models\n",
    "\n",
    "model_init = construct_test_models if test else construct_models"
   ]
  },
  {
   "cell_type": "markdown",
   "id": "10",
   "metadata": {
    "papermill": {
     "duration": 0.042778,
     "end_time": "2021-11-26T03:32:56.101675",
     "exception": false,
     "start_time": "2021-11-26T03:32:56.058897",
     "status": "completed"
    },
    "tags": []
   },
   "source": [
    "### Prepare data for modeling\n",
    "   - split into treated/control\n",
    "   - impute missing values and scale\n",
    "   - separate features from outcomes&treatments"
   ]
  },
  {
   "cell_type": "code",
   "execution_count": 7,
   "id": "11",
   "metadata": {
    "execution": {
     "iopub.execute_input": "2021-11-26T03:32:56.189532Z",
     "iopub.status.busy": "2021-11-26T03:32:56.189222Z",
     "iopub.status.idle": "2021-11-26T03:32:56.210274Z",
     "shell.execute_reply": "2021-11-26T03:32:56.210505Z"
    },
    "papermill": {
     "duration": 0.066421,
     "end_time": "2021-11-26T03:32:56.210597",
     "exception": false,
     "start_time": "2021-11-26T03:32:56.144176",
     "status": "completed"
    },
    "tags": [
     "hide_input"
    ]
   },
   "outputs": [
    {
     "name": "stdout",
     "output_type": "stream",
     "text": [
      "Control data dimensions:  (3789, 48)\n",
      "Treated data dimensions: (1368, 48)\n"
     ]
    }
   ],
   "source": [
    "from direct_regression import seperate_and_transform_data\n",
    "X0, X1, y0, y1, X, y, t, features = seperate_and_transform_data(data, treatment, outcome)\n",
    "print(\"Control data dimensions: \",X0.shape)\n",
    "print(\"Treated data dimensions:\",X1.shape)"
   ]
  },
  {
   "cell_type": "markdown",
   "id": "12",
   "metadata": {
    "papermill": {
     "duration": 0.043356,
     "end_time": "2021-11-26T03:32:56.295491",
     "exception": false,
     "start_time": "2021-11-26T03:32:56.252135",
     "status": "completed"
    },
    "tags": []
   },
   "source": [
    "### Compute unconditional/unadjusted estimate of treatment effect"
   ]
  },
  {
   "cell_type": "code",
   "execution_count": 8,
   "id": "13",
   "metadata": {
    "execution": {
     "iopub.execute_input": "2021-11-26T03:32:56.384275Z",
     "iopub.status.busy": "2021-11-26T03:32:56.383976Z",
     "iopub.status.idle": "2021-11-26T03:32:56.395820Z",
     "shell.execute_reply": "2021-11-26T03:32:56.396036Z"
    },
    "papermill": {
     "duration": 0.057311,
     "end_time": "2021-11-26T03:32:56.396120",
     "exception": false,
     "start_time": "2021-11-26T03:32:56.338809",
     "status": "completed"
    },
    "tags": [
     "hide_input"
    ]
   },
   "outputs": [
    {
     "name": "stdout",
     "output_type": "stream",
     "text": [
      "Proportion Treated:27%\n",
      "Average outcome under Control:-0.14±0.02\n",
      "Average outcome under Treatment:0.37±0.03\n",
      "Unadjusted treatment estimate 0.51\n"
     ]
    }
   ],
   "source": [
    "from direct_regression import print_unconditional_effects\n",
    "print_unconditional_effects(data, treatment, y0, y1)"
   ]
  },
  {
   "cell_type": "markdown",
   "id": "14",
   "metadata": {
    "papermill": {
     "duration": 0.043984,
     "end_time": "2021-11-26T03:32:56.482656",
     "exception": false,
     "start_time": "2021-11-26T03:32:56.438672",
     "status": "completed"
    },
    "tags": []
   },
   "source": [
    "### Propensity model\n",
    "\n",
    "- Run primarily to check for violations over overlap assumptions."
   ]
  },
  {
   "cell_type": "code",
   "execution_count": 9,
   "id": "15",
   "metadata": {
    "execution": {
     "iopub.execute_input": "2021-11-26T03:32:56.573477Z",
     "iopub.status.busy": "2021-11-26T03:32:56.573179Z",
     "iopub.status.idle": "2021-11-26T03:32:57.505828Z",
     "shell.execute_reply": "2021-11-26T03:32:57.506465Z"
    },
    "papermill": {
     "duration": 0.97997,
     "end_time": "2021-11-26T03:32:57.506669",
     "exception": false,
     "start_time": "2021-11-26T03:32:56.526699",
     "status": "completed"
    },
    "tags": [
     "hide_cell"
    ]
   },
   "outputs": [],
   "source": [
    "from reed import visualise_propensity_model_performance\n",
    "from sklearn.model_selection import train_test_split\n",
    "from sklearn.linear_model import LogisticRegression, LogisticRegressionCV\n",
    "\n",
    "X_train, X_test, t_train, t_test = train_test_split(X,t,stratify=t)\n",
    "pmodel = LogisticRegressionCV(Cs = np.logspace(-5,-1,20), penalty='l2', max_iter=10000)\n",
    "pmodel.fit(X_train, t_train);"
   ]
  },
  {
   "cell_type": "code",
   "execution_count": 10,
   "id": "16",
   "metadata": {
    "execution": {
     "iopub.execute_input": "2021-11-26T03:32:57.662925Z",
     "iopub.status.busy": "2021-11-26T03:32:57.662614Z",
     "iopub.status.idle": "2021-11-26T03:32:57.917730Z",
     "shell.execute_reply": "2021-11-26T03:32:57.917251Z"
    },
    "papermill": {
     "duration": 0.303657,
     "end_time": "2021-11-26T03:32:57.917807",
     "exception": false,
     "start_time": "2021-11-26T03:32:57.614150",
     "status": "completed"
    },
    "tags": [
     "hide_input"
    ]
   },
   "outputs": [
    {
     "data": {
      "image/png": "[encoded data removed]",
      "text/plain": [
       "<Figure size 1080x360 with 2 Axes>"
      ]
     },
     "metadata": {
      "needs_background": "light"
     },
     "output_type": "display_data"
    }
   ],
   "source": [
    "visualise_propensity_model_performance(t_test, pmodel.predict_proba(X_test)[:,1],'l2-logistic',bins=10)"
   ]
  },
  {
   "cell_type": "code",
   "execution_count": 11,
   "id": "17",
   "metadata": {
    "execution": {
     "iopub.execute_input": "2021-11-26T03:32:58.010744Z",
     "iopub.status.busy": "2021-11-26T03:32:58.010448Z",
     "iopub.status.idle": "2021-11-26T03:32:58.045545Z",
     "shell.execute_reply": "2021-11-26T03:32:58.045766Z"
    },
    "papermill": {
     "duration": 0.084656,
     "end_time": "2021-11-26T03:32:58.045856",
     "exception": false,
     "start_time": "2021-11-26T03:32:57.961200",
     "status": "completed"
    },
    "tags": [
     "hide_input"
    ]
   },
   "outputs": [
    {
     "name": "stdout",
     "output_type": "stream",
     "text": [
      "Propensity Model Coefficients\n"
     ]
    },
    {
     "data": {
      "text/html": [
       "<div>\n",
       "<style scoped>\n",
       "    .dataframe tbody tr th:only-of-type {\n",
       "        vertical-align: middle;\n",
       "    }\n",
       "\n",
       "    .dataframe tbody tr th {\n",
       "        vertical-align: top;\n",
       "    }\n",
       "\n",
       "    .dataframe thead th {\n",
       "        text-align: right;\n",
       "    }\n",
       "</style>\n",
       "<table border=\"1\" class=\"dataframe\">\n",
       "  <thead>\n",
       "    <tr style=\"text-align: right;\">\n",
       "      <th></th>\n",
       "      <th>label</th>\n",
       "      <th>c</th>\n",
       "      <th>abs</th>\n",
       "    </tr>\n",
       "  </thead>\n",
       "  <tbody>\n",
       "    <tr>\n",
       "      <th>atcyng</th>\n",
       "      <td>DV: Age youngest own child (excl. resident foster/step)</td>\n",
       "      <td>-0.201072</td>\n",
       "      <td>0.201072</td>\n",
       "    </tr>\n",
       "    <tr>\n",
       "      <th>ahhyng</th>\n",
       "      <td>DV: Age of youngest person in household</td>\n",
       "      <td>-0.165523</td>\n",
       "      <td>0.165523</td>\n",
       "    </tr>\n",
       "    <tr>\n",
       "      <th>aehtjbyr</th>\n",
       "      <td>D3a1 Years in paid work</td>\n",
       "      <td>-0.153809</td>\n",
       "      <td>0.153809</td>\n",
       "    </tr>\n",
       "    <tr>\n",
       "      <th>awscoef</th>\n",
       "      <td>DV: Imputation flag current weekly gross wages &amp; salary - other jobs</td>\n",
       "      <td>0.145172</td>\n",
       "      <td>0.145172</td>\n",
       "    </tr>\n",
       "    <tr>\n",
       "      <th>amhn10yr</th>\n",
       "      <td>K12 How many homes lived in during last 10 years</td>\n",
       "      <td>0.130290</td>\n",
       "      <td>0.130290</td>\n",
       "    </tr>\n",
       "    <tr>\n",
       "      <th>atcnr</th>\n",
       "      <td>DV: Number of own non-resident children</td>\n",
       "      <td>-0.130247</td>\n",
       "      <td>0.130247</td>\n",
       "    </tr>\n",
       "    <tr>\n",
       "      <th>awsfga</th>\n",
       "      <td>G20 Gross financial year wages and salaries ($)</td>\n",
       "      <td>-0.102460</td>\n",
       "      <td>0.102460</td>\n",
       "    </tr>\n",
       "    <tr>\n",
       "      <th>ajsl4wk</th>\n",
       "      <td>F1 Looked for work in last 4 weeks</td>\n",
       "      <td>0.099808</td>\n",
       "      <td>0.099808</td>\n",
       "    </tr>\n",
       "    <tr>\n",
       "      <th>aloimpew</th>\n",
       "      <td>K8 Importance - B Your employment and work situation</td>\n",
       "      <td>0.098721</td>\n",
       "      <td>0.098721</td>\n",
       "    </tr>\n",
       "    <tr>\n",
       "      <th>ahgsex</th>\n",
       "      <td>HF3 Sex</td>\n",
       "      <td>0.097719</td>\n",
       "      <td>0.097719</td>\n",
       "    </tr>\n",
       "    <tr>\n",
       "      <th>ahgms</th>\n",
       "      <td>HF8 Living circumstances</td>\n",
       "      <td>0.083948</td>\n",
       "      <td>0.083948</td>\n",
       "    </tr>\n",
       "    <tr>\n",
       "      <th>ajbmwpsz</th>\n",
       "      <td>E33 Number employed at place of work</td>\n",
       "      <td>0.071735</td>\n",
       "      <td>0.071735</td>\n",
       "    </tr>\n",
       "    <tr>\n",
       "      <th>ahgrf</th>\n",
       "      <td>HF10 Follow-up stage individual interview outcome</td>\n",
       "      <td>0.067428</td>\n",
       "      <td>0.067428</td>\n",
       "    </tr>\n",
       "    <tr>\n",
       "      <th>ahiwscei</th>\n",
       "      <td>DV: Household current weekly gross wages &amp; salary - all jobs ($) [imputed]</td>\n",
       "      <td>0.065052</td>\n",
       "      <td>0.065052</td>\n",
       "    </tr>\n",
       "    <tr>\n",
       "      <th>ahhd1014</th>\n",
       "      <td>DV: Number of dependent children aged 10-14 (includes partner's children)</td>\n",
       "      <td>0.064263</td>\n",
       "      <td>0.064263</td>\n",
       "    </tr>\n",
       "    <tr>\n",
       "      <th>agh3a</th>\n",
       "      <td>SCQ:A3a Physical Functioning: Vigorous activities</td>\n",
       "      <td>0.063856</td>\n",
       "      <td>0.063856</td>\n",
       "    </tr>\n",
       "    <tr>\n",
       "      <th>ajbmpgj</th>\n",
       "      <td>E29 Percent chance will find and accept job at least as good as current job</td>\n",
       "      <td>0.060933</td>\n",
       "      <td>0.060933</td>\n",
       "    </tr>\n",
       "    <tr>\n",
       "      <th>acpno</th>\n",
       "      <td>Q9 Uses child care while at work - Number of not yet at school children</td>\n",
       "      <td>-0.058367</td>\n",
       "      <td>0.058367</td>\n",
       "    </tr>\n",
       "    <tr>\n",
       "      <th>alosateo</th>\n",
       "      <td>K6 Satisfaction - Your employment opportunities</td>\n",
       "      <td>-0.057768</td>\n",
       "      <td>0.057768</td>\n",
       "    </tr>\n",
       "    <tr>\n",
       "      <th>awscme</th>\n",
       "      <td>DV: Current weekly gross wages &amp; salary, main job, includes estimated from net ($)</td>\n",
       "      <td>0.056418</td>\n",
       "      <td>0.056418</td>\n",
       "    </tr>\n",
       "  </tbody>\n",
       "</table>\n",
       "</div>"
      ],
      "text/plain": [
       "                                                                                       label  \\\n",
       "atcyng                               DV: Age youngest own child (excl. resident foster/step)   \n",
       "ahhyng                                               DV: Age of youngest person in household   \n",
       "aehtjbyr                                                             D3a1 Years in paid work   \n",
       "awscoef                 DV: Imputation flag current weekly gross wages & salary - other jobs   \n",
       "amhn10yr                                    K12 How many homes lived in during last 10 years   \n",
       "atcnr                                                DV: Number of own non-resident children   \n",
       "awsfga                                       G20 Gross financial year wages and salaries ($)   \n",
       "ajsl4wk                                                   F1 Looked for work in last 4 weeks   \n",
       "aloimpew                                K8 Importance - B Your employment and work situation   \n",
       "ahgsex                                                                               HF3 Sex   \n",
       "ahgms                                                               HF8 Living circumstances   \n",
       "ajbmwpsz                                                E33 Number employed at place of work   \n",
       "ahgrf                                      HF10 Follow-up stage individual interview outcome   \n",
       "ahiwscei          DV: Household current weekly gross wages & salary - all jobs ($) [imputed]   \n",
       "ahhd1014           DV: Number of dependent children aged 10-14 (includes partner's children)   \n",
       "agh3a                                      SCQ:A3a Physical Functioning: Vigorous activities   \n",
       "ajbmpgj          E29 Percent chance will find and accept job at least as good as current job   \n",
       "acpno                Q9 Uses child care while at work - Number of not yet at school children   \n",
       "alosateo                                     K6 Satisfaction - Your employment opportunities   \n",
       "awscme    DV: Current weekly gross wages & salary, main job, includes estimated from net ($)   \n",
       "\n",
       "                 c       abs  \n",
       "atcyng   -0.201072  0.201072  \n",
       "ahhyng   -0.165523  0.165523  \n",
       "aehtjbyr -0.153809  0.153809  \n",
       "awscoef   0.145172  0.145172  \n",
       "amhn10yr  0.130290  0.130290  \n",
       "atcnr    -0.130247  0.130247  \n",
       "awsfga   -0.102460  0.102460  \n",
       "ajsl4wk   0.099808  0.099808  \n",
       "aloimpew  0.098721  0.098721  \n",
       "ahgsex    0.097719  0.097719  \n",
       "ahgms     0.083948  0.083948  \n",
       "ajbmwpsz  0.071735  0.071735  \n",
       "ahgrf     0.067428  0.067428  \n",
       "ahiwscei  0.065052  0.065052  \n",
       "ahhd1014  0.064263  0.064263  \n",
       "agh3a     0.063856  0.063856  \n",
       "ajbmpgj   0.060933  0.060933  \n",
       "acpno    -0.058367  0.058367  \n",
       "alosateo -0.057768  0.057768  \n",
       "awscme    0.056418  0.056418  "
      ]
     },
     "execution_count": 11,
     "metadata": {},
     "output_type": "execute_result"
    }
   ],
   "source": [
    "def propensity_coefficients(model, features):\n",
    "    if hasattr(model,'best_estimator_'):\n",
    "        model = model.best_estimator_\n",
    "    coef = model.coef_[0]\n",
    "    \n",
    "    with open(f'data/metadata_{release}.pkl','rb') as f:\n",
    "        meta = pickle.load(f)\n",
    "        labels = [meta.column_names_to_labels.get(f) for f in features]\n",
    "    return pd.DataFrame({'label': labels, \"c\":coef,'abs':np.abs(coef)},index=features).sort_values(by='abs',ascending=False).head(50)\n",
    "print(\"Propensity Model Coefficients\")      \n",
    "propensity_coefficients(pmodel, features).head(20)"
   ]
  },
  {
   "cell_type": "code",
   "execution_count": 12,
   "id": "18",
   "metadata": {
    "execution": {
     "iopub.execute_input": "2021-11-26T03:32:58.141228Z",
     "iopub.status.busy": "2021-11-26T03:32:58.140925Z",
     "iopub.status.idle": "2021-11-26T03:51:58.964306Z",
     "shell.execute_reply": "2021-11-26T03:51:58.964659Z"
    },
    "papermill": {
     "duration": 1140.873816,
     "end_time": "2021-11-26T03:51:58.964784",
     "exception": false,
     "start_time": "2021-11-26T03:32:58.090968",
     "status": "completed"
    },
    "tags": [
     "hide_cell"
    ]
   },
   "outputs": [
    {
     "name": "stdout",
     "output_type": "stream",
     "text": [
      "Fitting ridge ...Fitting 5 folds for each of 30 candidates, totalling 150 fits\n"
     ]
    },
    {
     "name": "stdout",
     "output_type": "stream",
     "text": [
      "Fitting 5 folds for each of 30 candidates, totalling 150 fits\n"
     ]
    },
    {
     "name": "stdout",
     "output_type": "stream",
     "text": [
      "Fitting 5 folds for each of 30 candidates, totalling 150 fits\n"
     ]
    },
    {
     "name": "stdout",
     "output_type": "stream",
     "text": [
      "Fitting 5 folds for each of 30 candidates, totalling 150 fits\n"
     ]
    },
    {
     "name": "stdout",
     "output_type": "stream",
     "text": [
      "Fitting 5 folds for each of 30 candidates, totalling 150 fits\n"
     ]
    },
    {
     "name": "stdout",
     "output_type": "stream",
     "text": [
      "Fitting 5 folds for each of 30 candidates, totalling 150 fits\n"
     ]
    },
    {
     "name": "stdout",
     "output_type": "stream",
     "text": [
      "Fitting 5 folds for each of 30 candidates, totalling 150 fits\n"
     ]
    },
    {
     "name": "stdout",
     "output_type": "stream",
     "text": [
      "Fitting 5 folds for each of 30 candidates, totalling 150 fits\n"
     ]
    },
    {
     "name": "stdout",
     "output_type": "stream",
     "text": [
      "Fitting 5 folds for each of 30 candidates, totalling 150 fits\n"
     ]
    },
    {
     "name": "stdout",
     "output_type": "stream",
     "text": [
      "Fitting 5 folds for each of 30 candidates, totalling 150 fits\n"
     ]
    },
    {
     "name": "stdout",
     "output_type": "stream",
     "text": [
      "Fitting 5 folds for each of 30 candidates, totalling 150 fits\n"
     ]
    },
    {
     "name": "stdout",
     "output_type": "stream",
     "text": [
      "Fitting 5 folds for each of 30 candidates, totalling 150 fits\n",
      "Fitting 5 folds for each of 30 candidates, totalling 150 fits\n"
     ]
    },
    {
     "name": "stdout",
     "output_type": "stream",
     "text": [
      "Fitting 5 folds for each of 30 candidates, totalling 150 fits\n",
      "Fitting 5 folds for each of 30 candidates, totalling 150 fits\n"
     ]
    },
    {
     "name": "stdout",
     "output_type": "stream",
     "text": [
      "Fitting 5 folds for each of 30 candidates, totalling 150 fits\n",
      "Fitting 5 folds for each of 30 candidates, totalling 150 fits\n"
     ]
    },
    {
     "name": "stdout",
     "output_type": "stream",
     "text": [
      "Fitting 5 folds for each of 30 candidates, totalling 150 fits\n",
      "Fitting 5 folds for each of 30 candidates, totalling 150 fits\n"
     ]
    },
    {
     "name": "stdout",
     "output_type": "stream",
     "text": [
      "Fitting 5 folds for each of 30 candidates, totalling 150 fits\n",
      "Done\n",
      "Fitting lasso ...Fitting 5 folds for each of 30 candidates, totalling 150 fits\n"
     ]
    },
    {
     "name": "stdout",
     "output_type": "stream",
     "text": [
      "Fitting 5 folds for each of 30 candidates, totalling 150 fits\n"
     ]
    },
    {
     "name": "stdout",
     "output_type": "stream",
     "text": [
      "Fitting 5 folds for each of 30 candidates, totalling 150 fits\n"
     ]
    },
    {
     "name": "stdout",
     "output_type": "stream",
     "text": [
      "Fitting 5 folds for each of 30 candidates, totalling 150 fits\n"
     ]
    },
    {
     "name": "stdout",
     "output_type": "stream",
     "text": [
      "Fitting 5 folds for each of 30 candidates, totalling 150 fits\n"
     ]
    },
    {
     "name": "stdout",
     "output_type": "stream",
     "text": [
      "Fitting 5 folds for each of 30 candidates, totalling 150 fits\n"
     ]
    },
    {
     "name": "stdout",
     "output_type": "stream",
     "text": [
      "Fitting 5 folds for each of 30 candidates, totalling 150 fits\n"
     ]
    },
    {
     "name": "stdout",
     "output_type": "stream",
     "text": [
      "Fitting 5 folds for each of 30 candidates, totalling 150 fits\n"
     ]
    },
    {
     "name": "stdout",
     "output_type": "stream",
     "text": [
      "Fitting 5 folds for each of 30 candidates, totalling 150 fits\n"
     ]
    },
    {
     "name": "stdout",
     "output_type": "stream",
     "text": [
      "Fitting 5 folds for each of 30 candidates, totalling 150 fits\n"
     ]
    },
    {
     "name": "stdout",
     "output_type": "stream",
     "text": [
      "Fitting 5 folds for each of 30 candidates, totalling 150 fits\n"
     ]
    },
    {
     "name": "stdout",
     "output_type": "stream",
     "text": [
      "Fitting 5 folds for each of 30 candidates, totalling 150 fits\n",
      "Fitting 5 folds for each of 30 candidates, totalling 150 fits\n"
     ]
    },
    {
     "name": "stdout",
     "output_type": "stream",
     "text": [
      "Fitting 5 folds for each of 30 candidates, totalling 150 fits\n",
      "Fitting 5 folds for each of 30 candidates, totalling 150 fits\n"
     ]
    },
    {
     "name": "stdout",
     "output_type": "stream",
     "text": [
      "Fitting 5 folds for each of 30 candidates, totalling 150 fits\n",
      "Fitting 5 folds for each of 30 candidates, totalling 150 fits\n"
     ]
    },
    {
     "name": "stdout",
     "output_type": "stream",
     "text": [
      "Fitting 5 folds for each of 30 candidates, totalling 150 fits\n",
      "Fitting 5 folds for each of 30 candidates, totalling 150 fits\n"
     ]
    },
    {
     "name": "stdout",
     "output_type": "stream",
     "text": [
      "Fitting 5 folds for each of 30 candidates, totalling 150 fits\n",
      "Done\n",
      "Fitting gbr ...Fitting 5 folds for each of 500 candidates, totalling 2500 fits\n"
     ]
    },
    {
     "name": "stdout",
     "output_type": "stream",
     "text": [
      "Fitting 5 folds for each of 500 candidates, totalling 2500 fits\n"
     ]
    },
    {
     "name": "stdout",
     "output_type": "stream",
     "text": [
      "Fitting 5 folds for each of 500 candidates, totalling 2500 fits\n"
     ]
    },
    {
     "name": "stdout",
     "output_type": "stream",
     "text": [
      "Fitting 5 folds for each of 500 candidates, totalling 2500 fits\n"
     ]
    },
    {
     "name": "stdout",
     "output_type": "stream",
     "text": [
      "Fitting 5 folds for each of 500 candidates, totalling 2500 fits\n"
     ]
    },
    {
     "name": "stdout",
     "output_type": "stream",
     "text": [
      "Fitting 5 folds for each of 500 candidates, totalling 2500 fits\n"
     ]
    },
    {
     "name": "stdout",
     "output_type": "stream",
     "text": [
      "Fitting 5 folds for each of 500 candidates, totalling 2500 fits\n"
     ]
    },
    {
     "name": "stdout",
     "output_type": "stream",
     "text": [
      "Fitting 5 folds for each of 500 candidates, totalling 2500 fits\n"
     ]
    },
    {
     "name": "stdout",
     "output_type": "stream",
     "text": [
      "Fitting 5 folds for each of 500 candidates, totalling 2500 fits\n"
     ]
    },
    {
     "name": "stdout",
     "output_type": "stream",
     "text": [
      "Fitting 5 folds for each of 500 candidates, totalling 2500 fits\n"
     ]
    },
    {
     "name": "stdout",
     "output_type": "stream",
     "text": [
      "Fitting 5 folds for each of 500 candidates, totalling 2500 fits\n"
     ]
    },
    {
     "name": "stdout",
     "output_type": "stream",
     "text": [
      "Fitting 5 folds for each of 500 candidates, totalling 2500 fits\n"
     ]
    },
    {
     "name": "stdout",
     "output_type": "stream",
     "text": [
      "Fitting 5 folds for each of 500 candidates, totalling 2500 fits\n"
     ]
    },
    {
     "name": "stdout",
     "output_type": "stream",
     "text": [
      "Fitting 5 folds for each of 500 candidates, totalling 2500 fits\n"
     ]
    },
    {
     "name": "stdout",
     "output_type": "stream",
     "text": [
      "Fitting 5 folds for each of 500 candidates, totalling 2500 fits\n"
     ]
    },
    {
     "name": "stdout",
     "output_type": "stream",
     "text": [
      "Fitting 5 folds for each of 500 candidates, totalling 2500 fits\n"
     ]
    },
    {
     "name": "stdout",
     "output_type": "stream",
     "text": [
      "Fitting 5 folds for each of 500 candidates, totalling 2500 fits\n"
     ]
    },
    {
     "name": "stdout",
     "output_type": "stream",
     "text": [
      "Fitting 5 folds for each of 500 candidates, totalling 2500 fits\n"
     ]
    },
    {
     "name": "stdout",
     "output_type": "stream",
     "text": [
      "Fitting 5 folds for each of 500 candidates, totalling 2500 fits\n"
     ]
    },
    {
     "name": "stdout",
     "output_type": "stream",
     "text": [
      "Fitting 5 folds for each of 500 candidates, totalling 2500 fits\n"
     ]
    },
    {
     "name": "stdout",
     "output_type": "stream",
     "text": [
      "Done\n",
      "Caching results to data/cross-val-lasso-50-restricted.pkl\n"
     ]
    }
   ],
   "source": [
    "from direct_regression import nested_cross_val\n",
    "\n",
    "models0, models1, results = nested_cross_val(\n",
    "    model_init,\n",
    "    cross_val_cache,\n",
    "    X0, X1, y0, y1,\n",
    "    optimisation_metric,\n",
    "    evaluation_metrics,\n",
    "    innercv=inner_cv,\n",
    "    outercv=outer_cv,\n",
    "    load_from_cache=load_from_cache\n",
    ")"
   ]
  },
  {
   "cell_type": "markdown",
   "id": "19",
   "metadata": {
    "papermill": {
     "duration": 0.0812,
     "end_time": "2021-11-26T03:51:59.132241",
     "exception": false,
     "start_time": "2021-11-26T03:51:59.051041",
     "status": "completed"
    },
    "tags": []
   },
   "source": [
    "### Report estimate ATE and model performance\n",
    "\n",
    "  - Mean and Std of prediction performance for each model (both treatment & control surface)\n",
    "  - Mean and Std of average treatment effect for each model"
   ]
  },
  {
   "cell_type": "code",
   "execution_count": 13,
   "id": "20",
   "metadata": {
    "execution": {
     "iopub.execute_input": "2021-11-26T03:51:59.298163Z",
     "iopub.status.busy": "2021-11-26T03:51:59.297818Z",
     "iopub.status.idle": "2021-11-26T03:51:59.766719Z",
     "shell.execute_reply": "2021-11-26T03:51:59.766962Z"
    },
    "papermill": {
     "duration": 0.553702,
     "end_time": "2021-11-26T03:51:59.767060",
     "exception": false,
     "start_time": "2021-11-26T03:51:59.213358",
     "status": "completed"
    },
    "tags": []
   },
   "outputs": [
    {
     "data": {
      "text/html": [
       "<div>\n",
       "<style scoped>\n",
       "    .dataframe tbody tr th:only-of-type {\n",
       "        vertical-align: middle;\n",
       "    }\n",
       "\n",
       "    .dataframe tbody tr th {\n",
       "        vertical-align: top;\n",
       "    }\n",
       "\n",
       "    .dataframe thead th {\n",
       "        text-align: right;\n",
       "    }\n",
       "</style>\n",
       "<table border=\"1\" class=\"dataframe\">\n",
       "  <thead>\n",
       "    <tr style=\"text-align: right;\">\n",
       "      <th></th>\n",
       "      <th>ACE</th>\n",
       "      <th>ACE_std</th>\n",
       "      <th>control_r2</th>\n",
       "      <th>control_r2_std</th>\n",
       "      <th>treated_r2</th>\n",
       "      <th>treated_r2_std</th>\n",
       "      <th>control_neg_mean_squared_error</th>\n",
       "      <th>control_neg_mean_squared_error_std</th>\n",
       "      <th>treated_neg_mean_squared_error</th>\n",
       "      <th>treated_neg_mean_squared_error_std</th>\n",
       "    </tr>\n",
       "  </thead>\n",
       "  <tbody>\n",
       "    <tr>\n",
       "      <th>ridge</th>\n",
       "      <td>0.15</td>\n",
       "      <td>0.02</td>\n",
       "      <td>0.35</td>\n",
       "      <td>0.05</td>\n",
       "      <td>0.20</td>\n",
       "      <td>0.05</td>\n",
       "      <td>-0.60</td>\n",
       "      <td>0.02</td>\n",
       "      <td>-0.81</td>\n",
       "      <td>0.05</td>\n",
       "    </tr>\n",
       "    <tr>\n",
       "      <th>lasso</th>\n",
       "      <td>0.15</td>\n",
       "      <td>0.02</td>\n",
       "      <td>0.36</td>\n",
       "      <td>0.04</td>\n",
       "      <td>0.19</td>\n",
       "      <td>0.05</td>\n",
       "      <td>-0.59</td>\n",
       "      <td>0.04</td>\n",
       "      <td>-0.82</td>\n",
       "      <td>0.06</td>\n",
       "    </tr>\n",
       "    <tr>\n",
       "      <th>gbr</th>\n",
       "      <td>0.15</td>\n",
       "      <td>0.02</td>\n",
       "      <td>0.44</td>\n",
       "      <td>0.04</td>\n",
       "      <td>0.20</td>\n",
       "      <td>0.05</td>\n",
       "      <td>-0.52</td>\n",
       "      <td>0.05</td>\n",
       "      <td>-0.81</td>\n",
       "      <td>0.07</td>\n",
       "    </tr>\n",
       "  </tbody>\n",
       "</table>\n",
       "</div>"
      ],
      "text/plain": [
       "       ACE  ACE_std  control_r2  control_r2_std  treated_r2  treated_r2_std  \\\n",
       "ridge 0.15     0.02        0.35            0.05        0.20            0.05   \n",
       "lasso 0.15     0.02        0.36            0.04        0.19            0.05   \n",
       "gbr   0.15     0.02        0.44            0.04        0.20            0.05   \n",
       "\n",
       "       control_neg_mean_squared_error  control_neg_mean_squared_error_std  \\\n",
       "ridge                           -0.60                                0.02   \n",
       "lasso                           -0.59                                0.04   \n",
       "gbr                             -0.52                                0.05   \n",
       "\n",
       "       treated_neg_mean_squared_error  treated_neg_mean_squared_error_std  \n",
       "ridge                           -0.81                                0.05  \n",
       "lasso                           -0.82                                0.06  \n",
       "gbr                             -0.81                                0.07  "
      ]
     },
     "metadata": {},
     "output_type": "display_data"
    },
    {
     "data": {
      "image/png": "[encoded data removed]",
      "text/plain": [
       "<Figure size 1080x360 with 2 Axes>"
      ]
     },
     "metadata": {
      "needs_background": "light"
     },
     "output_type": "display_data"
    }
   ],
   "source": [
    "from direct_regression import visualise_ate\n",
    "metrics, ate_vals = visualise_ate(results,X,evaluation_metrics);"
   ]
  },
  {
   "cell_type": "code",
   "execution_count": 14,
   "id": "21",
   "metadata": {
    "execution": {
     "iopub.execute_input": "2021-11-26T03:51:59.930765Z",
     "iopub.status.busy": "2021-11-26T03:51:59.930433Z",
     "iopub.status.idle": "2021-11-26T03:52:00.238950Z",
     "shell.execute_reply": "2021-11-26T03:52:00.238681Z"
    },
    "papermill": {
     "duration": 0.394017,
     "end_time": "2021-11-26T03:52:00.239030",
     "exception": false,
     "start_time": "2021-11-26T03:51:59.845013",
     "status": "completed"
    },
    "tags": []
   },
   "outputs": [
    {
     "data": {
      "image/png": "[encoded data removed]",
      "text/plain": [
       "<Figure size 1080x360 with 3 Axes>"
      ]
     },
     "metadata": {
      "needs_background": "light"
     },
     "output_type": "display_data"
    }
   ],
   "source": [
    "from direct_regression import plot_ate_distribution\n",
    "plot_ate_distribution(ate_vals)"
   ]
  },
  {
   "cell_type": "code",
   "execution_count": 15,
   "id": "22",
   "metadata": {
    "execution": {
     "iopub.execute_input": "2021-11-26T03:52:00.406165Z",
     "iopub.status.busy": "2021-11-26T03:52:00.405834Z",
     "iopub.status.idle": "2021-11-26T03:52:01.288619Z",
     "shell.execute_reply": "2021-11-26T03:52:01.288340Z"
    },
    "papermill": {
     "duration": 0.96957,
     "end_time": "2021-11-26T03:52:01.288702",
     "exception": false,
     "start_time": "2021-11-26T03:52:00.319132",
     "status": "completed"
    },
    "tags": []
   },
   "outputs": [
    {
     "data": {
      "image/png": "[encoded data removed]",
      "text/plain": [
       "<Figure size 360x288 with 1 Axes>"
      ]
     },
     "metadata": {
      "needs_background": "light"
     },
     "output_type": "display_data"
    },
    {
     "data": {
      "image/png": "[encoded data removed]",
      "text/plain": [
       "<Figure size 360x288 with 1 Axes>"
      ]
     },
     "metadata": {
      "needs_background": "light"
     },
     "output_type": "display_data"
    },
    {
     "data": {
      "image/png": "[encoded data removed]",
      "text/plain": [
       "<Figure size 360x288 with 1 Axes>"
      ]
     },
     "metadata": {
      "needs_background": "light"
     },
     "output_type": "display_data"
    },
    {
     "data": {
      "image/png": "[encoded data removed]",
      "text/plain": [
       "<Figure size 360x288 with 1 Axes>"
      ]
     },
     "metadata": {
      "needs_background": "light"
     },
     "output_type": "display_data"
    },
    {
     "data": {
      "image/png": "[encoded data removed]",
      "text/plain": [
       "<Figure size 1080x288 with 3 Axes>"
      ]
     },
     "metadata": {
      "needs_background": "light"
     },
     "output_type": "display_data"
    },
    {
     "data": {
      "image/png": "[encoded data removed]",
      "text/plain": [
       "<Figure size 1080x288 with 3 Axes>"
      ]
     },
     "metadata": {
      "needs_background": "light"
     },
     "output_type": "display_data"
    }
   ],
   "source": [
    "from direct_regression import plot_hyperparam_distributions\n",
    "for model, (results0, results1) in results.items():\n",
    "    plot_hyperparam_distributions(results0,f\"{model}-control\")\n",
    "    plot_hyperparam_distributions(results1,f\"{model}-treated\")"
   ]
  },
  {
   "cell_type": "markdown",
   "id": "23",
   "metadata": {
    "papermill": {
     "duration": 0.087833,
     "end_time": "2021-11-26T03:52:01.458717",
     "exception": false,
     "start_time": "2021-11-26T03:52:01.370884",
     "status": "completed"
    },
    "tags": []
   },
   "source": [
    "### Visualise models\n",
    "- Features responsible for treatment effect heterogeneity & functional form (with uncertainty)\n",
    "      - coefficeints for linear models\n",
    "      - TODO permutation importance & partial dependence curves for non-linear models"
   ]
  },
  {
   "cell_type": "code",
   "execution_count": 16,
   "id": "24",
   "metadata": {
    "execution": {
     "iopub.execute_input": "2021-11-26T03:52:01.632102Z",
     "iopub.status.busy": "2021-11-26T03:52:01.631794Z",
     "iopub.status.idle": "2021-11-26T03:52:01.702195Z",
     "shell.execute_reply": "2021-11-26T03:52:01.702438Z"
    },
    "papermill": {
     "duration": 0.158718,
     "end_time": "2021-11-26T03:52:01.702535",
     "exception": false,
     "start_time": "2021-11-26T03:52:01.543817",
     "status": "completed"
    },
    "tags": [
     "hide_input"
    ]
   },
   "outputs": [
    {
     "name": "stdout",
     "output_type": "stream",
     "text": [
      "ridge\n"
     ]
    },
    {
     "data": {
      "text/html": [
       "<div>\n",
       "<style scoped>\n",
       "    .dataframe tbody tr th:only-of-type {\n",
       "        vertical-align: middle;\n",
       "    }\n",
       "\n",
       "    .dataframe tbody tr th {\n",
       "        vertical-align: top;\n",
       "    }\n",
       "\n",
       "    .dataframe thead th {\n",
       "        text-align: right;\n",
       "    }\n",
       "</style>\n",
       "<table border=\"1\" class=\"dataframe\">\n",
       "  <thead>\n",
       "    <tr style=\"text-align: right;\">\n",
       "      <th></th>\n",
       "      <th>importance_mean</th>\n",
       "      <th>importance_std</th>\n",
       "      <th>Δcoef_mean</th>\n",
       "      <th>Δcoef_std</th>\n",
       "      <th>coef_treat_mean</th>\n",
       "      <th>coef_treat_std</th>\n",
       "      <th>coef_cntr_mean</th>\n",
       "      <th>coef_cntr_std</th>\n",
       "    </tr>\n",
       "    <tr>\n",
       "      <th>feature</th>\n",
       "      <th></th>\n",
       "      <th></th>\n",
       "      <th></th>\n",
       "      <th></th>\n",
       "      <th></th>\n",
       "      <th></th>\n",
       "      <th></th>\n",
       "      <th></th>\n",
       "    </tr>\n",
       "  </thead>\n",
       "  <tbody>\n",
       "    <tr>\n",
       "      <th>aehtjbyr</th>\n",
       "      <td>0.154347</td>\n",
       "      <td>0.009785</td>\n",
       "      <td>-0.051111</td>\n",
       "      <td>0.020842</td>\n",
       "      <td>-0.179903</td>\n",
       "      <td>0.019832</td>\n",
       "      <td>-0.128792</td>\n",
       "      <td>0.003922</td>\n",
       "    </tr>\n",
       "    <tr>\n",
       "      <th>atcyng</th>\n",
       "      <td>0.141754</td>\n",
       "      <td>0.008613</td>\n",
       "      <td>-0.047647</td>\n",
       "      <td>0.016129</td>\n",
       "      <td>-0.165578</td>\n",
       "      <td>0.016202</td>\n",
       "      <td>-0.117931</td>\n",
       "      <td>0.003993</td>\n",
       "    </tr>\n",
       "    <tr>\n",
       "      <th>atcnr</th>\n",
       "      <td>0.130160</td>\n",
       "      <td>0.005780</td>\n",
       "      <td>-0.063305</td>\n",
       "      <td>0.011801</td>\n",
       "      <td>-0.161812</td>\n",
       "      <td>0.011554</td>\n",
       "      <td>-0.098507</td>\n",
       "      <td>0.001720</td>\n",
       "    </tr>\n",
       "    <tr>\n",
       "      <th>ahifapti</th>\n",
       "      <td>0.099264</td>\n",
       "      <td>0.008023</td>\n",
       "      <td>-0.033726</td>\n",
       "      <td>0.011128</td>\n",
       "      <td>-0.116127</td>\n",
       "      <td>0.013530</td>\n",
       "      <td>-0.082400</td>\n",
       "      <td>0.002757</td>\n",
       "    </tr>\n",
       "    <tr>\n",
       "      <th>awscme</th>\n",
       "      <td>0.091864</td>\n",
       "      <td>0.006538</td>\n",
       "      <td>-0.146887</td>\n",
       "      <td>0.021719</td>\n",
       "      <td>0.017541</td>\n",
       "      <td>0.011992</td>\n",
       "      <td>0.164428</td>\n",
       "      <td>0.013676</td>\n",
       "    </tr>\n",
       "    <tr>\n",
       "      <th>aicprob</th>\n",
       "      <td>0.071722</td>\n",
       "      <td>0.004891</td>\n",
       "      <td>-0.022265</td>\n",
       "      <td>0.012495</td>\n",
       "      <td>0.060589</td>\n",
       "      <td>0.010395</td>\n",
       "      <td>0.082854</td>\n",
       "      <td>0.004225</td>\n",
       "    </tr>\n",
       "    <tr>\n",
       "      <th>atifditp</th>\n",
       "      <td>0.070936</td>\n",
       "      <td>0.008213</td>\n",
       "      <td>0.065252</td>\n",
       "      <td>0.025198</td>\n",
       "      <td>0.103562</td>\n",
       "      <td>0.019099</td>\n",
       "      <td>0.038309</td>\n",
       "      <td>0.009359</td>\n",
       "    </tr>\n",
       "    <tr>\n",
       "      <th>awsfga</th>\n",
       "      <td>0.070615</td>\n",
       "      <td>0.005882</td>\n",
       "      <td>-0.007593</td>\n",
       "      <td>0.015677</td>\n",
       "      <td>-0.074412</td>\n",
       "      <td>0.010894</td>\n",
       "      <td>-0.066819</td>\n",
       "      <td>0.008567</td>\n",
       "    </tr>\n",
       "    <tr>\n",
       "      <th>agh3a</th>\n",
       "      <td>0.065525</td>\n",
       "      <td>0.003890</td>\n",
       "      <td>0.002568</td>\n",
       "      <td>0.009286</td>\n",
       "      <td>0.066809</td>\n",
       "      <td>0.006507</td>\n",
       "      <td>0.064241</td>\n",
       "      <td>0.005571</td>\n",
       "    </tr>\n",
       "    <tr>\n",
       "      <th>ahh0_4</th>\n",
       "      <td>0.064143</td>\n",
       "      <td>0.005523</td>\n",
       "      <td>-0.016757</td>\n",
       "      <td>0.008457</td>\n",
       "      <td>0.055764</td>\n",
       "      <td>0.008513</td>\n",
       "      <td>0.072521</td>\n",
       "      <td>0.004930</td>\n",
       "    </tr>\n",
       "    <tr>\n",
       "      <th>aoiint</th>\n",
       "      <td>0.059709</td>\n",
       "      <td>0.009890</td>\n",
       "      <td>-0.099315</td>\n",
       "      <td>0.022311</td>\n",
       "      <td>-0.109367</td>\n",
       "      <td>0.018749</td>\n",
       "      <td>-0.010052</td>\n",
       "      <td>0.009645</td>\n",
       "    </tr>\n",
       "    <tr>\n",
       "      <th>ahhyng</th>\n",
       "      <td>0.059151</td>\n",
       "      <td>0.007445</td>\n",
       "      <td>0.003816</td>\n",
       "      <td>0.015258</td>\n",
       "      <td>-0.057243</td>\n",
       "      <td>0.014152</td>\n",
       "      <td>-0.061059</td>\n",
       "      <td>0.005193</td>\n",
       "    </tr>\n",
       "    <tr>\n",
       "      <th>aloimpew</th>\n",
       "      <td>0.058665</td>\n",
       "      <td>0.007325</td>\n",
       "      <td>0.028841</td>\n",
       "      <td>0.007920</td>\n",
       "      <td>0.073085</td>\n",
       "      <td>0.010104</td>\n",
       "      <td>0.044244</td>\n",
       "      <td>0.006048</td>\n",
       "    </tr>\n",
       "    <tr>\n",
       "      <th>ahhd5_9</th>\n",
       "      <td>0.046631</td>\n",
       "      <td>0.005548</td>\n",
       "      <td>-0.033298</td>\n",
       "      <td>0.008718</td>\n",
       "      <td>0.029983</td>\n",
       "      <td>0.007003</td>\n",
       "      <td>0.063280</td>\n",
       "      <td>0.007107</td>\n",
       "    </tr>\n",
       "    <tr>\n",
       "      <th>ahgsex</th>\n",
       "      <td>0.042493</td>\n",
       "      <td>0.005212</td>\n",
       "      <td>-0.019382</td>\n",
       "      <td>0.012265</td>\n",
       "      <td>-0.052184</td>\n",
       "      <td>0.010882</td>\n",
       "      <td>-0.032802</td>\n",
       "      <td>0.003339</td>\n",
       "    </tr>\n",
       "    <tr>\n",
       "      <th>aoidvryf</th>\n",
       "      <td>0.039354</td>\n",
       "      <td>0.004732</td>\n",
       "      <td>-0.020166</td>\n",
       "      <td>0.008613</td>\n",
       "      <td>-0.049437</td>\n",
       "      <td>0.007689</td>\n",
       "      <td>-0.029271</td>\n",
       "      <td>0.004770</td>\n",
       "    </tr>\n",
       "    <tr>\n",
       "      <th>aoirntf</th>\n",
       "      <td>0.038938</td>\n",
       "      <td>0.005872</td>\n",
       "      <td>-0.016434</td>\n",
       "      <td>0.011883</td>\n",
       "      <td>-0.047154</td>\n",
       "      <td>0.010942</td>\n",
       "      <td>-0.030721</td>\n",
       "      <td>0.004454</td>\n",
       "    </tr>\n",
       "    <tr>\n",
       "      <th>awscef</th>\n",
       "      <td>0.037016</td>\n",
       "      <td>0.008425</td>\n",
       "      <td>-0.074032</td>\n",
       "      <td>0.016850</td>\n",
       "      <td>-0.059747</td>\n",
       "      <td>0.013278</td>\n",
       "      <td>0.014285</td>\n",
       "      <td>0.007589</td>\n",
       "    </tr>\n",
       "    <tr>\n",
       "      <th>aoidvry</th>\n",
       "      <td>0.036880</td>\n",
       "      <td>0.006679</td>\n",
       "      <td>0.003559</td>\n",
       "      <td>0.014075</td>\n",
       "      <td>-0.035100</td>\n",
       "      <td>0.012956</td>\n",
       "      <td>-0.038659</td>\n",
       "      <td>0.004518</td>\n",
       "    </tr>\n",
       "    <tr>\n",
       "      <th>awscoef</th>\n",
       "      <td>0.036023</td>\n",
       "      <td>0.003578</td>\n",
       "      <td>0.044935</td>\n",
       "      <td>0.015193</td>\n",
       "      <td>0.058491</td>\n",
       "      <td>0.009645</td>\n",
       "      <td>0.013556</td>\n",
       "      <td>0.006927</td>\n",
       "    </tr>\n",
       "  </tbody>\n",
       "</table>\n",
       "</div>"
      ],
      "text/plain": [
       "          importance_mean  importance_std  Δcoef_mean  Δcoef_std  \\\n",
       "feature                                                            \n",
       "aehtjbyr         0.154347        0.009785   -0.051111   0.020842   \n",
       "atcyng           0.141754        0.008613   -0.047647   0.016129   \n",
       "atcnr            0.130160        0.005780   -0.063305   0.011801   \n",
       "ahifapti         0.099264        0.008023   -0.033726   0.011128   \n",
       "awscme           0.091864        0.006538   -0.146887   0.021719   \n",
       "aicprob          0.071722        0.004891   -0.022265   0.012495   \n",
       "atifditp         0.070936        0.008213    0.065252   0.025198   \n",
       "awsfga           0.070615        0.005882   -0.007593   0.015677   \n",
       "agh3a            0.065525        0.003890    0.002568   0.009286   \n",
       "ahh0_4           0.064143        0.005523   -0.016757   0.008457   \n",
       "aoiint           0.059709        0.009890   -0.099315   0.022311   \n",
       "ahhyng           0.059151        0.007445    0.003816   0.015258   \n",
       "aloimpew         0.058665        0.007325    0.028841   0.007920   \n",
       "ahhd5_9          0.046631        0.005548   -0.033298   0.008718   \n",
       "ahgsex           0.042493        0.005212   -0.019382   0.012265   \n",
       "aoidvryf         0.039354        0.004732   -0.020166   0.008613   \n",
       "aoirntf          0.038938        0.005872   -0.016434   0.011883   \n",
       "awscef           0.037016        0.008425   -0.074032   0.016850   \n",
       "aoidvry          0.036880        0.006679    0.003559   0.014075   \n",
       "awscoef          0.036023        0.003578    0.044935   0.015193   \n",
       "\n",
       "          coef_treat_mean  coef_treat_std  coef_cntr_mean  coef_cntr_std  \n",
       "feature                                                                   \n",
       "aehtjbyr        -0.179903        0.019832       -0.128792       0.003922  \n",
       "atcyng          -0.165578        0.016202       -0.117931       0.003993  \n",
       "atcnr           -0.161812        0.011554       -0.098507       0.001720  \n",
       "ahifapti        -0.116127        0.013530       -0.082400       0.002757  \n",
       "awscme           0.017541        0.011992        0.164428       0.013676  \n",
       "aicprob          0.060589        0.010395        0.082854       0.004225  \n",
       "atifditp         0.103562        0.019099        0.038309       0.009359  \n",
       "awsfga          -0.074412        0.010894       -0.066819       0.008567  \n",
       "agh3a            0.066809        0.006507        0.064241       0.005571  \n",
       "ahh0_4           0.055764        0.008513        0.072521       0.004930  \n",
       "aoiint          -0.109367        0.018749       -0.010052       0.009645  \n",
       "ahhyng          -0.057243        0.014152       -0.061059       0.005193  \n",
       "aloimpew         0.073085        0.010104        0.044244       0.006048  \n",
       "ahhd5_9          0.029983        0.007003        0.063280       0.007107  \n",
       "ahgsex          -0.052184        0.010882       -0.032802       0.003339  \n",
       "aoidvryf        -0.049437        0.007689       -0.029271       0.004770  \n",
       "aoirntf         -0.047154        0.010942       -0.030721       0.004454  \n",
       "awscef          -0.059747        0.013278        0.014285       0.007589  \n",
       "aoidvry         -0.035100        0.012956       -0.038659       0.004518  \n",
       "awscoef          0.058491        0.009645        0.013556       0.006927  "
      ]
     },
     "metadata": {},
     "output_type": "display_data"
    },
    {
     "name": "stdout",
     "output_type": "stream",
     "text": [
      "lasso\n"
     ]
    },
    {
     "data": {
      "text/html": [
       "<div>\n",
       "<style scoped>\n",
       "    .dataframe tbody tr th:only-of-type {\n",
       "        vertical-align: middle;\n",
       "    }\n",
       "\n",
       "    .dataframe tbody tr th {\n",
       "        vertical-align: top;\n",
       "    }\n",
       "\n",
       "    .dataframe thead th {\n",
       "        text-align: right;\n",
       "    }\n",
       "</style>\n",
       "<table border=\"1\" class=\"dataframe\">\n",
       "  <thead>\n",
       "    <tr style=\"text-align: right;\">\n",
       "      <th></th>\n",
       "      <th>importance_mean</th>\n",
       "      <th>importance_std</th>\n",
       "      <th>Δcoef_mean</th>\n",
       "      <th>Δcoef_std</th>\n",
       "      <th>coef_treat_mean</th>\n",
       "      <th>coef_treat_std</th>\n",
       "      <th>coef_cntr_mean</th>\n",
       "      <th>coef_cntr_std</th>\n",
       "    </tr>\n",
       "    <tr>\n",
       "      <th>feature</th>\n",
       "      <th></th>\n",
       "      <th></th>\n",
       "      <th></th>\n",
       "      <th></th>\n",
       "      <th></th>\n",
       "      <th></th>\n",
       "      <th></th>\n",
       "      <th></th>\n",
       "    </tr>\n",
       "  </thead>\n",
       "  <tbody>\n",
       "    <tr>\n",
       "      <th>atcyng</th>\n",
       "      <td>0.189228</td>\n",
       "      <td>0.011272</td>\n",
       "      <td>-0.087347</td>\n",
       "      <td>0.023033</td>\n",
       "      <td>-0.232902</td>\n",
       "      <td>0.021299</td>\n",
       "      <td>-0.145555</td>\n",
       "      <td>0.008106</td>\n",
       "    </tr>\n",
       "    <tr>\n",
       "      <th>aehtjbyr</th>\n",
       "      <td>0.166346</td>\n",
       "      <td>0.009065</td>\n",
       "      <td>-0.067464</td>\n",
       "      <td>0.014451</td>\n",
       "      <td>-0.200078</td>\n",
       "      <td>0.014706</td>\n",
       "      <td>-0.132614</td>\n",
       "      <td>0.007246</td>\n",
       "    </tr>\n",
       "    <tr>\n",
       "      <th>atcnr</th>\n",
       "      <td>0.146582</td>\n",
       "      <td>0.008040</td>\n",
       "      <td>-0.085778</td>\n",
       "      <td>0.016066</td>\n",
       "      <td>-0.189471</td>\n",
       "      <td>0.015754</td>\n",
       "      <td>-0.103692</td>\n",
       "      <td>0.003189</td>\n",
       "    </tr>\n",
       "    <tr>\n",
       "      <th>awscme</th>\n",
       "      <td>0.098887</td>\n",
       "      <td>0.007952</td>\n",
       "      <td>-0.181982</td>\n",
       "      <td>0.012230</td>\n",
       "      <td>0.007896</td>\n",
       "      <td>0.007390</td>\n",
       "      <td>0.189879</td>\n",
       "      <td>0.012109</td>\n",
       "    </tr>\n",
       "    <tr>\n",
       "      <th>ahifapti</th>\n",
       "      <td>0.088813</td>\n",
       "      <td>0.006722</td>\n",
       "      <td>-0.033792</td>\n",
       "      <td>0.013427</td>\n",
       "      <td>-0.105709</td>\n",
       "      <td>0.012248</td>\n",
       "      <td>-0.071918</td>\n",
       "      <td>0.005522</td>\n",
       "    </tr>\n",
       "    <tr>\n",
       "      <th>aicprob</th>\n",
       "      <td>0.065825</td>\n",
       "      <td>0.004172</td>\n",
       "      <td>-0.028969</td>\n",
       "      <td>0.007155</td>\n",
       "      <td>0.051341</td>\n",
       "      <td>0.004198</td>\n",
       "      <td>0.080310</td>\n",
       "      <td>0.006541</td>\n",
       "    </tr>\n",
       "    <tr>\n",
       "      <th>agh3a</th>\n",
       "      <td>0.058868</td>\n",
       "      <td>0.004484</td>\n",
       "      <td>-0.006127</td>\n",
       "      <td>0.011141</td>\n",
       "      <td>0.055804</td>\n",
       "      <td>0.008976</td>\n",
       "      <td>0.061931</td>\n",
       "      <td>0.004659</td>\n",
       "    </tr>\n",
       "    <tr>\n",
       "      <th>atifditp</th>\n",
       "      <td>0.055467</td>\n",
       "      <td>0.018470</td>\n",
       "      <td>0.078757</td>\n",
       "      <td>0.036571</td>\n",
       "      <td>0.094845</td>\n",
       "      <td>0.036423</td>\n",
       "      <td>0.016089</td>\n",
       "      <td>0.004937</td>\n",
       "    </tr>\n",
       "    <tr>\n",
       "      <th>awsfga</th>\n",
       "      <td>0.053988</td>\n",
       "      <td>0.014958</td>\n",
       "      <td>0.018323</td>\n",
       "      <td>0.029828</td>\n",
       "      <td>-0.044827</td>\n",
       "      <td>0.028996</td>\n",
       "      <td>-0.063150</td>\n",
       "      <td>0.007181</td>\n",
       "    </tr>\n",
       "    <tr>\n",
       "      <th>aloimpew</th>\n",
       "      <td>0.051746</td>\n",
       "      <td>0.010005</td>\n",
       "      <td>0.017981</td>\n",
       "      <td>0.014216</td>\n",
       "      <td>0.060736</td>\n",
       "      <td>0.017001</td>\n",
       "      <td>0.042755</td>\n",
       "      <td>0.003494</td>\n",
       "    </tr>\n",
       "    <tr>\n",
       "      <th>aoiint</th>\n",
       "      <td>0.048311</td>\n",
       "      <td>0.028862</td>\n",
       "      <td>-0.093262</td>\n",
       "      <td>0.054595</td>\n",
       "      <td>-0.094942</td>\n",
       "      <td>0.055968</td>\n",
       "      <td>-0.001680</td>\n",
       "      <td>0.004887</td>\n",
       "    </tr>\n",
       "    <tr>\n",
       "      <th>ahh0_4</th>\n",
       "      <td>0.047787</td>\n",
       "      <td>0.011228</td>\n",
       "      <td>-0.033098</td>\n",
       "      <td>0.016815</td>\n",
       "      <td>0.031238</td>\n",
       "      <td>0.018629</td>\n",
       "      <td>0.064336</td>\n",
       "      <td>0.006815</td>\n",
       "    </tr>\n",
       "    <tr>\n",
       "      <th>ahgsex</th>\n",
       "      <td>0.038376</td>\n",
       "      <td>0.007256</td>\n",
       "      <td>-0.020543</td>\n",
       "      <td>0.016332</td>\n",
       "      <td>-0.048648</td>\n",
       "      <td>0.014505</td>\n",
       "      <td>-0.028105</td>\n",
       "      <td>0.005318</td>\n",
       "    </tr>\n",
       "    <tr>\n",
       "      <th>ahhd5_9</th>\n",
       "      <td>0.033102</td>\n",
       "      <td>0.007296</td>\n",
       "      <td>-0.044855</td>\n",
       "      <td>0.010721</td>\n",
       "      <td>0.010674</td>\n",
       "      <td>0.011434</td>\n",
       "      <td>0.055529</td>\n",
       "      <td>0.005762</td>\n",
       "    </tr>\n",
       "    <tr>\n",
       "      <th>alosateo</th>\n",
       "      <td>0.031037</td>\n",
       "      <td>0.007157</td>\n",
       "      <td>0.038632</td>\n",
       "      <td>0.012496</td>\n",
       "      <td>0.050353</td>\n",
       "      <td>0.012835</td>\n",
       "      <td>0.011721</td>\n",
       "      <td>0.003973</td>\n",
       "    </tr>\n",
       "    <tr>\n",
       "      <th>aoidvry</th>\n",
       "      <td>0.028046</td>\n",
       "      <td>0.006133</td>\n",
       "      <td>-0.000528</td>\n",
       "      <td>0.014553</td>\n",
       "      <td>-0.028310</td>\n",
       "      <td>0.012540</td>\n",
       "      <td>-0.027782</td>\n",
       "      <td>0.004887</td>\n",
       "    </tr>\n",
       "    <tr>\n",
       "      <th>ajbmpgj</th>\n",
       "      <td>0.025681</td>\n",
       "      <td>0.004219</td>\n",
       "      <td>-0.042673</td>\n",
       "      <td>0.007050</td>\n",
       "      <td>0.004345</td>\n",
       "      <td>0.006599</td>\n",
       "      <td>0.047017</td>\n",
       "      <td>0.004112</td>\n",
       "    </tr>\n",
       "    <tr>\n",
       "      <th>aoidvryf</th>\n",
       "      <td>0.025298</td>\n",
       "      <td>0.011495</td>\n",
       "      <td>-0.003858</td>\n",
       "      <td>0.022462</td>\n",
       "      <td>-0.027227</td>\n",
       "      <td>0.022515</td>\n",
       "      <td>-0.023368</td>\n",
       "      <td>0.003104</td>\n",
       "    </tr>\n",
       "    <tr>\n",
       "      <th>aoirntf</th>\n",
       "      <td>0.024422</td>\n",
       "      <td>0.008732</td>\n",
       "      <td>0.004500</td>\n",
       "      <td>0.020097</td>\n",
       "      <td>-0.022172</td>\n",
       "      <td>0.018072</td>\n",
       "      <td>-0.026672</td>\n",
       "      <td>0.005277</td>\n",
       "    </tr>\n",
       "    <tr>\n",
       "      <th>awscoef</th>\n",
       "      <td>0.021486</td>\n",
       "      <td>0.013165</td>\n",
       "      <td>0.042972</td>\n",
       "      <td>0.026329</td>\n",
       "      <td>0.042972</td>\n",
       "      <td>0.026329</td>\n",
       "      <td>0.000000</td>\n",
       "      <td>0.000000</td>\n",
       "    </tr>\n",
       "  </tbody>\n",
       "</table>\n",
       "</div>"
      ],
      "text/plain": [
       "          importance_mean  importance_std  Δcoef_mean  Δcoef_std  \\\n",
       "feature                                                            \n",
       "atcyng           0.189228        0.011272   -0.087347   0.023033   \n",
       "aehtjbyr         0.166346        0.009065   -0.067464   0.014451   \n",
       "atcnr            0.146582        0.008040   -0.085778   0.016066   \n",
       "awscme           0.098887        0.007952   -0.181982   0.012230   \n",
       "ahifapti         0.088813        0.006722   -0.033792   0.013427   \n",
       "aicprob          0.065825        0.004172   -0.028969   0.007155   \n",
       "agh3a            0.058868        0.004484   -0.006127   0.011141   \n",
       "atifditp         0.055467        0.018470    0.078757   0.036571   \n",
       "awsfga           0.053988        0.014958    0.018323   0.029828   \n",
       "aloimpew         0.051746        0.010005    0.017981   0.014216   \n",
       "aoiint           0.048311        0.028862   -0.093262   0.054595   \n",
       "ahh0_4           0.047787        0.011228   -0.033098   0.016815   \n",
       "ahgsex           0.038376        0.007256   -0.020543   0.016332   \n",
       "ahhd5_9          0.033102        0.007296   -0.044855   0.010721   \n",
       "alosateo         0.031037        0.007157    0.038632   0.012496   \n",
       "aoidvry          0.028046        0.006133   -0.000528   0.014553   \n",
       "ajbmpgj          0.025681        0.004219   -0.042673   0.007050   \n",
       "aoidvryf         0.025298        0.011495   -0.003858   0.022462   \n",
       "aoirntf          0.024422        0.008732    0.004500   0.020097   \n",
       "awscoef          0.021486        0.013165    0.042972   0.026329   \n",
       "\n",
       "          coef_treat_mean  coef_treat_std  coef_cntr_mean  coef_cntr_std  \n",
       "feature                                                                   \n",
       "atcyng          -0.232902        0.021299       -0.145555       0.008106  \n",
       "aehtjbyr        -0.200078        0.014706       -0.132614       0.007246  \n",
       "atcnr           -0.189471        0.015754       -0.103692       0.003189  \n",
       "awscme           0.007896        0.007390        0.189879       0.012109  \n",
       "ahifapti        -0.105709        0.012248       -0.071918       0.005522  \n",
       "aicprob          0.051341        0.004198        0.080310       0.006541  \n",
       "agh3a            0.055804        0.008976        0.061931       0.004659  \n",
       "atifditp         0.094845        0.036423        0.016089       0.004937  \n",
       "awsfga          -0.044827        0.028996       -0.063150       0.007181  \n",
       "aloimpew         0.060736        0.017001        0.042755       0.003494  \n",
       "aoiint          -0.094942        0.055968       -0.001680       0.004887  \n",
       "ahh0_4           0.031238        0.018629        0.064336       0.006815  \n",
       "ahgsex          -0.048648        0.014505       -0.028105       0.005318  \n",
       "ahhd5_9          0.010674        0.011434        0.055529       0.005762  \n",
       "alosateo         0.050353        0.012835        0.011721       0.003973  \n",
       "aoidvry         -0.028310        0.012540       -0.027782       0.004887  \n",
       "ajbmpgj          0.004345        0.006599        0.047017       0.004112  \n",
       "aoidvryf        -0.027227        0.022515       -0.023368       0.003104  \n",
       "aoirntf         -0.022172        0.018072       -0.026672       0.005277  \n",
       "awscoef          0.042972        0.026329        0.000000       0.000000  "
      ]
     },
     "metadata": {},
     "output_type": "display_data"
    }
   ],
   "source": [
    "from direct_regression import display_feature_importance\n",
    "display_feature_importance(models0, models1, results, features);"
   ]
  },
  {
   "cell_type": "markdown",
   "id": "25",
   "metadata": {
    "papermill": {
     "duration": 0.091215,
     "end_time": "2021-11-26T03:52:01.880181",
     "exception": false,
     "start_time": "2021-11-26T03:52:01.788966",
     "status": "completed"
    },
    "tags": []
   },
   "source": [
    "### Compare against OLS on basic variables"
   ]
  },
  {
   "cell_type": "code",
   "execution_count": 17,
   "id": "26",
   "metadata": {
    "execution": {
     "iopub.execute_input": "2021-11-26T03:52:02.060685Z",
     "iopub.status.busy": "2021-11-26T03:52:02.060392Z",
     "iopub.status.idle": "2021-11-26T03:52:02.145358Z",
     "shell.execute_reply": "2021-11-26T03:52:02.144778Z"
    },
    "papermill": {
     "duration": 0.177217,
     "end_time": "2021-11-26T03:52:02.145500",
     "exception": false,
     "start_time": "2021-11-26T03:52:01.968283",
     "status": "completed"
    },
    "tags": [
     "hide_input"
    ]
   },
   "outputs": [
    {
     "name": "stdout",
     "output_type": "stream",
     "text": [
      "Dropped 284 rows missing treatment or outcome.\n",
      "Fitting OLS ...Done\n",
      "Caching results to data/tmp.pkl\n"
     ]
    }
   ],
   "source": [
    "basic = pd.read_csv(\"data/basic_variables.csv\",index_col='xwaveid')\n",
    "drop_missing_treatment_or_outcome(basic, treatment, outcome)\n",
    "basic[outcome] = transform_outcome(basic[outcome],log_outcome, standardize_outcome)\n",
    "\n",
    "    \n",
    "X0b, X1b, y0b, y1b, Xb, yb, tb, featuresb = seperate_and_transform_data(basic, treatment, outcome)\n",
    "\n",
    "def construct_basic_model():\n",
    "    models = [\n",
    "        Model('OLS',LinearRegression(),importance_func=importance_from_coef)\n",
    "    ]\n",
    "    return models\n",
    "\n",
    "modelsb0, modelsb1, resultsb = nested_cross_val(\n",
    "    construct_basic_model,\n",
    "    \"data/tmp.pkl\",\n",
    "    X0b, X1b, y0b, y1b,\n",
    "    optimisation_metric,\n",
    "    evaluation_metrics,\n",
    "    innercv=inner_cv,\n",
    "    outercv=outer_cv,\n",
    "    load_from_cache=False)"
   ]
  },
  {
   "cell_type": "code",
   "execution_count": 18,
   "id": "27",
   "metadata": {
    "execution": {
     "iopub.execute_input": "2021-11-26T03:52:02.351252Z",
     "iopub.status.busy": "2021-11-26T03:52:02.350926Z",
     "iopub.status.idle": "2021-11-26T03:52:02.620785Z",
     "shell.execute_reply": "2021-11-26T03:52:02.621053Z"
    },
    "papermill": {
     "duration": 0.372239,
     "end_time": "2021-11-26T03:52:02.621165",
     "exception": false,
     "start_time": "2021-11-26T03:52:02.248926",
     "status": "completed"
    },
    "tags": []
   },
   "outputs": [
    {
     "data": {
      "image/png": "[encoded data removed]",
      "text/plain": [
       "<Figure size 1080x360 with 2 Axes>"
      ]
     },
     "metadata": {
      "needs_background": "light"
     },
     "output_type": "display_data"
    }
   ],
   "source": [
    "from sklearn.metrics import r2_score\n",
    "y0b = resultsb['OLS'][0]['estimator'][0].predict(X0b)\n",
    "y1b = resultsb['OLS'][1]['estimator'][0].predict(X1b)\n",
    "fig, ax = plt.subplots(1,2, figsize=(15,5))\n",
    "ax[0].scatter(y0, y0b,s=10,alpha=0.1)\n",
    "ax[0].set_xlabel('y0')\n",
    "ax[0].set_ylabel('$\\\\hat{y}0$');\n",
    "ax[0].set_title(f'Control (OLS-basic), $R^2={r2_score(y0,y0b):.2f}$')\n",
    "\n",
    "ax[1].scatter(y1, y1b,s=10,alpha=0.1)\n",
    "ax[1].set_xlabel('y1')\n",
    "ax[1].set_ylabel('$\\\\hat{y}1$');\n",
    "ax[1].set_title(f'Treated (OLS-basic), $R^2={r2_score(y1,y1b):.2f}$');\n"
   ]
  },
  {
   "cell_type": "code",
   "execution_count": 19,
   "id": "28",
   "metadata": {
    "execution": {
     "iopub.execute_input": "2021-11-26T03:52:02.821441Z",
     "iopub.status.busy": "2021-11-26T03:52:02.821106Z",
     "iopub.status.idle": "2021-11-26T03:52:03.129349Z",
     "shell.execute_reply": "2021-11-26T03:52:03.129610Z"
    },
    "papermill": {
     "duration": 0.412759,
     "end_time": "2021-11-26T03:52:03.129709",
     "exception": false,
     "start_time": "2021-11-26T03:52:02.716950",
     "status": "completed"
    },
    "tags": [
     "hide_input"
    ]
   },
   "outputs": [
    {
     "data": {
      "image/png": "[encoded data removed]",
      "text/plain": [
       "<Figure size 1080x360 with 2 Axes>"
      ]
     },
     "metadata": {
      "needs_background": "light"
     },
     "output_type": "display_data"
    }
   ],
   "source": [
    "if 'ridge' in results.keys():\n",
    "    y0a = results['ridge'][0]['estimator'][4].predict(X0)\n",
    "    y1a = results['ridge'][1]['estimator'][4].predict(X1)\n",
    "    fig, ax = plt.subplots(1,2, figsize=(15,5))\n",
    "    ax[0].scatter(y0, y0a,s=10,alpha=0.1)\n",
    "    ax[0].set_xlabel('y0')\n",
    "    ax[0].set_ylabel('$\\\\hat{y}0$');\n",
    "    ax[0].set_title(f'Control (ridge), $R^2={r2_score(y0,y0a):.2f}$')\n",
    "\n",
    "    ax[1].scatter(y1, y1a,s=10,alpha=0.1)\n",
    "    ax[1].set_xlabel('y1')\n",
    "    ax[1].set_ylabel('$\\\\hat{y}1$');\n",
    "    ax[1].set_title(f'Treated (ridge), $R^2={r2_score(y1,y1a):.2f}$');\n",
    "\n",
    "# think about why these r2 scores are higher than on the holdout set (and whether they are likely overfitting)\n",
    "# despite there being so few variables"
   ]
  },
  {
   "cell_type": "code",
   "execution_count": 20,
   "id": "29",
   "metadata": {
    "execution": {
     "iopub.execute_input": "2021-11-26T03:52:03.330668Z",
     "iopub.status.busy": "2021-11-26T03:52:03.330343Z",
     "iopub.status.idle": "2021-11-26T05:53:01.706855Z",
     "shell.execute_reply": "2021-11-26T05:53:01.707167Z"
    },
    "papermill": {
     "duration": 7258.480918,
     "end_time": "2021-11-26T05:53:01.707264",
     "exception": false,
     "start_time": "2021-11-26T03:52:03.226346",
     "status": "completed"
    },
    "tags": [
     "hide_cell"
    ]
   },
   "outputs": [
    {
     "name": "stdout",
     "output_type": "stream",
     "text": [
      "Fitting ridge ...Fitting 5 folds for each of 30 candidates, totalling 150 fits\n"
     ]
    },
    {
     "name": "stdout",
     "output_type": "stream",
     "text": [
      "Fitting 5 folds for each of 30 candidates, totalling 150 fits\n"
     ]
    },
    {
     "name": "stdout",
     "output_type": "stream",
     "text": [
      "Fitting 5 folds for each of 30 candidates, totalling 150 fits\n"
     ]
    },
    {
     "name": "stdout",
     "output_type": "stream",
     "text": [
      "Fitting 5 folds for each of 30 candidates, totalling 150 fits\n"
     ]
    },
    {
     "name": "stdout",
     "output_type": "stream",
     "text": [
      "Fitting 5 folds for each of 30 candidates, totalling 150 fits\n"
     ]
    },
    {
     "name": "stdout",
     "output_type": "stream",
     "text": [
      "Fitting 5 folds for each of 30 candidates, totalling 150 fits\n"
     ]
    },
    {
     "name": "stdout",
     "output_type": "stream",
     "text": [
      "Fitting 5 folds for each of 30 candidates, totalling 150 fits\n"
     ]
    },
    {
     "name": "stdout",
     "output_type": "stream",
     "text": [
      "Fitting 5 folds for each of 30 candidates, totalling 150 fits\n"
     ]
    },
    {
     "name": "stdout",
     "output_type": "stream",
     "text": [
      "Fitting 5 folds for each of 30 candidates, totalling 150 fits\n"
     ]
    },
    {
     "name": "stdout",
     "output_type": "stream",
     "text": [
      "Fitting 5 folds for each of 30 candidates, totalling 150 fits\n"
     ]
    },
    {
     "name": "stdout",
     "output_type": "stream",
     "text": [
      "Fitting 5 folds for each of 30 candidates, totalling 150 fits\n"
     ]
    },
    {
     "name": "stdout",
     "output_type": "stream",
     "text": [
      "Fitting 5 folds for each of 30 candidates, totalling 150 fits\n"
     ]
    },
    {
     "name": "stdout",
     "output_type": "stream",
     "text": [
      "Fitting 5 folds for each of 30 candidates, totalling 150 fits\n"
     ]
    },
    {
     "name": "stdout",
     "output_type": "stream",
     "text": [
      "Fitting 5 folds for each of 30 candidates, totalling 150 fits\n"
     ]
    },
    {
     "name": "stdout",
     "output_type": "stream",
     "text": [
      "Fitting 5 folds for each of 30 candidates, totalling 150 fits\n"
     ]
    },
    {
     "name": "stdout",
     "output_type": "stream",
     "text": [
      "Fitting 5 folds for each of 30 candidates, totalling 150 fits\n"
     ]
    },
    {
     "name": "stdout",
     "output_type": "stream",
     "text": [
      "Fitting 5 folds for each of 30 candidates, totalling 150 fits\n"
     ]
    },
    {
     "name": "stdout",
     "output_type": "stream",
     "text": [
      "Fitting 5 folds for each of 30 candidates, totalling 150 fits\n"
     ]
    },
    {
     "name": "stdout",
     "output_type": "stream",
     "text": [
      "Fitting 5 folds for each of 30 candidates, totalling 150 fits\n"
     ]
    },
    {
     "name": "stdout",
     "output_type": "stream",
     "text": [
      "Fitting 5 folds for each of 30 candidates, totalling 150 fits\n"
     ]
    },
    {
     "name": "stdout",
     "output_type": "stream",
     "text": [
      "Fitting 5 folds for each of 30 candidates, totalling 150 fits\n"
     ]
    },
    {
     "name": "stdout",
     "output_type": "stream",
     "text": [
      "Fitting 5 folds for each of 30 candidates, totalling 150 fits\n"
     ]
    },
    {
     "name": "stdout",
     "output_type": "stream",
     "text": [
      "Fitting 5 folds for each of 30 candidates, totalling 150 fits\n"
     ]
    },
    {
     "name": "stdout",
     "output_type": "stream",
     "text": [
      "Fitting 5 folds for each of 30 candidates, totalling 150 fits\n"
     ]
    },
    {
     "name": "stdout",
     "output_type": "stream",
     "text": [
      "Fitting 5 folds for each of 30 candidates, totalling 150 fits\n"
     ]
    },
    {
     "name": "stdout",
     "output_type": "stream",
     "text": [
      "Fitting 5 folds for each of 30 candidates, totalling 150 fits\n"
     ]
    },
    {
     "name": "stdout",
     "output_type": "stream",
     "text": [
      "Fitting 5 folds for each of 30 candidates, totalling 150 fits\n"
     ]
    },
    {
     "name": "stdout",
     "output_type": "stream",
     "text": [
      "Fitting 5 folds for each of 30 candidates, totalling 150 fits\n"
     ]
    },
    {
     "name": "stdout",
     "output_type": "stream",
     "text": [
      "Fitting 5 folds for each of 30 candidates, totalling 150 fits\n"
     ]
    },
    {
     "name": "stdout",
     "output_type": "stream",
     "text": [
      "Fitting 5 folds for each of 30 candidates, totalling 150 fits\n"
     ]
    },
    {
     "name": "stdout",
     "output_type": "stream",
     "text": [
      "Fitting 5 folds for each of 30 candidates, totalling 150 fits\n"
     ]
    },
    {
     "name": "stdout",
     "output_type": "stream",
     "text": [
      "Fitting 5 folds for each of 30 candidates, totalling 150 fits\n"
     ]
    },
    {
     "name": "stdout",
     "output_type": "stream",
     "text": [
      "Fitting 5 folds for each of 30 candidates, totalling 150 fits\n"
     ]
    },
    {
     "name": "stdout",
     "output_type": "stream",
     "text": [
      "Fitting 5 folds for each of 30 candidates, totalling 150 fits\n"
     ]
    },
    {
     "name": "stdout",
     "output_type": "stream",
     "text": [
      "Fitting 5 folds for each of 30 candidates, totalling 150 fits\n"
     ]
    },
    {
     "name": "stdout",
     "output_type": "stream",
     "text": [
      "Fitting 5 folds for each of 30 candidates, totalling 150 fits\n"
     ]
    },
    {
     "name": "stdout",
     "output_type": "stream",
     "text": [
      "Fitting 5 folds for each of 30 candidates, totalling 150 fits\n"
     ]
    },
    {
     "name": "stdout",
     "output_type": "stream",
     "text": [
      "Fitting 5 folds for each of 30 candidates, totalling 150 fits\n"
     ]
    },
    {
     "name": "stdout",
     "output_type": "stream",
     "text": [
      "Fitting 5 folds for each of 30 candidates, totalling 150 fits\n"
     ]
    },
    {
     "name": "stdout",
     "output_type": "stream",
     "text": [
      "Fitting 5 folds for each of 30 candidates, totalling 150 fits\n"
     ]
    },
    {
     "name": "stdout",
     "output_type": "stream",
     "text": [
      "Fitting 5 folds for each of 30 candidates, totalling 150 fits\n"
     ]
    },
    {
     "name": "stdout",
     "output_type": "stream",
     "text": [
      "Fitting 5 folds for each of 30 candidates, totalling 150 fits\n"
     ]
    },
    {
     "name": "stdout",
     "output_type": "stream",
     "text": [
      "Fitting 5 folds for each of 30 candidates, totalling 150 fits\n"
     ]
    },
    {
     "name": "stdout",
     "output_type": "stream",
     "text": [
      "Fitting 5 folds for each of 30 candidates, totalling 150 fits\n"
     ]
    },
    {
     "name": "stdout",
     "output_type": "stream",
     "text": [
      "Fitting 5 folds for each of 30 candidates, totalling 150 fits\n"
     ]
    },
    {
     "name": "stdout",
     "output_type": "stream",
     "text": [
      "Fitting 5 folds for each of 30 candidates, totalling 150 fits\n"
     ]
    },
    {
     "name": "stdout",
     "output_type": "stream",
     "text": [
      "Fitting 5 folds for each of 30 candidates, totalling 150 fits\n"
     ]
    },
    {
     "name": "stdout",
     "output_type": "stream",
     "text": [
      "Fitting 5 folds for each of 30 candidates, totalling 150 fits\n"
     ]
    },
    {
     "name": "stdout",
     "output_type": "stream",
     "text": [
      "Fitting 5 folds for each of 30 candidates, totalling 150 fits\n"
     ]
    },
    {
     "name": "stdout",
     "output_type": "stream",
     "text": [
      "Fitting 5 folds for each of 30 candidates, totalling 150 fits\n"
     ]
    },
    {
     "name": "stdout",
     "output_type": "stream",
     "text": [
      "Fitting 5 folds for each of 30 candidates, totalling 150 fits\n"
     ]
    },
    {
     "name": "stdout",
     "output_type": "stream",
     "text": [
      "Fitting 5 folds for each of 30 candidates, totalling 150 fits\n",
      "Fitting 5 folds for each of 30 candidates, totalling 150 fits\n"
     ]
    },
    {
     "name": "stdout",
     "output_type": "stream",
     "text": [
      "Fitting 5 folds for each of 30 candidates, totalling 150 fits\n",
      "Fitting 5 folds for each of 30 candidates, totalling 150 fits\n"
     ]
    },
    {
     "name": "stdout",
     "output_type": "stream",
     "text": [
      "Fitting 5 folds for each of 30 candidates, totalling 150 fits\n",
      "Fitting 5 folds for each of 30 candidates, totalling 150 fits\n"
     ]
    },
    {
     "name": "stdout",
     "output_type": "stream",
     "text": [
      "Fitting 5 folds for each of 30 candidates, totalling 150 fits\n",
      "Fitting 5 folds for each of 30 candidates, totalling 150 fits\n"
     ]
    },
    {
     "name": "stdout",
     "output_type": "stream",
     "text": [
      "Fitting 5 folds for each of 30 candidates, totalling 150 fits\n",
      "Fitting 5 folds for each of 30 candidates, totalling 150 fits\n"
     ]
    },
    {
     "name": "stdout",
     "output_type": "stream",
     "text": [
      "Fitting 5 folds for each of 30 candidates, totalling 150 fits\n",
      "Fitting 5 folds for each of 30 candidates, totalling 150 fits\n"
     ]
    },
    {
     "name": "stdout",
     "output_type": "stream",
     "text": [
      "Fitting 5 folds for each of 30 candidates, totalling 150 fits\n",
      "Fitting 5 folds for each of 30 candidates, totalling 150 fits\n"
     ]
    },
    {
     "name": "stdout",
     "output_type": "stream",
     "text": [
      "Fitting 5 folds for each of 30 candidates, totalling 150 fits\n",
      "Fitting 5 folds for each of 30 candidates, totalling 150 fits\n"
     ]
    },
    {
     "name": "stdout",
     "output_type": "stream",
     "text": [
      "Fitting 5 folds for each of 30 candidates, totalling 150 fits\n",
      "Fitting 5 folds for each of 30 candidates, totalling 150 fits\n"
     ]
    },
    {
     "name": "stdout",
     "output_type": "stream",
     "text": [
      "Fitting 5 folds for each of 30 candidates, totalling 150 fits\n",
      "Fitting 5 folds for each of 30 candidates, totalling 150 fits\n"
     ]
    },
    {
     "name": "stdout",
     "output_type": "stream",
     "text": [
      "Fitting 5 folds for each of 30 candidates, totalling 150 fits\n",
      "Fitting 5 folds for each of 30 candidates, totalling 150 fits\n"
     ]
    },
    {
     "name": "stdout",
     "output_type": "stream",
     "text": [
      "Fitting 5 folds for each of 30 candidates, totalling 150 fits\n",
      "Fitting 5 folds for each of 30 candidates, totalling 150 fits\n"
     ]
    },
    {
     "name": "stdout",
     "output_type": "stream",
     "text": [
      "Fitting 5 folds for each of 30 candidates, totalling 150 fits\n",
      "Fitting 5 folds for each of 30 candidates, totalling 150 fits\n"
     ]
    },
    {
     "name": "stdout",
     "output_type": "stream",
     "text": [
      "Fitting 5 folds for each of 30 candidates, totalling 150 fits\n",
      "Fitting 5 folds for each of 30 candidates, totalling 150 fits\n"
     ]
    },
    {
     "name": "stdout",
     "output_type": "stream",
     "text": [
      "Fitting 5 folds for each of 30 candidates, totalling 150 fits\n",
      "Fitting 5 folds for each of 30 candidates, totalling 150 fits\n"
     ]
    },
    {
     "name": "stdout",
     "output_type": "stream",
     "text": [
      "Fitting 5 folds for each of 30 candidates, totalling 150 fits\n",
      "Fitting 5 folds for each of 30 candidates, totalling 150 fits\n"
     ]
    },
    {
     "name": "stdout",
     "output_type": "stream",
     "text": [
      "Fitting 5 folds for each of 30 candidates, totalling 150 fits\n",
      "Fitting 5 folds for each of 30 candidates, totalling 150 fits\n"
     ]
    },
    {
     "name": "stdout",
     "output_type": "stream",
     "text": [
      "Fitting 5 folds for each of 30 candidates, totalling 150 fits\n",
      "Fitting 5 folds for each of 30 candidates, totalling 150 fits\n"
     ]
    },
    {
     "name": "stdout",
     "output_type": "stream",
     "text": [
      "Fitting 5 folds for each of 30 candidates, totalling 150 fits\n",
      "Fitting 5 folds for each of 30 candidates, totalling 150 fits\n"
     ]
    },
    {
     "name": "stdout",
     "output_type": "stream",
     "text": [
      "Fitting 5 folds for each of 30 candidates, totalling 150 fits\n",
      "Fitting 5 folds for each of 30 candidates, totalling 150 fits\n"
     ]
    },
    {
     "name": "stdout",
     "output_type": "stream",
     "text": [
      "Fitting 5 folds for each of 30 candidates, totalling 150 fits\n",
      "Fitting 5 folds for each of 30 candidates, totalling 150 fits\n"
     ]
    },
    {
     "name": "stdout",
     "output_type": "stream",
     "text": [
      "Fitting 5 folds for each of 30 candidates, totalling 150 fits\n",
      "Fitting 5 folds for each of 30 candidates, totalling 150 fits\n"
     ]
    },
    {
     "name": "stdout",
     "output_type": "stream",
     "text": [
      "Fitting 5 folds for each of 30 candidates, totalling 150 fits\n",
      "Fitting 5 folds for each of 30 candidates, totalling 150 fits\n"
     ]
    },
    {
     "name": "stdout",
     "output_type": "stream",
     "text": [
      "Fitting 5 folds for each of 30 candidates, totalling 150 fits\n",
      "Fitting 5 folds for each of 30 candidates, totalling 150 fits\n"
     ]
    },
    {
     "name": "stdout",
     "output_type": "stream",
     "text": [
      "Fitting 5 folds for each of 30 candidates, totalling 150 fits\n",
      "Done\n",
      "Fitting lasso ...Fitting 5 folds for each of 30 candidates, totalling 150 fits\n"
     ]
    },
    {
     "name": "stdout",
     "output_type": "stream",
     "text": [
      "Fitting 5 folds for each of 30 candidates, totalling 150 fits\n"
     ]
    },
    {
     "name": "stdout",
     "output_type": "stream",
     "text": [
      "Fitting 5 folds for each of 30 candidates, totalling 150 fits\n"
     ]
    },
    {
     "name": "stdout",
     "output_type": "stream",
     "text": [
      "Fitting 5 folds for each of 30 candidates, totalling 150 fits\n"
     ]
    },
    {
     "name": "stdout",
     "output_type": "stream",
     "text": [
      "Fitting 5 folds for each of 30 candidates, totalling 150 fits\n"
     ]
    },
    {
     "name": "stdout",
     "output_type": "stream",
     "text": [
      "Fitting 5 folds for each of 30 candidates, totalling 150 fits\n"
     ]
    },
    {
     "name": "stdout",
     "output_type": "stream",
     "text": [
      "Fitting 5 folds for each of 30 candidates, totalling 150 fits\n"
     ]
    },
    {
     "name": "stdout",
     "output_type": "stream",
     "text": [
      "Fitting 5 folds for each of 30 candidates, totalling 150 fits\n"
     ]
    },
    {
     "name": "stdout",
     "output_type": "stream",
     "text": [
      "Fitting 5 folds for each of 30 candidates, totalling 150 fits\n"
     ]
    },
    {
     "name": "stdout",
     "output_type": "stream",
     "text": [
      "Fitting 5 folds for each of 30 candidates, totalling 150 fits\n"
     ]
    },
    {
     "name": "stdout",
     "output_type": "stream",
     "text": [
      "Fitting 5 folds for each of 30 candidates, totalling 150 fits\n"
     ]
    },
    {
     "name": "stdout",
     "output_type": "stream",
     "text": [
      "Fitting 5 folds for each of 30 candidates, totalling 150 fits\n"
     ]
    },
    {
     "name": "stdout",
     "output_type": "stream",
     "text": [
      "Fitting 5 folds for each of 30 candidates, totalling 150 fits\n"
     ]
    },
    {
     "name": "stdout",
     "output_type": "stream",
     "text": [
      "Fitting 5 folds for each of 30 candidates, totalling 150 fits\n"
     ]
    },
    {
     "name": "stdout",
     "output_type": "stream",
     "text": [
      "Fitting 5 folds for each of 30 candidates, totalling 150 fits\n"
     ]
    },
    {
     "name": "stdout",
     "output_type": "stream",
     "text": [
      "Fitting 5 folds for each of 30 candidates, totalling 150 fits\n"
     ]
    },
    {
     "name": "stdout",
     "output_type": "stream",
     "text": [
      "Fitting 5 folds for each of 30 candidates, totalling 150 fits\n"
     ]
    },
    {
     "name": "stdout",
     "output_type": "stream",
     "text": [
      "Fitting 5 folds for each of 30 candidates, totalling 150 fits\n"
     ]
    },
    {
     "name": "stdout",
     "output_type": "stream",
     "text": [
      "Fitting 5 folds for each of 30 candidates, totalling 150 fits\n"
     ]
    },
    {
     "name": "stdout",
     "output_type": "stream",
     "text": [
      "Fitting 5 folds for each of 30 candidates, totalling 150 fits\n"
     ]
    },
    {
     "name": "stdout",
     "output_type": "stream",
     "text": [
      "Fitting 5 folds for each of 30 candidates, totalling 150 fits\n"
     ]
    },
    {
     "name": "stdout",
     "output_type": "stream",
     "text": [
      "Fitting 5 folds for each of 30 candidates, totalling 150 fits\n"
     ]
    },
    {
     "name": "stdout",
     "output_type": "stream",
     "text": [
      "Fitting 5 folds for each of 30 candidates, totalling 150 fits\n"
     ]
    },
    {
     "name": "stdout",
     "output_type": "stream",
     "text": [
      "Fitting 5 folds for each of 30 candidates, totalling 150 fits\n"
     ]
    },
    {
     "name": "stdout",
     "output_type": "stream",
     "text": [
      "Fitting 5 folds for each of 30 candidates, totalling 150 fits\n"
     ]
    },
    {
     "name": "stdout",
     "output_type": "stream",
     "text": [
      "Fitting 5 folds for each of 30 candidates, totalling 150 fits\n"
     ]
    },
    {
     "name": "stdout",
     "output_type": "stream",
     "text": [
      "Fitting 5 folds for each of 30 candidates, totalling 150 fits\n"
     ]
    },
    {
     "name": "stdout",
     "output_type": "stream",
     "text": [
      "Fitting 5 folds for each of 30 candidates, totalling 150 fits\n"
     ]
    },
    {
     "name": "stdout",
     "output_type": "stream",
     "text": [
      "Fitting 5 folds for each of 30 candidates, totalling 150 fits\n"
     ]
    },
    {
     "name": "stdout",
     "output_type": "stream",
     "text": [
      "Fitting 5 folds for each of 30 candidates, totalling 150 fits\n"
     ]
    },
    {
     "name": "stdout",
     "output_type": "stream",
     "text": [
      "Fitting 5 folds for each of 30 candidates, totalling 150 fits\n"
     ]
    },
    {
     "name": "stdout",
     "output_type": "stream",
     "text": [
      "Fitting 5 folds for each of 30 candidates, totalling 150 fits\n"
     ]
    },
    {
     "name": "stdout",
     "output_type": "stream",
     "text": [
      "Fitting 5 folds for each of 30 candidates, totalling 150 fits\n"
     ]
    },
    {
     "name": "stdout",
     "output_type": "stream",
     "text": [
      "Fitting 5 folds for each of 30 candidates, totalling 150 fits\n"
     ]
    },
    {
     "name": "stdout",
     "output_type": "stream",
     "text": [
      "Fitting 5 folds for each of 30 candidates, totalling 150 fits\n"
     ]
    },
    {
     "name": "stdout",
     "output_type": "stream",
     "text": [
      "Fitting 5 folds for each of 30 candidates, totalling 150 fits\n"
     ]
    },
    {
     "name": "stdout",
     "output_type": "stream",
     "text": [
      "Fitting 5 folds for each of 30 candidates, totalling 150 fits\n"
     ]
    },
    {
     "name": "stdout",
     "output_type": "stream",
     "text": [
      "Fitting 5 folds for each of 30 candidates, totalling 150 fits\n"
     ]
    },
    {
     "name": "stdout",
     "output_type": "stream",
     "text": [
      "Fitting 5 folds for each of 30 candidates, totalling 150 fits\n"
     ]
    },
    {
     "name": "stdout",
     "output_type": "stream",
     "text": [
      "Fitting 5 folds for each of 30 candidates, totalling 150 fits\n"
     ]
    },
    {
     "name": "stdout",
     "output_type": "stream",
     "text": [
      "Fitting 5 folds for each of 30 candidates, totalling 150 fits\n"
     ]
    },
    {
     "name": "stdout",
     "output_type": "stream",
     "text": [
      "Fitting 5 folds for each of 30 candidates, totalling 150 fits\n"
     ]
    },
    {
     "name": "stdout",
     "output_type": "stream",
     "text": [
      "Fitting 5 folds for each of 30 candidates, totalling 150 fits\n"
     ]
    },
    {
     "name": "stdout",
     "output_type": "stream",
     "text": [
      "Fitting 5 folds for each of 30 candidates, totalling 150 fits\n"
     ]
    },
    {
     "name": "stdout",
     "output_type": "stream",
     "text": [
      "Fitting 5 folds for each of 30 candidates, totalling 150 fits\n"
     ]
    },
    {
     "name": "stdout",
     "output_type": "stream",
     "text": [
      "Fitting 5 folds for each of 30 candidates, totalling 150 fits\n"
     ]
    },
    {
     "name": "stdout",
     "output_type": "stream",
     "text": [
      "Fitting 5 folds for each of 30 candidates, totalling 150 fits\n"
     ]
    },
    {
     "name": "stdout",
     "output_type": "stream",
     "text": [
      "Fitting 5 folds for each of 30 candidates, totalling 150 fits\n"
     ]
    },
    {
     "name": "stdout",
     "output_type": "stream",
     "text": [
      "Fitting 5 folds for each of 30 candidates, totalling 150 fits\n"
     ]
    },
    {
     "name": "stdout",
     "output_type": "stream",
     "text": [
      "Fitting 5 folds for each of 30 candidates, totalling 150 fits\n"
     ]
    },
    {
     "name": "stdout",
     "output_type": "stream",
     "text": [
      "Fitting 5 folds for each of 30 candidates, totalling 150 fits\n"
     ]
    },
    {
     "name": "stdout",
     "output_type": "stream",
     "text": [
      "Fitting 5 folds for each of 30 candidates, totalling 150 fits\n",
      "Fitting 5 folds for each of 30 candidates, totalling 150 fits\n"
     ]
    },
    {
     "name": "stdout",
     "output_type": "stream",
     "text": [
      "Fitting 5 folds for each of 30 candidates, totalling 150 fits\n",
      "Fitting 5 folds for each of 30 candidates, totalling 150 fits\n"
     ]
    },
    {
     "name": "stdout",
     "output_type": "stream",
     "text": [
      "Fitting 5 folds for each of 30 candidates, totalling 150 fits\n",
      "Fitting 5 folds for each of 30 candidates, totalling 150 fits\n"
     ]
    },
    {
     "name": "stdout",
     "output_type": "stream",
     "text": [
      "Fitting 5 folds for each of 30 candidates, totalling 150 fits\n",
      "Fitting 5 folds for each of 30 candidates, totalling 150 fits\n"
     ]
    },
    {
     "name": "stdout",
     "output_type": "stream",
     "text": [
      "Fitting 5 folds for each of 30 candidates, totalling 150 fits\n",
      "Fitting 5 folds for each of 30 candidates, totalling 150 fits\n"
     ]
    },
    {
     "name": "stdout",
     "output_type": "stream",
     "text": [
      "Fitting 5 folds for each of 30 candidates, totalling 150 fits\n",
      "Fitting 5 folds for each of 30 candidates, totalling 150 fits\n"
     ]
    },
    {
     "name": "stdout",
     "output_type": "stream",
     "text": [
      "Fitting 5 folds for each of 30 candidates, totalling 150 fits\n"
     ]
    },
    {
     "name": "stdout",
     "output_type": "stream",
     "text": [
      "Fitting 5 folds for each of 30 candidates, totalling 150 fits\n",
      "Fitting 5 folds for each of 30 candidates, totalling 150 fits\n"
     ]
    },
    {
     "name": "stdout",
     "output_type": "stream",
     "text": [
      "Fitting 5 folds for each of 30 candidates, totalling 150 fits\n",
      "Fitting 5 folds for each of 30 candidates, totalling 150 fits\n"
     ]
    },
    {
     "name": "stdout",
     "output_type": "stream",
     "text": [
      "Fitting 5 folds for each of 30 candidates, totalling 150 fits\n",
      "Fitting 5 folds for each of 30 candidates, totalling 150 fits\n"
     ]
    },
    {
     "name": "stdout",
     "output_type": "stream",
     "text": [
      "Fitting 5 folds for each of 30 candidates, totalling 150 fits\n",
      "Fitting 5 folds for each of 30 candidates, totalling 150 fits\n"
     ]
    },
    {
     "name": "stdout",
     "output_type": "stream",
     "text": [
      "Fitting 5 folds for each of 30 candidates, totalling 150 fits\n",
      "Fitting 5 folds for each of 30 candidates, totalling 150 fits\n"
     ]
    },
    {
     "name": "stdout",
     "output_type": "stream",
     "text": [
      "Fitting 5 folds for each of 30 candidates, totalling 150 fits\n",
      "Fitting 5 folds for each of 30 candidates, totalling 150 fits\n"
     ]
    },
    {
     "name": "stdout",
     "output_type": "stream",
     "text": [
      "Fitting 5 folds for each of 30 candidates, totalling 150 fits\n",
      "Fitting 5 folds for each of 30 candidates, totalling 150 fits\n"
     ]
    },
    {
     "name": "stdout",
     "output_type": "stream",
     "text": [
      "Fitting 5 folds for each of 30 candidates, totalling 150 fits\n",
      "Fitting 5 folds for each of 30 candidates, totalling 150 fits\n"
     ]
    },
    {
     "name": "stdout",
     "output_type": "stream",
     "text": [
      "Fitting 5 folds for each of 30 candidates, totalling 150 fits\n",
      "Fitting 5 folds for each of 30 candidates, totalling 150 fits\n"
     ]
    },
    {
     "name": "stdout",
     "output_type": "stream",
     "text": [
      "Fitting 5 folds for each of 30 candidates, totalling 150 fits\n",
      "Fitting 5 folds for each of 30 candidates, totalling 150 fits\n"
     ]
    },
    {
     "name": "stdout",
     "output_type": "stream",
     "text": [
      "Fitting 5 folds for each of 30 candidates, totalling 150 fits\n",
      "Fitting 5 folds for each of 30 candidates, totalling 150 fits\n"
     ]
    },
    {
     "name": "stdout",
     "output_type": "stream",
     "text": [
      "Fitting 5 folds for each of 30 candidates, totalling 150 fits\n",
      "Fitting 5 folds for each of 30 candidates, totalling 150 fits\n"
     ]
    },
    {
     "name": "stdout",
     "output_type": "stream",
     "text": [
      "Fitting 5 folds for each of 30 candidates, totalling 150 fits\n",
      "Fitting 5 folds for each of 30 candidates, totalling 150 fits\n"
     ]
    },
    {
     "name": "stdout",
     "output_type": "stream",
     "text": [
      "Fitting 5 folds for each of 30 candidates, totalling 150 fits\n",
      "Fitting 5 folds for each of 30 candidates, totalling 150 fits\n"
     ]
    },
    {
     "name": "stdout",
     "output_type": "stream",
     "text": [
      "Fitting 5 folds for each of 30 candidates, totalling 150 fits\n",
      "Fitting 5 folds for each of 30 candidates, totalling 150 fits\n"
     ]
    },
    {
     "name": "stdout",
     "output_type": "stream",
     "text": [
      "Fitting 5 folds for each of 30 candidates, totalling 150 fits\n",
      "Fitting 5 folds for each of 30 candidates, totalling 150 fits\n"
     ]
    },
    {
     "name": "stdout",
     "output_type": "stream",
     "text": [
      "Fitting 5 folds for each of 30 candidates, totalling 150 fits\n",
      "Fitting 5 folds for each of 30 candidates, totalling 150 fits\n"
     ]
    },
    {
     "name": "stdout",
     "output_type": "stream",
     "text": [
      "Fitting 5 folds for each of 30 candidates, totalling 150 fits\n",
      "Fitting 5 folds for each of 30 candidates, totalling 150 fits\n"
     ]
    },
    {
     "name": "stdout",
     "output_type": "stream",
     "text": [
      "Done\n",
      "Fitting gbr ...Fitting 5 folds for each of 500 candidates, totalling 2500 fits\n"
     ]
    },
    {
     "name": "stdout",
     "output_type": "stream",
     "text": [
      "Fitting 5 folds for each of 500 candidates, totalling 2500 fits\n"
     ]
    },
    {
     "name": "stdout",
     "output_type": "stream",
     "text": [
      "Fitting 5 folds for each of 500 candidates, totalling 2500 fits\n"
     ]
    },
    {
     "name": "stdout",
     "output_type": "stream",
     "text": [
      "Fitting 5 folds for each of 500 candidates, totalling 2500 fits\n"
     ]
    },
    {
     "name": "stdout",
     "output_type": "stream",
     "text": [
      "Fitting 5 folds for each of 500 candidates, totalling 2500 fits\n"
     ]
    },
    {
     "name": "stdout",
     "output_type": "stream",
     "text": [
      "Fitting 5 folds for each of 500 candidates, totalling 2500 fits\n"
     ]
    },
    {
     "name": "stdout",
     "output_type": "stream",
     "text": [
      "Fitting 5 folds for each of 500 candidates, totalling 2500 fits\n"
     ]
    },
    {
     "name": "stdout",
     "output_type": "stream",
     "text": [
      "Fitting 5 folds for each of 500 candidates, totalling 2500 fits\n"
     ]
    },
    {
     "name": "stdout",
     "output_type": "stream",
     "text": [
      "Fitting 5 folds for each of 500 candidates, totalling 2500 fits\n"
     ]
    },
    {
     "name": "stdout",
     "output_type": "stream",
     "text": [
      "Fitting 5 folds for each of 500 candidates, totalling 2500 fits\n"
     ]
    },
    {
     "name": "stdout",
     "output_type": "stream",
     "text": [
      "Fitting 5 folds for each of 500 candidates, totalling 2500 fits\n"
     ]
    },
    {
     "name": "stdout",
     "output_type": "stream",
     "text": [
      "Fitting 5 folds for each of 500 candidates, totalling 2500 fits\n"
     ]
    },
    {
     "name": "stdout",
     "output_type": "stream",
     "text": [
      "Fitting 5 folds for each of 500 candidates, totalling 2500 fits\n"
     ]
    },
    {
     "name": "stdout",
     "output_type": "stream",
     "text": [
      "Fitting 5 folds for each of 500 candidates, totalling 2500 fits\n"
     ]
    },
    {
     "name": "stdout",
     "output_type": "stream",
     "text": [
      "Fitting 5 folds for each of 500 candidates, totalling 2500 fits\n"
     ]
    },
    {
     "name": "stdout",
     "output_type": "stream",
     "text": [
      "Fitting 5 folds for each of 500 candidates, totalling 2500 fits\n"
     ]
    },
    {
     "name": "stdout",
     "output_type": "stream",
     "text": [
      "Fitting 5 folds for each of 500 candidates, totalling 2500 fits\n"
     ]
    },
    {
     "name": "stdout",
     "output_type": "stream",
     "text": [
      "Fitting 5 folds for each of 500 candidates, totalling 2500 fits\n"
     ]
    },
    {
     "name": "stdout",
     "output_type": "stream",
     "text": [
      "Fitting 5 folds for each of 500 candidates, totalling 2500 fits\n"
     ]
    },
    {
     "name": "stdout",
     "output_type": "stream",
     "text": [
      "Fitting 5 folds for each of 500 candidates, totalling 2500 fits\n"
     ]
    },
    {
     "name": "stdout",
     "output_type": "stream",
     "text": [
      "Fitting 5 folds for each of 500 candidates, totalling 2500 fits\n"
     ]
    },
    {
     "name": "stdout",
     "output_type": "stream",
     "text": [
      "Fitting 5 folds for each of 500 candidates, totalling 2500 fits\n"
     ]
    },
    {
     "name": "stdout",
     "output_type": "stream",
     "text": [
      "Fitting 5 folds for each of 500 candidates, totalling 2500 fits\n"
     ]
    },
    {
     "name": "stdout",
     "output_type": "stream",
     "text": [
      "Fitting 5 folds for each of 500 candidates, totalling 2500 fits\n"
     ]
    },
    {
     "name": "stdout",
     "output_type": "stream",
     "text": [
      "Fitting 5 folds for each of 500 candidates, totalling 2500 fits\n"
     ]
    },
    {
     "name": "stdout",
     "output_type": "stream",
     "text": [
      "Fitting 5 folds for each of 500 candidates, totalling 2500 fits\n"
     ]
    },
    {
     "name": "stdout",
     "output_type": "stream",
     "text": [
      "Fitting 5 folds for each of 500 candidates, totalling 2500 fits\n"
     ]
    },
    {
     "name": "stdout",
     "output_type": "stream",
     "text": [
      "Fitting 5 folds for each of 500 candidates, totalling 2500 fits\n"
     ]
    },
    {
     "name": "stdout",
     "output_type": "stream",
     "text": [
      "Fitting 5 folds for each of 500 candidates, totalling 2500 fits\n"
     ]
    },
    {
     "name": "stdout",
     "output_type": "stream",
     "text": [
      "Fitting 5 folds for each of 500 candidates, totalling 2500 fits\n"
     ]
    },
    {
     "name": "stdout",
     "output_type": "stream",
     "text": [
      "Fitting 5 folds for each of 500 candidates, totalling 2500 fits\n"
     ]
    },
    {
     "name": "stdout",
     "output_type": "stream",
     "text": [
      "Fitting 5 folds for each of 500 candidates, totalling 2500 fits\n"
     ]
    },
    {
     "name": "stdout",
     "output_type": "stream",
     "text": [
      "Fitting 5 folds for each of 500 candidates, totalling 2500 fits\n"
     ]
    },
    {
     "name": "stdout",
     "output_type": "stream",
     "text": [
      "Fitting 5 folds for each of 500 candidates, totalling 2500 fits\n"
     ]
    },
    {
     "name": "stdout",
     "output_type": "stream",
     "text": [
      "Fitting 5 folds for each of 500 candidates, totalling 2500 fits\n"
     ]
    },
    {
     "name": "stdout",
     "output_type": "stream",
     "text": [
      "Fitting 5 folds for each of 500 candidates, totalling 2500 fits\n"
     ]
    },
    {
     "name": "stdout",
     "output_type": "stream",
     "text": [
      "Fitting 5 folds for each of 500 candidates, totalling 2500 fits\n"
     ]
    },
    {
     "name": "stdout",
     "output_type": "stream",
     "text": [
      "Fitting 5 folds for each of 500 candidates, totalling 2500 fits\n"
     ]
    },
    {
     "name": "stdout",
     "output_type": "stream",
     "text": [
      "Fitting 5 folds for each of 500 candidates, totalling 2500 fits\n"
     ]
    },
    {
     "name": "stdout",
     "output_type": "stream",
     "text": [
      "Fitting 5 folds for each of 500 candidates, totalling 2500 fits\n"
     ]
    },
    {
     "name": "stdout",
     "output_type": "stream",
     "text": [
      "Fitting 5 folds for each of 500 candidates, totalling 2500 fits\n"
     ]
    },
    {
     "name": "stdout",
     "output_type": "stream",
     "text": [
      "Fitting 5 folds for each of 500 candidates, totalling 2500 fits\n"
     ]
    },
    {
     "name": "stdout",
     "output_type": "stream",
     "text": [
      "Fitting 5 folds for each of 500 candidates, totalling 2500 fits\n"
     ]
    },
    {
     "name": "stdout",
     "output_type": "stream",
     "text": [
      "Fitting 5 folds for each of 500 candidates, totalling 2500 fits\n"
     ]
    },
    {
     "name": "stdout",
     "output_type": "stream",
     "text": [
      "Fitting 5 folds for each of 500 candidates, totalling 2500 fits\n"
     ]
    },
    {
     "name": "stdout",
     "output_type": "stream",
     "text": [
      "Fitting 5 folds for each of 500 candidates, totalling 2500 fits\n"
     ]
    },
    {
     "name": "stdout",
     "output_type": "stream",
     "text": [
      "Fitting 5 folds for each of 500 candidates, totalling 2500 fits\n"
     ]
    },
    {
     "name": "stdout",
     "output_type": "stream",
     "text": [
      "Fitting 5 folds for each of 500 candidates, totalling 2500 fits\n"
     ]
    },
    {
     "name": "stdout",
     "output_type": "stream",
     "text": [
      "Fitting 5 folds for each of 500 candidates, totalling 2500 fits\n"
     ]
    },
    {
     "name": "stdout",
     "output_type": "stream",
     "text": [
      "Fitting 5 folds for each of 500 candidates, totalling 2500 fits\n"
     ]
    },
    {
     "name": "stdout",
     "output_type": "stream",
     "text": [
      "Fitting 5 folds for each of 500 candidates, totalling 2500 fits\n"
     ]
    },
    {
     "name": "stdout",
     "output_type": "stream",
     "text": [
      "Fitting 5 folds for each of 500 candidates, totalling 2500 fits\n"
     ]
    },
    {
     "name": "stdout",
     "output_type": "stream",
     "text": [
      "Fitting 5 folds for each of 500 candidates, totalling 2500 fits\n"
     ]
    },
    {
     "name": "stdout",
     "output_type": "stream",
     "text": [
      "Fitting 5 folds for each of 500 candidates, totalling 2500 fits\n"
     ]
    },
    {
     "name": "stdout",
     "output_type": "stream",
     "text": [
      "Fitting 5 folds for each of 500 candidates, totalling 2500 fits\n"
     ]
    },
    {
     "name": "stdout",
     "output_type": "stream",
     "text": [
      "Fitting 5 folds for each of 500 candidates, totalling 2500 fits\n"
     ]
    },
    {
     "name": "stdout",
     "output_type": "stream",
     "text": [
      "Fitting 5 folds for each of 500 candidates, totalling 2500 fits\n"
     ]
    },
    {
     "name": "stdout",
     "output_type": "stream",
     "text": [
      "Fitting 5 folds for each of 500 candidates, totalling 2500 fits\n"
     ]
    },
    {
     "name": "stdout",
     "output_type": "stream",
     "text": [
      "Fitting 5 folds for each of 500 candidates, totalling 2500 fits\n"
     ]
    },
    {
     "name": "stdout",
     "output_type": "stream",
     "text": [
      "Fitting 5 folds for each of 500 candidates, totalling 2500 fits\n"
     ]
    },
    {
     "name": "stdout",
     "output_type": "stream",
     "text": [
      "Fitting 5 folds for each of 500 candidates, totalling 2500 fits\n"
     ]
    },
    {
     "name": "stdout",
     "output_type": "stream",
     "text": [
      "Fitting 5 folds for each of 500 candidates, totalling 2500 fits\n"
     ]
    },
    {
     "name": "stdout",
     "output_type": "stream",
     "text": [
      "Fitting 5 folds for each of 500 candidates, totalling 2500 fits\n"
     ]
    },
    {
     "name": "stdout",
     "output_type": "stream",
     "text": [
      "Fitting 5 folds for each of 500 candidates, totalling 2500 fits\n"
     ]
    },
    {
     "name": "stdout",
     "output_type": "stream",
     "text": [
      "Fitting 5 folds for each of 500 candidates, totalling 2500 fits\n"
     ]
    },
    {
     "name": "stdout",
     "output_type": "stream",
     "text": [
      "Fitting 5 folds for each of 500 candidates, totalling 2500 fits\n"
     ]
    },
    {
     "name": "stdout",
     "output_type": "stream",
     "text": [
      "Fitting 5 folds for each of 500 candidates, totalling 2500 fits\n"
     ]
    },
    {
     "name": "stdout",
     "output_type": "stream",
     "text": [
      "Fitting 5 folds for each of 500 candidates, totalling 2500 fits\n"
     ]
    },
    {
     "name": "stdout",
     "output_type": "stream",
     "text": [
      "Fitting 5 folds for each of 500 candidates, totalling 2500 fits\n"
     ]
    },
    {
     "name": "stdout",
     "output_type": "stream",
     "text": [
      "Fitting 5 folds for each of 500 candidates, totalling 2500 fits\n"
     ]
    },
    {
     "name": "stdout",
     "output_type": "stream",
     "text": [
      "Fitting 5 folds for each of 500 candidates, totalling 2500 fits\n"
     ]
    },
    {
     "name": "stdout",
     "output_type": "stream",
     "text": [
      "Fitting 5 folds for each of 500 candidates, totalling 2500 fits\n"
     ]
    },
    {
     "name": "stdout",
     "output_type": "stream",
     "text": [
      "Fitting 5 folds for each of 500 candidates, totalling 2500 fits\n"
     ]
    },
    {
     "name": "stdout",
     "output_type": "stream",
     "text": [
      "Fitting 5 folds for each of 500 candidates, totalling 2500 fits\n"
     ]
    },
    {
     "name": "stdout",
     "output_type": "stream",
     "text": [
      "Fitting 5 folds for each of 500 candidates, totalling 2500 fits\n"
     ]
    },
    {
     "name": "stdout",
     "output_type": "stream",
     "text": [
      "Fitting 5 folds for each of 500 candidates, totalling 2500 fits\n"
     ]
    },
    {
     "name": "stdout",
     "output_type": "stream",
     "text": [
      "Fitting 5 folds for each of 500 candidates, totalling 2500 fits\n"
     ]
    },
    {
     "name": "stdout",
     "output_type": "stream",
     "text": [
      "Fitting 5 folds for each of 500 candidates, totalling 2500 fits\n"
     ]
    },
    {
     "name": "stdout",
     "output_type": "stream",
     "text": [
      "Fitting 5 folds for each of 500 candidates, totalling 2500 fits\n"
     ]
    },
    {
     "name": "stdout",
     "output_type": "stream",
     "text": [
      "Fitting 5 folds for each of 500 candidates, totalling 2500 fits\n"
     ]
    },
    {
     "name": "stdout",
     "output_type": "stream",
     "text": [
      "Fitting 5 folds for each of 500 candidates, totalling 2500 fits\n"
     ]
    },
    {
     "name": "stdout",
     "output_type": "stream",
     "text": [
      "Fitting 5 folds for each of 500 candidates, totalling 2500 fits\n"
     ]
    },
    {
     "name": "stdout",
     "output_type": "stream",
     "text": [
      "Fitting 5 folds for each of 500 candidates, totalling 2500 fits\n"
     ]
    },
    {
     "name": "stdout",
     "output_type": "stream",
     "text": [
      "Fitting 5 folds for each of 500 candidates, totalling 2500 fits\n"
     ]
    },
    {
     "name": "stdout",
     "output_type": "stream",
     "text": [
      "Fitting 5 folds for each of 500 candidates, totalling 2500 fits\n"
     ]
    },
    {
     "name": "stdout",
     "output_type": "stream",
     "text": [
      "Fitting 5 folds for each of 500 candidates, totalling 2500 fits\n"
     ]
    },
    {
     "name": "stdout",
     "output_type": "stream",
     "text": [
      "Fitting 5 folds for each of 500 candidates, totalling 2500 fits\n"
     ]
    },
    {
     "name": "stdout",
     "output_type": "stream",
     "text": [
      "Fitting 5 folds for each of 500 candidates, totalling 2500 fits\n"
     ]
    },
    {
     "name": "stdout",
     "output_type": "stream",
     "text": [
      "Fitting 5 folds for each of 500 candidates, totalling 2500 fits\n"
     ]
    },
    {
     "name": "stdout",
     "output_type": "stream",
     "text": [
      "Fitting 5 folds for each of 500 candidates, totalling 2500 fits\n"
     ]
    },
    {
     "name": "stdout",
     "output_type": "stream",
     "text": [
      "Fitting 5 folds for each of 500 candidates, totalling 2500 fits\n"
     ]
    },
    {
     "name": "stdout",
     "output_type": "stream",
     "text": [
      "Fitting 5 folds for each of 500 candidates, totalling 2500 fits\n"
     ]
    },
    {
     "name": "stdout",
     "output_type": "stream",
     "text": [
      "Fitting 5 folds for each of 500 candidates, totalling 2500 fits\n"
     ]
    },
    {
     "name": "stdout",
     "output_type": "stream",
     "text": [
      "Fitting 5 folds for each of 500 candidates, totalling 2500 fits\n"
     ]
    },
    {
     "name": "stdout",
     "output_type": "stream",
     "text": [
      "Fitting 5 folds for each of 500 candidates, totalling 2500 fits\n"
     ]
    },
    {
     "name": "stdout",
     "output_type": "stream",
     "text": [
      "Fitting 5 folds for each of 500 candidates, totalling 2500 fits\n"
     ]
    },
    {
     "name": "stdout",
     "output_type": "stream",
     "text": [
      "Fitting 5 folds for each of 500 candidates, totalling 2500 fits\n"
     ]
    },
    {
     "name": "stdout",
     "output_type": "stream",
     "text": [
      "Fitting 5 folds for each of 500 candidates, totalling 2500 fits\n"
     ]
    },
    {
     "name": "stdout",
     "output_type": "stream",
     "text": [
      "Fitting 5 folds for each of 500 candidates, totalling 2500 fits\n"
     ]
    },
    {
     "name": "stdout",
     "output_type": "stream",
     "text": [
      "Fitting 5 folds for each of 500 candidates, totalling 2500 fits\n"
     ]
    },
    {
     "name": "stdout",
     "output_type": "stream",
     "text": [
      "Done\n",
      "Total time:7257.929386377335 seconds\n",
      "Caching results to: data/bootstrap-lasso-50-restricted.pkl\n"
     ]
    }
   ],
   "source": [
    "from direct_regression import bootstrapped_cross_val\n",
    "def extract_params(estimator):\n",
    "    return estimator.coef_\n",
    "\n",
    "\n",
    "bootstrap_results = bootstrapped_cross_val(\n",
    "    model_init,\n",
    "    bootstrap_cache,\n",
    "    X0, X1, y0, y1,\n",
    "    optimisation_metric,\n",
    "    extract_params,\n",
    "    inner_cv=inner_cv,\n",
    "    load_from_cache=load_from_cache,\n",
    "    samples=bootstrap_samples\n",
    ")"
   ]
  },
  {
   "cell_type": "markdown",
   "id": "30",
   "metadata": {
    "papermill": {
     "duration": 0.239283,
     "end_time": "2021-11-26T05:53:02.185648",
     "exception": false,
     "start_time": "2021-11-26T05:53:01.946365",
     "status": "completed"
    },
    "tags": []
   },
   "source": [
    "####  Average treatment effects"
   ]
  },
  {
   "cell_type": "code",
   "execution_count": 21,
   "id": "31",
   "metadata": {
    "execution": {
     "iopub.execute_input": "2021-11-26T05:53:02.666015Z",
     "iopub.status.busy": "2021-11-26T05:53:02.665693Z",
     "iopub.status.idle": "2021-11-26T05:53:03.278427Z",
     "shell.execute_reply": "2021-11-26T05:53:03.278087Z"
    },
    "papermill": {
     "duration": 0.853584,
     "end_time": "2021-11-26T05:53:03.278499",
     "exception": false,
     "start_time": "2021-11-26T05:53:02.424915",
     "status": "completed"
    },
    "tags": [
     "hide_input"
    ]
   },
   "outputs": [
    {
     "data": {
      "text/html": [
       "<div>\n",
       "<style scoped>\n",
       "    .dataframe tbody tr th:only-of-type {\n",
       "        vertical-align: middle;\n",
       "    }\n",
       "\n",
       "    .dataframe tbody tr th {\n",
       "        vertical-align: top;\n",
       "    }\n",
       "\n",
       "    .dataframe thead th {\n",
       "        text-align: right;\n",
       "    }\n",
       "</style>\n",
       "<table border=\"1\" class=\"dataframe\">\n",
       "  <thead>\n",
       "    <tr style=\"text-align: right;\">\n",
       "      <th></th>\n",
       "      <th>ACE</th>\n",
       "      <th>ACE_std</th>\n",
       "    </tr>\n",
       "  </thead>\n",
       "  <tbody>\n",
       "    <tr>\n",
       "      <th>ridge</th>\n",
       "      <td>0.184022</td>\n",
       "      <td>0.028694</td>\n",
       "    </tr>\n",
       "    <tr>\n",
       "      <th>lasso</th>\n",
       "      <td>0.176991</td>\n",
       "      <td>0.036305</td>\n",
       "    </tr>\n",
       "    <tr>\n",
       "      <th>gbr</th>\n",
       "      <td>0.151245</td>\n",
       "      <td>0.028320</td>\n",
       "    </tr>\n",
       "  </tbody>\n",
       "</table>\n",
       "</div>"
      ],
      "text/plain": [
       "            ACE   ACE_std\n",
       "ridge  0.184022  0.028694\n",
       "lasso  0.176991  0.036305\n",
       "gbr    0.151245  0.028320"
      ]
     },
     "execution_count": 21,
     "metadata": {},
     "output_type": "execute_result"
    }
   ],
   "source": [
    "from direct_regression import compute_ate\n",
    "metrics, tau_estimatesb = compute_ate(bootstrap_results,X)\n",
    "metrics"
   ]
  },
  {
   "cell_type": "code",
   "execution_count": 22,
   "id": "32",
   "metadata": {
    "execution": {
     "iopub.execute_input": "2021-11-26T05:53:03.751712Z",
     "iopub.status.busy": "2021-11-26T05:53:03.751397Z",
     "iopub.status.idle": "2021-11-26T05:53:03.988337Z",
     "shell.execute_reply": "2021-11-26T05:53:03.988091Z"
    },
    "papermill": {
     "duration": 0.478535,
     "end_time": "2021-11-26T05:53:03.988412",
     "exception": false,
     "start_time": "2021-11-26T05:53:03.509877",
     "status": "completed"
    },
    "tags": []
   },
   "outputs": [
    {
     "data": {
      "image/png": "[encoded data removed]",
      "text/plain": [
       "<Figure size 1080x360 with 3 Axes>"
      ]
     },
     "metadata": {
      "needs_background": "light"
     },
     "output_type": "display_data"
    }
   ],
   "source": [
    "plot_ate_distribution(tau_estimatesb)"
   ]
  },
  {
   "cell_type": "markdown",
   "id": "33",
   "metadata": {
    "papermill": {
     "duration": 0.240029,
     "end_time": "2021-11-26T05:53:04.462282",
     "exception": false,
     "start_time": "2021-11-26T05:53:04.222253",
     "status": "completed"
    },
    "tags": []
   },
   "source": [
    "#### Distribution of hyper-parameters"
   ]
  },
  {
   "cell_type": "code",
   "execution_count": 23,
   "id": "34",
   "metadata": {
    "execution": {
     "iopub.execute_input": "2021-11-26T05:53:04.945491Z",
     "iopub.status.busy": "2021-11-26T05:53:04.945177Z",
     "iopub.status.idle": "2021-11-26T05:53:05.834581Z",
     "shell.execute_reply": "2021-11-26T05:53:05.834268Z"
    },
    "papermill": {
     "duration": 1.131545,
     "end_time": "2021-11-26T05:53:05.834657",
     "exception": false,
     "start_time": "2021-11-26T05:53:04.703112",
     "status": "completed"
    },
    "tags": [
     "hide_input"
    ]
   },
   "outputs": [
    {
     "data": {
      "image/png": "[encoded data removed]",
      "text/plain": [
       "<Figure size 360x288 with 1 Axes>"
      ]
     },
     "metadata": {
      "needs_background": "light"
     },
     "output_type": "display_data"
    },
    {
     "data": {
      "image/png": "[encoded data removed]",
      "text/plain": [
       "<Figure size 360x288 with 1 Axes>"
      ]
     },
     "metadata": {
      "needs_background": "light"
     },
     "output_type": "display_data"
    },
    {
     "data": {
      "image/png": "[encoded data removed]",
      "text/plain": [
       "<Figure size 360x288 with 1 Axes>"
      ]
     },
     "metadata": {
      "needs_background": "light"
     },
     "output_type": "display_data"
    },
    {
     "data": {
      "image/png": "[encoded data removed]",
      "text/plain": [
       "<Figure size 360x288 with 1 Axes>"
      ]
     },
     "metadata": {
      "needs_background": "light"
     },
     "output_type": "display_data"
    },
    {
     "data": {
      "image/png": "[encoded data removed]",
      "text/plain": [
       "<Figure size 1080x288 with 3 Axes>"
      ]
     },
     "metadata": {
      "needs_background": "light"
     },
     "output_type": "display_data"
    },
    {
     "data": {
      "image/png": "[encoded data removed]",
      "text/plain": [
       "<Figure size 1080x288 with 3 Axes>"
      ]
     },
     "metadata": {
      "needs_background": "light"
     },
     "output_type": "display_data"
    }
   ],
   "source": [
    "from direct_regression import plot_hyperparam_distributions\n",
    "for model, (results0, results1) in bootstrap_results.items():\n",
    "    plot_hyperparam_distributions(results0,f\"{model}-control\")\n",
    "    plot_hyperparam_distributions(results1,f\"{model}-treated\")"
   ]
  }
 ],
 "metadata": {
  "celltoolbar": "Tags",
  "kernelspec": {
   "display_name": "Python 3 (ipykernel)",
   "language": "python",
   "name": "python3"
  },
  "language_info": {
   "codemirror_mode": {
    "name": "ipython",
    "version": 3
   },
   "file_extension": ".py",
   "mimetype": "text/x-python",
   "name": "python",
   "nbconvert_exporter": "python",
   "pygments_lexer": "ipython3",
   "version": "3.9.7"
  },
  "papermill": {
   "default_parameters": {},
   "duration": 8413.627762,
   "end_time": "2021-11-26T05:53:06.485915",
   "environment_variables": {},
   "exception": null,
   "input_path": "Direct-Regression.ipynb",
   "output_path": "results/Direct-Regression-lasso-50-restricted.ipynb",
   "parameters": {
    "configuration_name": "lasso-50-restricted",
    "data_file": "data/all_lasso_selected_50_restricted.csv",
    "outcome": "y_wsce",
    "release": "restricted",
    "test": false,
    "treatment": "redufl"
   },
   "start_time": "2021-11-26T03:32:52.858153",
   "version": "2.3.3"
  }
 },
 "nbformat": 4,
 "nbformat_minor": 5
}
