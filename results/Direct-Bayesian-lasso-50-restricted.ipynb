{
 "cells": [
  {
   "cell_type": "markdown",
   "id": "511b14cc",
   "metadata": {},
   "source": [
    "# lasso-50-restricted"
   ]
  },
  {
   "cell_type": "markdown",
   "id": "0",
   "metadata": {
    "papermill": {
     "duration": 0.040551,
     "end_time": "2021-11-29T22:00:03.255670",
     "exception": false,
     "start_time": "2021-11-29T22:00:03.215119",
     "status": "completed"
    },
    "tags": [
     "Overview"
    ]
   },
   "source": [
    "# Direct Regression - Bayesian Version\n",
    "\n",
    "## Response Model\n",
    "\n",
    "How well can we predict outcomes $Y$ conditional on treatment $T$ and other covariates $Z$?\n",
    "\n",
    "### Treatent variables\n",
    "\n",
    "   - **reduhl**\tCompleted re-education based on highest level of attainment\n",
    "   - **redudl**\tCompleted re-education based on detailed qualifications\n",
    "   - **redufl**\tCompleted re-education using highest lvl and detailed qualifications.\n",
    "\n",
    "### Outcome variables\n",
    "   - Mental health in 2019 (**mh**). This is the transformed mental health scores from the aggregation of mental health items of the SF-36 Health Survey, as reported by the individual in 2019. It ranges from 0 to 100, with higher scores indicating better mental health.  \n",
    "   - Working hours in 2019 (**wkhr**) records the total number of hours the individual works in all jobs in a week on average. Working hours are set to 0 for those not working. \n",
    "   - Hourly Wages in 2019 (**rlwage**) records the average hourly wage for the individual’s main job in 2019. Hourly wages are set to 0 for those not working and set to missing for those reporting working more than 100 hours a week. \n",
    "   \n",
    "#### Columns explicitly excluded\n",
    "   - **xwaveid** (unique identifier)\n",
    "   - **p_rcom*** (timing of completion of re-education, proxies treatment) TODO think about how we would include this\n",
    "   - **p_cotrl** (first avail 2003)\n",
    "   - **p_rdf*** (first avail 2012)"
   ]
  },
  {
   "cell_type": "code",
   "execution_count": 1,
   "id": "1",
   "metadata": {
    "execution": {
     "iopub.execute_input": "2021-11-29T22:00:03.287420Z",
     "iopub.status.busy": "2021-11-29T22:00:03.287094Z",
     "iopub.status.idle": "2021-11-29T22:00:04.809264Z",
     "shell.execute_reply": "2021-11-29T22:00:04.809510Z"
    },
    "papermill": {
     "duration": 1.539438,
     "end_time": "2021-11-29T22:00:04.809684",
     "exception": false,
     "start_time": "2021-11-29T22:00:03.270246",
     "status": "completed"
    },
    "tags": [
     "hide_cell"
    ]
   },
   "outputs": [],
   "source": [
    "import numpy as np\n",
    "import pandas as pd\n",
    "import statsmodels.api as sm\n",
    "import matplotlib.pyplot as plt\n",
    "import torch\n",
    "import pyro\n",
    "import pyro.distributions as dist\n",
    "from pyro.infer import MCMC, NUTS\n",
    "\n",
    "from scipy.stats import norm, mstats\n",
    "from cinspect.estimators import BayesianRidgeStat\n",
    "from sklearn.gaussian_process import GaussianProcessRegressor\n",
    "from sklearn.gaussian_process.kernels import WhiteKernel, Matern, DotProduct\n",
    "from sklearn.model_selection import cross_validate, KFold\n",
    "from sklearn.metrics import r2_score\n",
    "\n",
    "from reed import drop_missing_treatment_or_outcome, Model, transform_outcome\n",
    "from direct_regression import seperate_and_transform_data, print_unconditional_effects\n",
    "\n",
    "\n",
    "torch.set_default_tensor_type(torch.DoubleTensor) # set the default to float64\n",
    "%matplotlib inline"
   ]
  },
  {
   "cell_type": "markdown",
   "id": "2",
   "metadata": {
    "papermill": {
     "duration": 0.008875,
     "end_time": "2021-11-29T22:00:04.827988",
     "exception": false,
     "start_time": "2021-11-29T22:00:04.819113",
     "status": "completed"
    },
    "tags": []
   },
   "source": [
    "## Analysis Parameters"
   ]
  },
  {
   "cell_type": "code",
   "execution_count": 2,
   "id": "3",
   "metadata": {
    "execution": {
     "iopub.execute_input": "2021-11-29T22:00:04.850377Z",
     "iopub.status.busy": "2021-11-29T22:00:04.848429Z",
     "iopub.status.idle": "2021-11-29T22:00:04.852086Z",
     "shell.execute_reply": "2021-11-29T22:00:04.851792Z"
    },
    "papermill": {
     "duration": 0.015083,
     "end_time": "2021-11-29T22:00:04.852166",
     "exception": false,
     "start_time": "2021-11-29T22:00:04.837083",
     "status": "completed"
    },
    "tags": [
     "parameters"
    ]
   },
   "outputs": [],
   "source": [
    "log_outcome=True\n",
    "standardize_outcome=True\n",
    "exclude_patterns = [\n",
    "    '^reduhl$', '^rehllt$', '^redudl$', '^redufl$', '^redllt$', '^refllt$',\n",
    "    '^rlwage$', '^mh$', '^mhbm$', '^wkhr$', '^y_', '^p_rcom','^p_rdf','^p_cotrl',\n",
    "    '^xwaveid$','p_rcom18','^aedcq', '^abnfsty','^aedcqfpt','^aedqstdy'\n",
    "]\n",
    "data_load_func = lambda filepath: pd.read_csv(filepath, index_col='xwaveid')\n",
    "\n",
    "#configuration_name = 'default'\n",
    "outcome = 'y_wsce'\n",
    "treatment = 'redufl'\n",
    "test = False\n",
    "data_file = \"data/all_lasso_selected_100.csv\"\n",
    "xval_gp = False\n",
    "laplace_prior = False "
   ]
  },
  {
   "cell_type": "code",
   "execution_count": 3,
   "id": "26f33e9a",
   "metadata": {
    "execution": {
     "iopub.execute_input": "2021-11-29T22:00:04.873699Z",
     "iopub.status.busy": "2021-11-29T22:00:04.873388Z",
     "iopub.status.idle": "2021-11-29T22:00:04.874786Z",
     "shell.execute_reply": "2021-11-29T22:00:04.874519Z"
    },
    "papermill": {
     "duration": 0.013359,
     "end_time": "2021-11-29T22:00:04.874861",
     "exception": false,
     "start_time": "2021-11-29T22:00:04.861502",
     "status": "completed"
    },
    "tags": [
     "injected-parameters"
    ]
   },
   "outputs": [],
   "source": [
    "# Parameters\n",
    "configuration_name = \"lasso-50-restricted\"\n",
    "outcome = \"y_wsce\"\n",
    "treatment = \"redufl\"\n",
    "test = False\n",
    "data_file = \"data/all_lasso_selected_50_restricted.csv\"\n",
    "release = \"restricted\"\n",
    "laplace_prior = False\n",
    "xval_gp = True\n"
   ]
  },
  {
   "cell_type": "markdown",
   "id": "4",
   "metadata": {
    "papermill": {
     "duration": 0.008964,
     "end_time": "2021-11-29T22:00:04.893049",
     "exception": false,
     "start_time": "2021-11-29T22:00:04.884085",
     "status": "completed"
    },
    "tags": []
   },
   "source": [
    "## Load the data"
   ]
  },
  {
   "cell_type": "code",
   "execution_count": 4,
   "id": "5",
   "metadata": {
    "execution": {
     "iopub.execute_input": "2021-11-29T22:00:04.914491Z",
     "iopub.status.busy": "2021-11-29T22:00:04.914175Z",
     "iopub.status.idle": "2021-11-29T22:00:05.055887Z",
     "shell.execute_reply": "2021-11-29T22:00:05.055496Z"
    },
    "papermill": {
     "duration": 0.154021,
     "end_time": "2021-11-29T22:00:05.055988",
     "exception": false,
     "start_time": "2021-11-29T22:00:04.901967",
     "status": "completed"
    },
    "tags": [
     "hide_cell"
    ]
   },
   "outputs": [
    {
     "name": "stdout",
     "output_type": "stream",
     "text": [
      "Dropped 284 rows missing treatment or outcome.\n"
     ]
    },
    {
     "data": {
      "image/png": "[encoded data removed]",
      "text/plain": [
       "<Figure size 432x288 with 1 Axes>"
      ]
     },
     "metadata": {
      "needs_background": "light"
     },
     "output_type": "display_data"
    }
   ],
   "source": [
    "data = data_load_func(data_file)\n",
    "drop_missing_treatment_or_outcome(data, treatment, outcome)\n",
    "data[outcome] = transform_outcome(data[outcome],log_outcome, standardize_outcome)\n",
    "\n",
    "    \n",
    "plt.hist(data[outcome])\n",
    "plt.xlabel(outcome)\n",
    "plt.ylabel(\"count\")\n",
    "plt.title(\"Distribution of outcomes\");"
   ]
  },
  {
   "cell_type": "markdown",
   "id": "6",
   "metadata": {
    "papermill": {
     "duration": 0.01551,
     "end_time": "2021-11-29T22:00:05.087510",
     "exception": false,
     "start_time": "2021-11-29T22:00:05.072000",
     "status": "completed"
    },
    "tags": []
   },
   "source": [
    "## Prepare data for modeling\n",
    "\n",
    "- split into treated/control\n",
    "- impute missing values and scale\n",
    "- separate features from outcomes&treatments\n",
    "\n"
   ]
  },
  {
   "cell_type": "code",
   "execution_count": 5,
   "id": "7",
   "metadata": {
    "execution": {
     "iopub.execute_input": "2021-11-29T22:00:05.116505Z",
     "iopub.status.busy": "2021-11-29T22:00:05.116144Z",
     "iopub.status.idle": "2021-11-29T22:00:05.125829Z",
     "shell.execute_reply": "2021-11-29T22:00:05.125572Z"
    },
    "papermill": {
     "duration": 0.026324,
     "end_time": "2021-11-29T22:00:05.125906",
     "exception": false,
     "start_time": "2021-11-29T22:00:05.099582",
     "status": "completed"
    },
    "tags": []
   },
   "outputs": [
    {
     "name": "stdout",
     "output_type": "stream",
     "text": [
      "Control data dimensions:  (3789, 48)\n",
      "Treated data dimensions: (1368, 48)\n"
     ]
    }
   ],
   "source": [
    "from direct_regression import seperate_and_transform_data\n",
    "X0, X1, y0, y1, X, y, t, features = seperate_and_transform_data(data, treatment, outcome)\n",
    "print(\"Control data dimensions: \", X0.shape)\n",
    "print(\"Treated data dimensions:\", X1.shape)"
   ]
  },
  {
   "cell_type": "markdown",
   "id": "8",
   "metadata": {
    "papermill": {
     "duration": 0.009847,
     "end_time": "2021-11-29T22:00:05.145842",
     "exception": false,
     "start_time": "2021-11-29T22:00:05.135995",
     "status": "completed"
    },
    "tags": []
   },
   "source": [
    "## Compute unconditional/unadjusted estimate of treatment effect"
   ]
  },
  {
   "cell_type": "code",
   "execution_count": 6,
   "id": "9",
   "metadata": {
    "execution": {
     "iopub.execute_input": "2021-11-29T22:00:05.168595Z",
     "iopub.status.busy": "2021-11-29T22:00:05.168280Z",
     "iopub.status.idle": "2021-11-29T22:00:05.170396Z",
     "shell.execute_reply": "2021-11-29T22:00:05.170628Z"
    },
    "papermill": {
     "duration": 0.014973,
     "end_time": "2021-11-29T22:00:05.170723",
     "exception": false,
     "start_time": "2021-11-29T22:00:05.155750",
     "status": "completed"
    },
    "tags": []
   },
   "outputs": [
    {
     "name": "stdout",
     "output_type": "stream",
     "text": [
      "Proportion Treated:27%\n",
      "Average outcome under Control:-0.14±0.02\n",
      "Average outcome under Treatment:0.37±0.03\n",
      "Unadjusted treatment estimate 0.51\n"
     ]
    }
   ],
   "source": [
    "print_unconditional_effects(data, treatment, y0, y1)"
   ]
  },
  {
   "cell_type": "markdown",
   "id": "10",
   "metadata": {
    "papermill": {
     "duration": 0.01008,
     "end_time": "2021-11-29T22:00:05.191051",
     "exception": false,
     "start_time": "2021-11-29T22:00:05.180971",
     "status": "completed"
    },
    "tags": []
   },
   "source": [
    "## Statsmodels\n",
    "\n",
    "### OLS"
   ]
  },
  {
   "cell_type": "code",
   "execution_count": 7,
   "id": "11",
   "metadata": {
    "execution": {
     "iopub.execute_input": "2021-11-29T22:00:05.218241Z",
     "iopub.status.busy": "2021-11-29T22:00:05.217907Z",
     "iopub.status.idle": "2021-11-29T22:00:05.262632Z",
     "shell.execute_reply": "2021-11-29T22:00:05.263138Z"
    },
    "papermill": {
     "duration": 0.062084,
     "end_time": "2021-11-29T22:00:05.263282",
     "exception": false,
     "start_time": "2021-11-29T22:00:05.201198",
     "status": "completed"
    },
    "scrolled": false,
    "tags": []
   },
   "outputs": [
    {
     "name": "stdout",
     "output_type": "stream",
     "text": [
      "                            OLS Regression Results                            \n",
      "==============================================================================\n",
      "Dep. Variable:                      y   R-squared:                       0.361\n",
      "Model:                            OLS   Adj. R-squared:                  0.355\n",
      "Method:                 Least Squares   F-statistic:                     58.90\n",
      "Date:                Tue, 30 Nov 2021   Prob (F-statistic):               0.00\n",
      "Time:                        09:00:05   Log-Likelihood:                -6162.4\n",
      "No. Observations:                5157   AIC:                         1.242e+04\n",
      "Df Residuals:                    5107   BIC:                         1.275e+04\n",
      "Df Model:                          49                                         \n",
      "Covariance Type:            nonrobust                                         \n",
      "==============================================================================\n",
      "                 coef    std err          t      P>|t|      [0.025      0.975]\n",
      "------------------------------------------------------------------------------\n",
      "const         -0.0471      0.013     -3.544      0.000      -0.073      -0.021\n",
      "treatment      0.1777      0.027      6.548      0.000       0.124       0.231\n",
      "adocond       -0.0106      0.012     -0.897      0.370      -0.034       0.013\n",
      "acpno          0.0024      0.012      0.207      0.836      -0.021       0.026\n",
      "ahh0_4         0.0786      0.016      4.992      0.000       0.048       0.109\n",
      "ahhsos        -0.0305      0.012     -2.511      0.012      -0.054      -0.007\n",
      "achu_sf       -0.0063      0.011     -0.554      0.580      -0.029       0.016\n",
      "ahiwscei      -0.0447      0.018     -2.514      0.012      -0.080      -0.010\n",
      "ahifapti      -0.1057      0.014     -7.397      0.000      -0.134      -0.078\n",
      "ahgsex        -0.0466      0.014     -3.264      0.001      -0.075      -0.019\n",
      "ahgms          0.0180      0.013      1.346      0.178      -0.008       0.044\n",
      "ahgrf          0.0094      0.022      0.417      0.677      -0.035       0.053\n",
      "ahgscq        -0.0301      0.013     -2.357      0.018      -0.055      -0.005\n",
      "abncapuf       0.0113      0.020      0.574      0.566      -0.027       0.050\n",
      "aoidvryf      -0.0374      0.014     -2.656      0.008      -0.065      -0.010\n",
      "aoirntf       -0.0392      0.014     -2.741      0.006      -0.067      -0.011\n",
      "awscef        -0.0058      0.017     -0.335      0.738      -0.040       0.028\n",
      "awscoef        0.0420      0.023      1.802      0.072      -0.004       0.088\n",
      "awsfef         0.0041      0.015      0.279      0.781      -0.025       0.033\n",
      "atifditp       0.0656      0.018      3.698      0.000       0.031       0.100\n",
      "ahhd5_9        0.0601      0.014      4.422      0.000       0.033       0.087\n",
      "ahhd1014       0.0136      0.013      1.018      0.309      -0.013       0.040\n",
      "ahhura         0.0079      0.012      0.664      0.507      -0.015       0.031\n",
      "afmagelh       0.0104      0.012      0.872      0.383      -0.013       0.034\n",
      "aedqobd       -0.0163      0.012     -1.340      0.180      -0.040       0.008\n",
      "aehtjbyr      -0.1610      0.015    -10.470      0.000      -0.191      -0.131\n",
      "ajbmpgj        0.0436      0.012      3.773      0.000       0.021       0.066\n",
      "ajbmwpsz       0.0268      0.012      2.229      0.026       0.003       0.050\n",
      "artiage1       0.0312      0.011      2.740      0.006       0.009       0.054\n",
      "ajsl4wk       -0.0071      0.012     -0.603      0.546      -0.030       0.016\n",
      "awslya         0.0157      0.011      1.379      0.168      -0.007       0.038\n",
      "awsfga        -0.0927      0.016     -5.666      0.000      -0.125      -0.061\n",
      "ancsex1        0.0077      0.011      0.690      0.490      -0.014       0.030\n",
      "aicprob        0.0826      0.012      6.701      0.000       0.058       0.107\n",
      "ahelthyr      -0.0045      0.011     -0.398      0.690      -0.026       0.018\n",
      "alosateo       0.0248      0.012      1.999      0.046       0.000       0.049\n",
      "aloimpew       0.0445      0.013      3.308      0.001       0.018       0.071\n",
      "amhn10yr       0.0120      0.012      0.968      0.333      -0.012       0.036\n",
      "amhlyr         0.0067      0.012      0.562      0.574      -0.017       0.030\n",
      "ajbmo6s        0.0048      0.013      0.371      0.711      -0.021       0.030\n",
      "atcyng        -0.1323      0.025     -5.399      0.000      -0.180      -0.084\n",
      "atcnr         -0.1141      0.016     -7.312      0.000      -0.145      -0.084\n",
      "ahhyng        -0.0429      0.024     -1.763      0.078      -0.091       0.005\n",
      "awscme         0.1559      0.021      7.572      0.000       0.116       0.196\n",
      "aoiint        -0.0198      0.012     -1.665      0.096      -0.043       0.004\n",
      "aoidvry       -0.0500      0.012     -4.150      0.000      -0.074      -0.026\n",
      "agh3a          0.0637      0.012      5.194      0.000       0.040       0.088\n",
      "apashare       0.0077      0.013      0.616      0.538      -0.017       0.032\n",
      "apawkmfh       0.0154      0.011      1.338      0.181      -0.007       0.038\n",
      "apawkbp       -0.0084      0.011     -0.739      0.460      -0.031       0.014\n",
      "==============================================================================\n",
      "Omnibus:                      525.482   Durbin-Watson:                   1.912\n",
      "Prob(Omnibus):                  0.000   Jarque-Bera (JB):              165.672\n",
      "Skew:                          -0.138   Prob(JB):                     1.06e-36\n",
      "Kurtosis:                       2.167   Cond. No.                         6.07\n",
      "==============================================================================\n",
      "\n",
      "Notes:\n",
      "[1] Standard Errors assume that the covariance matrix of the errors is correctly specified.\n"
     ]
    }
   ],
   "source": [
    "Xt = np.hstack((t[:, np.newaxis], X))\n",
    "Xt = pd.DataFrame(data=Xt, columns=[\"treatment\"] + features)\n",
    "ols = sm.OLS(y, sm.add_constant(Xt))\n",
    "res = ols.fit()\n",
    "ate_ols = res.params.loc[\"treatment\"]\n",
    "ci_ols = res.conf_int().loc[\"treatment\"]\n",
    "print(res.summary())"
   ]
  },
  {
   "cell_type": "markdown",
   "id": "12",
   "metadata": {
    "papermill": {
     "duration": 0.018826,
     "end_time": "2021-11-29T22:00:05.300764",
     "exception": false,
     "start_time": "2021-11-29T22:00:05.281938",
     "status": "completed"
    },
    "tags": []
   },
   "source": [
    "## Scikit learn Bayesian Estimators\n",
    "\n",
    "### Bayesian Ridge\n",
    "\n",
    "Coefficient statistics"
   ]
  },
  {
   "cell_type": "code",
   "execution_count": 8,
   "id": "13",
   "metadata": {
    "execution": {
     "iopub.execute_input": "2021-11-29T22:00:05.345477Z",
     "iopub.status.busy": "2021-11-29T22:00:05.344896Z",
     "iopub.status.idle": "2021-11-29T22:00:05.371267Z",
     "shell.execute_reply": "2021-11-29T22:00:05.371825Z"
    },
    "papermill": {
     "duration": 0.052984,
     "end_time": "2021-11-29T22:00:05.371943",
     "exception": false,
     "start_time": "2021-11-29T22:00:05.318959",
     "status": "completed"
    },
    "tags": []
   },
   "outputs": [
    {
     "name": "stdout",
     "output_type": "stream",
     "text": [
      "Bayesian Ridge simple model - coefficient stats:\n",
      "  R-squared = 0.3607\n",
      "  ATE: 0.1502 (0.0246)\n",
      "  t: 6.1049\n",
      "  p-value: 0.0000\n",
      "  CI (0.025, 0.975): [0.1020, 0.1984]\n"
     ]
    }
   ],
   "source": [
    "blr = BayesianRidgeStat()\n",
    "blr.fit(Xt, y)\n",
    "\n",
    "score = blr.score(Xt, y)\n",
    "\n",
    "# Coefficient statistics\n",
    "stats = blr.model_statistics()\n",
    "ate_blr, se_blr = stats.beta[0], stats.std_err[0]\n",
    "ci_blr = norm.interval(loc=ate_blr, scale=se_blr, alpha=0.95)\n",
    "\n",
    "print(\"Bayesian Ridge simple model - coefficient stats:\")\n",
    "print(f\"  R-squared = {score:.4f}\")\n",
    "print(f\"  ATE: {ate_blr:.4f} ({se_blr:.4f})\")\n",
    "print(f\"  t: {stats.t_stat[0]:.4f}\")\n",
    "print(f\"  p-value: {stats.p_value[0]:.4f}\")\n",
    "print(f\"  CI (0.025, 0.975): [{ci_blr[0]:.4f}, {ci_blr[1]:.4f}]\")"
   ]
  },
  {
   "cell_type": "markdown",
   "id": "14",
   "metadata": {
    "papermill": {
     "duration": 0.019206,
     "end_time": "2021-11-29T22:00:05.410634",
     "exception": false,
     "start_time": "2021-11-29T22:00:05.391428",
     "status": "completed"
    },
    "tags": []
   },
   "source": [
    "ATE sampling with counterfactual models"
   ]
  },
  {
   "cell_type": "code",
   "execution_count": 9,
   "id": "15",
   "metadata": {
    "execution": {
     "iopub.execute_input": "2021-11-29T22:00:05.457427Z",
     "iopub.status.busy": "2021-11-29T22:00:05.456937Z",
     "iopub.status.idle": "2021-11-29T22:00:05.475392Z",
     "shell.execute_reply": "2021-11-29T22:00:05.475904Z"
    },
    "papermill": {
     "duration": 0.045926,
     "end_time": "2021-11-29T22:00:05.476055",
     "exception": false,
     "start_time": "2021-11-29T22:00:05.430129",
     "status": "completed"
    },
    "tags": []
   },
   "outputs": [
    {
     "name": "stdout",
     "output_type": "stream",
     "text": [
      "Bayesian Ridge simple model - counterfactual sampling:\n",
      "  R-squared = 0.3607\n",
      "  ATE: 0.1468 (0.0247)\n",
      "  CI (0.025, 0.975): [0.0984, 0.1953]\n"
     ]
    }
   ],
   "source": [
    "# ATE sampling\n",
    "samples = 100\n",
    "w_samples = np.random.multivariate_normal(mean=blr.coef_, cov=blr.sigma_, size=samples).T\n",
    "\n",
    "n = len(X)\n",
    "Xt0 = pd.DataFrame(data=np.hstack((np.zeros((n, 1)), X)), columns=[\"treatment\"] + features)\n",
    "Xt1 = pd.DataFrame(data=np.hstack((np.ones((n, 1)), X)), columns=[\"treatment\"] + features)\n",
    "\n",
    "ate_blr_samples = np.mean(Xt1 @ w_samples, axis=0) - np.mean(Xt0 @ w_samples, axis=0)\n",
    "ate_blr = ate_blr_samples.mean()\n",
    "se_blr = np.std(ate_blr_samples, ddof=1)\n",
    "ci_blr = norm.interval(loc=ate_blr, scale=se_blr, alpha=0.95)\n",
    "\n",
    "print(\"Bayesian Ridge simple model - counterfactual sampling:\")\n",
    "print(f\"  R-squared = {score:.4f}\")\n",
    "print(f\"  ATE: {ate_blr:.4f} ({se_blr:.4f})\")\n",
    "print(f\"  CI (0.025, 0.975): [{ci_blr[0]:.4f}, {ci_blr[1]:.4f}]\")"
   ]
  },
  {
   "cell_type": "markdown",
   "id": "16",
   "metadata": {
    "papermill": {
     "duration": 0.019296,
     "end_time": "2021-11-29T22:00:05.515567",
     "exception": false,
     "start_time": "2021-11-29T22:00:05.496271",
     "status": "completed"
    },
    "tags": []
   },
   "source": [
    "### Gaussian Process"
   ]
  },
  {
   "cell_type": "code",
   "execution_count": 10,
   "id": "17",
   "metadata": {
    "execution": {
     "iopub.execute_input": "2021-11-29T22:00:05.560815Z",
     "iopub.status.busy": "2021-11-29T22:00:05.560260Z",
     "iopub.status.idle": "2021-11-29T22:02:44.803391Z",
     "shell.execute_reply": "2021-11-29T22:02:44.804251Z"
    },
    "papermill": {
     "duration": 159.268793,
     "end_time": "2021-11-29T22:02:44.804501",
     "exception": false,
     "start_time": "2021-11-29T22:00:05.535708",
     "status": "completed"
    },
    "tags": []
   },
   "outputs": [],
   "source": [
    "kernel = WhiteKernel() + Matern(nu=1.5)\n",
    "gpr = GaussianProcessRegressor(kernel=kernel)\n",
    "\n",
    "# This takes a while for 5000 samples... (5 mins or so)\n",
    "gpr.fit(Xt, y)\n",
    "score = gpr.score(Xt, y)"
   ]
  },
  {
   "cell_type": "code",
   "execution_count": 11,
   "id": "18",
   "metadata": {
    "execution": {
     "iopub.execute_input": "2021-11-29T22:02:44.871813Z",
     "iopub.status.busy": "2021-11-29T22:02:44.871086Z",
     "iopub.status.idle": "2021-11-29T22:05:51.026942Z",
     "shell.execute_reply": "2021-11-29T22:05:51.027633Z"
    },
    "papermill": {
     "duration": 186.192389,
     "end_time": "2021-11-29T22:05:51.027843",
     "exception": false,
     "start_time": "2021-11-29T22:02:44.835454",
     "status": "completed"
    },
    "tags": []
   },
   "outputs": [
    {
     "name": "stdout",
     "output_type": "stream",
     "text": [
      "Gaussian Process WhiteKernel(noise_level=0.457) + Matern(length_scale=10.4, nu=1.5):\n",
      "  R-squared = 0.6343\n",
      "  ATE: 0.1311 (0.0274)\n",
      "  CI (0.025, 0.975): [0.0775, 0.1847]\n"
     ]
    }
   ],
   "source": [
    "# ATE sampling   \n",
    "f0, K0 = gpr.predict(Xt0, return_cov=True)\n",
    "f1, K1 = gpr.predict(Xt1, return_cov=True)\n",
    "\n",
    "y_0_samples = np.random.multivariate_normal(mean=f0, cov=K0, size=samples)\n",
    "y_1_samples = np.random.multivariate_normal(mean=f1, cov=K1, size=samples)\n",
    "ate_gp_samples = (y_1_samples - y_0_samples).mean(axis=1)\n",
    "\n",
    "ate_gp = ate_gp_samples.mean()\n",
    "se_gp = np.std(ate_gp_samples, ddof=1)\n",
    "ci_gp = norm.interval(loc=ate_gp, scale=se_gp, alpha=0.95)\n",
    "\n",
    "print(f\"Gaussian Process {gpr.kernel_}:\")\n",
    "print(f\"  R-squared = {score:.4f}\")\n",
    "print(f\"  ATE: {ate_gp:.4f} ({se_gp:.4f})\")\n",
    "print(f\"  CI (0.025, 0.975): [{ci_gp[0]:.4f}, {ci_gp[1]:.4f}]\")"
   ]
  },
  {
   "cell_type": "markdown",
   "id": "19",
   "metadata": {
    "papermill": {
     "duration": 0.034442,
     "end_time": "2021-11-29T22:05:51.096214",
     "exception": false,
     "start_time": "2021-11-29T22:05:51.061772",
     "status": "completed"
    },
    "tags": []
   },
   "source": [
    "Check if GP is overfitting"
   ]
  },
  {
   "cell_type": "code",
   "execution_count": 12,
   "id": "20",
   "metadata": {
    "execution": {
     "iopub.execute_input": "2021-11-29T22:05:51.152816Z",
     "iopub.status.busy": "2021-11-29T22:05:51.152231Z",
     "iopub.status.idle": "2021-11-29T22:14:02.572895Z",
     "shell.execute_reply": "2021-11-29T22:14:02.574121Z"
    },
    "papermill": {
     "duration": 491.448884,
     "end_time": "2021-11-29T22:14:02.574452",
     "exception": false,
     "start_time": "2021-11-29T22:05:51.125568",
     "status": "completed"
    },
    "scrolled": true,
    "tags": []
   },
   "outputs": [],
   "source": [
    "if xval_gp:\n",
    "    cv_scores = cross_validate(gpr, Xt, y,\n",
    "                               cv=KFold(n_splits=5, shuffle=True),\n",
    "                               return_train_score=True)\n",
    "    pd.DataFrame(cv_scores).describe()"
   ]
  },
  {
   "cell_type": "markdown",
   "id": "21",
   "metadata": {
    "papermill": {
     "duration": 0.029414,
     "end_time": "2021-11-29T22:14:02.647921",
     "exception": false,
     "start_time": "2021-11-29T22:14:02.618507",
     "status": "completed"
    },
    "tags": []
   },
   "source": [
    "## Hierarchical Bayesian Linear Model\n",
    "\n",
    "This model takes the following form and prior settings,\n",
    "\n",
    "$$\n",
    "\\begin{align}\n",
    "    \\{\\lambda_0, \\lambda_t, \\lambda_x, \\lambda_{tx}\\} &\\sim \\textrm{Gamma}(1, 1) \\\\\n",
    "    \\sigma^2 &\\sim \\textrm{Gamma}(1, 1) \\\\\n",
    "    w_0 &\\sim \\mathcal{N}(0, \\lambda_0) \\\\\n",
    "    w_t &\\sim \\mathcal{N}(0, \\lambda_t) \\\\\n",
    "    \\mathbf{w}_x &\\sim \\mathcal{N}(0, \\lambda_x \\mathbf{I}_d) \\\\\n",
    "    \\mathbf{w}_{tx} &\\sim \\mathcal{N}(0, \\lambda_{tx} \\mathbf{I}_d) \\\\\n",
    "    y_i &\\sim \\mathcal{N}(\\mu(\\mathbf{x}_i, t_i), \\sigma^2) \\\\\n",
    "    \\mu(\\mathbf{x}_i, t_i) &= w_0 + w_t t_i + \\mathbf{w}_x^\\top\\mathbf{x}_i + t_i\\mathbf{w}_{tx}^\\top\\mathbf{x}_i\n",
    "\\end{align}\n",
    "$$"
   ]
  },
  {
   "cell_type": "markdown",
   "id": "22",
   "metadata": {
    "papermill": {
     "duration": 0.023847,
     "end_time": "2021-11-29T22:14:02.697282",
     "exception": false,
     "start_time": "2021-11-29T22:14:02.673435",
     "status": "completed"
    },
    "tags": []
   },
   "source": [
    "### Set up the model"
   ]
  },
  {
   "cell_type": "code",
   "execution_count": 13,
   "id": "23",
   "metadata": {
    "execution": {
     "iopub.execute_input": "2021-11-29T22:14:02.750499Z",
     "iopub.status.busy": "2021-11-29T22:14:02.749921Z",
     "iopub.status.idle": "2021-11-29T22:14:02.752342Z",
     "shell.execute_reply": "2021-11-29T22:14:02.752812Z"
    },
    "papermill": {
     "duration": 0.032654,
     "end_time": "2021-11-29T22:14:02.752963",
     "exception": false,
     "start_time": "2021-11-29T22:14:02.720309",
     "status": "completed"
    },
    "tags": []
   },
   "outputs": [],
   "source": [
    "def predict(w_0, w_t, w_x, w_tx, x, t):\n",
    "    f = w_0 + w_t * t + x.matmul(w_x.T) + t * x.matmul(w_tx.T)\n",
    "    return f\n",
    "\n",
    "\n",
    "def model_treatment_intersection(x, t, y):\n",
    "    # Hyper-Priors\n",
    "    lambda_prior = dist.Gamma(1., 1.)\n",
    "    sigma_prior = dist.Gamma(1., 1.)\n",
    "    \n",
    "    # Priors\n",
    "    n, d = x.shape\n",
    "    weight_prior = dist.Laplace if laplace_prior else dist.Normal\n",
    "    p_w0 = weight_prior(0, pyro.sample(\"l_0\", lambda_prior))\n",
    "    p_wt = weight_prior(0, pyro.sample(\"l_t\", lambda_prior))\n",
    "    p_wx = weight_prior(torch.zeros(d), pyro.sample(\"l_x\", lambda_prior) * torch.ones(d))\n",
    "    p_twx = weight_prior(torch.zeros(d), pyro.sample(\"l_tx\", lambda_prior) * torch.ones(d))\n",
    "    \n",
    "    # Model weights\n",
    "    w_0 = pyro.sample(\"intercept\", p_w0)\n",
    "    w_t = pyro.sample(\"treatment\", p_wt)\n",
    "    w_x = pyro.sample(\"confounders\", p_wx)\n",
    "    w_tx = pyro.sample(\"intersection\", p_twx)\n",
    "    \n",
    "    # Likelihood\n",
    "    f = predict(w_0, w_t, w_x, w_tx, x, t)\n",
    "    sigma = pyro.sample(\"variance\", sigma_prior)\n",
    "    \n",
    "    with pyro.plate(\"data\", n):\n",
    "        likelihood = dist.Normal(f, sigma)\n",
    "        y = pyro.sample(\"likelihood\", likelihood, obs=y)"
   ]
  },
  {
   "cell_type": "markdown",
   "id": "24",
   "metadata": {
    "papermill": {
     "duration": 0.019233,
     "end_time": "2021-11-29T22:14:02.791943",
     "exception": false,
     "start_time": "2021-11-29T22:14:02.772710",
     "status": "completed"
    },
    "tags": []
   },
   "source": [
    "### Run MCMC inference to compute the posteriors"
   ]
  },
  {
   "cell_type": "code",
   "execution_count": 14,
   "id": "25",
   "metadata": {
    "execution": {
     "iopub.execute_input": "2021-11-29T22:14:02.834576Z",
     "iopub.status.busy": "2021-11-29T22:14:02.834064Z",
     "iopub.status.idle": "2021-11-29T22:15:08.027244Z",
     "shell.execute_reply": "2021-11-29T22:15:08.027670Z"
    },
    "papermill": {
     "duration": 65.216759,
     "end_time": "2021-11-29T22:15:08.027820",
     "exception": false,
     "start_time": "2021-11-29T22:14:02.811061",
     "status": "completed"
    },
    "tags": []
   },
   "outputs": [
    {
     "name": "stderr",
     "output_type": "stream",
     "text": [
      "\r",
      "Warmup:   0%|                                                                     | 0/700 [00:00, ?it/s]"
     ]
    },
    {
     "name": "stderr",
     "output_type": "stream",
     "text": [
      "\r",
      "Warmup:   0%|                            | 1/700 [00:00,  7.46it/s, step size=3.51e-03, acc. prob=1.000]"
     ]
    },
    {
     "name": "stderr",
     "output_type": "stream",
     "text": [
      "\r",
      "Warmup:   1%|▎                           | 8/700 [00:00, 34.10it/s, step size=1.61e-02, acc. prob=0.875]"
     ]
    },
    {
     "name": "stderr",
     "output_type": "stream",
     "text": [
      "\r",
      "Warmup:   2%|▍                          | 12/700 [00:00, 22.72it/s, step size=8.38e-03, acc. prob=0.833]"
     ]
    },
    {
     "name": "stderr",
     "output_type": "stream",
     "text": [
      "\r",
      "Warmup:   2%|▌                          | 15/700 [00:00, 19.19it/s, step size=4.25e-03, acc. prob=0.812]"
     ]
    },
    {
     "name": "stderr",
     "output_type": "stream",
     "text": [
      "\r",
      "Warmup:   3%|▋                          | 18/700 [00:00, 17.75it/s, step size=8.20e-03, acc. prob=0.822]"
     ]
    },
    {
     "name": "stderr",
     "output_type": "stream",
     "text": [
      "\r",
      "Warmup:   3%|▊                          | 20/700 [00:01, 17.64it/s, step size=1.27e-03, acc. prob=0.789]"
     ]
    },
    {
     "name": "stderr",
     "output_type": "stream",
     "text": [
      "\r",
      "Warmup:   3%|▊                          | 22/700 [00:01,  7.80it/s, step size=4.08e-03, acc. prob=0.808]"
     ]
    },
    {
     "name": "stderr",
     "output_type": "stream",
     "text": [
      "\r",
      "Warmup:   3%|▉                          | 24/700 [00:02,  4.97it/s, step size=7.75e-03, acc. prob=0.817]"
     ]
    },
    {
     "name": "stderr",
     "output_type": "stream",
     "text": [
      "\r",
      "Warmup:   4%|█                          | 26/700 [00:02,  5.87it/s, step size=3.15e-03, acc. prob=0.803]"
     ]
    },
    {
     "name": "stderr",
     "output_type": "stream",
     "text": [
      "\r",
      "Warmup:   4%|█                          | 28/700 [00:03,  4.89it/s, step size=2.94e-03, acc. prob=0.802]"
     ]
    },
    {
     "name": "stderr",
     "output_type": "stream",
     "text": [
      "\r",
      "Warmup:   4%|█                          | 29/700 [00:03,  4.80it/s, step size=4.86e-03, acc. prob=0.809]"
     ]
    },
    {
     "name": "stderr",
     "output_type": "stream",
     "text": [
      "\r",
      "Warmup:   4%|█▏                         | 30/700 [00:03,  5.24it/s, step size=7.77e-03, acc. prob=0.814]"
     ]
    },
    {
     "name": "stderr",
     "output_type": "stream",
     "text": [
      "\r",
      "Warmup:   5%|█▏                         | 32/700 [00:04,  4.64it/s, step size=1.83e-03, acc. prob=0.797]"
     ]
    },
    {
     "name": "stderr",
     "output_type": "stream",
     "text": [
      "\r",
      "Warmup:   5%|█▎                         | 33/700 [00:04,  4.58it/s, step size=2.83e-03, acc. prob=0.802]"
     ]
    },
    {
     "name": "stderr",
     "output_type": "stream",
     "text": [
      "\r",
      "Warmup:   5%|█▎                         | 34/700 [00:04,  5.13it/s, step size=3.99e-03, acc. prob=0.805]"
     ]
    },
    {
     "name": "stderr",
     "output_type": "stream",
     "text": [
      "\r",
      "Warmup:   5%|█▎                         | 35/700 [00:04,  5.67it/s, step size=5.73e-03, acc. prob=0.809]"
     ]
    },
    {
     "name": "stderr",
     "output_type": "stream",
     "text": [
      "\r",
      "Warmup:   5%|█▍                         | 38/700 [00:05,  5.64it/s, step size=1.89e-03, acc. prob=0.797]"
     ]
    },
    {
     "name": "stderr",
     "output_type": "stream",
     "text": [
      "\r",
      "Warmup:   6%|█▌                         | 39/700 [00:05,  5.31it/s, step size=3.11e-03, acc. prob=0.802]"
     ]
    },
    {
     "name": "stderr",
     "output_type": "stream",
     "text": [
      "\r",
      "Warmup:   6%|█▌                         | 40/700 [00:05,  5.81it/s, step size=4.69e-03, acc. prob=0.806]"
     ]
    },
    {
     "name": "stderr",
     "output_type": "stream",
     "text": [
      "\r",
      "Warmup:   6%|█▌                         | 41/700 [00:05,  4.13it/s, step size=7.58e-03, acc. prob=0.811]"
     ]
    },
    {
     "name": "stderr",
     "output_type": "stream",
     "text": [
      "\r",
      "Warmup:   6%|█▋                         | 43/700 [00:06,  5.57it/s, step size=3.37e-03, acc. prob=0.803]"
     ]
    },
    {
     "name": "stderr",
     "output_type": "stream",
     "text": [
      "\r",
      "Warmup:   6%|█▋                         | 44/700 [00:06,  6.07it/s, step size=3.66e-03, acc. prob=0.804]"
     ]
    },
    {
     "name": "stderr",
     "output_type": "stream",
     "text": [
      "\r",
      "Warmup:   6%|█▋                         | 45/700 [00:06,  6.57it/s, step size=5.93e-03, acc. prob=0.808]"
     ]
    },
    {
     "name": "stderr",
     "output_type": "stream",
     "text": [
      "\r",
      "Warmup:   7%|█▊                         | 48/700 [00:06,  7.80it/s, step size=1.96e-03, acc. prob=0.798]"
     ]
    },
    {
     "name": "stderr",
     "output_type": "stream",
     "text": [
      "\r",
      "Warmup:   7%|█▉                         | 49/700 [00:06,  6.77it/s, step size=2.82e-03, acc. prob=0.801]"
     ]
    },
    {
     "name": "stderr",
     "output_type": "stream",
     "text": [
      "\r",
      "Warmup:   7%|█▉                         | 50/700 [00:07,  7.09it/s, step size=3.35e-03, acc. prob=0.803]"
     ]
    },
    {
     "name": "stderr",
     "output_type": "stream",
     "text": [
      "\r",
      "Warmup:   7%|█▉                         | 51/700 [00:07,  7.40it/s, step size=4.51e-03, acc. prob=0.805]"
     ]
    },
    {
     "name": "stderr",
     "output_type": "stream",
     "text": [
      "\r",
      "Warmup:   7%|██                         | 52/700 [00:07,  7.62it/s, step size=5.21e-03, acc. prob=0.806]"
     ]
    },
    {
     "name": "stderr",
     "output_type": "stream",
     "text": [
      "\r",
      "Warmup:   8%|██                         | 54/700 [00:07, 10.00it/s, step size=5.75e-03, acc. prob=0.807]"
     ]
    },
    {
     "name": "stderr",
     "output_type": "stream",
     "text": [
      "\r",
      "Warmup:   8%|██▏                        | 56/700 [00:07, 11.89it/s, step size=6.16e-03, acc. prob=0.807]"
     ]
    },
    {
     "name": "stderr",
     "output_type": "stream",
     "text": [
      "\r",
      "Warmup:   8%|██▏                        | 58/700 [00:07, 11.79it/s, step size=4.80e-03, acc. prob=0.805]"
     ]
    },
    {
     "name": "stderr",
     "output_type": "stream",
     "text": [
      "\r",
      "Warmup:   9%|██▎                        | 60/700 [00:07, 11.69it/s, step size=1.91e-03, acc. prob=0.798]"
     ]
    },
    {
     "name": "stderr",
     "output_type": "stream",
     "text": [
      "\r",
      "Warmup:   9%|██▍                        | 62/700 [00:08, 10.59it/s, step size=4.49e-03, acc. prob=0.804]"
     ]
    },
    {
     "name": "stderr",
     "output_type": "stream",
     "text": [
      "\r",
      "Warmup:   9%|██▍                        | 64/700 [00:08,  7.81it/s, step size=5.65e-03, acc. prob=0.806]"
     ]
    },
    {
     "name": "stderr",
     "output_type": "stream",
     "text": [
      "\r",
      "Warmup:   9%|██▌                        | 66/700 [00:08,  9.53it/s, step size=1.86e-03, acc. prob=0.798]"
     ]
    },
    {
     "name": "stderr",
     "output_type": "stream",
     "text": [
      "\r",
      "Warmup:  10%|██▌                        | 68/700 [00:08,  7.97it/s, step size=3.87e-03, acc. prob=0.803]"
     ]
    },
    {
     "name": "stderr",
     "output_type": "stream",
     "text": [
      "\r",
      "Warmup:  10%|██▋                        | 70/700 [00:09,  8.83it/s, step size=5.83e-03, acc. prob=0.806]"
     ]
    },
    {
     "name": "stderr",
     "output_type": "stream",
     "text": [
      "\r",
      "Warmup:  10%|██▊                        | 72/700 [00:09, 10.40it/s, step size=6.19e-03, acc. prob=0.806]"
     ]
    },
    {
     "name": "stderr",
     "output_type": "stream",
     "text": [
      "\r",
      "Warmup:  11%|██▉                        | 75/700 [00:09, 11.89it/s, step size=5.33e-03, acc. prob=0.805]"
     ]
    },
    {
     "name": "stderr",
     "output_type": "stream",
     "text": [
      "\r",
      "Warmup:  11%|██▉                        | 77/700 [00:09, 13.10it/s, step size=7.21e-03, acc. prob=0.807]"
     ]
    },
    {
     "name": "stderr",
     "output_type": "stream",
     "text": [
      "\r",
      "Warmup:  11%|███                        | 79/700 [00:09, 12.59it/s, step size=3.02e-03, acc. prob=0.801]"
     ]
    },
    {
     "name": "stderr",
     "output_type": "stream",
     "text": [
      "\r",
      "Warmup:  12%|███                        | 81/700 [00:09, 12.28it/s, step size=5.45e-03, acc. prob=0.805]"
     ]
    },
    {
     "name": "stderr",
     "output_type": "stream",
     "text": [
      "\r",
      "Warmup:  12%|███▏                       | 83/700 [00:10, 13.52it/s, step size=5.82e-03, acc. prob=0.805]"
     ]
    },
    {
     "name": "stderr",
     "output_type": "stream",
     "text": [
      "\r",
      "Warmup:  12%|███▎                       | 85/700 [00:10, 14.56it/s, step size=2.60e-03, acc. prob=0.800]"
     ]
    },
    {
     "name": "stderr",
     "output_type": "stream",
     "text": [
      "\r",
      "Warmup:  12%|███▎                       | 87/700 [00:10, 12.13it/s, step size=3.81e-03, acc. prob=0.803]"
     ]
    },
    {
     "name": "stderr",
     "output_type": "stream",
     "text": [
      "\r",
      "Warmup:  13%|███▍                       | 89/700 [00:10, 13.46it/s, step size=7.53e-03, acc. prob=0.807]"
     ]
    },
    {
     "name": "stderr",
     "output_type": "stream",
     "text": [
      "\r",
      "Warmup:  13%|███▌                       | 91/700 [00:10, 14.58it/s, step size=7.70e-03, acc. prob=0.807]"
     ]
    },
    {
     "name": "stderr",
     "output_type": "stream",
     "text": [
      "\r",
      "Warmup:  13%|███▌                       | 93/700 [00:10, 12.13it/s, step size=4.13e-03, acc. prob=0.803]"
     ]
    },
    {
     "name": "stderr",
     "output_type": "stream",
     "text": [
      "\r",
      "Warmup:  14%|███▋                       | 95/700 [00:10, 13.47it/s, step size=6.07e-03, acc. prob=0.805]"
     ]
    },
    {
     "name": "stderr",
     "output_type": "stream",
     "text": [
      "\r",
      "Warmup:  14%|███▋                       | 97/700 [00:11, 14.60it/s, step size=2.86e-03, acc. prob=0.801]"
     ]
    },
    {
     "name": "stderr",
     "output_type": "stream",
     "text": [
      "\r",
      "Warmup:  14%|███▊                       | 99/700 [00:11,  6.96it/s, step size=6.27e-01, acc. prob=0.804]"
     ]
    },
    {
     "name": "stderr",
     "output_type": "stream",
     "text": [
      "\r",
      "Warmup:  15%|███▊                      | 102/700 [00:11,  9.55it/s, step size=1.41e-01, acc. prob=0.790]"
     ]
    },
    {
     "name": "stderr",
     "output_type": "stream",
     "text": [
      "\r",
      "Warmup:  15%|███▊                      | 104/700 [00:12,  9.33it/s, step size=2.25e-01, acc. prob=0.793]"
     ]
    },
    {
     "name": "stderr",
     "output_type": "stream",
     "text": [
      "\r",
      "Warmup:  15%|███▉                      | 106/700 [00:12,  9.88it/s, step size=4.67e-01, acc. prob=0.796]"
     ]
    },
    {
     "name": "stderr",
     "output_type": "stream",
     "text": [
      "\r",
      "Warmup:  15%|████                      | 108/700 [00:12,  7.07it/s, step size=6.81e-02, acc. prob=0.790]"
     ]
    },
    {
     "name": "stderr",
     "output_type": "stream",
     "text": [
      "\r",
      "Warmup:  16%|████                      | 110/700 [00:13,  6.65it/s, step size=2.37e-01, acc. prob=0.794]"
     ]
    },
    {
     "name": "stderr",
     "output_type": "stream",
     "text": [
      "\r",
      "Warmup:  16%|████▏                     | 112/700 [00:13,  7.63it/s, step size=2.50e-01, acc. prob=0.794]"
     ]
    },
    {
     "name": "stderr",
     "output_type": "stream",
     "text": [
      "\r",
      "Warmup:  16%|████▏                     | 114/700 [00:13,  8.47it/s, step size=2.87e-01, acc. prob=0.795]"
     ]
    },
    {
     "name": "stderr",
     "output_type": "stream",
     "text": [
      "\r",
      "Warmup:  17%|████▎                     | 117/700 [00:13,  8.88it/s, step size=8.23e-02, acc. prob=0.791]"
     ]
    },
    {
     "name": "stderr",
     "output_type": "stream",
     "text": [
      "\r",
      "Warmup:  17%|████▍                     | 119/700 [00:14,  7.75it/s, step size=2.48e-01, acc. prob=0.794]"
     ]
    },
    {
     "name": "stderr",
     "output_type": "stream",
     "text": [
      "\r",
      "Warmup:  17%|████▍                     | 121/700 [00:14,  9.18it/s, step size=1.85e-01, acc. prob=0.793]"
     ]
    },
    {
     "name": "stderr",
     "output_type": "stream",
     "text": [
      "\r",
      "Warmup:  18%|████▌                     | 123/700 [00:14,  9.05it/s, step size=2.12e-01, acc. prob=0.794]"
     ]
    },
    {
     "name": "stderr",
     "output_type": "stream",
     "text": [
      "\r",
      "Warmup:  18%|████▋                     | 125/700 [00:14, 10.58it/s, step size=8.24e-02, acc. prob=0.791]"
     ]
    },
    {
     "name": "stderr",
     "output_type": "stream",
     "text": [
      "\r",
      "Warmup:  18%|████▋                     | 127/700 [00:14,  7.35it/s, step size=2.61e-01, acc. prob=0.794]"
     ]
    },
    {
     "name": "stderr",
     "output_type": "stream",
     "text": [
      "\r",
      "Warmup:  18%|████▊                     | 129/700 [00:15,  8.90it/s, step size=4.15e-01, acc. prob=0.795]"
     ]
    },
    {
     "name": "stderr",
     "output_type": "stream",
     "text": [
      "\r",
      "Warmup:  19%|████▊                     | 131/700 [00:15,  8.52it/s, step size=8.59e-02, acc. prob=0.791]"
     ]
    },
    {
     "name": "stderr",
     "output_type": "stream",
     "text": [
      "\r",
      "Warmup:  19%|████▉                     | 133/700 [00:15,  7.48it/s, step size=2.21e-01, acc. prob=0.793]"
     ]
    },
    {
     "name": "stderr",
     "output_type": "stream",
     "text": [
      "\r",
      "Warmup:  19%|█████                     | 135/700 [00:15,  8.01it/s, step size=6.48e-02, acc. prob=0.790]"
     ]
    },
    {
     "name": "stderr",
     "output_type": "stream",
     "text": [
      "\r",
      "Warmup:  19%|█████                     | 136/700 [00:16,  6.99it/s, step size=1.11e-01, acc. prob=0.791]"
     ]
    },
    {
     "name": "stderr",
     "output_type": "stream",
     "text": [
      "\r",
      "Warmup:  20%|█████                     | 137/700 [00:16,  7.26it/s, step size=1.92e-01, acc. prob=0.793]"
     ]
    },
    {
     "name": "stderr",
     "output_type": "stream",
     "text": [
      "\r",
      "Warmup:  20%|█████▏                    | 138/700 [00:16,  7.47it/s, step size=2.48e-01, acc. prob=0.794]"
     ]
    },
    {
     "name": "stderr",
     "output_type": "stream",
     "text": [
      "\r",
      "Warmup:  20%|█████▏                    | 139/700 [00:16,  7.71it/s, step size=2.81e-01, acc. prob=0.794]"
     ]
    },
    {
     "name": "stderr",
     "output_type": "stream",
     "text": [
      "\r",
      "Warmup:  20%|█████▏                    | 141/700 [00:16, 10.05it/s, step size=3.95e-01, acc. prob=0.795]"
     ]
    },
    {
     "name": "stderr",
     "output_type": "stream",
     "text": [
      "\r",
      "Warmup:  20%|█████▎                    | 143/700 [00:16,  9.20it/s, step size=9.34e-02, acc. prob=0.791]"
     ]
    },
    {
     "name": "stderr",
     "output_type": "stream",
     "text": [
      "\r",
      "Warmup:  21%|█████▍                    | 145/700 [00:17,  6.49it/s, step size=1.63e-01, acc. prob=0.792]"
     ]
    },
    {
     "name": "stderr",
     "output_type": "stream",
     "text": [
      "\r",
      "Warmup:  21%|█████▍                    | 147/700 [00:17,  7.60it/s, step size=2.48e-01, acc. prob=0.793]"
     ]
    },
    {
     "name": "stderr",
     "output_type": "stream",
     "text": [
      "\r",
      "Warmup:  21%|█████▌                    | 149/700 [00:17,  9.09it/s, step size=3.43e-01, acc. prob=0.792]"
     ]
    },
    {
     "name": "stderr",
     "output_type": "stream",
     "text": [
      "\r",
      "Warmup:  22%|█████▋                    | 152/700 [00:17, 11.28it/s, step size=1.36e-01, acc. prob=0.785]"
     ]
    },
    {
     "name": "stderr",
     "output_type": "stream",
     "text": [
      "\r",
      "Warmup:  22%|█████▋                    | 154/700 [00:17, 10.41it/s, step size=2.71e-01, acc. prob=0.787]"
     ]
    },
    {
     "name": "stderr",
     "output_type": "stream",
     "text": [
      "\r",
      "Warmup:  22%|█████▊                    | 157/700 [00:18, 11.80it/s, step size=1.61e-01, acc. prob=0.787]"
     ]
    },
    {
     "name": "stderr",
     "output_type": "stream",
     "text": [
      "\r",
      "Warmup:  23%|█████▉                    | 159/700 [00:18, 11.74it/s, step size=2.94e-01, acc. prob=0.788]"
     ]
    },
    {
     "name": "stderr",
     "output_type": "stream",
     "text": [
      "\r",
      "Warmup:  23%|█████▉                    | 161/700 [00:18, 11.77it/s, step size=1.92e-01, acc. prob=0.787]"
     ]
    },
    {
     "name": "stderr",
     "output_type": "stream",
     "text": [
      "\r",
      "Warmup:  23%|██████                    | 163/700 [00:18, 11.75it/s, step size=3.27e-01, acc. prob=0.788]"
     ]
    },
    {
     "name": "stderr",
     "output_type": "stream",
     "text": [
      "\r",
      "Warmup:  24%|██████▏                   | 166/700 [00:18, 11.08it/s, step size=1.01e-01, acc. prob=0.786]"
     ]
    },
    {
     "name": "stderr",
     "output_type": "stream",
     "text": [
      "\r",
      "Warmup:  24%|██████▏                   | 168/700 [00:19, 10.27it/s, step size=3.10e-01, acc. prob=0.788]"
     ]
    },
    {
     "name": "stderr",
     "output_type": "stream",
     "text": [
      "\r",
      "Warmup:  24%|██████▎                   | 170/700 [00:19, 11.65it/s, step size=4.08e-01, acc. prob=0.789]"
     ]
    },
    {
     "name": "stderr",
     "output_type": "stream",
     "text": [
      "\r",
      "Warmup:  25%|██████▍                   | 172/700 [00:19, 10.21it/s, step size=1.18e-01, acc. prob=0.787]"
     ]
    },
    {
     "name": "stderr",
     "output_type": "stream",
     "text": [
      "\r",
      "Warmup:  25%|██████▍                   | 174/700 [00:19, 10.61it/s, step size=3.60e-01, acc. prob=0.789]"
     ]
    },
    {
     "name": "stderr",
     "output_type": "stream",
     "text": [
      "\r",
      "Warmup:  25%|██████▌                   | 176/700 [00:20,  9.23it/s, step size=9.71e-02, acc. prob=0.786]"
     ]
    },
    {
     "name": "stderr",
     "output_type": "stream",
     "text": [
      "\r",
      "Warmup:  25%|██████▌                   | 178/700 [00:20,  7.82it/s, step size=3.05e-01, acc. prob=0.789]"
     ]
    },
    {
     "name": "stderr",
     "output_type": "stream",
     "text": [
      "\r",
      "Warmup:  26%|██████▋                   | 180/700 [00:20,  7.52it/s, step size=1.12e-01, acc. prob=0.787]"
     ]
    },
    {
     "name": "stderr",
     "output_type": "stream",
     "text": [
      "\r",
      "Warmup:  26%|██████▋                   | 181/700 [00:20,  7.68it/s, step size=1.87e-01, acc. prob=0.788]"
     ]
    },
    {
     "name": "stderr",
     "output_type": "stream",
     "text": [
      "\r",
      "Warmup:  26%|██████▊                   | 183/700 [00:20,  9.44it/s, step size=2.31e-01, acc. prob=0.788]"
     ]
    },
    {
     "name": "stderr",
     "output_type": "stream",
     "text": [
      "\r",
      "Warmup:  26%|██████▊                   | 185/700 [00:21, 11.16it/s, step size=2.83e-01, acc. prob=0.789]"
     ]
    },
    {
     "name": "stderr",
     "output_type": "stream",
     "text": [
      "\r",
      "Warmup:  27%|██████▉                   | 187/700 [00:21, 12.68it/s, step size=2.10e-01, acc. prob=0.788]"
     ]
    },
    {
     "name": "stderr",
     "output_type": "stream",
     "text": [
      "\r",
      "Warmup:  27%|███████                   | 189/700 [00:21, 13.89it/s, step size=2.64e-01, acc. prob=0.789]"
     ]
    },
    {
     "name": "stderr",
     "output_type": "stream",
     "text": [
      "\r",
      "Warmup:  27%|███████                   | 191/700 [00:21, 14.84it/s, step size=2.79e-01, acc. prob=0.789]"
     ]
    },
    {
     "name": "stderr",
     "output_type": "stream",
     "text": [
      "\r",
      "Warmup:  28%|███████▏                  | 194/700 [00:21, 12.46it/s, step size=1.04e-01, acc. prob=0.787]"
     ]
    },
    {
     "name": "stderr",
     "output_type": "stream",
     "text": [
      "\r",
      "Warmup:  28%|███████▎                  | 196/700 [00:21, 11.18it/s, step size=1.45e-01, acc. prob=0.787]"
     ]
    },
    {
     "name": "stderr",
     "output_type": "stream",
     "text": [
      "\r",
      "Warmup:  28%|███████▎                  | 198/700 [00:22, 11.30it/s, step size=2.92e-01, acc. prob=0.789]"
     ]
    },
    {
     "name": "stderr",
     "output_type": "stream",
     "text": [
      "\r",
      "Warmup:  29%|███████▍                  | 200/700 [00:22, 11.46it/s, step size=1.87e-01, acc. prob=0.789]"
     ]
    },
    {
     "name": "stderr",
     "output_type": "stream",
     "text": [
      "\r",
      "Sample:  29%|███████▌                  | 202/700 [00:22, 11.51it/s, step size=1.87e-01, acc. prob=0.891]"
     ]
    },
    {
     "name": "stderr",
     "output_type": "stream",
     "text": [
      "\r",
      "Sample:  29%|███████▌                  | 204/700 [00:22, 12.85it/s, step size=1.87e-01, acc. prob=0.941]"
     ]
    },
    {
     "name": "stderr",
     "output_type": "stream",
     "text": [
      "\r",
      "Sample:  29%|███████▋                  | 206/700 [00:22, 14.07it/s, step size=1.87e-01, acc. prob=0.928]"
     ]
    },
    {
     "name": "stderr",
     "output_type": "stream",
     "text": [
      "\r",
      "Sample:  30%|███████▋                  | 208/700 [00:22, 15.09it/s, step size=1.87e-01, acc. prob=0.861]"
     ]
    },
    {
     "name": "stderr",
     "output_type": "stream",
     "text": [
      "\r",
      "Sample:  30%|███████▊                  | 210/700 [00:22, 15.76it/s, step size=1.87e-01, acc. prob=0.864]"
     ]
    },
    {
     "name": "stderr",
     "output_type": "stream",
     "text": [
      "\r",
      "Sample:  30%|███████▊                  | 212/700 [00:22, 16.30it/s, step size=1.87e-01, acc. prob=0.852]"
     ]
    },
    {
     "name": "stderr",
     "output_type": "stream",
     "text": [
      "\r",
      "Sample:  31%|███████▉                  | 214/700 [00:23, 16.74it/s, step size=1.87e-01, acc. prob=0.858]"
     ]
    },
    {
     "name": "stderr",
     "output_type": "stream",
     "text": [
      "\r",
      "Sample:  31%|████████                  | 216/700 [00:23, 17.12it/s, step size=1.87e-01, acc. prob=0.839]"
     ]
    },
    {
     "name": "stderr",
     "output_type": "stream",
     "text": [
      "\r",
      "Sample:  31%|████████                  | 218/700 [00:23, 17.50it/s, step size=1.87e-01, acc. prob=0.830]"
     ]
    },
    {
     "name": "stderr",
     "output_type": "stream",
     "text": [
      "\r",
      "Sample:  31%|████████▏                 | 220/700 [00:23, 17.86it/s, step size=1.87e-01, acc. prob=0.840]"
     ]
    },
    {
     "name": "stderr",
     "output_type": "stream",
     "text": [
      "\r",
      "Sample:  32%|████████▏                 | 222/700 [00:23, 15.18it/s, step size=1.87e-01, acc. prob=0.851]"
     ]
    },
    {
     "name": "stderr",
     "output_type": "stream",
     "text": [
      "\r",
      "Sample:  32%|████████▎                 | 224/700 [00:23, 12.48it/s, step size=1.87e-01, acc. prob=0.857]"
     ]
    },
    {
     "name": "stderr",
     "output_type": "stream",
     "text": [
      "\r",
      "Sample:  32%|████████▍                 | 226/700 [00:23, 13.76it/s, step size=1.87e-01, acc. prob=0.862]"
     ]
    },
    {
     "name": "stderr",
     "output_type": "stream",
     "text": [
      "\r",
      "Sample:  33%|████████▍                 | 228/700 [00:24, 14.80it/s, step size=1.87e-01, acc. prob=0.864]"
     ]
    },
    {
     "name": "stderr",
     "output_type": "stream",
     "text": [
      "\r",
      "Sample:  33%|████████▌                 | 230/700 [00:24, 13.41it/s, step size=1.87e-01, acc. prob=0.870]"
     ]
    },
    {
     "name": "stderr",
     "output_type": "stream",
     "text": [
      "\r",
      "Sample:  33%|████████▌                 | 232/700 [00:24, 11.52it/s, step size=1.87e-01, acc. prob=0.876]"
     ]
    },
    {
     "name": "stderr",
     "output_type": "stream",
     "text": [
      "\r",
      "Sample:  33%|████████▋                 | 234/700 [00:24, 10.46it/s, step size=1.87e-01, acc. prob=0.881]"
     ]
    },
    {
     "name": "stderr",
     "output_type": "stream",
     "text": [
      "\r",
      "Sample:  34%|████████▊                 | 236/700 [00:24,  9.87it/s, step size=1.87e-01, acc. prob=0.881]"
     ]
    },
    {
     "name": "stderr",
     "output_type": "stream",
     "text": [
      "\r",
      "Sample:  34%|████████▊                 | 238/700 [00:25,  9.47it/s, step size=1.87e-01, acc. prob=0.882]"
     ]
    },
    {
     "name": "stderr",
     "output_type": "stream",
     "text": [
      "\r",
      "Sample:  34%|████████▉                 | 240/700 [00:25,  9.20it/s, step size=1.87e-01, acc. prob=0.879]"
     ]
    },
    {
     "name": "stderr",
     "output_type": "stream",
     "text": [
      "\r",
      "Sample:  34%|████████▉                 | 241/700 [00:25,  9.12it/s, step size=1.87e-01, acc. prob=0.880]"
     ]
    },
    {
     "name": "stderr",
     "output_type": "stream",
     "text": [
      "\r",
      "Sample:  35%|█████████                 | 243/700 [00:25,  9.78it/s, step size=1.87e-01, acc. prob=0.875]"
     ]
    },
    {
     "name": "stderr",
     "output_type": "stream",
     "text": [
      "\r",
      "Sample:  35%|█████████                 | 244/700 [00:25,  9.54it/s, step size=1.87e-01, acc. prob=0.877]"
     ]
    },
    {
     "name": "stderr",
     "output_type": "stream",
     "text": [
      "\r",
      "Sample:  35%|█████████▏                | 246/700 [00:25, 11.46it/s, step size=1.87e-01, acc. prob=0.881]"
     ]
    },
    {
     "name": "stderr",
     "output_type": "stream",
     "text": [
      "\r",
      "Sample:  35%|█████████▏                | 248/700 [00:26, 11.56it/s, step size=1.87e-01, acc. prob=0.881]"
     ]
    },
    {
     "name": "stderr",
     "output_type": "stream",
     "text": [
      "\r",
      "Sample:  36%|█████████▎                | 250/700 [00:26, 11.52it/s, step size=1.87e-01, acc. prob=0.881]"
     ]
    },
    {
     "name": "stderr",
     "output_type": "stream",
     "text": [
      "\r",
      "Sample:  36%|█████████▎                | 252/700 [00:26, 11.59it/s, step size=1.87e-01, acc. prob=0.884]"
     ]
    },
    {
     "name": "stderr",
     "output_type": "stream",
     "text": [
      "\r",
      "Sample:  36%|█████████▍                | 254/700 [00:26, 11.59it/s, step size=1.87e-01, acc. prob=0.886]"
     ]
    },
    {
     "name": "stderr",
     "output_type": "stream",
     "text": [
      "\r",
      "Sample:  37%|█████████▌                | 256/700 [00:26, 12.86it/s, step size=1.87e-01, acc. prob=0.887]"
     ]
    },
    {
     "name": "stderr",
     "output_type": "stream",
     "text": [
      "\r",
      "Sample:  37%|█████████▌                | 258/700 [00:26, 13.97it/s, step size=1.87e-01, acc. prob=0.890]"
     ]
    },
    {
     "name": "stderr",
     "output_type": "stream",
     "text": [
      "\r",
      "Sample:  37%|█████████▋                | 260/700 [00:27, 11.80it/s, step size=1.87e-01, acc. prob=0.891]"
     ]
    },
    {
     "name": "stderr",
     "output_type": "stream",
     "text": [
      "\r",
      "Sample:  37%|█████████▋                | 262/700 [00:27, 11.76it/s, step size=1.87e-01, acc. prob=0.892]"
     ]
    },
    {
     "name": "stderr",
     "output_type": "stream",
     "text": [
      "\r",
      "Sample:  38%|█████████▊                | 264/700 [00:27, 13.01it/s, step size=1.87e-01, acc. prob=0.894]"
     ]
    },
    {
     "name": "stderr",
     "output_type": "stream",
     "text": [
      "\r",
      "Sample:  38%|█████████▉                | 266/700 [00:27, 14.19it/s, step size=1.87e-01, acc. prob=0.894]"
     ]
    },
    {
     "name": "stderr",
     "output_type": "stream",
     "text": [
      "\r",
      "Sample:  38%|█████████▉                | 268/700 [00:27, 11.97it/s, step size=1.87e-01, acc. prob=0.894]"
     ]
    },
    {
     "name": "stderr",
     "output_type": "stream",
     "text": [
      "\r",
      "Sample:  39%|██████████                | 270/700 [00:27, 11.77it/s, step size=1.87e-01, acc. prob=0.892]"
     ]
    },
    {
     "name": "stderr",
     "output_type": "stream",
     "text": [
      "\r",
      "Sample:  39%|██████████                | 272/700 [00:28, 10.12it/s, step size=1.87e-01, acc. prob=0.890]"
     ]
    },
    {
     "name": "stderr",
     "output_type": "stream",
     "text": [
      "\r",
      "Sample:  39%|██████████▏               | 274/700 [00:28, 10.50it/s, step size=1.87e-01, acc. prob=0.892]"
     ]
    },
    {
     "name": "stderr",
     "output_type": "stream",
     "text": [
      "\r",
      "Sample:  39%|██████████▎               | 276/700 [00:28,  9.86it/s, step size=1.87e-01, acc. prob=0.894]"
     ]
    },
    {
     "name": "stderr",
     "output_type": "stream",
     "text": [
      "\r",
      "Sample:  40%|██████████▎               | 278/700 [00:28,  9.44it/s, step size=1.87e-01, acc. prob=0.895]"
     ]
    },
    {
     "name": "stderr",
     "output_type": "stream",
     "text": [
      "\r",
      "Sample:  40%|██████████▎               | 279/700 [00:28,  9.27it/s, step size=1.87e-01, acc. prob=0.895]"
     ]
    },
    {
     "name": "stderr",
     "output_type": "stream",
     "text": [
      "\r",
      "Sample:  40%|██████████▍               | 280/700 [00:28,  9.12it/s, step size=1.87e-01, acc. prob=0.896]"
     ]
    },
    {
     "name": "stderr",
     "output_type": "stream",
     "text": [
      "\r",
      "Sample:  40%|██████████▍               | 281/700 [00:29,  8.94it/s, step size=1.87e-01, acc. prob=0.897]"
     ]
    },
    {
     "name": "stderr",
     "output_type": "stream",
     "text": [
      "\r",
      "Sample:  40%|██████████▍               | 282/700 [00:29,  8.76it/s, step size=1.87e-01, acc. prob=0.899]"
     ]
    },
    {
     "name": "stderr",
     "output_type": "stream",
     "text": [
      "\r",
      "Sample:  41%|██████████▌               | 284/700 [00:29,  9.72it/s, step size=1.87e-01, acc. prob=0.899]"
     ]
    },
    {
     "name": "stderr",
     "output_type": "stream",
     "text": [
      "\r",
      "Sample:  41%|██████████▌               | 285/700 [00:29,  9.43it/s, step size=1.87e-01, acc. prob=0.900]"
     ]
    },
    {
     "name": "stderr",
     "output_type": "stream",
     "text": [
      "\r",
      "Sample:  41%|██████████▋               | 287/700 [00:29, 11.49it/s, step size=1.87e-01, acc. prob=0.900]"
     ]
    },
    {
     "name": "stderr",
     "output_type": "stream",
     "text": [
      "\r",
      "Sample:  41%|██████████▋               | 289/700 [00:29, 13.00it/s, step size=1.87e-01, acc. prob=0.899]"
     ]
    },
    {
     "name": "stderr",
     "output_type": "stream",
     "text": [
      "\r",
      "Sample:  42%|██████████▊               | 291/700 [00:29, 14.27it/s, step size=1.87e-01, acc. prob=0.898]"
     ]
    },
    {
     "name": "stderr",
     "output_type": "stream",
     "text": [
      "\r",
      "Sample:  42%|██████████▉               | 293/700 [00:29, 15.20it/s, step size=1.87e-01, acc. prob=0.897]"
     ]
    },
    {
     "name": "stderr",
     "output_type": "stream",
     "text": [
      "\r",
      "Sample:  42%|██████████▉               | 295/700 [00:30, 13.79it/s, step size=1.87e-01, acc. prob=0.897]"
     ]
    },
    {
     "name": "stderr",
     "output_type": "stream",
     "text": [
      "\r",
      "Sample:  42%|███████████               | 297/700 [00:30, 14.59it/s, step size=1.87e-01, acc. prob=0.898]"
     ]
    },
    {
     "name": "stderr",
     "output_type": "stream",
     "text": [
      "\r",
      "Sample:  43%|███████████               | 299/700 [00:30, 15.24it/s, step size=1.87e-01, acc. prob=0.899]"
     ]
    },
    {
     "name": "stderr",
     "output_type": "stream",
     "text": [
      "\r",
      "Sample:  43%|███████████▏              | 301/700 [00:30, 13.69it/s, step size=1.87e-01, acc. prob=0.899]"
     ]
    },
    {
     "name": "stderr",
     "output_type": "stream",
     "text": [
      "\r",
      "Sample:  43%|███████████▎              | 303/700 [00:30, 11.54it/s, step size=1.87e-01, acc. prob=0.898]"
     ]
    },
    {
     "name": "stderr",
     "output_type": "stream",
     "text": [
      "\r",
      "Sample:  44%|███████████▎              | 305/700 [00:30, 12.88it/s, step size=1.87e-01, acc. prob=0.899]"
     ]
    },
    {
     "name": "stderr",
     "output_type": "stream",
     "text": [
      "\r",
      "Sample:  44%|███████████▍              | 307/700 [00:31, 13.99it/s, step size=1.87e-01, acc. prob=0.898]"
     ]
    },
    {
     "name": "stderr",
     "output_type": "stream",
     "text": [
      "\r",
      "Sample:  44%|███████████▍              | 309/700 [00:31, 13.01it/s, step size=1.87e-01, acc. prob=0.897]"
     ]
    },
    {
     "name": "stderr",
     "output_type": "stream",
     "text": [
      "\r",
      "Sample:  44%|███████████▌              | 311/700 [00:31, 11.27it/s, step size=1.87e-01, acc. prob=0.898]"
     ]
    },
    {
     "name": "stderr",
     "output_type": "stream",
     "text": [
      "\r",
      "Sample:  45%|███████████▋              | 313/700 [00:31, 10.24it/s, step size=1.87e-01, acc. prob=0.898]"
     ]
    },
    {
     "name": "stderr",
     "output_type": "stream",
     "text": [
      "\r",
      "Sample:  45%|███████████▋              | 315/700 [00:31, 10.58it/s, step size=1.87e-01, acc. prob=0.898]"
     ]
    },
    {
     "name": "stderr",
     "output_type": "stream",
     "text": [
      "\r",
      "Sample:  45%|███████████▊              | 317/700 [00:32,  9.90it/s, step size=1.87e-01, acc. prob=0.897]"
     ]
    },
    {
     "name": "stderr",
     "output_type": "stream",
     "text": [
      "\r",
      "Sample:  46%|███████████▊              | 319/700 [00:32,  8.65it/s, step size=1.87e-01, acc. prob=0.899]"
     ]
    },
    {
     "name": "stderr",
     "output_type": "stream",
     "text": [
      "\r",
      "Sample:  46%|███████████▉              | 321/700 [00:32, 10.20it/s, step size=1.87e-01, acc. prob=0.899]"
     ]
    },
    {
     "name": "stderr",
     "output_type": "stream",
     "text": [
      "\r",
      "Sample:  46%|███████████▉              | 323/700 [00:32,  9.56it/s, step size=1.87e-01, acc. prob=0.898]"
     ]
    },
    {
     "name": "stderr",
     "output_type": "stream",
     "text": [
      "\r",
      "Sample:  46%|████████████              | 325/700 [00:32, 10.00it/s, step size=1.87e-01, acc. prob=0.898]"
     ]
    },
    {
     "name": "stderr",
     "output_type": "stream",
     "text": [
      "\r",
      "Sample:  47%|████████████▏             | 327/700 [00:33,  9.52it/s, step size=1.87e-01, acc. prob=0.896]"
     ]
    },
    {
     "name": "stderr",
     "output_type": "stream",
     "text": [
      "\r",
      "Sample:  47%|████████████▏             | 329/700 [00:33,  9.15it/s, step size=1.87e-01, acc. prob=0.897]"
     ]
    },
    {
     "name": "stderr",
     "output_type": "stream",
     "text": [
      "\r",
      "Sample:  47%|████████████▎             | 331/700 [00:33,  9.70it/s, step size=1.87e-01, acc. prob=0.898]"
     ]
    },
    {
     "name": "stderr",
     "output_type": "stream",
     "text": [
      "\r",
      "Sample:  48%|████████████▎             | 333/700 [00:33, 10.19it/s, step size=1.87e-01, acc. prob=0.899]"
     ]
    },
    {
     "name": "stderr",
     "output_type": "stream",
     "text": [
      "\r",
      "Sample:  48%|████████████▍             | 335/700 [00:33, 10.56it/s, step size=1.87e-01, acc. prob=0.899]"
     ]
    },
    {
     "name": "stderr",
     "output_type": "stream",
     "text": [
      "\r",
      "Sample:  48%|████████████▌             | 337/700 [00:34,  9.79it/s, step size=1.87e-01, acc. prob=0.900]"
     ]
    },
    {
     "name": "stderr",
     "output_type": "stream",
     "text": [
      "\r",
      "Sample:  48%|████████████▌             | 339/700 [00:34,  9.40it/s, step size=1.87e-01, acc. prob=0.900]"
     ]
    },
    {
     "name": "stderr",
     "output_type": "stream",
     "text": [
      "\r",
      "Sample:  49%|████████████▋             | 340/700 [00:34,  9.21it/s, step size=1.87e-01, acc. prob=0.900]"
     ]
    },
    {
     "name": "stderr",
     "output_type": "stream",
     "text": [
      "\r",
      "Sample:  49%|████████████▋             | 341/700 [00:34,  9.02it/s, step size=1.87e-01, acc. prob=0.899]"
     ]
    },
    {
     "name": "stderr",
     "output_type": "stream",
     "text": [
      "\r",
      "Sample:  49%|████████████▋             | 342/700 [00:34,  8.91it/s, step size=1.87e-01, acc. prob=0.900]"
     ]
    },
    {
     "name": "stderr",
     "output_type": "stream",
     "text": [
      "\r",
      "Sample:  49%|████████████▋             | 343/700 [00:34,  8.83it/s, step size=1.87e-01, acc. prob=0.899]"
     ]
    },
    {
     "name": "stderr",
     "output_type": "stream",
     "text": [
      "\r",
      "Sample:  49%|████████████▊             | 344/700 [00:34,  8.75it/s, step size=1.87e-01, acc. prob=0.899]"
     ]
    },
    {
     "name": "stderr",
     "output_type": "stream",
     "text": [
      "\r",
      "Sample:  49%|████████████▊             | 345/700 [00:35,  8.62it/s, step size=1.87e-01, acc. prob=0.900]"
     ]
    },
    {
     "name": "stderr",
     "output_type": "stream",
     "text": [
      "\r",
      "Sample:  49%|████████████▊             | 346/700 [00:35,  8.57it/s, step size=1.87e-01, acc. prob=0.900]"
     ]
    },
    {
     "name": "stderr",
     "output_type": "stream",
     "text": [
      "\r",
      "Sample:  50%|████████████▉             | 347/700 [00:35,  8.57it/s, step size=1.87e-01, acc. prob=0.901]"
     ]
    },
    {
     "name": "stderr",
     "output_type": "stream",
     "text": [
      "\r",
      "Sample:  50%|████████████▉             | 348/700 [00:35,  8.56it/s, step size=1.87e-01, acc. prob=0.899]"
     ]
    },
    {
     "name": "stderr",
     "output_type": "stream",
     "text": [
      "\r",
      "Sample:  50%|████████████▉             | 349/700 [00:35,  8.53it/s, step size=1.87e-01, acc. prob=0.899]"
     ]
    },
    {
     "name": "stderr",
     "output_type": "stream",
     "text": [
      "\r",
      "Sample:  50%|█████████████             | 350/700 [00:35,  8.43it/s, step size=1.87e-01, acc. prob=0.899]"
     ]
    },
    {
     "name": "stderr",
     "output_type": "stream",
     "text": [
      "\r",
      "Sample:  50%|█████████████             | 352/700 [00:35,  9.61it/s, step size=1.87e-01, acc. prob=0.900]"
     ]
    },
    {
     "name": "stderr",
     "output_type": "stream",
     "text": [
      "\r",
      "Sample:  50%|█████████████             | 353/700 [00:35,  9.33it/s, step size=1.87e-01, acc. prob=0.900]"
     ]
    },
    {
     "name": "stderr",
     "output_type": "stream",
     "text": [
      "\r",
      "Sample:  51%|█████████████▏            | 354/700 [00:36,  9.09it/s, step size=1.87e-01, acc. prob=0.901]"
     ]
    },
    {
     "name": "stderr",
     "output_type": "stream",
     "text": [
      "\r",
      "Sample:  51%|█████████████▏            | 355/700 [00:36,  8.84it/s, step size=1.87e-01, acc. prob=0.901]"
     ]
    },
    {
     "name": "stderr",
     "output_type": "stream",
     "text": [
      "\r",
      "Sample:  51%|█████████████▏            | 356/700 [00:36,  8.72it/s, step size=1.87e-01, acc. prob=0.901]"
     ]
    },
    {
     "name": "stderr",
     "output_type": "stream",
     "text": [
      "\r",
      "Sample:  51%|█████████████▎            | 357/700 [00:36,  8.57it/s, step size=1.87e-01, acc. prob=0.900]"
     ]
    },
    {
     "name": "stderr",
     "output_type": "stream",
     "text": [
      "\r",
      "Sample:  51%|█████████████▎            | 359/700 [00:36,  9.53it/s, step size=1.87e-01, acc. prob=0.901]"
     ]
    },
    {
     "name": "stderr",
     "output_type": "stream",
     "text": [
      "\r",
      "Sample:  51%|█████████████▎            | 360/700 [00:36,  9.20it/s, step size=1.87e-01, acc. prob=0.901]"
     ]
    },
    {
     "name": "stderr",
     "output_type": "stream",
     "text": [
      "\r",
      "Sample:  52%|█████████████▍            | 362/700 [00:36, 11.43it/s, step size=1.87e-01, acc. prob=0.902]"
     ]
    },
    {
     "name": "stderr",
     "output_type": "stream",
     "text": [
      "\r",
      "Sample:  52%|█████████████▌            | 364/700 [00:36, 13.11it/s, step size=1.87e-01, acc. prob=0.901]"
     ]
    },
    {
     "name": "stderr",
     "output_type": "stream",
     "text": [
      "\r",
      "Sample:  52%|█████████████▌            | 366/700 [00:37, 14.32it/s, step size=1.87e-01, acc. prob=0.901]"
     ]
    },
    {
     "name": "stderr",
     "output_type": "stream",
     "text": [
      "\r",
      "Sample:  53%|█████████████▋            | 368/700 [00:37, 11.61it/s, step size=1.87e-01, acc. prob=0.901]"
     ]
    },
    {
     "name": "stderr",
     "output_type": "stream",
     "text": [
      "\r",
      "Sample:  53%|█████████████▋            | 370/700 [00:37, 11.60it/s, step size=1.87e-01, acc. prob=0.899]"
     ]
    },
    {
     "name": "stderr",
     "output_type": "stream",
     "text": [
      "\r",
      "Sample:  53%|█████████████▊            | 372/700 [00:37, 10.41it/s, step size=1.87e-01, acc. prob=0.899]"
     ]
    },
    {
     "name": "stderr",
     "output_type": "stream",
     "text": [
      "\r",
      "Sample:  53%|█████████████▉            | 374/700 [00:37, 11.84it/s, step size=1.87e-01, acc. prob=0.897]"
     ]
    },
    {
     "name": "stderr",
     "output_type": "stream",
     "text": [
      "\r",
      "Sample:  54%|█████████████▉            | 376/700 [00:38, 11.73it/s, step size=1.87e-01, acc. prob=0.895]"
     ]
    },
    {
     "name": "stderr",
     "output_type": "stream",
     "text": [
      "\r",
      "Sample:  54%|██████████████            | 378/700 [00:38, 10.49it/s, step size=1.87e-01, acc. prob=0.895]"
     ]
    },
    {
     "name": "stderr",
     "output_type": "stream",
     "text": [
      "\r",
      "Sample:  54%|██████████████            | 380/700 [00:38,  9.80it/s, step size=1.87e-01, acc. prob=0.895]"
     ]
    },
    {
     "name": "stderr",
     "output_type": "stream",
     "text": [
      "\r",
      "Sample:  55%|██████████████▏           | 382/700 [00:38,  9.23it/s, step size=1.87e-01, acc. prob=0.895]"
     ]
    },
    {
     "name": "stderr",
     "output_type": "stream",
     "text": [
      "\r",
      "Sample:  55%|██████████████▏           | 383/700 [00:38,  8.98it/s, step size=1.87e-01, acc. prob=0.895]"
     ]
    },
    {
     "name": "stderr",
     "output_type": "stream",
     "text": [
      "\r",
      "Sample:  55%|██████████████▎           | 384/700 [00:39,  8.71it/s, step size=1.87e-01, acc. prob=0.895]"
     ]
    },
    {
     "name": "stderr",
     "output_type": "stream",
     "text": [
      "\r",
      "Sample:  55%|██████████████▎           | 385/700 [00:39,  8.67it/s, step size=1.87e-01, acc. prob=0.894]"
     ]
    },
    {
     "name": "stderr",
     "output_type": "stream",
     "text": [
      "\r",
      "Sample:  55%|██████████████▎           | 386/700 [00:39,  8.63it/s, step size=1.87e-01, acc. prob=0.895]"
     ]
    },
    {
     "name": "stderr",
     "output_type": "stream",
     "text": [
      "\r",
      "Sample:  55%|██████████████▍           | 388/700 [00:39,  9.63it/s, step size=1.87e-01, acc. prob=0.895]"
     ]
    },
    {
     "name": "stderr",
     "output_type": "stream",
     "text": [
      "\r",
      "Sample:  56%|██████████████▍           | 390/700 [00:39, 11.56it/s, step size=1.87e-01, acc. prob=0.894]"
     ]
    },
    {
     "name": "stderr",
     "output_type": "stream",
     "text": [
      "\r",
      "Sample:  56%|██████████████▌           | 392/700 [00:39, 11.55it/s, step size=1.87e-01, acc. prob=0.894]"
     ]
    },
    {
     "name": "stderr",
     "output_type": "stream",
     "text": [
      "\r",
      "Sample:  56%|██████████████▋           | 394/700 [00:39, 13.00it/s, step size=1.87e-01, acc. prob=0.894]"
     ]
    },
    {
     "name": "stderr",
     "output_type": "stream",
     "text": [
      "\r",
      "Sample:  57%|██████████████▋           | 396/700 [00:39, 14.08it/s, step size=1.87e-01, acc. prob=0.894]"
     ]
    },
    {
     "name": "stderr",
     "output_type": "stream",
     "text": [
      "\r",
      "Sample:  57%|██████████████▊           | 398/700 [00:40, 14.89it/s, step size=1.87e-01, acc. prob=0.894]"
     ]
    },
    {
     "name": "stderr",
     "output_type": "stream",
     "text": [
      "\r",
      "Sample:  57%|██████████████▊           | 400/700 [00:40, 14.95it/s, step size=1.87e-01, acc. prob=0.894]"
     ]
    },
    {
     "name": "stderr",
     "output_type": "stream",
     "text": [
      "\r",
      "Sample:  57%|██████████████▉           | 402/700 [00:40, 15.35it/s, step size=1.87e-01, acc. prob=0.893]"
     ]
    },
    {
     "name": "stderr",
     "output_type": "stream",
     "text": [
      "\r",
      "Sample:  58%|███████████████           | 404/700 [00:40, 15.96it/s, step size=1.87e-01, acc. prob=0.893]"
     ]
    },
    {
     "name": "stderr",
     "output_type": "stream",
     "text": [
      "\r",
      "Sample:  58%|███████████████           | 406/700 [00:40, 16.40it/s, step size=1.87e-01, acc. prob=0.893]"
     ]
    },
    {
     "name": "stderr",
     "output_type": "stream",
     "text": [
      "\r",
      "Sample:  58%|███████████████▏          | 408/700 [00:40, 16.73it/s, step size=1.87e-01, acc. prob=0.892]"
     ]
    },
    {
     "name": "stderr",
     "output_type": "stream",
     "text": [
      "\r",
      "Sample:  59%|███████████████▏          | 410/700 [00:40, 12.95it/s, step size=1.87e-01, acc. prob=0.892]"
     ]
    },
    {
     "name": "stderr",
     "output_type": "stream",
     "text": [
      "\r",
      "Sample:  59%|███████████████▎          | 412/700 [00:41, 12.47it/s, step size=1.87e-01, acc. prob=0.890]"
     ]
    },
    {
     "name": "stderr",
     "output_type": "stream",
     "text": [
      "\r",
      "Sample:  59%|███████████████▍          | 414/700 [00:41, 10.94it/s, step size=1.87e-01, acc. prob=0.891]"
     ]
    },
    {
     "name": "stderr",
     "output_type": "stream",
     "text": [
      "\r",
      "Sample:  59%|███████████████▍          | 416/700 [00:41, 12.30it/s, step size=1.87e-01, acc. prob=0.891]"
     ]
    },
    {
     "name": "stderr",
     "output_type": "stream",
     "text": [
      "\r",
      "Sample:  60%|███████████████▌          | 418/700 [00:41, 13.43it/s, step size=1.87e-01, acc. prob=0.891]"
     ]
    },
    {
     "name": "stderr",
     "output_type": "stream",
     "text": [
      "\r",
      "Sample:  60%|███████████████▌          | 420/700 [00:41, 14.45it/s, step size=1.87e-01, acc. prob=0.892]"
     ]
    },
    {
     "name": "stderr",
     "output_type": "stream",
     "text": [
      "\r",
      "Sample:  60%|███████████████▋          | 422/700 [00:41, 15.26it/s, step size=1.87e-01, acc. prob=0.892]"
     ]
    },
    {
     "name": "stderr",
     "output_type": "stream",
     "text": [
      "\r",
      "Sample:  61%|███████████████▋          | 424/700 [00:41, 15.88it/s, step size=1.87e-01, acc. prob=0.893]"
     ]
    },
    {
     "name": "stderr",
     "output_type": "stream",
     "text": [
      "\r",
      "Sample:  61%|███████████████▊          | 426/700 [00:41, 16.23it/s, step size=1.87e-01, acc. prob=0.893]"
     ]
    },
    {
     "name": "stderr",
     "output_type": "stream",
     "text": [
      "\r",
      "Sample:  61%|███████████████▉          | 428/700 [00:42, 16.47it/s, step size=1.87e-01, acc. prob=0.893]"
     ]
    },
    {
     "name": "stderr",
     "output_type": "stream",
     "text": [
      "\r",
      "Sample:  61%|███████████████▉          | 430/700 [00:42, 16.78it/s, step size=1.87e-01, acc. prob=0.893]"
     ]
    },
    {
     "name": "stderr",
     "output_type": "stream",
     "text": [
      "\r",
      "Sample:  62%|████████████████          | 432/700 [00:42, 14.47it/s, step size=1.87e-01, acc. prob=0.892]"
     ]
    },
    {
     "name": "stderr",
     "output_type": "stream",
     "text": [
      "\r",
      "Sample:  62%|████████████████          | 434/700 [00:42, 14.61it/s, step size=1.87e-01, acc. prob=0.893]"
     ]
    },
    {
     "name": "stderr",
     "output_type": "stream",
     "text": [
      "\r",
      "Sample:  62%|████████████████▏         | 436/700 [00:42, 13.40it/s, step size=1.87e-01, acc. prob=0.893]"
     ]
    },
    {
     "name": "stderr",
     "output_type": "stream",
     "text": [
      "\r",
      "Sample:  63%|████████████████▎         | 438/700 [00:42, 12.79it/s, step size=1.87e-01, acc. prob=0.893]"
     ]
    },
    {
     "name": "stderr",
     "output_type": "stream",
     "text": [
      "\r",
      "Sample:  63%|████████████████▎         | 440/700 [00:43, 13.72it/s, step size=1.87e-01, acc. prob=0.893]"
     ]
    },
    {
     "name": "stderr",
     "output_type": "stream",
     "text": [
      "\r",
      "Sample:  63%|████████████████▍         | 442/700 [00:43, 14.48it/s, step size=1.87e-01, acc. prob=0.893]"
     ]
    },
    {
     "name": "stderr",
     "output_type": "stream",
     "text": [
      "\r",
      "Sample:  63%|████████████████▍         | 444/700 [00:43, 11.89it/s, step size=1.87e-01, acc. prob=0.893]"
     ]
    },
    {
     "name": "stderr",
     "output_type": "stream",
     "text": [
      "\r",
      "Sample:  64%|████████████████▌         | 446/700 [00:43, 11.79it/s, step size=1.87e-01, acc. prob=0.894]"
     ]
    },
    {
     "name": "stderr",
     "output_type": "stream",
     "text": [
      "\r",
      "Sample:  64%|████████████████▋         | 448/700 [00:43, 10.50it/s, step size=1.87e-01, acc. prob=0.892]"
     ]
    },
    {
     "name": "stderr",
     "output_type": "stream",
     "text": [
      "\r",
      "Sample:  64%|████████████████▋         | 450/700 [00:43, 11.85it/s, step size=1.87e-01, acc. prob=0.893]"
     ]
    },
    {
     "name": "stderr",
     "output_type": "stream",
     "text": [
      "\r",
      "Sample:  65%|████████████████▊         | 452/700 [00:44, 13.13it/s, step size=1.87e-01, acc. prob=0.893]"
     ]
    },
    {
     "name": "stderr",
     "output_type": "stream",
     "text": [
      "\r",
      "Sample:  65%|████████████████▊         | 454/700 [00:44, 12.60it/s, step size=1.87e-01, acc. prob=0.893]"
     ]
    },
    {
     "name": "stderr",
     "output_type": "stream",
     "text": [
      "\r",
      "Sample:  65%|████████████████▉         | 456/700 [00:44, 13.71it/s, step size=1.87e-01, acc. prob=0.893]"
     ]
    },
    {
     "name": "stderr",
     "output_type": "stream",
     "text": [
      "\r",
      "Sample:  65%|█████████████████         | 458/700 [00:44, 14.56it/s, step size=1.87e-01, acc. prob=0.893]"
     ]
    },
    {
     "name": "stderr",
     "output_type": "stream",
     "text": [
      "\r",
      "Sample:  66%|█████████████████         | 460/700 [00:44, 15.34it/s, step size=1.87e-01, acc. prob=0.893]"
     ]
    },
    {
     "name": "stderr",
     "output_type": "stream",
     "text": [
      "\r",
      "Sample:  66%|█████████████████▏        | 462/700 [00:44, 15.94it/s, step size=1.87e-01, acc. prob=0.893]"
     ]
    },
    {
     "name": "stderr",
     "output_type": "stream",
     "text": [
      "\r",
      "Sample:  66%|█████████████████▏        | 464/700 [00:44, 16.40it/s, step size=1.87e-01, acc. prob=0.893]"
     ]
    },
    {
     "name": "stderr",
     "output_type": "stream",
     "text": [
      "\r",
      "Sample:  67%|█████████████████▎        | 466/700 [00:44, 16.47it/s, step size=1.87e-01, acc. prob=0.893]"
     ]
    },
    {
     "name": "stderr",
     "output_type": "stream",
     "text": [
      "\r",
      "Sample:  67%|█████████████████▍        | 468/700 [00:45, 14.24it/s, step size=1.87e-01, acc. prob=0.893]"
     ]
    },
    {
     "name": "stderr",
     "output_type": "stream",
     "text": [
      "\r",
      "Sample:  67%|█████████████████▍        | 470/700 [00:45, 13.13it/s, step size=1.87e-01, acc. prob=0.893]"
     ]
    },
    {
     "name": "stderr",
     "output_type": "stream",
     "text": [
      "\r",
      "Sample:  67%|█████████████████▌        | 472/700 [00:45, 11.31it/s, step size=1.87e-01, acc. prob=0.893]"
     ]
    },
    {
     "name": "stderr",
     "output_type": "stream",
     "text": [
      "\r",
      "Sample:  68%|█████████████████▌        | 474/700 [00:45, 10.14it/s, step size=1.87e-01, acc. prob=0.894]"
     ]
    },
    {
     "name": "stderr",
     "output_type": "stream",
     "text": [
      "\r",
      "Sample:  68%|█████████████████▋        | 476/700 [00:45, 10.52it/s, step size=1.87e-01, acc. prob=0.893]"
     ]
    },
    {
     "name": "stderr",
     "output_type": "stream",
     "text": [
      "\r",
      "Sample:  68%|█████████████████▊        | 478/700 [00:46,  9.84it/s, step size=1.87e-01, acc. prob=0.893]"
     ]
    },
    {
     "name": "stderr",
     "output_type": "stream",
     "text": [
      "\r",
      "Sample:  69%|█████████████████▊        | 480/700 [00:46, 10.34it/s, step size=1.87e-01, acc. prob=0.893]"
     ]
    },
    {
     "name": "stderr",
     "output_type": "stream",
     "text": [
      "\r",
      "Sample:  69%|█████████████████▉        | 482/700 [00:46, 11.79it/s, step size=1.87e-01, acc. prob=0.893]"
     ]
    },
    {
     "name": "stderr",
     "output_type": "stream",
     "text": [
      "\r",
      "Sample:  69%|█████████████████▉        | 484/700 [00:46, 13.15it/s, step size=1.87e-01, acc. prob=0.893]"
     ]
    },
    {
     "name": "stderr",
     "output_type": "stream",
     "text": [
      "\r",
      "Sample:  69%|██████████████████        | 486/700 [00:46, 12.73it/s, step size=1.87e-01, acc. prob=0.893]"
     ]
    },
    {
     "name": "stderr",
     "output_type": "stream",
     "text": [
      "\r",
      "Sample:  70%|██████████████████▏       | 488/700 [00:46, 11.15it/s, step size=1.87e-01, acc. prob=0.893]"
     ]
    },
    {
     "name": "stderr",
     "output_type": "stream",
     "text": [
      "\r",
      "Sample:  70%|██████████████████▏       | 490/700 [00:47, 10.01it/s, step size=1.87e-01, acc. prob=0.893]"
     ]
    },
    {
     "name": "stderr",
     "output_type": "stream",
     "text": [
      "\r",
      "Sample:  70%|██████████████████▎       | 492/700 [00:47, 10.43it/s, step size=1.87e-01, acc. prob=0.893]"
     ]
    },
    {
     "name": "stderr",
     "output_type": "stream",
     "text": [
      "\r",
      "Sample:  71%|██████████████████▎       | 494/700 [00:47,  9.88it/s, step size=1.87e-01, acc. prob=0.893]"
     ]
    },
    {
     "name": "stderr",
     "output_type": "stream",
     "text": [
      "\r",
      "Sample:  71%|██████████████████▍       | 496/700 [00:47, 10.40it/s, step size=1.87e-01, acc. prob=0.893]"
     ]
    },
    {
     "name": "stderr",
     "output_type": "stream",
     "text": [
      "\r",
      "Sample:  71%|██████████████████▍       | 498/700 [00:47,  9.82it/s, step size=1.87e-01, acc. prob=0.893]"
     ]
    },
    {
     "name": "stderr",
     "output_type": "stream",
     "text": [
      "\r",
      "Sample:  71%|██████████████████▌       | 500/700 [00:48,  9.49it/s, step size=1.87e-01, acc. prob=0.893]"
     ]
    },
    {
     "name": "stderr",
     "output_type": "stream",
     "text": [
      "\r",
      "Sample:  72%|██████████████████▌       | 501/700 [00:48,  9.35it/s, step size=1.87e-01, acc. prob=0.894]"
     ]
    },
    {
     "name": "stderr",
     "output_type": "stream",
     "text": [
      "\r",
      "Sample:  72%|██████████████████▋       | 502/700 [00:48,  9.17it/s, step size=1.87e-01, acc. prob=0.893]"
     ]
    },
    {
     "name": "stderr",
     "output_type": "stream",
     "text": [
      "\r",
      "Sample:  72%|██████████████████▋       | 503/700 [00:48,  9.07it/s, step size=1.87e-01, acc. prob=0.893]"
     ]
    },
    {
     "name": "stderr",
     "output_type": "stream",
     "text": [
      "\r",
      "Sample:  72%|██████████████████▊       | 505/700 [00:48,  9.93it/s, step size=1.87e-01, acc. prob=0.894]"
     ]
    },
    {
     "name": "stderr",
     "output_type": "stream",
     "text": [
      "\r",
      "Sample:  72%|██████████████████▊       | 507/700 [00:48, 11.72it/s, step size=1.87e-01, acc. prob=0.893]"
     ]
    },
    {
     "name": "stderr",
     "output_type": "stream",
     "text": [
      "\r",
      "Sample:  73%|██████████████████▉       | 509/700 [00:49, 10.53it/s, step size=1.87e-01, acc. prob=0.893]"
     ]
    },
    {
     "name": "stderr",
     "output_type": "stream",
     "text": [
      "\r",
      "Sample:  73%|██████████████████▉       | 511/700 [00:49,  9.83it/s, step size=1.87e-01, acc. prob=0.893]"
     ]
    },
    {
     "name": "stderr",
     "output_type": "stream",
     "text": [
      "\r",
      "Sample:  73%|███████████████████       | 513/700 [00:49, 10.39it/s, step size=1.87e-01, acc. prob=0.892]"
     ]
    },
    {
     "name": "stderr",
     "output_type": "stream",
     "text": [
      "\r",
      "Sample:  74%|███████████████████▏      | 515/700 [00:49, 11.98it/s, step size=1.87e-01, acc. prob=0.892]"
     ]
    },
    {
     "name": "stderr",
     "output_type": "stream",
     "text": [
      "\r",
      "Sample:  74%|███████████████████▏      | 517/700 [00:49, 10.66it/s, step size=1.87e-01, acc. prob=0.892]"
     ]
    },
    {
     "name": "stderr",
     "output_type": "stream",
     "text": [
      "\r",
      "Sample:  74%|███████████████████▎      | 519/700 [00:50,  9.95it/s, step size=1.87e-01, acc. prob=0.892]"
     ]
    },
    {
     "name": "stderr",
     "output_type": "stream",
     "text": [
      "\r",
      "Sample:  74%|███████████████████▎      | 521/700 [00:50,  9.58it/s, step size=1.87e-01, acc. prob=0.892]"
     ]
    },
    {
     "name": "stderr",
     "output_type": "stream",
     "text": [
      "\r",
      "Sample:  75%|███████████████████▍      | 523/700 [00:50, 11.10it/s, step size=1.87e-01, acc. prob=0.892]"
     ]
    },
    {
     "name": "stderr",
     "output_type": "stream",
     "text": [
      "\r",
      "Sample:  75%|███████████████████▌      | 525/700 [00:50, 11.31it/s, step size=1.87e-01, acc. prob=0.892]"
     ]
    },
    {
     "name": "stderr",
     "output_type": "stream",
     "text": [
      "\r",
      "Sample:  75%|███████████████████▌      | 527/700 [00:50, 10.41it/s, step size=1.87e-01, acc. prob=0.892]"
     ]
    },
    {
     "name": "stderr",
     "output_type": "stream",
     "text": [
      "\r",
      "Sample:  76%|███████████████████▋      | 529/700 [00:50,  9.83it/s, step size=1.87e-01, acc. prob=0.892]"
     ]
    },
    {
     "name": "stderr",
     "output_type": "stream",
     "text": [
      "\r",
      "Sample:  76%|███████████████████▋      | 531/700 [00:51, 10.36it/s, step size=1.87e-01, acc. prob=0.892]"
     ]
    },
    {
     "name": "stderr",
     "output_type": "stream",
     "text": [
      "\r",
      "Sample:  76%|███████████████████▊      | 533/700 [00:51, 11.76it/s, step size=1.87e-01, acc. prob=0.892]"
     ]
    },
    {
     "name": "stderr",
     "output_type": "stream",
     "text": [
      "\r",
      "Sample:  76%|███████████████████▊      | 535/700 [00:51, 13.13it/s, step size=1.87e-01, acc. prob=0.893]"
     ]
    },
    {
     "name": "stderr",
     "output_type": "stream",
     "text": [
      "\r",
      "Sample:  77%|███████████████████▉      | 537/700 [00:51, 12.73it/s, step size=1.87e-01, acc. prob=0.892]"
     ]
    },
    {
     "name": "stderr",
     "output_type": "stream",
     "text": [
      "\r",
      "Sample:  77%|████████████████████      | 539/700 [00:51, 13.88it/s, step size=1.87e-01, acc. prob=0.893]"
     ]
    },
    {
     "name": "stderr",
     "output_type": "stream",
     "text": [
      "\r",
      "Sample:  77%|████████████████████      | 541/700 [00:51, 11.81it/s, step size=1.87e-01, acc. prob=0.892]"
     ]
    },
    {
     "name": "stderr",
     "output_type": "stream",
     "text": [
      "\r",
      "Sample:  78%|████████████████████▏     | 543/700 [00:52, 13.17it/s, step size=1.87e-01, acc. prob=0.893]"
     ]
    },
    {
     "name": "stderr",
     "output_type": "stream",
     "text": [
      "\r",
      "Sample:  78%|████████████████████▏     | 545/700 [00:52, 14.26it/s, step size=1.87e-01, acc. prob=0.893]"
     ]
    },
    {
     "name": "stderr",
     "output_type": "stream",
     "text": [
      "\r",
      "Sample:  78%|████████████████████▎     | 547/700 [00:52, 11.90it/s, step size=1.87e-01, acc. prob=0.893]"
     ]
    },
    {
     "name": "stderr",
     "output_type": "stream",
     "text": [
      "\r",
      "Sample:  78%|████████████████████▍     | 549/700 [00:52, 10.61it/s, step size=1.87e-01, acc. prob=0.893]"
     ]
    },
    {
     "name": "stderr",
     "output_type": "stream",
     "text": [
      "\r",
      "Sample:  79%|████████████████████▍     | 551/700 [00:52,  9.93it/s, step size=1.87e-01, acc. prob=0.893]"
     ]
    },
    {
     "name": "stderr",
     "output_type": "stream",
     "text": [
      "\r",
      "Sample:  79%|████████████████████▌     | 553/700 [00:53,  9.52it/s, step size=1.87e-01, acc. prob=0.894]"
     ]
    },
    {
     "name": "stderr",
     "output_type": "stream",
     "text": [
      "\r",
      "Sample:  79%|████████████████████▌     | 555/700 [00:53, 11.09it/s, step size=1.87e-01, acc. prob=0.894]"
     ]
    },
    {
     "name": "stderr",
     "output_type": "stream",
     "text": [
      "\r",
      "Sample:  80%|████████████████████▋     | 557/700 [00:53, 11.18it/s, step size=1.87e-01, acc. prob=0.894]"
     ]
    },
    {
     "name": "stderr",
     "output_type": "stream",
     "text": [
      "\r",
      "Sample:  80%|████████████████████▊     | 559/700 [00:53, 10.37it/s, step size=1.87e-01, acc. prob=0.894]"
     ]
    },
    {
     "name": "stderr",
     "output_type": "stream",
     "text": [
      "\r",
      "Sample:  80%|████████████████████▊     | 561/700 [00:53,  9.77it/s, step size=1.87e-01, acc. prob=0.894]"
     ]
    },
    {
     "name": "stderr",
     "output_type": "stream",
     "text": [
      "\r",
      "Sample:  80%|████████████████████▉     | 563/700 [00:53, 11.26it/s, step size=1.87e-01, acc. prob=0.895]"
     ]
    },
    {
     "name": "stderr",
     "output_type": "stream",
     "text": [
      "\r",
      "Sample:  81%|████████████████████▉     | 565/700 [00:54, 11.36it/s, step size=1.87e-01, acc. prob=0.895]"
     ]
    },
    {
     "name": "stderr",
     "output_type": "stream",
     "text": [
      "\r",
      "Sample:  81%|█████████████████████     | 567/700 [00:54, 12.78it/s, step size=1.87e-01, acc. prob=0.895]"
     ]
    },
    {
     "name": "stderr",
     "output_type": "stream",
     "text": [
      "\r",
      "Sample:  81%|█████████████████████▏    | 569/700 [00:54, 12.37it/s, step size=1.87e-01, acc. prob=0.894]"
     ]
    },
    {
     "name": "stderr",
     "output_type": "stream",
     "text": [
      "\r",
      "Sample:  82%|█████████████████████▏    | 571/700 [00:54, 11.05it/s, step size=1.87e-01, acc. prob=0.894]"
     ]
    },
    {
     "name": "stderr",
     "output_type": "stream",
     "text": [
      "\r",
      "Sample:  82%|█████████████████████▎    | 573/700 [00:54, 10.22it/s, step size=1.87e-01, acc. prob=0.894]"
     ]
    },
    {
     "name": "stderr",
     "output_type": "stream",
     "text": [
      "\r",
      "Sample:  82%|█████████████████████▎    | 575/700 [00:55,  9.74it/s, step size=1.87e-01, acc. prob=0.894]"
     ]
    },
    {
     "name": "stderr",
     "output_type": "stream",
     "text": [
      "\r",
      "Sample:  82%|█████████████████████▍    | 577/700 [00:55,  9.36it/s, step size=1.87e-01, acc. prob=0.894]"
     ]
    },
    {
     "name": "stderr",
     "output_type": "stream",
     "text": [
      "\r",
      "Sample:  83%|█████████████████████▍    | 578/700 [00:55,  9.25it/s, step size=1.87e-01, acc. prob=0.894]"
     ]
    },
    {
     "name": "stderr",
     "output_type": "stream",
     "text": [
      "\r",
      "Sample:  83%|█████████████████████▌    | 579/700 [00:55,  9.14it/s, step size=1.87e-01, acc. prob=0.894]"
     ]
    },
    {
     "name": "stderr",
     "output_type": "stream",
     "text": [
      "\r",
      "Sample:  83%|█████████████████████▌    | 581/700 [00:55, 11.05it/s, step size=1.87e-01, acc. prob=0.894]"
     ]
    },
    {
     "name": "stderr",
     "output_type": "stream",
     "text": [
      "\r",
      "Sample:  83%|█████████████████████▋    | 583/700 [00:55, 12.63it/s, step size=1.87e-01, acc. prob=0.894]"
     ]
    },
    {
     "name": "stderr",
     "output_type": "stream",
     "text": [
      "\r",
      "Sample:  84%|█████████████████████▋    | 585/700 [00:55, 12.24it/s, step size=1.87e-01, acc. prob=0.894]"
     ]
    },
    {
     "name": "stderr",
     "output_type": "stream",
     "text": [
      "\r",
      "Sample:  84%|█████████████████████▊    | 587/700 [00:56, 13.60it/s, step size=1.87e-01, acc. prob=0.894]"
     ]
    },
    {
     "name": "stderr",
     "output_type": "stream",
     "text": [
      "\r",
      "Sample:  84%|█████████████████████▉    | 589/700 [00:56, 12.97it/s, step size=1.87e-01, acc. prob=0.894]"
     ]
    },
    {
     "name": "stderr",
     "output_type": "stream",
     "text": [
      "\r",
      "Sample:  84%|█████████████████████▉    | 591/700 [00:56, 14.07it/s, step size=1.87e-01, acc. prob=0.894]"
     ]
    },
    {
     "name": "stderr",
     "output_type": "stream",
     "text": [
      "\r",
      "Sample:  85%|██████████████████████    | 593/700 [00:56, 13.25it/s, step size=1.87e-01, acc. prob=0.893]"
     ]
    },
    {
     "name": "stderr",
     "output_type": "stream",
     "text": [
      "\r",
      "Sample:  85%|██████████████████████    | 595/700 [00:56, 14.38it/s, step size=1.87e-01, acc. prob=0.893]"
     ]
    },
    {
     "name": "stderr",
     "output_type": "stream",
     "text": [
      "\r",
      "Sample:  85%|██████████████████████▏   | 597/700 [00:56, 13.43it/s, step size=1.87e-01, acc. prob=0.893]"
     ]
    },
    {
     "name": "stderr",
     "output_type": "stream",
     "text": [
      "\r",
      "Sample:  86%|██████████████████████▏   | 599/700 [00:57, 11.55it/s, step size=1.87e-01, acc. prob=0.893]"
     ]
    },
    {
     "name": "stderr",
     "output_type": "stream",
     "text": [
      "\r",
      "Sample:  86%|██████████████████████▎   | 601/700 [00:57, 12.94it/s, step size=1.87e-01, acc. prob=0.893]"
     ]
    },
    {
     "name": "stderr",
     "output_type": "stream",
     "text": [
      "\r",
      "Sample:  86%|██████████████████████▍   | 603/700 [00:57, 12.11it/s, step size=1.87e-01, acc. prob=0.893]"
     ]
    },
    {
     "name": "stderr",
     "output_type": "stream",
     "text": [
      "\r",
      "Sample:  86%|██████████████████████▍   | 605/700 [00:57, 11.77it/s, step size=1.87e-01, acc. prob=0.893]"
     ]
    },
    {
     "name": "stderr",
     "output_type": "stream",
     "text": [
      "\r",
      "Sample:  87%|██████████████████████▌   | 607/700 [00:57, 13.10it/s, step size=1.87e-01, acc. prob=0.893]"
     ]
    },
    {
     "name": "stderr",
     "output_type": "stream",
     "text": [
      "\r",
      "Sample:  87%|██████████████████████▌   | 609/700 [00:57, 14.28it/s, step size=1.87e-01, acc. prob=0.893]"
     ]
    },
    {
     "name": "stderr",
     "output_type": "stream",
     "text": [
      "\r",
      "Sample:  87%|██████████████████████▋   | 611/700 [00:57, 15.20it/s, step size=1.87e-01, acc. prob=0.893]"
     ]
    },
    {
     "name": "stderr",
     "output_type": "stream",
     "text": [
      "\r",
      "Sample:  88%|██████████████████████▊   | 613/700 [00:57, 15.79it/s, step size=1.87e-01, acc. prob=0.893]"
     ]
    },
    {
     "name": "stderr",
     "output_type": "stream",
     "text": [
      "\r",
      "Sample:  88%|██████████████████████▊   | 615/700 [00:58, 16.35it/s, step size=1.87e-01, acc. prob=0.892]"
     ]
    },
    {
     "name": "stderr",
     "output_type": "stream",
     "text": [
      "\r",
      "Sample:  88%|██████████████████████▉   | 617/700 [00:58, 16.76it/s, step size=1.87e-01, acc. prob=0.892]"
     ]
    },
    {
     "name": "stderr",
     "output_type": "stream",
     "text": [
      "\r",
      "Sample:  88%|██████████████████████▉   | 619/700 [00:58, 13.01it/s, step size=1.87e-01, acc. prob=0.892]"
     ]
    },
    {
     "name": "stderr",
     "output_type": "stream",
     "text": [
      "\r",
      "Sample:  89%|███████████████████████   | 621/700 [00:58, 14.20it/s, step size=1.87e-01, acc. prob=0.892]"
     ]
    },
    {
     "name": "stderr",
     "output_type": "stream",
     "text": [
      "\r",
      "Sample:  89%|███████████████████████▏  | 623/700 [00:58, 13.39it/s, step size=1.87e-01, acc. prob=0.892]"
     ]
    },
    {
     "name": "stderr",
     "output_type": "stream",
     "text": [
      "\r",
      "Sample:  89%|███████████████████████▏  | 625/700 [00:58, 12.79it/s, step size=1.87e-01, acc. prob=0.891]"
     ]
    },
    {
     "name": "stderr",
     "output_type": "stream",
     "text": [
      "\r",
      "Sample:  90%|███████████████████████▎  | 627/700 [00:59, 11.27it/s, step size=1.87e-01, acc. prob=0.891]"
     ]
    },
    {
     "name": "stderr",
     "output_type": "stream",
     "text": [
      "\r",
      "Sample:  90%|███████████████████████▎  | 629/700 [00:59, 10.24it/s, step size=1.87e-01, acc. prob=0.891]"
     ]
    },
    {
     "name": "stderr",
     "output_type": "stream",
     "text": [
      "\r",
      "Sample:  90%|███████████████████████▍  | 631/700 [00:59,  9.77it/s, step size=1.87e-01, acc. prob=0.891]"
     ]
    },
    {
     "name": "stderr",
     "output_type": "stream",
     "text": [
      "\r",
      "Sample:  90%|███████████████████████▌  | 633/700 [00:59, 10.23it/s, step size=1.87e-01, acc. prob=0.891]"
     ]
    },
    {
     "name": "stderr",
     "output_type": "stream",
     "text": [
      "\r",
      "Sample:  91%|███████████████████████▌  | 635/700 [00:59, 11.73it/s, step size=1.87e-01, acc. prob=0.891]"
     ]
    },
    {
     "name": "stderr",
     "output_type": "stream",
     "text": [
      "\r",
      "Sample:  91%|███████████████████████▋  | 637/700 [00:59, 11.74it/s, step size=1.87e-01, acc. prob=0.892]"
     ]
    },
    {
     "name": "stderr",
     "output_type": "stream",
     "text": [
      "\r",
      "Sample:  91%|███████████████████████▋  | 639/700 [01:00, 10.59it/s, step size=1.87e-01, acc. prob=0.892]"
     ]
    },
    {
     "name": "stderr",
     "output_type": "stream",
     "text": [
      "\r",
      "Sample:  92%|███████████████████████▊  | 641/700 [01:00, 10.81it/s, step size=1.87e-01, acc. prob=0.892]"
     ]
    },
    {
     "name": "stderr",
     "output_type": "stream",
     "text": [
      "\r",
      "Sample:  92%|███████████████████████▉  | 643/700 [01:00, 10.98it/s, step size=1.87e-01, acc. prob=0.892]"
     ]
    },
    {
     "name": "stderr",
     "output_type": "stream",
     "text": [
      "\r",
      "Sample:  92%|███████████████████████▉  | 645/700 [01:00, 10.09it/s, step size=1.87e-01, acc. prob=0.893]"
     ]
    },
    {
     "name": "stderr",
     "output_type": "stream",
     "text": [
      "\r",
      "Sample:  92%|████████████████████████  | 647/700 [01:00, 10.52it/s, step size=1.87e-01, acc. prob=0.893]"
     ]
    },
    {
     "name": "stderr",
     "output_type": "stream",
     "text": [
      "\r",
      "Sample:  93%|████████████████████████  | 649/700 [01:01, 11.71it/s, step size=1.87e-01, acc. prob=0.893]"
     ]
    },
    {
     "name": "stderr",
     "output_type": "stream",
     "text": [
      "\r",
      "Sample:  93%|████████████████████████▏ | 651/700 [01:01, 11.50it/s, step size=1.87e-01, acc. prob=0.893]"
     ]
    },
    {
     "name": "stderr",
     "output_type": "stream",
     "text": [
      "\r",
      "Sample:  93%|████████████████████████▎ | 653/700 [01:01, 12.91it/s, step size=1.87e-01, acc. prob=0.893]"
     ]
    },
    {
     "name": "stderr",
     "output_type": "stream",
     "text": [
      "\r",
      "Sample:  94%|████████████████████████▎ | 655/700 [01:01, 11.31it/s, step size=1.87e-01, acc. prob=0.892]"
     ]
    },
    {
     "name": "stderr",
     "output_type": "stream",
     "text": [
      "\r",
      "Sample:  94%|████████████████████████▍ | 657/700 [01:01, 11.38it/s, step size=1.87e-01, acc. prob=0.892]"
     ]
    },
    {
     "name": "stderr",
     "output_type": "stream",
     "text": [
      "\r",
      "Sample:  94%|████████████████████████▍ | 659/700 [01:02, 10.40it/s, step size=1.87e-01, acc. prob=0.892]"
     ]
    },
    {
     "name": "stderr",
     "output_type": "stream",
     "text": [
      "\r",
      "Sample:  94%|████████████████████████▌ | 661/700 [01:02, 11.88it/s, step size=1.87e-01, acc. prob=0.893]"
     ]
    },
    {
     "name": "stderr",
     "output_type": "stream",
     "text": [
      "\r",
      "Sample:  95%|████████████████████████▋ | 663/700 [01:02, 13.15it/s, step size=1.87e-01, acc. prob=0.893]"
     ]
    },
    {
     "name": "stderr",
     "output_type": "stream",
     "text": [
      "\r",
      "Sample:  95%|████████████████████████▋ | 665/700 [01:02, 14.19it/s, step size=1.87e-01, acc. prob=0.893]"
     ]
    },
    {
     "name": "stderr",
     "output_type": "stream",
     "text": [
      "\r",
      "Sample:  95%|████████████████████████▊ | 667/700 [01:02, 15.13it/s, step size=1.87e-01, acc. prob=0.892]"
     ]
    },
    {
     "name": "stderr",
     "output_type": "stream",
     "text": [
      "\r",
      "Sample:  96%|████████████████████████▊ | 669/700 [01:02, 15.84it/s, step size=1.87e-01, acc. prob=0.893]"
     ]
    },
    {
     "name": "stderr",
     "output_type": "stream",
     "text": [
      "\r",
      "Sample:  96%|████████████████████████▉ | 671/700 [01:02, 16.40it/s, step size=1.87e-01, acc. prob=0.893]"
     ]
    },
    {
     "name": "stderr",
     "output_type": "stream",
     "text": [
      "\r",
      "Sample:  96%|████████████████████████▉ | 673/700 [01:02, 14.57it/s, step size=1.87e-01, acc. prob=0.892]"
     ]
    },
    {
     "name": "stderr",
     "output_type": "stream",
     "text": [
      "\r",
      "Sample:  96%|█████████████████████████ | 675/700 [01:03, 13.59it/s, step size=1.87e-01, acc. prob=0.892]"
     ]
    },
    {
     "name": "stderr",
     "output_type": "stream",
     "text": [
      "\r",
      "Sample:  97%|█████████████████████████▏| 677/700 [01:03, 14.62it/s, step size=1.87e-01, acc. prob=0.892]"
     ]
    },
    {
     "name": "stderr",
     "output_type": "stream",
     "text": [
      "\r",
      "Sample:  97%|█████████████████████████▏| 679/700 [01:03, 15.35it/s, step size=1.87e-01, acc. prob=0.892]"
     ]
    },
    {
     "name": "stderr",
     "output_type": "stream",
     "text": [
      "\r",
      "Sample:  97%|█████████████████████████▎| 681/700 [01:03, 16.04it/s, step size=1.87e-01, acc. prob=0.893]"
     ]
    },
    {
     "name": "stderr",
     "output_type": "stream",
     "text": [
      "\r",
      "Sample:  98%|█████████████████████████▎| 683/700 [01:03, 14.50it/s, step size=1.87e-01, acc. prob=0.893]"
     ]
    },
    {
     "name": "stderr",
     "output_type": "stream",
     "text": [
      "\r",
      "Sample:  98%|█████████████████████████▍| 685/700 [01:03, 13.46it/s, step size=1.87e-01, acc. prob=0.893]"
     ]
    },
    {
     "name": "stderr",
     "output_type": "stream",
     "text": [
      "\r",
      "Sample:  98%|█████████████████████████▌| 687/700 [01:03, 12.90it/s, step size=1.87e-01, acc. prob=0.892]"
     ]
    },
    {
     "name": "stderr",
     "output_type": "stream",
     "text": [
      "\r",
      "Sample:  98%|█████████████████████████▌| 689/700 [01:04, 12.56it/s, step size=1.87e-01, acc. prob=0.892]"
     ]
    },
    {
     "name": "stderr",
     "output_type": "stream",
     "text": [
      "\r",
      "Sample:  99%|█████████████████████████▋| 691/700 [01:04, 11.04it/s, step size=1.87e-01, acc. prob=0.892]"
     ]
    },
    {
     "name": "stderr",
     "output_type": "stream",
     "text": [
      "\r",
      "Sample:  99%|█████████████████████████▋| 693/700 [01:04, 11.29it/s, step size=1.87e-01, acc. prob=0.892]"
     ]
    },
    {
     "name": "stderr",
     "output_type": "stream",
     "text": [
      "\r",
      "Sample:  99%|█████████████████████████▊| 695/700 [01:04, 10.33it/s, step size=1.87e-01, acc. prob=0.892]"
     ]
    },
    {
     "name": "stderr",
     "output_type": "stream",
     "text": [
      "\r",
      "Sample: 100%|█████████████████████████▉| 697/700 [01:04, 11.85it/s, step size=1.87e-01, acc. prob=0.892]"
     ]
    },
    {
     "name": "stderr",
     "output_type": "stream",
     "text": [
      "\r",
      "Sample: 100%|█████████████████████████▉| 699/700 [01:05, 10.71it/s, step size=1.87e-01, acc. prob=0.892]"
     ]
    },
    {
     "name": "stderr",
     "output_type": "stream",
     "text": [
      "\r",
      "Sample: 100%|██████████████████████████| 700/700 [01:05, 10.74it/s, step size=1.87e-01, acc. prob=0.892]"
     ]
    },
    {
     "name": "stderr",
     "output_type": "stream",
     "text": [
      "\n"
     ]
    }
   ],
   "source": [
    "samples = 500\n",
    "warm_up = 200\n",
    "\n",
    "X_torch = torch.tensor(X)\n",
    "t_torch = torch.tensor(t)\n",
    "y_torch = torch.tensor(y)\n",
    "\n",
    "\n",
    "# Initialize No U-Turn Sampler\n",
    "nuts_kernel = NUTS(model_treatment_intersection, max_tree_depth=7)\n",
    "model_mcmc = MCMC(nuts_kernel, num_samples=samples, warmup_steps=warm_up)\n",
    "\n",
    "# Run the sampler\n",
    "model_mcmc.run(X_torch, t_torch, y_torch)"
   ]
  },
  {
   "cell_type": "markdown",
   "id": "26",
   "metadata": {
    "papermill": {
     "duration": 0.087888,
     "end_time": "2021-11-29T22:15:08.210051",
     "exception": false,
     "start_time": "2021-11-29T22:15:08.122163",
     "status": "completed"
    },
    "tags": []
   },
   "source": [
    "### Sample the ATE"
   ]
  },
  {
   "cell_type": "code",
   "execution_count": 15,
   "id": "27",
   "metadata": {
    "execution": {
     "iopub.execute_input": "2021-11-29T22:15:08.382058Z",
     "iopub.status.busy": "2021-11-29T22:15:08.381537Z",
     "iopub.status.idle": "2021-11-29T22:15:08.678172Z",
     "shell.execute_reply": "2021-11-29T22:15:08.677667Z"
    },
    "papermill": {
     "duration": 0.383219,
     "end_time": "2021-11-29T22:15:08.678295",
     "exception": false,
     "start_time": "2021-11-29T22:15:08.295076",
     "status": "completed"
    },
    "tags": []
   },
   "outputs": [
    {
     "name": "stdout",
     "output_type": "stream",
     "text": [
      "Hierarchical Linear Regression\n",
      "  R-squared = 0.3604 (0.0019)\n",
      "  ATE: 0.1441\n",
      "  CI (0.025, 0.975): [0.0849, 0.2052]\n"
     ]
    }
   ],
   "source": [
    "hbr_samples = model_mcmc.get_samples()\n",
    "w_0s = hbr_samples[\"intercept\"]\n",
    "w_ts = hbr_samples[\"treatment\"]\n",
    "w_xs = hbr_samples[\"confounders\"]\n",
    "w_txs = hbr_samples[\"intersection\"]\n",
    "\n",
    "ate_hlr_samples = np.zeros(samples)\n",
    "score_samples = np.zeros(samples)\n",
    "t0 = torch.zeros_like(t_torch)\n",
    "t1 = torch.ones_like(t_torch)\n",
    "\n",
    "for s in range(samples):\n",
    "    f = predict(w_0s[s], w_ts[s], w_xs[s], w_txs[s], X_torch, t_torch)\n",
    "    f1 = predict(w_0s[s], w_ts[s], w_xs[s], w_txs[s], X_torch, t1)\n",
    "    f0 = predict(w_0s[s], w_ts[s], w_xs[s], w_txs[s], X_torch, t0)\n",
    "    ate_hlr_samples[s] = f1.mean() - f0.mean()\n",
    "    score_samples[s] = r2_score(y, f)\n",
    "\n",
    "ate_hlr = ate_hlr_samples.mean()\n",
    "ci_hlr = mstats.mquantiles(ate_hlr_samples, prob=[0.025, 0.975])\n",
    "\n",
    "print(\"Hierarchical Linear Regression\")\n",
    "print(f\"  R-squared = {score_samples.mean():.4f} ({score_samples.std():.4f})\")\n",
    "print(f\"  ATE: {ate_hlr:.4f}\")\n",
    "print(f\"  CI (0.025, 0.975): [{ci_hlr[0]:.4f}, {ci_hlr[1]:.4f}]\")"
   ]
  },
  {
   "cell_type": "code",
   "execution_count": 16,
   "id": "28",
   "metadata": {
    "execution": {
     "iopub.execute_input": "2021-11-29T22:15:08.867690Z",
     "iopub.status.busy": "2021-11-29T22:15:08.866960Z",
     "iopub.status.idle": "2021-11-29T22:15:09.056818Z",
     "shell.execute_reply": "2021-11-29T22:15:09.057156Z"
    },
    "papermill": {
     "duration": 0.287515,
     "end_time": "2021-11-29T22:15:09.057285",
     "exception": false,
     "start_time": "2021-11-29T22:15:08.769770",
     "status": "completed"
    },
    "tags": []
   },
   "outputs": [
    {
     "data": {
      "image/png": "[encoded data removed]",
      "text/plain": [
       "<Figure size 900x600 with 1 Axes>"
      ]
     },
     "metadata": {
      "needs_background": "light"
     },
     "output_type": "display_data"
    }
   ],
   "source": [
    "plt.figure(dpi=150)\n",
    "cnt, *_ = plt.hist(ate_hlr_samples, bins=20)\n",
    "plt.plot([ate_hlr, ate_hlr], [0, max(cnt)], 'r', label=\"mean\")\n",
    "plt.title(\"HLR ATE samples\")\n",
    "plt.xlabel(\"ATE\")\n",
    "plt.ylabel(\"counts\")\n",
    "plt.grid()\n",
    "plt.legend()\n",
    "plt.show()"
   ]
  },
  {
   "cell_type": "markdown",
   "id": "29",
   "metadata": {
    "papermill": {
     "duration": 0.082523,
     "end_time": "2021-11-29T22:15:09.226331",
     "exception": false,
     "start_time": "2021-11-29T22:15:09.143808",
     "status": "completed"
    },
    "tags": []
   },
   "source": [
    "## Plot ATE"
   ]
  },
  {
   "cell_type": "code",
   "execution_count": 17,
   "id": "30",
   "metadata": {
    "execution": {
     "iopub.execute_input": "2021-11-29T22:15:09.415491Z",
     "iopub.status.busy": "2021-11-29T22:15:09.414915Z",
     "iopub.status.idle": "2021-11-29T22:15:09.524305Z",
     "shell.execute_reply": "2021-11-29T22:15:09.524800Z"
    },
    "papermill": {
     "duration": 0.216986,
     "end_time": "2021-11-29T22:15:09.524960",
     "exception": false,
     "start_time": "2021-11-29T22:15:09.307974",
     "status": "completed"
    },
    "tags": []
   },
   "outputs": [
    {
     "data": {
      "image/png": "[encoded data removed]",
      "text/plain": [
       "<Figure size 900x600 with 1 Axes>"
      ]
     },
     "metadata": {
      "needs_background": "light"
     },
     "output_type": "display_data"
    }
   ],
   "source": [
    "ate_labels = [\"OLS\", \"Bayesian Linear\", \"Gaussian Process\", \"Hierarchical Linear\"]\n",
    "ate = [ate_ols, ate_blr, ate_gp, ate_hlr]\n",
    "ci = [ci_ols, ci_blr, ci_gp, ci_hlr]\n",
    "ind = np.arange(len(ate))\n",
    "\n",
    "plt.figure(dpi=150)\n",
    "plt.vlines(ind, ymin=[c[0] for c in ci], ymax=[c[1] for c in ci], colors='k', linewidth=3)\n",
    "plt.plot(ind, ate, 'rx', markersize=10)\n",
    "plt.xticks(ind, labels=ate_labels, rotation=30)\n",
    "plt.grid()\n",
    "plt.show()"
   ]
  },
  {
   "cell_type": "code",
   "execution_count": null,
   "id": "31",
   "metadata": {
    "papermill": {
     "duration": 0.083488,
     "end_time": "2021-11-29T22:15:09.702617",
     "exception": false,
     "start_time": "2021-11-29T22:15:09.619129",
     "status": "completed"
    },
    "tags": []
   },
   "outputs": [],
   "source": []
  }
 ],
 "metadata": {
  "celltoolbar": "Tags",
  "kernelspec": {
   "display_name": "Python 3 (ipykernel)",
   "language": "python",
   "name": "python3"
  },
  "language_info": {
   "codemirror_mode": {
    "name": "ipython",
    "version": 3
   },
   "file_extension": ".py",
   "mimetype": "text/x-python",
   "name": "python",
   "nbconvert_exporter": "python",
   "pygments_lexer": "ipython3",
   "version": "3.9.9"
  },
  "papermill": {
   "default_parameters": {},
   "duration": 908.204112,
   "end_time": "2021-11-29T22:15:10.293944",
   "environment_variables": {},
   "exception": null,
   "input_path": "Direct-Bayesian.ipynb",
   "output_path": "results/Direct-Bayesian-lasso-50-restricted.ipynb",
   "parameters": {
    "configuration_name": "lasso-50-restricted",
    "data_file": "data/all_lasso_selected_50_restricted.csv",
    "laplace_prior": false,
    "outcome": "y_wsce",
    "release": "restricted",
    "test": false,
    "treatment": "redufl",
    "xval_gp": true
   },
   "start_time": "2021-11-29T22:00:02.089832",
   "version": "2.3.3"
  }
 },
 "nbformat": 4,
 "nbformat_minor": 5
}
