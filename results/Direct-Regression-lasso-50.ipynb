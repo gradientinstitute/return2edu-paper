{
 "cells": [
  {
   "cell_type": "markdown",
   "id": "0",
   "metadata": {
    "papermill": {
     "duration": 0.037006,
     "end_time": "2021-11-19T15:37:31.707105",
     "exception": false,
     "start_time": "2021-11-19T15:37:31.670099",
     "status": "completed"
    },
    "tags": []
   },
   "source": [
    "# Direct Regression"
   ]
  },
  {
   "cell_type": "code",
   "execution_count": 1,
   "id": "1",
   "metadata": {
    "execution": {
     "iopub.execute_input": "2021-11-19T15:37:31.788150Z",
     "iopub.status.busy": "2021-11-19T15:37:31.787850Z",
     "iopub.status.idle": "2021-11-19T15:37:32.543164Z",
     "shell.execute_reply": "2021-11-19T15:37:32.542874Z"
    },
    "papermill": {
     "duration": 0.79944,
     "end_time": "2021-11-19T15:37:32.543242",
     "exception": false,
     "start_time": "2021-11-19T15:37:31.743802",
     "status": "completed"
    },
    "tags": [
     "hide_cell"
    ]
   },
   "outputs": [],
   "source": [
    "# import libraries\n",
    "import numpy as np\n",
    "import pandas as pd\n",
    "import matplotlib.pyplot as plt\n",
    "from sklearn.linear_model import Lasso, Ridge, LinearRegression\n",
    "from sklearn.ensemble import GradientBoostingRegressor\n",
    "from sklearn.metrics import r2_score\n",
    "import pickle\n",
    "import time\n",
    "from reed import drop_missing_treatment_or_outcome, Model, transform_outcome\n",
    "\n",
    "# set global notebook options\n",
    "pd.options.display.max_columns = 200\n",
    "pd.options.display.max_rows = 500\n",
    "pd.options.display.max_colwidth = 100\n",
    "\n",
    "%matplotlib inline\n",
    "\n",
    "%load_ext autoreload\n",
    "%autoreload 2"
   ]
  },
  {
   "cell_type": "markdown",
   "id": "2",
   "metadata": {
    "papermill": {
     "duration": 0.041023,
     "end_time": "2021-11-19T15:37:32.622402",
     "exception": false,
     "start_time": "2021-11-19T15:37:32.581379",
     "status": "completed"
    },
    "tags": [
     "overview"
    ]
   },
   "source": [
    "## Response Model\n",
    "\n",
    "How well can we predict outcomes $Y$ conditional on treatment $T$ and other covariates $Z$?\n",
    "\n",
    "### Treatent variables\n",
    "\n",
    "   - **reduhl**\tCompleted re-education based on highest level of attainment\n",
    "   - **redudl**\tCompleted re-education based on detailed qualifications\n",
    "   - **redufl**\tCompleted re-education using highest lvl and detailed qualifications.\n",
    "\n",
    "### Outcome variables\n",
    "   - Mental health in 2019 (**mh**). This is the transformed mental health scores from the aggregation of mental health items of the SF-36 Health Survey, as reported by the individual in 2019. It ranges from 0 to 100, with higher scores indicating better mental health.  \n",
    "   - Working hours in 2019 (**wkhr**) records the total number of hours the individual works in all jobs in a week on average. Working hours are set to 0 for those not working. \n",
    "   - Hourly Wages in 2019 (**rlwage**) records the average hourly wage for the individual’s main job in 2019. Hourly wages are set to 0 for those not working and set to missing for those reporting working more than 100 hours a week. \n",
    "   \n",
    "#### Columns explicitly excluded\n",
    "   - **xwaveid** (unique identifier)\n",
    "   - **p_rcom*** (timing of completion of re-education, proxies treatment) TODO think about how we would include this\n",
    "   - **p_cotrl** (first avail 2003)\n",
    "   - **p_rdf*** (first avail 2012)\n",
    "   \n",
    "### (Nested) cross-validate to evaluate model performance\n",
    "![image.png](images/nested_cross_val.png)\n",
    "\n",
    "### Bootstraped cross-validation to estimate parameter uncertainty\n",
    "![image.png](images/bootstrap_validation.png)"
   ]
  },
  {
   "cell_type": "markdown",
   "id": "3",
   "metadata": {
    "papermill": {
     "duration": 0.042423,
     "end_time": "2021-11-19T15:37:32.706884",
     "exception": false,
     "start_time": "2021-11-19T15:37:32.664461",
     "status": "completed"
    },
    "tags": []
   },
   "source": [
    "#### Parameters"
   ]
  },
  {
   "cell_type": "code",
   "execution_count": 2,
   "id": "4",
   "metadata": {
    "execution": {
     "iopub.execute_input": "2021-11-19T15:37:32.795349Z",
     "iopub.status.busy": "2021-11-19T15:37:32.795040Z",
     "iopub.status.idle": "2021-11-19T15:37:32.806140Z",
     "shell.execute_reply": "2021-11-19T15:37:32.805843Z"
    },
    "papermill": {
     "duration": 0.05678,
     "end_time": "2021-11-19T15:37:32.806205",
     "exception": false,
     "start_time": "2021-11-19T15:37:32.749425",
     "status": "completed"
    },
    "tags": [
     "parameters"
    ]
   },
   "outputs": [],
   "source": [
    "optimisation_metric = 'neg_mean_squared_error'\n",
    "evaluation_metrics = ('r2','neg_mean_squared_error')\n",
    "log_outcome=True\n",
    "standardize_outcome=True\n",
    "load_from_cache=False\n",
    "exclude_patterns = [\n",
    "    '^reduhl$', '^rehllt$', '^redudl$', '^redufl$', '^redllt$', '^refllt$',\n",
    "    '^rlwage$', '^mh$', '^mhbm$', '^wkhr$', '^y_', '^p_rcom','^p_rdf','^p_cotrl',\n",
    "    '^xwaveid$','p_rcom18','^aedcq', '^abnfsty','^aedcqfpt','^aedqstdy'\n",
    "]\n",
    "data_load_func = lambda filepath: pd.read_csv(filepath, index_col='xwaveid')\n",
    "\n",
    "configuration_name = 'default'\n",
    "outcome = 'y_wsce'#'y_wsce'\n",
    "treatment = 'redufl'\n",
    "test=True\n",
    "data_file = \"data/all_lasso_selected_100.csv\""
   ]
  },
  {
   "cell_type": "code",
   "execution_count": 3,
   "id": "4cf4695f",
   "metadata": {
    "execution": {
     "iopub.execute_input": "2021-11-19T15:37:32.891709Z",
     "iopub.status.busy": "2021-11-19T15:37:32.891397Z",
     "iopub.status.idle": "2021-11-19T15:37:32.902149Z",
     "shell.execute_reply": "2021-11-19T15:37:32.901849Z"
    },
    "papermill": {
     "duration": 0.05546,
     "end_time": "2021-11-19T15:37:32.902213",
     "exception": false,
     "start_time": "2021-11-19T15:37:32.846753",
     "status": "completed"
    },
    "tags": [
     "injected-parameters"
    ]
   },
   "outputs": [],
   "source": [
    "# Parameters\n",
    "configuration_name = \"lasso-50\"\n",
    "outcome = \"y_wsce\"\n",
    "treatment = \"redufl\"\n",
    "test = False\n",
    "data_file = \"data/all_lasso_selected_50.csv\"\n"
   ]
  },
  {
   "cell_type": "code",
   "execution_count": 4,
   "id": "5",
   "metadata": {
    "execution": {
     "iopub.execute_input": "2021-11-19T15:37:32.988519Z",
     "iopub.status.busy": "2021-11-19T15:37:32.988189Z",
     "iopub.status.idle": "2021-11-19T15:37:32.998868Z",
     "shell.execute_reply": "2021-11-19T15:37:32.998517Z"
    },
    "papermill": {
     "duration": 0.055886,
     "end_time": "2021-11-19T15:37:32.998932",
     "exception": false,
     "start_time": "2021-11-19T15:37:32.943046",
     "status": "completed"
    },
    "tags": []
   },
   "outputs": [],
   "source": [
    "# parameters that depend on those set above (which may have been inserted by Papermill)\n",
    "if test:\n",
    "    inner_cv = 2\n",
    "    outer_cv = 2\n",
    "    bootstrap_samples = 3\n",
    "\n",
    "else:\n",
    "    inner_cv = 5\n",
    "    outer_cv = 10\n",
    "    bootstrap_samples = 50\n",
    "\n",
    "cross_val_cache = f\"data/cross-val-{configuration_name}.pkl\"#\"data/cross-val-all.pkl\"\n",
    "bootstrap_cache = f\"data/bootstrap-{configuration_name}.pkl\"#\"data/bootstrap-all.pkl\""
   ]
  },
  {
   "cell_type": "markdown",
   "id": "6",
   "metadata": {
    "papermill": {
     "duration": 0.042852,
     "end_time": "2021-11-19T15:37:33.082478",
     "exception": false,
     "start_time": "2021-11-19T15:37:33.039626",
     "status": "completed"
    },
    "tags": []
   },
   "source": [
    "### Load Data \n",
    "   - drop rows missing the specified treatment or outcome"
   ]
  },
  {
   "cell_type": "code",
   "execution_count": 5,
   "id": "7",
   "metadata": {
    "execution": {
     "iopub.execute_input": "2021-11-19T15:37:33.170605Z",
     "iopub.status.busy": "2021-11-19T15:37:33.170294Z",
     "iopub.status.idle": "2021-11-19T15:37:33.300889Z",
     "shell.execute_reply": "2021-11-19T15:37:33.300549Z"
    },
    "papermill": {
     "duration": 0.175808,
     "end_time": "2021-11-19T15:37:33.300967",
     "exception": false,
     "start_time": "2021-11-19T15:37:33.125159",
     "status": "completed"
    },
    "tags": [
     "hide_input"
    ]
   },
   "outputs": [
    {
     "name": "stdout",
     "output_type": "stream",
     "text": [
      "Dropped 284 rows missing treatment or outcome.\n"
     ]
    },
    {
     "data": {
      "image/png": "[encoded data removed]",
      "text/plain": [
       "<Figure size 432x288 with 1 Axes>"
      ]
     },
     "metadata": {
      "needs_background": "light"
     },
     "output_type": "display_data"
    }
   ],
   "source": [
    "data = data_load_func(data_file)\n",
    "drop_missing_treatment_or_outcome(data, treatment, outcome)\n",
    "data[outcome] = transform_outcome(data[outcome],log_outcome, standardize_outcome)\n",
    "\n",
    "    \n",
    "plt.hist(data[outcome])\n",
    "plt.xlabel(outcome)\n",
    "plt.ylabel(\"count\")\n",
    "plt.title(\"Distribution of outcomes\");"
   ]
  },
  {
   "cell_type": "markdown",
   "id": "8",
   "metadata": {
    "papermill": {
     "duration": 0.043315,
     "end_time": "2021-11-19T15:37:33.386975",
     "exception": false,
     "start_time": "2021-11-19T15:37:33.343660",
     "status": "completed"
    },
    "tags": []
   },
   "source": [
    "### Set up models\n",
    "Specify which models to use and the hyper-parameter space to search over for each"
   ]
  },
  {
   "cell_type": "code",
   "execution_count": 6,
   "id": "9",
   "metadata": {
    "execution": {
     "iopub.execute_input": "2021-11-19T15:37:33.479040Z",
     "iopub.status.busy": "2021-11-19T15:37:33.478715Z",
     "iopub.status.idle": "2021-11-19T15:37:33.490849Z",
     "shell.execute_reply": "2021-11-19T15:37:33.490533Z"
    },
    "papermill": {
     "duration": 0.060034,
     "end_time": "2021-11-19T15:37:33.490913",
     "exception": false,
     "start_time": "2021-11-19T15:37:33.430879",
     "status": "completed"
    },
    "tags": [
     "hide_input"
    ]
   },
   "outputs": [],
   "source": [
    "from sklearn.linear_model import Lasso, Ridge\n",
    "from sklearn.ensemble import GradientBoostingRegressor\n",
    "from direct_regression import importance_from_coef\n",
    "\n",
    "def construct_models():\n",
    "    models = [\n",
    "        Model('ridge',Ridge(), \n",
    "              parameters = {\n",
    "                  'alpha':np.logspace(-1,4,30)\n",
    "              },\n",
    "              importance_func=importance_from_coef\n",
    "        ),\n",
    "        Model('lasso',Lasso(),\n",
    "              parameters = {\n",
    "                  'alpha':np.logspace(-2,4,30)\n",
    "              },\n",
    "              importance_func=importance_from_coef\n",
    "        ), \n",
    "        Model('gbr',GradientBoostingRegressor(n_iter_no_change=20, max_depth=2),\n",
    "              parameters = {\n",
    "                'max_features':np.linspace(0,1,6)[1:],\n",
    "                'learning_rate':np.logspace(-3,0,10),\n",
    "                'min_samples_leaf':np.logspace(0,3,10).astype(int)\n",
    "              }\n",
    "        ),\n",
    "    ]\n",
    "    return models\n",
    "\n",
    "# used for quick tests\n",
    "def construct_test_models(): \n",
    "    models = [\n",
    "        Model('Ridge',Ridge(),\n",
    "              parameters = {'alpha':np.logspace(1,4,2)},\n",
    "              importance_func=importance_from_coef\n",
    "        ),\n",
    "        Model('gbr',GradientBoostingRegressor(n_iter_no_change=20, max_depth=2),\n",
    "              parameters = {\n",
    "                'max_features':np.linspace(0,1,4)[1:],\n",
    "              }\n",
    "        ),\n",
    "    ]\n",
    "    return models\n",
    "\n",
    "model_init = construct_test_models if test else construct_models"
   ]
  },
  {
   "cell_type": "markdown",
   "id": "10",
   "metadata": {
    "papermill": {
     "duration": 0.044528,
     "end_time": "2021-11-19T15:37:33.577956",
     "exception": false,
     "start_time": "2021-11-19T15:37:33.533428",
     "status": "completed"
    },
    "tags": []
   },
   "source": [
    "### Prepare data for modeling\n",
    "   - split into treated/control\n",
    "   - impute missing values and scale\n",
    "   - separate features from outcomes&treatments"
   ]
  },
  {
   "cell_type": "code",
   "execution_count": 7,
   "id": "11",
   "metadata": {
    "execution": {
     "iopub.execute_input": "2021-11-19T15:37:33.669676Z",
     "iopub.status.busy": "2021-11-19T15:37:33.669375Z",
     "iopub.status.idle": "2021-11-19T15:37:33.688921Z",
     "shell.execute_reply": "2021-11-19T15:37:33.689148Z"
    },
    "papermill": {
     "duration": 0.066613,
     "end_time": "2021-11-19T15:37:33.689239",
     "exception": false,
     "start_time": "2021-11-19T15:37:33.622626",
     "status": "completed"
    },
    "tags": [
     "hide_input"
    ]
   },
   "outputs": [
    {
     "name": "stdout",
     "output_type": "stream",
     "text": [
      "Control data dimensions:  (3789, 47)\n",
      "Treated data dimensions: (1368, 47)\n"
     ]
    }
   ],
   "source": [
    "from direct_regression import seperate_and_transform_data\n",
    "X0, X1, y0, y1, X, y, t, features = seperate_and_transform_data(data, treatment, outcome)\n",
    "print(\"Control data dimensions: \",X0.shape)\n",
    "print(\"Treated data dimensions:\",X1.shape)"
   ]
  },
  {
   "cell_type": "markdown",
   "id": "12",
   "metadata": {
    "papermill": {
     "duration": 0.044984,
     "end_time": "2021-11-19T15:37:33.777528",
     "exception": false,
     "start_time": "2021-11-19T15:37:33.732544",
     "status": "completed"
    },
    "tags": []
   },
   "source": [
    "### Compute unconditional/unadjusted estimate of treatment effect"
   ]
  },
  {
   "cell_type": "code",
   "execution_count": 8,
   "id": "13",
   "metadata": {
    "execution": {
     "iopub.execute_input": "2021-11-19T15:37:33.869721Z",
     "iopub.status.busy": "2021-11-19T15:37:33.869412Z",
     "iopub.status.idle": "2021-11-19T15:37:33.880988Z",
     "shell.execute_reply": "2021-11-19T15:37:33.881233Z"
    },
    "papermill": {
     "duration": 0.058794,
     "end_time": "2021-11-19T15:37:33.881314",
     "exception": false,
     "start_time": "2021-11-19T15:37:33.822520",
     "status": "completed"
    },
    "tags": [
     "hide_input"
    ]
   },
   "outputs": [
    {
     "name": "stdout",
     "output_type": "stream",
     "text": [
      "Proportion Treated:27%\n",
      "Average outcome under Control:-0.14±0.02\n",
      "Average outcome under Treatment:0.37±0.03\n",
      "Unadjusted treatment estimate 0.51\n"
     ]
    }
   ],
   "source": [
    "from direct_regression import print_unconditional_effects\n",
    "print_unconditional_effects(data, treatment, y0, y1)"
   ]
  },
  {
   "cell_type": "markdown",
   "id": "14",
   "metadata": {
    "papermill": {
     "duration": 0.045606,
     "end_time": "2021-11-19T15:37:33.971400",
     "exception": false,
     "start_time": "2021-11-19T15:37:33.925794",
     "status": "completed"
    },
    "tags": []
   },
   "source": [
    "### Propensity model\n",
    "\n",
    "- Run primarily to check for violations over overlap assumptions."
   ]
  },
  {
   "cell_type": "code",
   "execution_count": 9,
   "id": "15",
   "metadata": {
    "execution": {
     "iopub.execute_input": "2021-11-19T15:37:34.065822Z",
     "iopub.status.busy": "2021-11-19T15:37:34.065510Z",
     "iopub.status.idle": "2021-11-19T15:37:34.934903Z",
     "shell.execute_reply": "2021-11-19T15:37:34.935555Z"
    },
    "papermill": {
     "duration": 0.918608,
     "end_time": "2021-11-19T15:37:34.935757",
     "exception": false,
     "start_time": "2021-11-19T15:37:34.017149",
     "status": "completed"
    },
    "tags": [
     "hide_cell"
    ]
   },
   "outputs": [],
   "source": [
    "from reed import visualise_propensity_model_performance\n",
    "from sklearn.model_selection import train_test_split\n",
    "from sklearn.linear_model import LogisticRegression, LogisticRegressionCV\n",
    "\n",
    "X_train, X_test, t_train, t_test = train_test_split(X,t,stratify=t)\n",
    "pmodel = LogisticRegressionCV(Cs = np.logspace(-5,-1,20), penalty='l2', max_iter=10000)\n",
    "pmodel.fit(X_train, t_train);"
   ]
  },
  {
   "cell_type": "code",
   "execution_count": 10,
   "id": "16",
   "metadata": {
    "execution": {
     "iopub.execute_input": "2021-11-19T15:37:35.109527Z",
     "iopub.status.busy": "2021-11-19T15:37:35.108742Z",
     "iopub.status.idle": "2021-11-19T15:37:35.379940Z",
     "shell.execute_reply": "2021-11-19T15:37:35.379612Z"
    },
    "papermill": {
     "duration": 0.33523,
     "end_time": "2021-11-19T15:37:35.380018",
     "exception": false,
     "start_time": "2021-11-19T15:37:35.044788",
     "status": "completed"
    },
    "tags": [
     "hide_input"
    ]
   },
   "outputs": [
    {
     "data": {
      "image/png": "[encoded data removed]",
      "text/plain": [
       "<Figure size 1080x360 with 2 Axes>"
      ]
     },
     "metadata": {
      "needs_background": "light"
     },
     "output_type": "display_data"
    }
   ],
   "source": [
    "visualise_propensity_model_performance(t_test, pmodel.predict_proba(X_test)[:,1],'l2-logistic',bins=10)"
   ]
  },
  {
   "cell_type": "code",
   "execution_count": 11,
   "id": "17",
   "metadata": {
    "execution": {
     "iopub.execute_input": "2021-11-19T15:37:35.478693Z",
     "iopub.status.busy": "2021-11-19T15:37:35.477003Z",
     "iopub.status.idle": "2021-11-19T15:37:35.508943Z",
     "shell.execute_reply": "2021-11-19T15:37:35.508614Z"
    },
    "papermill": {
     "duration": 0.082877,
     "end_time": "2021-11-19T15:37:35.509017",
     "exception": false,
     "start_time": "2021-11-19T15:37:35.426140",
     "status": "completed"
    },
    "tags": [
     "hide_input"
    ]
   },
   "outputs": [
    {
     "name": "stdout",
     "output_type": "stream",
     "text": [
      "Propensity Model Coefficients\n"
     ]
    },
    {
     "data": {
      "text/html": [
       "<div>\n",
       "<style scoped>\n",
       "    .dataframe tbody tr th:only-of-type {\n",
       "        vertical-align: middle;\n",
       "    }\n",
       "\n",
       "    .dataframe tbody tr th {\n",
       "        vertical-align: top;\n",
       "    }\n",
       "\n",
       "    .dataframe thead th {\n",
       "        text-align: right;\n",
       "    }\n",
       "</style>\n",
       "<table border=\"1\" class=\"dataframe\">\n",
       "  <thead>\n",
       "    <tr style=\"text-align: right;\">\n",
       "      <th></th>\n",
       "      <th>label</th>\n",
       "      <th>c</th>\n",
       "      <th>abs</th>\n",
       "    </tr>\n",
       "  </thead>\n",
       "  <tbody>\n",
       "    <tr>\n",
       "      <th>atcyng</th>\n",
       "      <td>DV: Age youngest own child (excl. resident foster/step)</td>\n",
       "      <td>-0.258415</td>\n",
       "      <td>0.258415</td>\n",
       "    </tr>\n",
       "    <tr>\n",
       "      <th>ahgage1</th>\n",
       "      <td>DV: Age last birthday at June 30 2001 - person 01</td>\n",
       "      <td>-0.235326</td>\n",
       "      <td>0.235326</td>\n",
       "    </tr>\n",
       "    <tr>\n",
       "      <th>awscoef</th>\n",
       "      <td>DV: Imputation flag current weekly gross wages &amp; salary - other jobs</td>\n",
       "      <td>0.182449</td>\n",
       "      <td>0.182449</td>\n",
       "    </tr>\n",
       "    <tr>\n",
       "      <th>atcnr</th>\n",
       "      <td>DV: Number of own non-resident children</td>\n",
       "      <td>-0.146909</td>\n",
       "      <td>0.146909</td>\n",
       "    </tr>\n",
       "    <tr>\n",
       "      <th>ahgsex</th>\n",
       "      <td>HF3 Sex</td>\n",
       "      <td>0.127557</td>\n",
       "      <td>0.127557</td>\n",
       "    </tr>\n",
       "    <tr>\n",
       "      <th>ajsl4wk</th>\n",
       "      <td>F1 Looked for work in last 4 weeks</td>\n",
       "      <td>0.114262</td>\n",
       "      <td>0.114262</td>\n",
       "    </tr>\n",
       "    <tr>\n",
       "      <th>aehtjbyr</th>\n",
       "      <td>D3a1 Years in paid work</td>\n",
       "      <td>-0.107796</td>\n",
       "      <td>0.107796</td>\n",
       "    </tr>\n",
       "    <tr>\n",
       "      <th>ajbmwpsz</th>\n",
       "      <td>E33 Number employed at place of work</td>\n",
       "      <td>0.106643</td>\n",
       "      <td>0.106643</td>\n",
       "    </tr>\n",
       "    <tr>\n",
       "      <th>amhn10yr</th>\n",
       "      <td>K12 How many homes lived in during last 10 years</td>\n",
       "      <td>0.100227</td>\n",
       "      <td>0.100227</td>\n",
       "    </tr>\n",
       "    <tr>\n",
       "      <th>agh3a</th>\n",
       "      <td>SCQ:A3a Physical Functioning: Vigorous activities</td>\n",
       "      <td>0.098223</td>\n",
       "      <td>0.098223</td>\n",
       "    </tr>\n",
       "    <tr>\n",
       "      <th>acpno</th>\n",
       "      <td>Q9 Uses child care while at work - Number of not yet at school children</td>\n",
       "      <td>-0.093945</td>\n",
       "      <td>0.093945</td>\n",
       "    </tr>\n",
       "    <tr>\n",
       "      <th>ahgms</th>\n",
       "      <td>HF8 Living circumstances</td>\n",
       "      <td>0.089645</td>\n",
       "      <td>0.089645</td>\n",
       "    </tr>\n",
       "    <tr>\n",
       "      <th>ahhd1014</th>\n",
       "      <td>DV: Number of dependent children aged 10-14 (includes partner's children)</td>\n",
       "      <td>0.084972</td>\n",
       "      <td>0.084972</td>\n",
       "    </tr>\n",
       "    <tr>\n",
       "      <th>ahelthyr</th>\n",
       "      <td>K5 Did condition first develop in last 12 months</td>\n",
       "      <td>-0.066081</td>\n",
       "      <td>0.066081</td>\n",
       "    </tr>\n",
       "    <tr>\n",
       "      <th>ajbmpgj</th>\n",
       "      <td>E29 Percent chance will find and accept job at least as good as current job</td>\n",
       "      <td>0.064787</td>\n",
       "      <td>0.064787</td>\n",
       "    </tr>\n",
       "    <tr>\n",
       "      <th>aedqobd</th>\n",
       "      <td>C7a Qualifications obtained - Bachelor degree but not honours</td>\n",
       "      <td>-0.061360</td>\n",
       "      <td>0.061360</td>\n",
       "    </tr>\n",
       "    <tr>\n",
       "      <th>abncapuf</th>\n",
       "      <td>DV: Imputation flag current weekly Australian public transfers excluding family benefits</td>\n",
       "      <td>0.058326</td>\n",
       "      <td>0.058326</td>\n",
       "    </tr>\n",
       "    <tr>\n",
       "      <th>aoirntf</th>\n",
       "      <td>DV: Imputation flag financial year rental income including nil</td>\n",
       "      <td>0.057908</td>\n",
       "      <td>0.057908</td>\n",
       "    </tr>\n",
       "    <tr>\n",
       "      <th>aedqoms</th>\n",
       "      <td>C7a Qualifications obtained - Masters degree</td>\n",
       "      <td>-0.057339</td>\n",
       "      <td>0.057339</td>\n",
       "    </tr>\n",
       "    <tr>\n",
       "      <th>ancsex1</th>\n",
       "      <td>H3c Sex of child - Non-resident child 0001</td>\n",
       "      <td>0.056499</td>\n",
       "      <td>0.056499</td>\n",
       "    </tr>\n",
       "  </tbody>\n",
       "</table>\n",
       "</div>"
      ],
      "text/plain": [
       "                                                                                             label  \\\n",
       "atcyng                                     DV: Age youngest own child (excl. resident foster/step)   \n",
       "ahgage1                                          DV: Age last birthday at June 30 2001 - person 01   \n",
       "awscoef                       DV: Imputation flag current weekly gross wages & salary - other jobs   \n",
       "atcnr                                                      DV: Number of own non-resident children   \n",
       "ahgsex                                                                                     HF3 Sex   \n",
       "ajsl4wk                                                         F1 Looked for work in last 4 weeks   \n",
       "aehtjbyr                                                                   D3a1 Years in paid work   \n",
       "ajbmwpsz                                                      E33 Number employed at place of work   \n",
       "amhn10yr                                          K12 How many homes lived in during last 10 years   \n",
       "agh3a                                            SCQ:A3a Physical Functioning: Vigorous activities   \n",
       "acpno                      Q9 Uses child care while at work - Number of not yet at school children   \n",
       "ahgms                                                                     HF8 Living circumstances   \n",
       "ahhd1014                 DV: Number of dependent children aged 10-14 (includes partner's children)   \n",
       "ahelthyr                                          K5 Did condition first develop in last 12 months   \n",
       "ajbmpgj                E29 Percent chance will find and accept job at least as good as current job   \n",
       "aedqobd                              C7a Qualifications obtained - Bachelor degree but not honours   \n",
       "abncapuf  DV: Imputation flag current weekly Australian public transfers excluding family benefits   \n",
       "aoirntf                             DV: Imputation flag financial year rental income including nil   \n",
       "aedqoms                                               C7a Qualifications obtained - Masters degree   \n",
       "ancsex1                                                 H3c Sex of child - Non-resident child 0001   \n",
       "\n",
       "                 c       abs  \n",
       "atcyng   -0.258415  0.258415  \n",
       "ahgage1  -0.235326  0.235326  \n",
       "awscoef   0.182449  0.182449  \n",
       "atcnr    -0.146909  0.146909  \n",
       "ahgsex    0.127557  0.127557  \n",
       "ajsl4wk   0.114262  0.114262  \n",
       "aehtjbyr -0.107796  0.107796  \n",
       "ajbmwpsz  0.106643  0.106643  \n",
       "amhn10yr  0.100227  0.100227  \n",
       "agh3a     0.098223  0.098223  \n",
       "acpno    -0.093945  0.093945  \n",
       "ahgms     0.089645  0.089645  \n",
       "ahhd1014  0.084972  0.084972  \n",
       "ahelthyr -0.066081  0.066081  \n",
       "ajbmpgj   0.064787  0.064787  \n",
       "aedqobd  -0.061360  0.061360  \n",
       "abncapuf  0.058326  0.058326  \n",
       "aoirntf   0.057908  0.057908  \n",
       "aedqoms  -0.057339  0.057339  \n",
       "ancsex1   0.056499  0.056499  "
      ]
     },
     "execution_count": 11,
     "metadata": {},
     "output_type": "execute_result"
    }
   ],
   "source": [
    "def propensity_coefficients(model, features):\n",
    "    if hasattr(model,'best_estimator_'):\n",
    "        model = model.best_estimator_\n",
    "    coef = model.coef_[0]\n",
    "    \n",
    "    with open('data/metadata.pkl','rb') as f:\n",
    "        meta = pickle.load(f)\n",
    "        labels = [meta.column_names_to_labels.get(f) for f in features]\n",
    "    return pd.DataFrame({'label': labels, \"c\":coef,'abs':np.abs(coef)},index=features).sort_values(by='abs',ascending=False).head(50)\n",
    "print(\"Propensity Model Coefficients\")      \n",
    "propensity_coefficients(pmodel, features).head(20)"
   ]
  },
  {
   "cell_type": "code",
   "execution_count": 12,
   "id": "18",
   "metadata": {
    "execution": {
     "iopub.execute_input": "2021-11-19T15:37:35.607513Z",
     "iopub.status.busy": "2021-11-19T15:37:35.607189Z",
     "iopub.status.idle": "2021-11-19T15:58:20.111832Z",
     "shell.execute_reply": "2021-11-19T15:58:20.112081Z"
    },
    "papermill": {
     "duration": 1244.556288,
     "end_time": "2021-11-19T15:58:20.112180",
     "exception": false,
     "start_time": "2021-11-19T15:37:35.555892",
     "status": "completed"
    },
    "tags": [
     "hide_cell"
    ]
   },
   "outputs": [
    {
     "name": "stdout",
     "output_type": "stream",
     "text": [
      "Fitting ridge ...Fitting 5 folds for each of 30 candidates, totalling 150 fits\n"
     ]
    },
    {
     "name": "stdout",
     "output_type": "stream",
     "text": [
      "Fitting 5 folds for each of 30 candidates, totalling 150 fits\n"
     ]
    },
    {
     "name": "stdout",
     "output_type": "stream",
     "text": [
      "Fitting 5 folds for each of 30 candidates, totalling 150 fits\n"
     ]
    },
    {
     "name": "stdout",
     "output_type": "stream",
     "text": [
      "Fitting 5 folds for each of 30 candidates, totalling 150 fits\n"
     ]
    },
    {
     "name": "stdout",
     "output_type": "stream",
     "text": [
      "Fitting 5 folds for each of 30 candidates, totalling 150 fits\n"
     ]
    },
    {
     "name": "stdout",
     "output_type": "stream",
     "text": [
      "Fitting 5 folds for each of 30 candidates, totalling 150 fits\n"
     ]
    },
    {
     "name": "stdout",
     "output_type": "stream",
     "text": [
      "Fitting 5 folds for each of 30 candidates, totalling 150 fits\n"
     ]
    },
    {
     "name": "stdout",
     "output_type": "stream",
     "text": [
      "Fitting 5 folds for each of 30 candidates, totalling 150 fits\n"
     ]
    },
    {
     "name": "stdout",
     "output_type": "stream",
     "text": [
      "Fitting 5 folds for each of 30 candidates, totalling 150 fits\n"
     ]
    },
    {
     "name": "stdout",
     "output_type": "stream",
     "text": [
      "Fitting 5 folds for each of 30 candidates, totalling 150 fits\n"
     ]
    },
    {
     "name": "stdout",
     "output_type": "stream",
     "text": [
      "Fitting 5 folds for each of 30 candidates, totalling 150 fits\n"
     ]
    },
    {
     "name": "stdout",
     "output_type": "stream",
     "text": [
      "Fitting 5 folds for each of 30 candidates, totalling 150 fits\n",
      "Fitting 5 folds for each of 30 candidates, totalling 150 fits\n"
     ]
    },
    {
     "name": "stdout",
     "output_type": "stream",
     "text": [
      "Fitting 5 folds for each of 30 candidates, totalling 150 fits\n",
      "Fitting 5 folds for each of 30 candidates, totalling 150 fits\n"
     ]
    },
    {
     "name": "stdout",
     "output_type": "stream",
     "text": [
      "Fitting 5 folds for each of 30 candidates, totalling 150 fits\n",
      "Fitting 5 folds for each of 30 candidates, totalling 150 fits\n"
     ]
    },
    {
     "name": "stdout",
     "output_type": "stream",
     "text": [
      "Fitting 5 folds for each of 30 candidates, totalling 150 fits\n",
      "Fitting 5 folds for each of 30 candidates, totalling 150 fits\n"
     ]
    },
    {
     "name": "stdout",
     "output_type": "stream",
     "text": [
      "Fitting 5 folds for each of 30 candidates, totalling 150 fits\n",
      "Done\n",
      "Fitting lasso ...Fitting 5 folds for each of 30 candidates, totalling 150 fits\n"
     ]
    },
    {
     "name": "stdout",
     "output_type": "stream",
     "text": [
      "Fitting 5 folds for each of 30 candidates, totalling 150 fits\n"
     ]
    },
    {
     "name": "stdout",
     "output_type": "stream",
     "text": [
      "Fitting 5 folds for each of 30 candidates, totalling 150 fits\n"
     ]
    },
    {
     "name": "stdout",
     "output_type": "stream",
     "text": [
      "Fitting 5 folds for each of 30 candidates, totalling 150 fits\n"
     ]
    },
    {
     "name": "stdout",
     "output_type": "stream",
     "text": [
      "Fitting 5 folds for each of 30 candidates, totalling 150 fits\n"
     ]
    },
    {
     "name": "stdout",
     "output_type": "stream",
     "text": [
      "Fitting 5 folds for each of 30 candidates, totalling 150 fits\n"
     ]
    },
    {
     "name": "stdout",
     "output_type": "stream",
     "text": [
      "Fitting 5 folds for each of 30 candidates, totalling 150 fits\n"
     ]
    },
    {
     "name": "stdout",
     "output_type": "stream",
     "text": [
      "Fitting 5 folds for each of 30 candidates, totalling 150 fits\n"
     ]
    },
    {
     "name": "stdout",
     "output_type": "stream",
     "text": [
      "Fitting 5 folds for each of 30 candidates, totalling 150 fits\n"
     ]
    },
    {
     "name": "stdout",
     "output_type": "stream",
     "text": [
      "Fitting 5 folds for each of 30 candidates, totalling 150 fits\n"
     ]
    },
    {
     "name": "stdout",
     "output_type": "stream",
     "text": [
      "Fitting 5 folds for each of 30 candidates, totalling 150 fits\n",
      "Fitting 5 folds for each of 30 candidates, totalling 150 fits\n"
     ]
    },
    {
     "name": "stdout",
     "output_type": "stream",
     "text": [
      "Fitting 5 folds for each of 30 candidates, totalling 150 fits\n",
      "Fitting 5 folds for each of 30 candidates, totalling 150 fits\n"
     ]
    },
    {
     "name": "stdout",
     "output_type": "stream",
     "text": [
      "Fitting 5 folds for each of 30 candidates, totalling 150 fits\n",
      "Fitting 5 folds for each of 30 candidates, totalling 150 fits\n"
     ]
    },
    {
     "name": "stdout",
     "output_type": "stream",
     "text": [
      "Fitting 5 folds for each of 30 candidates, totalling 150 fits\n",
      "Fitting 5 folds for each of 30 candidates, totalling 150 fits\n"
     ]
    },
    {
     "name": "stdout",
     "output_type": "stream",
     "text": [
      "Fitting 5 folds for each of 30 candidates, totalling 150 fits\n",
      "Fitting 5 folds for each of 30 candidates, totalling 150 fits\n"
     ]
    },
    {
     "name": "stdout",
     "output_type": "stream",
     "text": [
      "Done\n",
      "Fitting gbr ...Fitting 5 folds for each of 500 candidates, totalling 2500 fits\n"
     ]
    },
    {
     "name": "stdout",
     "output_type": "stream",
     "text": [
      "Fitting 5 folds for each of 500 candidates, totalling 2500 fits\n"
     ]
    },
    {
     "name": "stdout",
     "output_type": "stream",
     "text": [
      "Fitting 5 folds for each of 500 candidates, totalling 2500 fits\n"
     ]
    },
    {
     "name": "stdout",
     "output_type": "stream",
     "text": [
      "Fitting 5 folds for each of 500 candidates, totalling 2500 fits\n"
     ]
    },
    {
     "name": "stdout",
     "output_type": "stream",
     "text": [
      "Fitting 5 folds for each of 500 candidates, totalling 2500 fits\n"
     ]
    },
    {
     "name": "stdout",
     "output_type": "stream",
     "text": [
      "Fitting 5 folds for each of 500 candidates, totalling 2500 fits\n"
     ]
    },
    {
     "name": "stdout",
     "output_type": "stream",
     "text": [
      "Fitting 5 folds for each of 500 candidates, totalling 2500 fits\n"
     ]
    },
    {
     "name": "stdout",
     "output_type": "stream",
     "text": [
      "Fitting 5 folds for each of 500 candidates, totalling 2500 fits\n"
     ]
    },
    {
     "name": "stdout",
     "output_type": "stream",
     "text": [
      "Fitting 5 folds for each of 500 candidates, totalling 2500 fits\n"
     ]
    },
    {
     "name": "stdout",
     "output_type": "stream",
     "text": [
      "Fitting 5 folds for each of 500 candidates, totalling 2500 fits\n"
     ]
    },
    {
     "name": "stdout",
     "output_type": "stream",
     "text": [
      "Fitting 5 folds for each of 500 candidates, totalling 2500 fits\n"
     ]
    },
    {
     "name": "stdout",
     "output_type": "stream",
     "text": [
      "Fitting 5 folds for each of 500 candidates, totalling 2500 fits\n"
     ]
    },
    {
     "name": "stdout",
     "output_type": "stream",
     "text": [
      "Fitting 5 folds for each of 500 candidates, totalling 2500 fits\n"
     ]
    },
    {
     "name": "stdout",
     "output_type": "stream",
     "text": [
      "Fitting 5 folds for each of 500 candidates, totalling 2500 fits\n"
     ]
    },
    {
     "name": "stdout",
     "output_type": "stream",
     "text": [
      "Fitting 5 folds for each of 500 candidates, totalling 2500 fits\n"
     ]
    },
    {
     "name": "stdout",
     "output_type": "stream",
     "text": [
      "Fitting 5 folds for each of 500 candidates, totalling 2500 fits\n"
     ]
    },
    {
     "name": "stdout",
     "output_type": "stream",
     "text": [
      "Fitting 5 folds for each of 500 candidates, totalling 2500 fits\n"
     ]
    },
    {
     "name": "stdout",
     "output_type": "stream",
     "text": [
      "Fitting 5 folds for each of 500 candidates, totalling 2500 fits\n"
     ]
    },
    {
     "name": "stdout",
     "output_type": "stream",
     "text": [
      "Fitting 5 folds for each of 500 candidates, totalling 2500 fits\n"
     ]
    },
    {
     "name": "stdout",
     "output_type": "stream",
     "text": [
      "Fitting 5 folds for each of 500 candidates, totalling 2500 fits\n"
     ]
    },
    {
     "name": "stdout",
     "output_type": "stream",
     "text": [
      "Done\n",
      "Caching results to data/cross-val-lasso-50.pkl\n"
     ]
    }
   ],
   "source": [
    "from direct_regression import nested_cross_val\n",
    "\n",
    "models0, models1, results = nested_cross_val(\n",
    "    model_init,\n",
    "    cross_val_cache,\n",
    "    X0, X1, y0, y1,\n",
    "    optimisation_metric,\n",
    "    evaluation_metrics,\n",
    "    innercv=inner_cv,\n",
    "    outercv=outer_cv,\n",
    "    load_from_cache=load_from_cache\n",
    ")"
   ]
  },
  {
   "cell_type": "markdown",
   "id": "19",
   "metadata": {
    "papermill": {
     "duration": 0.071991,
     "end_time": "2021-11-19T15:58:20.254197",
     "exception": false,
     "start_time": "2021-11-19T15:58:20.182206",
     "status": "completed"
    },
    "tags": []
   },
   "source": [
    "### Report estimate ATE and model performance\n",
    "\n",
    "  - Mean and Std of prediction performance for each model (both treatment & control surface)\n",
    "  - Mean and Std of average treatment effect for each model"
   ]
  },
  {
   "cell_type": "code",
   "execution_count": 13,
   "id": "20",
   "metadata": {
    "execution": {
     "iopub.execute_input": "2021-11-19T15:58:20.402363Z",
     "iopub.status.busy": "2021-11-19T15:58:20.402060Z",
     "iopub.status.idle": "2021-11-19T15:58:20.896892Z",
     "shell.execute_reply": "2021-11-19T15:58:20.896565Z"
    },
    "papermill": {
     "duration": 0.570326,
     "end_time": "2021-11-19T15:58:20.896968",
     "exception": false,
     "start_time": "2021-11-19T15:58:20.326642",
     "status": "completed"
    },
    "scrolled": true,
    "tags": []
   },
   "outputs": [
    {
     "data": {
      "text/html": [
       "<div>\n",
       "<style scoped>\n",
       "    .dataframe tbody tr th:only-of-type {\n",
       "        vertical-align: middle;\n",
       "    }\n",
       "\n",
       "    .dataframe tbody tr th {\n",
       "        vertical-align: top;\n",
       "    }\n",
       "\n",
       "    .dataframe thead th {\n",
       "        text-align: right;\n",
       "    }\n",
       "</style>\n",
       "<table border=\"1\" class=\"dataframe\">\n",
       "  <thead>\n",
       "    <tr style=\"text-align: right;\">\n",
       "      <th></th>\n",
       "      <th>ACE</th>\n",
       "      <th>ACE_std</th>\n",
       "      <th>control_r2</th>\n",
       "      <th>control_r2_std</th>\n",
       "      <th>treated_r2</th>\n",
       "      <th>treated_r2_std</th>\n",
       "      <th>control_neg_mean_squared_error</th>\n",
       "      <th>control_neg_mean_squared_error_std</th>\n",
       "      <th>treated_neg_mean_squared_error</th>\n",
       "      <th>treated_neg_mean_squared_error_std</th>\n",
       "    </tr>\n",
       "  </thead>\n",
       "  <tbody>\n",
       "    <tr>\n",
       "      <th>ridge</th>\n",
       "      <td>0.16</td>\n",
       "      <td>0.01</td>\n",
       "      <td>0.35</td>\n",
       "      <td>0.04</td>\n",
       "      <td>0.19</td>\n",
       "      <td>0.06</td>\n",
       "      <td>-0.59</td>\n",
       "      <td>0.03</td>\n",
       "      <td>-0.82</td>\n",
       "      <td>0.08</td>\n",
       "    </tr>\n",
       "    <tr>\n",
       "      <th>lasso</th>\n",
       "      <td>0.15</td>\n",
       "      <td>0.02</td>\n",
       "      <td>0.35</td>\n",
       "      <td>0.04</td>\n",
       "      <td>0.19</td>\n",
       "      <td>0.06</td>\n",
       "      <td>-0.59</td>\n",
       "      <td>0.04</td>\n",
       "      <td>-0.82</td>\n",
       "      <td>0.06</td>\n",
       "    </tr>\n",
       "    <tr>\n",
       "      <th>gbr</th>\n",
       "      <td>0.15</td>\n",
       "      <td>0.02</td>\n",
       "      <td>0.45</td>\n",
       "      <td>0.03</td>\n",
       "      <td>0.24</td>\n",
       "      <td>0.06</td>\n",
       "      <td>-0.51</td>\n",
       "      <td>0.03</td>\n",
       "      <td>-0.77</td>\n",
       "      <td>0.06</td>\n",
       "    </tr>\n",
       "  </tbody>\n",
       "</table>\n",
       "</div>"
      ],
      "text/plain": [
       "       ACE  ACE_std  control_r2  control_r2_std  treated_r2  treated_r2_std  \\\n",
       "ridge 0.16     0.01        0.35            0.04        0.19            0.06   \n",
       "lasso 0.15     0.02        0.35            0.04        0.19            0.06   \n",
       "gbr   0.15     0.02        0.45            0.03        0.24            0.06   \n",
       "\n",
       "       control_neg_mean_squared_error  control_neg_mean_squared_error_std  \\\n",
       "ridge                           -0.59                                0.03   \n",
       "lasso                           -0.59                                0.04   \n",
       "gbr                             -0.51                                0.03   \n",
       "\n",
       "       treated_neg_mean_squared_error  treated_neg_mean_squared_error_std  \n",
       "ridge                           -0.82                                0.08  \n",
       "lasso                           -0.82                                0.06  \n",
       "gbr                             -0.77                                0.06  "
      ]
     },
     "metadata": {},
     "output_type": "display_data"
    },
    {
     "data": {
      "image/png": "[encoded data removed]",
      "text/plain": [
       "<Figure size 1080x360 with 2 Axes>"
      ]
     },
     "metadata": {
      "needs_background": "light"
     },
     "output_type": "display_data"
    }
   ],
   "source": [
    "from direct_regression import visualise_ate\n",
    "metrics, ate_vals = visualise_ate(results,X,evaluation_metrics);"
   ]
  },
  {
   "cell_type": "code",
   "execution_count": 14,
   "id": "21",
   "metadata": {
    "execution": {
     "iopub.execute_input": "2021-11-19T15:58:21.042711Z",
     "iopub.status.busy": "2021-11-19T15:58:21.042409Z",
     "iopub.status.idle": "2021-11-19T15:58:21.346146Z",
     "shell.execute_reply": "2021-11-19T15:58:21.345872Z"
    },
    "papermill": {
     "duration": 0.379138,
     "end_time": "2021-11-19T15:58:21.346226",
     "exception": false,
     "start_time": "2021-11-19T15:58:20.967088",
     "status": "completed"
    },
    "tags": []
   },
   "outputs": [
    {
     "data": {
      "image/png": "[encoded data removed]",
      "text/plain": [
       "<Figure size 1080x360 with 3 Axes>"
      ]
     },
     "metadata": {
      "needs_background": "light"
     },
     "output_type": "display_data"
    }
   ],
   "source": [
    "from direct_regression import plot_ate_distribution\n",
    "plot_ate_distribution(ate_vals)"
   ]
  },
  {
   "cell_type": "code",
   "execution_count": 15,
   "id": "22",
   "metadata": {
    "execution": {
     "iopub.execute_input": "2021-11-19T15:58:21.494363Z",
     "iopub.status.busy": "2021-11-19T15:58:21.494060Z",
     "iopub.status.idle": "2021-11-19T15:58:22.376709Z",
     "shell.execute_reply": "2021-11-19T15:58:22.376382Z"
    },
    "papermill": {
     "duration": 0.95928,
     "end_time": "2021-11-19T15:58:22.376785",
     "exception": false,
     "start_time": "2021-11-19T15:58:21.417505",
     "status": "completed"
    },
    "tags": []
   },
   "outputs": [
    {
     "data": {
      "image/png": "[encoded data removed]",
      "text/plain": [
       "<Figure size 360x288 with 1 Axes>"
      ]
     },
     "metadata": {
      "needs_background": "light"
     },
     "output_type": "display_data"
    },
    {
     "data": {
      "image/png": "[encoded data removed]",
      "text/plain": [
       "<Figure size 360x288 with 1 Axes>"
      ]
     },
     "metadata": {
      "needs_background": "light"
     },
     "output_type": "display_data"
    },
    {
     "data": {
      "image/png": "[encoded data removed]",
      "text/plain": [
       "<Figure size 360x288 with 1 Axes>"
      ]
     },
     "metadata": {
      "needs_background": "light"
     },
     "output_type": "display_data"
    },
    {
     "data": {
      "image/png": "[encoded data removed]",
      "text/plain": [
       "<Figure size 360x288 with 1 Axes>"
      ]
     },
     "metadata": {
      "needs_background": "light"
     },
     "output_type": "display_data"
    },
    {
     "data": {
      "image/png": "[encoded data removed]",
      "text/plain": [
       "<Figure size 1080x288 with 3 Axes>"
      ]
     },
     "metadata": {
      "needs_background": "light"
     },
     "output_type": "display_data"
    },
    {
     "data": {
      "image/png": "[encoded data removed]",
      "text/plain": [
       "<Figure size 1080x288 with 3 Axes>"
      ]
     },
     "metadata": {
      "needs_background": "light"
     },
     "output_type": "display_data"
    }
   ],
   "source": [
    "from direct_regression import plot_hyperparam_distributions\n",
    "for model, (results0, results1) in results.items():\n",
    "    plot_hyperparam_distributions(results0,f\"{model}-control\")\n",
    "    plot_hyperparam_distributions(results1,f\"{model}-treated\")"
   ]
  },
  {
   "cell_type": "markdown",
   "id": "23",
   "metadata": {
    "papermill": {
     "duration": 0.08076,
     "end_time": "2021-11-19T15:58:22.536027",
     "exception": false,
     "start_time": "2021-11-19T15:58:22.455267",
     "status": "completed"
    },
    "tags": []
   },
   "source": [
    "### Visualise models\n",
    "- Features responsible for treatment effect heterogeneity & functional form (with uncertainty)\n",
    "      - coefficeints for linear models\n",
    "      - TODO permutation importance & partial dependence curves for non-linear models"
   ]
  },
  {
   "cell_type": "code",
   "execution_count": 16,
   "id": "24",
   "metadata": {
    "execution": {
     "iopub.execute_input": "2021-11-19T15:58:22.702048Z",
     "iopub.status.busy": "2021-11-19T15:58:22.701745Z",
     "iopub.status.idle": "2021-11-19T15:58:22.769576Z",
     "shell.execute_reply": "2021-11-19T15:58:22.769808Z"
    },
    "papermill": {
     "duration": 0.152114,
     "end_time": "2021-11-19T15:58:22.769898",
     "exception": false,
     "start_time": "2021-11-19T15:58:22.617784",
     "status": "completed"
    },
    "tags": [
     "hide_input"
    ]
   },
   "outputs": [
    {
     "name": "stdout",
     "output_type": "stream",
     "text": [
      "ridge\n"
     ]
    },
    {
     "data": {
      "text/html": [
       "<div>\n",
       "<style scoped>\n",
       "    .dataframe tbody tr th:only-of-type {\n",
       "        vertical-align: middle;\n",
       "    }\n",
       "\n",
       "    .dataframe tbody tr th {\n",
       "        vertical-align: top;\n",
       "    }\n",
       "\n",
       "    .dataframe thead th {\n",
       "        text-align: right;\n",
       "    }\n",
       "</style>\n",
       "<table border=\"1\" class=\"dataframe\">\n",
       "  <thead>\n",
       "    <tr style=\"text-align: right;\">\n",
       "      <th></th>\n",
       "      <th>importance_mean</th>\n",
       "      <th>importance_std</th>\n",
       "      <th>Δcoef_mean</th>\n",
       "      <th>Δcoef_std</th>\n",
       "      <th>coef_treat_mean</th>\n",
       "      <th>coef_treat_std</th>\n",
       "      <th>coef_cntr_mean</th>\n",
       "      <th>coef_cntr_std</th>\n",
       "    </tr>\n",
       "    <tr>\n",
       "      <th>feature</th>\n",
       "      <th></th>\n",
       "      <th></th>\n",
       "      <th></th>\n",
       "      <th></th>\n",
       "      <th></th>\n",
       "      <th></th>\n",
       "      <th></th>\n",
       "      <th></th>\n",
       "    </tr>\n",
       "  </thead>\n",
       "  <tbody>\n",
       "    <tr>\n",
       "      <th>ahgage1</th>\n",
       "      <td>0.169001</td>\n",
       "      <td>0.005353</td>\n",
       "      <td>-0.014434</td>\n",
       "      <td>0.017840</td>\n",
       "      <td>-0.176218</td>\n",
       "      <td>0.012403</td>\n",
       "      <td>-0.161784</td>\n",
       "      <td>0.007913</td>\n",
       "    </tr>\n",
       "    <tr>\n",
       "      <th>atcyng</th>\n",
       "      <td>0.138880</td>\n",
       "      <td>0.002997</td>\n",
       "      <td>-0.040960</td>\n",
       "      <td>0.011687</td>\n",
       "      <td>-0.159360</td>\n",
       "      <td>0.007394</td>\n",
       "      <td>-0.118399</td>\n",
       "      <td>0.005619</td>\n",
       "    </tr>\n",
       "    <tr>\n",
       "      <th>atcnr</th>\n",
       "      <td>0.115540</td>\n",
       "      <td>0.004148</td>\n",
       "      <td>-0.051121</td>\n",
       "      <td>0.006657</td>\n",
       "      <td>-0.141101</td>\n",
       "      <td>0.006202</td>\n",
       "      <td>-0.089979</td>\n",
       "      <td>0.004256</td>\n",
       "    </tr>\n",
       "    <tr>\n",
       "      <th>aehtjbyr</th>\n",
       "      <td>0.098181</td>\n",
       "      <td>0.005866</td>\n",
       "      <td>-0.016539</td>\n",
       "      <td>0.010739</td>\n",
       "      <td>-0.106450</td>\n",
       "      <td>0.010441</td>\n",
       "      <td>-0.089911</td>\n",
       "      <td>0.004181</td>\n",
       "    </tr>\n",
       "    <tr>\n",
       "      <th>ahifapti</th>\n",
       "      <td>0.078116</td>\n",
       "      <td>0.007435</td>\n",
       "      <td>-0.020728</td>\n",
       "      <td>0.012094</td>\n",
       "      <td>-0.088480</td>\n",
       "      <td>0.013089</td>\n",
       "      <td>-0.067752</td>\n",
       "      <td>0.003517</td>\n",
       "    </tr>\n",
       "    <tr>\n",
       "      <th>awscme</th>\n",
       "      <td>0.066786</td>\n",
       "      <td>0.004966</td>\n",
       "      <td>-0.087917</td>\n",
       "      <td>0.013306</td>\n",
       "      <td>0.022827</td>\n",
       "      <td>0.009706</td>\n",
       "      <td>0.110745</td>\n",
       "      <td>0.006605</td>\n",
       "    </tr>\n",
       "    <tr>\n",
       "      <th>agh3a</th>\n",
       "      <td>0.066195</td>\n",
       "      <td>0.001937</td>\n",
       "      <td>0.003223</td>\n",
       "      <td>0.007906</td>\n",
       "      <td>0.067806</td>\n",
       "      <td>0.004883</td>\n",
       "      <td>0.064583</td>\n",
       "      <td>0.003860</td>\n",
       "    </tr>\n",
       "    <tr>\n",
       "      <th>ahh0_4</th>\n",
       "      <td>0.056434</td>\n",
       "      <td>0.004577</td>\n",
       "      <td>-0.031723</td>\n",
       "      <td>0.008140</td>\n",
       "      <td>0.040572</td>\n",
       "      <td>0.007144</td>\n",
       "      <td>0.072296</td>\n",
       "      <td>0.004898</td>\n",
       "    </tr>\n",
       "    <tr>\n",
       "      <th>aicprob</th>\n",
       "      <td>0.051805</td>\n",
       "      <td>0.005139</td>\n",
       "      <td>-0.022046</td>\n",
       "      <td>0.010812</td>\n",
       "      <td>0.040782</td>\n",
       "      <td>0.007234</td>\n",
       "      <td>0.062828</td>\n",
       "      <td>0.007678</td>\n",
       "    </tr>\n",
       "    <tr>\n",
       "      <th>ahiwsfei</th>\n",
       "      <td>0.044260</td>\n",
       "      <td>0.004612</td>\n",
       "      <td>0.088519</td>\n",
       "      <td>0.009223</td>\n",
       "      <td>0.049619</td>\n",
       "      <td>0.007385</td>\n",
       "      <td>-0.038901</td>\n",
       "      <td>0.008644</td>\n",
       "    </tr>\n",
       "    <tr>\n",
       "      <th>atifditp</th>\n",
       "      <td>0.038493</td>\n",
       "      <td>0.005177</td>\n",
       "      <td>0.034258</td>\n",
       "      <td>0.013005</td>\n",
       "      <td>0.055622</td>\n",
       "      <td>0.011275</td>\n",
       "      <td>0.021364</td>\n",
       "      <td>0.003324</td>\n",
       "    </tr>\n",
       "    <tr>\n",
       "      <th>awsfe</th>\n",
       "      <td>0.038237</td>\n",
       "      <td>0.009177</td>\n",
       "      <td>-0.043165</td>\n",
       "      <td>0.019664</td>\n",
       "      <td>0.016655</td>\n",
       "      <td>0.017213</td>\n",
       "      <td>0.059820</td>\n",
       "      <td>0.008092</td>\n",
       "    </tr>\n",
       "    <tr>\n",
       "      <th>aoirntf</th>\n",
       "      <td>0.038091</td>\n",
       "      <td>0.006530</td>\n",
       "      <td>0.006569</td>\n",
       "      <td>0.011212</td>\n",
       "      <td>-0.034807</td>\n",
       "      <td>0.010623</td>\n",
       "      <td>-0.041376</td>\n",
       "      <td>0.005941</td>\n",
       "    </tr>\n",
       "    <tr>\n",
       "      <th>aoidvryf</th>\n",
       "      <td>0.036718</td>\n",
       "      <td>0.003450</td>\n",
       "      <td>-0.011207</td>\n",
       "      <td>0.005778</td>\n",
       "      <td>-0.042321</td>\n",
       "      <td>0.005359</td>\n",
       "      <td>-0.031114</td>\n",
       "      <td>0.003433</td>\n",
       "    </tr>\n",
       "    <tr>\n",
       "      <th>ajbmpgj</th>\n",
       "      <td>0.032481</td>\n",
       "      <td>0.004293</td>\n",
       "      <td>-0.030945</td>\n",
       "      <td>0.007638</td>\n",
       "      <td>0.016810</td>\n",
       "      <td>0.007773</td>\n",
       "      <td>0.047755</td>\n",
       "      <td>0.003926</td>\n",
       "    </tr>\n",
       "    <tr>\n",
       "      <th>abncapuf</th>\n",
       "      <td>0.031409</td>\n",
       "      <td>0.004220</td>\n",
       "      <td>0.062817</td>\n",
       "      <td>0.008441</td>\n",
       "      <td>0.045080</td>\n",
       "      <td>0.006907</td>\n",
       "      <td>-0.017738</td>\n",
       "      <td>0.005752</td>\n",
       "    </tr>\n",
       "    <tr>\n",
       "      <th>aoifinvp</th>\n",
       "      <td>0.031012</td>\n",
       "      <td>0.006174</td>\n",
       "      <td>-0.008937</td>\n",
       "      <td>0.010081</td>\n",
       "      <td>-0.035480</td>\n",
       "      <td>0.009710</td>\n",
       "      <td>-0.026543</td>\n",
       "      <td>0.005725</td>\n",
       "    </tr>\n",
       "    <tr>\n",
       "      <th>awscoef</th>\n",
       "      <td>0.029647</td>\n",
       "      <td>0.006626</td>\n",
       "      <td>0.051918</td>\n",
       "      <td>0.016439</td>\n",
       "      <td>0.054027</td>\n",
       "      <td>0.014030</td>\n",
       "      <td>0.002109</td>\n",
       "      <td>0.006448</td>\n",
       "    </tr>\n",
       "    <tr>\n",
       "      <th>afmagelh</th>\n",
       "      <td>0.029644</td>\n",
       "      <td>0.006149</td>\n",
       "      <td>-0.012233</td>\n",
       "      <td>0.008993</td>\n",
       "      <td>0.023527</td>\n",
       "      <td>0.009201</td>\n",
       "      <td>0.035760</td>\n",
       "      <td>0.005603</td>\n",
       "    </tr>\n",
       "    <tr>\n",
       "      <th>awscef</th>\n",
       "      <td>0.028703</td>\n",
       "      <td>0.006849</td>\n",
       "      <td>-0.057108</td>\n",
       "      <td>0.013911</td>\n",
       "      <td>-0.046894</td>\n",
       "      <td>0.011721</td>\n",
       "      <td>0.010214</td>\n",
       "      <td>0.006111</td>\n",
       "    </tr>\n",
       "  </tbody>\n",
       "</table>\n",
       "</div>"
      ],
      "text/plain": [
       "          importance_mean  importance_std  Δcoef_mean  Δcoef_std  \\\n",
       "feature                                                            \n",
       "ahgage1          0.169001        0.005353   -0.014434   0.017840   \n",
       "atcyng           0.138880        0.002997   -0.040960   0.011687   \n",
       "atcnr            0.115540        0.004148   -0.051121   0.006657   \n",
       "aehtjbyr         0.098181        0.005866   -0.016539   0.010739   \n",
       "ahifapti         0.078116        0.007435   -0.020728   0.012094   \n",
       "awscme           0.066786        0.004966   -0.087917   0.013306   \n",
       "agh3a            0.066195        0.001937    0.003223   0.007906   \n",
       "ahh0_4           0.056434        0.004577   -0.031723   0.008140   \n",
       "aicprob          0.051805        0.005139   -0.022046   0.010812   \n",
       "ahiwsfei         0.044260        0.004612    0.088519   0.009223   \n",
       "atifditp         0.038493        0.005177    0.034258   0.013005   \n",
       "awsfe            0.038237        0.009177   -0.043165   0.019664   \n",
       "aoirntf          0.038091        0.006530    0.006569   0.011212   \n",
       "aoidvryf         0.036718        0.003450   -0.011207   0.005778   \n",
       "ajbmpgj          0.032481        0.004293   -0.030945   0.007638   \n",
       "abncapuf         0.031409        0.004220    0.062817   0.008441   \n",
       "aoifinvp         0.031012        0.006174   -0.008937   0.010081   \n",
       "awscoef          0.029647        0.006626    0.051918   0.016439   \n",
       "afmagelh         0.029644        0.006149   -0.012233   0.008993   \n",
       "awscef           0.028703        0.006849   -0.057108   0.013911   \n",
       "\n",
       "          coef_treat_mean  coef_treat_std  coef_cntr_mean  coef_cntr_std  \n",
       "feature                                                                   \n",
       "ahgage1         -0.176218        0.012403       -0.161784       0.007913  \n",
       "atcyng          -0.159360        0.007394       -0.118399       0.005619  \n",
       "atcnr           -0.141101        0.006202       -0.089979       0.004256  \n",
       "aehtjbyr        -0.106450        0.010441       -0.089911       0.004181  \n",
       "ahifapti        -0.088480        0.013089       -0.067752       0.003517  \n",
       "awscme           0.022827        0.009706        0.110745       0.006605  \n",
       "agh3a            0.067806        0.004883        0.064583       0.003860  \n",
       "ahh0_4           0.040572        0.007144        0.072296       0.004898  \n",
       "aicprob          0.040782        0.007234        0.062828       0.007678  \n",
       "ahiwsfei         0.049619        0.007385       -0.038901       0.008644  \n",
       "atifditp         0.055622        0.011275        0.021364       0.003324  \n",
       "awsfe            0.016655        0.017213        0.059820       0.008092  \n",
       "aoirntf         -0.034807        0.010623       -0.041376       0.005941  \n",
       "aoidvryf        -0.042321        0.005359       -0.031114       0.003433  \n",
       "ajbmpgj          0.016810        0.007773        0.047755       0.003926  \n",
       "abncapuf         0.045080        0.006907       -0.017738       0.005752  \n",
       "aoifinvp        -0.035480        0.009710       -0.026543       0.005725  \n",
       "awscoef          0.054027        0.014030        0.002109       0.006448  \n",
       "afmagelh         0.023527        0.009201        0.035760       0.005603  \n",
       "awscef          -0.046894        0.011721        0.010214       0.006111  "
      ]
     },
     "metadata": {},
     "output_type": "display_data"
    },
    {
     "name": "stdout",
     "output_type": "stream",
     "text": [
      "lasso\n"
     ]
    },
    {
     "data": {
      "text/html": [
       "<div>\n",
       "<style scoped>\n",
       "    .dataframe tbody tr th:only-of-type {\n",
       "        vertical-align: middle;\n",
       "    }\n",
       "\n",
       "    .dataframe tbody tr th {\n",
       "        vertical-align: top;\n",
       "    }\n",
       "\n",
       "    .dataframe thead th {\n",
       "        text-align: right;\n",
       "    }\n",
       "</style>\n",
       "<table border=\"1\" class=\"dataframe\">\n",
       "  <thead>\n",
       "    <tr style=\"text-align: right;\">\n",
       "      <th></th>\n",
       "      <th>importance_mean</th>\n",
       "      <th>importance_std</th>\n",
       "      <th>Δcoef_mean</th>\n",
       "      <th>Δcoef_std</th>\n",
       "      <th>coef_treat_mean</th>\n",
       "      <th>coef_treat_std</th>\n",
       "      <th>coef_cntr_mean</th>\n",
       "      <th>coef_cntr_std</th>\n",
       "    </tr>\n",
       "    <tr>\n",
       "      <th>feature</th>\n",
       "      <th></th>\n",
       "      <th></th>\n",
       "      <th></th>\n",
       "      <th></th>\n",
       "      <th></th>\n",
       "      <th></th>\n",
       "      <th></th>\n",
       "      <th></th>\n",
       "    </tr>\n",
       "  </thead>\n",
       "  <tbody>\n",
       "    <tr>\n",
       "      <th>ahgage1</th>\n",
       "      <td>0.203809</td>\n",
       "      <td>0.005309</td>\n",
       "      <td>-0.030440</td>\n",
       "      <td>0.015861</td>\n",
       "      <td>-0.219029</td>\n",
       "      <td>0.011863</td>\n",
       "      <td>-0.188589</td>\n",
       "      <td>0.006435</td>\n",
       "    </tr>\n",
       "    <tr>\n",
       "      <th>atcyng</th>\n",
       "      <td>0.163000</td>\n",
       "      <td>0.009681</td>\n",
       "      <td>-0.076343</td>\n",
       "      <td>0.022539</td>\n",
       "      <td>-0.201172</td>\n",
       "      <td>0.020277</td>\n",
       "      <td>-0.124829</td>\n",
       "      <td>0.005503</td>\n",
       "    </tr>\n",
       "    <tr>\n",
       "      <th>atcnr</th>\n",
       "      <td>0.117742</td>\n",
       "      <td>0.006735</td>\n",
       "      <td>-0.065983</td>\n",
       "      <td>0.015528</td>\n",
       "      <td>-0.150733</td>\n",
       "      <td>0.014010</td>\n",
       "      <td>-0.084751</td>\n",
       "      <td>0.003876</td>\n",
       "    </tr>\n",
       "    <tr>\n",
       "      <th>aehtjbyr</th>\n",
       "      <td>0.080508</td>\n",
       "      <td>0.008312</td>\n",
       "      <td>-0.005006</td>\n",
       "      <td>0.018952</td>\n",
       "      <td>-0.083011</td>\n",
       "      <td>0.017081</td>\n",
       "      <td>-0.078005</td>\n",
       "      <td>0.005098</td>\n",
       "    </tr>\n",
       "    <tr>\n",
       "      <th>awscme</th>\n",
       "      <td>0.072412</td>\n",
       "      <td>0.004198</td>\n",
       "      <td>-0.119977</td>\n",
       "      <td>0.019011</td>\n",
       "      <td>0.012423</td>\n",
       "      <td>0.009404</td>\n",
       "      <td>0.132401</td>\n",
       "      <td>0.011293</td>\n",
       "    </tr>\n",
       "    <tr>\n",
       "      <th>ahifapti</th>\n",
       "      <td>0.066971</td>\n",
       "      <td>0.007319</td>\n",
       "      <td>-0.018648</td>\n",
       "      <td>0.016303</td>\n",
       "      <td>-0.076295</td>\n",
       "      <td>0.014587</td>\n",
       "      <td>-0.057648</td>\n",
       "      <td>0.005219</td>\n",
       "    </tr>\n",
       "    <tr>\n",
       "      <th>agh3a</th>\n",
       "      <td>0.059165</td>\n",
       "      <td>0.006267</td>\n",
       "      <td>-0.003132</td>\n",
       "      <td>0.011962</td>\n",
       "      <td>0.057599</td>\n",
       "      <td>0.011615</td>\n",
       "      <td>0.060731</td>\n",
       "      <td>0.003896</td>\n",
       "    </tr>\n",
       "    <tr>\n",
       "      <th>aicprob</th>\n",
       "      <td>0.046086</td>\n",
       "      <td>0.004687</td>\n",
       "      <td>-0.025179</td>\n",
       "      <td>0.014120</td>\n",
       "      <td>0.033496</td>\n",
       "      <td>0.008870</td>\n",
       "      <td>0.058676</td>\n",
       "      <td>0.008058</td>\n",
       "    </tr>\n",
       "    <tr>\n",
       "      <th>ahiwsfei</th>\n",
       "      <td>0.036059</td>\n",
       "      <td>0.006343</td>\n",
       "      <td>0.072117</td>\n",
       "      <td>0.012686</td>\n",
       "      <td>0.042883</td>\n",
       "      <td>0.007982</td>\n",
       "      <td>-0.029234</td>\n",
       "      <td>0.007759</td>\n",
       "    </tr>\n",
       "    <tr>\n",
       "      <th>ahh0_4</th>\n",
       "      <td>0.035409</td>\n",
       "      <td>0.003896</td>\n",
       "      <td>-0.058238</td>\n",
       "      <td>0.009058</td>\n",
       "      <td>0.006290</td>\n",
       "      <td>0.005923</td>\n",
       "      <td>0.064528</td>\n",
       "      <td>0.006026</td>\n",
       "    </tr>\n",
       "    <tr>\n",
       "      <th>afmagelh</th>\n",
       "      <td>0.026269</td>\n",
       "      <td>0.004062</td>\n",
       "      <td>-0.013962</td>\n",
       "      <td>0.012028</td>\n",
       "      <td>0.019288</td>\n",
       "      <td>0.007721</td>\n",
       "      <td>0.033250</td>\n",
       "      <td>0.006763</td>\n",
       "    </tr>\n",
       "    <tr>\n",
       "      <th>awsfe</th>\n",
       "      <td>0.025963</td>\n",
       "      <td>0.008665</td>\n",
       "      <td>-0.041888</td>\n",
       "      <td>0.019102</td>\n",
       "      <td>0.005019</td>\n",
       "      <td>0.014940</td>\n",
       "      <td>0.046907</td>\n",
       "      <td>0.010459</td>\n",
       "    </tr>\n",
       "    <tr>\n",
       "      <th>aoirntf</th>\n",
       "      <td>0.024635</td>\n",
       "      <td>0.007432</td>\n",
       "      <td>0.029891</td>\n",
       "      <td>0.018979</td>\n",
       "      <td>-0.009689</td>\n",
       "      <td>0.014417</td>\n",
       "      <td>-0.039580</td>\n",
       "      <td>0.009095</td>\n",
       "    </tr>\n",
       "    <tr>\n",
       "      <th>ajbmpgj</th>\n",
       "      <td>0.024528</td>\n",
       "      <td>0.005240</td>\n",
       "      <td>-0.033824</td>\n",
       "      <td>0.007784</td>\n",
       "      <td>0.007615</td>\n",
       "      <td>0.007374</td>\n",
       "      <td>0.041440</td>\n",
       "      <td>0.005553</td>\n",
       "    </tr>\n",
       "    <tr>\n",
       "      <th>aoidvryf</th>\n",
       "      <td>0.019702</td>\n",
       "      <td>0.007723</td>\n",
       "      <td>0.009390</td>\n",
       "      <td>0.012942</td>\n",
       "      <td>-0.015008</td>\n",
       "      <td>0.013125</td>\n",
       "      <td>-0.024397</td>\n",
       "      <td>0.005547</td>\n",
       "    </tr>\n",
       "    <tr>\n",
       "      <th>aoifinvp</th>\n",
       "      <td>0.018882</td>\n",
       "      <td>0.012567</td>\n",
       "      <td>-0.004721</td>\n",
       "      <td>0.016278</td>\n",
       "      <td>-0.021243</td>\n",
       "      <td>0.019576</td>\n",
       "      <td>-0.016522</td>\n",
       "      <td>0.008071</td>\n",
       "    </tr>\n",
       "    <tr>\n",
       "      <th>ajsl4wk</th>\n",
       "      <td>0.017545</td>\n",
       "      <td>0.005136</td>\n",
       "      <td>-0.035090</td>\n",
       "      <td>0.010272</td>\n",
       "      <td>-0.034682</td>\n",
       "      <td>0.010258</td>\n",
       "      <td>0.000408</td>\n",
       "      <td>0.000806</td>\n",
       "    </tr>\n",
       "    <tr>\n",
       "      <th>artiage1</th>\n",
       "      <td>0.016945</td>\n",
       "      <td>0.002322</td>\n",
       "      <td>-0.033890</td>\n",
       "      <td>0.004643</td>\n",
       "      <td>0.000000</td>\n",
       "      <td>0.000000</td>\n",
       "      <td>0.033890</td>\n",
       "      <td>0.004643</td>\n",
       "    </tr>\n",
       "    <tr>\n",
       "      <th>ahgsex</th>\n",
       "      <td>0.016356</td>\n",
       "      <td>0.003303</td>\n",
       "      <td>-0.031398</td>\n",
       "      <td>0.007496</td>\n",
       "      <td>-0.032055</td>\n",
       "      <td>0.006844</td>\n",
       "      <td>-0.000657</td>\n",
       "      <td>0.001754</td>\n",
       "    </tr>\n",
       "    <tr>\n",
       "      <th>ahhd1014</th>\n",
       "      <td>0.015137</td>\n",
       "      <td>0.003059</td>\n",
       "      <td>-0.030273</td>\n",
       "      <td>0.006118</td>\n",
       "      <td>-0.006215</td>\n",
       "      <td>0.007710</td>\n",
       "      <td>0.024058</td>\n",
       "      <td>0.004565</td>\n",
       "    </tr>\n",
       "  </tbody>\n",
       "</table>\n",
       "</div>"
      ],
      "text/plain": [
       "          importance_mean  importance_std  Δcoef_mean  Δcoef_std  \\\n",
       "feature                                                            \n",
       "ahgage1          0.203809        0.005309   -0.030440   0.015861   \n",
       "atcyng           0.163000        0.009681   -0.076343   0.022539   \n",
       "atcnr            0.117742        0.006735   -0.065983   0.015528   \n",
       "aehtjbyr         0.080508        0.008312   -0.005006   0.018952   \n",
       "awscme           0.072412        0.004198   -0.119977   0.019011   \n",
       "ahifapti         0.066971        0.007319   -0.018648   0.016303   \n",
       "agh3a            0.059165        0.006267   -0.003132   0.011962   \n",
       "aicprob          0.046086        0.004687   -0.025179   0.014120   \n",
       "ahiwsfei         0.036059        0.006343    0.072117   0.012686   \n",
       "ahh0_4           0.035409        0.003896   -0.058238   0.009058   \n",
       "afmagelh         0.026269        0.004062   -0.013962   0.012028   \n",
       "awsfe            0.025963        0.008665   -0.041888   0.019102   \n",
       "aoirntf          0.024635        0.007432    0.029891   0.018979   \n",
       "ajbmpgj          0.024528        0.005240   -0.033824   0.007784   \n",
       "aoidvryf         0.019702        0.007723    0.009390   0.012942   \n",
       "aoifinvp         0.018882        0.012567   -0.004721   0.016278   \n",
       "ajsl4wk          0.017545        0.005136   -0.035090   0.010272   \n",
       "artiage1         0.016945        0.002322   -0.033890   0.004643   \n",
       "ahgsex           0.016356        0.003303   -0.031398   0.007496   \n",
       "ahhd1014         0.015137        0.003059   -0.030273   0.006118   \n",
       "\n",
       "          coef_treat_mean  coef_treat_std  coef_cntr_mean  coef_cntr_std  \n",
       "feature                                                                   \n",
       "ahgage1         -0.219029        0.011863       -0.188589       0.006435  \n",
       "atcyng          -0.201172        0.020277       -0.124829       0.005503  \n",
       "atcnr           -0.150733        0.014010       -0.084751       0.003876  \n",
       "aehtjbyr        -0.083011        0.017081       -0.078005       0.005098  \n",
       "awscme           0.012423        0.009404        0.132401       0.011293  \n",
       "ahifapti        -0.076295        0.014587       -0.057648       0.005219  \n",
       "agh3a            0.057599        0.011615        0.060731       0.003896  \n",
       "aicprob          0.033496        0.008870        0.058676       0.008058  \n",
       "ahiwsfei         0.042883        0.007982       -0.029234       0.007759  \n",
       "ahh0_4           0.006290        0.005923        0.064528       0.006026  \n",
       "afmagelh         0.019288        0.007721        0.033250       0.006763  \n",
       "awsfe            0.005019        0.014940        0.046907       0.010459  \n",
       "aoirntf         -0.009689        0.014417       -0.039580       0.009095  \n",
       "ajbmpgj          0.007615        0.007374        0.041440       0.005553  \n",
       "aoidvryf        -0.015008        0.013125       -0.024397       0.005547  \n",
       "aoifinvp        -0.021243        0.019576       -0.016522       0.008071  \n",
       "ajsl4wk         -0.034682        0.010258        0.000408       0.000806  \n",
       "artiage1         0.000000        0.000000        0.033890       0.004643  \n",
       "ahgsex          -0.032055        0.006844       -0.000657       0.001754  \n",
       "ahhd1014        -0.006215        0.007710        0.024058       0.004565  "
      ]
     },
     "metadata": {},
     "output_type": "display_data"
    }
   ],
   "source": [
    "from direct_regression import display_feature_importance\n",
    "display_feature_importance(models0, models1, results, features);"
   ]
  },
  {
   "cell_type": "markdown",
   "id": "25",
   "metadata": {
    "papermill": {
     "duration": 0.084904,
     "end_time": "2021-11-19T15:58:22.936900",
     "exception": false,
     "start_time": "2021-11-19T15:58:22.851996",
     "status": "completed"
    },
    "tags": []
   },
   "source": [
    "### Compare against OLS on basic variables"
   ]
  },
  {
   "cell_type": "code",
   "execution_count": 17,
   "id": "26",
   "metadata": {
    "execution": {
     "iopub.execute_input": "2021-11-19T15:58:23.110378Z",
     "iopub.status.busy": "2021-11-19T15:58:23.110071Z",
     "iopub.status.idle": "2021-11-19T15:58:23.173796Z",
     "shell.execute_reply": "2021-11-19T15:58:23.173460Z"
    },
    "papermill": {
     "duration": 0.151942,
     "end_time": "2021-11-19T15:58:23.173881",
     "exception": false,
     "start_time": "2021-11-19T15:58:23.021939",
     "status": "completed"
    },
    "tags": [
     "hide_input"
    ]
   },
   "outputs": [
    {
     "name": "stdout",
     "output_type": "stream",
     "text": [
      "Dropped 284 rows missing treatment or outcome.\n",
      "Fitting OLS ...Done\n",
      "Caching results to data/tmp.pkl\n"
     ]
    }
   ],
   "source": [
    "basic = pd.read_csv(\"data/basic_variables.csv\",index_col='xwaveid')\n",
    "drop_missing_treatment_or_outcome(basic, treatment, outcome)\n",
    "basic[outcome] = transform_outcome(basic[outcome],log_outcome, standardize_outcome)\n",
    "\n",
    "    \n",
    "X0b, X1b, y0b, y1b, Xb, yb, tb, featuresb = seperate_and_transform_data(basic, treatment, outcome)\n",
    "\n",
    "def construct_basic_model():\n",
    "    models = [\n",
    "        Model('OLS',LinearRegression(),importance_func=importance_from_coef)\n",
    "    ]\n",
    "    return models\n",
    "\n",
    "modelsb0, modelsb1, resultsb = nested_cross_val(\n",
    "    construct_basic_model,\n",
    "    \"data/tmp.pkl\",\n",
    "    X0b, X1b, y0b, y1b,\n",
    "    optimisation_metric,\n",
    "    evaluation_metrics,\n",
    "    innercv=inner_cv,\n",
    "    outercv=outer_cv,\n",
    "    load_from_cache=False)"
   ]
  },
  {
   "cell_type": "code",
   "execution_count": 18,
   "id": "27",
   "metadata": {
    "execution": {
     "iopub.execute_input": "2021-11-19T15:58:23.372742Z",
     "iopub.status.busy": "2021-11-19T15:58:23.372200Z",
     "iopub.status.idle": "2021-11-19T15:58:23.646075Z",
     "shell.execute_reply": "2021-11-19T15:58:23.646347Z"
    },
    "papermill": {
     "duration": 0.375376,
     "end_time": "2021-11-19T15:58:23.646443",
     "exception": false,
     "start_time": "2021-11-19T15:58:23.271067",
     "status": "completed"
    },
    "tags": []
   },
   "outputs": [
    {
     "data": {
      "image/png": "[encoded data removed]",
      "text/plain": [
       "<Figure size 1080x360 with 2 Axes>"
      ]
     },
     "metadata": {
      "needs_background": "light"
     },
     "output_type": "display_data"
    }
   ],
   "source": [
    "from sklearn.metrics import r2_score\n",
    "y0b = resultsb['OLS'][0]['estimator'][0].predict(X0b)\n",
    "y1b = resultsb['OLS'][1]['estimator'][0].predict(X1b)\n",
    "fig, ax = plt.subplots(1,2, figsize=(15,5))\n",
    "ax[0].scatter(y0, y0b,s=10,alpha=0.1)\n",
    "ax[0].set_xlabel('y0')\n",
    "ax[0].set_ylabel('$\\\\hat{y}0$');\n",
    "ax[0].set_title(f'Control (OLS-basic), $R^2={r2_score(y0,y0b):.2f}$')\n",
    "\n",
    "ax[1].scatter(y1, y1b,s=10,alpha=0.1)\n",
    "ax[1].set_xlabel('y1')\n",
    "ax[1].set_ylabel('$\\\\hat{y}1$');\n",
    "ax[1].set_title(f'Treated (OLS-basic), $R^2={r2_score(y1,y1b):.2f}$');\n"
   ]
  },
  {
   "cell_type": "code",
   "execution_count": 19,
   "id": "28",
   "metadata": {
    "execution": {
     "iopub.execute_input": "2021-11-19T15:58:23.848694Z",
     "iopub.status.busy": "2021-11-19T15:58:23.848145Z",
     "iopub.status.idle": "2021-11-19T15:58:24.162586Z",
     "shell.execute_reply": "2021-11-19T15:58:24.162876Z"
    },
    "papermill": {
     "duration": 0.417194,
     "end_time": "2021-11-19T15:58:24.162974",
     "exception": false,
     "start_time": "2021-11-19T15:58:23.745780",
     "status": "completed"
    },
    "tags": [
     "hide_input"
    ]
   },
   "outputs": [
    {
     "data": {
      "image/png": "[encoded data removed]",
      "text/plain": [
       "<Figure size 1080x360 with 2 Axes>"
      ]
     },
     "metadata": {
      "needs_background": "light"
     },
     "output_type": "display_data"
    }
   ],
   "source": [
    "if 'ridge' in results.keys():\n",
    "    y0a = results['ridge'][0]['estimator'][4].predict(X0)\n",
    "    y1a = results['ridge'][1]['estimator'][4].predict(X1)\n",
    "    fig, ax = plt.subplots(1,2, figsize=(15,5))\n",
    "    ax[0].scatter(y0, y0a,s=10,alpha=0.1)\n",
    "    ax[0].set_xlabel('y0')\n",
    "    ax[0].set_ylabel('$\\\\hat{y}0$');\n",
    "    ax[0].set_title(f'Control (ridge), $R^2={r2_score(y0,y0a):.2f}$')\n",
    "\n",
    "    ax[1].scatter(y1, y1a,s=10,alpha=0.1)\n",
    "    ax[1].set_xlabel('y1')\n",
    "    ax[1].set_ylabel('$\\\\hat{y}1$');\n",
    "    ax[1].set_title(f'Treated (ridge), $R^2={r2_score(y1,y1a):.2f}$');\n",
    "\n",
    "# think about why these r2 scores are higher than on the holdout set (and whether they are likely overfitting)\n",
    "# despite there being so few variables"
   ]
  },
  {
   "cell_type": "code",
   "execution_count": 20,
   "id": "29",
   "metadata": {
    "execution": {
     "iopub.execute_input": "2021-11-19T15:58:24.368101Z",
     "iopub.status.busy": "2021-11-19T15:58:24.367561Z",
     "iopub.status.idle": "2021-11-19T18:11:46.032826Z",
     "shell.execute_reply": "2021-11-19T18:11:46.033114Z"
    },
    "papermill": {
     "duration": 8001.769148,
     "end_time": "2021-11-19T18:11:46.033218",
     "exception": false,
     "start_time": "2021-11-19T15:58:24.264070",
     "status": "completed"
    },
    "scrolled": true,
    "tags": [
     "hide_cell"
    ]
   },
   "outputs": [
    {
     "name": "stdout",
     "output_type": "stream",
     "text": [
      "Fitting ridge ...Fitting 5 folds for each of 30 candidates, totalling 150 fits\n"
     ]
    },
    {
     "name": "stdout",
     "output_type": "stream",
     "text": [
      "Fitting 5 folds for each of 30 candidates, totalling 150 fits\n"
     ]
    },
    {
     "name": "stdout",
     "output_type": "stream",
     "text": [
      "Fitting 5 folds for each of 30 candidates, totalling 150 fits\n"
     ]
    },
    {
     "name": "stdout",
     "output_type": "stream",
     "text": [
      "Fitting 5 folds for each of 30 candidates, totalling 150 fits\n"
     ]
    },
    {
     "name": "stdout",
     "output_type": "stream",
     "text": [
      "Fitting 5 folds for each of 30 candidates, totalling 150 fits\n"
     ]
    },
    {
     "name": "stdout",
     "output_type": "stream",
     "text": [
      "Fitting 5 folds for each of 30 candidates, totalling 150 fits\n"
     ]
    },
    {
     "name": "stdout",
     "output_type": "stream",
     "text": [
      "Fitting 5 folds for each of 30 candidates, totalling 150 fits\n"
     ]
    },
    {
     "name": "stdout",
     "output_type": "stream",
     "text": [
      "Fitting 5 folds for each of 30 candidates, totalling 150 fits\n"
     ]
    },
    {
     "name": "stdout",
     "output_type": "stream",
     "text": [
      "Fitting 5 folds for each of 30 candidates, totalling 150 fits\n"
     ]
    },
    {
     "name": "stdout",
     "output_type": "stream",
     "text": [
      "Fitting 5 folds for each of 30 candidates, totalling 150 fits\n"
     ]
    },
    {
     "name": "stdout",
     "output_type": "stream",
     "text": [
      "Fitting 5 folds for each of 30 candidates, totalling 150 fits\n"
     ]
    },
    {
     "name": "stdout",
     "output_type": "stream",
     "text": [
      "Fitting 5 folds for each of 30 candidates, totalling 150 fits\n"
     ]
    },
    {
     "name": "stdout",
     "output_type": "stream",
     "text": [
      "Fitting 5 folds for each of 30 candidates, totalling 150 fits\n"
     ]
    },
    {
     "name": "stdout",
     "output_type": "stream",
     "text": [
      "Fitting 5 folds for each of 30 candidates, totalling 150 fits\n"
     ]
    },
    {
     "name": "stdout",
     "output_type": "stream",
     "text": [
      "Fitting 5 folds for each of 30 candidates, totalling 150 fits\n"
     ]
    },
    {
     "name": "stdout",
     "output_type": "stream",
     "text": [
      "Fitting 5 folds for each of 30 candidates, totalling 150 fits\n"
     ]
    },
    {
     "name": "stdout",
     "output_type": "stream",
     "text": [
      "Fitting 5 folds for each of 30 candidates, totalling 150 fits\n"
     ]
    },
    {
     "name": "stdout",
     "output_type": "stream",
     "text": [
      "Fitting 5 folds for each of 30 candidates, totalling 150 fits\n"
     ]
    },
    {
     "name": "stdout",
     "output_type": "stream",
     "text": [
      "Fitting 5 folds for each of 30 candidates, totalling 150 fits\n"
     ]
    },
    {
     "name": "stdout",
     "output_type": "stream",
     "text": [
      "Fitting 5 folds for each of 30 candidates, totalling 150 fits\n"
     ]
    },
    {
     "name": "stdout",
     "output_type": "stream",
     "text": [
      "Fitting 5 folds for each of 30 candidates, totalling 150 fits\n"
     ]
    },
    {
     "name": "stdout",
     "output_type": "stream",
     "text": [
      "Fitting 5 folds for each of 30 candidates, totalling 150 fits\n"
     ]
    },
    {
     "name": "stdout",
     "output_type": "stream",
     "text": [
      "Fitting 5 folds for each of 30 candidates, totalling 150 fits\n"
     ]
    },
    {
     "name": "stdout",
     "output_type": "stream",
     "text": [
      "Fitting 5 folds for each of 30 candidates, totalling 150 fits\n"
     ]
    },
    {
     "name": "stdout",
     "output_type": "stream",
     "text": [
      "Fitting 5 folds for each of 30 candidates, totalling 150 fits\n"
     ]
    },
    {
     "name": "stdout",
     "output_type": "stream",
     "text": [
      "Fitting 5 folds for each of 30 candidates, totalling 150 fits\n"
     ]
    },
    {
     "name": "stdout",
     "output_type": "stream",
     "text": [
      "Fitting 5 folds for each of 30 candidates, totalling 150 fits\n"
     ]
    },
    {
     "name": "stdout",
     "output_type": "stream",
     "text": [
      "Fitting 5 folds for each of 30 candidates, totalling 150 fits\n"
     ]
    },
    {
     "name": "stdout",
     "output_type": "stream",
     "text": [
      "Fitting 5 folds for each of 30 candidates, totalling 150 fits\n"
     ]
    },
    {
     "name": "stdout",
     "output_type": "stream",
     "text": [
      "Fitting 5 folds for each of 30 candidates, totalling 150 fits\n"
     ]
    },
    {
     "name": "stdout",
     "output_type": "stream",
     "text": [
      "Fitting 5 folds for each of 30 candidates, totalling 150 fits\n"
     ]
    },
    {
     "name": "stdout",
     "output_type": "stream",
     "text": [
      "Fitting 5 folds for each of 30 candidates, totalling 150 fits\n"
     ]
    },
    {
     "name": "stdout",
     "output_type": "stream",
     "text": [
      "Fitting 5 folds for each of 30 candidates, totalling 150 fits\n"
     ]
    },
    {
     "name": "stdout",
     "output_type": "stream",
     "text": [
      "Fitting 5 folds for each of 30 candidates, totalling 150 fits\n"
     ]
    },
    {
     "name": "stdout",
     "output_type": "stream",
     "text": [
      "Fitting 5 folds for each of 30 candidates, totalling 150 fits\n"
     ]
    },
    {
     "name": "stdout",
     "output_type": "stream",
     "text": [
      "Fitting 5 folds for each of 30 candidates, totalling 150 fits\n"
     ]
    },
    {
     "name": "stdout",
     "output_type": "stream",
     "text": [
      "Fitting 5 folds for each of 30 candidates, totalling 150 fits\n"
     ]
    },
    {
     "name": "stdout",
     "output_type": "stream",
     "text": [
      "Fitting 5 folds for each of 30 candidates, totalling 150 fits\n"
     ]
    },
    {
     "name": "stdout",
     "output_type": "stream",
     "text": [
      "Fitting 5 folds for each of 30 candidates, totalling 150 fits\n"
     ]
    },
    {
     "name": "stdout",
     "output_type": "stream",
     "text": [
      "Fitting 5 folds for each of 30 candidates, totalling 150 fits\n"
     ]
    },
    {
     "name": "stdout",
     "output_type": "stream",
     "text": [
      "Fitting 5 folds for each of 30 candidates, totalling 150 fits\n"
     ]
    },
    {
     "name": "stdout",
     "output_type": "stream",
     "text": [
      "Fitting 5 folds for each of 30 candidates, totalling 150 fits\n"
     ]
    },
    {
     "name": "stdout",
     "output_type": "stream",
     "text": [
      "Fitting 5 folds for each of 30 candidates, totalling 150 fits\n"
     ]
    },
    {
     "name": "stdout",
     "output_type": "stream",
     "text": [
      "Fitting 5 folds for each of 30 candidates, totalling 150 fits\n"
     ]
    },
    {
     "name": "stdout",
     "output_type": "stream",
     "text": [
      "Fitting 5 folds for each of 30 candidates, totalling 150 fits\n"
     ]
    },
    {
     "name": "stdout",
     "output_type": "stream",
     "text": [
      "Fitting 5 folds for each of 30 candidates, totalling 150 fits\n"
     ]
    },
    {
     "name": "stdout",
     "output_type": "stream",
     "text": [
      "Fitting 5 folds for each of 30 candidates, totalling 150 fits\n"
     ]
    },
    {
     "name": "stdout",
     "output_type": "stream",
     "text": [
      "Fitting 5 folds for each of 30 candidates, totalling 150 fits\n"
     ]
    },
    {
     "name": "stdout",
     "output_type": "stream",
     "text": [
      "Fitting 5 folds for each of 30 candidates, totalling 150 fits\n"
     ]
    },
    {
     "name": "stdout",
     "output_type": "stream",
     "text": [
      "Fitting 5 folds for each of 30 candidates, totalling 150 fits\n"
     ]
    },
    {
     "name": "stdout",
     "output_type": "stream",
     "text": [
      "Fitting 5 folds for each of 30 candidates, totalling 150 fits\n"
     ]
    },
    {
     "name": "stdout",
     "output_type": "stream",
     "text": [
      "Fitting 5 folds for each of 30 candidates, totalling 150 fits\n",
      "Fitting 5 folds for each of 30 candidates, totalling 150 fits\n"
     ]
    },
    {
     "name": "stdout",
     "output_type": "stream",
     "text": [
      "Fitting 5 folds for each of 30 candidates, totalling 150 fits\n",
      "Fitting 5 folds for each of 30 candidates, totalling 150 fits\n"
     ]
    },
    {
     "name": "stdout",
     "output_type": "stream",
     "text": [
      "Fitting 5 folds for each of 30 candidates, totalling 150 fits\n",
      "Fitting 5 folds for each of 30 candidates, totalling 150 fits\n"
     ]
    },
    {
     "name": "stdout",
     "output_type": "stream",
     "text": [
      "Fitting 5 folds for each of 30 candidates, totalling 150 fits\n",
      "Fitting 5 folds for each of 30 candidates, totalling 150 fits\n"
     ]
    },
    {
     "name": "stdout",
     "output_type": "stream",
     "text": [
      "Fitting 5 folds for each of 30 candidates, totalling 150 fits\n",
      "Fitting 5 folds for each of 30 candidates, totalling 150 fits\n"
     ]
    },
    {
     "name": "stdout",
     "output_type": "stream",
     "text": [
      "Fitting 5 folds for each of 30 candidates, totalling 150 fits\n",
      "Fitting 5 folds for each of 30 candidates, totalling 150 fits\n"
     ]
    },
    {
     "name": "stdout",
     "output_type": "stream",
     "text": [
      "Fitting 5 folds for each of 30 candidates, totalling 150 fits\n",
      "Fitting 5 folds for each of 30 candidates, totalling 150 fits\n"
     ]
    },
    {
     "name": "stdout",
     "output_type": "stream",
     "text": [
      "Fitting 5 folds for each of 30 candidates, totalling 150 fits\n",
      "Fitting 5 folds for each of 30 candidates, totalling 150 fits\n"
     ]
    },
    {
     "name": "stdout",
     "output_type": "stream",
     "text": [
      "Fitting 5 folds for each of 30 candidates, totalling 150 fits\n",
      "Fitting 5 folds for each of 30 candidates, totalling 150 fits\n"
     ]
    },
    {
     "name": "stdout",
     "output_type": "stream",
     "text": [
      "Fitting 5 folds for each of 30 candidates, totalling 150 fits\n",
      "Fitting 5 folds for each of 30 candidates, totalling 150 fits\n"
     ]
    },
    {
     "name": "stdout",
     "output_type": "stream",
     "text": [
      "Fitting 5 folds for each of 30 candidates, totalling 150 fits\n",
      "Fitting 5 folds for each of 30 candidates, totalling 150 fits\n"
     ]
    },
    {
     "name": "stdout",
     "output_type": "stream",
     "text": [
      "Fitting 5 folds for each of 30 candidates, totalling 150 fits\n",
      "Fitting 5 folds for each of 30 candidates, totalling 150 fits\n"
     ]
    },
    {
     "name": "stdout",
     "output_type": "stream",
     "text": [
      "Fitting 5 folds for each of 30 candidates, totalling 150 fits\n",
      "Fitting 5 folds for each of 30 candidates, totalling 150 fits\n"
     ]
    },
    {
     "name": "stdout",
     "output_type": "stream",
     "text": [
      "Fitting 5 folds for each of 30 candidates, totalling 150 fits\n",
      "Fitting 5 folds for each of 30 candidates, totalling 150 fits\n"
     ]
    },
    {
     "name": "stdout",
     "output_type": "stream",
     "text": [
      "Fitting 5 folds for each of 30 candidates, totalling 150 fits\n",
      "Fitting 5 folds for each of 30 candidates, totalling 150 fits\n"
     ]
    },
    {
     "name": "stdout",
     "output_type": "stream",
     "text": [
      "Fitting 5 folds for each of 30 candidates, totalling 150 fits\n",
      "Fitting 5 folds for each of 30 candidates, totalling 150 fits\n"
     ]
    },
    {
     "name": "stdout",
     "output_type": "stream",
     "text": [
      "Fitting 5 folds for each of 30 candidates, totalling 150 fits\n",
      "Fitting 5 folds for each of 30 candidates, totalling 150 fits\n"
     ]
    },
    {
     "name": "stdout",
     "output_type": "stream",
     "text": [
      "Fitting 5 folds for each of 30 candidates, totalling 150 fits\n",
      "Fitting 5 folds for each of 30 candidates, totalling 150 fits\n"
     ]
    },
    {
     "name": "stdout",
     "output_type": "stream",
     "text": [
      "Fitting 5 folds for each of 30 candidates, totalling 150 fits\n",
      "Fitting 5 folds for each of 30 candidates, totalling 150 fits\n"
     ]
    },
    {
     "name": "stdout",
     "output_type": "stream",
     "text": [
      "Fitting 5 folds for each of 30 candidates, totalling 150 fits\n",
      "Fitting 5 folds for each of 30 candidates, totalling 150 fits\n"
     ]
    },
    {
     "name": "stdout",
     "output_type": "stream",
     "text": [
      "Fitting 5 folds for each of 30 candidates, totalling 150 fits\n",
      "Fitting 5 folds for each of 30 candidates, totalling 150 fits\n"
     ]
    },
    {
     "name": "stdout",
     "output_type": "stream",
     "text": [
      "Fitting 5 folds for each of 30 candidates, totalling 150 fits\n",
      "Fitting 5 folds for each of 30 candidates, totalling 150 fits\n"
     ]
    },
    {
     "name": "stdout",
     "output_type": "stream",
     "text": [
      "Fitting 5 folds for each of 30 candidates, totalling 150 fits\n",
      "Fitting 5 folds for each of 30 candidates, totalling 150 fits\n"
     ]
    },
    {
     "name": "stdout",
     "output_type": "stream",
     "text": [
      "Fitting 5 folds for each of 30 candidates, totalling 150 fits\n",
      "Fitting 5 folds for each of 30 candidates, totalling 150 fits\n"
     ]
    },
    {
     "name": "stdout",
     "output_type": "stream",
     "text": [
      "Fitting 5 folds for each of 30 candidates, totalling 150 fits\n",
      "Done\n",
      "Fitting lasso ...Fitting 5 folds for each of 30 candidates, totalling 150 fits\n"
     ]
    },
    {
     "name": "stdout",
     "output_type": "stream",
     "text": [
      "Fitting 5 folds for each of 30 candidates, totalling 150 fits\n"
     ]
    },
    {
     "name": "stdout",
     "output_type": "stream",
     "text": [
      "Fitting 5 folds for each of 30 candidates, totalling 150 fits\n"
     ]
    },
    {
     "name": "stdout",
     "output_type": "stream",
     "text": [
      "Fitting 5 folds for each of 30 candidates, totalling 150 fits\n"
     ]
    },
    {
     "name": "stdout",
     "output_type": "stream",
     "text": [
      "Fitting 5 folds for each of 30 candidates, totalling 150 fits\n"
     ]
    },
    {
     "name": "stdout",
     "output_type": "stream",
     "text": [
      "Fitting 5 folds for each of 30 candidates, totalling 150 fits\n"
     ]
    },
    {
     "name": "stdout",
     "output_type": "stream",
     "text": [
      "Fitting 5 folds for each of 30 candidates, totalling 150 fits\n"
     ]
    },
    {
     "name": "stdout",
     "output_type": "stream",
     "text": [
      "Fitting 5 folds for each of 30 candidates, totalling 150 fits\n"
     ]
    },
    {
     "name": "stdout",
     "output_type": "stream",
     "text": [
      "Fitting 5 folds for each of 30 candidates, totalling 150 fits\n"
     ]
    },
    {
     "name": "stdout",
     "output_type": "stream",
     "text": [
      "Fitting 5 folds for each of 30 candidates, totalling 150 fits\n"
     ]
    },
    {
     "name": "stdout",
     "output_type": "stream",
     "text": [
      "Fitting 5 folds for each of 30 candidates, totalling 150 fits\n"
     ]
    },
    {
     "name": "stdout",
     "output_type": "stream",
     "text": [
      "Fitting 5 folds for each of 30 candidates, totalling 150 fits\n"
     ]
    },
    {
     "name": "stdout",
     "output_type": "stream",
     "text": [
      "Fitting 5 folds for each of 30 candidates, totalling 150 fits\n"
     ]
    },
    {
     "name": "stdout",
     "output_type": "stream",
     "text": [
      "Fitting 5 folds for each of 30 candidates, totalling 150 fits\n"
     ]
    },
    {
     "name": "stdout",
     "output_type": "stream",
     "text": [
      "Fitting 5 folds for each of 30 candidates, totalling 150 fits\n"
     ]
    },
    {
     "name": "stdout",
     "output_type": "stream",
     "text": [
      "Fitting 5 folds for each of 30 candidates, totalling 150 fits\n"
     ]
    },
    {
     "name": "stdout",
     "output_type": "stream",
     "text": [
      "Fitting 5 folds for each of 30 candidates, totalling 150 fits\n"
     ]
    },
    {
     "name": "stdout",
     "output_type": "stream",
     "text": [
      "Fitting 5 folds for each of 30 candidates, totalling 150 fits\n"
     ]
    },
    {
     "name": "stdout",
     "output_type": "stream",
     "text": [
      "Fitting 5 folds for each of 30 candidates, totalling 150 fits\n"
     ]
    },
    {
     "name": "stdout",
     "output_type": "stream",
     "text": [
      "Fitting 5 folds for each of 30 candidates, totalling 150 fits\n"
     ]
    },
    {
     "name": "stdout",
     "output_type": "stream",
     "text": [
      "Fitting 5 folds for each of 30 candidates, totalling 150 fits\n"
     ]
    },
    {
     "name": "stdout",
     "output_type": "stream",
     "text": [
      "Fitting 5 folds for each of 30 candidates, totalling 150 fits\n"
     ]
    },
    {
     "name": "stdout",
     "output_type": "stream",
     "text": [
      "Fitting 5 folds for each of 30 candidates, totalling 150 fits\n"
     ]
    },
    {
     "name": "stdout",
     "output_type": "stream",
     "text": [
      "Fitting 5 folds for each of 30 candidates, totalling 150 fits\n"
     ]
    },
    {
     "name": "stdout",
     "output_type": "stream",
     "text": [
      "Fitting 5 folds for each of 30 candidates, totalling 150 fits\n"
     ]
    },
    {
     "name": "stdout",
     "output_type": "stream",
     "text": [
      "Fitting 5 folds for each of 30 candidates, totalling 150 fits\n"
     ]
    },
    {
     "name": "stdout",
     "output_type": "stream",
     "text": [
      "Fitting 5 folds for each of 30 candidates, totalling 150 fits\n"
     ]
    },
    {
     "name": "stdout",
     "output_type": "stream",
     "text": [
      "Fitting 5 folds for each of 30 candidates, totalling 150 fits\n"
     ]
    },
    {
     "name": "stdout",
     "output_type": "stream",
     "text": [
      "Fitting 5 folds for each of 30 candidates, totalling 150 fits\n"
     ]
    },
    {
     "name": "stdout",
     "output_type": "stream",
     "text": [
      "Fitting 5 folds for each of 30 candidates, totalling 150 fits\n"
     ]
    },
    {
     "name": "stdout",
     "output_type": "stream",
     "text": [
      "Fitting 5 folds for each of 30 candidates, totalling 150 fits\n"
     ]
    },
    {
     "name": "stdout",
     "output_type": "stream",
     "text": [
      "Fitting 5 folds for each of 30 candidates, totalling 150 fits\n"
     ]
    },
    {
     "name": "stdout",
     "output_type": "stream",
     "text": [
      "Fitting 5 folds for each of 30 candidates, totalling 150 fits\n"
     ]
    },
    {
     "name": "stdout",
     "output_type": "stream",
     "text": [
      "Fitting 5 folds for each of 30 candidates, totalling 150 fits\n"
     ]
    },
    {
     "name": "stdout",
     "output_type": "stream",
     "text": [
      "Fitting 5 folds for each of 30 candidates, totalling 150 fits\n"
     ]
    },
    {
     "name": "stdout",
     "output_type": "stream",
     "text": [
      "Fitting 5 folds for each of 30 candidates, totalling 150 fits\n"
     ]
    },
    {
     "name": "stdout",
     "output_type": "stream",
     "text": [
      "Fitting 5 folds for each of 30 candidates, totalling 150 fits\n"
     ]
    },
    {
     "name": "stdout",
     "output_type": "stream",
     "text": [
      "Fitting 5 folds for each of 30 candidates, totalling 150 fits\n"
     ]
    },
    {
     "name": "stdout",
     "output_type": "stream",
     "text": [
      "Fitting 5 folds for each of 30 candidates, totalling 150 fits\n"
     ]
    },
    {
     "name": "stdout",
     "output_type": "stream",
     "text": [
      "Fitting 5 folds for each of 30 candidates, totalling 150 fits\n"
     ]
    },
    {
     "name": "stdout",
     "output_type": "stream",
     "text": [
      "Fitting 5 folds for each of 30 candidates, totalling 150 fits\n"
     ]
    },
    {
     "name": "stdout",
     "output_type": "stream",
     "text": [
      "Fitting 5 folds for each of 30 candidates, totalling 150 fits\n"
     ]
    },
    {
     "name": "stdout",
     "output_type": "stream",
     "text": [
      "Fitting 5 folds for each of 30 candidates, totalling 150 fits\n"
     ]
    },
    {
     "name": "stdout",
     "output_type": "stream",
     "text": [
      "Fitting 5 folds for each of 30 candidates, totalling 150 fits\n"
     ]
    },
    {
     "name": "stdout",
     "output_type": "stream",
     "text": [
      "Fitting 5 folds for each of 30 candidates, totalling 150 fits\n"
     ]
    },
    {
     "name": "stdout",
     "output_type": "stream",
     "text": [
      "Fitting 5 folds for each of 30 candidates, totalling 150 fits\n"
     ]
    },
    {
     "name": "stdout",
     "output_type": "stream",
     "text": [
      "Fitting 5 folds for each of 30 candidates, totalling 150 fits\n"
     ]
    },
    {
     "name": "stdout",
     "output_type": "stream",
     "text": [
      "Fitting 5 folds for each of 30 candidates, totalling 150 fits\n"
     ]
    },
    {
     "name": "stdout",
     "output_type": "stream",
     "text": [
      "Fitting 5 folds for each of 30 candidates, totalling 150 fits\n"
     ]
    },
    {
     "name": "stdout",
     "output_type": "stream",
     "text": [
      "Fitting 5 folds for each of 30 candidates, totalling 150 fits\n"
     ]
    },
    {
     "name": "stdout",
     "output_type": "stream",
     "text": [
      "Fitting 5 folds for each of 30 candidates, totalling 150 fits\n"
     ]
    },
    {
     "name": "stdout",
     "output_type": "stream",
     "text": [
      "Fitting 5 folds for each of 30 candidates, totalling 150 fits\n",
      "Fitting 5 folds for each of 30 candidates, totalling 150 fits\n"
     ]
    },
    {
     "name": "stdout",
     "output_type": "stream",
     "text": [
      "Fitting 5 folds for each of 30 candidates, totalling 150 fits\n"
     ]
    },
    {
     "name": "stdout",
     "output_type": "stream",
     "text": [
      "Fitting 5 folds for each of 30 candidates, totalling 150 fits\n",
      "Fitting 5 folds for each of 30 candidates, totalling 150 fits\n"
     ]
    },
    {
     "name": "stdout",
     "output_type": "stream",
     "text": [
      "Fitting 5 folds for each of 30 candidates, totalling 150 fits\n",
      "Fitting 5 folds for each of 30 candidates, totalling 150 fits\n"
     ]
    },
    {
     "name": "stdout",
     "output_type": "stream",
     "text": [
      "Fitting 5 folds for each of 30 candidates, totalling 150 fits\n",
      "Fitting 5 folds for each of 30 candidates, totalling 150 fits\n"
     ]
    },
    {
     "name": "stdout",
     "output_type": "stream",
     "text": [
      "Fitting 5 folds for each of 30 candidates, totalling 150 fits\n",
      "Fitting 5 folds for each of 30 candidates, totalling 150 fits\n"
     ]
    },
    {
     "name": "stdout",
     "output_type": "stream",
     "text": [
      "Fitting 5 folds for each of 30 candidates, totalling 150 fits\n",
      "Fitting 5 folds for each of 30 candidates, totalling 150 fits\n"
     ]
    },
    {
     "name": "stdout",
     "output_type": "stream",
     "text": [
      "Fitting 5 folds for each of 30 candidates, totalling 150 fits\n",
      "Fitting 5 folds for each of 30 candidates, totalling 150 fits\n"
     ]
    },
    {
     "name": "stdout",
     "output_type": "stream",
     "text": [
      "Fitting 5 folds for each of 30 candidates, totalling 150 fits\n",
      "Fitting 5 folds for each of 30 candidates, totalling 150 fits\n"
     ]
    },
    {
     "name": "stdout",
     "output_type": "stream",
     "text": [
      "Fitting 5 folds for each of 30 candidates, totalling 150 fits\n",
      "Fitting 5 folds for each of 30 candidates, totalling 150 fits\n"
     ]
    },
    {
     "name": "stdout",
     "output_type": "stream",
     "text": [
      "Fitting 5 folds for each of 30 candidates, totalling 150 fits\n",
      "Fitting 5 folds for each of 30 candidates, totalling 150 fits\n"
     ]
    },
    {
     "name": "stdout",
     "output_type": "stream",
     "text": [
      "Fitting 5 folds for each of 30 candidates, totalling 150 fits\n",
      "Fitting 5 folds for each of 30 candidates, totalling 150 fits\n"
     ]
    },
    {
     "name": "stdout",
     "output_type": "stream",
     "text": [
      "Fitting 5 folds for each of 30 candidates, totalling 150 fits\n",
      "Fitting 5 folds for each of 30 candidates, totalling 150 fits\n"
     ]
    },
    {
     "name": "stdout",
     "output_type": "stream",
     "text": [
      "Fitting 5 folds for each of 30 candidates, totalling 150 fits\n",
      "Fitting 5 folds for each of 30 candidates, totalling 150 fits\n"
     ]
    },
    {
     "name": "stdout",
     "output_type": "stream",
     "text": [
      "Fitting 5 folds for each of 30 candidates, totalling 150 fits\n",
      "Fitting 5 folds for each of 30 candidates, totalling 150 fits\n"
     ]
    },
    {
     "name": "stdout",
     "output_type": "stream",
     "text": [
      "Fitting 5 folds for each of 30 candidates, totalling 150 fits\n",
      "Fitting 5 folds for each of 30 candidates, totalling 150 fits\n"
     ]
    },
    {
     "name": "stdout",
     "output_type": "stream",
     "text": [
      "Fitting 5 folds for each of 30 candidates, totalling 150 fits\n",
      "Fitting 5 folds for each of 30 candidates, totalling 150 fits\n"
     ]
    },
    {
     "name": "stdout",
     "output_type": "stream",
     "text": [
      "Fitting 5 folds for each of 30 candidates, totalling 150 fits\n",
      "Fitting 5 folds for each of 30 candidates, totalling 150 fits\n"
     ]
    },
    {
     "name": "stdout",
     "output_type": "stream",
     "text": [
      "Fitting 5 folds for each of 30 candidates, totalling 150 fits\n",
      "Fitting 5 folds for each of 30 candidates, totalling 150 fits\n"
     ]
    },
    {
     "name": "stdout",
     "output_type": "stream",
     "text": [
      "Fitting 5 folds for each of 30 candidates, totalling 150 fits\n",
      "Fitting 5 folds for each of 30 candidates, totalling 150 fits\n"
     ]
    },
    {
     "name": "stdout",
     "output_type": "stream",
     "text": [
      "Fitting 5 folds for each of 30 candidates, totalling 150 fits\n",
      "Fitting 5 folds for each of 30 candidates, totalling 150 fits\n"
     ]
    },
    {
     "name": "stdout",
     "output_type": "stream",
     "text": [
      "Fitting 5 folds for each of 30 candidates, totalling 150 fits\n",
      "Fitting 5 folds for each of 30 candidates, totalling 150 fits\n"
     ]
    },
    {
     "name": "stdout",
     "output_type": "stream",
     "text": [
      "Fitting 5 folds for each of 30 candidates, totalling 150 fits\n",
      "Fitting 5 folds for each of 30 candidates, totalling 150 fits\n"
     ]
    },
    {
     "name": "stdout",
     "output_type": "stream",
     "text": [
      "Fitting 5 folds for each of 30 candidates, totalling 150 fits\n",
      "Fitting 5 folds for each of 30 candidates, totalling 150 fits\n"
     ]
    },
    {
     "name": "stdout",
     "output_type": "stream",
     "text": [
      "Fitting 5 folds for each of 30 candidates, totalling 150 fits\n",
      "Fitting 5 folds for each of 30 candidates, totalling 150 fits\n"
     ]
    },
    {
     "name": "stdout",
     "output_type": "stream",
     "text": [
      "Done\n",
      "Fitting gbr ...Fitting 5 folds for each of 500 candidates, totalling 2500 fits\n"
     ]
    },
    {
     "name": "stdout",
     "output_type": "stream",
     "text": [
      "Fitting 5 folds for each of 500 candidates, totalling 2500 fits\n"
     ]
    },
    {
     "name": "stdout",
     "output_type": "stream",
     "text": [
      "Fitting 5 folds for each of 500 candidates, totalling 2500 fits\n"
     ]
    },
    {
     "name": "stdout",
     "output_type": "stream",
     "text": [
      "Fitting 5 folds for each of 500 candidates, totalling 2500 fits\n"
     ]
    },
    {
     "name": "stdout",
     "output_type": "stream",
     "text": [
      "Fitting 5 folds for each of 500 candidates, totalling 2500 fits\n"
     ]
    },
    {
     "name": "stdout",
     "output_type": "stream",
     "text": [
      "Fitting 5 folds for each of 500 candidates, totalling 2500 fits\n"
     ]
    },
    {
     "name": "stdout",
     "output_type": "stream",
     "text": [
      "Fitting 5 folds for each of 500 candidates, totalling 2500 fits\n"
     ]
    },
    {
     "name": "stdout",
     "output_type": "stream",
     "text": [
      "Fitting 5 folds for each of 500 candidates, totalling 2500 fits\n"
     ]
    },
    {
     "name": "stdout",
     "output_type": "stream",
     "text": [
      "Fitting 5 folds for each of 500 candidates, totalling 2500 fits\n"
     ]
    },
    {
     "name": "stdout",
     "output_type": "stream",
     "text": [
      "Fitting 5 folds for each of 500 candidates, totalling 2500 fits\n"
     ]
    },
    {
     "name": "stdout",
     "output_type": "stream",
     "text": [
      "Fitting 5 folds for each of 500 candidates, totalling 2500 fits\n"
     ]
    },
    {
     "name": "stdout",
     "output_type": "stream",
     "text": [
      "Fitting 5 folds for each of 500 candidates, totalling 2500 fits\n"
     ]
    },
    {
     "name": "stdout",
     "output_type": "stream",
     "text": [
      "Fitting 5 folds for each of 500 candidates, totalling 2500 fits\n"
     ]
    },
    {
     "name": "stdout",
     "output_type": "stream",
     "text": [
      "Fitting 5 folds for each of 500 candidates, totalling 2500 fits\n"
     ]
    },
    {
     "name": "stdout",
     "output_type": "stream",
     "text": [
      "Fitting 5 folds for each of 500 candidates, totalling 2500 fits\n"
     ]
    },
    {
     "name": "stdout",
     "output_type": "stream",
     "text": [
      "Fitting 5 folds for each of 500 candidates, totalling 2500 fits\n"
     ]
    },
    {
     "name": "stdout",
     "output_type": "stream",
     "text": [
      "Fitting 5 folds for each of 500 candidates, totalling 2500 fits\n"
     ]
    },
    {
     "name": "stdout",
     "output_type": "stream",
     "text": [
      "Fitting 5 folds for each of 500 candidates, totalling 2500 fits\n"
     ]
    },
    {
     "name": "stdout",
     "output_type": "stream",
     "text": [
      "Fitting 5 folds for each of 500 candidates, totalling 2500 fits\n"
     ]
    },
    {
     "name": "stdout",
     "output_type": "stream",
     "text": [
      "Fitting 5 folds for each of 500 candidates, totalling 2500 fits\n"
     ]
    },
    {
     "name": "stdout",
     "output_type": "stream",
     "text": [
      "Fitting 5 folds for each of 500 candidates, totalling 2500 fits\n"
     ]
    },
    {
     "name": "stdout",
     "output_type": "stream",
     "text": [
      "Fitting 5 folds for each of 500 candidates, totalling 2500 fits\n"
     ]
    },
    {
     "name": "stdout",
     "output_type": "stream",
     "text": [
      "Fitting 5 folds for each of 500 candidates, totalling 2500 fits\n"
     ]
    },
    {
     "name": "stdout",
     "output_type": "stream",
     "text": [
      "Fitting 5 folds for each of 500 candidates, totalling 2500 fits\n"
     ]
    },
    {
     "name": "stdout",
     "output_type": "stream",
     "text": [
      "Fitting 5 folds for each of 500 candidates, totalling 2500 fits\n"
     ]
    },
    {
     "name": "stdout",
     "output_type": "stream",
     "text": [
      "Fitting 5 folds for each of 500 candidates, totalling 2500 fits\n"
     ]
    },
    {
     "name": "stdout",
     "output_type": "stream",
     "text": [
      "Fitting 5 folds for each of 500 candidates, totalling 2500 fits\n"
     ]
    },
    {
     "name": "stdout",
     "output_type": "stream",
     "text": [
      "Fitting 5 folds for each of 500 candidates, totalling 2500 fits\n"
     ]
    },
    {
     "name": "stdout",
     "output_type": "stream",
     "text": [
      "Fitting 5 folds for each of 500 candidates, totalling 2500 fits\n"
     ]
    },
    {
     "name": "stdout",
     "output_type": "stream",
     "text": [
      "Fitting 5 folds for each of 500 candidates, totalling 2500 fits\n"
     ]
    },
    {
     "name": "stdout",
     "output_type": "stream",
     "text": [
      "Fitting 5 folds for each of 500 candidates, totalling 2500 fits\n"
     ]
    },
    {
     "name": "stdout",
     "output_type": "stream",
     "text": [
      "Fitting 5 folds for each of 500 candidates, totalling 2500 fits\n"
     ]
    },
    {
     "name": "stdout",
     "output_type": "stream",
     "text": [
      "Fitting 5 folds for each of 500 candidates, totalling 2500 fits\n"
     ]
    },
    {
     "name": "stdout",
     "output_type": "stream",
     "text": [
      "Fitting 5 folds for each of 500 candidates, totalling 2500 fits\n"
     ]
    },
    {
     "name": "stdout",
     "output_type": "stream",
     "text": [
      "Fitting 5 folds for each of 500 candidates, totalling 2500 fits\n"
     ]
    },
    {
     "name": "stdout",
     "output_type": "stream",
     "text": [
      "Fitting 5 folds for each of 500 candidates, totalling 2500 fits\n"
     ]
    },
    {
     "name": "stdout",
     "output_type": "stream",
     "text": [
      "Fitting 5 folds for each of 500 candidates, totalling 2500 fits\n"
     ]
    },
    {
     "name": "stdout",
     "output_type": "stream",
     "text": [
      "Fitting 5 folds for each of 500 candidates, totalling 2500 fits\n"
     ]
    },
    {
     "name": "stdout",
     "output_type": "stream",
     "text": [
      "Fitting 5 folds for each of 500 candidates, totalling 2500 fits\n"
     ]
    },
    {
     "name": "stdout",
     "output_type": "stream",
     "text": [
      "Fitting 5 folds for each of 500 candidates, totalling 2500 fits\n"
     ]
    },
    {
     "name": "stdout",
     "output_type": "stream",
     "text": [
      "Fitting 5 folds for each of 500 candidates, totalling 2500 fits\n"
     ]
    },
    {
     "name": "stdout",
     "output_type": "stream",
     "text": [
      "Fitting 5 folds for each of 500 candidates, totalling 2500 fits\n"
     ]
    },
    {
     "name": "stdout",
     "output_type": "stream",
     "text": [
      "Fitting 5 folds for each of 500 candidates, totalling 2500 fits\n"
     ]
    },
    {
     "name": "stdout",
     "output_type": "stream",
     "text": [
      "Fitting 5 folds for each of 500 candidates, totalling 2500 fits\n"
     ]
    },
    {
     "name": "stdout",
     "output_type": "stream",
     "text": [
      "Fitting 5 folds for each of 500 candidates, totalling 2500 fits\n"
     ]
    },
    {
     "name": "stdout",
     "output_type": "stream",
     "text": [
      "Fitting 5 folds for each of 500 candidates, totalling 2500 fits\n"
     ]
    },
    {
     "name": "stdout",
     "output_type": "stream",
     "text": [
      "Fitting 5 folds for each of 500 candidates, totalling 2500 fits\n"
     ]
    },
    {
     "name": "stdout",
     "output_type": "stream",
     "text": [
      "Fitting 5 folds for each of 500 candidates, totalling 2500 fits\n"
     ]
    },
    {
     "name": "stdout",
     "output_type": "stream",
     "text": [
      "Fitting 5 folds for each of 500 candidates, totalling 2500 fits\n"
     ]
    },
    {
     "name": "stdout",
     "output_type": "stream",
     "text": [
      "Fitting 5 folds for each of 500 candidates, totalling 2500 fits\n"
     ]
    },
    {
     "name": "stdout",
     "output_type": "stream",
     "text": [
      "Fitting 5 folds for each of 500 candidates, totalling 2500 fits\n"
     ]
    },
    {
     "name": "stdout",
     "output_type": "stream",
     "text": [
      "Fitting 5 folds for each of 500 candidates, totalling 2500 fits\n"
     ]
    },
    {
     "name": "stdout",
     "output_type": "stream",
     "text": [
      "Fitting 5 folds for each of 500 candidates, totalling 2500 fits\n"
     ]
    },
    {
     "name": "stdout",
     "output_type": "stream",
     "text": [
      "Fitting 5 folds for each of 500 candidates, totalling 2500 fits\n"
     ]
    },
    {
     "name": "stdout",
     "output_type": "stream",
     "text": [
      "Fitting 5 folds for each of 500 candidates, totalling 2500 fits\n"
     ]
    },
    {
     "name": "stdout",
     "output_type": "stream",
     "text": [
      "Fitting 5 folds for each of 500 candidates, totalling 2500 fits\n"
     ]
    },
    {
     "name": "stdout",
     "output_type": "stream",
     "text": [
      "Fitting 5 folds for each of 500 candidates, totalling 2500 fits\n"
     ]
    },
    {
     "name": "stdout",
     "output_type": "stream",
     "text": [
      "Fitting 5 folds for each of 500 candidates, totalling 2500 fits\n"
     ]
    },
    {
     "name": "stdout",
     "output_type": "stream",
     "text": [
      "Fitting 5 folds for each of 500 candidates, totalling 2500 fits\n"
     ]
    },
    {
     "name": "stdout",
     "output_type": "stream",
     "text": [
      "Fitting 5 folds for each of 500 candidates, totalling 2500 fits\n"
     ]
    },
    {
     "name": "stdout",
     "output_type": "stream",
     "text": [
      "Fitting 5 folds for each of 500 candidates, totalling 2500 fits\n"
     ]
    },
    {
     "name": "stdout",
     "output_type": "stream",
     "text": [
      "Fitting 5 folds for each of 500 candidates, totalling 2500 fits\n"
     ]
    },
    {
     "name": "stdout",
     "output_type": "stream",
     "text": [
      "Fitting 5 folds for each of 500 candidates, totalling 2500 fits\n"
     ]
    },
    {
     "name": "stdout",
     "output_type": "stream",
     "text": [
      "Fitting 5 folds for each of 500 candidates, totalling 2500 fits\n"
     ]
    },
    {
     "name": "stdout",
     "output_type": "stream",
     "text": [
      "Fitting 5 folds for each of 500 candidates, totalling 2500 fits\n"
     ]
    },
    {
     "name": "stdout",
     "output_type": "stream",
     "text": [
      "Fitting 5 folds for each of 500 candidates, totalling 2500 fits\n"
     ]
    },
    {
     "name": "stdout",
     "output_type": "stream",
     "text": [
      "Fitting 5 folds for each of 500 candidates, totalling 2500 fits\n"
     ]
    },
    {
     "name": "stdout",
     "output_type": "stream",
     "text": [
      "Fitting 5 folds for each of 500 candidates, totalling 2500 fits\n"
     ]
    },
    {
     "name": "stdout",
     "output_type": "stream",
     "text": [
      "Fitting 5 folds for each of 500 candidates, totalling 2500 fits\n"
     ]
    },
    {
     "name": "stdout",
     "output_type": "stream",
     "text": [
      "Fitting 5 folds for each of 500 candidates, totalling 2500 fits\n"
     ]
    },
    {
     "name": "stdout",
     "output_type": "stream",
     "text": [
      "Fitting 5 folds for each of 500 candidates, totalling 2500 fits\n"
     ]
    },
    {
     "name": "stdout",
     "output_type": "stream",
     "text": [
      "Fitting 5 folds for each of 500 candidates, totalling 2500 fits\n"
     ]
    },
    {
     "name": "stdout",
     "output_type": "stream",
     "text": [
      "Fitting 5 folds for each of 500 candidates, totalling 2500 fits\n"
     ]
    },
    {
     "name": "stdout",
     "output_type": "stream",
     "text": [
      "Fitting 5 folds for each of 500 candidates, totalling 2500 fits\n"
     ]
    },
    {
     "name": "stdout",
     "output_type": "stream",
     "text": [
      "Fitting 5 folds for each of 500 candidates, totalling 2500 fits\n"
     ]
    },
    {
     "name": "stdout",
     "output_type": "stream",
     "text": [
      "Fitting 5 folds for each of 500 candidates, totalling 2500 fits\n"
     ]
    },
    {
     "name": "stdout",
     "output_type": "stream",
     "text": [
      "Fitting 5 folds for each of 500 candidates, totalling 2500 fits\n"
     ]
    },
    {
     "name": "stdout",
     "output_type": "stream",
     "text": [
      "Fitting 5 folds for each of 500 candidates, totalling 2500 fits\n"
     ]
    },
    {
     "name": "stdout",
     "output_type": "stream",
     "text": [
      "Fitting 5 folds for each of 500 candidates, totalling 2500 fits\n"
     ]
    },
    {
     "name": "stdout",
     "output_type": "stream",
     "text": [
      "Fitting 5 folds for each of 500 candidates, totalling 2500 fits\n"
     ]
    },
    {
     "name": "stdout",
     "output_type": "stream",
     "text": [
      "Fitting 5 folds for each of 500 candidates, totalling 2500 fits\n"
     ]
    },
    {
     "name": "stdout",
     "output_type": "stream",
     "text": [
      "Fitting 5 folds for each of 500 candidates, totalling 2500 fits\n"
     ]
    },
    {
     "name": "stdout",
     "output_type": "stream",
     "text": [
      "Fitting 5 folds for each of 500 candidates, totalling 2500 fits\n"
     ]
    },
    {
     "name": "stdout",
     "output_type": "stream",
     "text": [
      "Fitting 5 folds for each of 500 candidates, totalling 2500 fits\n"
     ]
    },
    {
     "name": "stdout",
     "output_type": "stream",
     "text": [
      "Fitting 5 folds for each of 500 candidates, totalling 2500 fits\n"
     ]
    },
    {
     "name": "stdout",
     "output_type": "stream",
     "text": [
      "Fitting 5 folds for each of 500 candidates, totalling 2500 fits\n"
     ]
    },
    {
     "name": "stdout",
     "output_type": "stream",
     "text": [
      "Fitting 5 folds for each of 500 candidates, totalling 2500 fits\n"
     ]
    },
    {
     "name": "stdout",
     "output_type": "stream",
     "text": [
      "Fitting 5 folds for each of 500 candidates, totalling 2500 fits\n"
     ]
    },
    {
     "name": "stdout",
     "output_type": "stream",
     "text": [
      "Fitting 5 folds for each of 500 candidates, totalling 2500 fits\n"
     ]
    },
    {
     "name": "stdout",
     "output_type": "stream",
     "text": [
      "Fitting 5 folds for each of 500 candidates, totalling 2500 fits\n"
     ]
    },
    {
     "name": "stdout",
     "output_type": "stream",
     "text": [
      "Fitting 5 folds for each of 500 candidates, totalling 2500 fits\n"
     ]
    },
    {
     "name": "stdout",
     "output_type": "stream",
     "text": [
      "Fitting 5 folds for each of 500 candidates, totalling 2500 fits\n"
     ]
    },
    {
     "name": "stdout",
     "output_type": "stream",
     "text": [
      "Fitting 5 folds for each of 500 candidates, totalling 2500 fits\n"
     ]
    },
    {
     "name": "stdout",
     "output_type": "stream",
     "text": [
      "Fitting 5 folds for each of 500 candidates, totalling 2500 fits\n"
     ]
    },
    {
     "name": "stdout",
     "output_type": "stream",
     "text": [
      "Fitting 5 folds for each of 500 candidates, totalling 2500 fits\n"
     ]
    },
    {
     "name": "stdout",
     "output_type": "stream",
     "text": [
      "Fitting 5 folds for each of 500 candidates, totalling 2500 fits\n"
     ]
    },
    {
     "name": "stdout",
     "output_type": "stream",
     "text": [
      "Fitting 5 folds for each of 500 candidates, totalling 2500 fits\n"
     ]
    },
    {
     "name": "stdout",
     "output_type": "stream",
     "text": [
      "Fitting 5 folds for each of 500 candidates, totalling 2500 fits\n"
     ]
    },
    {
     "name": "stdout",
     "output_type": "stream",
     "text": [
      "Fitting 5 folds for each of 500 candidates, totalling 2500 fits\n"
     ]
    },
    {
     "name": "stdout",
     "output_type": "stream",
     "text": [
      "Fitting 5 folds for each of 500 candidates, totalling 2500 fits\n"
     ]
    },
    {
     "name": "stdout",
     "output_type": "stream",
     "text": [
      "Done\n",
      "Total time:8001.203910589218 seconds\n",
      "Caching results to: data/bootstrap-lasso-50.pkl\n"
     ]
    }
   ],
   "source": [
    "from direct_regression import bootstrapped_cross_val\n",
    "def extract_params(estimator):\n",
    "    return estimator.coef_\n",
    "\n",
    "\n",
    "bootstrap_results = bootstrapped_cross_val(\n",
    "    model_init,\n",
    "    bootstrap_cache,\n",
    "    X0, X1, y0, y1,\n",
    "    optimisation_metric,\n",
    "    extract_params,\n",
    "    inner_cv=inner_cv,\n",
    "    load_from_cache=load_from_cache,\n",
    "    samples=bootstrap_samples\n",
    ")"
   ]
  },
  {
   "cell_type": "markdown",
   "id": "30",
   "metadata": {
    "papermill": {
     "duration": 0.230145,
     "end_time": "2021-11-19T18:11:46.494825",
     "exception": false,
     "start_time": "2021-11-19T18:11:46.264680",
     "status": "completed"
    },
    "tags": []
   },
   "source": [
    "####  Average treatment effects"
   ]
  },
  {
   "cell_type": "code",
   "execution_count": 21,
   "id": "31",
   "metadata": {
    "execution": {
     "iopub.execute_input": "2021-11-19T18:11:46.958937Z",
     "iopub.status.busy": "2021-11-19T18:11:46.958392Z",
     "iopub.status.idle": "2021-11-19T18:11:47.616310Z",
     "shell.execute_reply": "2021-11-19T18:11:47.615987Z"
    },
    "papermill": {
     "duration": 0.890661,
     "end_time": "2021-11-19T18:11:47.616386",
     "exception": false,
     "start_time": "2021-11-19T18:11:46.725725",
     "status": "completed"
    },
    "tags": [
     "hide_input"
    ]
   },
   "outputs": [
    {
     "data": {
      "text/html": [
       "<div>\n",
       "<style scoped>\n",
       "    .dataframe tbody tr th:only-of-type {\n",
       "        vertical-align: middle;\n",
       "    }\n",
       "\n",
       "    .dataframe tbody tr th {\n",
       "        vertical-align: top;\n",
       "    }\n",
       "\n",
       "    .dataframe thead th {\n",
       "        text-align: right;\n",
       "    }\n",
       "</style>\n",
       "<table border=\"1\" class=\"dataframe\">\n",
       "  <thead>\n",
       "    <tr style=\"text-align: right;\">\n",
       "      <th></th>\n",
       "      <th>ACE</th>\n",
       "      <th>ACE_std</th>\n",
       "    </tr>\n",
       "  </thead>\n",
       "  <tbody>\n",
       "    <tr>\n",
       "      <th>ridge</th>\n",
       "      <td>0.191426</td>\n",
       "      <td>0.032025</td>\n",
       "    </tr>\n",
       "    <tr>\n",
       "      <th>lasso</th>\n",
       "      <td>0.166372</td>\n",
       "      <td>0.033619</td>\n",
       "    </tr>\n",
       "    <tr>\n",
       "      <th>gbr</th>\n",
       "      <td>0.155090</td>\n",
       "      <td>0.028426</td>\n",
       "    </tr>\n",
       "  </tbody>\n",
       "</table>\n",
       "</div>"
      ],
      "text/plain": [
       "            ACE   ACE_std\n",
       "ridge  0.191426  0.032025\n",
       "lasso  0.166372  0.033619\n",
       "gbr    0.155090  0.028426"
      ]
     },
     "execution_count": 21,
     "metadata": {},
     "output_type": "execute_result"
    }
   ],
   "source": [
    "from direct_regression import compute_ate\n",
    "metrics, tau_estimatesb = compute_ate(bootstrap_results,X)\n",
    "metrics"
   ]
  },
  {
   "cell_type": "code",
   "execution_count": 22,
   "id": "32",
   "metadata": {
    "execution": {
     "iopub.execute_input": "2021-11-19T18:11:48.083057Z",
     "iopub.status.busy": "2021-11-19T18:11:48.082515Z",
     "iopub.status.idle": "2021-11-19T18:11:48.343212Z",
     "shell.execute_reply": "2021-11-19T18:11:48.343476Z"
    },
    "papermill": {
     "duration": 0.495091,
     "end_time": "2021-11-19T18:11:48.343571",
     "exception": false,
     "start_time": "2021-11-19T18:11:47.848480",
     "status": "completed"
    },
    "tags": []
   },
   "outputs": [
    {
     "data": {
      "image/png": "[encoded data removed]",
      "text/plain": [
       "<Figure size 1080x360 with 3 Axes>"
      ]
     },
     "metadata": {
      "needs_background": "light"
     },
     "output_type": "display_data"
    }
   ],
   "source": [
    "plot_ate_distribution(tau_estimatesb)"
   ]
  },
  {
   "cell_type": "markdown",
   "id": "33",
   "metadata": {
    "papermill": {
     "duration": 0.231576,
     "end_time": "2021-11-19T18:11:48.810578",
     "exception": false,
     "start_time": "2021-11-19T18:11:48.579002",
     "status": "completed"
    },
    "tags": []
   },
   "source": [
    "#### Distribution of hyper-parameters"
   ]
  },
  {
   "cell_type": "code",
   "execution_count": 23,
   "id": "34",
   "metadata": {
    "execution": {
     "iopub.execute_input": "2021-11-19T18:11:49.278198Z",
     "iopub.status.busy": "2021-11-19T18:11:49.277697Z",
     "iopub.status.idle": "2021-11-19T18:11:50.188968Z",
     "shell.execute_reply": "2021-11-19T18:11:50.188623Z"
    },
    "papermill": {
     "duration": 1.145656,
     "end_time": "2021-11-19T18:11:50.189046",
     "exception": false,
     "start_time": "2021-11-19T18:11:49.043390",
     "status": "completed"
    },
    "tags": [
     "hide_input"
    ]
   },
   "outputs": [
    {
     "data": {
      "image/png": "[encoded data removed]",
      "text/plain": [
       "<Figure size 360x288 with 1 Axes>"
      ]
     },
     "metadata": {
      "needs_background": "light"
     },
     "output_type": "display_data"
    },
    {
     "data": {
      "image/png": "[encoded data removed]",
      "text/plain": [
       "<Figure size 360x288 with 1 Axes>"
      ]
     },
     "metadata": {
      "needs_background": "light"
     },
     "output_type": "display_data"
    },
    {
     "data": {
      "image/png": "[encoded data removed]",
      "text/plain": [
       "<Figure size 360x288 with 1 Axes>"
      ]
     },
     "metadata": {
      "needs_background": "light"
     },
     "output_type": "display_data"
    },
    {
     "data": {
      "image/png": "[encoded data removed]",
      "text/plain": [
       "<Figure size 360x288 with 1 Axes>"
      ]
     },
     "metadata": {
      "needs_background": "light"
     },
     "output_type": "display_data"
    },
    {
     "data": {
      "image/png": "[encoded data removed]",
      "text/plain": [
       "<Figure size 1080x288 with 3 Axes>"
      ]
     },
     "metadata": {
      "needs_background": "light"
     },
     "output_type": "display_data"
    },
    {
     "data": {
      "image/png": "[encoded data removed]",
      "text/plain": [
       "<Figure size 1080x288 with 3 Axes>"
      ]
     },
     "metadata": {
      "needs_background": "light"
     },
     "output_type": "display_data"
    }
   ],
   "source": [
    "from direct_regression import plot_hyperparam_distributions\n",
    "for model, (results0, results1) in bootstrap_results.items():\n",
    "    plot_hyperparam_distributions(results0,f\"{model}-control\")\n",
    "    plot_hyperparam_distributions(results1,f\"{model}-treated\")"
   ]
  }
 ],
 "metadata": {
  "celltoolbar": "Tags",
  "kernelspec": {
   "display_name": "Python 3 (ipykernel)",
   "language": "python",
   "name": "python3"
  },
  "language_info": {
   "codemirror_mode": {
    "name": "ipython",
    "version": 3
   },
   "file_extension": ".py",
   "mimetype": "text/x-python",
   "name": "python",
   "nbconvert_exporter": "python",
   "pygments_lexer": "ipython3",
   "version": "3.9.7"
  },
  "papermill": {
   "default_parameters": {},
   "duration": 9259.918269,
   "end_time": "2021-11-19T18:11:50.843683",
   "environment_variables": {},
   "exception": null,
   "input_path": "Direct-Regression.ipynb",
   "output_path": "results/Direct-Regression-lasso-50.ipynb",
   "parameters": {
    "configuration_name": "lasso-50",
    "data_file": "data/all_lasso_selected_50.csv",
    "outcome": "y_wsce",
    "test": false,
    "treatment": "redufl"
   },
   "start_time": "2021-11-19T15:37:30.925414",
   "version": "2.3.3"
  }
 },
 "nbformat": 4,
 "nbformat_minor": 5
}