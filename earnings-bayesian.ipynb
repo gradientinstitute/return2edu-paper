{
 "cells": [
  {
   "attachments": {},
   "cell_type": "markdown",
   "id": "0",
   "metadata": {
    "tags": [
     "Overview"
    ]
   },
   "source": [
    "# Earnings effect -- Bayesian Version\n",
    "\n",
    "## Response Model\n",
    "\n",
    "How well can we predict outcomes $Y$ conditional on treatment $T$ and other covariates $Z$?\n",
    "\n",
    "### Treatent variables\n",
    "\n",
    "   - **reduhl**\tCompleted re-education based on highest level of attainment\n",
    "   - **redudl**\tCompleted re-education based on detailed qualifications\n",
    "   - **redufl**\tCompleted re-education using highest lvl and detailed qualifications.\n",
    "\n",
    "### Outcome variables\n",
    "   - Mental health in 2019 (**mh**). This is the transformed mental health scores from the aggregation of mental health items of the SF-36 Health Survey, as reported by the individual in 2019. It ranges from 0 to 100, with higher scores indicating better mental health.  \n",
    "   - Working hours in 2019 (**wkhr**) records the total number of hours the individual works in all jobs in a week on average. Working hours are set to 0 for those not working. \n",
    "   - Hourly Wages in 2019 (**rlwage**) records the average hourly wage for the individual’s main job in 2019. Hourly wages are set to 0 for those not working and set to missing for those reporting working more than 100 hours a week. \n",
    "   \n",
    "#### Columns explicitly excluded\n",
    "   - **xwaveid** (unique identifier)\n",
    "   - **p_rcom*** (timing of completion of re-education, proxies treatment) TODO think about how we would include this\n",
    "   - **p_cotrl** (first avail 2003)\n",
    "   - **p_rdf*** (first avail 2012)"
   ]
  },
  {
   "cell_type": "code",
   "execution_count": 1,
   "id": "1",
   "metadata": {
    "tags": [
     "hide_cell"
    ]
   },
   "outputs": [],
   "source": [
    "from pathlib import Path\n",
    "from dataclasses import dataclass, fields\n",
    "import numpy as np\n",
    "import pandas as pd\n",
    "import statsmodels.api as sm\n",
    "import matplotlib.pyplot as plt\n",
    "\n",
    "import numpyro as pyro\n",
    "import numpyro.distributions as dist\n",
    "from numpyro.infer import MCMC, NUTS\n",
    "from jax import random\n",
    "\n",
    "from scipy.stats import norm, mstats\n",
    "from estimators import BayesianRidgeStat\n",
    "from sklearn.model_selection import cross_validate, KFold, StratifiedKFold, GridSearchCV\n",
    "from sklearn.metrics import r2_score, balanced_accuracy_score, accuracy_score, log_loss\n",
    "from sklearn.linear_model import LogisticRegressionCV\n",
    "from sklearn.base import BaseEstimator\n",
    "from sklearn.kernel_approximation import RBFSampler, Nystroem\n",
    "from sklearn.gaussian_process import GaussianProcessRegressor\n",
    "from sklearn.gaussian_process.kernels import Matern, DotProduct, WhiteKernel, Sum\n",
    "\n",
    "from lightgbm import LGBMClassifier\n",
    "from xbcausalforest import XBCF\n",
    "\n",
    "from reed import drop_missing_treatment_or_outcome, Model, transform_outcome\n",
    "from direct_regression import seperate_and_transform_data, print_unconditional_effects\n",
    "\n",
    "pyro.enable_x64()\n",
    "%matplotlib inline"
   ]
  },
  {
   "attachments": {},
   "cell_type": "markdown",
   "id": "2",
   "metadata": {},
   "source": [
    "## Analysis Parameters"
   ]
  },
  {
   "cell_type": "code",
   "execution_count": 2,
   "id": "3",
   "metadata": {
    "tags": [
     "parameters"
    ]
   },
   "outputs": [],
   "source": [
    "log_outcome=False\n",
    "standardize_outcome=False\n",
    "exclude_patterns = [\n",
    "    '^reduhl$', '^rehllt$', '^redudl$', '^redufl$', '^redllt$', '^refllt$',\n",
    "    '^rlwage$', '^mh$', '^mhbm$', '^wkhr$', '^y_', '^p_rcom','^p_rdf','^p_cotrl',\n",
    "    '^xwaveid$','p_rcom18','^aedcq', '^abnfsty','^aedcqfpt','^aedqstdy'\n",
    "]\n",
    "data_load_func = lambda filepath: pd.read_csv(filepath, index_col='xwaveid')\n",
    "\n",
    "#configuration_name = 'default'\n",
    "outcome = 'y_wscei'\n",
    "treatment = 'redufl'\n",
    "test = False\n",
    "data_file = Path(\"~/Code/re-education/data/all_lasso_selected_100_restricted.csv\")"
   ]
  },
  {
   "attachments": {},
   "cell_type": "markdown",
   "id": "4",
   "metadata": {},
   "source": [
    "## Load the data"
   ]
  },
  {
   "cell_type": "code",
   "execution_count": 3,
   "id": "5",
   "metadata": {
    "tags": [
     "hide_cell"
    ]
   },
   "outputs": [
    {
     "name": "stdout",
     "output_type": "stream",
     "text": [
      "Dropped 0 rows missing treatment or outcome.\n"
     ]
    },
    {
     "data": {
      "image/png": "[encoded data removed]",
      "text/plain": [
       "<Figure size 640x480 with 1 Axes>"
      ]
     },
     "metadata": {},
     "output_type": "display_data"
    }
   ],
   "source": [
    "data = data_load_func(data_file)\n",
    "drop_missing_treatment_or_outcome(data, treatment, outcome)\n",
    "data[outcome] = transform_outcome(data[outcome],log_outcome, standardize_outcome)\n",
    "\n",
    "    \n",
    "plt.hist(data[outcome])\n",
    "plt.xlabel(outcome)\n",
    "plt.ylabel(\"count\")\n",
    "plt.title(\"Distribution of outcomes\");"
   ]
  },
  {
   "attachments": {},
   "cell_type": "markdown",
   "id": "6",
   "metadata": {},
   "source": [
    "## Prepare data for modeling\n",
    "\n",
    "- split into treated/control\n",
    "- impute missing values and scale\n",
    "- separate features from outcomes&treatments\n",
    "\n"
   ]
  },
  {
   "cell_type": "code",
   "execution_count": 4,
   "id": "7",
   "metadata": {},
   "outputs": [
    {
     "name": "stdout",
     "output_type": "stream",
     "text": [
      "Control data dimensions:  (4043, 91)\n",
      "Treated data dimensions: (1398, 91)\n"
     ]
    }
   ],
   "source": [
    "from direct_regression import seperate_and_transform_data\n",
    "X0, X1, y0, y1, X, y, t, features = seperate_and_transform_data(data, treatment, outcome)\n",
    "print(\"Control data dimensions: \", X0.shape)\n",
    "print(\"Treated data dimensions:\", X1.shape)"
   ]
  },
  {
   "attachments": {},
   "cell_type": "markdown",
   "id": "8",
   "metadata": {},
   "source": [
    "## Compute unconditional/unadjusted estimate of treatment effect"
   ]
  },
  {
   "cell_type": "code",
   "execution_count": 5,
   "id": "9",
   "metadata": {},
   "outputs": [
    {
     "name": "stdout",
     "output_type": "stream",
     "text": [
      "Proportion Treated:26%\n",
      "Average outcome under Control:529.34±16.41\n",
      "Average outcome under Treatment:860.37±27.84\n",
      "Unadjusted treatment estimate 331.03\n"
     ]
    }
   ],
   "source": [
    "print_unconditional_effects(data, treatment, y0, y1)"
   ]
  },
  {
   "attachments": {},
   "cell_type": "markdown",
   "id": "10",
   "metadata": {},
   "source": [
    "## Statsmodels\n",
    "\n",
    "### OLS S-learner"
   ]
  },
  {
   "cell_type": "code",
   "execution_count": 6,
   "id": "11",
   "metadata": {
    "scrolled": false
   },
   "outputs": [
    {
     "name": "stdout",
     "output_type": "stream",
     "text": [
      "                            OLS Regression Results                            \n",
      "==============================================================================\n",
      "Dep. Variable:                      y   R-squared:                       0.343\n",
      "Model:                            OLS   Adj. R-squared:                  0.331\n",
      "Method:                 Least Squares   F-statistic:                     30.30\n",
      "Date:                Mon, 19 Jun 2023   Prob (F-statistic):               0.00\n",
      "Time:                        17:37:47   Log-Likelihood:                -44444.\n",
      "No. Observations:                5441   AIC:                         8.907e+04\n",
      "Df Residuals:                    5348   BIC:                         8.969e+04\n",
      "Df Model:                          92                                         \n",
      "Covariance Type:            nonrobust                                         \n",
      "==============================================================================\n",
      "                 coef    std err          t      P>|t|      [0.025      0.975]\n",
      "------------------------------------------------------------------------------\n",
      "const        598.3285     13.789     43.391      0.000     571.296     625.361\n",
      "treatment     62.5361     28.578      2.188      0.029       6.511     118.561\n",
      "ahgeng1      -27.9779     12.709     -2.201      0.028     -52.892      -3.064\n",
      "ahges2         5.1951     14.098      0.368      0.713     -22.443      32.833\n",
      "adocond       -4.1861     12.573     -0.333      0.739     -28.834      20.462\n",
      "adosecno     -16.7436     12.021     -1.393      0.164     -40.309       6.822\n",
      "ahhp1         -5.9181     12.301     -0.481      0.630     -30.033      18.197\n",
      "acpno         21.1559     12.632      1.675      0.094      -3.608      45.920\n",
      "ahspown       25.1812     13.177      1.911      0.056      -0.652      51.014\n",
      "ahsmgfin       8.5702     11.988      0.715      0.475     -14.931      32.071\n",
      "axposml       16.0777     12.924      1.244      0.214      -9.258      41.414\n",
      "ahh0_4        50.2326     16.709      3.006      0.003      17.476      82.989\n",
      "ahh10_14     -24.6503     96.461     -0.256      0.798    -213.753     164.453\n",
      "ahhsos         5.4830     13.285      0.413      0.680     -20.560      31.526\n",
      "ahhfam02     -10.9064     12.365     -0.882      0.378     -35.147      13.334\n",
      "achu_sf       -2.6768     12.022     -0.223      0.824     -26.246      20.892\n",
      "acpu_me      -34.2930     12.083     -2.838      0.005     -57.981     -10.605\n",
      "ahiwscei      10.5698     19.255      0.549      0.583     -27.178      48.317\n",
      "ahibifip     -31.6825     13.535     -2.341      0.019     -58.217      -5.148\n",
      "ahifapti     -70.6491     15.792     -4.474      0.000    -101.608     -39.690\n",
      "ahgsex       -74.9750     16.054     -4.670      0.000    -106.448     -43.502\n",
      "ahgeab        -8.8417     12.101     -0.731      0.465     -32.564      14.881\n",
      "ahgms        -16.1997     14.692     -1.103      0.270     -45.002      12.602\n",
      "ahgrf         -1.1801     21.715     -0.054      0.957     -43.751      41.391\n",
      "ahgscq       -13.3411     14.082     -0.947      0.343     -40.947      14.265\n",
      "arg03         -7.3756     12.089     -0.610      0.542     -31.075      16.324\n",
      "abncapuf      29.5484     22.169      1.333      0.183     -13.912      73.009\n",
      "aoidvryf      -5.6288     15.726     -0.358      0.720     -36.457      25.200\n",
      "aoirntf      -16.7442     16.143     -1.037      0.300     -48.391      14.903\n",
      "awscef        -2.9949     16.692     -0.179      0.858     -35.718      29.728\n",
      "awsfef        13.7206     16.736      0.820      0.412     -19.088      46.529\n",
      "atifditp      85.8752     28.080      3.058      0.002      30.826     140.924\n",
      "ahhd5_9       42.3627     14.456      2.930      0.003      14.023      70.702\n",
      "ahhd1014      39.9905     96.366      0.415      0.678    -148.926     228.907\n",
      "ahhura       -29.9453     12.720     -2.354      0.019     -54.882      -5.008\n",
      "afmagelh       3.1083     13.184      0.236      0.814     -22.738      28.954\n",
      "aedqobd        1.9743     12.862      0.154      0.878     -23.240      27.188\n",
      "aedqoms       17.8069     12.649      1.408      0.159      -6.989      42.603\n",
      "aedqodc       62.8694     12.411      5.066      0.000      38.538      87.201\n",
      "aehtjbyr     -70.8848     17.905     -3.959      0.000    -105.986     -35.784\n",
      "aehtujyr     -47.1839     12.860     -3.669      0.000     -72.396     -21.972\n",
      "aujljhru      -4.5277     11.956     -0.379      0.705     -27.966      18.910\n",
      "ajbprhr       13.4499     12.801      1.051      0.293     -11.645      38.544\n",
      "ajbmsch      -25.1997     12.272     -2.053      0.040     -49.257      -1.142\n",
      "ajbmhrh       10.6928     12.726      0.840      0.401     -14.255      35.640\n",
      "ajbmpgj       29.0623     12.270      2.369      0.018       5.009      53.116\n",
      "ajbmwpsz      19.9378     13.062      1.526      0.127      -5.668      45.544\n",
      "artage1     -246.6527     15.636    -15.775      0.000    -277.305    -216.001\n",
      "artiage1      18.9829     13.718      1.384      0.166      -7.911      45.877\n",
      "ajsl4wk        7.7723     12.829      0.606      0.545     -17.377      32.922\n",
      "awslya        38.5823     12.207      3.161      0.002      14.653      62.512\n",
      "awsfga        38.2708     19.023      2.012      0.044       0.978      75.564\n",
      "abnfdsp      -19.9862     12.267     -1.629      0.103     -44.035       4.062\n",
      "aoifirr        5.4727     11.737      0.466      0.641     -17.536      28.482\n",
      "aoifrsv        1.2567     11.774      0.107      0.915     -21.826      24.339\n",
      "aoifpub       14.6272     11.864      1.233      0.218      -8.630      37.885\n",
      "ancsex1        7.5309     11.779      0.639      0.523     -15.562      30.623\n",
      "aicprob       40.4130     13.192      3.064      0.002      14.552      66.274\n",
      "ahelthyr      -7.0615     11.786     -0.599      0.549     -30.166      16.043\n",
      "alosateo      18.6311     13.175      1.414      0.157      -7.197      44.459\n",
      "aloimpew      34.8635     14.325      2.434      0.015       6.780      62.947\n",
      "aloimprl     -18.2886     12.618     -1.449      0.147     -43.025       6.448\n",
      "amhn10yr      13.8803     13.161      1.055      0.292     -11.921      39.681\n",
      "amhlyr        -2.3707     12.662     -0.187      0.851     -27.193      22.452\n",
      "amhrearo      10.9045     11.785      0.925      0.355     -12.199      34.008\n",
      "amhaddkn     -11.6665     11.824     -0.987      0.324     -34.847      11.513\n",
      "ajbmo61      -21.7985     17.784     -1.226      0.220     -56.663      13.066\n",
      "ajbmo6s       40.8989     19.252      2.124      0.034       3.156      78.641\n",
      "artage        15.6807     13.896      1.128      0.259     -11.561      42.923\n",
      "aujljin1       8.9522     11.986      0.747      0.455     -14.545      32.449\n",
      "ajbempt      -31.8209     13.632     -2.334      0.020     -58.544      -5.097\n",
      "ajbmhruc     -11.0697     14.996     -0.738      0.460     -40.468      18.329\n",
      "atcyng       -33.0883     26.539     -1.247      0.213     -85.116      18.940\n",
      "ahsyrcad     -31.2058     15.196     -2.054      0.040     -60.995      -1.416\n",
      "atcnr        -16.7045     16.821     -0.993      0.321     -49.681      16.272\n",
      "ahhyng       -34.8509     26.117     -1.334      0.182     -86.051      16.349\n",
      "afmmo6s       11.1330     12.163      0.915      0.360     -12.712      34.978\n",
      "aedqunk       -1.0425     11.871     -0.088      0.930     -24.315      22.230\n",
      "awsly        -28.2607     12.198     -2.317      0.021     -52.174      -4.348\n",
      "awscme       148.1584     22.191      6.676      0.000     104.654     191.662\n",
      "aoiint        -7.0280     14.442     -0.487      0.627     -35.340      21.284\n",
      "aoidvry      -40.8829     14.143     -2.891      0.004     -68.610     -13.156\n",
      "aoifinvp     -10.4518     19.394     -0.539      0.590     -48.473      27.569\n",
      "aoifinvn      -9.5989     11.938     -0.804      0.421     -33.001      13.804\n",
      "atifep        -5.3770     29.441     -0.183      0.855     -63.093      52.339\n",
      "atifen         2.5469     11.876      0.214      0.830     -20.735      25.829\n",
      "aoifnpt       -5.4618     11.818     -0.462      0.644     -28.630      17.707\n",
      "agh3a         55.4144     14.129      3.922      0.000      27.715      83.114\n",
      "agh8           3.4909     13.707      0.255      0.799     -23.381      30.363\n",
      "aatwkwms     -18.4250     12.155     -1.516      0.130     -42.253       5.403\n",
      "apashare      26.4485     13.148      2.012      0.044       0.673      52.224\n",
      "apawkmfh      26.2881     12.241      2.148      0.032       2.291      50.286\n",
      "apawkbp      -11.4084     11.884     -0.960      0.337     -34.706      11.889\n",
      "==============================================================================\n",
      "Omnibus:                     5882.346   Durbin-Watson:                   1.968\n",
      "Prob(Omnibus):                  0.000   Jarque-Bera (JB):          1887858.856\n",
      "Skew:                           4.907   Prob(JB):                         0.00\n",
      "Kurtosis:                      93.725   Cond. No.                         27.4\n",
      "==============================================================================\n",
      "\n",
      "Notes:\n",
      "[1] Standard Errors assume that the covariance matrix of the errors is correctly specified.\n"
     ]
    }
   ],
   "source": [
    "Xt = np.hstack((t[:, np.newaxis], X))\n",
    "Xt = pd.DataFrame(data=Xt, columns=[\"treatment\"] + features)\n",
    "ols = sm.OLS(y, sm.add_constant(Xt))\n",
    "res = ols.fit()\n",
    "ate_ols = res.params.loc[\"treatment\"]\n",
    "ci_ols = res.conf_int().loc[\"treatment\"]\n",
    "print(res.summary())"
   ]
  },
  {
   "attachments": {},
   "cell_type": "markdown",
   "id": "5b65c0b7",
   "metadata": {},
   "source": [
    "## Train a propensity score model\n",
    "\n",
    "This should help with bias in estimating treatment effects with Bayesian models.\n",
    "\n",
    "See:\n",
    "\n",
    "[Hahn, P.R., Murray, J.S. and Carvalho, C.M., 2020. Bayesian regression tree models for causal inference: Regularization, confounding, and heterogeneous effects (with discussion). Bayesian Analysis, 15(3), pp.965-1056.](https://projecteuclid.org/journals/bayesian-analysis/volume-15/issue-3/Bayesian-Regression-Tree-Models-for-Causal-Inference--Regularization-Confounding/10.1214/19-BA1195.pdf)\n",
    "\n",
    "\n",
    "For more information."
   ]
  },
  {
   "cell_type": "code",
   "execution_count": 7,
   "id": "3de1ef0e",
   "metadata": {},
   "outputs": [],
   "source": [
    "linear_prop = LogisticRegressionCV(max_iter=500)\n",
    "nonlin_prop = GridSearchCV(\n",
    "    LGBMClassifier(),\n",
    "    param_grid={\"learning_rate\": [1e-3, 1e-2, 5e-2, 0.1, 0.5]},\n",
    "    scoring=\"neg_log_loss\",\n",
    "    n_jobs=-1\n",
    ")\n",
    "\n",
    "\n",
    "@dataclass\n",
    "class ScoreMap:\n",
    "    sfn: callable\n",
    "    sres: list\n",
    "        \n",
    "    def __init__(self, sfn):\n",
    "        self.sfn = sfn\n",
    "        self.sres = []\n",
    "\n",
    "        \n",
    "@dataclass\n",
    "class Scores:\n",
    "    accuracy: ScoreMap\n",
    "    baccuracy: ScoreMap\n",
    "    logloss: ScoreMap\n",
    "    \n",
    "    def __init__(self):\n",
    "        self.accuracy = ScoreMap(sfn=accuracy_score)\n",
    "        self.baccuracy = ScoreMap(sfn=balanced_accuracy_score)\n",
    "        self.logloss = ScoreMap(sfn=log_loss)\n",
    "\n",
    "        \n",
    "@dataclass\n",
    "class ModelMap:\n",
    "    model: BaseEstimator\n",
    "    propensity: np.ndarray\n",
    "    scores: Scores\n",
    "    \n",
    "    def __init__(self, model):\n",
    "        self.model = model\n",
    "        self.propensity = np.zeros(len(t))  # zeros_like becomes immutable?\n",
    "        self.scores = Scores()\n",
    "        \n",
    "    def set_ps(self, ind, p):\n",
    "        self.propensity[ind] = p\n",
    "        \n",
    "\n",
    "pmodels = {\n",
    "    \"logistic\": ModelMap(model=linear_prop),\n",
    "    \"gbc\": ModelMap(model=nonlin_prop)\n",
    "}"
   ]
  },
  {
   "cell_type": "code",
   "execution_count": 8,
   "id": "5e27d0cc",
   "metadata": {},
   "outputs": [
    {
     "name": "stdout",
     "output_type": "stream",
     "text": [
      "Round 0\n",
      "Round 1\n",
      "Round 2\n",
      "Round 3\n",
      "Round 4\n"
     ]
    }
   ],
   "source": [
    "for i, (tr_ind, ts_ind) in enumerate(StratifiedKFold(n_splits=5, shuffle=True).split(X, t)):\n",
    "    t_tr, t_ts = t[tr_ind], t[ts_ind]\n",
    "    X_tr, X_ts = X[tr_ind], X[ts_ind]\n",
    "    \n",
    "    print(f\"Round {i}\")\n",
    "    for name, props in pmodels.items():\n",
    "        props.model.fit(X_tr, t_tr)\n",
    "        p = props.model.predict_proba(X_ts)[:, 1]\n",
    "        t_hat = (p > 0.5).astype(int)\n",
    "        \n",
    "        props.scores.logloss.sres.append(props.scores.logloss.sfn(t_ts, p))\n",
    "        props.scores.baccuracy.sres.append(props.scores.baccuracy.sfn(t_ts, t_hat))\n",
    "        props.scores.accuracy.sres.append(props.scores.accuracy.sfn(t_ts, t_hat))\n",
    "        \n",
    "        props.set_ps(ts_ind, p)"
   ]
  },
  {
   "cell_type": "code",
   "execution_count": 9,
   "id": "009c6bbf",
   "metadata": {},
   "outputs": [
    {
     "name": "stdout",
     "output_type": "stream",
     "text": [
      "logistic-accuracy: 0.7431 (0.0030)\n",
      "logistic-baccuracy: 0.5093 (0.0128)\n",
      "logistic-logloss: 0.5245 (0.0127)\n",
      "gbc-accuracy: 0.7363 (0.0103)\n",
      "gbc-baccuracy: 0.5350 (0.0227)\n",
      "gbc-logloss: 0.5211 (0.0095)\n"
     ]
    }
   ],
   "source": [
    "for name, props in pmodels.items():\n",
    "    for f in fields(props.scores):\n",
    "        score = getattr(props.scores, f.name)\n",
    "        smean, sstd = np.mean(score.sres), np.std(score.sres, ddof=1)\n",
    "        print(f\"{name}-{f.name}: {smean:.4f} ({sstd:.4f})\")"
   ]
  },
  {
   "cell_type": "code",
   "execution_count": 10,
   "id": "92f77633",
   "metadata": {},
   "outputs": [],
   "source": [
    "# There is not much difference in model performance, so go with logistic model for simplicity\n",
    "p = linear_prop.fit(X, t).predict(X)\n",
    "#p = pmodels[\"gbc\"].propensity\n",
    "\n",
    "# RBF Features\n",
    "Xrbf = Nystroem(gamma=1 / (10 * X.var() * X.shape[1]), n_components=1000).fit_transform(X)\n",
    "#Xrbf = RBFSampler(gamma=\"scale\", n_components=500).fit_transform(X)\n",
    "\n",
    "# Augment features with this score\n",
    "Xt = np.hstack((t[:, np.newaxis], p[:, np.newaxis], Xrbf))"
   ]
  },
  {
   "attachments": {},
   "cell_type": "markdown",
   "id": "12",
   "metadata": {},
   "source": [
    "## Scikit learn Bayesian Estimators\n",
    "\n",
    "### Bayesian Ridge S-learner\n",
    "\n",
    "Coefficient statistics"
   ]
  },
  {
   "cell_type": "code",
   "execution_count": 11,
   "id": "13",
   "metadata": {},
   "outputs": [
    {
     "name": "stdout",
     "output_type": "stream",
     "text": [
      "Bayesian Ridge simple model - coefficient stats:\n",
      "  R-squared = 0.4315\n",
      "  ATE: 73.9784 (27.6459)\n",
      "  t: 2.6759\n",
      "  p-value: 0.0075\n",
      "  CI (0.025, 0.975): [19.7934, 128.1634]\n"
     ]
    }
   ],
   "source": [
    "blr = BayesianRidgeStat()\n",
    "blr.fit(Xt, y)\n",
    "\n",
    "score = blr.score(Xt, y)  # WARNING: score on training data!\n",
    "\n",
    "# Coefficient statistics\n",
    "stats = blr.model_statistics()\n",
    "ate_blr, se_blr = stats.beta[0], stats.std_err[0]\n",
    "ci_blr = norm.interval(loc=ate_blr, scale=se_blr, confidence=0.95)\n",
    "\n",
    "print(\"Bayesian Ridge simple model - coefficient stats:\")\n",
    "print(f\"  R-squared = {score:.4f}\")\n",
    "print(f\"  ATE: {ate_blr:.4f} ({se_blr:.4f})\")\n",
    "print(f\"  t: {stats.t_stat[0]:.4f}\")\n",
    "print(f\"  p-value: {stats.p_value[0]:.4f}\")\n",
    "print(f\"  CI (0.025, 0.975): [{ci_blr[0]:.4f}, {ci_blr[1]:.4f}]\")"
   ]
  },
  {
   "attachments": {},
   "cell_type": "markdown",
   "id": "d2e67a75",
   "metadata": {},
   "source": [
    "## Gaussian Process\n",
    "\n",
    "This Gaussian process implements the recommended model from (Hahn, 2020) above,\n",
    "$$\n",
    "    f(x_i, \\pi_i, t_i) = \\mu(x_i, \\pi_i) + \\tau(x_i)\\cdot t_i\n",
    "$$\n",
    "as a GP with the composite kernel,\n",
    "$$\n",
    "    k_{\\!f}([x_i, \\pi_i, t_i], [x_j, \\pi_j, t_j]) \n",
    "        = k_\\mu([x_i, \\pi_i], [x_j, \\pi_j])\n",
    "        + k_\\tau(x_i, x_j) \\cdot t_i t_j\n",
    "$$"
   ]
  },
  {
   "cell_type": "code",
   "execution_count": 12,
   "id": "457bb7fd",
   "metadata": {},
   "outputs": [],
   "source": [
    "# Function to apply a kernel to a subset of dimensions:\n",
    "\n",
    "def kernel_dimensions(KernelClass, Xdims):\n",
    "    \n",
    "    class KernelDims(KernelClass):\n",
    "        \n",
    "        def __call__(self, X, Y=None, eval_gradient=False):\n",
    "            Xd = X[:, Xdims]\n",
    "            Yd = Y\n",
    "            if Y is not None:\n",
    "                Yd = Y[:, Xdims]\n",
    "            return super().__call__(Xd, Yd, eval_gradient)\n",
    "        \n",
    "        def diag(self, X):\n",
    "            Xd = X[:, Xdims]\n",
    "            return super().diag(Xd)\n",
    "        \n",
    "    return KernelDims"
   ]
  },
  {
   "cell_type": "code",
   "execution_count": 13,
   "id": "7c067979",
   "metadata": {},
   "outputs": [],
   "source": [
    "kernel = 1.0 * kernel_dimensions(Matern, slice(1, None))(length_scale=10., nu=1.5, length_scale_bounds=(1e-3, 1e3)) \\\n",
    "    + kernel_dimensions(DotProduct, [0])(sigma_0=0, sigma_0_bounds=\"fixed\") \\\n",
    "    * (0.1 * kernel_dimensions(Matern, slice(2, None))(length_scale=50., nu=1.5, length_scale_bounds=(1e-3, 1e3)) + 1e-3) \\\n",
    "    + WhiteKernel()\n",
    "\n",
    "gp = GaussianProcessRegressor(kernel=kernel, normalize_y=True)\n",
    "\n",
    "# This takes a while for 5000 samples...\n",
    "Xg = np.hstack((t[:, np.newaxis], p[:, np.newaxis], X))\n",
    "gp.fit(Xg, y)\n",
    "score = gp.score(Xg, y) # WARNING: Score on training data - this is likely to overfit"
   ]
  },
  {
   "cell_type": "code",
   "execution_count": 14,
   "id": "2d727ddb",
   "metadata": {},
   "outputs": [
    {
     "name": "stdout",
     "output_type": "stream",
     "text": [
      "Gaussian Process 1.42**2 * KernelDims(length_scale=16, nu=1.5) + KernelDims(sigma_0=0) * 0.0517**2 * KernelDims(length_scale=243, nu=1.5) + 0.0312**2 + WhiteKernel(noise_level=0.368):\n",
      "  R-squared = 0.7595\n",
      "  ATE: 58.1553 (23.8691)\n",
      "  CI (0.025, 0.975): [11.3728, 104.9378]\n"
     ]
    }
   ],
   "source": [
    "# ATE sampling\n",
    "Xt0 = np.hstack((np.zeros_like(t)[:, np.newaxis], p[:, np.newaxis], X))\n",
    "Xt1 = np.hstack((np.ones_like(t)[:, np.newaxis], p[:, np.newaxis], X))\n",
    "f0, K0 = gp.predict(Xt0, return_cov=True)\n",
    "f1, K1 = gp.predict(Xt1, return_cov=True)\n",
    "\n",
    "samples = 100\n",
    "y_0_samples = np.random.multivariate_normal(mean=f0, cov=K0, size=samples)\n",
    "y_1_samples = np.random.multivariate_normal(mean=f1, cov=K1, size=samples)\n",
    "ate_gp_samples = (y_1_samples - y_0_samples).mean(axis=1)\n",
    "\n",
    "ate_gp = ate_gp_samples.mean()\n",
    "se_gp = np.std(ate_gp_samples, ddof=1)\n",
    "ci_gp = norm.interval(loc=ate_gp, scale=se_gp, confidence=0.95)\n",
    "\n",
    "print(f\"Gaussian Process {gp.kernel_}:\")\n",
    "print(f\"  R-squared = {score:.4f}\")\n",
    "print(f\"  ATE: {ate_gp:.4f} ({se_gp:.4f})\")\n",
    "print(f\"  CI (0.025, 0.975): [{ci_gp[0]:.4f}, {ci_gp[1]:.4f}]\")"
   ]
  },
  {
   "attachments": {},
   "cell_type": "markdown",
   "id": "97adf6d0",
   "metadata": {},
   "source": [
    "Check if GP is overfitting"
   ]
  },
  {
   "cell_type": "code",
   "execution_count": 15,
   "id": "260feb6f",
   "metadata": {},
   "outputs": [
    {
     "name": "stderr",
     "output_type": "stream",
     "text": [
      "/Users/ste702/Library/Caches/pypoetry/virtualenvs/re-education-voxM2JMW-py3.11/lib/python3.11/site-packages/joblib/externals/loky/process_executor.py:700: UserWarning: A worker stopped while some jobs were given to the executor. This can be caused by a too short worker timeout or by a memory leak.\n",
      "  warnings.warn(\n"
     ]
    },
    {
     "data": {
      "text/html": [
       "<div>\n",
       "<style scoped>\n",
       "    .dataframe tbody tr th:only-of-type {\n",
       "        vertical-align: middle;\n",
       "    }\n",
       "\n",
       "    .dataframe tbody tr th {\n",
       "        vertical-align: top;\n",
       "    }\n",
       "\n",
       "    .dataframe thead th {\n",
       "        text-align: right;\n",
       "    }\n",
       "</style>\n",
       "<table border=\"1\" class=\"dataframe\">\n",
       "  <thead>\n",
       "    <tr style=\"text-align: right;\">\n",
       "      <th></th>\n",
       "      <th>fit_time</th>\n",
       "      <th>score_time</th>\n",
       "      <th>test_score</th>\n",
       "      <th>train_score</th>\n",
       "    </tr>\n",
       "  </thead>\n",
       "  <tbody>\n",
       "    <tr>\n",
       "      <th>count</th>\n",
       "      <td>5.000000</td>\n",
       "      <td>5.000000</td>\n",
       "      <td>5.000000</td>\n",
       "      <td>5.000000</td>\n",
       "    </tr>\n",
       "    <tr>\n",
       "      <th>mean</th>\n",
       "      <td>509.425016</td>\n",
       "      <td>0.547141</td>\n",
       "      <td>0.333814</td>\n",
       "      <td>0.810188</td>\n",
       "    </tr>\n",
       "    <tr>\n",
       "      <th>std</th>\n",
       "      <td>600.236203</td>\n",
       "      <td>0.074560</td>\n",
       "      <td>0.069867</td>\n",
       "      <td>0.047718</td>\n",
       "    </tr>\n",
       "    <tr>\n",
       "      <th>min</th>\n",
       "      <td>108.042797</td>\n",
       "      <td>0.451884</td>\n",
       "      <td>0.235072</td>\n",
       "      <td>0.749131</td>\n",
       "    </tr>\n",
       "    <tr>\n",
       "      <th>25%</th>\n",
       "      <td>207.196805</td>\n",
       "      <td>0.487863</td>\n",
       "      <td>0.286029</td>\n",
       "      <td>0.771656</td>\n",
       "    </tr>\n",
       "    <tr>\n",
       "      <th>50%</th>\n",
       "      <td>250.170238</td>\n",
       "      <td>0.581413</td>\n",
       "      <td>0.369031</td>\n",
       "      <td>0.825292</td>\n",
       "    </tr>\n",
       "    <tr>\n",
       "      <th>75%</th>\n",
       "      <td>417.308724</td>\n",
       "      <td>0.582342</td>\n",
       "      <td>0.384132</td>\n",
       "      <td>0.845413</td>\n",
       "    </tr>\n",
       "    <tr>\n",
       "      <th>max</th>\n",
       "      <td>1564.406517</td>\n",
       "      <td>0.632203</td>\n",
       "      <td>0.394805</td>\n",
       "      <td>0.859449</td>\n",
       "    </tr>\n",
       "  </tbody>\n",
       "</table>\n",
       "</div>"
      ],
      "text/plain": [
       "          fit_time  score_time  test_score  train_score\n",
       "count     5.000000    5.000000    5.000000     5.000000\n",
       "mean    509.425016    0.547141    0.333814     0.810188\n",
       "std     600.236203    0.074560    0.069867     0.047718\n",
       "min     108.042797    0.451884    0.235072     0.749131\n",
       "25%     207.196805    0.487863    0.286029     0.771656\n",
       "50%     250.170238    0.581413    0.369031     0.825292\n",
       "75%     417.308724    0.582342    0.384132     0.845413\n",
       "max    1564.406517    0.632203    0.394805     0.859449"
      ]
     },
     "execution_count": 15,
     "metadata": {},
     "output_type": "execute_result"
    }
   ],
   "source": [
    "cv_scores = cross_validate(\n",
    "    gp,\n",
    "    Xg,\n",
    "    y,\n",
    "    cv=KFold(n_splits=5, shuffle=True),\n",
    "    return_train_score=True, n_jobs=2\n",
    ")\n",
    "pd.DataFrame(cv_scores).describe()"
   ]
  },
  {
   "attachments": {},
   "cell_type": "markdown",
   "id": "21",
   "metadata": {},
   "source": [
    "## Hierarchical Bayesian Linear Model\n",
    "\n",
    "This model takes the following form and prior settings,\n",
    "\n",
    "$$\n",
    "\\begin{align}\n",
    "    \\sigma &\\sim \\textrm{HalfCauchy}(25) \\\\\n",
    "    \\{\\lambda_0, \\lambda_x, \\lambda_{\\pi} \\} &\\sim \\textrm{Uniform}(0, 100) \\\\\n",
    "    \\{\\lambda_t, \\lambda_{tx}\\} &\\sim \\textrm{Uniform}(0, 1000) \\\\\n",
    "    w_0 &\\sim \\mathcal{N}(0, \\lambda_0^2) \\\\\n",
    "    w_\\pi &\\sim \\mathcal{N}(0, \\lambda_\\pi^2) \\\\\n",
    "    \\mathbf{w}_x &\\sim \\mathcal{N}(0, \\lambda_x^2 \\mathbf{I}_d) \\\\\n",
    "    w_t &\\sim \\mathcal{N}(0, \\lambda_t^2) \\\\\n",
    "    \\mathbf{w}_{tx} &\\sim \\mathcal{N}(0, \\lambda_{tx}^2 \\mathbf{I}_d) \\\\\n",
    "    y_i &\\sim \\mathcal{N}(\\mu(\\mathbf{x}_i, t_i, \\pi_i), \\sigma^2) \\\\\n",
    "    \\mu(\\mathbf{x}_i, t_i, \\pi_i) &= \\rho(\\mathbf{x}_i, \\pi_i) + t_i \\cdot \\tau(\\mathbf{x}_i)\\\\\n",
    "    \\tau(\\mathbf{x}_i) &= (\\mathbf{w}_{tx}^\\top\\mathbf{x}_i + w_t)\\\\\n",
    "    \\rho(\\mathbf{x}_i, \\pi_i) &= w_0 + w_\\pi \\pi_i + \\mathbf{w}_x^\\top\\mathbf{x}_i\\\\\n",
    "\\end{align}\n",
    "$$\n",
    "\n",
    "This explicitly models and interaction term, and can automatically regularise this term. This effectively allows the model to interpolate between an S and T-learner.\n",
    "\n",
    "For ideas about choice of prior, we should refer to:\n",
    "\n",
    "- Gelman, A. (2006). Prior distributions for variance parameters in hierarchical models. Bayesian analysis, 1(3), 515-534."
   ]
  },
  {
   "attachments": {},
   "cell_type": "markdown",
   "id": "22",
   "metadata": {},
   "source": [
    "### Set up the model"
   ]
  },
  {
   "cell_type": "code",
   "execution_count": 16,
   "id": "23",
   "metadata": {},
   "outputs": [],
   "source": [
    "def predict(w_0, w_t, w_x, w_tx, w_p, x, t, p):\n",
    "    f = prognostic(w_0, w_x, w_p, x, p) + t * ite(w_tx, w_t, x)\n",
    "    return f\n",
    "\n",
    "\n",
    "def prognostic(w_0, w_x, w_p, x, p):\n",
    "    mu = w_0 + w_p * p + x @ w_x\n",
    "    return mu\n",
    "\n",
    "\n",
    "def ite(w_tx, w_t, x):\n",
    "    tau = x @ w_tx + w_t\n",
    "    return tau\n",
    "\n",
    "\n",
    "def model_treatment_intersection(x, t, p, y):\n",
    "    n, d = x.shape\n",
    "        \n",
    "    # Hyper Priors\n",
    "    l_0 = pyro.sample(\"l_0\", dist.Uniform(0, 100))\n",
    "    l_x = pyro.sample(\"l_x\", dist.Uniform(0, 100))\n",
    "    l_p = pyro.sample(\"l_p\", dist.Uniform(0, 100))\n",
    "    l_t = pyro.sample(\"l_t\", dist.Uniform(0, 1000))\n",
    "    l_tx = pyro.sample(\"l_tx\", dist.Uniform(0, 1000))\n",
    "    \n",
    "    # Priors\n",
    "    sigma = pyro.sample(\"stddev\", dist.HalfCauchy(scale=25))\n",
    "    p_wp = dist.Normal(0, l_p**2)\n",
    "    p_w0 = dist.Normal(0, l_0**2)\n",
    "    p_wx = dist.Normal(np.zeros(d), l_x**2 * np.ones(d))\n",
    "    p_wt = dist.Normal(0, l_t**2)\n",
    "    p_twx = dist.Normal(np.zeros(d), l_tx**2 * np.ones(d))\n",
    "    \n",
    "    # Model weights\n",
    "    w_p = pyro.sample(\"propensity\", p_wp)\n",
    "    w_0 = pyro.sample(\"intercept\", p_w0)\n",
    "    w_t = pyro.sample(\"treatment\", p_wt)\n",
    "    w_x = pyro.sample(\"confounders\", p_wx)\n",
    "    w_tx = pyro.sample(\"intersection\", p_twx)\n",
    "    \n",
    "    # Likelihood\n",
    "    f = predict(w_0, w_t, w_x, w_tx, w_p, x, t, p)\n",
    "    \n",
    "    with pyro.plate(\"data\", n):\n",
    "        likelihood = dist.Normal(f, sigma**2)\n",
    "        y = pyro.sample(\"likelihood\", likelihood, obs=y)"
   ]
  },
  {
   "attachments": {},
   "cell_type": "markdown",
   "id": "24",
   "metadata": {},
   "source": [
    "### Run MCMC inference to compute the posteriors"
   ]
  },
  {
   "cell_type": "code",
   "execution_count": 17,
   "id": "25",
   "metadata": {},
   "outputs": [
    {
     "name": "stderr",
     "output_type": "stream",
     "text": [
      "sample: 100%|██████████| 6000/6000 [05:46<00:00, 17.33it/s, 127 steps of size 3.02e-02. acc. prob=0.94] \n"
     ]
    },
    {
     "name": "stdout",
     "output_type": "stream",
     "text": [
      "\n",
      "                      mean       std    median      5.0%     95.0%     n_eff     r_hat\n",
      "  confounders[0]    -26.25     11.91    -26.26    -47.70     -8.76   1217.50      1.00\n",
      "  confounders[1]      1.91     13.24      2.06    -20.36     22.55    972.89      1.00\n",
      "  confounders[2]     -5.34     12.58     -5.73    -26.95     13.70   1084.70      1.00\n",
      "  confounders[3]    -13.20     11.72    -13.12    -31.73      6.30   1544.22      1.00\n",
      "  confounders[4]     -7.62     11.58     -7.06    -25.54     11.31   1019.53      1.00\n",
      "  confounders[5]     19.74     12.01     19.31     -0.25     37.85   1057.80      1.00\n",
      "  confounders[6]     24.71     12.75     25.17      2.51     43.73   1175.86      1.00\n",
      "  confounders[7]      7.68     11.83      7.41    -12.45     25.84   1296.22      1.00\n",
      "  confounders[8]     12.68     12.36     12.55     -7.61     32.52   1301.40      1.00\n",
      "  confounders[9]     44.92     15.94     45.43     16.73     69.10   1193.57      1.00\n",
      " confounders[10]      6.75     27.57      6.35    -32.63     56.48   1061.85      1.00\n",
      " confounders[11]      4.40     12.57      4.22    -15.58     25.68   1157.93      1.00\n",
      " confounders[12]    -10.97     12.27    -10.57    -29.74      8.51   1047.26      1.00\n",
      " confounders[13]     -4.74     11.91     -4.69    -24.33     14.40   1363.44      1.00\n",
      " confounders[14]    -33.24     11.72    -32.77    -52.99    -15.24   1020.06      1.00\n",
      " confounders[15]     21.21     17.26     20.71     -8.32     48.50   1079.50      1.00\n",
      " confounders[16]    -29.69     12.31    -29.73    -49.11    -10.05   1458.74      1.00\n",
      " confounders[17]    -60.54     14.37    -60.50    -85.95    -39.73   1241.62      1.00\n",
      " confounders[18]    -68.45     14.73    -68.30    -90.72    -41.69   1103.17      1.00\n",
      " confounders[19]     -8.11     11.80     -8.06    -29.89      8.82   1019.76      1.00\n",
      " confounders[20]    -12.38     13.76    -12.50    -36.47      8.20   1249.07      1.00\n",
      " confounders[21]      1.67     18.11      2.20    -30.84     28.36    909.27      1.00\n",
      " confounders[22]    -13.37     14.37    -13.75    -35.34     10.37   1293.65      1.00\n",
      " confounders[23]     -5.04     11.12     -5.24    -22.88     13.65   1325.81      1.00\n",
      " confounders[24]     18.43     19.36     18.38    -15.29     47.87    871.27      1.00\n",
      " confounders[25]     -5.42     13.81     -5.62    -26.06     18.61   1328.23      1.00\n",
      " confounders[26]    -14.56     15.42    -14.70    -37.18     12.72   1286.51      1.00\n",
      " confounders[27]     -3.66     15.72     -3.84    -31.24     18.85   1000.82      1.00\n",
      " confounders[28]      9.63     15.79     10.10    -14.73     37.25    885.75      1.00\n",
      " confounders[29]     66.93     21.20     66.51     33.19    102.82   1108.01      1.01\n",
      " confounders[30]     40.50     13.42     41.21     17.66     61.03    917.24      1.00\n",
      " confounders[31]     13.15     28.75     13.13    -36.48     57.51   1052.79      1.00\n",
      " confounders[32]    -25.92     12.82    -26.12    -46.92     -5.40   1117.75      1.00\n",
      " confounders[33]      1.51     12.34      1.38    -19.48     20.96   1434.91      1.00\n",
      " confounders[34]      2.18     12.78      2.19    -16.77     26.10   1151.38      1.00\n",
      " confounders[35]     16.81     12.02     17.06     -1.94     37.07   1044.21      1.00\n",
      " confounders[36]     57.88     12.52     57.87     37.29     78.60   1460.98      1.00\n",
      " confounders[37]    -67.55     15.54    -68.10    -93.29    -43.36   1045.26      1.00\n",
      " confounders[38]    -43.70     12.37    -44.03    -66.35    -25.32   1412.36      1.00\n",
      " confounders[39]     -3.44     11.76     -3.09    -24.50     13.93   1233.82      1.00\n",
      " confounders[40]     15.17     12.41     15.00     -5.54     35.07   1040.09      1.00\n",
      " confounders[41]    -22.73     11.63    -23.05    -41.71     -3.30   1516.82      1.00\n",
      " confounders[42]      7.63     12.41      7.76    -12.13     29.12   1109.15      1.00\n",
      " confounders[43]     30.26     12.87     29.93     10.27     52.24   1082.31      1.00\n",
      " confounders[44]     21.69     12.74     22.05      0.49     41.16   1323.16      1.00\n",
      " confounders[45]   -222.95     15.06   -222.81   -245.18   -197.35   1284.68      1.00\n",
      " confounders[46]     18.73     12.76     19.07     -3.22     38.56   1093.81      1.00\n",
      " confounders[47]      7.72     12.50      7.37    -11.17     28.73    848.24      1.00\n",
      " confounders[48]     37.38     13.02     37.43     17.27     58.35   1127.61      1.00\n",
      " confounders[49]     42.49     17.47     42.35     11.81     69.71   1148.96      1.00\n",
      " confounders[50]    -19.34     11.45    -19.50    -38.40     -0.76   1131.27      1.00\n",
      " confounders[51]      6.12     12.36      5.80    -15.54     26.20   1613.78      1.00\n",
      " confounders[52]      4.16     13.72      4.06    -16.27     29.13   1107.53      1.00\n",
      " confounders[53]     13.42     11.51     13.50     -5.17     31.67   1089.17      1.00\n",
      " confounders[54]      6.58     10.72      6.49    -10.20     24.36   1536.04      1.00\n",
      " confounders[55]     41.14     12.55     40.90     21.39     61.91   1154.49      1.00\n",
      " confounders[56]     -5.87     11.71     -6.50    -25.80     12.06   1332.71      1.00\n",
      " confounders[57]     21.02     12.93     21.22     -0.09     42.38   1330.16      1.00\n",
      " confounders[58]     34.67     12.99     35.07     15.06     57.11   1026.25      1.00\n",
      " confounders[59]    -18.69     11.96    -18.38    -38.03      1.29   1171.88      1.00\n",
      " confounders[60]     16.32     12.67     16.69     -4.07     37.68   1262.54      1.00\n",
      " confounders[61]     -1.52     12.09     -1.62    -23.43     16.43   1423.30      1.00\n",
      " confounders[62]     11.01     11.83     10.77     -8.41     29.59   1228.74      1.00\n",
      " confounders[63]    -10.58     11.11    -10.74    -27.54      9.37    924.70      1.00\n",
      " confounders[64]    -20.48     15.95    -20.54    -49.56      2.69   1015.49      1.00\n",
      " confounders[65]     36.12     17.09     36.10      8.82     61.44   1032.85      1.00\n",
      " confounders[66]     13.59     13.07     13.35     -8.76     34.44   1196.82      1.00\n",
      " confounders[67]      8.38     11.59      8.52    -12.26     25.95   1198.67      1.00\n",
      " confounders[68]    -34.78     13.14    -34.43    -56.23    -14.12   1247.46      1.00\n",
      " confounders[69]     -4.69     14.19     -5.04    -28.50     17.93   1064.72      1.00\n",
      " confounders[70]    -41.91     21.33    -42.53    -76.91     -7.33   1034.31      1.00\n",
      " confounders[71]    -33.08     13.55    -32.59    -56.65    -12.62   1012.21      1.00\n",
      " confounders[72]    -23.82     14.83    -24.09    -47.35      0.95   1132.10      1.00\n",
      " confounders[73]    -30.94     21.08    -29.85    -66.35      1.54   1034.42      1.00\n",
      " confounders[74]     12.89     11.80     13.08     -7.03     32.11   1361.06      1.00\n",
      " confounders[75]     -2.01     11.34     -1.85    -20.96     15.78   1230.52      1.00\n",
      " confounders[76]    -24.37     12.20    -24.54    -44.33     -5.18   1003.71      1.00\n",
      " confounders[77]    128.46     19.24    129.22    100.57    165.39    914.47      1.00\n",
      " confounders[78]     -5.93     12.13     -5.69    -25.30     13.19    981.07      1.00\n",
      " confounders[79]    -35.31     13.45    -35.77    -57.15    -13.20    841.27      1.00\n",
      " confounders[80]    -15.71     16.94    -14.78    -42.44     13.83    940.96      1.00\n",
      " confounders[81]     -7.84     12.03     -8.06    -27.28     11.26   1276.09      1.00\n",
      " confounders[82]     17.80     21.93     17.21    -13.48     57.08    938.23      1.00\n",
      " confounders[83]      1.92     11.59      1.51    -15.99     22.24   1577.18      1.00\n",
      " confounders[84]     -3.88     11.21     -3.67    -23.97     12.37   1123.19      1.00\n",
      " confounders[85]     53.55     13.62     53.58     32.81     76.05   1122.33      1.00\n",
      " confounders[86]     -0.67     13.17     -0.67    -21.86     20.56   1155.63      1.00\n",
      " confounders[87]    -16.84     12.27    -16.84    -37.87      1.93    905.68      1.00\n",
      " confounders[88]     29.39     12.59     29.80      9.08     50.54   1594.10      1.00\n",
      " confounders[89]     25.87     11.74     25.82      6.23     43.85   1064.21      1.00\n",
      " confounders[90]     -9.22     11.89     -9.18    -27.22     11.16    741.43      1.00\n",
      "       intercept    599.11     13.88    599.21    576.84    623.23   1010.84      1.00\n",
      " intersection[0]      0.27      9.85      0.32    -17.45     16.76    919.18      1.00\n",
      " intersection[1]      1.50      9.70      0.59    -13.65     18.25   1265.71      1.00\n",
      " intersection[2]      2.95     10.05      1.52    -12.90     20.43    453.46      1.00\n",
      " intersection[3]     -4.33     10.03     -2.33    -24.30      9.12    132.99      1.01\n",
      " intersection[4]      4.30     10.34      2.25    -11.31     22.71    198.49      1.01\n",
      " intersection[5]     -0.74      9.81     -0.68    -15.58     16.30   1190.56      1.00\n",
      " intersection[6]      0.55      9.23      0.22    -15.79     14.93   1381.48      1.00\n",
      " intersection[7]      1.54      9.45      0.87    -13.47     18.21    878.63      1.00\n",
      " intersection[8]      4.58     10.42      2.81    -11.40     22.15    132.16      1.01\n",
      " intersection[9]      3.52      9.86      1.97    -12.15     19.95    636.69      1.01\n",
      "intersection[10]     -5.73     10.29     -3.14    -22.55      9.01     94.89      1.01\n",
      "intersection[11]     -2.77      9.69     -1.50    -21.14     10.26    897.43      1.00\n",
      "intersection[12]      0.95     10.09      0.14    -12.93     18.35    824.58      1.00\n",
      "intersection[13]      4.66     10.98      2.23    -11.42     22.70     84.58      1.02\n",
      "intersection[14]      5.07     10.89      2.59    -10.60     24.02     80.41      1.02\n",
      "intersection[15]      3.44      9.80      2.05    -10.44     21.28    192.55      1.01\n",
      "intersection[16]      1.35     10.43      0.71    -13.40     19.71   1160.71      1.00\n",
      "intersection[17]     -5.57     10.99     -2.78    -25.79      9.89     88.05      1.01\n",
      "intersection[18]     -3.95     10.04     -1.96    -20.02     11.43    136.90      1.01\n",
      "intersection[19]     -2.67      9.25     -1.19    -18.25     12.54    562.47      1.01\n",
      "intersection[20]      0.29      9.58      0.08    -14.77     16.23    924.42      1.00\n",
      "intersection[21]      4.56      9.84      2.75     -9.18     23.45    187.71      1.01\n",
      "intersection[22]      7.34     11.24      4.60     -6.59     29.26     44.08      1.03\n",
      "intersection[23]     -3.90      9.54     -2.18    -20.01      9.28    132.39      1.01\n",
      "intersection[24]      5.69     10.37      3.43     -8.40     24.96    109.65      1.02\n",
      "intersection[25]      4.21     10.16      2.35    -10.00     21.10    831.70      1.01\n",
      "intersection[26]      0.29      9.65      0.41    -14.46     17.93   1157.33      1.00\n",
      "intersection[27]     -0.41     10.05      0.17    -16.97     15.43    409.35      1.00\n",
      "intersection[28]      4.90     10.65      2.63    -10.75     23.20    137.94      1.01\n",
      "intersection[29]      0.44      9.38     -0.09    -14.48     15.88    962.31      1.00\n",
      "intersection[30]     -1.64      9.46     -0.54    -19.39     11.58    507.96      1.00\n",
      "intersection[31]     -5.36     10.32     -3.09    -21.65     10.58     94.62      1.02\n",
      "intersection[32]     -4.11     10.09     -2.19    -20.54     11.43    276.44      1.01\n",
      "intersection[33]      0.41      9.85      0.44    -18.95     14.87   1348.27      1.00\n",
      "intersection[34]      6.23     10.56      3.34     -7.70     24.34     44.93      1.02\n",
      "intersection[35]      0.91      9.60      0.42    -14.02     17.56   1394.81      1.00\n",
      "intersection[36]      2.22      9.98      1.29    -11.20     20.58    646.43      1.00\n",
      "intersection[37]     -5.12     11.15     -2.55    -26.17     10.39     85.38      1.01\n",
      "intersection[38]     -2.68      9.91     -1.44    -17.72     13.28    534.36      1.01\n",
      "intersection[39]      3.73     10.28      1.83    -12.15     21.73    181.38      1.01\n",
      "intersection[40]     -0.88      9.63     -0.84    -14.01     17.94   1079.68      1.00\n",
      "intersection[41]     -0.85      9.19     -0.14    -16.69     13.19   1082.14      1.00\n",
      "intersection[42]     -4.47      9.54     -2.49    -20.04     10.99    113.49      1.01\n",
      "intersection[43]     -4.58     10.80     -2.68    -21.07     12.38    141.49      1.01\n",
      "intersection[44]      5.15     10.59      2.70     -8.62     24.68     70.79      1.03\n",
      "intersection[45]      1.33     10.03      0.46    -15.08     16.47   1188.84      1.00\n",
      "intersection[46]     -6.36     10.69     -3.59    -23.96      8.12     34.14      1.03\n",
      "intersection[47]     -3.46      9.31     -2.05    -21.36      9.14    207.78      1.01\n",
      "intersection[48]     -3.72     10.05     -1.52    -21.03     12.40    347.28      1.01\n",
      "intersection[49]     -8.40     12.24     -5.19    -28.81      7.29     27.15      1.03\n",
      "intersection[50]     -1.14      9.47     -0.62    -18.05     12.23    860.40      1.00\n",
      "intersection[51]     -0.62     10.96     -0.21    -18.32     18.15    528.98      1.00\n",
      "intersection[52]     -1.65      9.33     -0.91    -17.20     13.83    641.07      1.00\n",
      "intersection[53]      0.26     10.62      0.13    -17.62     17.90   1004.15      1.00\n",
      "intersection[54]      2.05      9.97      0.98    -13.16     20.64    735.94      1.01\n",
      "intersection[55]      1.60      9.84      0.65    -12.78     18.75    854.98      1.00\n",
      "intersection[56]     -0.74      9.77     -0.43    -18.12     15.04   1046.42      1.00\n",
      "intersection[57]     -2.73     10.10     -1.56    -19.26     12.72    532.51      1.02\n",
      "intersection[58]     -0.95      9.83     -0.55    -15.46     17.87   1087.46      1.00\n",
      "intersection[59]     -3.13      9.46     -1.85    -19.91     10.56    326.40      1.01\n",
      "intersection[60]     -2.72      9.94     -1.71    -19.84     11.87    778.03      1.01\n",
      "intersection[61]     -1.81      9.60     -0.90    -15.77     15.32   1115.91      1.00\n",
      "intersection[62]     -4.12     10.39     -2.22    -19.56     13.30    217.12      1.01\n",
      "intersection[63]      1.50     10.22      0.76    -14.72     17.94    847.71      1.00\n",
      "intersection[64]     -8.45     12.85     -4.17    -27.64      9.35     30.89      1.04\n",
      "intersection[65]      4.78     11.11      2.39    -10.27     24.97    218.76      1.01\n",
      "intersection[66]     -2.31     10.20     -1.39    -20.02     14.41    929.81      1.00\n",
      "intersection[67]      2.24      9.82      0.90    -14.21     18.29    551.96      1.01\n",
      "intersection[68]      1.53     10.55      0.59    -12.92     22.11   1112.48      1.00\n",
      "intersection[69]      1.85      9.55      0.89    -13.80     17.25    993.86      1.00\n",
      "intersection[70]     -5.33     11.52     -2.45    -23.78     13.19     58.35      1.01\n",
      "intersection[71]     -1.27     10.41     -0.56    -19.68     14.14   1110.15      1.00\n",
      "intersection[72]     -3.28     11.09     -1.40    -21.02     15.15    350.13      1.00\n",
      "intersection[73]     -2.51     10.72     -0.94    -20.01     14.68   1272.95      1.01\n",
      "intersection[74]     -3.06     10.62     -1.42    -21.78     13.97    268.19      1.01\n",
      "intersection[75]      1.56      8.75      0.73    -10.78     17.41    958.53      1.00\n",
      "intersection[76]     -4.24      9.57     -2.42    -21.85      9.54    122.33      1.01\n",
      "intersection[77]     -7.81     12.73     -4.69    -30.05      9.52     42.48      1.02\n",
      "intersection[78]     -1.78     11.18     -0.68    -18.62     17.12   1317.14      1.00\n",
      "intersection[79]      2.15      9.32      1.01    -16.11     15.50    510.08      1.00\n",
      "intersection[80]      0.56     11.07      0.39    -15.18     20.46   1034.42      1.00\n",
      "intersection[81]     -0.28      9.09     -0.15    -13.32     15.50    966.45      1.00\n",
      "intersection[82]     -7.38     11.94     -3.91    -28.07      7.71     40.36      1.03\n",
      "intersection[83]      1.35     10.27      0.78    -13.93     18.82   1356.83      1.00\n",
      "intersection[84]      0.21      9.95     -0.06    -15.28     17.33    937.54      1.00\n",
      "intersection[85]      1.47     10.24      0.49    -15.90     17.37    801.74      1.00\n",
      "intersection[86]      1.61     10.35      0.72    -16.08     17.13    876.05      1.00\n",
      "intersection[87]     -1.54      9.45     -0.76    -16.56     14.43   1228.51      1.00\n",
      "intersection[88]     -3.09      9.16     -1.90    -17.75     11.51    448.07      1.01\n",
      "intersection[89]     -3.24      9.43     -1.74    -20.08     10.90    176.62      1.00\n",
      "intersection[90]     -5.53     10.15     -2.97    -23.15      8.62     69.64      1.01\n",
      "             l_0     39.89     18.56     35.06     16.66     69.34    440.23      1.00\n",
      "             l_p     19.21     19.32     12.67      1.29     46.19    421.99      1.01\n",
      "             l_t     30.67     63.01     12.38      0.70     60.01    350.81      1.00\n",
      "            l_tx      2.92      0.96      2.91      1.33      4.38      8.39      1.14\n",
      "             l_x      6.33      0.27      6.31      5.88      6.73   1058.99      1.00\n",
      "      propensity    -15.78    113.32     -2.74   -223.65    152.25    786.10      1.00\n",
      "          stddev     29.32      0.14     29.32     29.11     29.56   1726.61      1.00\n",
      "       treatment     51.09     32.12     50.19     -2.08     99.76    603.95      1.00\n",
      "\n",
      "Number of divergences: 54\n"
     ]
    }
   ],
   "source": [
    "samples = 1000\n",
    "warm_up = 5000\n",
    "\n",
    "# Initialize No U-Turn Sampler\n",
    "nuts_kernel = NUTS(model_treatment_intersection, max_tree_depth=10)\n",
    "model_mcmc = MCMC(nuts_kernel, num_samples=samples, num_warmup=warm_up, num_chains=1)\n",
    "\n",
    "# Run the sampler\n",
    "rng_key = random.PRNGKey(0)\n",
    "model_mcmc.run(rng_key, X, t, p, y)\n",
    "model_mcmc.print_summary()"
   ]
  },
  {
   "attachments": {},
   "cell_type": "markdown",
   "id": "26",
   "metadata": {},
   "source": [
    "### Sample the ATE"
   ]
  },
  {
   "cell_type": "code",
   "execution_count": 18,
   "id": "27",
   "metadata": {},
   "outputs": [
    {
     "name": "stdout",
     "output_type": "stream",
     "text": [
      "Hierarchical Linear Regression\n",
      "  R-squared = 0.3334 (0.0023)\n",
      "  ATE: 51.0866\n",
      "  CI (0.025, 0.975): [-3.3332, 114.5456]\n"
     ]
    }
   ],
   "source": [
    "hbr_samples = model_mcmc.get_samples()\n",
    "w_0s = hbr_samples[\"intercept\"]\n",
    "w_ps = hbr_samples[\"propensity\"]\n",
    "w_ts = hbr_samples[\"treatment\"]\n",
    "w_xs = hbr_samples[\"confounders\"]\n",
    "w_txs = hbr_samples[\"intersection\"]\n",
    "\n",
    "ate_hlr_samples = np.zeros(samples)\n",
    "score_samples = np.zeros(samples)\n",
    "t0 = np.zeros_like(t)\n",
    "t1 = np.ones_like(t)\n",
    "\n",
    "for s in range(samples):\n",
    "    f = predict(w_0s[s], w_ts[s], w_xs[s], w_txs[s], w_ps[s], X, t, p)\n",
    "    ate_hlr_samples[s] = ite(w_txs[s], w_ts[s], X).mean()\n",
    "    score_samples[s] = r2_score(y, f)\n",
    "\n",
    "ate_hlr = ate_hlr_samples.mean()\n",
    "ci_hlr = mstats.mquantiles(ate_hlr_samples, prob=[0.025, 0.975])\n",
    "\n",
    "print(\"Hierarchical Linear Regression\")\n",
    "print(f\"  R-squared = {score_samples.mean():.4f} ({score_samples.std():.4f})\")\n",
    "print(f\"  ATE: {ate_hlr:.4f}\")\n",
    "print(f\"  CI (0.025, 0.975): [{ci_hlr[0]:.4f}, {ci_hlr[1]:.4f}]\")"
   ]
  },
  {
   "attachments": {},
   "cell_type": "markdown",
   "id": "cf9ed71e",
   "metadata": {},
   "source": [
    "### Sample and display some posterior distributions"
   ]
  },
  {
   "cell_type": "code",
   "execution_count": 19,
   "id": "1ebb279c",
   "metadata": {
    "scrolled": false
   },
   "outputs": [
    {
     "data": {
      "image/png": "[encoded data removed]",
      "text/plain": [
       "<Figure size 960x720 with 1 Axes>"
      ]
     },
     "metadata": {},
     "output_type": "display_data"
    },
    {
     "data": {
      "image/png": "[encoded data removed]",
      "text/plain": [
       "<Figure size 960x720 with 1 Axes>"
      ]
     },
     "metadata": {},
     "output_type": "display_data"
    },
    {
     "data": {
      "image/png": "[encoded data removed]",
      "text/plain": [
       "<Figure size 960x720 with 1 Axes>"
      ]
     },
     "metadata": {},
     "output_type": "display_data"
    },
    {
     "data": {
      "image/png": "[encoded data removed]",
      "text/plain": [
       "<Figure size 960x720 with 1 Axes>"
      ]
     },
     "metadata": {},
     "output_type": "display_data"
    },
    {
     "data": {
      "image/png": "[encoded data removed]",
      "text/plain": [
       "<Figure size 960x720 with 1 Axes>"
      ]
     },
     "metadata": {},
     "output_type": "display_data"
    },
    {
     "data": {
      "image/png": "[encoded data removed]",
      "text/plain": [
       "<Figure size 960x720 with 1 Axes>"
      ]
     },
     "metadata": {},
     "output_type": "display_data"
    }
   ],
   "source": [
    "posteriors = [\"l_0\", \"l_x\", \"l_p\", \"l_t\", \"l_tx\", \"stddev\"]\n",
    "for name in posteriors:\n",
    "    post = hbr_samples[name]\n",
    "    plt.figure(dpi=150)\n",
    "    plt.hist(post, bins=30)\n",
    "    plt.title(name)\n",
    "    plt.grid()\n",
    "    plt.show()"
   ]
  },
  {
   "cell_type": "code",
   "execution_count": 20,
   "id": "28",
   "metadata": {},
   "outputs": [
    {
     "data": {
      "image/png": "[encoded data removed]",
      "text/plain": [
       "<Figure size 960x720 with 1 Axes>"
      ]
     },
     "metadata": {},
     "output_type": "display_data"
    }
   ],
   "source": [
    "plt.figure(dpi=150)\n",
    "cnt, *_ = plt.hist(ate_hlr_samples, bins=20)\n",
    "plt.plot([ate_hlr, ate_hlr], [0, max(cnt)], 'r', label=\"mean\")\n",
    "plt.title(\"HLR ATE samples\")\n",
    "plt.xlabel(\"ATE\")\n",
    "plt.ylabel(\"counts\")\n",
    "plt.grid()\n",
    "plt.legend()\n",
    "plt.show()"
   ]
  },
  {
   "attachments": {},
   "cell_type": "markdown",
   "id": "79c56db7",
   "metadata": {},
   "source": [
    "## Bayesian Causal Forest"
   ]
  },
  {
   "cell_type": "code",
   "execution_count": 21,
   "id": "a12a1d4f",
   "metadata": {},
   "outputs": [],
   "source": [
    "NUM_TREES_PR  = 200\n",
    "NUM_TREES_TRT = 50\n",
    "\n",
    "cf = XBCF(\n",
    "    #model=\"Normal\",\n",
    "    parallel=True, \n",
    "    num_sweeps=2000, \n",
    "    burnin=499,\n",
    "    #max_depth=250,\n",
    "    num_trees_pr=NUM_TREES_PR,\n",
    "    num_trees_trt=NUM_TREES_TRT,\n",
    "    #num_cutpoints=100,\n",
    "    #Nmin=1,\n",
    "    #mtry_pr=X1.shape[1], # default 0 seems to be 'all'\n",
    "    #mtry_trt=X.shape[1], \n",
    "    #tau_pr=0.6 * np.var(y)/NUM_TREES_PR, #0.6 * np.var(y) / /NUM_TREES_PR,\n",
    "    #tau_trt=0.1 * np.var(y)/NUM_TREES_TRT, #0.1 * np.var(y) / /NUM_TREES_TRT,\n",
    "    alpha_pr=0.95, # shrinkage (splitting probability)\n",
    "    beta_pr=2, # shrinkage (tree depth)\n",
    "    alpha_trt=0.25, # shrinkage for treatment part\n",
    "    beta_trt=3,\n",
    "    p_categorical_pr=0,\n",
    "    p_categorical_trt=0,\n",
    "    standardize_target=True, # standardize y and unstandardize for prediction\n",
    ")\n"
   ]
  },
  {
   "cell_type": "code",
   "execution_count": 22,
   "id": "399cf388",
   "metadata": {},
   "outputs": [],
   "source": [
    "cf.fit(\n",
    "    x_t=X, # Covariates treatment effect\n",
    "    x=X, # Covariates outcome (including propensity score)\n",
    "    y=y,  # Outcome\n",
    "    z=t.astype(\"int32\"), # Treatment group\n",
    ")"
   ]
  },
  {
   "cell_type": "code",
   "execution_count": null,
   "id": "9003b4a6",
   "metadata": {},
   "outputs": [
    {
     "name": "stdout",
     "output_type": "stream",
     "text": [
      "Bayesian Causal Forest\n",
      "  ATE: 84.5136\n",
      "  CI (0.025, 0.975): [26.2791, 141.1692]\n"
     ]
    }
   ],
   "source": [
    "tau_posterior = cf.predict(X, return_mean=False)\n",
    "ate_cbf_samples = tau_posterior.mean(axis=0)\n",
    "ate_cbf = ate_cbf_samples.mean()\n",
    "ci_cbf = mstats.mquantiles(ate_cbf_samples, prob=[0.025, 0.975])\n",
    "\n",
    "print(\"Bayesian Causal Forest\")\n",
    "#print(f\"  R-squared = {score_samples.mean():.4f} ({score_samples.std():.4f})\")\n",
    "print(f\"  ATE: {ate_cbf:.4f}\")\n",
    "print(f\"  CI (0.025, 0.975): [{ci_cbf[0]:.4f}, {ci_cbf[1]:.4f}]\")"
   ]
  },
  {
   "attachments": {},
   "cell_type": "markdown",
   "id": "29",
   "metadata": {},
   "source": [
    "## Plot ATE"
   ]
  },
  {
   "cell_type": "code",
   "execution_count": null,
   "id": "30",
   "metadata": {},
   "outputs": [
    {
     "data": {
      "image/png": "[encoded data removed]",
      "text/plain": [
       "<Figure size 960x720 with 1 Axes>"
      ]
     },
     "metadata": {},
     "output_type": "display_data"
    }
   ],
   "source": [
    "ate_labels = [\"OLS\", \"Bayesian Linear\", \"Gaussian Process\", \"Hierarchical Linear\", \"Bayesian Causal Forest\"]\n",
    "ate = [ate_ols, ate_blr, ate_gp, ate_hlr, ate_cbf]\n",
    "ci = [ci_ols, ci_blr, ci_gp, ci_hlr, ci_cbf]\n",
    "ind = np.arange(len(ate))\n",
    "\n",
    "plt.figure(dpi=150)\n",
    "plt.vlines(ind, ymin=[c[0] for c in ci], ymax=[c[1] for c in ci], colors='k', linewidth=3)\n",
    "plt.plot(ind, ate, 'rx', markersize=10)\n",
    "plt.xticks(ind, labels=ate_labels, rotation=30)\n",
    "plt.grid()\n",
    "plt.show()"
   ]
  },
  {
   "cell_type": "code",
   "execution_count": null,
   "id": "b1c10947",
   "metadata": {},
   "outputs": [],
   "source": []
  }
 ],
 "metadata": {
  "celltoolbar": "Tags",
  "kernelspec": {
   "display_name": "Python 3 (ipykernel)",
   "language": "python",
   "name": "python3"
  },
  "language_info": {
   "codemirror_mode": {
    "name": "ipython",
    "version": 3
   },
   "file_extension": ".py",
   "mimetype": "text/x-python",
   "name": "python",
   "nbconvert_exporter": "python",
   "pygments_lexer": "ipython3",
   "version": "3.11.4"
  }
 },
 "nbformat": 4,
 "nbformat_minor": 5
}
