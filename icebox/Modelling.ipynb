{
 "cells": [
  {
   "cell_type": "code",
   "execution_count": null,
   "id": "religious-discount",
   "metadata": {},
   "outputs": [],
   "source": [
    "# import libraries\n",
    "import numpy as np\n",
    "import pandas as pd\n",
    "import matplotlib.pyplot as plt\n",
    "import pyreadstat\n",
    "import re\n",
    "import string\n",
    "import sklearn\n",
    "\n",
    "\n",
    "from reed import *\n",
    "\n",
    "# set global notebook options\n",
    "pd.options.display.max_columns = 200\n",
    "pd.options.display.max_rows = 500\n",
    "pd.options.display.max_colwidth = 1000\n",
    "\n",
    "%matplotlib inline"
   ]
  },
  {
   "cell_type": "markdown",
   "id": "ceramic-excellence",
   "metadata": {},
   "source": [
    "# Load the data"
   ]
  },
  {
   "cell_type": "markdown",
   "id": "88d89348",
   "metadata": {},
   "source": [
    "### Treatent variables\n",
    "\n",
    "\n",
    "   - **redhllt**\n",
    "   - **redllt** \n",
    "   - **refllt** \n",
    "   - **reduhl**\tCompleted re-education based on highest level of attainment\n",
    "   - **redudl**\tCompleted re-education based on detailed qualifications\n",
    "   - **redufl**\tCompleted re-education using highest lvl and detailed qualifications.\n",
    "\n",
    "### Outcome variables\n",
    "   - Mental health in 2019 (**mh**). This is the transformed mental health scores from the aggregation of mental health items of the SF-36 Health Survey, as reported by the individual in 2019. It ranges from 0 to 100, with higher scores indicating better mental health.  \n",
    "   - Working hours in 2019 (**wkhr**) records the total number of hours the individual works in all jobs in a week on average. Working hours are set to 0 for those not working. \n",
    "   - Hourly Wages in 2019 (**rlwage**) records the average hourly wage for the individual’s main job in 2019. Hourly wages are set to 0 for those not working and set to missing for those reporting working more than 100 hours a week. "
   ]
  },
  {
   "cell_type": "code",
   "execution_count": null,
   "id": "continental-assurance",
   "metadata": {},
   "outputs": [],
   "source": [
    "treatments = ['reduhl', 'rehllt', 'redudl', 'redufl', 'redllt', 'refllt']\n",
    "outcomes = ['rlwage', 'mh', 'mhbm', 'wkhr']"
   ]
  },
  {
   "cell_type": "markdown",
   "id": "deluxe-selection",
   "metadata": {},
   "source": [
    "## Propensity Model\n",
    "\n",
    "What features are predictive of someone undertaking re-education?"
   ]
  },
  {
   "cell_type": "markdown",
   "id": "naughty-wonder",
   "metadata": {},
   "source": [
    "### Specify target and features\n",
    "For this model, we are predicting whether or not an individual is treated (eg is re-educated) so the target will be one of the measures of re-education.\n",
    "\n",
    "#### Columns explicitly excluded\n",
    "   - **xwaveid** (unique identifier)\n",
    "   - **p_rcom*** (timing of completion of re-education, proxies treatment)\n",
    "   - **p_cotrl** (first avail 2003)\n",
    "   - **p_rdf*** (first avail 2012)"
   ]
  },
  {
   "cell_type": "markdown",
   "id": "suited-harmony",
   "metadata": {},
   "source": [
    "### Set up models"
   ]
  },
  {
   "cell_type": "code",
   "execution_count": null,
   "id": "252ee07a",
   "metadata": {},
   "outputs": [],
   "source": []
  },
  {
   "cell_type": "code",
   "execution_count": null,
   "id": "exclusive-papua",
   "metadata": {},
   "outputs": [],
   "source": [
    "from sklearn.model_selection import train_test_split, GridSearchCV, cross_val_score, KFold\n",
    "from sklearn.ensemble import GradientBoostingClassifier, RandomForestClassifier\n",
    "from sklearn.svm import SVC\n",
    "from interpret.glassbox import ExplainableBoostingClassifier\n",
    "\n",
    "# select splits in advance so the same ones are used for all models.\n",
    "np.random.seed(666)\n",
    "indx = np.arange(5298)\n",
    "train_indx, test_indx = train_test_split(indx)\n",
    "\n",
    "\n",
    "def construct_models():\n",
    "    models = [\n",
    "        Model('lr',LogisticRegression(penalty='none',solver='saga',max_iter=1000)),\n",
    "        Model('svc',SVC(kernel='rbf',probability=True),\n",
    "              parameters = {\n",
    "                  'C':np.logspace(-3,2,20),\n",
    "                   'gamma':list(np.logspace(-6,-1,10))+['scale']\n",
    "              }\n",
    "        ),\n",
    "        Model('lr-ridge',LogisticRegression(),\n",
    "              parameters = {\n",
    "                  'C':np.logspace(-5,0,20)\n",
    "              }\n",
    "        ), \n",
    "        Model('gbc',GradientBoostingClassifier(n_iter_no_change=20, max_depth=2),\n",
    "              parameters = {\n",
    "                'max_features':[10,20,40,60,80],\n",
    "                'learning_rate':np.logspace(-6,-1,10),\n",
    "                'min_samples_leaf':np.logspace(0,3,10).astype(int)\n",
    "              }\n",
    "        ),\n",
    "\n",
    "    ]\n",
    "    return models"
   ]
  },
  {
   "cell_type": "code",
   "execution_count": null,
   "id": "5678e1ff",
   "metadata": {},
   "outputs": [],
   "source": [
    "#TODO, write code to check where in grid space best param found and throw warning if on edge"
   ]
  },
  {
   "cell_type": "markdown",
   "id": "456b3c69",
   "metadata": {},
   "source": [
    "### Fit models and visualise performance"
   ]
  },
  {
   "cell_type": "code",
   "execution_count": null,
   "id": "fae0d2cf",
   "metadata": {},
   "outputs": [],
   "source": [
    "optimisation_metric = 'roc_auc'        "
   ]
  },
  {
   "cell_type": "markdown",
   "id": "8a90d316",
   "metadata": {},
   "source": [
    "#### Raw feature set\n",
    "\n",
    "This feature set contains every variable observed in 2001, with very little filtering or pre-processing. The minimal preprocessing includes;\n",
    "   - removing variables that are more than 95% missing\n",
    "   - merging variables that are almost perfectly correlated (> .95) \n",
    "   - removing variables with 0 variance\n",
    "   - changing dates to days past an epoch"
   ]
  },
  {
   "cell_type": "code",
   "execution_count": null,
   "id": "0f782064",
   "metadata": {},
   "outputs": [],
   "source": [
    "models_raw = construct_models()\n",
    "treatment = 'redudl' #reduhl, #refllt\n",
    "df,meta = load_data('raw',treatments,outcomes)\n",
    "features_r = select_features(df)\n",
    "Xr_train, Xr_test, yr_train, yr_test = prepare_data(df, features_r, treatment,train_indx,test_indx)\n",
    "fit_models(models_raw,optimisation_metric,Xr_train,yr_train)\n",
    "visualise_performance(models_raw,Xr_test,yr_test)"
   ]
  },
  {
   "cell_type": "code",
   "execution_count": null,
   "id": "e776aada",
   "metadata": {},
   "outputs": [],
   "source": [
    "importances_r = extract_importance(models_raw,Xr_test,yr_test,features_r)"
   ]
  },
  {
   "cell_type": "code",
   "execution_count": null,
   "id": "e696fae9",
   "metadata": {},
   "outputs": [],
   "source": [
    "visualise_importance_distribution(importances_r)"
   ]
  },
  {
   "cell_type": "code",
   "execution_count": null,
   "id": "e87c98c8",
   "metadata": {},
   "outputs": [],
   "source": [
    "# get column labels\n",
    "s='a'\n",
    "_, meta1 = pyreadstat.read_sav(f'../part1/Combined {s}190c.sav') \n",
    "del(_)"
   ]
  },
  {
   "cell_type": "code",
   "execution_count": null,
   "id": "2562b66a",
   "metadata": {},
   "outputs": [],
   "source": [
    "column_labels = meta1.column_names_to_labels\n",
    "importances_r['label'] = [ column_labels.get(name,\"\") for name in importances_r.index]\n",
    "importances_r.sort_values('permutation-lr-ridge',ascending=False).head(20)"
   ]
  },
  {
   "cell_type": "markdown",
   "id": "108982b2",
   "metadata": {},
   "source": [
    "#### Large feature set\n",
    "\n",
    "This is a set of features selected by Anna as the broad set that may be relevant. Some variables have been one-hot encoded. "
   ]
  },
  {
   "cell_type": "code",
   "execution_count": null,
   "id": "357e78b6",
   "metadata": {},
   "outputs": [],
   "source": [
    "models_large = construct_models()\n",
    "treatment = 'redudl' #reduhl, #refllt\n",
    "df,meta_l = load_data('anna',treatments,outcomes)\n",
    "features_l = select_features(df,treatments,outcomes,treatment)\n",
    "Xl_train, Xl_test, yl_train, yl_test = prepare_data(df, features_l, treatment,train_indx,test_indx)\n",
    "fit_models(models_large,optimisation_metric,Xl_train,yl_train)\n",
    "visualise_performance(models_large,Xl_test,yl_test)"
   ]
  },
  {
   "cell_type": "code",
   "execution_count": null,
   "id": "dd0623eb",
   "metadata": {},
   "outputs": [],
   "source": [
    "models_large[1].fit_estimator.best_params_"
   ]
  },
  {
   "cell_type": "code",
   "execution_count": null,
   "id": "bb01dbec",
   "metadata": {},
   "outputs": [],
   "source": [
    "np.logspace(-5,2,20)"
   ]
  },
  {
   "cell_type": "code",
   "execution_count": null,
   "id": "a9a7de32",
   "metadata": {},
   "outputs": [],
   "source": [
    "'C':np.logspace(-3,2,20),\n",
    "'gamma':list(np.logspace(-4,0,10))+['scale']"
   ]
  },
  {
   "cell_type": "code",
   "execution_count": null,
   "id": "13a82d89",
   "metadata": {},
   "outputs": [],
   "source": [
    "importances_l = extract_importance(models_large,Xl_test,yl_test,features_l,optimisation_metric)"
   ]
  },
  {
   "cell_type": "code",
   "execution_count": null,
   "id": "b0d12776",
   "metadata": {},
   "outputs": [],
   "source": [
    "visualise_importance_distribution(importances_l)"
   ]
  },
  {
   "cell_type": "markdown",
   "id": "e25aa326",
   "metadata": {},
   "source": [
    "##### Features ranked by permutation importance"
   ]
  },
  {
   "cell_type": "code",
   "execution_count": null,
   "id": "e46c7069",
   "metadata": {},
   "outputs": [],
   "source": [
    "column_labels = meta_l.column_names_to_labels\n",
    "importances_l['label'] = [ column_labels.get(name,\"\") for name in importances_l.index]\n",
    "importances_l.sort_values('permutation-lr-ridge',ascending=False).head(20)"
   ]
  },
  {
   "cell_type": "markdown",
   "id": "62dfbd8d",
   "metadata": {},
   "source": [
    "#### Minimal feature set\n",
    "This is the very minimal set of features used in the original paper. It consists of 4 variables, (sex, age, education, employment). Each is one-hot encoded and interactions are added between sex and the other variables."
   ]
  },
  {
   "cell_type": "code",
   "execution_count": null,
   "id": "9d0ba81f",
   "metadata": {},
   "outputs": [],
   "source": [
    "models_basic = [construct_models()[0]]\n",
    "treatment = 'redudl' #reduhl, #refllt\n",
    "df,meta = load_data('basic',treatments,outcomes)\n",
    "features_b = select_features(df) \n",
    "Xb_train, Xb_test, yb_train, yb_test = prepare_data(df, features_b, treatment,train_indx,test_indx)\n",
    "fit_models(models_basic,optimisation_metric,Xb_train,yb_train)\n",
    "visualise_performance(models_basic,Xb_test,yb_test)"
   ]
  },
  {
   "cell_type": "code",
   "execution_count": null,
   "id": "c95343ce",
   "metadata": {},
   "outputs": [],
   "source": [
    "importances_b = extract_importance(models_basic,Xb_test,yb_test,features_b)"
   ]
  },
  {
   "cell_type": "code",
   "execution_count": null,
   "id": "b4a126f3",
   "metadata": {},
   "outputs": [],
   "source": [
    "visualise_importance_distribution(importances_b)"
   ]
  },
  {
   "cell_type": "code",
   "execution_count": null,
   "id": "1889514b",
   "metadata": {},
   "outputs": [],
   "source": [
    "importances_b.sort_values('permutation-lr',ascending=False).head(10)"
   ]
  }
 ],
 "metadata": {
  "kernelspec": {
   "display_name": "Python 3",
   "language": "python",
   "name": "python3"
  },
  "language_info": {
   "codemirror_mode": {
    "name": "ipython",
    "version": 3
   },
   "file_extension": ".py",
   "mimetype": "text/x-python",
   "name": "python",
   "nbconvert_exporter": "python",
   "pygments_lexer": "ipython3",
   "version": "3.9.5"
  }
 },
 "nbformat": 4,
 "nbformat_minor": 5
}
