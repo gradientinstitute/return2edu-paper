{
 "cells": [
  {
   "cell_type": "markdown",
   "id": "0",
   "metadata": {},
   "source": [
    "## Dimensionality Reduction"
   ]
  },
  {
   "cell_type": "code",
   "execution_count": 1,
   "id": "1",
   "metadata": {},
   "outputs": [],
   "source": [
    "import pandas as pd\n",
    "import numpy as np\n",
    "import matplotlib.pyplot as plt\n",
    "%matplotlib inline\n",
    "\n",
    "%load_ext autoreload\n",
    "%autoreload 2"
   ]
  },
  {
   "cell_type": "code",
   "execution_count": 2,
   "id": "2",
   "metadata": {},
   "outputs": [],
   "source": [
    "# I need an approach for clustering ..."
   ]
  },
  {
   "cell_type": "code",
   "execution_count": 3,
   "id": "3",
   "metadata": {},
   "outputs": [],
   "source": [
    "outcome = 'y_Dwsce'#'y_wsce'\n",
    "treatment = 'redufl'\n",
    "optimisation_metric = 'neg_mean_squared_error'\n",
    "evaluation_metrics = ('r2','neg_mean_squared_error')\n",
    "log_outcome=False\n",
    "cross_val_cache = \"data/cross-val-all.pkl\"\n",
    "bootstrap_cache = \"data/bootstrap-all.pkl\"\n",
    "data_file = \"all_vars.csv\""
   ]
  },
  {
   "cell_type": "code",
   "execution_count": 4,
   "id": "4",
   "metadata": {},
   "outputs": [
    {
     "name": "stdout",
     "output_type": "stream",
     "text": [
      "Dropped 592 rows missing treatment or outcome.\n"
     ]
    }
   ],
   "source": [
    "from reed import drop_missing_treatment_or_outcome\n",
    "from direct_regression import seperate_and_transform_data\n",
    "\n",
    "data = pd.read_csv(data_file,index_col='xwaveid')\n",
    "drop_missing_treatment_or_outcome(data, treatment, outcome)\n",
    "if log_outcome:\n",
    "    data[outcome] = np.log(data[outcome]+data[outcome].min())\n",
    "    \n",
    "X0, X1, y0, y1, X, y, t, features = seperate_and_transform_data(data, treatment, outcome)"
   ]
  },
  {
   "cell_type": "code",
   "execution_count": 6,
   "id": "5",
   "metadata": {},
   "outputs": [
    {
     "name": "stdout",
     "output_type": "stream",
     "text": [
      "638 313.3365680181785\n",
      "638 267.35867449148515\n",
      "638 325.66965705212874\n"
     ]
    }
   ],
   "source": [
    "def effective_rank(X):\n",
    "    \"\"\"\n",
    "    Return the effective rank of a matrix\n",
    "    \n",
    "    Based on: Roy, Olivier, and Martin Vetterli. \n",
    "    \"The effective rank: A measure of effective dimensionality.\" \n",
    "    In 2007 15th European Signal Processing Conference, 2007.\n",
    "    \"\"\"\n",
    "    u, s, v = np.linalg.svd(X.T@X)\n",
    "    norm_s = np.abs(s).sum()\n",
    "    p = s/norm_s\n",
    "    H = -(p*np.log(p)).sum()\n",
    "    erank = np.exp(H)\n",
    "    return erank\n",
    "\n",
    "for M in [X0, X1, X]:\n",
    "    print(M.shape[1], effective_rank(M))"
   ]
  },
  {
   "cell_type": "code",
   "execution_count": 26,
   "id": "6",
   "metadata": {},
   "outputs": [
    {
     "data": {
      "text/plain": [
       "[<matplotlib.lines.Line2D at 0x7f57ba3820a0>]"
      ]
     },
     "execution_count": 26,
     "metadata": {},
     "output_type": "execute_result"
    },
    {
     "data": {
      "image/png": "[encoded data removed]",
      "text/plain": [
       "<Figure size 432x288 with 1 Axes>"
      ]
     },
     "metadata": {
      "needs_background": "light"
     },
     "output_type": "display_data"
    }
   ],
   "source": [
    "\n",
    "# 97\n",
    "\n",
    "# if I roll a d100 10 times, what is the probability of getting at least one 1\n",
    "\n",
    "# if the probability of getting 1 is x then probabity of not getting 1 for  each roll is (1-x)^10\n",
    "\n",
    "\n",
    "x = np.linspace(0,.1,100)\n",
    "plt.plot(x,1-(1-x)**10)\n"
   ]
  },
  {
   "cell_type": "code",
   "execution_count": 16,
   "id": "7",
   "metadata": {},
   "outputs": [],
   "source": [
    "from skfeature.function.sparse_learning_based import NDFS,UDFS,MCFS\n",
    "\n",
    "W = UDFS.udfs(X, n_clusters=10)"
   ]
  },
  {
   "cell_type": "code",
   "execution_count": 18,
   "id": "8",
   "metadata": {},
   "outputs": [
    {
     "data": {
      "text/plain": [
       "(638, 10)"
      ]
     },
     "execution_count": 18,
     "metadata": {},
     "output_type": "execute_result"
    }
   ],
   "source": [
    "W.shape"
   ]
  },
  {
   "cell_type": "code",
   "execution_count": 19,
   "id": "9",
   "metadata": {},
   "outputs": [
    {
     "data": {
      "text/plain": [
       "(4954, 638)"
      ]
     },
     "execution_count": 19,
     "metadata": {},
     "output_type": "execute_result"
    }
   ],
   "source": [
    "X.shape"
   ]
  },
  {
   "cell_type": "code",
   "execution_count": 20,
   "id": "10",
   "metadata": {},
   "outputs": [
    {
     "data": {
      "text/plain": [
       "array([-6.63952625e-08, -3.57639239e-08, -6.49137349e-08,  1.36195746e-08,\n",
       "        4.32986679e-09,  1.02609452e-08, -1.02929833e-08,  3.35138550e-09,\n",
       "        1.07036817e-08,  1.96074203e-08])"
      ]
     },
     "execution_count": 20,
     "metadata": {},
     "output_type": "execute_result"
    }
   ],
   "source": []
  },
  {
   "cell_type": "code",
   "execution_count": null,
   "id": "11",
   "metadata": {},
   "outputs": [],
   "source": []
  }
 ],
 "metadata": {
  "kernelspec": {
   "display_name": "Python 3 (ipykernel)",
   "language": "python",
   "name": "python3"
  },
  "language_info": {
   "codemirror_mode": {
    "name": "ipython",
    "version": 3
   },
   "file_extension": ".py",
   "mimetype": "text/x-python",
   "name": "python",
   "nbconvert_exporter": "python",
   "pygments_lexer": "ipython3",
   "version": "3.9.7"
  }
 },
 "nbformat": 4,
 "nbformat_minor": 5
}
