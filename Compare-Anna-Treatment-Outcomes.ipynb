{
 "cells": [
  {
   "cell_type": "markdown",
   "id": "0",
   "metadata": {},
   "source": [
    "# Compare Datasets"
   ]
  },
  {
   "cell_type": "code",
   "execution_count": null,
   "id": "1",
   "metadata": {
    "tags": [
     "hide_cell"
    ]
   },
   "outputs": [],
   "source": [
    "import pandas as pd\n",
    "import numpy as np\n",
    "import pyreadstat\n",
    "from reed import regex_select, compute_confusion\n",
    "pd.options.display.max_columns = 200\n",
    "pd.options.display.max_rows = 500\n",
    "\n",
    "%load_ext autoreload\n",
    "%autoreload 2"
   ]
  },
  {
   "cell_type": "markdown",
   "id": "2",
   "metadata": {},
   "source": [
    "## Load data & compare overlap of instances in datasets"
   ]
  },
  {
   "cell_type": "code",
   "execution_count": null,
   "id": "3",
   "metadata": {
    "tags": [
     "hide_input"
    ]
   },
   "outputs": [],
   "source": [
    "idc = 'xwaveid' # merge id\n",
    "finn = pd.read_csv(\"data/all_vars.csv\",index_col='xwaveid').reset_index()\n",
    "anna, meta = pyreadstat.read_dta(\"../reduregvars.dta\")\n",
    "raw, meta_r = pyreadstat.read_sav(f'data/part1/Combined a190c.sav') \n",
    "raw['xwaveid'] = raw['xwaveid'].astype(int)\n",
    "anna['xwaveid'] = anna['xwaveid'].astype(int)\n",
    "finn['in_finn'] = True\n",
    "anna['in_anna'] = True"
   ]
  },
  {
   "cell_type": "markdown",
   "id": "4",
   "metadata": {},
   "source": [
    "### Check currently studying indicators"
   ]
  },
  {
   "cell_type": "code",
   "execution_count": null,
   "id": "5",
   "metadata": {},
   "outputs": [],
   "source": [
    "summary_study = ['aedqstdy','aedfts','acaeft','acaept','anlreast','abncsty','abnfsty']\n",
    "\n",
    "c11_study = [\n",
    " 'aedcqsl',\n",
    " 'aedcqsh',\n",
    " 'aedcqnq',\n",
    " 'aedcqtq',\n",
    " 'aedcqta',\n",
    " 'aedcqtc',\n",
    " 'aedcqc1',\n",
    " 'aedcqc2',\n",
    " 'aedcqc3',\n",
    " 'aedcqc4',\n",
    " 'aedcqcd',\n",
    " 'aedcqad',\n",
    " 'aedcqav',\n",
    " 'aedcqbd',\n",
    " 'aedcqhd',\n",
    " 'aedcqgd',\n",
    " 'aedcqms',\n",
    " 'aedcqdc',\n",
    " 'aedcqbc',\n",
    " 'aedcqsc',\n",
    " 'aedcqcc',\n",
    " 'aedcqgc',\n",
    " 'aedcqcn',\n",
    " 'aedcqdn',\n",
    " 'aedcqnei',\n",
    " 'aedcqna',\n",
    " 'aedcqos',\n",
    " 'aedcqdk',\n",
    "]\n",
    "\n",
    "dv_asced_study = [\n",
    " 'aedcq100',\n",
    " 'aedcq110',\n",
    " 'aedcq120',\n",
    " 'aedcq200',\n",
    " 'aedcq211',\n",
    " 'aedcq221',\n",
    " 'aedcq310',\n",
    " 'aedcq311',\n",
    " 'aedcq312',\n",
    " 'aedcq400',\n",
    " 'aedcq411',\n",
    " 'aedcq413',\n",
    " 'aedcq421',\n",
    " 'aedcq500',\n",
    " 'aedcq511',\n",
    " 'aedcq514',\n",
    " 'aedcq521',\n",
    " 'aedcq524',\n",
    " 'aedcq600',\n",
    " 'aedcq611',\n",
    " 'aedcqunk'\n",
    "]\n",
    "\n",
    "studying_all = summary_study + c11_study + dv_asced_study"
   ]
  },
  {
   "cell_type": "code",
   "execution_count": null,
   "id": "6",
   "metadata": {},
   "outputs": [],
   "source": [
    "for c in studying_all:\n",
    "    if raw[c].max() > 1:\n",
    "        print(c)\n",
    "        print(raw[c].value_counts(dropna=False))\n",
    "    "
   ]
  },
  {
   "cell_type": "code",
   "execution_count": null,
   "id": "7",
   "metadata": {},
   "outputs": [],
   "source": [
    "def print_columns_with_labels(cols, meta, name):\n",
    "    print(name)\n",
    "    print('---------------------')\n",
    "    for c in cols:\n",
    "        print(c,\"->\",meta.column_names_to_labels.get(c))\n",
    "    print('')\n",
    "    \n",
    "print_columns_with_labels(summary_study, meta_r, 'Summary columns')\n",
    "print_columns_with_labels(c11_study, meta_r, 'C11 Questions')\n",
    "print_columns_with_labels(dv_asced_study, meta_r, 'DV study')"
   ]
  },
  {
   "cell_type": "code",
   "execution_count": null,
   "id": "8",
   "metadata": {},
   "outputs": [],
   "source": [
    "\n",
    "anna_ = pd.merge(anna, raw[studying_all+[idc]], how='left',on=idc)\n",
    "print('aedcqfpt = ',meta_r.column_names_to_labels['aedcqfpt'])\n",
    "anna_[studying_all].sum(axis=0)"
   ]
  },
  {
   "cell_type": "markdown",
   "id": "9",
   "metadata": {},
   "source": [
    "### Agreement in treatment, outcome & instances"
   ]
  },
  {
   "cell_type": "code",
   "execution_count": null,
   "id": "10",
   "metadata": {},
   "outputs": [],
   "source": [
    "# look at agreement of treatment, outcome and instances\n",
    "treatments = ['^reduhl$', '^rehllt$', '^redudl$', '^redufl$', '^redllt$', '^refllt$']\n",
    "outcomes = ['^rlwage$', '^mh$', '^mhbm$', '^wkhr$', '^y_']\n",
    "compare = ['xwaveid',\"^in_\"]+treatments+outcomes+['ahgage1']\n",
    "\n",
    "finn = finn[regex_select(finn.columns, compare)]\n",
    "anna = anna[regex_select(anna.columns, compare)]\n",
    "c = pd.merge(anna,finn,on=['xwaveid'],how='outer',suffixes=('_a','_f'))\n",
    "c['in_finn'].fillna(False,inplace=True)\n",
    "c['in_anna'].fillna(False,inplace=True)\n",
    "both = c[c['in_anna']&c['in_finn']]\n",
    "finn_only = c[~c['in_anna']&c['in_finn']]\n",
    "anna_only = c[c['in_anna']&~c['in_finn']]\n",
    "print(f'In both:{len(both)}, Finn only:{len(finn_only)}, Anna only:{len(anna_only)}')\n",
    "assert len(both)+len(finn_only)+len(anna_only)==len(c), \"merged frames must be same length\""
   ]
  },
  {
   "cell_type": "markdown",
   "id": "11",
   "metadata": {},
   "source": [
    "## For people in both datasets\n",
    "### Compare treatment computations"
   ]
  },
  {
   "cell_type": "code",
   "execution_count": null,
   "id": "12",
   "metadata": {
    "tags": [
     "hide_input"
    ]
   },
   "outputs": [],
   "source": [
    "treatment_pairs = [\n",
    "    ('reduhl_a','reduhl_f'),\n",
    "    ('redudl_a','redudl_f'),\n",
    "    ('redufl_a','redufl_f')\n",
    "]\n",
    "for ta, tf in treatment_pairs:\n",
    "    print(\"Comparing:\",(ta, tf))\n",
    "    confusion = compute_confusion(both[ta],both[tf],'anna','finn')\n",
    "    display(confusion)\n",
    "    assert confusion.iloc[1,0] < 20, 'large number of instances treated according to anna but not finn'"
   ]
  },
  {
   "cell_type": "code",
   "execution_count": null,
   "id": "13",
   "metadata": {},
   "outputs": [],
   "source": [
    "both[both['redudl_a']!=both['redudl_f']].to_csv(\"data/anna_compare.csv\",index=False)"
   ]
  },
  {
   "cell_type": "markdown",
   "id": "14",
   "metadata": {},
   "source": [
    "### Compare outcome computations\n",
    "   - These are almost identical. The difference is probably as I haven't replaced the values for those claiming to be working more than 100 hours per week."
   ]
  },
  {
   "cell_type": "code",
   "execution_count": null,
   "id": "15",
   "metadata": {
    "tags": [
     "hide_input"
    ]
   },
   "outputs": [],
   "source": [
    "outcome_pairs = [\n",
    "    ('mh','y_ghmh'),\n",
    "    ('wkhr','y_jbhruc')\n",
    "]\n",
    "for oa, of in outcome_pairs:\n",
    "    print(\"Comparing:\",(oa, of))\n",
    "    display(np.corrcoef(both[oa].fillna(-1),both[of].fillna(-1)))"
   ]
  }
 ],
 "metadata": {
  "kernelspec": {
   "display_name": "Python 3 (ipykernel)",
   "language": "python",
   "name": "python3"
  },
  "language_info": {
   "codemirror_mode": {
    "name": "ipython",
    "version": 3
   },
   "file_extension": ".py",
   "mimetype": "text/x-python",
   "name": "python",
   "nbconvert_exporter": "python",
   "pygments_lexer": "ipython3",
   "version": "3.9.7"
  }
 },
 "nbformat": 4,
 "nbformat_minor": 5
}
