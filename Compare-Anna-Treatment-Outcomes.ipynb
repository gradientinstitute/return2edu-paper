{
 "cells": [
  {
   "cell_type": "markdown",
   "id": "0",
   "metadata": {},
   "source": [
    "# Compare Datasets"
   ]
  },
  {
   "cell_type": "code",
   "execution_count": 1,
   "id": "1",
   "metadata": {
    "tags": [
     "hide_cell"
    ]
   },
   "outputs": [],
   "source": [
    "import pandas as pd\n",
    "import numpy as np\n",
    "import pyreadstat\n",
    "from reed import regex_select, compute_confusion\n",
    "pd.options.display.max_columns = 200\n",
    "pd.options.display.max_rows = 500\n",
    "\n",
    "%load_ext autoreload\n",
    "%autoreload 2"
   ]
  },
  {
   "cell_type": "markdown",
   "id": "2",
   "metadata": {},
   "source": [
    "## Load data & compare overlap of instances in datasets"
   ]
  },
  {
   "cell_type": "code",
   "execution_count": 2,
   "id": "3",
   "metadata": {
    "tags": [
     "hide_input"
    ]
   },
   "outputs": [
    {
     "name": "stdout",
     "output_type": "stream",
     "text": [
      "In both:5250, Finn only:296, Anna only:48\n",
      "Check lengths: 5594 5594\n"
     ]
    }
   ],
   "source": [
    "finn = pd.read_csv(\"all_vars.csv\",index_col='xwaveid').reset_index()\n",
    "anna, meta = pyreadstat.read_dta(\"../reduregvars.dta\")\n",
    "anna['xwaveid'] = anna['xwaveid'].astype(int)\n",
    "finn['in_finn'] = True\n",
    "anna['in_anna'] = True\n",
    "\n",
    "treatments = ['^reduhl$', '^rehllt$', '^redudl$', '^redufl$', '^redllt$', '^refllt$']\n",
    "outcomes = ['^rlwage$', '^mh$', '^mhbm$', '^wkhr$', '^y_']\n",
    "compare = ['xwaveid',\"^in_\"]+treatments+outcomes+['ahgage1']\n",
    "\n",
    "finn = finn[regex_select(finn.columns, compare)]\n",
    "anna = anna[regex_select(anna.columns, compare)]\n",
    "c = pd.merge(anna,finn,on=['xwaveid'],how='outer',suffixes=('_a','_f'))\n",
    "c['in_finn'].fillna(False,inplace=True)\n",
    "c['in_anna'].fillna(False,inplace=True)\n",
    "both = c[c['in_anna']&c['in_finn']]\n",
    "finn_only = c[~c['in_anna']&c['in_finn']]\n",
    "anna_only = c[c['in_anna']&~c['in_finn']]\n",
    "print(f'In both:{len(both)}, Finn only:{len(finn_only)}, Anna only:{len(anna_only)}')\n",
    "print(\"Check lengths:\",len(both)+len(finn_only)+len(anna_only),len(c))"
   ]
  },
  {
   "cell_type": "markdown",
   "id": "4",
   "metadata": {},
   "source": [
    "## For people in both datasets\n",
    "### Compare treatment computations"
   ]
  },
  {
   "cell_type": "code",
   "execution_count": 3,
   "id": "5",
   "metadata": {
    "tags": [
     "hide_input"
    ]
   },
   "outputs": [
    {
     "name": "stdout",
     "output_type": "stream",
     "text": [
      "Comparing: ('reduhl_a', 'reduhl_f')\n"
     ]
    },
    {
     "data": {
      "text/html": [
       "<div>\n",
       "<style scoped>\n",
       "    .dataframe tbody tr th:only-of-type {\n",
       "        vertical-align: middle;\n",
       "    }\n",
       "\n",
       "    .dataframe tbody tr th {\n",
       "        vertical-align: top;\n",
       "    }\n",
       "\n",
       "    .dataframe thead th {\n",
       "        text-align: right;\n",
       "    }\n",
       "</style>\n",
       "<table border=\"1\" class=\"dataframe\">\n",
       "  <thead>\n",
       "    <tr style=\"text-align: right;\">\n",
       "      <th></th>\n",
       "      <th>finn==0</th>\n",
       "      <th>finn==1</th>\n",
       "    </tr>\n",
       "  </thead>\n",
       "  <tbody>\n",
       "    <tr>\n",
       "      <th>anna==0</th>\n",
       "      <td>4463</td>\n",
       "      <td>56</td>\n",
       "    </tr>\n",
       "    <tr>\n",
       "      <th>anna==1</th>\n",
       "      <td>0</td>\n",
       "      <td>450</td>\n",
       "    </tr>\n",
       "  </tbody>\n",
       "</table>\n",
       "</div>"
      ],
      "text/plain": [
       "         finn==0  finn==1\n",
       "anna==0     4463       56\n",
       "anna==1        0      450"
      ]
     },
     "metadata": {},
     "output_type": "display_data"
    },
    {
     "name": "stdout",
     "output_type": "stream",
     "text": [
      "Comparing: ('redudl_a', 'redudl_f')\n"
     ]
    },
    {
     "data": {
      "text/html": [
       "<div>\n",
       "<style scoped>\n",
       "    .dataframe tbody tr th:only-of-type {\n",
       "        vertical-align: middle;\n",
       "    }\n",
       "\n",
       "    .dataframe tbody tr th {\n",
       "        vertical-align: top;\n",
       "    }\n",
       "\n",
       "    .dataframe thead th {\n",
       "        text-align: right;\n",
       "    }\n",
       "</style>\n",
       "<table border=\"1\" class=\"dataframe\">\n",
       "  <thead>\n",
       "    <tr style=\"text-align: right;\">\n",
       "      <th></th>\n",
       "      <th>finn==0</th>\n",
       "      <th>finn==1</th>\n",
       "    </tr>\n",
       "  </thead>\n",
       "  <tbody>\n",
       "    <tr>\n",
       "      <th>anna==0</th>\n",
       "      <td>3935</td>\n",
       "      <td>31</td>\n",
       "    </tr>\n",
       "    <tr>\n",
       "      <th>anna==1</th>\n",
       "      <td>13</td>\n",
       "      <td>1267</td>\n",
       "    </tr>\n",
       "  </tbody>\n",
       "</table>\n",
       "</div>"
      ],
      "text/plain": [
       "         finn==0  finn==1\n",
       "anna==0     3935       31\n",
       "anna==1       13     1267"
      ]
     },
     "metadata": {},
     "output_type": "display_data"
    },
    {
     "name": "stdout",
     "output_type": "stream",
     "text": [
      "Comparing: ('redufl_a', 'redufl_f')\n"
     ]
    },
    {
     "data": {
      "text/html": [
       "<div>\n",
       "<style scoped>\n",
       "    .dataframe tbody tr th:only-of-type {\n",
       "        vertical-align: middle;\n",
       "    }\n",
       "\n",
       "    .dataframe tbody tr th {\n",
       "        vertical-align: top;\n",
       "    }\n",
       "\n",
       "    .dataframe thead th {\n",
       "        text-align: right;\n",
       "    }\n",
       "</style>\n",
       "<table border=\"1\" class=\"dataframe\">\n",
       "  <thead>\n",
       "    <tr style=\"text-align: right;\">\n",
       "      <th></th>\n",
       "      <th>finn==0</th>\n",
       "      <th>finn==1</th>\n",
       "    </tr>\n",
       "  </thead>\n",
       "  <tbody>\n",
       "    <tr>\n",
       "      <th>anna==0</th>\n",
       "      <td>3932</td>\n",
       "      <td>30</td>\n",
       "    </tr>\n",
       "    <tr>\n",
       "      <th>anna==1</th>\n",
       "      <td>13</td>\n",
       "      <td>1271</td>\n",
       "    </tr>\n",
       "  </tbody>\n",
       "</table>\n",
       "</div>"
      ],
      "text/plain": [
       "         finn==0  finn==1\n",
       "anna==0     3932       30\n",
       "anna==1       13     1271"
      ]
     },
     "metadata": {},
     "output_type": "display_data"
    }
   ],
   "source": [
    "treatment_pairs = [\n",
    "    ('reduhl_a','reduhl_f'),\n",
    "    ('redudl_a','redudl_f'),\n",
    "    ('redufl_a','redufl_f')\n",
    "]\n",
    "for ta, tf in treatment_pairs:\n",
    "    print(\"Comparing:\",(ta, tf))\n",
    "    confusion = compute_confusion(both[ta],both[tf],'anna','finn')\n",
    "    display(confusion)\n",
    "    assert confusion.iloc[1,0] < 20, 'large number of instances treated according to anna but not finn'"
   ]
  },
  {
   "cell_type": "code",
   "execution_count": 4,
   "id": "6",
   "metadata": {},
   "outputs": [],
   "source": [
    "both[both['redudl_a']!=both['redudl_f']].to_csv(\"data/anna_compare.csv\",index=False)"
   ]
  },
  {
   "cell_type": "markdown",
   "id": "7",
   "metadata": {},
   "source": [
    "### Compare outcome computations\n",
    "   - These are almost identical. The difference is probably as I haven't replaced the values for those claiming to be working more than 100 hours per week."
   ]
  },
  {
   "cell_type": "code",
   "execution_count": 5,
   "id": "8",
   "metadata": {
    "tags": [
     "hide_input"
    ]
   },
   "outputs": [
    {
     "name": "stdout",
     "output_type": "stream",
     "text": [
      "Comparing: ('mh', 'y_ghmh')\n"
     ]
    },
    {
     "data": {
      "text/plain": [
       "array([[1., 1.],\n",
       "       [1., 1.]])"
      ]
     },
     "metadata": {},
     "output_type": "display_data"
    },
    {
     "name": "stdout",
     "output_type": "stream",
     "text": [
      "Comparing: ('wkhr', 'y_jbhruc')\n"
     ]
    },
    {
     "data": {
      "text/plain": [
       "array([[1.        , 0.99991192],\n",
       "       [0.99991192, 1.        ]])"
      ]
     },
     "metadata": {},
     "output_type": "display_data"
    }
   ],
   "source": [
    "outcome_pairs = [\n",
    "    ('mh','y_ghmh'),\n",
    "    ('wkhr','y_jbhruc')\n",
    "]\n",
    "for oa, of in outcome_pairs:\n",
    "    print(\"Comparing:\",(oa, of))\n",
    "    display(np.corrcoef(both[oa].fillna(-1),both[of].fillna(-1)))"
   ]
  }
 ],
 "metadata": {
  "kernelspec": {
   "display_name": "Python 3 (ipykernel)",
   "language": "python",
   "name": "python3"
  },
  "language_info": {
   "codemirror_mode": {
    "name": "ipython",
    "version": 3
   },
   "file_extension": ".py",
   "mimetype": "text/x-python",
   "name": "python",
   "nbconvert_exporter": "python",
   "pygments_lexer": "ipython3",
   "version": "3.9.7"
  }
 },
 "nbformat": 4,
 "nbformat_minor": 5
}
