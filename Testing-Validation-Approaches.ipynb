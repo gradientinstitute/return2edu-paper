{
 "cells": [
  {
   "cell_type": "markdown",
   "id": "0",
   "metadata": {},
   "source": [
    "# Comparing validation approaches"
   ]
  },
  {
   "cell_type": "code",
   "execution_count": 21,
   "id": "1",
   "metadata": {},
   "outputs": [
    {
     "name": "stdout",
     "output_type": "stream",
     "text": [
      "The autoreload extension is already loaded. To reload it, use:\n",
      "  %reload_ext autoreload\n"
     ]
    }
   ],
   "source": [
    "import numpy as np\n",
    "import pandas as pd\n",
    "\n",
    "from sklearn.linear_model import Ridge\n",
    "from reed import Model\n",
    "\n",
    "pd.options.display.max_columns = 200\n",
    "pd.options.display.max_rows = 500\n",
    "%matplotlib inline\n",
    "\n",
    "%load_ext autoreload\n",
    "%autoreload 2"
   ]
  },
  {
   "cell_type": "code",
   "execution_count": 22,
   "id": "2",
   "metadata": {},
   "outputs": [],
   "source": [
    "outcome = 'y_Dwsce'#'y_wsce'\n",
    "treatment = 'redufl'\n",
    "optimisation_metric = 'neg_mean_squared_error'\n",
    "evaluation_metrics = ('r2','neg_mean_squared_error')\n",
    "log_outcome=False\n",
    "data_file = \"all_vars.csv\"\n",
    "cross_val_cache = None\n",
    "bootstrap_cache = None"
   ]
  },
  {
   "cell_type": "code",
   "execution_count": 23,
   "id": "3",
   "metadata": {},
   "outputs": [
    {
     "name": "stdout",
     "output_type": "stream",
     "text": [
      "Dropped 592 rows missing treatment or outcome.\n"
     ]
    }
   ],
   "source": [
    "from reed import drop_missing_treatment_or_outcome\n",
    "data = pd.read_csv(data_file,index_col='xwaveid')\n",
    "drop_missing_treatment_or_outcome(data, treatment, outcome)\n",
    "if log_outcome:\n",
    "    data[outcome] = np.log(data[outcome]+data[outcome].min())"
   ]
  },
  {
   "cell_type": "code",
   "execution_count": 24,
   "id": "4",
   "metadata": {},
   "outputs": [
    {
     "name": "stdout",
     "output_type": "stream",
     "text": [
      "Control data dimensions:  (3659, 638)\n",
      "Treated data dimensions: (1295, 638)\n"
     ]
    }
   ],
   "source": [
    "from direct_regression import seperate_and_transform_data\n",
    "X0, X1, y0, y1, X, y, t, features = seperate_and_transform_data(data, treatment, outcome)\n",
    "\n",
    "print(\"Control data dimensions: \",X0.shape)\n",
    "print(\"Treated data dimensions:\",X1.shape)"
   ]
  },
  {
   "cell_type": "code",
   "execution_count": 25,
   "id": "5",
   "metadata": {},
   "outputs": [],
   "source": [
    "from direct_regression import importance_from_coef\n",
    "def construct_models():\n",
    "    models = [\n",
    "        Model('ridge',Ridge(), \n",
    "              parameters = {\n",
    "                  'alpha':np.logspace(-1,4,10)\n",
    "              },\n",
    "              importance_func=importance_from_coef\n",
    "        )\n",
    "    ]\n",
    "    return models"
   ]
  },
  {
   "cell_type": "code",
   "execution_count": 26,
   "id": "6",
   "metadata": {},
   "outputs": [
    {
     "name": "stdout",
     "output_type": "stream",
     "text": [
      "Proportion Treated:26%\n",
      "Average outcome under Control:67.85±15.36\n",
      "Average outcome under Treatment:310.57±29.39\n",
      "Unadjusted treatment estimate 242.72\n"
     ]
    }
   ],
   "source": [
    "from direct_regression import print_unconditional_effects\n",
    "print_unconditional_effects(data, treatment, y0, y1)"
   ]
  },
  {
   "cell_type": "code",
   "execution_count": 83,
   "id": "7",
   "metadata": {},
   "outputs": [
    {
     "data": {
      "text/plain": [
       "array([<reed.Model object at 0x7f4e147ea910>,\n",
       "       <reed.Model object at 0x7f4e147ead30>], dtype=object)"
      ]
     },
     "execution_count": 83,
     "metadata": {},
     "output_type": "execute_result"
    }
   ],
   "source": [
    "l = list(range(5))\n",
    "l2 = list('abjcd')\n",
    "l3 = [construct_models()[0],construct_models()[0]]\n",
    "\n",
    "np.array(l3)"
   ]
  },
  {
   "cell_type": "code",
   "execution_count": 27,
   "id": "8",
   "metadata": {},
   "outputs": [
    {
     "name": "stdout",
     "output_type": "stream",
     "text": [
      "Fitting ridge ...Fitting 5 folds for each of 10 candidates, totalling 50 fits\n",
      "Fitting 5 folds for each of 10 candidates, totalling 50 fits\n",
      "Fitting 5 folds for each of 10 candidates, totalling 50 fits\n",
      "Fitting 5 folds for each of 10 candidates, totalling 50 fits\n",
      "Fitting 5 folds for each of 10 candidates, totalling 50 fits\n",
      "Fitting 5 folds for each of 10 candidates, totalling 50 fits\n",
      "Fitting 5 folds for each of 10 candidates, totalling 50 fits\n",
      "Fitting 5 folds for each of 10 candidates, totalling 50 fits\n",
      "Fitting 5 folds for each of 10 candidates, totalling 50 fits\n",
      "Fitting 5 folds for each of 10 candidates, totalling 50 fits\n",
      "Fitting 5 folds for each of 10 candidates, totalling 50 fits\n",
      "Fitting 5 folds for each of 10 candidates, totalling 50 fits\n",
      "Fitting 5 folds for each of 10 candidates, totalling 50 fits\n",
      "Fitting 5 folds for each of 10 candidates, totalling 50 fits\n",
      "Fitting 5 folds for each of 10 candidates, totalling 50 fits\n",
      "Fitting 5 folds for each of 10 candidates, totalling 50 fits\n",
      "Fitting 5 folds for each of 10 candidates, totalling 50 fits\n",
      "Fitting 5 folds for each of 10 candidates, totalling 50 fits\n",
      "Fitting 5 folds for each of 10 candidates, totalling 50 fits\n",
      "Fitting 5 folds for each of 10 candidates, totalling 50 fits\n",
      "Done\n"
     ]
    }
   ],
   "source": [
    "from direct_regression import nested_cross_val\n",
    "models0, models1, results = nested_cross_val(\n",
    "    construct_models,\n",
    "    cross_val_cache,\n",
    "    X0, X1, y0, y1,\n",
    "    optimisation_metric,\n",
    "    evaluation_metrics,\n",
    "    innercv=5,\n",
    "    outercv=10,\n",
    "    load_from_cache=False\n",
    ")"
   ]
  },
  {
   "cell_type": "code",
   "execution_count": 55,
   "id": "9",
   "metadata": {},
   "outputs": [
    {
     "data": {
      "text/html": [
       "<div>\n",
       "<style scoped>\n",
       "    .dataframe tbody tr th:only-of-type {\n",
       "        vertical-align: middle;\n",
       "    }\n",
       "\n",
       "    .dataframe tbody tr th {\n",
       "        vertical-align: top;\n",
       "    }\n",
       "\n",
       "    .dataframe thead th {\n",
       "        text-align: right;\n",
       "    }\n",
       "</style>\n",
       "<table border=\"1\" class=\"dataframe\">\n",
       "  <thead>\n",
       "    <tr style=\"text-align: right;\">\n",
       "      <th></th>\n",
       "      <th>ACE</th>\n",
       "      <th>ACE_std</th>\n",
       "      <th>control_r2</th>\n",
       "      <th>control_r2_std</th>\n",
       "      <th>treated_r2</th>\n",
       "      <th>treated_r2_std</th>\n",
       "      <th>control_neg_mean_squared_error</th>\n",
       "      <th>control_neg_mean_squared_error_std</th>\n",
       "      <th>treated_neg_mean_squared_error</th>\n",
       "      <th>treated_neg_mean_squared_error_std</th>\n",
       "    </tr>\n",
       "  </thead>\n",
       "  <tbody>\n",
       "    <tr>\n",
       "      <th>ridge</th>\n",
       "      <td>39.59143</td>\n",
       "      <td>20.345715</td>\n",
       "      <td>0.206389</td>\n",
       "      <td>0.059814</td>\n",
       "      <td>0.139703</td>\n",
       "      <td>0.070269</td>\n",
       "      <td>-688768.403648</td>\n",
       "      <td>168647.264813</td>\n",
       "      <td>-963302.016527</td>\n",
       "      <td>320024.574429</td>\n",
       "    </tr>\n",
       "  </tbody>\n",
       "</table>\n",
       "</div>"
      ],
      "text/plain": [
       "            ACE    ACE_std  control_r2  control_r2_std  treated_r2  \\\n",
       "ridge  39.59143  20.345715    0.206389        0.059814    0.139703   \n",
       "\n",
       "       treated_r2_std  control_neg_mean_squared_error  \\\n",
       "ridge        0.070269                  -688768.403648   \n",
       "\n",
       "       control_neg_mean_squared_error_std  treated_neg_mean_squared_error  \\\n",
       "ridge                       168647.264813                  -963302.016527   \n",
       "\n",
       "       treated_neg_mean_squared_error_std  \n",
       "ridge                       320024.574429  "
      ]
     },
     "execution_count": 55,
     "metadata": {},
     "output_type": "execute_result"
    }
   ],
   "source": [
    "from direct_regression import estimate_causal_effect\n",
    "def compute_ate(results, X, evaluation_metrics):\n",
    "    rows = []\n",
    "    index = []\n",
    "    for model_name, (contr_result, treat_result) in results.items():\n",
    "        tau = estimate_causal_effect(X, contr_result['estimator'],treat_result['estimator'])\n",
    "        row = {'ACE':tau.mean(),'ACE_std':tau.std()}\n",
    "        \n",
    "        for m in evaluation_metrics:\n",
    "            key = f'test_{m}'\n",
    "            for name, result in [('control',contr_result),('treated',treat_result)]:\n",
    "                label=f\"{name}_{m}\"\n",
    "                label_std=f\"{label}_std\"\n",
    "                row[label]= result[key].mean()\n",
    "                row[label_std] = result[key].std()\n",
    "        rows.append(row)\n",
    "        index.append(model_name)\n",
    "    metrics = pd.DataFrame(rows,index=index)\n",
    "    return metrics\n",
    "\n",
    "compute_ate(results,X,evaluation_metrics)"
   ]
  },
  {
   "cell_type": "code",
   "execution_count": 58,
   "id": "10",
   "metadata": {},
   "outputs": [],
   "source": [
    "for model, (results0, results1) in results.items():\n",
    "    pass"
   ]
  },
  {
   "cell_type": "code",
   "execution_count": 65,
   "id": "11",
   "metadata": {},
   "outputs": [
    {
     "data": {
      "text/plain": [
       "[GridSearchCV(cv=KFold(n_splits=5, random_state=None, shuffle=False),\n",
       "              estimator=Ridge(), n_jobs=-1,\n",
       "              param_grid={'alpha': array([1.00000000e-01, 3.59381366e-01, 1.29154967e+00, 4.64158883e+00,\n",
       "        1.66810054e+01, 5.99484250e+01, 2.15443469e+02, 7.74263683e+02,\n",
       "        2.78255940e+03, 1.00000000e+04])},\n",
       "              scoring='neg_mean_squared_error', verbose=1),\n",
       " GridSearchCV(cv=KFold(n_splits=5, random_state=None, shuffle=False),\n",
       "              estimator=Ridge(), n_jobs=-1,\n",
       "              param_grid={'alpha': array([1.00000000e-01, 3.59381366e-01, 1.29154967e+00, 4.64158883e+00,\n",
       "        1.66810054e+01, 5.99484250e+01, 2.15443469e+02, 7.74263683e+02,\n",
       "        2.78255940e+03, 1.00000000e+04])},\n",
       "              scoring='neg_mean_squared_error', verbose=1),\n",
       " GridSearchCV(cv=KFold(n_splits=5, random_state=None, shuffle=False),\n",
       "              estimator=Ridge(), n_jobs=-1,\n",
       "              param_grid={'alpha': array([1.00000000e-01, 3.59381366e-01, 1.29154967e+00, 4.64158883e+00,\n",
       "        1.66810054e+01, 5.99484250e+01, 2.15443469e+02, 7.74263683e+02,\n",
       "        2.78255940e+03, 1.00000000e+04])},\n",
       "              scoring='neg_mean_squared_error', verbose=1),\n",
       " GridSearchCV(cv=KFold(n_splits=5, random_state=None, shuffle=False),\n",
       "              estimator=Ridge(), n_jobs=-1,\n",
       "              param_grid={'alpha': array([1.00000000e-01, 3.59381366e-01, 1.29154967e+00, 4.64158883e+00,\n",
       "        1.66810054e+01, 5.99484250e+01, 2.15443469e+02, 7.74263683e+02,\n",
       "        2.78255940e+03, 1.00000000e+04])},\n",
       "              scoring='neg_mean_squared_error', verbose=1),\n",
       " GridSearchCV(cv=KFold(n_splits=5, random_state=None, shuffle=False),\n",
       "              estimator=Ridge(), n_jobs=-1,\n",
       "              param_grid={'alpha': array([1.00000000e-01, 3.59381366e-01, 1.29154967e+00, 4.64158883e+00,\n",
       "        1.66810054e+01, 5.99484250e+01, 2.15443469e+02, 7.74263683e+02,\n",
       "        2.78255940e+03, 1.00000000e+04])},\n",
       "              scoring='neg_mean_squared_error', verbose=1),\n",
       " GridSearchCV(cv=KFold(n_splits=5, random_state=None, shuffle=False),\n",
       "              estimator=Ridge(), n_jobs=-1,\n",
       "              param_grid={'alpha': array([1.00000000e-01, 3.59381366e-01, 1.29154967e+00, 4.64158883e+00,\n",
       "        1.66810054e+01, 5.99484250e+01, 2.15443469e+02, 7.74263683e+02,\n",
       "        2.78255940e+03, 1.00000000e+04])},\n",
       "              scoring='neg_mean_squared_error', verbose=1),\n",
       " GridSearchCV(cv=KFold(n_splits=5, random_state=None, shuffle=False),\n",
       "              estimator=Ridge(), n_jobs=-1,\n",
       "              param_grid={'alpha': array([1.00000000e-01, 3.59381366e-01, 1.29154967e+00, 4.64158883e+00,\n",
       "        1.66810054e+01, 5.99484250e+01, 2.15443469e+02, 7.74263683e+02,\n",
       "        2.78255940e+03, 1.00000000e+04])},\n",
       "              scoring='neg_mean_squared_error', verbose=1),\n",
       " GridSearchCV(cv=KFold(n_splits=5, random_state=None, shuffle=False),\n",
       "              estimator=Ridge(), n_jobs=-1,\n",
       "              param_grid={'alpha': array([1.00000000e-01, 3.59381366e-01, 1.29154967e+00, 4.64158883e+00,\n",
       "        1.66810054e+01, 5.99484250e+01, 2.15443469e+02, 7.74263683e+02,\n",
       "        2.78255940e+03, 1.00000000e+04])},\n",
       "              scoring='neg_mean_squared_error', verbose=1),\n",
       " GridSearchCV(cv=KFold(n_splits=5, random_state=None, shuffle=False),\n",
       "              estimator=Ridge(), n_jobs=-1,\n",
       "              param_grid={'alpha': array([1.00000000e-01, 3.59381366e-01, 1.29154967e+00, 4.64158883e+00,\n",
       "        1.66810054e+01, 5.99484250e+01, 2.15443469e+02, 7.74263683e+02,\n",
       "        2.78255940e+03, 1.00000000e+04])},\n",
       "              scoring='neg_mean_squared_error', verbose=1),\n",
       " GridSearchCV(cv=KFold(n_splits=5, random_state=None, shuffle=False),\n",
       "              estimator=Ridge(), n_jobs=-1,\n",
       "              param_grid={'alpha': array([1.00000000e-01, 3.59381366e-01, 1.29154967e+00, 4.64158883e+00,\n",
       "        1.66810054e+01, 5.99484250e+01, 2.15443469e+02, 7.74263683e+02,\n",
       "        2.78255940e+03, 1.00000000e+04])},\n",
       "              scoring='neg_mean_squared_error', verbose=1)]"
      ]
     },
     "execution_count": 65,
     "metadata": {},
     "output_type": "execute_result"
    }
   ],
   "source": [
    "results0['estimator']"
   ]
  },
  {
   "cell_type": "code",
   "execution_count": null,
   "id": "12",
   "metadata": {},
   "outputs": [],
   "source": [
    "def hyperparam_distributions(samples) -> {str:[]}:\n",
    "    \"\"\"Returns a dict from hyper-parameter name to the best values for that hyper-parameter over the samples.\"\"\"\n",
    "    distributions = defaultdict(list)\n",
    "    bounds = defaultdict(lambda:[np.inf,-np.inf])\n",
    "    for sample in samples:\n",
    "        h = sample['estimator'].best_params_\n",
    "        grid = sample['estimator'].param_grid\n",
    "        for key, value in h.items():\n",
    "            distributions[key].append(value)\n",
    "            if key in grid:\n",
    "                search_space = grid[key]\n",
    "                minv, maxv = np.min(search_space),np.max(search_space)\n",
    "                if bounds[key][0] > minv:\n",
    "                    bounds[key][0] = minv\n",
    "                if bounds[key][1] < maxv:\n",
    "                    bounds[key][1] = maxv\n",
    "    return distributions,bounds"
   ]
  },
  {
   "cell_type": "code",
   "execution_count": 56,
   "id": "13",
   "metadata": {},
   "outputs": [
    {
     "ename": "TypeError",
     "evalue": "string indices must be integers",
     "output_type": "error",
     "traceback": [
      "\u001b[0;31m---------------------------------------------------------------------------\u001b[0m",
      "\u001b[0;31mTypeError\u001b[0m                                 Traceback (most recent call last)",
      "\u001b[0;32m/tmp/ipykernel_198631/985926537.py\u001b[0m in \u001b[0;36m<module>\u001b[0;34m\u001b[0m\n\u001b[1;32m      1\u001b[0m \u001b[0;32mfrom\u001b[0m \u001b[0mdirect_regression\u001b[0m \u001b[0;32mimport\u001b[0m \u001b[0mplot_hyperparam_distributions\u001b[0m\u001b[0;34m\u001b[0m\u001b[0;34m\u001b[0m\u001b[0m\n\u001b[1;32m      2\u001b[0m \u001b[0;32mfor\u001b[0m \u001b[0mmodel\u001b[0m\u001b[0;34m,\u001b[0m \u001b[0;34m(\u001b[0m\u001b[0mresults0\u001b[0m\u001b[0;34m,\u001b[0m \u001b[0mresults1\u001b[0m\u001b[0;34m)\u001b[0m \u001b[0;32min\u001b[0m \u001b[0mresults\u001b[0m\u001b[0;34m.\u001b[0m\u001b[0mitems\u001b[0m\u001b[0;34m(\u001b[0m\u001b[0;34m)\u001b[0m\u001b[0;34m:\u001b[0m\u001b[0;34m\u001b[0m\u001b[0;34m\u001b[0m\u001b[0m\n\u001b[0;32m----> 3\u001b[0;31m     \u001b[0mplot_hyperparam_distributions\u001b[0m\u001b[0;34m(\u001b[0m\u001b[0mresults0\u001b[0m\u001b[0;34m,\u001b[0m\u001b[0;34mf\"{model}-control\"\u001b[0m\u001b[0;34m)\u001b[0m\u001b[0;34m\u001b[0m\u001b[0;34m\u001b[0m\u001b[0m\n\u001b[0m\u001b[1;32m      4\u001b[0m     \u001b[0mplot_hyperparam_distributions\u001b[0m\u001b[0;34m(\u001b[0m\u001b[0mresults1\u001b[0m\u001b[0;34m,\u001b[0m\u001b[0;34mf\"{model}-treated\"\u001b[0m\u001b[0;34m)\u001b[0m\u001b[0;34m\u001b[0m\u001b[0;34m\u001b[0m\u001b[0m\n",
      "\u001b[0;32m~/data/hilda/re-education/direct_regression.py\u001b[0m in \u001b[0;36mplot_hyperparam_distributions\u001b[0;34m(samples, title, show_bounds)\u001b[0m\n\u001b[1;32m    287\u001b[0m \u001b[0;34m\u001b[0m\u001b[0m\n\u001b[1;32m    288\u001b[0m \u001b[0;32mdef\u001b[0m \u001b[0mplot_hyperparam_distributions\u001b[0m\u001b[0;34m(\u001b[0m\u001b[0msamples\u001b[0m\u001b[0;34m,\u001b[0m \u001b[0mtitle\u001b[0m\u001b[0;34m,\u001b[0m \u001b[0mshow_bounds\u001b[0m\u001b[0;34m=\u001b[0m\u001b[0;32mTrue\u001b[0m\u001b[0;34m)\u001b[0m \u001b[0;34m->\u001b[0m \u001b[0;32mNone\u001b[0m\u001b[0;34m:\u001b[0m\u001b[0;34m\u001b[0m\u001b[0;34m\u001b[0m\u001b[0m\n\u001b[0;32m--> 289\u001b[0;31m     \u001b[0mdistributions\u001b[0m\u001b[0;34m,\u001b[0m\u001b[0mbounds\u001b[0m \u001b[0;34m=\u001b[0m \u001b[0mhyperparam_distributions\u001b[0m\u001b[0;34m(\u001b[0m\u001b[0msamples\u001b[0m\u001b[0;34m)\u001b[0m\u001b[0;34m\u001b[0m\u001b[0;34m\u001b[0m\u001b[0m\n\u001b[0m\u001b[1;32m    290\u001b[0m     \u001b[0mk\u001b[0m \u001b[0;34m=\u001b[0m \u001b[0mlen\u001b[0m\u001b[0;34m(\u001b[0m\u001b[0mdistributions\u001b[0m\u001b[0;34m)\u001b[0m\u001b[0;34m\u001b[0m\u001b[0;34m\u001b[0m\u001b[0m\n\u001b[1;32m    291\u001b[0m     \u001b[0mfig\u001b[0m\u001b[0;34m,\u001b[0m \u001b[0maxes\u001b[0m \u001b[0;34m=\u001b[0m \u001b[0mplt\u001b[0m\u001b[0;34m.\u001b[0m\u001b[0msubplots\u001b[0m\u001b[0;34m(\u001b[0m\u001b[0;36m1\u001b[0m\u001b[0;34m,\u001b[0m\u001b[0mk\u001b[0m\u001b[0;34m,\u001b[0m\u001b[0mfigsize\u001b[0m\u001b[0;34m=\u001b[0m\u001b[0;34m(\u001b[0m\u001b[0mk\u001b[0m\u001b[0;34m*\u001b[0m\u001b[0;36m5\u001b[0m\u001b[0;34m,\u001b[0m\u001b[0;36m4\u001b[0m\u001b[0;34m)\u001b[0m\u001b[0;34m)\u001b[0m\u001b[0;34m\u001b[0m\u001b[0;34m\u001b[0m\u001b[0m\n",
      "\u001b[0;32m~/data/hilda/re-education/direct_regression.py\u001b[0m in \u001b[0;36mhyperparam_distributions\u001b[0;34m(samples)\u001b[0m\n\u001b[1;32m    273\u001b[0m     \u001b[0mbounds\u001b[0m \u001b[0;34m=\u001b[0m \u001b[0mdefaultdict\u001b[0m\u001b[0;34m(\u001b[0m\u001b[0;32mlambda\u001b[0m\u001b[0;34m:\u001b[0m\u001b[0;34m[\u001b[0m\u001b[0mnp\u001b[0m\u001b[0;34m.\u001b[0m\u001b[0minf\u001b[0m\u001b[0;34m,\u001b[0m\u001b[0;34m-\u001b[0m\u001b[0mnp\u001b[0m\u001b[0;34m.\u001b[0m\u001b[0minf\u001b[0m\u001b[0;34m]\u001b[0m\u001b[0;34m)\u001b[0m\u001b[0;34m\u001b[0m\u001b[0;34m\u001b[0m\u001b[0m\n\u001b[1;32m    274\u001b[0m     \u001b[0;32mfor\u001b[0m \u001b[0msample\u001b[0m \u001b[0;32min\u001b[0m \u001b[0msamples\u001b[0m\u001b[0;34m:\u001b[0m\u001b[0;34m\u001b[0m\u001b[0;34m\u001b[0m\u001b[0m\n\u001b[0;32m--> 275\u001b[0;31m         \u001b[0mh\u001b[0m \u001b[0;34m=\u001b[0m \u001b[0msample\u001b[0m\u001b[0;34m[\u001b[0m\u001b[0;34m'estimator'\u001b[0m\u001b[0;34m]\u001b[0m\u001b[0;34m.\u001b[0m\u001b[0mbest_params_\u001b[0m\u001b[0;34m\u001b[0m\u001b[0;34m\u001b[0m\u001b[0m\n\u001b[0m\u001b[1;32m    276\u001b[0m         \u001b[0mgrid\u001b[0m \u001b[0;34m=\u001b[0m \u001b[0msample\u001b[0m\u001b[0;34m[\u001b[0m\u001b[0;34m'estimator'\u001b[0m\u001b[0;34m]\u001b[0m\u001b[0;34m.\u001b[0m\u001b[0mparam_grid\u001b[0m\u001b[0;34m\u001b[0m\u001b[0;34m\u001b[0m\u001b[0m\n\u001b[1;32m    277\u001b[0m         \u001b[0;32mfor\u001b[0m \u001b[0mkey\u001b[0m\u001b[0;34m,\u001b[0m \u001b[0mvalue\u001b[0m \u001b[0;32min\u001b[0m \u001b[0mh\u001b[0m\u001b[0;34m.\u001b[0m\u001b[0mitems\u001b[0m\u001b[0;34m(\u001b[0m\u001b[0;34m)\u001b[0m\u001b[0;34m:\u001b[0m\u001b[0;34m\u001b[0m\u001b[0;34m\u001b[0m\u001b[0m\n",
      "\u001b[0;31mTypeError\u001b[0m: string indices must be integers"
     ]
    }
   ],
   "source": [
    "from direct_regression import plot_hyperparam_distributions\n",
    "for model, (results0, results1) in results.items():\n",
    "    plot_hyperparam_distributions(results0,f\"{model}-control\")\n",
    "    plot_hyperparam_distributions(results1,f\"{model}-treated\")"
   ]
  },
  {
   "cell_type": "code",
   "execution_count": null,
   "id": "14",
   "metadata": {},
   "outputs": [],
   "source": [
    "def nested_cv_fit_evaluate(self, X, y,\n",
    "                               optimisation_metric,\n",
    "                               evaluation_metrics,\n",
    "                               inner_cv=None,\n",
    "                               outer_cv=None\n",
    "                               ):\n",
    "        estimator = self.setup_estimator(optimisation_metric, inner_cv)\n",
    "        outer_cv = self._setup_cv(outer_cv)\n",
    "\n",
    "        nested_results = cross_validate(estimator, X=X, y=y, cv=outer_cv,\n",
    "                                        scoring=evaluation_metrics, return_estimator=True)\n",
    "        return nested_results"
   ]
  },
  {
   "cell_type": "code",
   "execution_count": 30,
   "id": "15",
   "metadata": {},
   "outputs": [],
   "source": [
    "for model_name, (contr_result, treat_result) in results.items():\n",
    "    pass"
   ]
  },
  {
   "cell_type": "code",
   "execution_count": null,
   "id": "16",
   "metadata": {},
   "outputs": [],
   "source": []
  }
 ],
 "metadata": {
  "kernelspec": {
   "display_name": "Python 3 (ipykernel)",
   "language": "python",
   "name": "python3"
  },
  "language_info": {
   "codemirror_mode": {
    "name": "ipython",
    "version": 3
   },
   "file_extension": ".py",
   "mimetype": "text/x-python",
   "name": "python",
   "nbconvert_exporter": "python",
   "pygments_lexer": "ipython3",
   "version": "3.9.7"
  }
 },
 "nbformat": 4,
 "nbformat_minor": 5
}
