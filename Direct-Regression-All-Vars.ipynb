{
 "cells": [
  {
   "cell_type": "markdown",
   "id": "0",
   "metadata": {},
   "source": [
    "# Direct Regression"
   ]
  },
  {
   "cell_type": "code",
   "execution_count": 1,
   "id": "1",
   "metadata": {
    "tags": [
     "hide_cell"
    ]
   },
   "outputs": [
    {
     "data": {
      "text/plain": [
       "'1.0'"
      ]
     },
     "execution_count": 1,
     "metadata": {},
     "output_type": "execute_result"
    }
   ],
   "source": [
    "# import libraries\n",
    "import numpy as np\n",
    "import pandas as pd\n",
    "import matplotlib.pyplot as plt\n",
    "import pyreadstat\n",
    "import re\n",
    "import string\n",
    "import sklearn\n",
    "from sklearn_pandas import DataFrameMapper\n",
    "from sklearn.linear_model import LinearRegression, Lasso, Ridge\n",
    "from sklearn.ensemble import GradientBoostingRegressor\n",
    "from sklearn.svm import SVR\n",
    "from tqdm import tqdm_notebook as tqdm\n",
    "#from cinspect import dependence, importance\n",
    "from sklearn.model_selection import cross_val_score, cross_validate\n",
    "from sklearn.metrics import r2_score\n",
    "import pickle\n",
    "import time\n",
    "\n",
    "from reed import drop_missing_treatment_or_outcome, Model\n",
    "\n",
    "# set global notebook options\n",
    "pd.options.display.max_columns = 200\n",
    "pd.options.display.max_rows = 500\n",
    "pd.options.display.max_colwidth = 100\n",
    "\n",
    "%matplotlib inline\n",
    "\n",
    "%load_ext autoreload\n",
    "%autoreload 2\n",
    "\n",
    "sklearn.__version__"
   ]
  },
  {
   "cell_type": "markdown",
   "id": "2",
   "metadata": {},
   "source": [
    "## Response Model\n",
    "\n",
    "How well can we predict outcomes $Y$ conditional on treatment $T$ and other covariates $Z$?"
   ]
  },
  {
   "cell_type": "markdown",
   "id": "3",
   "metadata": {},
   "source": [
    "### Treatent variables\n",
    "\n",
    "   - **reduhl**\tCompleted re-education based on highest level of attainment\n",
    "   - **redudl**\tCompleted re-education based on detailed qualifications\n",
    "   - **redufl**\tCompleted re-education using highest lvl and detailed qualifications.\n",
    "\n",
    "### Outcome variables\n",
    "   - Mental health in 2019 (**mh**). This is the transformed mental health scores from the aggregation of mental health items of the SF-36 Health Survey, as reported by the individual in 2019. It ranges from 0 to 100, with higher scores indicating better mental health.  \n",
    "   - Working hours in 2019 (**wkhr**) records the total number of hours the individual works in all jobs in a week on average. Working hours are set to 0 for those not working. \n",
    "   - Hourly Wages in 2019 (**rlwage**) records the average hourly wage for the individual’s main job in 2019. Hourly wages are set to 0 for those not working and set to missing for those reporting working more than 100 hours a week. \n",
    "   \n",
    "#### Columns explicitly excluded\n",
    "   - **xwaveid** (unique identifier)\n",
    "   - **p_rcom*** (timing of completion of re-education, proxies treatment) TODO think about how we would include this\n",
    "   - **p_cotrl** (first avail 2003)\n",
    "   - **p_rdf*** (first avail 2012)"
   ]
  },
  {
   "cell_type": "markdown",
   "id": "4",
   "metadata": {},
   "source": [
    "#### Select modeling parameters"
   ]
  },
  {
   "cell_type": "code",
   "execution_count": 2,
   "id": "5",
   "metadata": {},
   "outputs": [],
   "source": [
    "outcome = 'y_Dwsce'#'y_wsce'\n",
    "treatment = 'redufl'\n",
    "optimisation_metric = 'neg_mean_squared_error'\n",
    "evaluation_metrics = ('r2','neg_mean_squared_error')\n",
    "log_outcome=False\n",
    "cross_val_cache = \"data/cross-val-all.pkl\"\n",
    "bootstrap_cache = \"data/bootstrap-all.pkl\"\n",
    "data_file = \"all_vars.csv\""
   ]
  },
  {
   "cell_type": "markdown",
   "id": "6",
   "metadata": {},
   "source": [
    "### Load Data \n",
    "   - drop rows missing the specified treatment or outcome"
   ]
  },
  {
   "cell_type": "code",
   "execution_count": 3,
   "id": "7",
   "metadata": {
    "tags": [
     "hide_input"
    ]
   },
   "outputs": [
    {
     "name": "stdout",
     "output_type": "stream",
     "text": [
      "Dropped 592 rows missing treatment or outcome.\n"
     ]
    }
   ],
   "source": [
    "data = pd.read_csv(data_file,index_col='xwaveid')\n",
    "drop_missing_treatment_or_outcome(data, treatment, outcome)\n",
    "if log_outcome:\n",
    "    data[outcome] = np.log(data[outcome]+data[outcome].min())"
   ]
  },
  {
   "cell_type": "markdown",
   "id": "8",
   "metadata": {},
   "source": [
    "### Set up models\n",
    "Specify which models to use and the hyper-parameter space to search over for each"
   ]
  },
  {
   "cell_type": "code",
   "execution_count": 4,
   "id": "9",
   "metadata": {
    "tags": [
     "hide_input"
    ]
   },
   "outputs": [],
   "source": [
    "from sklearn.linear_model import Lasso, Ridge\n",
    "from sklearn.ensemble import GradientBoostingRegressor\n",
    "from direct_regression import importance_from_coef\n",
    "\n",
    "def construct_models():\n",
    "    models = [\n",
    "        Model('ridge',Ridge(), \n",
    "              parameters = {\n",
    "                  'alpha':np.logspace(-1,4,30)\n",
    "              },\n",
    "              importance_func=importance_from_coef\n",
    "        ),\n",
    "        Model('lasso',Lasso(),\n",
    "              parameters = {\n",
    "                  'alpha':np.logspace(-2,4,30)\n",
    "              },\n",
    "              importance_func=importance_from_coef\n",
    "        ), \n",
    "        Model('gbr',GradientBoostingRegressor(n_iter_no_change=20, max_depth=2),\n",
    "              parameters = {\n",
    "                'max_features':np.linspace(0,1,6)[1:],\n",
    "                'learning_rate':np.logspace(-3,0,10),\n",
    "                'min_samples_leaf':np.logspace(0,3,10).astype(int)\n",
    "              }\n",
    "        ),\n",
    "    ]\n",
    "    return models\n",
    "\n",
    "# def construct_models(): Used for quick testing\n",
    "#     models = [\n",
    "#         Model('Ridge',Ridge(),\n",
    "#               parameters = {'alpha':np.logspace(1,4,2)},\n",
    "#               importance_func=importance_from_coef\n",
    "#         ),\n",
    "#         Model('gbr',GradientBoostingRegressor(n_iter_no_change=20, max_depth=2),\n",
    "#               parameters = {\n",
    "#                 'max_features':[10],\n",
    "#                 'learning_rate':np.logspace(-3,0,2),\n",
    "#               }\n",
    "#         ), \n",
    "#     ]\n",
    "#     return models"
   ]
  },
  {
   "cell_type": "markdown",
   "id": "10",
   "metadata": {},
   "source": [
    "### Prepare data for modeling\n",
    "   - split into treated/control\n",
    "   - impute missing values and scale\n",
    "   - separate features from outcomes&treatments"
   ]
  },
  {
   "cell_type": "code",
   "execution_count": 5,
   "id": "11",
   "metadata": {
    "tags": [
     "hide_input"
    ]
   },
   "outputs": [
    {
     "name": "stdout",
     "output_type": "stream",
     "text": [
      "Control data dimensions:  (3659, 638)\n",
      "Treated data dimensions: (1295, 638)\n"
     ]
    }
   ],
   "source": [
    "from direct_regression import seperate_and_transform_data\n",
    "X0, X1, y0, y1, X, y, t, features = seperate_and_transform_data(data, treatment, outcome)\n",
    "\n",
    "print(\"Control data dimensions: \",X0.shape)\n",
    "print(\"Treated data dimensions:\",X1.shape)\n"
   ]
  },
  {
   "cell_type": "markdown",
   "id": "12",
   "metadata": {},
   "source": [
    "### Compute unconditional/unadjusted estimate of treatment effect"
   ]
  },
  {
   "cell_type": "code",
   "execution_count": 6,
   "id": "13",
   "metadata": {
    "tags": [
     "hide_input"
    ]
   },
   "outputs": [
    {
     "name": "stdout",
     "output_type": "stream",
     "text": [
      "Proportion Treated:26%\n",
      "Average outcome under Control:67.85±15.36\n",
      "Average outcome under Treatment:310.57±29.39\n",
      "Unadjusted treatment estimate 242.72\n"
     ]
    }
   ],
   "source": [
    "from direct_regression import print_unconditional_effects\n",
    "print_unconditional_effects(data, treatment, y0, y1)"
   ]
  },
  {
   "cell_type": "markdown",
   "id": "14",
   "metadata": {},
   "source": [
    "### Propensity model\n",
    "\n",
    "- Run primarily to check for violations over overlap assumptions."
   ]
  },
  {
   "cell_type": "code",
   "execution_count": 7,
   "id": "15",
   "metadata": {
    "tags": [
     "hide_cell"
    ]
   },
   "outputs": [],
   "source": [
    "from reed import visualise_propensity_model_performance\n",
    "from sklearn.model_selection import train_test_split\n",
    "from sklearn.linear_model import LogisticRegression, LogisticRegressionCV\n",
    "\n",
    "X_train, X_test, t_train, t_test = train_test_split(X,t,stratify=t)\n",
    "pmodel = LogisticRegressionCV(Cs = np.logspace(-5,-1,20), penalty='l2', max_iter=10000)\n",
    "pmodel.fit(X_train, t_train);"
   ]
  },
  {
   "cell_type": "code",
   "execution_count": 8,
   "id": "16",
   "metadata": {
    "tags": [
     "hide_input"
    ]
   },
   "outputs": [
    {
     "data": {
      "image/png": "[encoded data removed]",
      "text/plain": [
       "<Figure size 1080x360 with 2 Axes>"
      ]
     },
     "metadata": {
      "needs_background": "light"
     },
     "output_type": "display_data"
    }
   ],
   "source": [
    "visualise_propensity_model_performance(t_test, pmodel.predict_proba(X_test)[:,1],'l2-logistic',bins=10)"
   ]
  },
  {
   "cell_type": "code",
   "execution_count": 9,
   "id": "17",
   "metadata": {
    "tags": [
     "hide_input"
    ]
   },
   "outputs": [
    {
     "name": "stdout",
     "output_type": "stream",
     "text": [
      "Propensity Model Coefficients\n"
     ]
    },
    {
     "data": {
      "text/html": [
       "<div>\n",
       "<style scoped>\n",
       "    .dataframe tbody tr th:only-of-type {\n",
       "        vertical-align: middle;\n",
       "    }\n",
       "\n",
       "    .dataframe tbody tr th {\n",
       "        vertical-align: top;\n",
       "    }\n",
       "\n",
       "    .dataframe thead th {\n",
       "        text-align: right;\n",
       "    }\n",
       "</style>\n",
       "<table border=\"1\" class=\"dataframe\">\n",
       "  <thead>\n",
       "    <tr style=\"text-align: right;\">\n",
       "      <th></th>\n",
       "      <th>label</th>\n",
       "      <th>c</th>\n",
       "      <th>abs</th>\n",
       "    </tr>\n",
       "  </thead>\n",
       "  <tbody>\n",
       "    <tr>\n",
       "      <th>ahgyob</th>\n",
       "      <td>HF4 Year of Birth</td>\n",
       "      <td>0.048282</td>\n",
       "      <td>0.048282</td>\n",
       "    </tr>\n",
       "    <tr>\n",
       "      <th>aedqenr</th>\n",
       "      <td>C6 Ever enrolled in a course of study to obtain a qualification</td>\n",
       "      <td>-0.042462</td>\n",
       "      <td>0.042462</td>\n",
       "    </tr>\n",
       "    <tr>\n",
       "      <th>ahgage1</th>\n",
       "      <td>DV: Age last birthday at June 30 2001 - person 01</td>\n",
       "      <td>-0.037805</td>\n",
       "      <td>0.037805</td>\n",
       "    </tr>\n",
       "    <tr>\n",
       "      <th>aehtjbyr</th>\n",
       "      <td>D3a1 Years in paid work</td>\n",
       "      <td>-0.036917</td>\n",
       "      <td>0.036917</td>\n",
       "    </tr>\n",
       "    <tr>\n",
       "      <th>amrcdur</th>\n",
       "      <td>DV: Current marriage duration - years</td>\n",
       "      <td>-0.036629</td>\n",
       "      <td>0.036629</td>\n",
       "    </tr>\n",
       "    <tr>\n",
       "      <th>aedq524</th>\n",
       "      <td>DV: ASCED 524 Certificate level I - Number of qualifications obtained since leaving school</td>\n",
       "      <td>0.036204</td>\n",
       "      <td>0.036204</td>\n",
       "    </tr>\n",
       "    <tr>\n",
       "      <th>atcnr</th>\n",
       "      <td>DV: Number of own non-resident children</td>\n",
       "      <td>-0.034977</td>\n",
       "      <td>0.034977</td>\n",
       "    </tr>\n",
       "    <tr>\n",
       "      <th>ahhold</th>\n",
       "      <td>DV: Age of oldest person in household</td>\n",
       "      <td>-0.034414</td>\n",
       "      <td>0.034414</td>\n",
       "    </tr>\n",
       "    <tr>\n",
       "      <th>ajbocct</th>\n",
       "      <td>DV: Tenure in current occupation (years)</td>\n",
       "      <td>-0.033671</td>\n",
       "      <td>0.033671</td>\n",
       "    </tr>\n",
       "    <tr>\n",
       "      <th>atcyng</th>\n",
       "      <td>DV: Age youngest own child (excl. resident foster/step)</td>\n",
       "      <td>-0.033393</td>\n",
       "      <td>0.033393</td>\n",
       "    </tr>\n",
       "    <tr>\n",
       "      <th>acaj02</th>\n",
       "      <td>FG1 Any calendar activity - Job 2</td>\n",
       "      <td>0.033234</td>\n",
       "      <td>0.033234</td>\n",
       "    </tr>\n",
       "    <tr>\n",
       "      <th>ahsyrcad</th>\n",
       "      <td>DV: Years at current address</td>\n",
       "      <td>-0.033010</td>\n",
       "      <td>0.033010</td>\n",
       "    </tr>\n",
       "    <tr>\n",
       "      <th>ajbempt</th>\n",
       "      <td>DV: Tenure with current employer (years)</td>\n",
       "      <td>-0.032086</td>\n",
       "      <td>0.032086</td>\n",
       "    </tr>\n",
       "    <tr>\n",
       "      <th>aedq511</th>\n",
       "      <td>DV: ASCED 511 Certificate level IV - Number of qualifications obtained since leaving school</td>\n",
       "      <td>0.031527</td>\n",
       "      <td>0.031527</td>\n",
       "    </tr>\n",
       "    <tr>\n",
       "      <th>ajomsf</th>\n",
       "      <td>SCQ:E1d I have a secure future in my job</td>\n",
       "      <td>-0.030213</td>\n",
       "      <td>0.030213</td>\n",
       "    </tr>\n",
       "    <tr>\n",
       "      <th>aedhists</th>\n",
       "      <td>C2 Highest year of school completed/currently attending</td>\n",
       "      <td>-0.029614</td>\n",
       "      <td>0.029614</td>\n",
       "    </tr>\n",
       "    <tr>\n",
       "      <th>afibeduc</th>\n",
       "      <td>SCQ:C7e Alright to borrow for - Education</td>\n",
       "      <td>-0.027420</td>\n",
       "      <td>0.027420</td>\n",
       "    </tr>\n",
       "    <tr>\n",
       "      <th>ahhyng</th>\n",
       "      <td>DV: Age of youngest person in household</td>\n",
       "      <td>-0.027344</td>\n",
       "      <td>0.027344</td>\n",
       "    </tr>\n",
       "    <tr>\n",
       "      <th>afibcar</th>\n",
       "      <td>SCQ:C7d Alright to borrow for - Car</td>\n",
       "      <td>-0.027059</td>\n",
       "      <td>0.027059</td>\n",
       "    </tr>\n",
       "    <tr>\n",
       "      <th>amhl10yr</th>\n",
       "      <td>K11 Moved to current address less than 10 years ago</td>\n",
       "      <td>0.027017</td>\n",
       "      <td>0.027017</td>\n",
       "    </tr>\n",
       "  </tbody>\n",
       "</table>\n",
       "</div>"
      ],
      "text/plain": [
       "                                                                                                label  \\\n",
       "ahgyob                                                                              HF4 Year of Birth   \n",
       "aedqenr                               C6 Ever enrolled in a course of study to obtain a qualification   \n",
       "ahgage1                                             DV: Age last birthday at June 30 2001 - person 01   \n",
       "aehtjbyr                                                                      D3a1 Years in paid work   \n",
       "amrcdur                                                         DV: Current marriage duration - years   \n",
       "aedq524    DV: ASCED 524 Certificate level I - Number of qualifications obtained since leaving school   \n",
       "atcnr                                                         DV: Number of own non-resident children   \n",
       "ahhold                                                          DV: Age of oldest person in household   \n",
       "ajbocct                                                      DV: Tenure in current occupation (years)   \n",
       "atcyng                                        DV: Age youngest own child (excl. resident foster/step)   \n",
       "acaj02                                                              FG1 Any calendar activity - Job 2   \n",
       "ahsyrcad                                                                 DV: Years at current address   \n",
       "ajbempt                                                      DV: Tenure with current employer (years)   \n",
       "aedq511   DV: ASCED 511 Certificate level IV - Number of qualifications obtained since leaving school   \n",
       "ajomsf                                                       SCQ:E1d I have a secure future in my job   \n",
       "aedhists                                      C2 Highest year of school completed/currently attending   \n",
       "afibeduc                                                    SCQ:C7e Alright to borrow for - Education   \n",
       "ahhyng                                                        DV: Age of youngest person in household   \n",
       "afibcar                                                           SCQ:C7d Alright to borrow for - Car   \n",
       "amhl10yr                                          K11 Moved to current address less than 10 years ago   \n",
       "\n",
       "                 c       abs  \n",
       "ahgyob    0.048282  0.048282  \n",
       "aedqenr  -0.042462  0.042462  \n",
       "ahgage1  -0.037805  0.037805  \n",
       "aehtjbyr -0.036917  0.036917  \n",
       "amrcdur  -0.036629  0.036629  \n",
       "aedq524   0.036204  0.036204  \n",
       "atcnr    -0.034977  0.034977  \n",
       "ahhold   -0.034414  0.034414  \n",
       "ajbocct  -0.033671  0.033671  \n",
       "atcyng   -0.033393  0.033393  \n",
       "acaj02    0.033234  0.033234  \n",
       "ahsyrcad -0.033010  0.033010  \n",
       "ajbempt  -0.032086  0.032086  \n",
       "aedq511   0.031527  0.031527  \n",
       "ajomsf   -0.030213  0.030213  \n",
       "aedhists -0.029614  0.029614  \n",
       "afibeduc -0.027420  0.027420  \n",
       "ahhyng   -0.027344  0.027344  \n",
       "afibcar  -0.027059  0.027059  \n",
       "amhl10yr  0.027017  0.027017  "
      ]
     },
     "execution_count": 9,
     "metadata": {},
     "output_type": "execute_result"
    }
   ],
   "source": [
    "def propensity_coefficients(model, features):\n",
    "    if hasattr(model,'best_estimator_'):\n",
    "        model = model.best_estimator_\n",
    "    coef = model.coef_[0]\n",
    "    \n",
    "    with open('data/metadata.pkl','rb') as f:\n",
    "        meta = pickle.load(f)\n",
    "        labels = [meta.column_names_to_labels.get(f) for f in features]\n",
    "    return pd.DataFrame({'label': labels, \"c\":coef,'abs':np.abs(coef)},index=features).sort_values(by='abs',ascending=False).head(50)\n",
    "print(\"Propensity Model Coefficients\")      \n",
    "propensity_coefficients(pmodel, features).head(20)"
   ]
  },
  {
   "cell_type": "markdown",
   "id": "18",
   "metadata": {},
   "source": [
    "### (Nested) cross-validate to evaluate model performance\n",
    "![image.png](images/nested_cross_val.png)"
   ]
  },
  {
   "cell_type": "code",
   "execution_count": 10,
   "id": "19",
   "metadata": {
    "tags": [
     "hide_cell"
    ]
   },
   "outputs": [],
   "source": [
    "from direct_regression import nested_cross_val\n",
    "models0, models1, results = nested_cross_val(\n",
    "    construct_models,\n",
    "    cross_val_cache,\n",
    "    X0, X1, y0, y1,\n",
    "    optimisation_metric,\n",
    "    evaluation_metrics,\n",
    "    innercv=5,\n",
    "    outercv=10,\n",
    "    load_from_cache=True\n",
    ")"
   ]
  },
  {
   "cell_type": "markdown",
   "id": "20",
   "metadata": {},
   "source": [
    "### Report estimate ATE and model performance\n",
    "\n",
    "  - Mean and Std of prediction performance for each model (both treatment & control surface)\n",
    "  - Mean and Std of average treatment effect for each model"
   ]
  },
  {
   "cell_type": "code",
   "execution_count": 11,
   "id": "21",
   "metadata": {},
   "outputs": [
    {
     "data": {
      "text/html": [
       "<div>\n",
       "<style scoped>\n",
       "    .dataframe tbody tr th:only-of-type {\n",
       "        vertical-align: middle;\n",
       "    }\n",
       "\n",
       "    .dataframe tbody tr th {\n",
       "        vertical-align: top;\n",
       "    }\n",
       "\n",
       "    .dataframe thead th {\n",
       "        text-align: right;\n",
       "    }\n",
       "</style>\n",
       "<table border=\"1\" class=\"dataframe\">\n",
       "  <thead>\n",
       "    <tr style=\"text-align: right;\">\n",
       "      <th></th>\n",
       "      <th>ACE</th>\n",
       "      <th>ACE_std</th>\n",
       "      <th>control_r2</th>\n",
       "      <th>control_r2_std</th>\n",
       "      <th>treated_r2</th>\n",
       "      <th>treated_r2_std</th>\n",
       "      <th>control_neg_mean_squared_error</th>\n",
       "      <th>control_neg_mean_squared_error_std</th>\n",
       "      <th>treated_neg_mean_squared_error</th>\n",
       "      <th>treated_neg_mean_squared_error_std</th>\n",
       "    </tr>\n",
       "  </thead>\n",
       "  <tbody>\n",
       "    <tr>\n",
       "      <th>ridge</th>\n",
       "      <td>33.61</td>\n",
       "      <td>16.28</td>\n",
       "      <td>0.21</td>\n",
       "      <td>0.06</td>\n",
       "      <td>0.14</td>\n",
       "      <td>0.07</td>\n",
       "      <td>-688,463.59</td>\n",
       "      <td>168,415.73</td>\n",
       "      <td>-959,614.04</td>\n",
       "      <td>312,474.30</td>\n",
       "    </tr>\n",
       "    <tr>\n",
       "      <th>lasso</th>\n",
       "      <td>9.01</td>\n",
       "      <td>14.42</td>\n",
       "      <td>0.21</td>\n",
       "      <td>0.07</td>\n",
       "      <td>0.22</td>\n",
       "      <td>0.11</td>\n",
       "      <td>-680,970.92</td>\n",
       "      <td>166,558.24</td>\n",
       "      <td>-874,276.37</td>\n",
       "      <td>325,169.23</td>\n",
       "    </tr>\n",
       "    <tr>\n",
       "      <th>gbr</th>\n",
       "      <td>38.64</td>\n",
       "      <td>17.33</td>\n",
       "      <td>0.22</td>\n",
       "      <td>0.13</td>\n",
       "      <td>0.16</td>\n",
       "      <td>0.11</td>\n",
       "      <td>-680,899.29</td>\n",
       "      <td>217,370.58</td>\n",
       "      <td>-949,312.04</td>\n",
       "      <td>358,626.75</td>\n",
       "    </tr>\n",
       "  </tbody>\n",
       "</table>\n",
       "</div>"
      ],
      "text/plain": [
       "        ACE  ACE_std  control_r2  control_r2_std  treated_r2  treated_r2_std  \\\n",
       "ridge 33.61    16.28        0.21            0.06        0.14            0.07   \n",
       "lasso  9.01    14.42        0.21            0.07        0.22            0.11   \n",
       "gbr   38.64    17.33        0.22            0.13        0.16            0.11   \n",
       "\n",
       "       control_neg_mean_squared_error  control_neg_mean_squared_error_std  \\\n",
       "ridge                     -688,463.59                          168,415.73   \n",
       "lasso                     -680,970.92                          166,558.24   \n",
       "gbr                       -680,899.29                          217,370.58   \n",
       "\n",
       "       treated_neg_mean_squared_error  treated_neg_mean_squared_error_std  \n",
       "ridge                     -959,614.04                          312,474.30  \n",
       "lasso                     -874,276.37                          325,169.23  \n",
       "gbr                       -949,312.04                          358,626.75  "
      ]
     },
     "metadata": {},
     "output_type": "display_data"
    },
    {
     "data": {
      "image/png": "[encoded data removed]",
      "text/plain": [
       "<Figure size 1080x360 with 2 Axes>"
      ]
     },
     "metadata": {
      "needs_background": "light"
     },
     "output_type": "display_data"
    }
   ],
   "source": [
    "from direct_regression import visualise_ate\n",
    "visualise_ate(results,X,evaluation_metrics);"
   ]
  },
  {
   "cell_type": "markdown",
   "id": "22",
   "metadata": {},
   "source": [
    "### Visualise models\n",
    "- Features responsible for treatment effect heterogeneity & functional form (with uncertainty)\n",
    "      - coefficeints for linear models\n",
    "      - TODO permutation importance & partial dependence curves for non-linear models"
   ]
  },
  {
   "cell_type": "code",
   "execution_count": 12,
   "id": "23",
   "metadata": {
    "tags": [
     "hide_input"
    ]
   },
   "outputs": [
    {
     "name": "stdout",
     "output_type": "stream",
     "text": [
      "ridge\n"
     ]
    },
    {
     "data": {
      "text/html": [
       "<div>\n",
       "<style scoped>\n",
       "    .dataframe tbody tr th:only-of-type {\n",
       "        vertical-align: middle;\n",
       "    }\n",
       "\n",
       "    .dataframe tbody tr th {\n",
       "        vertical-align: top;\n",
       "    }\n",
       "\n",
       "    .dataframe thead th {\n",
       "        text-align: right;\n",
       "    }\n",
       "</style>\n",
       "<table border=\"1\" class=\"dataframe\">\n",
       "  <thead>\n",
       "    <tr style=\"text-align: right;\">\n",
       "      <th></th>\n",
       "      <th>importance_mean</th>\n",
       "      <th>importance_std</th>\n",
       "      <th>Δcoef_mean</th>\n",
       "      <th>Δcoef_std</th>\n",
       "      <th>coef_treat_mean</th>\n",
       "      <th>coef_treat_std</th>\n",
       "      <th>coef_cntr_mean</th>\n",
       "      <th>coef_cntr_std</th>\n",
       "    </tr>\n",
       "    <tr>\n",
       "      <th>feature</th>\n",
       "      <th></th>\n",
       "      <th></th>\n",
       "      <th></th>\n",
       "      <th></th>\n",
       "      <th></th>\n",
       "      <th></th>\n",
       "      <th></th>\n",
       "      <th></th>\n",
       "    </tr>\n",
       "  </thead>\n",
       "  <tbody>\n",
       "    <tr>\n",
       "      <th>awscei</th>\n",
       "      <td>73.538499</td>\n",
       "      <td>10.555661</td>\n",
       "      <td>-4.745686</td>\n",
       "      <td>20.187288</td>\n",
       "      <td>-75.911342</td>\n",
       "      <td>17.085845</td>\n",
       "      <td>-71.165656</td>\n",
       "      <td>11.605222</td>\n",
       "    </tr>\n",
       "    <tr>\n",
       "      <th>ahgyob</th>\n",
       "      <td>41.868019</td>\n",
       "      <td>2.760484</td>\n",
       "      <td>-4.353201</td>\n",
       "      <td>6.417512</td>\n",
       "      <td>39.691419</td>\n",
       "      <td>5.256187</td>\n",
       "      <td>44.044619</td>\n",
       "      <td>2.864486</td>\n",
       "    </tr>\n",
       "    <tr>\n",
       "      <th>ahiwscei</th>\n",
       "      <td>39.571515</td>\n",
       "      <td>4.508290</td>\n",
       "      <td>15.891232</td>\n",
       "      <td>11.473520</td>\n",
       "      <td>-31.625899</td>\n",
       "      <td>8.322389</td>\n",
       "      <td>-47.517131</td>\n",
       "      <td>6.099839</td>\n",
       "    </tr>\n",
       "    <tr>\n",
       "      <th>aehtjbyr</th>\n",
       "      <td>37.827870</td>\n",
       "      <td>1.810920</td>\n",
       "      <td>3.358820</td>\n",
       "      <td>5.444930</td>\n",
       "      <td>-36.148461</td>\n",
       "      <td>4.117050</td>\n",
       "      <td>-39.507280</td>\n",
       "      <td>2.105325</td>\n",
       "    </tr>\n",
       "    <tr>\n",
       "      <th>awscmga</th>\n",
       "      <td>33.060498</td>\n",
       "      <td>5.140938</td>\n",
       "      <td>14.313323</td>\n",
       "      <td>11.199875</td>\n",
       "      <td>-25.903836</td>\n",
       "      <td>9.232627</td>\n",
       "      <td>-40.217160</td>\n",
       "      <td>5.507784</td>\n",
       "    </tr>\n",
       "    <tr>\n",
       "      <th>ahhold</th>\n",
       "      <td>31.438474</td>\n",
       "      <td>2.286241</td>\n",
       "      <td>4.657750</td>\n",
       "      <td>4.094150</td>\n",
       "      <td>-29.109599</td>\n",
       "      <td>3.882257</td>\n",
       "      <td>-33.767349</td>\n",
       "      <td>1.939823</td>\n",
       "    </tr>\n",
       "    <tr>\n",
       "      <th>ahgage1</th>\n",
       "      <td>27.773231</td>\n",
       "      <td>2.236591</td>\n",
       "      <td>-4.234347</td>\n",
       "      <td>4.333662</td>\n",
       "      <td>-29.890405</td>\n",
       "      <td>4.083259</td>\n",
       "      <td>-25.656058</td>\n",
       "      <td>1.649845</td>\n",
       "    </tr>\n",
       "    <tr>\n",
       "      <th>aicexpct</th>\n",
       "      <td>23.565614</td>\n",
       "      <td>2.013361</td>\n",
       "      <td>-17.778994</td>\n",
       "      <td>3.684328</td>\n",
       "      <td>14.676117</td>\n",
       "      <td>2.369375</td>\n",
       "      <td>32.455111</td>\n",
       "      <td>3.046383</td>\n",
       "    </tr>\n",
       "    <tr>\n",
       "      <th>ahgage2</th>\n",
       "      <td>22.257299</td>\n",
       "      <td>1.251610</td>\n",
       "      <td>9.489856</td>\n",
       "      <td>1.992637</td>\n",
       "      <td>-17.512371</td>\n",
       "      <td>1.560766</td>\n",
       "      <td>-27.002227</td>\n",
       "      <td>1.637793</td>\n",
       "    </tr>\n",
       "    <tr>\n",
       "      <th>aiclike</th>\n",
       "      <td>21.935808</td>\n",
       "      <td>1.733724</td>\n",
       "      <td>-8.484632</td>\n",
       "      <td>3.260826</td>\n",
       "      <td>17.693492</td>\n",
       "      <td>2.252137</td>\n",
       "      <td>26.178124</td>\n",
       "      <td>2.501194</td>\n",
       "    </tr>\n",
       "    <tr>\n",
       "      <th>ajbmpgj</th>\n",
       "      <td>21.497343</td>\n",
       "      <td>1.730624</td>\n",
       "      <td>-32.683211</td>\n",
       "      <td>3.558618</td>\n",
       "      <td>4.871702</td>\n",
       "      <td>3.345849</td>\n",
       "      <td>37.554913</td>\n",
       "      <td>2.001549</td>\n",
       "    </tr>\n",
       "    <tr>\n",
       "      <th>ajbmhrhv</th>\n",
       "      <td>21.172402</td>\n",
       "      <td>4.052352</td>\n",
       "      <td>-2.521154</td>\n",
       "      <td>7.832129</td>\n",
       "      <td>-22.432979</td>\n",
       "      <td>5.089548</td>\n",
       "      <td>-19.911825</td>\n",
       "      <td>6.132759</td>\n",
       "    </tr>\n",
       "    <tr>\n",
       "      <th>ajbempt</th>\n",
       "      <td>19.922496</td>\n",
       "      <td>1.835932</td>\n",
       "      <td>18.191370</td>\n",
       "      <td>1.807136</td>\n",
       "      <td>-10.826811</td>\n",
       "      <td>1.762295</td>\n",
       "      <td>-29.018181</td>\n",
       "      <td>2.295316</td>\n",
       "    </tr>\n",
       "    <tr>\n",
       "      <th>agh3a</th>\n",
       "      <td>19.612588</td>\n",
       "      <td>2.030790</td>\n",
       "      <td>0.402270</td>\n",
       "      <td>4.074657</td>\n",
       "      <td>19.813723</td>\n",
       "      <td>3.814293</td>\n",
       "      <td>19.411453</td>\n",
       "      <td>1.414495</td>\n",
       "    </tr>\n",
       "    <tr>\n",
       "      <th>amrcdur</th>\n",
       "      <td>19.399903</td>\n",
       "      <td>2.052301</td>\n",
       "      <td>-13.844394</td>\n",
       "      <td>4.509156</td>\n",
       "      <td>-26.322101</td>\n",
       "      <td>3.532089</td>\n",
       "      <td>-12.477706</td>\n",
       "      <td>2.472746</td>\n",
       "    </tr>\n",
       "    <tr>\n",
       "      <th>acsctci</th>\n",
       "      <td>18.263295</td>\n",
       "      <td>3.538692</td>\n",
       "      <td>-12.193219</td>\n",
       "      <td>5.401807</td>\n",
       "      <td>12.166685</td>\n",
       "      <td>3.512813</td>\n",
       "      <td>24.359905</td>\n",
       "      <td>5.224422</td>\n",
       "    </tr>\n",
       "    <tr>\n",
       "      <th>ancany</th>\n",
       "      <td>18.218723</td>\n",
       "      <td>1.303046</td>\n",
       "      <td>6.061155</td>\n",
       "      <td>2.107220</td>\n",
       "      <td>21.249300</td>\n",
       "      <td>2.114443</td>\n",
       "      <td>15.188145</td>\n",
       "      <td>1.070129</td>\n",
       "    </tr>\n",
       "    <tr>\n",
       "      <th>arcage1</th>\n",
       "      <td>18.104409</td>\n",
       "      <td>1.346507</td>\n",
       "      <td>-7.804749</td>\n",
       "      <td>2.558928</td>\n",
       "      <td>-22.006783</td>\n",
       "      <td>2.207835</td>\n",
       "      <td>-14.202034</td>\n",
       "      <td>1.423264</td>\n",
       "    </tr>\n",
       "    <tr>\n",
       "      <th>ajbocct</th>\n",
       "      <td>17.813537</td>\n",
       "      <td>1.986114</td>\n",
       "      <td>3.268239</td>\n",
       "      <td>2.890387</td>\n",
       "      <td>-16.179418</td>\n",
       "      <td>2.613599</td>\n",
       "      <td>-19.447657</td>\n",
       "      <td>2.288135</td>\n",
       "    </tr>\n",
       "    <tr>\n",
       "      <th>atcyng</th>\n",
       "      <td>17.568399</td>\n",
       "      <td>0.717394</td>\n",
       "      <td>-7.690275</td>\n",
       "      <td>2.275493</td>\n",
       "      <td>-21.413536</td>\n",
       "      <td>1.519882</td>\n",
       "      <td>-13.723261</td>\n",
       "      <td>1.143766</td>\n",
       "    </tr>\n",
       "  </tbody>\n",
       "</table>\n",
       "</div>"
      ],
      "text/plain": [
       "          importance_mean  importance_std  Δcoef_mean  Δcoef_std  \\\n",
       "feature                                                            \n",
       "awscei          73.538499       10.555661   -4.745686  20.187288   \n",
       "ahgyob          41.868019        2.760484   -4.353201   6.417512   \n",
       "ahiwscei        39.571515        4.508290   15.891232  11.473520   \n",
       "aehtjbyr        37.827870        1.810920    3.358820   5.444930   \n",
       "awscmga         33.060498        5.140938   14.313323  11.199875   \n",
       "ahhold          31.438474        2.286241    4.657750   4.094150   \n",
       "ahgage1         27.773231        2.236591   -4.234347   4.333662   \n",
       "aicexpct        23.565614        2.013361  -17.778994   3.684328   \n",
       "ahgage2         22.257299        1.251610    9.489856   1.992637   \n",
       "aiclike         21.935808        1.733724   -8.484632   3.260826   \n",
       "ajbmpgj         21.497343        1.730624  -32.683211   3.558618   \n",
       "ajbmhrhv        21.172402        4.052352   -2.521154   7.832129   \n",
       "ajbempt         19.922496        1.835932   18.191370   1.807136   \n",
       "agh3a           19.612588        2.030790    0.402270   4.074657   \n",
       "amrcdur         19.399903        2.052301  -13.844394   4.509156   \n",
       "acsctci         18.263295        3.538692  -12.193219   5.401807   \n",
       "ancany          18.218723        1.303046    6.061155   2.107220   \n",
       "arcage1         18.104409        1.346507   -7.804749   2.558928   \n",
       "ajbocct         17.813537        1.986114    3.268239   2.890387   \n",
       "atcyng          17.568399        0.717394   -7.690275   2.275493   \n",
       "\n",
       "          coef_treat_mean  coef_treat_std  coef_cntr_mean  coef_cntr_std  \n",
       "feature                                                                   \n",
       "awscei         -75.911342       17.085845      -71.165656      11.605222  \n",
       "ahgyob          39.691419        5.256187       44.044619       2.864486  \n",
       "ahiwscei       -31.625899        8.322389      -47.517131       6.099839  \n",
       "aehtjbyr       -36.148461        4.117050      -39.507280       2.105325  \n",
       "awscmga        -25.903836        9.232627      -40.217160       5.507784  \n",
       "ahhold         -29.109599        3.882257      -33.767349       1.939823  \n",
       "ahgage1        -29.890405        4.083259      -25.656058       1.649845  \n",
       "aicexpct        14.676117        2.369375       32.455111       3.046383  \n",
       "ahgage2        -17.512371        1.560766      -27.002227       1.637793  \n",
       "aiclike         17.693492        2.252137       26.178124       2.501194  \n",
       "ajbmpgj          4.871702        3.345849       37.554913       2.001549  \n",
       "ajbmhrhv       -22.432979        5.089548      -19.911825       6.132759  \n",
       "ajbempt        -10.826811        1.762295      -29.018181       2.295316  \n",
       "agh3a           19.813723        3.814293       19.411453       1.414495  \n",
       "amrcdur        -26.322101        3.532089      -12.477706       2.472746  \n",
       "acsctci         12.166685        3.512813       24.359905       5.224422  \n",
       "ancany          21.249300        2.114443       15.188145       1.070129  \n",
       "arcage1        -22.006783        2.207835      -14.202034       1.423264  \n",
       "ajbocct        -16.179418        2.613599      -19.447657       2.288135  \n",
       "atcyng         -21.413536        1.519882      -13.723261       1.143766  "
      ]
     },
     "metadata": {},
     "output_type": "display_data"
    },
    {
     "name": "stdout",
     "output_type": "stream",
     "text": [
      "lasso\n"
     ]
    },
    {
     "data": {
      "text/html": [
       "<div>\n",
       "<style scoped>\n",
       "    .dataframe tbody tr th:only-of-type {\n",
       "        vertical-align: middle;\n",
       "    }\n",
       "\n",
       "    .dataframe tbody tr th {\n",
       "        vertical-align: top;\n",
       "    }\n",
       "\n",
       "    .dataframe thead th {\n",
       "        text-align: right;\n",
       "    }\n",
       "</style>\n",
       "<table border=\"1\" class=\"dataframe\">\n",
       "  <thead>\n",
       "    <tr style=\"text-align: right;\">\n",
       "      <th></th>\n",
       "      <th>importance_mean</th>\n",
       "      <th>importance_std</th>\n",
       "      <th>Δcoef_mean</th>\n",
       "      <th>Δcoef_std</th>\n",
       "      <th>coef_treat_mean</th>\n",
       "      <th>coef_treat_std</th>\n",
       "      <th>coef_cntr_mean</th>\n",
       "      <th>coef_cntr_std</th>\n",
       "    </tr>\n",
       "    <tr>\n",
       "      <th>feature</th>\n",
       "      <th></th>\n",
       "      <th></th>\n",
       "      <th></th>\n",
       "      <th></th>\n",
       "      <th></th>\n",
       "      <th></th>\n",
       "      <th></th>\n",
       "      <th></th>\n",
       "    </tr>\n",
       "  </thead>\n",
       "  <tbody>\n",
       "    <tr>\n",
       "      <th>ahgyob</th>\n",
       "      <td>269.939499</td>\n",
       "      <td>16.291120</td>\n",
       "      <td>107.145142</td>\n",
       "      <td>33.867765</td>\n",
       "      <td>323.512070</td>\n",
       "      <td>30.507997</td>\n",
       "      <td>216.366928</td>\n",
       "      <td>13.174826</td>\n",
       "    </tr>\n",
       "    <tr>\n",
       "      <th>awscei</th>\n",
       "      <td>268.903307</td>\n",
       "      <td>23.560826</td>\n",
       "      <td>-89.638332</td>\n",
       "      <td>62.490501</td>\n",
       "      <td>-313.722473</td>\n",
       "      <td>47.356583</td>\n",
       "      <td>-224.084141</td>\n",
       "      <td>28.637572</td>\n",
       "    </tr>\n",
       "    <tr>\n",
       "      <th>aicexpct</th>\n",
       "      <td>31.599051</td>\n",
       "      <td>5.224830</td>\n",
       "      <td>-60.399170</td>\n",
       "      <td>9.402615</td>\n",
       "      <td>1.399466</td>\n",
       "      <td>3.298609</td>\n",
       "      <td>61.798636</td>\n",
       "      <td>9.376644</td>\n",
       "    </tr>\n",
       "    <tr>\n",
       "      <th>ajbmocc1</th>\n",
       "      <td>30.532622</td>\n",
       "      <td>6.432577</td>\n",
       "      <td>-61.065243</td>\n",
       "      <td>12.865154</td>\n",
       "      <td>-61.065243</td>\n",
       "      <td>12.865154</td>\n",
       "      <td>0.000000</td>\n",
       "      <td>0.000000</td>\n",
       "    </tr>\n",
       "    <tr>\n",
       "      <th>abnage</th>\n",
       "      <td>28.974678</td>\n",
       "      <td>2.297707</td>\n",
       "      <td>57.949355</td>\n",
       "      <td>4.595415</td>\n",
       "      <td>0.000000</td>\n",
       "      <td>0.000000</td>\n",
       "      <td>-57.949355</td>\n",
       "      <td>4.595415</td>\n",
       "    </tr>\n",
       "    <tr>\n",
       "      <th>arcage1</th>\n",
       "      <td>28.930905</td>\n",
       "      <td>6.386966</td>\n",
       "      <td>-54.166185</td>\n",
       "      <td>13.259030</td>\n",
       "      <td>-56.013997</td>\n",
       "      <td>12.846441</td>\n",
       "      <td>-1.847812</td>\n",
       "      <td>2.111056</td>\n",
       "    </tr>\n",
       "    <tr>\n",
       "      <th>ahhold</th>\n",
       "      <td>28.637757</td>\n",
       "      <td>8.308590</td>\n",
       "      <td>-6.230111</td>\n",
       "      <td>15.527007</td>\n",
       "      <td>-31.752812</td>\n",
       "      <td>10.152264</td>\n",
       "      <td>-25.522702</td>\n",
       "      <td>12.471601</td>\n",
       "    </tr>\n",
       "    <tr>\n",
       "      <th>aoifdiva</th>\n",
       "      <td>28.233707</td>\n",
       "      <td>15.721221</td>\n",
       "      <td>-56.467414</td>\n",
       "      <td>31.442442</td>\n",
       "      <td>-56.467414</td>\n",
       "      <td>31.442442</td>\n",
       "      <td>0.000000</td>\n",
       "      <td>0.000000</td>\n",
       "    </tr>\n",
       "    <tr>\n",
       "      <th>ahiwsfei</th>\n",
       "      <td>27.550183</td>\n",
       "      <td>9.290265</td>\n",
       "      <td>55.100365</td>\n",
       "      <td>18.580530</td>\n",
       "      <td>55.100365</td>\n",
       "      <td>18.580530</td>\n",
       "      <td>0.000000</td>\n",
       "      <td>0.000000</td>\n",
       "    </tr>\n",
       "    <tr>\n",
       "      <th>ajbmpgj</th>\n",
       "      <td>26.778168</td>\n",
       "      <td>3.296369</td>\n",
       "      <td>-53.556337</td>\n",
       "      <td>6.592738</td>\n",
       "      <td>0.000000</td>\n",
       "      <td>0.000000</td>\n",
       "      <td>53.556337</td>\n",
       "      <td>6.592738</td>\n",
       "    </tr>\n",
       "    <tr>\n",
       "      <th>ajbmhrhv</th>\n",
       "      <td>24.881433</td>\n",
       "      <td>6.824864</td>\n",
       "      <td>-7.086414</td>\n",
       "      <td>14.577581</td>\n",
       "      <td>-28.424640</td>\n",
       "      <td>10.363939</td>\n",
       "      <td>-21.338226</td>\n",
       "      <td>9.591623</td>\n",
       "    </tr>\n",
       "    <tr>\n",
       "      <th>ahiwscei</th>\n",
       "      <td>24.550274</td>\n",
       "      <td>4.730255</td>\n",
       "      <td>49.100547</td>\n",
       "      <td>9.460511</td>\n",
       "      <td>0.000000</td>\n",
       "      <td>0.000000</td>\n",
       "      <td>-49.100547</td>\n",
       "      <td>9.460511</td>\n",
       "    </tr>\n",
       "    <tr>\n",
       "      <th>acccinhh</th>\n",
       "      <td>24.312138</td>\n",
       "      <td>5.967101</td>\n",
       "      <td>44.215448</td>\n",
       "      <td>16.125199</td>\n",
       "      <td>-2.204414</td>\n",
       "      <td>5.695981</td>\n",
       "      <td>-46.419862</td>\n",
       "      <td>12.991512</td>\n",
       "    </tr>\n",
       "    <tr>\n",
       "      <th>amrcdur</th>\n",
       "      <td>21.077922</td>\n",
       "      <td>6.290489</td>\n",
       "      <td>-42.155843</td>\n",
       "      <td>12.580978</td>\n",
       "      <td>-42.155843</td>\n",
       "      <td>12.580978</td>\n",
       "      <td>0.000000</td>\n",
       "      <td>0.000000</td>\n",
       "    </tr>\n",
       "    <tr>\n",
       "      <th>abifdiv</th>\n",
       "      <td>20.543852</td>\n",
       "      <td>11.397308</td>\n",
       "      <td>-41.087705</td>\n",
       "      <td>22.794615</td>\n",
       "      <td>-41.087705</td>\n",
       "      <td>22.794615</td>\n",
       "      <td>0.000000</td>\n",
       "      <td>0.000000</td>\n",
       "    </tr>\n",
       "    <tr>\n",
       "      <th>agh3a</th>\n",
       "      <td>20.222489</td>\n",
       "      <td>6.281281</td>\n",
       "      <td>0.182833</td>\n",
       "      <td>11.142613</td>\n",
       "      <td>20.313906</td>\n",
       "      <td>11.079455</td>\n",
       "      <td>20.131073</td>\n",
       "      <td>4.270078</td>\n",
       "    </tr>\n",
       "    <tr>\n",
       "      <th>ajbempt</th>\n",
       "      <td>20.189209</td>\n",
       "      <td>2.455418</td>\n",
       "      <td>40.378417</td>\n",
       "      <td>4.910835</td>\n",
       "      <td>0.000000</td>\n",
       "      <td>0.000000</td>\n",
       "      <td>-40.378417</td>\n",
       "      <td>4.910835</td>\n",
       "    </tr>\n",
       "    <tr>\n",
       "      <th>apashare</th>\n",
       "      <td>19.072294</td>\n",
       "      <td>3.323624</td>\n",
       "      <td>-38.144589</td>\n",
       "      <td>6.647247</td>\n",
       "      <td>0.000000</td>\n",
       "      <td>0.000000</td>\n",
       "      <td>38.144589</td>\n",
       "      <td>6.647247</td>\n",
       "    </tr>\n",
       "    <tr>\n",
       "      <th>acrhavem</th>\n",
       "      <td>17.392548</td>\n",
       "      <td>7.251671</td>\n",
       "      <td>16.589471</td>\n",
       "      <td>12.392079</td>\n",
       "      <td>-9.097813</td>\n",
       "      <td>12.984419</td>\n",
       "      <td>-25.687283</td>\n",
       "      <td>3.655152</td>\n",
       "    </tr>\n",
       "    <tr>\n",
       "      <th>ajowpflx</th>\n",
       "      <td>16.818651</td>\n",
       "      <td>4.484521</td>\n",
       "      <td>-33.637303</td>\n",
       "      <td>8.969041</td>\n",
       "      <td>-33.637303</td>\n",
       "      <td>8.969041</td>\n",
       "      <td>0.000000</td>\n",
       "      <td>0.000000</td>\n",
       "    </tr>\n",
       "  </tbody>\n",
       "</table>\n",
       "</div>"
      ],
      "text/plain": [
       "          importance_mean  importance_std  Δcoef_mean  Δcoef_std  \\\n",
       "feature                                                            \n",
       "ahgyob         269.939499       16.291120  107.145142  33.867765   \n",
       "awscei         268.903307       23.560826  -89.638332  62.490501   \n",
       "aicexpct        31.599051        5.224830  -60.399170   9.402615   \n",
       "ajbmocc1        30.532622        6.432577  -61.065243  12.865154   \n",
       "abnage          28.974678        2.297707   57.949355   4.595415   \n",
       "arcage1         28.930905        6.386966  -54.166185  13.259030   \n",
       "ahhold          28.637757        8.308590   -6.230111  15.527007   \n",
       "aoifdiva        28.233707       15.721221  -56.467414  31.442442   \n",
       "ahiwsfei        27.550183        9.290265   55.100365  18.580530   \n",
       "ajbmpgj         26.778168        3.296369  -53.556337   6.592738   \n",
       "ajbmhrhv        24.881433        6.824864   -7.086414  14.577581   \n",
       "ahiwscei        24.550274        4.730255   49.100547   9.460511   \n",
       "acccinhh        24.312138        5.967101   44.215448  16.125199   \n",
       "amrcdur         21.077922        6.290489  -42.155843  12.580978   \n",
       "abifdiv         20.543852       11.397308  -41.087705  22.794615   \n",
       "agh3a           20.222489        6.281281    0.182833  11.142613   \n",
       "ajbempt         20.189209        2.455418   40.378417   4.910835   \n",
       "apashare        19.072294        3.323624  -38.144589   6.647247   \n",
       "acrhavem        17.392548        7.251671   16.589471  12.392079   \n",
       "ajowpflx        16.818651        4.484521  -33.637303   8.969041   \n",
       "\n",
       "          coef_treat_mean  coef_treat_std  coef_cntr_mean  coef_cntr_std  \n",
       "feature                                                                   \n",
       "ahgyob         323.512070       30.507997      216.366928      13.174826  \n",
       "awscei        -313.722473       47.356583     -224.084141      28.637572  \n",
       "aicexpct         1.399466        3.298609       61.798636       9.376644  \n",
       "ajbmocc1       -61.065243       12.865154        0.000000       0.000000  \n",
       "abnage           0.000000        0.000000      -57.949355       4.595415  \n",
       "arcage1        -56.013997       12.846441       -1.847812       2.111056  \n",
       "ahhold         -31.752812       10.152264      -25.522702      12.471601  \n",
       "aoifdiva       -56.467414       31.442442        0.000000       0.000000  \n",
       "ahiwsfei        55.100365       18.580530        0.000000       0.000000  \n",
       "ajbmpgj          0.000000        0.000000       53.556337       6.592738  \n",
       "ajbmhrhv       -28.424640       10.363939      -21.338226       9.591623  \n",
       "ahiwscei         0.000000        0.000000      -49.100547       9.460511  \n",
       "acccinhh        -2.204414        5.695981      -46.419862      12.991512  \n",
       "amrcdur        -42.155843       12.580978        0.000000       0.000000  \n",
       "abifdiv        -41.087705       22.794615        0.000000       0.000000  \n",
       "agh3a           20.313906       11.079455       20.131073       4.270078  \n",
       "ajbempt          0.000000        0.000000      -40.378417       4.910835  \n",
       "apashare         0.000000        0.000000       38.144589       6.647247  \n",
       "acrhavem        -9.097813       12.984419      -25.687283       3.655152  \n",
       "ajowpflx       -33.637303        8.969041        0.000000       0.000000  "
      ]
     },
     "metadata": {},
     "output_type": "display_data"
    }
   ],
   "source": [
    "from direct_regression import display_feature_importance\n",
    "display_feature_importance(models0, models1, results, features);"
   ]
  },
  {
   "cell_type": "markdown",
   "id": "24",
   "metadata": {},
   "source": [
    "### Compare against OLS on basic variables"
   ]
  },
  {
   "cell_type": "code",
   "execution_count": 13,
   "id": "25",
   "metadata": {
    "tags": [
     "hide_input"
    ]
   },
   "outputs": [
    {
     "name": "stdout",
     "output_type": "stream",
     "text": [
      "Dropped 592 rows missing treatment or outcome.\n"
     ]
    }
   ],
   "source": [
    "basic = pd.read_csv(\"basic_variables.csv\",index_col='xwaveid')\n",
    "drop_missing_treatment_or_outcome(basic, treatment, outcome)\n",
    "if log_outcome:\n",
    "    basic[outcome] = np.log(basic[outcome]+basic[outcome].min())\n",
    "    \n",
    "X0b, X1b, y0b, y1b, Xb, yb, tb, featuresb = seperate_and_transform_data(basic, treatment, outcome)\n",
    "\n",
    "def construct_basic_model():\n",
    "    models = [\n",
    "        Model('OLS',LinearRegression(),importance_func=importance_from_coef)\n",
    "    ]\n",
    "    return models\n",
    "\n",
    "modelsb0, modelsb1, resultsb = nested_cross_val(\n",
    "    construct_basic_model,\n",
    "    \"data/tmp.pkl\",\n",
    "    X0b, X1b, y0b, y1b,\n",
    "    optimisation_metric,\n",
    "    evaluation_metrics,\n",
    "    innercv=5,\n",
    "    outercv=10,\n",
    "    load_from_cache=True)"
   ]
  },
  {
   "cell_type": "code",
   "execution_count": 14,
   "id": "26",
   "metadata": {
    "tags": [
     "hide_input"
    ]
   },
   "outputs": [
    {
     "data": {
      "image/png": "[encoded data removed]",
      "text/plain": [
       "<Figure size 1080x360 with 2 Axes>"
      ]
     },
     "metadata": {
      "needs_background": "light"
     },
     "output_type": "display_data"
    }
   ],
   "source": [
    "y0a = results['ridge'][0]['estimator'][1].predict(X0)\n",
    "y1a = results['ridge'][1]['estimator'][1].predict(X1)\n",
    "fig, ax = plt.subplots(1,2, figsize=(15,5))\n",
    "ax[0].scatter(y0, y0a,s=10,alpha=0.1)\n",
    "ax[0].set_xlabel('y0')\n",
    "ax[0].set_ylabel('$\\\\hat{y}0$');\n",
    "ax[0].set_title(f'Control (ridge), $R^2={r2_score(y0,y0a):.2f}$')\n",
    "\n",
    "ax[1].scatter(y1, y1a,s=10,alpha=0.1)\n",
    "ax[1].set_xlabel('y1')\n",
    "ax[1].set_ylabel('$\\\\hat{y}1$');\n",
    "ax[1].set_title(f'Treated (ridge), $R^2={r2_score(y1,y1a):.2f}$');\n",
    "\n",
    "# think about why these r2 scores are higher than on the holdout set (and whether they are likely overfitting)"
   ]
  },
  {
   "cell_type": "code",
   "execution_count": 15,
   "id": "27",
   "metadata": {},
   "outputs": [
    {
     "data": {
      "image/png": "[encoded data removed]",
      "text/plain": [
       "<Figure size 1080x360 with 2 Axes>"
      ]
     },
     "metadata": {
      "needs_background": "light"
     },
     "output_type": "display_data"
    }
   ],
   "source": [
    "from sklearn.metrics import r2_score\n",
    "y0b = resultsb['OLS'][0]['estimator'][0].predict(X0b)\n",
    "y1b = resultsb['OLS'][1]['estimator'][0].predict(X1b)\n",
    "fig, ax = plt.subplots(1,2, figsize=(15,5))\n",
    "ax[0].scatter(y0, y0b,s=10,alpha=0.1)\n",
    "ax[0].set_xlabel('y0')\n",
    "ax[0].set_ylabel('$\\\\hat{y}0$');\n",
    "ax[0].set_title(f'Control (OLS-basic), $R^2={r2_score(y0,y0b):.2f}$')\n",
    "\n",
    "ax[1].scatter(y1, y1b,s=10,alpha=0.1)\n",
    "ax[1].set_xlabel('y1')\n",
    "ax[1].set_ylabel('$\\\\hat{y}1$');\n",
    "ax[1].set_title(f'Treated (OLS-basic), $R^2={r2_score(y1,y1b):.2f}$');\n"
   ]
  },
  {
   "cell_type": "markdown",
   "id": "28",
   "metadata": {},
   "source": [
    "### Bootstraped cross-validation to estimate parameter uncertainty\n",
    "![image.png](images/bootstrap_validation.png)"
   ]
  },
  {
   "cell_type": "code",
   "execution_count": 16,
   "id": "29",
   "metadata": {
    "scrolled": true,
    "tags": [
     "hide_cell"
    ]
   },
   "outputs": [],
   "source": [
    "from direct_regression import bootstrapped_cross_val\n",
    "def extract_params(estimator):\n",
    "    return estimator.coef_\n",
    "\n",
    "bootstrap_results = bootstrapped_cross_val(\n",
    "    construct_models,\n",
    "    bootstrap_cache,\n",
    "    X0, X1, y0, y1,\n",
    "    optimisation_metric,\n",
    "    extract_params,\n",
    "    inner_cv=5,\n",
    "    load_from_cache=True,\n",
    "    samples=50\n",
    ")"
   ]
  },
  {
   "cell_type": "markdown",
   "id": "30",
   "metadata": {},
   "source": [
    "####  Average treatment effects"
   ]
  },
  {
   "cell_type": "code",
   "execution_count": 17,
   "id": "31",
   "metadata": {},
   "outputs": [
    {
     "data": {
      "text/html": [
       "<div>\n",
       "<style scoped>\n",
       "    .dataframe tbody tr th:only-of-type {\n",
       "        vertical-align: middle;\n",
       "    }\n",
       "\n",
       "    .dataframe tbody tr th {\n",
       "        vertical-align: top;\n",
       "    }\n",
       "\n",
       "    .dataframe thead th {\n",
       "        text-align: right;\n",
       "    }\n",
       "</style>\n",
       "<table border=\"1\" class=\"dataframe\">\n",
       "  <thead>\n",
       "    <tr style=\"text-align: right;\">\n",
       "      <th></th>\n",
       "      <th>ACE</th>\n",
       "      <th>ACE_std</th>\n",
       "    </tr>\n",
       "  </thead>\n",
       "  <tbody>\n",
       "    <tr>\n",
       "      <th>ridge</th>\n",
       "      <td>60.805724</td>\n",
       "      <td>32.327294</td>\n",
       "    </tr>\n",
       "    <tr>\n",
       "      <th>lasso</th>\n",
       "      <td>29.961487</td>\n",
       "      <td>33.191333</td>\n",
       "    </tr>\n",
       "    <tr>\n",
       "      <th>gbr</th>\n",
       "      <td>40.362782</td>\n",
       "      <td>30.378908</td>\n",
       "    </tr>\n",
       "  </tbody>\n",
       "</table>\n",
       "</div>"
      ],
      "text/plain": [
       "             ACE    ACE_std\n",
       "ridge  60.805724  32.327294\n",
       "lasso  29.961487  33.191333\n",
       "gbr    40.362782  30.378908"
      ]
     },
     "execution_count": 17,
     "metadata": {},
     "output_type": "execute_result"
    }
   ],
   "source": [
    "from direct_regression import compute_ate\n",
    "compute_ate(bootstrap_results,X)"
   ]
  },
  {
   "cell_type": "markdown",
   "id": "32",
   "metadata": {},
   "source": [
    "#### Distribution of hyper-parameters"
   ]
  },
  {
   "cell_type": "code",
   "execution_count": 18,
   "id": "33",
   "metadata": {
    "tags": [
     "hide_input"
    ]
   },
   "outputs": [
    {
     "data": {
      "image/png": "[encoded data removed]",
      "text/plain": [
       "<Figure size 360x288 with 1 Axes>"
      ]
     },
     "metadata": {
      "needs_background": "light"
     },
     "output_type": "display_data"
    },
    {
     "data": {
      "image/png": "[encoded data removed]",
      "text/plain": [
       "<Figure size 360x288 with 1 Axes>"
      ]
     },
     "metadata": {
      "needs_background": "light"
     },
     "output_type": "display_data"
    },
    {
     "data": {
      "image/png": "[encoded data removed]",
      "text/plain": [
       "<Figure size 360x288 with 1 Axes>"
      ]
     },
     "metadata": {
      "needs_background": "light"
     },
     "output_type": "display_data"
    },
    {
     "data": {
      "image/png": "[encoded data removed]",
      "text/plain": [
       "<Figure size 360x288 with 1 Axes>"
      ]
     },
     "metadata": {
      "needs_background": "light"
     },
     "output_type": "display_data"
    },
    {
     "data": {
      "image/png": "[encoded data removed]",
      "text/plain": [
       "<Figure size 1080x288 with 3 Axes>"
      ]
     },
     "metadata": {
      "needs_background": "light"
     },
     "output_type": "display_data"
    },
    {
     "data": {
      "image/png": "[encoded data removed]",
      "text/plain": [
       "<Figure size 1080x288 with 3 Axes>"
      ]
     },
     "metadata": {
      "needs_background": "light"
     },
     "output_type": "display_data"
    }
   ],
   "source": [
    "from direct_regression import plot_hyperparam_distributions\n",
    "for model, (results0, results1) in bootstrap_results.items():\n",
    "    plot_hyperparam_distributions(results0,f\"{model}-control\")\n",
    "    plot_hyperparam_distributions(results1,f\"{model}-treated\")"
   ]
  },
  {
   "cell_type": "code",
   "execution_count": null,
   "id": "34",
   "metadata": {},
   "outputs": [],
   "source": []
  }
 ],
 "metadata": {
  "celltoolbar": "Tags",
  "kernelspec": {
   "display_name": "Python 3 (ipykernel)",
   "language": "python",
   "name": "python3"
  },
  "language_info": {
   "codemirror_mode": {
    "name": "ipython",
    "version": 3
   },
   "file_extension": ".py",
   "mimetype": "text/x-python",
   "name": "python",
   "nbconvert_exporter": "python",
   "pygments_lexer": "ipython3",
   "version": "3.9.7"
  }
 },
 "nbformat": 4,
 "nbformat_minor": 5
}
