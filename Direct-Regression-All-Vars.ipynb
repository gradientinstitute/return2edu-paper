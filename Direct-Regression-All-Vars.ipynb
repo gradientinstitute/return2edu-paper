{
 "cells": [
  {
   "cell_type": "markdown",
   "id": "0",
   "metadata": {},
   "source": [
    "# Direct Regression"
   ]
  },
  {
   "cell_type": "code",
   "execution_count": 3,
   "id": "1",
   "metadata": {
    "tags": [
     "hide_cell"
    ]
   },
   "outputs": [],
   "source": [
    "# import libraries\n",
    "import numpy as np\n",
    "import pandas as pd\n",
    "import matplotlib.pyplot as plt\n",
    "import pyreadstat\n",
    "import re\n",
    "import string\n",
    "import sklearn\n",
    "from sklearn_pandas import DataFrameMapper\n",
    "from sklearn.linear_model import LinearRegression, Lasso, Ridge\n",
    "from sklearn.ensemble import GradientBoostingRegressor\n",
    "from sklearn.svm import SVR\n",
    "from tqdm import tqdm_notebook as tqdm\n",
    "#from cinspect import dependence, importance\n",
    "from sklearn.model_selection import cross_val_score, cross_validate\n",
    "from sklearn.metrics import r2_score\n",
    "import pickle\n",
    "import time\n",
    "\n",
    "from reed import drop_missing_treatment_or_outcome, Model\n",
    "\n",
    "# set global notebook options\n",
    "pd.options.display.max_columns = 200\n",
    "pd.options.display.max_rows = 500\n",
    "pd.options.display.max_colwidth = 100\n",
    "\n",
    "%matplotlib inline\n",
    "\n",
    "%load_ext autoreload\n",
    "%autoreload 2"
   ]
  },
  {
   "cell_type": "markdown",
   "id": "2",
   "metadata": {},
   "source": [
    "## Response Model\n",
    "\n",
    "How well can we predict outcomes $Y$ conditional on treatment $T$ and other covariates $Z$?"
   ]
  },
  {
   "cell_type": "markdown",
   "id": "3",
   "metadata": {},
   "source": [
    "### Treatent variables\n",
    "\n",
    "   - **reduhl**\tCompleted re-education based on highest level of attainment\n",
    "   - **redudl**\tCompleted re-education based on detailed qualifications\n",
    "   - **redufl**\tCompleted re-education using highest lvl and detailed qualifications.\n",
    "\n",
    "### Outcome variables\n",
    "   - Mental health in 2019 (**mh**). This is the transformed mental health scores from the aggregation of mental health items of the SF-36 Health Survey, as reported by the individual in 2019. It ranges from 0 to 100, with higher scores indicating better mental health.  \n",
    "   - Working hours in 2019 (**wkhr**) records the total number of hours the individual works in all jobs in a week on average. Working hours are set to 0 for those not working. \n",
    "   - Hourly Wages in 2019 (**rlwage**) records the average hourly wage for the individual’s main job in 2019. Hourly wages are set to 0 for those not working and set to missing for those reporting working more than 100 hours a week. \n",
    "   \n",
    "#### Columns explicitly excluded\n",
    "   - **xwaveid** (unique identifier)\n",
    "   - **p_rcom*** (timing of completion of re-education, proxies treatment) TODO think about how we would include this\n",
    "   - **p_cotrl** (first avail 2003)\n",
    "   - **p_rdf*** (first avail 2012)"
   ]
  },
  {
   "cell_type": "markdown",
   "id": "4",
   "metadata": {},
   "source": [
    "#### Select modeling parameters"
   ]
  },
  {
   "cell_type": "code",
   "execution_count": 4,
   "id": "5",
   "metadata": {},
   "outputs": [],
   "source": [
    "outcome = 'y_Dwsce'#'y_wsce'\n",
    "treatment = 'redufl'\n",
    "optimisation_metric = 'neg_mean_squared_error'\n",
    "evaluation_metrics = ('r2','neg_mean_squared_error')\n",
    "log_outcome=False\n",
    "cross_val_cache = \"data/cross-val-all-lasso.pkl\"#\"data/cross-val-all.pkl\"\n",
    "bootstrap_cache = \"data/bootstrap-all-lasso.pkl\"#\"data/bootstrap-all.pkl\"\n",
    "data_file = \"all_lasso_selected.csv\"#\"all_vars.csv\""
   ]
  },
  {
   "cell_type": "markdown",
   "id": "6",
   "metadata": {},
   "source": [
    "### Load Data \n",
    "   - drop rows missing the specified treatment or outcome"
   ]
  },
  {
   "cell_type": "code",
   "execution_count": 5,
   "id": "7",
   "metadata": {
    "tags": [
     "hide_input"
    ]
   },
   "outputs": [
    {
     "name": "stdout",
     "output_type": "stream",
     "text": [
      "Dropped 592 rows missing treatment or outcome.\n"
     ]
    }
   ],
   "source": [
    "data = pd.read_csv(data_file,index_col='xwaveid')\n",
    "drop_missing_treatment_or_outcome(data, treatment, outcome)\n",
    "if log_outcome:\n",
    "    data[outcome] = np.log(data[outcome]+data[outcome].min())"
   ]
  },
  {
   "cell_type": "markdown",
   "id": "8",
   "metadata": {},
   "source": [
    "### Set up models\n",
    "Specify which models to use and the hyper-parameter space to search over for each"
   ]
  },
  {
   "cell_type": "code",
   "execution_count": 34,
   "id": "9",
   "metadata": {
    "tags": [
     "hide_input"
    ]
   },
   "outputs": [],
   "source": [
    "from sklearn.linear_model import Lasso, Ridge\n",
    "from sklearn.ensemble import GradientBoostingRegressor\n",
    "from direct_regression import importance_from_coef\n",
    "\n",
    "def construct_models():\n",
    "    models = [\n",
    "        Model('ridge',Ridge(), \n",
    "              parameters = {\n",
    "                  'alpha':np.logspace(-1,4,30)\n",
    "              },\n",
    "              importance_func=importance_from_coef\n",
    "        ),\n",
    "        Model('lasso',Lasso(),\n",
    "              parameters = {\n",
    "                  'alpha':np.logspace(-2,4,30)\n",
    "              },\n",
    "              importance_func=importance_from_coef\n",
    "        ), \n",
    "        Model('gbr',GradientBoostingRegressor(n_iter_no_change=20, max_depth=2),\n",
    "              parameters = {\n",
    "                'max_features':np.linspace(0,1,6)[1:],\n",
    "                'learning_rate':np.logspace(-3,0,10),\n",
    "                'min_samples_leaf':np.logspace(0,3,10).astype(int)\n",
    "              }\n",
    "        ),\n",
    "    ]\n",
    "    return models\n",
    "\n",
    "# def construct_models(): Used for quick testing\n",
    "#     models = [\n",
    "#         Model('Ridge',Ridge(),\n",
    "#               parameters = {'alpha':np.logspace(1,4,2)},\n",
    "#               importance_func=importance_from_coef\n",
    "#         ),\n",
    "#         Model('gbr',GradientBoostingRegressor(n_iter_no_change=20, max_depth=2),\n",
    "#               parameters = {\n",
    "#                 'max_features':[10],\n",
    "#                 'learning_rate':np.logspace(-3,0,2),\n",
    "#               }\n",
    "#         ), \n",
    "#     ]\n",
    "#     return models"
   ]
  },
  {
   "cell_type": "markdown",
   "id": "10",
   "metadata": {},
   "source": [
    "### Prepare data for modeling\n",
    "   - split into treated/control\n",
    "   - impute missing values and scale\n",
    "   - separate features from outcomes&treatments"
   ]
  },
  {
   "cell_type": "code",
   "execution_count": 35,
   "id": "11",
   "metadata": {
    "tags": [
     "hide_input"
    ]
   },
   "outputs": [
    {
     "name": "stdout",
     "output_type": "stream",
     "text": [
      "Control data dimensions:  (3659, 107)\n",
      "Treated data dimensions: (1295, 107)\n"
     ]
    }
   ],
   "source": [
    "from direct_regression import seperate_and_transform_data\n",
    "X0, X1, y0, y1, X, y, t, features = seperate_and_transform_data(data, treatment, outcome)\n",
    "\n",
    "print(\"Control data dimensions: \",X0.shape)\n",
    "print(\"Treated data dimensions:\",X1.shape)\n"
   ]
  },
  {
   "cell_type": "markdown",
   "id": "12",
   "metadata": {},
   "source": [
    "### Compute unconditional/unadjusted estimate of treatment effect"
   ]
  },
  {
   "cell_type": "code",
   "execution_count": 36,
   "id": "13",
   "metadata": {
    "tags": [
     "hide_input"
    ]
   },
   "outputs": [
    {
     "name": "stdout",
     "output_type": "stream",
     "text": [
      "Proportion Treated:26%\n",
      "Average outcome under Control:67.85±15.36\n",
      "Average outcome under Treatment:310.57±29.39\n",
      "Unadjusted treatment estimate 242.72\n"
     ]
    }
   ],
   "source": [
    "from direct_regression import print_unconditional_effects\n",
    "print_unconditional_effects(data, treatment, y0, y1)"
   ]
  },
  {
   "cell_type": "markdown",
   "id": "14",
   "metadata": {},
   "source": [
    "### Propensity model\n",
    "\n",
    "- Run primarily to check for violations over overlap assumptions."
   ]
  },
  {
   "cell_type": "code",
   "execution_count": 37,
   "id": "15",
   "metadata": {
    "tags": [
     "hide_cell"
    ]
   },
   "outputs": [],
   "source": [
    "from reed import visualise_propensity_model_performance\n",
    "from sklearn.model_selection import train_test_split\n",
    "from sklearn.linear_model import LogisticRegression, LogisticRegressionCV\n",
    "\n",
    "X_train, X_test, t_train, t_test = train_test_split(X,t,stratify=t)\n",
    "pmodel = LogisticRegressionCV(Cs = np.logspace(-5,-1,20), penalty='l2', max_iter=10000)\n",
    "pmodel.fit(X_train, t_train);"
   ]
  },
  {
   "cell_type": "code",
   "execution_count": 38,
   "id": "16",
   "metadata": {
    "tags": [
     "hide_input"
    ]
   },
   "outputs": [
    {
     "data": {
      "image/png": "[encoded data removed]",
      "text/plain": [
       "<Figure size 1080x360 with 2 Axes>"
      ]
     },
     "metadata": {
      "needs_background": "light"
     },
     "output_type": "display_data"
    }
   ],
   "source": [
    "visualise_propensity_model_performance(t_test, pmodel.predict_proba(X_test)[:,1],'l2-logistic',bins=10)"
   ]
  },
  {
   "cell_type": "code",
   "execution_count": 39,
   "id": "17",
   "metadata": {
    "tags": [
     "hide_input"
    ]
   },
   "outputs": [
    {
     "name": "stdout",
     "output_type": "stream",
     "text": [
      "Propensity Model Coefficients\n"
     ]
    },
    {
     "data": {
      "text/html": [
       "<div>\n",
       "<style scoped>\n",
       "    .dataframe tbody tr th:only-of-type {\n",
       "        vertical-align: middle;\n",
       "    }\n",
       "\n",
       "    .dataframe tbody tr th {\n",
       "        vertical-align: top;\n",
       "    }\n",
       "\n",
       "    .dataframe thead th {\n",
       "        text-align: right;\n",
       "    }\n",
       "</style>\n",
       "<table border=\"1\" class=\"dataframe\">\n",
       "  <thead>\n",
       "    <tr style=\"text-align: right;\">\n",
       "      <th></th>\n",
       "      <th>label</th>\n",
       "      <th>c</th>\n",
       "      <th>abs</th>\n",
       "    </tr>\n",
       "  </thead>\n",
       "  <tbody>\n",
       "    <tr>\n",
       "      <th>ahgage</th>\n",
       "      <td>DV: Age last birthday at June 30 2001</td>\n",
       "      <td>-0.119490</td>\n",
       "      <td>0.119490</td>\n",
       "    </tr>\n",
       "    <tr>\n",
       "      <th>aicage1</th>\n",
       "      <td>H25 Check age</td>\n",
       "      <td>-0.101302</td>\n",
       "      <td>0.101302</td>\n",
       "    </tr>\n",
       "    <tr>\n",
       "      <th>ahhold</th>\n",
       "      <td>DV: Age of oldest person in household</td>\n",
       "      <td>-0.088556</td>\n",
       "      <td>0.088556</td>\n",
       "    </tr>\n",
       "    <tr>\n",
       "      <th>amrpyr</th>\n",
       "      <td>J2a Year - present or most recent marriage</td>\n",
       "      <td>0.078670</td>\n",
       "      <td>0.078670</td>\n",
       "    </tr>\n",
       "    <tr>\n",
       "      <th>ahgsex</th>\n",
       "      <td>HF3 Sex</td>\n",
       "      <td>0.059475</td>\n",
       "      <td>0.059475</td>\n",
       "    </tr>\n",
       "    <tr>\n",
       "      <th>abncpen</th>\n",
       "      <td>DV: Current weekly Australian Government Pensions ($)</td>\n",
       "      <td>-0.052237</td>\n",
       "      <td>0.052237</td>\n",
       "    </tr>\n",
       "    <tr>\n",
       "      <th>ajbmssec</th>\n",
       "      <td>E36b Job security satisfaction</td>\n",
       "      <td>-0.047382</td>\n",
       "      <td>0.047382</td>\n",
       "    </tr>\n",
       "    <tr>\n",
       "      <th>aujyru</th>\n",
       "      <td>D12 How long since last worked for pay - years (not currently in paid work)</td>\n",
       "      <td>-0.046337</td>\n",
       "      <td>0.046337</td>\n",
       "    </tr>\n",
       "    <tr>\n",
       "      <th>abnftbf1</th>\n",
       "      <td>DV: Family number 1 Family Tax Benefit B ($) financial year [estimated]</td>\n",
       "      <td>0.043291</td>\n",
       "      <td>0.043291</td>\n",
       "    </tr>\n",
       "    <tr>\n",
       "      <th>acaj0145</th>\n",
       "      <td>FG1 Calendar - Job 1 - Late Sep 2001</td>\n",
       "      <td>-0.038110</td>\n",
       "      <td>0.038110</td>\n",
       "    </tr>\n",
       "    <tr>\n",
       "      <th>awsfhave</th>\n",
       "      <td>G19 Work for wages/salary LFY</td>\n",
       "      <td>-0.038082</td>\n",
       "      <td>0.038082</td>\n",
       "    </tr>\n",
       "    <tr>\n",
       "      <th>acaj01</th>\n",
       "      <td>FG1 Any calendar activity - Job 1</td>\n",
       "      <td>0.037334</td>\n",
       "      <td>0.037334</td>\n",
       "    </tr>\n",
       "    <tr>\n",
       "      <th>aedqoc3</th>\n",
       "      <td>C7a Qualifications obtained - Other certificate - level III</td>\n",
       "      <td>0.037090</td>\n",
       "      <td>0.037090</td>\n",
       "    </tr>\n",
       "    <tr>\n",
       "      <th>abnfpen</th>\n",
       "      <td>DV: Financial year Australian Government Pensions ($)</td>\n",
       "      <td>-0.036641</td>\n",
       "      <td>0.036641</td>\n",
       "    </tr>\n",
       "    <tr>\n",
       "      <th>ahges1</th>\n",
       "      <td>HF9 Employment status on Household Form, answered by one person in household - 0001</td>\n",
       "      <td>-0.036632</td>\n",
       "      <td>0.036632</td>\n",
       "    </tr>\n",
       "    <tr>\n",
       "      <th>aioinflu</th>\n",
       "      <td>Z2 Influence respondent answers</td>\n",
       "      <td>-0.036035</td>\n",
       "      <td>0.036035</td>\n",
       "    </tr>\n",
       "    <tr>\n",
       "      <th>ahhiu</th>\n",
       "      <td>DV: Income unit</td>\n",
       "      <td>0.034139</td>\n",
       "      <td>0.034139</td>\n",
       "    </tr>\n",
       "    <tr>\n",
       "      <th>alssmoke</th>\n",
       "      <td>SCQ:B2 Do you smoke tobacco</td>\n",
       "      <td>0.032133</td>\n",
       "      <td>0.032133</td>\n",
       "    </tr>\n",
       "    <tr>\n",
       "      <th>artcomp</th>\n",
       "      <td>F22 Retired completely from the workforce</td>\n",
       "      <td>0.031571</td>\n",
       "      <td>0.031571</td>\n",
       "    </tr>\n",
       "    <tr>\n",
       "      <th>aoiint</th>\n",
       "      <td>DV: Financial year interest including nil ($) [weighted topcode]</td>\n",
       "      <td>-0.030377</td>\n",
       "      <td>0.030377</td>\n",
       "    </tr>\n",
       "  </tbody>\n",
       "</table>\n",
       "</div>"
      ],
      "text/plain": [
       "                                                                                        label  \\\n",
       "ahgage                                                  DV: Age last birthday at June 30 2001   \n",
       "aicage1                                                                         H25 Check age   \n",
       "ahhold                                                  DV: Age of oldest person in household   \n",
       "amrpyr                                             J2a Year - present or most recent marriage   \n",
       "ahgsex                                                                                HF3 Sex   \n",
       "abncpen                                 DV: Current weekly Australian Government Pensions ($)   \n",
       "ajbmssec                                                       E36b Job security satisfaction   \n",
       "aujyru            D12 How long since last worked for pay - years (not currently in paid work)   \n",
       "abnftbf1              DV: Family number 1 Family Tax Benefit B ($) financial year [estimated]   \n",
       "acaj0145                                                 FG1 Calendar - Job 1 - Late Sep 2001   \n",
       "awsfhave                                                        G19 Work for wages/salary LFY   \n",
       "acaj01                                                      FG1 Any calendar activity - Job 1   \n",
       "aedqoc3                           C7a Qualifications obtained - Other certificate - level III   \n",
       "abnfpen                                 DV: Financial year Australian Government Pensions ($)   \n",
       "ahges1    HF9 Employment status on Household Form, answered by one person in household - 0001   \n",
       "aioinflu                                                      Z2 Influence respondent answers   \n",
       "ahhiu                                                                         DV: Income unit   \n",
       "alssmoke                                                          SCQ:B2 Do you smoke tobacco   \n",
       "artcomp                                             F22 Retired completely from the workforce   \n",
       "aoiint                       DV: Financial year interest including nil ($) [weighted topcode]   \n",
       "\n",
       "                 c       abs  \n",
       "ahgage   -0.119490  0.119490  \n",
       "aicage1  -0.101302  0.101302  \n",
       "ahhold   -0.088556  0.088556  \n",
       "amrpyr    0.078670  0.078670  \n",
       "ahgsex    0.059475  0.059475  \n",
       "abncpen  -0.052237  0.052237  \n",
       "ajbmssec -0.047382  0.047382  \n",
       "aujyru   -0.046337  0.046337  \n",
       "abnftbf1  0.043291  0.043291  \n",
       "acaj0145 -0.038110  0.038110  \n",
       "awsfhave -0.038082  0.038082  \n",
       "acaj01    0.037334  0.037334  \n",
       "aedqoc3   0.037090  0.037090  \n",
       "abnfpen  -0.036641  0.036641  \n",
       "ahges1   -0.036632  0.036632  \n",
       "aioinflu -0.036035  0.036035  \n",
       "ahhiu     0.034139  0.034139  \n",
       "alssmoke  0.032133  0.032133  \n",
       "artcomp   0.031571  0.031571  \n",
       "aoiint   -0.030377  0.030377  "
      ]
     },
     "execution_count": 39,
     "metadata": {},
     "output_type": "execute_result"
    }
   ],
   "source": [
    "def propensity_coefficients(model, features):\n",
    "    if hasattr(model,'best_estimator_'):\n",
    "        model = model.best_estimator_\n",
    "    coef = model.coef_[0]\n",
    "    \n",
    "    with open('data/metadata.pkl','rb') as f:\n",
    "        meta = pickle.load(f)\n",
    "        labels = [meta.column_names_to_labels.get(f) for f in features]\n",
    "    return pd.DataFrame({'label': labels, \"c\":coef,'abs':np.abs(coef)},index=features).sort_values(by='abs',ascending=False).head(50)\n",
    "print(\"Propensity Model Coefficients\")      \n",
    "propensity_coefficients(pmodel, features).head(20)"
   ]
  },
  {
   "cell_type": "markdown",
   "id": "18",
   "metadata": {},
   "source": [
    "### (Nested) cross-validate to evaluate model performance\n",
    "![image.png](images/nested_cross_val.png)"
   ]
  },
  {
   "cell_type": "code",
   "execution_count": 40,
   "id": "19",
   "metadata": {
    "tags": [
     "hide_cell"
    ]
   },
   "outputs": [
    {
     "name": "stdout",
     "output_type": "stream",
     "text": [
      "Fitting ridge ...Fitting 5 folds for each of 30 candidates, totalling 150 fits\n",
      "Fitting 5 folds for each of 30 candidates, totalling 150 fits\n",
      "Fitting 5 folds for each of 30 candidates, totalling 150 fits\n",
      "Fitting 5 folds for each of 30 candidates, totalling 150 fits\n",
      "Fitting 5 folds for each of 30 candidates, totalling 150 fits\n",
      "Fitting 5 folds for each of 30 candidates, totalling 150 fits\n",
      "Fitting 5 folds for each of 30 candidates, totalling 150 fits\n",
      "Fitting 5 folds for each of 30 candidates, totalling 150 fits\n",
      "Fitting 5 folds for each of 30 candidates, totalling 150 fits\n",
      "Fitting 5 folds for each of 30 candidates, totalling 150 fits\n",
      "Fitting 5 folds for each of 30 candidates, totalling 150 fits\n",
      "Fitting 5 folds for each of 30 candidates, totalling 150 fits\n",
      "Fitting 5 folds for each of 30 candidates, totalling 150 fits\n",
      "Fitting 5 folds for each of 30 candidates, totalling 150 fits\n",
      "Fitting 5 folds for each of 30 candidates, totalling 150 fits\n",
      "Fitting 5 folds for each of 30 candidates, totalling 150 fits\n",
      "Fitting 5 folds for each of 30 candidates, totalling 150 fits\n",
      "Fitting 5 folds for each of 30 candidates, totalling 150 fits\n",
      "Fitting 5 folds for each of 30 candidates, totalling 150 fits\n",
      "Fitting 5 folds for each of 30 candidates, totalling 150 fits\n",
      "Fitting 5 folds for each of 30 candidates, totalling 150 fits\n",
      "Fitting 5 folds for each of 30 candidates, totalling 150 fits\n",
      "Fitting 5 folds for each of 30 candidates, totalling 150 fits\n",
      "Fitting 5 folds for each of 30 candidates, totalling 150 fits\n",
      "Fitting 5 folds for each of 30 candidates, totalling 150 fits\n",
      "Fitting 5 folds for each of 30 candidates, totalling 150 fits\n",
      "Fitting 5 folds for each of 30 candidates, totalling 150 fits\n",
      "Fitting 5 folds for each of 30 candidates, totalling 150 fits\n",
      "Fitting 5 folds for each of 30 candidates, totalling 150 fits\n",
      "Fitting 5 folds for each of 30 candidates, totalling 150 fits\n",
      "Fitting 5 folds for each of 30 candidates, totalling 150 fits\n",
      "Fitting 5 folds for each of 30 candidates, totalling 150 fits\n",
      "Fitting 5 folds for each of 30 candidates, totalling 150 fits\n",
      "Fitting 5 folds for each of 30 candidates, totalling 150 fits\n",
      "Fitting 5 folds for each of 30 candidates, totalling 150 fits\n",
      "Fitting 5 folds for each of 30 candidates, totalling 150 fits\n",
      "Fitting 5 folds for each of 30 candidates, totalling 150 fits\n",
      "Fitting 5 folds for each of 30 candidates, totalling 150 fits\n",
      "Fitting 5 folds for each of 30 candidates, totalling 150 fits\n",
      "Fitting 5 folds for each of 30 candidates, totalling 150 fits\n",
      "Fitting 5 folds for each of 30 candidates, totalling 150 fits\n",
      "Fitting 5 folds for each of 30 candidates, totalling 150 fits\n",
      "Fitting 5 folds for each of 30 candidates, totalling 150 fits\n",
      "Fitting 5 folds for each of 30 candidates, totalling 150 fits\n",
      "Fitting 5 folds for each of 30 candidates, totalling 150 fits\n",
      "Fitting 5 folds for each of 30 candidates, totalling 150 fits\n",
      "Fitting 5 folds for each of 30 candidates, totalling 150 fits\n",
      "Fitting 5 folds for each of 30 candidates, totalling 150 fits\n",
      "Fitting 5 folds for each of 30 candidates, totalling 150 fits\n",
      "Fitting 5 folds for each of 30 candidates, totalling 150 fits\n",
      "Fitting 5 folds for each of 30 candidates, totalling 150 fits\n",
      "Fitting 5 folds for each of 30 candidates, totalling 150 fits\n",
      "Fitting 5 folds for each of 30 candidates, totalling 150 fits\n",
      "Fitting 5 folds for each of 30 candidates, totalling 150 fits\n",
      "Fitting 5 folds for each of 30 candidates, totalling 150 fits\n",
      "Fitting 5 folds for each of 30 candidates, totalling 150 fits\n",
      "Fitting 5 folds for each of 30 candidates, totalling 150 fits\n",
      "Fitting 5 folds for each of 30 candidates, totalling 150 fits\n",
      "Fitting 5 folds for each of 30 candidates, totalling 150 fits\n",
      "Fitting 5 folds for each of 30 candidates, totalling 150 fits\n",
      "Fitting 5 folds for each of 30 candidates, totalling 150 fits\n",
      "Fitting 5 folds for each of 30 candidates, totalling 150 fits\n",
      "Fitting 5 folds for each of 30 candidates, totalling 150 fits\n",
      "Fitting 5 folds for each of 30 candidates, totalling 150 fits\n",
      "Fitting 5 folds for each of 30 candidates, totalling 150 fits\n",
      "Fitting 5 folds for each of 30 candidates, totalling 150 fits\n",
      "Fitting 5 folds for each of 30 candidates, totalling 150 fits\n",
      "Fitting 5 folds for each of 30 candidates, totalling 150 fits\n",
      "Fitting 5 folds for each of 30 candidates, totalling 150 fits\n",
      "Fitting 5 folds for each of 30 candidates, totalling 150 fits\n",
      "Fitting 5 folds for each of 30 candidates, totalling 150 fits\n",
      "Fitting 5 folds for each of 30 candidates, totalling 150 fits\n",
      "Fitting 5 folds for each of 30 candidates, totalling 150 fits\n",
      "Fitting 5 folds for each of 30 candidates, totalling 150 fits\n",
      "Fitting 5 folds for each of 30 candidates, totalling 150 fits\n",
      "Fitting 5 folds for each of 30 candidates, totalling 150 fits\n",
      "Fitting 5 folds for each of 30 candidates, totalling 150 fits\n",
      "Fitting 5 folds for each of 30 candidates, totalling 150 fits\n",
      "Fitting 5 folds for each of 30 candidates, totalling 150 fits\n",
      "Fitting 5 folds for each of 30 candidates, totalling 150 fits\n",
      "Fitting 5 folds for each of 30 candidates, totalling 150 fits\n",
      "Fitting 5 folds for each of 30 candidates, totalling 150 fits\n",
      "Fitting 5 folds for each of 30 candidates, totalling 150 fits\n",
      "Fitting 5 folds for each of 30 candidates, totalling 150 fits\n",
      "Fitting 5 folds for each of 30 candidates, totalling 150 fits\n",
      "Fitting 5 folds for each of 30 candidates, totalling 150 fits\n",
      "Fitting 5 folds for each of 30 candidates, totalling 150 fits\n",
      "Fitting 5 folds for each of 30 candidates, totalling 150 fits\n",
      "Fitting 5 folds for each of 30 candidates, totalling 150 fits\n",
      "Fitting 5 folds for each of 30 candidates, totalling 150 fits\n",
      "Fitting 5 folds for each of 30 candidates, totalling 150 fits\n",
      "Fitting 5 folds for each of 30 candidates, totalling 150 fits\n",
      "Fitting 5 folds for each of 30 candidates, totalling 150 fits\n",
      "Fitting 5 folds for each of 30 candidates, totalling 150 fits\n",
      "Fitting 5 folds for each of 30 candidates, totalling 150 fits\n",
      "Fitting 5 folds for each of 30 candidates, totalling 150 fits\n",
      "Fitting 5 folds for each of 30 candidates, totalling 150 fits\n",
      "Fitting 5 folds for each of 30 candidates, totalling 150 fits\n",
      "Fitting 5 folds for each of 30 candidates, totalling 150 fits\n",
      "Fitting 5 folds for each of 30 candidates, totalling 150 fits\n",
      "Done\n",
      "Fitting lasso ...Fitting 5 folds for each of 30 candidates, totalling 150 fits\n",
      "Fitting 5 folds for each of 30 candidates, totalling 150 fits\n",
      "Fitting 5 folds for each of 30 candidates, totalling 150 fits\n",
      "Fitting 5 folds for each of 30 candidates, totalling 150 fits\n",
      "Fitting 5 folds for each of 30 candidates, totalling 150 fits\n",
      "Fitting 5 folds for each of 30 candidates, totalling 150 fits\n",
      "Fitting 5 folds for each of 30 candidates, totalling 150 fits\n",
      "Fitting 5 folds for each of 30 candidates, totalling 150 fits\n",
      "Fitting 5 folds for each of 30 candidates, totalling 150 fits\n",
      "Fitting 5 folds for each of 30 candidates, totalling 150 fits\n",
      "Fitting 5 folds for each of 30 candidates, totalling 150 fits\n",
      "Fitting 5 folds for each of 30 candidates, totalling 150 fits\n",
      "Fitting 5 folds for each of 30 candidates, totalling 150 fits\n",
      "Fitting 5 folds for each of 30 candidates, totalling 150 fits\n",
      "Fitting 5 folds for each of 30 candidates, totalling 150 fits\n",
      "Fitting 5 folds for each of 30 candidates, totalling 150 fits\n",
      "Fitting 5 folds for each of 30 candidates, totalling 150 fits\n",
      "Fitting 5 folds for each of 30 candidates, totalling 150 fits\n",
      "Fitting 5 folds for each of 30 candidates, totalling 150 fits\n",
      "Fitting 5 folds for each of 30 candidates, totalling 150 fits\n",
      "Fitting 5 folds for each of 30 candidates, totalling 150 fits\n",
      "Fitting 5 folds for each of 30 candidates, totalling 150 fits\n",
      "Fitting 5 folds for each of 30 candidates, totalling 150 fits\n",
      "Fitting 5 folds for each of 30 candidates, totalling 150 fits\n",
      "Fitting 5 folds for each of 30 candidates, totalling 150 fits\n",
      "Fitting 5 folds for each of 30 candidates, totalling 150 fits\n",
      "Fitting 5 folds for each of 30 candidates, totalling 150 fits\n",
      "Fitting 5 folds for each of 30 candidates, totalling 150 fits\n",
      "Fitting 5 folds for each of 30 candidates, totalling 150 fits\n",
      "Fitting 5 folds for each of 30 candidates, totalling 150 fits\n",
      "Fitting 5 folds for each of 30 candidates, totalling 150 fits\n",
      "Fitting 5 folds for each of 30 candidates, totalling 150 fits\n"
     ]
    },
    {
     "name": "stdout",
     "output_type": "stream",
     "text": [
      "Fitting 5 folds for each of 30 candidates, totalling 150 fits\n",
      "Fitting 5 folds for each of 30 candidates, totalling 150 fits\n",
      "Fitting 5 folds for each of 30 candidates, totalling 150 fits\n",
      "Fitting 5 folds for each of 30 candidates, totalling 150 fits\n",
      "Fitting 5 folds for each of 30 candidates, totalling 150 fits\n",
      "Fitting 5 folds for each of 30 candidates, totalling 150 fits\n",
      "Fitting 5 folds for each of 30 candidates, totalling 150 fits\n",
      "Fitting 5 folds for each of 30 candidates, totalling 150 fits\n",
      "Fitting 5 folds for each of 30 candidates, totalling 150 fits\n",
      "Fitting 5 folds for each of 30 candidates, totalling 150 fits\n",
      "Fitting 5 folds for each of 30 candidates, totalling 150 fits\n",
      "Fitting 5 folds for each of 30 candidates, totalling 150 fits\n",
      "Fitting 5 folds for each of 30 candidates, totalling 150 fits\n",
      "Fitting 5 folds for each of 30 candidates, totalling 150 fits\n",
      "Fitting 5 folds for each of 30 candidates, totalling 150 fits\n",
      "Fitting 5 folds for each of 30 candidates, totalling 150 fits\n",
      "Fitting 5 folds for each of 30 candidates, totalling 150 fits\n",
      "Fitting 5 folds for each of 30 candidates, totalling 150 fits\n",
      "Fitting 5 folds for each of 30 candidates, totalling 150 fits\n",
      "Fitting 5 folds for each of 30 candidates, totalling 150 fits\n",
      "Fitting 5 folds for each of 30 candidates, totalling 150 fits\n",
      "Fitting 5 folds for each of 30 candidates, totalling 150 fits\n",
      "Fitting 5 folds for each of 30 candidates, totalling 150 fits\n",
      "Fitting 5 folds for each of 30 candidates, totalling 150 fits\n",
      "Fitting 5 folds for each of 30 candidates, totalling 150 fits\n",
      "Fitting 5 folds for each of 30 candidates, totalling 150 fits\n"
     ]
    },
    {
     "name": "stderr",
     "output_type": "stream",
     "text": [
      "/home/finn/miniconda3/envs/reed/lib/python3.9/site-packages/sklearn/linear_model/_coordinate_descent.py:645: ConvergenceWarning: Objective did not converge. You might want to increase the number of iterations, check the scale of the features or consider increasing regularisation. Duality gap: 4.336e+05, tolerance: 1.191e+05\n",
      "  model = cd_fast.enet_coordinate_descent(\n",
      "/home/finn/miniconda3/envs/reed/lib/python3.9/site-packages/sklearn/linear_model/_coordinate_descent.py:645: ConvergenceWarning: Objective did not converge. You might want to increase the number of iterations, check the scale of the features or consider increasing regularisation. Duality gap: 1.528e+05, tolerance: 1.191e+05\n",
      "  model = cd_fast.enet_coordinate_descent(\n"
     ]
    },
    {
     "name": "stdout",
     "output_type": "stream",
     "text": [
      "Fitting 5 folds for each of 30 candidates, totalling 150 fits\n"
     ]
    },
    {
     "name": "stderr",
     "output_type": "stream",
     "text": [
      "/home/finn/miniconda3/envs/reed/lib/python3.9/site-packages/sklearn/linear_model/_coordinate_descent.py:645: ConvergenceWarning: Objective did not converge. You might want to increase the number of iterations, check the scale of the features or consider increasing regularisation. Duality gap: 1.419e+06, tolerance: 1.133e+05\n",
      "  model = cd_fast.enet_coordinate_descent(\n",
      "/home/finn/miniconda3/envs/reed/lib/python3.9/site-packages/sklearn/linear_model/_coordinate_descent.py:645: ConvergenceWarning: Objective did not converge. You might want to increase the number of iterations, check the scale of the features or consider increasing regularisation. Duality gap: 5.371e+05, tolerance: 1.133e+05\n",
      "  model = cd_fast.enet_coordinate_descent(\n",
      "/home/finn/miniconda3/envs/reed/lib/python3.9/site-packages/sklearn/linear_model/_coordinate_descent.py:645: ConvergenceWarning: Objective did not converge. You might want to increase the number of iterations, check the scale of the features or consider increasing regularisation. Duality gap: 1.914e+05, tolerance: 1.133e+05\n",
      "  model = cd_fast.enet_coordinate_descent(\n"
     ]
    },
    {
     "name": "stdout",
     "output_type": "stream",
     "text": [
      "Fitting 5 folds for each of 30 candidates, totalling 150 fits\n"
     ]
    },
    {
     "name": "stderr",
     "output_type": "stream",
     "text": [
      "/home/finn/miniconda3/envs/reed/lib/python3.9/site-packages/sklearn/linear_model/_coordinate_descent.py:645: ConvergenceWarning: Objective did not converge. You might want to increase the number of iterations, check the scale of the features or consider increasing regularisation. Duality gap: 1.200e+07, tolerance: 1.118e+05\n",
      "  model = cd_fast.enet_coordinate_descent(\n",
      "/home/finn/miniconda3/envs/reed/lib/python3.9/site-packages/sklearn/linear_model/_coordinate_descent.py:645: ConvergenceWarning: Objective did not converge. You might want to increase the number of iterations, check the scale of the features or consider increasing regularisation. Duality gap: 4.568e+06, tolerance: 1.118e+05\n",
      "  model = cd_fast.enet_coordinate_descent(\n",
      "/home/finn/miniconda3/envs/reed/lib/python3.9/site-packages/sklearn/linear_model/_coordinate_descent.py:645: ConvergenceWarning: Objective did not converge. You might want to increase the number of iterations, check the scale of the features or consider increasing regularisation. Duality gap: 1.646e+06, tolerance: 1.118e+05\n",
      "  model = cd_fast.enet_coordinate_descent(\n",
      "/home/finn/miniconda3/envs/reed/lib/python3.9/site-packages/sklearn/linear_model/_coordinate_descent.py:645: ConvergenceWarning: Objective did not converge. You might want to increase the number of iterations, check the scale of the features or consider increasing regularisation. Duality gap: 6.050e+05, tolerance: 1.118e+05\n",
      "  model = cd_fast.enet_coordinate_descent(\n",
      "/home/finn/miniconda3/envs/reed/lib/python3.9/site-packages/sklearn/linear_model/_coordinate_descent.py:645: ConvergenceWarning: Objective did not converge. You might want to increase the number of iterations, check the scale of the features or consider increasing regularisation. Duality gap: 2.439e+05, tolerance: 1.118e+05\n",
      "  model = cd_fast.enet_coordinate_descent(\n",
      "/home/finn/miniconda3/envs/reed/lib/python3.9/site-packages/sklearn/linear_model/_coordinate_descent.py:645: ConvergenceWarning: Objective did not converge. You might want to increase the number of iterations, check the scale of the features or consider increasing regularisation. Duality gap: 1.178e+05, tolerance: 1.118e+05\n",
      "  model = cd_fast.enet_coordinate_descent(\n"
     ]
    },
    {
     "name": "stdout",
     "output_type": "stream",
     "text": [
      "Fitting 5 folds for each of 30 candidates, totalling 150 fits\n"
     ]
    },
    {
     "name": "stderr",
     "output_type": "stream",
     "text": [
      "/home/finn/miniconda3/envs/reed/lib/python3.9/site-packages/sklearn/linear_model/_coordinate_descent.py:645: ConvergenceWarning: Objective did not converge. You might want to increase the number of iterations, check the scale of the features or consider increasing regularisation. Duality gap: 3.270e+06, tolerance: 1.096e+05\n",
      "  model = cd_fast.enet_coordinate_descent(\n",
      "/home/finn/miniconda3/envs/reed/lib/python3.9/site-packages/sklearn/linear_model/_coordinate_descent.py:645: ConvergenceWarning: Objective did not converge. You might want to increase the number of iterations, check the scale of the features or consider increasing regularisation. Duality gap: 5.032e+05, tolerance: 1.096e+05\n",
      "  model = cd_fast.enet_coordinate_descent(\n",
      "/home/finn/miniconda3/envs/reed/lib/python3.9/site-packages/sklearn/linear_model/_coordinate_descent.py:645: ConvergenceWarning: Objective did not converge. You might want to increase the number of iterations, check the scale of the features or consider increasing regularisation. Duality gap: 1.278e+06, tolerance: 1.096e+05\n",
      "  model = cd_fast.enet_coordinate_descent(\n",
      "/home/finn/miniconda3/envs/reed/lib/python3.9/site-packages/sklearn/linear_model/_coordinate_descent.py:645: ConvergenceWarning: Objective did not converge. You might want to increase the number of iterations, check the scale of the features or consider increasing regularisation. Duality gap: 2.149e+05, tolerance: 1.096e+05\n",
      "  model = cd_fast.enet_coordinate_descent(\n"
     ]
    },
    {
     "name": "stdout",
     "output_type": "stream",
     "text": [
      "Fitting 5 folds for each of 30 candidates, totalling 150 fits\n",
      "Fitting 5 folds for each of 30 candidates, totalling 150 fits\n",
      "Fitting 5 folds for each of 30 candidates, totalling 150 fits\n"
     ]
    },
    {
     "name": "stderr",
     "output_type": "stream",
     "text": [
      "/home/finn/miniconda3/envs/reed/lib/python3.9/site-packages/sklearn/linear_model/_coordinate_descent.py:645: ConvergenceWarning: Objective did not converge. You might want to increase the number of iterations, check the scale of the features or consider increasing regularisation. Duality gap: 3.573e+05, tolerance: 1.186e+05\n",
      "  model = cd_fast.enet_coordinate_descent(\n",
      "/home/finn/miniconda3/envs/reed/lib/python3.9/site-packages/sklearn/linear_model/_coordinate_descent.py:645: ConvergenceWarning: Objective did not converge. You might want to increase the number of iterations, check the scale of the features or consider increasing regularisation. Duality gap: 9.513e+05, tolerance: 1.186e+05\n",
      "  model = cd_fast.enet_coordinate_descent(\n",
      "/home/finn/miniconda3/envs/reed/lib/python3.9/site-packages/sklearn/linear_model/_coordinate_descent.py:645: ConvergenceWarning: Objective did not converge. You might want to increase the number of iterations, check the scale of the features or consider increasing regularisation. Duality gap: 1.268e+05, tolerance: 1.186e+05\n",
      "  model = cd_fast.enet_coordinate_descent(\n"
     ]
    },
    {
     "name": "stdout",
     "output_type": "stream",
     "text": [
      "Fitting 5 folds for each of 30 candidates, totalling 150 fits\n",
      "Fitting 5 folds for each of 30 candidates, totalling 150 fits\n"
     ]
    },
    {
     "name": "stderr",
     "output_type": "stream",
     "text": [
      "/home/finn/miniconda3/envs/reed/lib/python3.9/site-packages/sklearn/linear_model/_coordinate_descent.py:645: ConvergenceWarning: Objective did not converge. You might want to increase the number of iterations, check the scale of the features or consider increasing regularisation. Duality gap: 1.458e+05, tolerance: 1.208e+05\n",
      "  model = cd_fast.enet_coordinate_descent(\n"
     ]
    },
    {
     "name": "stdout",
     "output_type": "stream",
     "text": [
      "Fitting 5 folds for each of 30 candidates, totalling 150 fits\n"
     ]
    },
    {
     "name": "stderr",
     "output_type": "stream",
     "text": [
      "/home/finn/miniconda3/envs/reed/lib/python3.9/site-packages/sklearn/linear_model/_coordinate_descent.py:645: ConvergenceWarning: Objective did not converge. You might want to increase the number of iterations, check the scale of the features or consider increasing regularisation. Duality gap: 1.488e+05, tolerance: 1.058e+05\n",
      "  model = cd_fast.enet_coordinate_descent(\n"
     ]
    },
    {
     "name": "stdout",
     "output_type": "stream",
     "text": [
      "Fitting 5 folds for each of 30 candidates, totalling 150 fits\n",
      "Fitting 5 folds for each of 30 candidates, totalling 150 fits\n"
     ]
    },
    {
     "name": "stderr",
     "output_type": "stream",
     "text": [
      "/home/finn/miniconda3/envs/reed/lib/python3.9/site-packages/sklearn/linear_model/_coordinate_descent.py:645: ConvergenceWarning: Objective did not converge. You might want to increase the number of iterations, check the scale of the features or consider increasing regularisation. Duality gap: 4.396e+06, tolerance: 1.144e+05\n",
      "  model = cd_fast.enet_coordinate_descent(\n",
      "/home/finn/miniconda3/envs/reed/lib/python3.9/site-packages/sklearn/linear_model/_coordinate_descent.py:645: ConvergenceWarning: Objective did not converge. You might want to increase the number of iterations, check the scale of the features or consider increasing regularisation. Duality gap: 1.440e+06, tolerance: 1.144e+05\n",
      "  model = cd_fast.enet_coordinate_descent(\n",
      "/home/finn/miniconda3/envs/reed/lib/python3.9/site-packages/sklearn/linear_model/_coordinate_descent.py:645: ConvergenceWarning: Objective did not converge. You might want to increase the number of iterations, check the scale of the features or consider increasing regularisation. Duality gap: 3.927e+05, tolerance: 1.144e+05\n",
      "  model = cd_fast.enet_coordinate_descent(\n"
     ]
    },
    {
     "name": "stdout",
     "output_type": "stream",
     "text": [
      "Fitting 5 folds for each of 30 candidates, totalling 150 fits\n",
      "Fitting 5 folds for each of 30 candidates, totalling 150 fits\n",
      "Fitting 5 folds for each of 30 candidates, totalling 150 fits\n"
     ]
    },
    {
     "name": "stderr",
     "output_type": "stream",
     "text": [
      "/home/finn/miniconda3/envs/reed/lib/python3.9/site-packages/sklearn/linear_model/_coordinate_descent.py:645: ConvergenceWarning: Objective did not converge. You might want to increase the number of iterations, check the scale of the features or consider increasing regularisation. Duality gap: 2.483e+07, tolerance: 1.212e+05\n",
      "  model = cd_fast.enet_coordinate_descent(\n",
      "/home/finn/miniconda3/envs/reed/lib/python3.9/site-packages/sklearn/linear_model/_coordinate_descent.py:645: ConvergenceWarning: Objective did not converge. You might want to increase the number of iterations, check the scale of the features or consider increasing regularisation. Duality gap: 3.947e+06, tolerance: 1.104e+05\n",
      "  model = cd_fast.enet_coordinate_descent(\n",
      "/home/finn/miniconda3/envs/reed/lib/python3.9/site-packages/sklearn/linear_model/_coordinate_descent.py:645: ConvergenceWarning: Objective did not converge. You might want to increase the number of iterations, check the scale of the features or consider increasing regularisation. Duality gap: 9.535e+06, tolerance: 1.104e+05\n",
      "  model = cd_fast.enet_coordinate_descent(\n",
      "/home/finn/miniconda3/envs/reed/lib/python3.9/site-packages/sklearn/linear_model/_coordinate_descent.py:645: ConvergenceWarning: Objective did not converge. You might want to increase the number of iterations, check the scale of the features or consider increasing regularisation. Duality gap: 5.044e+07, tolerance: 1.212e+05\n",
      "  model = cd_fast.enet_coordinate_descent(\n",
      "/home/finn/miniconda3/envs/reed/lib/python3.9/site-packages/sklearn/linear_model/_coordinate_descent.py:645: ConvergenceWarning: Objective did not converge. You might want to increase the number of iterations, check the scale of the features or consider increasing regularisation. Duality gap: 1.494e+05, tolerance: 1.047e+05\n",
      "  model = cd_fast.enet_coordinate_descent(\n",
      "/home/finn/miniconda3/envs/reed/lib/python3.9/site-packages/sklearn/linear_model/_coordinate_descent.py:645: ConvergenceWarning: Objective did not converge. You might want to increase the number of iterations, check the scale of the features or consider increasing regularisation. Duality gap: 1.496e+06, tolerance: 1.104e+05\n",
      "  model = cd_fast.enet_coordinate_descent(\n",
      "/home/finn/miniconda3/envs/reed/lib/python3.9/site-packages/sklearn/linear_model/_coordinate_descent.py:645: ConvergenceWarning: Objective did not converge. You might want to increase the number of iterations, check the scale of the features or consider increasing regularisation. Duality gap: 1.063e+07, tolerance: 1.212e+05\n",
      "  model = cd_fast.enet_coordinate_descent(\n",
      "/home/finn/miniconda3/envs/reed/lib/python3.9/site-packages/sklearn/linear_model/_coordinate_descent.py:645: ConvergenceWarning: Objective did not converge. You might want to increase the number of iterations, check the scale of the features or consider increasing regularisation. Duality gap: 5.138e+05, tolerance: 1.104e+05\n",
      "  model = cd_fast.enet_coordinate_descent(\n",
      "/home/finn/miniconda3/envs/reed/lib/python3.9/site-packages/sklearn/linear_model/_coordinate_descent.py:645: ConvergenceWarning: Objective did not converge. You might want to increase the number of iterations, check the scale of the features or consider increasing regularisation. Duality gap: 3.868e+06, tolerance: 1.212e+05\n",
      "  model = cd_fast.enet_coordinate_descent(\n",
      "/home/finn/miniconda3/envs/reed/lib/python3.9/site-packages/sklearn/linear_model/_coordinate_descent.py:645: ConvergenceWarning: Objective did not converge. You might want to increase the number of iterations, check the scale of the features or consider increasing regularisation. Duality gap: 1.529e+05, tolerance: 1.104e+05\n",
      "  model = cd_fast.enet_coordinate_descent(\n",
      "/home/finn/miniconda3/envs/reed/lib/python3.9/site-packages/sklearn/linear_model/_coordinate_descent.py:645: ConvergenceWarning: Objective did not converge. You might want to increase the number of iterations, check the scale of the features or consider increasing regularisation. Duality gap: 1.119e+06, tolerance: 1.212e+05\n",
      "  model = cd_fast.enet_coordinate_descent(\n",
      "/home/finn/miniconda3/envs/reed/lib/python3.9/site-packages/sklearn/linear_model/_coordinate_descent.py:645: ConvergenceWarning: Objective did not converge. You might want to increase the number of iterations, check the scale of the features or consider increasing regularisation. Duality gap: 1.996e+05, tolerance: 1.212e+05\n",
      "  model = cd_fast.enet_coordinate_descent(\n"
     ]
    },
    {
     "name": "stdout",
     "output_type": "stream",
     "text": [
      "Fitting 5 folds for each of 30 candidates, totalling 150 fits\n",
      "Fitting 5 folds for each of 30 candidates, totalling 150 fits\n",
      "Fitting 5 folds for each of 30 candidates, totalling 150 fits\n"
     ]
    },
    {
     "name": "stderr",
     "output_type": "stream",
     "text": [
      "/home/finn/miniconda3/envs/reed/lib/python3.9/site-packages/sklearn/linear_model/_coordinate_descent.py:645: ConvergenceWarning: Objective did not converge. You might want to increase the number of iterations, check the scale of the features or consider increasing regularisation. Duality gap: 1.628e+07, tolerance: 1.101e+05\n",
      "  model = cd_fast.enet_coordinate_descent(\n",
      "/home/finn/miniconda3/envs/reed/lib/python3.9/site-packages/sklearn/linear_model/_coordinate_descent.py:645: ConvergenceWarning: Objective did not converge. You might want to increase the number of iterations, check the scale of the features or consider increasing regularisation. Duality gap: 6.893e+06, tolerance: 1.101e+05\n",
      "  model = cd_fast.enet_coordinate_descent(\n",
      "/home/finn/miniconda3/envs/reed/lib/python3.9/site-packages/sklearn/linear_model/_coordinate_descent.py:645: ConvergenceWarning: Objective did not converge. You might want to increase the number of iterations, check the scale of the features or consider increasing regularisation. Duality gap: 2.574e+06, tolerance: 1.101e+05\n",
      "  model = cd_fast.enet_coordinate_descent(\n",
      "/home/finn/miniconda3/envs/reed/lib/python3.9/site-packages/sklearn/linear_model/_coordinate_descent.py:645: ConvergenceWarning: Objective did not converge. You might want to increase the number of iterations, check the scale of the features or consider increasing regularisation. Duality gap: 8.306e+05, tolerance: 1.101e+05\n",
      "  model = cd_fast.enet_coordinate_descent(\n",
      "/home/finn/miniconda3/envs/reed/lib/python3.9/site-packages/sklearn/linear_model/_coordinate_descent.py:645: ConvergenceWarning: Objective did not converge. You might want to increase the number of iterations, check the scale of the features or consider increasing regularisation. Duality gap: 2.089e+05, tolerance: 1.101e+05\n",
      "  model = cd_fast.enet_coordinate_descent(\n"
     ]
    },
    {
     "name": "stdout",
     "output_type": "stream",
     "text": [
      "Fitting 5 folds for each of 30 candidates, totalling 150 fits\n",
      "Fitting 5 folds for each of 30 candidates, totalling 150 fits\n",
      "Fitting 5 folds for each of 30 candidates, totalling 150 fits\n"
     ]
    },
    {
     "name": "stderr",
     "output_type": "stream",
     "text": [
      "/home/finn/miniconda3/envs/reed/lib/python3.9/site-packages/sklearn/linear_model/_coordinate_descent.py:645: ConvergenceWarning: Objective did not converge. You might want to increase the number of iterations, check the scale of the features or consider increasing regularisation. Duality gap: 1.233e+05, tolerance: 1.178e+05\n",
      "  model = cd_fast.enet_coordinate_descent(\n",
      "/home/finn/miniconda3/envs/reed/lib/python3.9/site-packages/sklearn/linear_model/_coordinate_descent.py:645: ConvergenceWarning: Objective did not converge. You might want to increase the number of iterations, check the scale of the features or consider increasing regularisation. Duality gap: 3.199e+05, tolerance: 1.178e+05\n",
      "  model = cd_fast.enet_coordinate_descent(\n"
     ]
    },
    {
     "name": "stdout",
     "output_type": "stream",
     "text": [
      "Fitting 5 folds for each of 30 candidates, totalling 150 fits\n"
     ]
    },
    {
     "name": "stderr",
     "output_type": "stream",
     "text": [
      "/home/finn/miniconda3/envs/reed/lib/python3.9/site-packages/sklearn/linear_model/_coordinate_descent.py:645: ConvergenceWarning: Objective did not converge. You might want to increase the number of iterations, check the scale of the features or consider increasing regularisation. Duality gap: 5.121e+05, tolerance: 1.150e+05\n",
      "  model = cd_fast.enet_coordinate_descent(\n",
      "/home/finn/miniconda3/envs/reed/lib/python3.9/site-packages/sklearn/linear_model/_coordinate_descent.py:645: ConvergenceWarning: Objective did not converge. You might want to increase the number of iterations, check the scale of the features or consider increasing regularisation. Duality gap: 1.334e+06, tolerance: 1.150e+05\n",
      "  model = cd_fast.enet_coordinate_descent(\n",
      "/home/finn/miniconda3/envs/reed/lib/python3.9/site-packages/sklearn/linear_model/_coordinate_descent.py:645: ConvergenceWarning: Objective did not converge. You might want to increase the number of iterations, check the scale of the features or consider increasing regularisation. Duality gap: 1.866e+05, tolerance: 1.150e+05\n",
      "  model = cd_fast.enet_coordinate_descent(\n"
     ]
    },
    {
     "name": "stdout",
     "output_type": "stream",
     "text": [
      "Fitting 5 folds for each of 30 candidates, totalling 150 fits\n",
      "Fitting 5 folds for each of 30 candidates, totalling 150 fits\n"
     ]
    },
    {
     "name": "stderr",
     "output_type": "stream",
     "text": [
      "/home/finn/miniconda3/envs/reed/lib/python3.9/site-packages/sklearn/linear_model/_coordinate_descent.py:645: ConvergenceWarning: Objective did not converge. You might want to increase the number of iterations, check the scale of the features or consider increasing regularisation. Duality gap: 1.979e+07, tolerance: 1.168e+05\n",
      "  model = cd_fast.enet_coordinate_descent(\n",
      "/home/finn/miniconda3/envs/reed/lib/python3.9/site-packages/sklearn/linear_model/_coordinate_descent.py:645: ConvergenceWarning: Objective did not converge. You might want to increase the number of iterations, check the scale of the features or consider increasing regularisation. Duality gap: 8.049e+06, tolerance: 1.168e+05\n",
      "  model = cd_fast.enet_coordinate_descent(\n",
      "/home/finn/miniconda3/envs/reed/lib/python3.9/site-packages/sklearn/linear_model/_coordinate_descent.py:645: ConvergenceWarning: Objective did not converge. You might want to increase the number of iterations, check the scale of the features or consider increasing regularisation. Duality gap: 2.677e+06, tolerance: 1.168e+05\n",
      "  model = cd_fast.enet_coordinate_descent(\n",
      "/home/finn/miniconda3/envs/reed/lib/python3.9/site-packages/sklearn/linear_model/_coordinate_descent.py:645: ConvergenceWarning: Objective did not converge. You might want to increase the number of iterations, check the scale of the features or consider increasing regularisation. Duality gap: 6.355e+05, tolerance: 1.168e+05\n",
      "  model = cd_fast.enet_coordinate_descent(\n"
     ]
    },
    {
     "name": "stdout",
     "output_type": "stream",
     "text": [
      "Fitting 5 folds for each of 30 candidates, totalling 150 fits\n"
     ]
    },
    {
     "name": "stderr",
     "output_type": "stream",
     "text": [
      "/home/finn/miniconda3/envs/reed/lib/python3.9/site-packages/sklearn/linear_model/_coordinate_descent.py:645: ConvergenceWarning: Objective did not converge. You might want to increase the number of iterations, check the scale of the features or consider increasing regularisation. Duality gap: 2.281e+06, tolerance: 1.087e+05\n",
      "  model = cd_fast.enet_coordinate_descent(\n",
      "/home/finn/miniconda3/envs/reed/lib/python3.9/site-packages/sklearn/linear_model/_coordinate_descent.py:645: ConvergenceWarning: Objective did not converge. You might want to increase the number of iterations, check the scale of the features or consider increasing regularisation. Duality gap: 1.006e+07, tolerance: 1.087e+05\n",
      "  model = cd_fast.enet_coordinate_descent(\n",
      "/home/finn/miniconda3/envs/reed/lib/python3.9/site-packages/sklearn/linear_model/_coordinate_descent.py:645: ConvergenceWarning: Objective did not converge. You might want to increase the number of iterations, check the scale of the features or consider increasing regularisation. Duality gap: 4.151e+06, tolerance: 1.087e+05\n",
      "  model = cd_fast.enet_coordinate_descent(\n",
      "/home/finn/miniconda3/envs/reed/lib/python3.9/site-packages/sklearn/linear_model/_coordinate_descent.py:645: ConvergenceWarning: Objective did not converge. You might want to increase the number of iterations, check the scale of the features or consider increasing regularisation. Duality gap: 1.548e+06, tolerance: 1.087e+05\n",
      "  model = cd_fast.enet_coordinate_descent(\n",
      "/home/finn/miniconda3/envs/reed/lib/python3.9/site-packages/sklearn/linear_model/_coordinate_descent.py:645: ConvergenceWarning: Objective did not converge. You might want to increase the number of iterations, check the scale of the features or consider increasing regularisation. Duality gap: 5.118e+05, tolerance: 1.087e+05\n",
      "  model = cd_fast.enet_coordinate_descent(\n",
      "/home/finn/miniconda3/envs/reed/lib/python3.9/site-packages/sklearn/linear_model/_coordinate_descent.py:645: ConvergenceWarning: Objective did not converge. You might want to increase the number of iterations, check the scale of the features or consider increasing regularisation. Duality gap: 1.390e+05, tolerance: 1.087e+05\n",
      "  model = cd_fast.enet_coordinate_descent(\n"
     ]
    },
    {
     "name": "stdout",
     "output_type": "stream",
     "text": [
      "Fitting 5 folds for each of 30 candidates, totalling 150 fits\n"
     ]
    },
    {
     "name": "stderr",
     "output_type": "stream",
     "text": [
      "/home/finn/miniconda3/envs/reed/lib/python3.9/site-packages/sklearn/linear_model/_coordinate_descent.py:645: ConvergenceWarning: Objective did not converge. You might want to increase the number of iterations, check the scale of the features or consider increasing regularisation. Duality gap: 1.087e+06, tolerance: 1.108e+05\n",
      "  model = cd_fast.enet_coordinate_descent(\n",
      "/home/finn/miniconda3/envs/reed/lib/python3.9/site-packages/sklearn/linear_model/_coordinate_descent.py:645: ConvergenceWarning: Objective did not converge. You might want to increase the number of iterations, check the scale of the features or consider increasing regularisation. Duality gap: 4.086e+05, tolerance: 1.108e+05\n",
      "  model = cd_fast.enet_coordinate_descent(\n",
      "/home/finn/miniconda3/envs/reed/lib/python3.9/site-packages/sklearn/linear_model/_coordinate_descent.py:645: ConvergenceWarning: Objective did not converge. You might want to increase the number of iterations, check the scale of the features or consider increasing regularisation. Duality gap: 1.449e+05, tolerance: 1.108e+05\n",
      "  model = cd_fast.enet_coordinate_descent(\n"
     ]
    },
    {
     "name": "stdout",
     "output_type": "stream",
     "text": [
      "Fitting 5 folds for each of 30 candidates, totalling 150 fits\n",
      "Fitting 5 folds for each of 30 candidates, totalling 150 fits\n"
     ]
    },
    {
     "name": "stderr",
     "output_type": "stream",
     "text": [
      "/home/finn/miniconda3/envs/reed/lib/python3.9/site-packages/sklearn/linear_model/_coordinate_descent.py:645: ConvergenceWarning: Objective did not converge. You might want to increase the number of iterations, check the scale of the features or consider increasing regularisation. Duality gap: 2.496e+05, tolerance: 1.169e+05\n",
      "  model = cd_fast.enet_coordinate_descent(\n",
      "/home/finn/miniconda3/envs/reed/lib/python3.9/site-packages/sklearn/linear_model/_coordinate_descent.py:645: ConvergenceWarning: Objective did not converge. You might want to increase the number of iterations, check the scale of the features or consider increasing regularisation. Duality gap: 7.061e+05, tolerance: 1.169e+05\n",
      "  model = cd_fast.enet_coordinate_descent(\n"
     ]
    },
    {
     "name": "stdout",
     "output_type": "stream",
     "text": [
      "Fitting 5 folds for each of 30 candidates, totalling 150 fits\n"
     ]
    },
    {
     "name": "stderr",
     "output_type": "stream",
     "text": [
      "/home/finn/miniconda3/envs/reed/lib/python3.9/site-packages/sklearn/linear_model/_coordinate_descent.py:645: ConvergenceWarning: Objective did not converge. You might want to increase the number of iterations, check the scale of the features or consider increasing regularisation. Duality gap: 2.844e+06, tolerance: 1.130e+05\n",
      "  model = cd_fast.enet_coordinate_descent(\n",
      "/home/finn/miniconda3/envs/reed/lib/python3.9/site-packages/sklearn/linear_model/_coordinate_descent.py:645: ConvergenceWarning: Objective did not converge. You might want to increase the number of iterations, check the scale of the features or consider increasing regularisation. Duality gap: 4.218e+05, tolerance: 1.130e+05\n",
      "  model = cd_fast.enet_coordinate_descent(\n",
      "/home/finn/miniconda3/envs/reed/lib/python3.9/site-packages/sklearn/linear_model/_coordinate_descent.py:645: ConvergenceWarning: Objective did not converge. You might want to increase the number of iterations, check the scale of the features or consider increasing regularisation. Duality gap: 1.125e+06, tolerance: 1.130e+05\n",
      "  model = cd_fast.enet_coordinate_descent(\n",
      "/home/finn/miniconda3/envs/reed/lib/python3.9/site-packages/sklearn/linear_model/_coordinate_descent.py:645: ConvergenceWarning: Objective did not converge. You might want to increase the number of iterations, check the scale of the features or consider increasing regularisation. Duality gap: 1.493e+05, tolerance: 1.130e+05\n",
      "  model = cd_fast.enet_coordinate_descent(\n"
     ]
    },
    {
     "name": "stdout",
     "output_type": "stream",
     "text": [
      "Fitting 5 folds for each of 30 candidates, totalling 150 fits\n"
     ]
    },
    {
     "name": "stderr",
     "output_type": "stream",
     "text": [
      "/home/finn/miniconda3/envs/reed/lib/python3.9/site-packages/sklearn/linear_model/_coordinate_descent.py:645: ConvergenceWarning: Objective did not converge. You might want to increase the number of iterations, check the scale of the features or consider increasing regularisation. Duality gap: 5.245e+07, tolerance: 1.184e+05\n",
      "  model = cd_fast.enet_coordinate_descent(\n",
      "/home/finn/miniconda3/envs/reed/lib/python3.9/site-packages/sklearn/linear_model/_coordinate_descent.py:645: ConvergenceWarning: Objective did not converge. You might want to increase the number of iterations, check the scale of the features or consider increasing regularisation. Duality gap: 2.261e+07, tolerance: 1.184e+05\n",
      "  model = cd_fast.enet_coordinate_descent(\n",
      "/home/finn/miniconda3/envs/reed/lib/python3.9/site-packages/sklearn/linear_model/_coordinate_descent.py:645: ConvergenceWarning: Objective did not converge. You might want to increase the number of iterations, check the scale of the features or consider increasing regularisation. Duality gap: 9.658e+07, tolerance: 1.184e+05\n",
      "  model = cd_fast.enet_coordinate_descent(\n",
      "/home/finn/miniconda3/envs/reed/lib/python3.9/site-packages/sklearn/linear_model/_coordinate_descent.py:645: ConvergenceWarning: Objective did not converge. You might want to increase the number of iterations, check the scale of the features or consider increasing regularisation. Duality gap: 6.822e+06, tolerance: 1.184e+05\n",
      "  model = cd_fast.enet_coordinate_descent(\n",
      "/home/finn/miniconda3/envs/reed/lib/python3.9/site-packages/sklearn/linear_model/_coordinate_descent.py:645: ConvergenceWarning: Objective did not converge. You might want to increase the number of iterations, check the scale of the features or consider increasing regularisation. Duality gap: 8.707e+05, tolerance: 1.184e+05\n",
      "  model = cd_fast.enet_coordinate_descent(\n"
     ]
    },
    {
     "name": "stdout",
     "output_type": "stream",
     "text": [
      "Fitting 5 folds for each of 30 candidates, totalling 150 fits\n"
     ]
    },
    {
     "name": "stderr",
     "output_type": "stream",
     "text": [
      "/home/finn/miniconda3/envs/reed/lib/python3.9/site-packages/sklearn/linear_model/_coordinate_descent.py:645: ConvergenceWarning: Objective did not converge. You might want to increase the number of iterations, check the scale of the features or consider increasing regularisation. Duality gap: 1.621e+06, tolerance: 1.124e+05\n",
      "  model = cd_fast.enet_coordinate_descent(\n",
      "/home/finn/miniconda3/envs/reed/lib/python3.9/site-packages/sklearn/linear_model/_coordinate_descent.py:645: ConvergenceWarning: Objective did not converge. You might want to increase the number of iterations, check the scale of the features or consider increasing regularisation. Duality gap: 5.114e+05, tolerance: 1.124e+05\n",
      "  model = cd_fast.enet_coordinate_descent(\n",
      "/home/finn/miniconda3/envs/reed/lib/python3.9/site-packages/sklearn/linear_model/_coordinate_descent.py:645: ConvergenceWarning: Objective did not converge. You might want to increase the number of iterations, check the scale of the features or consider increasing regularisation. Duality gap: 1.248e+05, tolerance: 1.124e+05\n",
      "  model = cd_fast.enet_coordinate_descent(\n"
     ]
    },
    {
     "name": "stdout",
     "output_type": "stream",
     "text": [
      "Fitting 5 folds for each of 30 candidates, totalling 150 fits\n"
     ]
    },
    {
     "name": "stderr",
     "output_type": "stream",
     "text": [
      "/home/finn/miniconda3/envs/reed/lib/python3.9/site-packages/sklearn/linear_model/_coordinate_descent.py:645: ConvergenceWarning: Objective did not converge. You might want to increase the number of iterations, check the scale of the features or consider increasing regularisation. Duality gap: 4.771e+05, tolerance: 1.196e+05\n",
      "  model = cd_fast.enet_coordinate_descent(\n",
      "/home/finn/miniconda3/envs/reed/lib/python3.9/site-packages/sklearn/linear_model/_coordinate_descent.py:645: ConvergenceWarning: Objective did not converge. You might want to increase the number of iterations, check the scale of the features or consider increasing regularisation. Duality gap: 1.426e+06, tolerance: 1.196e+05\n",
      "  model = cd_fast.enet_coordinate_descent(\n",
      "/home/finn/miniconda3/envs/reed/lib/python3.9/site-packages/sklearn/linear_model/_coordinate_descent.py:645: ConvergenceWarning: Objective did not converge. You might want to increase the number of iterations, check the scale of the features or consider increasing regularisation. Duality gap: 1.347e+05, tolerance: 1.196e+05\n",
      "  model = cd_fast.enet_coordinate_descent(\n"
     ]
    },
    {
     "name": "stdout",
     "output_type": "stream",
     "text": [
      "Fitting 5 folds for each of 30 candidates, totalling 150 fits\n"
     ]
    },
    {
     "name": "stderr",
     "output_type": "stream",
     "text": [
      "/home/finn/miniconda3/envs/reed/lib/python3.9/site-packages/sklearn/linear_model/_coordinate_descent.py:645: ConvergenceWarning: Objective did not converge. You might want to increase the number of iterations, check the scale of the features or consider increasing regularisation. Duality gap: 7.672e+06, tolerance: 1.144e+05\n",
      "  model = cd_fast.enet_coordinate_descent(\n",
      "/home/finn/miniconda3/envs/reed/lib/python3.9/site-packages/sklearn/linear_model/_coordinate_descent.py:645: ConvergenceWarning: Objective did not converge. You might want to increase the number of iterations, check the scale of the features or consider increasing regularisation. Duality gap: 3.001e+06, tolerance: 1.144e+05\n",
      "  model = cd_fast.enet_coordinate_descent(\n",
      "/home/finn/miniconda3/envs/reed/lib/python3.9/site-packages/sklearn/linear_model/_coordinate_descent.py:645: ConvergenceWarning: Objective did not converge. You might want to increase the number of iterations, check the scale of the features or consider increasing regularisation. Duality gap: 1.040e+06, tolerance: 1.144e+05\n",
      "  model = cd_fast.enet_coordinate_descent(\n",
      "/home/finn/miniconda3/envs/reed/lib/python3.9/site-packages/sklearn/linear_model/_coordinate_descent.py:645: ConvergenceWarning: Objective did not converge. You might want to increase the number of iterations, check the scale of the features or consider increasing regularisation. Duality gap: 3.005e+05, tolerance: 1.144e+05\n",
      "  model = cd_fast.enet_coordinate_descent(\n"
     ]
    },
    {
     "name": "stdout",
     "output_type": "stream",
     "text": [
      "Fitting 5 folds for each of 30 candidates, totalling 150 fits\n"
     ]
    },
    {
     "name": "stderr",
     "output_type": "stream",
     "text": [
      "/home/finn/miniconda3/envs/reed/lib/python3.9/site-packages/sklearn/linear_model/_coordinate_descent.py:645: ConvergenceWarning: Objective did not converge. You might want to increase the number of iterations, check the scale of the features or consider increasing regularisation. Duality gap: 2.153e+07, tolerance: 1.129e+05\n",
      "  model = cd_fast.enet_coordinate_descent(\n",
      "/home/finn/miniconda3/envs/reed/lib/python3.9/site-packages/sklearn/linear_model/_coordinate_descent.py:645: ConvergenceWarning: Objective did not converge. You might want to increase the number of iterations, check the scale of the features or consider increasing regularisation. Duality gap: 4.774e+07, tolerance: 1.129e+05\n",
      "  model = cd_fast.enet_coordinate_descent(\n",
      "/home/finn/miniconda3/envs/reed/lib/python3.9/site-packages/sklearn/linear_model/_coordinate_descent.py:645: ConvergenceWarning: Objective did not converge. You might want to increase the number of iterations, check the scale of the features or consider increasing regularisation. Duality gap: 8.665e+05, tolerance: 1.129e+05\n",
      "  model = cd_fast.enet_coordinate_descent(\n",
      "/home/finn/miniconda3/envs/reed/lib/python3.9/site-packages/sklearn/linear_model/_coordinate_descent.py:645: ConvergenceWarning: Objective did not converge. You might want to increase the number of iterations, check the scale of the features or consider increasing regularisation. Duality gap: 7.238e+06, tolerance: 1.129e+05\n",
      "  model = cd_fast.enet_coordinate_descent(\n",
      "/home/finn/miniconda3/envs/reed/lib/python3.9/site-packages/sklearn/linear_model/_coordinate_descent.py:645: ConvergenceWarning: Objective did not converge. You might want to increase the number of iterations, check the scale of the features or consider increasing regularisation. Duality gap: 1.042e+06, tolerance: 1.129e+05\n",
      "  model = cd_fast.enet_coordinate_descent(\n",
      "/home/finn/miniconda3/envs/reed/lib/python3.9/site-packages/sklearn/linear_model/_coordinate_descent.py:645: ConvergenceWarning: Objective did not converge. You might want to increase the number of iterations, check the scale of the features or consider increasing regularisation. Duality gap: 1.790e+05, tolerance: 1.129e+05\n",
      "  model = cd_fast.enet_coordinate_descent(\n"
     ]
    },
    {
     "name": "stdout",
     "output_type": "stream",
     "text": [
      "Fitting 5 folds for each of 30 candidates, totalling 150 fits\n",
      "Fitting 5 folds for each of 30 candidates, totalling 150 fits\n"
     ]
    },
    {
     "name": "stderr",
     "output_type": "stream",
     "text": [
      "/home/finn/miniconda3/envs/reed/lib/python3.9/site-packages/sklearn/linear_model/_coordinate_descent.py:645: ConvergenceWarning: Objective did not converge. You might want to increase the number of iterations, check the scale of the features or consider increasing regularisation. Duality gap: 3.124e+05, tolerance: 1.090e+05\n",
      "  model = cd_fast.enet_coordinate_descent(\n",
      "/home/finn/miniconda3/envs/reed/lib/python3.9/site-packages/sklearn/linear_model/_coordinate_descent.py:645: ConvergenceWarning: Objective did not converge. You might want to increase the number of iterations, check the scale of the features or consider increasing regularisation. Duality gap: 1.124e+05, tolerance: 1.090e+05\n",
      "  model = cd_fast.enet_coordinate_descent(\n"
     ]
    },
    {
     "name": "stdout",
     "output_type": "stream",
     "text": [
      "Fitting 5 folds for each of 30 candidates, totalling 150 fits\n"
     ]
    },
    {
     "name": "stderr",
     "output_type": "stream",
     "text": [
      "/home/finn/miniconda3/envs/reed/lib/python3.9/site-packages/sklearn/linear_model/_coordinate_descent.py:645: ConvergenceWarning: Objective did not converge. You might want to increase the number of iterations, check the scale of the features or consider increasing regularisation. Duality gap: 2.565e+07, tolerance: 1.142e+05\n",
      "  model = cd_fast.enet_coordinate_descent(\n",
      "/home/finn/miniconda3/envs/reed/lib/python3.9/site-packages/sklearn/linear_model/_coordinate_descent.py:645: ConvergenceWarning: Objective did not converge. You might want to increase the number of iterations, check the scale of the features or consider increasing regularisation. Duality gap: 3.672e+06, tolerance: 1.142e+05\n",
      "  model = cd_fast.enet_coordinate_descent(\n",
      "/home/finn/miniconda3/envs/reed/lib/python3.9/site-packages/sklearn/linear_model/_coordinate_descent.py:645: ConvergenceWarning: Objective did not converge. You might want to increase the number of iterations, check the scale of the features or consider increasing regularisation. Duality gap: 1.069e+07, tolerance: 1.142e+05\n",
      "  model = cd_fast.enet_coordinate_descent(\n",
      "/home/finn/miniconda3/envs/reed/lib/python3.9/site-packages/sklearn/linear_model/_coordinate_descent.py:645: ConvergenceWarning: Objective did not converge. You might want to increase the number of iterations, check the scale of the features or consider increasing regularisation. Duality gap: 1.352e+05, tolerance: 1.142e+05\n",
      "  model = cd_fast.enet_coordinate_descent(\n",
      "/home/finn/miniconda3/envs/reed/lib/python3.9/site-packages/sklearn/linear_model/_coordinate_descent.py:645: ConvergenceWarning: Objective did not converge. You might want to increase the number of iterations, check the scale of the features or consider increasing regularisation. Duality gap: 9.487e+05, tolerance: 1.142e+05\n",
      "  model = cd_fast.enet_coordinate_descent(\n"
     ]
    },
    {
     "name": "stdout",
     "output_type": "stream",
     "text": [
      "Fitting 5 folds for each of 30 candidates, totalling 150 fits\n"
     ]
    },
    {
     "name": "stderr",
     "output_type": "stream",
     "text": [
      "/home/finn/miniconda3/envs/reed/lib/python3.9/site-packages/sklearn/linear_model/_coordinate_descent.py:645: ConvergenceWarning: Objective did not converge. You might want to increase the number of iterations, check the scale of the features or consider increasing regularisation. Duality gap: 1.601e+07, tolerance: 1.184e+05\n",
      "  model = cd_fast.enet_coordinate_descent(\n",
      "/home/finn/miniconda3/envs/reed/lib/python3.9/site-packages/sklearn/linear_model/_coordinate_descent.py:645: ConvergenceWarning: Objective did not converge. You might want to increase the number of iterations, check the scale of the features or consider increasing regularisation. Duality gap: 7.078e+06, tolerance: 1.184e+05\n",
      "  model = cd_fast.enet_coordinate_descent(\n",
      "/home/finn/miniconda3/envs/reed/lib/python3.9/site-packages/sklearn/linear_model/_coordinate_descent.py:645: ConvergenceWarning: Objective did not converge. You might want to increase the number of iterations, check the scale of the features or consider increasing regularisation. Duality gap: 2.892e+06, tolerance: 1.184e+05\n",
      "  model = cd_fast.enet_coordinate_descent(\n",
      "/home/finn/miniconda3/envs/reed/lib/python3.9/site-packages/sklearn/linear_model/_coordinate_descent.py:645: ConvergenceWarning: Objective did not converge. You might want to increase the number of iterations, check the scale of the features or consider increasing regularisation. Duality gap: 1.089e+06, tolerance: 1.184e+05\n",
      "  model = cd_fast.enet_coordinate_descent(\n",
      "/home/finn/miniconda3/envs/reed/lib/python3.9/site-packages/sklearn/linear_model/_coordinate_descent.py:645: ConvergenceWarning: Objective did not converge. You might want to increase the number of iterations, check the scale of the features or consider increasing regularisation. Duality gap: 3.673e+05, tolerance: 1.184e+05\n",
      "  model = cd_fast.enet_coordinate_descent(\n"
     ]
    },
    {
     "name": "stdout",
     "output_type": "stream",
     "text": [
      "Fitting 5 folds for each of 30 candidates, totalling 150 fits\n",
      "Fitting 5 folds for each of 30 candidates, totalling 150 fits\n"
     ]
    },
    {
     "name": "stderr",
     "output_type": "stream",
     "text": [
      "/home/finn/miniconda3/envs/reed/lib/python3.9/site-packages/sklearn/linear_model/_coordinate_descent.py:645: ConvergenceWarning: Objective did not converge. You might want to increase the number of iterations, check the scale of the features or consider increasing regularisation. Duality gap: 4.142e+05, tolerance: 1.089e+05\n",
      "  model = cd_fast.enet_coordinate_descent(\n"
     ]
    },
    {
     "name": "stdout",
     "output_type": "stream",
     "text": [
      "Fitting 5 folds for each of 30 candidates, totalling 150 fits\n"
     ]
    },
    {
     "name": "stderr",
     "output_type": "stream",
     "text": [
      "/home/finn/miniconda3/envs/reed/lib/python3.9/site-packages/sklearn/linear_model/_coordinate_descent.py:645: ConvergenceWarning: Objective did not converge. You might want to increase the number of iterations, check the scale of the features or consider increasing regularisation. Duality gap: 3.502e+06, tolerance: 1.205e+05\n",
      "  model = cd_fast.enet_coordinate_descent(\n",
      "/home/finn/miniconda3/envs/reed/lib/python3.9/site-packages/sklearn/linear_model/_coordinate_descent.py:645: ConvergenceWarning: Objective did not converge. You might want to increase the number of iterations, check the scale of the features or consider increasing regularisation. Duality gap: 9.861e+06, tolerance: 1.205e+05\n",
      "  model = cd_fast.enet_coordinate_descent(\n",
      "/home/finn/miniconda3/envs/reed/lib/python3.9/site-packages/sklearn/linear_model/_coordinate_descent.py:645: ConvergenceWarning: Objective did not converge. You might want to increase the number of iterations, check the scale of the features or consider increasing regularisation. Duality gap: 2.345e+07, tolerance: 1.205e+05\n",
      "  model = cd_fast.enet_coordinate_descent(\n",
      "/home/finn/miniconda3/envs/reed/lib/python3.9/site-packages/sklearn/linear_model/_coordinate_descent.py:645: ConvergenceWarning: Objective did not converge. You might want to increase the number of iterations, check the scale of the features or consider increasing regularisation. Duality gap: 1.686e+05, tolerance: 1.205e+05\n",
      "  model = cd_fast.enet_coordinate_descent(\n",
      "/home/finn/miniconda3/envs/reed/lib/python3.9/site-packages/sklearn/linear_model/_coordinate_descent.py:645: ConvergenceWarning: Objective did not converge. You might want to increase the number of iterations, check the scale of the features or consider increasing regularisation. Duality gap: 9.788e+05, tolerance: 1.205e+05\n",
      "  model = cd_fast.enet_coordinate_descent(\n"
     ]
    },
    {
     "name": "stdout",
     "output_type": "stream",
     "text": [
      "Fitting 5 folds for each of 30 candidates, totalling 150 fits\n",
      "Fitting 5 folds for each of 30 candidates, totalling 150 fits\n"
     ]
    },
    {
     "name": "stderr",
     "output_type": "stream",
     "text": [
      "/home/finn/miniconda3/envs/reed/lib/python3.9/site-packages/sklearn/linear_model/_coordinate_descent.py:645: ConvergenceWarning: Objective did not converge. You might want to increase the number of iterations, check the scale of the features or consider increasing regularisation. Duality gap: 8.746e+05, tolerance: 1.181e+05\n",
      "  model = cd_fast.enet_coordinate_descent(\n",
      "/home/finn/miniconda3/envs/reed/lib/python3.9/site-packages/sklearn/linear_model/_coordinate_descent.py:645: ConvergenceWarning: Objective did not converge. You might want to increase the number of iterations, check the scale of the features or consider increasing regularisation. Duality gap: 3.148e+05, tolerance: 1.181e+05\n",
      "  model = cd_fast.enet_coordinate_descent(\n"
     ]
    },
    {
     "name": "stdout",
     "output_type": "stream",
     "text": [
      "Done\n",
      "Fitting gbr ...Fitting 5 folds for each of 500 candidates, totalling 2500 fits\n",
      "Fitting 5 folds for each of 500 candidates, totalling 2500 fits\n",
      "Fitting 5 folds for each of 500 candidates, totalling 2500 fits\n",
      "Fitting 5 folds for each of 500 candidates, totalling 2500 fits\n",
      "Fitting 5 folds for each of 500 candidates, totalling 2500 fits\n",
      "Fitting 5 folds for each of 500 candidates, totalling 2500 fits\n",
      "Fitting 5 folds for each of 500 candidates, totalling 2500 fits\n",
      "Fitting 5 folds for each of 500 candidates, totalling 2500 fits\n",
      "Fitting 5 folds for each of 500 candidates, totalling 2500 fits\n",
      "Fitting 5 folds for each of 500 candidates, totalling 2500 fits\n",
      "Fitting 5 folds for each of 500 candidates, totalling 2500 fits\n",
      "Fitting 5 folds for each of 500 candidates, totalling 2500 fits\n",
      "Fitting 5 folds for each of 500 candidates, totalling 2500 fits\n",
      "Fitting 5 folds for each of 500 candidates, totalling 2500 fits\n",
      "Fitting 5 folds for each of 500 candidates, totalling 2500 fits\n",
      "Fitting 5 folds for each of 500 candidates, totalling 2500 fits\n",
      "Fitting 5 folds for each of 500 candidates, totalling 2500 fits\n",
      "Fitting 5 folds for each of 500 candidates, totalling 2500 fits\n",
      "Fitting 5 folds for each of 500 candidates, totalling 2500 fits\n",
      "Fitting 5 folds for each of 500 candidates, totalling 2500 fits\n",
      "Fitting 5 folds for each of 500 candidates, totalling 2500 fits\n",
      "Fitting 5 folds for each of 500 candidates, totalling 2500 fits\n",
      "Fitting 5 folds for each of 500 candidates, totalling 2500 fits\n",
      "Fitting 5 folds for each of 500 candidates, totalling 2500 fits\n",
      "Fitting 5 folds for each of 500 candidates, totalling 2500 fits\n",
      "Fitting 5 folds for each of 500 candidates, totalling 2500 fits\n",
      "Fitting 5 folds for each of 500 candidates, totalling 2500 fits\n",
      "Fitting 5 folds for each of 500 candidates, totalling 2500 fits\n",
      "Fitting 5 folds for each of 500 candidates, totalling 2500 fits\n",
      "Fitting 5 folds for each of 500 candidates, totalling 2500 fits\n",
      "Fitting 5 folds for each of 500 candidates, totalling 2500 fits\n",
      "Fitting 5 folds for each of 500 candidates, totalling 2500 fits\n",
      "Fitting 5 folds for each of 500 candidates, totalling 2500 fits\n",
      "Fitting 5 folds for each of 500 candidates, totalling 2500 fits\n",
      "Fitting 5 folds for each of 500 candidates, totalling 2500 fits\n",
      "Fitting 5 folds for each of 500 candidates, totalling 2500 fits\n",
      "Fitting 5 folds for each of 500 candidates, totalling 2500 fits\n",
      "Fitting 5 folds for each of 500 candidates, totalling 2500 fits\n",
      "Fitting 5 folds for each of 500 candidates, totalling 2500 fits\n",
      "Fitting 5 folds for each of 500 candidates, totalling 2500 fits\n",
      "Fitting 5 folds for each of 500 candidates, totalling 2500 fits\n",
      "Fitting 5 folds for each of 500 candidates, totalling 2500 fits\n",
      "Fitting 5 folds for each of 500 candidates, totalling 2500 fits\n",
      "Fitting 5 folds for each of 500 candidates, totalling 2500 fits\n",
      "Fitting 5 folds for each of 500 candidates, totalling 2500 fits\n",
      "Fitting 5 folds for each of 500 candidates, totalling 2500 fits\n",
      "Fitting 5 folds for each of 500 candidates, totalling 2500 fits\n",
      "Fitting 5 folds for each of 500 candidates, totalling 2500 fits\n",
      "Fitting 5 folds for each of 500 candidates, totalling 2500 fits\n",
      "Fitting 5 folds for each of 500 candidates, totalling 2500 fits\n",
      "Fitting 5 folds for each of 500 candidates, totalling 2500 fits\n",
      "Fitting 5 folds for each of 500 candidates, totalling 2500 fits\n",
      "Fitting 5 folds for each of 500 candidates, totalling 2500 fits\n",
      "Fitting 5 folds for each of 500 candidates, totalling 2500 fits\n",
      "Fitting 5 folds for each of 500 candidates, totalling 2500 fits\n",
      "Fitting 5 folds for each of 500 candidates, totalling 2500 fits\n",
      "Fitting 5 folds for each of 500 candidates, totalling 2500 fits\n",
      "Fitting 5 folds for each of 500 candidates, totalling 2500 fits\n",
      "Fitting 5 folds for each of 500 candidates, totalling 2500 fits\n",
      "Fitting 5 folds for each of 500 candidates, totalling 2500 fits\n",
      "Fitting 5 folds for each of 500 candidates, totalling 2500 fits\n",
      "Fitting 5 folds for each of 500 candidates, totalling 2500 fits\n",
      "Fitting 5 folds for each of 500 candidates, totalling 2500 fits\n",
      "Fitting 5 folds for each of 500 candidates, totalling 2500 fits\n",
      "Fitting 5 folds for each of 500 candidates, totalling 2500 fits\n",
      "Fitting 5 folds for each of 500 candidates, totalling 2500 fits\n",
      "Fitting 5 folds for each of 500 candidates, totalling 2500 fits\n",
      "Fitting 5 folds for each of 500 candidates, totalling 2500 fits\n",
      "Fitting 5 folds for each of 500 candidates, totalling 2500 fits\n",
      "Fitting 5 folds for each of 500 candidates, totalling 2500 fits\n",
      "Fitting 5 folds for each of 500 candidates, totalling 2500 fits\n",
      "Fitting 5 folds for each of 500 candidates, totalling 2500 fits\n",
      "Fitting 5 folds for each of 500 candidates, totalling 2500 fits\n",
      "Fitting 5 folds for each of 500 candidates, totalling 2500 fits\n",
      "Fitting 5 folds for each of 500 candidates, totalling 2500 fits\n",
      "Fitting 5 folds for each of 500 candidates, totalling 2500 fits\n",
      "Fitting 5 folds for each of 500 candidates, totalling 2500 fits\n",
      "Fitting 5 folds for each of 500 candidates, totalling 2500 fits\n",
      "Fitting 5 folds for each of 500 candidates, totalling 2500 fits\n",
      "Fitting 5 folds for each of 500 candidates, totalling 2500 fits\n",
      "Fitting 5 folds for each of 500 candidates, totalling 2500 fits\n",
      "Fitting 5 folds for each of 500 candidates, totalling 2500 fits\n",
      "Fitting 5 folds for each of 500 candidates, totalling 2500 fits\n",
      "Fitting 5 folds for each of 500 candidates, totalling 2500 fits\n",
      "Fitting 5 folds for each of 500 candidates, totalling 2500 fits\n",
      "Fitting 5 folds for each of 500 candidates, totalling 2500 fits\n",
      "Fitting 5 folds for each of 500 candidates, totalling 2500 fits\n",
      "Fitting 5 folds for each of 500 candidates, totalling 2500 fits\n",
      "Fitting 5 folds for each of 500 candidates, totalling 2500 fits\n",
      "Fitting 5 folds for each of 500 candidates, totalling 2500 fits\n",
      "Fitting 5 folds for each of 500 candidates, totalling 2500 fits\n",
      "Fitting 5 folds for each of 500 candidates, totalling 2500 fits\n",
      "Fitting 5 folds for each of 500 candidates, totalling 2500 fits\n",
      "Fitting 5 folds for each of 500 candidates, totalling 2500 fits\n",
      "Fitting 5 folds for each of 500 candidates, totalling 2500 fits\n",
      "Fitting 5 folds for each of 500 candidates, totalling 2500 fits\n",
      "Fitting 5 folds for each of 500 candidates, totalling 2500 fits\n",
      "Fitting 5 folds for each of 500 candidates, totalling 2500 fits\n",
      "Fitting 5 folds for each of 500 candidates, totalling 2500 fits\n",
      "Fitting 5 folds for each of 500 candidates, totalling 2500 fits\n",
      "Done\n",
      "Caching results to data/cross-val-all-lasso.pkl\n"
     ]
    }
   ],
   "source": [
    "from direct_regression import nested_cross_val\n",
    "models0, models1, results = nested_cross_val(\n",
    "    construct_models,\n",
    "    cross_val_cache,\n",
    "    X0, X1, y0, y1,\n",
    "    optimisation_metric,\n",
    "    evaluation_metrics,\n",
    "    innercv=5,\n",
    "    outercv=50,\n",
    "    load_from_cache=False\n",
    ")"
   ]
  },
  {
   "cell_type": "markdown",
   "id": "20",
   "metadata": {},
   "source": [
    "### Report estimate ATE and model performance\n",
    "\n",
    "  - Mean and Std of prediction performance for each model (both treatment & control surface)\n",
    "  - Mean and Std of average treatment effect for each model"
   ]
  },
  {
   "cell_type": "code",
   "execution_count": 41,
   "id": "21",
   "metadata": {
    "scrolled": true
   },
   "outputs": [
    {
     "data": {
      "text/html": [
       "<div>\n",
       "<style scoped>\n",
       "    .dataframe tbody tr th:only-of-type {\n",
       "        vertical-align: middle;\n",
       "    }\n",
       "\n",
       "    .dataframe tbody tr th {\n",
       "        vertical-align: top;\n",
       "    }\n",
       "\n",
       "    .dataframe thead th {\n",
       "        text-align: right;\n",
       "    }\n",
       "</style>\n",
       "<table border=\"1\" class=\"dataframe\">\n",
       "  <thead>\n",
       "    <tr style=\"text-align: right;\">\n",
       "      <th></th>\n",
       "      <th>ACE</th>\n",
       "      <th>ACE_std</th>\n",
       "      <th>control_r2</th>\n",
       "      <th>control_r2_std</th>\n",
       "      <th>treated_r2</th>\n",
       "      <th>treated_r2_std</th>\n",
       "      <th>control_neg_mean_squared_error</th>\n",
       "      <th>control_neg_mean_squared_error_std</th>\n",
       "      <th>treated_neg_mean_squared_error</th>\n",
       "      <th>treated_neg_mean_squared_error_std</th>\n",
       "    </tr>\n",
       "  </thead>\n",
       "  <tbody>\n",
       "    <tr>\n",
       "      <th>ridge</th>\n",
       "      <td>0.65</td>\n",
       "      <td>9.19</td>\n",
       "      <td>0.19</td>\n",
       "      <td>0.15</td>\n",
       "      <td>0.14</td>\n",
       "      <td>0.20</td>\n",
       "      <td>-707,445.45</td>\n",
       "      <td>569,456.91</td>\n",
       "      <td>-909,290.69</td>\n",
       "      <td>738,371.16</td>\n",
       "    </tr>\n",
       "    <tr>\n",
       "      <th>lasso</th>\n",
       "      <td>-6.30</td>\n",
       "      <td>7.62</td>\n",
       "      <td>0.21</td>\n",
       "      <td>0.14</td>\n",
       "      <td>0.21</td>\n",
       "      <td>0.16</td>\n",
       "      <td>-699,045.26</td>\n",
       "      <td>529,274.32</td>\n",
       "      <td>-855,178.45</td>\n",
       "      <td>734,534.04</td>\n",
       "    </tr>\n",
       "    <tr>\n",
       "      <th>gbr</th>\n",
       "      <td>45.25</td>\n",
       "      <td>12.91</td>\n",
       "      <td>0.30</td>\n",
       "      <td>0.15</td>\n",
       "      <td>0.18</td>\n",
       "      <td>0.16</td>\n",
       "      <td>-626,538.58</td>\n",
       "      <td>488,197.55</td>\n",
       "      <td>-899,111.91</td>\n",
       "      <td>876,204.65</td>\n",
       "    </tr>\n",
       "  </tbody>\n",
       "</table>\n",
       "</div>"
      ],
      "text/plain": [
       "        ACE  ACE_std  control_r2  control_r2_std  treated_r2  treated_r2_std  \\\n",
       "ridge  0.65     9.19        0.19            0.15        0.14            0.20   \n",
       "lasso -6.30     7.62        0.21            0.14        0.21            0.16   \n",
       "gbr   45.25    12.91        0.30            0.15        0.18            0.16   \n",
       "\n",
       "       control_neg_mean_squared_error  control_neg_mean_squared_error_std  \\\n",
       "ridge                     -707,445.45                          569,456.91   \n",
       "lasso                     -699,045.26                          529,274.32   \n",
       "gbr                       -626,538.58                          488,197.55   \n",
       "\n",
       "       treated_neg_mean_squared_error  treated_neg_mean_squared_error_std  \n",
       "ridge                     -909,290.69                          738,371.16  \n",
       "lasso                     -855,178.45                          734,534.04  \n",
       "gbr                       -899,111.91                          876,204.65  "
      ]
     },
     "metadata": {},
     "output_type": "display_data"
    },
    {
     "data": {
      "image/png": "[encoded data removed]",
      "text/plain": [
       "<Figure size 1080x360 with 2 Axes>"
      ]
     },
     "metadata": {
      "needs_background": "light"
     },
     "output_type": "display_data"
    }
   ],
   "source": [
    "from direct_regression import visualise_ate\n",
    "metrics, ate_vals = visualise_ate(results,X,evaluation_metrics);"
   ]
  },
  {
   "cell_type": "code",
   "execution_count": 42,
   "id": "22",
   "metadata": {},
   "outputs": [
    {
     "data": {
      "image/png": "[encoded data removed]",
      "text/plain": [
       "<Figure size 1080x360 with 3 Axes>"
      ]
     },
     "metadata": {
      "needs_background": "light"
     },
     "output_type": "display_data"
    }
   ],
   "source": [
    "from direct_regression import plot_ate_distribution\n",
    "plot_ate_distribution(ate_vals)"
   ]
  },
  {
   "cell_type": "code",
   "execution_count": 43,
   "id": "23",
   "metadata": {},
   "outputs": [
    {
     "data": {
      "image/png": "[encoded data removed]",
      "text/plain": [
       "<Figure size 360x288 with 1 Axes>"
      ]
     },
     "metadata": {
      "needs_background": "light"
     },
     "output_type": "display_data"
    },
    {
     "data": {
      "image/png": "[encoded data removed]",
      "text/plain": [
       "<Figure size 360x288 with 1 Axes>"
      ]
     },
     "metadata": {
      "needs_background": "light"
     },
     "output_type": "display_data"
    },
    {
     "data": {
      "image/png": "[encoded data removed]",
      "text/plain": [
       "<Figure size 360x288 with 1 Axes>"
      ]
     },
     "metadata": {
      "needs_background": "light"
     },
     "output_type": "display_data"
    },
    {
     "data": {
      "image/png": "[encoded data removed]",
      "text/plain": [
       "<Figure size 360x288 with 1 Axes>"
      ]
     },
     "metadata": {
      "needs_background": "light"
     },
     "output_type": "display_data"
    },
    {
     "data": {
      "image/png": "[encoded data removed]",
      "text/plain": [
       "<Figure size 1080x288 with 3 Axes>"
      ]
     },
     "metadata": {
      "needs_background": "light"
     },
     "output_type": "display_data"
    },
    {
     "data": {
      "image/png": "[encoded data removed]",
      "text/plain": [
       "<Figure size 1080x288 with 3 Axes>"
      ]
     },
     "metadata": {
      "needs_background": "light"
     },
     "output_type": "display_data"
    }
   ],
   "source": [
    "from direct_regression import plot_hyperparam_distributions\n",
    "for model, (results0, results1) in results.items():\n",
    "    plot_hyperparam_distributions(results0,f\"{model}-control\")\n",
    "    plot_hyperparam_distributions(results1,f\"{model}-treated\")"
   ]
  },
  {
   "cell_type": "markdown",
   "id": "24",
   "metadata": {},
   "source": [
    "### Visualise models\n",
    "- Features responsible for treatment effect heterogeneity & functional form (with uncertainty)\n",
    "      - coefficeints for linear models\n",
    "      - TODO permutation importance & partial dependence curves for non-linear models"
   ]
  },
  {
   "cell_type": "code",
   "execution_count": 44,
   "id": "25",
   "metadata": {
    "tags": [
     "hide_input"
    ]
   },
   "outputs": [
    {
     "name": "stdout",
     "output_type": "stream",
     "text": [
      "ridge\n"
     ]
    },
    {
     "data": {
      "text/html": [
       "<div>\n",
       "<style scoped>\n",
       "    .dataframe tbody tr th:only-of-type {\n",
       "        vertical-align: middle;\n",
       "    }\n",
       "\n",
       "    .dataframe tbody tr th {\n",
       "        vertical-align: top;\n",
       "    }\n",
       "\n",
       "    .dataframe thead th {\n",
       "        text-align: right;\n",
       "    }\n",
       "</style>\n",
       "<table border=\"1\" class=\"dataframe\">\n",
       "  <thead>\n",
       "    <tr style=\"text-align: right;\">\n",
       "      <th></th>\n",
       "      <th>importance_mean</th>\n",
       "      <th>importance_std</th>\n",
       "      <th>Δcoef_mean</th>\n",
       "      <th>Δcoef_std</th>\n",
       "      <th>coef_treat_mean</th>\n",
       "      <th>coef_treat_std</th>\n",
       "      <th>coef_cntr_mean</th>\n",
       "      <th>coef_cntr_std</th>\n",
       "    </tr>\n",
       "    <tr>\n",
       "      <th>feature</th>\n",
       "      <th></th>\n",
       "      <th></th>\n",
       "      <th></th>\n",
       "      <th></th>\n",
       "      <th></th>\n",
       "      <th></th>\n",
       "      <th></th>\n",
       "      <th></th>\n",
       "    </tr>\n",
       "  </thead>\n",
       "  <tbody>\n",
       "    <tr>\n",
       "      <th>awsce</th>\n",
       "      <td>256.283168</td>\n",
       "      <td>22.015237</td>\n",
       "      <td>-17.660324</td>\n",
       "      <td>43.706443</td>\n",
       "      <td>-265.113330</td>\n",
       "      <td>39.365914</td>\n",
       "      <td>-247.453006</td>\n",
       "      <td>19.359565</td>\n",
       "    </tr>\n",
       "    <tr>\n",
       "      <th>ahgage</th>\n",
       "      <td>235.488948</td>\n",
       "      <td>20.040497</td>\n",
       "      <td>57.241246</td>\n",
       "      <td>40.117535</td>\n",
       "      <td>-206.868324</td>\n",
       "      <td>34.803156</td>\n",
       "      <td>-264.109571</td>\n",
       "      <td>19.917121</td>\n",
       "    </tr>\n",
       "    <tr>\n",
       "      <th>ahhold</th>\n",
       "      <td>103.352500</td>\n",
       "      <td>3.721226</td>\n",
       "      <td>37.325430</td>\n",
       "      <td>9.088323</td>\n",
       "      <td>-84.689785</td>\n",
       "      <td>7.389906</td>\n",
       "      <td>-122.015215</td>\n",
       "      <td>3.792512</td>\n",
       "    </tr>\n",
       "    <tr>\n",
       "      <th>arcage1</th>\n",
       "      <td>69.747201</td>\n",
       "      <td>2.659689</td>\n",
       "      <td>-37.014000</td>\n",
       "      <td>5.373134</td>\n",
       "      <td>-88.254201</td>\n",
       "      <td>4.533845</td>\n",
       "      <td>-51.240201</td>\n",
       "      <td>2.833271</td>\n",
       "    </tr>\n",
       "    <tr>\n",
       "      <th>ahiwsfei</th>\n",
       "      <td>57.962791</td>\n",
       "      <td>11.677705</td>\n",
       "      <td>112.467390</td>\n",
       "      <td>23.923827</td>\n",
       "      <td>111.390902</td>\n",
       "      <td>23.095763</td>\n",
       "      <td>-1.076489</td>\n",
       "      <td>6.979520</td>\n",
       "    </tr>\n",
       "    <tr>\n",
       "      <th>amrpyr</th>\n",
       "      <td>56.520668</td>\n",
       "      <td>3.385985</td>\n",
       "      <td>61.835985</td>\n",
       "      <td>7.940626</td>\n",
       "      <td>87.438660</td>\n",
       "      <td>5.942132</td>\n",
       "      <td>25.602675</td>\n",
       "      <td>4.375800</td>\n",
       "    </tr>\n",
       "    <tr>\n",
       "      <th>ahgsex</th>\n",
       "      <td>50.208929</td>\n",
       "      <td>7.347077</td>\n",
       "      <td>-15.059989</td>\n",
       "      <td>13.631424</td>\n",
       "      <td>-57.738924</td>\n",
       "      <td>13.400839</td>\n",
       "      <td>-42.678935</td>\n",
       "      <td>4.613508</td>\n",
       "    </tr>\n",
       "    <tr>\n",
       "      <th>atxdic</th>\n",
       "      <td>48.887962</td>\n",
       "      <td>10.524833</td>\n",
       "      <td>-96.737731</td>\n",
       "      <td>20.764426</td>\n",
       "      <td>-96.530789</td>\n",
       "      <td>20.620320</td>\n",
       "      <td>0.206942</td>\n",
       "      <td>2.042512</td>\n",
       "    </tr>\n",
       "    <tr>\n",
       "      <th>atifprip</th>\n",
       "      <td>46.610776</td>\n",
       "      <td>5.197670</td>\n",
       "      <td>-93.221552</td>\n",
       "      <td>10.395340</td>\n",
       "      <td>-51.811877</td>\n",
       "      <td>5.952013</td>\n",
       "      <td>41.409675</td>\n",
       "      <td>7.828453</td>\n",
       "    </tr>\n",
       "    <tr>\n",
       "      <th>achu_ps</th>\n",
       "      <td>43.413722</td>\n",
       "      <td>4.008597</td>\n",
       "      <td>-86.827443</td>\n",
       "      <td>8.017194</td>\n",
       "      <td>-19.742581</td>\n",
       "      <td>3.625819</td>\n",
       "      <td>67.084862</td>\n",
       "      <td>7.040115</td>\n",
       "    </tr>\n",
       "    <tr>\n",
       "      <th>awsfe</th>\n",
       "      <td>42.155138</td>\n",
       "      <td>7.115245</td>\n",
       "      <td>-84.065960</td>\n",
       "      <td>15.229785</td>\n",
       "      <td>-60.206039</td>\n",
       "      <td>13.931341</td>\n",
       "      <td>23.859921</td>\n",
       "      <td>7.665567</td>\n",
       "    </tr>\n",
       "    <tr>\n",
       "      <th>alssmoke</th>\n",
       "      <td>41.570191</td>\n",
       "      <td>2.753877</td>\n",
       "      <td>6.218830</td>\n",
       "      <td>4.845381</td>\n",
       "      <td>-38.460776</td>\n",
       "      <td>4.300597</td>\n",
       "      <td>-44.679606</td>\n",
       "      <td>2.900241</td>\n",
       "    </tr>\n",
       "    <tr>\n",
       "      <th>aicage1</th>\n",
       "      <td>40.885765</td>\n",
       "      <td>4.582571</td>\n",
       "      <td>-81.104535</td>\n",
       "      <td>10.091227</td>\n",
       "      <td>-12.023165</td>\n",
       "      <td>7.040455</td>\n",
       "      <td>69.081370</td>\n",
       "      <td>7.845287</td>\n",
       "    </tr>\n",
       "    <tr>\n",
       "      <th>awscmga</th>\n",
       "      <td>39.170799</td>\n",
       "      <td>3.824259</td>\n",
       "      <td>15.129417</td>\n",
       "      <td>11.278064</td>\n",
       "      <td>-31.450251</td>\n",
       "      <td>8.592316</td>\n",
       "      <td>-46.579668</td>\n",
       "      <td>5.418862</td>\n",
       "    </tr>\n",
       "    <tr>\n",
       "      <th>ahsrnti</th>\n",
       "      <td>39.093794</td>\n",
       "      <td>2.517773</td>\n",
       "      <td>-21.149866</td>\n",
       "      <td>4.968177</td>\n",
       "      <td>28.518861</td>\n",
       "      <td>4.340862</td>\n",
       "      <td>49.668727</td>\n",
       "      <td>2.485291</td>\n",
       "    </tr>\n",
       "    <tr>\n",
       "      <th>ahicapi</th>\n",
       "      <td>38.657321</td>\n",
       "      <td>3.820139</td>\n",
       "      <td>-77.314641</td>\n",
       "      <td>7.640278</td>\n",
       "      <td>-34.859640</td>\n",
       "      <td>6.528784</td>\n",
       "      <td>42.455001</td>\n",
       "      <td>4.773351</td>\n",
       "    </tr>\n",
       "    <tr>\n",
       "      <th>ahsdebt</th>\n",
       "      <td>37.407631</td>\n",
       "      <td>3.283991</td>\n",
       "      <td>-43.866700</td>\n",
       "      <td>7.354696</td>\n",
       "      <td>15.474281</td>\n",
       "      <td>4.847748</td>\n",
       "      <td>59.340981</td>\n",
       "      <td>5.011417</td>\n",
       "    </tr>\n",
       "    <tr>\n",
       "      <th>ahglth</th>\n",
       "      <td>36.233798</td>\n",
       "      <td>2.007737</td>\n",
       "      <td>0.776444</td>\n",
       "      <td>4.456447</td>\n",
       "      <td>36.622020</td>\n",
       "      <td>3.939554</td>\n",
       "      <td>35.845576</td>\n",
       "      <td>1.572225</td>\n",
       "    </tr>\n",
       "    <tr>\n",
       "      <th>ahibiff</th>\n",
       "      <td>35.303010</td>\n",
       "      <td>3.058693</td>\n",
       "      <td>11.480583</td>\n",
       "      <td>6.063332</td>\n",
       "      <td>-29.562718</td>\n",
       "      <td>4.564325</td>\n",
       "      <td>-41.043301</td>\n",
       "      <td>4.032387</td>\n",
       "    </tr>\n",
       "    <tr>\n",
       "      <th>ahifditp</th>\n",
       "      <td>35.146944</td>\n",
       "      <td>6.722007</td>\n",
       "      <td>66.535656</td>\n",
       "      <td>16.436022</td>\n",
       "      <td>11.776932</td>\n",
       "      <td>14.223588</td>\n",
       "      <td>-54.758724</td>\n",
       "      <td>8.406600</td>\n",
       "    </tr>\n",
       "  </tbody>\n",
       "</table>\n",
       "</div>"
      ],
      "text/plain": [
       "          importance_mean  importance_std  Δcoef_mean  Δcoef_std  \\\n",
       "feature                                                            \n",
       "awsce          256.283168       22.015237  -17.660324  43.706443   \n",
       "ahgage         235.488948       20.040497   57.241246  40.117535   \n",
       "ahhold         103.352500        3.721226   37.325430   9.088323   \n",
       "arcage1         69.747201        2.659689  -37.014000   5.373134   \n",
       "ahiwsfei        57.962791       11.677705  112.467390  23.923827   \n",
       "amrpyr          56.520668        3.385985   61.835985   7.940626   \n",
       "ahgsex          50.208929        7.347077  -15.059989  13.631424   \n",
       "atxdic          48.887962       10.524833  -96.737731  20.764426   \n",
       "atifprip        46.610776        5.197670  -93.221552  10.395340   \n",
       "achu_ps         43.413722        4.008597  -86.827443   8.017194   \n",
       "awsfe           42.155138        7.115245  -84.065960  15.229785   \n",
       "alssmoke        41.570191        2.753877    6.218830   4.845381   \n",
       "aicage1         40.885765        4.582571  -81.104535  10.091227   \n",
       "awscmga         39.170799        3.824259   15.129417  11.278064   \n",
       "ahsrnti         39.093794        2.517773  -21.149866   4.968177   \n",
       "ahicapi         38.657321        3.820139  -77.314641   7.640278   \n",
       "ahsdebt         37.407631        3.283991  -43.866700   7.354696   \n",
       "ahglth          36.233798        2.007737    0.776444   4.456447   \n",
       "ahibiff         35.303010        3.058693   11.480583   6.063332   \n",
       "ahifditp        35.146944        6.722007   66.535656  16.436022   \n",
       "\n",
       "          coef_treat_mean  coef_treat_std  coef_cntr_mean  coef_cntr_std  \n",
       "feature                                                                   \n",
       "awsce         -265.113330       39.365914     -247.453006      19.359565  \n",
       "ahgage        -206.868324       34.803156     -264.109571      19.917121  \n",
       "ahhold         -84.689785        7.389906     -122.015215       3.792512  \n",
       "arcage1        -88.254201        4.533845      -51.240201       2.833271  \n",
       "ahiwsfei       111.390902       23.095763       -1.076489       6.979520  \n",
       "amrpyr          87.438660        5.942132       25.602675       4.375800  \n",
       "ahgsex         -57.738924       13.400839      -42.678935       4.613508  \n",
       "atxdic         -96.530789       20.620320        0.206942       2.042512  \n",
       "atifprip       -51.811877        5.952013       41.409675       7.828453  \n",
       "achu_ps        -19.742581        3.625819       67.084862       7.040115  \n",
       "awsfe          -60.206039       13.931341       23.859921       7.665567  \n",
       "alssmoke       -38.460776        4.300597      -44.679606       2.900241  \n",
       "aicage1        -12.023165        7.040455       69.081370       7.845287  \n",
       "awscmga        -31.450251        8.592316      -46.579668       5.418862  \n",
       "ahsrnti         28.518861        4.340862       49.668727       2.485291  \n",
       "ahicapi        -34.859640        6.528784       42.455001       4.773351  \n",
       "ahsdebt         15.474281        4.847748       59.340981       5.011417  \n",
       "ahglth          36.622020        3.939554       35.845576       1.572225  \n",
       "ahibiff        -29.562718        4.564325      -41.043301       4.032387  \n",
       "ahifditp        11.776932       14.223588      -54.758724       8.406600  "
      ]
     },
     "metadata": {},
     "output_type": "display_data"
    },
    {
     "name": "stdout",
     "output_type": "stream",
     "text": [
      "lasso\n"
     ]
    },
    {
     "data": {
      "text/html": [
       "<div>\n",
       "<style scoped>\n",
       "    .dataframe tbody tr th:only-of-type {\n",
       "        vertical-align: middle;\n",
       "    }\n",
       "\n",
       "    .dataframe tbody tr th {\n",
       "        vertical-align: top;\n",
       "    }\n",
       "\n",
       "    .dataframe thead th {\n",
       "        text-align: right;\n",
       "    }\n",
       "</style>\n",
       "<table border=\"1\" class=\"dataframe\">\n",
       "  <thead>\n",
       "    <tr style=\"text-align: right;\">\n",
       "      <th></th>\n",
       "      <th>importance_mean</th>\n",
       "      <th>importance_std</th>\n",
       "      <th>Δcoef_mean</th>\n",
       "      <th>Δcoef_std</th>\n",
       "      <th>coef_treat_mean</th>\n",
       "      <th>coef_treat_std</th>\n",
       "      <th>coef_cntr_mean</th>\n",
       "      <th>coef_cntr_std</th>\n",
       "    </tr>\n",
       "    <tr>\n",
       "      <th>feature</th>\n",
       "      <th></th>\n",
       "      <th></th>\n",
       "      <th></th>\n",
       "      <th></th>\n",
       "      <th></th>\n",
       "      <th></th>\n",
       "      <th></th>\n",
       "      <th></th>\n",
       "    </tr>\n",
       "  </thead>\n",
       "  <tbody>\n",
       "    <tr>\n",
       "      <th>ahgage</th>\n",
       "      <td>356.402330</td>\n",
       "      <td>11.402368</td>\n",
       "      <td>3.713894</td>\n",
       "      <td>15.723191</td>\n",
       "      <td>-354.545383</td>\n",
       "      <td>14.316368</td>\n",
       "      <td>-358.259277</td>\n",
       "      <td>13.367085</td>\n",
       "    </tr>\n",
       "    <tr>\n",
       "      <th>awsce</th>\n",
       "      <td>297.143059</td>\n",
       "      <td>15.699644</td>\n",
       "      <td>-59.601933</td>\n",
       "      <td>21.281867</td>\n",
       "      <td>-326.944025</td>\n",
       "      <td>17.453377</td>\n",
       "      <td>-267.342092</td>\n",
       "      <td>20.366546</td>\n",
       "    </tr>\n",
       "    <tr>\n",
       "      <th>arcage1</th>\n",
       "      <td>57.685175</td>\n",
       "      <td>2.933895</td>\n",
       "      <td>-20.861915</td>\n",
       "      <td>4.503302</td>\n",
       "      <td>-68.116133</td>\n",
       "      <td>3.563221</td>\n",
       "      <td>-47.254218</td>\n",
       "      <td>3.828680</td>\n",
       "    </tr>\n",
       "    <tr>\n",
       "      <th>ahiwsfei</th>\n",
       "      <td>48.952631</td>\n",
       "      <td>7.199320</td>\n",
       "      <td>97.905262</td>\n",
       "      <td>14.398639</td>\n",
       "      <td>97.810087</td>\n",
       "      <td>14.340600</td>\n",
       "      <td>-0.095176</td>\n",
       "      <td>0.672993</td>\n",
       "    </tr>\n",
       "    <tr>\n",
       "      <th>ahhold</th>\n",
       "      <td>45.790562</td>\n",
       "      <td>4.519548</td>\n",
       "      <td>25.655060</td>\n",
       "      <td>8.511156</td>\n",
       "      <td>-32.963032</td>\n",
       "      <td>7.894055</td>\n",
       "      <td>-58.618092</td>\n",
       "      <td>3.841408</td>\n",
       "    </tr>\n",
       "    <tr>\n",
       "      <th>aicage1</th>\n",
       "      <td>38.472710</td>\n",
       "      <td>4.128613</td>\n",
       "      <td>-76.945420</td>\n",
       "      <td>8.257225</td>\n",
       "      <td>0.000000</td>\n",
       "      <td>0.000000</td>\n",
       "      <td>76.945420</td>\n",
       "      <td>8.257225</td>\n",
       "    </tr>\n",
       "    <tr>\n",
       "      <th>ahgsex</th>\n",
       "      <td>36.752442</td>\n",
       "      <td>6.295980</td>\n",
       "      <td>24.941430</td>\n",
       "      <td>11.218689</td>\n",
       "      <td>-24.281727</td>\n",
       "      <td>11.091563</td>\n",
       "      <td>-49.223156</td>\n",
       "      <td>4.380120</td>\n",
       "    </tr>\n",
       "    <tr>\n",
       "      <th>atxdic</th>\n",
       "      <td>32.500182</td>\n",
       "      <td>7.909336</td>\n",
       "      <td>-65.000364</td>\n",
       "      <td>15.818672</td>\n",
       "      <td>-65.000364</td>\n",
       "      <td>15.818672</td>\n",
       "      <td>0.000000</td>\n",
       "      <td>0.000000</td>\n",
       "    </tr>\n",
       "    <tr>\n",
       "      <th>aioundst</th>\n",
       "      <td>30.672119</td>\n",
       "      <td>3.148371</td>\n",
       "      <td>-10.054607</td>\n",
       "      <td>5.087493</td>\n",
       "      <td>-35.699422</td>\n",
       "      <td>5.268119</td>\n",
       "      <td>-25.644815</td>\n",
       "      <td>2.238905</td>\n",
       "    </tr>\n",
       "    <tr>\n",
       "      <th>achu_ps</th>\n",
       "      <td>29.466549</td>\n",
       "      <td>3.811959</td>\n",
       "      <td>-58.933098</td>\n",
       "      <td>7.623919</td>\n",
       "      <td>-1.936589</td>\n",
       "      <td>2.455009</td>\n",
       "      <td>56.996509</td>\n",
       "      <td>7.920841</td>\n",
       "    </tr>\n",
       "    <tr>\n",
       "      <th>amrpyr</th>\n",
       "      <td>28.853775</td>\n",
       "      <td>3.736310</td>\n",
       "      <td>56.646383</td>\n",
       "      <td>7.265636</td>\n",
       "      <td>57.176967</td>\n",
       "      <td>7.247384</td>\n",
       "      <td>0.530584</td>\n",
       "      <td>1.337974</td>\n",
       "    </tr>\n",
       "    <tr>\n",
       "      <th>ahsdebt</th>\n",
       "      <td>28.598119</td>\n",
       "      <td>3.883354</td>\n",
       "      <td>-53.758009</td>\n",
       "      <td>6.179085</td>\n",
       "      <td>1.719114</td>\n",
       "      <td>3.398194</td>\n",
       "      <td>55.477123</td>\n",
       "      <td>6.140333</td>\n",
       "    </tr>\n",
       "    <tr>\n",
       "      <th>ahsrnti</th>\n",
       "      <td>27.817712</td>\n",
       "      <td>3.485332</td>\n",
       "      <td>-26.898679</td>\n",
       "      <td>5.408398</td>\n",
       "      <td>14.368372</td>\n",
       "      <td>5.149530</td>\n",
       "      <td>41.267051</td>\n",
       "      <td>3.521762</td>\n",
       "    </tr>\n",
       "    <tr>\n",
       "      <th>alssmoke</th>\n",
       "      <td>25.239144</td>\n",
       "      <td>3.965332</td>\n",
       "      <td>25.578530</td>\n",
       "      <td>5.920405</td>\n",
       "      <td>-12.449879</td>\n",
       "      <td>5.598053</td>\n",
       "      <td>-38.028409</td>\n",
       "      <td>4.199419</td>\n",
       "    </tr>\n",
       "    <tr>\n",
       "      <th>ahhec10</th>\n",
       "      <td>22.009141</td>\n",
       "      <td>2.308091</td>\n",
       "      <td>-43.124230</td>\n",
       "      <td>4.067408</td>\n",
       "      <td>0.447026</td>\n",
       "      <td>1.315065</td>\n",
       "      <td>43.571256</td>\n",
       "      <td>4.146936</td>\n",
       "    </tr>\n",
       "    <tr>\n",
       "      <th>aehtoyr</th>\n",
       "      <td>20.394113</td>\n",
       "      <td>3.497380</td>\n",
       "      <td>-40.788227</td>\n",
       "      <td>6.994760</td>\n",
       "      <td>0.000000</td>\n",
       "      <td>0.000000</td>\n",
       "      <td>40.788227</td>\n",
       "      <td>6.994760</td>\n",
       "    </tr>\n",
       "    <tr>\n",
       "      <th>abnfpen</th>\n",
       "      <td>17.341273</td>\n",
       "      <td>1.563880</td>\n",
       "      <td>-34.682546</td>\n",
       "      <td>3.127759</td>\n",
       "      <td>0.000000</td>\n",
       "      <td>0.000000</td>\n",
       "      <td>34.682546</td>\n",
       "      <td>3.127759</td>\n",
       "    </tr>\n",
       "    <tr>\n",
       "      <th>ahglth</th>\n",
       "      <td>16.049680</td>\n",
       "      <td>2.830683</td>\n",
       "      <td>-26.394748</td>\n",
       "      <td>4.282366</td>\n",
       "      <td>2.852306</td>\n",
       "      <td>4.478933</td>\n",
       "      <td>29.247054</td>\n",
       "      <td>2.265839</td>\n",
       "    </tr>\n",
       "    <tr>\n",
       "      <th>ahibiff</th>\n",
       "      <td>14.853788</td>\n",
       "      <td>4.898511</td>\n",
       "      <td>4.487737</td>\n",
       "      <td>6.545421</td>\n",
       "      <td>-12.609919</td>\n",
       "      <td>5.444716</td>\n",
       "      <td>-17.097656</td>\n",
       "      <td>6.306121</td>\n",
       "    </tr>\n",
       "    <tr>\n",
       "      <th>ajbmsflx</th>\n",
       "      <td>14.434711</td>\n",
       "      <td>3.510611</td>\n",
       "      <td>28.869423</td>\n",
       "      <td>7.021223</td>\n",
       "      <td>13.949581</td>\n",
       "      <td>5.009927</td>\n",
       "      <td>-14.919842</td>\n",
       "      <td>3.892653</td>\n",
       "    </tr>\n",
       "  </tbody>\n",
       "</table>\n",
       "</div>"
      ],
      "text/plain": [
       "          importance_mean  importance_std  Δcoef_mean  Δcoef_std  \\\n",
       "feature                                                            \n",
       "ahgage         356.402330       11.402368    3.713894  15.723191   \n",
       "awsce          297.143059       15.699644  -59.601933  21.281867   \n",
       "arcage1         57.685175        2.933895  -20.861915   4.503302   \n",
       "ahiwsfei        48.952631        7.199320   97.905262  14.398639   \n",
       "ahhold          45.790562        4.519548   25.655060   8.511156   \n",
       "aicage1         38.472710        4.128613  -76.945420   8.257225   \n",
       "ahgsex          36.752442        6.295980   24.941430  11.218689   \n",
       "atxdic          32.500182        7.909336  -65.000364  15.818672   \n",
       "aioundst        30.672119        3.148371  -10.054607   5.087493   \n",
       "achu_ps         29.466549        3.811959  -58.933098   7.623919   \n",
       "amrpyr          28.853775        3.736310   56.646383   7.265636   \n",
       "ahsdebt         28.598119        3.883354  -53.758009   6.179085   \n",
       "ahsrnti         27.817712        3.485332  -26.898679   5.408398   \n",
       "alssmoke        25.239144        3.965332   25.578530   5.920405   \n",
       "ahhec10         22.009141        2.308091  -43.124230   4.067408   \n",
       "aehtoyr         20.394113        3.497380  -40.788227   6.994760   \n",
       "abnfpen         17.341273        1.563880  -34.682546   3.127759   \n",
       "ahglth          16.049680        2.830683  -26.394748   4.282366   \n",
       "ahibiff         14.853788        4.898511    4.487737   6.545421   \n",
       "ajbmsflx        14.434711        3.510611   28.869423   7.021223   \n",
       "\n",
       "          coef_treat_mean  coef_treat_std  coef_cntr_mean  coef_cntr_std  \n",
       "feature                                                                   \n",
       "ahgage        -354.545383       14.316368     -358.259277      13.367085  \n",
       "awsce         -326.944025       17.453377     -267.342092      20.366546  \n",
       "arcage1        -68.116133        3.563221      -47.254218       3.828680  \n",
       "ahiwsfei        97.810087       14.340600       -0.095176       0.672993  \n",
       "ahhold         -32.963032        7.894055      -58.618092       3.841408  \n",
       "aicage1          0.000000        0.000000       76.945420       8.257225  \n",
       "ahgsex         -24.281727       11.091563      -49.223156       4.380120  \n",
       "atxdic         -65.000364       15.818672        0.000000       0.000000  \n",
       "aioundst       -35.699422        5.268119      -25.644815       2.238905  \n",
       "achu_ps         -1.936589        2.455009       56.996509       7.920841  \n",
       "amrpyr          57.176967        7.247384        0.530584       1.337974  \n",
       "ahsdebt          1.719114        3.398194       55.477123       6.140333  \n",
       "ahsrnti         14.368372        5.149530       41.267051       3.521762  \n",
       "alssmoke       -12.449879        5.598053      -38.028409       4.199419  \n",
       "ahhec10          0.447026        1.315065       43.571256       4.146936  \n",
       "aehtoyr          0.000000        0.000000       40.788227       6.994760  \n",
       "abnfpen          0.000000        0.000000       34.682546       3.127759  \n",
       "ahglth           2.852306        4.478933       29.247054       2.265839  \n",
       "ahibiff        -12.609919        5.444716      -17.097656       6.306121  \n",
       "ajbmsflx        13.949581        5.009927      -14.919842       3.892653  "
      ]
     },
     "metadata": {},
     "output_type": "display_data"
    }
   ],
   "source": [
    "from direct_regression import display_feature_importance\n",
    "display_feature_importance(models0, models1, results, features);"
   ]
  },
  {
   "cell_type": "markdown",
   "id": "26",
   "metadata": {},
   "source": [
    "### Compare against OLS on basic variables"
   ]
  },
  {
   "cell_type": "code",
   "execution_count": 45,
   "id": "27",
   "metadata": {
    "tags": [
     "hide_input"
    ]
   },
   "outputs": [
    {
     "name": "stdout",
     "output_type": "stream",
     "text": [
      "Dropped 592 rows missing treatment or outcome.\n"
     ]
    }
   ],
   "source": [
    "basic = pd.read_csv(\"basic_variables.csv\",index_col='xwaveid')\n",
    "drop_missing_treatment_or_outcome(basic, treatment, outcome)\n",
    "if log_outcome:\n",
    "    basic[outcome] = np.log(basic[outcome]+basic[outcome].min())\n",
    "    \n",
    "X0b, X1b, y0b, y1b, Xb, yb, tb, featuresb = seperate_and_transform_data(basic, treatment, outcome)\n",
    "\n",
    "def construct_basic_model():\n",
    "    models = [\n",
    "        Model('OLS',LinearRegression(),importance_func=importance_from_coef)\n",
    "    ]\n",
    "    return models\n",
    "\n",
    "modelsb0, modelsb1, resultsb = nested_cross_val(\n",
    "    construct_basic_model,\n",
    "    \"data/tmp.pkl\",\n",
    "    X0b, X1b, y0b, y1b,\n",
    "    optimisation_metric,\n",
    "    evaluation_metrics,\n",
    "    innercv=5,\n",
    "    outercv=10,\n",
    "    load_from_cache=True)"
   ]
  },
  {
   "cell_type": "code",
   "execution_count": 46,
   "id": "28",
   "metadata": {
    "tags": [
     "hide_input"
    ]
   },
   "outputs": [
    {
     "data": {
      "image/png": "[encoded data removed]",
      "text/plain": [
       "<Figure size 1080x360 with 2 Axes>"
      ]
     },
     "metadata": {
      "needs_background": "light"
     },
     "output_type": "display_data"
    }
   ],
   "source": [
    "y0a = results['ridge'][0]['estimator'][4].predict(X0)\n",
    "y1a = results['ridge'][1]['estimator'][4].predict(X1)\n",
    "fig, ax = plt.subplots(1,2, figsize=(15,5))\n",
    "ax[0].scatter(y0, y0a,s=10,alpha=0.1)\n",
    "ax[0].set_xlabel('y0')\n",
    "ax[0].set_ylabel('$\\\\hat{y}0$');\n",
    "ax[0].set_title(f'Control (ridge), $R^2={r2_score(y0,y0a):.2f}$')\n",
    "\n",
    "ax[1].scatter(y1, y1a,s=10,alpha=0.1)\n",
    "ax[1].set_xlabel('y1')\n",
    "ax[1].set_ylabel('$\\\\hat{y}1$');\n",
    "ax[1].set_title(f'Treated (ridge), $R^2={r2_score(y1,y1a):.2f}$');\n",
    "\n",
    "# think about why these r2 scores are higher than on the holdout set (and whether they are likely overfitting)"
   ]
  },
  {
   "cell_type": "code",
   "execution_count": 47,
   "id": "29",
   "metadata": {},
   "outputs": [
    {
     "data": {
      "image/png": "[encoded data removed]",
      "text/plain": [
       "<Figure size 1080x360 with 2 Axes>"
      ]
     },
     "metadata": {
      "needs_background": "light"
     },
     "output_type": "display_data"
    }
   ],
   "source": [
    "from sklearn.metrics import r2_score\n",
    "y0b = resultsb['OLS'][0]['estimator'][0].predict(X0b)\n",
    "y1b = resultsb['OLS'][1]['estimator'][0].predict(X1b)\n",
    "fig, ax = plt.subplots(1,2, figsize=(15,5))\n",
    "ax[0].scatter(y0, y0b,s=10,alpha=0.1)\n",
    "ax[0].set_xlabel('y0')\n",
    "ax[0].set_ylabel('$\\\\hat{y}0$');\n",
    "ax[0].set_title(f'Control (OLS-basic), $R^2={r2_score(y0,y0b):.2f}$')\n",
    "\n",
    "ax[1].scatter(y1, y1b,s=10,alpha=0.1)\n",
    "ax[1].set_xlabel('y1')\n",
    "ax[1].set_ylabel('$\\\\hat{y}1$');\n",
    "ax[1].set_title(f'Treated (OLS-basic), $R^2={r2_score(y1,y1b):.2f}$');\n"
   ]
  },
  {
   "cell_type": "markdown",
   "id": "30",
   "metadata": {},
   "source": [
    "### Bootstraped cross-validation to estimate parameter uncertainty\n",
    "![image.png](images/bootstrap_validation.png)"
   ]
  },
  {
   "cell_type": "code",
   "execution_count": 48,
   "id": "31",
   "metadata": {
    "scrolled": true
   },
   "outputs": [
    {
     "name": "stdout",
     "output_type": "stream",
     "text": [
      "Fitting ridge ...Fitting 5 folds for each of 30 candidates, totalling 150 fits\n",
      "Fitting 5 folds for each of 30 candidates, totalling 150 fits\n",
      "Fitting 5 folds for each of 30 candidates, totalling 150 fits\n",
      "Fitting 5 folds for each of 30 candidates, totalling 150 fits\n",
      "Fitting 5 folds for each of 30 candidates, totalling 150 fits\n",
      "Fitting 5 folds for each of 30 candidates, totalling 150 fits\n",
      "Fitting 5 folds for each of 30 candidates, totalling 150 fits\n",
      "Fitting 5 folds for each of 30 candidates, totalling 150 fits\n",
      "Fitting 5 folds for each of 30 candidates, totalling 150 fits\n",
      "Fitting 5 folds for each of 30 candidates, totalling 150 fits\n",
      "Fitting 5 folds for each of 30 candidates, totalling 150 fits\n",
      "Fitting 5 folds for each of 30 candidates, totalling 150 fits\n",
      "Fitting 5 folds for each of 30 candidates, totalling 150 fits\n",
      "Fitting 5 folds for each of 30 candidates, totalling 150 fits\n",
      "Fitting 5 folds for each of 30 candidates, totalling 150 fits\n",
      "Fitting 5 folds for each of 30 candidates, totalling 150 fits\n",
      "Fitting 5 folds for each of 30 candidates, totalling 150 fits\n",
      "Fitting 5 folds for each of 30 candidates, totalling 150 fits\n",
      "Fitting 5 folds for each of 30 candidates, totalling 150 fits\n",
      "Fitting 5 folds for each of 30 candidates, totalling 150 fits\n",
      "Fitting 5 folds for each of 30 candidates, totalling 150 fits\n",
      "Fitting 5 folds for each of 30 candidates, totalling 150 fits\n",
      "Fitting 5 folds for each of 30 candidates, totalling 150 fits\n",
      "Fitting 5 folds for each of 30 candidates, totalling 150 fits\n",
      "Fitting 5 folds for each of 30 candidates, totalling 150 fits\n",
      "Fitting 5 folds for each of 30 candidates, totalling 150 fits\n",
      "Fitting 5 folds for each of 30 candidates, totalling 150 fits\n",
      "Fitting 5 folds for each of 30 candidates, totalling 150 fits\n",
      "Fitting 5 folds for each of 30 candidates, totalling 150 fits\n",
      "Fitting 5 folds for each of 30 candidates, totalling 150 fits\n",
      "Fitting 5 folds for each of 30 candidates, totalling 150 fits\n",
      "Fitting 5 folds for each of 30 candidates, totalling 150 fits\n",
      "Fitting 5 folds for each of 30 candidates, totalling 150 fits\n",
      "Fitting 5 folds for each of 30 candidates, totalling 150 fits\n",
      "Fitting 5 folds for each of 30 candidates, totalling 150 fits\n",
      "Fitting 5 folds for each of 30 candidates, totalling 150 fits\n",
      "Fitting 5 folds for each of 30 candidates, totalling 150 fits\n",
      "Fitting 5 folds for each of 30 candidates, totalling 150 fits\n",
      "Fitting 5 folds for each of 30 candidates, totalling 150 fits\n",
      "Fitting 5 folds for each of 30 candidates, totalling 150 fits\n",
      "Done\n",
      "Fitting lasso ...Fitting 5 folds for each of 30 candidates, totalling 150 fits\n",
      "Fitting 5 folds for each of 30 candidates, totalling 150 fits\n",
      "Fitting 5 folds for each of 30 candidates, totalling 150 fits\n",
      "Fitting 5 folds for each of 30 candidates, totalling 150 fits\n",
      "Fitting 5 folds for each of 30 candidates, totalling 150 fits\n",
      "Fitting 5 folds for each of 30 candidates, totalling 150 fits\n",
      "Fitting 5 folds for each of 30 candidates, totalling 150 fits\n",
      "Fitting 5 folds for each of 30 candidates, totalling 150 fits\n",
      "Fitting 5 folds for each of 30 candidates, totalling 150 fits\n",
      "Fitting 5 folds for each of 30 candidates, totalling 150 fits\n",
      "Fitting 5 folds for each of 30 candidates, totalling 150 fits\n",
      "Fitting 5 folds for each of 30 candidates, totalling 150 fits\n",
      "Fitting 5 folds for each of 30 candidates, totalling 150 fits\n",
      "Fitting 5 folds for each of 30 candidates, totalling 150 fits\n",
      "Fitting 5 folds for each of 30 candidates, totalling 150 fits\n",
      "Fitting 5 folds for each of 30 candidates, totalling 150 fits\n",
      "Fitting 5 folds for each of 30 candidates, totalling 150 fits\n",
      "Fitting 5 folds for each of 30 candidates, totalling 150 fits\n",
      "Fitting 5 folds for each of 30 candidates, totalling 150 fits\n",
      "Fitting 5 folds for each of 30 candidates, totalling 150 fits\n",
      "Fitting 5 folds for each of 30 candidates, totalling 150 fits\n"
     ]
    },
    {
     "name": "stderr",
     "output_type": "stream",
     "text": [
      "/home/finn/miniconda3/envs/reed/lib/python3.9/site-packages/sklearn/linear_model/_coordinate_descent.py:645: ConvergenceWarning: Objective did not converge. You might want to increase the number of iterations, check the scale of the features or consider increasing regularisation. Duality gap: 5.014e+07, tolerance: 1.325e+05\n",
      "  model = cd_fast.enet_coordinate_descent(\n",
      "/home/finn/miniconda3/envs/reed/lib/python3.9/site-packages/sklearn/linear_model/_coordinate_descent.py:645: ConvergenceWarning: Objective did not converge. You might want to increase the number of iterations, check the scale of the features or consider increasing regularisation. Duality gap: 2.576e+07, tolerance: 1.325e+05\n",
      "  model = cd_fast.enet_coordinate_descent(\n",
      "/home/finn/miniconda3/envs/reed/lib/python3.9/site-packages/sklearn/linear_model/_coordinate_descent.py:645: ConvergenceWarning: Objective did not converge. You might want to increase the number of iterations, check the scale of the features or consider increasing regularisation. Duality gap: 3.520e+08, tolerance: 1.318e+05\n",
      "  model = cd_fast.enet_coordinate_descent(\n",
      "/home/finn/miniconda3/envs/reed/lib/python3.9/site-packages/sklearn/linear_model/_coordinate_descent.py:645: ConvergenceWarning: Objective did not converge. You might want to increase the number of iterations, check the scale of the features or consider increasing regularisation. Duality gap: 1.235e+08, tolerance: 1.261e+05\n",
      "  model = cd_fast.enet_coordinate_descent(\n",
      "/home/finn/miniconda3/envs/reed/lib/python3.9/site-packages/sklearn/linear_model/_coordinate_descent.py:645: ConvergenceWarning: Objective did not converge. You might want to increase the number of iterations, check the scale of the features or consider increasing regularisation. Duality gap: 8.715e+07, tolerance: 1.325e+05\n",
      "  model = cd_fast.enet_coordinate_descent(\n",
      "/home/finn/miniconda3/envs/reed/lib/python3.9/site-packages/sklearn/linear_model/_coordinate_descent.py:645: ConvergenceWarning: Objective did not converge. You might want to increase the number of iterations, check the scale of the features or consider increasing regularisation. Duality gap: 1.370e+07, tolerance: 1.290e+05\n",
      "  model = cd_fast.enet_coordinate_descent(\n",
      "/home/finn/miniconda3/envs/reed/lib/python3.9/site-packages/sklearn/linear_model/_coordinate_descent.py:645: ConvergenceWarning: Objective did not converge. You might want to increase the number of iterations, check the scale of the features or consider increasing regularisation. Duality gap: 3.243e+07, tolerance: 1.183e+05\n",
      "  model = cd_fast.enet_coordinate_descent(\n",
      "/home/finn/miniconda3/envs/reed/lib/python3.9/site-packages/sklearn/linear_model/_coordinate_descent.py:645: ConvergenceWarning: Objective did not converge. You might want to increase the number of iterations, check the scale of the features or consider increasing regularisation. Duality gap: 6.457e+07, tolerance: 1.290e+05\n",
      "  model = cd_fast.enet_coordinate_descent(\n",
      "/home/finn/miniconda3/envs/reed/lib/python3.9/site-packages/sklearn/linear_model/_coordinate_descent.py:645: ConvergenceWarning: Objective did not converge. You might want to increase the number of iterations, check the scale of the features or consider increasing regularisation. Duality gap: 7.954e+07, tolerance: 1.261e+05\n",
      "  model = cd_fast.enet_coordinate_descent(\n",
      "/home/finn/miniconda3/envs/reed/lib/python3.9/site-packages/sklearn/linear_model/_coordinate_descent.py:645: ConvergenceWarning: Objective did not converge. You might want to increase the number of iterations, check the scale of the features or consider increasing regularisation. Duality gap: 1.585e+07, tolerance: 1.183e+05\n",
      "  model = cd_fast.enet_coordinate_descent(\n",
      "/home/finn/miniconda3/envs/reed/lib/python3.9/site-packages/sklearn/linear_model/_coordinate_descent.py:645: ConvergenceWarning: Objective did not converge. You might want to increase the number of iterations, check the scale of the features or consider increasing regularisation. Duality gap: 3.271e+07, tolerance: 1.290e+05\n",
      "  model = cd_fast.enet_coordinate_descent(\n",
      "/home/finn/miniconda3/envs/reed/lib/python3.9/site-packages/sklearn/linear_model/_coordinate_descent.py:645: ConvergenceWarning: Objective did not converge. You might want to increase the number of iterations, check the scale of the features or consider increasing regularisation. Duality gap: 3.602e+08, tolerance: 1.318e+05\n",
      "  model = cd_fast.enet_coordinate_descent(\n",
      "/home/finn/miniconda3/envs/reed/lib/python3.9/site-packages/sklearn/linear_model/_coordinate_descent.py:645: ConvergenceWarning: Objective did not converge. You might want to increase the number of iterations, check the scale of the features or consider increasing regularisation. Duality gap: 3.388e+08, tolerance: 1.318e+05\n",
      "  model = cd_fast.enet_coordinate_descent(\n",
      "/home/finn/miniconda3/envs/reed/lib/python3.9/site-packages/sklearn/linear_model/_coordinate_descent.py:645: ConvergenceWarning: Objective did not converge. You might want to increase the number of iterations, check the scale of the features or consider increasing regularisation. Duality gap: 7.073e+06, tolerance: 1.183e+05\n",
      "  model = cd_fast.enet_coordinate_descent(\n",
      "/home/finn/miniconda3/envs/reed/lib/python3.9/site-packages/sklearn/linear_model/_coordinate_descent.py:645: ConvergenceWarning: Objective did not converge. You might want to increase the number of iterations, check the scale of the features or consider increasing regularisation. Duality gap: 4.542e+07, tolerance: 1.261e+05\n",
      "  model = cd_fast.enet_coordinate_descent(\n",
      "/home/finn/miniconda3/envs/reed/lib/python3.9/site-packages/sklearn/linear_model/_coordinate_descent.py:645: ConvergenceWarning: Objective did not converge. You might want to increase the number of iterations, check the scale of the features or consider increasing regularisation. Duality gap: 3.175e+08, tolerance: 1.318e+05\n",
      "  model = cd_fast.enet_coordinate_descent(\n",
      "/home/finn/miniconda3/envs/reed/lib/python3.9/site-packages/sklearn/linear_model/_coordinate_descent.py:645: ConvergenceWarning: Objective did not converge. You might want to increase the number of iterations, check the scale of the features or consider increasing regularisation. Duality gap: 1.195e+07, tolerance: 1.325e+05\n",
      "  model = cd_fast.enet_coordinate_descent(\n",
      "/home/finn/miniconda3/envs/reed/lib/python3.9/site-packages/sklearn/linear_model/_coordinate_descent.py:645: ConvergenceWarning: Objective did not converge. You might want to increase the number of iterations, check the scale of the features or consider increasing regularisation. Duality gap: 2.305e+07, tolerance: 1.261e+05\n",
      "  model = cd_fast.enet_coordinate_descent(\n",
      "/home/finn/miniconda3/envs/reed/lib/python3.9/site-packages/sklearn/linear_model/_coordinate_descent.py:645: ConvergenceWarning: Objective did not converge. You might want to increase the number of iterations, check the scale of the features or consider increasing regularisation. Duality gap: 4.412e+06, tolerance: 1.290e+05\n",
      "  model = cd_fast.enet_coordinate_descent(\n",
      "/home/finn/miniconda3/envs/reed/lib/python3.9/site-packages/sklearn/linear_model/_coordinate_descent.py:645: ConvergenceWarning: Objective did not converge. You might want to increase the number of iterations, check the scale of the features or consider increasing regularisation. Duality gap: 5.085e+06, tolerance: 1.325e+05\n",
      "  model = cd_fast.enet_coordinate_descent(\n",
      "/home/finn/miniconda3/envs/reed/lib/python3.9/site-packages/sklearn/linear_model/_coordinate_descent.py:645: ConvergenceWarning: Objective did not converge. You might want to increase the number of iterations, check the scale of the features or consider increasing regularisation. Duality gap: 2.835e+08, tolerance: 1.318e+05\n",
      "  model = cd_fast.enet_coordinate_descent(\n",
      "/home/finn/miniconda3/envs/reed/lib/python3.9/site-packages/sklearn/linear_model/_coordinate_descent.py:645: ConvergenceWarning: Objective did not converge. You might want to increase the number of iterations, check the scale of the features or consider increasing regularisation. Duality gap: 2.917e+06, tolerance: 1.183e+05\n",
      "  model = cd_fast.enet_coordinate_descent(\n",
      "/home/finn/miniconda3/envs/reed/lib/python3.9/site-packages/sklearn/linear_model/_coordinate_descent.py:645: ConvergenceWarning: Objective did not converge. You might want to increase the number of iterations, check the scale of the features or consider increasing regularisation. Duality gap: 8.578e+05, tolerance: 1.290e+05\n",
      "  model = cd_fast.enet_coordinate_descent(\n",
      "/home/finn/miniconda3/envs/reed/lib/python3.9/site-packages/sklearn/linear_model/_coordinate_descent.py:645: ConvergenceWarning: Objective did not converge. You might want to increase the number of iterations, check the scale of the features or consider increasing regularisation. Duality gap: 1.049e+07, tolerance: 1.261e+05\n",
      "  model = cd_fast.enet_coordinate_descent(\n",
      "/home/finn/miniconda3/envs/reed/lib/python3.9/site-packages/sklearn/linear_model/_coordinate_descent.py:645: ConvergenceWarning: Objective did not converge. You might want to increase the number of iterations, check the scale of the features or consider increasing regularisation. Duality gap: 1.120e+06, tolerance: 1.183e+05\n",
      "  model = cd_fast.enet_coordinate_descent(\n",
      "/home/finn/miniconda3/envs/reed/lib/python3.9/site-packages/sklearn/linear_model/_coordinate_descent.py:645: ConvergenceWarning: Objective did not converge. You might want to increase the number of iterations, check the scale of the features or consider increasing regularisation. Duality gap: 2.003e+06, tolerance: 1.325e+05\n",
      "  model = cd_fast.enet_coordinate_descent(\n"
     ]
    },
    {
     "name": "stderr",
     "output_type": "stream",
     "text": [
      "/home/finn/miniconda3/envs/reed/lib/python3.9/site-packages/sklearn/linear_model/_coordinate_descent.py:645: ConvergenceWarning: Objective did not converge. You might want to increase the number of iterations, check the scale of the features or consider increasing regularisation. Duality gap: 1.491e+08, tolerance: 1.318e+05\n",
      "  model = cd_fast.enet_coordinate_descent(\n",
      "/home/finn/miniconda3/envs/reed/lib/python3.9/site-packages/sklearn/linear_model/_coordinate_descent.py:645: ConvergenceWarning: Objective did not converge. You might want to increase the number of iterations, check the scale of the features or consider increasing regularisation. Duality gap: 4.008e+05, tolerance: 1.183e+05\n",
      "  model = cd_fast.enet_coordinate_descent(\n",
      "/home/finn/miniconda3/envs/reed/lib/python3.9/site-packages/sklearn/linear_model/_coordinate_descent.py:645: ConvergenceWarning: Objective did not converge. You might want to increase the number of iterations, check the scale of the features or consider increasing regularisation. Duality gap: 1.615e+06, tolerance: 1.261e+05\n",
      "  model = cd_fast.enet_coordinate_descent(\n",
      "/home/finn/miniconda3/envs/reed/lib/python3.9/site-packages/sklearn/linear_model/_coordinate_descent.py:645: ConvergenceWarning: Objective did not converge. You might want to increase the number of iterations, check the scale of the features or consider increasing regularisation. Duality gap: 1.442e+05, tolerance: 1.261e+05\n",
      "  model = cd_fast.enet_coordinate_descent(\n",
      "/home/finn/miniconda3/envs/reed/lib/python3.9/site-packages/sklearn/linear_model/_coordinate_descent.py:645: ConvergenceWarning: Objective did not converge. You might want to increase the number of iterations, check the scale of the features or consider increasing regularisation. Duality gap: 2.413e+05, tolerance: 1.325e+05\n",
      "  model = cd_fast.enet_coordinate_descent(\n",
      "/home/finn/miniconda3/envs/reed/lib/python3.9/site-packages/sklearn/linear_model/_coordinate_descent.py:645: ConvergenceWarning: Objective did not converge. You might want to increase the number of iterations, check the scale of the features or consider increasing regularisation. Duality gap: 1.004e+06, tolerance: 1.318e+05\n",
      "  model = cd_fast.enet_coordinate_descent(\n",
      "/home/finn/miniconda3/envs/reed/lib/python3.9/site-packages/sklearn/linear_model/_coordinate_descent.py:645: ConvergenceWarning: Objective did not converge. You might want to increase the number of iterations, check the scale of the features or consider increasing regularisation. Duality gap: 2.300e+08, tolerance: 1.318e+05\n",
      "  model = cd_fast.enet_coordinate_descent(\n",
      "/home/finn/miniconda3/envs/reed/lib/python3.9/site-packages/sklearn/linear_model/_coordinate_descent.py:645: ConvergenceWarning: Objective did not converge. You might want to increase the number of iterations, check the scale of the features or consider increasing regularisation. Duality gap: 7.314e+05, tolerance: 1.325e+05\n",
      "  model = cd_fast.enet_coordinate_descent(\n",
      "/home/finn/miniconda3/envs/reed/lib/python3.9/site-packages/sklearn/linear_model/_coordinate_descent.py:645: ConvergenceWarning: Objective did not converge. You might want to increase the number of iterations, check the scale of the features or consider increasing regularisation. Duality gap: 1.333e+05, tolerance: 1.183e+05\n",
      "  model = cd_fast.enet_coordinate_descent(\n",
      "/home/finn/miniconda3/envs/reed/lib/python3.9/site-packages/sklearn/linear_model/_coordinate_descent.py:645: ConvergenceWarning: Objective did not converge. You might want to increase the number of iterations, check the scale of the features or consider increasing regularisation. Duality gap: 4.321e+06, tolerance: 1.261e+05\n",
      "  model = cd_fast.enet_coordinate_descent(\n",
      "/home/finn/miniconda3/envs/reed/lib/python3.9/site-packages/sklearn/linear_model/_coordinate_descent.py:645: ConvergenceWarning: Objective did not converge. You might want to increase the number of iterations, check the scale of the features or consider increasing regularisation. Duality gap: 4.399e+07, tolerance: 1.318e+05\n",
      "  model = cd_fast.enet_coordinate_descent(\n",
      "/home/finn/miniconda3/envs/reed/lib/python3.9/site-packages/sklearn/linear_model/_coordinate_descent.py:645: ConvergenceWarning: Objective did not converge. You might want to increase the number of iterations, check the scale of the features or consider increasing regularisation. Duality gap: 5.303e+05, tolerance: 1.261e+05\n",
      "  model = cd_fast.enet_coordinate_descent(\n"
     ]
    },
    {
     "name": "stdout",
     "output_type": "stream",
     "text": [
      "Fitting 5 folds for each of 30 candidates, totalling 150 fits\n"
     ]
    },
    {
     "name": "stderr",
     "output_type": "stream",
     "text": [
      "/home/finn/miniconda3/envs/reed/lib/python3.9/site-packages/sklearn/linear_model/_coordinate_descent.py:645: ConvergenceWarning: Objective did not converge. You might want to increase the number of iterations, check the scale of the features or consider increasing regularisation. Duality gap: 7.866e+05, tolerance: 1.192e+05\n",
      "  model = cd_fast.enet_coordinate_descent(\n",
      "/home/finn/miniconda3/envs/reed/lib/python3.9/site-packages/sklearn/linear_model/_coordinate_descent.py:645: ConvergenceWarning: Objective did not converge. You might want to increase the number of iterations, check the scale of the features or consider increasing regularisation. Duality gap: 1.986e+06, tolerance: 1.192e+05\n",
      "  model = cd_fast.enet_coordinate_descent(\n",
      "/home/finn/miniconda3/envs/reed/lib/python3.9/site-packages/sklearn/linear_model/_coordinate_descent.py:645: ConvergenceWarning: Objective did not converge. You might want to increase the number of iterations, check the scale of the features or consider increasing regularisation. Duality gap: 2.986e+05, tolerance: 1.192e+05\n",
      "  model = cd_fast.enet_coordinate_descent(\n"
     ]
    },
    {
     "name": "stdout",
     "output_type": "stream",
     "text": [
      "Fitting 5 folds for each of 30 candidates, totalling 150 fits\n"
     ]
    },
    {
     "name": "stderr",
     "output_type": "stream",
     "text": [
      "/home/finn/miniconda3/envs/reed/lib/python3.9/site-packages/sklearn/linear_model/_coordinate_descent.py:645: ConvergenceWarning: Objective did not converge. You might want to increase the number of iterations, check the scale of the features or consider increasing regularisation. Duality gap: 1.272e+08, tolerance: 1.203e+05\n",
      "  model = cd_fast.enet_coordinate_descent(\n",
      "/home/finn/miniconda3/envs/reed/lib/python3.9/site-packages/sklearn/linear_model/_coordinate_descent.py:645: ConvergenceWarning: Objective did not converge. You might want to increase the number of iterations, check the scale of the features or consider increasing regularisation. Duality gap: 1.803e+08, tolerance: 1.203e+05\n",
      "  model = cd_fast.enet_coordinate_descent(\n",
      "/home/finn/miniconda3/envs/reed/lib/python3.9/site-packages/sklearn/linear_model/_coordinate_descent.py:645: ConvergenceWarning: Objective did not converge. You might want to increase the number of iterations, check the scale of the features or consider increasing regularisation. Duality gap: 7.953e+07, tolerance: 1.203e+05\n",
      "  model = cd_fast.enet_coordinate_descent(\n",
      "/home/finn/miniconda3/envs/reed/lib/python3.9/site-packages/sklearn/linear_model/_coordinate_descent.py:645: ConvergenceWarning: Objective did not converge. You might want to increase the number of iterations, check the scale of the features or consider increasing regularisation. Duality gap: 4.353e+07, tolerance: 1.203e+05\n",
      "  model = cd_fast.enet_coordinate_descent(\n",
      "/home/finn/miniconda3/envs/reed/lib/python3.9/site-packages/sklearn/linear_model/_coordinate_descent.py:645: ConvergenceWarning: Objective did not converge. You might want to increase the number of iterations, check the scale of the features or consider increasing regularisation. Duality gap: 2.073e+07, tolerance: 1.203e+05\n",
      "  model = cd_fast.enet_coordinate_descent(\n",
      "/home/finn/miniconda3/envs/reed/lib/python3.9/site-packages/sklearn/linear_model/_coordinate_descent.py:645: ConvergenceWarning: Objective did not converge. You might want to increase the number of iterations, check the scale of the features or consider increasing regularisation. Duality gap: 7.811e+05, tolerance: 1.203e+05\n",
      "  model = cd_fast.enet_coordinate_descent(\n",
      "/home/finn/miniconda3/envs/reed/lib/python3.9/site-packages/sklearn/linear_model/_coordinate_descent.py:645: ConvergenceWarning: Objective did not converge. You might want to increase the number of iterations, check the scale of the features or consider increasing regularisation. Duality gap: 8.523e+06, tolerance: 1.203e+05\n",
      "  model = cd_fast.enet_coordinate_descent(\n",
      "/home/finn/miniconda3/envs/reed/lib/python3.9/site-packages/sklearn/linear_model/_coordinate_descent.py:645: ConvergenceWarning: Objective did not converge. You might want to increase the number of iterations, check the scale of the features or consider increasing regularisation. Duality gap: 2.943e+06, tolerance: 1.203e+05\n",
      "  model = cd_fast.enet_coordinate_descent(\n"
     ]
    },
    {
     "name": "stdout",
     "output_type": "stream",
     "text": [
      "Fitting 5 folds for each of 30 candidates, totalling 150 fits\n"
     ]
    },
    {
     "name": "stderr",
     "output_type": "stream",
     "text": [
      "/home/finn/miniconda3/envs/reed/lib/python3.9/site-packages/sklearn/linear_model/_coordinate_descent.py:645: ConvergenceWarning: Objective did not converge. You might want to increase the number of iterations, check the scale of the features or consider increasing regularisation. Duality gap: 2.001e+07, tolerance: 1.045e+05\n",
      "  model = cd_fast.enet_coordinate_descent(\n",
      "/home/finn/miniconda3/envs/reed/lib/python3.9/site-packages/sklearn/linear_model/_coordinate_descent.py:645: ConvergenceWarning: Objective did not converge. You might want to increase the number of iterations, check the scale of the features or consider increasing regularisation. Duality gap: 4.151e+07, tolerance: 1.045e+05\n",
      "  model = cd_fast.enet_coordinate_descent(\n",
      "/home/finn/miniconda3/envs/reed/lib/python3.9/site-packages/sklearn/linear_model/_coordinate_descent.py:645: ConvergenceWarning: Objective did not converge. You might want to increase the number of iterations, check the scale of the features or consider increasing regularisation. Duality gap: 8.115e+06, tolerance: 1.045e+05\n",
      "  model = cd_fast.enet_coordinate_descent(\n",
      "/home/finn/miniconda3/envs/reed/lib/python3.9/site-packages/sklearn/linear_model/_coordinate_descent.py:645: ConvergenceWarning: Objective did not converge. You might want to increase the number of iterations, check the scale of the features or consider increasing regularisation. Duality gap: 2.660e+06, tolerance: 1.045e+05\n",
      "  model = cd_fast.enet_coordinate_descent(\n",
      "/home/finn/miniconda3/envs/reed/lib/python3.9/site-packages/sklearn/linear_model/_coordinate_descent.py:645: ConvergenceWarning: Objective did not converge. You might want to increase the number of iterations, check the scale of the features or consider increasing regularisation. Duality gap: 6.278e+05, tolerance: 1.045e+05\n",
      "  model = cd_fast.enet_coordinate_descent(\n"
     ]
    },
    {
     "name": "stdout",
     "output_type": "stream",
     "text": [
      "Fitting 5 folds for each of 30 candidates, totalling 150 fits\n"
     ]
    },
    {
     "name": "stderr",
     "output_type": "stream",
     "text": [
      "/home/finn/miniconda3/envs/reed/lib/python3.9/site-packages/sklearn/linear_model/_coordinate_descent.py:645: ConvergenceWarning: Objective did not converge. You might want to increase the number of iterations, check the scale of the features or consider increasing regularisation. Duality gap: 3.773e+06, tolerance: 1.125e+05\n",
      "  model = cd_fast.enet_coordinate_descent(\n",
      "/home/finn/miniconda3/envs/reed/lib/python3.9/site-packages/sklearn/linear_model/_coordinate_descent.py:645: ConvergenceWarning: Objective did not converge. You might want to increase the number of iterations, check the scale of the features or consider increasing regularisation. Duality gap: 2.384e+05, tolerance: 1.125e+05\n",
      "  model = cd_fast.enet_coordinate_descent(\n",
      "/home/finn/miniconda3/envs/reed/lib/python3.9/site-packages/sklearn/linear_model/_coordinate_descent.py:645: ConvergenceWarning: Objective did not converge. You might want to increase the number of iterations, check the scale of the features or consider increasing regularisation. Duality gap: 1.557e+06, tolerance: 1.125e+05\n",
      "  model = cd_fast.enet_coordinate_descent(\n",
      "/home/finn/miniconda3/envs/reed/lib/python3.9/site-packages/sklearn/linear_model/_coordinate_descent.py:645: ConvergenceWarning: Objective did not converge. You might want to increase the number of iterations, check the scale of the features or consider increasing regularisation. Duality gap: 6.177e+05, tolerance: 1.125e+05\n",
      "  model = cd_fast.enet_coordinate_descent(\n"
     ]
    },
    {
     "name": "stdout",
     "output_type": "stream",
     "text": [
      "Fitting 5 folds for each of 30 candidates, totalling 150 fits\n"
     ]
    },
    {
     "name": "stderr",
     "output_type": "stream",
     "text": [
      "/home/finn/miniconda3/envs/reed/lib/python3.9/site-packages/sklearn/linear_model/_coordinate_descent.py:645: ConvergenceWarning: Objective did not converge. You might want to increase the number of iterations, check the scale of the features or consider increasing regularisation. Duality gap: 2.809e+08, tolerance: 1.132e+05\n",
      "  model = cd_fast.enet_coordinate_descent(\n",
      "/home/finn/miniconda3/envs/reed/lib/python3.9/site-packages/sklearn/linear_model/_coordinate_descent.py:645: ConvergenceWarning: Objective did not converge. You might want to increase the number of iterations, check the scale of the features or consider increasing regularisation. Duality gap: 1.693e+08, tolerance: 1.049e+05\n",
      "  model = cd_fast.enet_coordinate_descent(\n",
      "/home/finn/miniconda3/envs/reed/lib/python3.9/site-packages/sklearn/linear_model/_coordinate_descent.py:645: ConvergenceWarning: Objective did not converge. You might want to increase the number of iterations, check the scale of the features or consider increasing regularisation. Duality gap: 1.945e+08, tolerance: 9.242e+04\n",
      "  model = cd_fast.enet_coordinate_descent(\n",
      "/home/finn/miniconda3/envs/reed/lib/python3.9/site-packages/sklearn/linear_model/_coordinate_descent.py:645: ConvergenceWarning: Objective did not converge. You might want to increase the number of iterations, check the scale of the features or consider increasing regularisation. Duality gap: 2.497e+08, tolerance: 1.132e+05\n",
      "  model = cd_fast.enet_coordinate_descent(\n",
      "/home/finn/miniconda3/envs/reed/lib/python3.9/site-packages/sklearn/linear_model/_coordinate_descent.py:645: ConvergenceWarning: Objective did not converge. You might want to increase the number of iterations, check the scale of the features or consider increasing regularisation. Duality gap: 1.128e+08, tolerance: 1.049e+05\n",
      "  model = cd_fast.enet_coordinate_descent(\n",
      "/home/finn/miniconda3/envs/reed/lib/python3.9/site-packages/sklearn/linear_model/_coordinate_descent.py:645: ConvergenceWarning: Objective did not converge. You might want to increase the number of iterations, check the scale of the features or consider increasing regularisation. Duality gap: 1.475e+08, tolerance: 1.039e+05\n",
      "  model = cd_fast.enet_coordinate_descent(\n",
      "/home/finn/miniconda3/envs/reed/lib/python3.9/site-packages/sklearn/linear_model/_coordinate_descent.py:645: ConvergenceWarning: Objective did not converge. You might want to increase the number of iterations, check the scale of the features or consider increasing regularisation. Duality gap: 2.176e+08, tolerance: 1.049e+05\n",
      "  model = cd_fast.enet_coordinate_descent(\n",
      "/home/finn/miniconda3/envs/reed/lib/python3.9/site-packages/sklearn/linear_model/_coordinate_descent.py:645: ConvergenceWarning: Objective did not converge. You might want to increase the number of iterations, check the scale of the features or consider increasing regularisation. Duality gap: 1.022e+08, tolerance: 9.242e+04\n",
      "  model = cd_fast.enet_coordinate_descent(\n",
      "/home/finn/miniconda3/envs/reed/lib/python3.9/site-packages/sklearn/linear_model/_coordinate_descent.py:645: ConvergenceWarning: Objective did not converge. You might want to increase the number of iterations, check the scale of the features or consider increasing regularisation. Duality gap: 1.557e+08, tolerance: 9.242e+04\n",
      "  model = cd_fast.enet_coordinate_descent(\n",
      "/home/finn/miniconda3/envs/reed/lib/python3.9/site-packages/sklearn/linear_model/_coordinate_descent.py:645: ConvergenceWarning: Objective did not converge. You might want to increase the number of iterations, check the scale of the features or consider increasing regularisation. Duality gap: 8.608e+07, tolerance: 1.039e+05\n",
      "  model = cd_fast.enet_coordinate_descent(\n",
      "/home/finn/miniconda3/envs/reed/lib/python3.9/site-packages/sklearn/linear_model/_coordinate_descent.py:645: ConvergenceWarning: Objective did not converge. You might want to increase the number of iterations, check the scale of the features or consider increasing regularisation. Duality gap: 2.747e+08, tolerance: 1.142e+05\n",
      "  model = cd_fast.enet_coordinate_descent(\n",
      "/home/finn/miniconda3/envs/reed/lib/python3.9/site-packages/sklearn/linear_model/_coordinate_descent.py:645: ConvergenceWarning: Objective did not converge. You might want to increase the number of iterations, check the scale of the features or consider increasing regularisation. Duality gap: 2.332e+08, tolerance: 1.142e+05\n",
      "  model = cd_fast.enet_coordinate_descent(\n",
      "/home/finn/miniconda3/envs/reed/lib/python3.9/site-packages/sklearn/linear_model/_coordinate_descent.py:645: ConvergenceWarning: Objective did not converge. You might want to increase the number of iterations, check the scale of the features or consider increasing regularisation. Duality gap: 1.624e+08, tolerance: 1.142e+05\n",
      "  model = cd_fast.enet_coordinate_descent(\n",
      "/home/finn/miniconda3/envs/reed/lib/python3.9/site-packages/sklearn/linear_model/_coordinate_descent.py:645: ConvergenceWarning: Objective did not converge. You might want to increase the number of iterations, check the scale of the features or consider increasing regularisation. Duality gap: 4.996e+07, tolerance: 1.039e+05\n",
      "  model = cd_fast.enet_coordinate_descent(\n",
      "/home/finn/miniconda3/envs/reed/lib/python3.9/site-packages/sklearn/linear_model/_coordinate_descent.py:645: ConvergenceWarning: Objective did not converge. You might want to increase the number of iterations, check the scale of the features or consider increasing regularisation. Duality gap: 2.148e+08, tolerance: 1.132e+05\n",
      "  model = cd_fast.enet_coordinate_descent(\n",
      "/home/finn/miniconda3/envs/reed/lib/python3.9/site-packages/sklearn/linear_model/_coordinate_descent.py:645: ConvergenceWarning: Objective did not converge. You might want to increase the number of iterations, check the scale of the features or consider increasing regularisation. Duality gap: 7.703e+07, tolerance: 9.242e+04\n",
      "  model = cd_fast.enet_coordinate_descent(\n",
      "/home/finn/miniconda3/envs/reed/lib/python3.9/site-packages/sklearn/linear_model/_coordinate_descent.py:645: ConvergenceWarning: Objective did not converge. You might want to increase the number of iterations, check the scale of the features or consider increasing regularisation. Duality gap: 5.709e+07, tolerance: 1.049e+05\n",
      "  model = cd_fast.enet_coordinate_descent(\n",
      "/home/finn/miniconda3/envs/reed/lib/python3.9/site-packages/sklearn/linear_model/_coordinate_descent.py:645: ConvergenceWarning: Objective did not converge. You might want to increase the number of iterations, check the scale of the features or consider increasing regularisation. Duality gap: 5.019e+07, tolerance: 1.142e+05\n",
      "  model = cd_fast.enet_coordinate_descent(\n",
      "/home/finn/miniconda3/envs/reed/lib/python3.9/site-packages/sklearn/linear_model/_coordinate_descent.py:645: ConvergenceWarning: Objective did not converge. You might want to increase the number of iterations, check the scale of the features or consider increasing regularisation. Duality gap: 1.615e+08, tolerance: 1.132e+05\n",
      "  model = cd_fast.enet_coordinate_descent(\n",
      "/home/finn/miniconda3/envs/reed/lib/python3.9/site-packages/sklearn/linear_model/_coordinate_descent.py:645: ConvergenceWarning: Objective did not converge. You might want to increase the number of iterations, check the scale of the features or consider increasing regularisation. Duality gap: 2.580e+07, tolerance: 1.039e+05\n",
      "  model = cd_fast.enet_coordinate_descent(\n",
      "/home/finn/miniconda3/envs/reed/lib/python3.9/site-packages/sklearn/linear_model/_coordinate_descent.py:645: ConvergenceWarning: Objective did not converge. You might want to increase the number of iterations, check the scale of the features or consider increasing regularisation. Duality gap: 1.574e+07, tolerance: 1.049e+05\n",
      "  model = cd_fast.enet_coordinate_descent(\n",
      "/home/finn/miniconda3/envs/reed/lib/python3.9/site-packages/sklearn/linear_model/_coordinate_descent.py:645: ConvergenceWarning: Objective did not converge. You might want to increase the number of iterations, check the scale of the features or consider increasing regularisation. Duality gap: 3.600e+07, tolerance: 9.242e+04\n",
      "  model = cd_fast.enet_coordinate_descent(\n",
      "/home/finn/miniconda3/envs/reed/lib/python3.9/site-packages/sklearn/linear_model/_coordinate_descent.py:645: ConvergenceWarning: Objective did not converge. You might want to increase the number of iterations, check the scale of the features or consider increasing regularisation. Duality gap: 9.913e+07, tolerance: 1.132e+05\n",
      "  model = cd_fast.enet_coordinate_descent(\n",
      "/home/finn/miniconda3/envs/reed/lib/python3.9/site-packages/sklearn/linear_model/_coordinate_descent.py:645: ConvergenceWarning: Objective did not converge. You might want to increase the number of iterations, check the scale of the features or consider increasing regularisation. Duality gap: 1.235e+07, tolerance: 1.039e+05\n",
      "  model = cd_fast.enet_coordinate_descent(\n"
     ]
    },
    {
     "name": "stderr",
     "output_type": "stream",
     "text": [
      "/home/finn/miniconda3/envs/reed/lib/python3.9/site-packages/sklearn/linear_model/_coordinate_descent.py:645: ConvergenceWarning: Objective did not converge. You might want to increase the number of iterations, check the scale of the features or consider increasing regularisation. Duality gap: 5.844e+06, tolerance: 1.039e+05\n",
      "  model = cd_fast.enet_coordinate_descent(\n",
      "/home/finn/miniconda3/envs/reed/lib/python3.9/site-packages/sklearn/linear_model/_coordinate_descent.py:645: ConvergenceWarning: Objective did not converge. You might want to increase the number of iterations, check the scale of the features or consider increasing regularisation. Duality gap: 5.041e+06, tolerance: 1.132e+05\n",
      "  model = cd_fast.enet_coordinate_descent(\n",
      "/home/finn/miniconda3/envs/reed/lib/python3.9/site-packages/sklearn/linear_model/_coordinate_descent.py:645: ConvergenceWarning: Objective did not converge. You might want to increase the number of iterations, check the scale of the features or consider increasing regularisation. Duality gap: 1.665e+06, tolerance: 1.049e+05\n",
      "  model = cd_fast.enet_coordinate_descent(\n",
      "/home/finn/miniconda3/envs/reed/lib/python3.9/site-packages/sklearn/linear_model/_coordinate_descent.py:645: ConvergenceWarning: Objective did not converge. You might want to increase the number of iterations, check the scale of the features or consider increasing regularisation. Duality gap: 8.999e+06, tolerance: 9.242e+04\n",
      "  model = cd_fast.enet_coordinate_descent(\n",
      "/home/finn/miniconda3/envs/reed/lib/python3.9/site-packages/sklearn/linear_model/_coordinate_descent.py:645: ConvergenceWarning: Objective did not converge. You might want to increase the number of iterations, check the scale of the features or consider increasing regularisation. Duality gap: 5.151e+05, tolerance: 1.142e+05\n",
      "  model = cd_fast.enet_coordinate_descent(\n",
      "/home/finn/miniconda3/envs/reed/lib/python3.9/site-packages/sklearn/linear_model/_coordinate_descent.py:645: ConvergenceWarning: Objective did not converge. You might want to increase the number of iterations, check the scale of the features or consider increasing regularisation. Duality gap: 2.735e+06, tolerance: 1.142e+05\n",
      "  model = cd_fast.enet_coordinate_descent(\n",
      "/home/finn/miniconda3/envs/reed/lib/python3.9/site-packages/sklearn/linear_model/_coordinate_descent.py:645: ConvergenceWarning: Objective did not converge. You might want to increase the number of iterations, check the scale of the features or consider increasing regularisation. Duality gap: 4.064e+07, tolerance: 1.132e+05\n",
      "  model = cd_fast.enet_coordinate_descent(\n"
     ]
    },
    {
     "name": "stdout",
     "output_type": "stream",
     "text": [
      "Fitting 5 folds for each of 30 candidates, totalling 150 fits\n"
     ]
    },
    {
     "name": "stderr",
     "output_type": "stream",
     "text": [
      "/home/finn/miniconda3/envs/reed/lib/python3.9/site-packages/sklearn/linear_model/_coordinate_descent.py:645: ConvergenceWarning: Objective did not converge. You might want to increase the number of iterations, check the scale of the features or consider increasing regularisation. Duality gap: 2.669e+07, tolerance: 9.290e+04\n",
      "  model = cd_fast.enet_coordinate_descent(\n",
      "/home/finn/miniconda3/envs/reed/lib/python3.9/site-packages/sklearn/linear_model/_coordinate_descent.py:645: ConvergenceWarning: Objective did not converge. You might want to increase the number of iterations, check the scale of the features or consider increasing regularisation. Duality gap: 1.323e+07, tolerance: 9.290e+04\n",
      "  model = cd_fast.enet_coordinate_descent(\n",
      "/home/finn/miniconda3/envs/reed/lib/python3.9/site-packages/sklearn/linear_model/_coordinate_descent.py:645: ConvergenceWarning: Objective did not converge. You might want to increase the number of iterations, check the scale of the features or consider increasing regularisation. Duality gap: 5.994e+06, tolerance: 9.290e+04\n",
      "  model = cd_fast.enet_coordinate_descent(\n",
      "/home/finn/miniconda3/envs/reed/lib/python3.9/site-packages/sklearn/linear_model/_coordinate_descent.py:645: ConvergenceWarning: Objective did not converge. You might want to increase the number of iterations, check the scale of the features or consider increasing regularisation. Duality gap: 2.519e+06, tolerance: 9.290e+04\n",
      "  model = cd_fast.enet_coordinate_descent(\n",
      "/home/finn/miniconda3/envs/reed/lib/python3.9/site-packages/sklearn/linear_model/_coordinate_descent.py:645: ConvergenceWarning: Objective did not converge. You might want to increase the number of iterations, check the scale of the features or consider increasing regularisation. Duality gap: 9.958e+05, tolerance: 9.290e+04\n",
      "  model = cd_fast.enet_coordinate_descent(\n",
      "/home/finn/miniconda3/envs/reed/lib/python3.9/site-packages/sklearn/linear_model/_coordinate_descent.py:645: ConvergenceWarning: Objective did not converge. You might want to increase the number of iterations, check the scale of the features or consider increasing regularisation. Duality gap: 1.374e+05, tolerance: 9.290e+04\n",
      "  model = cd_fast.enet_coordinate_descent(\n",
      "/home/finn/miniconda3/envs/reed/lib/python3.9/site-packages/sklearn/linear_model/_coordinate_descent.py:645: ConvergenceWarning: Objective did not converge. You might want to increase the number of iterations, check the scale of the features or consider increasing regularisation. Duality gap: 3.744e+05, tolerance: 9.290e+04\n",
      "  model = cd_fast.enet_coordinate_descent(\n"
     ]
    },
    {
     "name": "stdout",
     "output_type": "stream",
     "text": [
      "Fitting 5 folds for each of 30 candidates, totalling 150 fits\n"
     ]
    },
    {
     "name": "stderr",
     "output_type": "stream",
     "text": [
      "/home/finn/miniconda3/envs/reed/lib/python3.9/site-packages/sklearn/linear_model/_coordinate_descent.py:645: ConvergenceWarning: Objective did not converge. You might want to increase the number of iterations, check the scale of the features or consider increasing regularisation. Duality gap: 2.544e+05, tolerance: 1.071e+05\n",
      "  model = cd_fast.enet_coordinate_descent(\n",
      "/home/finn/miniconda3/envs/reed/lib/python3.9/site-packages/sklearn/linear_model/_coordinate_descent.py:645: ConvergenceWarning: Objective did not converge. You might want to increase the number of iterations, check the scale of the features or consider increasing regularisation. Duality gap: 9.186e+05, tolerance: 1.071e+05\n",
      "  model = cd_fast.enet_coordinate_descent(\n",
      "/home/finn/miniconda3/envs/reed/lib/python3.9/site-packages/sklearn/linear_model/_coordinate_descent.py:645: ConvergenceWarning: Objective did not converge. You might want to increase the number of iterations, check the scale of the features or consider increasing regularisation. Duality gap: 8.437e+05, tolerance: 1.071e+05\n",
      "  model = cd_fast.enet_coordinate_descent(\n",
      "/home/finn/miniconda3/envs/reed/lib/python3.9/site-packages/sklearn/linear_model/_coordinate_descent.py:645: ConvergenceWarning: Objective did not converge. You might want to increase the number of iterations, check the scale of the features or consider increasing regularisation. Duality gap: 1.514e+06, tolerance: 1.071e+05\n",
      "  model = cd_fast.enet_coordinate_descent(\n"
     ]
    },
    {
     "name": "stdout",
     "output_type": "stream",
     "text": [
      "Fitting 5 folds for each of 30 candidates, totalling 150 fits\n"
     ]
    },
    {
     "name": "stderr",
     "output_type": "stream",
     "text": [
      "/home/finn/miniconda3/envs/reed/lib/python3.9/site-packages/sklearn/linear_model/_coordinate_descent.py:645: ConvergenceWarning: Objective did not converge. You might want to increase the number of iterations, check the scale of the features or consider increasing regularisation. Duality gap: 1.371e+08, tolerance: 1.086e+05\n",
      "  model = cd_fast.enet_coordinate_descent(\n",
      "/home/finn/miniconda3/envs/reed/lib/python3.9/site-packages/sklearn/linear_model/_coordinate_descent.py:645: ConvergenceWarning: Objective did not converge. You might want to increase the number of iterations, check the scale of the features or consider increasing regularisation. Duality gap: 1.774e+08, tolerance: 1.086e+05\n",
      "  model = cd_fast.enet_coordinate_descent(\n",
      "/home/finn/miniconda3/envs/reed/lib/python3.9/site-packages/sklearn/linear_model/_coordinate_descent.py:645: ConvergenceWarning: Objective did not converge. You might want to increase the number of iterations, check the scale of the features or consider increasing regularisation. Duality gap: 9.464e+07, tolerance: 1.086e+05\n",
      "  model = cd_fast.enet_coordinate_descent(\n",
      "/home/finn/miniconda3/envs/reed/lib/python3.9/site-packages/sklearn/linear_model/_coordinate_descent.py:645: ConvergenceWarning: Objective did not converge. You might want to increase the number of iterations, check the scale of the features or consider increasing regularisation. Duality gap: 5.648e+07, tolerance: 1.086e+05\n",
      "  model = cd_fast.enet_coordinate_descent(\n",
      "/home/finn/miniconda3/envs/reed/lib/python3.9/site-packages/sklearn/linear_model/_coordinate_descent.py:645: ConvergenceWarning: Objective did not converge. You might want to increase the number of iterations, check the scale of the features or consider increasing regularisation. Duality gap: 2.813e+07, tolerance: 1.086e+05\n",
      "  model = cd_fast.enet_coordinate_descent(\n",
      "/home/finn/miniconda3/envs/reed/lib/python3.9/site-packages/sklearn/linear_model/_coordinate_descent.py:645: ConvergenceWarning: Objective did not converge. You might want to increase the number of iterations, check the scale of the features or consider increasing regularisation. Duality gap: 2.950e+06, tolerance: 1.086e+05\n",
      "  model = cd_fast.enet_coordinate_descent(\n",
      "/home/finn/miniconda3/envs/reed/lib/python3.9/site-packages/sklearn/linear_model/_coordinate_descent.py:645: ConvergenceWarning: Objective did not converge. You might want to increase the number of iterations, check the scale of the features or consider increasing regularisation. Duality gap: 2.797e+05, tolerance: 1.086e+05\n",
      "  model = cd_fast.enet_coordinate_descent(\n",
      "/home/finn/miniconda3/envs/reed/lib/python3.9/site-packages/sklearn/linear_model/_coordinate_descent.py:645: ConvergenceWarning: Objective did not converge. You might want to increase the number of iterations, check the scale of the features or consider increasing regularisation. Duality gap: 1.103e+07, tolerance: 1.086e+05\n",
      "  model = cd_fast.enet_coordinate_descent(\n"
     ]
    },
    {
     "name": "stdout",
     "output_type": "stream",
     "text": [
      "Fitting 5 folds for each of 30 candidates, totalling 150 fits\n"
     ]
    },
    {
     "name": "stderr",
     "output_type": "stream",
     "text": [
      "/home/finn/miniconda3/envs/reed/lib/python3.9/site-packages/sklearn/linear_model/_coordinate_descent.py:645: ConvergenceWarning: Objective did not converge. You might want to increase the number of iterations, check the scale of the features or consider increasing regularisation. Duality gap: 9.134e+06, tolerance: 1.127e+05\n",
      "  model = cd_fast.enet_coordinate_descent(\n",
      "/home/finn/miniconda3/envs/reed/lib/python3.9/site-packages/sklearn/linear_model/_coordinate_descent.py:645: ConvergenceWarning: Objective did not converge. You might want to increase the number of iterations, check the scale of the features or consider increasing regularisation. Duality gap: 2.009e+07, tolerance: 1.127e+05\n",
      "  model = cd_fast.enet_coordinate_descent(\n",
      "/home/finn/miniconda3/envs/reed/lib/python3.9/site-packages/sklearn/linear_model/_coordinate_descent.py:645: ConvergenceWarning: Objective did not converge. You might want to increase the number of iterations, check the scale of the features or consider increasing regularisation. Duality gap: 3.809e+06, tolerance: 1.127e+05\n",
      "  model = cd_fast.enet_coordinate_descent(\n",
      "/home/finn/miniconda3/envs/reed/lib/python3.9/site-packages/sklearn/linear_model/_coordinate_descent.py:645: ConvergenceWarning: Objective did not converge. You might want to increase the number of iterations, check the scale of the features or consider increasing regularisation. Duality gap: 1.468e+06, tolerance: 1.127e+05\n",
      "  model = cd_fast.enet_coordinate_descent(\n",
      "/home/finn/miniconda3/envs/reed/lib/python3.9/site-packages/sklearn/linear_model/_coordinate_descent.py:645: ConvergenceWarning: Objective did not converge. You might want to increase the number of iterations, check the scale of the features or consider increasing regularisation. Duality gap: 5.197e+05, tolerance: 1.127e+05\n",
      "  model = cd_fast.enet_coordinate_descent(\n",
      "/home/finn/miniconda3/envs/reed/lib/python3.9/site-packages/sklearn/linear_model/_coordinate_descent.py:645: ConvergenceWarning: Objective did not converge. You might want to increase the number of iterations, check the scale of the features or consider increasing regularisation. Duality gap: 1.661e+05, tolerance: 1.127e+05\n",
      "  model = cd_fast.enet_coordinate_descent(\n"
     ]
    },
    {
     "name": "stdout",
     "output_type": "stream",
     "text": [
      "Fitting 5 folds for each of 30 candidates, totalling 150 fits\n"
     ]
    },
    {
     "name": "stderr",
     "output_type": "stream",
     "text": [
      "/home/finn/miniconda3/envs/reed/lib/python3.9/site-packages/sklearn/linear_model/_coordinate_descent.py:645: ConvergenceWarning: Objective did not converge. You might want to increase the number of iterations, check the scale of the features or consider increasing regularisation. Duality gap: 2.831e+08, tolerance: 1.149e+05\n",
      "  model = cd_fast.enet_coordinate_descent(\n",
      "/home/finn/miniconda3/envs/reed/lib/python3.9/site-packages/sklearn/linear_model/_coordinate_descent.py:645: ConvergenceWarning: Objective did not converge. You might want to increase the number of iterations, check the scale of the features or consider increasing regularisation. Duality gap: 2.864e+07, tolerance: 1.424e+05\n",
      "  model = cd_fast.enet_coordinate_descent(\n",
      "/home/finn/miniconda3/envs/reed/lib/python3.9/site-packages/sklearn/linear_model/_coordinate_descent.py:645: ConvergenceWarning: Objective did not converge. You might want to increase the number of iterations, check the scale of the features or consider increasing regularisation. Duality gap: 2.731e+08, tolerance: 1.149e+05\n",
      "  model = cd_fast.enet_coordinate_descent(\n",
      "/home/finn/miniconda3/envs/reed/lib/python3.9/site-packages/sklearn/linear_model/_coordinate_descent.py:645: ConvergenceWarning: Objective did not converge. You might want to increase the number of iterations, check the scale of the features or consider increasing regularisation. Duality gap: 2.574e+08, tolerance: 1.149e+05\n",
      "  model = cd_fast.enet_coordinate_descent(\n",
      "/home/finn/miniconda3/envs/reed/lib/python3.9/site-packages/sklearn/linear_model/_coordinate_descent.py:645: ConvergenceWarning: Objective did not converge. You might want to increase the number of iterations, check the scale of the features or consider increasing regularisation. Duality gap: 1.341e+07, tolerance: 1.424e+05\n",
      "  model = cd_fast.enet_coordinate_descent(\n",
      "/home/finn/miniconda3/envs/reed/lib/python3.9/site-packages/sklearn/linear_model/_coordinate_descent.py:645: ConvergenceWarning: Objective did not converge. You might want to increase the number of iterations, check the scale of the features or consider increasing regularisation. Duality gap: 5.804e+06, tolerance: 1.424e+05\n",
      "  model = cd_fast.enet_coordinate_descent(\n",
      "/home/finn/miniconda3/envs/reed/lib/python3.9/site-packages/sklearn/linear_model/_coordinate_descent.py:645: ConvergenceWarning: Objective did not converge. You might want to increase the number of iterations, check the scale of the features or consider increasing regularisation. Duality gap: 9.029e+05, tolerance: 1.424e+05\n",
      "  model = cd_fast.enet_coordinate_descent(\n",
      "/home/finn/miniconda3/envs/reed/lib/python3.9/site-packages/sklearn/linear_model/_coordinate_descent.py:645: ConvergenceWarning: Objective did not converge. You might want to increase the number of iterations, check the scale of the features or consider increasing regularisation. Duality gap: 2.330e+08, tolerance: 1.149e+05\n",
      "  model = cd_fast.enet_coordinate_descent(\n",
      "/home/finn/miniconda3/envs/reed/lib/python3.9/site-packages/sklearn/linear_model/_coordinate_descent.py:645: ConvergenceWarning: Objective did not converge. You might want to increase the number of iterations, check the scale of the features or consider increasing regularisation. Duality gap: 1.963e+08, tolerance: 1.149e+05\n",
      "  model = cd_fast.enet_coordinate_descent(\n",
      "/home/finn/miniconda3/envs/reed/lib/python3.9/site-packages/sklearn/linear_model/_coordinate_descent.py:645: ConvergenceWarning: Objective did not converge. You might want to increase the number of iterations, check the scale of the features or consider increasing regularisation. Duality gap: 1.437e+08, tolerance: 1.149e+05\n",
      "  model = cd_fast.enet_coordinate_descent(\n",
      "/home/finn/miniconda3/envs/reed/lib/python3.9/site-packages/sklearn/linear_model/_coordinate_descent.py:645: ConvergenceWarning: Objective did not converge. You might want to increase the number of iterations, check the scale of the features or consider increasing regularisation. Duality gap: 2.353e+06, tolerance: 1.424e+05\n",
      "  model = cd_fast.enet_coordinate_descent(\n",
      "/home/finn/miniconda3/envs/reed/lib/python3.9/site-packages/sklearn/linear_model/_coordinate_descent.py:645: ConvergenceWarning: Objective did not converge. You might want to increase the number of iterations, check the scale of the features or consider increasing regularisation. Duality gap: 7.554e+07, tolerance: 1.149e+05\n",
      "  model = cd_fast.enet_coordinate_descent(\n",
      "/home/finn/miniconda3/envs/reed/lib/python3.9/site-packages/sklearn/linear_model/_coordinate_descent.py:645: ConvergenceWarning: Objective did not converge. You might want to increase the number of iterations, check the scale of the features or consider increasing regularisation. Duality gap: 3.309e+05, tolerance: 1.424e+05\n",
      "  model = cd_fast.enet_coordinate_descent(\n",
      "/home/finn/miniconda3/envs/reed/lib/python3.9/site-packages/sklearn/linear_model/_coordinate_descent.py:645: ConvergenceWarning: Objective did not converge. You might want to increase the number of iterations, check the scale of the features or consider increasing regularisation. Duality gap: 1.075e+07, tolerance: 1.149e+05\n",
      "  model = cd_fast.enet_coordinate_descent(\n"
     ]
    },
    {
     "name": "stdout",
     "output_type": "stream",
     "text": [
      "Fitting 5 folds for each of 30 candidates, totalling 150 fits\n"
     ]
    },
    {
     "name": "stderr",
     "output_type": "stream",
     "text": [
      "/home/finn/miniconda3/envs/reed/lib/python3.9/site-packages/sklearn/linear_model/_coordinate_descent.py:645: ConvergenceWarning: Objective did not converge. You might want to increase the number of iterations, check the scale of the features or consider increasing regularisation. Duality gap: 5.001e+07, tolerance: 9.564e+04\n",
      "  model = cd_fast.enet_coordinate_descent(\n",
      "/home/finn/miniconda3/envs/reed/lib/python3.9/site-packages/sklearn/linear_model/_coordinate_descent.py:645: ConvergenceWarning: Objective did not converge. You might want to increase the number of iterations, check the scale of the features or consider increasing regularisation. Duality gap: 8.642e+07, tolerance: 9.564e+04\n",
      "  model = cd_fast.enet_coordinate_descent(\n",
      "/home/finn/miniconda3/envs/reed/lib/python3.9/site-packages/sklearn/linear_model/_coordinate_descent.py:645: ConvergenceWarning: Objective did not converge. You might want to increase the number of iterations, check the scale of the features or consider increasing regularisation. Duality gap: 2.391e+07, tolerance: 9.564e+04\n",
      "  model = cd_fast.enet_coordinate_descent(\n",
      "/home/finn/miniconda3/envs/reed/lib/python3.9/site-packages/sklearn/linear_model/_coordinate_descent.py:645: ConvergenceWarning: Objective did not converge. You might want to increase the number of iterations, check the scale of the features or consider increasing regularisation. Duality gap: 8.818e+06, tolerance: 9.564e+04\n",
      "  model = cd_fast.enet_coordinate_descent(\n",
      "/home/finn/miniconda3/envs/reed/lib/python3.9/site-packages/sklearn/linear_model/_coordinate_descent.py:645: ConvergenceWarning: Objective did not converge. You might want to increase the number of iterations, check the scale of the features or consider increasing regularisation. Duality gap: 2.063e+06, tolerance: 9.564e+04\n",
      "  model = cd_fast.enet_coordinate_descent(\n"
     ]
    },
    {
     "name": "stdout",
     "output_type": "stream",
     "text": [
      "Fitting 5 folds for each of 30 candidates, totalling 150 fits\n",
      "Fitting 5 folds for each of 30 candidates, totalling 150 fits\n"
     ]
    },
    {
     "name": "stderr",
     "output_type": "stream",
     "text": [
      "/home/finn/miniconda3/envs/reed/lib/python3.9/site-packages/sklearn/linear_model/_coordinate_descent.py:645: ConvergenceWarning: Objective did not converge. You might want to increase the number of iterations, check the scale of the features or consider increasing regularisation. Duality gap: 1.405e+07, tolerance: 1.165e+05\n",
      "  model = cd_fast.enet_coordinate_descent(\n",
      "/home/finn/miniconda3/envs/reed/lib/python3.9/site-packages/sklearn/linear_model/_coordinate_descent.py:645: ConvergenceWarning: Objective did not converge. You might want to increase the number of iterations, check the scale of the features or consider increasing regularisation. Duality gap: 2.938e+07, tolerance: 1.165e+05\n",
      "  model = cd_fast.enet_coordinate_descent(\n",
      "/home/finn/miniconda3/envs/reed/lib/python3.9/site-packages/sklearn/linear_model/_coordinate_descent.py:645: ConvergenceWarning: Objective did not converge. You might want to increase the number of iterations, check the scale of the features or consider increasing regularisation. Duality gap: 6.120e+06, tolerance: 1.165e+05\n",
      "  model = cd_fast.enet_coordinate_descent(\n",
      "/home/finn/miniconda3/envs/reed/lib/python3.9/site-packages/sklearn/linear_model/_coordinate_descent.py:645: ConvergenceWarning: Objective did not converge. You might want to increase the number of iterations, check the scale of the features or consider increasing regularisation. Duality gap: 2.451e+06, tolerance: 1.165e+05\n",
      "  model = cd_fast.enet_coordinate_descent(\n",
      "/home/finn/miniconda3/envs/reed/lib/python3.9/site-packages/sklearn/linear_model/_coordinate_descent.py:645: ConvergenceWarning: Objective did not converge. You might want to increase the number of iterations, check the scale of the features or consider increasing regularisation. Duality gap: 3.148e+05, tolerance: 1.165e+05\n",
      "  model = cd_fast.enet_coordinate_descent(\n",
      "/home/finn/miniconda3/envs/reed/lib/python3.9/site-packages/sklearn/linear_model/_coordinate_descent.py:645: ConvergenceWarning: Objective did not converge. You might want to increase the number of iterations, check the scale of the features or consider increasing regularisation. Duality gap: 8.713e+05, tolerance: 1.165e+05\n",
      "  model = cd_fast.enet_coordinate_descent(\n"
     ]
    },
    {
     "name": "stdout",
     "output_type": "stream",
     "text": [
      "Fitting 5 folds for each of 30 candidates, totalling 150 fits\n"
     ]
    },
    {
     "name": "stderr",
     "output_type": "stream",
     "text": [
      "/home/finn/miniconda3/envs/reed/lib/python3.9/site-packages/sklearn/linear_model/_coordinate_descent.py:645: ConvergenceWarning: Objective did not converge. You might want to increase the number of iterations, check the scale of the features or consider increasing regularisation. Duality gap: 2.680e+07, tolerance: 1.210e+05\n",
      "  model = cd_fast.enet_coordinate_descent(\n",
      "/home/finn/miniconda3/envs/reed/lib/python3.9/site-packages/sklearn/linear_model/_coordinate_descent.py:645: ConvergenceWarning: Objective did not converge. You might want to increase the number of iterations, check the scale of the features or consider increasing regularisation. Duality gap: 8.766e+07, tolerance: 1.210e+05\n",
      "  model = cd_fast.enet_coordinate_descent(\n",
      "/home/finn/miniconda3/envs/reed/lib/python3.9/site-packages/sklearn/linear_model/_coordinate_descent.py:645: ConvergenceWarning: Objective did not converge. You might want to increase the number of iterations, check the scale of the features or consider increasing regularisation. Duality gap: 5.164e+07, tolerance: 1.210e+05\n",
      "  model = cd_fast.enet_coordinate_descent(\n",
      "/home/finn/miniconda3/envs/reed/lib/python3.9/site-packages/sklearn/linear_model/_coordinate_descent.py:645: ConvergenceWarning: Objective did not converge. You might want to increase the number of iterations, check the scale of the features or consider increasing regularisation. Duality gap: 4.963e+06, tolerance: 1.210e+05\n",
      "  model = cd_fast.enet_coordinate_descent(\n",
      "/home/finn/miniconda3/envs/reed/lib/python3.9/site-packages/sklearn/linear_model/_coordinate_descent.py:645: ConvergenceWarning: Objective did not converge. You might want to increase the number of iterations, check the scale of the features or consider increasing regularisation. Duality gap: 1.228e+07, tolerance: 1.210e+05\n",
      "  model = cd_fast.enet_coordinate_descent(\n",
      "/home/finn/miniconda3/envs/reed/lib/python3.9/site-packages/sklearn/linear_model/_coordinate_descent.py:645: ConvergenceWarning: Objective did not converge. You might want to increase the number of iterations, check the scale of the features or consider increasing regularisation. Duality gap: 5.154e+05, tolerance: 1.210e+05\n",
      "  model = cd_fast.enet_coordinate_descent(\n",
      "/home/finn/miniconda3/envs/reed/lib/python3.9/site-packages/sklearn/linear_model/_coordinate_descent.py:645: ConvergenceWarning: Objective did not converge. You might want to increase the number of iterations, check the scale of the features or consider increasing regularisation. Duality gap: 1.752e+06, tolerance: 1.210e+05\n",
      "  model = cd_fast.enet_coordinate_descent(\n"
     ]
    },
    {
     "name": "stdout",
     "output_type": "stream",
     "text": [
      "Fitting 5 folds for each of 30 candidates, totalling 150 fits\n"
     ]
    },
    {
     "name": "stderr",
     "output_type": "stream",
     "text": [
      "/home/finn/miniconda3/envs/reed/lib/python3.9/site-packages/sklearn/linear_model/_coordinate_descent.py:645: ConvergenceWarning: Objective did not converge. You might want to increase the number of iterations, check the scale of the features or consider increasing regularisation. Duality gap: 2.380e+08, tolerance: 1.022e+05\n",
      "  model = cd_fast.enet_coordinate_descent(\n",
      "/home/finn/miniconda3/envs/reed/lib/python3.9/site-packages/sklearn/linear_model/_coordinate_descent.py:645: ConvergenceWarning: Objective did not converge. You might want to increase the number of iterations, check the scale of the features or consider increasing regularisation. Duality gap: 2.146e+07, tolerance: 1.005e+05\n",
      "  model = cd_fast.enet_coordinate_descent(\n",
      "/home/finn/miniconda3/envs/reed/lib/python3.9/site-packages/sklearn/linear_model/_coordinate_descent.py:645: ConvergenceWarning: Objective did not converge. You might want to increase the number of iterations, check the scale of the features or consider increasing regularisation. Duality gap: 2.147e+08, tolerance: 1.022e+05\n",
      "  model = cd_fast.enet_coordinate_descent(\n",
      "/home/finn/miniconda3/envs/reed/lib/python3.9/site-packages/sklearn/linear_model/_coordinate_descent.py:645: ConvergenceWarning: Objective did not converge. You might want to increase the number of iterations, check the scale of the features or consider increasing regularisation. Duality gap: 6.160e+05, tolerance: 9.079e+04\n",
      "  model = cd_fast.enet_coordinate_descent(\n",
      "/home/finn/miniconda3/envs/reed/lib/python3.9/site-packages/sklearn/linear_model/_coordinate_descent.py:645: ConvergenceWarning: Objective did not converge. You might want to increase the number of iterations, check the scale of the features or consider increasing regularisation. Duality gap: 1.554e+06, tolerance: 9.079e+04\n",
      "  model = cd_fast.enet_coordinate_descent(\n",
      "/home/finn/miniconda3/envs/reed/lib/python3.9/site-packages/sklearn/linear_model/_coordinate_descent.py:645: ConvergenceWarning: Objective did not converge. You might want to increase the number of iterations, check the scale of the features or consider increasing regularisation. Duality gap: 1.889e+06, tolerance: 9.283e+04\n",
      "  model = cd_fast.enet_coordinate_descent(\n",
      "/home/finn/miniconda3/envs/reed/lib/python3.9/site-packages/sklearn/linear_model/_coordinate_descent.py:645: ConvergenceWarning: Objective did not converge. You might want to increase the number of iterations, check the scale of the features or consider increasing regularisation. Duality gap: 1.832e+08, tolerance: 1.022e+05\n",
      "  model = cd_fast.enet_coordinate_descent(\n",
      "/home/finn/miniconda3/envs/reed/lib/python3.9/site-packages/sklearn/linear_model/_coordinate_descent.py:645: ConvergenceWarning: Objective did not converge. You might want to increase the number of iterations, check the scale of the features or consider increasing regularisation. Duality gap: 1.249e+06, tolerance: 9.830e+04\n",
      "  model = cd_fast.enet_coordinate_descent(\n",
      "/home/finn/miniconda3/envs/reed/lib/python3.9/site-packages/sklearn/linear_model/_coordinate_descent.py:645: ConvergenceWarning: Objective did not converge. You might want to increase the number of iterations, check the scale of the features or consider increasing regularisation. Duality gap: 9.329e+06, tolerance: 1.005e+05\n",
      "  model = cd_fast.enet_coordinate_descent(\n",
      "/home/finn/miniconda3/envs/reed/lib/python3.9/site-packages/sklearn/linear_model/_coordinate_descent.py:645: ConvergenceWarning: Objective did not converge. You might want to increase the number of iterations, check the scale of the features or consider increasing regularisation. Duality gap: 3.381e+06, tolerance: 1.005e+05\n",
      "  model = cd_fast.enet_coordinate_descent(\n",
      "/home/finn/miniconda3/envs/reed/lib/python3.9/site-packages/sklearn/linear_model/_coordinate_descent.py:645: ConvergenceWarning: Objective did not converge. You might want to increase the number of iterations, check the scale of the features or consider increasing regularisation. Duality gap: 4.495e+06, tolerance: 9.283e+04\n",
      "  model = cd_fast.enet_coordinate_descent(\n",
      "/home/finn/miniconda3/envs/reed/lib/python3.9/site-packages/sklearn/linear_model/_coordinate_descent.py:645: ConvergenceWarning: Objective did not converge. You might want to increase the number of iterations, check the scale of the features or consider increasing regularisation. Duality gap: 3.025e+06, tolerance: 9.830e+04\n",
      "  model = cd_fast.enet_coordinate_descent(\n",
      "/home/finn/miniconda3/envs/reed/lib/python3.9/site-packages/sklearn/linear_model/_coordinate_descent.py:645: ConvergenceWarning: Objective did not converge. You might want to increase the number of iterations, check the scale of the features or consider increasing regularisation. Duality gap: 7.603e+05, tolerance: 9.283e+04\n",
      "  model = cd_fast.enet_coordinate_descent(\n",
      "/home/finn/miniconda3/envs/reed/lib/python3.9/site-packages/sklearn/linear_model/_coordinate_descent.py:645: ConvergenceWarning: Objective did not converge. You might want to increase the number of iterations, check the scale of the features or consider increasing regularisation. Duality gap: 9.197e+05, tolerance: 1.005e+05\n",
      "  model = cd_fast.enet_coordinate_descent(\n",
      "/home/finn/miniconda3/envs/reed/lib/python3.9/site-packages/sklearn/linear_model/_coordinate_descent.py:645: ConvergenceWarning: Objective did not converge. You might want to increase the number of iterations, check the scale of the features or consider increasing regularisation. Duality gap: 2.341e+05, tolerance: 9.079e+04\n",
      "  model = cd_fast.enet_coordinate_descent(\n",
      "/home/finn/miniconda3/envs/reed/lib/python3.9/site-packages/sklearn/linear_model/_coordinate_descent.py:645: ConvergenceWarning: Objective did not converge. You might want to increase the number of iterations, check the scale of the features or consider increasing regularisation. Duality gap: 1.441e+08, tolerance: 1.022e+05\n",
      "  model = cd_fast.enet_coordinate_descent(\n",
      "/home/finn/miniconda3/envs/reed/lib/python3.9/site-packages/sklearn/linear_model/_coordinate_descent.py:645: ConvergenceWarning: Objective did not converge. You might want to increase the number of iterations, check the scale of the features or consider increasing regularisation. Duality gap: 1.939e+05, tolerance: 9.830e+04\n",
      "  model = cd_fast.enet_coordinate_descent(\n",
      "/home/finn/miniconda3/envs/reed/lib/python3.9/site-packages/sklearn/linear_model/_coordinate_descent.py:645: ConvergenceWarning: Objective did not converge. You might want to increase the number of iterations, check the scale of the features or consider increasing regularisation. Duality gap: 4.979e+05, tolerance: 9.830e+04\n",
      "  model = cd_fast.enet_coordinate_descent(\n",
      "/home/finn/miniconda3/envs/reed/lib/python3.9/site-packages/sklearn/linear_model/_coordinate_descent.py:645: ConvergenceWarning: Objective did not converge. You might want to increase the number of iterations, check the scale of the features or consider increasing regularisation. Duality gap: 1.010e+08, tolerance: 1.022e+05\n",
      "  model = cd_fast.enet_coordinate_descent(\n",
      "/home/finn/miniconda3/envs/reed/lib/python3.9/site-packages/sklearn/linear_model/_coordinate_descent.py:645: ConvergenceWarning: Objective did not converge. You might want to increase the number of iterations, check the scale of the features or consider increasing regularisation. Duality gap: 2.969e+05, tolerance: 9.283e+04\n",
      "  model = cd_fast.enet_coordinate_descent(\n",
      "/home/finn/miniconda3/envs/reed/lib/python3.9/site-packages/sklearn/linear_model/_coordinate_descent.py:645: ConvergenceWarning: Objective did not converge. You might want to increase the number of iterations, check the scale of the features or consider increasing regularisation. Duality gap: 1.198e+05, tolerance: 1.005e+05\n",
      "  model = cd_fast.enet_coordinate_descent(\n",
      "/home/finn/miniconda3/envs/reed/lib/python3.9/site-packages/sklearn/linear_model/_coordinate_descent.py:645: ConvergenceWarning: Objective did not converge. You might want to increase the number of iterations, check the scale of the features or consider increasing regularisation. Duality gap: 6.034e+07, tolerance: 1.022e+05\n",
      "  model = cd_fast.enet_coordinate_descent(\n",
      "/home/finn/miniconda3/envs/reed/lib/python3.9/site-packages/sklearn/linear_model/_coordinate_descent.py:645: ConvergenceWarning: Objective did not converge. You might want to increase the number of iterations, check the scale of the features or consider increasing regularisation. Duality gap: 1.144e+05, tolerance: 9.283e+04\n",
      "  model = cd_fast.enet_coordinate_descent(\n",
      "/home/finn/miniconda3/envs/reed/lib/python3.9/site-packages/sklearn/linear_model/_coordinate_descent.py:645: ConvergenceWarning: Objective did not converge. You might want to increase the number of iterations, check the scale of the features or consider increasing regularisation. Duality gap: 1.015e+07, tolerance: 1.022e+05\n",
      "  model = cd_fast.enet_coordinate_descent(\n",
      "/home/finn/miniconda3/envs/reed/lib/python3.9/site-packages/sklearn/linear_model/_coordinate_descent.py:645: ConvergenceWarning: Objective did not converge. You might want to increase the number of iterations, check the scale of the features or consider increasing regularisation. Duality gap: 2.913e+07, tolerance: 1.022e+05\n",
      "  model = cd_fast.enet_coordinate_descent(\n"
     ]
    },
    {
     "name": "stderr",
     "output_type": "stream",
     "text": [
      "/home/finn/miniconda3/envs/reed/lib/python3.9/site-packages/sklearn/linear_model/_coordinate_descent.py:645: ConvergenceWarning: Objective did not converge. You might want to increase the number of iterations, check the scale of the features or consider increasing regularisation. Duality gap: 1.776e+06, tolerance: 1.022e+05\n",
      "  model = cd_fast.enet_coordinate_descent(\n"
     ]
    },
    {
     "name": "stdout",
     "output_type": "stream",
     "text": [
      "Fitting 5 folds for each of 30 candidates, totalling 150 fits\n"
     ]
    },
    {
     "name": "stderr",
     "output_type": "stream",
     "text": [
      "/home/finn/miniconda3/envs/reed/lib/python3.9/site-packages/sklearn/linear_model/_coordinate_descent.py:645: ConvergenceWarning: Objective did not converge. You might want to increase the number of iterations, check the scale of the features or consider increasing regularisation. Duality gap: 5.422e+06, tolerance: 1.348e+05\n",
      "  model = cd_fast.enet_coordinate_descent(\n",
      "/home/finn/miniconda3/envs/reed/lib/python3.9/site-packages/sklearn/linear_model/_coordinate_descent.py:645: ConvergenceWarning: Objective did not converge. You might want to increase the number of iterations, check the scale of the features or consider increasing regularisation. Duality gap: 1.331e+07, tolerance: 1.348e+05\n",
      "  model = cd_fast.enet_coordinate_descent(\n",
      "/home/finn/miniconda3/envs/reed/lib/python3.9/site-packages/sklearn/linear_model/_coordinate_descent.py:645: ConvergenceWarning: Objective did not converge. You might want to increase the number of iterations, check the scale of the features or consider increasing regularisation. Duality gap: 1.925e+06, tolerance: 1.348e+05\n",
      "  model = cd_fast.enet_coordinate_descent(\n",
      "/home/finn/miniconda3/envs/reed/lib/python3.9/site-packages/sklearn/linear_model/_coordinate_descent.py:645: ConvergenceWarning: Objective did not converge. You might want to increase the number of iterations, check the scale of the features or consider increasing regularisation. Duality gap: 5.631e+05, tolerance: 1.348e+05\n",
      "  model = cd_fast.enet_coordinate_descent(\n"
     ]
    },
    {
     "name": "stdout",
     "output_type": "stream",
     "text": [
      "Fitting 5 folds for each of 30 candidates, totalling 150 fits\n"
     ]
    },
    {
     "name": "stderr",
     "output_type": "stream",
     "text": [
      "/home/finn/miniconda3/envs/reed/lib/python3.9/site-packages/sklearn/linear_model/_coordinate_descent.py:645: ConvergenceWarning: Objective did not converge. You might want to increase the number of iterations, check the scale of the features or consider increasing regularisation. Duality gap: 2.971e+05, tolerance: 1.327e+05\n",
      "  model = cd_fast.enet_coordinate_descent(\n",
      "/home/finn/miniconda3/envs/reed/lib/python3.9/site-packages/sklearn/linear_model/_coordinate_descent.py:645: ConvergenceWarning: Objective did not converge. You might want to increase the number of iterations, check the scale of the features or consider increasing regularisation. Duality gap: 2.712e+06, tolerance: 1.353e+05\n",
      "  model = cd_fast.enet_coordinate_descent(\n",
      "/home/finn/miniconda3/envs/reed/lib/python3.9/site-packages/sklearn/linear_model/_coordinate_descent.py:645: ConvergenceWarning: Objective did not converge. You might want to increase the number of iterations, check the scale of the features or consider increasing regularisation. Duality gap: 1.015e+06, tolerance: 1.353e+05\n",
      "  model = cd_fast.enet_coordinate_descent(\n",
      "/home/finn/miniconda3/envs/reed/lib/python3.9/site-packages/sklearn/linear_model/_coordinate_descent.py:645: ConvergenceWarning: Objective did not converge. You might want to increase the number of iterations, check the scale of the features or consider increasing regularisation. Duality gap: 3.458e+05, tolerance: 1.353e+05\n",
      "  model = cd_fast.enet_coordinate_descent(\n"
     ]
    },
    {
     "name": "stdout",
     "output_type": "stream",
     "text": [
      "Fitting 5 folds for each of 30 candidates, totalling 150 fits\n"
     ]
    },
    {
     "name": "stderr",
     "output_type": "stream",
     "text": [
      "/home/finn/miniconda3/envs/reed/lib/python3.9/site-packages/sklearn/linear_model/_coordinate_descent.py:645: ConvergenceWarning: Objective did not converge. You might want to increase the number of iterations, check the scale of the features or consider increasing regularisation. Duality gap: 1.533e+06, tolerance: 1.038e+05\n",
      "  model = cd_fast.enet_coordinate_descent(\n",
      "/home/finn/miniconda3/envs/reed/lib/python3.9/site-packages/sklearn/linear_model/_coordinate_descent.py:645: ConvergenceWarning: Objective did not converge. You might want to increase the number of iterations, check the scale of the features or consider increasing regularisation. Duality gap: 6.051e+05, tolerance: 1.038e+05\n",
      "  model = cd_fast.enet_coordinate_descent(\n",
      "/home/finn/miniconda3/envs/reed/lib/python3.9/site-packages/sklearn/linear_model/_coordinate_descent.py:645: ConvergenceWarning: Objective did not converge. You might want to increase the number of iterations, check the scale of the features or consider increasing regularisation. Duality gap: 2.297e+05, tolerance: 1.038e+05\n",
      "  model = cd_fast.enet_coordinate_descent(\n"
     ]
    },
    {
     "name": "stdout",
     "output_type": "stream",
     "text": [
      "Fitting 5 folds for each of 30 candidates, totalling 150 fits\n"
     ]
    },
    {
     "name": "stderr",
     "output_type": "stream",
     "text": [
      "/home/finn/miniconda3/envs/reed/lib/python3.9/site-packages/sklearn/linear_model/_coordinate_descent.py:645: ConvergenceWarning: Objective did not converge. You might want to increase the number of iterations, check the scale of the features or consider increasing regularisation. Duality gap: 1.370e+08, tolerance: 1.200e+05\n",
      "  model = cd_fast.enet_coordinate_descent(\n",
      "/home/finn/miniconda3/envs/reed/lib/python3.9/site-packages/sklearn/linear_model/_coordinate_descent.py:645: ConvergenceWarning: Objective did not converge. You might want to increase the number of iterations, check the scale of the features or consider increasing regularisation. Duality gap: 8.977e+07, tolerance: 1.200e+05\n",
      "  model = cd_fast.enet_coordinate_descent(\n",
      "/home/finn/miniconda3/envs/reed/lib/python3.9/site-packages/sklearn/linear_model/_coordinate_descent.py:645: ConvergenceWarning: Objective did not converge. You might want to increase the number of iterations, check the scale of the features or consider increasing regularisation. Duality gap: 5.097e+07, tolerance: 1.200e+05\n",
      "  model = cd_fast.enet_coordinate_descent(\n",
      "/home/finn/miniconda3/envs/reed/lib/python3.9/site-packages/sklearn/linear_model/_coordinate_descent.py:645: ConvergenceWarning: Objective did not converge. You might want to increase the number of iterations, check the scale of the features or consider increasing regularisation. Duality gap: 2.453e+07, tolerance: 1.200e+05\n",
      "  model = cd_fast.enet_coordinate_descent(\n",
      "/home/finn/miniconda3/envs/reed/lib/python3.9/site-packages/sklearn/linear_model/_coordinate_descent.py:645: ConvergenceWarning: Objective did not converge. You might want to increase the number of iterations, check the scale of the features or consider increasing regularisation. Duality gap: 9.680e+06, tolerance: 1.200e+05\n",
      "  model = cd_fast.enet_coordinate_descent(\n",
      "/home/finn/miniconda3/envs/reed/lib/python3.9/site-packages/sklearn/linear_model/_coordinate_descent.py:645: ConvergenceWarning: Objective did not converge. You might want to increase the number of iterations, check the scale of the features or consider increasing regularisation. Duality gap: 2.877e+06, tolerance: 1.200e+05\n",
      "  model = cd_fast.enet_coordinate_descent(\n",
      "/home/finn/miniconda3/envs/reed/lib/python3.9/site-packages/sklearn/linear_model/_coordinate_descent.py:645: ConvergenceWarning: Objective did not converge. You might want to increase the number of iterations, check the scale of the features or consider increasing regularisation. Duality gap: 4.703e+05, tolerance: 1.200e+05\n",
      "  model = cd_fast.enet_coordinate_descent(\n"
     ]
    },
    {
     "name": "stdout",
     "output_type": "stream",
     "text": [
      "Done\n",
      "Fitting gbr ...Fitting 5 folds for each of 500 candidates, totalling 2500 fits\n",
      "Fitting 5 folds for each of 500 candidates, totalling 2500 fits\n",
      "Fitting 5 folds for each of 500 candidates, totalling 2500 fits\n",
      "Fitting 5 folds for each of 500 candidates, totalling 2500 fits\n",
      "Fitting 5 folds for each of 500 candidates, totalling 2500 fits\n",
      "Fitting 5 folds for each of 500 candidates, totalling 2500 fits\n",
      "Fitting 5 folds for each of 500 candidates, totalling 2500 fits\n",
      "Fitting 5 folds for each of 500 candidates, totalling 2500 fits\n",
      "Fitting 5 folds for each of 500 candidates, totalling 2500 fits\n",
      "Fitting 5 folds for each of 500 candidates, totalling 2500 fits\n",
      "Fitting 5 folds for each of 500 candidates, totalling 2500 fits\n",
      "Fitting 5 folds for each of 500 candidates, totalling 2500 fits\n",
      "Fitting 5 folds for each of 500 candidates, totalling 2500 fits\n",
      "Fitting 5 folds for each of 500 candidates, totalling 2500 fits\n",
      "Fitting 5 folds for each of 500 candidates, totalling 2500 fits\n",
      "Fitting 5 folds for each of 500 candidates, totalling 2500 fits\n",
      "Fitting 5 folds for each of 500 candidates, totalling 2500 fits\n",
      "Fitting 5 folds for each of 500 candidates, totalling 2500 fits\n",
      "Fitting 5 folds for each of 500 candidates, totalling 2500 fits\n",
      "Fitting 5 folds for each of 500 candidates, totalling 2500 fits\n",
      "Fitting 5 folds for each of 500 candidates, totalling 2500 fits\n",
      "Fitting 5 folds for each of 500 candidates, totalling 2500 fits\n",
      "Fitting 5 folds for each of 500 candidates, totalling 2500 fits\n",
      "Fitting 5 folds for each of 500 candidates, totalling 2500 fits\n",
      "Fitting 5 folds for each of 500 candidates, totalling 2500 fits\n",
      "Fitting 5 folds for each of 500 candidates, totalling 2500 fits\n",
      "Fitting 5 folds for each of 500 candidates, totalling 2500 fits\n",
      "Fitting 5 folds for each of 500 candidates, totalling 2500 fits\n",
      "Fitting 5 folds for each of 500 candidates, totalling 2500 fits\n",
      "Fitting 5 folds for each of 500 candidates, totalling 2500 fits\n",
      "Fitting 5 folds for each of 500 candidates, totalling 2500 fits\n",
      "Fitting 5 folds for each of 500 candidates, totalling 2500 fits\n",
      "Fitting 5 folds for each of 500 candidates, totalling 2500 fits\n",
      "Fitting 5 folds for each of 500 candidates, totalling 2500 fits\n",
      "Fitting 5 folds for each of 500 candidates, totalling 2500 fits\n",
      "Fitting 5 folds for each of 500 candidates, totalling 2500 fits\n",
      "Fitting 5 folds for each of 500 candidates, totalling 2500 fits\n",
      "Fitting 5 folds for each of 500 candidates, totalling 2500 fits\n",
      "Fitting 5 folds for each of 500 candidates, totalling 2500 fits\n",
      "Fitting 5 folds for each of 500 candidates, totalling 2500 fits\n",
      "Done\n",
      "Total time:5760.966905593872 seconds\n",
      "Caching results to: data/bootstrap-all-lasso.pkl\n"
     ]
    }
   ],
   "source": [
    "from direct_regression import bootstrapped_cross_val\n",
    "def extract_params(estimator):\n",
    "    return estimator.coef_\n",
    "\n",
    "bootstrap_results = bootstrapped_cross_val(\n",
    "    construct_models,\n",
    "    bootstrap_cache,\n",
    "    X0, X1, y0, y1,\n",
    "    optimisation_metric,\n",
    "    extract_params,\n",
    "    inner_cv=5,\n",
    "    load_from_cache=False,\n",
    "    samples=20\n",
    ")"
   ]
  },
  {
   "cell_type": "markdown",
   "id": "32",
   "metadata": {},
   "source": [
    "####  Average treatment effects"
   ]
  },
  {
   "cell_type": "code",
   "execution_count": 49,
   "id": "33",
   "metadata": {},
   "outputs": [
    {
     "data": {
      "text/html": [
       "<div>\n",
       "<style scoped>\n",
       "    .dataframe tbody tr th:only-of-type {\n",
       "        vertical-align: middle;\n",
       "    }\n",
       "\n",
       "    .dataframe tbody tr th {\n",
       "        vertical-align: top;\n",
       "    }\n",
       "\n",
       "    .dataframe thead th {\n",
       "        text-align: right;\n",
       "    }\n",
       "</style>\n",
       "<table border=\"1\" class=\"dataframe\">\n",
       "  <thead>\n",
       "    <tr style=\"text-align: right;\">\n",
       "      <th></th>\n",
       "      <th>ACE</th>\n",
       "      <th>ACE_std</th>\n",
       "    </tr>\n",
       "  </thead>\n",
       "  <tbody>\n",
       "    <tr>\n",
       "      <th>ridge</th>\n",
       "      <td>24.229587</td>\n",
       "      <td>24.960366</td>\n",
       "    </tr>\n",
       "    <tr>\n",
       "      <th>lasso</th>\n",
       "      <td>29.207305</td>\n",
       "      <td>35.707897</td>\n",
       "    </tr>\n",
       "    <tr>\n",
       "      <th>gbr</th>\n",
       "      <td>64.292523</td>\n",
       "      <td>30.354593</td>\n",
       "    </tr>\n",
       "  </tbody>\n",
       "</table>\n",
       "</div>"
      ],
      "text/plain": [
       "             ACE    ACE_std\n",
       "ridge  24.229587  24.960366\n",
       "lasso  29.207305  35.707897\n",
       "gbr    64.292523  30.354593"
      ]
     },
     "execution_count": 49,
     "metadata": {},
     "output_type": "execute_result"
    }
   ],
   "source": [
    "from direct_regression import compute_ate\n",
    "metrics, tau_estimatesb = compute_ate(bootstrap_results,X)\n",
    "metrics"
   ]
  },
  {
   "cell_type": "code",
   "execution_count": 50,
   "id": "34",
   "metadata": {},
   "outputs": [
    {
     "data": {
      "image/png": "[encoded data removed]",
      "text/plain": [
       "<Figure size 1080x360 with 3 Axes>"
      ]
     },
     "metadata": {
      "needs_background": "light"
     },
     "output_type": "display_data"
    }
   ],
   "source": [
    "plot_ate_distribution(tau_estimatesb)"
   ]
  },
  {
   "cell_type": "markdown",
   "id": "35",
   "metadata": {},
   "source": [
    "#### Distribution of hyper-parameters"
   ]
  },
  {
   "cell_type": "code",
   "execution_count": 51,
   "id": "36",
   "metadata": {
    "tags": [
     "hide_input"
    ]
   },
   "outputs": [
    {
     "data": {
      "image/png": "[encoded data removed]",
      "text/plain": [
       "<Figure size 360x288 with 1 Axes>"
      ]
     },
     "metadata": {
      "needs_background": "light"
     },
     "output_type": "display_data"
    },
    {
     "data": {
      "image/png": "[encoded data removed]",
      "text/plain": [
       "<Figure size 360x288 with 1 Axes>"
      ]
     },
     "metadata": {
      "needs_background": "light"
     },
     "output_type": "display_data"
    },
    {
     "data": {
      "image/png": "[encoded data removed]",
      "text/plain": [
       "<Figure size 360x288 with 1 Axes>"
      ]
     },
     "metadata": {
      "needs_background": "light"
     },
     "output_type": "display_data"
    },
    {
     "data": {
      "image/png": "[encoded data removed]",
      "text/plain": [
       "<Figure size 360x288 with 1 Axes>"
      ]
     },
     "metadata": {
      "needs_background": "light"
     },
     "output_type": "display_data"
    },
    {
     "data": {
      "image/png": "[encoded data removed]",
      "text/plain": [
       "<Figure size 1080x288 with 3 Axes>"
      ]
     },
     "metadata": {
      "needs_background": "light"
     },
     "output_type": "display_data"
    },
    {
     "data": {
      "image/png": "[encoded data removed]",
      "text/plain": [
       "<Figure size 1080x288 with 3 Axes>"
      ]
     },
     "metadata": {
      "needs_background": "light"
     },
     "output_type": "display_data"
    }
   ],
   "source": [
    "from direct_regression import plot_hyperparam_distributions\n",
    "for model, (results0, results1) in bootstrap_results.items():\n",
    "    plot_hyperparam_distributions(results0,f\"{model}-control\")\n",
    "    plot_hyperparam_distributions(results1,f\"{model}-treated\")"
   ]
  },
  {
   "cell_type": "code",
   "execution_count": null,
   "id": "37",
   "metadata": {},
   "outputs": [],
   "source": []
  }
 ],
 "metadata": {
  "celltoolbar": "Tags",
  "kernelspec": {
   "display_name": "Python 3 (ipykernel)",
   "language": "python",
   "name": "python3"
  },
  "language_info": {
   "codemirror_mode": {
    "name": "ipython",
    "version": 3
   },
   "file_extension": ".py",
   "mimetype": "text/x-python",
   "name": "python",
   "nbconvert_exporter": "python",
   "pygments_lexer": "ipython3",
   "version": "3.9.7"
  }
 },
 "nbformat": 4,
 "nbformat_minor": 5
}
