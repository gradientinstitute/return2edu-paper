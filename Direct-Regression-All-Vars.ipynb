{
 "cells": [
  {
   "cell_type": "markdown",
   "id": "0",
   "metadata": {},
   "source": [
    "# Direct Regression"
   ]
  },
  {
   "cell_type": "code",
   "execution_count": 1,
   "id": "1",
   "metadata": {
    "tags": [
     "hide_cell"
    ]
   },
   "outputs": [
    {
     "data": {
      "text/plain": [
       "'0.24.2'"
      ]
     },
     "execution_count": 1,
     "metadata": {},
     "output_type": "execute_result"
    }
   ],
   "source": [
    "# import libraries\n",
    "import numpy as np\n",
    "import pandas as pd\n",
    "import matplotlib.pyplot as plt\n",
    "import pyreadstat\n",
    "import re\n",
    "import string\n",
    "import sklearn\n",
    "from sklearn_pandas import DataFrameMapper\n",
    "from sklearn.linear_model import LinearRegression, Lasso, Ridge\n",
    "from sklearn.ensemble import GradientBoostingRegressor\n",
    "from sklearn.svm import SVR\n",
    "from skopt import BayesSearchCV\n",
    "from tqdm import tqdm_notebook as tqdm\n",
    "from reed import *\n",
    "from cinspect import dependence, importance\n",
    "from sklearn.model_selection import cross_val_score, cross_validate\n",
    "import pickle\n",
    "import time\n",
    "\n",
    "# set global notebook options\n",
    "pd.options.display.max_columns = 200\n",
    "pd.options.display.max_rows = 500\n",
    "%matplotlib inline\n",
    "\n",
    "%load_ext autoreload\n",
    "%autoreload 2\n",
    "\n",
    "sklearn.__version__"
   ]
  },
  {
   "cell_type": "markdown",
   "id": "2",
   "metadata": {},
   "source": [
    "## Response Model\n",
    "\n",
    "How well can we predict outcomes $Y$ conditional on treatment $T$ and other covariates $Z$?"
   ]
  },
  {
   "cell_type": "markdown",
   "id": "3",
   "metadata": {},
   "source": [
    "### Treatent variables\n",
    "\n",
    "   - **reduhl**\tCompleted re-education based on highest level of attainment\n",
    "   - **redudl**\tCompleted re-education based on detailed qualifications\n",
    "   - **redufl**\tCompleted re-education using highest lvl and detailed qualifications.\n",
    "\n",
    "### Outcome variables\n",
    "   - Mental health in 2019 (**mh**). This is the transformed mental health scores from the aggregation of mental health items of the SF-36 Health Survey, as reported by the individual in 2019. It ranges from 0 to 100, with higher scores indicating better mental health.  \n",
    "   - Working hours in 2019 (**wkhr**) records the total number of hours the individual works in all jobs in a week on average. Working hours are set to 0 for those not working. \n",
    "   - Hourly Wages in 2019 (**rlwage**) records the average hourly wage for the individual’s main job in 2019. Hourly wages are set to 0 for those not working and set to missing for those reporting working more than 100 hours a week. \n",
    "   \n",
    "#### Columns explicitly excluded\n",
    "   - **xwaveid** (unique identifier)\n",
    "   - **p_rcom*** (timing of completion of re-education, proxies treatment) TODO think about how we would include this\n",
    "   - **p_cotrl** (first avail 2003)\n",
    "   - **p_rdf*** (first avail 2012)"
   ]
  },
  {
   "cell_type": "markdown",
   "id": "4",
   "metadata": {},
   "source": [
    "#### Select modeling parameters"
   ]
  },
  {
   "cell_type": "code",
   "execution_count": 96,
   "id": "5",
   "metadata": {},
   "outputs": [],
   "source": [
    "outcome = 'y_Dwsce'#'y_wsce'\n",
    "treatment = 'redufl'\n",
    "optimisation_metric = 'neg_mean_squared_error'\n",
    "evaluation_metrics = ('r2','neg_mean_squared_error')\n",
    "log_outcome=False\n",
    "cross_val_cache = \"data/cross-val-all.pkl\"\n",
    "bootstrap_cache = \"data/bootstrap-all.pkl\""
   ]
  },
  {
   "cell_type": "markdown",
   "id": "6",
   "metadata": {},
   "source": [
    "### Load Data \n",
    "   - drop rows missing the specified treatment or outcome"
   ]
  },
  {
   "cell_type": "code",
   "execution_count": 3,
   "id": "7",
   "metadata": {
    "tags": [
     "hide_input"
    ]
   },
   "outputs": [
    {
     "name": "stdout",
     "output_type": "stream",
     "text": [
      "Dropped 592 rows missing treatment or outcome.\n"
     ]
    }
   ],
   "source": [
    "data = pd.read_csv(\"all_vars.csv\",index_col='xwaveid')\n",
    "drop_missing_treatment_or_outcome(data, treatment, outcome)\n",
    "if log_outcome:\n",
    "    data[outcome] = np.log(data[outcome]+data[outcome].min())"
   ]
  },
  {
   "cell_type": "markdown",
   "id": "8",
   "metadata": {},
   "source": [
    "### Set up models\n",
    "Specify which models to use and the hyper-parameter space to search over for each"
   ]
  },
  {
   "cell_type": "code",
   "execution_count": 4,
   "id": "9",
   "metadata": {
    "tags": [
     "hide_input"
    ]
   },
   "outputs": [],
   "source": [
    "from sklearn.linear_model import Lasso, Ridge\n",
    "from sklearn.ensemble import GradientBoostingRegressor\n",
    "\n",
    "def construct_models():\n",
    "    models = [\n",
    "        Model('ridge',Ridge(), \n",
    "              parameters = {\n",
    "                  'alpha':np.logspace(-1,4,30)\n",
    "              }\n",
    "        ),\n",
    "        Model('lasso',Lasso(),\n",
    "              parameters = {\n",
    "                  'alpha':np.logspace(-2,4,30)\n",
    "              }\n",
    "        ), \n",
    "        Model('gbr',GradientBoostingRegressor(n_iter_no_change=20, max_depth=2),\n",
    "              parameters = {\n",
    "                'max_features':[10,20,40,60,80],\n",
    "                'learning_rate':np.logspace(-3,0,10),\n",
    "                'min_samples_leaf':np.logspace(0,3,10).astype(int)\n",
    "              }\n",
    "        ),\n",
    "    ]\n",
    "    return models"
   ]
  },
  {
   "cell_type": "markdown",
   "id": "10",
   "metadata": {},
   "source": [
    "### Prepare data for modeling\n",
    "   - split into treated/control\n",
    "   - impute missing values and scale\n",
    "   - separate features from outcomes&treatments"
   ]
  },
  {
   "cell_type": "code",
   "execution_count": 5,
   "id": "11",
   "metadata": {
    "tags": [
     "hide_input"
    ]
   },
   "outputs": [],
   "source": [
    "# %load -s exclude_vars,seperate_and_transform_data direct_regression.py\n",
    "def exclude_vars():\n",
    "    \"\"\"Return a list of variables that should not be included as features.\"\"\"\n",
    "    treatments = ['^reduhl$', '^rehllt$', '^redudl$', '^redufl$', '^redllt$', '^refllt$']\n",
    "    outcomes = ['^rlwage$', '^mh$', '^mhbm$', '^wkhr$', '^y_']\n",
    "    other = [\n",
    "        '^p_rcom',\n",
    "        '^p_rdf',\n",
    "        '^p_cotrl',\n",
    "        '^xwaveid$',\n",
    "        'p_rcom18'  # ?\n",
    "        '^aedcq',  # indicate studying at start - these people should already have been removed\n",
    "        '^abnfsty',\n",
    "        '^aedcqfpt',\n",
    "        '^aedqstdy'\n",
    "    ]\n",
    "    exclude = treatments + outcomes + other\n",
    "    return exclude\n",
    "\n",
    "def seperate_and_transform_data(data, treatment, outcome):\n",
    "\n",
    "    transform = Pipeline([\n",
    "        ('impute_missing', SimpleImputer()),\n",
    "        ('scale', StandardScaler()),\n",
    "    ])\n",
    "\n",
    "    exclude = exclude_vars()\n",
    "\n",
    "    control, treated = treatment_control_split(data, treatment)\n",
    "    features = regex_select(data.columns, exclude, exclude=True)\n",
    "    X0, y0 = split_and_transform(control, features, outcome, transform)\n",
    "    X1, y1 = split_and_transform(treated, features, outcome, transform)\n",
    "\n",
    "    # construct the full dataset (remove ordering by treatment in case of any order dependance in fit)\n",
    "    X = np.vstack((X0, X1))\n",
    "    y = np.concatenate((y0, y1))\n",
    "    indx = np.arange(len(y))\n",
    "    np.random.shuffle(indx)\n",
    "    X = X[indx, :]\n",
    "    y = y[indx]\n",
    "\n",
    "    return X0, X1, y0, y1, X, y, features\n"
   ]
  },
  {
   "cell_type": "code",
   "execution_count": 6,
   "id": "12",
   "metadata": {
    "tags": [
     "hide_input"
    ]
   },
   "outputs": [
    {
     "name": "stdout",
     "output_type": "stream",
     "text": [
      "Treated:773, Control:4181\n"
     ]
    }
   ],
   "source": [
    "X0, X1, y0, y1, X, y, features = seperate_and_transform_data(data, treatment, outcome)\n",
    "print(\"Number of features:\",len(features))"
   ]
  },
  {
   "cell_type": "markdown",
   "id": "13",
   "metadata": {},
   "source": [
    "### Compute unconditional/unadjusted estimate of treatment effect"
   ]
  },
  {
   "cell_type": "code",
   "execution_count": 7,
   "id": "14",
   "metadata": {
    "tags": [
     "hide_input"
    ]
   },
   "outputs": [],
   "source": [
    "# %load -s print_unconditional_effects direct_regression.py\n",
    "def print_unconditional_effects(data, treatment, y0, y1):\n",
    "    print(f\"Proportion Treated:{100*data[treatment].mean():.0f}%\")\n",
    "    print(f\"Average outcome under Control:{y0.mean():.2f}±{y0.std()/np.sqrt(len(y0)):.2f}\")\n",
    "    print(f\"Average outcome under Treatment:{y1.mean():.2f}±{y1.std()/np.sqrt(len(y1)):.2f}\")\n",
    "    print(f\"Unadjusted treatment estimate {y1.mean() - y0.mean():.2f}\")\n"
   ]
  },
  {
   "cell_type": "code",
   "execution_count": 8,
   "id": "15",
   "metadata": {
    "tags": [
     "hide_input"
    ]
   },
   "outputs": [
    {
     "name": "stdout",
     "output_type": "stream",
     "text": [
      "Proportion Treated:16%\n",
      "Average outcome under Control:76.98±14.61\n",
      "Average outcome under Treatment:425.08±37.85\n",
      "Unadjusted treatment estimate 348.10\n"
     ]
    }
   ],
   "source": [
    "print_unconditional_effects(data, treatment, y0, y1)"
   ]
  },
  {
   "cell_type": "markdown",
   "id": "16",
   "metadata": {},
   "source": [
    "### (Nested) cross-validate to evaluate model performance\n",
    "![image.png](images/nested_cross_val.png)"
   ]
  },
  {
   "cell_type": "code",
   "execution_count": 9,
   "id": "17",
   "metadata": {
    "tags": [
     "hide_input"
    ]
   },
   "outputs": [],
   "source": [
    "# %load -s nested_cross_val direct_regression.py\n",
    "def nested_cross_val2(\n",
    "    construct_models,\n",
    "    cache_name,\n",
    "    X0, X1, y0, y1,\n",
    "    optimisation_metric,\n",
    "    evaluation_metrics,\n",
    "    innercv=None,\n",
    "    outercv=None,\n",
    "    load_from_cache=False,\n",
    "):\n",
    "    if load_from_cache:\n",
    "        with open(cache_name, 'rb') as f:\n",
    "            models, results = pickle.load(f)\n",
    "\n",
    "    else:\n",
    "        models = construct_models()\n",
    "        results = {}\n",
    "        for model in models:\n",
    "            print(f\"Fitting {model.name} ...\", end='')\n",
    "            results0 = model.nested_cv_fit_evaluate(\n",
    "                X0, y0, optimisation_metric, evaluation_metrics,\n",
    "                inner_cv=innercv, outer_cv=outercv)\n",
    "            results1 = model.nested_cv_fit_evaluate(\n",
    "                X1, y1, optimisation_metric, evaluation_metrics,\n",
    "                inner_cv=innercv, outer_cv=outercv)\n",
    "            results[model.name] = (results0, results1)\n",
    "            print(\"Done\")\n",
    "\n",
    "        print(f\"Caching results to {cache_name}\")\n",
    "        with open(cache_name, 'wb') as f:\n",
    "            pickle.dump((models, results), f)\n",
    "\n",
    "    return models, results\n"
   ]
  },
  {
   "cell_type": "code",
   "execution_count": 36,
   "id": "18",
   "metadata": {
    "tags": [
     "hide_cell"
    ]
   },
   "outputs": [
    {
     "name": "stdout",
     "output_type": "stream",
     "text": [
      "Fitting ridge ...Fitting 3 folds for each of 30 candidates, totalling 90 fits\n",
      "Fitting 3 folds for each of 30 candidates, totalling 90 fits\n",
      "Fitting 3 folds for each of 30 candidates, totalling 90 fits\n",
      "Fitting 3 folds for each of 30 candidates, totalling 90 fits\n",
      "Fitting 3 folds for each of 30 candidates, totalling 90 fits\n",
      "Fitting 3 folds for each of 30 candidates, totalling 90 fits\n",
      "Fitting 3 folds for each of 30 candidates, totalling 90 fits\n",
      "Fitting 3 folds for each of 30 candidates, totalling 90 fits\n",
      "Done\n",
      "Fitting lasso ...Fitting 3 folds for each of 30 candidates, totalling 90 fits\n",
      "Fitting 3 folds for each of 30 candidates, totalling 90 fits\n",
      "Fitting 3 folds for each of 30 candidates, totalling 90 fits\n",
      "Fitting 3 folds for each of 30 candidates, totalling 90 fits\n",
      "Fitting 3 folds for each of 30 candidates, totalling 90 fits\n",
      "Fitting 3 folds for each of 30 candidates, totalling 90 fits\n",
      "Fitting 3 folds for each of 30 candidates, totalling 90 fits\n",
      "Fitting 3 folds for each of 30 candidates, totalling 90 fits\n",
      "Done\n",
      "Fitting gbr ...Fitting 3 folds for each of 500 candidates, totalling 1500 fits\n",
      "Fitting 3 folds for each of 500 candidates, totalling 1500 fits\n",
      "Fitting 3 folds for each of 500 candidates, totalling 1500 fits\n",
      "Fitting 3 folds for each of 500 candidates, totalling 1500 fits\n",
      "Fitting 3 folds for each of 500 candidates, totalling 1500 fits\n",
      "Fitting 3 folds for each of 500 candidates, totalling 1500 fits\n",
      "Fitting 3 folds for each of 500 candidates, totalling 1500 fits\n",
      "Fitting 3 folds for each of 500 candidates, totalling 1500 fits\n",
      "Done\n",
      "Caching results to data/cross-val-all.pkl\n"
     ]
    }
   ],
   "source": [
    "models, results = nested_cross_val2(\n",
    "    construct_models,\n",
    "    cross_val_cache,\n",
    "    X0, X1, y0, y1,\n",
    "    optimisation_metric,\n",
    "    evaluation_metrics,\n",
    "    innercv=3,\n",
    "    outercv=4,\n",
    "    load_from_cache=False)"
   ]
  },
  {
   "cell_type": "markdown",
   "id": "19",
   "metadata": {},
   "source": [
    "### Report estimate ATE and model performance\n",
    "\n",
    "  - Mean and Std of prediction performance for each model (both treatment & control surface)\n",
    "  - Mean and Std of average treatment effect for each model"
   ]
  },
  {
   "cell_type": "code",
   "execution_count": 37,
   "id": "20",
   "metadata": {
    "tags": [
     "hide_input"
    ]
   },
   "outputs": [
    {
     "data": {
      "text/html": [
       "<div>\n",
       "<style scoped>\n",
       "    .dataframe tbody tr th:only-of-type {\n",
       "        vertical-align: middle;\n",
       "    }\n",
       "\n",
       "    .dataframe tbody tr th {\n",
       "        vertical-align: top;\n",
       "    }\n",
       "\n",
       "    .dataframe thead th {\n",
       "        text-align: right;\n",
       "    }\n",
       "</style>\n",
       "<table border=\"1\" class=\"dataframe\">\n",
       "  <thead>\n",
       "    <tr style=\"text-align: right;\">\n",
       "      <th></th>\n",
       "      <th>ACE</th>\n",
       "      <th>ACE_std</th>\n",
       "      <th>control_r2</th>\n",
       "      <th>control_r2_std</th>\n",
       "      <th>treated_r2</th>\n",
       "      <th>treated_r2_std</th>\n",
       "      <th>control_neg_mean_squared_error</th>\n",
       "      <th>control_neg_mean_squared_error_std</th>\n",
       "      <th>treated_neg_mean_squared_error</th>\n",
       "      <th>treated_neg_mean_squared_error_std</th>\n",
       "    </tr>\n",
       "  </thead>\n",
       "  <tbody>\n",
       "    <tr>\n",
       "      <th>ridge</th>\n",
       "      <td>346.20</td>\n",
       "      <td>23.46</td>\n",
       "      <td>0.23</td>\n",
       "      <td>0.03</td>\n",
       "      <td>0.11</td>\n",
       "      <td>0.04</td>\n",
       "      <td>-688,044.72</td>\n",
       "      <td>69,637.57</td>\n",
       "      <td>-989,990.47</td>\n",
       "      <td>266,662.62</td>\n",
       "    </tr>\n",
       "    <tr>\n",
       "      <th>lasso</th>\n",
       "      <td>347.58</td>\n",
       "      <td>26.06</td>\n",
       "      <td>0.26</td>\n",
       "      <td>0.03</td>\n",
       "      <td>0.11</td>\n",
       "      <td>0.02</td>\n",
       "      <td>-662,806.55</td>\n",
       "      <td>66,748.75</td>\n",
       "      <td>-988,030.81</td>\n",
       "      <td>246,430.98</td>\n",
       "    </tr>\n",
       "    <tr>\n",
       "      <th>gbr</th>\n",
       "      <td>308.11</td>\n",
       "      <td>47.38</td>\n",
       "      <td>0.27</td>\n",
       "      <td>0.04</td>\n",
       "      <td>0.09</td>\n",
       "      <td>0.02</td>\n",
       "      <td>-651,904.89</td>\n",
       "      <td>49,944.56</td>\n",
       "      <td>-1,003,273.03</td>\n",
       "      <td>255,254.98</td>\n",
       "    </tr>\n",
       "  </tbody>\n",
       "</table>\n",
       "</div>"
      ],
      "text/plain": [
       "         ACE  ACE_std  control_r2  control_r2_std  treated_r2  treated_r2_std  \\\n",
       "ridge 346.20    23.46        0.23            0.03        0.11            0.04   \n",
       "lasso 347.58    26.06        0.26            0.03        0.11            0.02   \n",
       "gbr   308.11    47.38        0.27            0.04        0.09            0.02   \n",
       "\n",
       "       control_neg_mean_squared_error  control_neg_mean_squared_error_std  \\\n",
       "ridge                     -688,044.72                           69,637.57   \n",
       "lasso                     -662,806.55                           66,748.75   \n",
       "gbr                       -651,904.89                           49,944.56   \n",
       "\n",
       "       treated_neg_mean_squared_error  treated_neg_mean_squared_error_std  \n",
       "ridge                     -989,990.47                          266,662.62  \n",
       "lasso                     -988,030.81                          246,430.98  \n",
       "gbr                     -1,003,273.03                          255,254.98  "
      ]
     },
     "metadata": {},
     "output_type": "display_data"
    }
   ],
   "source": [
    "def estimate_causal_effect(X, models0, models1):\n",
    "    tau = []\n",
    "    for e0, e1 in zip(models0,models1):\n",
    "        y0 = e0.predict(X)\n",
    "        y1 = e1.predict(X)\n",
    "        tau.append(y1-y0)\n",
    "    \n",
    "    # array of shape len(modelsi),len(X)\n",
    "    cate = np.array(tau) \n",
    "    \n",
    "    # array of shape len(modelsi) with the ate estimate for each sample\n",
    "    ate = np.mean(cate,axis=1) \n",
    "    return ate\n",
    "\n",
    "rows = []\n",
    "index = []\n",
    "for model_name, r in results.items():\n",
    "    tau = estimate_causal_effect(X, r[0]['estimator'],r[1]['estimator'])\n",
    "    row = {'ACE':tau.mean(),'ACE_std':tau.std()}\n",
    "    for m in evaluation_metrics:\n",
    "        key = f'test_{m}'\n",
    "        for name, result in zip(('control','treated'),r):\n",
    "            label=f\"{name}_{m}\"\n",
    "            label_std=f\"{label}_std\"\n",
    "            row[label]= result[key].mean()\n",
    "            std = result[key].std()\n",
    "            row[label_std] = result[key].std()\n",
    "    rows.append(row)\n",
    "    index.append(model_name)\n",
    "metrics = pd.DataFrame(rows,index=index)\n",
    "\n",
    "with pd.option_context('display.float_format', '{:,.2f}'.format):\n",
    "    display(metrics)"
   ]
  },
  {
   "cell_type": "code",
   "execution_count": 92,
   "id": "21",
   "metadata": {
    "tags": [
     "hide_input"
    ]
   },
   "outputs": [
    {
     "data": {
      "image/png": "[encoded data removed]",
      "text/plain": [
       "<Figure size 1080x360 with 2 Axes>"
      ]
     },
     "metadata": {
      "needs_background": "light"
     },
     "output_type": "display_data"
    }
   ],
   "source": [
    "fig, ax = plt.subplots(1,2,figsize=(15,5),sharey=True)\n",
    "ax[0].bar(metrics.index, metrics['control_r2'], yerr=metrics['control_r2_std'], align='center', alpha=0.5, capsize=10)\n",
    "ax[1].bar(metrics.index, metrics['treated_r2'], yerr=metrics['treated_r2_std'], align='center', alpha=0.5,capsize=10)\n",
    "ax[0].set_ylabel('$R^2$')\n",
    "ax[0].set_title('control model')\n",
    "ax[1].set_title('treated model');"
   ]
  },
  {
   "cell_type": "markdown",
   "id": "22",
   "metadata": {},
   "source": [
    "### Visualise models\n",
    "- Features responsible for treatment effect heterogeneity & functional form (with uncertainty)\n",
    "      - coefficeints for linear models\n",
    "      - TODO permutation importance & partial dependence curves for non-linear models"
   ]
  },
  {
   "cell_type": "code",
   "execution_count": 90,
   "id": "23",
   "metadata": {
    "tags": [
     "hide_input"
    ]
   },
   "outputs": [],
   "source": [
    "def get_coef(estimator):\n",
    "    e = estimator\n",
    "    if hasattr(estimator,'best_estimator_'):\n",
    "        e = estimator.best_estimator_\n",
    "    if hasattr(e,'coef_'):\n",
    "        return e.coef_\n",
    "    return None \n",
    "\n",
    "def coef_mean_std(estimator_lst):\n",
    "    n_estimators = len(estimator_lst)\n",
    "    coef = np.zeros((len(features),n_estimators))\n",
    "    for i, e in enumerate(estimator_lst):\n",
    "        coef[:,i] = get_coef(e)\n",
    "    mu = coef.mean(axis=1)\n",
    "    std = coef.std(axis=1)\n",
    "    return mu, std\n",
    "\n",
    "def display_top_coefficients(model_name, r):\n",
    "    if get_coef(r[0]['estimator'][0]) is None:\n",
    "        return\n",
    "    with open('data/metadata.pkl','rb') as f:\n",
    "        meta = pickle.load(f)\n",
    "    \n",
    "    contr, treat = r[0], r[1]\n",
    "    coef_t_mu, coef_t_std = coef_mean_std(treat['estimator'])\n",
    "    coef_c_mu, coef_c_std = coef_mean_std(contr['estimator'])\n",
    "    coefs = pd.DataFrame({\n",
    "        'feature':features,\n",
    "        'coef0':coef_c_mu,\n",
    "        'coef1':coef_t_mu\n",
    "    })\n",
    "    absv = np.vstack((coefs['coef0'].abs().values,coefs['coef1'].abs().values)).T\n",
    "    coefs['importance'] = absv.max(axis=1)\n",
    "    coefs['hetero'] = (coefs['coef1']-coefs['coef0']).abs()\n",
    "    labels = coefs['feature'].apply(meta.column_names_to_labels.get)\n",
    "    coefs.insert(0,'variable',labels)\n",
    "    print(f'Feature Coefficients for: {model_name}')\n",
    "    display(coefs.sort_values('importance',ascending=False).head(20))\n"
   ]
  },
  {
   "cell_type": "code",
   "execution_count": 91,
   "id": "24",
   "metadata": {
    "tags": [
     "hide_input"
    ]
   },
   "outputs": [
    {
     "name": "stdout",
     "output_type": "stream",
     "text": [
      "Feature Coefficients for: ridge\n"
     ]
    },
    {
     "data": {
      "text/html": [
       "<div>\n",
       "<style scoped>\n",
       "    .dataframe tbody tr th:only-of-type {\n",
       "        vertical-align: middle;\n",
       "    }\n",
       "\n",
       "    .dataframe tbody tr th {\n",
       "        vertical-align: top;\n",
       "    }\n",
       "\n",
       "    .dataframe thead th {\n",
       "        text-align: right;\n",
       "    }\n",
       "</style>\n",
       "<table border=\"1\" class=\"dataframe\">\n",
       "  <thead>\n",
       "    <tr style=\"text-align: right;\">\n",
       "      <th></th>\n",
       "      <th>variable</th>\n",
       "      <th>feature</th>\n",
       "      <th>coef0</th>\n",
       "      <th>coef1</th>\n",
       "      <th>importance</th>\n",
       "      <th>hetero</th>\n",
       "    </tr>\n",
       "  </thead>\n",
       "  <tbody>\n",
       "    <tr>\n",
       "      <th>344</th>\n",
       "      <td>E38 Check age 45 or older</td>\n",
       "      <td>artage1</td>\n",
       "      <td>-82.040022</td>\n",
       "      <td>-25.208391</td>\n",
       "      <td>82.040022</td>\n",
       "      <td>56.831631</td>\n",
       "    </tr>\n",
       "    <tr>\n",
       "      <th>769</th>\n",
       "      <td>DV: Current weekly gross wages &amp; salary, main ...</td>\n",
       "      <td>awscme</td>\n",
       "      <td>-64.131337</td>\n",
       "      <td>-19.839086</td>\n",
       "      <td>64.131337</td>\n",
       "      <td>44.292251</td>\n",
       "    </tr>\n",
       "    <tr>\n",
       "      <th>225</th>\n",
       "      <td>DV: Current weekly gross wages &amp; salary - main...</td>\n",
       "      <td>awscmei</td>\n",
       "      <td>-63.726328</td>\n",
       "      <td>-19.842254</td>\n",
       "      <td>63.726328</td>\n",
       "      <td>43.884075</td>\n",
       "    </tr>\n",
       "    <tr>\n",
       "      <th>161</th>\n",
       "      <td>DV: Household current weekly gross wages &amp; sal...</td>\n",
       "      <td>ahiwscei</td>\n",
       "      <td>-40.464445</td>\n",
       "      <td>-8.856466</td>\n",
       "      <td>40.464445</td>\n",
       "      <td>31.607979</td>\n",
       "    </tr>\n",
       "    <tr>\n",
       "      <th>375</th>\n",
       "      <td>G3 Total gross amount of most recent pay befor...</td>\n",
       "      <td>awscmga</td>\n",
       "      <td>-38.884791</td>\n",
       "      <td>6.260642</td>\n",
       "      <td>38.884791</td>\n",
       "      <td>45.145433</td>\n",
       "    </tr>\n",
       "    <tr>\n",
       "      <th>208</th>\n",
       "      <td>HF4 Year of Birth</td>\n",
       "      <td>ahgyob</td>\n",
       "      <td>36.252120</td>\n",
       "      <td>22.704227</td>\n",
       "      <td>36.252120</td>\n",
       "      <td>13.547893</td>\n",
       "    </tr>\n",
       "    <tr>\n",
       "      <th>333</th>\n",
       "      <td>E29 Percent chance will find and accept job at...</td>\n",
       "      <td>ajbmpgj</td>\n",
       "      <td>32.951176</td>\n",
       "      <td>-4.233233</td>\n",
       "      <td>32.951176</td>\n",
       "      <td>37.184409</td>\n",
       "    </tr>\n",
       "    <tr>\n",
       "      <th>297</th>\n",
       "      <td>D3a1 Years in paid work</td>\n",
       "      <td>aehtjbyr</td>\n",
       "      <td>-29.782664</td>\n",
       "      <td>-20.153394</td>\n",
       "      <td>29.782664</td>\n",
       "      <td>9.629271</td>\n",
       "    </tr>\n",
       "    <tr>\n",
       "      <th>569</th>\n",
       "      <td>DV: Age of oldest person in household</td>\n",
       "      <td>ahhold</td>\n",
       "      <td>-29.102992</td>\n",
       "      <td>-12.810506</td>\n",
       "      <td>29.102992</td>\n",
       "      <td>16.292485</td>\n",
       "    </tr>\n",
       "    <tr>\n",
       "      <th>374</th>\n",
       "      <td>G1 Currently receive income from wages/salary</td>\n",
       "      <td>awschave</td>\n",
       "      <td>25.777303</td>\n",
       "      <td>18.424658</td>\n",
       "      <td>25.777303</td>\n",
       "      <td>7.352645</td>\n",
       "    </tr>\n",
       "    <tr>\n",
       "      <th>458</th>\n",
       "      <td>H27 How likely to have a child/more children i...</td>\n",
       "      <td>aicexpct</td>\n",
       "      <td>24.492060</td>\n",
       "      <td>6.891522</td>\n",
       "      <td>24.492060</td>\n",
       "      <td>17.600538</td>\n",
       "    </tr>\n",
       "    <tr>\n",
       "      <th>4</th>\n",
       "      <td>DV: Age last birthday at June 30 2001 - person 01</td>\n",
       "      <td>ahgage1</td>\n",
       "      <td>-22.915966</td>\n",
       "      <td>-14.592610</td>\n",
       "      <td>22.915966</td>\n",
       "      <td>8.323355</td>\n",
       "    </tr>\n",
       "    <tr>\n",
       "      <th>5</th>\n",
       "      <td>DV: Age last birthday at June 30 2001 - person 02</td>\n",
       "      <td>ahgage2</td>\n",
       "      <td>-22.486859</td>\n",
       "      <td>-9.226583</td>\n",
       "      <td>22.486859</td>\n",
       "      <td>13.260276</td>\n",
       "    </tr>\n",
       "    <tr>\n",
       "      <th>133</th>\n",
       "      <td>DV: Child care total cost ($) [imputed] for al...</td>\n",
       "      <td>acsctci</td>\n",
       "      <td>19.494860</td>\n",
       "      <td>9.476394</td>\n",
       "      <td>19.494860</td>\n",
       "      <td>10.018466</td>\n",
       "    </tr>\n",
       "    <tr>\n",
       "      <th>328</th>\n",
       "      <td>E19 Usual hours worked from home each week vary</td>\n",
       "      <td>ajbmhrhv</td>\n",
       "      <td>-19.442924</td>\n",
       "      <td>-14.639011</td>\n",
       "      <td>19.442924</td>\n",
       "      <td>4.803913</td>\n",
       "    </tr>\n",
       "    <tr>\n",
       "      <th>384</th>\n",
       "      <td>G10c And what period does that cover</td>\n",
       "      <td>awslyf</td>\n",
       "      <td>19.220297</td>\n",
       "      <td>0.409234</td>\n",
       "      <td>19.220297</td>\n",
       "      <td>18.811063</td>\n",
       "    </tr>\n",
       "    <tr>\n",
       "      <th>726</th>\n",
       "      <td>SCQ:E3f Personally entitled to use home-based ...</td>\n",
       "      <td>ajowphom</td>\n",
       "      <td>-19.173214</td>\n",
       "      <td>-8.718445</td>\n",
       "      <td>19.173214</td>\n",
       "      <td>10.454769</td>\n",
       "    </tr>\n",
       "    <tr>\n",
       "      <th>243</th>\n",
       "      <td>DV: Financial year estimated taxes on regular ...</td>\n",
       "      <td>atxtotn</td>\n",
       "      <td>5.170897</td>\n",
       "      <td>18.846863</td>\n",
       "      <td>18.846863</td>\n",
       "      <td>13.675966</td>\n",
       "    </tr>\n",
       "    <tr>\n",
       "      <th>420</th>\n",
       "      <td>G34a Any credit, charge or store cards used at...</td>\n",
       "      <td>acrhavem</td>\n",
       "      <td>-18.755640</td>\n",
       "      <td>-4.134827</td>\n",
       "      <td>18.755640</td>\n",
       "      <td>14.620813</td>\n",
       "    </tr>\n",
       "    <tr>\n",
       "      <th>457</th>\n",
       "      <td>H26 Like to have more children in the future</td>\n",
       "      <td>aiclike</td>\n",
       "      <td>18.635875</td>\n",
       "      <td>7.345687</td>\n",
       "      <td>18.635875</td>\n",
       "      <td>11.290188</td>\n",
       "    </tr>\n",
       "  </tbody>\n",
       "</table>\n",
       "</div>"
      ],
      "text/plain": [
       "                                              variable   feature      coef0  \\\n",
       "344                          E38 Check age 45 or older   artage1 -82.040022   \n",
       "769  DV: Current weekly gross wages & salary, main ...    awscme -64.131337   \n",
       "225  DV: Current weekly gross wages & salary - main...   awscmei -63.726328   \n",
       "161  DV: Household current weekly gross wages & sal...  ahiwscei -40.464445   \n",
       "375  G3 Total gross amount of most recent pay befor...   awscmga -38.884791   \n",
       "208                                  HF4 Year of Birth    ahgyob  36.252120   \n",
       "333  E29 Percent chance will find and accept job at...   ajbmpgj  32.951176   \n",
       "297                            D3a1 Years in paid work  aehtjbyr -29.782664   \n",
       "569              DV: Age of oldest person in household    ahhold -29.102992   \n",
       "374      G1 Currently receive income from wages/salary  awschave  25.777303   \n",
       "458  H27 How likely to have a child/more children i...  aicexpct  24.492060   \n",
       "4    DV: Age last birthday at June 30 2001 - person 01   ahgage1 -22.915966   \n",
       "5    DV: Age last birthday at June 30 2001 - person 02   ahgage2 -22.486859   \n",
       "133  DV: Child care total cost ($) [imputed] for al...   acsctci  19.494860   \n",
       "328    E19 Usual hours worked from home each week vary  ajbmhrhv -19.442924   \n",
       "384               G10c And what period does that cover    awslyf  19.220297   \n",
       "726  SCQ:E3f Personally entitled to use home-based ...  ajowphom -19.173214   \n",
       "243  DV: Financial year estimated taxes on regular ...   atxtotn   5.170897   \n",
       "420  G34a Any credit, charge or store cards used at...  acrhavem -18.755640   \n",
       "457       H26 Like to have more children in the future   aiclike  18.635875   \n",
       "\n",
       "         coef1  importance     hetero  \n",
       "344 -25.208391   82.040022  56.831631  \n",
       "769 -19.839086   64.131337  44.292251  \n",
       "225 -19.842254   63.726328  43.884075  \n",
       "161  -8.856466   40.464445  31.607979  \n",
       "375   6.260642   38.884791  45.145433  \n",
       "208  22.704227   36.252120  13.547893  \n",
       "333  -4.233233   32.951176  37.184409  \n",
       "297 -20.153394   29.782664   9.629271  \n",
       "569 -12.810506   29.102992  16.292485  \n",
       "374  18.424658   25.777303   7.352645  \n",
       "458   6.891522   24.492060  17.600538  \n",
       "4   -14.592610   22.915966   8.323355  \n",
       "5    -9.226583   22.486859  13.260276  \n",
       "133   9.476394   19.494860  10.018466  \n",
       "328 -14.639011   19.442924   4.803913  \n",
       "384   0.409234   19.220297  18.811063  \n",
       "726  -8.718445   19.173214  10.454769  \n",
       "243  18.846863   18.846863  13.675966  \n",
       "420  -4.134827   18.755640  14.620813  \n",
       "457   7.345687   18.635875  11.290188  "
      ]
     },
     "metadata": {},
     "output_type": "display_data"
    },
    {
     "name": "stdout",
     "output_type": "stream",
     "text": [
      "Feature Coefficients for: lasso\n"
     ]
    },
    {
     "data": {
      "text/html": [
       "<div>\n",
       "<style scoped>\n",
       "    .dataframe tbody tr th:only-of-type {\n",
       "        vertical-align: middle;\n",
       "    }\n",
       "\n",
       "    .dataframe tbody tr th {\n",
       "        vertical-align: top;\n",
       "    }\n",
       "\n",
       "    .dataframe thead th {\n",
       "        text-align: right;\n",
       "    }\n",
       "</style>\n",
       "<table border=\"1\" class=\"dataframe\">\n",
       "  <thead>\n",
       "    <tr style=\"text-align: right;\">\n",
       "      <th></th>\n",
       "      <th>variable</th>\n",
       "      <th>feature</th>\n",
       "      <th>coef0</th>\n",
       "      <th>coef1</th>\n",
       "      <th>importance</th>\n",
       "      <th>hetero</th>\n",
       "    </tr>\n",
       "  </thead>\n",
       "  <tbody>\n",
       "    <tr>\n",
       "      <th>344</th>\n",
       "      <td>E38 Check age 45 or older</td>\n",
       "      <td>artage1</td>\n",
       "      <td>-232.921699</td>\n",
       "      <td>-60.607800</td>\n",
       "      <td>232.921699</td>\n",
       "      <td>172.313899</td>\n",
       "    </tr>\n",
       "    <tr>\n",
       "      <th>769</th>\n",
       "      <td>DV: Current weekly gross wages &amp; salary, main ...</td>\n",
       "      <td>awscme</td>\n",
       "      <td>-205.444343</td>\n",
       "      <td>-20.048437</td>\n",
       "      <td>205.444343</td>\n",
       "      <td>185.395906</td>\n",
       "    </tr>\n",
       "    <tr>\n",
       "      <th>208</th>\n",
       "      <td>HF4 Year of Birth</td>\n",
       "      <td>ahgyob</td>\n",
       "      <td>103.824787</td>\n",
       "      <td>133.968073</td>\n",
       "      <td>133.968073</td>\n",
       "      <td>30.143286</td>\n",
       "    </tr>\n",
       "    <tr>\n",
       "      <th>563</th>\n",
       "      <td>DV: Age youngest own child (excl. resident fos...</td>\n",
       "      <td>atcyng</td>\n",
       "      <td>0.000000</td>\n",
       "      <td>-61.568438</td>\n",
       "      <td>61.568438</td>\n",
       "      <td>61.568438</td>\n",
       "    </tr>\n",
       "    <tr>\n",
       "      <th>225</th>\n",
       "      <td>DV: Current weekly gross wages &amp; salary - main...</td>\n",
       "      <td>awscmei</td>\n",
       "      <td>-42.243624</td>\n",
       "      <td>-31.239351</td>\n",
       "      <td>42.243624</td>\n",
       "      <td>11.004273</td>\n",
       "    </tr>\n",
       "    <tr>\n",
       "      <th>56</th>\n",
       "      <td>Q1 Any children aged 14 or less</td>\n",
       "      <td>acccinhh</td>\n",
       "      <td>-42.212194</td>\n",
       "      <td>0.000000</td>\n",
       "      <td>42.212194</td>\n",
       "      <td>42.212194</td>\n",
       "    </tr>\n",
       "    <tr>\n",
       "      <th>333</th>\n",
       "      <td>E29 Percent chance will find and accept job at...</td>\n",
       "      <td>ajbmpgj</td>\n",
       "      <td>39.525278</td>\n",
       "      <td>0.000000</td>\n",
       "      <td>39.525278</td>\n",
       "      <td>39.525278</td>\n",
       "    </tr>\n",
       "    <tr>\n",
       "      <th>547</th>\n",
       "      <td>DV: E13 Occupation 2-digit ASCO</td>\n",
       "      <td>ajbmocc2</td>\n",
       "      <td>0.000000</td>\n",
       "      <td>-35.961593</td>\n",
       "      <td>35.961593</td>\n",
       "      <td>35.961593</td>\n",
       "    </tr>\n",
       "    <tr>\n",
       "      <th>458</th>\n",
       "      <td>H27 How likely to have a child/more children i...</td>\n",
       "      <td>aicexpct</td>\n",
       "      <td>33.091249</td>\n",
       "      <td>0.000000</td>\n",
       "      <td>33.091249</td>\n",
       "      <td>33.091249</td>\n",
       "    </tr>\n",
       "    <tr>\n",
       "      <th>243</th>\n",
       "      <td>DV: Financial year estimated taxes on regular ...</td>\n",
       "      <td>atxtotn</td>\n",
       "      <td>0.000000</td>\n",
       "      <td>32.321398</td>\n",
       "      <td>32.321398</td>\n",
       "      <td>32.321398</td>\n",
       "    </tr>\n",
       "    <tr>\n",
       "      <th>569</th>\n",
       "      <td>DV: Age of oldest person in household</td>\n",
       "      <td>ahhold</td>\n",
       "      <td>-31.102622</td>\n",
       "      <td>-6.814237</td>\n",
       "      <td>31.102622</td>\n",
       "      <td>24.288385</td>\n",
       "    </tr>\n",
       "    <tr>\n",
       "      <th>444</th>\n",
       "      <td>H15b Age of child - Resident child 0001</td>\n",
       "      <td>arcage1</td>\n",
       "      <td>-15.115541</td>\n",
       "      <td>-30.443662</td>\n",
       "      <td>30.443662</td>\n",
       "      <td>15.328121</td>\n",
       "    </tr>\n",
       "    <tr>\n",
       "      <th>406</th>\n",
       "      <td>G29b2 Financial year rental property - profit ...</td>\n",
       "      <td>aoifrntp</td>\n",
       "      <td>0.000000</td>\n",
       "      <td>-22.144398</td>\n",
       "      <td>22.144398</td>\n",
       "      <td>22.144398</td>\n",
       "    </tr>\n",
       "    <tr>\n",
       "      <th>374</th>\n",
       "      <td>G1 Currently receive income from wages/salary</td>\n",
       "      <td>awschave</td>\n",
       "      <td>0.965672</td>\n",
       "      <td>21.250316</td>\n",
       "      <td>21.250316</td>\n",
       "      <td>20.284644</td>\n",
       "    </tr>\n",
       "    <tr>\n",
       "      <th>226</th>\n",
       "      <td>DV: Current weekly gross wages &amp; salary - othe...</td>\n",
       "      <td>awscoei</td>\n",
       "      <td>0.000000</td>\n",
       "      <td>-20.750169</td>\n",
       "      <td>20.750169</td>\n",
       "      <td>20.750169</td>\n",
       "    </tr>\n",
       "    <tr>\n",
       "      <th>727</th>\n",
       "      <td>SCQ:E3g Personally entitled to use flexible st...</td>\n",
       "      <td>ajowpflx</td>\n",
       "      <td>0.000000</td>\n",
       "      <td>-16.596913</td>\n",
       "      <td>16.596913</td>\n",
       "      <td>16.596913</td>\n",
       "    </tr>\n",
       "    <tr>\n",
       "      <th>135</th>\n",
       "      <td>DV: Child care total cost ($) [imputed] for al...</td>\n",
       "      <td>acpctci</td>\n",
       "      <td>16.045397</td>\n",
       "      <td>0.000000</td>\n",
       "      <td>16.045397</td>\n",
       "      <td>16.045397</td>\n",
       "    </tr>\n",
       "    <tr>\n",
       "      <th>420</th>\n",
       "      <td>G34a Any credit, charge or store cards used at...</td>\n",
       "      <td>acrhavem</td>\n",
       "      <td>-15.723313</td>\n",
       "      <td>0.000000</td>\n",
       "      <td>15.723313</td>\n",
       "      <td>15.723313</td>\n",
       "    </tr>\n",
       "    <tr>\n",
       "      <th>765</th>\n",
       "      <td>DV: Highest education level achieved</td>\n",
       "      <td>aedhigh1</td>\n",
       "      <td>-15.616636</td>\n",
       "      <td>-13.913477</td>\n",
       "      <td>15.616636</td>\n",
       "      <td>1.703158</td>\n",
       "    </tr>\n",
       "    <tr>\n",
       "      <th>384</th>\n",
       "      <td>G10c And what period does that cover</td>\n",
       "      <td>awslyf</td>\n",
       "      <td>15.417999</td>\n",
       "      <td>0.000000</td>\n",
       "      <td>15.417999</td>\n",
       "      <td>15.417999</td>\n",
       "    </tr>\n",
       "  </tbody>\n",
       "</table>\n",
       "</div>"
      ],
      "text/plain": [
       "                                              variable   feature       coef0  \\\n",
       "344                          E38 Check age 45 or older   artage1 -232.921699   \n",
       "769  DV: Current weekly gross wages & salary, main ...    awscme -205.444343   \n",
       "208                                  HF4 Year of Birth    ahgyob  103.824787   \n",
       "563  DV: Age youngest own child (excl. resident fos...    atcyng    0.000000   \n",
       "225  DV: Current weekly gross wages & salary - main...   awscmei  -42.243624   \n",
       "56                     Q1 Any children aged 14 or less  acccinhh  -42.212194   \n",
       "333  E29 Percent chance will find and accept job at...   ajbmpgj   39.525278   \n",
       "547                    DV: E13 Occupation 2-digit ASCO  ajbmocc2    0.000000   \n",
       "458  H27 How likely to have a child/more children i...  aicexpct   33.091249   \n",
       "243  DV: Financial year estimated taxes on regular ...   atxtotn    0.000000   \n",
       "569              DV: Age of oldest person in household    ahhold  -31.102622   \n",
       "444            H15b Age of child - Resident child 0001   arcage1  -15.115541   \n",
       "406  G29b2 Financial year rental property - profit ...  aoifrntp    0.000000   \n",
       "374      G1 Currently receive income from wages/salary  awschave    0.965672   \n",
       "226  DV: Current weekly gross wages & salary - othe...   awscoei    0.000000   \n",
       "727  SCQ:E3g Personally entitled to use flexible st...  ajowpflx    0.000000   \n",
       "135  DV: Child care total cost ($) [imputed] for al...   acpctci   16.045397   \n",
       "420  G34a Any credit, charge or store cards used at...  acrhavem  -15.723313   \n",
       "765               DV: Highest education level achieved  aedhigh1  -15.616636   \n",
       "384               G10c And what period does that cover    awslyf   15.417999   \n",
       "\n",
       "          coef1  importance      hetero  \n",
       "344  -60.607800  232.921699  172.313899  \n",
       "769  -20.048437  205.444343  185.395906  \n",
       "208  133.968073  133.968073   30.143286  \n",
       "563  -61.568438   61.568438   61.568438  \n",
       "225  -31.239351   42.243624   11.004273  \n",
       "56     0.000000   42.212194   42.212194  \n",
       "333    0.000000   39.525278   39.525278  \n",
       "547  -35.961593   35.961593   35.961593  \n",
       "458    0.000000   33.091249   33.091249  \n",
       "243   32.321398   32.321398   32.321398  \n",
       "569   -6.814237   31.102622   24.288385  \n",
       "444  -30.443662   30.443662   15.328121  \n",
       "406  -22.144398   22.144398   22.144398  \n",
       "374   21.250316   21.250316   20.284644  \n",
       "226  -20.750169   20.750169   20.750169  \n",
       "727  -16.596913   16.596913   16.596913  \n",
       "135    0.000000   16.045397   16.045397  \n",
       "420    0.000000   15.723313   15.723313  \n",
       "765  -13.913477   15.616636    1.703158  \n",
       "384    0.000000   15.417999   15.417999  "
      ]
     },
     "metadata": {},
     "output_type": "display_data"
    }
   ],
   "source": [
    "for model_name, r in results.items():\n",
    "    display_top_coefficients(model_name,r)"
   ]
  },
  {
   "cell_type": "markdown",
   "id": "25",
   "metadata": {},
   "source": [
    "### Bootstraped cross-validation to estimate parameter uncertainty\n"
   ]
  },
  {
   "cell_type": "code",
   "execution_count": 97,
   "id": "26",
   "metadata": {
    "scrolled": true,
    "tags": [
     "hide_cell"
    ]
   },
   "outputs": [
    {
     "name": "stdout",
     "output_type": "stream",
     "text": [
      "Fitting ridge ...Fitting 5 folds for each of 30 candidates, totalling 150 fits\n",
      "Fitting 5 folds for each of 30 candidates, totalling 150 fits\n",
      "Fitting 5 folds for each of 30 candidates, totalling 150 fits\n",
      "Fitting 5 folds for each of 30 candidates, totalling 150 fits\n",
      "Done\n",
      "Fitting lasso ...Fitting 5 folds for each of 30 candidates, totalling 150 fits\n",
      "Fitting 5 folds for each of 30 candidates, totalling 150 fits\n"
     ]
    },
    {
     "name": "stderr",
     "output_type": "stream",
     "text": [
      "/home/finn/miniconda3/envs/reed/lib/python3.9/site-packages/sklearn/linear_model/_coordinate_descent.py:530: ConvergenceWarning: Objective did not converge. You might want to increase the number of iterations. Duality gap: 2197764.7383139133, tolerance: 361987.5707844535\n",
      "  model = cd_fast.enet_coordinate_descent(\n"
     ]
    },
    {
     "name": "stdout",
     "output_type": "stream",
     "text": [
      "Fitting 5 folds for each of 30 candidates, totalling 150 fits\n",
      "Fitting 5 folds for each of 30 candidates, totalling 150 fits\n",
      "Done\n",
      "Fitting gbr ...Fitting 5 folds for each of 500 candidates, totalling 2500 fits\n",
      "Fitting 5 folds for each of 500 candidates, totalling 2500 fits\n",
      "Fitting 5 folds for each of 500 candidates, totalling 2500 fits\n",
      "Fitting 5 folds for each of 500 candidates, totalling 2500 fits\n",
      "Done\n",
      "Total time:733.9542953968048 seconds\n",
      "Caching results to: data/bootstrap-all.pkl\n"
     ]
    }
   ],
   "source": [
    "def extract_params(estimator):\n",
    "    return estimator.coef_\n",
    "\n",
    "def bootstrapped_cross_val(\n",
    "    optimisation_metric,\n",
    "    extract_params_func,\n",
    "    inner_cv = 3,\n",
    "    load_from_cache=False, \n",
    "    cache_name=bootstrap_cache, \n",
    "    samples=10\n",
    "):\n",
    "    if load_from_cache:\n",
    "        with open(cache_name, 'rb') as f:\n",
    "            results = pickle.load(f)\n",
    "    else:\n",
    "        models = construct_models()\n",
    "        results = {}\n",
    "        start = time.time()\n",
    "        for model in models:\n",
    "            print(f\"Fitting {model.name} ...\",end='')\n",
    "            results0 = model.bootstrap_cv_evaluate(X0,y0,optimisation_metric,extract_params,\n",
    "                                                   bootstrap_samples=samples,return_estimator=True)\n",
    "            results1 = model.bootstrap_cv_evaluate(X1,y1,optimisation_metric,extract_params,\n",
    "                                                   bootstrap_samples=samples,return_estimator=True)\n",
    "            results[model.name] = (results0, results1)\n",
    "            print(\"Done\")\n",
    "        total = time.time()-start\n",
    "        print(f\"Total time:{total} seconds\")\n",
    "        print(f\"Caching results to: {cache_name}\")\n",
    "        with open(cache_name,'wb') as f:\n",
    "            pickle.dump(results,f)\n",
    "    \n",
    "    return results\n",
    "\n",
    "bootstrap_results = bootstrapped_cross_val(\n",
    "    optimisation_metric, \n",
    "    extract_params,\n",
    "    load_from_cache=False,\n",
    "    samples=20\n",
    ")"
   ]
  },
  {
   "cell_type": "markdown",
   "id": "27",
   "metadata": {},
   "source": [
    "####  Average treatment effects"
   ]
  },
  {
   "cell_type": "code",
   "execution_count": 99,
   "id": "28",
   "metadata": {
    "tags": [
     "hide_input"
    ]
   },
   "outputs": [
    {
     "name": "stdout",
     "output_type": "stream",
     "text": [
      "ridge, 329.56 ± 2.29\n",
      "lasso, 332.33 ± 1.19\n",
      "gbr, 399.69 ± 13.37\n"
     ]
    }
   ],
   "source": [
    "for model_name, (results0, results1) in bootstrap_results.items():\n",
    "    models0 = [r['estimator'] for r in results0]\n",
    "    models1 = [r['estimator'] for r in results1]\n",
    "    ate = estimate_causal_effect(X,models0, models1)\n",
    "    print(f'{model_name}, {ate.mean():.2f} ± {ate.std()/np.sqrt(len(ate)-1):.2f}')  "
   ]
  },
  {
   "cell_type": "markdown",
   "id": "29",
   "metadata": {},
   "source": [
    "#### Distribution of hyper-parameters"
   ]
  },
  {
   "cell_type": "code",
   "execution_count": 100,
   "id": "30",
   "metadata": {
    "tags": [
     "hide_input"
    ]
   },
   "outputs": [
    {
     "data": {
      "image/png": "[encoded data removed]",
      "text/plain": [
       "<Figure size 360x288 with 1 Axes>"
      ]
     },
     "metadata": {
      "needs_background": "light"
     },
     "output_type": "display_data"
    },
    {
     "data": {
      "image/png": "[encoded data removed]",
      "text/plain": [
       "<Figure size 360x288 with 1 Axes>"
      ]
     },
     "metadata": {
      "needs_background": "light"
     },
     "output_type": "display_data"
    },
    {
     "data": {
      "image/png": "[encoded data removed]",
      "text/plain": [
       "<Figure size 360x288 with 1 Axes>"
      ]
     },
     "metadata": {
      "needs_background": "light"
     },
     "output_type": "display_data"
    },
    {
     "data": {
      "image/png": "[encoded data removed]",
      "text/plain": [
       "<Figure size 360x288 with 1 Axes>"
      ]
     },
     "metadata": {
      "needs_background": "light"
     },
     "output_type": "display_data"
    },
    {
     "data": {
      "image/png": "[encoded data removed]",
      "text/plain": [
       "<Figure size 1080x288 with 3 Axes>"
      ]
     },
     "metadata": {
      "needs_background": "light"
     },
     "output_type": "display_data"
    },
    {
     "data": {
      "image/png": "[encoded data removed]",
      "text/plain": [
       "<Figure size 1080x288 with 3 Axes>"
      ]
     },
     "metadata": {
      "needs_background": "light"
     },
     "output_type": "display_data"
    }
   ],
   "source": [
    "from collections import defaultdict\n",
    "def hyperparam_distributions(samples) -> {str:[]}:\n",
    "    \"\"\"Returns a dict from hyper-parameter name to the best values for that hyper-parameter over the samples.\"\"\"\n",
    "    distributions = defaultdict(list)\n",
    "    for sample in samples:\n",
    "        h = sample['estimator'].best_params_\n",
    "        for key, value in h.items():\n",
    "            distributions[key].append(value)\n",
    "    return distributions\n",
    "\n",
    "def plot_hyperparam_distributions(samples, title) -> None:\n",
    "    distributions = hyperparam_distributions(samples)\n",
    "    k = len(distributions)\n",
    "    fig, axes = plt.subplots(1,k,figsize=(k*5,4))\n",
    "    if k == 1:\n",
    "        axes = [axes]\n",
    "    for i, (key, values) in enumerate(distributions.items()):\n",
    "        ax = axes[i]\n",
    "        ax.hist(values)\n",
    "        ax.set_title(title)\n",
    "        ax.set_xlabel(key)\n",
    "        ax.set_ylabel('count')\n",
    "    return fig,axes\n",
    "\n",
    "for model, (results0, results1) in bootstrap_results.items():\n",
    "    plot_hyperparam_distributions(results0,f\"{model}-control\")\n",
    "    plot_hyperparam_distributions(results1,f\"{model}-treated\")"
   ]
  }
 ],
 "metadata": {
  "celltoolbar": "Tags",
  "kernelspec": {
   "display_name": "Python 3 (ipykernel)",
   "language": "python",
   "name": "python3"
  },
  "language_info": {
   "codemirror_mode": {
    "name": "ipython",
    "version": 3
   },
   "file_extension": ".py",
   "mimetype": "text/x-python",
   "name": "python",
   "nbconvert_exporter": "python",
   "pygments_lexer": "ipython3",
   "version": "3.9.5"
  }
 },
 "nbformat": 4,
 "nbformat_minor": 5
}
