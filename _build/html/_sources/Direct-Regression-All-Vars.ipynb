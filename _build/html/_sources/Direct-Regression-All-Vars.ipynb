{
 "cells": [
  {
   "cell_type": "markdown",
   "id": "0",
   "metadata": {},
   "source": [
    "# Direct Regression"
   ]
  },
  {
   "cell_type": "code",
   "execution_count": 1,
   "id": "1",
   "metadata": {
    "tags": [
     "hide_cell"
    ]
   },
   "outputs": [
    {
     "data": {
      "text/plain": [
       "'1.0'"
      ]
     },
     "execution_count": 1,
     "metadata": {},
     "output_type": "execute_result"
    }
   ],
   "source": [
    "# import libraries\n",
    "import numpy as np\n",
    "import pandas as pd\n",
    "import matplotlib.pyplot as plt\n",
    "import pyreadstat\n",
    "import re\n",
    "import string\n",
    "import sklearn\n",
    "from sklearn_pandas import DataFrameMapper\n",
    "from sklearn.linear_model import LinearRegression, Lasso, Ridge\n",
    "from sklearn.ensemble import GradientBoostingRegressor\n",
    "from sklearn.svm import SVR\n",
    "from tqdm import tqdm_notebook as tqdm\n",
    "#from cinspect import dependence, importance\n",
    "from sklearn.model_selection import cross_val_score, cross_validate\n",
    "import pickle\n",
    "import time\n",
    "\n",
    "from reed import drop_missing_treatment_or_outcome, Model\n",
    "\n",
    "# set global notebook options\n",
    "pd.options.display.max_columns = 200\n",
    "pd.options.display.max_rows = 500\n",
    "pd.options.display.max_colwidth = 100\n",
    "\n",
    "%matplotlib inline\n",
    "\n",
    "%load_ext autoreload\n",
    "%autoreload 2\n",
    "\n",
    "sklearn.__version__"
   ]
  },
  {
   "cell_type": "markdown",
   "id": "2",
   "metadata": {},
   "source": [
    "## Response Model\n",
    "\n",
    "How well can we predict outcomes $Y$ conditional on treatment $T$ and other covariates $Z$?"
   ]
  },
  {
   "cell_type": "markdown",
   "id": "3",
   "metadata": {},
   "source": [
    "### Treatent variables\n",
    "\n",
    "   - **reduhl**\tCompleted re-education based on highest level of attainment\n",
    "   - **redudl**\tCompleted re-education based on detailed qualifications\n",
    "   - **redufl**\tCompleted re-education using highest lvl and detailed qualifications.\n",
    "\n",
    "### Outcome variables\n",
    "   - Mental health in 2019 (**mh**). This is the transformed mental health scores from the aggregation of mental health items of the SF-36 Health Survey, as reported by the individual in 2019. It ranges from 0 to 100, with higher scores indicating better mental health.  \n",
    "   - Working hours in 2019 (**wkhr**) records the total number of hours the individual works in all jobs in a week on average. Working hours are set to 0 for those not working. \n",
    "   - Hourly Wages in 2019 (**rlwage**) records the average hourly wage for the individual’s main job in 2019. Hourly wages are set to 0 for those not working and set to missing for those reporting working more than 100 hours a week. \n",
    "   \n",
    "#### Columns explicitly excluded\n",
    "   - **xwaveid** (unique identifier)\n",
    "   - **p_rcom*** (timing of completion of re-education, proxies treatment) TODO think about how we would include this\n",
    "   - **p_cotrl** (first avail 2003)\n",
    "   - **p_rdf*** (first avail 2012)"
   ]
  },
  {
   "cell_type": "markdown",
   "id": "4",
   "metadata": {},
   "source": [
    "#### Select modeling parameters"
   ]
  },
  {
   "cell_type": "code",
   "execution_count": 2,
   "id": "5",
   "metadata": {},
   "outputs": [],
   "source": [
    "outcome = 'y_Dwsce'#'y_wsce'\n",
    "treatment = 'redufl'\n",
    "optimisation_metric = 'neg_mean_squared_error'\n",
    "evaluation_metrics = ('r2','neg_mean_squared_error')\n",
    "log_outcome=False\n",
    "cross_val_cache = \"data/cross-val-all.pkl\"\n",
    "bootstrap_cache = \"data/bootstrap-all.pkl\""
   ]
  },
  {
   "cell_type": "markdown",
   "id": "6",
   "metadata": {},
   "source": [
    "### Load Data \n",
    "   - drop rows missing the specified treatment or outcome"
   ]
  },
  {
   "cell_type": "code",
   "execution_count": 3,
   "id": "7",
   "metadata": {
    "tags": [
     "hide_input"
    ]
   },
   "outputs": [
    {
     "name": "stdout",
     "output_type": "stream",
     "text": [
      "Dropped 592 rows missing treatment or outcome.\n"
     ]
    }
   ],
   "source": [
    "data = pd.read_csv(\"all_vars.csv\",index_col='xwaveid')\n",
    "drop_missing_treatment_or_outcome(data, treatment, outcome)\n",
    "if log_outcome:\n",
    "    data[outcome] = np.log(data[outcome]+data[outcome].min())"
   ]
  },
  {
   "cell_type": "markdown",
   "id": "8",
   "metadata": {},
   "source": [
    "### Set up models\n",
    "Specify which models to use and the hyper-parameter space to search over for each"
   ]
  },
  {
   "cell_type": "code",
   "execution_count": 4,
   "id": "9",
   "metadata": {
    "tags": [
     "hide_input"
    ]
   },
   "outputs": [],
   "source": [
    "from sklearn.linear_model import Lasso, Ridge\n",
    "from sklearn.ensemble import GradientBoostingRegressor\n",
    "from direct_regression import importance_from_coef\n",
    "\n",
    "def construct_models():\n",
    "    models = [\n",
    "        Model('ridge',Ridge(), \n",
    "              parameters = {\n",
    "                  'alpha':np.logspace(-1,4,30)\n",
    "              },\n",
    "              importance_func=importance_from_coef\n",
    "        ),\n",
    "        Model('lasso',Lasso(),\n",
    "              parameters = {\n",
    "                  'alpha':np.logspace(-2,4,30)\n",
    "              },\n",
    "              importance_func=importance_from_coef\n",
    "        ), \n",
    "        Model('gbr',GradientBoostingRegressor(n_iter_no_change=20, max_depth=2),\n",
    "              parameters = {\n",
    "                'max_features':[10,20,40,60,80],\n",
    "                'learning_rate':np.logspace(-3,0,10),\n",
    "                'min_samples_leaf':np.logspace(0,3,10).astype(int)\n",
    "              }\n",
    "        ),\n",
    "    ]\n",
    "    return models\n",
    "\n",
    "# def construct_models(): Used for quick testing\n",
    "#     models = [\n",
    "#         Model('Ridge',Ridge(),\n",
    "#               parameters = {'alpha':np.logspace(1,4,2)},\n",
    "#               importance_func=importance_from_coef\n",
    "#         ),\n",
    "#         Model('gbr',GradientBoostingRegressor(n_iter_no_change=20, max_depth=2),\n",
    "#               parameters = {\n",
    "#                 'max_features':[10],\n",
    "#                 'learning_rate':np.logspace(-3,0,2),\n",
    "#               }\n",
    "#         ), \n",
    "#     ]\n",
    "#     return models"
   ]
  },
  {
   "cell_type": "markdown",
   "id": "10",
   "metadata": {},
   "source": [
    "### Prepare data for modeling\n",
    "   - split into treated/control\n",
    "   - impute missing values and scale\n",
    "   - separate features from outcomes&treatments"
   ]
  },
  {
   "cell_type": "code",
   "execution_count": 5,
   "id": "11",
   "metadata": {
    "tags": [
     "hide_input"
    ]
   },
   "outputs": [
    {
     "name": "stdout",
     "output_type": "stream",
     "text": [
      "Control data dimensions:  (3659, 638)\n",
      "Treated data dimensions: (1295, 638)\n"
     ]
    }
   ],
   "source": [
    "from direct_regression import seperate_and_transform_data\n",
    "X0, X1, y0, y1, X, y, t, features = seperate_and_transform_data(data, treatment, outcome)\n",
    "\n",
    "print(\"Control data dimensions: \",X0.shape)\n",
    "print(\"Treated data dimensions:\",X1.shape)\n"
   ]
  },
  {
   "cell_type": "markdown",
   "id": "12",
   "metadata": {},
   "source": [
    "### Compute unconditional/unadjusted estimate of treatment effect"
   ]
  },
  {
   "cell_type": "code",
   "execution_count": 6,
   "id": "13",
   "metadata": {
    "tags": [
     "hide_input"
    ]
   },
   "outputs": [
    {
     "name": "stdout",
     "output_type": "stream",
     "text": [
      "Proportion Treated:26%\n",
      "Average outcome under Control:67.85±15.36\n",
      "Average outcome under Treatment:310.57±29.39\n",
      "Unadjusted treatment estimate 242.72\n"
     ]
    }
   ],
   "source": [
    "from direct_regression import print_unconditional_effects\n",
    "print_unconditional_effects(data, treatment, y0, y1)"
   ]
  },
  {
   "cell_type": "markdown",
   "id": "14",
   "metadata": {},
   "source": [
    "### Propensity model\n",
    "\n",
    "- Run primarily to check for violations over overlap assumptions."
   ]
  },
  {
   "cell_type": "code",
   "execution_count": 7,
   "id": "15",
   "metadata": {
    "tags": [
     "hide_cell"
    ]
   },
   "outputs": [],
   "source": [
    "from reed import visualise_propensity_model_performance\n",
    "from sklearn.model_selection import train_test_split\n",
    "from sklearn.linear_model import LogisticRegression, LogisticRegressionCV\n",
    "\n",
    "X_train, X_test, t_train, t_test = train_test_split(X,t,stratify=t)\n",
    "pmodel = LogisticRegressionCV(Cs = np.logspace(-5,-1,20), penalty='l2', max_iter=10000)\n",
    "pmodel.fit(X_train, t_train);"
   ]
  },
  {
   "cell_type": "code",
   "execution_count": 8,
   "id": "16",
   "metadata": {
    "tags": [
     "hide_input"
    ]
   },
   "outputs": [
    {
     "data": {
      "image/png": "[encoded data removed]",
      "text/plain": [
       "<Figure size 1080x360 with 2 Axes>"
      ]
     },
     "metadata": {
      "needs_background": "light"
     },
     "output_type": "display_data"
    }
   ],
   "source": [
    "visualise_propensity_model_performance(t_test, pmodel.predict_proba(X_test)[:,1],'l2-logistic',bins=10)"
   ]
  },
  {
   "cell_type": "code",
   "execution_count": 9,
   "id": "17",
   "metadata": {
    "tags": [
     "hide_input"
    ]
   },
   "outputs": [
    {
     "name": "stdout",
     "output_type": "stream",
     "text": [
      "Propensity Model Coefficients\n"
     ]
    },
    {
     "data": {
      "text/html": [
       "<div>\n",
       "<style scoped>\n",
       "    .dataframe tbody tr th:only-of-type {\n",
       "        vertical-align: middle;\n",
       "    }\n",
       "\n",
       "    .dataframe tbody tr th {\n",
       "        vertical-align: top;\n",
       "    }\n",
       "\n",
       "    .dataframe thead th {\n",
       "        text-align: right;\n",
       "    }\n",
       "</style>\n",
       "<table border=\"1\" class=\"dataframe\">\n",
       "  <thead>\n",
       "    <tr style=\"text-align: right;\">\n",
       "      <th></th>\n",
       "      <th>label</th>\n",
       "      <th>c</th>\n",
       "      <th>abs</th>\n",
       "    </tr>\n",
       "  </thead>\n",
       "  <tbody>\n",
       "    <tr>\n",
       "      <th>aedq524</th>\n",
       "      <td>DV: ASCED 524 Certificate level I - Number of qualifications obtained since leaving school</td>\n",
       "      <td>0.075018</td>\n",
       "      <td>0.075018</td>\n",
       "    </tr>\n",
       "    <tr>\n",
       "      <th>ajbocct</th>\n",
       "      <td>DV: Tenure in current occupation (years)</td>\n",
       "      <td>-0.071395</td>\n",
       "      <td>0.071395</td>\n",
       "    </tr>\n",
       "    <tr>\n",
       "      <th>ahgage</th>\n",
       "      <td>DV: Age last birthday at June 30 2001</td>\n",
       "      <td>-0.067138</td>\n",
       "      <td>0.067138</td>\n",
       "    </tr>\n",
       "    <tr>\n",
       "      <th>aehttot</th>\n",
       "      <td>D3 Total years since left school - Manual addition</td>\n",
       "      <td>-0.065106</td>\n",
       "      <td>0.065106</td>\n",
       "    </tr>\n",
       "    <tr>\n",
       "      <th>ahgsex</th>\n",
       "      <td>HF3 Sex</td>\n",
       "      <td>0.059512</td>\n",
       "      <td>0.059512</td>\n",
       "    </tr>\n",
       "    <tr>\n",
       "      <th>aedqenr</th>\n",
       "      <td>C6 Ever enrolled in a course of study to obtain a qualification</td>\n",
       "      <td>-0.053356</td>\n",
       "      <td>0.053356</td>\n",
       "    </tr>\n",
       "    <tr>\n",
       "      <th>ajbempt</th>\n",
       "      <td>DV: Tenure with current employer (years)</td>\n",
       "      <td>-0.052635</td>\n",
       "      <td>0.052635</td>\n",
       "    </tr>\n",
       "    <tr>\n",
       "      <th>amrcdur</th>\n",
       "      <td>DV: Current marriage duration - years</td>\n",
       "      <td>-0.052320</td>\n",
       "      <td>0.052320</td>\n",
       "    </tr>\n",
       "    <tr>\n",
       "      <th>aordf1mt</th>\n",
       "      <td>J8 Month began living together, first defacto relationship excluding current</td>\n",
       "      <td>0.050062</td>\n",
       "      <td>0.050062</td>\n",
       "    </tr>\n",
       "    <tr>\n",
       "      <th>aehtjbyr</th>\n",
       "      <td>D3a1 Years in paid work</td>\n",
       "      <td>-0.049900</td>\n",
       "      <td>0.049900</td>\n",
       "    </tr>\n",
       "    <tr>\n",
       "      <th>ajomsf</th>\n",
       "      <td>SCQ:E1d I have a secure future in my job</td>\n",
       "      <td>-0.049472</td>\n",
       "      <td>0.049472</td>\n",
       "    </tr>\n",
       "    <tr>\n",
       "      <th>abnmatf1</th>\n",
       "      <td>DV: Family number 1 Maternity Payments ($) financial year [estimated]</td>\n",
       "      <td>-0.048903</td>\n",
       "      <td>0.048903</td>\n",
       "    </tr>\n",
       "    <tr>\n",
       "      <th>afibcar</th>\n",
       "      <td>SCQ:C7d Alright to borrow for - Car</td>\n",
       "      <td>-0.048789</td>\n",
       "      <td>0.048789</td>\n",
       "    </tr>\n",
       "    <tr>\n",
       "      <th>ajbmmpl</th>\n",
       "      <td>E24 Which of these best describes employer/business</td>\n",
       "      <td>0.048499</td>\n",
       "      <td>0.048499</td>\n",
       "    </tr>\n",
       "    <tr>\n",
       "      <th>adosg</th>\n",
       "      <td>HFL3 Dwelling security - Security guard/doorman/on-site manager/gatekeeper</td>\n",
       "      <td>-0.048026</td>\n",
       "      <td>0.048026</td>\n",
       "    </tr>\n",
       "    <tr>\n",
       "      <th>aloimprl</th>\n",
       "      <td>K8 Importance - H Religion</td>\n",
       "      <td>0.047267</td>\n",
       "      <td>0.047267</td>\n",
       "    </tr>\n",
       "    <tr>\n",
       "      <th>aedq521</th>\n",
       "      <td>DV: ASCED 521 Certificate level II - Number of qualifications obtained since leaving school</td>\n",
       "      <td>0.044277</td>\n",
       "      <td>0.044277</td>\n",
       "    </tr>\n",
       "    <tr>\n",
       "      <th>aioinflu</th>\n",
       "      <td>Z2 Influence respondent answers</td>\n",
       "      <td>-0.043999</td>\n",
       "      <td>0.043999</td>\n",
       "    </tr>\n",
       "    <tr>\n",
       "      <th>adonws</th>\n",
       "      <td>HFL3 Dwelling security - Neighbourhood watch sign</td>\n",
       "      <td>-0.043458</td>\n",
       "      <td>0.043458</td>\n",
       "    </tr>\n",
       "    <tr>\n",
       "      <th>afioth</th>\n",
       "      <td>SCQ:C3b How would obtain (waves 1-8) $2,000 (waves 9+) $3,000 - Use some other method</td>\n",
       "      <td>0.042438</td>\n",
       "      <td>0.042438</td>\n",
       "    </tr>\n",
       "  </tbody>\n",
       "</table>\n",
       "</div>"
      ],
      "text/plain": [
       "                                                                                                label  \\\n",
       "aedq524    DV: ASCED 524 Certificate level I - Number of qualifications obtained since leaving school   \n",
       "ajbocct                                                      DV: Tenure in current occupation (years)   \n",
       "ahgage                                                          DV: Age last birthday at June 30 2001   \n",
       "aehttot                                            D3 Total years since left school - Manual addition   \n",
       "ahgsex                                                                                        HF3 Sex   \n",
       "aedqenr                               C6 Ever enrolled in a course of study to obtain a qualification   \n",
       "ajbempt                                                      DV: Tenure with current employer (years)   \n",
       "amrcdur                                                         DV: Current marriage duration - years   \n",
       "aordf1mt                 J8 Month began living together, first defacto relationship excluding current   \n",
       "aehtjbyr                                                                      D3a1 Years in paid work   \n",
       "ajomsf                                                       SCQ:E1d I have a secure future in my job   \n",
       "abnmatf1                        DV: Family number 1 Maternity Payments ($) financial year [estimated]   \n",
       "afibcar                                                           SCQ:C7d Alright to borrow for - Car   \n",
       "ajbmmpl                                           E24 Which of these best describes employer/business   \n",
       "adosg                      HFL3 Dwelling security - Security guard/doorman/on-site manager/gatekeeper   \n",
       "aloimprl                                                                   K8 Importance - H Religion   \n",
       "aedq521   DV: ASCED 521 Certificate level II - Number of qualifications obtained since leaving school   \n",
       "aioinflu                                                              Z2 Influence respondent answers   \n",
       "adonws                                              HFL3 Dwelling security - Neighbourhood watch sign   \n",
       "afioth          SCQ:C3b How would obtain (waves 1-8) $2,000 (waves 9+) $3,000 - Use some other method   \n",
       "\n",
       "                 c       abs  \n",
       "aedq524   0.075018  0.075018  \n",
       "ajbocct  -0.071395  0.071395  \n",
       "ahgage   -0.067138  0.067138  \n",
       "aehttot  -0.065106  0.065106  \n",
       "ahgsex    0.059512  0.059512  \n",
       "aedqenr  -0.053356  0.053356  \n",
       "ajbempt  -0.052635  0.052635  \n",
       "amrcdur  -0.052320  0.052320  \n",
       "aordf1mt  0.050062  0.050062  \n",
       "aehtjbyr -0.049900  0.049900  \n",
       "ajomsf   -0.049472  0.049472  \n",
       "abnmatf1 -0.048903  0.048903  \n",
       "afibcar  -0.048789  0.048789  \n",
       "ajbmmpl   0.048499  0.048499  \n",
       "adosg    -0.048026  0.048026  \n",
       "aloimprl  0.047267  0.047267  \n",
       "aedq521   0.044277  0.044277  \n",
       "aioinflu -0.043999  0.043999  \n",
       "adonws   -0.043458  0.043458  \n",
       "afioth    0.042438  0.042438  "
      ]
     },
     "execution_count": 9,
     "metadata": {},
     "output_type": "execute_result"
    }
   ],
   "source": [
    "def propensity_coefficients(model, features):\n",
    "    if hasattr(model,'best_estimator_'):\n",
    "        model = model.best_estimator_\n",
    "    coef = model.coef_[0]\n",
    "    \n",
    "    with open('data/metadata.pkl','rb') as f:\n",
    "        meta = pickle.load(f)\n",
    "        labels = [meta.column_names_to_labels.get(f) for f in features]\n",
    "    return pd.DataFrame({'label': labels, \"c\":coef,'abs':np.abs(coef)},index=features).sort_values(by='abs',ascending=False).head(50)\n",
    "print(\"Propensity Model Coefficients\")      \n",
    "propensity_coefficients(pmodel, features).head(20)"
   ]
  },
  {
   "cell_type": "markdown",
   "id": "18",
   "metadata": {},
   "source": [
    "### (Nested) cross-validate to evaluate model performance\n",
    "![image.png](images/nested_cross_val.png)"
   ]
  },
  {
   "cell_type": "code",
   "execution_count": 10,
   "id": "19",
   "metadata": {
    "tags": [
     "hide_cell"
    ]
   },
   "outputs": [],
   "source": [
    "from direct_regression import nested_cross_val\n",
    "models0, models1, results = nested_cross_val(\n",
    "    construct_models,\n",
    "    cross_val_cache,\n",
    "    X0, X1, y0, y1,\n",
    "    optimisation_metric,\n",
    "    evaluation_metrics,\n",
    "    innercv=5,\n",
    "    outercv=20,\n",
    "    load_from_cache=True\n",
    ")"
   ]
  },
  {
   "cell_type": "markdown",
   "id": "20",
   "metadata": {},
   "source": [
    "### Report estimate ATE and model performance\n",
    "\n",
    "  - Mean and Std of prediction performance for each model (both treatment & control surface)\n",
    "  - Mean and Std of average treatment effect for each model"
   ]
  },
  {
   "cell_type": "code",
   "execution_count": 11,
   "id": "21",
   "metadata": {},
   "outputs": [
    {
     "data": {
      "text/html": [
       "<div>\n",
       "<style scoped>\n",
       "    .dataframe tbody tr th:only-of-type {\n",
       "        vertical-align: middle;\n",
       "    }\n",
       "\n",
       "    .dataframe tbody tr th {\n",
       "        vertical-align: top;\n",
       "    }\n",
       "\n",
       "    .dataframe thead th {\n",
       "        text-align: right;\n",
       "    }\n",
       "</style>\n",
       "<table border=\"1\" class=\"dataframe\">\n",
       "  <thead>\n",
       "    <tr style=\"text-align: right;\">\n",
       "      <th></th>\n",
       "      <th>ACE</th>\n",
       "      <th>ACE_std</th>\n",
       "      <th>control_r2</th>\n",
       "      <th>control_r2_std</th>\n",
       "      <th>treated_r2</th>\n",
       "      <th>treated_r2_std</th>\n",
       "      <th>control_neg_mean_squared_error</th>\n",
       "      <th>control_neg_mean_squared_error_std</th>\n",
       "      <th>treated_neg_mean_squared_error</th>\n",
       "      <th>treated_neg_mean_squared_error_std</th>\n",
       "    </tr>\n",
       "  </thead>\n",
       "  <tbody>\n",
       "    <tr>\n",
       "      <th>ridge</th>\n",
       "      <td>32.43</td>\n",
       "      <td>17.85</td>\n",
       "      <td>0.21</td>\n",
       "      <td>0.04</td>\n",
       "      <td>0.16</td>\n",
       "      <td>0.05</td>\n",
       "      <td>-688,459.25</td>\n",
       "      <td>117,049.27</td>\n",
       "      <td>-937,229.77</td>\n",
       "      <td>228,178.97</td>\n",
       "    </tr>\n",
       "    <tr>\n",
       "      <th>lasso</th>\n",
       "      <td>12.60</td>\n",
       "      <td>21.54</td>\n",
       "      <td>0.21</td>\n",
       "      <td>0.04</td>\n",
       "      <td>0.23</td>\n",
       "      <td>0.08</td>\n",
       "      <td>-682,934.95</td>\n",
       "      <td>111,734.07</td>\n",
       "      <td>-869,897.33</td>\n",
       "      <td>231,965.57</td>\n",
       "    </tr>\n",
       "    <tr>\n",
       "      <th>gbr</th>\n",
       "      <td>33.92</td>\n",
       "      <td>30.89</td>\n",
       "      <td>0.26</td>\n",
       "      <td>0.05</td>\n",
       "      <td>0.17</td>\n",
       "      <td>0.07</td>\n",
       "      <td>-644,545.72</td>\n",
       "      <td>110,096.12</td>\n",
       "      <td>-936,660.69</td>\n",
       "      <td>259,663.97</td>\n",
       "    </tr>\n",
       "  </tbody>\n",
       "</table>\n",
       "</div>"
      ],
      "text/plain": [
       "        ACE  ACE_std  control_r2  control_r2_std  treated_r2  treated_r2_std  \\\n",
       "ridge 32.43    17.85        0.21            0.04        0.16            0.05   \n",
       "lasso 12.60    21.54        0.21            0.04        0.23            0.08   \n",
       "gbr   33.92    30.89        0.26            0.05        0.17            0.07   \n",
       "\n",
       "       control_neg_mean_squared_error  control_neg_mean_squared_error_std  \\\n",
       "ridge                     -688,459.25                          117,049.27   \n",
       "lasso                     -682,934.95                          111,734.07   \n",
       "gbr                       -644,545.72                          110,096.12   \n",
       "\n",
       "       treated_neg_mean_squared_error  treated_neg_mean_squared_error_std  \n",
       "ridge                     -937,229.77                          228,178.97  \n",
       "lasso                     -869,897.33                          231,965.57  \n",
       "gbr                       -936,660.69                          259,663.97  "
      ]
     },
     "metadata": {},
     "output_type": "display_data"
    },
    {
     "data": {
      "image/png": "[encoded data removed]",
      "text/plain": [
       "<Figure size 1080x360 with 2 Axes>"
      ]
     },
     "metadata": {
      "needs_background": "light"
     },
     "output_type": "display_data"
    }
   ],
   "source": [
    "from direct_regression import visualise_ate\n",
    "visualise_ate(results,X,evaluation_metrics);"
   ]
  },
  {
   "cell_type": "markdown",
   "id": "22",
   "metadata": {},
   "source": [
    "### Visualise models\n",
    "- Features responsible for treatment effect heterogeneity & functional form (with uncertainty)\n",
    "      - coefficeints for linear models\n",
    "      - TODO permutation importance & partial dependence curves for non-linear models"
   ]
  },
  {
   "cell_type": "code",
   "execution_count": 12,
   "id": "23",
   "metadata": {
    "tags": [
     "hide_input"
    ]
   },
   "outputs": [
    {
     "name": "stdout",
     "output_type": "stream",
     "text": [
      "ridge\n"
     ]
    },
    {
     "data": {
      "text/html": [
       "<div>\n",
       "<style scoped>\n",
       "    .dataframe tbody tr th:only-of-type {\n",
       "        vertical-align: middle;\n",
       "    }\n",
       "\n",
       "    .dataframe tbody tr th {\n",
       "        vertical-align: top;\n",
       "    }\n",
       "\n",
       "    .dataframe thead th {\n",
       "        text-align: right;\n",
       "    }\n",
       "</style>\n",
       "<table border=\"1\" class=\"dataframe\">\n",
       "  <thead>\n",
       "    <tr style=\"text-align: right;\">\n",
       "      <th></th>\n",
       "      <th>importance_mean</th>\n",
       "      <th>importance_std</th>\n",
       "      <th>Δcoef_mean</th>\n",
       "      <th>Δcoef_std</th>\n",
       "      <th>coef_treat_mean</th>\n",
       "      <th>coef_treat_std</th>\n",
       "      <th>coef_cntr_mean</th>\n",
       "      <th>coef_cntr_std</th>\n",
       "    </tr>\n",
       "    <tr>\n",
       "      <th>feature</th>\n",
       "      <th></th>\n",
       "      <th></th>\n",
       "      <th></th>\n",
       "      <th></th>\n",
       "      <th></th>\n",
       "      <th></th>\n",
       "      <th></th>\n",
       "      <th></th>\n",
       "    </tr>\n",
       "  </thead>\n",
       "  <tbody>\n",
       "    <tr>\n",
       "      <th>awscmei</th>\n",
       "      <td>67.392175</td>\n",
       "      <td>5.371911</td>\n",
       "      <td>-7.386898</td>\n",
       "      <td>12.555713</td>\n",
       "      <td>-7.108562e+01</td>\n",
       "      <td>8.675093e+00</td>\n",
       "      <td>-63.698726</td>\n",
       "      <td>7.828191</td>\n",
       "    </tr>\n",
       "    <tr>\n",
       "      <th>ahgage</th>\n",
       "      <td>38.314974</td>\n",
       "      <td>1.871172</td>\n",
       "      <td>1.097868</td>\n",
       "      <td>2.064772</td>\n",
       "      <td>-3.776604e+01</td>\n",
       "      <td>2.215085e+00</td>\n",
       "      <td>-38.863908</td>\n",
       "      <td>2.056115</td>\n",
       "    </tr>\n",
       "    <tr>\n",
       "      <th>ahiwscmi</th>\n",
       "      <td>36.362816</td>\n",
       "      <td>2.100656</td>\n",
       "      <td>15.844493</td>\n",
       "      <td>10.380130</td>\n",
       "      <td>-2.844057e+01</td>\n",
       "      <td>5.149319e+00</td>\n",
       "      <td>-44.285062</td>\n",
       "      <td>6.015278</td>\n",
       "    </tr>\n",
       "    <tr>\n",
       "      <th>aehttot</th>\n",
       "      <td>35.313115</td>\n",
       "      <td>2.152391</td>\n",
       "      <td>-1.756363</td>\n",
       "      <td>1.328987</td>\n",
       "      <td>-3.619130e+01</td>\n",
       "      <td>2.440478e+00</td>\n",
       "      <td>-34.434933</td>\n",
       "      <td>2.047620</td>\n",
       "    </tr>\n",
       "    <tr>\n",
       "      <th>aehtjbyr</th>\n",
       "      <td>34.970354</td>\n",
       "      <td>2.042174</td>\n",
       "      <td>1.982229</td>\n",
       "      <td>1.431604</td>\n",
       "      <td>-3.397924e+01</td>\n",
       "      <td>2.020007e+00</td>\n",
       "      <td>-35.961468</td>\n",
       "      <td>2.298971</td>\n",
       "    </tr>\n",
       "    <tr>\n",
       "      <th>...</th>\n",
       "      <td>...</td>\n",
       "      <td>...</td>\n",
       "      <td>...</td>\n",
       "      <td>...</td>\n",
       "      <td>...</td>\n",
       "      <td>...</td>\n",
       "      <td>...</td>\n",
       "      <td>...</td>\n",
       "    </tr>\n",
       "    <tr>\n",
       "      <th>aoifrpt</th>\n",
       "      <td>0.569735</td>\n",
       "      <td>0.379192</td>\n",
       "      <td>-1.105305</td>\n",
       "      <td>0.819154</td>\n",
       "      <td>2.136689e-29</td>\n",
       "      <td>9.627163e-30</td>\n",
       "      <td>1.105305</td>\n",
       "      <td>0.819154</td>\n",
       "    </tr>\n",
       "    <tr>\n",
       "      <th>abncob</th>\n",
       "      <td>0.567920</td>\n",
       "      <td>0.385846</td>\n",
       "      <td>1.135841</td>\n",
       "      <td>0.771692</td>\n",
       "      <td>3.203073e-29</td>\n",
       "      <td>1.469974e-29</td>\n",
       "      <td>-1.135841</td>\n",
       "      <td>0.771692</td>\n",
       "    </tr>\n",
       "    <tr>\n",
       "      <th>abncobi</th>\n",
       "      <td>0.499964</td>\n",
       "      <td>0.225187</td>\n",
       "      <td>0.999928</td>\n",
       "      <td>0.450373</td>\n",
       "      <td>1.446873e-29</td>\n",
       "      <td>7.380840e-30</td>\n",
       "      <td>-0.999928</td>\n",
       "      <td>0.450373</td>\n",
       "    </tr>\n",
       "    <tr>\n",
       "      <th>awscmef</th>\n",
       "      <td>0.000000</td>\n",
       "      <td>0.000000</td>\n",
       "      <td>0.000000</td>\n",
       "      <td>0.000000</td>\n",
       "      <td>0.000000e+00</td>\n",
       "      <td>0.000000e+00</td>\n",
       "      <td>0.000000</td>\n",
       "      <td>0.000000</td>\n",
       "    </tr>\n",
       "    <tr>\n",
       "      <th>ahgagef</th>\n",
       "      <td>0.000000</td>\n",
       "      <td>0.000000</td>\n",
       "      <td>0.000000</td>\n",
       "      <td>0.000000</td>\n",
       "      <td>0.000000e+00</td>\n",
       "      <td>0.000000e+00</td>\n",
       "      <td>0.000000</td>\n",
       "      <td>0.000000</td>\n",
       "    </tr>\n",
       "  </tbody>\n",
       "</table>\n",
       "<p>638 rows × 8 columns</p>\n",
       "</div>"
      ],
      "text/plain": [
       "          importance_mean  importance_std  Δcoef_mean  Δcoef_std  \\\n",
       "feature                                                            \n",
       "awscmei         67.392175        5.371911   -7.386898  12.555713   \n",
       "ahgage          38.314974        1.871172    1.097868   2.064772   \n",
       "ahiwscmi        36.362816        2.100656   15.844493  10.380130   \n",
       "aehttot         35.313115        2.152391   -1.756363   1.328987   \n",
       "aehtjbyr        34.970354        2.042174    1.982229   1.431604   \n",
       "...                   ...             ...         ...        ...   \n",
       "aoifrpt          0.569735        0.379192   -1.105305   0.819154   \n",
       "abncob           0.567920        0.385846    1.135841   0.771692   \n",
       "abncobi          0.499964        0.225187    0.999928   0.450373   \n",
       "awscmef          0.000000        0.000000    0.000000   0.000000   \n",
       "ahgagef          0.000000        0.000000    0.000000   0.000000   \n",
       "\n",
       "          coef_treat_mean  coef_treat_std  coef_cntr_mean  coef_cntr_std  \n",
       "feature                                                                   \n",
       "awscmei     -7.108562e+01    8.675093e+00      -63.698726       7.828191  \n",
       "ahgage      -3.776604e+01    2.215085e+00      -38.863908       2.056115  \n",
       "ahiwscmi    -2.844057e+01    5.149319e+00      -44.285062       6.015278  \n",
       "aehttot     -3.619130e+01    2.440478e+00      -34.434933       2.047620  \n",
       "aehtjbyr    -3.397924e+01    2.020007e+00      -35.961468       2.298971  \n",
       "...                   ...             ...             ...            ...  \n",
       "aoifrpt      2.136689e-29    9.627163e-30        1.105305       0.819154  \n",
       "abncob       3.203073e-29    1.469974e-29       -1.135841       0.771692  \n",
       "abncobi      1.446873e-29    7.380840e-30       -0.999928       0.450373  \n",
       "awscmef      0.000000e+00    0.000000e+00        0.000000       0.000000  \n",
       "ahgagef      0.000000e+00    0.000000e+00        0.000000       0.000000  \n",
       "\n",
       "[638 rows x 8 columns]"
      ]
     },
     "metadata": {},
     "output_type": "display_data"
    }
   ],
   "source": [
    "from direct_regression import display_feature_importance\n",
    "display_feature_importance(models0, models1, results, features);"
   ]
  },
  {
   "cell_type": "markdown",
   "id": "24",
   "metadata": {},
   "source": [
    "### Compare against OLS on basic variables"
   ]
  },
  {
   "cell_type": "code",
   "execution_count": 16,
   "id": "25",
   "metadata": {
    "tags": [
     "hide_input"
    ]
   },
   "outputs": [
    {
     "name": "stdout",
     "output_type": "stream",
     "text": [
      "Dropped 592 rows missing treatment or outcome.\n",
      "Fitting OLS ...Done\n",
      "Caching results to data/tmp.pkl\n"
     ]
    }
   ],
   "source": [
    "basic = pd.read_csv(\"basic_variables.csv\",index_col='xwaveid')\n",
    "drop_missing_treatment_or_outcome(basic, treatment, outcome)\n",
    "if log_outcome:\n",
    "    basic[outcome] = np.log(basic[outcome]+basic[outcome].min())\n",
    "    \n",
    "X0b, X1b, y0b, y1b, Xb, yb, tb, featuresb = seperate_and_transform_data(basic, treatment, outcome)\n",
    "\n",
    "def construct_basic_model():\n",
    "    models = [\n",
    "        Model('OLS',LinearRegression(),importance_func=importance_from_coef)\n",
    "    ]\n",
    "    return models\n",
    "\n",
    "modelsb0, modelsb1, resultsb = nested_cross_val(\n",
    "    construct_basic_model,\n",
    "    \"data/tmp.pkl\",\n",
    "    X0b, X1b, y0b, y1b,\n",
    "    optimisation_metric,\n",
    "    evaluation_metrics,\n",
    "    innercv=5,\n",
    "    outercv=20,\n",
    "    load_from_cache=False)"
   ]
  },
  {
   "cell_type": "code",
   "execution_count": 61,
   "id": "26",
   "metadata": {},
   "outputs": [
    {
     "data": {
      "text/plain": [
       "(0.2996426443784309, 0.3329968222052687)"
      ]
     },
     "execution_count": 61,
     "metadata": {},
     "output_type": "execute_result"
    },
    {
     "data": {
      "image/png": "[encoded data removed]",
      "text/plain": [
       "<Figure size 1080x360 with 2 Axes>"
      ]
     },
     "metadata": {
      "needs_background": "light"
     },
     "output_type": "display_data"
    }
   ],
   "source": [
    "y0a = results['ridge'][0]['estimator'][1].predict(X0)\n",
    "y1a = results['ridge'][1]['estimator'][1].predict(X1)\n",
    "fig, ax = plt.subplots(1,2, figsize=(15,5))\n",
    "ax[0].scatter(y0, y0a,s=10,alpha=0.1)\n",
    "ax[0].set_xlabel('y0')\n",
    "ax[0].set_ylabel('$\\\\hat{y}0$');\n",
    "ax[0].set_title(f'Control (ridge), $R^2={r2_score(y0,y0a):.2f}$')\n",
    "\n",
    "ax[1].scatter(y1, y1a,s=10,alpha=0.1)\n",
    "ax[1].set_xlabel('y1')\n",
    "ax[1].set_ylabel('$\\\\hat{y}1$');\n",
    "ax[1].set_title(f'Treated (ridge), $R^2={r2_score(y1,y1a):.2f}$');\n",
    "\n",
    "# think about why these r2 scores are higher than on the holdout set (and whether they are likely overfitting)"
   ]
  },
  {
   "cell_type": "code",
   "execution_count": 59,
   "id": "27",
   "metadata": {},
   "outputs": [
    {
     "data": {
      "text/plain": [
       "Text(0.5, 1.0, 'Treated (OLS-basic), $R^2=0.17$')"
      ]
     },
     "execution_count": 59,
     "metadata": {},
     "output_type": "execute_result"
    },
    {
     "data": {
      "image/png": "[encoded data removed]",
      "text/plain": [
       "<Figure size 1080x360 with 2 Axes>"
      ]
     },
     "metadata": {
      "needs_background": "light"
     },
     "output_type": "display_data"
    }
   ],
   "source": [
    "from sklearn.metrics import r2_score\n",
    "y0b = resultsb['OLS'][0]['estimator'][0].predict(X0b)\n",
    "y1b = resultsb['OLS'][1]['estimator'][0].predict(X1b)\n",
    "fig, ax = plt.subplots(1,2, figsize=(15,5))\n",
    "ax[0].scatter(y0, y0b,s=10,alpha=0.1)\n",
    "ax[0].set_xlabel('y0')\n",
    "ax[0].set_ylabel('$\\\\hat{y}0$');\n",
    "ax[0].set_title(f'Control (OLS-basic), $R^2={r2_score(y0,y0b):.2f}$')\n",
    "\n",
    "ax[1].scatter(y1, y1b,s=10,alpha=0.1)\n",
    "ax[1].set_xlabel('y1')\n",
    "ax[1].set_ylabel('$\\\\hat{y}1$');\n",
    "ax[1].set_title(f'Treated (OLS-basic), $R^2={r2_score(y1,y1b):.2f}$');\n"
   ]
  },
  {
   "cell_type": "markdown",
   "id": "28",
   "metadata": {},
   "source": [
    "### Bootstraped cross-validation to estimate parameter uncertainty\n",
    "![image.png](images/bootstrap_validation.png)"
   ]
  },
  {
   "cell_type": "code",
   "execution_count": 13,
   "id": "29",
   "metadata": {
    "scrolled": true,
    "tags": [
     "hide_cell"
    ]
   },
   "outputs": [
    {
     "name": "stdout",
     "output_type": "stream",
     "text": [
      "Fitting Ridge ...Fitting 3 folds for each of 2 candidates, totalling 6 fits\n",
      "Fitting 3 folds for each of 2 candidates, totalling 6 fits\n",
      "Fitting 3 folds for each of 2 candidates, totalling 6 fits\n",
      "Fitting 3 folds for each of 2 candidates, totalling 6 fits\n",
      "Fitting 3 folds for each of 2 candidates, totalling 6 fits\n",
      "Fitting 3 folds for each of 2 candidates, totalling 6 fits\n",
      "Done\n",
      "Fitting gbr ...Fitting 3 folds for each of 2 candidates, totalling 6 fits\n",
      "Fitting 3 folds for each of 2 candidates, totalling 6 fits\n",
      "Fitting 3 folds for each of 2 candidates, totalling 6 fits\n",
      "Fitting 3 folds for each of 2 candidates, totalling 6 fits\n",
      "Fitting 3 folds for each of 2 candidates, totalling 6 fits\n",
      "Fitting 3 folds for each of 2 candidates, totalling 6 fits\n",
      "Done\n",
      "Total time:3.9828720092773438 seconds\n",
      "Caching results to: data/bootstrap-all.pkl\n"
     ]
    }
   ],
   "source": [
    "def extract_params(estimator):\n",
    "    return estimator.coef_\n",
    "\n",
    "def bootstrapped_cross_val(\n",
    "    optimisation_metric,\n",
    "    extract_params_func,\n",
    "    inner_cv = 3,\n",
    "    load_from_cache=False, \n",
    "    cache_name=bootstrap_cache, \n",
    "    samples=1\n",
    "):\n",
    "    if load_from_cache:\n",
    "        with open(cache_name, 'rb') as f:\n",
    "            results = pickle.load(f)\n",
    "    else:\n",
    "        models = construct_models()\n",
    "        results = {}\n",
    "        start = time.time()\n",
    "        for model in models:\n",
    "            print(f\"Fitting {model.name} ...\",end='')\n",
    "            results0 = model.bootstrap_cv_evaluate(X0,y0,optimisation_metric,extract_params,\n",
    "                                                   bootstrap_samples=samples,return_estimator=True)\n",
    "            results1 = model.bootstrap_cv_evaluate(X1,y1,optimisation_metric,extract_params,\n",
    "                                                   bootstrap_samples=samples,return_estimator=True)\n",
    "            results[model.name] = (results0, results1)\n",
    "            print(\"Done\")\n",
    "        total = time.time()-start\n",
    "        print(f\"Total time:{total} seconds\")\n",
    "        print(f\"Caching results to: {cache_name}\")\n",
    "        with open(cache_name,'wb') as f:\n",
    "            pickle.dump(results,f)\n",
    "    \n",
    "    return results\n",
    "\n",
    "bootstrap_results = bootstrapped_cross_val(\n",
    "    optimisation_metric, \n",
    "    extract_params,\n",
    "    load_from_cache=False,\n",
    "    inner_cv=5,\n",
    "    samples=100\n",
    ")"
   ]
  },
  {
   "cell_type": "markdown",
   "id": "30",
   "metadata": {},
   "source": [
    "####  Average treatment effects"
   ]
  },
  {
   "cell_type": "code",
   "execution_count": 15,
   "id": "31",
   "metadata": {
    "tags": [
     "hide_input"
    ]
   },
   "outputs": [
    {
     "name": "stdout",
     "output_type": "stream",
     "text": [
      "Ridge, 82.22 ± 22.86\n",
      "gbr, 239.39 ± 17.34\n"
     ]
    }
   ],
   "source": [
    "from direct_regression import estimate_causal_effect\n",
    "for model_name, (results0, results1) in bootstrap_results.items():\n",
    "    models0 = [r['estimator'] for r in results0]\n",
    "    models1 = [r['estimator'] for r in results1]\n",
    "    ate = estimate_causal_effect(X,models0, models1)\n",
    "    print(f'{model_name}, {ate.mean():.2f} ± {ate.std()}')  "
   ]
  },
  {
   "cell_type": "markdown",
   "id": "32",
   "metadata": {},
   "source": [
    "#### Distribution of hyper-parameters"
   ]
  },
  {
   "cell_type": "code",
   "execution_count": 16,
   "id": "33",
   "metadata": {
    "tags": [
     "hide_input"
    ]
   },
   "outputs": [
    {
     "data": {
      "image/png": "[encoded data removed]",
      "text/plain": [
       "<Figure size 360x288 with 1 Axes>"
      ]
     },
     "metadata": {
      "needs_background": "light"
     },
     "output_type": "display_data"
    },
    {
     "data": {
      "image/png": "[encoded data removed]",
      "text/plain": [
       "<Figure size 360x288 with 1 Axes>"
      ]
     },
     "metadata": {
      "needs_background": "light"
     },
     "output_type": "display_data"
    },
    {
     "data": {
      "image/png": "[encoded data removed]",
      "text/plain": [
       "<Figure size 720x288 with 2 Axes>"
      ]
     },
     "metadata": {
      "needs_background": "light"
     },
     "output_type": "display_data"
    },
    {
     "data": {
      "image/png": "[encoded data removed]",
      "text/plain": [
       "<Figure size 720x288 with 2 Axes>"
      ]
     },
     "metadata": {
      "needs_background": "light"
     },
     "output_type": "display_data"
    }
   ],
   "source": [
    "from collections import defaultdict\n",
    "def hyperparam_distributions(samples) -> {str:[]}:\n",
    "    \"\"\"Returns a dict from hyper-parameter name to the best values for that hyper-parameter over the samples.\"\"\"\n",
    "    distributions = defaultdict(list)\n",
    "    for sample in samples:\n",
    "        h = sample['estimator'].best_params_\n",
    "        for key, value in h.items():\n",
    "            distributions[key].append(value)\n",
    "    return distributions\n",
    "\n",
    "def plot_hyperparam_distributions(samples, title) -> None:\n",
    "    distributions = hyperparam_distributions(samples)\n",
    "    k = len(distributions)\n",
    "    fig, axes = plt.subplots(1,k,figsize=(k*5,4))\n",
    "    if k == 1:\n",
    "        axes = [axes]\n",
    "    for i, (key, values) in enumerate(distributions.items()):\n",
    "        ax = axes[i]\n",
    "        ax.hist(values)\n",
    "        ax.set_title(title)\n",
    "        ax.set_xlabel(key)\n",
    "        ax.set_ylabel('count')\n",
    "    return fig,axes\n",
    "\n",
    "for model, (results0, results1) in bootstrap_results.items():\n",
    "    plot_hyperparam_distributions(results0,f\"{model}-control\")\n",
    "    plot_hyperparam_distributions(results1,f\"{model}-treated\")"
   ]
  }
 ],
 "metadata": {
  "celltoolbar": "Tags",
  "kernelspec": {
   "display_name": "Python 3 (ipykernel)",
   "language": "python",
   "name": "python3"
  },
  "language_info": {
   "codemirror_mode": {
    "name": "ipython",
    "version": 3
   },
   "file_extension": ".py",
   "mimetype": "text/x-python",
   "name": "python",
   "nbconvert_exporter": "python",
   "pygments_lexer": "ipython3",
   "version": "3.9.7"
  }
 },
 "nbformat": 4,
 "nbformat_minor": 5
}
