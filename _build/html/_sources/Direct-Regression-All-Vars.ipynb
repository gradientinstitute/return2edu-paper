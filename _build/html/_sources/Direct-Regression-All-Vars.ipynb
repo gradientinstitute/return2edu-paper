{
 "cells": [
  {
   "cell_type": "markdown",
   "id": "0",
   "metadata": {},
   "source": [
    "# Direct Regression"
   ]
  },
  {
   "cell_type": "code",
   "execution_count": 1,
   "id": "1",
   "metadata": {
    "tags": [
     "hide_cell"
    ]
   },
   "outputs": [
    {
     "data": {
      "text/plain": [
       "'1.0'"
      ]
     },
     "execution_count": 1,
     "metadata": {},
     "output_type": "execute_result"
    }
   ],
   "source": [
    "# import libraries\n",
    "import numpy as np\n",
    "import pandas as pd\n",
    "import matplotlib.pyplot as plt\n",
    "import pyreadstat\n",
    "import re\n",
    "import string\n",
    "import sklearn\n",
    "from sklearn_pandas import DataFrameMapper\n",
    "from sklearn.linear_model import LinearRegression, Lasso, Ridge\n",
    "from sklearn.ensemble import GradientBoostingRegressor\n",
    "from sklearn.svm import SVR\n",
    "from tqdm import tqdm_notebook as tqdm\n",
    "#from cinspect import dependence, importance\n",
    "from sklearn.model_selection import cross_val_score, cross_validate\n",
    "from sklearn.metrics import r2_score\n",
    "import pickle\n",
    "import time\n",
    "\n",
    "from reed import drop_missing_treatment_or_outcome, Model\n",
    "\n",
    "# set global notebook options\n",
    "pd.options.display.max_columns = 200\n",
    "pd.options.display.max_rows = 500\n",
    "pd.options.display.max_colwidth = 100\n",
    "\n",
    "%matplotlib inline\n",
    "\n",
    "%load_ext autoreload\n",
    "%autoreload 2\n",
    "\n",
    "sklearn.__version__"
   ]
  },
  {
   "cell_type": "markdown",
   "id": "2",
   "metadata": {},
   "source": [
    "## Response Model\n",
    "\n",
    "How well can we predict outcomes $Y$ conditional on treatment $T$ and other covariates $Z$?"
   ]
  },
  {
   "cell_type": "markdown",
   "id": "3",
   "metadata": {},
   "source": [
    "### Treatent variables\n",
    "\n",
    "   - **reduhl**\tCompleted re-education based on highest level of attainment\n",
    "   - **redudl**\tCompleted re-education based on detailed qualifications\n",
    "   - **redufl**\tCompleted re-education using highest lvl and detailed qualifications.\n",
    "\n",
    "### Outcome variables\n",
    "   - Mental health in 2019 (**mh**). This is the transformed mental health scores from the aggregation of mental health items of the SF-36 Health Survey, as reported by the individual in 2019. It ranges from 0 to 100, with higher scores indicating better mental health.  \n",
    "   - Working hours in 2019 (**wkhr**) records the total number of hours the individual works in all jobs in a week on average. Working hours are set to 0 for those not working. \n",
    "   - Hourly Wages in 2019 (**rlwage**) records the average hourly wage for the individual’s main job in 2019. Hourly wages are set to 0 for those not working and set to missing for those reporting working more than 100 hours a week. \n",
    "   \n",
    "#### Columns explicitly excluded\n",
    "   - **xwaveid** (unique identifier)\n",
    "   - **p_rcom*** (timing of completion of re-education, proxies treatment) TODO think about how we would include this\n",
    "   - **p_cotrl** (first avail 2003)\n",
    "   - **p_rdf*** (first avail 2012)"
   ]
  },
  {
   "cell_type": "markdown",
   "id": "4",
   "metadata": {},
   "source": [
    "#### Select modeling parameters"
   ]
  },
  {
   "cell_type": "code",
   "execution_count": 2,
   "id": "5",
   "metadata": {},
   "outputs": [],
   "source": [
    "outcome = 'y_Dwsce'#'y_wsce'\n",
    "treatment = 'redufl'\n",
    "optimisation_metric = 'neg_mean_squared_error'\n",
    "evaluation_metrics = ('r2','neg_mean_squared_error')\n",
    "log_outcome=False\n",
    "cross_val_cache = \"data/cross-val-all.pkl\"\n",
    "bootstrap_cache = \"data/bootstrap-all.pkl\""
   ]
  },
  {
   "cell_type": "markdown",
   "id": "6",
   "metadata": {},
   "source": [
    "### Load Data \n",
    "   - drop rows missing the specified treatment or outcome"
   ]
  },
  {
   "cell_type": "code",
   "execution_count": 3,
   "id": "7",
   "metadata": {
    "tags": [
     "hide_input"
    ]
   },
   "outputs": [
    {
     "name": "stdout",
     "output_type": "stream",
     "text": [
      "Dropped 592 rows missing treatment or outcome.\n"
     ]
    }
   ],
   "source": [
    "data = pd.read_csv(\"all_vars.csv\",index_col='xwaveid')\n",
    "drop_missing_treatment_or_outcome(data, treatment, outcome)\n",
    "if log_outcome:\n",
    "    data[outcome] = np.log(data[outcome]+data[outcome].min())"
   ]
  },
  {
   "cell_type": "markdown",
   "id": "8",
   "metadata": {},
   "source": [
    "### Set up models\n",
    "Specify which models to use and the hyper-parameter space to search over for each"
   ]
  },
  {
   "cell_type": "code",
   "execution_count": 4,
   "id": "9",
   "metadata": {
    "tags": [
     "hide_input"
    ]
   },
   "outputs": [],
   "source": [
    "from sklearn.linear_model import Lasso, Ridge\n",
    "from sklearn.ensemble import GradientBoostingRegressor\n",
    "from direct_regression import importance_from_coef\n",
    "\n",
    "def construct_models():\n",
    "    models = [\n",
    "        Model('ridge',Ridge(), \n",
    "              parameters = {\n",
    "                  'alpha':np.logspace(-1,4,30)\n",
    "              },\n",
    "              importance_func=importance_from_coef\n",
    "        ),\n",
    "        Model('lasso',Lasso(),\n",
    "              parameters = {\n",
    "                  'alpha':np.logspace(-2,4,30)\n",
    "              },\n",
    "              importance_func=importance_from_coef\n",
    "        ), \n",
    "        Model('gbr',GradientBoostingRegressor(n_iter_no_change=20, max_depth=2),\n",
    "              parameters = {\n",
    "                'max_features':[10,20,40,60,80],\n",
    "                'learning_rate':np.logspace(-3,0,10),\n",
    "                'min_samples_leaf':np.logspace(0,3,10).astype(int)\n",
    "              }\n",
    "        ),\n",
    "    ]\n",
    "    return models\n",
    "\n",
    "# def construct_models(): Used for quick testing\n",
    "#     models = [\n",
    "#         Model('Ridge',Ridge(),\n",
    "#               parameters = {'alpha':np.logspace(1,4,2)},\n",
    "#               importance_func=importance_from_coef\n",
    "#         ),\n",
    "#         Model('gbr',GradientBoostingRegressor(n_iter_no_change=20, max_depth=2),\n",
    "#               parameters = {\n",
    "#                 'max_features':[10],\n",
    "#                 'learning_rate':np.logspace(-3,0,2),\n",
    "#               }\n",
    "#         ), \n",
    "#     ]\n",
    "#     return models"
   ]
  },
  {
   "cell_type": "markdown",
   "id": "10",
   "metadata": {},
   "source": [
    "### Prepare data for modeling\n",
    "   - split into treated/control\n",
    "   - impute missing values and scale\n",
    "   - separate features from outcomes&treatments"
   ]
  },
  {
   "cell_type": "code",
   "execution_count": 5,
   "id": "11",
   "metadata": {
    "tags": [
     "hide_input"
    ]
   },
   "outputs": [
    {
     "name": "stdout",
     "output_type": "stream",
     "text": [
      "Control data dimensions:  (3659, 638)\n",
      "Treated data dimensions: (1295, 638)\n"
     ]
    }
   ],
   "source": [
    "from direct_regression import seperate_and_transform_data\n",
    "X0, X1, y0, y1, X, y, t, features = seperate_and_transform_data(data, treatment, outcome)\n",
    "\n",
    "print(\"Control data dimensions: \",X0.shape)\n",
    "print(\"Treated data dimensions:\",X1.shape)\n"
   ]
  },
  {
   "cell_type": "markdown",
   "id": "12",
   "metadata": {},
   "source": [
    "### Compute unconditional/unadjusted estimate of treatment effect"
   ]
  },
  {
   "cell_type": "code",
   "execution_count": 6,
   "id": "13",
   "metadata": {
    "tags": [
     "hide_input"
    ]
   },
   "outputs": [
    {
     "name": "stdout",
     "output_type": "stream",
     "text": [
      "Proportion Treated:26%\n",
      "Average outcome under Control:67.85±15.36\n",
      "Average outcome under Treatment:310.57±29.39\n",
      "Unadjusted treatment estimate 242.72\n"
     ]
    }
   ],
   "source": [
    "from direct_regression import print_unconditional_effects\n",
    "print_unconditional_effects(data, treatment, y0, y1)"
   ]
  },
  {
   "cell_type": "markdown",
   "id": "14",
   "metadata": {},
   "source": [
    "### Propensity model\n",
    "\n",
    "- Run primarily to check for violations over overlap assumptions."
   ]
  },
  {
   "cell_type": "code",
   "execution_count": 7,
   "id": "15",
   "metadata": {
    "tags": [
     "hide_cell"
    ]
   },
   "outputs": [],
   "source": [
    "from reed import visualise_propensity_model_performance\n",
    "from sklearn.model_selection import train_test_split\n",
    "from sklearn.linear_model import LogisticRegression, LogisticRegressionCV\n",
    "\n",
    "X_train, X_test, t_train, t_test = train_test_split(X,t,stratify=t)\n",
    "pmodel = LogisticRegressionCV(Cs = np.logspace(-5,-1,20), penalty='l2', max_iter=10000)\n",
    "pmodel.fit(X_train, t_train);"
   ]
  },
  {
   "cell_type": "code",
   "execution_count": 8,
   "id": "16",
   "metadata": {
    "tags": [
     "hide_input"
    ]
   },
   "outputs": [
    {
     "data": {
      "image/png": "[encoded data removed]",
      "text/plain": [
       "<Figure size 1080x360 with 2 Axes>"
      ]
     },
     "metadata": {
      "needs_background": "light"
     },
     "output_type": "display_data"
    }
   ],
   "source": [
    "visualise_propensity_model_performance(t_test, pmodel.predict_proba(X_test)[:,1],'l2-logistic',bins=10)"
   ]
  },
  {
   "cell_type": "code",
   "execution_count": 9,
   "id": "17",
   "metadata": {
    "tags": [
     "hide_input"
    ]
   },
   "outputs": [
    {
     "name": "stdout",
     "output_type": "stream",
     "text": [
      "Propensity Model Coefficients\n"
     ]
    },
    {
     "data": {
      "text/html": [
       "<div>\n",
       "<style scoped>\n",
       "    .dataframe tbody tr th:only-of-type {\n",
       "        vertical-align: middle;\n",
       "    }\n",
       "\n",
       "    .dataframe tbody tr th {\n",
       "        vertical-align: top;\n",
       "    }\n",
       "\n",
       "    .dataframe thead th {\n",
       "        text-align: right;\n",
       "    }\n",
       "</style>\n",
       "<table border=\"1\" class=\"dataframe\">\n",
       "  <thead>\n",
       "    <tr style=\"text-align: right;\">\n",
       "      <th></th>\n",
       "      <th>label</th>\n",
       "      <th>c</th>\n",
       "      <th>abs</th>\n",
       "    </tr>\n",
       "  </thead>\n",
       "  <tbody>\n",
       "    <tr>\n",
       "      <th>aedq524</th>\n",
       "      <td>DV: ASCED 524 Certificate level I - Number of qualifications obtained since leaving school</td>\n",
       "      <td>0.060217</td>\n",
       "      <td>0.060217</td>\n",
       "    </tr>\n",
       "    <tr>\n",
       "      <th>ahgyob</th>\n",
       "      <td>HF4 Year of Birth</td>\n",
       "      <td>0.059439</td>\n",
       "      <td>0.059439</td>\n",
       "    </tr>\n",
       "    <tr>\n",
       "      <th>aicage1</th>\n",
       "      <td>H25 Check age</td>\n",
       "      <td>-0.053642</td>\n",
       "      <td>0.053642</td>\n",
       "    </tr>\n",
       "    <tr>\n",
       "      <th>aedqenr</th>\n",
       "      <td>C6 Ever enrolled in a course of study to obtain a qualification</td>\n",
       "      <td>-0.053514</td>\n",
       "      <td>0.053514</td>\n",
       "    </tr>\n",
       "    <tr>\n",
       "      <th>afibcar</th>\n",
       "      <td>SCQ:C7d Alright to borrow for - Car</td>\n",
       "      <td>-0.048970</td>\n",
       "      <td>0.048970</td>\n",
       "    </tr>\n",
       "    <tr>\n",
       "      <th>ajbocct</th>\n",
       "      <td>DV: Tenure in current occupation (years)</td>\n",
       "      <td>-0.048008</td>\n",
       "      <td>0.048008</td>\n",
       "    </tr>\n",
       "    <tr>\n",
       "      <th>aedq521</th>\n",
       "      <td>DV: ASCED 521 Certificate level II - Number of qualifications obtained since leaving school</td>\n",
       "      <td>0.047771</td>\n",
       "      <td>0.047771</td>\n",
       "    </tr>\n",
       "    <tr>\n",
       "      <th>ahgage1</th>\n",
       "      <td>DV: Age last birthday at June 30 2001 - person 01</td>\n",
       "      <td>-0.044528</td>\n",
       "      <td>0.044528</td>\n",
       "    </tr>\n",
       "    <tr>\n",
       "      <th>aehtjb</th>\n",
       "      <td>DV: Time in paid work - years</td>\n",
       "      <td>-0.041492</td>\n",
       "      <td>0.041492</td>\n",
       "    </tr>\n",
       "    <tr>\n",
       "      <th>aioinflu</th>\n",
       "      <td>Z2 Influence respondent answers</td>\n",
       "      <td>-0.041471</td>\n",
       "      <td>0.041471</td>\n",
       "    </tr>\n",
       "    <tr>\n",
       "      <th>aujljt</th>\n",
       "      <td>DV: Tenure with last employer (years)</td>\n",
       "      <td>-0.039986</td>\n",
       "      <td>0.039986</td>\n",
       "    </tr>\n",
       "    <tr>\n",
       "      <th>ajomsf</th>\n",
       "      <td>SCQ:E1d I have a secure future in my job</td>\n",
       "      <td>-0.038753</td>\n",
       "      <td>0.038753</td>\n",
       "    </tr>\n",
       "    <tr>\n",
       "      <th>alsrelst</th>\n",
       "      <td>SCQ:B11d Satisfaction with: Relationship with step children</td>\n",
       "      <td>-0.036095</td>\n",
       "      <td>0.036095</td>\n",
       "    </tr>\n",
       "    <tr>\n",
       "      <th>atcnr</th>\n",
       "      <td>DV: Number of own non-resident children</td>\n",
       "      <td>-0.035778</td>\n",
       "      <td>0.035778</td>\n",
       "    </tr>\n",
       "    <tr>\n",
       "      <th>abnfmat</th>\n",
       "      <td>DV: Maternity Payments ($) financial year [estimated]</td>\n",
       "      <td>-0.035388</td>\n",
       "      <td>0.035388</td>\n",
       "    </tr>\n",
       "    <tr>\n",
       "      <th>ahgsex</th>\n",
       "      <td>HF3 Sex</td>\n",
       "      <td>0.035068</td>\n",
       "      <td>0.035068</td>\n",
       "    </tr>\n",
       "    <tr>\n",
       "      <th>ahifmat</th>\n",
       "      <td>DV: Household Maternity Payments ($) financial year [estimated]</td>\n",
       "      <td>-0.034549</td>\n",
       "      <td>0.034549</td>\n",
       "    </tr>\n",
       "    <tr>\n",
       "      <th>aatwkcdw</th>\n",
       "      <td>SCQ:D1i Children do just as well if the mother earns the money and the father cares for the home...</td>\n",
       "      <td>0.033883</td>\n",
       "      <td>0.033883</td>\n",
       "    </tr>\n",
       "    <tr>\n",
       "      <th>atcyng</th>\n",
       "      <td>DV: Age youngest own child (excl. resident foster/step)</td>\n",
       "      <td>-0.033592</td>\n",
       "      <td>0.033592</td>\n",
       "    </tr>\n",
       "    <tr>\n",
       "      <th>ajbempt</th>\n",
       "      <td>DV: Tenure with current employer (years)</td>\n",
       "      <td>-0.033185</td>\n",
       "      <td>0.033185</td>\n",
       "    </tr>\n",
       "  </tbody>\n",
       "</table>\n",
       "</div>"
      ],
      "text/plain": [
       "                                                                                                        label  \\\n",
       "aedq524            DV: ASCED 524 Certificate level I - Number of qualifications obtained since leaving school   \n",
       "ahgyob                                                                                      HF4 Year of Birth   \n",
       "aicage1                                                                                         H25 Check age   \n",
       "aedqenr                                       C6 Ever enrolled in a course of study to obtain a qualification   \n",
       "afibcar                                                                   SCQ:C7d Alright to borrow for - Car   \n",
       "ajbocct                                                              DV: Tenure in current occupation (years)   \n",
       "aedq521           DV: ASCED 521 Certificate level II - Number of qualifications obtained since leaving school   \n",
       "ahgage1                                                     DV: Age last birthday at June 30 2001 - person 01   \n",
       "aehtjb                                                                          DV: Time in paid work - years   \n",
       "aioinflu                                                                      Z2 Influence respondent answers   \n",
       "aujljt                                                                  DV: Tenure with last employer (years)   \n",
       "ajomsf                                                               SCQ:E1d I have a secure future in my job   \n",
       "alsrelst                                          SCQ:B11d Satisfaction with: Relationship with step children   \n",
       "atcnr                                                                 DV: Number of own non-resident children   \n",
       "abnfmat                                                 DV: Maternity Payments ($) financial year [estimated]   \n",
       "ahgsex                                                                                                HF3 Sex   \n",
       "ahifmat                                       DV: Household Maternity Payments ($) financial year [estimated]   \n",
       "aatwkcdw  SCQ:D1i Children do just as well if the mother earns the money and the father cares for the home...   \n",
       "atcyng                                                DV: Age youngest own child (excl. resident foster/step)   \n",
       "ajbempt                                                              DV: Tenure with current employer (years)   \n",
       "\n",
       "                 c       abs  \n",
       "aedq524   0.060217  0.060217  \n",
       "ahgyob    0.059439  0.059439  \n",
       "aicage1  -0.053642  0.053642  \n",
       "aedqenr  -0.053514  0.053514  \n",
       "afibcar  -0.048970  0.048970  \n",
       "ajbocct  -0.048008  0.048008  \n",
       "aedq521   0.047771  0.047771  \n",
       "ahgage1  -0.044528  0.044528  \n",
       "aehtjb   -0.041492  0.041492  \n",
       "aioinflu -0.041471  0.041471  \n",
       "aujljt   -0.039986  0.039986  \n",
       "ajomsf   -0.038753  0.038753  \n",
       "alsrelst -0.036095  0.036095  \n",
       "atcnr    -0.035778  0.035778  \n",
       "abnfmat  -0.035388  0.035388  \n",
       "ahgsex    0.035068  0.035068  \n",
       "ahifmat  -0.034549  0.034549  \n",
       "aatwkcdw  0.033883  0.033883  \n",
       "atcyng   -0.033592  0.033592  \n",
       "ajbempt  -0.033185  0.033185  "
      ]
     },
     "execution_count": 9,
     "metadata": {},
     "output_type": "execute_result"
    }
   ],
   "source": [
    "def propensity_coefficients(model, features):\n",
    "    if hasattr(model,'best_estimator_'):\n",
    "        model = model.best_estimator_\n",
    "    coef = model.coef_[0]\n",
    "    \n",
    "    with open('data/metadata.pkl','rb') as f:\n",
    "        meta = pickle.load(f)\n",
    "        labels = [meta.column_names_to_labels.get(f) for f in features]\n",
    "    return pd.DataFrame({'label': labels, \"c\":coef,'abs':np.abs(coef)},index=features).sort_values(by='abs',ascending=False).head(50)\n",
    "print(\"Propensity Model Coefficients\")      \n",
    "propensity_coefficients(pmodel, features).head(20)"
   ]
  },
  {
   "cell_type": "markdown",
   "id": "18",
   "metadata": {},
   "source": [
    "### (Nested) cross-validate to evaluate model performance\n",
    "![image.png](images/nested_cross_val.png)"
   ]
  },
  {
   "cell_type": "code",
   "execution_count": 10,
   "id": "19",
   "metadata": {
    "tags": [
     "hide_cell"
    ]
   },
   "outputs": [
    {
     "name": "stdout",
     "output_type": "stream",
     "text": [
      "Fitting ridge ...Fitting 2 folds for each of 30 candidates, totalling 60 fits\n",
      "Fitting 2 folds for each of 30 candidates, totalling 60 fits\n",
      "Fitting 2 folds for each of 30 candidates, totalling 60 fits\n",
      "Fitting 2 folds for each of 30 candidates, totalling 60 fits\n",
      "Done\n",
      "Fitting lasso ...Fitting 2 folds for each of 30 candidates, totalling 60 fits\n"
     ]
    },
    {
     "name": "stderr",
     "output_type": "stream",
     "text": [
      "/home/finn/miniconda3/envs/reed/lib/python3.9/site-packages/sklearn/linear_model/_coordinate_descent.py:645: ConvergenceWarning: Objective did not converge. You might want to increase the number of iterations, check the scale of the features or consider increasing regularisation. Duality gap: 8.422e+07, tolerance: 7.775e+04\n",
      "  model = cd_fast.enet_coordinate_descent(\n",
      "/home/finn/miniconda3/envs/reed/lib/python3.9/site-packages/sklearn/linear_model/_coordinate_descent.py:645: ConvergenceWarning: Objective did not converge. You might want to increase the number of iterations, check the scale of the features or consider increasing regularisation. Duality gap: 8.305e+07, tolerance: 7.775e+04\n",
      "  model = cd_fast.enet_coordinate_descent(\n",
      "/home/finn/miniconda3/envs/reed/lib/python3.9/site-packages/sklearn/linear_model/_coordinate_descent.py:645: ConvergenceWarning: Objective did not converge. You might want to increase the number of iterations, check the scale of the features or consider increasing regularisation. Duality gap: 8.114e+07, tolerance: 7.775e+04\n",
      "  model = cd_fast.enet_coordinate_descent(\n",
      "/home/finn/miniconda3/envs/reed/lib/python3.9/site-packages/sklearn/linear_model/_coordinate_descent.py:645: ConvergenceWarning: Objective did not converge. You might want to increase the number of iterations, check the scale of the features or consider increasing regularisation. Duality gap: 7.818e+07, tolerance: 7.775e+04\n",
      "  model = cd_fast.enet_coordinate_descent(\n",
      "/home/finn/miniconda3/envs/reed/lib/python3.9/site-packages/sklearn/linear_model/_coordinate_descent.py:645: ConvergenceWarning: Objective did not converge. You might want to increase the number of iterations, check the scale of the features or consider increasing regularisation. Duality gap: 7.330e+07, tolerance: 7.775e+04\n",
      "  model = cd_fast.enet_coordinate_descent(\n",
      "/home/finn/miniconda3/envs/reed/lib/python3.9/site-packages/sklearn/linear_model/_coordinate_descent.py:645: ConvergenceWarning: Objective did not converge. You might want to increase the number of iterations, check the scale of the features or consider increasing regularisation. Duality gap: 6.511e+07, tolerance: 7.775e+04\n",
      "  model = cd_fast.enet_coordinate_descent(\n",
      "/home/finn/miniconda3/envs/reed/lib/python3.9/site-packages/sklearn/linear_model/_coordinate_descent.py:645: ConvergenceWarning: Objective did not converge. You might want to increase the number of iterations, check the scale of the features or consider increasing regularisation. Duality gap: 6.928e+07, tolerance: 6.768e+04\n",
      "  model = cd_fast.enet_coordinate_descent(\n",
      "/home/finn/miniconda3/envs/reed/lib/python3.9/site-packages/sklearn/linear_model/_coordinate_descent.py:645: ConvergenceWarning: Objective did not converge. You might want to increase the number of iterations, check the scale of the features or consider increasing regularisation. Duality gap: 6.480e+07, tolerance: 6.768e+04\n",
      "  model = cd_fast.enet_coordinate_descent(\n",
      "/home/finn/miniconda3/envs/reed/lib/python3.9/site-packages/sklearn/linear_model/_coordinate_descent.py:645: ConvergenceWarning: Objective did not converge. You might want to increase the number of iterations, check the scale of the features or consider increasing regularisation. Duality gap: 5.158e+07, tolerance: 6.768e+04\n",
      "  model = cd_fast.enet_coordinate_descent(\n",
      "/home/finn/miniconda3/envs/reed/lib/python3.9/site-packages/sklearn/linear_model/_coordinate_descent.py:645: ConvergenceWarning: Objective did not converge. You might want to increase the number of iterations, check the scale of the features or consider increasing regularisation. Duality gap: 6.020e+07, tolerance: 6.768e+04\n",
      "  model = cd_fast.enet_coordinate_descent(\n",
      "/home/finn/miniconda3/envs/reed/lib/python3.9/site-packages/sklearn/linear_model/_coordinate_descent.py:645: ConvergenceWarning: Objective did not converge. You might want to increase the number of iterations, check the scale of the features or consider increasing regularisation. Duality gap: 6.760e+07, tolerance: 6.768e+04\n",
      "  model = cd_fast.enet_coordinate_descent(\n",
      "/home/finn/miniconda3/envs/reed/lib/python3.9/site-packages/sklearn/linear_model/_coordinate_descent.py:645: ConvergenceWarning: Objective did not converge. You might want to increase the number of iterations, check the scale of the features or consider increasing regularisation. Duality gap: 7.030e+07, tolerance: 6.768e+04\n",
      "  model = cd_fast.enet_coordinate_descent(\n",
      "/home/finn/miniconda3/envs/reed/lib/python3.9/site-packages/sklearn/linear_model/_coordinate_descent.py:645: ConvergenceWarning: Objective did not converge. You might want to increase the number of iterations, check the scale of the features or consider increasing regularisation. Duality gap: 5.126e+07, tolerance: 7.775e+04\n",
      "  model = cd_fast.enet_coordinate_descent(\n",
      "/home/finn/miniconda3/envs/reed/lib/python3.9/site-packages/sklearn/linear_model/_coordinate_descent.py:645: ConvergenceWarning: Objective did not converge. You might want to increase the number of iterations, check the scale of the features or consider increasing regularisation. Duality gap: 1.643e+06, tolerance: 7.775e+04\n",
      "  model = cd_fast.enet_coordinate_descent(\n",
      "/home/finn/miniconda3/envs/reed/lib/python3.9/site-packages/sklearn/linear_model/_coordinate_descent.py:645: ConvergenceWarning: Objective did not converge. You might want to increase the number of iterations, check the scale of the features or consider increasing regularisation. Duality gap: 3.219e+07, tolerance: 7.775e+04\n",
      "  model = cd_fast.enet_coordinate_descent(\n",
      "/home/finn/miniconda3/envs/reed/lib/python3.9/site-packages/sklearn/linear_model/_coordinate_descent.py:645: ConvergenceWarning: Objective did not converge. You might want to increase the number of iterations, check the scale of the features or consider increasing regularisation. Duality gap: 5.052e+06, tolerance: 6.768e+04\n",
      "  model = cd_fast.enet_coordinate_descent(\n",
      "/home/finn/miniconda3/envs/reed/lib/python3.9/site-packages/sklearn/linear_model/_coordinate_descent.py:645: ConvergenceWarning: Objective did not converge. You might want to increase the number of iterations, check the scale of the features or consider increasing regularisation. Duality gap: 1.445e+07, tolerance: 6.768e+04\n",
      "  model = cd_fast.enet_coordinate_descent(\n",
      "/home/finn/miniconda3/envs/reed/lib/python3.9/site-packages/sklearn/linear_model/_coordinate_descent.py:645: ConvergenceWarning: Objective did not converge. You might want to increase the number of iterations, check the scale of the features or consider increasing regularisation. Duality gap: 4.771e+06, tolerance: 7.775e+04\n",
      "  model = cd_fast.enet_coordinate_descent(\n",
      "/home/finn/miniconda3/envs/reed/lib/python3.9/site-packages/sklearn/linear_model/_coordinate_descent.py:645: ConvergenceWarning: Objective did not converge. You might want to increase the number of iterations, check the scale of the features or consider increasing regularisation. Duality gap: 1.871e+06, tolerance: 6.768e+04\n",
      "  model = cd_fast.enet_coordinate_descent(\n",
      "/home/finn/miniconda3/envs/reed/lib/python3.9/site-packages/sklearn/linear_model/_coordinate_descent.py:645: ConvergenceWarning: Objective did not converge. You might want to increase the number of iterations, check the scale of the features or consider increasing regularisation. Duality gap: 3.537e+07, tolerance: 6.768e+04\n",
      "  model = cd_fast.enet_coordinate_descent(\n",
      "/home/finn/miniconda3/envs/reed/lib/python3.9/site-packages/sklearn/linear_model/_coordinate_descent.py:645: ConvergenceWarning: Objective did not converge. You might want to increase the number of iterations, check the scale of the features or consider increasing regularisation. Duality gap: 1.113e+05, tolerance: 7.775e+04\n",
      "  model = cd_fast.enet_coordinate_descent(\n",
      "/home/finn/miniconda3/envs/reed/lib/python3.9/site-packages/sklearn/linear_model/_coordinate_descent.py:645: ConvergenceWarning: Objective did not converge. You might want to increase the number of iterations, check the scale of the features or consider increasing regularisation. Duality gap: 9.729e+04, tolerance: 7.775e+04\n",
      "  model = cd_fast.enet_coordinate_descent(\n"
     ]
    },
    {
     "name": "stdout",
     "output_type": "stream",
     "text": [
      "Fitting 2 folds for each of 30 candidates, totalling 60 fits\n"
     ]
    },
    {
     "name": "stderr",
     "output_type": "stream",
     "text": [
      "/home/finn/miniconda3/envs/reed/lib/python3.9/site-packages/sklearn/linear_model/_coordinate_descent.py:645: ConvergenceWarning: Objective did not converge. You might want to increase the number of iterations, check the scale of the features or consider increasing regularisation. Duality gap: 8.699e+07, tolerance: 9.031e+04\n",
      "  model = cd_fast.enet_coordinate_descent(\n",
      "/home/finn/miniconda3/envs/reed/lib/python3.9/site-packages/sklearn/linear_model/_coordinate_descent.py:645: ConvergenceWarning: Objective did not converge. You might want to increase the number of iterations, check the scale of the features or consider increasing regularisation. Duality gap: 7.005e+07, tolerance: 8.023e+04\n",
      "  model = cd_fast.enet_coordinate_descent(\n",
      "/home/finn/miniconda3/envs/reed/lib/python3.9/site-packages/sklearn/linear_model/_coordinate_descent.py:645: ConvergenceWarning: Objective did not converge. You might want to increase the number of iterations, check the scale of the features or consider increasing regularisation. Duality gap: 4.457e+07, tolerance: 8.023e+04\n",
      "  model = cd_fast.enet_coordinate_descent(\n",
      "/home/finn/miniconda3/envs/reed/lib/python3.9/site-packages/sklearn/linear_model/_coordinate_descent.py:645: ConvergenceWarning: Objective did not converge. You might want to increase the number of iterations, check the scale of the features or consider increasing regularisation. Duality gap: 1.099e+08, tolerance: 9.031e+04\n",
      "  model = cd_fast.enet_coordinate_descent(\n",
      "/home/finn/miniconda3/envs/reed/lib/python3.9/site-packages/sklearn/linear_model/_coordinate_descent.py:645: ConvergenceWarning: Objective did not converge. You might want to increase the number of iterations, check the scale of the features or consider increasing regularisation. Duality gap: 9.755e+07, tolerance: 9.031e+04\n",
      "  model = cd_fast.enet_coordinate_descent(\n",
      "/home/finn/miniconda3/envs/reed/lib/python3.9/site-packages/sklearn/linear_model/_coordinate_descent.py:645: ConvergenceWarning: Objective did not converge. You might want to increase the number of iterations, check the scale of the features or consider increasing regularisation. Duality gap: 7.155e+07, tolerance: 8.023e+04\n",
      "  model = cd_fast.enet_coordinate_descent(\n",
      "/home/finn/miniconda3/envs/reed/lib/python3.9/site-packages/sklearn/linear_model/_coordinate_descent.py:645: ConvergenceWarning: Objective did not converge. You might want to increase the number of iterations, check the scale of the features or consider increasing regularisation. Duality gap: 5.650e+07, tolerance: 8.023e+04\n",
      "  model = cd_fast.enet_coordinate_descent(\n",
      "/home/finn/miniconda3/envs/reed/lib/python3.9/site-packages/sklearn/linear_model/_coordinate_descent.py:645: ConvergenceWarning: Objective did not converge. You might want to increase the number of iterations, check the scale of the features or consider increasing regularisation. Duality gap: 6.759e+07, tolerance: 8.023e+04\n",
      "  model = cd_fast.enet_coordinate_descent(\n",
      "/home/finn/miniconda3/envs/reed/lib/python3.9/site-packages/sklearn/linear_model/_coordinate_descent.py:645: ConvergenceWarning: Objective did not converge. You might want to increase the number of iterations, check the scale of the features or consider increasing regularisation. Duality gap: 1.112e+08, tolerance: 9.031e+04\n",
      "  model = cd_fast.enet_coordinate_descent(\n",
      "/home/finn/miniconda3/envs/reed/lib/python3.9/site-packages/sklearn/linear_model/_coordinate_descent.py:645: ConvergenceWarning: Objective did not converge. You might want to increase the number of iterations, check the scale of the features or consider increasing regularisation. Duality gap: 1.076e+08, tolerance: 9.031e+04\n",
      "  model = cd_fast.enet_coordinate_descent(\n",
      "/home/finn/miniconda3/envs/reed/lib/python3.9/site-packages/sklearn/linear_model/_coordinate_descent.py:645: ConvergenceWarning: Objective did not converge. You might want to increase the number of iterations, check the scale of the features or consider increasing regularisation. Duality gap: 1.039e+08, tolerance: 9.031e+04\n",
      "  model = cd_fast.enet_coordinate_descent(\n",
      "/home/finn/miniconda3/envs/reed/lib/python3.9/site-packages/sklearn/linear_model/_coordinate_descent.py:645: ConvergenceWarning: Objective did not converge. You might want to increase the number of iterations, check the scale of the features or consider increasing regularisation. Duality gap: 6.344e+07, tolerance: 8.023e+04\n",
      "  model = cd_fast.enet_coordinate_descent(\n",
      "/home/finn/miniconda3/envs/reed/lib/python3.9/site-packages/sklearn/linear_model/_coordinate_descent.py:645: ConvergenceWarning: Objective did not converge. You might want to increase the number of iterations, check the scale of the features or consider increasing regularisation. Duality gap: 1.855e+07, tolerance: 9.031e+04\n",
      "  model = cd_fast.enet_coordinate_descent(\n",
      "/home/finn/miniconda3/envs/reed/lib/python3.9/site-packages/sklearn/linear_model/_coordinate_descent.py:645: ConvergenceWarning: Objective did not converge. You might want to increase the number of iterations, check the scale of the features or consider increasing regularisation. Duality gap: 4.353e+07, tolerance: 9.031e+04\n",
      "  model = cd_fast.enet_coordinate_descent(\n",
      "/home/finn/miniconda3/envs/reed/lib/python3.9/site-packages/sklearn/linear_model/_coordinate_descent.py:645: ConvergenceWarning: Objective did not converge. You might want to increase the number of iterations, check the scale of the features or consider increasing regularisation. Duality gap: 2.953e+07, tolerance: 8.023e+04\n",
      "  model = cd_fast.enet_coordinate_descent(\n",
      "/home/finn/miniconda3/envs/reed/lib/python3.9/site-packages/sklearn/linear_model/_coordinate_descent.py:645: ConvergenceWarning: Objective did not converge. You might want to increase the number of iterations, check the scale of the features or consider increasing regularisation. Duality gap: 7.793e+06, tolerance: 9.031e+04\n",
      "  model = cd_fast.enet_coordinate_descent(\n",
      "/home/finn/miniconda3/envs/reed/lib/python3.9/site-packages/sklearn/linear_model/_coordinate_descent.py:645: ConvergenceWarning: Objective did not converge. You might want to increase the number of iterations, check the scale of the features or consider increasing regularisation. Duality gap: 6.942e+07, tolerance: 9.031e+04\n",
      "  model = cd_fast.enet_coordinate_descent(\n",
      "/home/finn/miniconda3/envs/reed/lib/python3.9/site-packages/sklearn/linear_model/_coordinate_descent.py:645: ConvergenceWarning: Objective did not converge. You might want to increase the number of iterations, check the scale of the features or consider increasing regularisation. Duality gap: 6.647e+05, tolerance: 8.023e+04\n",
      "  model = cd_fast.enet_coordinate_descent(\n",
      "/home/finn/miniconda3/envs/reed/lib/python3.9/site-packages/sklearn/linear_model/_coordinate_descent.py:645: ConvergenceWarning: Objective did not converge. You might want to increase the number of iterations, check the scale of the features or consider increasing regularisation. Duality gap: 3.125e+07, tolerance: 9.031e+04\n",
      "  model = cd_fast.enet_coordinate_descent(\n",
      "/home/finn/miniconda3/envs/reed/lib/python3.9/site-packages/sklearn/linear_model/_coordinate_descent.py:645: ConvergenceWarning: Objective did not converge. You might want to increase the number of iterations, check the scale of the features or consider increasing regularisation. Duality gap: 8.794e+06, tolerance: 8.023e+04\n",
      "  model = cd_fast.enet_coordinate_descent(\n",
      "/home/finn/miniconda3/envs/reed/lib/python3.9/site-packages/sklearn/linear_model/_coordinate_descent.py:645: ConvergenceWarning: Objective did not converge. You might want to increase the number of iterations, check the scale of the features or consider increasing regularisation. Duality gap: 3.614e+06, tolerance: 9.031e+04\n",
      "  model = cd_fast.enet_coordinate_descent(\n",
      "/home/finn/miniconda3/envs/reed/lib/python3.9/site-packages/sklearn/linear_model/_coordinate_descent.py:645: ConvergenceWarning: Objective did not converge. You might want to increase the number of iterations, check the scale of the features or consider increasing regularisation. Duality gap: 8.745e+04, tolerance: 8.023e+04\n",
      "  model = cd_fast.enet_coordinate_descent(\n",
      "/home/finn/miniconda3/envs/reed/lib/python3.9/site-packages/sklearn/linear_model/_coordinate_descent.py:645: ConvergenceWarning: Objective did not converge. You might want to increase the number of iterations, check the scale of the features or consider increasing regularisation. Duality gap: 8.416e+05, tolerance: 9.031e+04\n",
      "  model = cd_fast.enet_coordinate_descent(\n"
     ]
    },
    {
     "name": "stdout",
     "output_type": "stream",
     "text": [
      "Fitting 2 folds for each of 30 candidates, totalling 60 fits\n"
     ]
    },
    {
     "name": "stderr",
     "output_type": "stream",
     "text": [
      "/home/finn/miniconda3/envs/reed/lib/python3.9/site-packages/sklearn/linear_model/_coordinate_descent.py:645: ConvergenceWarning: Objective did not converge. You might want to increase the number of iterations, check the scale of the features or consider increasing regularisation. Duality gap: 3.672e+05, tolerance: 3.819e+04\n",
      "  model = cd_fast.enet_coordinate_descent(\n",
      "/home/finn/miniconda3/envs/reed/lib/python3.9/site-packages/sklearn/linear_model/_coordinate_descent.py:645: ConvergenceWarning: Objective did not converge. You might want to increase the number of iterations, check the scale of the features or consider increasing regularisation. Duality gap: 4.500e+05, tolerance: 2.281e+04\n",
      "  model = cd_fast.enet_coordinate_descent(\n",
      "/home/finn/miniconda3/envs/reed/lib/python3.9/site-packages/sklearn/linear_model/_coordinate_descent.py:645: ConvergenceWarning: Objective did not converge. You might want to increase the number of iterations, check the scale of the features or consider increasing regularisation. Duality gap: 1.566e+05, tolerance: 2.281e+04\n",
      "  model = cd_fast.enet_coordinate_descent(\n",
      "/home/finn/miniconda3/envs/reed/lib/python3.9/site-packages/sklearn/linear_model/_coordinate_descent.py:645: ConvergenceWarning: Objective did not converge. You might want to increase the number of iterations, check the scale of the features or consider increasing regularisation. Duality gap: 3.827e+05, tolerance: 3.819e+04\n",
      "  model = cd_fast.enet_coordinate_descent(\n",
      "/home/finn/miniconda3/envs/reed/lib/python3.9/site-packages/sklearn/linear_model/_coordinate_descent.py:645: ConvergenceWarning: Objective did not converge. You might want to increase the number of iterations, check the scale of the features or consider increasing regularisation. Duality gap: 8.606e+04, tolerance: 3.819e+04\n",
      "  model = cd_fast.enet_coordinate_descent(\n",
      "/home/finn/miniconda3/envs/reed/lib/python3.9/site-packages/sklearn/linear_model/_coordinate_descent.py:645: ConvergenceWarning: Objective did not converge. You might want to increase the number of iterations, check the scale of the features or consider increasing regularisation. Duality gap: 7.838e+04, tolerance: 2.281e+04\n",
      "  model = cd_fast.enet_coordinate_descent(\n",
      "/home/finn/miniconda3/envs/reed/lib/python3.9/site-packages/sklearn/linear_model/_coordinate_descent.py:645: ConvergenceWarning: Objective did not converge. You might want to increase the number of iterations, check the scale of the features or consider increasing regularisation. Duality gap: 2.929e+05, tolerance: 2.281e+04\n",
      "  model = cd_fast.enet_coordinate_descent(\n",
      "/home/finn/miniconda3/envs/reed/lib/python3.9/site-packages/sklearn/linear_model/_coordinate_descent.py:645: ConvergenceWarning: Objective did not converge. You might want to increase the number of iterations, check the scale of the features or consider increasing regularisation. Duality gap: 2.257e+05, tolerance: 2.281e+04\n",
      "  model = cd_fast.enet_coordinate_descent(\n",
      "/home/finn/miniconda3/envs/reed/lib/python3.9/site-packages/sklearn/linear_model/_coordinate_descent.py:645: ConvergenceWarning: Objective did not converge. You might want to increase the number of iterations, check the scale of the features or consider increasing regularisation. Duality gap: 1.126e+05, tolerance: 2.281e+04\n",
      "  model = cd_fast.enet_coordinate_descent(\n",
      "/home/finn/miniconda3/envs/reed/lib/python3.9/site-packages/sklearn/linear_model/_coordinate_descent.py:645: ConvergenceWarning: Objective did not converge. You might want to increase the number of iterations, check the scale of the features or consider increasing regularisation. Duality gap: 2.464e+05, tolerance: 3.819e+04\n",
      "  model = cd_fast.enet_coordinate_descent(\n",
      "/home/finn/miniconda3/envs/reed/lib/python3.9/site-packages/sklearn/linear_model/_coordinate_descent.py:645: ConvergenceWarning: Objective did not converge. You might want to increase the number of iterations, check the scale of the features or consider increasing regularisation. Duality gap: 1.739e+05, tolerance: 3.819e+04\n",
      "  model = cd_fast.enet_coordinate_descent(\n",
      "/home/finn/miniconda3/envs/reed/lib/python3.9/site-packages/sklearn/linear_model/_coordinate_descent.py:645: ConvergenceWarning: Objective did not converge. You might want to increase the number of iterations, check the scale of the features or consider increasing regularisation. Duality gap: 1.274e+05, tolerance: 3.819e+04\n",
      "  model = cd_fast.enet_coordinate_descent(\n",
      "/home/finn/miniconda3/envs/reed/lib/python3.9/site-packages/sklearn/linear_model/_coordinate_descent.py:645: ConvergenceWarning: Objective did not converge. You might want to increase the number of iterations, check the scale of the features or consider increasing regularisation. Duality gap: 5.161e+05, tolerance: 2.281e+04\n",
      "  model = cd_fast.enet_coordinate_descent(\n",
      "/home/finn/miniconda3/envs/reed/lib/python3.9/site-packages/sklearn/linear_model/_coordinate_descent.py:645: ConvergenceWarning: Objective did not converge. You might want to increase the number of iterations, check the scale of the features or consider increasing regularisation. Duality gap: 7.695e+04, tolerance: 2.281e+04\n",
      "  model = cd_fast.enet_coordinate_descent(\n",
      "/home/finn/miniconda3/envs/reed/lib/python3.9/site-packages/sklearn/linear_model/_coordinate_descent.py:645: ConvergenceWarning: Objective did not converge. You might want to increase the number of iterations, check the scale of the features or consider increasing regularisation. Duality gap: 5.048e+05, tolerance: 3.819e+04\n",
      "  model = cd_fast.enet_coordinate_descent(\n",
      "/home/finn/miniconda3/envs/reed/lib/python3.9/site-packages/sklearn/linear_model/_coordinate_descent.py:645: ConvergenceWarning: Objective did not converge. You might want to increase the number of iterations, check the scale of the features or consider increasing regularisation. Duality gap: 3.430e+05, tolerance: 3.819e+04\n",
      "  model = cd_fast.enet_coordinate_descent(\n",
      "/home/finn/miniconda3/envs/reed/lib/python3.9/site-packages/sklearn/linear_model/_coordinate_descent.py:645: ConvergenceWarning: Objective did not converge. You might want to increase the number of iterations, check the scale of the features or consider increasing regularisation. Duality gap: 6.296e+05, tolerance: 2.281e+04\n",
      "  model = cd_fast.enet_coordinate_descent(\n",
      "/home/finn/miniconda3/envs/reed/lib/python3.9/site-packages/sklearn/linear_model/_coordinate_descent.py:645: ConvergenceWarning: Objective did not converge. You might want to increase the number of iterations, check the scale of the features or consider increasing regularisation. Duality gap: 3.079e+05, tolerance: 2.281e+04\n",
      "  model = cd_fast.enet_coordinate_descent(\n",
      "/home/finn/miniconda3/envs/reed/lib/python3.9/site-packages/sklearn/linear_model/_coordinate_descent.py:645: ConvergenceWarning: Objective did not converge. You might want to increase the number of iterations, check the scale of the features or consider increasing regularisation. Duality gap: 2.843e+05, tolerance: 3.819e+04\n",
      "  model = cd_fast.enet_coordinate_descent(\n",
      "/home/finn/miniconda3/envs/reed/lib/python3.9/site-packages/sklearn/linear_model/_coordinate_descent.py:645: ConvergenceWarning: Objective did not converge. You might want to increase the number of iterations, check the scale of the features or consider increasing regularisation. Duality gap: 1.480e+05, tolerance: 2.281e+04\n",
      "  model = cd_fast.enet_coordinate_descent(\n",
      "/home/finn/miniconda3/envs/reed/lib/python3.9/site-packages/sklearn/linear_model/_coordinate_descent.py:645: ConvergenceWarning: Objective did not converge. You might want to increase the number of iterations, check the scale of the features or consider increasing regularisation. Duality gap: 6.433e+05, tolerance: 2.281e+04\n",
      "  model = cd_fast.enet_coordinate_descent(\n",
      "/home/finn/miniconda3/envs/reed/lib/python3.9/site-packages/sklearn/linear_model/_coordinate_descent.py:645: ConvergenceWarning: Objective did not converge. You might want to increase the number of iterations, check the scale of the features or consider increasing regularisation. Duality gap: 3.572e+05, tolerance: 3.819e+04\n",
      "  model = cd_fast.enet_coordinate_descent(\n",
      "/home/finn/miniconda3/envs/reed/lib/python3.9/site-packages/sklearn/linear_model/_coordinate_descent.py:645: ConvergenceWarning: Objective did not converge. You might want to increase the number of iterations, check the scale of the features or consider increasing regularisation. Duality gap: 9.250e+04, tolerance: 3.819e+04\n",
      "  model = cd_fast.enet_coordinate_descent(\n"
     ]
    },
    {
     "name": "stdout",
     "output_type": "stream",
     "text": [
      "Fitting 2 folds for each of 30 candidates, totalling 60 fits\n"
     ]
    },
    {
     "name": "stderr",
     "output_type": "stream",
     "text": [
      "/home/finn/miniconda3/envs/reed/lib/python3.9/site-packages/sklearn/linear_model/_coordinate_descent.py:645: ConvergenceWarning: Objective did not converge. You might want to increase the number of iterations, check the scale of the features or consider increasing regularisation. Duality gap: 2.572e+05, tolerance: 4.900e+04\n",
      "  model = cd_fast.enet_coordinate_descent(\n",
      "/home/finn/miniconda3/envs/reed/lib/python3.9/site-packages/sklearn/linear_model/_coordinate_descent.py:645: ConvergenceWarning: Objective did not converge. You might want to increase the number of iterations, check the scale of the features or consider increasing regularisation. Duality gap: 3.854e+05, tolerance: 4.900e+04\n",
      "  model = cd_fast.enet_coordinate_descent(\n",
      "/home/finn/miniconda3/envs/reed/lib/python3.9/site-packages/sklearn/linear_model/_coordinate_descent.py:645: ConvergenceWarning: Objective did not converge. You might want to increase the number of iterations, check the scale of the features or consider increasing regularisation. Duality gap: 4.986e+05, tolerance: 4.900e+04\n",
      "  model = cd_fast.enet_coordinate_descent(\n",
      "/home/finn/miniconda3/envs/reed/lib/python3.9/site-packages/sklearn/linear_model/_coordinate_descent.py:645: ConvergenceWarning: Objective did not converge. You might want to increase the number of iterations, check the scale of the features or consider increasing regularisation. Duality gap: 1.977e+05, tolerance: 3.455e+04\n",
      "  model = cd_fast.enet_coordinate_descent(\n",
      "/home/finn/miniconda3/envs/reed/lib/python3.9/site-packages/sklearn/linear_model/_coordinate_descent.py:645: ConvergenceWarning: Objective did not converge. You might want to increase the number of iterations, check the scale of the features or consider increasing regularisation. Duality gap: 1.813e+05, tolerance: 4.900e+04\n",
      "  model = cd_fast.enet_coordinate_descent(\n",
      "/home/finn/miniconda3/envs/reed/lib/python3.9/site-packages/sklearn/linear_model/_coordinate_descent.py:645: ConvergenceWarning: Objective did not converge. You might want to increase the number of iterations, check the scale of the features or consider increasing regularisation. Duality gap: 1.184e+05, tolerance: 4.900e+04\n",
      "  model = cd_fast.enet_coordinate_descent(\n",
      "/home/finn/miniconda3/envs/reed/lib/python3.9/site-packages/sklearn/linear_model/_coordinate_descent.py:645: ConvergenceWarning: Objective did not converge. You might want to increase the number of iterations, check the scale of the features or consider increasing regularisation. Duality gap: 1.317e+05, tolerance: 3.455e+04\n",
      "  model = cd_fast.enet_coordinate_descent(\n",
      "/home/finn/miniconda3/envs/reed/lib/python3.9/site-packages/sklearn/linear_model/_coordinate_descent.py:645: ConvergenceWarning: Objective did not converge. You might want to increase the number of iterations, check the scale of the features or consider increasing regularisation. Duality gap: 2.512e+05, tolerance: 3.455e+04\n",
      "  model = cd_fast.enet_coordinate_descent(\n",
      "/home/finn/miniconda3/envs/reed/lib/python3.9/site-packages/sklearn/linear_model/_coordinate_descent.py:645: ConvergenceWarning: Objective did not converge. You might want to increase the number of iterations, check the scale of the features or consider increasing regularisation. Duality gap: 3.548e+05, tolerance: 3.455e+04\n",
      "  model = cd_fast.enet_coordinate_descent(\n",
      "/home/finn/miniconda3/envs/reed/lib/python3.9/site-packages/sklearn/linear_model/_coordinate_descent.py:645: ConvergenceWarning: Objective did not converge. You might want to increase the number of iterations, check the scale of the features or consider increasing regularisation. Duality gap: 7.345e+05, tolerance: 4.900e+04\n",
      "  model = cd_fast.enet_coordinate_descent(\n",
      "/home/finn/miniconda3/envs/reed/lib/python3.9/site-packages/sklearn/linear_model/_coordinate_descent.py:645: ConvergenceWarning: Objective did not converge. You might want to increase the number of iterations, check the scale of the features or consider increasing regularisation. Duality gap: 9.843e+04, tolerance: 3.455e+04\n",
      "  model = cd_fast.enet_coordinate_descent(\n",
      "/home/finn/miniconda3/envs/reed/lib/python3.9/site-packages/sklearn/linear_model/_coordinate_descent.py:645: ConvergenceWarning: Objective did not converge. You might want to increase the number of iterations, check the scale of the features or consider increasing regularisation. Duality gap: 5.765e+05, tolerance: 3.455e+04\n",
      "  model = cd_fast.enet_coordinate_descent(\n",
      "/home/finn/miniconda3/envs/reed/lib/python3.9/site-packages/sklearn/linear_model/_coordinate_descent.py:645: ConvergenceWarning: Objective did not converge. You might want to increase the number of iterations, check the scale of the features or consider increasing regularisation. Duality gap: 5.334e+05, tolerance: 3.455e+04\n",
      "  model = cd_fast.enet_coordinate_descent(\n",
      "/home/finn/miniconda3/envs/reed/lib/python3.9/site-packages/sklearn/linear_model/_coordinate_descent.py:645: ConvergenceWarning: Objective did not converge. You might want to increase the number of iterations, check the scale of the features or consider increasing regularisation. Duality gap: 7.489e+05, tolerance: 4.900e+04\n",
      "  model = cd_fast.enet_coordinate_descent(\n",
      "/home/finn/miniconda3/envs/reed/lib/python3.9/site-packages/sklearn/linear_model/_coordinate_descent.py:645: ConvergenceWarning: Objective did not converge. You might want to increase the number of iterations, check the scale of the features or consider increasing regularisation. Duality gap: 8.030e+05, tolerance: 4.900e+04\n",
      "  model = cd_fast.enet_coordinate_descent(\n",
      "/home/finn/miniconda3/envs/reed/lib/python3.9/site-packages/sklearn/linear_model/_coordinate_descent.py:645: ConvergenceWarning: Objective did not converge. You might want to increase the number of iterations, check the scale of the features or consider increasing regularisation. Duality gap: 6.987e+05, tolerance: 3.455e+04\n",
      "  model = cd_fast.enet_coordinate_descent(\n",
      "/home/finn/miniconda3/envs/reed/lib/python3.9/site-packages/sklearn/linear_model/_coordinate_descent.py:645: ConvergenceWarning: Objective did not converge. You might want to increase the number of iterations, check the scale of the features or consider increasing regularisation. Duality gap: 3.828e+04, tolerance: 3.455e+04\n",
      "  model = cd_fast.enet_coordinate_descent(\n",
      "/home/finn/miniconda3/envs/reed/lib/python3.9/site-packages/sklearn/linear_model/_coordinate_descent.py:645: ConvergenceWarning: Objective did not converge. You might want to increase the number of iterations, check the scale of the features or consider increasing regularisation. Duality gap: 1.454e+06, tolerance: 4.900e+04\n",
      "  model = cd_fast.enet_coordinate_descent(\n",
      "/home/finn/miniconda3/envs/reed/lib/python3.9/site-packages/sklearn/linear_model/_coordinate_descent.py:645: ConvergenceWarning: Objective did not converge. You might want to increase the number of iterations, check the scale of the features or consider increasing regularisation. Duality gap: 4.864e+05, tolerance: 3.455e+04\n",
      "  model = cd_fast.enet_coordinate_descent(\n",
      "/home/finn/miniconda3/envs/reed/lib/python3.9/site-packages/sklearn/linear_model/_coordinate_descent.py:645: ConvergenceWarning: Objective did not converge. You might want to increase the number of iterations, check the scale of the features or consider increasing regularisation. Duality gap: 1.235e+06, tolerance: 4.900e+04\n",
      "  model = cd_fast.enet_coordinate_descent(\n",
      "/home/finn/miniconda3/envs/reed/lib/python3.9/site-packages/sklearn/linear_model/_coordinate_descent.py:645: ConvergenceWarning: Objective did not converge. You might want to increase the number of iterations, check the scale of the features or consider increasing regularisation. Duality gap: 2.371e+05, tolerance: 3.455e+04\n",
      "  model = cd_fast.enet_coordinate_descent(\n",
      "/home/finn/miniconda3/envs/reed/lib/python3.9/site-packages/sklearn/linear_model/_coordinate_descent.py:645: ConvergenceWarning: Objective did not converge. You might want to increase the number of iterations, check the scale of the features or consider increasing regularisation. Duality gap: 8.555e+05, tolerance: 4.900e+04\n",
      "  model = cd_fast.enet_coordinate_descent(\n",
      "/home/finn/miniconda3/envs/reed/lib/python3.9/site-packages/sklearn/linear_model/_coordinate_descent.py:645: ConvergenceWarning: Objective did not converge. You might want to increase the number of iterations, check the scale of the features or consider increasing regularisation. Duality gap: 2.609e+05, tolerance: 4.900e+04\n",
      "  model = cd_fast.enet_coordinate_descent(\n",
      "/home/finn/miniconda3/envs/reed/lib/python3.9/site-packages/sklearn/linear_model/_coordinate_descent.py:645: ConvergenceWarning: Objective did not converge. You might want to increase the number of iterations, check the scale of the features or consider increasing regularisation. Duality gap: 4.539e+05, tolerance: 3.455e+04\n",
      "  model = cd_fast.enet_coordinate_descent(\n"
     ]
    },
    {
     "name": "stderr",
     "output_type": "stream",
     "text": [
      "/home/finn/miniconda3/envs/reed/lib/python3.9/site-packages/sklearn/linear_model/_coordinate_descent.py:645: ConvergenceWarning: Objective did not converge. You might want to increase the number of iterations, check the scale of the features or consider increasing regularisation. Duality gap: 4.566e+04, tolerance: 3.455e+04\n",
      "  model = cd_fast.enet_coordinate_descent(\n",
      "/home/finn/miniconda3/envs/reed/lib/python3.9/site-packages/sklearn/linear_model/_coordinate_descent.py:645: ConvergenceWarning: Objective did not converge. You might want to increase the number of iterations, check the scale of the features or consider increasing regularisation. Duality gap: 1.997e+06, tolerance: 4.900e+04\n",
      "  model = cd_fast.enet_coordinate_descent(\n",
      "/home/finn/miniconda3/envs/reed/lib/python3.9/site-packages/sklearn/linear_model/_coordinate_descent.py:645: ConvergenceWarning: Objective did not converge. You might want to increase the number of iterations, check the scale of the features or consider increasing regularisation. Duality gap: 1.855e+05, tolerance: 4.900e+04\n",
      "  model = cd_fast.enet_coordinate_descent(\n",
      "/home/finn/miniconda3/envs/reed/lib/python3.9/site-packages/sklearn/linear_model/_coordinate_descent.py:645: ConvergenceWarning: Objective did not converge. You might want to increase the number of iterations, check the scale of the features or consider increasing regularisation. Duality gap: 8.654e+04, tolerance: 3.455e+04\n",
      "  model = cd_fast.enet_coordinate_descent(\n",
      "/home/finn/miniconda3/envs/reed/lib/python3.9/site-packages/sklearn/linear_model/_coordinate_descent.py:645: ConvergenceWarning: Objective did not converge. You might want to increase the number of iterations, check the scale of the features or consider increasing regularisation. Duality gap: 8.531e+04, tolerance: 4.900e+04\n",
      "  model = cd_fast.enet_coordinate_descent(\n"
     ]
    },
    {
     "name": "stdout",
     "output_type": "stream",
     "text": [
      "Done\n",
      "Fitting gbr ...Fitting 2 folds for each of 500 candidates, totalling 1000 fits\n",
      "Fitting 2 folds for each of 500 candidates, totalling 1000 fits\n",
      "Fitting 2 folds for each of 500 candidates, totalling 1000 fits\n",
      "Fitting 2 folds for each of 500 candidates, totalling 1000 fits\n",
      "Done\n",
      "Caching results to data/cross-val-all_tmp.pkl\n"
     ]
    }
   ],
   "source": [
    "from direct_regression import nested_cross_val\n",
    "models0, models1, results = nested_cross_val(\n",
    "    construct_models,\n",
    "    cross_val_cache,\n",
    "    X0, X1, y0, y1,\n",
    "    optimisation_metric,\n",
    "    evaluation_metrics,\n",
    "    innercv=5,\n",
    "    outercv=10,\n",
    "    load_from_cache=False\n",
    ")"
   ]
  },
  {
   "cell_type": "markdown",
   "id": "20",
   "metadata": {},
   "source": [
    "### Report estimate ATE and model performance\n",
    "\n",
    "  - Mean and Std of prediction performance for each model (both treatment & control surface)\n",
    "  - Mean and Std of average treatment effect for each model"
   ]
  },
  {
   "cell_type": "code",
   "execution_count": 11,
   "id": "21",
   "metadata": {},
   "outputs": [
    {
     "data": {
      "text/html": [
       "<div>\n",
       "<style scoped>\n",
       "    .dataframe tbody tr th:only-of-type {\n",
       "        vertical-align: middle;\n",
       "    }\n",
       "\n",
       "    .dataframe tbody tr th {\n",
       "        vertical-align: top;\n",
       "    }\n",
       "\n",
       "    .dataframe thead th {\n",
       "        text-align: right;\n",
       "    }\n",
       "</style>\n",
       "<table border=\"1\" class=\"dataframe\">\n",
       "  <thead>\n",
       "    <tr style=\"text-align: right;\">\n",
       "      <th></th>\n",
       "      <th>ACE</th>\n",
       "      <th>ACE_std</th>\n",
       "      <th>control_r2</th>\n",
       "      <th>control_r2_std</th>\n",
       "      <th>treated_r2</th>\n",
       "      <th>treated_r2_std</th>\n",
       "      <th>control_neg_mean_squared_error</th>\n",
       "      <th>control_neg_mean_squared_error_std</th>\n",
       "      <th>treated_neg_mean_squared_error</th>\n",
       "      <th>treated_neg_mean_squared_error_std</th>\n",
       "    </tr>\n",
       "  </thead>\n",
       "  <tbody>\n",
       "    <tr>\n",
       "      <th>ridge</th>\n",
       "      <td>36.94</td>\n",
       "      <td>60.23</td>\n",
       "      <td>0.17</td>\n",
       "      <td>0.01</td>\n",
       "      <td>0.16</td>\n",
       "      <td>0.01</td>\n",
       "      <td>-719,855.22</td>\n",
       "      <td>50,666.45</td>\n",
       "      <td>-936,783.97</td>\n",
       "      <td>153,615.53</td>\n",
       "    </tr>\n",
       "    <tr>\n",
       "      <th>lasso</th>\n",
       "      <td>36.18</td>\n",
       "      <td>40.38</td>\n",
       "      <td>0.17</td>\n",
       "      <td>0.00</td>\n",
       "      <td>0.22</td>\n",
       "      <td>0.02</td>\n",
       "      <td>-718,645.26</td>\n",
       "      <td>52,737.75</td>\n",
       "      <td>-878,889.35</td>\n",
       "      <td>158,576.82</td>\n",
       "    </tr>\n",
       "    <tr>\n",
       "      <th>gbr</th>\n",
       "      <td>31.18</td>\n",
       "      <td>16.49</td>\n",
       "      <td>0.23</td>\n",
       "      <td>0.02</td>\n",
       "      <td>0.16</td>\n",
       "      <td>0.02</td>\n",
       "      <td>-663,016.14</td>\n",
       "      <td>31,305.68</td>\n",
       "      <td>-938,736.52</td>\n",
       "      <td>166,442.31</td>\n",
       "    </tr>\n",
       "  </tbody>\n",
       "</table>\n",
       "</div>"
      ],
      "text/plain": [
       "        ACE  ACE_std  control_r2  control_r2_std  treated_r2  treated_r2_std  \\\n",
       "ridge 36.94    60.23        0.17            0.01        0.16            0.01   \n",
       "lasso 36.18    40.38        0.17            0.00        0.22            0.02   \n",
       "gbr   31.18    16.49        0.23            0.02        0.16            0.02   \n",
       "\n",
       "       control_neg_mean_squared_error  control_neg_mean_squared_error_std  \\\n",
       "ridge                     -719,855.22                           50,666.45   \n",
       "lasso                     -718,645.26                           52,737.75   \n",
       "gbr                       -663,016.14                           31,305.68   \n",
       "\n",
       "       treated_neg_mean_squared_error  treated_neg_mean_squared_error_std  \n",
       "ridge                     -936,783.97                          153,615.53  \n",
       "lasso                     -878,889.35                          158,576.82  \n",
       "gbr                       -938,736.52                          166,442.31  "
      ]
     },
     "metadata": {},
     "output_type": "display_data"
    },
    {
     "data": {
      "image/png": "[encoded data removed]",
      "text/plain": [
       "<Figure size 1080x360 with 2 Axes>"
      ]
     },
     "metadata": {
      "needs_background": "light"
     },
     "output_type": "display_data"
    }
   ],
   "source": [
    "from direct_regression import visualise_ate\n",
    "visualise_ate(results,X,evaluation_metrics);"
   ]
  },
  {
   "cell_type": "markdown",
   "id": "22",
   "metadata": {},
   "source": [
    "### Visualise models\n",
    "- Features responsible for treatment effect heterogeneity & functional form (with uncertainty)\n",
    "      - coefficeints for linear models\n",
    "      - TODO permutation importance & partial dependence curves for non-linear models"
   ]
  },
  {
   "cell_type": "code",
   "execution_count": 12,
   "id": "23",
   "metadata": {
    "tags": [
     "hide_input"
    ]
   },
   "outputs": [
    {
     "name": "stdout",
     "output_type": "stream",
     "text": [
      "ridge\n"
     ]
    },
    {
     "data": {
      "text/html": [
       "<div>\n",
       "<style scoped>\n",
       "    .dataframe tbody tr th:only-of-type {\n",
       "        vertical-align: middle;\n",
       "    }\n",
       "\n",
       "    .dataframe tbody tr th {\n",
       "        vertical-align: top;\n",
       "    }\n",
       "\n",
       "    .dataframe thead th {\n",
       "        text-align: right;\n",
       "    }\n",
       "</style>\n",
       "<table border=\"1\" class=\"dataframe\">\n",
       "  <thead>\n",
       "    <tr style=\"text-align: right;\">\n",
       "      <th></th>\n",
       "      <th>importance_mean</th>\n",
       "      <th>importance_std</th>\n",
       "      <th>Δcoef_mean</th>\n",
       "      <th>Δcoef_std</th>\n",
       "      <th>coef_treat_mean</th>\n",
       "      <th>coef_treat_std</th>\n",
       "      <th>coef_cntr_mean</th>\n",
       "      <th>coef_cntr_std</th>\n",
       "    </tr>\n",
       "    <tr>\n",
       "      <th>feature</th>\n",
       "      <th></th>\n",
       "      <th></th>\n",
       "      <th></th>\n",
       "      <th></th>\n",
       "      <th></th>\n",
       "      <th></th>\n",
       "      <th></th>\n",
       "      <th></th>\n",
       "    </tr>\n",
       "  </thead>\n",
       "  <tbody>\n",
       "    <tr>\n",
       "      <th>awscmei</th>\n",
       "      <td>61.025679</td>\n",
       "      <td>5.224179</td>\n",
       "      <td>-17.489227</td>\n",
       "      <td>77.006827</td>\n",
       "      <td>-69.770292</td>\n",
       "      <td>43.727593</td>\n",
       "      <td>-52.281065</td>\n",
       "      <td>33.279234</td>\n",
       "    </tr>\n",
       "    <tr>\n",
       "      <th>ahgyob</th>\n",
       "      <td>38.110123</td>\n",
       "      <td>1.388925</td>\n",
       "      <td>-0.679059</td>\n",
       "      <td>24.772482</td>\n",
       "      <td>37.770594</td>\n",
       "      <td>10.997316</td>\n",
       "      <td>38.449653</td>\n",
       "      <td>13.775166</td>\n",
       "    </tr>\n",
       "    <tr>\n",
       "      <th>aehtjb</th>\n",
       "      <td>34.969584</td>\n",
       "      <td>1.842772</td>\n",
       "      <td>1.485294</td>\n",
       "      <td>18.889178</td>\n",
       "      <td>-34.226937</td>\n",
       "      <td>7.601817</td>\n",
       "      <td>-35.712231</td>\n",
       "      <td>11.287362</td>\n",
       "    </tr>\n",
       "    <tr>\n",
       "      <th>ahiwscei</th>\n",
       "      <td>33.622736</td>\n",
       "      <td>2.958473</td>\n",
       "      <td>3.338218</td>\n",
       "      <td>52.671306</td>\n",
       "      <td>-31.953628</td>\n",
       "      <td>29.294125</td>\n",
       "      <td>-35.291845</td>\n",
       "      <td>23.377180</td>\n",
       "    </tr>\n",
       "    <tr>\n",
       "      <th>ahgage1</th>\n",
       "      <td>28.754137</td>\n",
       "      <td>3.034696</td>\n",
       "      <td>-3.973579</td>\n",
       "      <td>18.370024</td>\n",
       "      <td>-30.740927</td>\n",
       "      <td>12.219708</td>\n",
       "      <td>-26.767348</td>\n",
       "      <td>6.150316</td>\n",
       "    </tr>\n",
       "    <tr>\n",
       "      <th>awscmga</th>\n",
       "      <td>27.449938</td>\n",
       "      <td>7.569016</td>\n",
       "      <td>7.179738</td>\n",
       "      <td>60.395452</td>\n",
       "      <td>-23.860069</td>\n",
       "      <td>22.628710</td>\n",
       "      <td>-31.039807</td>\n",
       "      <td>37.766742</td>\n",
       "    </tr>\n",
       "    <tr>\n",
       "      <th>ahgage2</th>\n",
       "      <td>23.090565</td>\n",
       "      <td>2.168630</td>\n",
       "      <td>3.133032</td>\n",
       "      <td>18.485224</td>\n",
       "      <td>-21.524049</td>\n",
       "      <td>11.411242</td>\n",
       "      <td>-24.657081</td>\n",
       "      <td>7.073982</td>\n",
       "    </tr>\n",
       "    <tr>\n",
       "      <th>aicexpct</th>\n",
       "      <td>21.988948</td>\n",
       "      <td>2.630186</td>\n",
       "      <td>-12.672105</td>\n",
       "      <td>1.743572</td>\n",
       "      <td>15.652896</td>\n",
       "      <td>1.758400</td>\n",
       "      <td>28.325000</td>\n",
       "      <td>3.501972</td>\n",
       "    </tr>\n",
       "    <tr>\n",
       "      <th>aiclike</th>\n",
       "      <td>21.796787</td>\n",
       "      <td>3.218646</td>\n",
       "      <td>-5.051071</td>\n",
       "      <td>9.929065</td>\n",
       "      <td>19.271251</td>\n",
       "      <td>8.183179</td>\n",
       "      <td>24.322322</td>\n",
       "      <td>1.745886</td>\n",
       "    </tr>\n",
       "    <tr>\n",
       "      <th>ajbmhrhv</th>\n",
       "      <td>19.972857</td>\n",
       "      <td>8.061386</td>\n",
       "      <td>-9.853784</td>\n",
       "      <td>26.433646</td>\n",
       "      <td>-20.586839</td>\n",
       "      <td>0.943939</td>\n",
       "      <td>-10.733055</td>\n",
       "      <td>27.377585</td>\n",
       "    </tr>\n",
       "    <tr>\n",
       "      <th>ajbempt</th>\n",
       "      <td>19.225909</td>\n",
       "      <td>5.746426</td>\n",
       "      <td>15.573067</td>\n",
       "      <td>2.763377</td>\n",
       "      <td>-11.439375</td>\n",
       "      <td>7.128114</td>\n",
       "      <td>-27.012442</td>\n",
       "      <td>4.364737</td>\n",
       "    </tr>\n",
       "    <tr>\n",
       "      <th>ajbmpgj</th>\n",
       "      <td>18.398096</td>\n",
       "      <td>5.216377</td>\n",
       "      <td>-23.510512</td>\n",
       "      <td>1.219401</td>\n",
       "      <td>6.642840</td>\n",
       "      <td>5.826078</td>\n",
       "      <td>30.153353</td>\n",
       "      <td>4.606676</td>\n",
       "    </tr>\n",
       "    <tr>\n",
       "      <th>amrcdur</th>\n",
       "      <td>17.610310</td>\n",
       "      <td>1.002795</td>\n",
       "      <td>-10.248177</td>\n",
       "      <td>9.919963</td>\n",
       "      <td>-22.734398</td>\n",
       "      <td>5.962776</td>\n",
       "      <td>-12.486221</td>\n",
       "      <td>3.957187</td>\n",
       "    </tr>\n",
       "    <tr>\n",
       "      <th>awslya</th>\n",
       "      <td>17.560426</td>\n",
       "      <td>4.106831</td>\n",
       "      <td>-5.807935</td>\n",
       "      <td>49.668386</td>\n",
       "      <td>8.742194</td>\n",
       "      <td>21.419036</td>\n",
       "      <td>14.550130</td>\n",
       "      <td>28.249350</td>\n",
       "    </tr>\n",
       "    <tr>\n",
       "      <th>atcyng</th>\n",
       "      <td>17.426902</td>\n",
       "      <td>0.335830</td>\n",
       "      <td>-3.964407</td>\n",
       "      <td>4.626483</td>\n",
       "      <td>-19.409106</td>\n",
       "      <td>1.977411</td>\n",
       "      <td>-15.444699</td>\n",
       "      <td>2.649072</td>\n",
       "    </tr>\n",
       "    <tr>\n",
       "      <th>agh3a</th>\n",
       "      <td>17.213121</td>\n",
       "      <td>4.111751</td>\n",
       "      <td>-0.715920</td>\n",
       "      <td>6.435429</td>\n",
       "      <td>16.855161</td>\n",
       "      <td>0.894036</td>\n",
       "      <td>17.571081</td>\n",
       "      <td>7.329466</td>\n",
       "    </tr>\n",
       "    <tr>\n",
       "      <th>arcage1</th>\n",
       "      <td>17.113939</td>\n",
       "      <td>2.063970</td>\n",
       "      <td>-5.764581</td>\n",
       "      <td>3.773765</td>\n",
       "      <td>-19.996229</td>\n",
       "      <td>3.950853</td>\n",
       "      <td>-14.231648</td>\n",
       "      <td>0.177088</td>\n",
       "    </tr>\n",
       "    <tr>\n",
       "      <th>ancany</th>\n",
       "      <td>17.063807</td>\n",
       "      <td>2.623174</td>\n",
       "      <td>2.515767</td>\n",
       "      <td>3.282662</td>\n",
       "      <td>18.321691</td>\n",
       "      <td>4.264505</td>\n",
       "      <td>15.805923</td>\n",
       "      <td>0.981843</td>\n",
       "    </tr>\n",
       "    <tr>\n",
       "      <th>ajbocct</th>\n",
       "      <td>16.682114</td>\n",
       "      <td>10.131770</td>\n",
       "      <td>4.884502</td>\n",
       "      <td>4.667617</td>\n",
       "      <td>-14.239863</td>\n",
       "      <td>7.797962</td>\n",
       "      <td>-19.124364</td>\n",
       "      <td>12.465579</td>\n",
       "    </tr>\n",
       "    <tr>\n",
       "      <th>ahhyng</th>\n",
       "      <td>16.556239</td>\n",
       "      <td>0.321096</td>\n",
       "      <td>1.580796</td>\n",
       "      <td>10.983925</td>\n",
       "      <td>-15.765842</td>\n",
       "      <td>5.170867</td>\n",
       "      <td>-17.346637</td>\n",
       "      <td>5.813058</td>\n",
       "    </tr>\n",
       "  </tbody>\n",
       "</table>\n",
       "</div>"
      ],
      "text/plain": [
       "          importance_mean  importance_std  Δcoef_mean  Δcoef_std  \\\n",
       "feature                                                            \n",
       "awscmei         61.025679        5.224179  -17.489227  77.006827   \n",
       "ahgyob          38.110123        1.388925   -0.679059  24.772482   \n",
       "aehtjb          34.969584        1.842772    1.485294  18.889178   \n",
       "ahiwscei        33.622736        2.958473    3.338218  52.671306   \n",
       "ahgage1         28.754137        3.034696   -3.973579  18.370024   \n",
       "awscmga         27.449938        7.569016    7.179738  60.395452   \n",
       "ahgage2         23.090565        2.168630    3.133032  18.485224   \n",
       "aicexpct        21.988948        2.630186  -12.672105   1.743572   \n",
       "aiclike         21.796787        3.218646   -5.051071   9.929065   \n",
       "ajbmhrhv        19.972857        8.061386   -9.853784  26.433646   \n",
       "ajbempt         19.225909        5.746426   15.573067   2.763377   \n",
       "ajbmpgj         18.398096        5.216377  -23.510512   1.219401   \n",
       "amrcdur         17.610310        1.002795  -10.248177   9.919963   \n",
       "awslya          17.560426        4.106831   -5.807935  49.668386   \n",
       "atcyng          17.426902        0.335830   -3.964407   4.626483   \n",
       "agh3a           17.213121        4.111751   -0.715920   6.435429   \n",
       "arcage1         17.113939        2.063970   -5.764581   3.773765   \n",
       "ancany          17.063807        2.623174    2.515767   3.282662   \n",
       "ajbocct         16.682114       10.131770    4.884502   4.667617   \n",
       "ahhyng          16.556239        0.321096    1.580796  10.983925   \n",
       "\n",
       "          coef_treat_mean  coef_treat_std  coef_cntr_mean  coef_cntr_std  \n",
       "feature                                                                   \n",
       "awscmei        -69.770292       43.727593      -52.281065      33.279234  \n",
       "ahgyob          37.770594       10.997316       38.449653      13.775166  \n",
       "aehtjb         -34.226937        7.601817      -35.712231      11.287362  \n",
       "ahiwscei       -31.953628       29.294125      -35.291845      23.377180  \n",
       "ahgage1        -30.740927       12.219708      -26.767348       6.150316  \n",
       "awscmga        -23.860069       22.628710      -31.039807      37.766742  \n",
       "ahgage2        -21.524049       11.411242      -24.657081       7.073982  \n",
       "aicexpct        15.652896        1.758400       28.325000       3.501972  \n",
       "aiclike         19.271251        8.183179       24.322322       1.745886  \n",
       "ajbmhrhv       -20.586839        0.943939      -10.733055      27.377585  \n",
       "ajbempt        -11.439375        7.128114      -27.012442       4.364737  \n",
       "ajbmpgj          6.642840        5.826078       30.153353       4.606676  \n",
       "amrcdur        -22.734398        5.962776      -12.486221       3.957187  \n",
       "awslya           8.742194       21.419036       14.550130      28.249350  \n",
       "atcyng         -19.409106        1.977411      -15.444699       2.649072  \n",
       "agh3a           16.855161        0.894036       17.571081       7.329466  \n",
       "arcage1        -19.996229        3.950853      -14.231648       0.177088  \n",
       "ancany          18.321691        4.264505       15.805923       0.981843  \n",
       "ajbocct        -14.239863        7.797962      -19.124364      12.465579  \n",
       "ahhyng         -15.765842        5.170867      -17.346637       5.813058  "
      ]
     },
     "metadata": {},
     "output_type": "display_data"
    },
    {
     "name": "stdout",
     "output_type": "stream",
     "text": [
      "lasso\n"
     ]
    },
    {
     "data": {
      "text/html": [
       "<div>\n",
       "<style scoped>\n",
       "    .dataframe tbody tr th:only-of-type {\n",
       "        vertical-align: middle;\n",
       "    }\n",
       "\n",
       "    .dataframe tbody tr th {\n",
       "        vertical-align: top;\n",
       "    }\n",
       "\n",
       "    .dataframe thead th {\n",
       "        text-align: right;\n",
       "    }\n",
       "</style>\n",
       "<table border=\"1\" class=\"dataframe\">\n",
       "  <thead>\n",
       "    <tr style=\"text-align: right;\">\n",
       "      <th></th>\n",
       "      <th>importance_mean</th>\n",
       "      <th>importance_std</th>\n",
       "      <th>Δcoef_mean</th>\n",
       "      <th>Δcoef_std</th>\n",
       "      <th>coef_treat_mean</th>\n",
       "      <th>coef_treat_std</th>\n",
       "      <th>coef_cntr_mean</th>\n",
       "      <th>coef_cntr_std</th>\n",
       "    </tr>\n",
       "    <tr>\n",
       "      <th>feature</th>\n",
       "      <th></th>\n",
       "      <th></th>\n",
       "      <th></th>\n",
       "      <th></th>\n",
       "      <th></th>\n",
       "      <th></th>\n",
       "      <th></th>\n",
       "      <th></th>\n",
       "    </tr>\n",
       "  </thead>\n",
       "  <tbody>\n",
       "    <tr>\n",
       "      <th>ahgyob</th>\n",
       "      <td>247.492285</td>\n",
       "      <td>34.913801</td>\n",
       "      <td>130.463819</td>\n",
       "      <td>102.622093</td>\n",
       "      <td>312.724194</td>\n",
       "      <td>16.397246</td>\n",
       "      <td>182.260375</td>\n",
       "      <td>86.224847</td>\n",
       "    </tr>\n",
       "    <tr>\n",
       "      <th>awscmei</th>\n",
       "      <td>199.155892</td>\n",
       "      <td>10.141636</td>\n",
       "      <td>-122.186749</td>\n",
       "      <td>251.856678</td>\n",
       "      <td>-260.249266</td>\n",
       "      <td>136.069975</td>\n",
       "      <td>-138.062518</td>\n",
       "      <td>115.786703</td>\n",
       "    </tr>\n",
       "    <tr>\n",
       "      <th>aoifdiva</th>\n",
       "      <td>31.176951</td>\n",
       "      <td>44.090867</td>\n",
       "      <td>-62.353902</td>\n",
       "      <td>88.181733</td>\n",
       "      <td>-62.353902</td>\n",
       "      <td>88.181733</td>\n",
       "      <td>0.000000</td>\n",
       "      <td>0.000000</td>\n",
       "    </tr>\n",
       "    <tr>\n",
       "      <th>aicexpct</th>\n",
       "      <td>30.543307</td>\n",
       "      <td>9.545233</td>\n",
       "      <td>-61.086614</td>\n",
       "      <td>19.090465</td>\n",
       "      <td>0.000000</td>\n",
       "      <td>0.000000</td>\n",
       "      <td>61.086614</td>\n",
       "      <td>19.090465</td>\n",
       "    </tr>\n",
       "    <tr>\n",
       "      <th>acccinhh</th>\n",
       "      <td>30.202989</td>\n",
       "      <td>10.206796</td>\n",
       "      <td>47.708887</td>\n",
       "      <td>2.457194</td>\n",
       "      <td>-6.348545</td>\n",
       "      <td>8.978199</td>\n",
       "      <td>-54.057433</td>\n",
       "      <td>11.435393</td>\n",
       "    </tr>\n",
       "    <tr>\n",
       "      <th>arcage1</th>\n",
       "      <td>23.261894</td>\n",
       "      <td>7.610877</td>\n",
       "      <td>-31.663837</td>\n",
       "      <td>4.599017</td>\n",
       "      <td>-39.093812</td>\n",
       "      <td>5.311369</td>\n",
       "      <td>-7.429975</td>\n",
       "      <td>9.910385</td>\n",
       "    </tr>\n",
       "    <tr>\n",
       "      <th>aedqobd</th>\n",
       "      <td>17.466820</td>\n",
       "      <td>21.981485</td>\n",
       "      <td>31.086514</td>\n",
       "      <td>49.403626</td>\n",
       "      <td>31.086514</td>\n",
       "      <td>49.403626</td>\n",
       "      <td>0.000000</td>\n",
       "      <td>0.000000</td>\n",
       "    </tr>\n",
       "    <tr>\n",
       "      <th>ajbmpgj</th>\n",
       "      <td>17.076641</td>\n",
       "      <td>17.210102</td>\n",
       "      <td>-34.153282</td>\n",
       "      <td>34.420204</td>\n",
       "      <td>0.000000</td>\n",
       "      <td>0.000000</td>\n",
       "      <td>34.153282</td>\n",
       "      <td>34.420204</td>\n",
       "    </tr>\n",
       "    <tr>\n",
       "      <th>ancany</th>\n",
       "      <td>14.994848</td>\n",
       "      <td>8.393056</td>\n",
       "      <td>-7.482625</td>\n",
       "      <td>15.043692</td>\n",
       "      <td>11.253535</td>\n",
       "      <td>15.914902</td>\n",
       "      <td>18.736160</td>\n",
       "      <td>0.871210</td>\n",
       "    </tr>\n",
       "    <tr>\n",
       "      <th>ajbmocc1</th>\n",
       "      <td>13.445223</td>\n",
       "      <td>6.735227</td>\n",
       "      <td>-26.890446</td>\n",
       "      <td>13.470454</td>\n",
       "      <td>-26.890446</td>\n",
       "      <td>13.470454</td>\n",
       "      <td>0.000000</td>\n",
       "      <td>0.000000</td>\n",
       "    </tr>\n",
       "    <tr>\n",
       "      <th>awscmga</th>\n",
       "      <td>12.940677</td>\n",
       "      <td>18.300881</td>\n",
       "      <td>25.881354</td>\n",
       "      <td>36.601762</td>\n",
       "      <td>0.000000</td>\n",
       "      <td>0.000000</td>\n",
       "      <td>-25.881354</td>\n",
       "      <td>36.601762</td>\n",
       "    </tr>\n",
       "    <tr>\n",
       "      <th>abifdiv</th>\n",
       "      <td>12.674407</td>\n",
       "      <td>17.924319</td>\n",
       "      <td>-25.348815</td>\n",
       "      <td>35.848638</td>\n",
       "      <td>-25.348815</td>\n",
       "      <td>35.848638</td>\n",
       "      <td>0.000000</td>\n",
       "      <td>0.000000</td>\n",
       "    </tr>\n",
       "    <tr>\n",
       "      <th>arcage2</th>\n",
       "      <td>12.626912</td>\n",
       "      <td>5.165513</td>\n",
       "      <td>25.253824</td>\n",
       "      <td>10.331026</td>\n",
       "      <td>0.000000</td>\n",
       "      <td>0.000000</td>\n",
       "      <td>-25.253824</td>\n",
       "      <td>10.331026</td>\n",
       "    </tr>\n",
       "    <tr>\n",
       "      <th>ajbmhrhv</th>\n",
       "      <td>12.294723</td>\n",
       "      <td>6.868389</td>\n",
       "      <td>9.713369</td>\n",
       "      <td>34.774727</td>\n",
       "      <td>-7.438038</td>\n",
       "      <td>10.518974</td>\n",
       "      <td>-17.151407</td>\n",
       "      <td>24.255753</td>\n",
       "    </tr>\n",
       "    <tr>\n",
       "      <th>aehtjb</th>\n",
       "      <td>12.118966</td>\n",
       "      <td>0.684981</td>\n",
       "      <td>24.237933</td>\n",
       "      <td>1.369961</td>\n",
       "      <td>0.000000</td>\n",
       "      <td>0.000000</td>\n",
       "      <td>-24.237933</td>\n",
       "      <td>1.369961</td>\n",
       "    </tr>\n",
       "    <tr>\n",
       "      <th>ahibiff</th>\n",
       "      <td>11.773606</td>\n",
       "      <td>16.650393</td>\n",
       "      <td>-23.547212</td>\n",
       "      <td>33.300787</td>\n",
       "      <td>-23.547212</td>\n",
       "      <td>33.300787</td>\n",
       "      <td>0.000000</td>\n",
       "      <td>0.000000</td>\n",
       "    </tr>\n",
       "    <tr>\n",
       "      <th>ajbempt</th>\n",
       "      <td>11.525006</td>\n",
       "      <td>5.275247</td>\n",
       "      <td>23.050013</td>\n",
       "      <td>10.550493</td>\n",
       "      <td>0.000000</td>\n",
       "      <td>0.000000</td>\n",
       "      <td>-23.050013</td>\n",
       "      <td>10.550493</td>\n",
       "    </tr>\n",
       "    <tr>\n",
       "      <th>aoifrntp</th>\n",
       "      <td>11.316147</td>\n",
       "      <td>16.003448</td>\n",
       "      <td>-22.632293</td>\n",
       "      <td>32.006896</td>\n",
       "      <td>-22.632293</td>\n",
       "      <td>32.006896</td>\n",
       "      <td>0.000000</td>\n",
       "      <td>0.000000</td>\n",
       "    </tr>\n",
       "    <tr>\n",
       "      <th>amrcdur</th>\n",
       "      <td>10.990177</td>\n",
       "      <td>15.542457</td>\n",
       "      <td>-21.980354</td>\n",
       "      <td>31.084915</td>\n",
       "      <td>-21.980354</td>\n",
       "      <td>31.084915</td>\n",
       "      <td>0.000000</td>\n",
       "      <td>0.000000</td>\n",
       "    </tr>\n",
       "    <tr>\n",
       "      <th>awslya</th>\n",
       "      <td>10.389636</td>\n",
       "      <td>13.099205</td>\n",
       "      <td>-18.525074</td>\n",
       "      <td>29.386327</td>\n",
       "      <td>1.127099</td>\n",
       "      <td>1.593958</td>\n",
       "      <td>19.652173</td>\n",
       "      <td>27.792369</td>\n",
       "    </tr>\n",
       "  </tbody>\n",
       "</table>\n",
       "</div>"
      ],
      "text/plain": [
       "          importance_mean  importance_std  Δcoef_mean   Δcoef_std  \\\n",
       "feature                                                             \n",
       "ahgyob         247.492285       34.913801  130.463819  102.622093   \n",
       "awscmei        199.155892       10.141636 -122.186749  251.856678   \n",
       "aoifdiva        31.176951       44.090867  -62.353902   88.181733   \n",
       "aicexpct        30.543307        9.545233  -61.086614   19.090465   \n",
       "acccinhh        30.202989       10.206796   47.708887    2.457194   \n",
       "arcage1         23.261894        7.610877  -31.663837    4.599017   \n",
       "aedqobd         17.466820       21.981485   31.086514   49.403626   \n",
       "ajbmpgj         17.076641       17.210102  -34.153282   34.420204   \n",
       "ancany          14.994848        8.393056   -7.482625   15.043692   \n",
       "ajbmocc1        13.445223        6.735227  -26.890446   13.470454   \n",
       "awscmga         12.940677       18.300881   25.881354   36.601762   \n",
       "abifdiv         12.674407       17.924319  -25.348815   35.848638   \n",
       "arcage2         12.626912        5.165513   25.253824   10.331026   \n",
       "ajbmhrhv        12.294723        6.868389    9.713369   34.774727   \n",
       "aehtjb          12.118966        0.684981   24.237933    1.369961   \n",
       "ahibiff         11.773606       16.650393  -23.547212   33.300787   \n",
       "ajbempt         11.525006        5.275247   23.050013   10.550493   \n",
       "aoifrntp        11.316147       16.003448  -22.632293   32.006896   \n",
       "amrcdur         10.990177       15.542457  -21.980354   31.084915   \n",
       "awslya          10.389636       13.099205  -18.525074   29.386327   \n",
       "\n",
       "          coef_treat_mean  coef_treat_std  coef_cntr_mean  coef_cntr_std  \n",
       "feature                                                                   \n",
       "ahgyob         312.724194       16.397246      182.260375      86.224847  \n",
       "awscmei       -260.249266      136.069975     -138.062518     115.786703  \n",
       "aoifdiva       -62.353902       88.181733        0.000000       0.000000  \n",
       "aicexpct         0.000000        0.000000       61.086614      19.090465  \n",
       "acccinhh        -6.348545        8.978199      -54.057433      11.435393  \n",
       "arcage1        -39.093812        5.311369       -7.429975       9.910385  \n",
       "aedqobd         31.086514       49.403626        0.000000       0.000000  \n",
       "ajbmpgj          0.000000        0.000000       34.153282      34.420204  \n",
       "ancany          11.253535       15.914902       18.736160       0.871210  \n",
       "ajbmocc1       -26.890446       13.470454        0.000000       0.000000  \n",
       "awscmga          0.000000        0.000000      -25.881354      36.601762  \n",
       "abifdiv        -25.348815       35.848638        0.000000       0.000000  \n",
       "arcage2          0.000000        0.000000      -25.253824      10.331026  \n",
       "ajbmhrhv        -7.438038       10.518974      -17.151407      24.255753  \n",
       "aehtjb           0.000000        0.000000      -24.237933       1.369961  \n",
       "ahibiff        -23.547212       33.300787        0.000000       0.000000  \n",
       "ajbempt          0.000000        0.000000      -23.050013      10.550493  \n",
       "aoifrntp       -22.632293       32.006896        0.000000       0.000000  \n",
       "amrcdur        -21.980354       31.084915        0.000000       0.000000  \n",
       "awslya           1.127099        1.593958       19.652173      27.792369  "
      ]
     },
     "metadata": {},
     "output_type": "display_data"
    }
   ],
   "source": [
    "from direct_regression import display_feature_importance\n",
    "display_feature_importance(models0, models1, results, features);"
   ]
  },
  {
   "cell_type": "markdown",
   "id": "24",
   "metadata": {},
   "source": [
    "### Compare against OLS on basic variables"
   ]
  },
  {
   "cell_type": "code",
   "execution_count": 13,
   "id": "25",
   "metadata": {
    "tags": [
     "hide_input"
    ]
   },
   "outputs": [
    {
     "name": "stdout",
     "output_type": "stream",
     "text": [
      "Dropped 592 rows missing treatment or outcome.\n",
      "Fitting OLS ...Done\n",
      "Caching results to data/tmp.pkl\n"
     ]
    }
   ],
   "source": [
    "basic = pd.read_csv(\"basic_variables.csv\",index_col='xwaveid')\n",
    "drop_missing_treatment_or_outcome(basic, treatment, outcome)\n",
    "if log_outcome:\n",
    "    basic[outcome] = np.log(basic[outcome]+basic[outcome].min())\n",
    "    \n",
    "X0b, X1b, y0b, y1b, Xb, yb, tb, featuresb = seperate_and_transform_data(basic, treatment, outcome)\n",
    "\n",
    "def construct_basic_model():\n",
    "    models = [\n",
    "        Model('OLS',LinearRegression(),importance_func=importance_from_coef)\n",
    "    ]\n",
    "    return models\n",
    "\n",
    "modelsb0, modelsb1, resultsb = nested_cross_val(\n",
    "    construct_basic_model,\n",
    "    \"data/tmp.pkl\",\n",
    "    X0b, X1b, y0b, y1b,\n",
    "    optimisation_metric,\n",
    "    evaluation_metrics,\n",
    "    innercv=5,\n",
    "    outercv=10,\n",
    "    load_from_cache=False)"
   ]
  },
  {
   "cell_type": "code",
   "execution_count": 14,
   "id": "26",
   "metadata": {
    "tags": [
     "hide_input"
    ]
   },
   "outputs": [
    {
     "data": {
      "image/png": "[encoded data removed]",
      "text/plain": [
       "<Figure size 1080x360 with 2 Axes>"
      ]
     },
     "metadata": {
      "needs_background": "light"
     },
     "output_type": "display_data"
    }
   ],
   "source": [
    "y0a = results['ridge'][0]['estimator'][1].predict(X0)\n",
    "y1a = results['ridge'][1]['estimator'][1].predict(X1)\n",
    "fig, ax = plt.subplots(1,2, figsize=(15,5))\n",
    "ax[0].scatter(y0, y0a,s=10,alpha=0.1)\n",
    "ax[0].set_xlabel('y0')\n",
    "ax[0].set_ylabel('$\\\\hat{y}0$');\n",
    "ax[0].set_title(f'Control (ridge), $R^2={r2_score(y0,y0a):.2f}$')\n",
    "\n",
    "ax[1].scatter(y1, y1a,s=10,alpha=0.1)\n",
    "ax[1].set_xlabel('y1')\n",
    "ax[1].set_ylabel('$\\\\hat{y}1$');\n",
    "ax[1].set_title(f'Treated (ridge), $R^2={r2_score(y1,y1a):.2f}$');\n",
    "\n",
    "# think about why these r2 scores are higher than on the holdout set (and whether they are likely overfitting)"
   ]
  },
  {
   "cell_type": "code",
   "execution_count": 15,
   "id": "27",
   "metadata": {},
   "outputs": [
    {
     "data": {
      "image/png": "[encoded data removed]",
      "text/plain": [
       "<Figure size 1080x360 with 2 Axes>"
      ]
     },
     "metadata": {
      "needs_background": "light"
     },
     "output_type": "display_data"
    }
   ],
   "source": [
    "from sklearn.metrics import r2_score\n",
    "y0b = resultsb['OLS'][0]['estimator'][0].predict(X0b)\n",
    "y1b = resultsb['OLS'][1]['estimator'][0].predict(X1b)\n",
    "fig, ax = plt.subplots(1,2, figsize=(15,5))\n",
    "ax[0].scatter(y0, y0b,s=10,alpha=0.1)\n",
    "ax[0].set_xlabel('y0')\n",
    "ax[0].set_ylabel('$\\\\hat{y}0$');\n",
    "ax[0].set_title(f'Control (OLS-basic), $R^2={r2_score(y0,y0b):.2f}$')\n",
    "\n",
    "ax[1].scatter(y1, y1b,s=10,alpha=0.1)\n",
    "ax[1].set_xlabel('y1')\n",
    "ax[1].set_ylabel('$\\\\hat{y}1$');\n",
    "ax[1].set_title(f'Treated (OLS-basic), $R^2={r2_score(y1,y1b):.2f}$');\n"
   ]
  },
  {
   "cell_type": "markdown",
   "id": "28",
   "metadata": {},
   "source": [
    "### Bootstraped cross-validation to estimate parameter uncertainty\n",
    "![image.png](images/bootstrap_validation.png)"
   ]
  },
  {
   "cell_type": "code",
   "execution_count": 16,
   "id": "29",
   "metadata": {
    "scrolled": true,
    "tags": [
     "hide_cell"
    ]
   },
   "outputs": [
    {
     "name": "stdout",
     "output_type": "stream",
     "text": [
      "Fitting ridge ...Fitting 2 folds for each of 30 candidates, totalling 60 fits\n",
      "Fitting 2 folds for each of 30 candidates, totalling 60 fits\n",
      "Fitting 2 folds for each of 30 candidates, totalling 60 fits\n",
      "Fitting 2 folds for each of 30 candidates, totalling 60 fits\n",
      "Done\n",
      "Fitting lasso ...Fitting 2 folds for each of 30 candidates, totalling 60 fits\n"
     ]
    },
    {
     "name": "stderr",
     "output_type": "stream",
     "text": [
      "/home/finn/miniconda3/envs/reed/lib/python3.9/site-packages/sklearn/linear_model/_coordinate_descent.py:645: ConvergenceWarning: Objective did not converge. You might want to increase the number of iterations, check the scale of the features or consider increasing regularisation. Duality gap: 2.327e+08, tolerance: 1.614e+05\n",
      "  model = cd_fast.enet_coordinate_descent(\n",
      "/home/finn/miniconda3/envs/reed/lib/python3.9/site-packages/sklearn/linear_model/_coordinate_descent.py:645: ConvergenceWarning: Objective did not converge. You might want to increase the number of iterations, check the scale of the features or consider increasing regularisation. Duality gap: 2.297e+08, tolerance: 1.614e+05\n",
      "  model = cd_fast.enet_coordinate_descent(\n",
      "/home/finn/miniconda3/envs/reed/lib/python3.9/site-packages/sklearn/linear_model/_coordinate_descent.py:645: ConvergenceWarning: Objective did not converge. You might want to increase the number of iterations, check the scale of the features or consider increasing regularisation. Duality gap: 2.249e+08, tolerance: 1.614e+05\n",
      "  model = cd_fast.enet_coordinate_descent(\n",
      "/home/finn/miniconda3/envs/reed/lib/python3.9/site-packages/sklearn/linear_model/_coordinate_descent.py:645: ConvergenceWarning: Objective did not converge. You might want to increase the number of iterations, check the scale of the features or consider increasing regularisation. Duality gap: 1.917e+08, tolerance: 1.296e+05\n",
      "  model = cd_fast.enet_coordinate_descent(\n",
      "/home/finn/miniconda3/envs/reed/lib/python3.9/site-packages/sklearn/linear_model/_coordinate_descent.py:645: ConvergenceWarning: Objective did not converge. You might want to increase the number of iterations, check the scale of the features or consider increasing regularisation. Duality gap: 1.808e+08, tolerance: 1.296e+05\n",
      "  model = cd_fast.enet_coordinate_descent(\n",
      "/home/finn/miniconda3/envs/reed/lib/python3.9/site-packages/sklearn/linear_model/_coordinate_descent.py:645: ConvergenceWarning: Objective did not converge. You might want to increase the number of iterations, check the scale of the features or consider increasing regularisation. Duality gap: 1.984e+08, tolerance: 1.296e+05\n",
      "  model = cd_fast.enet_coordinate_descent(\n",
      "/home/finn/miniconda3/envs/reed/lib/python3.9/site-packages/sklearn/linear_model/_coordinate_descent.py:645: ConvergenceWarning: Objective did not converge. You might want to increase the number of iterations, check the scale of the features or consider increasing regularisation. Duality gap: 2.172e+08, tolerance: 1.614e+05\n",
      "  model = cd_fast.enet_coordinate_descent(\n",
      "/home/finn/miniconda3/envs/reed/lib/python3.9/site-packages/sklearn/linear_model/_coordinate_descent.py:645: ConvergenceWarning: Objective did not converge. You might want to increase the number of iterations, check the scale of the features or consider increasing regularisation. Duality gap: 2.052e+08, tolerance: 1.614e+05\n",
      "  model = cd_fast.enet_coordinate_descent(\n",
      "/home/finn/miniconda3/envs/reed/lib/python3.9/site-packages/sklearn/linear_model/_coordinate_descent.py:645: ConvergenceWarning: Objective did not converge. You might want to increase the number of iterations, check the scale of the features or consider increasing regularisation. Duality gap: 1.629e+08, tolerance: 1.296e+05\n",
      "  model = cd_fast.enet_coordinate_descent(\n",
      "/home/finn/miniconda3/envs/reed/lib/python3.9/site-packages/sklearn/linear_model/_coordinate_descent.py:645: ConvergenceWarning: Objective did not converge. You might want to increase the number of iterations, check the scale of the features or consider increasing regularisation. Duality gap: 1.337e+08, tolerance: 1.296e+05\n",
      "  model = cd_fast.enet_coordinate_descent(\n",
      "/home/finn/miniconda3/envs/reed/lib/python3.9/site-packages/sklearn/linear_model/_coordinate_descent.py:645: ConvergenceWarning: Objective did not converge. You might want to increase the number of iterations, check the scale of the features or consider increasing regularisation. Duality gap: 2.346e+08, tolerance: 1.614e+05\n",
      "  model = cd_fast.enet_coordinate_descent(\n",
      "/home/finn/miniconda3/envs/reed/lib/python3.9/site-packages/sklearn/linear_model/_coordinate_descent.py:645: ConvergenceWarning: Objective did not converge. You might want to increase the number of iterations, check the scale of the features or consider increasing regularisation. Duality gap: 9.016e+07, tolerance: 1.296e+05\n",
      "  model = cd_fast.enet_coordinate_descent(\n",
      "/home/finn/miniconda3/envs/reed/lib/python3.9/site-packages/sklearn/linear_model/_coordinate_descent.py:645: ConvergenceWarning: Objective did not converge. You might want to increase the number of iterations, check the scale of the features or consider increasing regularisation. Duality gap: 1.870e+08, tolerance: 1.614e+05\n",
      "  model = cd_fast.enet_coordinate_descent(\n",
      "/home/finn/miniconda3/envs/reed/lib/python3.9/site-packages/sklearn/linear_model/_coordinate_descent.py:645: ConvergenceWarning: Objective did not converge. You might want to increase the number of iterations, check the scale of the features or consider increasing regularisation. Duality gap: 4.726e+06, tolerance: 1.296e+05\n",
      "  model = cd_fast.enet_coordinate_descent(\n",
      "/home/finn/miniconda3/envs/reed/lib/python3.9/site-packages/sklearn/linear_model/_coordinate_descent.py:645: ConvergenceWarning: Objective did not converge. You might want to increase the number of iterations, check the scale of the features or consider increasing regularisation. Duality gap: 1.162e+08, tolerance: 1.614e+05\n",
      "  model = cd_fast.enet_coordinate_descent(\n",
      "/home/finn/miniconda3/envs/reed/lib/python3.9/site-packages/sklearn/linear_model/_coordinate_descent.py:645: ConvergenceWarning: Objective did not converge. You might want to increase the number of iterations, check the scale of the features or consider increasing regularisation. Duality gap: 3.942e+07, tolerance: 1.296e+05\n",
      "  model = cd_fast.enet_coordinate_descent(\n",
      "/home/finn/miniconda3/envs/reed/lib/python3.9/site-packages/sklearn/linear_model/_coordinate_descent.py:645: ConvergenceWarning: Objective did not converge. You might want to increase the number of iterations, check the scale of the features or consider increasing regularisation. Duality gap: 3.958e+05, tolerance: 1.296e+05\n",
      "  model = cd_fast.enet_coordinate_descent(\n",
      "/home/finn/miniconda3/envs/reed/lib/python3.9/site-packages/sklearn/linear_model/_coordinate_descent.py:645: ConvergenceWarning: Objective did not converge. You might want to increase the number of iterations, check the scale of the features or consider increasing regularisation. Duality gap: 1.593e+08, tolerance: 1.614e+05\n",
      "  model = cd_fast.enet_coordinate_descent(\n",
      "/home/finn/miniconda3/envs/reed/lib/python3.9/site-packages/sklearn/linear_model/_coordinate_descent.py:645: ConvergenceWarning: Objective did not converge. You might want to increase the number of iterations, check the scale of the features or consider increasing regularisation. Duality gap: 7.745e+05, tolerance: 1.296e+05\n",
      "  model = cd_fast.enet_coordinate_descent(\n",
      "/home/finn/miniconda3/envs/reed/lib/python3.9/site-packages/sklearn/linear_model/_coordinate_descent.py:645: ConvergenceWarning: Objective did not converge. You might want to increase the number of iterations, check the scale of the features or consider increasing regularisation. Duality gap: 5.821e+07, tolerance: 1.614e+05\n",
      "  model = cd_fast.enet_coordinate_descent(\n",
      "/home/finn/miniconda3/envs/reed/lib/python3.9/site-packages/sklearn/linear_model/_coordinate_descent.py:645: ConvergenceWarning: Objective did not converge. You might want to increase the number of iterations, check the scale of the features or consider increasing regularisation. Duality gap: 3.551e+06, tolerance: 1.296e+05\n",
      "  model = cd_fast.enet_coordinate_descent(\n",
      "/home/finn/miniconda3/envs/reed/lib/python3.9/site-packages/sklearn/linear_model/_coordinate_descent.py:645: ConvergenceWarning: Objective did not converge. You might want to increase the number of iterations, check the scale of the features or consider increasing regularisation. Duality gap: 1.715e+07, tolerance: 1.614e+05\n",
      "  model = cd_fast.enet_coordinate_descent(\n",
      "/home/finn/miniconda3/envs/reed/lib/python3.9/site-packages/sklearn/linear_model/_coordinate_descent.py:645: ConvergenceWarning: Objective did not converge. You might want to increase the number of iterations, check the scale of the features or consider increasing regularisation. Duality gap: 7.126e+06, tolerance: 1.296e+05\n",
      "  model = cd_fast.enet_coordinate_descent(\n"
     ]
    },
    {
     "name": "stderr",
     "output_type": "stream",
     "text": [
      "/home/finn/miniconda3/envs/reed/lib/python3.9/site-packages/sklearn/linear_model/_coordinate_descent.py:645: ConvergenceWarning: Objective did not converge. You might want to increase the number of iterations, check the scale of the features or consider increasing regularisation. Duality gap: 1.248e+06, tolerance: 1.614e+05\n",
      "  model = cd_fast.enet_coordinate_descent(\n"
     ]
    },
    {
     "name": "stdout",
     "output_type": "stream",
     "text": [
      "Fitting 2 folds for each of 30 candidates, totalling 60 fits\n"
     ]
    },
    {
     "name": "stderr",
     "output_type": "stream",
     "text": [
      "/home/finn/miniconda3/envs/reed/lib/python3.9/site-packages/sklearn/linear_model/_coordinate_descent.py:645: ConvergenceWarning: Objective did not converge. You might want to increase the number of iterations, check the scale of the features or consider increasing regularisation. Duality gap: 2.066e+08, tolerance: 1.508e+05\n",
      "  model = cd_fast.enet_coordinate_descent(\n",
      "/home/finn/miniconda3/envs/reed/lib/python3.9/site-packages/sklearn/linear_model/_coordinate_descent.py:645: ConvergenceWarning: Objective did not converge. You might want to increase the number of iterations, check the scale of the features or consider increasing regularisation. Duality gap: 1.785e+08, tolerance: 1.508e+05\n",
      "  model = cd_fast.enet_coordinate_descent(\n",
      "/home/finn/miniconda3/envs/reed/lib/python3.9/site-packages/sklearn/linear_model/_coordinate_descent.py:645: ConvergenceWarning: Objective did not converge. You might want to increase the number of iterations, check the scale of the features or consider increasing regularisation. Duality gap: 6.739e+07, tolerance: 1.798e+05\n",
      "  model = cd_fast.enet_coordinate_descent(\n",
      "/home/finn/miniconda3/envs/reed/lib/python3.9/site-packages/sklearn/linear_model/_coordinate_descent.py:645: ConvergenceWarning: Objective did not converge. You might want to increase the number of iterations, check the scale of the features or consider increasing regularisation. Duality gap: 1.959e+08, tolerance: 1.798e+05\n",
      "  model = cd_fast.enet_coordinate_descent(\n",
      "/home/finn/miniconda3/envs/reed/lib/python3.9/site-packages/sklearn/linear_model/_coordinate_descent.py:645: ConvergenceWarning: Objective did not converge. You might want to increase the number of iterations, check the scale of the features or consider increasing regularisation. Duality gap: 1.968e+08, tolerance: 1.508e+05\n",
      "  model = cd_fast.enet_coordinate_descent(\n",
      "/home/finn/miniconda3/envs/reed/lib/python3.9/site-packages/sklearn/linear_model/_coordinate_descent.py:645: ConvergenceWarning: Objective did not converge. You might want to increase the number of iterations, check the scale of the features or consider increasing regularisation. Duality gap: 2.374e+08, tolerance: 1.798e+05\n",
      "  model = cd_fast.enet_coordinate_descent(\n",
      "/home/finn/miniconda3/envs/reed/lib/python3.9/site-packages/sklearn/linear_model/_coordinate_descent.py:645: ConvergenceWarning: Objective did not converge. You might want to increase the number of iterations, check the scale of the features or consider increasing regularisation. Duality gap: 2.124e+08, tolerance: 1.508e+05\n",
      "  model = cd_fast.enet_coordinate_descent(\n",
      "/home/finn/miniconda3/envs/reed/lib/python3.9/site-packages/sklearn/linear_model/_coordinate_descent.py:645: ConvergenceWarning: Objective did not converge. You might want to increase the number of iterations, check the scale of the features or consider increasing regularisation. Duality gap: 1.078e+08, tolerance: 1.508e+05\n",
      "  model = cd_fast.enet_coordinate_descent(\n",
      "/home/finn/miniconda3/envs/reed/lib/python3.9/site-packages/sklearn/linear_model/_coordinate_descent.py:645: ConvergenceWarning: Objective did not converge. You might want to increase the number of iterations, check the scale of the features or consider increasing regularisation. Duality gap: 1.378e+08, tolerance: 1.798e+05\n",
      "  model = cd_fast.enet_coordinate_descent(\n",
      "/home/finn/miniconda3/envs/reed/lib/python3.9/site-packages/sklearn/linear_model/_coordinate_descent.py:645: ConvergenceWarning: Objective did not converge. You might want to increase the number of iterations, check the scale of the features or consider increasing regularisation. Duality gap: 2.201e+08, tolerance: 1.798e+05\n",
      "  model = cd_fast.enet_coordinate_descent(\n",
      "/home/finn/miniconda3/envs/reed/lib/python3.9/site-packages/sklearn/linear_model/_coordinate_descent.py:645: ConvergenceWarning: Objective did not converge. You might want to increase the number of iterations, check the scale of the features or consider increasing regularisation. Duality gap: 1.679e+08, tolerance: 1.798e+05\n",
      "  model = cd_fast.enet_coordinate_descent(\n",
      "/home/finn/miniconda3/envs/reed/lib/python3.9/site-packages/sklearn/linear_model/_coordinate_descent.py:645: ConvergenceWarning: Objective did not converge. You might want to increase the number of iterations, check the scale of the features or consider increasing regularisation. Duality gap: 1.477e+08, tolerance: 1.508e+05\n",
      "  model = cd_fast.enet_coordinate_descent(\n",
      "/home/finn/miniconda3/envs/reed/lib/python3.9/site-packages/sklearn/linear_model/_coordinate_descent.py:645: ConvergenceWarning: Objective did not converge. You might want to increase the number of iterations, check the scale of the features or consider increasing regularisation. Duality gap: 2.542e+07, tolerance: 1.798e+05\n",
      "  model = cd_fast.enet_coordinate_descent(\n",
      "/home/finn/miniconda3/envs/reed/lib/python3.9/site-packages/sklearn/linear_model/_coordinate_descent.py:645: ConvergenceWarning: Objective did not converge. You might want to increase the number of iterations, check the scale of the features or consider increasing regularisation. Duality gap: 4.752e+07, tolerance: 1.508e+05\n",
      "  model = cd_fast.enet_coordinate_descent(\n",
      "/home/finn/miniconda3/envs/reed/lib/python3.9/site-packages/sklearn/linear_model/_coordinate_descent.py:645: ConvergenceWarning: Objective did not converge. You might want to increase the number of iterations, check the scale of the features or consider increasing regularisation. Duality gap: 2.775e+06, tolerance: 1.798e+05\n",
      "  model = cd_fast.enet_coordinate_descent(\n",
      "/home/finn/miniconda3/envs/reed/lib/python3.9/site-packages/sklearn/linear_model/_coordinate_descent.py:645: ConvergenceWarning: Objective did not converge. You might want to increase the number of iterations, check the scale of the features or consider increasing regularisation. Duality gap: 1.063e+07, tolerance: 1.798e+05\n",
      "  model = cd_fast.enet_coordinate_descent(\n",
      "/home/finn/miniconda3/envs/reed/lib/python3.9/site-packages/sklearn/linear_model/_coordinate_descent.py:645: ConvergenceWarning: Objective did not converge. You might want to increase the number of iterations, check the scale of the features or consider increasing regularisation. Duality gap: 1.766e+07, tolerance: 1.508e+05\n",
      "  model = cd_fast.enet_coordinate_descent(\n",
      "/home/finn/miniconda3/envs/reed/lib/python3.9/site-packages/sklearn/linear_model/_coordinate_descent.py:645: ConvergenceWarning: Objective did not converge. You might want to increase the number of iterations, check the scale of the features or consider increasing regularisation. Duality gap: 3.200e+06, tolerance: 1.798e+05\n",
      "  model = cd_fast.enet_coordinate_descent(\n",
      "/home/finn/miniconda3/envs/reed/lib/python3.9/site-packages/sklearn/linear_model/_coordinate_descent.py:645: ConvergenceWarning: Objective did not converge. You might want to increase the number of iterations, check the scale of the features or consider increasing regularisation. Duality gap: 2.637e+06, tolerance: 1.508e+05\n",
      "  model = cd_fast.enet_coordinate_descent(\n",
      "/home/finn/miniconda3/envs/reed/lib/python3.9/site-packages/sklearn/linear_model/_coordinate_descent.py:645: ConvergenceWarning: Objective did not converge. You might want to increase the number of iterations, check the scale of the features or consider increasing regularisation. Duality gap: 9.236e+05, tolerance: 1.508e+05\n",
      "  model = cd_fast.enet_coordinate_descent(\n",
      "/home/finn/miniconda3/envs/reed/lib/python3.9/site-packages/sklearn/linear_model/_coordinate_descent.py:645: ConvergenceWarning: Objective did not converge. You might want to increase the number of iterations, check the scale of the features or consider increasing regularisation. Duality gap: 4.524e+05, tolerance: 1.508e+05\n",
      "  model = cd_fast.enet_coordinate_descent(\n"
     ]
    },
    {
     "name": "stdout",
     "output_type": "stream",
     "text": [
      "Fitting 2 folds for each of 30 candidates, totalling 60 fits\n"
     ]
    },
    {
     "name": "stderr",
     "output_type": "stream",
     "text": [
      "/home/finn/miniconda3/envs/reed/lib/python3.9/site-packages/sklearn/linear_model/_coordinate_descent.py:645: ConvergenceWarning: Objective did not converge. You might want to increase the number of iterations, check the scale of the features or consider increasing regularisation. Duality gap: 1.061e+06, tolerance: 6.483e+04\n",
      "  model = cd_fast.enet_coordinate_descent(\n",
      "/home/finn/miniconda3/envs/reed/lib/python3.9/site-packages/sklearn/linear_model/_coordinate_descent.py:645: ConvergenceWarning: Objective did not converge. You might want to increase the number of iterations, check the scale of the features or consider increasing regularisation. Duality gap: 1.291e+06, tolerance: 8.159e+04\n",
      "  model = cd_fast.enet_coordinate_descent(\n",
      "/home/finn/miniconda3/envs/reed/lib/python3.9/site-packages/sklearn/linear_model/_coordinate_descent.py:645: ConvergenceWarning: Objective did not converge. You might want to increase the number of iterations, check the scale of the features or consider increasing regularisation. Duality gap: 2.153e+05, tolerance: 6.483e+04\n",
      "  model = cd_fast.enet_coordinate_descent(\n",
      "/home/finn/miniconda3/envs/reed/lib/python3.9/site-packages/sklearn/linear_model/_coordinate_descent.py:645: ConvergenceWarning: Objective did not converge. You might want to increase the number of iterations, check the scale of the features or consider increasing regularisation. Duality gap: 3.126e+05, tolerance: 6.483e+04\n",
      "  model = cd_fast.enet_coordinate_descent(\n",
      "/home/finn/miniconda3/envs/reed/lib/python3.9/site-packages/sklearn/linear_model/_coordinate_descent.py:645: ConvergenceWarning: Objective did not converge. You might want to increase the number of iterations, check the scale of the features or consider increasing regularisation. Duality gap: 4.174e+05, tolerance: 8.159e+04\n",
      "  model = cd_fast.enet_coordinate_descent(\n",
      "/home/finn/miniconda3/envs/reed/lib/python3.9/site-packages/sklearn/linear_model/_coordinate_descent.py:645: ConvergenceWarning: Objective did not converge. You might want to increase the number of iterations, check the scale of the features or consider increasing regularisation. Duality gap: 2.563e+05, tolerance: 8.159e+04\n",
      "  model = cd_fast.enet_coordinate_descent(\n",
      "/home/finn/miniconda3/envs/reed/lib/python3.9/site-packages/sklearn/linear_model/_coordinate_descent.py:645: ConvergenceWarning: Objective did not converge. You might want to increase the number of iterations, check the scale of the features or consider increasing regularisation. Duality gap: 6.140e+05, tolerance: 6.483e+04\n",
      "  model = cd_fast.enet_coordinate_descent(\n",
      "/home/finn/miniconda3/envs/reed/lib/python3.9/site-packages/sklearn/linear_model/_coordinate_descent.py:645: ConvergenceWarning: Objective did not converge. You might want to increase the number of iterations, check the scale of the features or consider increasing regularisation. Duality gap: 5.932e+05, tolerance: 8.159e+04\n",
      "  model = cd_fast.enet_coordinate_descent(\n",
      "/home/finn/miniconda3/envs/reed/lib/python3.9/site-packages/sklearn/linear_model/_coordinate_descent.py:645: ConvergenceWarning: Objective did not converge. You might want to increase the number of iterations, check the scale of the features or consider increasing regularisation. Duality gap: 9.173e+05, tolerance: 6.483e+04\n",
      "  model = cd_fast.enet_coordinate_descent(\n",
      "/home/finn/miniconda3/envs/reed/lib/python3.9/site-packages/sklearn/linear_model/_coordinate_descent.py:645: ConvergenceWarning: Objective did not converge. You might want to increase the number of iterations, check the scale of the features or consider increasing regularisation. Duality gap: 1.659e+06, tolerance: 8.159e+04\n",
      "  model = cd_fast.enet_coordinate_descent(\n",
      "/home/finn/miniconda3/envs/reed/lib/python3.9/site-packages/sklearn/linear_model/_coordinate_descent.py:645: ConvergenceWarning: Objective did not converge. You might want to increase the number of iterations, check the scale of the features or consider increasing regularisation. Duality gap: 8.720e+05, tolerance: 8.159e+04\n",
      "  model = cd_fast.enet_coordinate_descent(\n",
      "/home/finn/miniconda3/envs/reed/lib/python3.9/site-packages/sklearn/linear_model/_coordinate_descent.py:645: ConvergenceWarning: Objective did not converge. You might want to increase the number of iterations, check the scale of the features or consider increasing regularisation. Duality gap: 4.343e+05, tolerance: 6.483e+04\n",
      "  model = cd_fast.enet_coordinate_descent(\n",
      "/home/finn/miniconda3/envs/reed/lib/python3.9/site-packages/sklearn/linear_model/_coordinate_descent.py:645: ConvergenceWarning: Objective did not converge. You might want to increase the number of iterations, check the scale of the features or consider increasing regularisation. Duality gap: 1.404e+06, tolerance: 6.483e+04\n",
      "  model = cd_fast.enet_coordinate_descent(\n",
      "/home/finn/miniconda3/envs/reed/lib/python3.9/site-packages/sklearn/linear_model/_coordinate_descent.py:645: ConvergenceWarning: Objective did not converge. You might want to increase the number of iterations, check the scale of the features or consider increasing regularisation. Duality gap: 1.517e+06, tolerance: 6.483e+04\n",
      "  model = cd_fast.enet_coordinate_descent(\n",
      "/home/finn/miniconda3/envs/reed/lib/python3.9/site-packages/sklearn/linear_model/_coordinate_descent.py:645: ConvergenceWarning: Objective did not converge. You might want to increase the number of iterations, check the scale of the features or consider increasing regularisation. Duality gap: 2.432e+06, tolerance: 8.159e+04\n",
      "  model = cd_fast.enet_coordinate_descent(\n",
      "/home/finn/miniconda3/envs/reed/lib/python3.9/site-packages/sklearn/linear_model/_coordinate_descent.py:645: ConvergenceWarning: Objective did not converge. You might want to increase the number of iterations, check the scale of the features or consider increasing regularisation. Duality gap: 2.053e+06, tolerance: 8.159e+04\n",
      "  model = cd_fast.enet_coordinate_descent(\n",
      "/home/finn/miniconda3/envs/reed/lib/python3.9/site-packages/sklearn/linear_model/_coordinate_descent.py:645: ConvergenceWarning: Objective did not converge. You might want to increase the number of iterations, check the scale of the features or consider increasing regularisation. Duality gap: 2.332e+06, tolerance: 8.159e+04\n",
      "  model = cd_fast.enet_coordinate_descent(\n",
      "/home/finn/miniconda3/envs/reed/lib/python3.9/site-packages/sklearn/linear_model/_coordinate_descent.py:645: ConvergenceWarning: Objective did not converge. You might want to increase the number of iterations, check the scale of the features or consider increasing regularisation. Duality gap: 1.082e+05, tolerance: 6.483e+04\n",
      "  model = cd_fast.enet_coordinate_descent(\n",
      "/home/finn/miniconda3/envs/reed/lib/python3.9/site-packages/sklearn/linear_model/_coordinate_descent.py:645: ConvergenceWarning: Objective did not converge. You might want to increase the number of iterations, check the scale of the features or consider increasing regularisation. Duality gap: 1.231e+06, tolerance: 6.483e+04\n",
      "  model = cd_fast.enet_coordinate_descent(\n",
      "/home/finn/miniconda3/envs/reed/lib/python3.9/site-packages/sklearn/linear_model/_coordinate_descent.py:645: ConvergenceWarning: Objective did not converge. You might want to increase the number of iterations, check the scale of the features or consider increasing regularisation. Duality gap: 2.604e+06, tolerance: 8.159e+04\n",
      "  model = cd_fast.enet_coordinate_descent(\n",
      "/home/finn/miniconda3/envs/reed/lib/python3.9/site-packages/sklearn/linear_model/_coordinate_descent.py:645: ConvergenceWarning: Objective did not converge. You might want to increase the number of iterations, check the scale of the features or consider increasing regularisation. Duality gap: 6.029e+05, tolerance: 6.483e+04\n",
      "  model = cd_fast.enet_coordinate_descent(\n",
      "/home/finn/miniconda3/envs/reed/lib/python3.9/site-packages/sklearn/linear_model/_coordinate_descent.py:645: ConvergenceWarning: Objective did not converge. You might want to increase the number of iterations, check the scale of the features or consider increasing regularisation. Duality gap: 1.595e+06, tolerance: 8.159e+04\n",
      "  model = cd_fast.enet_coordinate_descent(\n",
      "/home/finn/miniconda3/envs/reed/lib/python3.9/site-packages/sklearn/linear_model/_coordinate_descent.py:645: ConvergenceWarning: Objective did not converge. You might want to increase the number of iterations, check the scale of the features or consider increasing regularisation. Duality gap: 1.552e+05, tolerance: 8.159e+04\n",
      "  model = cd_fast.enet_coordinate_descent(\n",
      "/home/finn/miniconda3/envs/reed/lib/python3.9/site-packages/sklearn/linear_model/_coordinate_descent.py:645: ConvergenceWarning: Objective did not converge. You might want to increase the number of iterations, check the scale of the features or consider increasing regularisation. Duality gap: 7.420e+04, tolerance: 6.483e+04\n",
      "  model = cd_fast.enet_coordinate_descent(\n",
      "/home/finn/miniconda3/envs/reed/lib/python3.9/site-packages/sklearn/linear_model/_coordinate_descent.py:645: ConvergenceWarning: Objective did not converge. You might want to increase the number of iterations, check the scale of the features or consider increasing regularisation. Duality gap: 1.330e+05, tolerance: 8.159e+04\n",
      "  model = cd_fast.enet_coordinate_descent(\n"
     ]
    },
    {
     "name": "stdout",
     "output_type": "stream",
     "text": [
      "Fitting 2 folds for each of 30 candidates, totalling 60 fits\n"
     ]
    },
    {
     "name": "stderr",
     "output_type": "stream",
     "text": [
      "/home/finn/miniconda3/envs/reed/lib/python3.9/site-packages/sklearn/linear_model/_coordinate_descent.py:645: ConvergenceWarning: Objective did not converge. You might want to increase the number of iterations, check the scale of the features or consider increasing regularisation. Duality gap: 1.346e+06, tolerance: 5.484e+04\n",
      "  model = cd_fast.enet_coordinate_descent(\n",
      "/home/finn/miniconda3/envs/reed/lib/python3.9/site-packages/sklearn/linear_model/_coordinate_descent.py:645: ConvergenceWarning: Objective did not converge. You might want to increase the number of iterations, check the scale of the features or consider increasing regularisation. Duality gap: 5.321e+05, tolerance: 5.484e+04\n",
      "  model = cd_fast.enet_coordinate_descent(\n",
      "/home/finn/miniconda3/envs/reed/lib/python3.9/site-packages/sklearn/linear_model/_coordinate_descent.py:645: ConvergenceWarning: Objective did not converge. You might want to increase the number of iterations, check the scale of the features or consider increasing regularisation. Duality gap: 3.350e+05, tolerance: 7.508e+04\n",
      "  model = cd_fast.enet_coordinate_descent(\n",
      "/home/finn/miniconda3/envs/reed/lib/python3.9/site-packages/sklearn/linear_model/_coordinate_descent.py:645: ConvergenceWarning: Objective did not converge. You might want to increase the number of iterations, check the scale of the features or consider increasing regularisation. Duality gap: 1.074e+06, tolerance: 5.484e+04\n",
      "  model = cd_fast.enet_coordinate_descent(\n",
      "/home/finn/miniconda3/envs/reed/lib/python3.9/site-packages/sklearn/linear_model/_coordinate_descent.py:645: ConvergenceWarning: Objective did not converge. You might want to increase the number of iterations, check the scale of the features or consider increasing regularisation. Duality gap: 8.562e+05, tolerance: 5.484e+04\n",
      "  model = cd_fast.enet_coordinate_descent(\n",
      "/home/finn/miniconda3/envs/reed/lib/python3.9/site-packages/sklearn/linear_model/_coordinate_descent.py:645: ConvergenceWarning: Objective did not converge. You might want to increase the number of iterations, check the scale of the features or consider increasing regularisation. Duality gap: 1.896e+06, tolerance: 7.508e+04\n",
      "  model = cd_fast.enet_coordinate_descent(\n",
      "/home/finn/miniconda3/envs/reed/lib/python3.9/site-packages/sklearn/linear_model/_coordinate_descent.py:645: ConvergenceWarning: Objective did not converge. You might want to increase the number of iterations, check the scale of the features or consider increasing regularisation. Duality gap: 1.354e+06, tolerance: 7.508e+04\n",
      "  model = cd_fast.enet_coordinate_descent(\n",
      "/home/finn/miniconda3/envs/reed/lib/python3.9/site-packages/sklearn/linear_model/_coordinate_descent.py:645: ConvergenceWarning: Objective did not converge. You might want to increase the number of iterations, check the scale of the features or consider increasing regularisation. Duality gap: 3.624e+05, tolerance: 5.484e+04\n",
      "  model = cd_fast.enet_coordinate_descent(\n",
      "/home/finn/miniconda3/envs/reed/lib/python3.9/site-packages/sklearn/linear_model/_coordinate_descent.py:645: ConvergenceWarning: Objective did not converge. You might want to increase the number of iterations, check the scale of the features or consider increasing regularisation. Duality gap: 2.260e+05, tolerance: 5.484e+04\n",
      "  model = cd_fast.enet_coordinate_descent(\n",
      "/home/finn/miniconda3/envs/reed/lib/python3.9/site-packages/sklearn/linear_model/_coordinate_descent.py:645: ConvergenceWarning: Objective did not converge. You might want to increase the number of iterations, check the scale of the features or consider increasing regularisation. Duality gap: 7.411e+05, tolerance: 7.508e+04\n",
      "  model = cd_fast.enet_coordinate_descent(\n",
      "/home/finn/miniconda3/envs/reed/lib/python3.9/site-packages/sklearn/linear_model/_coordinate_descent.py:645: ConvergenceWarning: Objective did not converge. You might want to increase the number of iterations, check the scale of the features or consider increasing regularisation. Duality gap: 5.039e+05, tolerance: 7.508e+04\n",
      "  model = cd_fast.enet_coordinate_descent(\n",
      "/home/finn/miniconda3/envs/reed/lib/python3.9/site-packages/sklearn/linear_model/_coordinate_descent.py:645: ConvergenceWarning: Objective did not converge. You might want to increase the number of iterations, check the scale of the features or consider increasing regularisation. Duality gap: 9.832e+05, tolerance: 7.508e+04\n",
      "  model = cd_fast.enet_coordinate_descent(\n",
      "/home/finn/miniconda3/envs/reed/lib/python3.9/site-packages/sklearn/linear_model/_coordinate_descent.py:645: ConvergenceWarning: Objective did not converge. You might want to increase the number of iterations, check the scale of the features or consider increasing regularisation. Duality gap: 2.041e+06, tolerance: 5.484e+04\n",
      "  model = cd_fast.enet_coordinate_descent(\n",
      "/home/finn/miniconda3/envs/reed/lib/python3.9/site-packages/sklearn/linear_model/_coordinate_descent.py:645: ConvergenceWarning: Objective did not converge. You might want to increase the number of iterations, check the scale of the features or consider increasing regularisation. Duality gap: 2.642e+06, tolerance: 7.508e+04\n",
      "  model = cd_fast.enet_coordinate_descent(\n",
      "/home/finn/miniconda3/envs/reed/lib/python3.9/site-packages/sklearn/linear_model/_coordinate_descent.py:645: ConvergenceWarning: Objective did not converge. You might want to increase the number of iterations, check the scale of the features or consider increasing regularisation. Duality gap: 2.267e+06, tolerance: 5.484e+04\n",
      "  model = cd_fast.enet_coordinate_descent(\n",
      "/home/finn/miniconda3/envs/reed/lib/python3.9/site-packages/sklearn/linear_model/_coordinate_descent.py:645: ConvergenceWarning: Objective did not converge. You might want to increase the number of iterations, check the scale of the features or consider increasing regularisation. Duality gap: 2.819e+06, tolerance: 7.508e+04\n",
      "  model = cd_fast.enet_coordinate_descent(\n",
      "/home/finn/miniconda3/envs/reed/lib/python3.9/site-packages/sklearn/linear_model/_coordinate_descent.py:645: ConvergenceWarning: Objective did not converge. You might want to increase the number of iterations, check the scale of the features or consider increasing regularisation. Duality gap: 3.394e+06, tolerance: 7.508e+04\n",
      "  model = cd_fast.enet_coordinate_descent(\n",
      "/home/finn/miniconda3/envs/reed/lib/python3.9/site-packages/sklearn/linear_model/_coordinate_descent.py:645: ConvergenceWarning: Objective did not converge. You might want to increase the number of iterations, check the scale of the features or consider increasing regularisation. Duality gap: 2.341e+06, tolerance: 7.508e+04\n",
      "  model = cd_fast.enet_coordinate_descent(\n",
      "/home/finn/miniconda3/envs/reed/lib/python3.9/site-packages/sklearn/linear_model/_coordinate_descent.py:645: ConvergenceWarning: Objective did not converge. You might want to increase the number of iterations, check the scale of the features or consider increasing regularisation. Duality gap: 1.779e+06, tolerance: 5.484e+04\n",
      "  model = cd_fast.enet_coordinate_descent(\n",
      "/home/finn/miniconda3/envs/reed/lib/python3.9/site-packages/sklearn/linear_model/_coordinate_descent.py:645: ConvergenceWarning: Objective did not converge. You might want to increase the number of iterations, check the scale of the features or consider increasing regularisation. Duality gap: 1.830e+06, tolerance: 7.508e+04\n",
      "  model = cd_fast.enet_coordinate_descent(\n",
      "/home/finn/miniconda3/envs/reed/lib/python3.9/site-packages/sklearn/linear_model/_coordinate_descent.py:645: ConvergenceWarning: Objective did not converge. You might want to increase the number of iterations, check the scale of the features or consider increasing regularisation. Duality gap: 2.254e+06, tolerance: 5.484e+04\n",
      "  model = cd_fast.enet_coordinate_descent(\n",
      "/home/finn/miniconda3/envs/reed/lib/python3.9/site-packages/sklearn/linear_model/_coordinate_descent.py:645: ConvergenceWarning: Objective did not converge. You might want to increase the number of iterations, check the scale of the features or consider increasing regularisation. Duality gap: 5.068e+05, tolerance: 5.484e+04\n",
      "  model = cd_fast.enet_coordinate_descent(\n",
      "/home/finn/miniconda3/envs/reed/lib/python3.9/site-packages/sklearn/linear_model/_coordinate_descent.py:645: ConvergenceWarning: Objective did not converge. You might want to increase the number of iterations, check the scale of the features or consider increasing regularisation. Duality gap: 3.048e+05, tolerance: 5.484e+04\n",
      "  model = cd_fast.enet_coordinate_descent(\n"
     ]
    },
    {
     "name": "stdout",
     "output_type": "stream",
     "text": [
      "Done\n",
      "Fitting gbr ...Fitting 2 folds for each of 500 candidates, totalling 1000 fits\n",
      "Fitting 2 folds for each of 500 candidates, totalling 1000 fits\n",
      "Fitting 2 folds for each of 500 candidates, totalling 1000 fits\n",
      "Fitting 2 folds for each of 500 candidates, totalling 1000 fits\n",
      "Done\n",
      "Total time:154.19736099243164 seconds\n",
      "Caching results to: data/bootstrap-all_tmp.pkl\n"
     ]
    }
   ],
   "source": [
    "from direct_regression import bootstrapped_cross_val\n",
    "def extract_params(estimator):\n",
    "    return estimator.coef_\n",
    "\n",
    "bootstrap_results = bootstrapped_cross_val(\n",
    "    construct_models,\n",
    "    bootstrap_cache,\n",
    "    X0, X1, y0, y1,\n",
    "    optimisation_metric,\n",
    "    extract_params,\n",
    "    inner_cv=5,\n",
    "    load_from_cache=False,\n",
    "    samples=50\n",
    ")"
   ]
  },
  {
   "cell_type": "markdown",
   "id": "30",
   "metadata": {},
   "source": [
    "####  Average treatment effects"
   ]
  },
  {
   "cell_type": "code",
   "execution_count": 17,
   "id": "31",
   "metadata": {},
   "outputs": [
    {
     "data": {
      "text/html": [
       "<div>\n",
       "<style scoped>\n",
       "    .dataframe tbody tr th:only-of-type {\n",
       "        vertical-align: middle;\n",
       "    }\n",
       "\n",
       "    .dataframe tbody tr th {\n",
       "        vertical-align: top;\n",
       "    }\n",
       "\n",
       "    .dataframe thead th {\n",
       "        text-align: right;\n",
       "    }\n",
       "</style>\n",
       "<table border=\"1\" class=\"dataframe\">\n",
       "  <thead>\n",
       "    <tr style=\"text-align: right;\">\n",
       "      <th></th>\n",
       "      <th>ACE</th>\n",
       "      <th>ACE_std</th>\n",
       "    </tr>\n",
       "  </thead>\n",
       "  <tbody>\n",
       "    <tr>\n",
       "      <th>ridge</th>\n",
       "      <td>67.636699</td>\n",
       "      <td>34.002646</td>\n",
       "    </tr>\n",
       "    <tr>\n",
       "      <th>lasso</th>\n",
       "      <td>75.199207</td>\n",
       "      <td>37.067739</td>\n",
       "    </tr>\n",
       "    <tr>\n",
       "      <th>gbr</th>\n",
       "      <td>17.558958</td>\n",
       "      <td>37.937182</td>\n",
       "    </tr>\n",
       "  </tbody>\n",
       "</table>\n",
       "</div>"
      ],
      "text/plain": [
       "             ACE    ACE_std\n",
       "ridge  67.636699  34.002646\n",
       "lasso  75.199207  37.067739\n",
       "gbr    17.558958  37.937182"
      ]
     },
     "execution_count": 17,
     "metadata": {},
     "output_type": "execute_result"
    }
   ],
   "source": [
    "from direct_regression import compute_ate\n",
    "compute_ate(bootstrap_results,X)"
   ]
  },
  {
   "cell_type": "markdown",
   "id": "32",
   "metadata": {},
   "source": [
    "#### Distribution of hyper-parameters"
   ]
  },
  {
   "cell_type": "code",
   "execution_count": 18,
   "id": "33",
   "metadata": {
    "tags": [
     "hide_input"
    ]
   },
   "outputs": [
    {
     "data": {
      "image/png": "[encoded data removed]",
      "text/plain": [
       "<Figure size 360x288 with 1 Axes>"
      ]
     },
     "metadata": {
      "needs_background": "light"
     },
     "output_type": "display_data"
    },
    {
     "data": {
      "image/png": "[encoded data removed]",
      "text/plain": [
       "<Figure size 360x288 with 1 Axes>"
      ]
     },
     "metadata": {
      "needs_background": "light"
     },
     "output_type": "display_data"
    },
    {
     "data": {
      "image/png": "[encoded data removed]",
      "text/plain": [
       "<Figure size 360x288 with 1 Axes>"
      ]
     },
     "metadata": {
      "needs_background": "light"
     },
     "output_type": "display_data"
    },
    {
     "data": {
      "image/png": "[encoded data removed]",
      "text/plain": [
       "<Figure size 360x288 with 1 Axes>"
      ]
     },
     "metadata": {
      "needs_background": "light"
     },
     "output_type": "display_data"
    },
    {
     "data": {
      "image/png": "[encoded data removed]",
      "text/plain": [
       "<Figure size 1080x288 with 3 Axes>"
      ]
     },
     "metadata": {
      "needs_background": "light"
     },
     "output_type": "display_data"
    },
    {
     "data": {
      "image/png": "[encoded data removed]",
      "text/plain": [
       "<Figure size 1080x288 with 3 Axes>"
      ]
     },
     "metadata": {
      "needs_background": "light"
     },
     "output_type": "display_data"
    }
   ],
   "source": [
    "from direct_regression import plot_hyperparam_distributions\n",
    "for model, (results0, results1) in bootstrap_results.items():\n",
    "    plot_hyperparam_distributions(results0,f\"{model}-control\")\n",
    "    plot_hyperparam_distributions(results1,f\"{model}-treated\")"
   ]
  }
 ],
 "metadata": {
  "celltoolbar": "Tags",
  "kernelspec": {
   "display_name": "Python 3 (ipykernel)",
   "language": "python",
   "name": "python3"
  },
  "language_info": {
   "codemirror_mode": {
    "name": "ipython",
    "version": 3
   },
   "file_extension": ".py",
   "mimetype": "text/x-python",
   "name": "python",
   "nbconvert_exporter": "python",
   "pygments_lexer": "ipython3",
   "version": "3.9.7"
  }
 },
 "nbformat": 4,
 "nbformat_minor": 5
}
