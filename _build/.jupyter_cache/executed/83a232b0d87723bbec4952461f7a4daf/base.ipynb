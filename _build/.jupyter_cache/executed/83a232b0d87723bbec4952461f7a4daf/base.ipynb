{
 "cells": [
  {
   "cell_type": "code",
   "execution_count": 1,
   "id": "1",
   "metadata": {
    "tags": [
     "hide_cell"
    ]
   },
   "outputs": [
    {
     "data": {
      "text/plain": [
       "'0.24.2'"
      ]
     },
     "execution_count": 1,
     "metadata": {},
     "output_type": "execute_result"
    }
   ],
   "source": [
    "# import libraries\n",
    "import numpy as np\n",
    "import pandas as pd\n",
    "import matplotlib.pyplot as plt\n",
    "import pyreadstat\n",
    "import re\n",
    "import string\n",
    "import sklearn\n",
    "from sklearn_pandas import DataFrameMapper\n",
    "from sklearn.linear_model import LinearRegression, Lasso, Ridge\n",
    "from sklearn.ensemble import GradientBoostingRegressor\n",
    "from sklearn.svm import SVR\n",
    "from skopt import BayesSearchCV\n",
    "from tqdm import tqdm_notebook as tqdm\n",
    "from reed import *\n",
    "from cinspect import dependence, importance\n",
    "from sklearn.model_selection import cross_val_score, cross_validate\n",
    "import pickle\n",
    "import time\n",
    "\n",
    "# set global notebook options\n",
    "pd.options.display.max_columns = 200\n",
    "pd.options.display.max_rows = 500\n",
    "%matplotlib inline\n",
    "\n",
    "%load_ext autoreload\n",
    "%autoreload 2\n",
    "\n",
    "sklearn.__version__"
   ]
  },
  {
   "cell_type": "code",
   "execution_count": 2,
   "id": "5",
   "metadata": {},
   "outputs": [],
   "source": [
    "outcome = 'y_Dwsce'#'y_wsce'\n",
    "treatment = 'redufl'\n",
    "optimisation_metric = 'neg_mean_squared_error'\n",
    "evaluation_metrics = ('r2','neg_mean_squared_error')\n",
    "log_outcome=False\n",
    "cross_val_cache = \"data/cross-val-all.pkl\"\n",
    "bootstrap_cache = \"data/bootstrap-all.pkl\""
   ]
  },
  {
   "cell_type": "code",
   "execution_count": 3,
   "id": "7",
   "metadata": {
    "tags": [
     "hide_input"
    ]
   },
   "outputs": [
    {
     "name": "stdout",
     "output_type": "stream",
     "text": [
      "Dropped 592 rows missing treatment or outcome.\n"
     ]
    }
   ],
   "source": [
    "data = pd.read_csv(\"all_vars.csv\",index_col='xwaveid')\n",
    "drop_missing_treatment_or_outcome(data, treatment, outcome)\n",
    "if log_outcome:\n",
    "    data[outcome] = np.log(data[outcome]+data[outcome].min())"
   ]
  },
  {
   "cell_type": "code",
   "execution_count": 4,
   "id": "9",
   "metadata": {
    "tags": [
     "hide_input"
    ]
   },
   "outputs": [],
   "source": [
    "from sklearn.linear_model import Lasso, Ridge\n",
    "from sklearn.ensemble import GradientBoostingRegressor\n",
    "\n",
    "def construct_models():\n",
    "    models = [\n",
    "        Model('ridge',Ridge(), \n",
    "              parameters = {\n",
    "                  'alpha':np.logspace(-1,4,30)\n",
    "              }\n",
    "        ),\n",
    "        Model('lasso',Lasso(),\n",
    "              parameters = {\n",
    "                  'alpha':np.logspace(-2,4,30)\n",
    "              }\n",
    "        ), \n",
    "        Model('gbr',GradientBoostingRegressor(n_iter_no_change=20, max_depth=2),\n",
    "              parameters = {\n",
    "                'max_features':[10,20,40,60,80],\n",
    "                'learning_rate':np.logspace(-3,0,10),\n",
    "                'min_samples_leaf':np.logspace(0,3,10).astype(int)\n",
    "              }\n",
    "        ),\n",
    "    ]\n",
    "    return models"
   ]
  },
  {
   "cell_type": "code",
   "execution_count": 5,
   "id": "11",
   "metadata": {
    "tags": [
     "hide_input"
    ]
   },
   "outputs": [],
   "source": [
    "# %load -s exclude_vars,seperate_and_transform_data direct_regression.py\n",
    "def exclude_vars():\n",
    "    \"\"\"Return a list of variables that should not be included as features.\"\"\"\n",
    "    treatments = ['^reduhl$', '^rehllt$', '^redudl$', '^redufl$', '^redllt$', '^refllt$']\n",
    "    outcomes = ['^rlwage$', '^mh$', '^mhbm$', '^wkhr$', '^y_']\n",
    "    other = [\n",
    "        '^p_rcom',\n",
    "        '^p_rdf',\n",
    "        '^p_cotrl',\n",
    "        '^xwaveid$',\n",
    "        'p_rcom18'  # ?\n",
    "        '^aedcq',  # indicate studying at start - these people should already have been removed\n",
    "        '^abnfsty',\n",
    "        '^aedcqfpt',\n",
    "        '^aedqstdy'\n",
    "    ]\n",
    "    exclude = treatments + outcomes + other\n",
    "    return exclude\n",
    "\n",
    "def seperate_and_transform_data(data, treatment, outcome):\n",
    "\n",
    "    transform = Pipeline([\n",
    "        ('impute_missing', SimpleImputer()),\n",
    "        ('scale', StandardScaler()),\n",
    "    ])\n",
    "\n",
    "    exclude = exclude_vars()\n",
    "\n",
    "    control, treated = treatment_control_split(data, treatment)\n",
    "    features = regex_select(data.columns, exclude, exclude=True)\n",
    "    X0, y0 = split_and_transform(control, features, outcome, transform)\n",
    "    X1, y1 = split_and_transform(treated, features, outcome, transform)\n",
    "\n",
    "    # construct the full dataset (remove ordering by treatment in case of any order dependance in fit)\n",
    "    X = np.vstack((X0, X1))\n",
    "    y = np.concatenate((y0, y1))\n",
    "    indx = np.arange(len(y))\n",
    "    np.random.shuffle(indx)\n",
    "    X = X[indx, :]\n",
    "    y = y[indx]\n",
    "\n",
    "    return X0, X1, y0, y1, X, y, features\n"
   ]
  },
  {
   "cell_type": "code",
   "execution_count": 6,
   "id": "12",
   "metadata": {
    "tags": [
     "hide_input"
    ]
   },
   "outputs": [
    {
     "name": "stdout",
     "output_type": "stream",
     "text": [
      "Treated:773, Control:4181\n",
      "Number of features: 638\n"
     ]
    }
   ],
   "source": [
    "X0, X1, y0, y1, X, y, features = seperate_and_transform_data(data, treatment, outcome)\n",
    "print(\"Number of features:\",len(features))"
   ]
  },
  {
   "cell_type": "code",
   "execution_count": 7,
   "id": "14",
   "metadata": {
    "tags": [
     "hide_input"
    ]
   },
   "outputs": [],
   "source": [
    "# %load -s print_unconditional_effects direct_regression.py\n",
    "def print_unconditional_effects(data, treatment, y0, y1):\n",
    "    print(f\"Proportion Treated:{100*data[treatment].mean():.0f}%\")\n",
    "    print(f\"Average outcome under Control:{y0.mean():.2f}±{y0.std()/np.sqrt(len(y0)):.2f}\")\n",
    "    print(f\"Average outcome under Treatment:{y1.mean():.2f}±{y1.std()/np.sqrt(len(y1)):.2f}\")\n",
    "    print(f\"Unadjusted treatment estimate {y1.mean() - y0.mean():.2f}\")\n"
   ]
  },
  {
   "cell_type": "code",
   "execution_count": 8,
   "id": "15",
   "metadata": {
    "tags": [
     "hide_input"
    ]
   },
   "outputs": [
    {
     "name": "stdout",
     "output_type": "stream",
     "text": [
      "Proportion Treated:16%\n",
      "Average outcome under Control:76.98±14.61\n",
      "Average outcome under Treatment:425.08±37.85\n",
      "Unadjusted treatment estimate 348.10\n"
     ]
    }
   ],
   "source": [
    "print_unconditional_effects(data, treatment, y0, y1)"
   ]
  },
  {
   "cell_type": "code",
   "execution_count": 9,
   "id": "17",
   "metadata": {
    "tags": [
     "hide_input"
    ]
   },
   "outputs": [],
   "source": [
    "# %load -s nested_cross_val direct_regression.py\n",
    "def nested_cross_val2(\n",
    "    construct_models,\n",
    "    cache_name,\n",
    "    X0, X1, y0, y1,\n",
    "    optimisation_metric,\n",
    "    evaluation_metrics,\n",
    "    innercv=None,\n",
    "    outercv=None,\n",
    "    load_from_cache=False,\n",
    "):\n",
    "    if load_from_cache:\n",
    "        with open(cache_name, 'rb') as f:\n",
    "            models, results = pickle.load(f)\n",
    "\n",
    "    else:\n",
    "        models = construct_models()\n",
    "        results = {}\n",
    "        for model in models:\n",
    "            print(f\"Fitting {model.name} ...\", end='')\n",
    "            results0 = model.nested_cv_fit_evaluate(\n",
    "                X0, y0, optimisation_metric, evaluation_metrics,\n",
    "                inner_cv=innercv, outer_cv=outercv)\n",
    "            results1 = model.nested_cv_fit_evaluate(\n",
    "                X1, y1, optimisation_metric, evaluation_metrics,\n",
    "                inner_cv=innercv, outer_cv=outercv)\n",
    "            results[model.name] = (results0, results1)\n",
    "            print(\"Done\")\n",
    "\n",
    "        print(f\"Caching results to {cache_name}\")\n",
    "        with open(cache_name, 'wb') as f:\n",
    "            pickle.dump((models, results), f)\n",
    "\n",
    "    return models, results\n"
   ]
  },
  {
   "cell_type": "code",
   "execution_count": 10,
   "id": "18",
   "metadata": {
    "tags": [
     "hide_cell"
    ]
   },
   "outputs": [
    {
     "name": "stdout",
     "output_type": "stream",
     "text": [
      "Fitting ridge ...Fitting 3 folds for each of 30 candidates, totalling 90 fits\n"
     ]
    },
    {
     "name": "stdout",
     "output_type": "stream",
     "text": [
      "Fitting 3 folds for each of 30 candidates, totalling 90 fits\n"
     ]
    },
    {
     "name": "stdout",
     "output_type": "stream",
     "text": [
      "Fitting 3 folds for each of 30 candidates, totalling 90 fits\n"
     ]
    },
    {
     "name": "stdout",
     "output_type": "stream",
     "text": [
      "Fitting 3 folds for each of 30 candidates, totalling 90 fits\n"
     ]
    },
    {
     "name": "stdout",
     "output_type": "stream",
     "text": [
      "Fitting 3 folds for each of 30 candidates, totalling 90 fits\n"
     ]
    },
    {
     "name": "stdout",
     "output_type": "stream",
     "text": [
      "Fitting 3 folds for each of 30 candidates, totalling 90 fits\n"
     ]
    },
    {
     "name": "stdout",
     "output_type": "stream",
     "text": [
      "Fitting 3 folds for each of 30 candidates, totalling 90 fits\n"
     ]
    },
    {
     "name": "stdout",
     "output_type": "stream",
     "text": [
      "Fitting 3 folds for each of 30 candidates, totalling 90 fits\n"
     ]
    },
    {
     "name": "stdout",
     "output_type": "stream",
     "text": [
      "Done\n",
      "Fitting lasso ...Fitting 3 folds for each of 30 candidates, totalling 90 fits\n"
     ]
    },
    {
     "name": "stdout",
     "output_type": "stream",
     "text": [
      "Fitting 3 folds for each of 30 candidates, totalling 90 fits\n"
     ]
    },
    {
     "name": "stdout",
     "output_type": "stream",
     "text": [
      "Fitting 3 folds for each of 30 candidates, totalling 90 fits\n"
     ]
    },
    {
     "name": "stdout",
     "output_type": "stream",
     "text": [
      "Fitting 3 folds for each of 30 candidates, totalling 90 fits\n"
     ]
    },
    {
     "name": "stdout",
     "output_type": "stream",
     "text": [
      "Fitting 3 folds for each of 30 candidates, totalling 90 fits\n"
     ]
    },
    {
     "name": "stdout",
     "output_type": "stream",
     "text": [
      "Fitting 3 folds for each of 30 candidates, totalling 90 fits\n"
     ]
    },
    {
     "name": "stdout",
     "output_type": "stream",
     "text": [
      "Fitting 3 folds for each of 30 candidates, totalling 90 fits\n"
     ]
    },
    {
     "name": "stdout",
     "output_type": "stream",
     "text": [
      "Fitting 3 folds for each of 30 candidates, totalling 90 fits\n"
     ]
    },
    {
     "name": "stdout",
     "output_type": "stream",
     "text": [
      "Done\n",
      "Fitting gbr ...Fitting 3 folds for each of 500 candidates, totalling 1500 fits\n"
     ]
    },
    {
     "name": "stdout",
     "output_type": "stream",
     "text": [
      "Fitting 3 folds for each of 500 candidates, totalling 1500 fits\n"
     ]
    },
    {
     "name": "stdout",
     "output_type": "stream",
     "text": [
      "Fitting 3 folds for each of 500 candidates, totalling 1500 fits\n"
     ]
    },
    {
     "name": "stdout",
     "output_type": "stream",
     "text": [
      "Fitting 3 folds for each of 500 candidates, totalling 1500 fits\n"
     ]
    },
    {
     "name": "stdout",
     "output_type": "stream",
     "text": [
      "Fitting 3 folds for each of 500 candidates, totalling 1500 fits\n"
     ]
    },
    {
     "name": "stdout",
     "output_type": "stream",
     "text": [
      "Fitting 3 folds for each of 500 candidates, totalling 1500 fits\n"
     ]
    },
    {
     "name": "stdout",
     "output_type": "stream",
     "text": [
      "Fitting 3 folds for each of 500 candidates, totalling 1500 fits\n"
     ]
    },
    {
     "name": "stdout",
     "output_type": "stream",
     "text": [
      "Fitting 3 folds for each of 500 candidates, totalling 1500 fits\n"
     ]
    },
    {
     "name": "stdout",
     "output_type": "stream",
     "text": [
      "Done\n",
      "Caching results to data/cross-val-all.pkl\n"
     ]
    }
   ],
   "source": [
    "models, results = nested_cross_val2(\n",
    "    construct_models,\n",
    "    cross_val_cache,\n",
    "    X0, X1, y0, y1,\n",
    "    optimisation_metric,\n",
    "    evaluation_metrics,\n",
    "    innercv=3,\n",
    "    outercv=4,\n",
    "    load_from_cache=False)"
   ]
  },
  {
   "cell_type": "code",
   "execution_count": 11,
   "id": "20",
   "metadata": {
    "tags": [
     "hide_input"
    ]
   },
   "outputs": [
    {
     "data": {
      "text/html": [
       "<div>\n",
       "<style scoped>\n",
       "    .dataframe tbody tr th:only-of-type {\n",
       "        vertical-align: middle;\n",
       "    }\n",
       "\n",
       "    .dataframe tbody tr th {\n",
       "        vertical-align: top;\n",
       "    }\n",
       "\n",
       "    .dataframe thead th {\n",
       "        text-align: right;\n",
       "    }\n",
       "</style>\n",
       "<table border=\"1\" class=\"dataframe\">\n",
       "  <thead>\n",
       "    <tr style=\"text-align: right;\">\n",
       "      <th></th>\n",
       "      <th>ACE</th>\n",
       "      <th>ACE_std</th>\n",
       "      <th>control_r2</th>\n",
       "      <th>control_r2_std</th>\n",
       "      <th>treated_r2</th>\n",
       "      <th>treated_r2_std</th>\n",
       "      <th>control_neg_mean_squared_error</th>\n",
       "      <th>control_neg_mean_squared_error_std</th>\n",
       "      <th>treated_neg_mean_squared_error</th>\n",
       "      <th>treated_neg_mean_squared_error_std</th>\n",
       "    </tr>\n",
       "  </thead>\n",
       "  <tbody>\n",
       "    <tr>\n",
       "      <th>ridge</th>\n",
       "      <td>347.42</td>\n",
       "      <td>22.93</td>\n",
       "      <td>0.21</td>\n",
       "      <td>0.02</td>\n",
       "      <td>0.10</td>\n",
       "      <td>0.04</td>\n",
       "      <td>-704,484.48</td>\n",
       "      <td>72,754.68</td>\n",
       "      <td>-1,005,507.26</td>\n",
       "      <td>272,704.91</td>\n",
       "    </tr>\n",
       "    <tr>\n",
       "      <th>lasso</th>\n",
       "      <td>347.47</td>\n",
       "      <td>25.08</td>\n",
       "      <td>0.24</td>\n",
       "      <td>0.04</td>\n",
       "      <td>0.12</td>\n",
       "      <td>0.03</td>\n",
       "      <td>-679,370.10</td>\n",
       "      <td>70,206.73</td>\n",
       "      <td>-973,808.90</td>\n",
       "      <td>252,049.28</td>\n",
       "    </tr>\n",
       "    <tr>\n",
       "      <th>gbr</th>\n",
       "      <td>314.59</td>\n",
       "      <td>47.30</td>\n",
       "      <td>0.25</td>\n",
       "      <td>0.02</td>\n",
       "      <td>0.11</td>\n",
       "      <td>0.04</td>\n",
       "      <td>-663,563.10</td>\n",
       "      <td>59,270.09</td>\n",
       "      <td>-987,477.23</td>\n",
       "      <td>261,066.24</td>\n",
       "    </tr>\n",
       "  </tbody>\n",
       "</table>\n",
       "</div>"
      ],
      "text/plain": [
       "         ACE  ACE_std  control_r2  control_r2_std  treated_r2  treated_r2_std  \\\n",
       "ridge 347.42    22.93        0.21            0.02        0.10            0.04   \n",
       "lasso 347.47    25.08        0.24            0.04        0.12            0.03   \n",
       "gbr   314.59    47.30        0.25            0.02        0.11            0.04   \n",
       "\n",
       "       control_neg_mean_squared_error  control_neg_mean_squared_error_std  \\\n",
       "ridge                     -704,484.48                           72,754.68   \n",
       "lasso                     -679,370.10                           70,206.73   \n",
       "gbr                       -663,563.10                           59,270.09   \n",
       "\n",
       "       treated_neg_mean_squared_error  treated_neg_mean_squared_error_std  \n",
       "ridge                   -1,005,507.26                          272,704.91  \n",
       "lasso                     -973,808.90                          252,049.28  \n",
       "gbr                       -987,477.23                          261,066.24  "
      ]
     },
     "metadata": {},
     "output_type": "display_data"
    }
   ],
   "source": [
    "def estimate_causal_effect(X, models0, models1):\n",
    "    tau = []\n",
    "    for e0, e1 in zip(models0,models1):\n",
    "        y0 = e0.predict(X)\n",
    "        y1 = e1.predict(X)\n",
    "        tau.append(y1-y0)\n",
    "    \n",
    "    # array of shape len(modelsi),len(X)\n",
    "    cate = np.array(tau) \n",
    "    \n",
    "    # array of shape len(modelsi) with the ate estimate for each sample\n",
    "    ate = np.mean(cate,axis=1) \n",
    "    return ate\n",
    "\n",
    "rows = []\n",
    "index = []\n",
    "for model_name, r in results.items():\n",
    "    tau = estimate_causal_effect(X, r[0]['estimator'],r[1]['estimator'])\n",
    "    row = {'ACE':tau.mean(),'ACE_std':tau.std()}\n",
    "    for m in evaluation_metrics:\n",
    "        key = f'test_{m}'\n",
    "        for name, result in zip(('control','treated'),r):\n",
    "            label=f\"{name}_{m}\"\n",
    "            label_std=f\"{label}_std\"\n",
    "            row[label]= result[key].mean()\n",
    "            std = result[key].std()\n",
    "            row[label_std] = result[key].std()\n",
    "    rows.append(row)\n",
    "    index.append(model_name)\n",
    "metrics = pd.DataFrame(rows,index=index)\n",
    "\n",
    "with pd.option_context('display.float_format', '{:,.2f}'.format):\n",
    "    display(metrics)"
   ]
  },
  {
   "cell_type": "code",
   "execution_count": 12,
   "id": "21",
   "metadata": {
    "tags": [
     "hide_input"
    ]
   },
   "outputs": [
    {
     "data": {
      "image/png": "[encoded data removed]",
      "text/plain": [
       "<Figure size 1080x360 with 2 Axes>"
      ]
     },
     "metadata": {
      "needs_background": "light"
     },
     "output_type": "display_data"
    }
   ],
   "source": [
    "fig, ax = plt.subplots(1,2,figsize=(15,5),sharey=True)\n",
    "ax[0].bar(metrics.index, metrics['control_r2'], yerr=metrics['control_r2_std'], align='center', alpha=0.5, capsize=10)\n",
    "ax[1].bar(metrics.index, metrics['treated_r2'], yerr=metrics['treated_r2_std'], align='center', alpha=0.5,capsize=10)\n",
    "ax[0].set_ylabel('$R^2$')\n",
    "ax[0].set_title('control model')\n",
    "ax[1].set_title('treated model');"
   ]
  },
  {
   "cell_type": "code",
   "execution_count": 13,
   "id": "23",
   "metadata": {
    "tags": [
     "hide_input"
    ]
   },
   "outputs": [],
   "source": [
    "def get_coef(estimator):\n",
    "    e = estimator\n",
    "    if hasattr(estimator,'best_estimator_'):\n",
    "        e = estimator.best_estimator_\n",
    "    if hasattr(e,'coef_'):\n",
    "        return e.coef_\n",
    "    return None \n",
    "\n",
    "def coef_mean_std(estimator_lst):\n",
    "    n_estimators = len(estimator_lst)\n",
    "    coef = np.zeros((len(features),n_estimators))\n",
    "    for i, e in enumerate(estimator_lst):\n",
    "        coef[:,i] = get_coef(e)\n",
    "    mu = coef.mean(axis=1)\n",
    "    std = coef.std(axis=1)\n",
    "    return mu, std\n",
    "\n",
    "def display_top_coefficients(model_name, r):\n",
    "    if get_coef(r[0]['estimator'][0]) is None:\n",
    "        return\n",
    "    with open('data/metadata.pkl','rb') as f:\n",
    "        meta = pickle.load(f)\n",
    "    \n",
    "    contr, treat = r[0], r[1]\n",
    "    coef_t_mu, coef_t_std = coef_mean_std(treat['estimator'])\n",
    "    coef_c_mu, coef_c_std = coef_mean_std(contr['estimator'])\n",
    "    coefs = pd.DataFrame({\n",
    "        'feature':features,\n",
    "        'coef0':coef_c_mu,\n",
    "        'coef1':coef_t_mu\n",
    "    })\n",
    "    absv = np.vstack((coefs['coef0'].abs().values,coefs['coef1'].abs().values)).T\n",
    "    coefs['importance'] = absv.max(axis=1)\n",
    "    coefs['hetero'] = (coefs['coef1']-coefs['coef0']).abs()\n",
    "    labels = coefs['feature'].apply(meta.column_names_to_labels.get)\n",
    "    coefs.insert(0,'variable',labels)\n",
    "    print(f'Feature Coefficients for: {model_name}')\n",
    "    display(coefs.sort_values('importance',ascending=False).head(20))\n"
   ]
  },
  {
   "cell_type": "code",
   "execution_count": 14,
   "id": "24",
   "metadata": {
    "tags": [
     "hide_input"
    ]
   },
   "outputs": [
    {
     "name": "stdout",
     "output_type": "stream",
     "text": [
      "Feature Coefficients for: ridge\n"
     ]
    },
    {
     "data": {
      "text/html": [
       "<div>\n",
       "<style scoped>\n",
       "    .dataframe tbody tr th:only-of-type {\n",
       "        vertical-align: middle;\n",
       "    }\n",
       "\n",
       "    .dataframe tbody tr th {\n",
       "        vertical-align: top;\n",
       "    }\n",
       "\n",
       "    .dataframe thead th {\n",
       "        text-align: right;\n",
       "    }\n",
       "</style>\n",
       "<table border=\"1\" class=\"dataframe\">\n",
       "  <thead>\n",
       "    <tr style=\"text-align: right;\">\n",
       "      <th></th>\n",
       "      <th>variable</th>\n",
       "      <th>feature</th>\n",
       "      <th>coef0</th>\n",
       "      <th>coef1</th>\n",
       "      <th>importance</th>\n",
       "      <th>hetero</th>\n",
       "    </tr>\n",
       "  </thead>\n",
       "  <tbody>\n",
       "    <tr>\n",
       "      <th>190</th>\n",
       "      <td>DV: Current weekly gross wages &amp; salary - all ...</td>\n",
       "      <td>awscei</td>\n",
       "      <td>-84.188204</td>\n",
       "      <td>-25.513167</td>\n",
       "      <td>84.188204</td>\n",
       "      <td>58.675037</td>\n",
       "    </tr>\n",
       "    <tr>\n",
       "      <th>130</th>\n",
       "      <td>DV: Household current weekly gross wages &amp; sal...</td>\n",
       "      <td>ahiwscei</td>\n",
       "      <td>-49.368396</td>\n",
       "      <td>-10.801079</td>\n",
       "      <td>49.368396</td>\n",
       "      <td>38.567317</td>\n",
       "    </tr>\n",
       "    <tr>\n",
       "      <th>300</th>\n",
       "      <td>G3 Total gross amount of most recent pay befor...</td>\n",
       "      <td>awscmga</td>\n",
       "      <td>-44.600967</td>\n",
       "      <td>6.081584</td>\n",
       "      <td>44.600967</td>\n",
       "      <td>50.682551</td>\n",
       "    </tr>\n",
       "    <tr>\n",
       "      <th>175</th>\n",
       "      <td>HF4 Year of Birth</td>\n",
       "      <td>ahgyob</td>\n",
       "      <td>43.598204</td>\n",
       "      <td>27.263369</td>\n",
       "      <td>43.598204</td>\n",
       "      <td>16.334836</td>\n",
       "    </tr>\n",
       "    <tr>\n",
       "      <th>443</th>\n",
       "      <td>DV: Time in paid work - years</td>\n",
       "      <td>aehtjb</td>\n",
       "      <td>-37.905849</td>\n",
       "      <td>-24.600939</td>\n",
       "      <td>37.905849</td>\n",
       "      <td>13.304911</td>\n",
       "    </tr>\n",
       "    <tr>\n",
       "      <th>275</th>\n",
       "      <td>E29 Percent chance will find and accept job at...</td>\n",
       "      <td>ajbmpgj</td>\n",
       "      <td>36.960818</td>\n",
       "      <td>-3.675214</td>\n",
       "      <td>36.960818</td>\n",
       "      <td>40.636032</td>\n",
       "    </tr>\n",
       "    <tr>\n",
       "      <th>456</th>\n",
       "      <td>DV: Age of oldest person in household</td>\n",
       "      <td>ahhold</td>\n",
       "      <td>-34.299580</td>\n",
       "      <td>-15.815207</td>\n",
       "      <td>34.299580</td>\n",
       "      <td>18.484373</td>\n",
       "    </tr>\n",
       "    <tr>\n",
       "      <th>361</th>\n",
       "      <td>H27 How likely to have a child/more children i...</td>\n",
       "      <td>aicexpct</td>\n",
       "      <td>30.114104</td>\n",
       "      <td>8.771828</td>\n",
       "      <td>30.114104</td>\n",
       "      <td>21.342276</td>\n",
       "    </tr>\n",
       "    <tr>\n",
       "      <th>2</th>\n",
       "      <td>DV: Age last birthday at June 30 2001 - person 01</td>\n",
       "      <td>ahgage1</td>\n",
       "      <td>-27.471891</td>\n",
       "      <td>-17.568377</td>\n",
       "      <td>27.471891</td>\n",
       "      <td>9.903514</td>\n",
       "    </tr>\n",
       "    <tr>\n",
       "      <th>360</th>\n",
       "      <td>H26 Like to have more children in the future</td>\n",
       "      <td>aiclike</td>\n",
       "      <td>25.411102</td>\n",
       "      <td>9.210344</td>\n",
       "      <td>25.411102</td>\n",
       "      <td>16.200758</td>\n",
       "    </tr>\n",
       "    <tr>\n",
       "      <th>3</th>\n",
       "      <td>DV: Age last birthday at June 30 2001 - person 02</td>\n",
       "      <td>ahgage2</td>\n",
       "      <td>-25.225651</td>\n",
       "      <td>-10.876157</td>\n",
       "      <td>25.225651</td>\n",
       "      <td>14.349494</td>\n",
       "    </tr>\n",
       "    <tr>\n",
       "      <th>107</th>\n",
       "      <td>DV: Child care total cost ($) [imputed] for al...</td>\n",
       "      <td>acpctci</td>\n",
       "      <td>23.478212</td>\n",
       "      <td>-8.494224</td>\n",
       "      <td>23.478212</td>\n",
       "      <td>31.972436</td>\n",
       "    </tr>\n",
       "    <tr>\n",
       "      <th>439</th>\n",
       "      <td>DV: Tenure in current occupation (years)</td>\n",
       "      <td>ajbocct</td>\n",
       "      <td>-23.079802</td>\n",
       "      <td>-8.919902</td>\n",
       "      <td>23.079802</td>\n",
       "      <td>14.159900</td>\n",
       "    </tr>\n",
       "    <tr>\n",
       "      <th>440</th>\n",
       "      <td>DV: Tenure with current employer (years)</td>\n",
       "      <td>ajbempt</td>\n",
       "      <td>-22.539544</td>\n",
       "      <td>-17.187522</td>\n",
       "      <td>22.539544</td>\n",
       "      <td>5.352021</td>\n",
       "    </tr>\n",
       "    <tr>\n",
       "      <th>450</th>\n",
       "      <td>DV: Age youngest own child (excl. resident fos...</td>\n",
       "      <td>atcyng</td>\n",
       "      <td>-14.076822</td>\n",
       "      <td>-20.975574</td>\n",
       "      <td>20.975574</td>\n",
       "      <td>6.898752</td>\n",
       "    </tr>\n",
       "    <tr>\n",
       "      <th>105</th>\n",
       "      <td>DV: Child care total cost ($) [imputed] for al...</td>\n",
       "      <td>acsctci</td>\n",
       "      <td>20.688445</td>\n",
       "      <td>9.747799</td>\n",
       "      <td>20.688445</td>\n",
       "      <td>10.940646</td>\n",
       "    </tr>\n",
       "    <tr>\n",
       "      <th>364</th>\n",
       "      <td>J1 How many times have you been legally married</td>\n",
       "      <td>amrn</td>\n",
       "      <td>-20.304056</td>\n",
       "      <td>-0.212872</td>\n",
       "      <td>20.304056</td>\n",
       "      <td>20.091185</td>\n",
       "    </tr>\n",
       "    <tr>\n",
       "      <th>307</th>\n",
       "      <td>G10c And what period does that cover</td>\n",
       "      <td>awslyf</td>\n",
       "      <td>19.991610</td>\n",
       "      <td>0.258062</td>\n",
       "      <td>19.991610</td>\n",
       "      <td>19.733549</td>\n",
       "    </tr>\n",
       "    <tr>\n",
       "      <th>208</th>\n",
       "      <td>DV: Financial year estimated taxes on regular ...</td>\n",
       "      <td>atxtotn</td>\n",
       "      <td>6.618131</td>\n",
       "      <td>19.863084</td>\n",
       "      <td>19.863084</td>\n",
       "      <td>13.244953</td>\n",
       "    </tr>\n",
       "    <tr>\n",
       "      <th>192</th>\n",
       "      <td>DV: Financial year gross wages &amp; salary ($) [i...</td>\n",
       "      <td>awsfei</td>\n",
       "      <td>-19.407242</td>\n",
       "      <td>0.614888</td>\n",
       "      <td>19.407242</td>\n",
       "      <td>20.022130</td>\n",
       "    </tr>\n",
       "  </tbody>\n",
       "</table>\n",
       "</div>"
      ],
      "text/plain": [
       "                                              variable   feature      coef0  \\\n",
       "190  DV: Current weekly gross wages & salary - all ...    awscei -84.188204   \n",
       "130  DV: Household current weekly gross wages & sal...  ahiwscei -49.368396   \n",
       "300  G3 Total gross amount of most recent pay befor...   awscmga -44.600967   \n",
       "175                                  HF4 Year of Birth    ahgyob  43.598204   \n",
       "443                      DV: Time in paid work - years    aehtjb -37.905849   \n",
       "275  E29 Percent chance will find and accept job at...   ajbmpgj  36.960818   \n",
       "456              DV: Age of oldest person in household    ahhold -34.299580   \n",
       "361  H27 How likely to have a child/more children i...  aicexpct  30.114104   \n",
       "2    DV: Age last birthday at June 30 2001 - person 01   ahgage1 -27.471891   \n",
       "360       H26 Like to have more children in the future   aiclike  25.411102   \n",
       "3    DV: Age last birthday at June 30 2001 - person 02   ahgage2 -25.225651   \n",
       "107  DV: Child care total cost ($) [imputed] for al...   acpctci  23.478212   \n",
       "439           DV: Tenure in current occupation (years)   ajbocct -23.079802   \n",
       "440           DV: Tenure with current employer (years)   ajbempt -22.539544   \n",
       "450  DV: Age youngest own child (excl. resident fos...    atcyng -14.076822   \n",
       "105  DV: Child care total cost ($) [imputed] for al...   acsctci  20.688445   \n",
       "364    J1 How many times have you been legally married      amrn -20.304056   \n",
       "307               G10c And what period does that cover    awslyf  19.991610   \n",
       "208  DV: Financial year estimated taxes on regular ...   atxtotn   6.618131   \n",
       "192  DV: Financial year gross wages & salary ($) [i...    awsfei -19.407242   \n",
       "\n",
       "         coef1  importance     hetero  \n",
       "190 -25.513167   84.188204  58.675037  \n",
       "130 -10.801079   49.368396  38.567317  \n",
       "300   6.081584   44.600967  50.682551  \n",
       "175  27.263369   43.598204  16.334836  \n",
       "443 -24.600939   37.905849  13.304911  \n",
       "275  -3.675214   36.960818  40.636032  \n",
       "456 -15.815207   34.299580  18.484373  \n",
       "361   8.771828   30.114104  21.342276  \n",
       "2   -17.568377   27.471891   9.903514  \n",
       "360   9.210344   25.411102  16.200758  \n",
       "3   -10.876157   25.225651  14.349494  \n",
       "107  -8.494224   23.478212  31.972436  \n",
       "439  -8.919902   23.079802  14.159900  \n",
       "440 -17.187522   22.539544   5.352021  \n",
       "450 -20.975574   20.975574   6.898752  \n",
       "105   9.747799   20.688445  10.940646  \n",
       "364  -0.212872   20.304056  20.091185  \n",
       "307   0.258062   19.991610  19.733549  \n",
       "208  19.863084   19.863084  13.244953  \n",
       "192   0.614888   19.407242  20.022130  "
      ]
     },
     "metadata": {},
     "output_type": "display_data"
    },
    {
     "name": "stdout",
     "output_type": "stream",
     "text": [
      "Feature Coefficients for: lasso\n"
     ]
    },
    {
     "data": {
      "text/html": [
       "<div>\n",
       "<style scoped>\n",
       "    .dataframe tbody tr th:only-of-type {\n",
       "        vertical-align: middle;\n",
       "    }\n",
       "\n",
       "    .dataframe tbody tr th {\n",
       "        vertical-align: top;\n",
       "    }\n",
       "\n",
       "    .dataframe thead th {\n",
       "        text-align: right;\n",
       "    }\n",
       "</style>\n",
       "<table border=\"1\" class=\"dataframe\">\n",
       "  <thead>\n",
       "    <tr style=\"text-align: right;\">\n",
       "      <th></th>\n",
       "      <th>variable</th>\n",
       "      <th>feature</th>\n",
       "      <th>coef0</th>\n",
       "      <th>coef1</th>\n",
       "      <th>importance</th>\n",
       "      <th>hetero</th>\n",
       "    </tr>\n",
       "  </thead>\n",
       "  <tbody>\n",
       "    <tr>\n",
       "      <th>190</th>\n",
       "      <td>DV: Current weekly gross wages &amp; salary - all ...</td>\n",
       "      <td>awscei</td>\n",
       "      <td>-268.841027</td>\n",
       "      <td>-94.235208</td>\n",
       "      <td>268.841027</td>\n",
       "      <td>174.605819</td>\n",
       "    </tr>\n",
       "    <tr>\n",
       "      <th>175</th>\n",
       "      <td>HF4 Year of Birth</td>\n",
       "      <td>ahgyob</td>\n",
       "      <td>222.746900</td>\n",
       "      <td>176.379845</td>\n",
       "      <td>222.746900</td>\n",
       "      <td>46.367054</td>\n",
       "    </tr>\n",
       "    <tr>\n",
       "      <th>450</th>\n",
       "      <td>DV: Age youngest own child (excl. resident fos...</td>\n",
       "      <td>atcyng</td>\n",
       "      <td>0.000000</td>\n",
       "      <td>-66.425291</td>\n",
       "      <td>66.425291</td>\n",
       "      <td>66.425291</td>\n",
       "    </tr>\n",
       "    <tr>\n",
       "      <th>51</th>\n",
       "      <td>Q1 Any children aged 14 or less</td>\n",
       "      <td>acccinhh</td>\n",
       "      <td>-53.871549</td>\n",
       "      <td>0.000000</td>\n",
       "      <td>53.871549</td>\n",
       "      <td>53.871549</td>\n",
       "    </tr>\n",
       "    <tr>\n",
       "      <th>275</th>\n",
       "      <td>E29 Percent chance will find and accept job at...</td>\n",
       "      <td>ajbmpgj</td>\n",
       "      <td>53.251110</td>\n",
       "      <td>0.000000</td>\n",
       "      <td>53.251110</td>\n",
       "      <td>53.251110</td>\n",
       "    </tr>\n",
       "    <tr>\n",
       "      <th>361</th>\n",
       "      <td>H27 How likely to have a child/more children i...</td>\n",
       "      <td>aicexpct</td>\n",
       "      <td>53.117124</td>\n",
       "      <td>0.000000</td>\n",
       "      <td>53.117124</td>\n",
       "      <td>53.117124</td>\n",
       "    </tr>\n",
       "    <tr>\n",
       "      <th>308</th>\n",
       "      <td>G12 Check age and sex - currently eligible for...</td>\n",
       "      <td>abnage</td>\n",
       "      <td>-51.242365</td>\n",
       "      <td>0.000000</td>\n",
       "      <td>51.242365</td>\n",
       "      <td>51.242365</td>\n",
       "    </tr>\n",
       "    <tr>\n",
       "      <th>208</th>\n",
       "      <td>DV: Financial year estimated taxes on regular ...</td>\n",
       "      <td>atxtotn</td>\n",
       "      <td>0.000000</td>\n",
       "      <td>41.204794</td>\n",
       "      <td>41.204794</td>\n",
       "      <td>41.204794</td>\n",
       "    </tr>\n",
       "    <tr>\n",
       "      <th>434</th>\n",
       "      <td>DV: E13 Occupation 2-digit ASCO</td>\n",
       "      <td>ajbmocc2</td>\n",
       "      <td>-0.737719</td>\n",
       "      <td>-37.160796</td>\n",
       "      <td>37.160796</td>\n",
       "      <td>36.423077</td>\n",
       "    </tr>\n",
       "    <tr>\n",
       "      <th>349</th>\n",
       "      <td>H15b Age of child - Resident child 0001</td>\n",
       "      <td>arcage1</td>\n",
       "      <td>-10.393581</td>\n",
       "      <td>-35.312532</td>\n",
       "      <td>35.312532</td>\n",
       "      <td>24.918951</td>\n",
       "    </tr>\n",
       "    <tr>\n",
       "      <th>456</th>\n",
       "      <td>DV: Age of oldest person in household</td>\n",
       "      <td>ahhold</td>\n",
       "      <td>-34.913727</td>\n",
       "      <td>-6.569190</td>\n",
       "      <td>34.913727</td>\n",
       "      <td>28.344536</td>\n",
       "    </tr>\n",
       "    <tr>\n",
       "      <th>325</th>\n",
       "      <td>G29b2 Financial year rental property - profit ...</td>\n",
       "      <td>aoifrntp</td>\n",
       "      <td>-0.219795</td>\n",
       "      <td>-30.821924</td>\n",
       "      <td>30.821924</td>\n",
       "      <td>30.602129</td>\n",
       "    </tr>\n",
       "    <tr>\n",
       "      <th>585</th>\n",
       "      <td>SCQ:F3 Do fair share of looking after children</td>\n",
       "      <td>apashare</td>\n",
       "      <td>29.562416</td>\n",
       "      <td>0.000000</td>\n",
       "      <td>29.562416</td>\n",
       "      <td>29.562416</td>\n",
       "    </tr>\n",
       "    <tr>\n",
       "      <th>608</th>\n",
       "      <td>DV: Highest education level achieved</td>\n",
       "      <td>aedhigh1</td>\n",
       "      <td>-15.265422</td>\n",
       "      <td>-28.373626</td>\n",
       "      <td>28.373626</td>\n",
       "      <td>13.108205</td>\n",
       "    </tr>\n",
       "    <tr>\n",
       "      <th>580</th>\n",
       "      <td>SCQ:E3g Personally entitled to use flexible st...</td>\n",
       "      <td>ajowpflx</td>\n",
       "      <td>0.000000</td>\n",
       "      <td>-26.566175</td>\n",
       "      <td>26.566175</td>\n",
       "      <td>26.566175</td>\n",
       "    </tr>\n",
       "    <tr>\n",
       "      <th>36</th>\n",
       "      <td>HFL3 Dwelling security - Locked door/gate (wit...</td>\n",
       "      <td>adolgi</td>\n",
       "      <td>3.786410</td>\n",
       "      <td>-25.932901</td>\n",
       "      <td>25.932901</td>\n",
       "      <td>29.719310</td>\n",
       "    </tr>\n",
       "    <tr>\n",
       "      <th>300</th>\n",
       "      <td>G3 Total gross amount of most recent pay befor...</td>\n",
       "      <td>awscmga</td>\n",
       "      <td>-25.496853</td>\n",
       "      <td>0.000000</td>\n",
       "      <td>25.496853</td>\n",
       "      <td>25.496853</td>\n",
       "    </tr>\n",
       "    <tr>\n",
       "      <th>443</th>\n",
       "      <td>DV: Time in paid work - years</td>\n",
       "      <td>aehtjb</td>\n",
       "      <td>-23.401807</td>\n",
       "      <td>0.000000</td>\n",
       "      <td>23.401807</td>\n",
       "      <td>23.401807</td>\n",
       "    </tr>\n",
       "    <tr>\n",
       "      <th>333</th>\n",
       "      <td>G34a Any credit, charge or store cards used at...</td>\n",
       "      <td>acrhavem</td>\n",
       "      <td>-21.759631</td>\n",
       "      <td>0.000000</td>\n",
       "      <td>21.759631</td>\n",
       "      <td>21.759631</td>\n",
       "    </tr>\n",
       "    <tr>\n",
       "      <th>130</th>\n",
       "      <td>DV: Household current weekly gross wages &amp; sal...</td>\n",
       "      <td>ahiwscei</td>\n",
       "      <td>-20.912719</td>\n",
       "      <td>0.000000</td>\n",
       "      <td>20.912719</td>\n",
       "      <td>20.912719</td>\n",
       "    </tr>\n",
       "  </tbody>\n",
       "</table>\n",
       "</div>"
      ],
      "text/plain": [
       "                                              variable   feature       coef0  \\\n",
       "190  DV: Current weekly gross wages & salary - all ...    awscei -268.841027   \n",
       "175                                  HF4 Year of Birth    ahgyob  222.746900   \n",
       "450  DV: Age youngest own child (excl. resident fos...    atcyng    0.000000   \n",
       "51                     Q1 Any children aged 14 or less  acccinhh  -53.871549   \n",
       "275  E29 Percent chance will find and accept job at...   ajbmpgj   53.251110   \n",
       "361  H27 How likely to have a child/more children i...  aicexpct   53.117124   \n",
       "308  G12 Check age and sex - currently eligible for...    abnage  -51.242365   \n",
       "208  DV: Financial year estimated taxes on regular ...   atxtotn    0.000000   \n",
       "434                    DV: E13 Occupation 2-digit ASCO  ajbmocc2   -0.737719   \n",
       "349            H15b Age of child - Resident child 0001   arcage1  -10.393581   \n",
       "456              DV: Age of oldest person in household    ahhold  -34.913727   \n",
       "325  G29b2 Financial year rental property - profit ...  aoifrntp   -0.219795   \n",
       "585     SCQ:F3 Do fair share of looking after children  apashare   29.562416   \n",
       "608               DV: Highest education level achieved  aedhigh1  -15.265422   \n",
       "580  SCQ:E3g Personally entitled to use flexible st...  ajowpflx    0.000000   \n",
       "36   HFL3 Dwelling security - Locked door/gate (wit...    adolgi    3.786410   \n",
       "300  G3 Total gross amount of most recent pay befor...   awscmga  -25.496853   \n",
       "443                      DV: Time in paid work - years    aehtjb  -23.401807   \n",
       "333  G34a Any credit, charge or store cards used at...  acrhavem  -21.759631   \n",
       "130  DV: Household current weekly gross wages & sal...  ahiwscei  -20.912719   \n",
       "\n",
       "          coef1  importance      hetero  \n",
       "190  -94.235208  268.841027  174.605819  \n",
       "175  176.379845  222.746900   46.367054  \n",
       "450  -66.425291   66.425291   66.425291  \n",
       "51     0.000000   53.871549   53.871549  \n",
       "275    0.000000   53.251110   53.251110  \n",
       "361    0.000000   53.117124   53.117124  \n",
       "308    0.000000   51.242365   51.242365  \n",
       "208   41.204794   41.204794   41.204794  \n",
       "434  -37.160796   37.160796   36.423077  \n",
       "349  -35.312532   35.312532   24.918951  \n",
       "456   -6.569190   34.913727   28.344536  \n",
       "325  -30.821924   30.821924   30.602129  \n",
       "585    0.000000   29.562416   29.562416  \n",
       "608  -28.373626   28.373626   13.108205  \n",
       "580  -26.566175   26.566175   26.566175  \n",
       "36   -25.932901   25.932901   29.719310  \n",
       "300    0.000000   25.496853   25.496853  \n",
       "443    0.000000   23.401807   23.401807  \n",
       "333    0.000000   21.759631   21.759631  \n",
       "130    0.000000   20.912719   20.912719  "
      ]
     },
     "metadata": {},
     "output_type": "display_data"
    }
   ],
   "source": [
    "for model_name, r in results.items():\n",
    "    display_top_coefficients(model_name,r)"
   ]
  },
  {
   "cell_type": "code",
   "execution_count": 15,
   "id": "26",
   "metadata": {
    "scrolled": true,
    "tags": [
     "hide_cell"
    ]
   },
   "outputs": [
    {
     "name": "stdout",
     "output_type": "stream",
     "text": [
      "Fitting ridge ...Fitting 5 folds for each of 30 candidates, totalling 150 fits\n"
     ]
    },
    {
     "name": "stdout",
     "output_type": "stream",
     "text": [
      "Fitting 5 folds for each of 30 candidates, totalling 150 fits\n"
     ]
    },
    {
     "name": "stdout",
     "output_type": "stream",
     "text": [
      "Fitting 5 folds for each of 30 candidates, totalling 150 fits\n"
     ]
    },
    {
     "name": "stdout",
     "output_type": "stream",
     "text": [
      "Fitting 5 folds for each of 30 candidates, totalling 150 fits\n"
     ]
    },
    {
     "name": "stdout",
     "output_type": "stream",
     "text": [
      "Fitting 5 folds for each of 30 candidates, totalling 150 fits\n"
     ]
    },
    {
     "name": "stdout",
     "output_type": "stream",
     "text": [
      "Fitting 5 folds for each of 30 candidates, totalling 150 fits\n"
     ]
    },
    {
     "name": "stdout",
     "output_type": "stream",
     "text": [
      "Fitting 5 folds for each of 30 candidates, totalling 150 fits\n"
     ]
    },
    {
     "name": "stdout",
     "output_type": "stream",
     "text": [
      "Fitting 5 folds for each of 30 candidates, totalling 150 fits\n"
     ]
    },
    {
     "name": "stdout",
     "output_type": "stream",
     "text": [
      "Fitting 5 folds for each of 30 candidates, totalling 150 fits\n"
     ]
    },
    {
     "name": "stdout",
     "output_type": "stream",
     "text": [
      "Fitting 5 folds for each of 30 candidates, totalling 150 fits\n"
     ]
    },
    {
     "name": "stdout",
     "output_type": "stream",
     "text": [
      "Fitting 5 folds for each of 30 candidates, totalling 150 fits\n"
     ]
    },
    {
     "name": "stdout",
     "output_type": "stream",
     "text": [
      "Fitting 5 folds for each of 30 candidates, totalling 150 fits\n"
     ]
    },
    {
     "name": "stdout",
     "output_type": "stream",
     "text": [
      "Fitting 5 folds for each of 30 candidates, totalling 150 fits\n"
     ]
    },
    {
     "name": "stdout",
     "output_type": "stream",
     "text": [
      "Fitting 5 folds for each of 30 candidates, totalling 150 fits\n"
     ]
    },
    {
     "name": "stdout",
     "output_type": "stream",
     "text": [
      "Fitting 5 folds for each of 30 candidates, totalling 150 fits\n"
     ]
    },
    {
     "name": "stdout",
     "output_type": "stream",
     "text": [
      "Fitting 5 folds for each of 30 candidates, totalling 150 fits\n"
     ]
    },
    {
     "name": "stdout",
     "output_type": "stream",
     "text": [
      "Fitting 5 folds for each of 30 candidates, totalling 150 fits\n"
     ]
    },
    {
     "name": "stdout",
     "output_type": "stream",
     "text": [
      "Fitting 5 folds for each of 30 candidates, totalling 150 fits\n"
     ]
    },
    {
     "name": "stdout",
     "output_type": "stream",
     "text": [
      "Fitting 5 folds for each of 30 candidates, totalling 150 fits\n"
     ]
    },
    {
     "name": "stdout",
     "output_type": "stream",
     "text": [
      "Fitting 5 folds for each of 30 candidates, totalling 150 fits\n"
     ]
    },
    {
     "name": "stdout",
     "output_type": "stream",
     "text": [
      "Fitting 5 folds for each of 30 candidates, totalling 150 fits\n"
     ]
    },
    {
     "name": "stdout",
     "output_type": "stream",
     "text": [
      "Fitting 5 folds for each of 30 candidates, totalling 150 fits\n"
     ]
    },
    {
     "name": "stdout",
     "output_type": "stream",
     "text": [
      "Fitting 5 folds for each of 30 candidates, totalling 150 fits\n"
     ]
    },
    {
     "name": "stdout",
     "output_type": "stream",
     "text": [
      "Fitting 5 folds for each of 30 candidates, totalling 150 fits\n"
     ]
    },
    {
     "name": "stdout",
     "output_type": "stream",
     "text": [
      "Fitting 5 folds for each of 30 candidates, totalling 150 fits\n"
     ]
    },
    {
     "name": "stdout",
     "output_type": "stream",
     "text": [
      "Fitting 5 folds for each of 30 candidates, totalling 150 fits\n"
     ]
    },
    {
     "name": "stdout",
     "output_type": "stream",
     "text": [
      "Fitting 5 folds for each of 30 candidates, totalling 150 fits\n"
     ]
    },
    {
     "name": "stdout",
     "output_type": "stream",
     "text": [
      "Fitting 5 folds for each of 30 candidates, totalling 150 fits\n"
     ]
    },
    {
     "name": "stdout",
     "output_type": "stream",
     "text": [
      "Fitting 5 folds for each of 30 candidates, totalling 150 fits\n"
     ]
    },
    {
     "name": "stdout",
     "output_type": "stream",
     "text": [
      "Fitting 5 folds for each of 30 candidates, totalling 150 fits\n"
     ]
    },
    {
     "name": "stdout",
     "output_type": "stream",
     "text": [
      "Fitting 5 folds for each of 30 candidates, totalling 150 fits\n"
     ]
    },
    {
     "name": "stdout",
     "output_type": "stream",
     "text": [
      "Fitting 5 folds for each of 30 candidates, totalling 150 fits\n"
     ]
    },
    {
     "name": "stdout",
     "output_type": "stream",
     "text": [
      "Fitting 5 folds for each of 30 candidates, totalling 150 fits\n"
     ]
    },
    {
     "name": "stdout",
     "output_type": "stream",
     "text": [
      "Fitting 5 folds for each of 30 candidates, totalling 150 fits\n"
     ]
    },
    {
     "name": "stdout",
     "output_type": "stream",
     "text": [
      "Fitting 5 folds for each of 30 candidates, totalling 150 fits\n"
     ]
    },
    {
     "name": "stdout",
     "output_type": "stream",
     "text": [
      "Fitting 5 folds for each of 30 candidates, totalling 150 fits\n"
     ]
    },
    {
     "name": "stdout",
     "output_type": "stream",
     "text": [
      "Fitting 5 folds for each of 30 candidates, totalling 150 fits\n"
     ]
    },
    {
     "name": "stdout",
     "output_type": "stream",
     "text": [
      "Fitting 5 folds for each of 30 candidates, totalling 150 fits\n"
     ]
    },
    {
     "name": "stdout",
     "output_type": "stream",
     "text": [
      "Fitting 5 folds for each of 30 candidates, totalling 150 fits\n"
     ]
    },
    {
     "name": "stdout",
     "output_type": "stream",
     "text": [
      "Fitting 5 folds for each of 30 candidates, totalling 150 fits\n"
     ]
    },
    {
     "name": "stdout",
     "output_type": "stream",
     "text": [
      "Done\n",
      "Fitting lasso ...Fitting 5 folds for each of 30 candidates, totalling 150 fits\n"
     ]
    },
    {
     "name": "stdout",
     "output_type": "stream",
     "text": [
      "Fitting 5 folds for each of 30 candidates, totalling 150 fits\n"
     ]
    },
    {
     "name": "stdout",
     "output_type": "stream",
     "text": [
      "Fitting 5 folds for each of 30 candidates, totalling 150 fits\n"
     ]
    },
    {
     "name": "stdout",
     "output_type": "stream",
     "text": [
      "Fitting 5 folds for each of 30 candidates, totalling 150 fits\n"
     ]
    },
    {
     "name": "stdout",
     "output_type": "stream",
     "text": [
      "Fitting 5 folds for each of 30 candidates, totalling 150 fits\n"
     ]
    },
    {
     "name": "stdout",
     "output_type": "stream",
     "text": [
      "Fitting 5 folds for each of 30 candidates, totalling 150 fits\n"
     ]
    },
    {
     "name": "stdout",
     "output_type": "stream",
     "text": [
      "Fitting 5 folds for each of 30 candidates, totalling 150 fits\n"
     ]
    },
    {
     "name": "stdout",
     "output_type": "stream",
     "text": [
      "Fitting 5 folds for each of 30 candidates, totalling 150 fits\n"
     ]
    },
    {
     "name": "stdout",
     "output_type": "stream",
     "text": [
      "Fitting 5 folds for each of 30 candidates, totalling 150 fits\n"
     ]
    },
    {
     "name": "stdout",
     "output_type": "stream",
     "text": [
      "Fitting 5 folds for each of 30 candidates, totalling 150 fits\n"
     ]
    },
    {
     "name": "stdout",
     "output_type": "stream",
     "text": [
      "Fitting 5 folds for each of 30 candidates, totalling 150 fits\n"
     ]
    },
    {
     "name": "stdout",
     "output_type": "stream",
     "text": [
      "Fitting 5 folds for each of 30 candidates, totalling 150 fits\n"
     ]
    },
    {
     "name": "stdout",
     "output_type": "stream",
     "text": [
      "Fitting 5 folds for each of 30 candidates, totalling 150 fits\n"
     ]
    },
    {
     "name": "stdout",
     "output_type": "stream",
     "text": [
      "Fitting 5 folds for each of 30 candidates, totalling 150 fits\n"
     ]
    },
    {
     "name": "stdout",
     "output_type": "stream",
     "text": [
      "Fitting 5 folds for each of 30 candidates, totalling 150 fits\n"
     ]
    },
    {
     "name": "stdout",
     "output_type": "stream",
     "text": [
      "Fitting 5 folds for each of 30 candidates, totalling 150 fits\n"
     ]
    },
    {
     "name": "stdout",
     "output_type": "stream",
     "text": [
      "Fitting 5 folds for each of 30 candidates, totalling 150 fits\n"
     ]
    },
    {
     "name": "stdout",
     "output_type": "stream",
     "text": [
      "Fitting 5 folds for each of 30 candidates, totalling 150 fits\n"
     ]
    },
    {
     "name": "stdout",
     "output_type": "stream",
     "text": [
      "Fitting 5 folds for each of 30 candidates, totalling 150 fits\n"
     ]
    },
    {
     "name": "stdout",
     "output_type": "stream",
     "text": [
      "Fitting 5 folds for each of 30 candidates, totalling 150 fits\n"
     ]
    },
    {
     "name": "stdout",
     "output_type": "stream",
     "text": [
      "Fitting 5 folds for each of 30 candidates, totalling 150 fits\n"
     ]
    },
    {
     "name": "stdout",
     "output_type": "stream",
     "text": [
      "Fitting 5 folds for each of 30 candidates, totalling 150 fits\n"
     ]
    },
    {
     "name": "stdout",
     "output_type": "stream",
     "text": [
      "Fitting 5 folds for each of 30 candidates, totalling 150 fits\n"
     ]
    },
    {
     "name": "stdout",
     "output_type": "stream",
     "text": [
      "Fitting 5 folds for each of 30 candidates, totalling 150 fits\n"
     ]
    },
    {
     "name": "stdout",
     "output_type": "stream",
     "text": [
      "Fitting 5 folds for each of 30 candidates, totalling 150 fits\n"
     ]
    },
    {
     "name": "stdout",
     "output_type": "stream",
     "text": [
      "Fitting 5 folds for each of 30 candidates, totalling 150 fits\n"
     ]
    },
    {
     "name": "stdout",
     "output_type": "stream",
     "text": [
      "Fitting 5 folds for each of 30 candidates, totalling 150 fits\n"
     ]
    },
    {
     "name": "stdout",
     "output_type": "stream",
     "text": [
      "Fitting 5 folds for each of 30 candidates, totalling 150 fits\n"
     ]
    },
    {
     "name": "stdout",
     "output_type": "stream",
     "text": [
      "Fitting 5 folds for each of 30 candidates, totalling 150 fits\n"
     ]
    },
    {
     "name": "stdout",
     "output_type": "stream",
     "text": [
      "Fitting 5 folds for each of 30 candidates, totalling 150 fits\n"
     ]
    },
    {
     "name": "stdout",
     "output_type": "stream",
     "text": [
      "Fitting 5 folds for each of 30 candidates, totalling 150 fits\n"
     ]
    },
    {
     "name": "stdout",
     "output_type": "stream",
     "text": [
      "Fitting 5 folds for each of 30 candidates, totalling 150 fits\n"
     ]
    },
    {
     "name": "stdout",
     "output_type": "stream",
     "text": [
      "Fitting 5 folds for each of 30 candidates, totalling 150 fits\n"
     ]
    },
    {
     "name": "stdout",
     "output_type": "stream",
     "text": [
      "Fitting 5 folds for each of 30 candidates, totalling 150 fits\n"
     ]
    },
    {
     "name": "stdout",
     "output_type": "stream",
     "text": [
      "Fitting 5 folds for each of 30 candidates, totalling 150 fits\n"
     ]
    },
    {
     "name": "stdout",
     "output_type": "stream",
     "text": [
      "Fitting 5 folds for each of 30 candidates, totalling 150 fits\n"
     ]
    },
    {
     "name": "stdout",
     "output_type": "stream",
     "text": [
      "Fitting 5 folds for each of 30 candidates, totalling 150 fits\n"
     ]
    },
    {
     "name": "stdout",
     "output_type": "stream",
     "text": [
      "Fitting 5 folds for each of 30 candidates, totalling 150 fits\n"
     ]
    },
    {
     "name": "stdout",
     "output_type": "stream",
     "text": [
      "Fitting 5 folds for each of 30 candidates, totalling 150 fits\n"
     ]
    },
    {
     "name": "stdout",
     "output_type": "stream",
     "text": [
      "Fitting 5 folds for each of 30 candidates, totalling 150 fits\n"
     ]
    },
    {
     "name": "stdout",
     "output_type": "stream",
     "text": [
      "Done\n",
      "Fitting gbr ...Fitting 5 folds for each of 500 candidates, totalling 2500 fits\n"
     ]
    },
    {
     "name": "stdout",
     "output_type": "stream",
     "text": [
      "Fitting 5 folds for each of 500 candidates, totalling 2500 fits\n"
     ]
    },
    {
     "name": "stdout",
     "output_type": "stream",
     "text": [
      "Fitting 5 folds for each of 500 candidates, totalling 2500 fits\n"
     ]
    },
    {
     "name": "stdout",
     "output_type": "stream",
     "text": [
      "Fitting 5 folds for each of 500 candidates, totalling 2500 fits\n"
     ]
    },
    {
     "name": "stdout",
     "output_type": "stream",
     "text": [
      "Fitting 5 folds for each of 500 candidates, totalling 2500 fits\n"
     ]
    },
    {
     "name": "stdout",
     "output_type": "stream",
     "text": [
      "Fitting 5 folds for each of 500 candidates, totalling 2500 fits\n"
     ]
    },
    {
     "name": "stdout",
     "output_type": "stream",
     "text": [
      "Fitting 5 folds for each of 500 candidates, totalling 2500 fits\n"
     ]
    },
    {
     "name": "stdout",
     "output_type": "stream",
     "text": [
      "Fitting 5 folds for each of 500 candidates, totalling 2500 fits\n"
     ]
    },
    {
     "name": "stdout",
     "output_type": "stream",
     "text": [
      "Fitting 5 folds for each of 500 candidates, totalling 2500 fits\n"
     ]
    },
    {
     "name": "stdout",
     "output_type": "stream",
     "text": [
      "Fitting 5 folds for each of 500 candidates, totalling 2500 fits\n"
     ]
    },
    {
     "name": "stdout",
     "output_type": "stream",
     "text": [
      "Fitting 5 folds for each of 500 candidates, totalling 2500 fits\n"
     ]
    },
    {
     "name": "stdout",
     "output_type": "stream",
     "text": [
      "Fitting 5 folds for each of 500 candidates, totalling 2500 fits\n"
     ]
    },
    {
     "name": "stdout",
     "output_type": "stream",
     "text": [
      "Fitting 5 folds for each of 500 candidates, totalling 2500 fits\n"
     ]
    },
    {
     "name": "stdout",
     "output_type": "stream",
     "text": [
      "Fitting 5 folds for each of 500 candidates, totalling 2500 fits\n"
     ]
    },
    {
     "name": "stdout",
     "output_type": "stream",
     "text": [
      "Fitting 5 folds for each of 500 candidates, totalling 2500 fits\n"
     ]
    },
    {
     "name": "stdout",
     "output_type": "stream",
     "text": [
      "Fitting 5 folds for each of 500 candidates, totalling 2500 fits\n"
     ]
    },
    {
     "name": "stdout",
     "output_type": "stream",
     "text": [
      "Fitting 5 folds for each of 500 candidates, totalling 2500 fits\n"
     ]
    },
    {
     "name": "stdout",
     "output_type": "stream",
     "text": [
      "Fitting 5 folds for each of 500 candidates, totalling 2500 fits\n"
     ]
    },
    {
     "name": "stdout",
     "output_type": "stream",
     "text": [
      "Fitting 5 folds for each of 500 candidates, totalling 2500 fits\n"
     ]
    },
    {
     "name": "stdout",
     "output_type": "stream",
     "text": [
      "Fitting 5 folds for each of 500 candidates, totalling 2500 fits\n"
     ]
    },
    {
     "name": "stdout",
     "output_type": "stream",
     "text": [
      "Fitting 5 folds for each of 500 candidates, totalling 2500 fits\n"
     ]
    },
    {
     "name": "stdout",
     "output_type": "stream",
     "text": [
      "Fitting 5 folds for each of 500 candidates, totalling 2500 fits\n"
     ]
    },
    {
     "name": "stdout",
     "output_type": "stream",
     "text": [
      "Fitting 5 folds for each of 500 candidates, totalling 2500 fits\n"
     ]
    },
    {
     "name": "stdout",
     "output_type": "stream",
     "text": [
      "Fitting 5 folds for each of 500 candidates, totalling 2500 fits\n"
     ]
    },
    {
     "name": "stdout",
     "output_type": "stream",
     "text": [
      "Fitting 5 folds for each of 500 candidates, totalling 2500 fits\n"
     ]
    },
    {
     "name": "stdout",
     "output_type": "stream",
     "text": [
      "Fitting 5 folds for each of 500 candidates, totalling 2500 fits\n"
     ]
    },
    {
     "name": "stdout",
     "output_type": "stream",
     "text": [
      "Fitting 5 folds for each of 500 candidates, totalling 2500 fits\n"
     ]
    },
    {
     "name": "stdout",
     "output_type": "stream",
     "text": [
      "Fitting 5 folds for each of 500 candidates, totalling 2500 fits\n"
     ]
    },
    {
     "name": "stdout",
     "output_type": "stream",
     "text": [
      "Fitting 5 folds for each of 500 candidates, totalling 2500 fits\n"
     ]
    },
    {
     "name": "stdout",
     "output_type": "stream",
     "text": [
      "Fitting 5 folds for each of 500 candidates, totalling 2500 fits\n"
     ]
    },
    {
     "name": "stdout",
     "output_type": "stream",
     "text": [
      "Fitting 5 folds for each of 500 candidates, totalling 2500 fits\n"
     ]
    },
    {
     "name": "stdout",
     "output_type": "stream",
     "text": [
      "Fitting 5 folds for each of 500 candidates, totalling 2500 fits\n"
     ]
    },
    {
     "name": "stdout",
     "output_type": "stream",
     "text": [
      "Fitting 5 folds for each of 500 candidates, totalling 2500 fits\n"
     ]
    },
    {
     "name": "stdout",
     "output_type": "stream",
     "text": [
      "Fitting 5 folds for each of 500 candidates, totalling 2500 fits\n"
     ]
    },
    {
     "name": "stdout",
     "output_type": "stream",
     "text": [
      "Fitting 5 folds for each of 500 candidates, totalling 2500 fits\n"
     ]
    },
    {
     "name": "stdout",
     "output_type": "stream",
     "text": [
      "Fitting 5 folds for each of 500 candidates, totalling 2500 fits\n"
     ]
    },
    {
     "name": "stdout",
     "output_type": "stream",
     "text": [
      "Fitting 5 folds for each of 500 candidates, totalling 2500 fits\n"
     ]
    },
    {
     "name": "stdout",
     "output_type": "stream",
     "text": [
      "Fitting 5 folds for each of 500 candidates, totalling 2500 fits\n"
     ]
    },
    {
     "name": "stdout",
     "output_type": "stream",
     "text": [
      "Fitting 5 folds for each of 500 candidates, totalling 2500 fits\n"
     ]
    },
    {
     "name": "stdout",
     "output_type": "stream",
     "text": [
      "Fitting 5 folds for each of 500 candidates, totalling 2500 fits\n"
     ]
    },
    {
     "name": "stdout",
     "output_type": "stream",
     "text": [
      "Done\n",
      "Total time:6501.582203626633 seconds\n",
      "Caching results to: data/bootstrap-all.pkl\n"
     ]
    }
   ],
   "source": [
    "def extract_params(estimator):\n",
    "    return estimator.coef_\n",
    "\n",
    "def bootstrapped_cross_val(\n",
    "    optimisation_metric,\n",
    "    extract_params_func,\n",
    "    inner_cv = 3,\n",
    "    load_from_cache=False, \n",
    "    cache_name=bootstrap_cache, \n",
    "    samples=10\n",
    "):\n",
    "    if load_from_cache:\n",
    "        with open(cache_name, 'rb') as f:\n",
    "            results = pickle.load(f)\n",
    "    else:\n",
    "        models = construct_models()\n",
    "        results = {}\n",
    "        start = time.time()\n",
    "        for model in models:\n",
    "            print(f\"Fitting {model.name} ...\",end='')\n",
    "            results0 = model.bootstrap_cv_evaluate(X0,y0,optimisation_metric,extract_params,\n",
    "                                                   bootstrap_samples=samples,return_estimator=True)\n",
    "            results1 = model.bootstrap_cv_evaluate(X1,y1,optimisation_metric,extract_params,\n",
    "                                                   bootstrap_samples=samples,return_estimator=True)\n",
    "            results[model.name] = (results0, results1)\n",
    "            print(\"Done\")\n",
    "        total = time.time()-start\n",
    "        print(f\"Total time:{total} seconds\")\n",
    "        print(f\"Caching results to: {cache_name}\")\n",
    "        with open(cache_name,'wb') as f:\n",
    "            pickle.dump(results,f)\n",
    "    \n",
    "    return results\n",
    "\n",
    "bootstrap_results = bootstrapped_cross_val(\n",
    "    optimisation_metric, \n",
    "    extract_params,\n",
    "    load_from_cache=False,\n",
    "    samples=20\n",
    ")"
   ]
  },
  {
   "cell_type": "code",
   "execution_count": 16,
   "id": "28",
   "metadata": {
    "tags": [
     "hide_input"
    ]
   },
   "outputs": [
    {
     "name": "stdout",
     "output_type": "stream",
     "text": [
      "ridge, 343.67 ± 8.38\n"
     ]
    },
    {
     "name": "stdout",
     "output_type": "stream",
     "text": [
      "lasso, 356.33 ± 6.76\n"
     ]
    },
    {
     "name": "stdout",
     "output_type": "stream",
     "text": [
      "gbr, 350.96 ± 16.37\n"
     ]
    }
   ],
   "source": [
    "for model_name, (results0, results1) in bootstrap_results.items():\n",
    "    models0 = [r['estimator'] for r in results0]\n",
    "    models1 = [r['estimator'] for r in results1]\n",
    "    ate = estimate_causal_effect(X,models0, models1)\n",
    "    print(f'{model_name}, {ate.mean():.2f} ± {ate.std()/np.sqrt(len(ate)-1):.2f}')  "
   ]
  },
  {
   "cell_type": "code",
   "execution_count": 17,
   "id": "30",
   "metadata": {
    "tags": [
     "hide_input"
    ]
   },
   "outputs": [
    {
     "data": {
      "image/png": "[encoded data removed]",
      "text/plain": [
       "<Figure size 360x288 with 1 Axes>"
      ]
     },
     "metadata": {
      "needs_background": "light"
     },
     "output_type": "display_data"
    },
    {
     "data": {
      "image/png": "[encoded data removed]",
      "text/plain": [
       "<Figure size 360x288 with 1 Axes>"
      ]
     },
     "metadata": {
      "needs_background": "light"
     },
     "output_type": "display_data"
    },
    {
     "data": {
      "image/png": "[encoded data removed]",
      "text/plain": [
       "<Figure size 360x288 with 1 Axes>"
      ]
     },
     "metadata": {
      "needs_background": "light"
     },
     "output_type": "display_data"
    },
    {
     "data": {
      "image/png": "[encoded data removed]",
      "text/plain": [
       "<Figure size 360x288 with 1 Axes>"
      ]
     },
     "metadata": {
      "needs_background": "light"
     },
     "output_type": "display_data"
    },
    {
     "data": {
      "image/png": "[encoded data removed]",
      "text/plain": [
       "<Figure size 1080x288 with 3 Axes>"
      ]
     },
     "metadata": {
      "needs_background": "light"
     },
     "output_type": "display_data"
    },
    {
     "data": {
      "image/png": "[encoded data removed]",
      "text/plain": [
       "<Figure size 1080x288 with 3 Axes>"
      ]
     },
     "metadata": {
      "needs_background": "light"
     },
     "output_type": "display_data"
    }
   ],
   "source": [
    "from collections import defaultdict\n",
    "def hyperparam_distributions(samples) -> {str:[]}:\n",
    "    \"\"\"Returns a dict from hyper-parameter name to the best values for that hyper-parameter over the samples.\"\"\"\n",
    "    distributions = defaultdict(list)\n",
    "    for sample in samples:\n",
    "        h = sample['estimator'].best_params_\n",
    "        for key, value in h.items():\n",
    "            distributions[key].append(value)\n",
    "    return distributions\n",
    "\n",
    "def plot_hyperparam_distributions(samples, title) -> None:\n",
    "    distributions = hyperparam_distributions(samples)\n",
    "    k = len(distributions)\n",
    "    fig, axes = plt.subplots(1,k,figsize=(k*5,4))\n",
    "    if k == 1:\n",
    "        axes = [axes]\n",
    "    for i, (key, values) in enumerate(distributions.items()):\n",
    "        ax = axes[i]\n",
    "        ax.hist(values)\n",
    "        ax.set_title(title)\n",
    "        ax.set_xlabel(key)\n",
    "        ax.set_ylabel('count')\n",
    "    return fig,axes\n",
    "\n",
    "for model, (results0, results1) in bootstrap_results.items():\n",
    "    plot_hyperparam_distributions(results0,f\"{model}-control\")\n",
    "    plot_hyperparam_distributions(results1,f\"{model}-treated\")"
   ]
  }
 ],
 "metadata": {
  "celltoolbar": "Tags",
  "kernelspec": {
   "display_name": "Python 3 (ipykernel)",
   "language": "python",
   "name": "python3"
  },
  "language_info": {
   "codemirror_mode": {
    "name": "ipython",
    "version": 3
   },
   "file_extension": ".py",
   "mimetype": "text/x-python",
   "name": "python",
   "nbconvert_exporter": "python",
   "pygments_lexer": "ipython3",
   "version": "3.9.5"
  }
 },
 "nbformat": 4,
 "nbformat_minor": 5
}