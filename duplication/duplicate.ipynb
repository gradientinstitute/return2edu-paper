{
 "cells": [
  {
   "cell_type": "code",
   "execution_count": 1,
   "id": "0",
   "metadata": {},
   "outputs": [
    {
     "data": {
      "text/plain": [
       "RendererRegistry.enable('default')"
      ]
     },
     "execution_count": 1,
     "metadata": {},
     "output_type": "execute_result"
    }
   ],
   "source": [
    "import numpy as np\n",
    "import pandas as pd\n",
    "import altair as alt\n",
    "from sklearn.linear_model import LinearRegression, Lasso\n",
    "from sklearn.ensemble import GradientBoostingRegressor\n",
    "from sklearn.datasets import make_regression, load_boston\n",
    "from sklearn.model_selection import train_test_split, cross_validate, GroupKFold\n",
    "from sklearn.pipeline import Pipeline\n",
    "from sklearn.model_selection import GridSearchCV\n",
    "from sklearn import metrics\n",
    "from sklearn.metrics import make_scorer\n",
    "from sklearn.model_selection import check_cv\n",
    "import duplicate as dp\n",
    "from functools import partial\n",
    "import matplotlib.pyplot as plt\n",
    "\n",
    "\n",
    "# https://altair-viz.github.io/user_guide/display_frontends.html#displaying-in-the-jupyter-notebook\n",
    "# alt.renderers.enable('mimetype') # works off-line\n",
    "# alt.renderers.enable('notebook') \n",
    "alt.renderers.enable('default') # recommended"
   ]
  },
  {
   "cell_type": "code",
   "execution_count": 2,
   "id": "1",
   "metadata": {},
   "outputs": [
    {
     "name": "stdout",
     "output_type": "stream",
     "text": [
      "/Users/jack/Documents/GitHub/re-education\n",
      "/Users/jack/Documents/GitHub/re-education/duplication\n"
     ]
    }
   ],
   "source": [
    "# get bootstrap.py from parent directory\n",
    "%cd ..\n",
    "import bootstrap as bs\n",
    "import reed as reed\n",
    "%cd -"
   ]
  },
  {
   "cell_type": "code",
   "execution_count": 3,
   "id": "2",
   "metadata": {},
   "outputs": [],
   "source": [
    "# X, y = load_boston(return_X_y=True)\n",
    "X, y = make_regression(n_samples=30_000,n_features=10, n_informative=7, noise=1, random_state=0)\n",
    "\n",
    "feature_names = [f'X_{i}' for i in range(X.shape[1])]\n",
    "data = pd.DataFrame(data=X, columns=feature_names)\n",
    "data['y'] = y\n",
    "# data.info()"
   ]
  },
  {
   "cell_type": "code",
   "execution_count": 4,
   "id": "3",
   "metadata": {},
   "outputs": [],
   "source": [
    "n_duplicates = 4\n",
    "n_splits = 5\n",
    "base_groups = np.arange(y.size)\n",
    "# X_train, X_test, y_train, y_test = train_test_split(X, y,shuffle=True)\n",
    "X_train, X_test, y_train, y_test = train_test_split(X, y,test_size=0.99, shuffle=True)\n",
    "X_dup, y_dup, weights_dup, groups_dup = dp.simple_duplicate(X_train, y_train, n_duplicates, shuffle=True)\n",
    "\n",
    "scoring = {\n",
    "    \"MSE\": make_scorer(metrics.mean_squared_error),\n",
    "    \"R2\": make_scorer(metrics.r2_score),\n",
    "}\n"
   ]
  },
  {
   "cell_type": "code",
   "execution_count": 5,
   "id": "4",
   "metadata": {},
   "outputs": [],
   "source": [
    "# use custom CV with groups\n",
    "# model = LinearRegression()\n",
    "model = reed.StatsmodelsWLS()\n",
    "# model = GridSearchCV(\n",
    "#     # LinearRegression(),\n",
    "#     GradientBoostingRegressor(random_state=0,),\n",
    "#     # reed.StatsmodelsOLS(),\n",
    "#     param_grid={},\n",
    "#     cv=GroupKFold(n_splits=n_splits),\n",
    "    \n",
    "    \n",
    "# )\n",
    "# model_dup = LinearRegression()\n",
    "model_dup = reed.StatsmodelsWLS()\n",
    "# model_dup = GridSearchCV(\n",
    "#     # LinearRegression(),\n",
    "#     GradientBoostingRegressor(random_state=0),\n",
    "#     # reed.StatsmodelsOLS(),\n",
    "#     param_grid={}, \n",
    "#     cv=GroupKFold(n_splits=n_splits)\n",
    "# )\n",
    "\n",
    "\n",
    "\n",
    "def mean_var_cv_out(cv_out):\n",
    "    means_vars = {}\n",
    "    for k, v in cv_out.items():\n",
    "        means_vars[k + \"_mean\"] = np.mean(v)\n",
    "        means_vars[k + \"_var\"] = np.var(v)\n",
    "    return means_vars\n",
    "\n",
    "\n",
    "# mean_var_cv_out(output), mean_var_cv_out(output_dup)"
   ]
  },
  {
   "cell_type": "markdown",
   "id": "5",
   "metadata": {},
   "source": [
    "# Train models, using bootstrapping"
   ]
  },
  {
   "cell_type": "code",
   "execution_count": 6,
   "id": "6",
   "metadata": {},
   "outputs": [
    {
     "name": "stdout",
     "output_type": "stream",
     "text": [
      "Done un-duplicated\n"
     ]
    }
   ],
   "source": [
    "# use bootstrapping\n",
    "def param_extractor(estimator):\n",
    "    return estimator.get_params()\n",
    "\n",
    "sample_weight= weights_dup\n",
    "\n",
    "\n",
    "\n",
    "results = bs.bootstrap(\n",
    "    estimator=model,\n",
    "    X=X_train,\n",
    "    y=y_train,\n",
    "    error_score=\"raise\",\n",
    "    # groups=base_groups,\n",
    "    parameter_extractor=param_extractor,\n",
    "    return_estimator=True,\n",
    "    groups=False,\n",
    "    n_jobs=-1,\n",
    "#     random_state=\n",
    "#     sample_weight=sample_weight\n",
    ")\n",
    "print(\"Done un-duplicated\")\n",
    "\n",
    "results_dup = bs.bootstrap(\n",
    "    estimator=model_dup,\n",
    "    X=X_dup,\n",
    "    y=y_dup,\n",
    "    error_score=\"raise\",\n",
    "    # groups=groups_dup,\n",
    "    parameter_extractor=param_extractor,\n",
    "    return_estimator=True,\n",
    "    n_jobs=-1,\n",
    "    groups=False,\n",
    "    sample_weight=sample_weight\n",
    ")\n",
    "\n",
    "\n",
    "# print(results['parameters'])\n",
    "\n",
    "# print(scores)\n",
    "# for score_dict in scores:\n",
    "#     estimator = score_dict[\"estimator\"]"
   ]
  },
  {
   "cell_type": "markdown",
   "id": "7",
   "metadata": {},
   "source": [
    "## Evaluate, compare models\n",
    "Evaluate models on the (unduplicated) test data we set aside."
   ]
  },
  {
   "cell_type": "code",
   "execution_count": 7,
   "id": "8",
   "metadata": {},
   "outputs": [
    {
     "name": "stdout",
     "output_type": "stream",
     "text": [
      "(100, 29700) (100, 29700) (29700,)\n"
     ]
    }
   ],
   "source": [
    "models = results['estimator']\n",
    "models_dup = results_dup['estimator']\n",
    "\n",
    "y_preds, y_preds_dup = ([model.predict(X_test) for model in ms] for ms in (models, models_dup))\n",
    "y_preds, y_preds_dup = np.array(y_preds), np.array(y_preds_dup)\n",
    "\n",
    "\n",
    "print(y_preds.shape, y_preds_dup.shape, y_test.shape)"
   ]
  },
  {
   "cell_type": "code",
   "execution_count": 8,
   "id": "9",
   "metadata": {},
   "outputs": [
    {
     "name": "stdout",
     "output_type": "stream",
     "text": [
      "mean mse    : 1.068247128988739; mse var    : 0.000576755905876789\n",
      "mean dup mse: 1.0419534864427582; mse var dup: 9.042090614857754e-05\n"
     ]
    }
   ],
   "source": [
    "\n",
    "scores, scores_dup = (\n",
    "    [metrics.mean_squared_error(y_pred, y_test) for y_pred in preds] \n",
    "    for preds in (y_preds, y_preds_dup)\n",
    "    )\n",
    "\n",
    "print(f\"mean mse    : {np.mean(scores)}; mse var    : {np.var(scores)}\")\n",
    "print(f\"mean dup mse: {np.mean(scores_dup)}; mse var dup: {np.var(scores_dup)}\")"
   ]
  },
  {
   "cell_type": "code",
   "execution_count": 9,
   "id": "10",
   "metadata": {},
   "outputs": [],
   "source": [
    "# choose a representative sample using DBSCAN\n",
    "from sklearn.cluster import DBSCAN\n",
    "from sklearn.preprocessing import RobustScaler\n",
    "from sklearn.decomposition import PCA\n",
    "def find_representative_point_indices(X,y=None, max_num_points=-1, plot=False):\n",
    "    \"\"\"\n",
    "    Get the indices of <max_num_points> representative points (found using DBSCAN algorithm).\n",
    "    Arbitrarily selects min(max_num_points, num_core_points) core points.\n",
    "    If max_num_points < 0, select all available core points\n",
    "    \"\"\"\n",
    "    # combine [X, y] if required\n",
    "    if y is None:\n",
    "        if len(y.shape) == 1:\n",
    "            y = y.reshape(-1,1)\n",
    "        data =  np.hstack([X, y.reshape(-1,1)]) \n",
    "    else:\n",
    "        data = X\n",
    "    data = RobustScaler().fit_transform(data)\n",
    "    data_2d = PCA(n_components=2, random_state=0).fit_transform(data)\n",
    "    \n",
    "    # cluster\n",
    "    db = DBSCAN(eps=1).fit(data)\n",
    "    core_indices = db.core_sample_indices_\n",
    "    if plot: \n",
    "        plt.scatter(data_2d[:,0], data_2d[:,1])\n",
    "        plt.scatter(data_2d[core_indices, 0], data_2d[core_indices,1], color='red', label=\"core point\")\n",
    "        plt.xlabel(\"$C_0$\")\n",
    "        plt.ylabel(\"$C_1$\")\n",
    "        plt.title(\"2 principal components\")\n",
    "        plt.legend()\n",
    "\n",
    "    n_cores = len(core_indices)\n",
    "    \n",
    "    if n_cores < max_num_points:\n",
    "        print(f\"There are only {n_cores} representative points; choosing them\")\n",
    "    elif max_num_points > 0:\n",
    "        core_indices = core_indices[:max_num_points]\n",
    "    \n",
    "    return core_indices"
   ]
  },
  {
   "cell_type": "code",
   "execution_count": 10,
   "id": "11",
   "metadata": {},
   "outputs": [
    {
     "name": "stdout",
     "output_type": "stream",
     "text": [
      "Chosen index: 33 of 29700 (based on first 10000 test samples)\n"
     ]
    }
   ],
   "source": [
    "\n",
    "\n",
    "# take an arbitrary point in the test set; let's see how its performance changes:\n",
    "# get represetative point/s from sub-sample if X_test/y_test is huge\n",
    "# (assumes that test set is shuffled)\n",
    "n_test_samples = X_test.shape[0]\n",
    "subset_indices = range(10_000) if n_test_samples > 10_000 else range(n_test_samples)\n",
    "core_indices = find_representative_point_indices(X_test[subset_indices], y_test[subset_indices], max_num_points=-1, plot=False)#[0]\n",
    "index=core_indices[0] \n",
    "print(f\"Chosen index: {index} of {X_test.shape[0]} (based on first {len(subset_indices)} test samples)\")\n",
    "\n",
    "\n",
    "\n",
    "point_y_hat = y_preds[index,:]\n",
    "point_y_hat_dup = y_preds_dup[index,:]\n",
    "point_y = y_test[index] * np.ones_like(point_y_hat)\n",
    "point_data = pd.DataFrame(dict(\n",
    "    point_y=point_y,\n",
    "    point_y_hat=point_y_hat,\n",
    "    point_y_hat_dup=point_y_hat_dup,\n",
    "))\n",
    "# print(point_data.describe())\n",
    "\n"
   ]
  },
  {
   "cell_type": "markdown",
   "id": "12",
   "metadata": {},
   "source": [
    "Observe (when the above models are WLS, and there are 4 duplicates used), that the point estimate's bootstrapped uncertainty goes down significantly; in particular, the true $y$ value is ~5 standard deviations away from the mean of the model trained with the duplicated data, up from ~2 stdev away from the mean of the model trained with un-duplicated data.\n",
    "\n",
    "The uncertainty is increasing de"
   ]
  },
  {
   "cell_type": "code",
   "execution_count": 11,
   "id": "13",
   "metadata": {},
   "outputs": [
    {
     "name": "stdout",
     "output_type": "stream",
     "text": [
      "param 0 mse: 0.004543988901674706\n"
     ]
    }
   ],
   "source": [
    "# Bootstrap parameter uncertainty comparison in linear regressor model\n",
    "\n",
    "# get the <param_index> parameter of the 2 models\n",
    "params, params_dup = ([model.coef_ for model in ms] for ms in (models, models_dup))\n",
    "param_index = 0\n",
    "\n",
    "param_i, param_i_dup = ([model_params[param_index] for model_params in ps] for ps in (params, params_dup))\n",
    "\n",
    "print(\n",
    "    f\"param {param_index} mse: {metrics.mean_squared_error(param_i, param_i_dup)}\",\n",
    "    # f\"mae: {metrics.mean_absolute_error(param_i, param_i_dup)}\",\n",
    ")\n",
    "\n"
   ]
  },
  {
   "cell_type": "code",
   "execution_count": 12,
   "id": "14",
   "metadata": {},
   "outputs": [
    {
     "data": {
      "text/plain": [
       "Text(0.5, 1.0, 'Duplicate vs unduplicate coefficient 0')"
      ]
     },
     "execution_count": 12,
     "metadata": {},
     "output_type": "execute_result"
    },
    {
     "data": {
      "image/png": "[encoded data removed]",
      "text/plain": [
       "<Figure size 432x288 with 1 Axes>"
      ]
     },
     "metadata": {
      "needs_background": "light"
     },
     "output_type": "display_data"
    }
   ],
   "source": [
    "plt.scatter(param_i, param_i_dup)\n",
    "plt.gca().set_aspect('equal')\n",
    "plt.xlabel(f\"$\\\\beta_{{{param_index}}}$\")\n",
    "plt.ylabel(f\"$\\\\beta_{{{param_index}}}^{{dup}}$\")\n",
    "plt.title(f\"Duplicate vs unduplicate coefficient {param_index}\")\n",
    "# plt.savefig('scatter_param.png')"
   ]
  },
  {
   "cell_type": "markdown",
   "id": "15",
   "metadata": {},
   "source": [
    "Let's compare confidience intervals of a pair of WLS models"
   ]
  },
  {
   "cell_type": "code",
   "execution_count": 13,
   "id": "16",
   "metadata": {},
   "outputs": [
    {
     "data": {
      "text/plain": [
       "Text(0.5, 1.0, 'Parameter CIs: duplicate data')"
      ]
     },
     "execution_count": 13,
     "metadata": {},
     "output_type": "execute_result"
    },
    {
     "data": {
      "image/png": "[encoded data removed]",
      "text/plain": [
       "<Figure size 432x288 with 2 Axes>"
      ]
     },
     "metadata": {
      "needs_background": "light"
     },
     "output_type": "display_data"
    }
   ],
   "source": [
    "cis, cis_dup = models[0].conf_interval, models_dup[0].conf_interval\n",
    "# print(ci, ci_dup)\n",
    "bxpstats, bxpstats_dup = ([{\n",
    "    \"med\": (ci[i,0]+ci[i,1])/2,  # TODO fix\n",
    "    \"q1\": ci[i,0], # TODO fix\n",
    "    \"q3\": ci[i,1], # TODO fix\n",
    "    \"whislo\": ci[i, 0], \n",
    "    \"whishi\": ci[i, 1],\n",
    "    # \"fliers\"\n",
    "    } for i in range(len(cis))] for ci in (cis, cis_dup))\n",
    "fig, ax = plt.subplots(1,2)\n",
    "ax[0].bxp(bxpstats, showfliers=False)\n",
    "ax[0].set_title(\"Parameter CIs\")\n",
    "ax[1].bxp(bxpstats_dup,showfliers=False)\n",
    "ax[1].set_title(\"Parameter CIs: duplicate data\")\n",
    "\n"
   ]
  },
  {
   "cell_type": "markdown",
   "id": "17",
   "metadata": {},
   "source": [
    "- we see ~~slightly more accurate (?)~~ estimates with substantially less variance in the errors and bootstrapped confidence intervals when using the duplicated data.\n",
    "- TODO: (after introducing econml model example so as to not prematurely harden the code?): wrap this up into a function that we can pass a model into.\n",
    "- TODO: see how these properties scale with # duplicates; might yield insight into the cause\n",
    "- TODO: I'm comparing models trained with different bootstrapped samples (e.g. duplicated/unduplicated) -- this is noisy. I should only compare e.g. statistics over the bootstraps"
   ]
  },
  {
   "cell_type": "markdown",
   "id": "18",
   "metadata": {},
   "source": [
    "## Let's try GLS"
   ]
  },
  {
   "cell_type": "code",
   "execution_count": 14,
   "id": "19",
   "metadata": {},
   "outputs": [
    {
     "name": "stdout",
     "output_type": "stream",
     "text": [
      "[[1. 0. 0. ... 0. 0. 0.]\n",
      " [0. 1. 0. ... 0. 0. 0.]\n",
      " [0. 0. 1. ... 0. 0. 0.]\n",
      " ...\n",
      " [0. 0. 0. ... 1. 0. 0.]\n",
      " [0. 0. 0. ... 0. 1. 0.]\n",
      " [0. 0. 0. ... 0. 0. 1.]]\n",
      "done undup\n"
     ]
    },
    {
     "data": {
      "text/plain": [
       "StatsmodelsGLS()"
      ]
     },
     "execution_count": 14,
     "metadata": {},
     "output_type": "execute_result"
    }
   ],
   "source": [
    "\n",
    "# attempt to construct residual covariance matrix\n",
    "n = len(X_dup)\n",
    "\n",
    "#res_cov[i][j]==1 where X_train[i]==X_train[j], 0 otherwise\n",
    "res_cov = np.identity(n)#np.array([[groups_dup[i]==groups_dup[j] for j in range(n)] for i in range(n)], dtype=np.float64)\n",
    "# res_cov = np.maximum(res_cov, 0.01)\n",
    "print(res_cov)\n",
    "# print(res_cov.shape)\n",
    "# print(res_cov)\n",
    "model, model_dup = reed.StatsmodelsGLS(), reed.StatsmodelsGLS()\n",
    "model.fit(X_train, y_train)#, sample_weight=np.ones(n))\n",
    "print(\"done undup\")\n",
    "model_dup.fit(X_dup, y_dup, sample_weight=res_cov)"
   ]
  },
  {
   "cell_type": "markdown",
   "id": "20",
   "metadata": {},
   "source": [
    "## Scaling with number of duplicates"
   ]
  },
  {
   "cell_type": "markdown",
   "id": "21",
   "metadata": {},
   "source": [
    "Here I'm trying to get a sense of how things scale with the number of duplicates. In particular:\n",
    "- the boostrapped variance of a point estimate"
   ]
  },
  {
   "cell_type": "code",
   "execution_count": 15,
   "id": "22",
   "metadata": {},
   "outputs": [],
   "source": [
    "from sklearn.base import clone\n",
    "\n",
    "grad_boost = GridSearchCV(\n",
    "    # LinearRegression(),\n",
    "    GradientBoostingRegressor(random_state=0),\n",
    "    # reed.StatsmodelsOLS(),\n",
    "    param_grid={}, \n",
    "    cv=GroupKFold(n_splits=n_splits)\n",
    ")"
   ]
  },
  {
   "cell_type": "code",
   "execution_count": 16,
   "id": "23",
   "metadata": {},
   "outputs": [],
   "source": [
    "# Monkey patch models to include groups argument to .fit()"
   ]
  },
  {
   "cell_type": "code",
   "execution_count": 24,
   "id": "24",
   "metadata": {},
   "outputs": [
    {
     "name": "stdout",
     "output_type": "stream",
     "text": [
      "(1, 10)\n",
      "linear\n",
      "------------------\n",
      "Mean of bootstrapped MSE for 1 duplicates: 1.0680763070880537\n",
      "bootstrapped variance of MSE for 1 duplicates: 0.000612614404773915\n",
      "done with 1 duplicates\n",
      "Mean of bootstrapped MSE for 2 duplicates: 1.0508706072010685\n",
      "bootstrapped variance of MSE for 2 duplicates: 0.0002417582222612508\n",
      "done with 2 duplicates\n",
      "Mean of bootstrapped MSE for 4 duplicates: 1.0422212995542701\n",
      "bootstrapped variance of MSE for 4 duplicates: 9.178778066828066e-05\n",
      "done with 4 duplicates\n",
      "Mean of bootstrapped MSE for 8 duplicates: 1.0380784071465374\n",
      "bootstrapped variance of MSE for 8 duplicates: 3.667304770296822e-05\n",
      "done with 8 duplicates\n",
      "Mean of bootstrapped MSE for 16 duplicates: 1.0353202271295094\n",
      "bootstrapped variance of MSE for 16 duplicates: 2.751388415864872e-05\n",
      "done with 16 duplicates\n",
      "Mean of bootstrapped MSE for 32 duplicates: 1.0342895966312118\n",
      "bootstrapped variance of MSE for 32 duplicates: 1.0942028471384672e-05\n",
      "done with 32 duplicates\n",
      "lasso\n",
      "------------------\n",
      "Mean of bootstrapped MSE for 1 duplicates: 8.652430677833328\n",
      "bootstrapped variance of MSE for 1 duplicates: 1.2974644578114976\n",
      "done with 1 duplicates\n",
      "Mean of bootstrapped MSE for 2 duplicates: 8.215439004732364\n",
      "bootstrapped variance of MSE for 2 duplicates: 0.7246375023300113\n",
      "done with 2 duplicates\n",
      "Mean of bootstrapped MSE for 4 duplicates: 7.971333769560498\n",
      "bootstrapped variance of MSE for 4 duplicates: 0.2843190137784117\n",
      "done with 4 duplicates\n",
      "Mean of bootstrapped MSE for 8 duplicates: 7.992317813227913\n",
      "bootstrapped variance of MSE for 8 duplicates: 0.15323411548474228\n",
      "done with 8 duplicates\n",
      "Mean of bootstrapped MSE for 16 duplicates: 7.928076124131864\n",
      "bootstrapped variance of MSE for 16 duplicates: 0.08674752742238134\n",
      "done with 16 duplicates\n",
      "Mean of bootstrapped MSE for 32 duplicates: 7.966141961891988\n",
      "bootstrapped variance of MSE for 32 duplicates: 0.04814411391384601\n",
      "done with 32 duplicates\n",
      "gb\n",
      "------------------\n",
      "Mean of bootstrapped MSE for 1 duplicates: 2879.9475936502145\n",
      "bootstrapped variance of MSE for 1 duplicates: 64595.72008198292\n",
      "done with 1 duplicates\n",
      "Mean of bootstrapped MSE for 2 duplicates: 2348.9385763242494\n",
      "bootstrapped variance of MSE for 2 duplicates: 20204.577599998607\n",
      "done with 2 duplicates\n",
      "Mean of bootstrapped MSE for 4 duplicates: 2155.326230360045\n",
      "bootstrapped variance of MSE for 4 duplicates: 7823.244264518697\n",
      "done with 4 duplicates\n",
      "Mean of bootstrapped MSE for 8 duplicates: 2091.4392829211392\n",
      "bootstrapped variance of MSE for 8 duplicates: 6179.275568845529\n",
      "done with 8 duplicates\n",
      "Mean of bootstrapped MSE for 16 duplicates: 2059.1528442160175\n",
      "bootstrapped variance of MSE for 16 duplicates: 3671.1874840923115\n",
      "done with 16 duplicates\n",
      "Mean of bootstrapped MSE for 32 duplicates: 2030.1907352608337\n",
      "bootstrapped variance of MSE for 32 duplicates: 2648.7867738595005\n",
      "done with 32 duplicates\n"
     ]
    }
   ],
   "source": [
    "model_types = {\n",
    "    \"linear\": LinearRegression(), \n",
    "    \"lasso\" : Lasso(), \n",
    "    \"gb\" : grad_boost\n",
    "}\n",
    "model_groups_param = [False, False, True] # some models need a group parameter\n",
    "n_duplicates = [1,2,4,8,16,32]\n",
    "\n",
    "point_index = index\n",
    "X_test_point = X_test[point_index, :].reshape(1,-1) # 1 sample/1 row\n",
    "print(X_test_point.shape)\n",
    "point_y=y_test[index] * np.ones(100) # 100 bootstraps: TODO remove hard-coded constant\n",
    "\n",
    "point_data = pd.DataFrame(dict(\n",
    "        point_y=point_y\n",
    "    ))\n",
    "\n",
    "results = []\n",
    "\n",
    "for model_name, groups_ in zip(model_types.keys(), model_groups_param):\n",
    "    print(f\"{model_name}\")\n",
    "    print(\"------------------\")\n",
    "    results_n_dup = []\n",
    "    y_preds_n_dup = []\n",
    "    \n",
    "    # train, evaluate using duplicate data\n",
    "    for n in n_duplicates:\n",
    "        model_dup = clone(model_types[model_name])\n",
    "        \n",
    "        X_dup, y_dup, weights_dup, groups_dup = dp.simple_duplicate(X_train, y_train, n, shuffle=True)\n",
    "    #     print(index)\n",
    "    #     model_dup  = model_dup.copy()\n",
    "        results_dup = bs.bootstrap(\n",
    "            estimator=model_dup,\n",
    "            X=X_dup,\n",
    "            y=y_dup,\n",
    "            error_score=\"raise\",\n",
    "            # groups=groups_dup,\n",
    "            parameter_extractor=param_extractor,\n",
    "            return_estimator=True,\n",
    "            n_jobs=-1,\n",
    "            groups=groups_,\n",
    "            sample_weight=weights_dup\n",
    "        )\n",
    "        results_n_dup.append(results_dup)\n",
    "        # predict based on X_test\n",
    "        estimator_dup  = results_dup['estimator']\n",
    "        y_preds_dup = np.array([model.predict(X_test) for model in estimator_dup])\n",
    "        y_preds_n_dup.append(y_preds_dup)\n",
    "#         print(y_preds_dup.shape)\n",
    "\n",
    "        # evaluate using X_test\n",
    "        scores_dup = [metrics.mean_squared_error(y_test, y_pred) for y_pred  in y_preds_dup]\n",
    "        mean_mse_dup = np.mean(scores_dup)\n",
    "        var_mse_dup  = np.var(scores_dup)\n",
    "\n",
    "        # get all predictions of the <index>th point in \n",
    "        point_data[f\"dup_point_y_hat_{model_name}_{n}\"] = pd.Series(y_preds_dup[:, index])\n",
    "        print(f\"Mean of bootstrapped MSE for {n} duplicates: {mean_mse_dup}\")\n",
    "        print(f\"bootstrapped variance of MSE for {n} duplicates: {var_mse_dup}\")\n",
    "        print(f\"done with {n} duplicates\")\n"
   ]
  },
  {
   "cell_type": "code",
   "execution_count": 25,
   "id": "25",
   "metadata": {},
   "outputs": [],
   "source": [
    "# print(point_data.describe())\n",
    "\n",
    "\n",
    "\n"
   ]
  },
  {
   "cell_type": "code",
   "execution_count": 26,
   "id": "26",
   "metadata": {},
   "outputs": [],
   "source": [
    "#TODO extract point estimates outside the loop"
   ]
  },
  {
   "cell_type": "code",
   "execution_count": 27,
   "id": "27",
   "metadata": {},
   "outputs": [
    {
     "data": {
      "text/plain": [
       "<matplotlib.legend.Legend at 0x198f75550>"
      ]
     },
     "execution_count": 27,
     "metadata": {},
     "output_type": "execute_result"
    },
    {
     "data": {
      "image/png": "[encoded data removed]",
      "text/plain": [
       "<Figure size 432x288 with 2 Axes>"
      ]
     },
     "metadata": {
      "needs_background": "light"
     },
     "output_type": "display_data"
    },
    {
     "data": {
      "image/png": "[encoded data removed]",
      "text/plain": [
       "<Figure size 432x288 with 1 Axes>"
      ]
     },
     "metadata": {
      "needs_background": "light"
     },
     "output_type": "display_data"
    }
   ],
   "source": [
    "stdevs = point_data.std()\n",
    "means = point_data.mean()\n",
    "# print(stdevs)\n",
    "fig, ax = plt.subplots(1,2)\n",
    "fig2, ax2 = plt.subplots(1,1)\n",
    "\n",
    "true_point_value = means[\"point_y\"]\n",
    "\n",
    "for model_name in model_types.keys():#[\"LinearRegression()\"]:\n",
    "#     print(f\"dup_point_y_hat_{model_name}_1\")\n",
    "    stdev_1 = stdevs[f\"dup_point_y_hat_{model_name}_1\"] # stdev of model trained with no duplicates\n",
    "    stdevs_dups = stdevs.filter(regex=f\"dup.*{model_name}.*\") # stdevs of models trained with duplicates\n",
    "\n",
    "    # normalise by stdev at n=1 \n",
    "    normalised_stdevs_mt = stdevs_dups / stdev_1\n",
    "    \n",
    "#     print(stdevs_dups)\n",
    "    ax[0].plot(n_duplicates, normalised_stdevs_mt, label=model_name)\n",
    "    \n",
    "    means_dups = means.filter(regex=f\"dup.*{model_name}.*\")\n",
    "    normalised_means_dups = means_dups - true_point_value\n",
    "    ax[1].plot(n_duplicates, normalised_means_dups, label=model_name)\n",
    "    \n",
    "    ax2.errorbar(n_duplicates, means_dups, yerr=stdevs_dups, fmt='.', capsize=2, label=model_name)\n",
    "        \n",
    "# ax[0].legend()\n",
    "ax[0].set_xlabel(\"n duplicates\")\n",
    "ax[0].set_ylabel(\"normalised stdev\")\n",
    "ax[0].set_title(\"$\\\\frac{{\\sigma_{{bs,n}}^i}}{{\\sigma_{{bs,1}}^i}}$ for representative point $i$\")\n",
    "ax[1].legend()\n",
    "ax[1].set_xlabel(\"n duplicates\")\n",
    "ax[1].set_ylabel(\"shifted mean estimate\")\n",
    "ax[1].set_title(\"$\\\\mu_{{bs}}^i - y^i$\")\n",
    "\n",
    "\n",
    "# plot reference value\n",
    "ax2.plot(n_duplicates, true_point_value*np.ones(len(n_duplicates)), label=\"true value\")\n",
    "# ax2.set_yscale(\"log\")\n",
    "ax2.set_title(\"Estimates with stdevs\")\n",
    "ax2.set_xlabel(\"n duplicates\")\n",
    "ax2.legend()\n",
    "# ax[1].set_yscale(\"log\")"
   ]
  },
  {
   "cell_type": "code",
   "execution_count": 28,
   "id": "28",
   "metadata": {},
   "outputs": [],
   "source": [
    "# TODO: something is wrong; point_y_hat_4 should be statistically similar to point_y_hat_dup... what's with the stdev??"
   ]
  },
  {
   "cell_type": "markdown",
   "id": "29",
   "metadata": {},
   "source": [
    "# Visualise data"
   ]
  },
  {
   "cell_type": "code",
   "execution_count": null,
   "id": "30",
   "metadata": {},
   "outputs": [],
   "source": []
  },
  {
   "cell_type": "code",
   "execution_count": 29,
   "id": "31",
   "metadata": {
    "scrolled": true
   },
   "outputs": [],
   "source": [
    "chart = alt.Chart(data).mark_point().encode(\n",
    "    x='X_0',\n",
    "    y='y',\n",
    "    color='X_1:Q'\n",
    ").properties(\n",
    "    width=200,\n",
    "    height=200\n",
    ")\n",
    "\n",
    "# un-comment to view\n",
    "# chart"
   ]
  },
  {
   "cell_type": "code",
   "execution_count": 30,
   "id": "32",
   "metadata": {},
   "outputs": [],
   "source": [
    "correlations = data.corr().stack().reset_index().rename(columns={0: 'correlation', 'level_0': 'variable 0', 'level_1': 'variable 1'})\n",
    "# print(correlations.head())\n",
    "corr_mat = alt.Chart(correlations).mark_rect().encode(\n",
    "    x='variable 0:N',\n",
    "    y='variable 1:N',\n",
    "    color='correlation:Q'\n",
    ").properties(\n",
    "    width=200,\n",
    "    height=200\n",
    ")\n",
    "\n",
    "combined_fig = alt.concat(\n",
    "chart,\n",
    "corr_mat\n",
    ").resolve_scale(\n",
    "    color='independent'\n",
    ")\n",
    "\n",
    "# un-comment to view\n",
    "# combined_fig"
   ]
  },
  {
   "cell_type": "code",
   "execution_count": null,
   "id": "33",
   "metadata": {},
   "outputs": [],
   "source": []
  },
  {
   "cell_type": "code",
   "execution_count": null,
   "id": "34",
   "metadata": {},
   "outputs": [],
   "source": []
  },
  {
   "cell_type": "code",
   "execution_count": null,
   "id": "35",
   "metadata": {},
   "outputs": [],
   "source": []
  },
  {
   "cell_type": "code",
   "execution_count": null,
   "id": "36",
   "metadata": {},
   "outputs": [],
   "source": []
  }
 ],
 "metadata": {
  "interpreter": {
   "hash": "a711db43371405fe45cf56be53e4012ea2f9fd6a586d041512fe6abc12a97dbf"
  },
  "kernelspec": {
   "display_name": "Python 3 (ipykernel)",
   "language": "python",
   "name": "python3"
  },
  "language_info": {
   "codemirror_mode": {
    "name": "ipython",
    "version": 3
   },
   "file_extension": ".py",
   "mimetype": "text/x-python",
   "name": "python",
   "nbconvert_exporter": "python",
   "pygments_lexer": "ipython3",
   "version": "3.9.7"
  }
 },
 "nbformat": 4,
 "nbformat_minor": 2
}
