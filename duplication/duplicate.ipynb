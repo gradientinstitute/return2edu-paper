{
 "cells": [
  {
   "cell_type": "code",
   "execution_count": 1,
   "source": [
    "import numpy as np\n",
    "import pandas as pd\n",
    "import altair as alt\n",
    "from sklearn.linear_model import LinearRegression\n",
    "from sklearn.ensemble import GradientBoostingRegressor\n",
    "from sklearn.datasets import make_regression, load_boston\n",
    "from sklearn.model_selection import train_test_split, cross_validate, GroupKFold\n",
    "from sklearn import metrics\n",
    "from sklearn.metrics import make_scorer\n",
    "from sklearn.model_selection import check_cv\n",
    "import duplicate as dp\n",
    "from functools import partial\n",
    "\n",
    "# https://altair-viz.github.io/user_guide/display_frontends.html#displaying-in-the-jupyter-notebook\n",
    "alt.renderers.enable('mimetype')"
   ],
   "outputs": [
    {
     "output_type": "execute_result",
     "data": {
      "text/plain": [
       "RendererRegistry.enable('mimetype')"
      ]
     },
     "metadata": {},
     "execution_count": 1
    }
   ],
   "metadata": {}
  },
  {
   "cell_type": "code",
   "execution_count": 2,
   "source": [
    "X, y = load_boston(return_X_y=True)#make_regression(n_samples=1000,n_features=4, noise=0, random_state=0)\n",
    "\n",
    "feature_names = [f'X_{i}' for i in range(X.shape[1])]\n",
    "data = pd.DataFrame(data=X, columns=feature_names)\n",
    "data['y'] = y\n",
    "data.head()"
   ],
   "outputs": [
    {
     "output_type": "execute_result",
     "data": {
      "text/html": [
       "<div>\n",
       "<style scoped>\n",
       "    .dataframe tbody tr th:only-of-type {\n",
       "        vertical-align: middle;\n",
       "    }\n",
       "\n",
       "    .dataframe tbody tr th {\n",
       "        vertical-align: top;\n",
       "    }\n",
       "\n",
       "    .dataframe thead th {\n",
       "        text-align: right;\n",
       "    }\n",
       "</style>\n",
       "<table border=\"1\" class=\"dataframe\">\n",
       "  <thead>\n",
       "    <tr style=\"text-align: right;\">\n",
       "      <th></th>\n",
       "      <th>X_0</th>\n",
       "      <th>X_1</th>\n",
       "      <th>X_2</th>\n",
       "      <th>X_3</th>\n",
       "      <th>X_4</th>\n",
       "      <th>X_5</th>\n",
       "      <th>X_6</th>\n",
       "      <th>X_7</th>\n",
       "      <th>X_8</th>\n",
       "      <th>X_9</th>\n",
       "      <th>X_10</th>\n",
       "      <th>X_11</th>\n",
       "      <th>X_12</th>\n",
       "      <th>y</th>\n",
       "    </tr>\n",
       "  </thead>\n",
       "  <tbody>\n",
       "    <tr>\n",
       "      <th>0</th>\n",
       "      <td>0.00632</td>\n",
       "      <td>18.0</td>\n",
       "      <td>2.31</td>\n",
       "      <td>0.0</td>\n",
       "      <td>0.538</td>\n",
       "      <td>6.575</td>\n",
       "      <td>65.2</td>\n",
       "      <td>4.0900</td>\n",
       "      <td>1.0</td>\n",
       "      <td>296.0</td>\n",
       "      <td>15.3</td>\n",
       "      <td>396.90</td>\n",
       "      <td>4.98</td>\n",
       "      <td>24.0</td>\n",
       "    </tr>\n",
       "    <tr>\n",
       "      <th>1</th>\n",
       "      <td>0.02731</td>\n",
       "      <td>0.0</td>\n",
       "      <td>7.07</td>\n",
       "      <td>0.0</td>\n",
       "      <td>0.469</td>\n",
       "      <td>6.421</td>\n",
       "      <td>78.9</td>\n",
       "      <td>4.9671</td>\n",
       "      <td>2.0</td>\n",
       "      <td>242.0</td>\n",
       "      <td>17.8</td>\n",
       "      <td>396.90</td>\n",
       "      <td>9.14</td>\n",
       "      <td>21.6</td>\n",
       "    </tr>\n",
       "    <tr>\n",
       "      <th>2</th>\n",
       "      <td>0.02729</td>\n",
       "      <td>0.0</td>\n",
       "      <td>7.07</td>\n",
       "      <td>0.0</td>\n",
       "      <td>0.469</td>\n",
       "      <td>7.185</td>\n",
       "      <td>61.1</td>\n",
       "      <td>4.9671</td>\n",
       "      <td>2.0</td>\n",
       "      <td>242.0</td>\n",
       "      <td>17.8</td>\n",
       "      <td>392.83</td>\n",
       "      <td>4.03</td>\n",
       "      <td>34.7</td>\n",
       "    </tr>\n",
       "    <tr>\n",
       "      <th>3</th>\n",
       "      <td>0.03237</td>\n",
       "      <td>0.0</td>\n",
       "      <td>2.18</td>\n",
       "      <td>0.0</td>\n",
       "      <td>0.458</td>\n",
       "      <td>6.998</td>\n",
       "      <td>45.8</td>\n",
       "      <td>6.0622</td>\n",
       "      <td>3.0</td>\n",
       "      <td>222.0</td>\n",
       "      <td>18.7</td>\n",
       "      <td>394.63</td>\n",
       "      <td>2.94</td>\n",
       "      <td>33.4</td>\n",
       "    </tr>\n",
       "    <tr>\n",
       "      <th>4</th>\n",
       "      <td>0.06905</td>\n",
       "      <td>0.0</td>\n",
       "      <td>2.18</td>\n",
       "      <td>0.0</td>\n",
       "      <td>0.458</td>\n",
       "      <td>7.147</td>\n",
       "      <td>54.2</td>\n",
       "      <td>6.0622</td>\n",
       "      <td>3.0</td>\n",
       "      <td>222.0</td>\n",
       "      <td>18.7</td>\n",
       "      <td>396.90</td>\n",
       "      <td>5.33</td>\n",
       "      <td>36.2</td>\n",
       "    </tr>\n",
       "  </tbody>\n",
       "</table>\n",
       "</div>"
      ],
      "text/plain": [
       "       X_0   X_1   X_2  X_3    X_4    X_5   X_6     X_7  X_8    X_9  X_10  \\\n",
       "0  0.00632  18.0  2.31  0.0  0.538  6.575  65.2  4.0900  1.0  296.0  15.3   \n",
       "1  0.02731   0.0  7.07  0.0  0.469  6.421  78.9  4.9671  2.0  242.0  17.8   \n",
       "2  0.02729   0.0  7.07  0.0  0.469  7.185  61.1  4.9671  2.0  242.0  17.8   \n",
       "3  0.03237   0.0  2.18  0.0  0.458  6.998  45.8  6.0622  3.0  222.0  18.7   \n",
       "4  0.06905   0.0  2.18  0.0  0.458  7.147  54.2  6.0622  3.0  222.0  18.7   \n",
       "\n",
       "     X_11  X_12     y  \n",
       "0  396.90  4.98  24.0  \n",
       "1  396.90  9.14  21.6  \n",
       "2  392.83  4.03  34.7  \n",
       "3  394.63  2.94  33.4  \n",
       "4  396.90  5.33  36.2  "
      ]
     },
     "metadata": {},
     "execution_count": 2
    }
   ],
   "metadata": {}
  },
  {
   "cell_type": "code",
   "execution_count": 3,
   "source": [
    "n_duplicates = 4\n",
    "n_splits = 5\n",
    "base_groups = np.arange(y.size)\n",
    "X_dup, y_dup, weights_dup, groups_dup = dp.simple_duplicate(X, y, n_duplicates)\n",
    "\n",
    "scoring = {\n",
    "    \"MSE\": make_scorer(metrics.mean_squared_error),\n",
    "    \"R2\": make_scorer(metrics.r2_score),\n",
    "}\n"
   ],
   "outputs": [],
   "metadata": {}
  },
  {
   "cell_type": "code",
   "execution_count": 4,
   "source": [
    "predictions = alt.Chart(data).mark_point().encode(\n",
    "    x='y_test',\n",
    "    y='y',\n",
    "    color='X_1:Q'\n",
    ")"
   ],
   "outputs": [],
   "metadata": {}
  },
  {
   "cell_type": "code",
   "execution_count": 5,
   "source": [
    "\n",
    "boost = GradientBoostingRegressor(random_state=0)\n",
    "boost_dup = GradientBoostingRegressor(random_state=0)\n",
    "\n",
    "output = cross_validate(\n",
    "    boost, \n",
    "    X, \n",
    "    y, \n",
    "    groups=base_groups,\n",
    "    scoring=scoring,\n",
    "    cv=dp.group_k_fold_unique_test_groups(X, y, base_groups, n_splits)\n",
    "    ) \n",
    "\n",
    "output_dup = cross_validate(\n",
    "    boost_dup, \n",
    "    X_dup, \n",
    "    y_dup, \n",
    "    groups=groups_dup,\n",
    "    fit_params={\"sample_weight\": weights_dup},\n",
    "    scoring=scoring,\n",
    "    cv=dp.group_k_fold_unique_test_groups(X_dup, y_dup, groups_dup, n_splits)\n",
    "    )\n",
    "    \n",
    "def mean_var_cv_out(cv_out):\n",
    "    means_vars = {}\n",
    "    for k, v in cv_out.items():\n",
    "        means_vars[k + \"_mean\"] = np.mean(v)\n",
    "        means_vars[k + \"_var\"] = np.var(v)\n",
    "    return means_vars\n",
    "\n",
    "mean_var_cv_out(output), mean_var_cv_out(output_dup)"
   ],
   "outputs": [
    {
     "output_type": "stream",
     "name": "stdout",
     "text": [
      "404 102\n",
      "405 101\n",
      "405 101\n",
      "405 101\n",
      "405 101\n",
      "1616 102\n",
      "1620 101\n",
      "1620 101\n",
      "1620 101\n",
      "1620 101\n"
     ]
    },
    {
     "output_type": "execute_result",
     "data": {
      "text/plain": [
       "({'fit_time_mean': 0.10366778373718262,\n",
       "  'fit_time_var': 0.00023631606773960812,\n",
       "  'score_time_mean': 0.0009811878204345702,\n",
       "  'score_time_var': 5.193172910367139e-08,\n",
       "  'test_MSE_mean': 8.695767071959676,\n",
       "  'test_MSE_var': 0.725570080644878,\n",
       "  'test_R2_mean': 0.8960373538263603,\n",
       "  'test_R2_var': 0.00016759188747205692},\n",
       " {'fit_time_mean': 0.2801429271697998,\n",
       "  'fit_time_var': 0.004177174901737998,\n",
       "  'score_time_mean': 0.0015359878540039062,\n",
       "  'score_time_var': 4.216538536638837e-07,\n",
       "  'test_MSE_mean': 2.371482543289606,\n",
       "  'test_MSE_var': 0.1169386026330567,\n",
       "  'test_R2_mean': 0.9719874815876552,\n",
       "  'test_R2_var': 4.069538408459185e-05})"
      ]
     },
     "metadata": {},
     "execution_count": 5
    }
   ],
   "metadata": {}
  },
  {
   "cell_type": "code",
   "execution_count": null,
   "source": [],
   "outputs": [],
   "metadata": {}
  },
  {
   "cell_type": "code",
   "execution_count": null,
   "metadata": {
    "scrolled": true
   },
   "outputs": [],
   "source": [
    "chart = alt.Chart(data).mark_point().encode(\n",
    "    x='X_0',\n",
    "    y='y',\n",
    "    color='X_1:Q'\n",
    ").properties(\n",
    "    width=200,\n",
    "    height=200\n",
    ")\n",
    "\n",
    "# un-comment to view\n",
    "# chart"
   ]
  },
  {
   "cell_type": "code",
   "execution_count": null,
   "metadata": {},
   "outputs": [],
   "source": [
    "correlations = data.corr().stack().reset_index().rename(columns={0: 'correlation', 'level_0': 'variable 0', 'level_1': 'variable 1'})\n",
    "# print(correlations.head())\n",
    "corr_mat = alt.Chart(correlations).mark_rect().encode(\n",
    "    x='variable 0:N',\n",
    "    y='variable 1:N',\n",
    "    color='correlation:Q'\n",
    ").properties(\n",
    "    width=200,\n",
    "    height=200\n",
    ")\n",
    "\n",
    "combined_fig = alt.concat(\n",
    "chart,\n",
    "corr_mat\n",
    ").resolve_scale(\n",
    "    color='independent'\n",
    ")\n",
    "\n",
    "# un-comment to view\n",
    "# combined_fig"
   ]
  },
  {
   "cell_type": "code",
   "execution_count": null,
   "metadata": {},
   "outputs": [],
   "source": []
  }
 ],
 "metadata": {
  "interpreter": {
   "hash": "dda320fae4f182a96bf1d81c2885700f1aa461d83e7ddba765ac5806591340a3"
  },
  "kernelspec": {
   "display_name": "Python 3.9.7 64-bit ('further-education': conda)",
   "name": "python3"
  },
  "language_info": {
   "codemirror_mode": {
    "name": "ipython",
    "version": 3
   },
   "file_extension": ".py",
   "mimetype": "text/x-python",
   "name": "python",
   "nbconvert_exporter": "python",
   "pygments_lexer": "ipython3",
   "version": "3.9.7"
  }
 },
 "nbformat": 4,
 "nbformat_minor": 2
}
