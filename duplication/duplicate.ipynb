{
 "cells": [
  {
   "cell_type": "code",
   "execution_count": 1,
   "id": "0",
   "metadata": {},
   "outputs": [
    {
     "data": {
      "text/plain": [
       "RendererRegistry.enable('default')"
      ]
     },
     "execution_count": 1,
     "metadata": {},
     "output_type": "execute_result"
    }
   ],
   "source": [
    "import numpy as np\n",
    "import pandas as pd\n",
    "import altair as alt\n",
    "from sklearn.linear_model import LinearRegression\n",
    "from sklearn.ensemble import GradientBoostingRegressor\n",
    "from sklearn.datasets import make_regression, load_boston\n",
    "from sklearn.model_selection import train_test_split, cross_validate, GroupKFold\n",
    "from sklearn.pipeline import Pipeline\n",
    "from sklearn.model_selection import GridSearchCV\n",
    "from sklearn import metrics\n",
    "from sklearn.metrics import make_scorer\n",
    "from sklearn.model_selection import check_cv\n",
    "import duplicate as dp\n",
    "from functools import partial\n",
    "import matplotlib.pyplot as plt\n",
    "\n",
    "\n",
    "# https://altair-viz.github.io/user_guide/display_frontends.html#displaying-in-the-jupyter-notebook\n",
    "# alt.renderers.enable('mimetype') # works off-line\n",
    "# alt.renderers.enable('notebook') \n",
    "alt.renderers.enable('default') # recommended"
   ]
  },
  {
   "cell_type": "code",
   "execution_count": 2,
   "id": "1",
   "metadata": {},
   "outputs": [
    {
     "name": "stdout",
     "output_type": "stream",
     "text": [
      "/Users/jack/Documents/GitHub/re-education\n",
      "/Users/jack/Documents/GitHub/re-education/duplication\n"
     ]
    }
   ],
   "source": [
    "# get bootstrap.py from parent directory\n",
    "%cd ..\n",
    "import bootstrap as bs\n",
    "import reed as reed\n",
    "%cd -"
   ]
  },
  {
   "cell_type": "code",
   "execution_count": 3,
   "id": "2",
   "metadata": {},
   "outputs": [
    {
     "name": "stderr",
     "output_type": "stream",
     "text": [
      "/Users/jack/opt/anaconda3/envs/reed/lib/python3.9/site-packages/sklearn/utils/deprecation.py:87: FutureWarning: Function load_boston is deprecated; `load_boston` is deprecated in 1.0 and will be removed in 1.2.\n",
      "\n",
      "    The Boston housing prices dataset has an ethical problem. You can refer to\n",
      "    the documentation of this function for further details.\n",
      "\n",
      "    The scikit-learn maintainers therefore strongly discourage the use of this\n",
      "    dataset unless the purpose of the code is to study and educate about\n",
      "    ethical issues in data science and machine learning.\n",
      "\n",
      "    In this case special case, you can fetch the dataset from the original\n",
      "    source::\n",
      "\n",
      "        import pandas as pd\n",
      "        import numpy as np\n",
      "\n",
      "\n",
      "        data_url = \"http://lib.stat.cmu.edu/datasets/boston\"\n",
      "        raw_df = pd.read_csv(data_url, sep=\"\\s+\", skiprows=22, header=None)\n",
      "        data = np.hstack([raw_df.values[::2, :], raw_df.values[1::2, :2]])\n",
      "        target = raw_df.values[1::2, 2]\n",
      "\n",
      "    Alternative datasets include the California housing dataset (i.e.\n",
      "    func:`~sklearn.datasets.fetch_california_housing`) and the Ames housing\n",
      "    dataset. You can load the datasets as follows:\n",
      "\n",
      "        from sklearn.datasets import fetch_california_housing\n",
      "        housing = fetch_california_housing()\n",
      "\n",
      "    for the California housing dataset and:\n",
      "\n",
      "        from sklearn.datasets import fetch_openml\n",
      "        housing = fetch_openml(name=\"house_prices\", as_frame=True)\n",
      "\n",
      "    for the Ames housing dataset.\n",
      "    \n",
      "  warnings.warn(msg, category=FutureWarning)\n"
     ]
    }
   ],
   "source": [
    "X, y = load_boston(return_X_y=True)\n",
    "# X, y = make_regression(n_samples=1000,n_features=10, noise=.1, random_state=0)\n",
    "\n",
    "feature_names = [f'X_{i}' for i in range(X.shape[1])]\n",
    "data = pd.DataFrame(data=X, columns=feature_names)\n",
    "data['y'] = y\n",
    "# data.info()"
   ]
  },
  {
   "cell_type": "code",
   "execution_count": 4,
   "id": "3",
   "metadata": {},
   "outputs": [],
   "source": [
    "n_duplicates = 4\n",
    "n_splits = 5\n",
    "base_groups = np.arange(y.size)\n",
    "X_train, X_test, y_train, y_test = train_test_split(X, y)\n",
    "X_dup, y_dup, weights_dup, groups_dup = dp.simple_duplicate(X_train, y_train, n_duplicates)\n",
    "\n",
    "scoring = {\n",
    "    \"MSE\": make_scorer(metrics.mean_squared_error),\n",
    "    \"R2\": make_scorer(metrics.r2_score),\n",
    "}\n"
   ]
  },
  {
   "cell_type": "code",
   "execution_count": 5,
   "id": "4",
   "metadata": {},
   "outputs": [],
   "source": [
    "# use custom CV with groups\n",
    "# model = LinearRegression()\n",
    "model = reed.StatsmodelsWLS()\n",
    "# model = GridSearchCV(\n",
    "#     # LinearRegression(),\n",
    "#     GradientBoostingRegressor(random_state=0,),\n",
    "#     # reed.StatsmodelsOLS(),\n",
    "#     param_grid={},\n",
    "#     cv=GroupKFold(n_splits=n_splits),\n",
    "    \n",
    "    \n",
    "# )\n",
    "# model_dup = LinearRegression()\n",
    "model_dup = reed.StatsmodelsWLS()\n",
    "# model_dup = GridSearchCV(\n",
    "#     # LinearRegression(),\n",
    "#     GradientBoostingRegressor(random_state=0),\n",
    "#     # reed.StatsmodelsOLS(),\n",
    "#     param_grid={}, \n",
    "#     cv=GroupKFold(n_splits=n_splits)\n",
    "# )\n",
    "\n",
    "\n",
    "\n",
    "def mean_var_cv_out(cv_out):\n",
    "    means_vars = {}\n",
    "    for k, v in cv_out.items():\n",
    "        means_vars[k + \"_mean\"] = np.mean(v)\n",
    "        means_vars[k + \"_var\"] = np.var(v)\n",
    "    return means_vars\n",
    "\n",
    "\n",
    "# mean_var_cv_out(output), mean_var_cv_out(output_dup)"
   ]
  },
  {
   "cell_type": "markdown",
   "id": "5",
   "metadata": {},
   "source": [
    "# Train models, using bootstrapping"
   ]
  },
  {
   "cell_type": "code",
   "execution_count": 6,
   "id": "6",
   "metadata": {},
   "outputs": [
    {
     "name": "stdout",
     "output_type": "stream",
     "text": [
      "Done un-duplicated\n"
     ]
    }
   ],
   "source": [
    "# use bootstrapping\n",
    "def param_extractor(estimator):\n",
    "    return estimator.get_params()\n",
    "\n",
    "sample_weight= weights_dup\n",
    "\n",
    "\n",
    "results = bs.bootstrap(\n",
    "    estimator=model,\n",
    "    X=X_train,\n",
    "    y=y_train,\n",
    "    error_score=\"raise\",\n",
    "    # groups=base_groups,\n",
    "    parameter_extractor=param_extractor,\n",
    "    return_estimator=True,\n",
    "    groups=False,\n",
    "    n_jobs=-1,\n",
    "    sample_weight=sample_weight\n",
    ")\n",
    "print(\"Done un-duplicated\")\n",
    "\n",
    "results_dup = bs.bootstrap(\n",
    "    estimator=model_dup,\n",
    "    X=X_dup,\n",
    "    y=y_dup,\n",
    "    error_score=\"raise\",\n",
    "    # groups=groups_dup,\n",
    "    parameter_extractor=param_extractor,\n",
    "    return_estimator=True,\n",
    "    n_jobs=-1,\n",
    "    groups=False,\n",
    "    sample_weight=sample_weight\n",
    ")\n",
    "\n",
    "\n",
    "# print(results['parameters'])\n",
    "\n",
    "# print(scores)\n",
    "# for score_dict in scores:\n",
    "#     estimator = score_dict[\"estimator\"]"
   ]
  },
  {
   "cell_type": "markdown",
   "id": "7",
   "metadata": {},
   "source": [
    "## Evaluate, compare models\n",
    "Evaluate models on the (unduplicated) test data we set aside."
   ]
  },
  {
   "cell_type": "code",
   "execution_count": 7,
   "id": "8",
   "metadata": {},
   "outputs": [],
   "source": [
    "models = results['estimator']\n",
    "models_dup = results_dup['estimator']\n",
    "\n",
    "y_preds, y_preds_dup = ([model.predict(X_test) for model in ms] for ms in (models, models_dup))\n",
    "y_preds, y_preds_dup = np.array(y_preds), np.array(y_preds_dup)\n",
    "\n",
    "\n"
   ]
  },
  {
   "cell_type": "code",
   "execution_count": 8,
   "id": "9",
   "metadata": {},
   "outputs": [
    {
     "name": "stdout",
     "output_type": "stream",
     "text": [
      "mean mse    : 27.592610819724936; mse var    : 4.816454897759112\n",
      "mean dup mse: 26.56537051403817; mse var dup: 1.3961222332897139\n"
     ]
    }
   ],
   "source": [
    "\n",
    "scores, scores_dup = (\n",
    "    [metrics.mean_squared_error(y_pred, y_test) for y_pred in preds] \n",
    "    for preds in (y_preds, y_preds_dup)\n",
    "    )\n",
    "\n",
    "print(f\"mean mse    : {np.mean(scores)}; mse var    : {np.var(scores)}\")\n",
    "print(f\"mean dup mse: {np.mean(scores_dup)}; mse var dup: {np.var(scores_dup)}\")"
   ]
  },
  {
   "cell_type": "code",
   "execution_count": 9,
   "id": "10",
   "metadata": {},
   "outputs": [],
   "source": [
    "# choose a representative sample using DBSCAN\n",
    "from sklearn.cluster import DBSCAN\n",
    "from sklearn.preprocessing import RobustScaler\n",
    "from sklearn.decomposition import PCA\n",
    "def find_representative_point_indices(X,y=None, max_num_points=-1, plot=False):\n",
    "    \"\"\"\n",
    "    Get the indices of <max_num_points> representative points (found using DBSCAN algorithm).\n",
    "    Arbitrarily selects min(max_num_points, num_core_points) core points.\n",
    "    If max_num_points < 0, select all available core points\n",
    "    \"\"\"\n",
    "    # combine [X, y] if required\n",
    "    if y is None:\n",
    "        if len(y.shape) == 1:\n",
    "            y = y.reshape(-1,1)\n",
    "        data =  np.hstack([X, y.reshape(-1,1)]) \n",
    "    else:\n",
    "        data = X\n",
    "    data = RobustScaler().fit_transform(data)\n",
    "    data_2d = PCA(n_components=2, random_state=0).fit_transform(data)\n",
    "    \n",
    "    # cluster\n",
    "    db = DBSCAN(eps=1).fit(data)\n",
    "    core_indices = db.core_sample_indices_\n",
    "    if plot: \n",
    "        plt.scatter(data_2d[:,0], data_2d[:,1])\n",
    "        plt.scatter(data_2d[core_indices, 0], data_2d[core_indices,1], color='red', label=\"core point\")\n",
    "        plt.xlabel(\"$C_0$\")\n",
    "        plt.ylabel(\"$C_1$\")\n",
    "        plt.title(\"2 principal components\")\n",
    "        plt.legend()\n",
    "\n",
    "    n_cores = len(core_indices)\n",
    "    \n",
    "    if n_cores < max_num_points:\n",
    "        print(f\"There are only {n_cores} representative points; choosing them\")\n",
    "    elif max_num_points > 0:\n",
    "        core_indices = core_indices[:max_num_points]\n",
    "    \n",
    "    return core_indices"
   ]
  },
  {
   "cell_type": "code",
   "execution_count": 10,
   "id": "11",
   "metadata": {},
   "outputs": [
    {
     "name": "stdout",
     "output_type": "stream",
     "text": [
      "            point_y  point_y_hat  point_y_hat_dup\n",
      "count  1.000000e+02   100.000000       100.000000\n",
      "mean   2.120000e+01    23.576753        23.541952\n",
      "std    7.141223e-15     0.489337         0.232735\n",
      "min    2.120000e+01    22.213738        22.914580\n",
      "25%    2.120000e+01    23.284979        23.380985\n",
      "50%    2.120000e+01    23.569252        23.556615\n",
      "75%    2.120000e+01    23.951313        23.728454\n",
      "max    2.120000e+01    24.852626        23.958334\n"
     ]
    }
   ],
   "source": [
    "\n",
    "\n",
    "# take an arbitrary point in the test set; let's see how its performance changes:\n",
    "core_indices = find_representative_point_indices(X_test, y_test, max_num_points=-1, plot=False)#[0]\n",
    "index=core_indices[0]\n",
    "point_y_hat = y_preds[:,index]\n",
    "point_y_hat_dup = y_preds_dup[:, index]\n",
    "point_y = y_test[index] * np.ones_like(point_y_hat)\n",
    "\n",
    "point_data = pd.DataFrame(dict(\n",
    "    point_y=point_y,\n",
    "    point_y_hat=point_y_hat,\n",
    "    point_y_hat_dup=point_y_hat_dup,\n",
    "))\n",
    "\n",
    "print(point_data.describe())\n",
    "\n"
   ]
  },
  {
   "cell_type": "markdown",
   "metadata": {},
   "source": [
    "Observe (when the above models are WLS, and there are 4 duplicates used), that the point estimate's bootstrapped uncertainty goes down significantly; in particular, the true $y$ value is ~5 standard deviations away from the mean of the model trained with the duplicated data, up from ~2 stdev away from the mean of the model trained with un-duplicated data.\n",
    "\n",
    "The uncertainty is increasing de"
   ]
  },
  {
   "cell_type": "code",
   "execution_count": 11,
   "id": "12",
   "metadata": {},
   "outputs": [
    {
     "name": "stdout",
     "output_type": "stream",
     "text": [
      "param 0 mse: 103.77543710238282\n"
     ]
    }
   ],
   "source": [
    "# Bootstrap parameter uncertainty comparison in linear regressor model\n",
    "\n",
    "# get the <param_index> parameter of the 2 models\n",
    "params, params_dup = ([model.coef_ for model in ms] for ms in (models, models_dup))\n",
    "param_index = 0\n",
    "\n",
    "param_i, param_i_dup = ([model_params[param_index] for model_params in ps] for ps in (params, params_dup))\n",
    "\n",
    "print(\n",
    "    f\"param {param_index} mse: {metrics.mean_squared_error(param_i, param_i_dup)}\",\n",
    "    # f\"mae: {metrics.mean_absolute_error(param_i, param_i_dup)}\",\n",
    ")\n",
    "\n"
   ]
  },
  {
   "cell_type": "code",
   "execution_count": 12,
   "id": "13",
   "metadata": {},
   "outputs": [
    {
     "data": {
      "text/plain": [
       "Text(0.5, 1.0, 'Duplicate vs unduplicate coefficient 0')"
      ]
     },
     "execution_count": 12,
     "metadata": {},
     "output_type": "execute_result"
    },
    {
     "data": {
      "image/png": "[encoded data removed]",
      "text/plain": [
       "<Figure size 432x288 with 1 Axes>"
      ]
     },
     "metadata": {
      "needs_background": "light"
     },
     "output_type": "display_data"
    }
   ],
   "source": [
    "plt.scatter(param_i, param_i_dup)\n",
    "plt.gca().set_aspect('equal')\n",
    "plt.xlabel(f\"$\\\\beta_{{{param_index}}}$\")\n",
    "plt.ylabel(f\"$\\\\beta_{{{param_index}}}^{{dup}}$\")\n",
    "plt.title(f\"Duplicate vs unduplicate coefficient {param_index}\")\n",
    "# plt.savefig('scatter_param.png')"
   ]
  },
  {
   "cell_type": "markdown",
   "metadata": {},
   "source": [
    "Let's compare confidience intervals of a pair of WLS models"
   ]
  },
  {
   "cell_type": "code",
   "execution_count": 15,
   "metadata": {},
   "outputs": [
    {
     "data": {
      "text/plain": [
       "Text(0.5, 1.0, 'Parameter CIs: duplicate data')"
      ]
     },
     "execution_count": 15,
     "metadata": {},
     "output_type": "execute_result"
    },
    {
     "data": {
      "image/png": "[encoded data removed]",
      "text/plain": [
       "<Figure size 432x288 with 2 Axes>"
      ]
     },
     "metadata": {
      "needs_background": "light"
     },
     "output_type": "display_data"
    }
   ],
   "source": [
    "cis, cis_dup = models[0].conf_interval, models_dup[0].conf_interval\n",
    "# print(ci, ci_dup)\n",
    "bxpstats, bxpstats_dup = ([{\n",
    "    \"med\": (ci[i,0]+ci[i,1])/2,  # TODO fix\n",
    "    \"q1\": ci[i,0], # TODO fix\n",
    "    \"q3\": ci[i,1], # TODO fix\n",
    "    \"whislo\": ci[i, 0], \n",
    "    \"whishi\": ci[i, 1],\n",
    "    # \"fliers\"\n",
    "    } for i in range(len(cis))] for ci in (cis, cis_dup))\n",
    "fig, ax = plt.subplots(1,2)\n",
    "ax[0].bxp(bxpstats, showfliers=False)\n",
    "ax[0].set_title(\"Parameter CIs\")\n",
    "ax[1].bxp(bxpstats_dup,showfliers=False)\n",
    "ax[1].set_title(\"Parameter CIs: duplicate data\")\n",
    "\n"
   ]
  },
  {
   "cell_type": "markdown",
   "id": "14",
   "metadata": {},
   "source": [
    "- we see slightly more accurate estimates with substantially less variance in the errors when using the duplicated data\n",
    "- TODO (after introducing econml model example so as to not prematurely harden the code?): wrap this up into a function that we can pass a model into."
   ]
  },
  {
   "cell_type": "markdown",
   "id": "15",
   "metadata": {},
   "source": [
    "# Visualise data"
   ]
  },
  {
   "cell_type": "code",
   "execution_count": null,
   "id": "16",
   "metadata": {},
   "outputs": [],
   "source": []
  },
  {
   "cell_type": "code",
   "execution_count": 13,
   "id": "17",
   "metadata": {
    "scrolled": true
   },
   "outputs": [],
   "source": [
    "chart = alt.Chart(data).mark_point().encode(\n",
    "    x='X_0',\n",
    "    y='y',\n",
    "    color='X_1:Q'\n",
    ").properties(\n",
    "    width=200,\n",
    "    height=200\n",
    ")\n",
    "\n",
    "# un-comment to view\n",
    "# chart"
   ]
  },
  {
   "cell_type": "code",
   "execution_count": 14,
   "id": "18",
   "metadata": {},
   "outputs": [],
   "source": [
    "correlations = data.corr().stack().reset_index().rename(columns={0: 'correlation', 'level_0': 'variable 0', 'level_1': 'variable 1'})\n",
    "# print(correlations.head())\n",
    "corr_mat = alt.Chart(correlations).mark_rect().encode(\n",
    "    x='variable 0:N',\n",
    "    y='variable 1:N',\n",
    "    color='correlation:Q'\n",
    ").properties(\n",
    "    width=200,\n",
    "    height=200\n",
    ")\n",
    "\n",
    "combined_fig = alt.concat(\n",
    "chart,\n",
    "corr_mat\n",
    ").resolve_scale(\n",
    "    color='independent'\n",
    ")\n",
    "\n",
    "# un-comment to view\n",
    "# combined_fig"
   ]
  },
  {
   "cell_type": "code",
   "execution_count": null,
   "id": "19",
   "metadata": {},
   "outputs": [],
   "source": []
  },
  {
   "cell_type": "code",
   "execution_count": null,
   "metadata": {},
   "outputs": [],
   "source": []
  },
  {
   "cell_type": "code",
   "execution_count": null,
   "metadata": {},
   "outputs": [],
   "source": []
  },
  {
   "cell_type": "code",
   "execution_count": null,
   "metadata": {},
   "outputs": [],
   "source": []
  }
 ],
 "metadata": {
  "interpreter": {
   "hash": "a711db43371405fe45cf56be53e4012ea2f9fd6a586d041512fe6abc12a97dbf"
  },
  "kernelspec": {
   "display_name": "Python 3.9.7 64-bit ('reed': conda)",
   "name": "python3"
  },
  "language_info": {
   "codemirror_mode": {
    "name": "ipython",
    "version": 3
   },
   "file_extension": ".py",
   "mimetype": "text/x-python",
   "name": "python",
   "nbconvert_exporter": "python",
   "pygments_lexer": "ipython3",
   "version": "3.9.7"
  }
 },
 "nbformat": 4,
 "nbformat_minor": 2
}
